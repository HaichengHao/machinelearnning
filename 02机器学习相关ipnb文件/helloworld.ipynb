{
 "cells": [
  {
   "cell_type": "code",
   "execution_count": 2,
   "id": "11ddd086-6159-42c3-9071-9e8dd9a5c3ad",
   "metadata": {},
   "outputs": [
    {
     "name": "stdout",
     "output_type": "stream",
     "text": [
      "hello world\n"
     ]
    }
   ],
   "source": [
    "print('hello world')"
   ]
  },
  {
   "cell_type": "markdown",
   "id": "4391bc77-a894-4087-93aa-ed91c45ef613",
   "metadata": {},
   "source": [
    "<h3>常用快捷键</h3>\n",
    "<ul>\n",
    "    <h4>两种模式通用快捷键</h4>\n",
    "    <li>shift+enter 运行该单元格并开辟新的单元格</li>\n",
    "    <li>ctrl+enter 执行本单元格代码并留在本单元</li>\n",
    "    <h4>命令模式:按esc进入</h4>\n",
    "    <li>Y，cell切换到code模式</li>\n",
    "    <li>M，cell切换到Markdown模式</li>\n",
    "    <li>A，在当前cell的上面添加单元格</li>\n",
    "    <li>B，在当前cell的下面添加单元格</li>\n",
    "    <h4>其他</h4>\n",
    "    <li>DD:删除该单元格</li>\n",
    "    <li>Z：回退</li>\n",
    "    <li>L:为当前cell设置行号</li>\n",
    "    <li>ctrl+shift+p,对话框输入命令直接运行</li>\n",
    "    <li>ctrl+home:快速回到首个单元格</li>\n",
    "    <li>ctrl+end:快速回到尾部单元格</li>\n",
    "    <h4>编辑模式:按enter键进入</h4>\n",
    "    <li>补全代码:变量，方法后面跟上tab键</li>\n",
    "    <li>快速注释ctrl+/与pycharm和大多数ide一样</li>\n",
    "    <h4>其他</h4>\n",
    "    <li>选中多行Ctrl+鼠标点击</li>\n",
    "    <li>重做ctrl+Y</li>\n",
    "    <li>回退ctrl+Z</li>\n",
    "    <li>alt+鼠标 快速选中多行</li>\n",
    "    \n",
    "        \n",
    "</ul>"
   ]
  },
  {
   "cell_type": "markdown",
   "id": "d70a6569-a17b-42e6-b858-9d7b5825076b",
   "metadata": {},
   "source": [
    "# markdown的使用不赘述  \n",
    "- 缩进  \n",
    "    - 缩进"
   ]
  },
  {
   "cell_type": "markdown",
   "id": "9139e594-cf73-4ca8-ab6d-fa7a813bbebc",
   "metadata": {},
   "source": [
    "# 安装jupyter_contrib_nbextensions库 \n",
    "<p>pip install jupyter_contrib_nbextensions</p>\n",
    "<p>然后执行<br>\n",
    "    jupyter contrib nbextensions install --user --skip-running-check</p>"
   ]
  },
  {
   "cell_type": "code",
   "execution_count": null,
   "id": "5dc58897-5c0a-448c-9842-8d8930c40de6",
   "metadata": {},
   "outputs": [],
   "source": []
  }
 ],
 "metadata": {
  "kernelspec": {
   "display_name": "Python 3 (ipykernel)",
   "language": "python",
   "name": "python3"
  },
  "language_info": {
   "codemirror_mode": {
    "name": "ipython",
    "version": 3
   },
   "file_extension": ".py",
   "mimetype": "text/x-python",
   "name": "python",
   "nbconvert_exporter": "python",
   "pygments_lexer": "ipython3",
   "version": "3.8.10"
  }
 },
 "nbformat": 4,
 "nbformat_minor": 5
}
