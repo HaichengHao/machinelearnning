{
 "cells": [
  {
   "cell_type": "code",
   "execution_count": 1,
   "id": "c47b0628-52e3-4e28-a3e7-be2cb54f1858",
   "metadata": {},
   "outputs": [
    {
     "data": {
      "text/html": [
       "<style type=\"text/css\">\n",
       "    h1{\n",
       "        color:#FE7E00;\n",
       "        font-weight:bold;\n",
       "    }\n",
       "    h2{\n",
       "        color:#0D47A1;\n",
       "        # font-weight:bold;\n",
       "    }\n",
       "    h3{\n",
       "        color:#408080;\n",
       "    }\n",
       "    th{\n",
       "        border:1px solid black !important;\n",
       "        color:white !important;\n",
       "        background-color:#FE7E00 !important;\n",
       "    }\n",
       "    # th td{\n",
       "    #     border:1px solid black;\n",
       "    # }\n",
       "    tr{\n",
       "        border:1px solid black !important;\n",
       "        border-collapse:collapse !important;\n",
       "    }\n",
       "    td{\n",
       "        border:1px solid black !important;\n",
       "    }\n",
       "    tr td:hover{\n",
       "        background-color:blueviolet !important;\n",
       "        color:white !important;\n",
       "        transform:scale(1.05)\n",
       "    }\n",
       "    .code_{\n",
       "        background-color:#1c1f2b !important;\n",
       "        color:#9dbed3 !important; \n",
       "        white-sapce:pre-wrap;\n",
       "    }\n",
       "</style>\n"
      ],
      "text/plain": [
       "<IPython.core.display.HTML object>"
      ]
     },
     "metadata": {},
     "output_type": "display_data"
    }
   ],
   "source": [
    "%%HTML\n",
    "<style type=\"text/css\">\n",
    "    h1{\n",
    "        color:#FE7E00;\n",
    "        font-weight:bold;\n",
    "    }\n",
    "    h2{\n",
    "        color:#0D47A1;\n",
    "        # font-weight:bold;\n",
    "    }\n",
    "    h3{\n",
    "        color:#408080;\n",
    "    }\n",
    "    th{\n",
    "        border:1px solid black !important;\n",
    "        color:white !important;\n",
    "        background-color:#FE7E00 !important;\n",
    "    }\n",
    "    # th td{\n",
    "    #     border:1px solid black;\n",
    "    # }\n",
    "    tr{\n",
    "        border:1px solid black !important;\n",
    "        border-collapse:collapse !important;\n",
    "    }\n",
    "    td{\n",
    "        border:1px solid black !important;\n",
    "    }\n",
    "    tr td:hover{\n",
    "        background-color:blueviolet !important;\n",
    "        color:white !important;\n",
    "        transform:scale(1.05)\n",
    "    }\n",
    "    .code_{\n",
    "        background-color:#1c1f2b !important;\n",
    "        color:#9dbed3 !important; \n",
    "        white-sapce:pre-wrap;\n",
    "    }\n",
    "</style>"
   ]
  },
  {
   "cell_type": "markdown",
   "id": "311ddca0-4dba-4f04-a427-cf7eb3400270",
   "metadata": {},
   "source": [
    "<h2>pandas创建Series对象</h2>"
   ]
  },
  {
   "cell_type": "code",
   "execution_count": 1,
   "id": "f013c7f8-f2d1-4e32-a3ec-d18b9d773851",
   "metadata": {},
   "outputs": [],
   "source": [
    "import pandas as pd"
   ]
  },
  {
   "cell_type": "code",
   "execution_count": 3,
   "id": "b730cfac-75b1-4335-befe-1ef5ed77a7f8",
   "metadata": {},
   "outputs": [
    {
     "data": {
      "text/plain": [
       "0    4\n",
       "1    3\n",
       "2    5\n",
       "3    6\n",
       "4    1\n",
       "dtype: int64"
      ]
     },
     "execution_count": 3,
     "metadata": {},
     "output_type": "execute_result"
    }
   ],
   "source": [
    "data = pd.Series([4,3,5,6,1])\n",
    "data"
   ]
  },
  {
   "cell_type": "code",
   "execution_count": 5,
   "id": "de1e3e9a-5769-486f-a457-9d90dae158d4",
   "metadata": {},
   "outputs": [
    {
     "name": "stdout",
     "output_type": "stream",
     "text": [
      "<class 'pandas.core.series.Series'>\n"
     ]
    }
   ],
   "source": [
    "print(type(data))"
   ]
  },
  {
   "cell_type": "markdown",
   "id": "e86528e7-939c-48aa-8fd0-b961c20d9de4",
   "metadata": {},
   "source": [
    "<p>series对象包装的是numpy中的一维数组,实际上是将一个一维数组与一个索引名称捆绑在一起了</p>"
   ]
  },
  {
   "cell_type": "code",
   "execution_count": 7,
   "id": "a0d528bf-dc88-4e23-ad1c-4fe47c2b7a24",
   "metadata": {},
   "outputs": [
    {
     "name": "stdout",
     "output_type": "stream",
     "text": [
      "[4 3 5 6 1] <class 'numpy.ndarray'>\n"
     ]
    }
   ],
   "source": [
    "print(data.values,type(data.values))"
   ]
  },
  {
   "cell_type": "markdown",
   "id": "e34f536d-95b9-42e0-aed2-a2891a6d1082",
   "metadata": {},
   "source": [
    "<p>可以看到上面对于Series创建的一维数组的值其实就是一个nunmpy数组</p>"
   ]
  },
  {
   "cell_type": "code",
   "execution_count": 8,
   "id": "fa1a0480-e26f-456a-ab12-19803e2faacf",
   "metadata": {},
   "outputs": [
    {
     "name": "stdout",
     "output_type": "stream",
     "text": [
      "RangeIndex(start=0, stop=5, step=1) <class 'pandas.core.indexes.range.RangeIndex'>\n"
     ]
    }
   ],
   "source": [
    "print(data.index,type(data.index))"
   ]
  },
  {
   "cell_type": "markdown",
   "id": "53f1bf6f-b815-4e6b-ad20-d576a6b74167",
   "metadata": {},
   "source": [
    "<p>可以看出这里的index是pandas自带内核里的RangeIndex</p>"
   ]
  },
  {
   "cell_type": "markdown",
   "id": "80c6e098-3aa1-4a52-8fd0-fb9ec95367c1",
   "metadata": {},
   "source": [
    "<p>当然也可以自己指定索引</p>"
   ]
  },
  {
   "cell_type": "code",
   "execution_count": 9,
   "id": "7411a0d5-b5b8-4e30-b881-f72dd6908337",
   "metadata": {},
   "outputs": [
    {
     "data": {
      "text/plain": [
       "one      1\n",
       "two      2\n",
       "three    3\n",
       "four     4\n",
       "five     5\n",
       "dtype: int64"
      ]
     },
     "execution_count": 9,
     "metadata": {},
     "output_type": "execute_result"
    }
   ],
   "source": [
    "data = pd.Series([1,2,3,4,5],index=['one','two','three','four','five']) #注意索引数量要与value数量一致\n",
    "data"
   ]
  },
  {
   "cell_type": "code",
   "execution_count": 10,
   "id": "f29741d4-816a-4586-bf3b-a8f08c2c576f",
   "metadata": {},
   "outputs": [
    {
     "data": {
      "text/plain": [
       "a    100\n",
       "b     20\n",
       "c     30\n",
       "dtype: int64"
      ]
     },
     "execution_count": 10,
     "metadata": {},
     "output_type": "execute_result"
    }
   ],
   "source": [
    "dic=pd.Series({'a':100,'b':20,'c':30})\n",
    "dic"
   ]
  },
  {
   "cell_type": "markdown",
   "id": "75c66d98-46fc-436a-ba3d-68e3ecd60caf",
   "metadata": {},
   "source": [
    "<p>使用字典创建Series对象,又指定了index属性值,如果key不存在,则值为NaN</p>"
   ]
  },
  {
   "cell_type": "code",
   "execution_count": 12,
   "id": "9f40df69-e013-42d9-8e5f-c6091ba4f180",
   "metadata": {},
   "outputs": [
    {
     "data": {
      "text/plain": [
       "b    20.0\n",
       "j     NaN\n",
       "p     NaN\n",
       "dtype: float64"
      ]
     },
     "execution_count": 12,
     "metadata": {},
     "output_type": "execute_result"
    }
   ],
   "source": [
    "sub_series = pd.Series(dic,index=['b','j','p']) #如果存在则取交集\n",
    "sub_series"
   ]
  },
  {
   "cell_type": "code",
   "execution_count": 14,
   "id": "3ff387bd-4fcf-4a96-acde-7b2d0f136320",
   "metadata": {},
   "outputs": [
    {
     "data": {
      "text/plain": [
       "b     20.0\n",
       "a    100.0\n",
       "x      NaN\n",
       "dtype: float64"
      ]
     },
     "execution_count": 14,
     "metadata": {},
     "output_type": "execute_result"
    }
   ],
   "source": [
    "sub_series2 = pd.Series(dic,index=['b','a','x'])\n",
    "sub_series2"
   ]
  },
  {
   "cell_type": "markdown",
   "id": "b4544114-38f5-4991-9e12-c30c6967bee2",
   "metadata": {},
   "source": [
    "<p>data可以是个标量</p>"
   ]
  },
  {
   "cell_type": "code",
   "execution_count": 15,
   "id": "8e11c552-c809-4287-9784-8380563c127e",
   "metadata": {},
   "outputs": [
    {
     "data": {
      "text/plain": [
       "4    10\n",
       "3    10\n",
       "2    10\n",
       "5    10\n",
       "dtype: int64"
      ]
     },
     "execution_count": 15,
     "metadata": {},
     "output_type": "execute_result"
    }
   ],
   "source": [
    "data = pd.Series(10,index=[4,3,2,5])\n",
    "data"
   ]
  },
  {
   "cell_type": "code",
   "execution_count": null,
   "id": "fcd737cc-28ad-40fb-8fa0-640952f5daa8",
   "metadata": {},
   "outputs": [],
   "source": []
  }
 ],
 "metadata": {
  "kernelspec": {
   "display_name": "Python 3 (ipykernel)",
   "language": "python",
   "name": "python3"
  },
  "language_info": {
   "codemirror_mode": {
    "name": "ipython",
    "version": 3
   },
   "file_extension": ".py",
   "mimetype": "text/x-python",
   "name": "python",
   "nbconvert_exporter": "python",
   "pygments_lexer": "ipython3",
   "version": "3.9.7"
  }
 },
 "nbformat": 4,
 "nbformat_minor": 5
}
