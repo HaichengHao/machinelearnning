{
 "cells": [
  {
   "cell_type": "code",
   "execution_count": 1,
   "id": "d0483995-4194-4614-9d78-0cbc9bf78e9b",
   "metadata": {},
   "outputs": [
    {
     "data": {
      "text/html": [
       "<style type='text/css'>\n",
       "    *{\n",
       "        # background-color:#E3EDCD;\n",
       "        # background-color:black;\n",
       "        # color:white;\n",
       "        \n",
       "    }\n",
       "    h1{\n",
       "        color:#1976d2;\n",
       "    }\n",
       "    h2{\n",
       "        color:#f57c00;\n",
       "    }\n",
       "    h3{\n",
       "        color:#ba37ff;\n",
       "    }\n",
       "    h4{\n",
       "        color:green;\n",
       "    }\n",
       "    table{\n",
       "        border:1px solid black !important;\n",
       "        border-collapse:collapse !important;\n",
       "    }\n",
       "    th{\n",
       "        background-color:blueviolet !important;\n",
       "        text-align:center;\n",
       "        color:white;\n",
       "    }\n",
       "    th,td{\n",
       "        border:0.1px solid black !important;\n",
       "        transition:0.2s all liner;\n",
       "        \n",
       "    }\n",
       "    td:hover{\n",
       "        transform:scale(1.1);\n",
       "        background-color:orange;\n",
       "        color:blueviolet;\n",
       "    }\n",
       "    .raw{\n",
       "        white-space:pre;\n",
       "    }\n",
       "</style>\n"
      ],
      "text/plain": [
       "<IPython.core.display.HTML object>"
      ]
     },
     "metadata": {},
     "output_type": "display_data"
    }
   ],
   "source": [
    "%%HTML\n",
    "<style type='text/css'>\n",
    "    *{\n",
    "        # background-color:#E3EDCD;\n",
    "        # background-color:black;\n",
    "        # color:white;\n",
    "        \n",
    "    }\n",
    "    h1{\n",
    "        color:#1976d2;\n",
    "    }\n",
    "    h2{\n",
    "        color:#f57c00;\n",
    "    }\n",
    "    h3{\n",
    "        color:#ba37ff;\n",
    "    }\n",
    "    h4{\n",
    "        color:green;\n",
    "    }\n",
    "    table{\n",
    "        border:1px solid black !important;\n",
    "        border-collapse:collapse !important;\n",
    "    }\n",
    "    th{\n",
    "        background-color:blueviolet !important;\n",
    "        text-align:center;\n",
    "        color:white;\n",
    "    }\n",
    "    th,td{\n",
    "        border:0.1px solid black !important;\n",
    "        transition:0.2s all liner;\n",
    "        \n",
    "    }\n",
    "    td:hover{\n",
    "        transform:scale(1.1);\n",
    "        background-color:orange;\n",
    "        color:blueviolet;\n",
    "    }\n",
    "    .raw{\n",
    "        white-space:pre;\n",
    "    }\n",
    "</style>"
   ]
  },
  {
   "cell_type": "code",
   "execution_count": null,
   "id": "04f2584d-e252-42ce-8372-240e37272e17",
   "metadata": {},
   "outputs": [],
   "source": [
    "import pandas as pd\n",
    "import matplotlib.pyplot as plt"
   ]
  },
  {
   "cell_type": "markdown",
   "id": "7889597d-32b2-4a28-a32c-8a269338ea02",
   "metadata": {},
   "source": [
    "<h2>Pandas画图</h2>"
   ]
  },
  {
   "cell_type": "markdown",
   "id": "21e98f25-b311-4650-bf6f-cc421e8bf9d0",
   "metadata": {},
   "source": [
    "<h3>学习目标</h3>\n",
    "<ul>\n",
    "<li>了解DataFrame的画图函数</li>\n",
    "<li>了解Series的画图函数</li>\n",
    "</ul>"
   ]
  },
  {
   "cell_type": "markdown",
   "id": "db369d13-2fa8-45ad-9ae1-413955a059fc",
   "metadata": {},
   "source": [
    "<h4>\n",
    "    1 pandas.DataFrame.plot\n",
    "</h4>"
   ]
  },
  {
   "cell_type": "markdown",
   "id": "64477948-397f-468f-855f-f3f806cd3b2f",
   "metadata": {},
   "source": [
    "<p>DataFrame.plot(kind='line')</p>"
   ]
  },
  {
   "cell_type": "markdown",
   "id": "57076b6d-5163-4a03-b56c-43da4db55711",
   "metadata": {},
   "source": [
    "<p>kind : str，需要绘制图形的种类</p>"
   ]
  },
  {
   "cell_type": "markdown",
   "id": "c000c7e8-9540-4bb0-af91-d05f7b9c3610",
   "metadata": {},
   "source": [
    "<ul>\n",
    "<li><p><strong>‘line’ : line plot (default)</strong></p>\n",
    "</li>\n",
    "<li><p>‘bar’ : vertical bar plot</p>\n",
    "</li>\n",
    "<li>‘barh’ : horizontal bar plot<ul>\n",
    "<li>关于“barh”的解释：</li>\n",
    "<li><a href=\"http://pandas.pydata.org/pandas-docs/stable/reference/api/pandas.DataFrame.plot.barh.html\" target=\"_blank\">http://pandas.pydata.org/pandas-docs/stable/reference/api/pandas.DataFrame.plot.barh.html</a></li>\n",
    "</ul>\n",
    "</li>\n",
    "<li>‘hist’ : histogram</li>\n",
    "<li>‘pie’ : pie plot</li>\n",
    "<li>‘scatter’ : scatter plot</li>\n",
    "</ul>\n",
    "<p>更多细节：<a href=\"https://pandas.pydata.org/pandas-docs/stable/generated/pandas.DataFrame.plot.html?highlight=plot#pandas.DataFrame.plot\" target=\"_blank\">https://pandas.pydata.org/pandas-docs/stable/generated/pandas.DataFrame.plot.html?highlight=plot#pandas.DataFrame.plot</a></p>"
   ]
  },
  {
   "cell_type": "markdown",
   "id": "0d023d88-3bf2-4819-a4ae-d58c299166a5",
   "metadata": {},
   "source": [
    "<h4>2 pandas.Series.plot</h4>"
   ]
  },
  {
   "cell_type": "markdown",
   "id": "2ddd6e5c-310e-44f7-91a0-61d9c5bc3d8d",
   "metadata": {},
   "source": [
    "<p>更多细节：<a href=\"https://pandas.pydata.org/pandas-docs/stable/generated/pandas.Series.plot.html?highlight=plot#pandas.Series.plot\" target=\"_blank\">https://pandas.pydata.org/pandas-docs/stable/generated/pandas.Series.plot.html?highlight=plot#pandas.Series.plot</a></p>"
   ]
  },
  {
   "cell_type": "code",
   "execution_count": null,
   "id": "c7362a6a-9d65-4fff-92bd-a70a56186b61",
   "metadata": {},
   "outputs": [],
   "source": []
  }
 ],
 "metadata": {
  "kernelspec": {
   "display_name": "Python 3 (ipykernel)",
   "language": "python",
   "name": "python3"
  },
  "language_info": {
   "codemirror_mode": {
    "name": "ipython",
    "version": 3
   },
   "file_extension": ".py",
   "mimetype": "text/x-python",
   "name": "python",
   "nbconvert_exporter": "python",
   "pygments_lexer": "ipython3",
   "version": "3.9.7"
  }
 },
 "nbformat": 4,
 "nbformat_minor": 5
}
