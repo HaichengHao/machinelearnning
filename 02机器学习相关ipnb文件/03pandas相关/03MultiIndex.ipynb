{
 "cells": [
  {
   "cell_type": "code",
   "execution_count": 1,
   "id": "376fc7b4-efdd-4b02-8c2d-c04c534fbe1c",
   "metadata": {},
   "outputs": [
    {
     "data": {
      "text/html": [
       "<style type=\"text/css\">\n",
       "    h1{\n",
       "        color:#FE7E00;\n",
       "        font-weight:bold;\n",
       "    }\n",
       "    h2{\n",
       "        color:#0D47A1;\n",
       "        # font-weight:bold;\n",
       "    }\n",
       "    h3{\n",
       "        color:#408080;\n",
       "    }\n",
       "    th{\n",
       "        border:1px solid black !important;\n",
       "        color:white !important;\n",
       "        background-color:#FE7E00 !important;\n",
       "    }\n",
       "    # th td{\n",
       "    #     border:1px solid black;\n",
       "    # }\n",
       "    tr{\n",
       "        border:1px solid black !important;\n",
       "        border-collapse:collapse !important;\n",
       "    }\n",
       "    td{\n",
       "        border:1px solid black !important;\n",
       "    }\n",
       "    tr td:hover{\n",
       "        background-color:blueviolet !important;\n",
       "        color:white !important;\n",
       "        transform:scale(1.05)\n",
       "    }\n",
       "    .code_{\n",
       "        background-color:#1c1f2b !important;\n",
       "        color:#9dbed3 !important; \n",
       "        white-sapce:pre-wrap;\n",
       "    }\n",
       "</style>\n"
      ],
      "text/plain": [
       "<IPython.core.display.HTML object>"
      ]
     },
     "metadata": {},
     "output_type": "display_data"
    }
   ],
   "source": [
    "%%HTML\n",
    "<style type=\"text/css\">\n",
    "    h1{\n",
    "        color:#FE7E00;\n",
    "        font-weight:bold;\n",
    "    }\n",
    "    h2{\n",
    "        color:#0D47A1;\n",
    "        # font-weight:bold;\n",
    "    }\n",
    "    h3{\n",
    "        color:#408080;\n",
    "    }\n",
    "    th{\n",
    "        border:1px solid black !important;\n",
    "        color:white !important;\n",
    "        background-color:#FE7E00 !important;\n",
    "    }\n",
    "    # th td{\n",
    "    #     border:1px solid black;\n",
    "    # }\n",
    "    tr{\n",
    "        border:1px solid black !important;\n",
    "        border-collapse:collapse !important;\n",
    "    }\n",
    "    td{\n",
    "        border:1px solid black !important;\n",
    "    }\n",
    "    tr td:hover{\n",
    "        background-color:blueviolet !important;\n",
    "        color:white !important;\n",
    "        transform:scale(1.05)\n",
    "    }\n",
    "    .code_{\n",
    "        background-color:#1c1f2b !important;\n",
    "        color:#9dbed3 !important; \n",
    "        white-sapce:pre-wrap;\n",
    "    }\n",
    "</style>"
   ]
  },
  {
   "cell_type": "markdown",
   "id": "b16f7bb5-0088-496f-bd5c-f87586f8dcbd",
   "metadata": {},
   "source": [
    "<h1>MultiIndex</h1>"
   ]
  },
  {
   "cell_type": "markdown",
   "id": "e9d10c4c-7c5d-4320-bcd8-64e663449a90",
   "metadata": {},
   "source": [
    "<p>MultiIndex是三维的数据结构</p>"
   ]
  },
  {
   "cell_type": "markdown",
   "id": "a116b36b-e0f5-4594-a583-1fc04ca358bf",
   "metadata": {},
   "source": [
    "<p>多级索引是pandas的重要功能,可以在Series,DataFrame对象上拥有两个及两个以上的索引</p>"
   ]
  },
  {
   "cell_type": "code",
   "execution_count": 4,
   "id": "93baa05e-d1e5-495c-8297-7f38cd285674",
   "metadata": {},
   "outputs": [],
   "source": [
    "import pandas as pd\n",
    "import numpy as np"
   ]
  },
  {
   "cell_type": "code",
   "execution_count": 10,
   "id": "3efd65a6-b46c-4b9c-8b79-2762ec3f6648",
   "metadata": {},
   "outputs": [],
   "source": [
    "df = pd.DataFrame({'month': [1, 4, 7, 10],\n",
    "                    'year': [2012, 2014, 2013, 2014],\n",
    "                    'sale':[55, 40, 84, 31]})"
   ]
  },
  {
   "cell_type": "code",
   "execution_count": 21,
   "id": "746dc1c0-60c5-4d8a-b3c4-d1efd1682140",
   "metadata": {},
   "outputs": [
    {
     "data": {
      "text/html": [
       "<div>\n",
       "<style scoped>\n",
       "    .dataframe tbody tr th:only-of-type {\n",
       "        vertical-align: middle;\n",
       "    }\n",
       "\n",
       "    .dataframe tbody tr th {\n",
       "        vertical-align: top;\n",
       "    }\n",
       "\n",
       "    .dataframe thead th {\n",
       "        text-align: right;\n",
       "    }\n",
       "</style>\n",
       "<table border=\"1\" class=\"dataframe\">\n",
       "  <thead>\n",
       "    <tr style=\"text-align: right;\">\n",
       "      <th></th>\n",
       "      <th>month</th>\n",
       "      <th>year</th>\n",
       "      <th>sale</th>\n",
       "    </tr>\n",
       "  </thead>\n",
       "  <tbody>\n",
       "    <tr>\n",
       "      <th>0</th>\n",
       "      <td>1</td>\n",
       "      <td>2012</td>\n",
       "      <td>55</td>\n",
       "    </tr>\n",
       "    <tr>\n",
       "      <th>1</th>\n",
       "      <td>4</td>\n",
       "      <td>2014</td>\n",
       "      <td>40</td>\n",
       "    </tr>\n",
       "    <tr>\n",
       "      <th>2</th>\n",
       "      <td>7</td>\n",
       "      <td>2013</td>\n",
       "      <td>84</td>\n",
       "    </tr>\n",
       "    <tr>\n",
       "      <th>3</th>\n",
       "      <td>10</td>\n",
       "      <td>2014</td>\n",
       "      <td>31</td>\n",
       "    </tr>\n",
       "  </tbody>\n",
       "</table>\n",
       "</div>"
      ],
      "text/plain": [
       "   month  year  sale\n",
       "0      1  2012    55\n",
       "1      4  2014    40\n",
       "2      7  2013    84\n",
       "3     10  2014    31"
      ]
     },
     "execution_count": 21,
     "metadata": {},
     "output_type": "execute_result"
    }
   ],
   "source": [
    "df"
   ]
  },
  {
   "cell_type": "markdown",
   "id": "8ed34589-6bfb-40c7-9f24-e1600e75a433",
   "metadata": {},
   "source": [
    "<p>multiindex的特性</p>\n"
   ]
  },
  {
   "cell_type": "code",
   "execution_count": 30,
   "id": "c2659dc0-41ce-49e3-a4d0-4b2bb7c61d42",
   "metadata": {},
   "outputs": [
    {
     "data": {
      "text/html": [
       "<div>\n",
       "<style scoped>\n",
       "    .dataframe tbody tr th:only-of-type {\n",
       "        vertical-align: middle;\n",
       "    }\n",
       "\n",
       "    .dataframe tbody tr th {\n",
       "        vertical-align: top;\n",
       "    }\n",
       "\n",
       "    .dataframe thead th {\n",
       "        text-align: right;\n",
       "    }\n",
       "</style>\n",
       "<table border=\"1\" class=\"dataframe\">\n",
       "  <thead>\n",
       "    <tr style=\"text-align: right;\">\n",
       "      <th></th>\n",
       "      <th></th>\n",
       "      <th>sale</th>\n",
       "    </tr>\n",
       "    <tr>\n",
       "      <th>year</th>\n",
       "      <th>month</th>\n",
       "      <th></th>\n",
       "    </tr>\n",
       "  </thead>\n",
       "  <tbody>\n",
       "    <tr>\n",
       "      <th>2012</th>\n",
       "      <th>1</th>\n",
       "      <td>55</td>\n",
       "    </tr>\n",
       "    <tr>\n",
       "      <th>2014</th>\n",
       "      <th>4</th>\n",
       "      <td>40</td>\n",
       "    </tr>\n",
       "    <tr>\n",
       "      <th>2013</th>\n",
       "      <th>7</th>\n",
       "      <td>84</td>\n",
       "    </tr>\n",
       "    <tr>\n",
       "      <th>2014</th>\n",
       "      <th>10</th>\n",
       "      <td>31</td>\n",
       "    </tr>\n",
       "  </tbody>\n",
       "</table>\n",
       "</div>"
      ],
      "text/plain": [
       "            sale\n",
       "year month      \n",
       "2012 1        55\n",
       "2014 4        40\n",
       "2013 7        84\n",
       "2014 10       31"
      ]
     },
     "execution_count": 30,
     "metadata": {},
     "output_type": "execute_result"
    }
   ],
   "source": [
    "df.set_index(['year','month'])"
   ]
  },
  {
   "cell_type": "code",
   "execution_count": 31,
   "id": "5edfac41-ac70-452a-ad80-fc7eb1eec2e3",
   "metadata": {},
   "outputs": [
    {
     "data": {
      "text/plain": [
       "RangeIndex(start=0, stop=4, step=1)"
      ]
     },
     "execution_count": 31,
     "metadata": {},
     "output_type": "execute_result"
    }
   ],
   "source": [
    "df.index"
   ]
  },
  {
   "cell_type": "raw",
   "id": "f3bb738b-b65d-4cdc-ae0a-3289757461cf",
   "metadata": {},
   "source": [
    "MultiIndex(levels=[[2012,2013,2014],[1,4,7,10]], #行标如有重复那么就只保留一个\n",
    "          labels=[[0,2,1,2],[0,1,2,3]], #对应的行标与level索引的对应关系\n",
    "          name=['year','month']) #names 列索引名"
   ]
  },
  {
   "cell_type": "markdown",
   "id": "fa14f584-49cb-4437-a331-d700b9bcffb0",
   "metadata": {},
   "source": [
    "<img src='./imgs/multiIndex.png'>"
   ]
  },
  {
   "cell_type": "markdown",
   "id": "55fe1b64-086b-4758-878c-c0192694d49d",
   "metadata": {},
   "source": [
    "<p>多级或分层索引对象multiIndex</p>"
   ]
  },
  {
   "cell_type": "markdown",
   "id": "40964079-4781-47a8-8439-4ceabcc4ccfb",
   "metadata": {},
   "source": [
    "<p>index属性</p>\n",
    "<ul>\n",
    "    <li>names:levels的名称</li>\n",
    "    <li>levels:每个level的元组值</li>\n",
    "</ul>"
   ]
  },
  {
   "cell_type": "code",
   "execution_count": 17,
   "id": "7a3347e9-35ca-4975-85e0-86cda8074453",
   "metadata": {},
   "outputs": [],
   "source": [
    "# df.index.names\n",
    "# # FrozenList(['year','month'])"
   ]
  },
  {
   "cell_type": "code",
   "execution_count": null,
   "id": "75080e42-93f5-489d-836b-b8433ab61741",
   "metadata": {},
   "outputs": [],
   "source": [
    "# df.index.levels\n",
    "# # FrozenList([[1,2],[1,4,7,10]])"
   ]
  },
  {
   "cell_type": "markdown",
   "id": "11f36600-4509-4e2c-be1c-34fd45c3e97e",
   "metadata": {},
   "source": [
    "<h2>3.1.2multiIndex的创建</h2>"
   ]
  },
  {
   "cell_type": "code",
   "execution_count": 32,
   "id": "b51fa7a2-2565-4ad3-a15c-e151305205e7",
   "metadata": {},
   "outputs": [
    {
     "data": {
      "text/plain": [
       "MultiIndex([(1,  'red'),\n",
       "            (1, 'blue'),\n",
       "            (2,  'red'),\n",
       "            (2, 'blue')],\n",
       "           names=['num', 'color'])"
      ]
     },
     "execution_count": 32,
     "metadata": {},
     "output_type": "execute_result"
    }
   ],
   "source": [
    "arrays = [[1,1,2,2],['red','blue','red','blue']]\n",
    "pd.MultiIndex.from_arrays(arrays,names=('num','color'))"
   ]
  },
  {
   "cell_type": "code",
   "execution_count": 34,
   "id": "72d3920d-f702-48f4-8293-8fffe624b4c1",
   "metadata": {},
   "outputs": [
    {
     "data": {
      "text/plain": [
       "a  期中    145\n",
       "   期末    101\n",
       "b  期中    102\n",
       "   期末     99\n",
       "c  期中    105\n",
       "   期末    146\n",
       "dtype: int32"
      ]
     },
     "execution_count": 34,
     "metadata": {},
     "output_type": "execute_result"
    }
   ],
   "source": [
    "names=[\"a\",\"b\",\"c\"]\n",
    "exems=[\"期中\",\"期末\"]\n",
    "index=pd.MultiIndex.from_product([names,exems])\n",
    "df = pd.Series(np.random.randint(0,150,size=6),index=index)\n",
    "df"
   ]
  },
  {
   "cell_type": "code",
   "execution_count": null,
   "id": "60223449-d9f8-4325-9c47-9e85091ea1e0",
   "metadata": {},
   "outputs": [],
   "source": []
  }
 ],
 "metadata": {
  "kernelspec": {
   "display_name": "Python 3 (ipykernel)",
   "language": "python",
   "name": "python3"
  },
  "language_info": {
   "codemirror_mode": {
    "name": "ipython",
    "version": 3
   },
   "file_extension": ".py",
   "mimetype": "text/x-python",
   "name": "python",
   "nbconvert_exporter": "python",
   "pygments_lexer": "ipython3",
   "version": "3.9.7"
  }
 },
 "nbformat": 4,
 "nbformat_minor": 5
}
