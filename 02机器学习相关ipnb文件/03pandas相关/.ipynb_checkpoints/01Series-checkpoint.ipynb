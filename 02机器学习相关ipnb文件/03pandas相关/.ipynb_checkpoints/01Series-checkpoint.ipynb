{
 "cells": [
  {
   "cell_type": "code",
   "execution_count": 1,
   "id": "f63be113-40f4-4a7c-be8d-43e534b86a4f",
   "metadata": {},
   "outputs": [
    {
     "data": {
      "text/html": [
       "<style type=\"text/css\">\n",
       "    h1{\n",
       "        color:#FE7E00;\n",
       "        font-weight:bold;\n",
       "    }\n",
       "    h2{\n",
       "        color:#0D47A1;\n",
       "        # font-weight:bold;\n",
       "    }\n",
       "    h3{\n",
       "        color:#408080;\n",
       "    }\n",
       "    th{\n",
       "        border:1px solid black !important;\n",
       "        color:white !important;\n",
       "        background-color:#FE7E00 !important;\n",
       "    }\n",
       "    # th td{\n",
       "    #     border:1px solid black;\n",
       "    # }\n",
       "    tr{\n",
       "        border:1px solid black !important;\n",
       "        border-collapse:collapse !important;\n",
       "    }\n",
       "    td{\n",
       "        border:1px solid black !important;\n",
       "    }\n",
       "    tr td:hover{\n",
       "        background-color:blueviolet !important;\n",
       "        color:white !important;\n",
       "        transform:scale(1.05)\n",
       "    }\n",
       "    .code_{\n",
       "        background-color:#1c1f2b !important;\n",
       "        color:#9dbed3 !important; \n",
       "        white-sapce:pre-wrap;\n",
       "    }\n",
       "</style>\n"
      ],
      "text/plain": [
       "<IPython.core.display.HTML object>"
      ]
     },
     "metadata": {},
     "output_type": "display_data"
    }
   ],
   "source": [
    "%%HTML\n",
    "<style type=\"text/css\">\n",
    "    h1{\n",
    "        color:#FE7E00;\n",
    "        font-weight:bold;\n",
    "    }\n",
    "    h2{\n",
    "        color:#0D47A1;\n",
    "        # font-weight:bold;\n",
    "    }\n",
    "    h3{\n",
    "        color:#408080;\n",
    "    }\n",
    "    th{\n",
    "        border:1px solid black !important;\n",
    "        color:white !important;\n",
    "        background-color:#FE7E00 !important;\n",
    "    }\n",
    "    # th td{\n",
    "    #     border:1px solid black;\n",
    "    # }\n",
    "    tr{\n",
    "        border:1px solid black !important;\n",
    "        border-collapse:collapse !important;\n",
    "    }\n",
    "    td{\n",
    "        border:1px solid black !important;\n",
    "    }\n",
    "    tr td:hover{\n",
    "        background-color:blueviolet !important;\n",
    "        color:white !important;\n",
    "        transform:scale(1.05)\n",
    "    }\n",
    "    .code_{\n",
    "        background-color:#1c1f2b !important;\n",
    "        color:#9dbed3 !important; \n",
    "        white-sapce:pre-wrap;\n",
    "    }\n",
    "</style>"
   ]
  },
  {
   "cell_type": "code",
   "execution_count": 3,
   "id": "936b139e-eeb1-465d-bc71-3c5efbdbe7e4",
   "metadata": {},
   "outputs": [],
   "source": [
    "import pandas as pd\n",
    "import numpy as np"
   ]
  },
  {
   "cell_type": "code",
   "execution_count": 5,
   "id": "25de3c35-c7e0-4aa8-91d2-70a6bfbe0d78",
   "metadata": {},
   "outputs": [
    {
     "data": {
      "text/plain": [
       "\u001b[1;31mInit signature:\u001b[0m\n",
       "\u001b[0mpd\u001b[0m\u001b[1;33m.\u001b[0m\u001b[0mSeries\u001b[0m\u001b[1;33m(\u001b[0m\u001b[1;33m\n",
       "\u001b[0m    \u001b[0mdata\u001b[0m\u001b[1;33m=\u001b[0m\u001b[1;32mNone\u001b[0m\u001b[1;33m,\u001b[0m\u001b[1;33m\n",
       "\u001b[0m    \u001b[0mindex\u001b[0m\u001b[1;33m=\u001b[0m\u001b[1;32mNone\u001b[0m\u001b[1;33m,\u001b[0m\u001b[1;33m\n",
       "\u001b[0m    \u001b[0mdtype\u001b[0m\u001b[1;33m:\u001b[0m \u001b[1;34m'Dtype | None'\u001b[0m \u001b[1;33m=\u001b[0m \u001b[1;32mNone\u001b[0m\u001b[1;33m,\u001b[0m\u001b[1;33m\n",
       "\u001b[0m    \u001b[0mname\u001b[0m\u001b[1;33m=\u001b[0m\u001b[1;32mNone\u001b[0m\u001b[1;33m,\u001b[0m\u001b[1;33m\n",
       "\u001b[0m    \u001b[0mcopy\u001b[0m\u001b[1;33m:\u001b[0m \u001b[1;34m'bool | None'\u001b[0m \u001b[1;33m=\u001b[0m \u001b[1;32mNone\u001b[0m\u001b[1;33m,\u001b[0m\u001b[1;33m\n",
       "\u001b[0m    \u001b[0mfastpath\u001b[0m\u001b[1;33m:\u001b[0m \u001b[1;34m'bool | lib.NoDefault'\u001b[0m \u001b[1;33m=\u001b[0m \u001b[1;33m<\u001b[0m\u001b[0mno_default\u001b[0m\u001b[1;33m>\u001b[0m\u001b[1;33m,\u001b[0m\u001b[1;33m\n",
       "\u001b[0m\u001b[1;33m)\u001b[0m \u001b[1;33m->\u001b[0m \u001b[1;34m'None'\u001b[0m\u001b[1;33m\u001b[0m\u001b[1;33m\u001b[0m\u001b[0m\n",
       "\u001b[1;31mDocstring:\u001b[0m     \n",
       "One-dimensional ndarray with axis labels (including time series).\n",
       "\n",
       "Labels need not be unique but must be a hashable type. The object\n",
       "supports both integer- and label-based indexing and provides a host of\n",
       "methods for performing operations involving the index. Statistical\n",
       "methods from ndarray have been overridden to automatically exclude\n",
       "missing data (currently represented as NaN).\n",
       "\n",
       "Operations between Series (+, -, /, \\*, \\*\\*) align values based on their\n",
       "associated index values-- they need not be the same length. The result\n",
       "index will be the sorted union of the two indexes.\n",
       "\n",
       "Parameters\n",
       "----------\n",
       "data : array-like, Iterable, dict, or scalar value\n",
       "    Contains data stored in Series. If data is a dict, argument order is\n",
       "    maintained.\n",
       "index : array-like or Index (1d)\n",
       "    Values must be hashable and have the same length as `data`.\n",
       "    Non-unique index values are allowed. Will default to\n",
       "    RangeIndex (0, 1, 2, ..., n) if not provided. If data is dict-like\n",
       "    and index is None, then the keys in the data are used as the index. If the\n",
       "    index is not None, the resulting Series is reindexed with the index values.\n",
       "dtype : str, numpy.dtype, or ExtensionDtype, optional\n",
       "    Data type for the output Series. If not specified, this will be\n",
       "    inferred from `data`.\n",
       "    See the :ref:`user guide <basics.dtypes>` for more usages.\n",
       "name : Hashable, default None\n",
       "    The name to give to the Series.\n",
       "copy : bool, default False\n",
       "    Copy input data. Only affects Series or 1d ndarray input. See examples.\n",
       "\n",
       "Notes\n",
       "-----\n",
       "Please reference the :ref:`User Guide <basics.series>` for more information.\n",
       "\n",
       "Examples\n",
       "--------\n",
       "Constructing Series from a dictionary with an Index specified\n",
       "\n",
       ">>> d = {'a': 1, 'b': 2, 'c': 3}\n",
       ">>> ser = pd.Series(data=d, index=['a', 'b', 'c'])\n",
       ">>> ser\n",
       "a   1\n",
       "b   2\n",
       "c   3\n",
       "dtype: int64\n",
       "\n",
       "The keys of the dictionary match with the Index values, hence the Index\n",
       "values have no effect.\n",
       "\n",
       ">>> d = {'a': 1, 'b': 2, 'c': 3}\n",
       ">>> ser = pd.Series(data=d, index=['x', 'y', 'z'])\n",
       ">>> ser\n",
       "x   NaN\n",
       "y   NaN\n",
       "z   NaN\n",
       "dtype: float64\n",
       "\n",
       "Note that the Index is first build with the keys from the dictionary.\n",
       "After this the Series is reindexed with the given Index values, hence we\n",
       "get all NaN as a result.\n",
       "\n",
       "Constructing Series from a list with `copy=False`.\n",
       "\n",
       ">>> r = [1, 2]\n",
       ">>> ser = pd.Series(r, copy=False)\n",
       ">>> ser.iloc[0] = 999\n",
       ">>> r\n",
       "[1, 2]\n",
       ">>> ser\n",
       "0    999\n",
       "1      2\n",
       "dtype: int64\n",
       "\n",
       "Due to input data type the Series has a `copy` of\n",
       "the original data even though `copy=False`, so\n",
       "the data is unchanged.\n",
       "\n",
       "Constructing Series from a 1d ndarray with `copy=False`.\n",
       "\n",
       ">>> r = np.array([1, 2])\n",
       ">>> ser = pd.Series(r, copy=False)\n",
       ">>> ser.iloc[0] = 999\n",
       ">>> r\n",
       "array([999,   2])\n",
       ">>> ser\n",
       "0    999\n",
       "1      2\n",
       "dtype: int64\n",
       "\n",
       "Due to input data type the Series has a `view` on\n",
       "the original data, so\n",
       "the data is changed as well.\n",
       "\u001b[1;31mFile:\u001b[0m           d:\\virtualenvs\\ai\\lib\\site-packages\\pandas\\core\\series.py\n",
       "\u001b[1;31mType:\u001b[0m           type\n",
       "\u001b[1;31mSubclasses:\u001b[0m     SubclassedSeries"
      ]
     },
     "metadata": {},
     "output_type": "display_data"
    }
   ],
   "source": [
    "pd.Series?"
   ]
  },
  {
   "cell_type": "code",
   "execution_count": 6,
   "id": "10d0ba3e-5237-4aa2-80c7-5957b1e511de",
   "metadata": {},
   "outputs": [
    {
     "data": {
      "text/plain": [
       "0    0\n",
       "1    1\n",
       "2    2\n",
       "3    3\n",
       "4    4\n",
       "5    5\n",
       "6    6\n",
       "7    7\n",
       "8    8\n",
       "9    9\n",
       "dtype: int64"
      ]
     },
     "execution_count": 6,
     "metadata": {},
     "output_type": "execute_result"
    }
   ],
   "source": [
    "pd.Series(np.arange(10))"
   ]
  },
  {
   "cell_type": "code",
   "execution_count": 7,
   "id": "29cc5432-d657-4c94-8b40-4437e594f125",
   "metadata": {},
   "outputs": [
    {
     "data": {
      "text/plain": [
       "a    1\n",
       "b    2\n",
       "c    3\n",
       "d    5\n",
       "e    8\n",
       "dtype: int64"
      ]
     },
     "execution_count": 7,
     "metadata": {},
     "output_type": "execute_result"
    }
   ],
   "source": [
    "pd.Series([1,2,3,5,8],index=['a','b','c','d','e'])"
   ]
  },
  {
   "cell_type": "code",
   "execution_count": 9,
   "id": "da068141-4117-4d6d-b3e9-b0147bd3380e",
   "metadata": {},
   "outputs": [],
   "source": [
    "city=pd.Series({'beijing':100,'shanghai':50})"
   ]
  },
  {
   "cell_type": "code",
   "execution_count": 10,
   "id": "cc4bf572-4353-4b6d-8abf-8be2c071efa0",
   "metadata": {},
   "outputs": [
    {
     "data": {
      "text/plain": [
       "beijing     100\n",
       "shanghai     50\n",
       "dtype: int64"
      ]
     },
     "execution_count": 10,
     "metadata": {},
     "output_type": "execute_result"
    }
   ],
   "source": [
    "city"
   ]
  },
  {
   "cell_type": "code",
   "execution_count": 11,
   "id": "0bcfe5b9-e808-42ce-a30f-fe60ab8251d5",
   "metadata": {},
   "outputs": [
    {
     "data": {
      "text/plain": [
       "Index(['beijing', 'shanghai'], dtype='object')"
      ]
     },
     "execution_count": 11,
     "metadata": {},
     "output_type": "execute_result"
    }
   ],
   "source": [
    "city.index"
   ]
  },
  {
   "cell_type": "code",
   "execution_count": 13,
   "id": "ef6dca2b-429c-47a2-b449-a32d84ba3cda",
   "metadata": {},
   "outputs": [
    {
     "data": {
      "text/plain": [
       "array([100,  50])"
      ]
     },
     "execution_count": 13,
     "metadata": {},
     "output_type": "execute_result"
    }
   ],
   "source": [
    "city.values"
   ]
  },
  {
   "cell_type": "code",
   "execution_count": 15,
   "id": "57a33723-9ef8-4482-a31b-bfcb0b8f5094",
   "metadata": {},
   "outputs": [
    {
     "data": {
      "text/plain": [
       "np.int64(100)"
      ]
     },
     "execution_count": 15,
     "metadata": {},
     "output_type": "execute_result"
    }
   ],
   "source": [
    "city['beijing']"
   ]
  },
  {
   "cell_type": "code",
   "execution_count": null,
   "id": "a4303b56-2f32-44e1-89af-6cab1d831d75",
   "metadata": {},
   "outputs": [],
   "source": []
  }
 ],
 "metadata": {
  "kernelspec": {
   "display_name": "Python 3 (ipykernel)",
   "language": "python",
   "name": "python3"
  },
  "language_info": {
   "codemirror_mode": {
    "name": "ipython",
    "version": 3
   },
   "file_extension": ".py",
   "mimetype": "text/x-python",
   "name": "python",
   "nbconvert_exporter": "python",
   "pygments_lexer": "ipython3",
   "version": "3.9.7"
  }
 },
 "nbformat": 4,
 "nbformat_minor": 5
}
