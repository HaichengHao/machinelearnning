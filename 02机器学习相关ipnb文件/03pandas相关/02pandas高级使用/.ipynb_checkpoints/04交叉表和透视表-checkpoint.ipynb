{
 "cells": [
  {
   "cell_type": "code",
   "execution_count": 1,
   "id": "b7f9c26c-3044-479d-af55-3d6d0e03857a",
   "metadata": {},
   "outputs": [
    {
     "data": {
      "text/html": [
       "<style type='text/css'>\n",
       "    *{\n",
       "        # background-color:#E3EDCD;\n",
       "        # background-color:black;\n",
       "        # color:white;\n",
       "        \n",
       "    }\n",
       "    h1{\n",
       "        color:#1976d2;\n",
       "    }\n",
       "    h2{\n",
       "        color:#f57c00;\n",
       "    }\n",
       "    h3{\n",
       "        color:#ba37ff;\n",
       "    }\n",
       "    h4{\n",
       "        color:green;\n",
       "    }\n",
       "    table{\n",
       "        border:1px solid black !important;\n",
       "        border-collapse:collapse !important;\n",
       "    }\n",
       "    th{\n",
       "        background-color:blueviolet !important;\n",
       "        text-align:center;\n",
       "        color:white;\n",
       "    }\n",
       "    th,td{\n",
       "        border:0.1px solid black !important;\n",
       "        transition:0.2s all liner;\n",
       "        \n",
       "    }\n",
       "    td:hover{\n",
       "        transform:scale(1.1);\n",
       "        background-color:orange;\n",
       "        color:blueviolet;\n",
       "    }\n",
       "    .raw{\n",
       "        white-space:pre;\n",
       "    }\n",
       "</style>\n"
      ],
      "text/plain": [
       "<IPython.core.display.HTML object>"
      ]
     },
     "metadata": {},
     "output_type": "display_data"
    }
   ],
   "source": [
    "%%HTML\n",
    "<style type='text/css'>\n",
    "    *{\n",
    "        # background-color:#E3EDCD;\n",
    "        # background-color:black;\n",
    "        # color:white;\n",
    "        \n",
    "    }\n",
    "    h1{\n",
    "        color:#1976d2;\n",
    "    }\n",
    "    h2{\n",
    "        color:#f57c00;\n",
    "    }\n",
    "    h3{\n",
    "        color:#ba37ff;\n",
    "    }\n",
    "    h4{\n",
    "        color:green;\n",
    "    }\n",
    "    table{\n",
    "        border:1px solid black !important;\n",
    "        border-collapse:collapse !important;\n",
    "    }\n",
    "    th{\n",
    "        background-color:blueviolet !important;\n",
    "        text-align:center;\n",
    "        color:white;\n",
    "    }\n",
    "    th,td{\n",
    "        border:0.1px solid black !important;\n",
    "        transition:0.2s all liner;\n",
    "        \n",
    "    }\n",
    "    td:hover{\n",
    "        transform:scale(1.1);\n",
    "        background-color:orange;\n",
    "        color:blueviolet;\n",
    "    }\n",
    "    .raw{\n",
    "        white-space:pre;\n",
    "    }\n",
    "</style>"
   ]
  },
  {
   "cell_type": "markdown",
   "id": "b5b999c5-a9c9-40bf-81d8-c8ecb5287113",
   "metadata": {},
   "source": [
    "<h1>交叉表和透视表</h1>"
   ]
  },
  {
   "cell_type": "code",
   "execution_count": 8,
   "id": "bedbde29-9668-42e6-a6e5-23269dc41b63",
   "metadata": {},
   "outputs": [],
   "source": [
    "import pandas as pd\n",
    "import matplotlib.pyplot as plt\n",
    "import numpy as np\n",
    "from pyecharts.faker import Faker\n",
    "from pylab import mpl\n",
    "# 设置显示中文字体\n",
    "mpl.rcParams[\"font.sans-serif\"] = [\"SimHei\"]\n",
    "# 解决部分字符无法正常显示的问题\n",
    "mpl.rcParams[\"axes.unicode_minus\"]=False"
   ]
  },
  {
   "cell_type": "code",
   "execution_count": 9,
   "id": "68fa47dd-9098-4786-9079-dff66c33cc78",
   "metadata": {},
   "outputs": [],
   "source": [
    "plt.style.use('bmh')"
   ]
  },
  {
   "cell_type": "markdown",
   "id": "db2c1648-28f7-4749-9c26-eb6e4d055cf4",
   "metadata": {},
   "source": [
    "交叉表:交叉表用于计算一列数据对于另外一列数据的分组个数(用于统计分组频率的特殊透视表)"
   ]
  },
  {
   "cell_type": "markdown",
   "id": "111928cc-497e-4929-9534-bdaad005b4b6",
   "metadata": {},
   "source": [
    "### 对于已经学过pyecharts后来说,其实这玩意儿就是堆叠柱状图"
   ]
  },
  {
   "cell_type": "markdown",
   "id": "1b6a41ef-88f3-481f-86f8-7b76f450d728",
   "metadata": {},
   "source": [
    "#### 数据准备"
   ]
  },
  {
   "cell_type": "code",
   "execution_count": 16,
   "id": "7cfdde2e-6bf7-4934-b022-182a5729b625",
   "metadata": {},
   "outputs": [],
   "source": [
    "k = Faker.clothes"
   ]
  },
  {
   "cell_type": "code",
   "execution_count": 17,
   "id": "29345290-1aed-40fb-b9a4-f290e7025cf0",
   "metadata": {},
   "outputs": [
    {
     "data": {
      "text/plain": [
       "[125, 118, 130, 23, 57, 55, 115]"
      ]
     },
     "execution_count": 17,
     "metadata": {},
     "output_type": "execute_result"
    }
   ],
   "source": [
    "v1 = Faker.values()\n",
    "v1"
   ]
  },
  {
   "cell_type": "code",
   "execution_count": 18,
   "id": "4453a279-33b8-4417-a016-f1d63d49b94c",
   "metadata": {},
   "outputs": [
    {
     "data": {
      "text/plain": [
       "[88, 113, 72, 86, 86, 136, 85]"
      ]
     },
     "execution_count": 18,
     "metadata": {},
     "output_type": "execute_result"
    }
   ],
   "source": [
    "v2 = Faker.values()\n",
    "v2"
   ]
  },
  {
   "cell_type": "code",
   "execution_count": null,
   "id": "6e701dd5-cd43-4a42-95c0-34da510d9073",
   "metadata": {},
   "outputs": [],
   "source": [
    "pd.crosstab(v1,v2)"
   ]
  },
  {
   "cell_type": "markdown",
   "id": "b99e907b-5354-4f6f-bed0-9780cf40310b",
   "metadata": {},
   "source": [
    "#### 透视表: 透视表是将原有的DataFrame<br>的列分别作为行索引和列索引,然后对指定的列应用聚焦函数"
   ]
  },
  {
   "cell_type": "markdown",
   "id": "f8b382d6-b7e2-4dc0-b670-3db9712e801f",
   "metadata": {},
   "source": [
    "```ipython\n",
    "data.pivot_table()\n",
    "DataFrame.pivot_table{[],index=[]}\n",
    "```"
   ]
  },
  {
   "cell_type": "code",
   "execution_count": null,
   "id": "3e4fabb0-b12d-4e5f-a1a3-83e337252fc2",
   "metadata": {},
   "outputs": [],
   "source": []
  }
 ],
 "metadata": {
  "kernelspec": {
   "display_name": "Python 3 (ipykernel)",
   "language": "python",
   "name": "python3"
  },
  "language_info": {
   "codemirror_mode": {
    "name": "ipython",
    "version": 3
   },
   "file_extension": ".py",
   "mimetype": "text/x-python",
   "name": "python",
   "nbconvert_exporter": "python",
   "pygments_lexer": "ipython3",
   "version": "3.9.7"
  }
 },
 "nbformat": 4,
 "nbformat_minor": 5
}
