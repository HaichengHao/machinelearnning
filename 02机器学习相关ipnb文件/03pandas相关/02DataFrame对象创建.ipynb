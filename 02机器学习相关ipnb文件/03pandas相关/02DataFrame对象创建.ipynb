{
 "cells": [
  {
   "cell_type": "code",
   "execution_count": 36,
   "id": "b7b785b0-3eac-443f-82de-0bf1ba01b95c",
   "metadata": {},
   "outputs": [
    {
     "data": {
      "text/html": [
       "<style type=\"text/css\">\n",
       "    h1{\n",
       "        color:#FE7E00;\n",
       "        font-weight:bold;\n",
       "    }\n",
       "    h2{\n",
       "        color:#0D47A1;\n",
       "        # font-weight:bold;\n",
       "    }\n",
       "    h3{\n",
       "        color:#408080;\n",
       "    }\n",
       "    th{\n",
       "        border:1px solid black !important;\n",
       "        color:white !important;\n",
       "        background-color:#FE7E00 !important;\n",
       "    }\n",
       "    # th td{\n",
       "    #     border:1px solid black;\n",
       "    # }\n",
       "    tr{\n",
       "        border:1px solid black !important;\n",
       "        border-collapse:collapse !important;\n",
       "    }\n",
       "    td{\n",
       "        border:1px solid black !important;\n",
       "    }\n",
       "    tr td:hover{\n",
       "        background-color:blueviolet !important;\n",
       "        color:white !important;\n",
       "        transform:scale(1.05)\n",
       "    }\n",
       "    .code_{\n",
       "        background-color:#1c1f2b !important;\n",
       "        color:#9dbed3 !important; \n",
       "        white-sapce:pre-wrap;\n",
       "    }\n",
       "</style>\n"
      ],
      "text/plain": [
       "<IPython.core.display.HTML object>"
      ]
     },
     "metadata": {},
     "output_type": "display_data"
    }
   ],
   "source": [
    "%%HTML\n",
    "<style type=\"text/css\">\n",
    "    h1{\n",
    "        color:#FE7E00;\n",
    "        font-weight:bold;\n",
    "    }\n",
    "    h2{\n",
    "        color:#0D47A1;\n",
    "        # font-weight:bold;\n",
    "    }\n",
    "    h3{\n",
    "        color:#408080;\n",
    "    }\n",
    "    th{\n",
    "        border:1px solid black !important;\n",
    "        color:white !important;\n",
    "        background-color:#FE7E00 !important;\n",
    "    }\n",
    "    # th td{\n",
    "    #     border:1px solid black;\n",
    "    # }\n",
    "    tr{\n",
    "        border:1px solid black !important;\n",
    "        border-collapse:collapse !important;\n",
    "    }\n",
    "    td{\n",
    "        border:1px solid black !important;\n",
    "    }\n",
    "    tr td:hover{\n",
    "        background-color:blueviolet !important;\n",
    "        color:white !important;\n",
    "        transform:scale(1.05)\n",
    "    }\n",
    "    .code_{\n",
    "        background-color:#1c1f2b !important;\n",
    "        color:#9dbed3 !important; \n",
    "        white-sapce:pre-wrap;\n",
    "    }\n",
    "</style>"
   ]
  },
  {
   "cell_type": "markdown",
   "id": "27bfc318-b51c-44e5-9e6c-f3f69a22c8c7",
   "metadata": {},
   "source": [
    "<h2>数据框对象创建</h2>"
   ]
  },
  {
   "cell_type": "markdown",
   "id": "401d0d66-6bc9-4e04-9293-6452a2e5d086",
   "metadata": {},
   "source": [
    "<p>将两个series对象作为字典的值，就可以创建一个dataframe对象</p>"
   ]
  },
  {
   "cell_type": "code",
   "execution_count": 2,
   "id": "d0bb2c21-876f-4955-a230-99c992266467",
   "metadata": {},
   "outputs": [],
   "source": [
    "population_dict = {'beijing':3000,'shanghai':4000,'guangzhou':2800}\n",
    "area_dict={'beijing':300,'shanghai':200,'guangzhou':220}"
   ]
  },
  {
   "cell_type": "code",
   "execution_count": 3,
   "id": "ba81cf3d-b14d-4f1a-9f7b-a99336462c76",
   "metadata": {},
   "outputs": [],
   "source": [
    "import pandas as pd"
   ]
  },
  {
   "cell_type": "code",
   "execution_count": 4,
   "id": "2e6a18d1-8fe5-4d6f-a6d8-9d64012ac073",
   "metadata": {},
   "outputs": [
    {
     "data": {
      "text/plain": [
       "\u001b[1;31mInit signature:\u001b[0m\n",
       "\u001b[0mpd\u001b[0m\u001b[1;33m.\u001b[0m\u001b[0mDataFrame\u001b[0m\u001b[1;33m(\u001b[0m\u001b[1;33m\n",
       "\u001b[0m    \u001b[0mdata\u001b[0m\u001b[1;33m=\u001b[0m\u001b[1;32mNone\u001b[0m\u001b[1;33m,\u001b[0m\u001b[1;33m\n",
       "\u001b[0m    \u001b[0mindex\u001b[0m\u001b[1;33m:\u001b[0m \u001b[1;34m'Axes | None'\u001b[0m \u001b[1;33m=\u001b[0m \u001b[1;32mNone\u001b[0m\u001b[1;33m,\u001b[0m\u001b[1;33m\n",
       "\u001b[0m    \u001b[0mcolumns\u001b[0m\u001b[1;33m:\u001b[0m \u001b[1;34m'Axes | None'\u001b[0m \u001b[1;33m=\u001b[0m \u001b[1;32mNone\u001b[0m\u001b[1;33m,\u001b[0m\u001b[1;33m\n",
       "\u001b[0m    \u001b[0mdtype\u001b[0m\u001b[1;33m:\u001b[0m \u001b[1;34m'Dtype | None'\u001b[0m \u001b[1;33m=\u001b[0m \u001b[1;32mNone\u001b[0m\u001b[1;33m,\u001b[0m\u001b[1;33m\n",
       "\u001b[0m    \u001b[0mcopy\u001b[0m\u001b[1;33m:\u001b[0m \u001b[1;34m'bool | None'\u001b[0m \u001b[1;33m=\u001b[0m \u001b[1;32mNone\u001b[0m\u001b[1;33m,\u001b[0m\u001b[1;33m\n",
       "\u001b[0m\u001b[1;33m)\u001b[0m \u001b[1;33m->\u001b[0m \u001b[1;34m'None'\u001b[0m\u001b[1;33m\u001b[0m\u001b[1;33m\u001b[0m\u001b[0m\n",
       "\u001b[1;31mDocstring:\u001b[0m     \n",
       "Two-dimensional, size-mutable, potentially heterogeneous tabular data.\n",
       "\n",
       "Data structure also contains labeled axes (rows and columns).\n",
       "Arithmetic operations align on both row and column labels. Can be\n",
       "thought of as a dict-like container for Series objects. The primary\n",
       "pandas data structure.\n",
       "\n",
       "Parameters\n",
       "----------\n",
       "data : ndarray (structured or homogeneous), Iterable, dict, or DataFrame\n",
       "    Dict can contain Series, arrays, constants, dataclass or list-like objects. If\n",
       "    data is a dict, column order follows insertion-order. If a dict contains Series\n",
       "    which have an index defined, it is aligned by its index. This alignment also\n",
       "    occurs if data is a Series or a DataFrame itself. Alignment is done on\n",
       "    Series/DataFrame inputs.\n",
       "\n",
       "    If data is a list of dicts, column order follows insertion-order.\n",
       "\n",
       "index : Index or array-like\n",
       "    Index to use for resulting frame. Will default to RangeIndex if\n",
       "    no indexing information part of input data and no index provided.\n",
       "columns : Index or array-like\n",
       "    Column labels to use for resulting frame when data does not have them,\n",
       "    defaulting to RangeIndex(0, 1, 2, ..., n). If data contains column labels,\n",
       "    will perform column selection instead.\n",
       "dtype : dtype, default None\n",
       "    Data type to force. Only a single dtype is allowed. If None, infer.\n",
       "copy : bool or None, default None\n",
       "    Copy data from inputs.\n",
       "    For dict data, the default of None behaves like ``copy=True``.  For DataFrame\n",
       "    or 2d ndarray input, the default of None behaves like ``copy=False``.\n",
       "    If data is a dict containing one or more Series (possibly of different dtypes),\n",
       "    ``copy=False`` will ensure that these inputs are not copied.\n",
       "\n",
       "    .. versionchanged:: 1.3.0\n",
       "\n",
       "See Also\n",
       "--------\n",
       "DataFrame.from_records : Constructor from tuples, also record arrays.\n",
       "DataFrame.from_dict : From dicts of Series, arrays, or dicts.\n",
       "read_csv : Read a comma-separated values (csv) file into DataFrame.\n",
       "read_table : Read general delimited file into DataFrame.\n",
       "read_clipboard : Read text from clipboard into DataFrame.\n",
       "\n",
       "Notes\n",
       "-----\n",
       "Please reference the :ref:`User Guide <basics.dataframe>` for more information.\n",
       "\n",
       "Examples\n",
       "--------\n",
       "Constructing DataFrame from a dictionary.\n",
       "\n",
       ">>> d = {'col1': [1, 2], 'col2': [3, 4]}\n",
       ">>> df = pd.DataFrame(data=d)\n",
       ">>> df\n",
       "   col1  col2\n",
       "0     1     3\n",
       "1     2     4\n",
       "\n",
       "Notice that the inferred dtype is int64.\n",
       "\n",
       ">>> df.dtypes\n",
       "col1    int64\n",
       "col2    int64\n",
       "dtype: object\n",
       "\n",
       "To enforce a single dtype:\n",
       "\n",
       ">>> df = pd.DataFrame(data=d, dtype=np.int8)\n",
       ">>> df.dtypes\n",
       "col1    int8\n",
       "col2    int8\n",
       "dtype: object\n",
       "\n",
       "Constructing DataFrame from a dictionary including Series:\n",
       "\n",
       ">>> d = {'col1': [0, 1, 2, 3], 'col2': pd.Series([2, 3], index=[2, 3])}\n",
       ">>> pd.DataFrame(data=d, index=[0, 1, 2, 3])\n",
       "   col1  col2\n",
       "0     0   NaN\n",
       "1     1   NaN\n",
       "2     2   2.0\n",
       "3     3   3.0\n",
       "\n",
       "Constructing DataFrame from numpy ndarray:\n",
       "\n",
       ">>> df2 = pd.DataFrame(np.array([[1, 2, 3], [4, 5, 6], [7, 8, 9]]),\n",
       "...                    columns=['a', 'b', 'c'])\n",
       ">>> df2\n",
       "   a  b  c\n",
       "0  1  2  3\n",
       "1  4  5  6\n",
       "2  7  8  9\n",
       "\n",
       "Constructing DataFrame from a numpy ndarray that has labeled columns:\n",
       "\n",
       ">>> data = np.array([(1, 2, 3), (4, 5, 6), (7, 8, 9)],\n",
       "...                 dtype=[(\"a\", \"i4\"), (\"b\", \"i4\"), (\"c\", \"i4\")])\n",
       ">>> df3 = pd.DataFrame(data, columns=['c', 'a'])\n",
       "...\n",
       ">>> df3\n",
       "   c  a\n",
       "0  3  1\n",
       "1  6  4\n",
       "2  9  7\n",
       "\n",
       "Constructing DataFrame from dataclass:\n",
       "\n",
       ">>> from dataclasses import make_dataclass\n",
       ">>> Point = make_dataclass(\"Point\", [(\"x\", int), (\"y\", int)])\n",
       ">>> pd.DataFrame([Point(0, 0), Point(0, 3), Point(2, 3)])\n",
       "   x  y\n",
       "0  0  0\n",
       "1  0  3\n",
       "2  2  3\n",
       "\n",
       "Constructing DataFrame from Series/DataFrame:\n",
       "\n",
       ">>> ser = pd.Series([1, 2, 3], index=[\"a\", \"b\", \"c\"])\n",
       ">>> df = pd.DataFrame(data=ser, index=[\"a\", \"c\"])\n",
       ">>> df\n",
       "   0\n",
       "a  1\n",
       "c  3\n",
       "\n",
       ">>> df1 = pd.DataFrame([1, 2, 3], index=[\"a\", \"b\", \"c\"], columns=[\"x\"])\n",
       ">>> df2 = pd.DataFrame(data=df1, index=[\"a\", \"c\"])\n",
       ">>> df2\n",
       "   x\n",
       "a  1\n",
       "c  3\n",
       "\u001b[1;31mFile:\u001b[0m           d:\\virtualenvs\\ai\\lib\\site-packages\\pandas\\core\\frame.py\n",
       "\u001b[1;31mType:\u001b[0m           type\n",
       "\u001b[1;31mSubclasses:\u001b[0m     SubclassedDataFrame"
      ]
     },
     "metadata": {},
     "output_type": "display_data"
    }
   ],
   "source": [
    "pd.DataFrame?"
   ]
  },
  {
   "cell_type": "code",
   "execution_count": 5,
   "id": "fac39915-89f1-4fe4-a9af-cb00ce0e7a34",
   "metadata": {},
   "outputs": [],
   "source": [
    "population_series = pd.Series(population_dict)\n",
    "area_series = pd.Series(area_dict)"
   ]
  },
  {
   "cell_type": "code",
   "execution_count": 6,
   "id": "2efb5895-4e85-4604-ae6c-21a0cc48bb69",
   "metadata": {},
   "outputs": [
    {
     "data": {
      "text/html": [
       "<div>\n",
       "<style scoped>\n",
       "    .dataframe tbody tr th:only-of-type {\n",
       "        vertical-align: middle;\n",
       "    }\n",
       "\n",
       "    .dataframe tbody tr th {\n",
       "        vertical-align: top;\n",
       "    }\n",
       "\n",
       "    .dataframe thead th {\n",
       "        text-align: right;\n",
       "    }\n",
       "</style>\n",
       "<table border=\"1\" class=\"dataframe\">\n",
       "  <thead>\n",
       "    <tr style=\"text-align: right;\">\n",
       "      <th></th>\n",
       "      <th>population</th>\n",
       "      <th>area</th>\n",
       "    </tr>\n",
       "  </thead>\n",
       "  <tbody>\n",
       "    <tr>\n",
       "      <th>beijing</th>\n",
       "      <td>3000</td>\n",
       "      <td>300</td>\n",
       "    </tr>\n",
       "    <tr>\n",
       "      <th>shanghai</th>\n",
       "      <td>4000</td>\n",
       "      <td>200</td>\n",
       "    </tr>\n",
       "    <tr>\n",
       "      <th>guangzhou</th>\n",
       "      <td>2800</td>\n",
       "      <td>220</td>\n",
       "    </tr>\n",
       "  </tbody>\n",
       "</table>\n",
       "</div>"
      ],
      "text/plain": [
       "           population  area\n",
       "beijing          3000   300\n",
       "shanghai         4000   200\n",
       "guangzhou        2800   220"
      ]
     },
     "execution_count": 6,
     "metadata": {},
     "output_type": "execute_result"
    }
   ],
   "source": [
    "dataset = pd.DataFrame({'population':population_series,'area':area_series})\n",
    "dataset"
   ]
  },
  {
   "cell_type": "code",
   "execution_count": 7,
   "id": "aa6fad00-f715-49a9-9f8a-0b85baa2145a",
   "metadata": {},
   "outputs": [
    {
     "data": {
      "text/plain": [
       "Index(['population', 'area'], dtype='object')"
      ]
     },
     "execution_count": 7,
     "metadata": {},
     "output_type": "execute_result"
    }
   ],
   "source": [
    "dataset.columns #查看列名称"
   ]
  },
  {
   "cell_type": "code",
   "execution_count": 8,
   "id": "1c4a634d-8fcb-42d9-bf65-8e7a9ca3583d",
   "metadata": {},
   "outputs": [
    {
     "data": {
      "text/plain": [
       "array([[3000,  300],\n",
       "       [4000,  200],\n",
       "       [2800,  220]])"
      ]
     },
     "execution_count": 8,
     "metadata": {},
     "output_type": "execute_result"
    }
   ],
   "source": [
    "dataset.values #查看值"
   ]
  },
  {
   "cell_type": "code",
   "execution_count": 9,
   "id": "7fe4a0f3-2b75-4fbe-b692-d55428db0275",
   "metadata": {},
   "outputs": [
    {
     "data": {
      "text/plain": [
       "Index(['beijing', 'shanghai', 'guangzhou'], dtype='object')"
      ]
     },
     "execution_count": 9,
     "metadata": {},
     "output_type": "execute_result"
    }
   ],
   "source": [
    "dataset.index"
   ]
  },
  {
   "cell_type": "markdown",
   "id": "9f4a2ea9-935c-4ab7-bb5d-5f6e485bcd35",
   "metadata": {},
   "source": [
    "<p>也可以通过列表创建DataFrame对象</p>"
   ]
  },
  {
   "cell_type": "code",
   "execution_count": 11,
   "id": "83a52692-fe8e-4431-962c-bbe3fcf2200d",
   "metadata": {},
   "outputs": [],
   "source": [
    "dfobj = pd.DataFrame([population_dict,area_dict])"
   ]
  },
  {
   "cell_type": "code",
   "execution_count": 12,
   "id": "5c0a6ac3-fb72-417e-a086-02a060d64f55",
   "metadata": {},
   "outputs": [
    {
     "data": {
      "text/html": [
       "<div>\n",
       "<style scoped>\n",
       "    .dataframe tbody tr th:only-of-type {\n",
       "        vertical-align: middle;\n",
       "    }\n",
       "\n",
       "    .dataframe tbody tr th {\n",
       "        vertical-align: top;\n",
       "    }\n",
       "\n",
       "    .dataframe thead th {\n",
       "        text-align: right;\n",
       "    }\n",
       "</style>\n",
       "<table border=\"1\" class=\"dataframe\">\n",
       "  <thead>\n",
       "    <tr style=\"text-align: right;\">\n",
       "      <th></th>\n",
       "      <th>beijing</th>\n",
       "      <th>shanghai</th>\n",
       "      <th>guangzhou</th>\n",
       "    </tr>\n",
       "  </thead>\n",
       "  <tbody>\n",
       "    <tr>\n",
       "      <th>0</th>\n",
       "      <td>3000</td>\n",
       "      <td>4000</td>\n",
       "      <td>2800</td>\n",
       "    </tr>\n",
       "    <tr>\n",
       "      <th>1</th>\n",
       "      <td>300</td>\n",
       "      <td>200</td>\n",
       "      <td>220</td>\n",
       "    </tr>\n",
       "  </tbody>\n",
       "</table>\n",
       "</div>"
      ],
      "text/plain": [
       "   beijing  shanghai  guangzhou\n",
       "0     3000      4000       2800\n",
       "1      300       200        220"
      ]
     },
     "execution_count": 12,
     "metadata": {},
     "output_type": "execute_result"
    }
   ],
   "source": [
    "dfobj"
   ]
  },
  {
   "cell_type": "markdown",
   "id": "58320eb4-4e2f-4e92-9695-15a982e221a1",
   "metadata": {},
   "source": [
    "<p>但是表的结构是会发生变化的，原来的行名称变成了列名，而列名称则转化为了默认的索引号</p>"
   ]
  },
  {
   "cell_type": "markdown",
   "id": "62229b1f-d889-4ab7-94c3-60065d718eb2",
   "metadata": {},
   "source": [
    "<p>当然，我们依旧可以像Serise那样指定索引号</p>"
   ]
  },
  {
   "cell_type": "code",
   "execution_count": 24,
   "id": "30d01c4a-8f7c-4c69-aa5b-cfc9885864b5",
   "metadata": {},
   "outputs": [],
   "source": [
    "dfobj = pd.DataFrame([population_dict,area_dict],index=['population','area'])"
   ]
  },
  {
   "cell_type": "code",
   "execution_count": 25,
   "id": "a1ff9807-e737-431f-993b-4bdafcecd4ca",
   "metadata": {},
   "outputs": [
    {
     "data": {
      "text/html": [
       "<div>\n",
       "<style scoped>\n",
       "    .dataframe tbody tr th:only-of-type {\n",
       "        vertical-align: middle;\n",
       "    }\n",
       "\n",
       "    .dataframe tbody tr th {\n",
       "        vertical-align: top;\n",
       "    }\n",
       "\n",
       "    .dataframe thead th {\n",
       "        text-align: right;\n",
       "    }\n",
       "</style>\n",
       "<table border=\"1\" class=\"dataframe\">\n",
       "  <thead>\n",
       "    <tr style=\"text-align: right;\">\n",
       "      <th></th>\n",
       "      <th>beijing</th>\n",
       "      <th>shanghai</th>\n",
       "      <th>guangzhou</th>\n",
       "    </tr>\n",
       "  </thead>\n",
       "  <tbody>\n",
       "    <tr>\n",
       "      <th>population</th>\n",
       "      <td>3000</td>\n",
       "      <td>4000</td>\n",
       "      <td>2800</td>\n",
       "    </tr>\n",
       "    <tr>\n",
       "      <th>area</th>\n",
       "      <td>300</td>\n",
       "      <td>200</td>\n",
       "      <td>220</td>\n",
       "    </tr>\n",
       "  </tbody>\n",
       "</table>\n",
       "</div>"
      ],
      "text/plain": [
       "            beijing  shanghai  guangzhou\n",
       "population     3000      4000       2800\n",
       "area            300       200        220"
      ]
     },
     "execution_count": 25,
     "metadata": {},
     "output_type": "execute_result"
    }
   ],
   "source": [
    "dfobj"
   ]
  },
  {
   "cell_type": "markdown",
   "id": "a8d52df7-bbf7-4d4e-a8e1-c4ee9c3b4af9",
   "metadata": {},
   "source": [
    "<p>或者指定columns</p>"
   ]
  },
  {
   "cell_type": "code",
   "execution_count": 26,
   "id": "e58b5042-7574-461c-8b7c-d0a98f651255",
   "metadata": {},
   "outputs": [],
   "source": [
    "population_series=pd.Series(population_dict)"
   ]
  },
  {
   "cell_type": "code",
   "execution_count": 27,
   "id": "43322ac1-0f82-458f-9efc-7ff6bc45dc87",
   "metadata": {},
   "outputs": [
    {
     "data": {
      "text/html": [
       "<div>\n",
       "<style scoped>\n",
       "    .dataframe tbody tr th:only-of-type {\n",
       "        vertical-align: middle;\n",
       "    }\n",
       "\n",
       "    .dataframe tbody tr th {\n",
       "        vertical-align: top;\n",
       "    }\n",
       "\n",
       "    .dataframe thead th {\n",
       "        text-align: right;\n",
       "    }\n",
       "</style>\n",
       "<table border=\"1\" class=\"dataframe\">\n",
       "  <thead>\n",
       "    <tr style=\"text-align: right;\">\n",
       "      <th></th>\n",
       "      <th>0</th>\n",
       "    </tr>\n",
       "  </thead>\n",
       "  <tbody>\n",
       "    <tr>\n",
       "      <th>beijing</th>\n",
       "      <td>3000</td>\n",
       "    </tr>\n",
       "    <tr>\n",
       "      <th>shanghai</th>\n",
       "      <td>4000</td>\n",
       "    </tr>\n",
       "    <tr>\n",
       "      <th>guangzhou</th>\n",
       "      <td>2800</td>\n",
       "    </tr>\n",
       "  </tbody>\n",
       "</table>\n",
       "</div>"
      ],
      "text/plain": [
       "              0\n",
       "beijing    3000\n",
       "shanghai   4000\n",
       "guangzhou  2800"
      ]
     },
     "execution_count": 27,
     "metadata": {},
     "output_type": "execute_result"
    }
   ],
   "source": [
    "pd.DataFrame(population_series)"
   ]
  },
  {
   "cell_type": "code",
   "execution_count": 34,
   "id": "97eada79-a98d-4edf-b05c-78a6bd473082",
   "metadata": {},
   "outputs": [
    {
     "data": {
      "text/html": [
       "<div>\n",
       "<style scoped>\n",
       "    .dataframe tbody tr th:only-of-type {\n",
       "        vertical-align: middle;\n",
       "    }\n",
       "\n",
       "    .dataframe tbody tr th {\n",
       "        vertical-align: top;\n",
       "    }\n",
       "\n",
       "    .dataframe thead th {\n",
       "        text-align: right;\n",
       "    }\n",
       "</style>\n",
       "<table border=\"1\" class=\"dataframe\">\n",
       "  <thead>\n",
       "    <tr style=\"text-align: right;\">\n",
       "      <th></th>\n",
       "      <th>population</th>\n",
       "    </tr>\n",
       "  </thead>\n",
       "  <tbody>\n",
       "    <tr>\n",
       "      <th>beijing</th>\n",
       "      <td>3000</td>\n",
       "    </tr>\n",
       "    <tr>\n",
       "      <th>shanghai</th>\n",
       "      <td>4000</td>\n",
       "    </tr>\n",
       "    <tr>\n",
       "      <th>guangzhou</th>\n",
       "      <td>2800</td>\n",
       "    </tr>\n",
       "  </tbody>\n",
       "</table>\n",
       "</div>"
      ],
      "text/plain": [
       "           population\n",
       "beijing          3000\n",
       "shanghai         4000\n",
       "guangzhou        2800"
      ]
     },
     "execution_count": 34,
     "metadata": {},
     "output_type": "execute_result"
    }
   ],
   "source": [
    "population_series=pd.Series(population_dict)\n",
    "pd.DataFrame(population_series,columns=['population'])"
   ]
  },
  {
   "cell_type": "code",
   "execution_count": null,
   "id": "042918fe-d8ba-4367-a3fc-6c29ef673b72",
   "metadata": {},
   "outputs": [],
   "source": []
  }
 ],
 "metadata": {
  "kernelspec": {
   "display_name": "Python 3 (ipykernel)",
   "language": "python",
   "name": "python3"
  },
  "language_info": {
   "codemirror_mode": {
    "name": "ipython",
    "version": 3
   },
   "file_extension": ".py",
   "mimetype": "text/x-python",
   "name": "python",
   "nbconvert_exporter": "python",
   "pygments_lexer": "ipython3",
   "version": "3.9.7"
  }
 },
 "nbformat": 4,
 "nbformat_minor": 5
}
