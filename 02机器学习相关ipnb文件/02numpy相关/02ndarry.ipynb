{
 "cells": [
  {
   "cell_type": "code",
   "execution_count": 1,
   "id": "edc7d43e-551e-4f64-8560-0534e5e6a23b",
   "metadata": {},
   "outputs": [
    {
     "data": {
      "text/html": [
       "<style type=\"text/css\">\n",
       "    h1{\n",
       "        color:#FE7E00;\n",
       "        font-weight:bold;\n",
       "    }\n",
       "    h2{\n",
       "        color:#0D47A1;\n",
       "        # font-weight:bold;\n",
       "    }\n",
       "    h3{\n",
       "        color:#408080;\n",
       "    }\n",
       "    th{\n",
       "        border:1px solid black !important;\n",
       "        color:white !important;\n",
       "        background-color:#FE7E00 !important;\n",
       "    }\n",
       "    # th td{\n",
       "    #     border:1px solid black;\n",
       "    # }\n",
       "    tr{\n",
       "        border:1px solid black !important;\n",
       "        border-collapse:collapse !important;\n",
       "    }\n",
       "    td{\n",
       "        border:1px solid black !important;\n",
       "    }\n",
       "    tr td:hover{\n",
       "        background-color:blueviolet !important;\n",
       "        color:white !important;\n",
       "        transform:scale(1.05)\n",
       "    }\n",
       "    .code_{\n",
       "        background-color:#1c1f2b !important;\n",
       "        color:#9dbed3 !important; \n",
       "        white-sapce:pre-wrap;\n",
       "    }\n",
       "</style>\n"
      ],
      "text/plain": [
       "<IPython.core.display.HTML object>"
      ]
     },
     "metadata": {},
     "output_type": "display_data"
    }
   ],
   "source": [
    "%%HTML\n",
    "<style type=\"text/css\">\n",
    "    h1{\n",
    "        color:#FE7E00;\n",
    "        font-weight:bold;\n",
    "    }\n",
    "    h2{\n",
    "        color:#0D47A1;\n",
    "        # font-weight:bold;\n",
    "    }\n",
    "    h3{\n",
    "        color:#408080;\n",
    "    }\n",
    "    th{\n",
    "        border:1px solid black !important;\n",
    "        color:white !important;\n",
    "        background-color:#FE7E00 !important;\n",
    "    }\n",
    "    # th td{\n",
    "    #     border:1px solid black;\n",
    "    # }\n",
    "    tr{\n",
    "        border:1px solid black !important;\n",
    "        border-collapse:collapse !important;\n",
    "    }\n",
    "    td{\n",
    "        border:1px solid black !important;\n",
    "    }\n",
    "    tr td:hover{\n",
    "        background-color:blueviolet !important;\n",
    "        color:white !important;\n",
    "        transform:scale(1.05)\n",
    "    }\n",
    "    .code_{\n",
    "        background-color:#1c1f2b !important;\n",
    "        color:#9dbed3 !important; \n",
    "        white-sapce:pre-wrap;\n",
    "    }\n",
    "</style>"
   ]
  },
  {
   "cell_type": "markdown",
   "id": "d82fa675-1629-432c-b7af-03c317205e3b",
   "metadata": {},
   "source": [
    "<h1>N维数组-ndarray</h1>\n",
    "<p class=\"dsc\">所谓ndarry就是n dimission arry,即n维数组</p>\n",
    "<h2>1学习目标</h2>\n",
    "<ul>\n",
    "    <li>说明数组的属性，形状，类型</li>\n",
    "</ul>"
   ]
  },
  {
   "cell_type": "markdown",
   "id": "3ce0f1bc-e404-4bd9-8859-f98be63785ac",
   "metadata": {},
   "source": [
    "<h2>2数组的属性</h2>"
   ]
  },
  {
   "cell_type": "markdown",
   "id": "14861a0a-96f1-4438-a662-ddd1b16d088b",
   "metadata": {},
   "source": [
    "<table>\n",
    "<thead>\n",
    "<tr class=\"tline\">\n",
    "<th style=\"text-align:center\">属性名字</th>\n",
    "<th style=\"text-align:center\">属性解释</th>\n",
    "</tr>\n",
    "</thead>\n",
    "<tbody>\n",
    "<tr class=\"tline\">\n",
    "<td style=\"text-align:center\"><strong>ndarray.shape</strong></td>\n",
    "<td style=\"text-align:center\">数组维度的元组</td>\n",
    "</tr>\n",
    "<tr class=\"tline\">\n",
    "<td style=\"text-align:center\">ndarray.ndim</td>\n",
    "<td style=\"text-align:center\">数组维数</td>\n",
    "</tr>\n",
    "<tr class=\"tline\">\n",
    "<td style=\"text-align:center\">ndarray.size</td>\n",
    "<td style=\"text-align:center\">数组中的元素数量</td>\n",
    "</tr>\n",
    "<tr class=\"tline\">\n",
    "<td style=\"text-align:center\">ndarray.itemsize</td>\n",
    "<td style=\"text-align:center\">一个数组元素的长度（字节）</td>\n",
    "</tr>\n",
    "<tr class=\"tline\">\n",
    "<td style=\"text-align:center\"><strong>ndarray.dtype</strong></td>\n",
    "<td style=\"text-align:center\">数组元素的类型</td>\n",
    "</tr>\n",
    "</tbody>\n",
    "</table>"
   ]
  },
  {
   "cell_type": "code",
   "execution_count": null,
   "id": "a67b9865-2772-45a4-83cf-8d8ba916faea",
   "metadata": {},
   "outputs": [],
   "source": [
    "# 导入numpy模块\n",
    "import numpy as np"
   ]
  },
  {
   "cell_type": "code",
   "execution_count": null,
   "id": "722fae99-ec51-4624-aad5-2609f74aad33",
   "metadata": {},
   "outputs": [],
   "source": [
    "# 创建数组\n",
    "score = np.array(\n",
    "    [[80, 89, 86, 67, 79],\n",
    "    [78, 97, 89, 67, 81],\n",
    "    [90, 94, 78, 67, 74],\n",
    "    [91, 91, 90, 67, 69],\n",
    "    [76, 87, 75, 67, 86],\n",
    "    [70, 79, 84, 67, 84],\n",
    "    [94, 92, 93, 67, 64],\n",
    "    [86, 85, 83, 67, 80]]\n",
    ")"
   ]
  },
  {
   "cell_type": "code",
   "execution_count": 15,
   "id": "aadca002-e5ac-4150-a0ca-77aab132c268",
   "metadata": {},
   "outputs": [
    {
     "data": {
      "text/plain": [
       "(8, 5)"
      ]
     },
     "execution_count": 15,
     "metadata": {},
     "output_type": "execute_result"
    }
   ],
   "source": [
    "score\n",
    "score.shape #输出数组的形状，第一个代表行数第二个数字代表列数"
   ]
  },
  {
   "cell_type": "code",
   "execution_count": 16,
   "id": "6d2b02d2-e992-4144-8696-a41c3d722a17",
   "metadata": {},
   "outputs": [
    {
     "data": {
      "text/plain": [
       "2"
      ]
     },
     "execution_count": 16,
     "metadata": {},
     "output_type": "execute_result"
    }
   ],
   "source": [
    "score.ndim #输出数组的维数即n dimmision 显示的数字2即为二维数组"
   ]
  },
  {
   "cell_type": "code",
   "execution_count": 18,
   "id": "37cdf129-50b0-4879-ba84-1e170f1c9461",
   "metadata": {},
   "outputs": [
    {
     "data": {
      "text/plain": [
       "40"
      ]
     },
     "execution_count": 18,
     "metadata": {},
     "output_type": "execute_result"
    }
   ],
   "source": [
    "score.size #显示元素的数量"
   ]
  },
  {
   "cell_type": "code",
   "execution_count": 19,
   "id": "9d99274d-44d4-414d-9f93-7ef306abac8b",
   "metadata": {},
   "outputs": [
    {
     "data": {
      "text/plain": [
       "8"
      ]
     },
     "execution_count": 19,
     "metadata": {},
     "output_type": "execute_result"
    }
   ],
   "source": [
    "score.itemsize #每个元素的字节大小"
   ]
  },
  {
   "cell_type": "code",
   "execution_count": 20,
   "id": "84c1933b-9480-4143-b43f-16021e3b7485",
   "metadata": {},
   "outputs": [
    {
     "data": {
      "text/plain": [
       "dtype('int64')"
      ]
     },
     "execution_count": 20,
     "metadata": {},
     "output_type": "execute_result"
    }
   ],
   "source": [
    "score.dtype #显示数组的类型"
   ]
  },
  {
   "cell_type": "markdown",
   "id": "324ffba1-07b9-45ad-a93d-3ccd8d55ee39",
   "metadata": {},
   "source": [
    "<h2>3数组的形状</h2>"
   ]
  },
  {
   "cell_type": "markdown",
   "id": "90822055-ad39-4884-bfd2-efeb97f0975a",
   "metadata": {},
   "source": [
    "<img src=\"./imgs/数组2.png\">"
   ]
  },
  {
   "cell_type": "code",
   "execution_count": 34,
   "id": "0c876bfa-ee8c-4f37-a3c8-806f78e7c893",
   "metadata": {},
   "outputs": [],
   "source": [
    "# 创建不同形状的数组\n",
    "a1 = np.array([1,3,5]) #一维数组\n",
    "a2 = np.array([[1,2],[4,5]]) #二维数组\n",
    "a3 = np.array([[[1,2,3],[5,6,7]],[[4,8,9],[2,2,5]]]) #三维数组\n",
    "# 看有几个中括号就是几维数组"
   ]
  },
  {
   "cell_type": "code",
   "execution_count": 35,
   "id": "c014b7a1-9cba-4cb8-a2ae-f8bb11774e7a",
   "metadata": {},
   "outputs": [
    {
     "name": "stdout",
     "output_type": "stream",
     "text": [
      "[1 3 5]\n"
     ]
    },
    {
     "data": {
      "text/plain": [
       "(3,)"
      ]
     },
     "execution_count": 35,
     "metadata": {},
     "output_type": "execute_result"
    }
   ],
   "source": [
    "print(a1)\n",
    "a1.shape #1行3列的一个一维数组"
   ]
  },
  {
   "cell_type": "code",
   "execution_count": 36,
   "id": "a1308d6b-2e37-4d8d-9bc4-957703771bca",
   "metadata": {},
   "outputs": [
    {
     "name": "stdout",
     "output_type": "stream",
     "text": [
      "[[1 2]\n",
      " [4 5]]\n"
     ]
    },
    {
     "data": {
      "text/plain": [
       "(2, 2)"
      ]
     },
     "execution_count": 36,
     "metadata": {},
     "output_type": "execute_result"
    }
   ],
   "source": [
    "print(a2)\n",
    "a2.shape #2行2列两个2维数组组成的一个二维数组,其中每个数组中又有两个元素"
   ]
  },
  {
   "cell_type": "code",
   "execution_count": 37,
   "id": "f7d68c8a-13d5-4ab9-9f65-da1bcd3c5703",
   "metadata": {},
   "outputs": [
    {
     "name": "stdout",
     "output_type": "stream",
     "text": [
      "[[[1 2 3]\n",
      "  [5 6 7]]\n",
      "\n",
      " [[4 8 9]\n",
      "  [2 2 5]]]\n"
     ]
    },
    {
     "data": {
      "text/plain": [
       "(2, 2, 3)"
      ]
     },
     "execution_count": 37,
     "metadata": {},
     "output_type": "execute_result"
    }
   ],
   "source": [
    "print(a3)\n",
    "a3.shape #3维数组就是二维数组的叠加 \n",
    "# 如何理解223？两个二维数组,两个二维数组之中每个数组有两个一维数组,两个一维数组中有三个数据"
   ]
  },
  {
   "cell_type": "markdown",
   "id": "d9b192f7-d4f2-4428-94ac-03057cc15e44",
   "metadata": {},
   "source": [
    "<h2>4ndarry的类型</h2>"
   ]
  },
  {
   "cell_type": "markdown",
   "id": "cb4381a9-a6eb-4df6-8891-9031f84be786",
   "metadata": {},
   "source": [
    "<table>\n",
    "<thead>\n",
    "<tr class=\"tline\">\n",
    "<th style=\"text-align:center\">名称</th>\n",
    "<th style=\"text-align:center\">描述</th>\n",
    "<th style=\"text-align:center\">简写</th>\n",
    "</tr>\n",
    "</thead>\n",
    "<tbody>\n",
    "<tr class=\"tline\">\n",
    "<td style=\"text-align:center\">np.bool</td>\n",
    "<td style=\"text-align:center\">用一个字节存储的布尔类型（True或False）</td>\n",
    "<td style=\"text-align:center\">'b'</td>\n",
    "</tr>\n",
    "<tr class=\"tline\">\n",
    "<td style=\"text-align:center\">np.int8</td>\n",
    "<td style=\"text-align:center\">一个字节大小，-128 至 127</td>\n",
    "<td style=\"text-align:center\">'i'</td>\n",
    "</tr>\n",
    "<tr class=\"tline\">\n",
    "<td style=\"text-align:center\">np.int16</td>\n",
    "<td style=\"text-align:center\">整数，-32768 至 32767</td>\n",
    "<td style=\"text-align:center\">'i2'</td>\n",
    "</tr>\n",
    "<tr class=\"tline\">\n",
    "<td style=\"text-align:center\">np.int32</td>\n",
    "<td style=\"text-align:center\">整数，-2^31​ 至 2^32 -1</td>\n",
    "<td style=\"text-align:center\">'i4'</td>\n",
    "</tr>\n",
    "<tr class=\"tline\">\n",
    "<td style=\"text-align:center\">np.int64</td>\n",
    "<td style=\"text-align:center\">整数，-2^63 至 2^63 - 1</td>\n",
    "<td style=\"text-align:center\">'i8'</td>\n",
    "</tr>\n",
    "<tr class=\"tline\">\n",
    "<td style=\"text-align:center\">np.uint8</td>\n",
    "<td style=\"text-align:center\">无符号整数，0 至 255</td>\n",
    "<td style=\"text-align:center\">'u'</td>\n",
    "</tr>\n",
    "<tr class=\"tline\">\n",
    "<td style=\"text-align:center\">np.uint16</td>\n",
    "<td style=\"text-align:center\">无符号整数，0 至 65535</td>\n",
    "<td style=\"text-align:center\">'u2'</td>\n",
    "</tr>\n",
    "<tr class=\"tline\">\n",
    "<td style=\"text-align:center\">np.uint32</td>\n",
    "<td style=\"text-align:center\">无符号整数，0 至 2^32 - 1</td>\n",
    "<td style=\"text-align:center\">'u4'</td>\n",
    "</tr>\n",
    "<tr class=\"tline\">\n",
    "<td style=\"text-align:center\">np.uint64</td>\n",
    "<td style=\"text-align:center\">无符号整数，0 至 2^64 - 1</td>\n",
    "<td style=\"text-align:center\">'u8'</td>\n",
    "</tr>\n",
    "<tr class=\"tline\">\n",
    "<td style=\"text-align:center\">np.float16</td>\n",
    "<td style=\"text-align:center\">半精度浮点数：16位，正负号1位，指数5位，精度10位</td>\n",
    "<td style=\"text-align:center\">'f2'</td>\n",
    "</tr>\n",
    "<tr class=\"tline\">\n",
    "<td style=\"text-align:center\">np.float32</td>\n",
    "<td style=\"text-align:center\">单精度浮点数：32位，正负号1位，指数8位，精度23位</td>\n",
    "<td style=\"text-align:center\">'f4'</td>\n",
    "</tr>\n",
    "<tr class=\"tline\">\n",
    "<td style=\"text-align:center\">np.float64</td>\n",
    "<td style=\"text-align:center\">双精度浮点数：64位，正负号1位，指数11位，精度52位</td>\n",
    "<td style=\"text-align:center\">'f8'</td>\n",
    "</tr>\n",
    "<tr class=\"tline\">\n",
    "<td style=\"text-align:center\">np.complex64</td>\n",
    "<td style=\"text-align:center\">复数，分别用两个32位浮点数表示实部和虚部</td>\n",
    "<td style=\"text-align:center\">'c8'</td>\n",
    "</tr>\n",
    "<tr class=\"tline\">\n",
    "<td style=\"text-align:center\">np.complex128</td>\n",
    "<td style=\"text-align:center\">复数，分别用两个64位浮点数表示实部和虚部</td>\n",
    "<td style=\"text-align:center\">'c16'</td>\n",
    "</tr>\n",
    "<tr class=\"tline\">\n",
    "<td style=\"text-align:center\">np.object_</td>\n",
    "<td style=\"text-align:center\">python对象</td>\n",
    "<td style=\"text-align:center\">'O'</td>\n",
    "</tr>\n",
    "<tr class=\"tline\">\n",
    "<td style=\"text-align:center\">np.str_</td>\n",
    "<td style=\"text-align:center\">字符串</td>\n",
    "<td style=\"text-align:center\">'S'</td>\n",
    "</tr>\n",
    "<tr class=\"tline\">\n",
    "<td style=\"text-align:center\">np.unicode_</td>\n",
    "<td style=\"text-align:center\">unicode类型</td>\n",
    "<td style=\"text-align:center\">'U'</td>\n",
    "</tr>\n",
    "</tbody>\n",
    "</table>"
   ]
  },
  {
   "cell_type": "markdown",
   "id": "6cd97631-9900-4d14-8fe7-6d7258cc740d",
   "metadata": {},
   "source": [
    "<p>创建数组指定的类型</p>"
   ]
  },
  {
   "cell_type": "code",
   "execution_count": 61,
   "id": "f994330a-2522-4694-9c3a-2652c0bde58c",
   "metadata": {},
   "outputs": [],
   "source": [
    "arr1 = np.array([[1,2,3],[4,5,6]],dtype=np.float32)"
   ]
  },
  {
   "cell_type": "code",
   "execution_count": 63,
   "id": "b47887dc-e48a-4d74-8405-4bfea424e9bd",
   "metadata": {},
   "outputs": [
    {
     "data": {
      "text/plain": [
       "dtype('float32')"
      ]
     },
     "execution_count": 63,
     "metadata": {},
     "output_type": "execute_result"
    }
   ],
   "source": [
    "arr1.dtype #指定类型成功，确实是我们指定的类型"
   ]
  },
  {
   "cell_type": "code",
   "execution_count": 70,
   "id": "333591a6-6dea-4de1-8ba4-2e793b4782f6",
   "metadata": {},
   "outputs": [],
   "source": [
    "strarr = np.array([['python','java','c'],['javascript','r','jula']],dtype=np.str_)"
   ]
  },
  {
   "cell_type": "code",
   "execution_count": 73,
   "id": "69999c24-f47b-4ecb-bb3d-165d7f44ce70",
   "metadata": {},
   "outputs": [
    {
     "name": "stdout",
     "output_type": "stream",
     "text": [
      "[['python' 'java' 'c']\n",
      " ['javascript' 'r' 'jula']]\n"
     ]
    },
    {
     "data": {
      "text/plain": [
       "dtype('<U10')"
      ]
     },
     "execution_count": 73,
     "metadata": {},
     "output_type": "execute_result"
    }
   ],
   "source": [
    "\n",
    "print(strarr)\n",
    "strarr.dtype"
   ]
  },
  {
   "cell_type": "code",
   "execution_count": null,
   "id": "74d1ee2d-edd6-459c-ba50-fce6df6bba52",
   "metadata": {},
   "outputs": [],
   "source": []
  }
 ],
 "metadata": {
  "kernelspec": {
   "display_name": "Python 3 (ipykernel)",
   "language": "python",
   "name": "python3"
  },
  "language_info": {
   "codemirror_mode": {
    "name": "ipython",
    "version": 3
   },
   "file_extension": ".py",
   "mimetype": "text/x-python",
   "name": "python",
   "nbconvert_exporter": "python",
   "pygments_lexer": "ipython3",
   "version": "3.9.7"
  }
 },
 "nbformat": 4,
 "nbformat_minor": 5
}
