{
 "cells": [
  {
   "cell_type": "code",
   "execution_count": 1,
   "id": "4d133f88-86c2-431f-870b-3b28389dd841",
   "metadata": {},
   "outputs": [
    {
     "data": {
      "text/html": [
       "<style type=\"text/css\">\n",
       "    h1{\n",
       "        color:#FE7E00;\n",
       "        font-weight:bold;\n",
       "    }\n",
       "    h2{\n",
       "        color:#0D47A1;\n",
       "        # font-weight:bold;\n",
       "    }\n",
       "    h3{\n",
       "        color:#408080;\n",
       "    }\n",
       "    th{\n",
       "        border:1px solid black !important;\n",
       "        color:white !important;\n",
       "        background-color:#FE7E00 !important;\n",
       "    }\n",
       "    # th td{\n",
       "    #     border:1px solid black;\n",
       "    # }\n",
       "    tr{\n",
       "        border:1px solid black !important;\n",
       "        border-collapse:collapse !important;\n",
       "    }\n",
       "    td{\n",
       "        border:1px solid black !important;\n",
       "    }\n",
       "    tr td:hover{\n",
       "        background-color:blueviolet !important;\n",
       "        color:white !important;\n",
       "        transform:scale(1.05)\n",
       "    }\n",
       "    .code_{\n",
       "        background-color:#1c1f2b !important;\n",
       "        color:#9dbed3 !important; \n",
       "        white-sapce:pre-wrap;\n",
       "    }\n",
       "</style>\n"
      ],
      "text/plain": [
       "<IPython.core.display.HTML object>"
      ]
     },
     "metadata": {},
     "output_type": "display_data"
    }
   ],
   "source": [
    "%%HTML\n",
    "<style type=\"text/css\">\n",
    "    h1{\n",
    "        color:#FE7E00;\n",
    "        font-weight:bold;\n",
    "    }\n",
    "    h2{\n",
    "        color:#0D47A1;\n",
    "        # font-weight:bold;\n",
    "    }\n",
    "    h3{\n",
    "        color:#408080;\n",
    "    }\n",
    "    th{\n",
    "        border:1px solid black !important;\n",
    "        color:white !important;\n",
    "        background-color:#FE7E00 !important;\n",
    "    }\n",
    "    # th td{\n",
    "    #     border:1px solid black;\n",
    "    # }\n",
    "    tr{\n",
    "        border:1px solid black !important;\n",
    "        border-collapse:collapse !important;\n",
    "    }\n",
    "    td{\n",
    "        border:1px solid black !important;\n",
    "    }\n",
    "    tr td:hover{\n",
    "        background-color:blueviolet !important;\n",
    "        color:white !important;\n",
    "        transform:scale(1.05)\n",
    "    }\n",
    "    .code_{\n",
    "        background-color:#1c1f2b !important;\n",
    "        color:#9dbed3 !important; \n",
    "        white-sapce:pre-wrap;\n",
    "    }\n",
    "</style>"
   ]
  },
  {
   "cell_type": "markdown",
   "id": "b7eadbf7-2467-4c6a-8c7b-b3dffc19b8af",
   "metadata": {},
   "source": [
    "<h2>4.4ndarry运算</h2>"
   ]
  },
  {
   "cell_type": "markdown",
   "id": "0294faae-ccef-46e6-a91b-fccc6f265a5e",
   "metadata": {},
   "source": [
    "<p>学习目标</p>"
   ]
  },
  {
   "cell_type": "markdown",
   "id": "c70ec589-9fa0-4835-8f4a-4fd8d5325a3f",
   "metadata": {},
   "source": [
    "<ul>\n",
    "    <li>应用数组的通用判断函数</li>\n",
    "    <li>应用np.where实现数组的三元运算</li>\n",
    "</ul>"
   ]
  },
  {
   "cell_type": "markdown",
   "id": "6b99af8a-351d-4921-8b8c-3b40f9a0425f",
   "metadata": {},
   "source": [
    "<p>问题:如果想要操作符合某一条件的数据，应该怎么做?</p>"
   ]
  },
  {
   "cell_type": "code",
   "execution_count": 2,
   "id": "de827ef7-a2be-4642-8500-4252feb85e0e",
   "metadata": {},
   "outputs": [],
   "source": [
    "import numpy as np"
   ]
  },
  {
   "cell_type": "markdown",
   "id": "6129fb1b-93a1-44b4-9d40-53039cfcd047",
   "metadata": {},
   "source": [
    "<h2>1逻辑运算</h2>"
   ]
  },
  {
   "cell_type": "code",
   "execution_count": 3,
   "id": "4076048a-c563-43e1-9ac5-8d0e8bfa0405",
   "metadata": {},
   "outputs": [
    {
     "data": {
      "text/plain": [
       "array([[99, 74, 93, 73, 81],\n",
       "       [97, 61, 76, 60, 53],\n",
       "       [60, 70, 55, 91, 96],\n",
       "       [91, 74, 66, 47, 94],\n",
       "       [46, 74, 89, 72, 90],\n",
       "       [68, 57, 76, 50, 59],\n",
       "       [98, 42, 74, 77, 79],\n",
       "       [59, 65, 42, 99, 66],\n",
       "       [65, 85, 98, 81, 56],\n",
       "       [86, 97, 71, 91, 68]], dtype=int32)"
      ]
     },
     "execution_count": 3,
     "metadata": {},
     "output_type": "execute_result"
    }
   ],
   "source": [
    "score = np.random.randint(40,100,(10,5)) #十名同学五门成绩的数组\n",
    "score"
   ]
  },
  {
   "cell_type": "code",
   "execution_count": 4,
   "id": "612d2302-3648-43c5-a049-529bc43e411b",
   "metadata": {},
   "outputs": [
    {
     "data": {
      "text/plain": [
       "array([[98, 42, 74, 77, 79],\n",
       "       [59, 65, 42, 99, 66],\n",
       "       [65, 85, 98, 81, 56],\n",
       "       [86, 97, 71, 91, 68]], dtype=int32)"
      ]
     },
     "execution_count": 4,
     "metadata": {},
     "output_type": "execute_result"
    }
   ],
   "source": [
    "# 取出最后四名同学的成绩用于逻辑判断\n",
    "test_score = score[6:,:]\n",
    "test_score"
   ]
  },
  {
   "cell_type": "code",
   "execution_count": 5,
   "id": "1b4a89c3-b34f-4cfa-95ba-d403ec99ee0b",
   "metadata": {},
   "outputs": [
    {
     "data": {
      "text/plain": [
       "array([[ True, False,  True,  True,  True],\n",
       "       [False,  True, False,  True,  True],\n",
       "       [ True,  True,  True,  True, False],\n",
       "       [ True,  True,  True,  True,  True]])"
      ]
     },
     "execution_count": 5,
     "metadata": {},
     "output_type": "execute_result"
    }
   ],
   "source": [
    "# 如果成绩大于60就标记为True,否则标记为False\n",
    "test_score>60"
   ]
  },
  {
   "cell_type": "code",
   "execution_count": 6,
   "id": "84872341-380b-429d-a124-681de3c8f987",
   "metadata": {},
   "outputs": [
    {
     "data": {
      "text/plain": [
       "array([[ 1, 42,  1,  1,  1],\n",
       "       [59,  1, 42,  1,  1],\n",
       "       [ 1,  1,  1,  1, 56],\n",
       "       [ 1,  1,  1,  1,  1]], dtype=int32)"
      ]
     },
     "execution_count": 6,
     "metadata": {},
     "output_type": "execute_result"
    }
   ],
   "source": [
    "# 布尔赋值将满足条件的设置为指定的值\n",
    "test_score[test_score>60]=1\n",
    "test_score"
   ]
  },
  {
   "cell_type": "markdown",
   "id": "c34a8cc1-ac87-4830-8bf1-8165bb0c2eee",
   "metadata": {},
   "source": [
    "<h2>2通用判断函数</h2>"
   ]
  },
  {
   "cell_type": "markdown",
   "id": "7422d3e6-6ff8-4213-9902-97ce79e998d2",
   "metadata": {},
   "source": [
    "<p>np.all()</p>"
   ]
  },
  {
   "cell_type": "code",
   "execution_count": 7,
   "id": "999a1a5f-075e-41b1-97e3-c68473274293",
   "metadata": {},
   "outputs": [
    {
     "data": {
      "text/plain": [
       "np.False_"
      ]
     },
     "execution_count": 7,
     "metadata": {},
     "output_type": "execute_result"
    }
   ],
   "source": [
    "np.all(score[0:2,:]>60) #判断前两个同学的分数是否及格"
   ]
  },
  {
   "cell_type": "markdown",
   "id": "ce4dac74-4cd8-4650-ab83-9ce0ce81b300",
   "metadata": {},
   "source": [
    "<p>判断是否有分数大于90的人</p>"
   ]
  },
  {
   "cell_type": "code",
   "execution_count": 8,
   "id": "5b92dd9a-98de-4080-a9a1-e073cf4d4659",
   "metadata": {},
   "outputs": [
    {
     "data": {
      "text/plain": [
       "np.True_"
      ]
     },
     "execution_count": 8,
     "metadata": {},
     "output_type": "execute_result"
    }
   ],
   "source": [
    "np.any(score>90)"
   ]
  },
  {
   "cell_type": "code",
   "execution_count": 9,
   "id": "396fc6c8-ff0a-40d9-9310-e347e64647ac",
   "metadata": {},
   "outputs": [
    {
     "data": {
      "text/plain": [
       "array([[99, 74, 93, 73, 81],\n",
       "       [97, 61, 76, 60, 53],\n",
       "       [60, 70, 55, 91, 96],\n",
       "       [91, 74, 66, 47, 94],\n",
       "       [46, 74, 89, 72, 90],\n",
       "       [68, 57, 76, 50, 59],\n",
       "       [ 1, 42,  1,  1,  1],\n",
       "       [59,  1, 42,  1,  1],\n",
       "       [ 1,  1,  1,  1, 56],\n",
       "       [ 1,  1,  1,  1,  1]], dtype=int32)"
      ]
     },
     "execution_count": 9,
     "metadata": {},
     "output_type": "execute_result"
    }
   ],
   "source": [
    "score"
   ]
  },
  {
   "cell_type": "code",
   "execution_count": 10,
   "id": "437575a0-85a8-4c2a-9ec0-26cc0727bd46",
   "metadata": {},
   "outputs": [],
   "source": [
    "# 发现确实有大于90的人"
   ]
  },
  {
   "cell_type": "markdown",
   "id": "07de0243-98e5-437f-adcd-b05d01f6bcba",
   "metadata": {},
   "source": [
    "<h2>3 三元运算符</h2>"
   ]
  },
  {
   "cell_type": "markdown",
   "id": "94f6fce8-c6c6-4ebc-9411-24e57b4c503a",
   "metadata": {},
   "source": [
    "<p>np.where()</p>"
   ]
  },
  {
   "cell_type": "code",
   "execution_count": 11,
   "id": "ca266d43-838c-47d4-bfd7-b17e0156f558",
   "metadata": {},
   "outputs": [
    {
     "data": {
      "text/plain": [
       "array([[1, 1, 1, 1],\n",
       "       [1, 1, 1, 0],\n",
       "       [0, 1, 0, 1],\n",
       "       [1, 1, 1, 0]])"
      ]
     },
     "execution_count": 11,
     "metadata": {},
     "output_type": "execute_result"
    }
   ],
   "source": [
    "temp = score[:4,:4] #判断前4名同学的成绩中的前四门成绩有没有大于60的\n",
    "np.where(temp>60,1,0) #如果有大于60分的就返回1如果没有就返回0"
   ]
  },
  {
   "cell_type": "markdown",
   "id": "cfeb522c-e19d-48f4-9a8e-62e41dd31e79",
   "metadata": {},
   "source": [
    "<p>复合逻辑需要结合np.logical_and和logical_or使用</p>"
   ]
  },
  {
   "cell_type": "code",
   "execution_count": 12,
   "id": "f165ae87-356d-491f-bc6f-096dec4457d1",
   "metadata": {},
   "outputs": [
    {
     "data": {
      "text/plain": [
       "array([[0, 1, 0, 1],\n",
       "       [0, 1, 1, 0],\n",
       "       [0, 1, 0, 0],\n",
       "       [0, 1, 1, 0]])"
      ]
     },
     "execution_count": 12,
     "metadata": {},
     "output_type": "execute_result"
    }
   ],
   "source": [
    "# 判断前四名学生中前四门的课程中成绩大于60且小于90的设为1否则为0\n",
    "np.where(np.logical_and(temp>60,temp<90),1,0)"
   ]
  },
  {
   "cell_type": "code",
   "execution_count": 13,
   "id": "1cd1605c-b506-4c56-bb08-3935d62f2b76",
   "metadata": {},
   "outputs": [
    {
     "data": {
      "text/plain": [
       "array([[1, 0, 1, 0],\n",
       "       [1, 0, 0, 0],\n",
       "       [0, 0, 1, 1],\n",
       "       [1, 0, 0, 1]])"
      ]
     },
     "execution_count": 13,
     "metadata": {},
     "output_type": "execute_result"
    }
   ],
   "source": [
    "# 判断成绩<60或成绩>90的,如果满足设置为1否则设置为0\n",
    "np.where(np.logical_or(temp<60,temp>90 ),1,0)"
   ]
  },
  {
   "cell_type": "markdown",
   "id": "09e89b45-0887-4a9e-a659-cd03dc19e638",
   "metadata": {},
   "source": [
    "<h2>统计运算</h2>"
   ]
  },
  {
   "cell_type": "code",
   "execution_count": 14,
   "id": "9f23b920-3fcf-479c-91a0-7590db6e68c8",
   "metadata": {},
   "outputs": [
    {
     "name": "stdout",
     "output_type": "stream",
     "text": [
      "前四名学生，各科成绩的最高分[99 74 93 91 96]\n",
      "前四名学生，各科成绩的最低分[60 61 55 47 53]\n",
      "前四名学生,各科成绩的波动情况[15.72219768  5.30919015 13.97318861 16.2692194  17.1610023 ]\n",
      "前四名学生,各科成绩的平均分[86.75 69.75 72.5  67.75 81.  ]\n"
     ]
    }
   ],
   "source": [
    "# 对前四名学生进行一些统计运算\n",
    "temp=score[:4,0:5]\n",
    "print(f'前四名学生，各科成绩的最高分{np.max(temp,axis=0)}')\n",
    "print(f'前四名学生，各科成绩的最低分{np.min(temp,axis=0)}')\n",
    "print(f'前四名学生,各科成绩的波动情况{np.std(temp,axis=0)}')\n",
    "print(f'前四名学生,各科成绩的平均分{np.mean(temp,axis=0)}')"
   ]
  },
  {
   "cell_type": "code",
   "execution_count": 15,
   "id": "da211082-f677-43fc-9c86-ff582307cd38",
   "metadata": {},
   "outputs": [
    {
     "data": {
      "text/plain": [
       "array([0, 0, 0, 2, 2])"
      ]
     },
     "execution_count": 15,
     "metadata": {},
     "output_type": "execute_result"
    }
   ],
   "source": [
    "# 如果需要统计出某科最高分对应的是哪个同学?\n",
    "np.argmax(temp,axis=0)"
   ]
  },
  {
   "cell_type": "code",
   "execution_count": 16,
   "id": "890f3bce-a23d-4018-adf9-9c82db63dfed",
   "metadata": {},
   "outputs": [
    {
     "data": {
      "text/plain": [
       "array([2, 1, 2, 3, 1])"
      ]
     },
     "execution_count": 16,
     "metadata": {},
     "output_type": "execute_result"
    }
   ],
   "source": [
    "np.argmin(temp,axis=0)"
   ]
  },
  {
   "cell_type": "markdown",
   "id": "c2158f36-5bca-4372-9b8c-b7f350c1672e",
   "metadata": {},
   "source": [
    "<h2>4.5数组间运算</h2>"
   ]
  },
  {
   "cell_type": "markdown",
   "id": "8ffeeb0d-0871-41bb-9df9-3b5c28e754ec",
   "metadata": {},
   "source": [
    "<p>目标</p>\n",
    "<ul>\n",
    "    <li>知道数组与数之间的运算</li>\n",
    "    <li>知道数组与数组之间的运算</li>\n",
    "    <li>说明数组见运算的广播机制</li>\n",
    "</ul>"
   ]
  },
  {
   "cell_type": "markdown",
   "id": "dd3186ef-8f5c-43cd-876b-36a7d3dfd4e2",
   "metadata": {},
   "source": [
    "<h3>1数组与数的运算</h3>"
   ]
  },
  {
   "cell_type": "code",
   "execution_count": 17,
   "id": "9b4d09ee-c06c-46bf-b94c-0c69f214b8f2",
   "metadata": {},
   "outputs": [
    {
     "data": {
      "text/plain": [
       "array([[2, 3, 4, 3, 2, 5],\n",
       "       [6, 7, 2, 3, 4, 2]])"
      ]
     },
     "execution_count": 17,
     "metadata": {},
     "output_type": "execute_result"
    }
   ],
   "source": [
    "arr=np.array([[1,2,3,2,1,4],[5,6,1,2,3,1]])\n",
    "arr+1"
   ]
  },
  {
   "cell_type": "code",
   "execution_count": 18,
   "id": "d7a4eafc-8909-4499-8100-517966e62d4e",
   "metadata": {},
   "outputs": [
    {
     "data": {
      "text/plain": [
       "array([[0.5, 1. , 1.5, 1. , 0.5, 2. ],\n",
       "       [2.5, 3. , 0.5, 1. , 1.5, 0.5]])"
      ]
     },
     "execution_count": 18,
     "metadata": {},
     "output_type": "execute_result"
    }
   ],
   "source": [
    "arr/2"
   ]
  },
  {
   "cell_type": "markdown",
   "id": "410aee7a-0687-4bee-9005-c1b94efe0e91",
   "metadata": {},
   "source": [
    "<h3>2数组间的运算</h3>"
   ]
  },
  {
   "cell_type": "code",
   "execution_count": 20,
   "id": "d130ce31-c127-42f5-9299-d6a6266a4960",
   "metadata": {},
   "outputs": [
    {
     "data": {
      "text/plain": [
       "array([[ 6,  8, 10, 12],\n",
       "       [ 8, 11, 14, 17]])"
      ]
     },
     "execution_count": 20,
     "metadata": {},
     "output_type": "execute_result"
    }
   ],
   "source": [
    "a = np.array([[1,2,3,4],[5,6,7,8]])\n",
    "b = np.array([[5,6,7,8],[3,5,7,9]])\n",
    "a+b"
   ]
  },
  {
   "cell_type": "markdown",
   "id": "d26f51ec-d1ae-4ab2-899f-7bd718a48a03",
   "metadata": {},
   "source": [
    "<h2>4.6数学:矩阵(matrix)</h2>"
   ]
  },
  {
   "cell_type": "code",
   "execution_count": null,
   "id": "dd20aa74-63d1-416a-9592-260408ce932e",
   "metadata": {},
   "outputs": [],
   "source": [
    "# 矩阵乘法api\n",
    "# np.matmul 只支持矩阵乘矩阵\n",
    "# np.dot 还支持乘数字"
   ]
  },
  {
   "cell_type": "code",
   "execution_count": 21,
   "id": "14d76bca-4c0c-4c85-8ab4-219dc6d20f11",
   "metadata": {
    "scrolled": true
   },
   "outputs": [
    {
     "data": {
      "text/plain": [
       "\u001b[1;31mCall signature:\u001b[0m  \u001b[0mnp\u001b[0m\u001b[1;33m.\u001b[0m\u001b[0mmatmul\u001b[0m\u001b[1;33m(\u001b[0m\u001b[1;33m*\u001b[0m\u001b[0margs\u001b[0m\u001b[1;33m,\u001b[0m \u001b[1;33m**\u001b[0m\u001b[0mkwargs\u001b[0m\u001b[1;33m)\u001b[0m\u001b[1;33m\u001b[0m\u001b[1;33m\u001b[0m\u001b[0m\n",
       "\u001b[1;31mType:\u001b[0m            ufunc\n",
       "\u001b[1;31mString form:\u001b[0m     <ufunc 'matmul'>\n",
       "\u001b[1;31mFile:\u001b[0m            d:\\virtualenvs\\ai\\lib\\site-packages\\numpy\\__init__.py\n",
       "\u001b[1;31mDocstring:\u001b[0m      \n",
       "matmul(x1, x2, /, out=None, *, casting='same_kind', order='K', dtype=None, subok=True[, signature, axes, axis])\n",
       "\n",
       "Matrix product of two arrays.\n",
       "\n",
       "Parameters\n",
       "----------\n",
       "x1, x2 : array_like\n",
       "    Input arrays, scalars not allowed.\n",
       "out : ndarray, optional\n",
       "    A location into which the result is stored. If provided, it must have\n",
       "    a shape that matches the signature `(n,k),(k,m)->(n,m)`. If not\n",
       "    provided or None, a freshly-allocated array is returned.\n",
       "**kwargs\n",
       "    For other keyword-only arguments, see the\n",
       "    :ref:`ufunc docs <ufuncs.kwargs>`.\n",
       "\n",
       "    .. versionadded:: 1.16\n",
       "       Now handles ufunc kwargs\n",
       "\n",
       "Returns\n",
       "-------\n",
       "y : ndarray\n",
       "    The matrix product of the inputs.\n",
       "    This is a scalar only when both x1, x2 are 1-d vectors.\n",
       "\n",
       "Raises\n",
       "------\n",
       "ValueError\n",
       "    If the last dimension of `x1` is not the same size as\n",
       "    the second-to-last dimension of `x2`.\n",
       "\n",
       "    If a scalar value is passed in.\n",
       "\n",
       "See Also\n",
       "--------\n",
       "vdot : Complex-conjugating dot product.\n",
       "tensordot : Sum products over arbitrary axes.\n",
       "einsum : Einstein summation convention.\n",
       "dot : alternative matrix product with different broadcasting rules.\n",
       "\n",
       "Notes\n",
       "-----\n",
       "\n",
       "The behavior depends on the arguments in the following way.\n",
       "\n",
       "- If both arguments are 2-D they are multiplied like conventional\n",
       "  matrices.\n",
       "- If either argument is N-D, N > 2, it is treated as a stack of\n",
       "  matrices residing in the last two indexes and broadcast accordingly.\n",
       "- If the first argument is 1-D, it is promoted to a matrix by\n",
       "  prepending a 1 to its dimensions. After matrix multiplication\n",
       "  the prepended 1 is removed.\n",
       "- If the second argument is 1-D, it is promoted to a matrix by\n",
       "  appending a 1 to its dimensions. After matrix multiplication\n",
       "  the appended 1 is removed.\n",
       "\n",
       "``matmul`` differs from ``dot`` in two important ways:\n",
       "\n",
       "- Multiplication by scalars is not allowed, use ``*`` instead.\n",
       "- Stacks of matrices are broadcast together as if the matrices\n",
       "  were elements, respecting the signature ``(n,k),(k,m)->(n,m)``:\n",
       "\n",
       "  >>> a = np.ones([9, 5, 7, 4])\n",
       "  >>> c = np.ones([9, 5, 4, 3])\n",
       "  >>> np.dot(a, c).shape\n",
       "  (9, 5, 7, 9, 5, 3)\n",
       "  >>> np.matmul(a, c).shape\n",
       "  (9, 5, 7, 3)\n",
       "  >>> # n is 7, k is 4, m is 3\n",
       "\n",
       "The matmul function implements the semantics of the ``@`` operator\n",
       "introduced in Python 3.5 following :pep:`465`.\n",
       "\n",
       "It uses an optimized BLAS library when possible (see `numpy.linalg`).\n",
       "\n",
       "Examples\n",
       "--------\n",
       "For 2-D arrays it is the matrix product:\n",
       "\n",
       ">>> a = np.array([[1, 0],\n",
       "...               [0, 1]])\n",
       ">>> b = np.array([[4, 1],\n",
       "...               [2, 2]])\n",
       ">>> np.matmul(a, b)\n",
       "array([[4, 1],\n",
       "       [2, 2]])\n",
       "\n",
       "For 2-D mixed with 1-D, the result is the usual.\n",
       "\n",
       ">>> a = np.array([[1, 0],\n",
       "...               [0, 1]])\n",
       ">>> b = np.array([1, 2])\n",
       ">>> np.matmul(a, b)\n",
       "array([1, 2])\n",
       ">>> np.matmul(b, a)\n",
       "array([1, 2])\n",
       "\n",
       "\n",
       "Broadcasting is conventional for stacks of arrays\n",
       "\n",
       ">>> a = np.arange(2 * 2 * 4).reshape((2, 2, 4))\n",
       ">>> b = np.arange(2 * 2 * 4).reshape((2, 4, 2))\n",
       ">>> np.matmul(a,b).shape\n",
       "(2, 2, 2)\n",
       ">>> np.matmul(a, b)[0, 1, 1]\n",
       "98\n",
       ">>> sum(a[0, 1, :] * b[0 , :, 1])\n",
       "98\n",
       "\n",
       "Vector, vector returns the scalar inner product, but neither argument\n",
       "is complex-conjugated:\n",
       "\n",
       ">>> np.matmul([2j, 3j], [2j, 3j])\n",
       "(-13+0j)\n",
       "\n",
       "Scalar multiplication raises an error.\n",
       "\n",
       ">>> np.matmul([1,2], 3)\n",
       "Traceback (most recent call last):\n",
       "...\n",
       "ValueError: matmul: Input operand 1 does not have enough dimensions ...\n",
       "\n",
       "The ``@`` operator can be used as a shorthand for ``np.matmul`` on\n",
       "ndarrays.\n",
       "\n",
       ">>> x1 = np.array([2j, 3j])\n",
       ">>> x2 = np.array([2j, 3j])\n",
       ">>> x1 @ x2\n",
       "(-13+0j)\n",
       "\n",
       ".. versionadded:: 1.10.0\n",
       "\u001b[1;31mClass docstring:\u001b[0m\n",
       "Functions that operate element by element on whole arrays.\n",
       "\n",
       "To see the documentation for a specific ufunc, use `info`.  For\n",
       "example, ``np.info(np.sin)``.  Because ufuncs are written in C\n",
       "(for speed) and linked into Python with NumPy's ufunc facility,\n",
       "Python's help() function finds this page whenever help() is called\n",
       "on a ufunc.\n",
       "\n",
       "A detailed explanation of ufuncs can be found in the docs for :ref:`ufuncs`.\n",
       "\n",
       "**Calling ufuncs:** ``op(*x[, out], where=True, **kwargs)``\n",
       "\n",
       "Apply `op` to the arguments `*x` elementwise, broadcasting the arguments.\n",
       "\n",
       "The broadcasting rules are:\n",
       "\n",
       "* Dimensions of length 1 may be prepended to either array.\n",
       "* Arrays may be repeated along dimensions of length 1.\n",
       "\n",
       "Parameters\n",
       "----------\n",
       "*x : array_like\n",
       "    Input arrays.\n",
       "out : ndarray, None, or tuple of ndarray and None, optional\n",
       "    Alternate array object(s) in which to put the result; if provided, it\n",
       "    must have a shape that the inputs broadcast to. A tuple of arrays\n",
       "    (possible only as a keyword argument) must have length equal to the\n",
       "    number of outputs; use None for uninitialized outputs to be\n",
       "    allocated by the ufunc.\n",
       "where : array_like, optional\n",
       "    This condition is broadcast over the input. At locations where the\n",
       "    condition is True, the `out` array will be set to the ufunc result.\n",
       "    Elsewhere, the `out` array will retain its original value.\n",
       "    Note that if an uninitialized `out` array is created via the default\n",
       "    ``out=None``, locations within it where the condition is False will\n",
       "    remain uninitialized.\n",
       "**kwargs\n",
       "    For other keyword-only arguments, see the :ref:`ufunc docs <ufuncs.kwargs>`.\n",
       "\n",
       "Returns\n",
       "-------\n",
       "r : ndarray or tuple of ndarray\n",
       "    `r` will have the shape that the arrays in `x` broadcast to; if `out` is\n",
       "    provided, it will be returned. If not, `r` will be allocated and\n",
       "    may contain uninitialized values. If the function has more than one\n",
       "    output, then the result will be a tuple of arrays."
      ]
     },
     "metadata": {},
     "output_type": "display_data"
    }
   ],
   "source": [
    "np.matmul?"
   ]
  },
  {
   "cell_type": "code",
   "execution_count": 22,
   "id": "1ad2bfe2-a858-40c2-89a1-f73c49d6165a",
   "metadata": {
    "scrolled": true
   },
   "outputs": [
    {
     "data": {
      "text/plain": [
       "\u001b[1;31mCall signature:\u001b[0m  \u001b[0mnp\u001b[0m\u001b[1;33m.\u001b[0m\u001b[0mdot\u001b[0m\u001b[1;33m(\u001b[0m\u001b[1;33m*\u001b[0m\u001b[0margs\u001b[0m\u001b[1;33m,\u001b[0m \u001b[1;33m**\u001b[0m\u001b[0mkwargs\u001b[0m\u001b[1;33m)\u001b[0m\u001b[1;33m\u001b[0m\u001b[1;33m\u001b[0m\u001b[0m\n",
       "\u001b[1;31mType:\u001b[0m            _ArrayFunctionDispatcher\n",
       "\u001b[1;31mString form:\u001b[0m     <built-in function dot>\n",
       "\u001b[1;31mDocstring:\u001b[0m      \n",
       "dot(a, b, out=None)\n",
       "\n",
       "Dot product of two arrays. Specifically,\n",
       "\n",
       "- If both `a` and `b` are 1-D arrays, it is inner product of vectors\n",
       "  (without complex conjugation).\n",
       "\n",
       "- If both `a` and `b` are 2-D arrays, it is matrix multiplication,\n",
       "  but using :func:`matmul` or ``a @ b`` is preferred.\n",
       "\n",
       "- If either `a` or `b` is 0-D (scalar), it is equivalent to\n",
       "  :func:`multiply` and using ``numpy.multiply(a, b)`` or ``a * b`` is\n",
       "  preferred.\n",
       "\n",
       "- If `a` is an N-D array and `b` is a 1-D array, it is a sum product over\n",
       "  the last axis of `a` and `b`.\n",
       "\n",
       "- If `a` is an N-D array and `b` is an M-D array (where ``M>=2``), it is a\n",
       "  sum product over the last axis of `a` and the second-to-last axis of\n",
       "  `b`::\n",
       "\n",
       "    dot(a, b)[i,j,k,m] = sum(a[i,j,:] * b[k,:,m])\n",
       "\n",
       "It uses an optimized BLAS library when possible (see `numpy.linalg`).\n",
       "\n",
       "Parameters\n",
       "----------\n",
       "a : array_like\n",
       "    First argument.\n",
       "b : array_like\n",
       "    Second argument.\n",
       "out : ndarray, optional\n",
       "    Output argument. This must have the exact kind that would be returned\n",
       "    if it was not used. In particular, it must have the right type, must be\n",
       "    C-contiguous, and its dtype must be the dtype that would be returned\n",
       "    for `dot(a,b)`. This is a performance feature. Therefore, if these\n",
       "    conditions are not met, an exception is raised, instead of attempting\n",
       "    to be flexible.\n",
       "\n",
       "Returns\n",
       "-------\n",
       "output : ndarray\n",
       "    Returns the dot product of `a` and `b`.  If `a` and `b` are both\n",
       "    scalars or both 1-D arrays then a scalar is returned; otherwise\n",
       "    an array is returned.\n",
       "    If `out` is given, then it is returned.\n",
       "\n",
       "Raises\n",
       "------\n",
       "ValueError\n",
       "    If the last dimension of `a` is not the same size as\n",
       "    the second-to-last dimension of `b`.\n",
       "\n",
       "See Also\n",
       "--------\n",
       "vdot : Complex-conjugating dot product.\n",
       "tensordot : Sum products over arbitrary axes.\n",
       "einsum : Einstein summation convention.\n",
       "matmul : '@' operator as method with out parameter.\n",
       "linalg.multi_dot : Chained dot product.\n",
       "\n",
       "Examples\n",
       "--------\n",
       ">>> np.dot(3, 4)\n",
       "12\n",
       "\n",
       "Neither argument is complex-conjugated:\n",
       "\n",
       ">>> np.dot([2j, 3j], [2j, 3j])\n",
       "(-13+0j)\n",
       "\n",
       "For 2-D arrays it is the matrix product:\n",
       "\n",
       ">>> a = [[1, 0], [0, 1]]\n",
       ">>> b = [[4, 1], [2, 2]]\n",
       ">>> np.dot(a, b)\n",
       "array([[4, 1],\n",
       "       [2, 2]])\n",
       "\n",
       ">>> a = np.arange(3*4*5*6).reshape((3,4,5,6))\n",
       ">>> b = np.arange(3*4*5*6)[::-1].reshape((5,4,6,3))\n",
       ">>> np.dot(a, b)[2,3,2,1,2,2]\n",
       "499128\n",
       ">>> sum(a[2,3,2,:] * b[1,2,:,2])\n",
       "499128\n",
       "\u001b[1;31mClass docstring:\u001b[0m\n",
       "Class to wrap functions with checks for __array_function__ overrides.\n",
       "\n",
       "All arguments are required, and can only be passed by position.\n",
       "\n",
       "Parameters\n",
       "----------\n",
       "dispatcher : function or None\n",
       "    The dispatcher function that returns a single sequence-like object\n",
       "    of all arguments relevant.  It must have the same signature (except\n",
       "    the default values) as the actual implementation.\n",
       "    If ``None``, this is a ``like=`` dispatcher and the\n",
       "    ``_ArrayFunctionDispatcher`` must be called with ``like`` as the\n",
       "    first (additional and positional) argument.\n",
       "implementation : function\n",
       "    Function that implements the operation on NumPy arrays without\n",
       "    overrides.  Arguments passed calling the ``_ArrayFunctionDispatcher``\n",
       "    will be forwarded to this (and the ``dispatcher``) as if using\n",
       "    ``*args, **kwargs``.\n",
       "\n",
       "Attributes\n",
       "----------\n",
       "_implementation : function\n",
       "    The original implementation passed in."
      ]
     },
     "metadata": {},
     "output_type": "display_data"
    }
   ],
   "source": [
    "np.dot?"
   ]
  },
  {
   "cell_type": "code",
   "execution_count": 24,
   "id": "ad99b5fa-0cd0-4039-a3be-e08dc18227e6",
   "metadata": {},
   "outputs": [],
   "source": [
    "a = np.array([[80, 86],\n",
    "[82, 80],\n",
    "[85, 78],\n",
    "[90, 90],\n",
    "[86, 82],\n",
    "[82, 90],\n",
    "[78, 80],\n",
    "[92, 94]])"
   ]
  },
  {
   "cell_type": "code",
   "execution_count": 25,
   "id": "6434e65b-79b9-4c0f-b567-f34b649258e3",
   "metadata": {},
   "outputs": [],
   "source": [
    "b = np.array([[0.7], [0.3]])"
   ]
  },
  {
   "cell_type": "code",
   "execution_count": 26,
   "id": "c068e477-f9ef-4b9d-9967-2b3aff208398",
   "metadata": {},
   "outputs": [
    {
     "data": {
      "text/plain": [
       "array([[81.8],\n",
       "       [81.4],\n",
       "       [82.9],\n",
       "       [90. ],\n",
       "       [84.8],\n",
       "       [84.4],\n",
       "       [78.6],\n",
       "       [92.6]])"
      ]
     },
     "execution_count": 26,
     "metadata": {},
     "output_type": "execute_result"
    }
   ],
   "source": [
    "np.matmul(a,b)"
   ]
  },
  {
   "cell_type": "code",
   "execution_count": 27,
   "id": "e4b9270c-e81b-4580-9767-b3e036302644",
   "metadata": {},
   "outputs": [
    {
     "data": {
      "text/plain": [
       "array([[81.8],\n",
       "       [81.4],\n",
       "       [82.9],\n",
       "       [90. ],\n",
       "       [84.8],\n",
       "       [84.4],\n",
       "       [78.6],\n",
       "       [92.6]])"
      ]
     },
     "execution_count": 27,
     "metadata": {},
     "output_type": "execute_result"
    }
   ],
   "source": [
    "np.dot(a,b)"
   ]
  },
  {
   "cell_type": "code",
   "execution_count": 28,
   "id": "f93db257-8062-4f70-88f8-fffd665ad5b7",
   "metadata": {},
   "outputs": [],
   "source": [
    "# np.dot()支持点乘\n",
    "c = 3"
   ]
  },
  {
   "cell_type": "code",
   "execution_count": 30,
   "id": "2278b6f2-989a-430d-8494-189ef9449899",
   "metadata": {},
   "outputs": [
    {
     "data": {
      "text/plain": [
       "array([[240, 258],\n",
       "       [246, 240],\n",
       "       [255, 234],\n",
       "       [270, 270],\n",
       "       [258, 246],\n",
       "       [246, 270],\n",
       "       [234, 240],\n",
       "       [276, 282]])"
      ]
     },
     "execution_count": 30,
     "metadata": {},
     "output_type": "execute_result"
    }
   ],
   "source": [
    "np.dot(a,c)"
   ]
  },
  {
   "cell_type": "code",
   "execution_count": 31,
   "id": "f483b648-3efb-42df-a235-15fe22279005",
   "metadata": {},
   "outputs": [
    {
     "name": "stdout",
     "output_type": "stream",
     "text": [
      "matmul: Input operand 1 does not have enough dimensions (has 0, gufunc core with signature (n?,k),(k,m?)->(n?,m?) requires 1)\n"
     ]
    }
   ],
   "source": [
    "# 但是np.matmul是不支持的\n",
    "try:\n",
    "    np.matmul(a,c)\n",
    "except BaseException as e:\n",
    "    print(e)"
   ]
  },
  {
   "cell_type": "code",
   "execution_count": 32,
   "id": "5dc2cff6-e15c-42a7-8982-a7c356469550",
   "metadata": {},
   "outputs": [
    {
     "data": {
      "text/plain": [
       "'2.4.1+cu124'"
      ]
     },
     "execution_count": 32,
     "metadata": {},
     "output_type": "execute_result"
    }
   ],
   "source": [
    "import torch\n",
    "torch.__version__"
   ]
  }
 ],
 "metadata": {
  "kernelspec": {
   "display_name": "Python 3 (ipykernel)",
   "language": "python",
   "name": "python3"
  },
  "language_info": {
   "codemirror_mode": {
    "name": "ipython",
    "version": 3
   },
   "file_extension": ".py",
   "mimetype": "text/x-python",
   "name": "python",
   "nbconvert_exporter": "python",
   "pygments_lexer": "ipython3",
   "version": "3.9.7"
  }
 },
 "nbformat": 4,
 "nbformat_minor": 5
}
