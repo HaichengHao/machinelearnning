{
 "cells": [
  {
   "cell_type": "code",
   "execution_count": 7,
   "id": "6f142aa5-eff4-472f-9999-2fec63ccbf69",
   "metadata": {},
   "outputs": [
    {
     "data": {
      "text/html": [
       "<style type=\"text/css\">\n",
       "    h1{\n",
       "        color:#FE7E00;\n",
       "        font-weight:bold;\n",
       "    }\n",
       "    h2{\n",
       "        color:#0D47A1;\n",
       "        # font-weight:bold;\n",
       "    }\n",
       "    h3{\n",
       "        color:#408080;\n",
       "    }\n",
       "    th{\n",
       "        border:1px solid black;\n",
       "        color:white;\n",
       "        background-color:#FE7E00;\n",
       "    }\n",
       "    # th td{\n",
       "    #     border:1px solid black;\n",
       "    # }\n",
       "    tr{\n",
       "        border:1px solid black;\n",
       "        border-collapse:collapse;\n",
       "    }\n",
       "    td{\n",
       "        border:1px solid black !important;\n",
       "    }\n",
       "    tr td:hover{\n",
       "        background-color:blueviolet !important;\n",
       "        color:white !important;\n",
       "        transform:scale(1.05)\n",
       "    }\n",
       "    .code_{\n",
       "        background-color:#1c1f2b !important;\n",
       "        color:#9dbed3 !important; \n",
       "        white-sapce:pre-wrap;\n",
       "    }\n",
       "</style>\n"
      ],
      "text/plain": [
       "<IPython.core.display.HTML object>"
      ]
     },
     "metadata": {},
     "output_type": "display_data"
    }
   ],
   "source": [
    "%%HTML\n",
    "<style type=\"text/css\">\n",
    "    h1{\n",
    "        color:#FE7E00;\n",
    "        font-weight:bold;\n",
    "    }\n",
    "    h2{\n",
    "        color:#0D47A1;\n",
    "        # font-weight:bold;\n",
    "    }\n",
    "    h3{\n",
    "        color:#408080;\n",
    "    }\n",
    "    th{\n",
    "        border:1px solid black !important;\n",
    "        color:white !important;\n",
    "        background-color:#FE7E00 !important;\n",
    "    }\n",
    "    # th td{\n",
    "    #     border:1px solid black;\n",
    "    # }\n",
    "    tr{\n",
    "        border:1px solid black !important;\n",
    "        border-collapse:collapse !important;\n",
    "    }\n",
    "    td{\n",
    "        border:1px solid black !important;\n",
    "    }\n",
    "    tr td:hover{\n",
    "        background-color:blueviolet !important;\n",
    "        color:white !important;\n",
    "        transform:scale(1.05)\n",
    "    }\n",
    "    .code_{\n",
    "        background-color:#1c1f2b !important;\n",
    "        color:#9dbed3 !important; \n",
    "        white-sapce:pre-wrap;\n",
    "    }\n",
    "</style>"
   ]
  },
  {
   "cell_type": "markdown",
   "id": "5e88c998-1b3b-4e91-a944-ceab2ba02da0",
   "metadata": {},
   "source": [
    "<h1>生成0和1的数组</h1>\n",
    "<ul>\n",
    "<li>np.ones(shape,dtype)</li>\n",
    "<li>np.ones_like(a,dtype)</li>\n",
    "<li>np.zeros(shape,dtype)</li>\n",
    "<li>np.zeros_like(shape,dtype)</li>\n",
    "</ul>"
   ]
  },
  {
   "cell_type": "code",
   "execution_count": 1,
   "id": "558fc71c-9c7e-4806-8bec-4d1763d58f81",
   "metadata": {},
   "outputs": [],
   "source": [
    "# 导包\n",
    "import numpy as np"
   ]
  },
  {
   "cell_type": "markdown",
   "id": "eeb25440-da6a-444f-922a-e4afbf2b7b01",
   "metadata": {},
   "source": [
    "<h2>1.1生成0,1数组</h2>"
   ]
  },
  {
   "cell_type": "code",
   "execution_count": 7,
   "id": "fa5e47b8-7ee2-4a33-aee2-f36f6de6eeb6",
   "metadata": {},
   "outputs": [
    {
     "data": {
      "text/plain": [
       "array([[1., 1., 1., 1.],\n",
       "       [1., 1., 1., 1.],\n",
       "       [1., 1., 1., 1.]])"
      ]
     },
     "execution_count": 7,
     "metadata": {},
     "output_type": "execute_result"
    }
   ],
   "source": [
    "# 生成0,1数组\n",
    "arr1 = np.ones([3,4])\n",
    "arr1"
   ]
  },
  {
   "cell_type": "code",
   "execution_count": 8,
   "id": "2ed7067f-ca19-40be-8d29-bbaefa2c6971",
   "metadata": {},
   "outputs": [
    {
     "data": {
      "text/plain": [
       "array([[0., 0., 0., 0.],\n",
       "       [0., 0., 0., 0.],\n",
       "       [0., 0., 0., 0.]])"
      ]
     },
     "execution_count": 8,
     "metadata": {},
     "output_type": "execute_result"
    }
   ],
   "source": [
    "np.zeros_like(arr1) #利用zeros_like可以生成形状与arr1一样的全0元素的数组"
   ]
  },
  {
   "cell_type": "markdown",
   "id": "766e3600-e60d-44a0-90d5-b65964d0cdf5",
   "metadata": {},
   "source": [
    "<h2>1.2从现在数组中生成</h2>"
   ]
  },
  {
   "cell_type": "markdown",
   "id": "c0aee5c9-cedb-4ac6-9789-9300385d9e32",
   "metadata": {},
   "source": [
    "<h3>生成方式1 np.arry(object,dtype)</h3>"
   ]
  },
  {
   "cell_type": "code",
   "execution_count": 9,
   "id": "80e7ddf6-a52b-4352-b7ff-f596d6b75f18",
   "metadata": {},
   "outputs": [],
   "source": [
    "a = np.array([[1,2,3],[4,5,6]])"
   ]
  },
  {
   "cell_type": "code",
   "execution_count": 10,
   "id": "9b46630d-3cae-44ac-96cf-243eb31d1a54",
   "metadata": {},
   "outputs": [
    {
     "data": {
      "text/plain": [
       "array([[1, 2, 3],\n",
       "       [4, 5, 6]])"
      ]
     },
     "execution_count": 10,
     "metadata": {},
     "output_type": "execute_result"
    }
   ],
   "source": [
    "a"
   ]
  },
  {
   "cell_type": "code",
   "execution_count": 11,
   "id": "7ad10ef4-d96d-4184-8cf7-cbc53867c42e",
   "metadata": {},
   "outputs": [],
   "source": [
    "a1 = np.array(a)"
   ]
  },
  {
   "cell_type": "code",
   "execution_count": 12,
   "id": "d21cc368-7dad-4da0-981c-ac1e46e15272",
   "metadata": {},
   "outputs": [
    {
     "data": {
      "text/plain": [
       "array([[1, 2, 3],\n",
       "       [4, 5, 6]])"
      ]
     },
     "execution_count": 12,
     "metadata": {},
     "output_type": "execute_result"
    }
   ],
   "source": [
    "a1"
   ]
  },
  {
   "cell_type": "markdown",
   "id": "7a56f97b-979a-4c14-b1e9-0940a53616c8",
   "metadata": {},
   "source": [
    "<h3>生成方式2 np.asarry()</h3>"
   ]
  },
  {
   "cell_type": "code",
   "execution_count": 13,
   "id": "5bd558c7-6aef-441f-8158-9b422ab95a18",
   "metadata": {},
   "outputs": [],
   "source": [
    "a3=np.asarray(a)"
   ]
  },
  {
   "cell_type": "code",
   "execution_count": 14,
   "id": "998c8622-d322-4f41-8fed-e866d9c6baab",
   "metadata": {},
   "outputs": [
    {
     "data": {
      "text/plain": [
       "array([[1, 2, 3],\n",
       "       [4, 5, 6]])"
      ]
     },
     "execution_count": 14,
     "metadata": {},
     "output_type": "execute_result"
    }
   ],
   "source": [
    "a3"
   ]
  },
  {
   "cell_type": "code",
   "execution_count": 15,
   "id": "deda866e-a2f1-4fc8-ae85-3582ce6d41e7",
   "metadata": {},
   "outputs": [],
   "source": [
    "a[0,0]=100"
   ]
  },
  {
   "cell_type": "code",
   "execution_count": 16,
   "id": "c22b3f42-a813-4b02-a104-e3a70354c9b3",
   "metadata": {},
   "outputs": [
    {
     "data": {
      "text/plain": [
       "array([[100,   2,   3],\n",
       "       [  4,   5,   6]])"
      ]
     },
     "execution_count": 16,
     "metadata": {},
     "output_type": "execute_result"
    }
   ],
   "source": [
    "a"
   ]
  },
  {
   "cell_type": "code",
   "execution_count": 17,
   "id": "3e56cfdc-ee3e-4053-a1ee-ea0664c425c0",
   "metadata": {},
   "outputs": [
    {
     "data": {
      "text/plain": [
       "array([[1, 2, 3],\n",
       "       [4, 5, 6]])"
      ]
     },
     "execution_count": 17,
     "metadata": {},
     "output_type": "execute_result"
    }
   ],
   "source": [
    "a1"
   ]
  },
  {
   "cell_type": "markdown",
   "id": "063a9e7c-e96b-495b-8418-9cd099da209a",
   "metadata": {},
   "source": [
    "<p>可以看到，a1只是深拷贝，并没有随着a的变化而变化，即a1用np.arry()生成了属于自己的数据而不是简单使指向a的地址</p>"
   ]
  },
  {
   "cell_type": "code",
   "execution_count": 18,
   "id": "7d726ddf-ce89-459c-ae70-7d5c0c90fa29",
   "metadata": {},
   "outputs": [
    {
     "data": {
      "text/plain": [
       "array([[100,   2,   3],\n",
       "       [  4,   5,   6]])"
      ]
     },
     "execution_count": 18,
     "metadata": {},
     "output_type": "execute_result"
    }
   ],
   "source": [
    "a3 "
   ]
  },
  {
   "cell_type": "markdown",
   "id": "aba34430-fbf4-48d4-9442-2735c524d176",
   "metadata": {},
   "source": [
    "<p>而a3是深拷贝,所以np.asarry()是浅拷贝，随着a的变化而变化</p>"
   ]
  },
  {
   "cell_type": "markdown",
   "id": "c153f128-6769-4e08-8c15-7994b86edb57",
   "metadata": {},
   "source": [
    "<h2>1.3 生成固定范围的数组</h2>"
   ]
  },
  {
   "cell_type": "markdown",
   "id": "b33aee8c-cbbd-4562-ab4e-78749e9f1f72",
   "metadata": {
    "jp-MarkdownHeadingCollapsed": true
   },
   "source": [
    "<h3>1.3.1 np.linspace(start,stop,num,endpoint)</h3>\n",
    "<ul>\n",
    "<li>创建等差数组--指定数量</li>\n",
    "<li>\n",
    "参数\n",
    "<ul>\n",
    "<li>start:序列的起始值</li>\n",
    "<li>stop: 序列的结束值</li>\n",
    "<li>num:要生成的等间隔样例数量，默认为50</li>\n",
    "<li>endpoint:序列中是否包含stop值,默认为true</li>\n",
    "</ul>\n",
    "</li>\n",
    "</ul>"
   ]
  },
  {
   "cell_type": "code",
   "execution_count": 19,
   "id": "71c05d7d-ddcb-47ca-b288-cc4500c078d2",
   "metadata": {},
   "outputs": [],
   "source": [
    "# 生成等间隔的数组\n",
    "arr_1=np.linspace(0,100,11)"
   ]
  },
  {
   "cell_type": "code",
   "execution_count": 20,
   "id": "d8dfdd31-03ca-406b-b29d-87426ebba496",
   "metadata": {},
   "outputs": [
    {
     "data": {
      "text/plain": [
       "array([  0.,  10.,  20.,  30.,  40.,  50.,  60.,  70.,  80.,  90., 100.])"
      ]
     },
     "execution_count": 20,
     "metadata": {},
     "output_type": "execute_result"
    }
   ],
   "source": [
    "arr_1"
   ]
  },
  {
   "cell_type": "markdown",
   "id": "3ba66197-a386-468a-b132-70dc36436d86",
   "metadata": {},
   "source": [
    "<h3>1.3.2 np.arange(start,stop,step,dtype)</h3>\n",
    "<ul>\n",
    "<li>创建等差数组 - 指定步长</li>\n",
    "<li>\n",
    "    参数\n",
    "<ul>\n",
    "    <li>step:步长</li>\n",
    "</ul>\n",
    "</li>\n",
    "</ul>"
   ]
  },
  {
   "cell_type": "code",
   "execution_count": 21,
   "id": "1787d947-7b70-4236-b063-5df56d055fb6",
   "metadata": {},
   "outputs": [
    {
     "data": {
      "text/plain": [
       "array([10, 12, 14, 16, 18, 20, 22, 24, 26, 28, 30, 32, 34, 36, 38, 40, 42,\n",
       "       44, 46, 48])"
      ]
     },
     "execution_count": 21,
     "metadata": {},
     "output_type": "execute_result"
    }
   ],
   "source": [
    "np.arange(10,50,2) #对比python中的列表进行理解"
   ]
  },
  {
   "cell_type": "markdown",
   "id": "77fb35c4-a689-4d50-b1c6-f98608d35b07",
   "metadata": {},
   "source": [
    "<h3>1.3.3 np.logspace(start,stop,num,[base=底数默认为10，也可自己重新指定])</h3>\n",
    "<ul>\n",
    "<li>创建以10为底的等比数列</li>\n",
    "<li>参数\n",
    "<ul>\n",
    "    <li>num:要生成的等比数列的数量，默认为50</li>\n",
    "</ul>\n",
    "</li>\n",
    "</ul>"
   ]
  },
  {
   "cell_type": "code",
   "execution_count": 22,
   "id": "8a7bbf30-b28d-46dc-b370-83a0b794ecca",
   "metadata": {},
   "outputs": [],
   "source": [
    "# 生成10的n次方\n",
    "arr_los = np.logspace(0,2,3)\n",
    "# 0,2,3 从10的0 次方到 10的2次方"
   ]
  },
  {
   "cell_type": "code",
   "execution_count": 23,
   "id": "3e88ad2d-8c92-4f1f-a2a0-1cb10fa73bf1",
   "metadata": {},
   "outputs": [
    {
     "data": {
      "text/plain": [
       "array([  1.,  10., 100.])"
      ]
     },
     "execution_count": 23,
     "metadata": {},
     "output_type": "execute_result"
    }
   ],
   "source": [
    "arr_los"
   ]
  },
  {
   "cell_type": "code",
   "execution_count": 24,
   "id": "4263367d-2663-41b4-b3a3-a77d65b3f527",
   "metadata": {},
   "outputs": [],
   "source": [
    "# arr_los?"
   ]
  },
  {
   "cell_type": "code",
   "execution_count": 25,
   "id": "f68d0dfe-c1da-4946-a1d6-5c69fc4c17ab",
   "metadata": {},
   "outputs": [],
   "source": [
    "# help(np.logspace(0,1))"
   ]
  },
  {
   "cell_type": "markdown",
   "id": "9f24482e-3d01-4d30-9ac0-546ba9f606d3",
   "metadata": {},
   "source": [
    "<h2>1.4生成随机数组</h2>"
   ]
  },
  {
   "cell_type": "markdown",
   "id": "4c9e300c-f1f8-4ce2-86fb-f10f5159817d",
   "metadata": {},
   "source": [
    "<h3>1.4.1使用模块介绍<h3>"
   ]
  },
  {
   "cell_type": "markdown",
   "id": "037f0ffb-3f1f-4856-b5f8-0ad09111fda3",
   "metadata": {},
   "source": [
    "<li>np.random模块</li>"
   ]
  },
  {
   "cell_type": "markdown",
   "id": "67c9af9e-732c-4e99-9868-d14b57138fcb",
   "metadata": {},
   "source": [
    "<h3>1.4.2正态分布</h3>"
   ]
  },
  {
   "cell_type": "markdown",
   "id": "cb6e342c-0bbe-4fe5-bdd7-9df56aa1e7db",
   "metadata": {},
   "source": [
    "<p>一、基础概念复习：正态分布（理解）</p>"
   ]
  },
  {
   "cell_type": "markdown",
   "id": "1a1ce43c-629f-4772-abe6-a23e78b8ee87",
   "metadata": {},
   "source": [
    "<p>a. 什么是正态分布</p>"
   ]
  },
  {
   "cell_type": "markdown",
   "id": "d22a5ff3-c1a6-4d44-876b-ca8d62b32377",
   "metadata": {},
   "source": [
    "<p>正态分布是一种概率分布。正态分布是具有两个参数μ和σ的连续型随机变量的分布，第一参数μ是服从正态分布的随机变量的均值，第二个参数σ是此随机变量的标准差，所以正态分布记作N(μ，σ )。</p>"
   ]
  },
  {
   "cell_type": "markdown",
   "id": "c732afcf-f990-4554-bfd8-1a24673e90d8",
   "metadata": {},
   "source": [
    "<img src='../../imgs/正态分布.png'>"
   ]
  },
  {
   "cell_type": "markdown",
   "id": "6277fb10-0156-4aba-bd0a-a18d857a879e",
   "metadata": {},
   "source": [
    "<h3>b.正态分布的应用</h3>"
   ]
  },
  {
   "cell_type": "markdown",
   "id": "485c8231-a2dd-437b-80d5-51355aa52c68",
   "metadata": {},
   "source": [
    "<p>生活、生产与科学实验中很多随机变量的概率分布都可以近似地用正态分布来描述</p>"
   ]
  },
  {
   "cell_type": "markdown",
   "id": "ee3f7eaf-d009-4827-a5b1-2a4a65609e21",
   "metadata": {},
   "source": [
    "<h3>c.正态分布特点</h3>"
   ]
  },
  {
   "cell_type": "markdown",
   "id": "127ae477-7a9d-45e0-bc0c-cd377c3ec2a1",
   "metadata": {},
   "source": [
    "<p>μ决定了其位置，其标准差σ决定了分布的幅度。当μ = 0,σ = 1时的正态分布是标准正态分布。\n",
    "\n",
    "标准差如何来？</p>"
   ]
  },
  {
   "cell_type": "markdown",
   "id": "25b8f2fe-1a7b-40b1-9769-efebee5d8d61",
   "metadata": {},
   "source": [
    "<li>方差</li>"
   ]
  },
  {
   "cell_type": "markdown",
   "id": "6c2c4770-ac72-4652-a3a4-3edd324fb915",
   "metadata": {},
   "source": [
    "<p>是在概率论和统计方差衡量一组数据时离散程度的度量</p>"
   ]
  },
  {
   "cell_type": "markdown",
   "id": "5cd3a7eb-e25b-4f26-bd90-081f3d1127bd",
   "metadata": {},
   "source": [
    "<img src='../../imgs/公式1.png'>"
   ]
  },
  {
   "cell_type": "markdown",
   "id": "475d59e1-73ff-4ba0-8c2e-7bfd7ae0fd5b",
   "metadata": {},
   "source": [
    "<p>其中M为平均值,n为数据总个数,σ（sigma）为标准差,σ<sup>2</sup>可以理解为一个整体为方差</p>"
   ]
  },
  {
   "cell_type": "markdown",
   "id": "d5e23bf1-e79d-4c01-9416-ca6667e9df27",
   "metadata": {},
   "source": [
    "<img src='../../imgs/公式2.png'>"
   ]
  },
  {
   "cell_type": "markdown",
   "id": "f276a0af-80a6-4a9a-9be3-fd3b002b5733",
   "metadata": {},
   "source": [
    "<li>标准差与方差的意义</li>"
   ]
  },
  {
   "cell_type": "markdown",
   "id": "40bed98c-9e76-4d03-ae28-25a34fcec27b",
   "metadata": {},
   "source": [
    "<p>可以理解成数据的一个离散程度的衡量</p>"
   ]
  },
  {
   "cell_type": "markdown",
   "id": "ed4c0886-1e59-46e3-931a-35903c15af48",
   "metadata": {},
   "source": [
    "<img src='../../imgs/离散程度.png'>"
   ]
  },
  {
   "cell_type": "markdown",
   "id": "e882a7d4-b1fa-4409-a540-f36518c256c2",
   "metadata": {},
   "source": [
    "<p>二、正态分布创建方式<p>"
   ]
  },
  {
   "cell_type": "markdown",
   "id": "71dfdd7e-5ac3-49d7-86c9-9d1bc3743329",
   "metadata": {},
   "source": [
    "<div class=\"code_\">\n",
    "np.random.randn(d0, d1, …, dn)<br>\n",
    "  # 功能：从标准正态分布中返回一个或多个样本值\n",
    "\n",
    "</div>"
   ]
  },
  {
   "cell_type": "markdown",
   "id": "7e77e808-26f9-43f3-b00d-e791235b436c",
   "metadata": {},
   "source": [
    "<div class=\"code_\">\n",
    "    np.random.normal(loc=0.0, scale=1.0, size=None)<br>\n",
    "  # 功能：返回指定形态的正态分布<br>\n",
    "  # 参数<br>\n",
    "    # loc：float - 此概率分布的均值（对应着整个分布的中心centre）<br>\n",
    "    # scale：float - 此概率分布的标准差（对应于分布的宽度，scale越大越矮胖，scale越小，越瘦高） <br>\n",
    "    # size：int or tuple of ints - 输出的shape，默认为None，只输出一个值\n",
    "</div>"
   ]
  },
  {
   "cell_type": "markdown",
   "id": "b71ed43b-5387-4913-aea5-28d0e89257a7",
   "metadata": {},
   "source": [
    "<div class=\"code_\">\n",
    "np.random.standard_normal(size=None)<br>\n",
    "  # 功能：返回指定形状的标准正态分布的数组。\n",
    "</div>"
   ]
  },
  {
   "cell_type": "markdown",
   "id": "c339ad6e-d7f6-4cc3-bd2e-f13621683fa7",
   "metadata": {},
   "source": [
    "<h4>举例1：生成均值为1.75，标准差为1的正态分布数据，100000000个</h4>"
   ]
  },
  {
   "cell_type": "code",
   "execution_count": 46,
   "id": "9570033c-35f4-4387-beb0-9a4cf05e70f7",
   "metadata": {},
   "outputs": [],
   "source": [
    "# np.random.normal? #可以先查看一下"
   ]
  },
  {
   "cell_type": "code",
   "execution_count": 47,
   "id": "a9c2baf5-0cbf-4721-9cf1-b90a641d01d0",
   "metadata": {},
   "outputs": [],
   "source": [
    "x1 = np.random.normal(1.7,1,100000000)"
   ]
  },
  {
   "cell_type": "markdown",
   "id": "54874551-544b-4c0c-a9f7-a144e85348c7",
   "metadata": {},
   "source": [
    "<p>返回结果</p>"
   ]
  },
  {
   "cell_type": "code",
   "execution_count": 48,
   "id": "e1ec363d-c848-4115-ae85-d020dec9f0dc",
   "metadata": {},
   "outputs": [
    {
     "data": {
      "text/plain": [
       "array([ 2.41789755, -0.25327044,  0.3716472 , ...,  3.13297556,\n",
       "        3.33308546,  3.17252672])"
      ]
     },
     "execution_count": 48,
     "metadata": {},
     "output_type": "execute_result"
    }
   ],
   "source": [
    "x1"
   ]
  },
  {
   "cell_type": "markdown",
   "id": "1276babe-2079-4d96-9dd7-89ecf18281f1",
   "metadata": {},
   "source": [
    "<p>验证是不是真的正态分布</p>"
   ]
  },
  {
   "cell_type": "code",
   "execution_count": 52,
   "id": "efb25b45-c2be-40d3-8b75-a8fac4bad256",
   "metadata": {},
   "outputs": [
    {
     "data": {
      "image/png": "[encoded data removed]",
      "text/plain": [
       "<Figure size 2000x1000 with 1 Axes>"
      ]
     },
     "metadata": {},
     "output_type": "display_data"
    }
   ],
   "source": [
    "from matplotlib import pyplot as plt #导包\n",
    "# 创建画布\n",
    "plt.figure(figsize=(20,10),dpi=100)\n",
    "# 设置网格显示\n",
    "plt.grid(True,linestyle='--',alpha=0.4)\n",
    "# 画直方图设置组距为1000\n",
    "plt.hist(x1,1000)\n",
    "\n",
    "# 展示\n",
    "plt.show()"
   ]
  },
  {
   "cell_type": "code",
   "execution_count": 2,
   "id": "4398512a-9b97-4f7b-b6ad-a6824516d418",
   "metadata": {},
   "outputs": [],
   "source": [
    "# help(plt.hist)"
   ]
  },
  {
   "cell_type": "markdown",
   "id": "103a04ab-91dd-4310-9b5f-6e6a637a022a",
   "metadata": {},
   "source": [
    "<p>例如：我们可以模拟生成一组股票的涨跌幅的数据</p>"
   ]
  },
  {
   "cell_type": "markdown",
   "id": "c2594272-8064-4be7-bd43-b5c45b520ce6",
   "metadata": {},
   "source": [
    "<p>举例2：随机生成4支股票1周的交易日涨幅数据</p>"
   ]
  },
  {
   "cell_type": "markdown",
   "id": "e8903c35-e595-4492-a2cc-a15b77a7d0e7",
   "metadata": {},
   "source": [
    "<p>4支股票，一周(5天)的涨跌幅数据，如何获取？</p>"
   ]
  },
  {
   "cell_type": "markdown",
   "id": "36c58f6b-2bf3-40c8-9dde-d74a7f5c7e1b",
   "metadata": {},
   "source": [
    "<li>随机生成涨跌幅在某个正态分布内，比如均值0，方差1</li>"
   ]
  },
  {
   "cell_type": "markdown",
   "id": "0a64b524-e640-4e32-bbb5-17a2f3ed393c",
   "metadata": {},
   "source": [
    "<p>股票涨跌幅数据的创建</p>"
   ]
  },
  {
   "cell_type": "code",
   "execution_count": 2,
   "id": "6608eb32-5f9a-4e84-b5b7-07fb3e735ae3",
   "metadata": {},
   "outputs": [
    {
     "data": {
      "text/plain": [
       "array([[ 0.43292241, -0.89536948, -0.30472597, -0.5304168 ,  1.80417813],\n",
       "       [ 0.50745246,  1.38115525, -0.53534651,  0.14692272, -0.8649191 ],\n",
       "       [ 1.21071692, -0.63903043,  1.16089288,  0.60162628,  0.13571218],\n",
       "       [-0.68565033,  0.31503473, -2.0916256 ,  1.00724376, -0.98032683]])"
      ]
     },
     "execution_count": 2,
     "metadata": {},
     "output_type": "execute_result"
    }
   ],
   "source": [
    "# 创建符合正态分布的4只股票5天的涨跌幅数据\n",
    "stock_change = np.random.normal(0, 1, (4, 5))\n",
    "stock_change"
   ]
  },
  {
   "cell_type": "code",
   "execution_count": 3,
   "id": "c5c54d9b-e8c1-468d-bfd3-811db50deedb",
   "metadata": {},
   "outputs": [
    {
     "data": {
      "text/plain": [
       "(4, 5)"
      ]
     },
     "execution_count": 3,
     "metadata": {},
     "output_type": "execute_result"
    }
   ],
   "source": [
    "stock_change.shape"
   ]
  },
  {
   "cell_type": "code",
   "execution_count": 4,
   "id": "22ba7486-4ff4-4c5b-a772-c7c105352a57",
   "metadata": {},
   "outputs": [
    {
     "data": {
      "text/plain": [
       "20"
      ]
     },
     "execution_count": 4,
     "metadata": {},
     "output_type": "execute_result"
    }
   ],
   "source": [
    "stock_change.size"
   ]
  },
  {
   "cell_type": "code",
   "execution_count": 5,
   "id": "be825998-448a-47de-af86-912b0cf390a7",
   "metadata": {},
   "outputs": [
    {
     "data": {
      "text/plain": [
       "8"
      ]
     },
     "execution_count": 5,
     "metadata": {},
     "output_type": "execute_result"
    }
   ],
   "source": [
    "stock_change.itemsize #一个元素的长度占8个字节"
   ]
  },
  {
   "cell_type": "markdown",
   "id": "ab58ba02-5c03-4369-bd6c-43955e955ff4",
   "metadata": {},
   "source": [
    "<h3>1.4.2 均匀分布</h3>"
   ]
  },
  {
   "cell_type": "raw",
   "id": "5d55ade9-deb6-4c17-a39c-3befaf69a9a2",
   "metadata": {},
   "source": [
    "一、基础概念复习：均匀分布（理解）\n",
    "\n",
    "均匀分布是关于定义在区间[a,b], (a<b)上连续变量的简单概率分布，其概率密度函数如下图所示："
   ]
  },
  {
   "cell_type": "markdown",
   "id": "14cd4bf6-4074-4850-a33e-fdaf490011a7",
   "metadata": {},
   "source": [
    "<img src=\"https://tva1.sinaimg.cn/large/007S8ZIlgy1gg2iqjs24mj30q00bmmyi.jpg\" alt=\"image-20200623205721655\">"
   ]
  },
  {
   "cell_type": "raw",
   "id": "a9d58406-7af7-4de7-97cb-7348bc7c9f41",
   "metadata": {},
   "source": [
    "二、均匀分布创建方式"
   ]
  },
  {
   "cell_type": "raw",
   "id": "9971d609-7e8b-4c45-9459-22dfb7de3116",
   "metadata": {},
   "source": [
    "np.random.rand(*d0*, *d1*, *...*, *dn*)\n",
    "\n",
    "# 功能：返回**[0.0，1.0)**内的一组均匀分布的数。"
   ]
  },
  {
   "cell_type": "raw",
   "id": "876e74a0-2c26-44e4-8891-e21f86d12d85",
   "metadata": {},
   "source": [
    "np.random.uniform(*low=0.0*, *high=1.0*, *size=None*)\n",
    "\n",
    "# - 功能：从一个均匀分布[low,high)中随机采样，注意定义域是左闭右开，即包含low，不包含high.  \n",
    "# - 参数介绍:\n",
    "       # - low: 采样下界，float类型，默认值为0；\n",
    "       # - high: 采样上界，float类型，默认值为1；\n",
    "       # - size: 输出样本数目，为int或元组(tuple)类型，\n",
    "          # 例如，size=(m,n,k), 则输出m*n*k个样本，缺省时输出1个值。  \n",
    "# - 返回值：ndarray类型，其形状和参数size中描述一致。"
   ]
  },
  {
   "cell_type": "raw",
   "id": "b7a1dab4-4e9e-4fb7-bed6-cee25ac66571",
   "metadata": {},
   "source": [
    "np.random.randint(*low*, *high=None*, *size=None*, *dtype='l'*)\n",
    "\n",
    "# 功能： 从一个均匀分布中随机采样，生成一个整数或N维整数数组，\n",
    "# 取数范围：若high不为None时，取[low,high)之间随机整数，否则取值[0,low)之间随机整数。"
   ]
  },
  {
   "cell_type": "raw",
   "id": "4faa7d44-e2af-48bf-8d47-cef8014784f1",
   "metadata": {},
   "source": [
    "举例:"
   ]
  },
  {
   "cell_type": "code",
   "execution_count": 3,
   "id": "add64485-e850-47a0-bf8a-cfd1e104830b",
   "metadata": {},
   "outputs": [],
   "source": [
    "# 生成均匀分布的随机数\n",
    "x2 = np.random.uniform(-1, 1, 100000000)"
   ]
  },
  {
   "cell_type": "code",
   "execution_count": 4,
   "id": "b805c753-5a0e-4435-be43-3dec38284474",
   "metadata": {},
   "outputs": [
    {
     "data": {
      "text/plain": [
       "array([ 0.74201947, -0.2682907 ,  0.30549288, ...,  0.61359665,\n",
       "        0.64774123, -0.45487374])"
      ]
     },
     "execution_count": 4,
     "metadata": {},
     "output_type": "execute_result"
    }
   ],
   "source": [
    "x2"
   ]
  },
  {
   "cell_type": "raw",
   "id": "d766bd0d-e1f0-46b8-a5dd-17bece663143",
   "metadata": {},
   "source": [
    "画图查看分布情况"
   ]
  },
  {
   "cell_type": "code",
   "execution_count": 6,
   "id": "06c09d4b-7518-40c6-9c74-8125cd280242",
   "metadata": {},
   "outputs": [
    {
     "data": {
      "image/png": "[encoded data removed]",
      "text/plain": [
       "<Figure size 1000x1000 with 1 Axes>"
      ]
     },
     "metadata": {},
     "output_type": "display_data"
    }
   ],
   "source": [
    "import matplotlib.pyplot as plt\n",
    "\n",
    "# 生成均匀分布的随机数\n",
    "x2 = np.random.uniform(-1, 1, 100000000)\n",
    "\n",
    "# 画图看分布状况\n",
    "# 1）创建画布\n",
    "plt.figure(figsize=(10, 10), dpi=100)\n",
    "\n",
    "# 2）绘制直方图\n",
    "plt.hist(x=x2, bins=1000)  # x代表要使用的数据，bins表示要划分区间数\n",
    "\n",
    "# 3）显示图像\n",
    "plt.show()"
   ]
  },
  {
   "cell_type": "markdown",
   "id": "3782d925-6eb0-4956-a6d9-3e1b4dc55fa4",
   "metadata": {},
   "source": [
    "<h2>2 数组的索引、切片</h2>"
   ]
  },
  {
   "cell_type": "markdown",
   "id": "4d24f4d2-17c2-4238-a6b8-40dcbec1b756",
   "metadata": {},
   "source": [
    "<p>一维、二维、三维的数组如何索引？</p>"
   ]
  },
  {
   "cell_type": "markdown",
   "id": "1f19fb51-cb69-42bd-8b0a-49d795ddf89a",
   "metadata": {},
   "source": [
    "<ul>\n",
    "    <li>直接进行索引,切片</li>\n",
    "    <li>对象[:, :] -- 先行后列</li>\n",
    "</ul>"
   ]
  },
  {
   "cell_type": "raw",
   "id": "73150587-0557-4d30-a64d-001370847cb0",
   "metadata": {},
   "source": [
    "二维数组索引方式："
   ]
  },
  {
   "cell_type": "markdown",
   "id": "18dd69b4-6af9-4057-9144-ee8bfb06f305",
   "metadata": {},
   "source": [
    "<ul>\n",
    "    <li>举例：获取第一个股票的前3个交易日的涨跌幅数据</li>\n",
    "</ul>"
   ]
  },
  {
   "cell_type": "code",
   "execution_count": 6,
   "id": "2c70d3f2-3daf-44e2-950c-c9c28b3021d8",
   "metadata": {},
   "outputs": [
    {
     "data": {
      "text/plain": [
       "array([ 0.43292241, -0.89536948, -0.30472597])"
      ]
     },
     "execution_count": 6,
     "metadata": {},
     "output_type": "execute_result"
    }
   ],
   "source": [
    "# 二维的数组，两个维度 \n",
    "stock_change[0, 0:3]"
   ]
  },
  {
   "cell_type": "markdown",
   "id": "f62491a4-0462-424c-bea2-d1a87c64c5b8",
   "metadata": {},
   "source": [
    "<ul>\n",
    "    <li>三维数组索引方式：</li>\n",
    "</ul>"
   ]
  },
  {
   "cell_type": "code",
   "execution_count": 9,
   "id": "5e56b39a-8ca4-4e13-b354-b9d8744a77f2",
   "metadata": {},
   "outputs": [],
   "source": [
    "# 三维\n",
    "a1 = np.array([ [[1,2,3],[4,5,6]], [[12,3,34],[5,6,7]]])"
   ]
  },
  {
   "cell_type": "code",
   "execution_count": 10,
   "id": "09e674e1-abe3-43d9-b228-1ef0de4bacc4",
   "metadata": {},
   "outputs": [
    {
     "data": {
      "text/plain": [
       "array([[[ 1,  2,  3],\n",
       "        [ 4,  5,  6]],\n",
       "\n",
       "       [[12,  3, 34],\n",
       "        [ 5,  6,  7]]])"
      ]
     },
     "execution_count": 10,
     "metadata": {},
     "output_type": "execute_result"
    }
   ],
   "source": [
    "a1"
   ]
  },
  {
   "cell_type": "code",
   "execution_count": null,
   "id": "9eddcfd7-136a-40f6-a941-46984f8f5884",
   "metadata": {},
   "outputs": [],
   "source": [
    "#索引切片\n",
    "a1[0,0,1] #获取第一大块的第一行的第二个数字"
   ]
  },
  {
   "cell_type": "code",
   "execution_count": 14,
   "id": "bb185260-716d-42b8-b0d7-12542732b7b4",
   "metadata": {},
   "outputs": [
    {
     "data": {
      "text/plain": [
       "np.int64(12)"
      ]
     },
     "execution_count": 14,
     "metadata": {},
     "output_type": "execute_result"
    }
   ],
   "source": [
    "# 获取数字12\n",
    "# 即获取第二大块第1行第1个数字那么对应的索引应该是[1,0,0]\n",
    "a1[1,0,0]"
   ]
  },
  {
   "cell_type": "code",
   "execution_count": 11,
   "id": "55f8c108-d751-486a-91d7-863c1e803029",
   "metadata": {},
   "outputs": [
    {
     "data": {
      "text/plain": [
       "['',\n",
       " '# 导包\\nimport numpy as np',\n",
       " '# help(plt.hist)',\n",
       " '# 生成均匀分布的随机数\\nx2 = np.random.uniform(-1, 1, 100000000)',\n",
       " 'x2',\n",
       " '画图查看分布情况',\n",
       " 'import matplotlib.pyplot as plt\\n\\n# 生成均匀分布的随机数\\nx2 = np.random.uniform(-1, 1, 100000000)\\n\\n# 画图看分布状况\\n# 1）创建画布\\nplt.figure(figsize=(10, 10), dpi=100)\\n\\n# 2）绘制直方图\\nplt.hist(x=x2, bins=1000)  # x代表要使用的数据，bins表示要划分区间数\\n\\n# 3）显示图像\\nplt.show()',\n",
       " '# 创建符合正态分布的4只股票5天的涨跌幅数据\\nstock_change = np.random.normal(0, 1, (4, 5))\\nstock_change',\n",
       " '# 二维的数组，两个维度 \\nstock_change[0, 0:3]',\n",
       " '# 三维\\na1 = np.array([ [[1,2,3],[4,5,6]], [[12,3,34],[5,6,7]]])',\n",
       " 'a1',\n",
       " 'In']"
      ]
     },
     "execution_count": 11,
     "metadata": {},
     "output_type": "execute_result"
    }
   ],
   "source": [
    "In"
   ]
  },
  {
   "cell_type": "code",
   "execution_count": 12,
   "id": "f1fe9035-7074-4300-a562-f0c9e87fa2c0",
   "metadata": {},
   "outputs": [
    {
     "data": {
      "text/plain": [
       "{4: array([ 0.74201947, -0.2682907 ,  0.30549288, ...,  0.61359665,\n",
       "         0.64774123, -0.45487374]),\n",
       " 7: array([[-1.36194321,  2.19472219, -0.52166886,  1.08843708, -0.11410059],\n",
       "        [-0.08415361, -1.33857741,  0.94528743, -0.55774953,  1.40780193],\n",
       "        [-0.12490486, -0.21067924,  0.22043501, -1.20089317,  0.42811784],\n",
       "        [ 0.07804081,  0.05711529, -1.16533215, -0.01012358, -0.15858504]]),\n",
       " 8: array([-1.36194321,  2.19472219, -0.52166886]),\n",
       " 10: array([[[ 1,  2,  3],\n",
       "         [ 4,  5,  6]],\n",
       " \n",
       "        [[12,  3, 34],\n",
       "         [ 5,  6,  7]]]),\n",
       " 11: ['',\n",
       "  '# 导包\\nimport numpy as np',\n",
       "  '# help(plt.hist)',\n",
       "  '# 生成均匀分布的随机数\\nx2 = np.random.uniform(-1, 1, 100000000)',\n",
       "  'x2',\n",
       "  '画图查看分布情况',\n",
       "  'import matplotlib.pyplot as plt\\n\\n# 生成均匀分布的随机数\\nx2 = np.random.uniform(-1, 1, 100000000)\\n\\n# 画图看分布状况\\n# 1）创建画布\\nplt.figure(figsize=(10, 10), dpi=100)\\n\\n# 2）绘制直方图\\nplt.hist(x=x2, bins=1000)  # x代表要使用的数据，bins表示要划分区间数\\n\\n# 3）显示图像\\nplt.show()',\n",
       "  '# 创建符合正态分布的4只股票5天的涨跌幅数据\\nstock_change = np.random.normal(0, 1, (4, 5))\\nstock_change',\n",
       "  '# 二维的数组，两个维度 \\nstock_change[0, 0:3]',\n",
       "  '# 三维\\na1 = np.array([ [[1,2,3],[4,5,6]], [[12,3,34],[5,6,7]]])',\n",
       "  'a1',\n",
       "  'In',\n",
       "  'Out']}"
      ]
     },
     "execution_count": 12,
     "metadata": {},
     "output_type": "execute_result"
    }
   ],
   "source": [
    "Out"
   ]
  },
  {
   "cell_type": "code",
   "execution_count": 13,
   "id": "fef659d7-816f-42d9-aa65-c28c64d34b3f",
   "metadata": {},
   "outputs": [
    {
     "data": {
      "text/plain": [
       "array([ 0.74201947, -0.2682907 ,  0.30549288, ...,  0.61359665,\n",
       "        0.64774123, -0.45487374])"
      ]
     },
     "execution_count": 13,
     "metadata": {},
     "output_type": "execute_result"
    }
   ],
   "source": [
    "Out[4]"
   ]
  },
  {
   "cell_type": "markdown",
   "id": "b59d1600-3dc1-4a4b-93b2-07dd3ee827a7",
   "metadata": {},
   "source": [
    "<h2>3 形状修改</h2>"
   ]
  },
  {
   "cell_type": "markdown",
   "id": "c0be91ae-ee6d-4680-98d8-d2566fe79c22",
   "metadata": {},
   "source": [
    "<h3>3.1 ndarray.reshape()</h3>"
   ]
  },
  {
   "cell_type": "raw",
   "id": "49fc6fd1-7557-44e4-a7cf-a41afe14efdc",
   "metadata": {},
   "source": [
    "ndarray.reshape(shape, order)"
   ]
  },
  {
   "cell_type": "markdown",
   "id": "94eac6bb-0716-4d2d-aa2a-d0f905b89262",
   "metadata": {},
   "source": [
    "<ul>\n",
    "    <li>返回一个具有相同数据域，但shape不一样的视图</li>\n",
    "    <li>行、列不进行互换</li>\n",
    "</ul>"
   ]
  },
  {
   "cell_type": "code",
   "execution_count": 7,
   "id": "aa893a92-8082-4529-a7b9-9240be054596",
   "metadata": {},
   "outputs": [
    {
     "data": {
      "text/plain": [
       "array([[ 0.43292241, -0.89536948, -0.30472597, -0.5304168 ,  1.80417813,\n",
       "         0.50745246,  1.38115525, -0.53534651,  0.14692272, -0.8649191 ],\n",
       "       [ 1.21071692, -0.63903043,  1.16089288,  0.60162628,  0.13571218,\n",
       "        -0.68565033,  0.31503473, -2.0916256 ,  1.00724376, -0.98032683]])"
      ]
     },
     "execution_count": 7,
     "metadata": {},
     "output_type": "execute_result"
    }
   ],
   "source": [
    "# 在转换形状的时候，一定要注意数组的元素匹配\n",
    "stock_change.reshape([5, 4]) #修改为5行4列\n",
    "stock_change.reshape([-1,10])  # 数组的形状被修改为: (2, 10), \n",
    "# -1: 表示通过待计算,即不知道多少行，但是是10列"
   ]
  },
  {
   "cell_type": "markdown",
   "id": "557cb7ef-a1bf-418d-88bb-e321cfbad4a3",
   "metadata": {},
   "source": [
    "<h3>3.2ndarray.resize(new_shape)</h3>"
   ]
  },
  {
   "cell_type": "code",
   "execution_count": 8,
   "id": "c6e597a7-b6cf-4078-86c5-09d077ddef72",
   "metadata": {},
   "outputs": [],
   "source": [
    "stock_change.resize([10,2]) #将数组修改为10行2列"
   ]
  },
  {
   "cell_type": "code",
   "execution_count": 9,
   "id": "479c24c6-d73d-4997-bd2a-157106989b45",
   "metadata": {},
   "outputs": [
    {
     "data": {
      "text/plain": [
       "array([[ 0.43292241, -0.89536948],\n",
       "       [-0.30472597, -0.5304168 ],\n",
       "       [ 1.80417813,  0.50745246],\n",
       "       [ 1.38115525, -0.53534651],\n",
       "       [ 0.14692272, -0.8649191 ],\n",
       "       [ 1.21071692, -0.63903043],\n",
       "       [ 1.16089288,  0.60162628],\n",
       "       [ 0.13571218, -0.68565033],\n",
       "       [ 0.31503473, -2.0916256 ],\n",
       "       [ 1.00724376, -0.98032683]])"
      ]
     },
     "execution_count": 9,
     "metadata": {},
     "output_type": "execute_result"
    }
   ],
   "source": [
    "stock_change"
   ]
  },
  {
   "cell_type": "markdown",
   "id": "56e036a3-524a-440a-99a0-bdf3e3f03321",
   "metadata": {},
   "source": [
    "<ul>\n",
    "    <li>修改数组本身的形状（需要保持元素个数前后相同）\n",
    "</li>\n",
    "    <li>行、列不进行互换</li>\n",
    "</ul>"
   ]
  },
  {
   "cell_type": "markdown",
   "id": "71ce1ea5-89a3-4f9e-a7e8-19f06aaff3de",
   "metadata": {},
   "source": [
    "<h3>3.3 ndarray.T</h3>"
   ]
  },
  {
   "cell_type": "markdown",
   "id": "58434fd1-359b-4eff-91ff-6967b3886e8f",
   "metadata": {},
   "source": [
    "<ul>\n",
    "    <li>数组的转置\n",
    "</li>\n",
    "    <li>将数组的行、列进行互换</li>\n",
    "</ul>"
   ]
  },
  {
   "cell_type": "code",
   "execution_count": 10,
   "id": "9809b2d8-7535-49ec-aa1f-29a591b271e2",
   "metadata": {},
   "outputs": [
    {
     "data": {
      "text/plain": [
       "array([[ 0.43292241, -0.30472597,  1.80417813,  1.38115525,  0.14692272,\n",
       "         1.21071692,  1.16089288,  0.13571218,  0.31503473,  1.00724376],\n",
       "       [-0.89536948, -0.5304168 ,  0.50745246, -0.53534651, -0.8649191 ,\n",
       "        -0.63903043,  0.60162628, -0.68565033, -2.0916256 , -0.98032683]])"
      ]
     },
     "execution_count": 10,
     "metadata": {},
     "output_type": "execute_result"
    }
   ],
   "source": [
    "stock_change.T \n",
    "#参考线性代数中的行列式的转置,由上面的10行2列转置为2行10列"
   ]
  },
  {
   "cell_type": "markdown",
   "id": "f8d304c5-f4ce-4fa6-9331-c246c4c4bae3",
   "metadata": {},
   "source": [
    "<h2>4 类型修改</h2>"
   ]
  },
  {
   "cell_type": "markdown",
   "id": "c69a8b71-91c6-4ddf-849c-0b9401167d49",
   "metadata": {},
   "source": [
    "<h3>4.1 ndarray.astype(type)</h3>"
   ]
  },
  {
   "cell_type": "markdown",
   "id": "7ebf4c93-c713-4c3f-8f22-0e011f326752",
   "metadata": {},
   "source": [
    "<ul>\n",
    "    <li>返回修改了类型之后的数组</li>\n",
    "</ul>"
   ]
  },
  {
   "cell_type": "code",
   "execution_count": 11,
   "id": "39aed035-8abd-4628-bab1-b9d907177124",
   "metadata": {},
   "outputs": [
    {
     "data": {
      "text/plain": [
       "array([[ 0,  0],\n",
       "       [ 0,  0],\n",
       "       [ 1,  0],\n",
       "       [ 1,  0],\n",
       "       [ 0,  0],\n",
       "       [ 1,  0],\n",
       "       [ 1,  0],\n",
       "       [ 0,  0],\n",
       "       [ 0, -2],\n",
       "       [ 1,  0]], dtype=int32)"
      ]
     },
     "execution_count": 11,
     "metadata": {},
     "output_type": "execute_result"
    }
   ],
   "source": [
    "stock_change.astype(np.int32)"
   ]
  },
  {
   "cell_type": "markdown",
   "id": "a4821e0e-4b9d-4b5f-990d-b4a0f86bb329",
   "metadata": {},
   "source": [
    "<h3>4.2 ndarray.tostring([order])或者ndarray.tobytes([order])</h3>"
   ]
  },
  {
   "cell_type": "markdown",
   "id": "5091caeb-78c7-4468-b376-ca871de4f34a",
   "metadata": {},
   "source": [
    "<ul>\n",
    "    <li>构造包含数组中原始数据字节的Python字节</li>\n",
    "</ul>"
   ]
  },
  {
   "cell_type": "code",
   "execution_count": 12,
   "id": "7f448360-3d3f-4835-931a-b7c00e6537c5",
   "metadata": {},
   "outputs": [
    {
     "name": "stderr",
     "output_type": "stream",
     "text": [
      "C:\\Users\\郝海程\\AppData\\Local\\Temp\\ipykernel_10824\\2639229034.py:2: DeprecationWarning: tostring() is deprecated. Use tobytes() instead.\n",
      "  arr.tostring()\n"
     ]
    },
    {
     "data": {
      "text/plain": [
       "b'\\x01\\x00\\x00\\x00\\x00\\x00\\x00\\x00\\x02\\x00\\x00\\x00\\x00\\x00\\x00\\x00\\x03\\x00\\x00\\x00\\x00\\x00\\x00\\x00\\x04\\x00\\x00\\x00\\x00\\x00\\x00\\x00\\x05\\x00\\x00\\x00\\x00\\x00\\x00\\x00\\x06\\x00\\x00\\x00\\x00\\x00\\x00\\x00\\x0c\\x00\\x00\\x00\\x00\\x00\\x00\\x00\\x03\\x00\\x00\\x00\\x00\\x00\\x00\\x00\"\\x00\\x00\\x00\\x00\\x00\\x00\\x00\\x05\\x00\\x00\\x00\\x00\\x00\\x00\\x00\\x06\\x00\\x00\\x00\\x00\\x00\\x00\\x00\\x07\\x00\\x00\\x00\\x00\\x00\\x00\\x00'"
      ]
     },
     "execution_count": 12,
     "metadata": {},
     "output_type": "execute_result"
    }
   ],
   "source": [
    "arr = np.array([[[1, 2, 3], [4, 5, 6]], [[12, 3, 34], [5, 6, 7]]])\n",
    "arr.tostring()"
   ]
  },
  {
   "cell_type": "code",
   "execution_count": 13,
   "id": "20765c17-ced9-40fe-847c-dadda28d6237",
   "metadata": {},
   "outputs": [],
   "source": [
    "# 可以看到tostring()方法已经过时了所以换成.tobytes()好一些"
   ]
  },
  {
   "cell_type": "markdown",
   "id": "17e78ba5-7e87-4f75-8bab-1f92b3224a46",
   "metadata": {},
   "source": [
    "<h3>4.3 jupyter输出太大可能导致崩溃问题【了解】</h3>"
   ]
  },
  {
   "cell_type": "raw",
   "id": "8d09476d-94c5-4f93-80c5-f5253fbbb42b",
   "metadata": {},
   "source": [
    "如果遇到"
   ]
  },
  {
   "cell_type": "raw",
   "id": "0f67e998-01b8-4639-9466-8baf687a0cd2",
   "metadata": {},
   "source": [
    "IOPub data rate exceeded.\n",
    "    The notebook server will temporarily stop sending output\n",
    "    to the client in order to avoid crashing it.\n",
    "    To change this limit, set the config variable\n",
    "    `--NotebookApp.iopub_data_rate_limit`."
   ]
  },
  {
   "cell_type": "raw",
   "id": "499c9bc9-4296-4a68-be56-03a632a2312e",
   "metadata": {},
   "source": [
    "这个问题是在jupyer当中对输出的字节数有限制，需要去修改配置文件\n",
    "创建配置文件"
   ]
  },
  {
   "cell_type": "raw",
   "id": "9431bb4d-5976-41aa-81d3-a63931803ea9",
   "metadata": {},
   "source": [
    "jupyter notebook --generate-config\n",
    "vi ~/.jupyter/jupyter_notebook_config.py"
   ]
  },
  {
   "cell_type": "markdown",
   "id": "cc7239e5-d458-4e2b-bc3a-d24459f9d671",
   "metadata": {},
   "source": [
    "<h2>5数组的去重</h2>"
   ]
  },
  {
   "cell_type": "markdown",
   "id": "0495f646-ae07-408f-b48c-d29a8959c6fa",
   "metadata": {},
   "source": [
    "<h3>5.1np.unique()</h3>"
   ]
  },
  {
   "cell_type": "code",
   "execution_count": 3,
   "id": "180adc1d-1561-4ae2-95f0-051c9d8eb917",
   "metadata": {},
   "outputs": [],
   "source": [
    "import numpy as np\n",
    "a = np.array([[1,2,3,4],[2,3,4,5]])"
   ]
  },
  {
   "cell_type": "code",
   "execution_count": 4,
   "id": "2c95d68d-0ede-4ce1-a839-3d930348a8f7",
   "metadata": {},
   "outputs": [
    {
     "data": {
      "text/plain": [
       "array([[1, 2, 3, 4],\n",
       "       [2, 3, 4, 5]])"
      ]
     },
     "execution_count": 4,
     "metadata": {},
     "output_type": "execute_result"
    }
   ],
   "source": [
    "a"
   ]
  },
  {
   "cell_type": "code",
   "execution_count": 5,
   "id": "3efd2226-ed32-431d-a785-dfb1945d3615",
   "metadata": {},
   "outputs": [
    {
     "data": {
      "text/plain": [
       "array([1, 2, 3, 4, 5])"
      ]
     },
     "execution_count": 5,
     "metadata": {},
     "output_type": "execute_result"
    }
   ],
   "source": [
    "np.unique(a) #去重"
   ]
  },
  {
   "cell_type": "code",
   "execution_count": 6,
   "id": "e9d3a368-22e2-45cf-b7f9-4b198eacb8be",
   "metadata": {},
   "outputs": [
    {
     "data": {
      "text/plain": [
       "'2.0.1'"
      ]
     },
     "execution_count": 6,
     "metadata": {},
     "output_type": "execute_result"
    }
   ],
   "source": [
    "np.__version__"
   ]
  }
 ],
 "metadata": {
  "kernelspec": {
   "display_name": "Python 3 (ipykernel)",
   "language": "python",
   "name": "python3"
  },
  "language_info": {
   "codemirror_mode": {
    "name": "ipython",
    "version": 3
   },
   "file_extension": ".py",
   "mimetype": "text/x-python",
   "name": "python",
   "nbconvert_exporter": "python",
   "pygments_lexer": "ipython3",
   "version": "3.9.7"
  }
 },
 "nbformat": 4,
 "nbformat_minor": 5
}
