{
 "cells": [
  {
   "cell_type": "code",
   "execution_count": 13,
   "id": "6f142aa5-eff4-472f-9999-2fec63ccbf69",
   "metadata": {},
   "outputs": [
    {
     "data": {
      "text/html": [
       "<style type=\"text/css\">\n",
       "    h1{\n",
       "        color:#FE7E00;\n",
       "        font-weight:bold;\n",
       "    }\n",
       "    h2{\n",
       "        color:#0D47A1;\n",
       "        # font-weight:bold;\n",
       "    }\n",
       "    h3{\n",
       "        color:#3c3c3c;\n",
       "    }\n",
       "    th{\n",
       "        border:1px solid black;\n",
       "        color:white;\n",
       "        background-color:#FE7E00;\n",
       "    }\n",
       "    # th td{\n",
       "    #     border:1px solid black;\n",
       "    # }\n",
       "    .tline{\n",
       "        border:1px solid black;\n",
       "        border-collapse:collapse;\n",
       "    }\n",
       "    .tline td{\n",
       "        border:1px solid black;\n",
       "    }\n",
       "    .tline td:hover{\n",
       "        background-color:blueviolet;\n",
       "        color:white;\n",
       "        transform:scale(1.05)\n",
       "    }\n",
       "</style>\n"
      ],
      "text/plain": [
       "<IPython.core.display.HTML object>"
      ]
     },
     "metadata": {},
     "output_type": "display_data"
    }
   ],
   "source": [
    "%%HTML\n",
    "<style type=\"text/css\">\n",
    "    h1{\n",
    "        color:#FE7E00;\n",
    "        font-weight:bold;\n",
    "    }\n",
    "    h2{\n",
    "        color:#0D47A1;\n",
    "        # font-weight:bold;\n",
    "    }\n",
    "    h3{\n",
    "        color:#3c3c3c;\n",
    "    }\n",
    "    th{\n",
    "        border:1px solid black;\n",
    "        color:white;\n",
    "        background-color:#FE7E00;\n",
    "    }\n",
    "    # th td{\n",
    "    #     border:1px solid black;\n",
    "    # }\n",
    "    .tline{\n",
    "        border:1px solid black;\n",
    "        border-collapse:collapse;\n",
    "    }\n",
    "    .tline td{\n",
    "        border:1px solid black;\n",
    "    }\n",
    "    .tline td:hover{\n",
    "        background-color:blueviolet;\n",
    "        color:white;\n",
    "        transform:scale(1.05)\n",
    "    }\n",
    "</style>"
   ]
  },
  {
   "cell_type": "markdown",
   "id": "5e88c998-1b3b-4e91-a944-ceab2ba02da0",
   "metadata": {},
   "source": [
    "<h1>生成0和1的数组</h1>\n",
    "<ul>\n",
    "<li>np.ones(shape,dtype)</li>\n",
    "<li>np.ones_like(a,dtype)</li>\n",
    "<li>np.zeros(shape,dtype)</li>\n",
    "<li>np.zeros_like(shape,dtype)</li>\n",
    "</ul>"
   ]
  },
  {
   "cell_type": "code",
   "execution_count": 2,
   "id": "558fc71c-9c7e-4806-8bec-4d1763d58f81",
   "metadata": {},
   "outputs": [],
   "source": [
    "# 导包\n",
    "import numpy as np"
   ]
  },
  {
   "cell_type": "markdown",
   "id": "eeb25440-da6a-444f-922a-e4afbf2b7b01",
   "metadata": {},
   "source": [
    "<h2>1.1生成0,1数组</h2>"
   ]
  },
  {
   "cell_type": "code",
   "execution_count": 8,
   "id": "fa5e47b8-7ee2-4a33-aee2-f36f6de6eeb6",
   "metadata": {},
   "outputs": [
    {
     "data": {
      "text/plain": [
       "array([[1., 1., 1., 1.],\n",
       "       [1., 1., 1., 1.],\n",
       "       [1., 1., 1., 1.]])"
      ]
     },
     "execution_count": 8,
     "metadata": {},
     "output_type": "execute_result"
    }
   ],
   "source": [
    "# 生成0,1数组\n",
    "arr1 = np.ones([3,4])\n",
    "arr1"
   ]
  },
  {
   "cell_type": "code",
   "execution_count": 9,
   "id": "2ed7067f-ca19-40be-8d29-bbaefa2c6971",
   "metadata": {},
   "outputs": [
    {
     "data": {
      "text/plain": [
       "array([[0., 0., 0., 0.],\n",
       "       [0., 0., 0., 0.],\n",
       "       [0., 0., 0., 0.]])"
      ]
     },
     "execution_count": 9,
     "metadata": {},
     "output_type": "execute_result"
    }
   ],
   "source": [
    "np.zeros_like(arr1) #利用zeros_like可以生成形状与arr1一样的全0元素的数组"
   ]
  },
  {
   "cell_type": "markdown",
   "id": "766e3600-e60d-44a0-90d5-b65964d0cdf5",
   "metadata": {},
   "source": [
    "<h2>1.2从现在数组中生成</h2>"
   ]
  },
  {
   "cell_type": "markdown",
   "id": "c0aee5c9-cedb-4ac6-9789-9300385d9e32",
   "metadata": {},
   "source": [
    "<h3>生成方式1 np.arry(object,dtype)</h3>"
   ]
  },
  {
   "cell_type": "code",
   "execution_count": 8,
   "id": "80e7ddf6-a52b-4352-b7ff-f596d6b75f18",
   "metadata": {},
   "outputs": [],
   "source": [
    "a = np.array([[1,2,3],[4,5,6]])"
   ]
  },
  {
   "cell_type": "code",
   "execution_count": 9,
   "id": "9b46630d-3cae-44ac-96cf-243eb31d1a54",
   "metadata": {},
   "outputs": [
    {
     "data": {
      "text/plain": [
       "array([[1, 2, 3],\n",
       "       [4, 5, 6]])"
      ]
     },
     "execution_count": 9,
     "metadata": {},
     "output_type": "execute_result"
    }
   ],
   "source": [
    "a"
   ]
  },
  {
   "cell_type": "code",
   "execution_count": 10,
   "id": "7ad10ef4-d96d-4184-8cf7-cbc53867c42e",
   "metadata": {},
   "outputs": [],
   "source": [
    "a1 = np.array(a)"
   ]
  },
  {
   "cell_type": "code",
   "execution_count": 11,
   "id": "d21cc368-7dad-4da0-981c-ac1e46e15272",
   "metadata": {},
   "outputs": [
    {
     "data": {
      "text/plain": [
       "array([[1, 2, 3],\n",
       "       [4, 5, 6]])"
      ]
     },
     "execution_count": 11,
     "metadata": {},
     "output_type": "execute_result"
    }
   ],
   "source": [
    "a1"
   ]
  },
  {
   "cell_type": "markdown",
   "id": "7a56f97b-979a-4c14-b1e9-0940a53616c8",
   "metadata": {},
   "source": [
    "<h3>生成方式2 np.asarry()</h3>"
   ]
  },
  {
   "cell_type": "code",
   "execution_count": 12,
   "id": "5bd558c7-6aef-441f-8158-9b422ab95a18",
   "metadata": {},
   "outputs": [],
   "source": [
    "a3=np.asarray(a)"
   ]
  },
  {
   "cell_type": "code",
   "execution_count": 13,
   "id": "998c8622-d322-4f41-8fed-e866d9c6baab",
   "metadata": {},
   "outputs": [
    {
     "data": {
      "text/plain": [
       "array([[1, 2, 3],\n",
       "       [4, 5, 6]])"
      ]
     },
     "execution_count": 13,
     "metadata": {},
     "output_type": "execute_result"
    }
   ],
   "source": [
    "a3"
   ]
  },
  {
   "cell_type": "code",
   "execution_count": 14,
   "id": "deda866e-a2f1-4fc8-ae85-3582ce6d41e7",
   "metadata": {},
   "outputs": [],
   "source": [
    "a[0,0]=100"
   ]
  },
  {
   "cell_type": "code",
   "execution_count": 15,
   "id": "c22b3f42-a813-4b02-a104-e3a70354c9b3",
   "metadata": {},
   "outputs": [
    {
     "data": {
      "text/plain": [
       "array([[100,   2,   3],\n",
       "       [  4,   5,   6]])"
      ]
     },
     "execution_count": 15,
     "metadata": {},
     "output_type": "execute_result"
    }
   ],
   "source": [
    "a"
   ]
  },
  {
   "cell_type": "code",
   "execution_count": 16,
   "id": "3e56cfdc-ee3e-4053-a1ee-ea0664c425c0",
   "metadata": {},
   "outputs": [
    {
     "data": {
      "text/plain": [
       "array([[1, 2, 3],\n",
       "       [4, 5, 6]])"
      ]
     },
     "execution_count": 16,
     "metadata": {},
     "output_type": "execute_result"
    }
   ],
   "source": [
    "a1"
   ]
  },
  {
   "cell_type": "markdown",
   "id": "063a9e7c-e96b-495b-8418-9cd099da209a",
   "metadata": {},
   "source": [
    "<p>可以看到，a1只是浅拷贝，并没有随着a的变化而变化</p>"
   ]
  },
  {
   "cell_type": "code",
   "execution_count": 17,
   "id": "7d726ddf-ce89-459c-ae70-7d5c0c90fa29",
   "metadata": {},
   "outputs": [
    {
     "data": {
      "text/plain": [
       "array([[100,   2,   3],\n",
       "       [  4,   5,   6]])"
      ]
     },
     "execution_count": 17,
     "metadata": {},
     "output_type": "execute_result"
    }
   ],
   "source": [
    "a3 "
   ]
  },
  {
   "cell_type": "markdown",
   "id": "aba34430-fbf4-48d4-9442-2735c524d176",
   "metadata": {},
   "source": [
    "<p>而a3是深拷贝,所以np.asarry()是深拷贝</p>"
   ]
  },
  {
   "cell_type": "markdown",
   "id": "c153f128-6769-4e08-8c15-7994b86edb57",
   "metadata": {},
   "source": [
    "<h2>1.3 生成固定范围的数组</h2>"
   ]
  },
  {
   "cell_type": "markdown",
   "id": "b33aee8c-cbbd-4562-ab4e-78749e9f1f72",
   "metadata": {
    "jp-MarkdownHeadingCollapsed": true
   },
   "source": [
    "<h3>1.3.1 np.linspace(start,stop,num,endpoint)</h3>\n",
    "<ul>\n",
    "<li>创建等差数组--指定数量</li>\n",
    "<li>\n",
    "参数\n",
    "<ul>\n",
    "<li>start:序列的起始值</li>\n",
    "<li>stop: 序列的结束值</li>\n",
    "<li>num:要生成的等间隔样例数量，默认为50</li>\n",
    "<li>endpoint:序列中是否包含stop值,默认为true</li>\n",
    "</ul>\n",
    "</li>\n",
    "</ul>"
   ]
  },
  {
   "cell_type": "code",
   "execution_count": 21,
   "id": "71c05d7d-ddcb-47ca-b288-cc4500c078d2",
   "metadata": {},
   "outputs": [],
   "source": [
    "# 生成等间隔的数组\n",
    "arr_1=np.linspace(0,100,11)"
   ]
  },
  {
   "cell_type": "code",
   "execution_count": 22,
   "id": "d8dfdd31-03ca-406b-b29d-87426ebba496",
   "metadata": {},
   "outputs": [
    {
     "data": {
      "text/plain": [
       "array([  0.,  10.,  20.,  30.,  40.,  50.,  60.,  70.,  80.,  90., 100.])"
      ]
     },
     "execution_count": 22,
     "metadata": {},
     "output_type": "execute_result"
    }
   ],
   "source": [
    "arr_1"
   ]
  },
  {
   "cell_type": "markdown",
   "id": "3ba66197-a386-468a-b132-70dc36436d86",
   "metadata": {},
   "source": [
    "<h3>1.3.2 np.arange(start,stop,step,dtype)</h3>\n",
    "<ul>\n",
    "<li>创建等差数组 - 指定步长</li>\n",
    "<li>\n",
    "    参数\n",
    "<ul>\n",
    "    <li>step:步长</li>\n",
    "</ul>\n",
    "</li>\n",
    "</ul>"
   ]
  },
  {
   "cell_type": "code",
   "execution_count": 18,
   "id": "1787d947-7b70-4236-b063-5df56d055fb6",
   "metadata": {},
   "outputs": [
    {
     "data": {
      "text/plain": [
       "array([10, 12, 14, 16, 18, 20, 22, 24, 26, 28, 30, 32, 34, 36, 38, 40, 42,\n",
       "       44, 46, 48])"
      ]
     },
     "execution_count": 18,
     "metadata": {},
     "output_type": "execute_result"
    }
   ],
   "source": [
    "np.arange(10,50,2) #对比python中的列表进行理解"
   ]
  },
  {
   "cell_type": "markdown",
   "id": "77fb35c4-a689-4d50-b1c6-f98608d35b07",
   "metadata": {},
   "source": [
    "<h3>1.3.3 np.logspace(start,stop,num)</h3>\n",
    "<ul>\n",
    "<li>创建以10为底的等比数列</li>\n",
    "<li>参数\n",
    "<ul>\n",
    "    <li>num:要生成的等比数列的数量，默认为50</li>\n",
    "</ul>\n",
    "</li>\n",
    "</ul>"
   ]
  },
  {
   "cell_type": "code",
   "execution_count": 29,
   "id": "8a7bbf30-b28d-46dc-b370-83a0b794ecca",
   "metadata": {},
   "outputs": [],
   "source": [
    "# 生成10的n次方\n",
    "arr_los = np.logspace(0,2,3)\n",
    "# 0,2,3 从10的0 次方到 10的2次方"
   ]
  },
  {
   "cell_type": "code",
   "execution_count": 30,
   "id": "3e88ad2d-8c92-4f1f-a2a0-1cb10fa73bf1",
   "metadata": {},
   "outputs": [
    {
     "data": {
      "text/plain": [
       "array([  1.,  10., 100.])"
      ]
     },
     "execution_count": 30,
     "metadata": {},
     "output_type": "execute_result"
    }
   ],
   "source": [
    "arr_los"
   ]
  }
 ],
 "metadata": {
  "kernelspec": {
   "display_name": "Python 3 (ipykernel)",
   "language": "python",
   "name": "python3"
  },
  "language_info": {
   "codemirror_mode": {
    "name": "ipython",
    "version": 3
   },
   "file_extension": ".py",
   "mimetype": "text/x-python",
   "name": "python",
   "nbconvert_exporter": "python",
   "pygments_lexer": "ipython3",
   "version": "3.9.7"
  }
 },
 "nbformat": 4,
 "nbformat_minor": 5
}
