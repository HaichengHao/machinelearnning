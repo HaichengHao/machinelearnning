{
 "cells": [
  {
   "cell_type": "code",
   "execution_count": 1,
   "id": "c30f570c-760a-4d0f-8134-5675ab4764e7",
   "metadata": {},
   "outputs": [
    {
     "data": {
      "text/html": [
       "<style type=\"text/css\">\n",
       "    h1{\n",
       "        color:#FE7E00;\n",
       "        font-weight:bold;\n",
       "    }\n",
       "    h2{\n",
       "        color:#0D47A1;\n",
       "        # font-weight:bold;\n",
       "    }\n",
       "    h3{\n",
       "        color:#3c3c3c;\n",
       "    }\n",
       "    th{\n",
       "        border:1px solid black;\n",
       "        color:white;\n",
       "        background-color:#FE7E00;\n",
       "    }\n",
       "    # th td{\n",
       "    #     border:1px solid black;\n",
       "    # }\n",
       "    .tline{\n",
       "        border:1px solid black;\n",
       "        border-collapse:collapse;\n",
       "    }\n",
       "    .tline td{\n",
       "        border:1px solid black;\n",
       "    }\n",
       "    .tline td:hover{\n",
       "        background-color:blueviolet;\n",
       "        color:white;\n",
       "        transform:scale(1.05)\n",
       "    }\n",
       "</style>\n"
      ],
      "text/plain": [
       "<IPython.core.display.HTML object>"
      ]
     },
     "metadata": {},
     "output_type": "display_data"
    }
   ],
   "source": [
    "%%HTML\n",
    "<style type=\"text/css\">\n",
    "    h1{\n",
    "        color:#FE7E00;\n",
    "        font-weight:bold;\n",
    "    }\n",
    "    h2{\n",
    "        color:#0D47A1;\n",
    "        # font-weight:bold;\n",
    "    }\n",
    "    h3{\n",
    "        color:#3c3c3c;\n",
    "    }\n",
    "    th{\n",
    "        border:1px solid black;\n",
    "        color:white;\n",
    "        background-color:#FE7E00;\n",
    "    }\n",
    "    # th td{\n",
    "    #     border:1px solid black;\n",
    "    # }\n",
    "    .tline{\n",
    "        border:1px solid black;\n",
    "        border-collapse:collapse;\n",
    "    }\n",
    "    .tline td{\n",
    "        border:1px solid black;\n",
    "    }\n",
    "    .tline td:hover{\n",
    "        background-color:blueviolet;\n",
    "        color:white;\n",
    "        transform:scale(1.05)\n",
    "    }\n",
    "</style>"
   ]
  },
  {
   "cell_type": "markdown",
   "id": "bba08b29-dc94-4f8f-92a5-dec990511c28",
   "metadata": {},
   "source": [
    "<h2>1.4生成随机数组</h2>"
   ]
  },
  {
   "cell_type": "markdown",
   "id": "21067b4c-74a0-4690-9bb3-62eabd92b2f8",
   "metadata": {},
   "source": [
    "<h3>1.4.1使用模块介绍</h3>"
   ]
  },
  {
   "cell_type": "markdown",
   "id": "a33ecfaf-60b7-41fe-87a2-4d534f459037",
   "metadata": {},
   "source": [
    "<li>np.random()</li>"
   ]
  },
  {
   "cell_type": "code",
   "execution_count": null,
   "id": "b2c68911-cc4f-4b0d-8014-6e994bea607b",
   "metadata": {},
   "outputs": [],
   "source": []
  }
 ],
 "metadata": {
  "kernelspec": {
   "display_name": "Python 3 (ipykernel)",
   "language": "python",
   "name": "python3"
  },
  "language_info": {
   "codemirror_mode": {
    "name": "ipython",
    "version": 3
   },
   "file_extension": ".py",
   "mimetype": "text/x-python",
   "name": "python",
   "nbconvert_exporter": "python",
   "pygments_lexer": "ipython3",
   "version": "3.9.7"
  }
 },
 "nbformat": 4,
 "nbformat_minor": 5
}
