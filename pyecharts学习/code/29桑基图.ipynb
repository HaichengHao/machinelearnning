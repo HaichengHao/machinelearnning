{
 "cells": [
  {
   "cell_type": "code",
   "execution_count": 1,
   "id": "2e387171-a4a4-4fe4-ad22-872ab2ed4ee7",
   "metadata": {},
   "outputs": [
    {
     "data": {
      "text/html": [
       "<style type='text/css'>\n",
       "    *{\n",
       "        # background-color:#E3EDCD;\n",
       "        # background-color:black;\n",
       "        # color:white;\n",
       "        \n",
       "    }\n",
       "    h1{\n",
       "        color:#1976d2;\n",
       "    }\n",
       "    h2{\n",
       "        color:#f57c00;\n",
       "    }\n",
       "    h3{\n",
       "        color:#ba37ff;\n",
       "    }\n",
       "    h4{\n",
       "        color:green;\n",
       "    }\n",
       "    table{\n",
       "        border:1px solid black !important;\n",
       "        border-collapse:collapse !important;\n",
       "    }\n",
       "    th{\n",
       "        background-color:blueviolet !important;\n",
       "        text-align:center;\n",
       "        color:white;\n",
       "    }\n",
       "    th,td{\n",
       "        border:0.1px solid black !important;\n",
       "        transition:0.2s all liner;\n",
       "        \n",
       "    }\n",
       "    td:hover{\n",
       "        transform:scale(1.1);\n",
       "        background-color:orange;\n",
       "        color:blueviolet;\n",
       "    }\n",
       "    .raw{\n",
       "        white-space:pre;\n",
       "    }\n",
       "    .atcenter{\n",
       "        text-align:center !important;\n",
       "    }\n",
       "    .imp{\n",
       "        color:red;\n",
       "        font-weight:bolder;\n",
       "    }\n",
       "</style>\n"
      ],
      "text/plain": [
       "<IPython.core.display.HTML object>"
      ]
     },
     "metadata": {},
     "output_type": "display_data"
    }
   ],
   "source": [
    "%%HTML\n",
    "<style type='text/css'>\n",
    "    *{\n",
    "        # background-color:#E3EDCD;\n",
    "        # background-color:black;\n",
    "        # color:white;\n",
    "        \n",
    "    }\n",
    "    h1{\n",
    "        color:#1976d2;\n",
    "    }\n",
    "    h2{\n",
    "        color:#f57c00;\n",
    "    }\n",
    "    h3{\n",
    "        color:#ba37ff;\n",
    "    }\n",
    "    h4{\n",
    "        color:green;\n",
    "    }\n",
    "    table{\n",
    "        border:1px solid black !important;\n",
    "        border-collapse:collapse !important;\n",
    "    }\n",
    "    th{\n",
    "        background-color:blueviolet !important;\n",
    "        text-align:center;\n",
    "        color:white;\n",
    "    }\n",
    "    th,td{\n",
    "        border:0.1px solid black !important;\n",
    "        transition:0.2s all liner;\n",
    "        \n",
    "    }\n",
    "    td:hover{\n",
    "        transform:scale(1.1);\n",
    "        background-color:orange;\n",
    "        color:blueviolet;\n",
    "    }\n",
    "    .raw{\n",
    "        white-space:pre;\n",
    "    }\n",
    "    .atcenter{\n",
    "        text-align:center !important;\n",
    "    }\n",
    "    .imp{\n",
    "        color:red;\n",
    "        font-weight:bolder;\n",
    "    }\n",
    "</style>"
   ]
  },
  {
   "cell_type": "markdown",
   "id": "40996f41-5724-4125-91da-bb043f0f723e",
   "metadata": {},
   "source": [
    "# 桑基图"
   ]
  },
  {
   "cell_type": "code",
   "execution_count": 2,
   "id": "ae7f5033-46de-4924-9dad-eb8bc4a3d13a",
   "metadata": {},
   "outputs": [],
   "source": [
    "from pyecharts.globals import CurrentConfig,NotebookType\n",
    "CurrentConfig.NOTEBOOK_TYPE = NotebookType.JUPYTER_LAB\n",
    "import pyecharts.options as opts\n",
    "from pyecharts.charts import Sankey"
   ]
  },
  {
   "cell_type": "markdown",
   "id": "6c0e8f2f-dcea-4efc-b518-2b577029282c",
   "metadata": {},
   "source": [
    "### 数据准备"
   ]
  },
  {
   "cell_type": "code",
   "execution_count": 11,
   "id": "d1530508-4b70-41d8-bf4a-5d86fb86e28d",
   "metadata": {},
   "outputs": [],
   "source": [
    "nodes = []"
   ]
  },
  {
   "cell_type": "code",
   "execution_count": 12,
   "id": "fd88e73d-69d7-46bf-8277-8053821073be",
   "metadata": {},
   "outputs": [],
   "source": [
    "for i in range(1,8):\n",
    "    nodes.append({'name':'c'+str(i)})"
   ]
  },
  {
   "cell_type": "markdown",
   "id": "e69f510e-3724-400d-8b5b-35758833ecba",
   "metadata": {},
   "source": [
    "### 创建节点"
   ]
  },
  {
   "cell_type": "code",
   "execution_count": 13,
   "id": "55e31943-5374-41ad-b382-341a327360f0",
   "metadata": {},
   "outputs": [
    {
     "data": {
      "text/plain": [
       "[{'name': 'c1'},\n",
       " {'name': 'c2'},\n",
       " {'name': 'c3'},\n",
       " {'name': 'c4'},\n",
       " {'name': 'c5'},\n",
       " {'name': 'c6'},\n",
       " {'name': 'c7'}]"
      ]
     },
     "execution_count": 13,
     "metadata": {},
     "output_type": "execute_result"
    }
   ],
   "source": [
    "nodes"
   ]
  },
  {
   "cell_type": "markdown",
   "id": "72c6ff8f-967e-4e24-909b-f9c21df8f346",
   "metadata": {},
   "source": [
    "### 创建关系"
   ]
  },
  {
   "cell_type": "markdown",
   "id": "eef1506a-196b-43de-974d-01aa2ecd0a98",
   "metadata": {},
   "source": [
    "其实就是各个节点之间的链接关系"
   ]
  },
  {
   "cell_type": "code",
   "execution_count": 27,
   "id": "5d2b8d76-6ed4-42fe-afe6-f8f342c257c2",
   "metadata": {},
   "outputs": [],
   "source": [
    "links = [\n",
    "    {'source':'c1','target':'c2','value':10},\n",
    "    {'source':'c2','target':'c3','value':20},\n",
    "    {'source':'c3','target':'c4','value':30},\n",
    "    {'source':'c4','target':'c5','value':40},\n",
    "    {'source':'c5','target':'c6','value':50},\n",
    "]"
   ]
  },
  {
   "cell_type": "code",
   "execution_count": 36,
   "id": "9bb2ffd6-15b9-44f5-8c1e-02eea3c62eef",
   "metadata": {},
   "outputs": [],
   "source": [
    "c = (\n",
    "    Sankey()\n",
    "    .add(\n",
    "        '',\n",
    "        nodes=nodes, #要使用的节点数据\n",
    "        links=links, #要使用的节点间的连接关系\n",
    "        linestyle_opt=opts.LineStyleOpts(\n",
    "            opacity=0.3,\n",
    "            curve=0.6 #设置灰色区域的·曲线幅度\n",
    "        )\n",
    "    )\n",
    "    .set_global_opts(\n",
    "        title_opts=opts.TitleOpts(\n",
    "            title='桑基图'\n",
    "        )\n",
    "    )\n",
    ")"
   ]
  },
  {
   "cell_type": "code",
   "execution_count": 37,
   "id": "bba71938-68e6-4f05-83bb-67b07016b44c",
   "metadata": {},
   "outputs": [
    {
     "data": {
      "application/javascript": [
       "new Promise(function(resolve, reject) {\n",
       "    var script = document.createElement(\"script\");\n",
       "    script.onload = resolve;\n",
       "    script.onerror = reject;\n",
       "    script.src = \"https://assets.pyecharts.org/assets/v5/echarts.min.js\";\n",
       "    document.head.appendChild(script);\n",
       "}).then(() => {\n",
       "\n",
       "});"
      ],
      "text/plain": [
       "<pyecharts.render.display.Javascript at 0x1cd495676d0>"
      ]
     },
     "execution_count": 37,
     "metadata": {},
     "output_type": "execute_result"
    }
   ],
   "source": [
    "c.load_javascript()"
   ]
  },
  {
   "cell_type": "code",
   "execution_count": 38,
   "id": "9030d312-a963-4a30-9db6-a23295bef100",
   "metadata": {},
   "outputs": [
    {
     "data": {
      "text/html": [
       "<!DOCTYPE html>\n",
       "<html>\n",
       "<head>\n",
       "    <meta charset=\"UTF-8\">\n",
       "</head>\n",
       "<body>\n",
       "        <div id=\"f9bed6e554214cb4a5c590360c669ae3\" class=\"chart-container\" style=\"width:900px; height:500px; \"></div>\n",
       "    <script>\n",
       "        var chart_f9bed6e554214cb4a5c590360c669ae3 = echarts.init(\n",
       "            document.getElementById('f9bed6e554214cb4a5c590360c669ae3'), 'white', {renderer: 'canvas'});\n",
       "        var option_f9bed6e554214cb4a5c590360c669ae3 = {\n",
       "    \"animation\": true,\n",
       "    \"animationThreshold\": 2000,\n",
       "    \"animationDuration\": 1000,\n",
       "    \"animationEasing\": \"cubicOut\",\n",
       "    \"animationDelay\": 0,\n",
       "    \"animationDurationUpdate\": 300,\n",
       "    \"animationEasingUpdate\": \"cubicOut\",\n",
       "    \"animationDelayUpdate\": 0,\n",
       "    \"aria\": {\n",
       "        \"enabled\": false\n",
       "    },\n",
       "    \"color\": [\n",
       "        \"#5470c6\",\n",
       "        \"#91cc75\",\n",
       "        \"#fac858\",\n",
       "        \"#ee6666\",\n",
       "        \"#73c0de\",\n",
       "        \"#3ba272\",\n",
       "        \"#fc8452\",\n",
       "        \"#9a60b4\",\n",
       "        \"#ea7ccc\"\n",
       "    ],\n",
       "    \"series\": [\n",
       "        {\n",
       "            \"type\": \"sankey\",\n",
       "            \"data\": [\n",
       "                {\n",
       "                    \"name\": \"c1\"\n",
       "                },\n",
       "                {\n",
       "                    \"name\": \"c2\"\n",
       "                },\n",
       "                {\n",
       "                    \"name\": \"c3\"\n",
       "                },\n",
       "                {\n",
       "                    \"name\": \"c4\"\n",
       "                },\n",
       "                {\n",
       "                    \"name\": \"c5\"\n",
       "                },\n",
       "                {\n",
       "                    \"name\": \"c6\"\n",
       "                },\n",
       "                {\n",
       "                    \"name\": \"c7\"\n",
       "                }\n",
       "            ],\n",
       "            \"links\": [\n",
       "                {\n",
       "                    \"source\": \"c1\",\n",
       "                    \"target\": \"c2\",\n",
       "                    \"value\": 10\n",
       "                },\n",
       "                {\n",
       "                    \"source\": \"c2\",\n",
       "                    \"target\": \"c3\",\n",
       "                    \"value\": 20\n",
       "                },\n",
       "                {\n",
       "                    \"source\": \"c3\",\n",
       "                    \"target\": \"c4\",\n",
       "                    \"value\": 30\n",
       "                },\n",
       "                {\n",
       "                    \"source\": \"c4\",\n",
       "                    \"target\": \"c5\",\n",
       "                    \"value\": 40\n",
       "                },\n",
       "                {\n",
       "                    \"source\": \"c5\",\n",
       "                    \"target\": \"c6\",\n",
       "                    \"value\": 50\n",
       "                }\n",
       "            ],\n",
       "            \"left\": \"5%\",\n",
       "            \"top\": \"5%\",\n",
       "            \"right\": \"20%\",\n",
       "            \"bottom\": \"5%\",\n",
       "            \"nodeWidth\": 20,\n",
       "            \"nodeGap\": 8,\n",
       "            \"nodeAlign\": \"justify\",\n",
       "            \"orient\": \"horizontal\",\n",
       "            \"draggable\": true,\n",
       "            \"label\": {\n",
       "                \"show\": true,\n",
       "                \"margin\": 8\n",
       "            },\n",
       "            \"lineStyle\": {\n",
       "                \"show\": true,\n",
       "                \"width\": 1,\n",
       "                \"opacity\": 0.3,\n",
       "                \"curveness\": 0.6,\n",
       "                \"type\": \"solid\"\n",
       "            }\n",
       "        }\n",
       "    ],\n",
       "    \"legend\": [\n",
       "        {\n",
       "            \"data\": [\n",
       "                \"\"\n",
       "            ],\n",
       "            \"selected\": {},\n",
       "            \"show\": true,\n",
       "            \"padding\": 5,\n",
       "            \"itemGap\": 10,\n",
       "            \"itemWidth\": 25,\n",
       "            \"itemHeight\": 14,\n",
       "            \"backgroundColor\": \"transparent\",\n",
       "            \"borderColor\": \"#ccc\",\n",
       "            \"borderRadius\": 0,\n",
       "            \"pageButtonItemGap\": 5,\n",
       "            \"pageButtonPosition\": \"end\",\n",
       "            \"pageFormatter\": \"{current}/{total}\",\n",
       "            \"pageIconColor\": \"#2f4554\",\n",
       "            \"pageIconInactiveColor\": \"#aaa\",\n",
       "            \"pageIconSize\": 15,\n",
       "            \"animationDurationUpdate\": 800,\n",
       "            \"selector\": false,\n",
       "            \"selectorPosition\": \"auto\",\n",
       "            \"selectorItemGap\": 7,\n",
       "            \"selectorButtonGap\": 10\n",
       "        }\n",
       "    ],\n",
       "    \"tooltip\": {\n",
       "        \"show\": true,\n",
       "        \"trigger\": \"item\",\n",
       "        \"triggerOn\": \"mousemove|click\",\n",
       "        \"axisPointer\": {\n",
       "            \"type\": \"line\"\n",
       "        },\n",
       "        \"showContent\": true,\n",
       "        \"alwaysShowContent\": false,\n",
       "        \"showDelay\": 0,\n",
       "        \"hideDelay\": 100,\n",
       "        \"enterable\": false,\n",
       "        \"confine\": false,\n",
       "        \"appendToBody\": false,\n",
       "        \"transitionDuration\": 0.4,\n",
       "        \"textStyle\": {\n",
       "            \"fontSize\": 14\n",
       "        },\n",
       "        \"borderWidth\": 0,\n",
       "        \"padding\": 5,\n",
       "        \"order\": \"seriesAsc\"\n",
       "    },\n",
       "    \"title\": [\n",
       "        {\n",
       "            \"show\": true,\n",
       "            \"text\": \"\\u6851\\u57fa\\u56fe\",\n",
       "            \"target\": \"blank\",\n",
       "            \"subtarget\": \"blank\",\n",
       "            \"padding\": 5,\n",
       "            \"itemGap\": 10,\n",
       "            \"textAlign\": \"auto\",\n",
       "            \"textVerticalAlign\": \"auto\",\n",
       "            \"triggerEvent\": false\n",
       "        }\n",
       "    ]\n",
       "};\n",
       "        chart_f9bed6e554214cb4a5c590360c669ae3.setOption(option_f9bed6e554214cb4a5c590360c669ae3);\n",
       "    </script>\n",
       "</body>\n",
       "</html>\n"
      ],
      "text/plain": [
       "<pyecharts.render.display.HTML at 0x1cd48d14940>"
      ]
     },
     "execution_count": 38,
     "metadata": {},
     "output_type": "execute_result"
    }
   ],
   "source": [
    "c.render_notebook()"
   ]
  },
  {
   "cell_type": "code",
   "execution_count": null,
   "id": "5520b4be-0954-41a8-bcef-ca2cfe6124b3",
   "metadata": {},
   "outputs": [],
   "source": []
  }
 ],
 "metadata": {
  "kernelspec": {
   "display_name": "Python 3 (ipykernel)",
   "language": "python",
   "name": "python3"
  },
  "language_info": {
   "codemirror_mode": {
    "name": "ipython",
    "version": 3
   },
   "file_extension": ".py",
   "mimetype": "text/x-python",
   "name": "python",
   "nbconvert_exporter": "python",
   "pygments_lexer": "ipython3",
   "version": "3.9.7"
  }
 },
 "nbformat": 4,
 "nbformat_minor": 5
}
