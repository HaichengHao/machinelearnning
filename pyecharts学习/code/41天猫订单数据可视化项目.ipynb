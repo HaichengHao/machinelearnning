{
 "cells": [
  {
   "cell_type": "code",
   "execution_count": 63,
   "id": "c22f5c20-636c-4503-ab4d-c38cade8b705",
   "metadata": {},
   "outputs": [
    {
     "data": {
      "text/html": [
       "<style type='text/css'>\n",
       "    *{\n",
       "        # background-color:#E3EDCD;\n",
       "        # background-color:black;\n",
       "        # color:white;\n",
       "        \n",
       "    }\n",
       "    h1{\n",
       "        color:#1976d2;\n",
       "    }\n",
       "    h2{\n",
       "        color:#f57c00;\n",
       "    }\n",
       "    h3{\n",
       "        color:#ba37ff;\n",
       "    }\n",
       "    h4{\n",
       "        color:green;\n",
       "    }\n",
       "    table{\n",
       "        border:1px solid black !important;\n",
       "        border-collapse:collapse !important;\n",
       "    }\n",
       "    th{\n",
       "        background-color:blueviolet !important;\n",
       "        text-align:center;\n",
       "        color:white;\n",
       "    }\n",
       "    th,td{\n",
       "        border:0.1px solid black !important;\n",
       "        transition:0.2s all liner;\n",
       "        \n",
       "    }\n",
       "    td:hover{\n",
       "        transform:scale(1.1);\n",
       "        background-color:orange;\n",
       "        color:blueviolet;\n",
       "    }\n",
       "    .raw{\n",
       "        white-space:pre;\n",
       "    }\n",
       "    .atcenter{\n",
       "        text-align:center !important;\n",
       "    }\n",
       "    .imp{\n",
       "        color:red;\n",
       "        font-weight:bolder;\n",
       "    }\n",
       "</style>\n"
      ],
      "text/plain": [
       "<IPython.core.display.HTML object>"
      ]
     },
     "metadata": {},
     "output_type": "display_data"
    }
   ],
   "source": [
    "%%HTML\n",
    "<style type='text/css'>\n",
    "    *{\n",
    "        # background-color:#E3EDCD;\n",
    "        # background-color:black;\n",
    "        # color:white;\n",
    "        \n",
    "    }\n",
    "    h1{\n",
    "        color:#1976d2;\n",
    "    }\n",
    "    h2{\n",
    "        color:#f57c00;\n",
    "    }\n",
    "    h3{\n",
    "        color:#ba37ff;\n",
    "    }\n",
    "    h4{\n",
    "        color:green;\n",
    "    }\n",
    "    table{\n",
    "        border:1px solid black !important;\n",
    "        border-collapse:collapse !important;\n",
    "    }\n",
    "    th{\n",
    "        background-color:blueviolet !important;\n",
    "        text-align:center;\n",
    "        color:white;\n",
    "    }\n",
    "    th,td{\n",
    "        border:0.1px solid black !important;\n",
    "        transition:0.2s all liner;\n",
    "        \n",
    "    }\n",
    "    td:hover{\n",
    "        transform:scale(1.1);\n",
    "        background-color:orange;\n",
    "        color:blueviolet;\n",
    "    }\n",
    "    .raw{\n",
    "        white-space:pre;\n",
    "    }\n",
    "    .atcenter{\n",
    "        text-align:center !important;\n",
    "    }\n",
    "    .imp{\n",
    "        color:red;\n",
    "        font-weight:bolder;\n",
    "    }\n",
    "</style>"
   ]
  },
  {
   "cell_type": "markdown",
   "id": "b6195bb8-549c-4075-ab05-bd60230744f8",
   "metadata": {},
   "source": [
    "# 天猫订单数据分析"
   ]
  },
  {
   "cell_type": "markdown",
   "id": "a74c7c30-914f-4354-8e4e-d8c6ac46d76b",
   "metadata": {},
   "source": [
    "本数据集共手机了发生在一个月内的28010条数据,包含  \n",
    "- 订单编号 \n",
    "- 总金额  \n",
    "- 买家实际支付金额: 总金额-退款金额  \n",
    "- 收货地址:各个省份\n",
    "- 订单创建时间\n",
    "- 订单付款时间\n",
    "- 退款金额: 付款后申请退款的金额,如未付款,退款金额为0"
   ]
  },
  {
   "cell_type": "markdown",
   "id": "f397ed0d-e3bd-4017-b385-5290d22510f2",
   "metadata": {},
   "source": [
    "## 导入需要的包"
   ]
  },
  {
   "cell_type": "code",
   "execution_count": 64,
   "id": "f96cd6fc-d293-4928-832b-0659ac032008",
   "metadata": {},
   "outputs": [],
   "source": [
    "from pyecharts.globals import CurrentConfig,NotebookType\n",
    "import pyecharts.options as opts\n",
    "CurrentConfig.NOTEBOOK_TYPE = NotebookType.JUPYTER_LAB\n",
    "from pyecharts.charts import Bar,Line,Pie,Map,Timeline\n",
    "import pandas as pd\n",
    "import numpy as np"
   ]
  },
  {
   "cell_type": "markdown",
   "id": "5dd5100c-be8e-492d-b51b-7b6f64b1a507",
   "metadata": {},
   "source": [
    "## 数据准备阶段"
   ]
  },
  {
   "cell_type": "markdown",
   "id": "e15a8afa-d1e2-41f1-bd95-f71882341518",
   "metadata": {},
   "source": [
    "### 先读入数据"
   ]
  },
  {
   "cell_type": "code",
   "execution_count": 65,
   "id": "945692ab-a8ee-4cf4-a712-9d04c0498d59",
   "metadata": {},
   "outputs": [],
   "source": [
    "data = pd.read_csv('../others/tmall_order_report.csv')"
   ]
  },
  {
   "cell_type": "code",
   "execution_count": 66,
   "id": "42963d6b-7a3d-4baf-9f36-c783615fd37d",
   "metadata": {},
   "outputs": [
    {
     "data": {
      "text/html": [
       "<div>\n",
       "<style scoped>\n",
       "    .dataframe tbody tr th:only-of-type {\n",
       "        vertical-align: middle;\n",
       "    }\n",
       "\n",
       "    .dataframe tbody tr th {\n",
       "        vertical-align: top;\n",
       "    }\n",
       "\n",
       "    .dataframe thead th {\n",
       "        text-align: right;\n",
       "    }\n",
       "</style>\n",
       "<table border=\"1\" class=\"dataframe\">\n",
       "  <thead>\n",
       "    <tr style=\"text-align: right;\">\n",
       "      <th></th>\n",
       "      <th>订单编号</th>\n",
       "      <th>总金额</th>\n",
       "      <th>买家实际支付金额</th>\n",
       "      <th>收货地址</th>\n",
       "      <th>订单创建时间</th>\n",
       "      <th>订单付款时间</th>\n",
       "      <th>退款金额</th>\n",
       "    </tr>\n",
       "  </thead>\n",
       "  <tbody>\n",
       "    <tr>\n",
       "      <th>0</th>\n",
       "      <td>1</td>\n",
       "      <td>178.8</td>\n",
       "      <td>0.0</td>\n",
       "      <td>上海</td>\n",
       "      <td>2022-03-21 00:00:00</td>\n",
       "      <td>NaN</td>\n",
       "      <td>0.0</td>\n",
       "    </tr>\n",
       "    <tr>\n",
       "      <th>1</th>\n",
       "      <td>2</td>\n",
       "      <td>21.0</td>\n",
       "      <td>21.0</td>\n",
       "      <td>内蒙古自治区</td>\n",
       "      <td>2022-03-20 23:59:54</td>\n",
       "      <td>2022-03-21 00:00:02</td>\n",
       "      <td>0.0</td>\n",
       "    </tr>\n",
       "    <tr>\n",
       "      <th>2</th>\n",
       "      <td>3</td>\n",
       "      <td>37.0</td>\n",
       "      <td>0.0</td>\n",
       "      <td>安徽省</td>\n",
       "      <td>2022-03-20 23:59:35</td>\n",
       "      <td>NaN</td>\n",
       "      <td>0.0</td>\n",
       "    </tr>\n",
       "    <tr>\n",
       "      <th>3</th>\n",
       "      <td>4</td>\n",
       "      <td>157.0</td>\n",
       "      <td>157.0</td>\n",
       "      <td>湖南省</td>\n",
       "      <td>2022-03-20 23:58:34</td>\n",
       "      <td>2022-03-20 23:58:44</td>\n",
       "      <td>0.0</td>\n",
       "    </tr>\n",
       "    <tr>\n",
       "      <th>4</th>\n",
       "      <td>5</td>\n",
       "      <td>64.8</td>\n",
       "      <td>0.0</td>\n",
       "      <td>江苏省</td>\n",
       "      <td>2022-03-20 23:57:04</td>\n",
       "      <td>2022-03-20 23:57:11</td>\n",
       "      <td>64.8</td>\n",
       "    </tr>\n",
       "  </tbody>\n",
       "</table>\n",
       "</div>"
      ],
      "text/plain": [
       "   订单编号    总金额  买家实际支付金额   收货地址                订单创建时间              订单付款时间   \\\n",
       "0     1  178.8       0.0      上海  2022-03-21 00:00:00                  NaN   \n",
       "1     2   21.0      21.0  内蒙古自治区  2022-03-20 23:59:54  2022-03-21 00:00:02   \n",
       "2     3   37.0       0.0     安徽省  2022-03-20 23:59:35                  NaN   \n",
       "3     4  157.0     157.0     湖南省  2022-03-20 23:58:34  2022-03-20 23:58:44   \n",
       "4     5   64.8       0.0     江苏省  2022-03-20 23:57:04  2022-03-20 23:57:11   \n",
       "\n",
       "   退款金额  \n",
       "0   0.0  \n",
       "1   0.0  \n",
       "2   0.0  \n",
       "3   0.0  \n",
       "4  64.8  "
      ]
     },
     "execution_count": 66,
     "metadata": {},
     "output_type": "execute_result"
    }
   ],
   "source": [
    "data.head()"
   ]
  },
  {
   "cell_type": "code",
   "execution_count": 67,
   "id": "56b6d1ef-cc3a-426e-860a-ef0cf9dabf2d",
   "metadata": {},
   "outputs": [
    {
     "data": {
      "text/html": [
       "<div>\n",
       "<style scoped>\n",
       "    .dataframe tbody tr th:only-of-type {\n",
       "        vertical-align: middle;\n",
       "    }\n",
       "\n",
       "    .dataframe tbody tr th {\n",
       "        vertical-align: top;\n",
       "    }\n",
       "\n",
       "    .dataframe thead th {\n",
       "        text-align: right;\n",
       "    }\n",
       "</style>\n",
       "<table border=\"1\" class=\"dataframe\">\n",
       "  <thead>\n",
       "    <tr style=\"text-align: right;\">\n",
       "      <th></th>\n",
       "      <th>订单编号</th>\n",
       "      <th>总金额</th>\n",
       "      <th>买家实际支付金额</th>\n",
       "      <th>收货地址</th>\n",
       "      <th>订单创建时间</th>\n",
       "      <th>订单付款时间</th>\n",
       "      <th>退款金额</th>\n",
       "    </tr>\n",
       "  </thead>\n",
       "  <tbody>\n",
       "    <tr>\n",
       "      <th>28005</th>\n",
       "      <td>28006</td>\n",
       "      <td>37.0</td>\n",
       "      <td>37.0</td>\n",
       "      <td>四川省</td>\n",
       "      <td>2022-03-27 00:01:00</td>\n",
       "      <td>2022-03-27 00:01:10</td>\n",
       "      <td>0.0</td>\n",
       "    </tr>\n",
       "    <tr>\n",
       "      <th>28006</th>\n",
       "      <td>28007</td>\n",
       "      <td>69.0</td>\n",
       "      <td>0.0</td>\n",
       "      <td>上海</td>\n",
       "      <td>2022-03-27 00:00:18</td>\n",
       "      <td>NaN</td>\n",
       "      <td>0.0</td>\n",
       "    </tr>\n",
       "    <tr>\n",
       "      <th>28007</th>\n",
       "      <td>28008</td>\n",
       "      <td>69.0</td>\n",
       "      <td>0.0</td>\n",
       "      <td>上海</td>\n",
       "      <td>2022-03-27 00:00:17</td>\n",
       "      <td>NaN</td>\n",
       "      <td>0.0</td>\n",
       "    </tr>\n",
       "    <tr>\n",
       "      <th>28008</th>\n",
       "      <td>28009</td>\n",
       "      <td>37.0</td>\n",
       "      <td>37.0</td>\n",
       "      <td>辽宁省</td>\n",
       "      <td>2022-03-27 00:00:09</td>\n",
       "      <td>2022-03-27 00:00:17</td>\n",
       "      <td>0.0</td>\n",
       "    </tr>\n",
       "    <tr>\n",
       "      <th>28009</th>\n",
       "      <td>28010</td>\n",
       "      <td>37.0</td>\n",
       "      <td>37.0</td>\n",
       "      <td>广东省</td>\n",
       "      <td>2022-03-27 00:00:06</td>\n",
       "      <td>2022-03-27 00:00:11</td>\n",
       "      <td>0.0</td>\n",
       "    </tr>\n",
       "  </tbody>\n",
       "</table>\n",
       "</div>"
      ],
      "text/plain": [
       "        订单编号   总金额  买家实际支付金额 收货地址                订单创建时间              订单付款时间   \\\n",
       "28005  28006  37.0      37.0   四川省  2022-03-27 00:01:00  2022-03-27 00:01:10   \n",
       "28006  28007  69.0       0.0    上海  2022-03-27 00:00:18                  NaN   \n",
       "28007  28008  69.0       0.0    上海  2022-03-27 00:00:17                  NaN   \n",
       "28008  28009  37.0      37.0   辽宁省  2022-03-27 00:00:09  2022-03-27 00:00:17   \n",
       "28009  28010  37.0      37.0   广东省  2022-03-27 00:00:06  2022-03-27 00:00:11   \n",
       "\n",
       "       退款金额  \n",
       "28005   0.0  \n",
       "28006   0.0  \n",
       "28007   0.0  \n",
       "28008   0.0  \n",
       "28009   0.0  "
      ]
     },
     "execution_count": 67,
     "metadata": {},
     "output_type": "execute_result"
    }
   ],
   "source": [
    "data.tail()"
   ]
  },
  {
   "cell_type": "code",
   "execution_count": 68,
   "id": "0062c7b5-77ab-4ab9-9f28-a8a69e0024db",
   "metadata": {},
   "outputs": [
    {
     "data": {
      "text/plain": [
       "(28010, 7)"
      ]
     },
     "execution_count": 68,
     "metadata": {},
     "output_type": "execute_result"
    }
   ],
   "source": [
    "data.shape"
   ]
  },
  {
   "cell_type": "code",
   "execution_count": 69,
   "id": "8c69bcb1-6cc5-475d-9125-27bfaaf15157",
   "metadata": {},
   "outputs": [
    {
     "data": {
      "text/plain": [
       "Index(['订单编号', '总金额', '买家实际支付金额', '收货地址 ', '订单创建时间', '订单付款时间 ', '退款金额'], dtype='object')"
      ]
     },
     "execution_count": 69,
     "metadata": {},
     "output_type": "execute_result"
    }
   ],
   "source": [
    "data.columns"
   ]
  },
  {
   "cell_type": "markdown",
   "id": "c3dd01d5-1f17-4356-a601-c2f6c0521a05",
   "metadata": {},
   "source": [
    "### 查看数据列中是否有空值"
   ]
  },
  {
   "cell_type": "code",
   "execution_count": 70,
   "id": "6de32cbb-4d1c-4e09-8fea-8d8b11e2fbda",
   "metadata": {},
   "outputs": [
    {
     "name": "stdout",
     "output_type": "stream",
     "text": [
      "<class 'pandas.core.frame.DataFrame'>\n",
      "RangeIndex: 28010 entries, 0 to 28009\n",
      "Data columns (total 7 columns):\n",
      " #   Column    Non-Null Count  Dtype  \n",
      "---  ------    --------------  -----  \n",
      " 0   订单编号      28010 non-null  int64  \n",
      " 1   总金额       28010 non-null  float64\n",
      " 2   买家实际支付金额  28010 non-null  float64\n",
      " 3   收货地址      28010 non-null  object \n",
      " 4   订单创建时间    28010 non-null  object \n",
      " 5   订单付款时间    24087 non-null  object \n",
      " 6   退款金额      28010 non-null  float64\n",
      "dtypes: float64(3), int64(1), object(3)\n",
      "memory usage: 1.5+ MB\n"
     ]
    }
   ],
   "source": [
    "data.info()"
   ]
  },
  {
   "cell_type": "markdown",
   "id": "0005ceaf-de9b-4ce4-950e-3b87a472536b",
   "metadata": {},
   "source": [
    "#### ↑可以看出是有空值的,如索引5订单付款时间列非空的数据只有24087个,不足28010个"
   ]
  },
  {
   "cell_type": "markdown",
   "id": "201fa7dd-02ed-43f0-97e8-9588ddcfc5e6",
   "metadata": {},
   "source": [
    "### 数据处理,去掉列明中的文字左右空格"
   ]
  },
  {
   "cell_type": "code",
   "execution_count": 71,
   "id": "46deed90-862a-4221-9cb1-481ec65fdcf4",
   "metadata": {},
   "outputs": [
    {
     "data": {
      "text/plain": [
       "Index(['订单编号', '总金额', '买家实际支付金额', '收货地址 ', '订单创建时间', '订单付款时间 ', '退款金额'], dtype='object')"
      ]
     },
     "execution_count": 71,
     "metadata": {},
     "output_type": "execute_result"
    }
   ],
   "source": [
    "data.columns"
   ]
  },
  {
   "cell_type": "markdown",
   "id": "5b6b06f3-b3b2-47fc-b4a7-f308bdfdd548",
   "metadata": {},
   "source": [
    "#### 可以看到收货地址和订单付款时间右边都有空格"
   ]
  },
  {
   "cell_type": "code",
   "execution_count": 72,
   "id": "1ad1ad3c-6bb2-41be-8a1a-dd7af4896706",
   "metadata": {},
   "outputs": [
    {
     "data": {
      "text/plain": [
       "Index(['订单编号', '总金额', '买家实际支付金额', '收货地址', '订单创建时间', '订单付款时间', '退款金额'], dtype='object')"
      ]
     },
     "execution_count": 72,
     "metadata": {},
     "output_type": "execute_result"
    }
   ],
   "source": [
    "data.columns.str.strip() #利用.strip()去除列名的左右空格"
   ]
  },
  {
   "cell_type": "markdown",
   "id": "fef63bdf-4b08-4f62-9d75-7b650b70f71c",
   "metadata": {},
   "source": [
    "#### 去除成功"
   ]
  },
  {
   "cell_type": "markdown",
   "id": "12c5b0d9-e084-4908-9c63-7ce1d81a7fd2",
   "metadata": {},
   "source": [
    "### 查看是否有重复值,使用duplicated()方法,如果不重复就是False"
   ]
  },
  {
   "cell_type": "code",
   "execution_count": 73,
   "id": "d35feca4-65e1-4c63-97b9-bf97addee3f0",
   "metadata": {},
   "outputs": [
    {
     "data": {
      "text/plain": [
       "0        False\n",
       "1        False\n",
       "2        False\n",
       "3        False\n",
       "4        False\n",
       "         ...  \n",
       "28005    False\n",
       "28006    False\n",
       "28007    False\n",
       "28008    False\n",
       "28009    False\n",
       "Length: 28010, dtype: bool"
      ]
     },
     "execution_count": 73,
     "metadata": {},
     "output_type": "execute_result"
    }
   ],
   "source": [
    "data.duplicated() #这样看会有很多省略号"
   ]
  },
  {
   "cell_type": "code",
   "execution_count": 74,
   "id": "b99d0f99-d47d-42d6-8fe7-b43f3615a1cf",
   "metadata": {},
   "outputs": [
    {
     "data": {
      "text/plain": [
       "np.int64(0)"
      ]
     },
     "execution_count": 74,
     "metadata": {},
     "output_type": "execute_result"
    }
   ],
   "source": [
    "data.duplicated().sum() \n",
    "#将非空的行进行求和,如果说最后的数值是0则说明全都不重复"
   ]
  },
  {
   "cell_type": "markdown",
   "id": "faac5fbc-3885-44c8-ab7b-0c36fa51d72e",
   "metadata": {},
   "source": [
    "### 查看是否有缺失值"
   ]
  },
  {
   "cell_type": "code",
   "execution_count": 75,
   "id": "625a3c2b-68bd-4cbe-8dd7-89605a986b55",
   "metadata": {},
   "outputs": [
    {
     "data": {
      "text/plain": [
       "np.True_"
      ]
     },
     "execution_count": 75,
     "metadata": {},
     "output_type": "execute_result"
    }
   ],
   "source": [
    "np.any(data.isnull()) \n",
    "#这个的含义是如果数据(data)有任何(any)空(isnull())就返回True"
   ]
  },
  {
   "cell_type": "markdown",
   "id": "a6e7b13e-3c3d-4d92-ab92-949dac1e39bf",
   "metadata": {},
   "source": [
    "#### 查看每一列的空值数量"
   ]
  },
  {
   "cell_type": "code",
   "execution_count": 76,
   "id": "b6b14197-1d4c-484b-8c61-9f45ec544195",
   "metadata": {},
   "outputs": [
    {
     "data": {
      "text/plain": [
       "订单编号           0\n",
       "总金额            0\n",
       "买家实际支付金额       0\n",
       "收货地址           0\n",
       "订单创建时间         0\n",
       "订单付款时间      3923\n",
       "退款金额           0\n",
       "dtype: int64"
      ]
     },
     "execution_count": 76,
     "metadata": {},
     "output_type": "execute_result"
    }
   ],
   "source": [
    "data.isnull().sum()"
   ]
  },
  {
   "cell_type": "markdown",
   "id": "0a432d6d-7e06-478a-8b7d-e8b8e41e1885",
   "metadata": {},
   "source": [
    "## 数据可视化"
   ]
  },
  {
   "cell_type": "code",
   "execution_count": 77,
   "id": "3fb89099-ff30-4ba0-8df8-e91e3e2bb9c5",
   "metadata": {},
   "outputs": [
    {
     "data": {
      "text/html": [
       "<div>\n",
       "<style scoped>\n",
       "    .dataframe tbody tr th:only-of-type {\n",
       "        vertical-align: middle;\n",
       "    }\n",
       "\n",
       "    .dataframe tbody tr th {\n",
       "        vertical-align: top;\n",
       "    }\n",
       "\n",
       "    .dataframe thead th {\n",
       "        text-align: right;\n",
       "    }\n",
       "</style>\n",
       "<table border=\"1\" class=\"dataframe\">\n",
       "  <thead>\n",
       "    <tr style=\"text-align: right;\">\n",
       "      <th></th>\n",
       "      <th>订单编号</th>\n",
       "      <th>总金额</th>\n",
       "      <th>买家实际支付金额</th>\n",
       "      <th>收货地址</th>\n",
       "      <th>订单创建时间</th>\n",
       "      <th>订单付款时间</th>\n",
       "      <th>退款金额</th>\n",
       "    </tr>\n",
       "  </thead>\n",
       "  <tbody>\n",
       "    <tr>\n",
       "      <th>0</th>\n",
       "      <td>1</td>\n",
       "      <td>178.8</td>\n",
       "      <td>0.0</td>\n",
       "      <td>上海</td>\n",
       "      <td>2022-03-21 00:00:00</td>\n",
       "      <td>NaN</td>\n",
       "      <td>0.0</td>\n",
       "    </tr>\n",
       "    <tr>\n",
       "      <th>1</th>\n",
       "      <td>2</td>\n",
       "      <td>21.0</td>\n",
       "      <td>21.0</td>\n",
       "      <td>内蒙古自治区</td>\n",
       "      <td>2022-03-20 23:59:54</td>\n",
       "      <td>2022-03-21 00:00:02</td>\n",
       "      <td>0.0</td>\n",
       "    </tr>\n",
       "    <tr>\n",
       "      <th>2</th>\n",
       "      <td>3</td>\n",
       "      <td>37.0</td>\n",
       "      <td>0.0</td>\n",
       "      <td>安徽省</td>\n",
       "      <td>2022-03-20 23:59:35</td>\n",
       "      <td>NaN</td>\n",
       "      <td>0.0</td>\n",
       "    </tr>\n",
       "    <tr>\n",
       "      <th>3</th>\n",
       "      <td>4</td>\n",
       "      <td>157.0</td>\n",
       "      <td>157.0</td>\n",
       "      <td>湖南省</td>\n",
       "      <td>2022-03-20 23:58:34</td>\n",
       "      <td>2022-03-20 23:58:44</td>\n",
       "      <td>0.0</td>\n",
       "    </tr>\n",
       "    <tr>\n",
       "      <th>4</th>\n",
       "      <td>5</td>\n",
       "      <td>64.8</td>\n",
       "      <td>0.0</td>\n",
       "      <td>江苏省</td>\n",
       "      <td>2022-03-20 23:57:04</td>\n",
       "      <td>2022-03-20 23:57:11</td>\n",
       "      <td>64.8</td>\n",
       "    </tr>\n",
       "  </tbody>\n",
       "</table>\n",
       "</div>"
      ],
      "text/plain": [
       "   订单编号    总金额  买家实际支付金额   收货地址                订单创建时间              订单付款时间   \\\n",
       "0     1  178.8       0.0      上海  2022-03-21 00:00:00                  NaN   \n",
       "1     2   21.0      21.0  内蒙古自治区  2022-03-20 23:59:54  2022-03-21 00:00:02   \n",
       "2     3   37.0       0.0     安徽省  2022-03-20 23:59:35                  NaN   \n",
       "3     4  157.0     157.0     湖南省  2022-03-20 23:58:34  2022-03-20 23:58:44   \n",
       "4     5   64.8       0.0     江苏省  2022-03-20 23:57:04  2022-03-20 23:57:11   \n",
       "\n",
       "   退款金额  \n",
       "0   0.0  \n",
       "1   0.0  \n",
       "2   0.0  \n",
       "3   0.0  \n",
       "4  64.8  "
      ]
     },
     "execution_count": 77,
     "metadata": {},
     "output_type": "execute_result"
    }
   ],
   "source": [
    "data.head()"
   ]
  },
  {
   "cell_type": "markdown",
   "id": "87c26f76-5472-49d0-805d-c4bc5de505a9",
   "metadata": {},
   "source": [
    "### 用地图展示各省份的订单量"
   ]
  },
  {
   "cell_type": "markdown",
   "id": "cdc56b57-80b0-4105-a720-017b957fe714",
   "metadata": {},
   "source": [
    "#### 首先将原来的带空格的列名称换掉,刚才没进行这一步操作"
   ]
  },
  {
   "cell_type": "code",
   "execution_count": 78,
   "id": "df056e12-8026-4d45-bf55-350a820533ee",
   "metadata": {},
   "outputs": [],
   "source": [
    "data.columns = data.columns.str.strip()"
   ]
  },
  {
   "cell_type": "code",
   "execution_count": 79,
   "id": "153ff1e5-8a86-42b1-a63a-ed228d602d3b",
   "metadata": {
    "scrolled": true
   },
   "outputs": [
    {
     "data": {
      "text/html": [
       "<div>\n",
       "<style scoped>\n",
       "    .dataframe tbody tr th:only-of-type {\n",
       "        vertical-align: middle;\n",
       "    }\n",
       "\n",
       "    .dataframe tbody tr th {\n",
       "        vertical-align: top;\n",
       "    }\n",
       "\n",
       "    .dataframe thead th {\n",
       "        text-align: right;\n",
       "    }\n",
       "</style>\n",
       "<table border=\"1\" class=\"dataframe\">\n",
       "  <thead>\n",
       "    <tr style=\"text-align: right;\">\n",
       "      <th></th>\n",
       "      <th>订单编号</th>\n",
       "      <th>总金额</th>\n",
       "      <th>买家实际支付金额</th>\n",
       "      <th>收货地址</th>\n",
       "      <th>订单创建时间</th>\n",
       "      <th>订单付款时间</th>\n",
       "      <th>退款金额</th>\n",
       "    </tr>\n",
       "  </thead>\n",
       "  <tbody>\n",
       "    <tr>\n",
       "      <th>0</th>\n",
       "      <td>1</td>\n",
       "      <td>178.8</td>\n",
       "      <td>0.0</td>\n",
       "      <td>上海</td>\n",
       "      <td>2022-03-21 00:00:00</td>\n",
       "      <td>NaN</td>\n",
       "      <td>0.0</td>\n",
       "    </tr>\n",
       "    <tr>\n",
       "      <th>1</th>\n",
       "      <td>2</td>\n",
       "      <td>21.0</td>\n",
       "      <td>21.0</td>\n",
       "      <td>内蒙古自治区</td>\n",
       "      <td>2022-03-20 23:59:54</td>\n",
       "      <td>2022-03-21 00:00:02</td>\n",
       "      <td>0.0</td>\n",
       "    </tr>\n",
       "    <tr>\n",
       "      <th>2</th>\n",
       "      <td>3</td>\n",
       "      <td>37.0</td>\n",
       "      <td>0.0</td>\n",
       "      <td>安徽省</td>\n",
       "      <td>2022-03-20 23:59:35</td>\n",
       "      <td>NaN</td>\n",
       "      <td>0.0</td>\n",
       "    </tr>\n",
       "    <tr>\n",
       "      <th>3</th>\n",
       "      <td>4</td>\n",
       "      <td>157.0</td>\n",
       "      <td>157.0</td>\n",
       "      <td>湖南省</td>\n",
       "      <td>2022-03-20 23:58:34</td>\n",
       "      <td>2022-03-20 23:58:44</td>\n",
       "      <td>0.0</td>\n",
       "    </tr>\n",
       "    <tr>\n",
       "      <th>4</th>\n",
       "      <td>5</td>\n",
       "      <td>64.8</td>\n",
       "      <td>0.0</td>\n",
       "      <td>江苏省</td>\n",
       "      <td>2022-03-20 23:57:04</td>\n",
       "      <td>2022-03-20 23:57:11</td>\n",
       "      <td>64.8</td>\n",
       "    </tr>\n",
       "  </tbody>\n",
       "</table>\n",
       "</div>"
      ],
      "text/plain": [
       "   订单编号    总金额  买家实际支付金额    收货地址               订单创建时间               订单付款时间  \\\n",
       "0     1  178.8       0.0      上海  2022-03-21 00:00:00                  NaN   \n",
       "1     2   21.0      21.0  内蒙古自治区  2022-03-20 23:59:54  2022-03-21 00:00:02   \n",
       "2     3   37.0       0.0     安徽省  2022-03-20 23:59:35                  NaN   \n",
       "3     4  157.0     157.0     湖南省  2022-03-20 23:58:34  2022-03-20 23:58:44   \n",
       "4     5   64.8       0.0     江苏省  2022-03-20 23:57:04  2022-03-20 23:57:11   \n",
       "\n",
       "   退款金额  \n",
       "0   0.0  \n",
       "1   0.0  \n",
       "2   0.0  \n",
       "3   0.0  \n",
       "4  64.8  "
      ]
     },
     "execution_count": 79,
     "metadata": {},
     "output_type": "execute_result"
    }
   ],
   "source": [
    "data.head()"
   ]
  },
  {
   "cell_type": "markdown",
   "id": "917b601e-2d9e-415f-87f5-0318838bded6",
   "metadata": {},
   "source": [
    "#### 可以通过省份出现的次数得出每个省份的订单量是多少"
   ]
  },
  {
   "cell_type": "code",
   "execution_count": 80,
   "id": "05d76608-461d-403b-a0c7-403294d8b3ff",
   "metadata": {},
   "outputs": [
    {
     "data": {
      "text/plain": [
       "收货地址\n",
       "上海          3353\n",
       "广东省         2463\n",
       "江苏省         2126\n",
       "浙江省         2061\n",
       "北京          2054\n",
       "四川省         2019\n",
       "山东省         1804\n",
       "辽宁省         1187\n",
       "天津          1153\n",
       "湖南省         1099\n",
       "河北省         1083\n",
       "重庆          1036\n",
       "河南省          966\n",
       "云南省          778\n",
       "安徽省          609\n",
       "陕西省          536\n",
       "福建省          489\n",
       "山西省          465\n",
       "广西壮族自治区      436\n",
       "江西省          411\n",
       "吉林省          401\n",
       "黑龙江省         379\n",
       "贵州省          345\n",
       "内蒙古自治区       215\n",
       "海南省          178\n",
       "甘肃省          167\n",
       "湖北省           75\n",
       "新疆维吾尔自治区      58\n",
       "宁夏回族自治区       42\n",
       "青海省           19\n",
       "西藏自治区          3\n",
       "Name: count, dtype: int64"
      ]
     },
     "execution_count": 80,
     "metadata": {},
     "output_type": "execute_result"
    }
   ],
   "source": [
    "data['收货地址'].value_counts()"
   ]
  },
  {
   "cell_type": "code",
   "execution_count": 81,
   "id": "e05fd346-18fd-47d4-b3ca-8c372c122186",
   "metadata": {},
   "outputs": [],
   "source": [
    "def province_map(p):\n",
    "    if p in ['北京','上海','天津','重庆']:\n",
    "        return p+'市'\n",
    "    else:\n",
    "        return p\n",
    "data['收货地址']=data['收货地址'].map(province_map)  #注意,也是把原来的改掉\n",
    "#对数据中的'收货地址'这一列的数据进行整体操作,操作规则为指定的函数province_map\n",
    "#回顾一下map(function,iterable) 对可迭代数据进行整体操作,指定函数也是可以的"
   ]
  },
  {
   "cell_type": "code",
   "execution_count": 82,
   "id": "d5de2d0a-f805-4177-9402-4a1aa4da0e08",
   "metadata": {},
   "outputs": [
    {
     "data": {
      "text/plain": [
       "收货地址\n",
       "上海市         3353\n",
       "广东省         2463\n",
       "江苏省         2126\n",
       "浙江省         2061\n",
       "北京市         2054\n",
       "四川省         2019\n",
       "山东省         1804\n",
       "辽宁省         1187\n",
       "天津市         1153\n",
       "湖南省         1099\n",
       "河北省         1083\n",
       "重庆市         1036\n",
       "河南省          966\n",
       "云南省          778\n",
       "安徽省          609\n",
       "陕西省          536\n",
       "福建省          489\n",
       "山西省          465\n",
       "广西壮族自治区      436\n",
       "江西省          411\n",
       "吉林省          401\n",
       "黑龙江省         379\n",
       "贵州省          345\n",
       "内蒙古自治区       215\n",
       "海南省          178\n",
       "甘肃省          167\n",
       "湖北省           75\n",
       "新疆维吾尔自治区      58\n",
       "宁夏回族自治区       42\n",
       "青海省           19\n",
       "西藏自治区          3\n",
       "Name: count, dtype: int64"
      ]
     },
     "execution_count": 82,
     "metadata": {},
     "output_type": "execute_result"
    }
   ],
   "source": [
    "# 再次查看数据\n",
    "data['收货地址'].value_counts()"
   ]
  },
  {
   "cell_type": "markdown",
   "id": "02279751-08ea-44e6-82d1-f90e5a7d82e4",
   "metadata": {},
   "source": [
    "#### 统计各个省份的订单量"
   ]
  },
  {
   "cell_type": "code",
   "execution_count": 83,
   "id": "fff2299b-1716-47ed-b500-ee65aeaab53c",
   "metadata": {},
   "outputs": [
    {
     "data": {
      "text/plain": [
       "0        False\n",
       "1         True\n",
       "2        False\n",
       "3         True\n",
       "4         True\n",
       "         ...  \n",
       "28005     True\n",
       "28006    False\n",
       "28007    False\n",
       "28008     True\n",
       "28009     True\n",
       "Name: 订单付款时间, Length: 28010, dtype: bool"
      ]
     },
     "execution_count": 83,
     "metadata": {},
     "output_type": "execute_result"
    }
   ],
   "source": [
    "data['订单付款时间'].notnull() \n",
    "#首先拿到订单付款时间不为空的数据"
   ]
  },
  {
   "cell_type": "code",
   "execution_count": 84,
   "id": "d6231940-50e5-4ada-8f2d-a012daf86ad9",
   "metadata": {},
   "outputs": [
    {
     "data": {
      "text/html": [
       "<div>\n",
       "<style scoped>\n",
       "    .dataframe tbody tr th:only-of-type {\n",
       "        vertical-align: middle;\n",
       "    }\n",
       "\n",
       "    .dataframe tbody tr th {\n",
       "        vertical-align: top;\n",
       "    }\n",
       "\n",
       "    .dataframe thead th {\n",
       "        text-align: right;\n",
       "    }\n",
       "</style>\n",
       "<table border=\"1\" class=\"dataframe\">\n",
       "  <thead>\n",
       "    <tr style=\"text-align: right;\">\n",
       "      <th></th>\n",
       "      <th>订单编号</th>\n",
       "      <th>总金额</th>\n",
       "      <th>买家实际支付金额</th>\n",
       "      <th>收货地址</th>\n",
       "      <th>订单创建时间</th>\n",
       "      <th>订单付款时间</th>\n",
       "      <th>退款金额</th>\n",
       "    </tr>\n",
       "  </thead>\n",
       "  <tbody>\n",
       "    <tr>\n",
       "      <th>1</th>\n",
       "      <td>2</td>\n",
       "      <td>21.0</td>\n",
       "      <td>21.0</td>\n",
       "      <td>内蒙古自治区</td>\n",
       "      <td>2022-03-20 23:59:54</td>\n",
       "      <td>2022-03-21 00:00:02</td>\n",
       "      <td>0.0</td>\n",
       "    </tr>\n",
       "    <tr>\n",
       "      <th>3</th>\n",
       "      <td>4</td>\n",
       "      <td>157.0</td>\n",
       "      <td>157.0</td>\n",
       "      <td>湖南省</td>\n",
       "      <td>2022-03-20 23:58:34</td>\n",
       "      <td>2022-03-20 23:58:44</td>\n",
       "      <td>0.0</td>\n",
       "    </tr>\n",
       "    <tr>\n",
       "      <th>4</th>\n",
       "      <td>5</td>\n",
       "      <td>64.8</td>\n",
       "      <td>0.0</td>\n",
       "      <td>江苏省</td>\n",
       "      <td>2022-03-20 23:57:04</td>\n",
       "      <td>2022-03-20 23:57:11</td>\n",
       "      <td>64.8</td>\n",
       "    </tr>\n",
       "    <tr>\n",
       "      <th>5</th>\n",
       "      <td>6</td>\n",
       "      <td>327.7</td>\n",
       "      <td>148.9</td>\n",
       "      <td>浙江省</td>\n",
       "      <td>2022-03-20 23:56:39</td>\n",
       "      <td>2022-03-20 23:56:53</td>\n",
       "      <td>178.8</td>\n",
       "    </tr>\n",
       "    <tr>\n",
       "      <th>6</th>\n",
       "      <td>7</td>\n",
       "      <td>357.0</td>\n",
       "      <td>357.0</td>\n",
       "      <td>天津市</td>\n",
       "      <td>2022-03-20 23:56:36</td>\n",
       "      <td>2022-03-20 23:56:40</td>\n",
       "      <td>0.0</td>\n",
       "    </tr>\n",
       "    <tr>\n",
       "      <th>...</th>\n",
       "      <td>...</td>\n",
       "      <td>...</td>\n",
       "      <td>...</td>\n",
       "      <td>...</td>\n",
       "      <td>...</td>\n",
       "      <td>...</td>\n",
       "      <td>...</td>\n",
       "    </tr>\n",
       "    <tr>\n",
       "      <th>28002</th>\n",
       "      <td>28003</td>\n",
       "      <td>77.0</td>\n",
       "      <td>77.0</td>\n",
       "      <td>重庆市</td>\n",
       "      <td>2022-03-27 00:02:39</td>\n",
       "      <td>2022-03-27 00:03:27</td>\n",
       "      <td>0.0</td>\n",
       "    </tr>\n",
       "    <tr>\n",
       "      <th>28003</th>\n",
       "      <td>28004</td>\n",
       "      <td>157.0</td>\n",
       "      <td>157.0</td>\n",
       "      <td>山东省</td>\n",
       "      <td>2022-03-27 00:01:42</td>\n",
       "      <td>2022-03-27 00:01:47</td>\n",
       "      <td>0.0</td>\n",
       "    </tr>\n",
       "    <tr>\n",
       "      <th>28005</th>\n",
       "      <td>28006</td>\n",
       "      <td>37.0</td>\n",
       "      <td>37.0</td>\n",
       "      <td>四川省</td>\n",
       "      <td>2022-03-27 00:01:00</td>\n",
       "      <td>2022-03-27 00:01:10</td>\n",
       "      <td>0.0</td>\n",
       "    </tr>\n",
       "    <tr>\n",
       "      <th>28008</th>\n",
       "      <td>28009</td>\n",
       "      <td>37.0</td>\n",
       "      <td>37.0</td>\n",
       "      <td>辽宁省</td>\n",
       "      <td>2022-03-27 00:00:09</td>\n",
       "      <td>2022-03-27 00:00:17</td>\n",
       "      <td>0.0</td>\n",
       "    </tr>\n",
       "    <tr>\n",
       "      <th>28009</th>\n",
       "      <td>28010</td>\n",
       "      <td>37.0</td>\n",
       "      <td>37.0</td>\n",
       "      <td>广东省</td>\n",
       "      <td>2022-03-27 00:00:06</td>\n",
       "      <td>2022-03-27 00:00:11</td>\n",
       "      <td>0.0</td>\n",
       "    </tr>\n",
       "  </tbody>\n",
       "</table>\n",
       "<p>24087 rows × 7 columns</p>\n",
       "</div>"
      ],
      "text/plain": [
       "        订单编号    总金额  买家实际支付金额    收货地址               订单创建时间  \\\n",
       "1          2   21.0      21.0  内蒙古自治区  2022-03-20 23:59:54   \n",
       "3          4  157.0     157.0     湖南省  2022-03-20 23:58:34   \n",
       "4          5   64.8       0.0     江苏省  2022-03-20 23:57:04   \n",
       "5          6  327.7     148.9     浙江省  2022-03-20 23:56:39   \n",
       "6          7  357.0     357.0     天津市  2022-03-20 23:56:36   \n",
       "...      ...    ...       ...     ...                  ...   \n",
       "28002  28003   77.0      77.0     重庆市  2022-03-27 00:02:39   \n",
       "28003  28004  157.0     157.0     山东省  2022-03-27 00:01:42   \n",
       "28005  28006   37.0      37.0     四川省  2022-03-27 00:01:00   \n",
       "28008  28009   37.0      37.0     辽宁省  2022-03-27 00:00:09   \n",
       "28009  28010   37.0      37.0     广东省  2022-03-27 00:00:06   \n",
       "\n",
       "                    订单付款时间   退款金额  \n",
       "1      2022-03-21 00:00:02    0.0  \n",
       "3      2022-03-20 23:58:44    0.0  \n",
       "4      2022-03-20 23:57:11   64.8  \n",
       "5      2022-03-20 23:56:53  178.8  \n",
       "6      2022-03-20 23:56:40    0.0  \n",
       "...                    ...    ...  \n",
       "28002  2022-03-27 00:03:27    0.0  \n",
       "28003  2022-03-27 00:01:47    0.0  \n",
       "28005  2022-03-27 00:01:10    0.0  \n",
       "28008  2022-03-27 00:00:17    0.0  \n",
       "28009  2022-03-27 00:00:11    0.0  \n",
       "\n",
       "[24087 rows x 7 columns]"
      ]
     },
     "execution_count": 84,
     "metadata": {},
     "output_type": "execute_result"
    }
   ],
   "source": [
    "data[data['订单付款时间'].notnull()] #利用掩码操作,只保留非空的数据"
   ]
  },
  {
   "cell_type": "code",
   "execution_count": 85,
   "id": "27679fae-f2a1-423b-9abe-c76437f88e6b",
   "metadata": {},
   "outputs": [],
   "source": [
    "result = data[data['订单付款时间'].notnull()].groupby('收货地址')[['订单编号']].count()\n",
    "#保留非空的数据,并进行分组,按照收货地址来分组"
   ]
  },
  {
   "cell_type": "code",
   "execution_count": 86,
   "id": "1a09faf6-aec0-498a-b05a-aa83dd8d043f",
   "metadata": {},
   "outputs": [
    {
     "data": {
      "text/html": [
       "<div>\n",
       "<style scoped>\n",
       "    .dataframe tbody tr th:only-of-type {\n",
       "        vertical-align: middle;\n",
       "    }\n",
       "\n",
       "    .dataframe tbody tr th {\n",
       "        vertical-align: top;\n",
       "    }\n",
       "\n",
       "    .dataframe thead th {\n",
       "        text-align: right;\n",
       "    }\n",
       "</style>\n",
       "<table border=\"1\" class=\"dataframe\">\n",
       "  <thead>\n",
       "    <tr style=\"text-align: right;\">\n",
       "      <th></th>\n",
       "      <th>订单编号</th>\n",
       "    </tr>\n",
       "    <tr>\n",
       "      <th>收货地址</th>\n",
       "      <th></th>\n",
       "    </tr>\n",
       "  </thead>\n",
       "  <tbody>\n",
       "    <tr>\n",
       "      <th>上海市</th>\n",
       "      <td>3060</td>\n",
       "    </tr>\n",
       "    <tr>\n",
       "      <th>云南省</th>\n",
       "      <td>667</td>\n",
       "    </tr>\n",
       "    <tr>\n",
       "      <th>内蒙古自治区</th>\n",
       "      <td>176</td>\n",
       "    </tr>\n",
       "    <tr>\n",
       "      <th>北京市</th>\n",
       "      <td>1853</td>\n",
       "    </tr>\n",
       "    <tr>\n",
       "      <th>吉林省</th>\n",
       "      <td>336</td>\n",
       "    </tr>\n",
       "    <tr>\n",
       "      <th>四川省</th>\n",
       "      <td>1752</td>\n",
       "    </tr>\n",
       "    <tr>\n",
       "      <th>天津市</th>\n",
       "      <td>1031</td>\n",
       "    </tr>\n",
       "    <tr>\n",
       "      <th>宁夏回族自治区</th>\n",
       "      <td>40</td>\n",
       "    </tr>\n",
       "    <tr>\n",
       "      <th>安徽省</th>\n",
       "      <td>528</td>\n",
       "    </tr>\n",
       "    <tr>\n",
       "      <th>山东省</th>\n",
       "      <td>1484</td>\n",
       "    </tr>\n",
       "    <tr>\n",
       "      <th>山西省</th>\n",
       "      <td>395</td>\n",
       "    </tr>\n",
       "    <tr>\n",
       "      <th>广东省</th>\n",
       "      <td>2022</td>\n",
       "    </tr>\n",
       "    <tr>\n",
       "      <th>广西壮族自治区</th>\n",
       "      <td>353</td>\n",
       "    </tr>\n",
       "    <tr>\n",
       "      <th>新疆维吾尔自治区</th>\n",
       "      <td>43</td>\n",
       "    </tr>\n",
       "    <tr>\n",
       "      <th>江苏省</th>\n",
       "      <td>1845</td>\n",
       "    </tr>\n",
       "    <tr>\n",
       "      <th>江西省</th>\n",
       "      <td>331</td>\n",
       "    </tr>\n",
       "    <tr>\n",
       "      <th>河北省</th>\n",
       "      <td>885</td>\n",
       "    </tr>\n",
       "    <tr>\n",
       "      <th>河南省</th>\n",
       "      <td>792</td>\n",
       "    </tr>\n",
       "    <tr>\n",
       "      <th>浙江省</th>\n",
       "      <td>1822</td>\n",
       "    </tr>\n",
       "    <tr>\n",
       "      <th>海南省</th>\n",
       "      <td>156</td>\n",
       "    </tr>\n",
       "    <tr>\n",
       "      <th>湖北省</th>\n",
       "      <td>57</td>\n",
       "    </tr>\n",
       "    <tr>\n",
       "      <th>湖南省</th>\n",
       "      <td>935</td>\n",
       "    </tr>\n",
       "    <tr>\n",
       "      <th>甘肃省</th>\n",
       "      <td>132</td>\n",
       "    </tr>\n",
       "    <tr>\n",
       "      <th>福建省</th>\n",
       "      <td>425</td>\n",
       "    </tr>\n",
       "    <tr>\n",
       "      <th>西藏自治区</th>\n",
       "      <td>2</td>\n",
       "    </tr>\n",
       "    <tr>\n",
       "      <th>贵州省</th>\n",
       "      <td>286</td>\n",
       "    </tr>\n",
       "    <tr>\n",
       "      <th>辽宁省</th>\n",
       "      <td>1012</td>\n",
       "    </tr>\n",
       "    <tr>\n",
       "      <th>重庆市</th>\n",
       "      <td>896</td>\n",
       "    </tr>\n",
       "    <tr>\n",
       "      <th>陕西省</th>\n",
       "      <td>441</td>\n",
       "    </tr>\n",
       "    <tr>\n",
       "      <th>青海省</th>\n",
       "      <td>18</td>\n",
       "    </tr>\n",
       "    <tr>\n",
       "      <th>黑龙江省</th>\n",
       "      <td>312</td>\n",
       "    </tr>\n",
       "  </tbody>\n",
       "</table>\n",
       "</div>"
      ],
      "text/plain": [
       "          订单编号\n",
       "收货地址          \n",
       "上海市       3060\n",
       "云南省        667\n",
       "内蒙古自治区     176\n",
       "北京市       1853\n",
       "吉林省        336\n",
       "四川省       1752\n",
       "天津市       1031\n",
       "宁夏回族自治区     40\n",
       "安徽省        528\n",
       "山东省       1484\n",
       "山西省        395\n",
       "广东省       2022\n",
       "广西壮族自治区    353\n",
       "新疆维吾尔自治区    43\n",
       "江苏省       1845\n",
       "江西省        331\n",
       "河北省        885\n",
       "河南省        792\n",
       "浙江省       1822\n",
       "海南省        156\n",
       "湖北省         57\n",
       "湖南省        935\n",
       "甘肃省        132\n",
       "福建省        425\n",
       "西藏自治区        2\n",
       "贵州省        286\n",
       "辽宁省       1012\n",
       "重庆市        896\n",
       "陕西省        441\n",
       "青海省         18\n",
       "黑龙江省       312"
      ]
     },
     "execution_count": 86,
     "metadata": {},
     "output_type": "execute_result"
    }
   ],
   "source": [
    "result"
   ]
  },
  {
   "cell_type": "code",
   "execution_count": 87,
   "id": "da6ede70-a1cb-44c6-8e4e-416b42fe0413",
   "metadata": {},
   "outputs": [
    {
     "data": {
      "text/plain": [
       "{'订单编号': {'上海市': 3060,\n",
       "  '云南省': 667,\n",
       "  '内蒙古自治区': 176,\n",
       "  '北京市': 1853,\n",
       "  '吉林省': 336,\n",
       "  '四川省': 1752,\n",
       "  '天津市': 1031,\n",
       "  '宁夏回族自治区': 40,\n",
       "  '安徽省': 528,\n",
       "  '山东省': 1484,\n",
       "  '山西省': 395,\n",
       "  '广东省': 2022,\n",
       "  '广西壮族自治区': 353,\n",
       "  '新疆维吾尔自治区': 43,\n",
       "  '江苏省': 1845,\n",
       "  '江西省': 331,\n",
       "  '河北省': 885,\n",
       "  '河南省': 792,\n",
       "  '浙江省': 1822,\n",
       "  '海南省': 156,\n",
       "  '湖北省': 57,\n",
       "  '湖南省': 935,\n",
       "  '甘肃省': 132,\n",
       "  '福建省': 425,\n",
       "  '西藏自治区': 2,\n",
       "  '贵州省': 286,\n",
       "  '辽宁省': 1012,\n",
       "  '重庆市': 896,\n",
       "  '陕西省': 441,\n",
       "  '青海省': 18,\n",
       "  '黑龙江省': 312}}"
      ]
     },
     "execution_count": 87,
     "metadata": {},
     "output_type": "execute_result"
    }
   ],
   "source": [
    "result.to_dict()"
   ]
  },
  {
   "cell_type": "markdown",
   "id": "7fab598f-5ddd-4230-9daa-1a7d6d567cd5",
   "metadata": {},
   "source": [
    "#### 将其转换为字典结构,只保留''"
   ]
  },
  {
   "cell_type": "code",
   "execution_count": 88,
   "id": "cc8b9fdb-2e44-4aaf-a60e-fde33ee03bfb",
   "metadata": {},
   "outputs": [
    {
     "data": {
      "text/plain": [
       "{'上海市': 3060,\n",
       " '云南省': 667,\n",
       " '内蒙古自治区': 176,\n",
       " '北京市': 1853,\n",
       " '吉林省': 336,\n",
       " '四川省': 1752,\n",
       " '天津市': 1031,\n",
       " '宁夏回族自治区': 40,\n",
       " '安徽省': 528,\n",
       " '山东省': 1484,\n",
       " '山西省': 395,\n",
       " '广东省': 2022,\n",
       " '广西壮族自治区': 353,\n",
       " '新疆维吾尔自治区': 43,\n",
       " '江苏省': 1845,\n",
       " '江西省': 331,\n",
       " '河北省': 885,\n",
       " '河南省': 792,\n",
       " '浙江省': 1822,\n",
       " '海南省': 156,\n",
       " '湖北省': 57,\n",
       " '湖南省': 935,\n",
       " '甘肃省': 132,\n",
       " '福建省': 425,\n",
       " '西藏自治区': 2,\n",
       " '贵州省': 286,\n",
       " '辽宁省': 1012,\n",
       " '重庆市': 896,\n",
       " '陕西省': 441,\n",
       " '青海省': 18,\n",
       " '黑龙江省': 312}"
      ]
     },
     "execution_count": 88,
     "metadata": {},
     "output_type": "execute_result"
    }
   ],
   "source": [
    "result2 = result.to_dict()['订单编号']\n",
    "result2"
   ]
  },
  {
   "cell_type": "markdown",
   "id": "0f1eca3d-4c52-40a6-8723-ed3865548446",
   "metadata": {},
   "source": [
    "#### 还要将其转换为二维数组的形式"
   ]
  },
  {
   "cell_type": "code",
   "execution_count": 89,
   "id": "1aea7e29-64b8-403b-8fca-f23cdbd43ee6",
   "metadata": {},
   "outputs": [
    {
     "data": {
      "text/plain": [
       "[('上海市', 3060),\n",
       " ('云南省', 667),\n",
       " ('内蒙古自治区', 176),\n",
       " ('北京市', 1853),\n",
       " ('吉林省', 336),\n",
       " ('四川省', 1752),\n",
       " ('天津市', 1031),\n",
       " ('宁夏回族自治区', 40),\n",
       " ('安徽省', 528),\n",
       " ('山东省', 1484),\n",
       " ('山西省', 395),\n",
       " ('广东省', 2022),\n",
       " ('广西壮族自治区', 353),\n",
       " ('新疆维吾尔自治区', 43),\n",
       " ('江苏省', 1845),\n",
       " ('江西省', 331),\n",
       " ('河北省', 885),\n",
       " ('河南省', 792),\n",
       " ('浙江省', 1822),\n",
       " ('海南省', 156),\n",
       " ('湖北省', 57),\n",
       " ('湖南省', 935),\n",
       " ('甘肃省', 132),\n",
       " ('福建省', 425),\n",
       " ('西藏自治区', 2),\n",
       " ('贵州省', 286),\n",
       " ('辽宁省', 1012),\n",
       " ('重庆市', 896),\n",
       " ('陕西省', 441),\n",
       " ('青海省', 18),\n",
       " ('黑龙江省', 312)]"
      ]
     },
     "execution_count": 89,
     "metadata": {},
     "output_type": "execute_result"
    }
   ],
   "source": [
    "[*result2.items()]"
   ]
  },
  {
   "cell_type": "code",
   "execution_count": 90,
   "id": "e629d81d-0d3a-4d65-b27a-dd484f80ca98",
   "metadata": {},
   "outputs": [
    {
     "data": {
      "text/plain": [
       "[('上海市', 3060),\n",
       " ('云南省', 667),\n",
       " ('内蒙古自治区', 176),\n",
       " ('北京市', 1853),\n",
       " ('吉林省', 336),\n",
       " ('四川省', 1752),\n",
       " ('天津市', 1031),\n",
       " ('宁夏回族自治区', 40),\n",
       " ('安徽省', 528),\n",
       " ('山东省', 1484),\n",
       " ('山西省', 395),\n",
       " ('广东省', 2022),\n",
       " ('广西壮族自治区', 353),\n",
       " ('新疆维吾尔自治区', 43),\n",
       " ('江苏省', 1845),\n",
       " ('江西省', 331),\n",
       " ('河北省', 885),\n",
       " ('河南省', 792),\n",
       " ('浙江省', 1822),\n",
       " ('海南省', 156),\n",
       " ('湖北省', 57),\n",
       " ('湖南省', 935),\n",
       " ('甘肃省', 132),\n",
       " ('福建省', 425),\n",
       " ('西藏自治区', 2),\n",
       " ('贵州省', 286),\n",
       " ('辽宁省', 1012),\n",
       " ('重庆市', 896),\n",
       " ('陕西省', 441),\n",
       " ('青海省', 18),\n",
       " ('黑龙江省', 312)]"
      ]
     },
     "execution_count": 90,
     "metadata": {},
     "output_type": "execute_result"
    }
   ],
   "source": [
    "#或者这样写也是可以的\n",
    "list(result2.items())"
   ]
  },
  {
   "cell_type": "code",
   "execution_count": 91,
   "id": "674333ed-0a44-482a-88a5-9cd1e6f08620",
   "metadata": {},
   "outputs": [],
   "source": [
    "c = (\n",
    "        Map()\n",
    "        .add(\n",
    "            '各省份订单量',\n",
    "            [*result2.items()],\n",
    "            'china',\n",
    "            is_map_symbol_show=False, #隐藏各个省份的符号\n",
    "        )\n",
    "        .set_global_opts(\n",
    "            title_opts=opts.TitleOpts(\n",
    "                title='天猫订单各省份数量信息'\n",
    "            ),\n",
    "            # visualmap_opts=opts.VisualMapOpts(\n",
    "            #     range_text=['多','少']\n",
    "            # ),\n",
    "        )\n",
    "        .set_series_opts(\n",
    "            label_opts=opts.LabelOpts(\n",
    "                is_show = True\n",
    "            )\n",
    "        )\n",
    ")"
   ]
  },
  {
   "cell_type": "code",
   "execution_count": 92,
   "id": "5aade878-dc25-4aa6-8dc7-9162dbc78ad9",
   "metadata": {},
   "outputs": [
    {
     "data": {
      "application/javascript": [
       "new Promise(function(resolve, reject) {\n",
       "    var script = document.createElement(\"script\");\n",
       "    script.onload = resolve;\n",
       "    script.onerror = reject;\n",
       "    script.src = \"https://assets.pyecharts.org/assets/v5/echarts.min.js\";\n",
       "    document.head.appendChild(script);\n",
       "}).then(() => {\n",
       "new Promise(function(resolve, reject) {\n",
       "    var script = document.createElement(\"script\");\n",
       "    script.onload = resolve;\n",
       "    script.onerror = reject;\n",
       "    script.src = \"https://assets.pyecharts.org/assets/v5/maps/china.js\";\n",
       "    document.head.appendChild(script);\n",
       "}).then(() => {\n",
       "\n",
       "});\n",
       "});"
      ],
      "text/plain": [
       "<pyecharts.render.display.Javascript at 0x2cd812fa340>"
      ]
     },
     "execution_count": 92,
     "metadata": {},
     "output_type": "execute_result"
    }
   ],
   "source": [
    "c.load_javascript()"
   ]
  },
  {
   "cell_type": "code",
   "execution_count": 93,
   "id": "84c8a933-8bf3-456f-8680-42f06abe24ea",
   "metadata": {},
   "outputs": [
    {
     "data": {
      "text/html": [
       "<!DOCTYPE html>\n",
       "<html>\n",
       "<head>\n",
       "    <meta charset=\"UTF-8\">\n",
       "</head>\n",
       "<body>\n",
       "        <div id=\"5331542a6b844740b5d6ea66bee1c414\" class=\"chart-container\" style=\"width:900px; height:500px; \"></div>\n",
       "    <script>\n",
       "        var chart_5331542a6b844740b5d6ea66bee1c414 = echarts.init(\n",
       "            document.getElementById('5331542a6b844740b5d6ea66bee1c414'), 'white', {renderer: 'canvas'});\n",
       "        var option_5331542a6b844740b5d6ea66bee1c414 = {\n",
       "    \"animation\": true,\n",
       "    \"animationThreshold\": 2000,\n",
       "    \"animationDuration\": 1000,\n",
       "    \"animationEasing\": \"cubicOut\",\n",
       "    \"animationDelay\": 0,\n",
       "    \"animationDurationUpdate\": 300,\n",
       "    \"animationEasingUpdate\": \"cubicOut\",\n",
       "    \"animationDelayUpdate\": 0,\n",
       "    \"aria\": {\n",
       "        \"enabled\": false\n",
       "    },\n",
       "    \"color\": [\n",
       "        \"#5470c6\",\n",
       "        \"#91cc75\",\n",
       "        \"#fac858\",\n",
       "        \"#ee6666\",\n",
       "        \"#73c0de\",\n",
       "        \"#3ba272\",\n",
       "        \"#fc8452\",\n",
       "        \"#9a60b4\",\n",
       "        \"#ea7ccc\"\n",
       "    ],\n",
       "    \"series\": [\n",
       "        {\n",
       "            \"type\": \"map\",\n",
       "            \"name\": \"\\u5404\\u7701\\u4efd\\u8ba2\\u5355\\u91cf\",\n",
       "            \"label\": {\n",
       "                \"show\": true,\n",
       "                \"margin\": 8\n",
       "            },\n",
       "            \"map\": \"china\",\n",
       "            \"data\": [\n",
       "                {\n",
       "                    \"name\": \"\\u4e0a\\u6d77\\u5e02\",\n",
       "                    \"value\": 3060\n",
       "                },\n",
       "                {\n",
       "                    \"name\": \"\\u4e91\\u5357\\u7701\",\n",
       "                    \"value\": 667\n",
       "                },\n",
       "                {\n",
       "                    \"name\": \"\\u5185\\u8499\\u53e4\\u81ea\\u6cbb\\u533a\",\n",
       "                    \"value\": 176\n",
       "                },\n",
       "                {\n",
       "                    \"name\": \"\\u5317\\u4eac\\u5e02\",\n",
       "                    \"value\": 1853\n",
       "                },\n",
       "                {\n",
       "                    \"name\": \"\\u5409\\u6797\\u7701\",\n",
       "                    \"value\": 336\n",
       "                },\n",
       "                {\n",
       "                    \"name\": \"\\u56db\\u5ddd\\u7701\",\n",
       "                    \"value\": 1752\n",
       "                },\n",
       "                {\n",
       "                    \"name\": \"\\u5929\\u6d25\\u5e02\",\n",
       "                    \"value\": 1031\n",
       "                },\n",
       "                {\n",
       "                    \"name\": \"\\u5b81\\u590f\\u56de\\u65cf\\u81ea\\u6cbb\\u533a\",\n",
       "                    \"value\": 40\n",
       "                },\n",
       "                {\n",
       "                    \"name\": \"\\u5b89\\u5fbd\\u7701\",\n",
       "                    \"value\": 528\n",
       "                },\n",
       "                {\n",
       "                    \"name\": \"\\u5c71\\u4e1c\\u7701\",\n",
       "                    \"value\": 1484\n",
       "                },\n",
       "                {\n",
       "                    \"name\": \"\\u5c71\\u897f\\u7701\",\n",
       "                    \"value\": 395\n",
       "                },\n",
       "                {\n",
       "                    \"name\": \"\\u5e7f\\u4e1c\\u7701\",\n",
       "                    \"value\": 2022\n",
       "                },\n",
       "                {\n",
       "                    \"name\": \"\\u5e7f\\u897f\\u58ee\\u65cf\\u81ea\\u6cbb\\u533a\",\n",
       "                    \"value\": 353\n",
       "                },\n",
       "                {\n",
       "                    \"name\": \"\\u65b0\\u7586\\u7ef4\\u543e\\u5c14\\u81ea\\u6cbb\\u533a\",\n",
       "                    \"value\": 43\n",
       "                },\n",
       "                {\n",
       "                    \"name\": \"\\u6c5f\\u82cf\\u7701\",\n",
       "                    \"value\": 1845\n",
       "                },\n",
       "                {\n",
       "                    \"name\": \"\\u6c5f\\u897f\\u7701\",\n",
       "                    \"value\": 331\n",
       "                },\n",
       "                {\n",
       "                    \"name\": \"\\u6cb3\\u5317\\u7701\",\n",
       "                    \"value\": 885\n",
       "                },\n",
       "                {\n",
       "                    \"name\": \"\\u6cb3\\u5357\\u7701\",\n",
       "                    \"value\": 792\n",
       "                },\n",
       "                {\n",
       "                    \"name\": \"\\u6d59\\u6c5f\\u7701\",\n",
       "                    \"value\": 1822\n",
       "                },\n",
       "                {\n",
       "                    \"name\": \"\\u6d77\\u5357\\u7701\",\n",
       "                    \"value\": 156\n",
       "                },\n",
       "                {\n",
       "                    \"name\": \"\\u6e56\\u5317\\u7701\",\n",
       "                    \"value\": 57\n",
       "                },\n",
       "                {\n",
       "                    \"name\": \"\\u6e56\\u5357\\u7701\",\n",
       "                    \"value\": 935\n",
       "                },\n",
       "                {\n",
       "                    \"name\": \"\\u7518\\u8083\\u7701\",\n",
       "                    \"value\": 132\n",
       "                },\n",
       "                {\n",
       "                    \"name\": \"\\u798f\\u5efa\\u7701\",\n",
       "                    \"value\": 425\n",
       "                },\n",
       "                {\n",
       "                    \"name\": \"\\u897f\\u85cf\\u81ea\\u6cbb\\u533a\",\n",
       "                    \"value\": 2\n",
       "                },\n",
       "                {\n",
       "                    \"name\": \"\\u8d35\\u5dde\\u7701\",\n",
       "                    \"value\": 286\n",
       "                },\n",
       "                {\n",
       "                    \"name\": \"\\u8fbd\\u5b81\\u7701\",\n",
       "                    \"value\": 1012\n",
       "                },\n",
       "                {\n",
       "                    \"name\": \"\\u91cd\\u5e86\\u5e02\",\n",
       "                    \"value\": 896\n",
       "                },\n",
       "                {\n",
       "                    \"name\": \"\\u9655\\u897f\\u7701\",\n",
       "                    \"value\": 441\n",
       "                },\n",
       "                {\n",
       "                    \"name\": \"\\u9752\\u6d77\\u7701\",\n",
       "                    \"value\": 18\n",
       "                },\n",
       "                {\n",
       "                    \"name\": \"\\u9ed1\\u9f99\\u6c5f\\u7701\",\n",
       "                    \"value\": 312\n",
       "                }\n",
       "            ],\n",
       "            \"roam\": true,\n",
       "            \"aspectScale\": 0.75,\n",
       "            \"nameProperty\": \"name\",\n",
       "            \"selectedMode\": false,\n",
       "            \"zoom\": 1,\n",
       "            \"zlevel\": 0,\n",
       "            \"z\": 2,\n",
       "            \"seriesLayoutBy\": \"column\",\n",
       "            \"datasetIndex\": 0,\n",
       "            \"mapValueCalculation\": \"sum\",\n",
       "            \"showLegendSymbol\": false,\n",
       "            \"emphasis\": {},\n",
       "            \"rippleEffect\": {\n",
       "                \"show\": true,\n",
       "                \"brushType\": \"stroke\",\n",
       "                \"scale\": 2.5,\n",
       "                \"period\": 4\n",
       "            }\n",
       "        }\n",
       "    ],\n",
       "    \"legend\": [\n",
       "        {\n",
       "            \"data\": [\n",
       "                \"\\u5404\\u7701\\u4efd\\u8ba2\\u5355\\u91cf\"\n",
       "            ],\n",
       "            \"selected\": {},\n",
       "            \"show\": true,\n",
       "            \"padding\": 5,\n",
       "            \"itemGap\": 10,\n",
       "            \"itemWidth\": 25,\n",
       "            \"itemHeight\": 14,\n",
       "            \"backgroundColor\": \"transparent\",\n",
       "            \"borderColor\": \"#ccc\",\n",
       "            \"borderRadius\": 0,\n",
       "            \"pageButtonItemGap\": 5,\n",
       "            \"pageButtonPosition\": \"end\",\n",
       "            \"pageFormatter\": \"{current}/{total}\",\n",
       "            \"pageIconColor\": \"#2f4554\",\n",
       "            \"pageIconInactiveColor\": \"#aaa\",\n",
       "            \"pageIconSize\": 15,\n",
       "            \"animationDurationUpdate\": 800,\n",
       "            \"selector\": false,\n",
       "            \"selectorPosition\": \"auto\",\n",
       "            \"selectorItemGap\": 7,\n",
       "            \"selectorButtonGap\": 10\n",
       "        }\n",
       "    ],\n",
       "    \"tooltip\": {\n",
       "        \"show\": true,\n",
       "        \"trigger\": \"item\",\n",
       "        \"triggerOn\": \"mousemove|click\",\n",
       "        \"axisPointer\": {\n",
       "            \"type\": \"line\"\n",
       "        },\n",
       "        \"showContent\": true,\n",
       "        \"alwaysShowContent\": false,\n",
       "        \"showDelay\": 0,\n",
       "        \"hideDelay\": 100,\n",
       "        \"enterable\": false,\n",
       "        \"confine\": false,\n",
       "        \"appendToBody\": false,\n",
       "        \"transitionDuration\": 0.4,\n",
       "        \"textStyle\": {\n",
       "            \"fontSize\": 14\n",
       "        },\n",
       "        \"borderWidth\": 0,\n",
       "        \"padding\": 5,\n",
       "        \"order\": \"seriesAsc\"\n",
       "    },\n",
       "    \"title\": [\n",
       "        {\n",
       "            \"show\": true,\n",
       "            \"text\": \"\\u5929\\u732b\\u8ba2\\u5355\\u5404\\u7701\\u4efd\\u6570\\u91cf\\u4fe1\\u606f\",\n",
       "            \"target\": \"blank\",\n",
       "            \"subtarget\": \"blank\",\n",
       "            \"padding\": 5,\n",
       "            \"itemGap\": 10,\n",
       "            \"textAlign\": \"auto\",\n",
       "            \"textVerticalAlign\": \"auto\",\n",
       "            \"triggerEvent\": false\n",
       "        }\n",
       "    ]\n",
       "};\n",
       "        chart_5331542a6b844740b5d6ea66bee1c414.setOption(option_5331542a6b844740b5d6ea66bee1c414);\n",
       "    </script>\n",
       "</body>\n",
       "</html>\n"
      ],
      "text/plain": [
       "<pyecharts.render.display.HTML at 0x2cde42b6fd0>"
      ]
     },
     "execution_count": 93,
     "metadata": {},
     "output_type": "execute_result"
    }
   ],
   "source": [
    "c.render_notebook()"
   ]
  },
  {
   "cell_type": "code",
   "execution_count": 94,
   "id": "d3400eb8-28db-422e-aefa-2a2ddd44171e",
   "metadata": {},
   "outputs": [
    {
     "data": {
      "text/plain": [
       "'D:\\\\人工智能学习\\\\01机器学习\\\\pyecharts学习\\\\others\\\\tm.html'"
      ]
     },
     "execution_count": 94,
     "metadata": {},
     "output_type": "execute_result"
    }
   ],
   "source": [
    "c.render('../others/tm.html')"
   ]
  }
 ],
 "metadata": {
  "kernelspec": {
   "display_name": "Python 3 (ipykernel)",
   "language": "python",
   "name": "python3"
  },
  "language_info": {
   "codemirror_mode": {
    "name": "ipython",
    "version": 3
   },
   "file_extension": ".py",
   "mimetype": "text/x-python",
   "name": "python",
   "nbconvert_exporter": "python",
   "pygments_lexer": "ipython3",
   "version": "3.9.7"
  }
 },
 "nbformat": 4,
 "nbformat_minor": 5
}
