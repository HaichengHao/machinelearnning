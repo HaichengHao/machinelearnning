{
 "cells": [
  {
   "cell_type": "code",
   "execution_count": 1,
   "id": "a6388c4a-e61c-4dd5-977c-4465a9826b68",
   "metadata": {},
   "outputs": [
    {
     "data": {
      "text/html": [
       "<style type='text/css'>\n",
       "    *{\n",
       "        # background-color:#E3EDCD;\n",
       "        # background-color:black;\n",
       "        # color:white;\n",
       "        \n",
       "    }\n",
       "    h1{\n",
       "        color:#1976d2;\n",
       "    }\n",
       "    h2{\n",
       "        color:#f57c00;\n",
       "    }\n",
       "    h3{\n",
       "        color:#ba37ff;\n",
       "    }\n",
       "    h4{\n",
       "        color:green;\n",
       "    }\n",
       "    table{\n",
       "        border:1px solid black !important;\n",
       "        border-collapse:collapse !important;\n",
       "    }\n",
       "    th{\n",
       "        background-color:blueviolet !important;\n",
       "        text-align:center;\n",
       "        color:white;\n",
       "    }\n",
       "    th,td{\n",
       "        border:0.1px solid black !important;\n",
       "        transition:0.2s all liner;\n",
       "        \n",
       "    }\n",
       "    td:hover{\n",
       "        transform:scale(1.1);\n",
       "        background-color:orange;\n",
       "        color:blueviolet;\n",
       "    }\n",
       "    .raw{\n",
       "        white-space:pre;\n",
       "    }\n",
       "    .atcenter{\n",
       "        text-align:center !important;\n",
       "    }\n",
       "    .imp{\n",
       "        color:red;\n",
       "        font-weight:bolder;\n",
       "    }\n",
       "</style>\n"
      ],
      "text/plain": [
       "<IPython.core.display.HTML object>"
      ]
     },
     "metadata": {},
     "output_type": "display_data"
    }
   ],
   "source": [
    "%%HTML\n",
    "<style type='text/css'>\n",
    "    *{\n",
    "        # background-color:#E3EDCD;\n",
    "        # background-color:black;\n",
    "        # color:white;\n",
    "        \n",
    "    }\n",
    "    h1{\n",
    "        color:#1976d2;\n",
    "    }\n",
    "    h2{\n",
    "        color:#f57c00;\n",
    "    }\n",
    "    h3{\n",
    "        color:#ba37ff;\n",
    "    }\n",
    "    h4{\n",
    "        color:green;\n",
    "    }\n",
    "    table{\n",
    "        border:1px solid black !important;\n",
    "        border-collapse:collapse !important;\n",
    "    }\n",
    "    th{\n",
    "        background-color:blueviolet !important;\n",
    "        text-align:center;\n",
    "        color:white;\n",
    "    }\n",
    "    th,td{\n",
    "        border:0.1px solid black !important;\n",
    "        transition:0.2s all liner;\n",
    "        \n",
    "    }\n",
    "    td:hover{\n",
    "        transform:scale(1.1);\n",
    "        background-color:orange;\n",
    "        color:blueviolet;\n",
    "    }\n",
    "    .raw{\n",
    "        white-space:pre;\n",
    "    }\n",
    "    .atcenter{\n",
    "        text-align:center !important;\n",
    "    }\n",
    "    .imp{\n",
    "        color:red;\n",
    "        font-weight:bolder;\n",
    "    }\n",
    "</style>"
   ]
  },
  {
   "cell_type": "code",
   "execution_count": 10,
   "id": "ce85166a-6d98-490a-b1fa-4d7f522b2dc7",
   "metadata": {},
   "outputs": [],
   "source": [
    "import pyecharts.options as opts\n",
    "from pyecharts.globals import CurrentConfig,NotebookType,ThemeType\n",
    "from pyecharts.faker import Faker\n",
    "CurrentConfig.NOTEBOOK_TYPE = NotebookType.JUPYTER_LAB\n",
    "from pyecharts.charts import Scatter"
   ]
  },
  {
   "cell_type": "markdown",
   "id": "4a7b7b5a-0a93-44d2-8bdd-7f4216578825",
   "metadata": {},
   "source": [
    "# 数据准备"
   ]
  },
  {
   "cell_type": "code",
   "execution_count": 11,
   "id": "d30e2e6c-00d1-4c10-91ae-65b804ea7658",
   "metadata": {},
   "outputs": [],
   "source": [
    "data = [\n",
    "    [10.0, 8.04],\n",
    "    [8.0, 6.95],\n",
    "    [13.0, 7.58],\n",
    "    [9.0, 8.81],\n",
    "    [11.0, 8.33],\n",
    "    [14.0, 9.96],\n",
    "    [6.0, 7.24],\n",
    "    [4.0, 4.26],\n",
    "    [12.0, 10.84],\n",
    "    [7.0, 4.82],\n",
    "    [5.0, 5.68],\n",
    "]"
   ]
  },
  {
   "cell_type": "markdown",
   "id": "d8fc27bb-e88e-4adf-946e-48da006b428f",
   "metadata": {},
   "source": [
    "## 将data的数据进行排序"
   ]
  },
  {
   "cell_type": "markdown",
   "id": "cce24044-95f0-4bfb-bb37-7dc70496b1f9",
   "metadata": {},
   "source": [
    "按照data的第一列进行排序,这样画出来的散点图的x轴就不会是乱序的"
   ]
  },
  {
   "cell_type": "markdown",
   "id": "04a5a2ac-a2ff-43cb-9add-36d23947e08c",
   "metadata": {},
   "source": [
    "利用python中的.sort(key:lambda表达式)指定排序规则对数据进行排序"
   ]
  },
  {
   "cell_type": "code",
   "execution_count": 12,
   "id": "77ffc56b-334f-4d8a-8f69-167633242fcf",
   "metadata": {},
   "outputs": [],
   "source": [
    "data.sort(key=lambda x:x[0])"
   ]
  },
  {
   "cell_type": "code",
   "execution_count": 19,
   "id": "02d5f35a-2f95-4d42-92d4-a12ef8d4a8a7",
   "metadata": {},
   "outputs": [],
   "source": [
    "x_data=[d[0] for d in data]\n",
    "y_data=[d[1] for d in data]"
   ]
  },
  {
   "cell_type": "code",
   "execution_count": 20,
   "id": "9a01bd52-7542-4327-8a5e-36ec1221a48f",
   "metadata": {},
   "outputs": [
    {
     "data": {
      "text/plain": [
       "[4.0, 5.0, 6.0, 7.0, 8.0, 9.0, 10.0, 11.0, 12.0, 13.0, 14.0]"
      ]
     },
     "execution_count": 20,
     "metadata": {},
     "output_type": "execute_result"
    }
   ],
   "source": [
    "x_data"
   ]
  },
  {
   "cell_type": "code",
   "execution_count": 21,
   "id": "b7f40568-47eb-411e-8452-493c6531535b",
   "metadata": {},
   "outputs": [
    {
     "data": {
      "text/plain": [
       "[4.26, 5.68, 7.24, 4.82, 6.95, 8.81, 8.04, 8.33, 10.84, 7.58, 9.96]"
      ]
     },
     "execution_count": 21,
     "metadata": {},
     "output_type": "execute_result"
    }
   ],
   "source": [
    "y_data"
   ]
  },
  {
   "cell_type": "code",
   "execution_count": 43,
   "id": "e86f18ed-3949-4723-9e09-f16222919848",
   "metadata": {},
   "outputs": [],
   "source": [
    "c = (\n",
    "    Scatter(\n",
    "        init_opts=opts.InitOpts(\n",
    "            height='400px',\n",
    "            width='500px'\n",
    "        )\n",
    "    )\n",
    "    .add_xaxis(x_data)\n",
    "    .add_yaxis('',y_data,symbol='triangle',symbol_rotate=90)\n",
    "    .set_global_opts(\n",
    "        xaxis_opts=opts.AxisOpts(\n",
    "            type_='value', #如果不加这个,显示的点可能会不全面\n",
    "            # splitline_opts=opts.SplitLineOpts(\n",
    "            #     is_show=True\n",
    "            # )\n",
    "        ),\n",
    "        tooltip_opts=opts.TooltipOpts(\n",
    "            trigger='axis'\n",
    "        ),\n",
    "        \n",
    "        \n",
    "    )\n",
    ")"
   ]
  },
  {
   "cell_type": "code",
   "execution_count": 44,
   "id": "e7a54bd0-f9e3-4cec-9aaa-f6824a8b0527",
   "metadata": {},
   "outputs": [
    {
     "data": {
      "application/javascript": [
       "new Promise(function(resolve, reject) {\n",
       "    var script = document.createElement(\"script\");\n",
       "    script.onload = resolve;\n",
       "    script.onerror = reject;\n",
       "    script.src = \"https://assets.pyecharts.org/assets/v5/echarts.min.js\";\n",
       "    document.head.appendChild(script);\n",
       "}).then(() => {\n",
       "\n",
       "});"
      ],
      "text/plain": [
       "<pyecharts.render.display.Javascript at 0x2671d4d0ee0>"
      ]
     },
     "execution_count": 44,
     "metadata": {},
     "output_type": "execute_result"
    }
   ],
   "source": [
    "c.load_javascript()"
   ]
  },
  {
   "cell_type": "code",
   "execution_count": 45,
   "id": "7efb3846-ff0e-4f31-aeaa-3016ccb27c4a",
   "metadata": {},
   "outputs": [
    {
     "data": {
      "text/html": [
       "<!DOCTYPE html>\n",
       "<html>\n",
       "<head>\n",
       "    <meta charset=\"UTF-8\">\n",
       "</head>\n",
       "<body>\n",
       "        <div id=\"cad11354243a4c9da9acacf243949968\" class=\"chart-container\" style=\"width:500px; height:400px; \"></div>\n",
       "    <script>\n",
       "        var chart_cad11354243a4c9da9acacf243949968 = echarts.init(\n",
       "            document.getElementById('cad11354243a4c9da9acacf243949968'), 'white', {renderer: 'canvas'});\n",
       "        var option_cad11354243a4c9da9acacf243949968 = {\n",
       "    \"animation\": true,\n",
       "    \"animationThreshold\": 2000,\n",
       "    \"animationDuration\": 1000,\n",
       "    \"animationEasing\": \"cubicOut\",\n",
       "    \"animationDelay\": 0,\n",
       "    \"animationDurationUpdate\": 300,\n",
       "    \"animationEasingUpdate\": \"cubicOut\",\n",
       "    \"animationDelayUpdate\": 0,\n",
       "    \"aria\": {\n",
       "        \"enabled\": false\n",
       "    },\n",
       "    \"color\": [\n",
       "        \"#5470c6\",\n",
       "        \"#91cc75\",\n",
       "        \"#fac858\",\n",
       "        \"#ee6666\",\n",
       "        \"#73c0de\",\n",
       "        \"#3ba272\",\n",
       "        \"#fc8452\",\n",
       "        \"#9a60b4\",\n",
       "        \"#ea7ccc\"\n",
       "    ],\n",
       "    \"series\": [\n",
       "        {\n",
       "            \"type\": \"scatter\",\n",
       "            \"symbol\": \"triangle\",\n",
       "            \"symbolSize\": 10,\n",
       "            \"symbolRotate\": 90,\n",
       "            \"data\": [\n",
       "                [\n",
       "                    4.0,\n",
       "                    4.26\n",
       "                ],\n",
       "                [\n",
       "                    5.0,\n",
       "                    5.68\n",
       "                ],\n",
       "                [\n",
       "                    6.0,\n",
       "                    7.24\n",
       "                ],\n",
       "                [\n",
       "                    7.0,\n",
       "                    4.82\n",
       "                ],\n",
       "                [\n",
       "                    8.0,\n",
       "                    6.95\n",
       "                ],\n",
       "                [\n",
       "                    9.0,\n",
       "                    8.81\n",
       "                ],\n",
       "                [\n",
       "                    10.0,\n",
       "                    8.04\n",
       "                ],\n",
       "                [\n",
       "                    11.0,\n",
       "                    8.33\n",
       "                ],\n",
       "                [\n",
       "                    12.0,\n",
       "                    10.84\n",
       "                ],\n",
       "                [\n",
       "                    13.0,\n",
       "                    7.58\n",
       "                ],\n",
       "                [\n",
       "                    14.0,\n",
       "                    9.96\n",
       "                ]\n",
       "            ],\n",
       "            \"label\": {\n",
       "                \"show\": true,\n",
       "                \"position\": \"right\",\n",
       "                \"margin\": 8\n",
       "            }\n",
       "        }\n",
       "    ],\n",
       "    \"legend\": [\n",
       "        {\n",
       "            \"data\": [\n",
       "                \"\"\n",
       "            ],\n",
       "            \"selected\": {},\n",
       "            \"show\": true,\n",
       "            \"padding\": 5,\n",
       "            \"itemGap\": 10,\n",
       "            \"itemWidth\": 25,\n",
       "            \"itemHeight\": 14,\n",
       "            \"backgroundColor\": \"transparent\",\n",
       "            \"borderColor\": \"#ccc\",\n",
       "            \"borderRadius\": 0,\n",
       "            \"pageButtonItemGap\": 5,\n",
       "            \"pageButtonPosition\": \"end\",\n",
       "            \"pageFormatter\": \"{current}/{total}\",\n",
       "            \"pageIconColor\": \"#2f4554\",\n",
       "            \"pageIconInactiveColor\": \"#aaa\",\n",
       "            \"pageIconSize\": 15,\n",
       "            \"animationDurationUpdate\": 800,\n",
       "            \"selector\": false,\n",
       "            \"selectorPosition\": \"auto\",\n",
       "            \"selectorItemGap\": 7,\n",
       "            \"selectorButtonGap\": 10\n",
       "        }\n",
       "    ],\n",
       "    \"tooltip\": {\n",
       "        \"show\": true,\n",
       "        \"trigger\": \"axis\",\n",
       "        \"triggerOn\": \"mousemove|click\",\n",
       "        \"axisPointer\": {\n",
       "            \"type\": \"line\"\n",
       "        },\n",
       "        \"showContent\": true,\n",
       "        \"alwaysShowContent\": false,\n",
       "        \"showDelay\": 0,\n",
       "        \"hideDelay\": 100,\n",
       "        \"enterable\": false,\n",
       "        \"confine\": false,\n",
       "        \"appendToBody\": false,\n",
       "        \"transitionDuration\": 0.4,\n",
       "        \"textStyle\": {\n",
       "            \"fontSize\": 14\n",
       "        },\n",
       "        \"borderWidth\": 0,\n",
       "        \"padding\": 5,\n",
       "        \"order\": \"seriesAsc\"\n",
       "    },\n",
       "    \"xAxis\": [\n",
       "        {\n",
       "            \"type\": \"value\",\n",
       "            \"show\": true,\n",
       "            \"scale\": false,\n",
       "            \"nameLocation\": \"end\",\n",
       "            \"nameGap\": 15,\n",
       "            \"gridIndex\": 0,\n",
       "            \"inverse\": false,\n",
       "            \"offset\": 0,\n",
       "            \"splitNumber\": 5,\n",
       "            \"minInterval\": 0,\n",
       "            \"splitLine\": {\n",
       "                \"show\": true,\n",
       "                \"lineStyle\": {\n",
       "                    \"show\": true,\n",
       "                    \"width\": 1,\n",
       "                    \"opacity\": 1,\n",
       "                    \"curveness\": 0,\n",
       "                    \"type\": \"solid\"\n",
       "                }\n",
       "            },\n",
       "            \"data\": [\n",
       "                4.0,\n",
       "                5.0,\n",
       "                6.0,\n",
       "                7.0,\n",
       "                8.0,\n",
       "                9.0,\n",
       "                10.0,\n",
       "                11.0,\n",
       "                12.0,\n",
       "                13.0,\n",
       "                14.0\n",
       "            ]\n",
       "        }\n",
       "    ],\n",
       "    \"yAxis\": [\n",
       "        {\n",
       "            \"show\": true,\n",
       "            \"scale\": false,\n",
       "            \"nameLocation\": \"end\",\n",
       "            \"nameGap\": 15,\n",
       "            \"gridIndex\": 0,\n",
       "            \"inverse\": false,\n",
       "            \"offset\": 0,\n",
       "            \"splitNumber\": 5,\n",
       "            \"minInterval\": 0,\n",
       "            \"splitLine\": {\n",
       "                \"show\": true,\n",
       "                \"lineStyle\": {\n",
       "                    \"show\": true,\n",
       "                    \"width\": 1,\n",
       "                    \"opacity\": 1,\n",
       "                    \"curveness\": 0,\n",
       "                    \"type\": \"solid\"\n",
       "                }\n",
       "            }\n",
       "        }\n",
       "    ],\n",
       "    \"title\": [\n",
       "        {\n",
       "            \"show\": true,\n",
       "            \"target\": \"blank\",\n",
       "            \"subtarget\": \"blank\",\n",
       "            \"padding\": 5,\n",
       "            \"itemGap\": 10,\n",
       "            \"textAlign\": \"auto\",\n",
       "            \"textVerticalAlign\": \"auto\",\n",
       "            \"triggerEvent\": false\n",
       "        }\n",
       "    ]\n",
       "};\n",
       "        chart_cad11354243a4c9da9acacf243949968.setOption(option_cad11354243a4c9da9acacf243949968);\n",
       "    </script>\n",
       "</body>\n",
       "</html>\n"
      ],
      "text/plain": [
       "<pyecharts.render.display.HTML at 0x2671cf44760>"
      ]
     },
     "execution_count": 45,
     "metadata": {},
     "output_type": "execute_result"
    }
   ],
   "source": [
    "c.render_notebook()"
   ]
  },
  {
   "cell_type": "code",
   "execution_count": null,
   "id": "09bf1212-f792-43d4-b1e5-b7575e8d587a",
   "metadata": {},
   "outputs": [],
   "source": []
  }
 ],
 "metadata": {
  "kernelspec": {
   "display_name": "Python 3 (ipykernel)",
   "language": "python",
   "name": "python3"
  },
  "language_info": {
   "codemirror_mode": {
    "name": "ipython",
    "version": 3
   },
   "file_extension": ".py",
   "mimetype": "text/x-python",
   "name": "python",
   "nbconvert_exporter": "python",
   "pygments_lexer": "ipython3",
   "version": "3.9.7"
  }
 },
 "nbformat": 4,
 "nbformat_minor": 5
}
