{
 "cells": [
  {
   "cell_type": "code",
   "execution_count": 1,
   "id": "da6b1746-0665-46a1-81c6-7e977f6eeb09",
   "metadata": {},
   "outputs": [
    {
     "data": {
      "text/html": [
       "<style type='text/css'>\n",
       "    *{\n",
       "        # background-color:#E3EDCD;\n",
       "        # background-color:black;\n",
       "        # color:white;\n",
       "        \n",
       "    }\n",
       "    h1{\n",
       "        color:#1976d2;\n",
       "    }\n",
       "    h2{\n",
       "        color:#f57c00;\n",
       "    }\n",
       "    h3{\n",
       "        color:#ba37ff;\n",
       "    }\n",
       "    h4{\n",
       "        color:green;\n",
       "    }\n",
       "    table{\n",
       "        border:1px solid black !important;\n",
       "        border-collapse:collapse !important;\n",
       "    }\n",
       "    th{\n",
       "        background-color:blueviolet !important;\n",
       "        text-align:center;\n",
       "        color:white;\n",
       "    }\n",
       "    th,td{\n",
       "        border:0.1px solid black !important;\n",
       "        transition:0.2s all liner;\n",
       "        \n",
       "    }\n",
       "    td:hover{\n",
       "        transform:scale(1.1);\n",
       "        background-color:orange;\n",
       "        color:blueviolet;\n",
       "    }\n",
       "    .raw{\n",
       "        white-space:pre;\n",
       "    }\n",
       "    .atcenter{\n",
       "        text-align:center !important;\n",
       "    }\n",
       "    .imp{\n",
       "        color:red;\n",
       "        font-weight:bolder;\n",
       "    }\n",
       "</style>\n"
      ],
      "text/plain": [
       "<IPython.core.display.HTML object>"
      ]
     },
     "metadata": {},
     "output_type": "display_data"
    }
   ],
   "source": [
    "%%HTML\n",
    "<style type='text/css'>\n",
    "    *{\n",
    "        # background-color:#E3EDCD;\n",
    "        # background-color:black;\n",
    "        # color:white;\n",
    "        \n",
    "    }\n",
    "    h1{\n",
    "        color:#1976d2;\n",
    "    }\n",
    "    h2{\n",
    "        color:#f57c00;\n",
    "    }\n",
    "    h3{\n",
    "        color:#ba37ff;\n",
    "    }\n",
    "    h4{\n",
    "        color:green;\n",
    "    }\n",
    "    table{\n",
    "        border:1px solid black !important;\n",
    "        border-collapse:collapse !important;\n",
    "    }\n",
    "    th{\n",
    "        background-color:blueviolet !important;\n",
    "        text-align:center;\n",
    "        color:white;\n",
    "    }\n",
    "    th,td{\n",
    "        border:0.1px solid black !important;\n",
    "        transition:0.2s all liner;\n",
    "        \n",
    "    }\n",
    "    td:hover{\n",
    "        transform:scale(1.1);\n",
    "        background-color:orange;\n",
    "        color:blueviolet;\n",
    "    }\n",
    "    .raw{\n",
    "        white-space:pre;\n",
    "    }\n",
    "    .atcenter{\n",
    "        text-align:center !important;\n",
    "    }\n",
    "    .imp{\n",
    "        color:red;\n",
    "        font-weight:bolder;\n",
    "    }\n",
    "</style>"
   ]
  },
  {
   "cell_type": "markdown",
   "id": "c8855b48-a944-453a-98ce-fbb8006c5ebc",
   "metadata": {},
   "source": [
    "# 箱型图"
   ]
  },
  {
   "cell_type": "code",
   "execution_count": 4,
   "id": "24297ce7-4e0c-47e0-b11f-220798802910",
   "metadata": {},
   "outputs": [],
   "source": [
    "from pyecharts.globals import CurrentConfig,NotebookType\n",
    "CurrentConfig.NOTEBOOK_TYPE = NotebookType.JUPYTER_LAB\n",
    "from pyecharts.charts import Boxplot\n",
    "from pyecharts.faker import Faker\n",
    "import random"
   ]
  },
  {
   "cell_type": "markdown",
   "id": "4463b790-97e2-4090-845f-6e1c3b4706ed",
   "metadata": {},
   "source": [
    "## 数据准备"
   ]
  },
  {
   "cell_type": "code",
   "execution_count": 6,
   "id": "09ee25e4-c2ca-40ba-86e1-b9b626d225cc",
   "metadata": {},
   "outputs": [],
   "source": [
    "v1 = [[],[]]\n",
    "v2 = [[],[]]"
   ]
  },
  {
   "cell_type": "code",
   "execution_count": 7,
   "id": "f075fad8-21e8-4792-8c61-94a96de73f7c",
   "metadata": {},
   "outputs": [],
   "source": [
    "for i in range(12):\n",
    "    v1[0].append(random.randint(800,1000))\n",
    "    v1[1].append(random.randint(800,1000))\n",
    "    v2[0].append(random.randint(800,1000))\n",
    "    v2[1].append(random.randint(800,1000))"
   ]
  },
  {
   "cell_type": "code",
   "execution_count": 8,
   "id": "2a6c8a75-35d4-493c-b136-aef7ad2b94cf",
   "metadata": {},
   "outputs": [
    {
     "data": {
      "text/plain": [
       "[[957, 856, 843, 813, 837, 944, 896, 902, 858, 815, 948, 819],\n",
       " [910, 898, 925, 965, 983, 913, 984, 933, 983, 995, 813, 830]]"
      ]
     },
     "execution_count": 8,
     "metadata": {},
     "output_type": "execute_result"
    }
   ],
   "source": [
    "v1"
   ]
  },
  {
   "cell_type": "code",
   "execution_count": 9,
   "id": "24395187-c9ec-47be-81e8-39e44ad63700",
   "metadata": {},
   "outputs": [
    {
     "data": {
      "text/plain": [
       "[[941, 800, 874, 850, 914, 949, 845, 812, 910, 850, 861, 894],\n",
       " [827, 955, 919, 945, 914, 943, 909, 947, 821, 923, 812, 940]]"
      ]
     },
     "execution_count": 9,
     "metadata": {},
     "output_type": "execute_result"
    }
   ],
   "source": [
    "v2"
   ]
  },
  {
   "cell_type": "markdown",
   "id": "ba471ea1-de0b-422c-8271-57b273faba34",
   "metadata": {},
   "source": [
    "### 开始作图"
   ]
  },
  {
   "cell_type": "code",
   "execution_count": 13,
   "id": "b1b192cd-66cf-4c32-81f7-9dbc9e6ee6fe",
   "metadata": {},
   "outputs": [
    {
     "data": {
      "text/plain": [
       "<pyecharts.charts.basic_charts.boxplot.Boxplot at 0x29605751400>"
      ]
     },
     "execution_count": 13,
     "metadata": {},
     "output_type": "execute_result"
    }
   ],
   "source": [
    "c = Boxplot()\n",
    "c.add_xaxis(['demo1','demo2'])\n",
    "c.add_yaxis('A',c.prepare_data(v1))\n",
    "c.add_yaxis('B',c.prepare_data(v2))"
   ]
  },
  {
   "cell_type": "code",
   "execution_count": 14,
   "id": "f52e9938-bfb5-434c-b082-1f3ab8be575e",
   "metadata": {},
   "outputs": [
    {
     "data": {
      "application/javascript": [
       "new Promise(function(resolve, reject) {\n",
       "    var script = document.createElement(\"script\");\n",
       "    script.onload = resolve;\n",
       "    script.onerror = reject;\n",
       "    script.src = \"https://assets.pyecharts.org/assets/v5/echarts.min.js\";\n",
       "    document.head.appendChild(script);\n",
       "}).then(() => {\n",
       "\n",
       "});"
      ],
      "text/plain": [
       "<pyecharts.render.display.Javascript at 0x29605751f40>"
      ]
     },
     "execution_count": 14,
     "metadata": {},
     "output_type": "execute_result"
    }
   ],
   "source": [
    "c.load_javascript()"
   ]
  },
  {
   "cell_type": "code",
   "execution_count": 15,
   "id": "d27a5b89-344a-4f05-b567-3efced2e9a22",
   "metadata": {},
   "outputs": [
    {
     "data": {
      "text/html": [
       "<!DOCTYPE html>\n",
       "<html>\n",
       "<head>\n",
       "    <meta charset=\"UTF-8\">\n",
       "</head>\n",
       "<body>\n",
       "        <div id=\"3bfa9d53e69745a08b63d01f748ba86d\" class=\"chart-container\" style=\"width:900px; height:500px; \"></div>\n",
       "    <script>\n",
       "        var chart_3bfa9d53e69745a08b63d01f748ba86d = echarts.init(\n",
       "            document.getElementById('3bfa9d53e69745a08b63d01f748ba86d'), 'white', {renderer: 'canvas'});\n",
       "        var option_3bfa9d53e69745a08b63d01f748ba86d = {\n",
       "    \"animation\": true,\n",
       "    \"animationThreshold\": 2000,\n",
       "    \"animationDuration\": 1000,\n",
       "    \"animationEasing\": \"cubicOut\",\n",
       "    \"animationDelay\": 0,\n",
       "    \"animationDurationUpdate\": 300,\n",
       "    \"animationEasingUpdate\": \"cubicOut\",\n",
       "    \"animationDelayUpdate\": 0,\n",
       "    \"aria\": {\n",
       "        \"enabled\": false\n",
       "    },\n",
       "    \"color\": [\n",
       "        \"#5470c6\",\n",
       "        \"#91cc75\",\n",
       "        \"#fac858\",\n",
       "        \"#ee6666\",\n",
       "        \"#73c0de\",\n",
       "        \"#3ba272\",\n",
       "        \"#fc8452\",\n",
       "        \"#9a60b4\",\n",
       "        \"#ea7ccc\"\n",
       "    ],\n",
       "    \"series\": [\n",
       "        {\n",
       "            \"type\": \"boxplot\",\n",
       "            \"name\": \"A\",\n",
       "            \"legendHoverLink\": true,\n",
       "            \"hoverAnimation\": true,\n",
       "            \"boxWidth\": [\n",
       "                7,\n",
       "                50\n",
       "            ],\n",
       "            \"selectedMode\": false,\n",
       "            \"data\": [\n",
       "                [\n",
       "                    813,\n",
       "                    823.5,\n",
       "                    857.0,\n",
       "                    933.5,\n",
       "                    957\n",
       "                ],\n",
       "                [\n",
       "                    813,\n",
       "                    901.0,\n",
       "                    929.0,\n",
       "                    983.0,\n",
       "                    995\n",
       "                ]\n",
       "            ],\n",
       "            \"label\": {\n",
       "                \"show\": true,\n",
       "                \"margin\": 8\n",
       "            },\n",
       "            \"markPoint\": {\n",
       "                \"label\": {\n",
       "                    \"show\": true,\n",
       "                    \"position\": \"inside\",\n",
       "                    \"color\": \"#fff\",\n",
       "                    \"margin\": 8\n",
       "                }\n",
       "            },\n",
       "            \"markLine\": {\n",
       "                \"silent\": false,\n",
       "                \"precision\": 2,\n",
       "                \"label\": {\n",
       "                    \"show\": true,\n",
       "                    \"margin\": 8\n",
       "                }\n",
       "            },\n",
       "            \"zlevel\": 0,\n",
       "            \"z\": 2\n",
       "        },\n",
       "        {\n",
       "            \"type\": \"boxplot\",\n",
       "            \"name\": \"B\",\n",
       "            \"legendHoverLink\": true,\n",
       "            \"hoverAnimation\": true,\n",
       "            \"boxWidth\": [\n",
       "                7,\n",
       "                50\n",
       "            ],\n",
       "            \"selectedMode\": false,\n",
       "            \"data\": [\n",
       "                [\n",
       "                    800,\n",
       "                    846.25,\n",
       "                    867.5,\n",
       "                    913.0,\n",
       "                    949\n",
       "                ],\n",
       "                [\n",
       "                    812,\n",
       "                    847.5,\n",
       "                    921.0,\n",
       "                    944.5,\n",
       "                    955\n",
       "                ]\n",
       "            ],\n",
       "            \"label\": {\n",
       "                \"show\": true,\n",
       "                \"margin\": 8\n",
       "            },\n",
       "            \"markPoint\": {\n",
       "                \"label\": {\n",
       "                    \"show\": true,\n",
       "                    \"position\": \"inside\",\n",
       "                    \"color\": \"#fff\",\n",
       "                    \"margin\": 8\n",
       "                }\n",
       "            },\n",
       "            \"markLine\": {\n",
       "                \"silent\": false,\n",
       "                \"precision\": 2,\n",
       "                \"label\": {\n",
       "                    \"show\": true,\n",
       "                    \"margin\": 8\n",
       "                }\n",
       "            },\n",
       "            \"zlevel\": 0,\n",
       "            \"z\": 2\n",
       "        }\n",
       "    ],\n",
       "    \"legend\": [\n",
       "        {\n",
       "            \"data\": [\n",
       "                \"A\",\n",
       "                \"B\"\n",
       "            ],\n",
       "            \"selected\": {}\n",
       "        }\n",
       "    ],\n",
       "    \"tooltip\": {\n",
       "        \"show\": true,\n",
       "        \"trigger\": \"item\",\n",
       "        \"triggerOn\": \"mousemove|click\",\n",
       "        \"axisPointer\": {\n",
       "            \"type\": \"line\"\n",
       "        },\n",
       "        \"showContent\": true,\n",
       "        \"alwaysShowContent\": false,\n",
       "        \"showDelay\": 0,\n",
       "        \"hideDelay\": 100,\n",
       "        \"enterable\": false,\n",
       "        \"confine\": false,\n",
       "        \"appendToBody\": false,\n",
       "        \"transitionDuration\": 0.4,\n",
       "        \"textStyle\": {\n",
       "            \"fontSize\": 14\n",
       "        },\n",
       "        \"borderWidth\": 0,\n",
       "        \"padding\": 5,\n",
       "        \"order\": \"seriesAsc\"\n",
       "    },\n",
       "    \"xAxis\": [\n",
       "        {\n",
       "            \"show\": true,\n",
       "            \"scale\": false,\n",
       "            \"nameLocation\": \"end\",\n",
       "            \"nameGap\": 15,\n",
       "            \"gridIndex\": 0,\n",
       "            \"inverse\": false,\n",
       "            \"offset\": 0,\n",
       "            \"splitNumber\": 5,\n",
       "            \"minInterval\": 0,\n",
       "            \"splitLine\": {\n",
       "                \"show\": true,\n",
       "                \"lineStyle\": {\n",
       "                    \"show\": true,\n",
       "                    \"width\": 1,\n",
       "                    \"opacity\": 1,\n",
       "                    \"curveness\": 0,\n",
       "                    \"type\": \"solid\"\n",
       "                }\n",
       "            },\n",
       "            \"data\": [\n",
       "                \"demo1\",\n",
       "                \"demo2\"\n",
       "            ]\n",
       "        }\n",
       "    ],\n",
       "    \"yAxis\": [\n",
       "        {\n",
       "            \"show\": true,\n",
       "            \"scale\": false,\n",
       "            \"nameLocation\": \"end\",\n",
       "            \"nameGap\": 15,\n",
       "            \"gridIndex\": 0,\n",
       "            \"inverse\": false,\n",
       "            \"offset\": 0,\n",
       "            \"splitNumber\": 5,\n",
       "            \"minInterval\": 0,\n",
       "            \"splitLine\": {\n",
       "                \"show\": true,\n",
       "                \"lineStyle\": {\n",
       "                    \"show\": true,\n",
       "                    \"width\": 1,\n",
       "                    \"opacity\": 1,\n",
       "                    \"curveness\": 0,\n",
       "                    \"type\": \"solid\"\n",
       "                }\n",
       "            }\n",
       "        }\n",
       "    ]\n",
       "};\n",
       "        chart_3bfa9d53e69745a08b63d01f748ba86d.setOption(option_3bfa9d53e69745a08b63d01f748ba86d);\n",
       "    </script>\n",
       "</body>\n",
       "</html>\n"
      ],
      "text/plain": [
       "<pyecharts.render.display.HTML at 0x29605751580>"
      ]
     },
     "execution_count": 15,
     "metadata": {},
     "output_type": "execute_result"
    }
   ],
   "source": [
    "c.render_notebook()"
   ]
  },
  {
   "cell_type": "code",
   "execution_count": null,
   "id": "061df8d7-e05b-43c8-b507-c173330d4c0f",
   "metadata": {},
   "outputs": [],
   "source": []
  }
 ],
 "metadata": {
  "kernelspec": {
   "display_name": "Python 3 (ipykernel)",
   "language": "python",
   "name": "python3"
  },
  "language_info": {
   "codemirror_mode": {
    "name": "ipython",
    "version": 3
   },
   "file_extension": ".py",
   "mimetype": "text/x-python",
   "name": "python",
   "nbconvert_exporter": "python",
   "pygments_lexer": "ipython3",
   "version": "3.9.7"
  }
 },
 "nbformat": 4,
 "nbformat_minor": 5
}
