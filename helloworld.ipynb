{
 "cells": [
  {
   "cell_type": "code",
   "execution_count": 2,
   "id": "11ddd086-6159-42c3-9071-9e8dd9a5c3ad",
   "metadata": {},
   "outputs": [
    {
     "name": "stdout",
     "output_type": "stream",
     "text": [
      "hello world\n"
     ]
    }
   ],
   "source": [
    "print('hello world')"
   ]
  },
  {
   "cell_type": "code",
   "execution_count": null,
   "id": "d77f3086-bb42-41a4-a90b-51fbc8516fee",
   "metadata": {},
   "outputs": [],
   "source": []
  },
  {
   "cell_type": "markdown",
   "id": "4391bc77-a894-4087-93aa-ed91c45ef613",
   "metadata": {},
   "source": [
    "<h3>常用快捷键</h3>\n",
    "<ul>\n",
    "    <h4>两种模式通用快捷键</h4>\n",
    "    <li>shift+enter 运行该单元格并开辟新的单元格</li>\n",
    "    <li>ctrl+enter 执行本单元格代码并留在本单元</li>\n",
    "    <h4>命令模式:按esc进入</h4>\n",
    "    <li>Y，cell切换到code模式</li>\n",
    "    <li>M，cell切换到Markdown模式</li>\n",
    "    <li>A，在当前cell的上面添加单元格</li>\n",
    "    <li>B，在当前cell的下面添加单元格</li>\n",
    "    <h4>其他</h4>\n",
    "    <li>DD:删除该单元格</li>\n",
    "    <li>Z：回退</li>\n",
    "    <li>L:为当前cell设置行号</li>\n",
    "    <li>ctrl+shift+p,对话框输入命令直接运行</li>\n",
    "    <li>ctrl+home:快速回到首个单元格</li>\n",
    "    <li>ctrl+end:快速回到尾部单元格</li>\n",
    "    <h4>编辑模式:按enter键进入</h4>\n",
    "    <li>补全代码:变量，方法后面跟上tab键</li>\n",
    "    <li>快速注释ctrl+/与pycharm和大多数ide一样</li>\n",
    "    <h4>其他</h4>\n",
    "    <li>选中多行Ctrl+鼠标点击</li>\n",
    "    <li>重做ctrl+Y</li>\n",
    "    <li>回退ctrl+Z</li>\n",
    "    <li>alt+鼠标 快速选中多行</li>\n",
    "    \n",
    "        \n",
    "</ul>"
   ]
  },
  {
   "cell_type": "code",
   "execution_count": 4,
   "id": "ca4d417b-933e-460b-b0d4-0b25dede1a79",
   "metadata": {},
   "outputs": [
    {
     "name": "stdout",
     "output_type": "stream",
     "text": [
      "78\n"
     ]
    }
   ],
   "source": [
    "import random\n",
    "lst=[1,3,5,6,78,9]\n",
    "a = random.choice(lst)\n",
    "print(a)"
   ]
  }
 ],
 "metadata": {
  "kernelspec": {
   "display_name": "Python 3 (ipykernel)",
   "language": "python",
   "name": "python3"
  },
  "language_info": {
   "codemirror_mode": {
    "name": "ipython",
    "version": 3
   },
   "file_extension": ".py",
   "mimetype": "text/x-python",
   "name": "python",
   "nbconvert_exporter": "python",
   "pygments_lexer": "ipython3",
   "version": "3.8.10"
  }
 },
 "nbformat": 4,
 "nbformat_minor": 5
}
