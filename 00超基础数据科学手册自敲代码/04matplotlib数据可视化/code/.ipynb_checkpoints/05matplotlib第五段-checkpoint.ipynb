{
 "cells": [
  {
   "cell_type": "code",
   "execution_count": 1,
   "id": "05bd0d47-6c3b-4f97-8ad9-78009b717e65",
   "metadata": {},
   "outputs": [
    {
     "data": {
      "text/html": [
       "<style type='text/css'>\n",
       "    *{\n",
       "        # background-color:#E3EDCD;\n",
       "        # background-color:black;\n",
       "        # color:white;\n",
       "        \n",
       "    }\n",
       "    h1{\n",
       "        color:#1976d2;\n",
       "    }\n",
       "    h2{\n",
       "        color:#f57c00;\n",
       "    }\n",
       "    h3{\n",
       "        color:#ba37ff;\n",
       "    }\n",
       "    h4{\n",
       "        color:green;\n",
       "    }\n",
       "    table{\n",
       "        border:1px solid black !important;\n",
       "        border-collapse:collapse !important;\n",
       "    }\n",
       "    th{\n",
       "        background-color:blueviolet !important;\n",
       "        text-align:center;\n",
       "        color:white;\n",
       "    }\n",
       "    th,td{\n",
       "        border:0.1px solid black !important;\n",
       "        transition:0.2s all liner;\n",
       "        \n",
       "    }\n",
       "    td:hover{\n",
       "        transform:scale(1.1);\n",
       "        background-color:orange;\n",
       "        color:blueviolet;\n",
       "    }\n",
       "    .raw{\n",
       "        white-space:pre;\n",
       "    }\n",
       "    .atcenter{\n",
       "        text-align:center !important;\n",
       "    }\n",
       "    .imp{\n",
       "        color:red;\n",
       "        font-weight:bolder;\n",
       "    }\n",
       "</style>\n"
      ],
      "text/plain": [
       "<IPython.core.display.HTML object>"
      ]
     },
     "metadata": {},
     "output_type": "display_data"
    }
   ],
   "source": [
    "%%HTML\n",
    "<style type='text/css'>\n",
    "    *{\n",
    "        # background-color:#E3EDCD;\n",
    "        # background-color:black;\n",
    "        # color:white;\n",
    "        \n",
    "    }\n",
    "    h1{\n",
    "        color:#1976d2;\n",
    "    }\n",
    "    h2{\n",
    "        color:#f57c00;\n",
    "    }\n",
    "    h3{\n",
    "        color:#ba37ff;\n",
    "    }\n",
    "    h4{\n",
    "        color:green;\n",
    "    }\n",
    "    table{\n",
    "        border:1px solid black !important;\n",
    "        border-collapse:collapse !important;\n",
    "    }\n",
    "    th{\n",
    "        background-color:blueviolet !important;\n",
    "        text-align:center;\n",
    "        color:white;\n",
    "    }\n",
    "    th,td{\n",
    "        border:0.1px solid black !important;\n",
    "        transition:0.2s all liner;\n",
    "        \n",
    "    }\n",
    "    td:hover{\n",
    "        transform:scale(1.1);\n",
    "        background-color:orange;\n",
    "        color:blueviolet;\n",
    "    }\n",
    "    .raw{\n",
    "        white-space:pre;\n",
    "    }\n",
    "    .atcenter{\n",
    "        text-align:center !important;\n",
    "    }\n",
    "    .imp{\n",
    "        color:red;\n",
    "        font-weight:bolder;\n",
    "    }\n",
    "</style>"
   ]
  },
  {
   "cell_type": "markdown",
   "id": "561096a5-e01a-4f8a-8e14-85a610b75bfd",
   "metadata": {},
   "source": [
    "## 4.12 自定义坐标轴刻度"
   ]
  },
  {
   "cell_type": "markdown",
   "id": "cc39cb63-2c03-4feb-8e19-948d15edeccd",
   "metadata": {},
   "source": [
    "虽然 Matplotlib 默认的坐标轴定位器（locator）与格式生成器\n",
    "（formatter）可以满足大部分需求，但是并非对每一幅图都合适。本节\n",
    "将通过一些示例演示如何将坐标轴刻度调整为你需要的位置与格式。\n",
    "在介绍示例之前，我们最好先对 Matplotlib 图形的对象层级有更深入的\n",
    "理解。Matplotlib 的目标是用 Python 对象表现任意图形元素。例如，想\n",
    "想前面介绍的 figure 对象，它其实就是一个盛放图形元素的包围盒\n",
    "（bounding box）。可以将每个 Matplotlib 对象都看成是子对象（subobject）的容器，例如每个 figure 都会包含一个或多个 axes 对象，每\n",
    "个 axes 对象又会包含其他表示图形内容的对象。\n",
    "坐标轴刻度线也不例外。每个 axes 都有 xaxis 和 yaxis 属性，每个属\n",
    "性同样包含构成坐标轴的线条、刻度和标签的全部属性。"
   ]
  },
  {
   "cell_type": "markdown",
   "id": "cba38076-3e9b-4637-a9bd-05d0505eb696",
   "metadata": {},
   "source": [
    "### 4.12.1 主要刻度与次要刻度"
   ]
  },
  {
   "cell_type": "markdown",
   "id": "83bebbf3-7b72-4ba3-9a4e-2cf2d7bc063e",
   "metadata": {},
   "source": [
    "每一个坐标轴都有主要刻度线与次要刻度线。顾名思义，主要刻度往往\n",
    "更大或更显著，而次要刻度往往更小。虽然一般情况下 Matplotlib 不会\n",
    "使用次要刻度，但是你会在对数图中看到它们（如图 4-73 所示）："
   ]
  },
  {
   "cell_type": "code",
   "execution_count": 2,
   "id": "4ee76584-4f72-4430-b928-7ecfb3b57f71",
   "metadata": {},
   "outputs": [],
   "source": [
    "import matplotlib.pyplot as plt\n",
    "import numpy as np"
   ]
  },
  {
   "cell_type": "code",
   "execution_count": 3,
   "id": "e3c0916a-ff7f-4ca1-9048-4de12b862082",
   "metadata": {},
   "outputs": [
    {
     "data": {
      "text/plain": [
       "\u001b[1;31mSignature:\u001b[0m \u001b[0mplt\u001b[0m\u001b[1;33m.\u001b[0m\u001b[0maxes\u001b[0m\u001b[1;33m(\u001b[0m\u001b[0marg\u001b[0m\u001b[1;33m:\u001b[0m \u001b[1;34m'None | tuple[float, float, float, float]'\u001b[0m \u001b[1;33m=\u001b[0m \u001b[1;32mNone\u001b[0m\u001b[1;33m,\u001b[0m \u001b[1;33m**\u001b[0m\u001b[0mkwargs\u001b[0m\u001b[1;33m)\u001b[0m \u001b[1;33m->\u001b[0m \u001b[1;34m'matplotlib.axes.Axes'\u001b[0m\u001b[1;33m\u001b[0m\u001b[1;33m\u001b[0m\u001b[0m\n",
       "\u001b[1;31mDocstring:\u001b[0m\n",
       "Add an Axes to the current figure and make it the current Axes.\n",
       "\n",
       "Call signatures::\n",
       "\n",
       "    plt.axes()\n",
       "    plt.axes(rect, projection=None, polar=False, **kwargs)\n",
       "    plt.axes(ax)\n",
       "\n",
       "Parameters\n",
       "----------\n",
       "arg : None or 4-tuple\n",
       "    The exact behavior of this function depends on the type:\n",
       "\n",
       "    - *None*: A new full window Axes is added using\n",
       "      ``subplot(**kwargs)``.\n",
       "    - 4-tuple of floats *rect* = ``(left, bottom, width, height)``.\n",
       "      A new Axes is added with dimensions *rect* in normalized\n",
       "      (0, 1) units using `~.Figure.add_axes` on the current figure.\n",
       "\n",
       "projection : {None, 'aitoff', 'hammer', 'lambert', 'mollweide', 'polar', 'rectilinear', str}, optional\n",
       "    The projection type of the `~.axes.Axes`. *str* is the name of\n",
       "    a custom projection, see `~matplotlib.projections`. The default\n",
       "    None results in a 'rectilinear' projection.\n",
       "\n",
       "polar : bool, default: False\n",
       "    If True, equivalent to projection='polar'.\n",
       "\n",
       "sharex, sharey : `~matplotlib.axes.Axes`, optional\n",
       "    Share the x or y `~matplotlib.axis` with sharex and/or sharey.\n",
       "    The axis will have the same limits, ticks, and scale as the axis\n",
       "    of the shared Axes.\n",
       "\n",
       "label : str\n",
       "    A label for the returned Axes.\n",
       "\n",
       "Returns\n",
       "-------\n",
       "`~.axes.Axes`, or a subclass of `~.axes.Axes`\n",
       "    The returned Axes class depends on the projection used. It is\n",
       "    `~.axes.Axes` if rectilinear projection is used and\n",
       "    `.projections.polar.PolarAxes` if polar projection is used.\n",
       "\n",
       "Other Parameters\n",
       "----------------\n",
       "**kwargs\n",
       "    This method also takes the keyword arguments for\n",
       "    the returned Axes class. The keyword arguments for the\n",
       "    rectilinear Axes class `~.axes.Axes` can be found in\n",
       "    the following table but there might also be other keyword\n",
       "    arguments if another projection is used, see the actual Axes\n",
       "    class.\n",
       "\n",
       "    Properties:\n",
       "    adjustable: {'box', 'datalim'}\n",
       "    agg_filter: a filter function, which takes a (m, n, 3) float array and a dpi value, and returns a (m, n, 3) array and two offsets from the bottom left corner of the image\n",
       "    alpha: scalar or None\n",
       "    anchor: (float, float) or {'C', 'SW', 'S', 'SE', 'E', 'NE', ...}\n",
       "    animated: bool\n",
       "    aspect: {'auto', 'equal'} or float\n",
       "    autoscale_on: bool\n",
       "    autoscalex_on: unknown\n",
       "    autoscaley_on: unknown\n",
       "    axes_locator: Callable[[Axes, Renderer], Bbox]\n",
       "    axisbelow: bool or 'line'\n",
       "    box_aspect: float or None\n",
       "    clip_box: `~matplotlib.transforms.BboxBase` or None\n",
       "    clip_on: bool\n",
       "    clip_path: Patch or (Path, Transform) or None\n",
       "    facecolor or fc: :mpltype:`color`\n",
       "    figure: `~matplotlib.figure.Figure`\n",
       "    forward_navigation_events: bool or \"auto\"\n",
       "    frame_on: bool\n",
       "    gid: str\n",
       "    in_layout: bool\n",
       "    label: object\n",
       "    mouseover: bool\n",
       "    navigate: bool\n",
       "    navigate_mode: unknown\n",
       "    path_effects: list of `.AbstractPathEffect`\n",
       "    picker: None or bool or float or callable\n",
       "    position: [left, bottom, width, height] or `~matplotlib.transforms.Bbox`\n",
       "    prop_cycle: `~cycler.Cycler`\n",
       "    rasterization_zorder: float or None\n",
       "    rasterized: bool\n",
       "    sketch_params: (scale: float, length: float, randomness: float)\n",
       "    snap: bool or None\n",
       "    subplotspec: unknown\n",
       "    title: str\n",
       "    transform: `~matplotlib.transforms.Transform`\n",
       "    url: str\n",
       "    visible: bool\n",
       "    xbound: (lower: float, upper: float)\n",
       "    xlabel: str\n",
       "    xlim: (left: float, right: float)\n",
       "    xmargin: float greater than -0.5\n",
       "    xscale: unknown\n",
       "    xticklabels: unknown\n",
       "    xticks: unknown\n",
       "    ybound: (lower: float, upper: float)\n",
       "    ylabel: str\n",
       "    ylim: (bottom: float, top: float)\n",
       "    ymargin: float greater than -0.5\n",
       "    yscale: unknown\n",
       "    yticklabels: unknown\n",
       "    yticks: unknown\n",
       "    zorder: float\n",
       "\n",
       "See Also\n",
       "--------\n",
       ".Figure.add_axes\n",
       ".pyplot.subplot\n",
       ".Figure.add_subplot\n",
       ".Figure.subplots\n",
       ".pyplot.subplots\n",
       "\n",
       "Examples\n",
       "--------\n",
       "::\n",
       "\n",
       "    # Creating a new full window Axes\n",
       "    plt.axes()\n",
       "\n",
       "    # Creating a new Axes with specified dimensions and a grey background\n",
       "    plt.axes((left, bottom, width, height), facecolor='grey')\n",
       "\u001b[1;31mFile:\u001b[0m      d:\\virtualenvs\\ai\\lib\\site-packages\\matplotlib\\pyplot.py\n",
       "\u001b[1;31mType:\u001b[0m      function"
      ]
     },
     "metadata": {},
     "output_type": "display_data"
    }
   ],
   "source": [
    "plt.axes?"
   ]
  },
  {
   "cell_type": "code",
   "execution_count": 5,
   "id": "1c3bba66-d020-4197-a94c-2c4ba467ed53",
   "metadata": {},
   "outputs": [
    {
     "data": {
      "image/png": "[encoded data removed]",
      "text/plain": [
       "<Figure size 640x480 with 1 Axes>"
      ]
     },
     "metadata": {},
     "output_type": "display_data"
    }
   ],
   "source": [
    "ax = plt.axes(xscale='log',yscale='log')"
   ]
  },
  {
   "cell_type": "markdown",
   "id": "25812a30-5079-4f2b-95c3-5d703e62e62a",
   "metadata": {},
   "source": [
    "<p class='atcenter'>图 4-73：对数刻度与标签</p>"
   ]
  },
  {
   "cell_type": "markdown",
   "id": "ed749f73-5529-49b4-8c10-93dcd4d4ec96",
   "metadata": {},
   "source": [
    "我们发现每个主要刻度都显示为一个较大的刻度线和标签，而次要刻度\n",
    "都显示为一个较小的刻度线，且不显示标签。  \n",
    "可以通过设置每个坐标轴的 formatter 与 locator 对象，自定义这些\n",
    "刻度属性（包括刻度线的位置和标签）。来检查一下图形 x 轴的属性：\n"
   ]
  },
  {
   "cell_type": "code",
   "execution_count": 6,
   "id": "cbf1d062-e338-43f5-bbd9-83c83cb53811",
   "metadata": {},
   "outputs": [
    {
     "name": "stdout",
     "output_type": "stream",
     "text": [
      "<matplotlib.ticker.LogLocator object at 0x00000186CC4B0FD0>\n",
      "<matplotlib.ticker.LogLocator object at 0x00000186CC4B0FD0>\n"
     ]
    }
   ],
   "source": [
    "print(ax.xaxis.get_major_locator())\n",
    "print(ax.xaxis.get_major_locator())"
   ]
  },
  {
   "cell_type": "code",
   "execution_count": 7,
   "id": "896effe5-c708-4001-ae21-73ba49a8b9cd",
   "metadata": {},
   "outputs": [
    {
     "name": "stdout",
     "output_type": "stream",
     "text": [
      "<matplotlib.ticker.LogFormatterSciNotation object at 0x00000186CC4B0FA0>\n",
      "<matplotlib.ticker.LogFormatterSciNotation object at 0x00000186CC4B3490>\n"
     ]
    }
   ],
   "source": [
    "print(ax.xaxis.get_major_formatter())\n",
    "print(ax.xaxis.get_minor_formatter())\n"
   ]
  },
  {
   "cell_type": "markdown",
   "id": "e2091713-cde2-4a01-ab91-772f4fef3f97",
   "metadata": {},
   "source": [
    "我们会发现，主要刻度标签和次要刻度标签的位置都是通过一个\n",
    "LogLocator 对象（在对数图中可以看到）设置的。然而，次要刻度有\n",
    "一个 NullFormatter 对象处理标签，这样标签就不会在图上显示了。  \n",
    "下面来演示一些示例，看看不同图形的定位器与格式生成器是如何设置\n",
    "的。"
   ]
  },
  {
   "cell_type": "markdown",
   "id": "c35f33ca-1925-4c91-837b-3fcd8807012d",
   "metadata": {},
   "source": [
    "### 4.12.2 隐藏刻度与标签"
   ]
  },
  {
   "cell_type": "code",
   "execution_count": 8,
   "id": "b4a41567-f2b4-4b6f-aa55-20d210c0b9ac",
   "metadata": {},
   "outputs": [],
   "source": [
    "#407"
   ]
  }
 ],
 "metadata": {
  "kernelspec": {
   "display_name": "Python 3 (ipykernel)",
   "language": "python",
   "name": "python3"
  },
  "language_info": {
   "codemirror_mode": {
    "name": "ipython",
    "version": 3
   },
   "file_extension": ".py",
   "mimetype": "text/x-python",
   "name": "python",
   "nbconvert_exporter": "python",
   "pygments_lexer": "ipython3",
   "version": "3.9.7"
  }
 },
 "nbformat": 4,
 "nbformat_minor": 5
}
