{
 "cells": [
  {
   "cell_type": "code",
   "execution_count": 1,
   "id": "c52973af-087a-4256-9a57-835921be0dd8",
   "metadata": {},
   "outputs": [
    {
     "data": {
      "text/html": [
       "<style type='text/css'>\n",
       "    *{\n",
       "        # background-color:#E3EDCD;\n",
       "        # background-color:black;\n",
       "        # color:white;\n",
       "        \n",
       "    }\n",
       "    h1{\n",
       "        color:#1976d2;\n",
       "    }\n",
       "    h2{\n",
       "        color:#f57c00;\n",
       "    }\n",
       "    h3{\n",
       "        color:#ba37ff;\n",
       "    }\n",
       "    h4{\n",
       "        color:green;\n",
       "    }\n",
       "    table{\n",
       "        border:1px solid black !important;\n",
       "        border-collapse:collapse !important;\n",
       "    }\n",
       "    th{\n",
       "        background-color:blueviolet !important;\n",
       "        text-align:center;\n",
       "        color:white;\n",
       "    }\n",
       "    th,td{\n",
       "        border:0.1px solid black !important;\n",
       "        transition:0.2s all liner;\n",
       "        \n",
       "    }\n",
       "    td:hover{\n",
       "        transform:scale(1.1);\n",
       "        background-color:orange;\n",
       "        color:blueviolet;\n",
       "    }\n",
       "    .raw{\n",
       "        white-space:pre;\n",
       "    }\n",
       "    .atcenter{\n",
       "        text-align:center !important;\n",
       "    }\n",
       "    .imp{\n",
       "        color:red;\n",
       "        font-weight:bolder;\n",
       "    }\n",
       "</style>\n"
      ],
      "text/plain": [
       "<IPython.core.display.HTML object>"
      ]
     },
     "metadata": {},
     "output_type": "display_data"
    }
   ],
   "source": [
    "%%HTML\n",
    "<style type='text/css'>\n",
    "    *{\n",
    "        # background-color:#E3EDCD;\n",
    "        # background-color:black;\n",
    "        # color:white;\n",
    "        \n",
    "    }\n",
    "    h1{\n",
    "        color:#1976d2;\n",
    "    }\n",
    "    h2{\n",
    "        color:#f57c00;\n",
    "    }\n",
    "    h3{\n",
    "        color:#ba37ff;\n",
    "    }\n",
    "    h4{\n",
    "        color:green;\n",
    "    }\n",
    "    table{\n",
    "        border:1px solid black !important;\n",
    "        border-collapse:collapse !important;\n",
    "    }\n",
    "    th{\n",
    "        background-color:blueviolet !important;\n",
    "        text-align:center;\n",
    "        color:white;\n",
    "    }\n",
    "    th,td{\n",
    "        border:0.1px solid black !important;\n",
    "        transition:0.2s all liner;\n",
    "        \n",
    "    }\n",
    "    td:hover{\n",
    "        transform:scale(1.1);\n",
    "        background-color:orange;\n",
    "        color:blueviolet;\n",
    "    }\n",
    "    .raw{\n",
    "        white-space:pre;\n",
    "    }\n",
    "    .atcenter{\n",
    "        text-align:center !important;\n",
    "    }\n",
    "    .imp{\n",
    "        color:red;\n",
    "        font-weight:bolder;\n",
    "    }\n",
    "</style>"
   ]
  },
  {
   "cell_type": "markdown",
   "id": "e8a8b928-95c3-486f-980b-dfa7dcf27b65",
   "metadata": {},
   "source": [
    "## 4.15 用Basemap可视化地理数据"
   ]
  },
  {
   "cell_type": "markdown",
   "id": "7dfe44f5-2647-4c20-b26b-47a10fb399bc",
   "metadata": {},
   "source": [
    "地理数据可视化是数据科学中一种十分常见的可视化类型。Matplotlib\n",
    "做此类可视化的主要工具是 Basemap 工具箱，它是 Matplotlib 的\n",
    "mpl_toolkits 命名空间里的众多工具箱之一。坦白说，Basemap 用起\n",
    "来有点笨重，就算做点儿简单的可视化图也需要花费比预期更长的时\n",
    "间。在处理比较复杂的地图可视化任务时，更现代的解决方案可能会更\n",
    "适用一些，比如 leaflet 开发库或 Google Maps API。然而，Basemap 符\n",
    "合 Python 用户的使用习惯。本节将演示一些利用 Basemap 工具箱绘制\n",
    "地图的可视化示例。   \n",
    "Basemap 安装起来很简单。如果你用 conda 命令，输入下面的命令即\n",
    "可，程序包会自动下载并安装："
   ]
  },
  {
   "cell_type": "code",
   "execution_count": 3,
   "id": "806e250d-b363-4d4d-9f10-db559cae30f9",
   "metadata": {},
   "outputs": [],
   "source": [
    "#用不到，不学习了"
   ]
  }
 ],
 "metadata": {
  "kernelspec": {
   "display_name": "Python 3 (ipykernel)",
   "language": "python",
   "name": "python3"
  },
  "language_info": {
   "codemirror_mode": {
    "name": "ipython",
    "version": 3
   },
   "file_extension": ".py",
   "mimetype": "text/x-python",
   "name": "python",
   "nbconvert_exporter": "python",
   "pygments_lexer": "ipython3",
   "version": "3.9.7"
  }
 },
 "nbformat": 4,
 "nbformat_minor": 5
}
