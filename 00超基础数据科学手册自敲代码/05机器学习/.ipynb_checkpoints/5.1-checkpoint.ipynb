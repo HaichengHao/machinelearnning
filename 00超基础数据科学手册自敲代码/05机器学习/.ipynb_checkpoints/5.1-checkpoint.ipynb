{
 "cells": [
  {
   "cell_type": "code",
   "execution_count": 1,
   "id": "3de13b68-5c88-46da-bd4a-d6af3245524b",
   "metadata": {},
   "outputs": [
    {
     "data": {
      "text/html": [
       "<style type='text/css'>\n",
       "    *{\n",
       "        # background-color:#E3EDCD;\n",
       "        # background-color:black;\n",
       "        # color:white;\n",
       "        \n",
       "    }\n",
       "    h1{\n",
       "        color:#1976d2;\n",
       "    }\n",
       "    h2{\n",
       "        color:#f57c00;\n",
       "    }\n",
       "    h3{\n",
       "        color:#ba37ff;\n",
       "    }\n",
       "    h4{\n",
       "        color:green;\n",
       "    }\n",
       "    table{\n",
       "        border:1px solid black !important;\n",
       "        border-collapse:collapse !important;\n",
       "    }\n",
       "    th{\n",
       "        background-color:blueviolet !important;\n",
       "        text-align:center;\n",
       "        color:white;\n",
       "    }\n",
       "    th,td{\n",
       "        border:0.1px solid black !important;\n",
       "        transition:0.2s all liner;\n",
       "        \n",
       "    }\n",
       "    td:hover{\n",
       "        transform:scale(1.1);\n",
       "        background-color:orange;\n",
       "        color:blueviolet;\n",
       "    }\n",
       "    .raw{\n",
       "        white-space:pre;\n",
       "    }\n",
       "    .atcenter{\n",
       "        text-align:center !important;\n",
       "    }\n",
       "    .imp{\n",
       "        color:red;\n",
       "        font-weight:bolder;\n",
       "    }\n",
       "</style>\n"
      ],
      "text/plain": [
       "<IPython.core.display.HTML object>"
      ]
     },
     "metadata": {},
     "output_type": "display_data"
    }
   ],
   "source": [
    "%%HTML\n",
    "<style type='text/css'>\n",
    "    *{\n",
    "        # background-color:#E3EDCD;\n",
    "        # background-color:black;\n",
    "        # color:white;\n",
    "        \n",
    "    }\n",
    "    h1{\n",
    "        color:#1976d2;\n",
    "    }\n",
    "    h2{\n",
    "        color:#f57c00;\n",
    "    }\n",
    "    h3{\n",
    "        color:#ba37ff;\n",
    "    }\n",
    "    h4{\n",
    "        color:green;\n",
    "    }\n",
    "    table{\n",
    "        border:1px solid black !important;\n",
    "        border-collapse:collapse !important;\n",
    "    }\n",
    "    th{\n",
    "        background-color:blueviolet !important;\n",
    "        text-align:center;\n",
    "        color:white;\n",
    "    }\n",
    "    th,td{\n",
    "        border:0.1px solid black !important;\n",
    "        transition:0.2s all liner;\n",
    "        \n",
    "    }\n",
    "    td:hover{\n",
    "        transform:scale(1.1);\n",
    "        background-color:orange;\n",
    "        color:blueviolet;\n",
    "    }\n",
    "    .raw{\n",
    "        white-space:pre;\n",
    "    }\n",
    "    .atcenter{\n",
    "        text-align:center !important;\n",
    "    }\n",
    "    .imp{\n",
    "        color:red;\n",
    "        font-weight:bolder;\n",
    "    }\n",
    "</style>"
   ]
  },
  {
   "cell_type": "markdown",
   "id": "555ecc62-288a-4fbf-993e-c282d3667d25",
   "metadata": {},
   "source": [
    "# 第五章 机器学习"
   ]
  },
  {
   "cell_type": "markdown",
   "id": "83676d2d-5e2d-4216-becd-2c26f68f12be",
   "metadata": {},
   "source": [
    "机器学习在许多方面都可以看作是数据科学能力延伸的主要手段。机器  \n",
    "学习是用数据科学的计算能力和算法能力去弥补统计方法的不足，其最  \n",
    "终结果是为那些目前既没有高效的理论支持、又没有高效的计算方法的  \n",
    "统计推理与数据探索问题提供解决方法。  \n",
    "“机器学习”这个词现在太流行了，仿佛是一种万能药：只要对数据做了  \n",
    "机器学习，那么所有问题都可以迎刃而解！正如你所知，“理想很丰  \n",
    "满，现实很骨感”，事实远没那么简单。虽然机器学习方法都很强大，  \n",
    "但是如果想有效地使用这些方法，必须先掌握每种方法的优缺点，同时  \n",
    "还要掌握一些基本的统计概念，例如偏差（bias）和方差（variance）、   \n",
    "过拟合（overfitting）和欠拟合（underfitting），等等。  \n",
    "本章将重点介绍一些机器学习的实用方法，主要使用 Python 的 Scikit\u0002Learn（http://scikit-  learn.org）程序包。但本章并没有全面覆盖机器学习  \n",
    "的每个领域——那是一个庞然大物，需要的技术远超本书范围。另外，  \n",
    "本章也不是 Scikit-Learn 程序包（想了解更多关于 Scikit- Learn 程序包  \n",
    "的内容，请参见 5.15 节）的说明书。本章的主要目标如下。  \n",
    "- 介绍机器学习的基本术语和概念。  \n",
    "- 介绍 Scikit-Learn 的 API 及用法示例。  \n",
    "- 详细介绍一些最重要的机器学习方法的具体用法和使用场景\n",
    "本章的许多内容都源自 Scikit-Learn 教程和我之前在 PyCon、SciPy、  \n",
    "PyData 和其他学术会议上分享的内容。以下内容都得感谢这么多年以来  \n",
    "参会者与合作者的不吝赐教！  \n",
    "最后，如果你需要更深入地了解相关技术，那么可以参考 5.15 节的内\n",
    "容。"
   ]
  },
  {
   "cell_type": "markdown",
   "id": "a28fde98-633a-4438-a0ee-313791a0f6c2",
   "metadata": {},
   "source": [
    "## 5.1 什么是机器学习"
   ]
  },
  {
   "cell_type": "markdown",
   "id": "2859dfe9-11da-4926-afd9-b55ab10f0fec",
   "metadata": {},
   "source": [
    "在介绍各种机器学习方法之前，先看看究竟什么是机器学习，什么不是\n",
    "机器学习。机器学习经常被归类为人工智能（artificial intelligence）的\n",
    "子领域，但我觉得这种归类方法存在误导嫌疑。虽然对机器学习的研究\n",
    "确实是源自人工智能领域，但是机器学习的方法却应用于数据科学领\n",
    "域，因此我认为把机器学习看作是一种数学建模更合适。   \n",
    "机器学习的本质就是借助数学模型理解数据。当我们给模型装上可以适\n",
    "应观测数据的可调参数时，“学习”就开始了；此时的程序被认为具有从\n",
    "数据中“学习”的能力。一旦模型可以拟合旧的观测数据，那么它们就可\n",
    "以预测并解释新的观测数据。在后面的内容中，我会分享一些关于这种\n",
    "数学方法的哲学闲话，你会发现数学模型的“学习”过程其实与人脑\n",
    "的“学习”过程相似。   \n",
    "由于理解机器学习问题的类型对于有效使用各种机器学习工具至关重\n",
    "要，因此首先介绍关于机器学习方法的若干分类。"
   ]
  },
  {
   "cell_type": "markdown",
   "id": "36aabfc4-528e-4066-9493-2b5bbc46817a",
   "metadata": {},
   "source": [
    "### 5.1.1 机器学习的分类"
   ]
  },
  {
   "cell_type": "markdown",
   "id": "d568e144-9e7c-4530-9470-a683fa411598",
   "metadata": {},
   "source": [
    "机器学习一般可以分为两类：有监督学习（supervised learning）和无监\n",
    "督学习（unsupervised learning）。  \n",
    "有监督学习是指对数据的若干特征与若干标签（类型）之间的关联性进\n",
    "行建模的过程；只要模型被确定，就可以应用到新的未知数据上。这类\n",
    "学习过程可以进一步分为分类（classification）任务与回归\n",
    "（regression）任务。在分类任务中，标签都是离散值；而在回归任务\n",
    "中，标签都是连续值。我们会在后面的内容中介绍这两种有监督学习方\n",
    "法。  \n",
    "无监督学习是指对不带任何标签的数据特征进行建模，通常被看成是一\n",
    "种“让数据自己介绍自己”的过程。这类模型包括聚类（clustering）任务\n",
    "和降维（dimensionality reduction）任务。聚类算法可以将数据分成不同\n",
    "的组别，而降维算法追求用更简洁的方式表现数据。我们同样会在后面\n",
    "的内容中介绍这两种无监督学习方法。  \n",
    "另外，还有一种半监督学习（semi-supervised learning）方法，介于有监\n",
    "督学习与无监督学习之间。半监督学习方法通常可以在数据标签不完整\n",
    "时使用  "
   ]
  },
  {
   "cell_type": "markdown",
   "id": "f944ff00-22f2-4dec-b6cb-64c3eb598350",
   "metadata": {},
   "source": [
    "### 5.1.2 机器学习应用的定性示例"
   ]
  },
  {
   "cell_type": "markdown",
   "id": "94d7b654-6bba-4690-ac4b-7212aa2c4c47",
   "metadata": {},
   "source": [
    "下面来介绍一些简单的机器学习任务示例，让这些抽象理论显得更具体\n",
    "一点。这些例子都是我们在后面内容中将要看到的机器学习任务的直\n",
    "观、非量化形式，之后将更深入地介绍相关模型的具体用法。如果想尽\n",
    "早了解这些技术的更多细节，那么请参见在线附录   \n",
    "（https://github.com/jakevdp/PythonDataScienceHandbook）中生成下面各\n",
    "个示例中彩图的 Python 代码。   \n",
    "1. 分类：预测离散标签\n",
    "先来看一个简单的分类任务。假如我们有一些带标签的数据点，希\n",
    "望用这些信息为那些不带标签的数据点进行分类。\n",
    "假如这些数据点的分布如图 5-1 所示（生成这幅图和本节中的其他\n",
    "所有图形的代码都在 GitHub 的在线附录中）。"
   ]
  },
  {
   "attachments": {},
   "cell_type": "markdown",
   "id": "c770eab2-40a1-4802-8dc0-f98a93cc84d5",
   "metadata": {},
   "source": [
    "<img src='./img/01.png' class='atcenter'></img>"
   ]
  },
  {
   "cell_type": "markdown",
   "id": "146c2d1a-d5a1-41dd-99a4-0d491bebf159",
   "metadata": {},
   "source": [
    "### 5.1.3 小结"
   ]
  },
  {
   "cell_type": "markdown",
   "id": "534b2bc5-3caa-4146-a14e-79d8d47c9ecf",
   "metadata": {},
   "source": [
    "前面介绍了一些机器学习方法基本类型的示例。虽然我们略过了许多重\n",
    "要的实践细节，但我还是希望这节的内容可以让你对用机器学习方法解\n",
    "决问题的基本思路有所了解。\n",
    "综上所述，本节介绍的主要有以下内容。           \n",
    "有监督学习   \n",
    "可以训练带标签的数据以预测新数据标签的模型。         \n",
    "分类         \n",
    "可以预测两个或多个离散分类标签的模型。        \n",
    "回归          \n",
    "可以预测连续标签的模型。         \n",
    "无监督学习        \n",
    "识别无标签数据结构的模型。        \n",
    "聚类           \n",
    "检测、识别数据显著组别的模型。        \n",
    "降维         \n",
    "从高维数据中检测、识别低维数据结构的模型。       \n",
    "后面的内容将会深入介绍各个类型的具体算法，并且通过一些有趣的示    \n",
    "例说明这些算法的使用场景。  \n",
    "前面内容中的所有图形都是通过真实的机器学习计算实现的。所有图形\n",
    "的生成代码都位于在线文档\n",
    "（http://github.com/jakevdp/PythonDataScienceHandbook）中。"
   ]
  },
  {
   "cell_type": "code",
   "execution_count": null,
   "id": "d3cae6e4-3e59-4606-bd4b-666957ec986c",
   "metadata": {},
   "outputs": [],
   "source": []
  }
 ],
 "metadata": {
  "kernelspec": {
   "display_name": "Python 3 (ipykernel)",
   "language": "python",
   "name": "python3"
  },
  "language_info": {
   "codemirror_mode": {
    "name": "ipython",
    "version": 3
   },
   "file_extension": ".py",
   "mimetype": "text/x-python",
   "name": "python",
   "nbconvert_exporter": "python",
   "pygments_lexer": "ipython3",
   "version": "3.9.7"
  }
 },
 "nbformat": 4,
 "nbformat_minor": 5
}
