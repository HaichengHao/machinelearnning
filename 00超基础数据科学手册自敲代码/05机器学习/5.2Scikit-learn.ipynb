{
 "cells": [
  {
   "cell_type": "code",
   "execution_count": 1,
   "id": "89164055-c1b7-46b1-a595-1e438a426e35",
   "metadata": {},
   "outputs": [
    {
     "data": {
      "text/html": [
       "<style type='text/css'>\n",
       "    *{\n",
       "        # background-color:#E3EDCD;\n",
       "        # background-color:black;\n",
       "        # color:white;\n",
       "        \n",
       "    }\n",
       "    h1{\n",
       "        color:#1976d2;\n",
       "    }\n",
       "    h2{\n",
       "        color:#f57c00;\n",
       "    }\n",
       "    h3{\n",
       "        color:#ba37ff;\n",
       "    }\n",
       "    h4{\n",
       "        color:green;\n",
       "    }\n",
       "    table{\n",
       "        border:1px solid black !important;\n",
       "        border-collapse:collapse !important;\n",
       "    }\n",
       "    th{\n",
       "        background-color:blueviolet !important;\n",
       "        text-align:center;\n",
       "        color:white;\n",
       "    }\n",
       "    th,td{\n",
       "        border:0.1px solid black !important;\n",
       "        transition:0.2s all liner;\n",
       "        \n",
       "    }\n",
       "    td:hover{\n",
       "        transform:scale(1.1);\n",
       "        background-color:orange;\n",
       "        color:blueviolet;\n",
       "    }\n",
       "    .raw{\n",
       "        white-space:pre;\n",
       "    }\n",
       "    .atcenter{\n",
       "        text-align:center !important;\n",
       "    }\n",
       "    .imp{\n",
       "        color:red;\n",
       "        font-weight:bolder;\n",
       "    }\n",
       "</style>\n"
      ],
      "text/plain": [
       "<IPython.core.display.HTML object>"
      ]
     },
     "metadata": {},
     "output_type": "display_data"
    }
   ],
   "source": [
    "%%HTML\n",
    "<style type='text/css'>\n",
    "    *{\n",
    "        # background-color:#E3EDCD;\n",
    "        # background-color:black;\n",
    "        # color:white;\n",
    "        \n",
    "    }\n",
    "    h1{\n",
    "        color:#1976d2;\n",
    "    }\n",
    "    h2{\n",
    "        color:#f57c00;\n",
    "    }\n",
    "    h3{\n",
    "        color:#ba37ff;\n",
    "    }\n",
    "    h4{\n",
    "        color:green;\n",
    "    }\n",
    "    table{\n",
    "        border:1px solid black !important;\n",
    "        border-collapse:collapse !important;\n",
    "    }\n",
    "    th{\n",
    "        background-color:blueviolet !important;\n",
    "        text-align:center;\n",
    "        color:white;\n",
    "    }\n",
    "    th,td{\n",
    "        border:0.1px solid black !important;\n",
    "        transition:0.2s all liner;\n",
    "        \n",
    "    }\n",
    "    td:hover{\n",
    "        transform:scale(1.1);\n",
    "        background-color:orange;\n",
    "        color:blueviolet;\n",
    "    }\n",
    "    .raw{\n",
    "        white-space:pre;\n",
    "    }\n",
    "    .atcenter{\n",
    "        text-align:center !important;\n",
    "    }\n",
    "    .imp{\n",
    "        color:red;\n",
    "        font-weight:bolder;\n",
    "    }\n",
    "</style>"
   ]
  },
  {
   "cell_type": "markdown",
   "id": "c2bccd35-c7b8-4872-89e9-57885d819cb0",
   "metadata": {
    "scrolled": true
   },
   "source": [
    "## 5.2 Scikit-Learn简介 "
   ]
  },
  {
   "cell_type": "markdown",
   "id": "4e42d990-c414-4638-9376-da230cfb7ac9",
   "metadata": {},
   "source": [
    "目前，Python 有不少可以实现各种机器学习算法的程序库。ScikitLearn（http://scikit-learn.org）是最流行的程序包之一，它为各种常用机\n",
    "器学习算法提供了高效版本。Scikit-Learn 不仅因其干净、统一、管道\n",
    "命令式的 API 而独具特色，而且它的在线文档又实用、又完整。这种统\n",
    "一性的好处是，只要你掌握了 Scikit-Learn 一种模型的基本用法和语\n",
    "法，就可以非常平滑地过渡到新的模型或算法上。\n",
    "本节内容对 Scikit-Learn 的 API 进行概述。真正理解这些 API 的组成部\n",
    "分将对更深入地理解机器学习算法与技巧大有裨益。\n",
    "首先介绍 Scikit-Learn 的数据表示（data representation），然后介绍评估\n",
    "器 API（Estimator API），最后通过一个有趣的示例演示如何用这些工\n",
    "具探索手写数字图像。\n"
   ]
  },
  {
   "cell_type": "markdown",
   "id": "ec066186-30d8-438d-8bd3-3b9393acbc89",
   "metadata": {},
   "source": [
    "### 5.2.1 Scikit-Learn的数据表示"
   ]
  },
  {
   "cell_type": "markdown",
   "id": "6386f50e-4cfe-41dd-8248-e5522f8203d5",
   "metadata": {},
   "source": [
    "机器学习是从数据创建模型的学问，因此你首先需要了解怎样表示数据\n",
    "才能让计算机理解。Scikit-Learn 认为数据表示最好的方法就是用数据\n",
    "表的形式。"
   ]
  },
  {
   "cell_type": "markdown",
   "id": "39781a5f-118f-4834-9159-028fa57c72a7",
   "metadata": {},
   "source": [
    "01. 数据表\n",
    "   - 基本的数据表就是二维网格数据，其中的每一行表示数据集中的每\n",
    "个样本，而列表示构成每个样本的相关特征。例如 Ronald Fisher 在\n",
    "1936 年对鸢尾花数据集\n",
    "（https://en.wikipedia.org/wiki/Iris_flower_data_set）的经典分析。我\n",
    "们用 Seaborn 程序库\n",
    "（https://stanford.edu/~mwaskom/software/seaborn/）下载数据并加载\n",
    "到 Pandas 的 DataFrame 中："
   ]
  },
  {
   "cell_type": "code",
   "execution_count": 2,
   "id": "287e58f3-e322-417f-8d63-f4d3f2f93398",
   "metadata": {},
   "outputs": [
    {
     "data": {
      "text/html": [
       "<div>\n",
       "<style scoped>\n",
       "    .dataframe tbody tr th:only-of-type {\n",
       "        vertical-align: middle;\n",
       "    }\n",
       "\n",
       "    .dataframe tbody tr th {\n",
       "        vertical-align: top;\n",
       "    }\n",
       "\n",
       "    .dataframe thead th {\n",
       "        text-align: right;\n",
       "    }\n",
       "</style>\n",
       "<table border=\"1\" class=\"dataframe\">\n",
       "  <thead>\n",
       "    <tr style=\"text-align: right;\">\n",
       "      <th></th>\n",
       "      <th>sepal_length</th>\n",
       "      <th>sepal_width</th>\n",
       "      <th>petal_length</th>\n",
       "      <th>petal_width</th>\n",
       "      <th>species</th>\n",
       "    </tr>\n",
       "  </thead>\n",
       "  <tbody>\n",
       "    <tr>\n",
       "      <th>0</th>\n",
       "      <td>5.1</td>\n",
       "      <td>3.5</td>\n",
       "      <td>1.4</td>\n",
       "      <td>0.2</td>\n",
       "      <td>setosa</td>\n",
       "    </tr>\n",
       "    <tr>\n",
       "      <th>1</th>\n",
       "      <td>4.9</td>\n",
       "      <td>3.0</td>\n",
       "      <td>1.4</td>\n",
       "      <td>0.2</td>\n",
       "      <td>setosa</td>\n",
       "    </tr>\n",
       "    <tr>\n",
       "      <th>2</th>\n",
       "      <td>4.7</td>\n",
       "      <td>3.2</td>\n",
       "      <td>1.3</td>\n",
       "      <td>0.2</td>\n",
       "      <td>setosa</td>\n",
       "    </tr>\n",
       "    <tr>\n",
       "      <th>3</th>\n",
       "      <td>4.6</td>\n",
       "      <td>3.1</td>\n",
       "      <td>1.5</td>\n",
       "      <td>0.2</td>\n",
       "      <td>setosa</td>\n",
       "    </tr>\n",
       "    <tr>\n",
       "      <th>4</th>\n",
       "      <td>5.0</td>\n",
       "      <td>3.6</td>\n",
       "      <td>1.4</td>\n",
       "      <td>0.2</td>\n",
       "      <td>setosa</td>\n",
       "    </tr>\n",
       "  </tbody>\n",
       "</table>\n",
       "</div>"
      ],
      "text/plain": [
       "   sepal_length  sepal_width  petal_length  petal_width species\n",
       "0           5.1          3.5           1.4          0.2  setosa\n",
       "1           4.9          3.0           1.4          0.2  setosa\n",
       "2           4.7          3.2           1.3          0.2  setosa\n",
       "3           4.6          3.1           1.5          0.2  setosa\n",
       "4           5.0          3.6           1.4          0.2  setosa"
      ]
     },
     "execution_count": 2,
     "metadata": {},
     "output_type": "execute_result"
    }
   ],
   "source": [
    "import seaborn as sns\n",
    "iris = sns.load_dataset('iris')\n",
    "iris.head()"
   ]
  },
  {
   "cell_type": "markdown",
   "id": "8c0d9906-5bf0-4ec4-ae84-300feac75053",
   "metadata": {},
   "source": [
    "其中的每行数据表示每朵被观察的鸢尾花，行数表示数据集中记录\n",
    "的鸢尾花总数。一般情况下，会将这个矩阵的行称为样本\n",
    "（samples），行数记为 n_samples。\n",
    "同样，每列数据表示每个样本某个特征的量化值。一般情况下，会\n",
    "将矩阵的列称为特征（features），列数记为 n_features。"
   ]
  },
  {
   "cell_type": "markdown",
   "id": "b9a85983-1d2e-4221-a5a8-e5a779d8f85c",
   "metadata": {},
   "source": [
    "02. 特征矩阵\n",
    "- 这个表格布局通过二维数组或矩阵的形式将信息清晰地表达出来，\n",
    "所以我们通常把这类矩阵称为 特征矩阵（features matrix）。特征\n",
    "矩阵通常被简记为变量 X。它是维度为 [n_samples,\n",
    "n_features] 的二维矩阵   \n",
    "通常可以用 NumPy 数组或 Pandas 的\n",
    "DataFrame 来表示，不过 Scikit-Learn 也支持 SciPy 的稀疏矩阵。\n",
    "样本（即每一行）通常是指数据集中的每个对象。例如，样本可能\n",
    "是一朵花、一个人、一篇文档、一幅图像，或者一首歌、一部影\n",
    "片、一个天体，甚至是任何可以通过一组量化方法进行测量的实\n",
    "体。  \n",
    "特征（即每一列）通常是指每个样本都具有的某种量化观测值。一\n",
    "般情况下，特征都是实数，但有时也可能是布尔类型或者离散值。"
   ]
  },
  {
   "cell_type": "markdown",
   "id": "d2498106-f24d-481f-be21-36bb2330bdd3",
   "metadata": {},
   "source": [
    "03. 目标数组\n",
    "- 除了特征矩阵 X 之外，我们还需要一个标签或目标数组，通常简记\n",
    "为 y。目标数组一般是一维数组，其长度就是样本总数\n",
    "n_samples，通常都用一维的 NumPy 数组或 Pandas 的 Series 表\n",
    "示。目标数组可以是连续的数值类型，也可以是离散的类型 / 标\n",
    "签。虽然有些 Scikit-Learn 的评估器可以处理具有多目标值的二维\n",
    "[n_samples, n_targets] 目标数组，但此处基本上只涉及常见\n",
    "的一维目标数组问题。\n",
    "如何区分目标数组的特征与特征矩阵中的特征列，一直是个问题。\n",
    "目标数组的特征通常是我们希望从数据中预测的量化结果；借用统\n",
    "计学的术语，y 就是因变量。以前面的示例数据为例，我们需要通\n",
    "过其他测量值来建立模型，预测花的品种（species），而这里的\n",
    "species 列就可以看成是目标数组。\n",
    "知道这一列是目标数组之后，就可以用 Seaborn（详情请参见 4.16\n",
    "节）对数据进行可视化了（如图 5-12 所示）：\n"
   ]
  },
  {
   "cell_type": "code",
   "execution_count": 3,
   "id": "859f9615-6f46-4fb2-9670-26cb2866fefa",
   "metadata": {},
   "outputs": [
    {
     "data": {
      "image/png": "[encoded data removed]",
      "text/plain": [
       "<Figure size 720.625x600 with 20 Axes>"
      ]
     },
     "metadata": {},
     "output_type": "display_data"
    }
   ],
   "source": [
    "%matplotlib inline\n",
    "import seaborn as sns; sns.set()\n",
    "sns.pairplot(iris, hue='species', height=1.5);"
   ]
  },
  {
   "cell_type": "markdown",
   "id": "b80401d6-bdc1-44f8-934b-9d1c98b4c227",
   "metadata": {},
   "source": [
    "<p class='atcenter'>图 5-12：鸢尾花数据集的可视化</p>"
   ]
  },
  {
   "cell_type": "markdown",
   "id": "003cfb6c-4957-4796-98b4-36dfab0d8c6a",
   "metadata": {},
   "source": [
    "在使用 Scikit-Learn 之前，我们需要从 DataFrame 中抽取特征矩阵\n",
    "和目标数组。可以用第 3 章介绍的 Pandas DataFrame 基本操作来\n",
    "实现：\n"
   ]
  },
  {
   "cell_type": "code",
   "execution_count": 4,
   "id": "845952fe-69d2-4e0d-a1d8-b4a4d285239a",
   "metadata": {},
   "outputs": [
    {
     "data": {
      "text/plain": [
       "(150, 4)"
      ]
     },
     "execution_count": 4,
     "metadata": {},
     "output_type": "execute_result"
    }
   ],
   "source": [
    "X_iris = iris.drop('species',axis=1)\n",
    "X_iris.shape"
   ]
  },
  {
   "cell_type": "code",
   "execution_count": 5,
   "id": "2855780f-3e85-44f4-bf96-c7fe1cb2c161",
   "metadata": {},
   "outputs": [
    {
     "data": {
      "text/plain": [
       "(150,)"
      ]
     },
     "execution_count": 5,
     "metadata": {},
     "output_type": "execute_result"
    }
   ],
   "source": [
    "y_iris = iris['species']\n",
    "y_iris.shape"
   ]
  },
  {
   "cell_type": "markdown",
   "id": "41983df8-d9fa-4c12-8943-6b072a7c29cc",
   "metadata": {},
   "source": [
    "特征矩阵和目标数组的布局如图 5-13 所示。"
   ]
  },
  {
   "cell_type": "markdown",
   "id": "0ed17fdc-0ed8-48ea-a795-afb6ecc6d585",
   "metadata": {},
   "source": [
    "<img src='./img/02.png'></img>"
   ]
  },
  {
   "cell_type": "markdown",
   "id": "6f1de8ef-aaa9-4131-8985-4e710af846b2",
   "metadata": {},
   "source": [
    "<p class='atcenter'>图 5-13：Scikit-Learn 数据表布局</p>"
   ]
  },
  {
   "cell_type": "markdown",
   "id": "5cfdb319-0437-4295-9acd-1ef930317d54",
   "metadata": {},
   "source": [
    "有了适当的数据形式之后，就可以开始学习 Scikit-Learn 的评估器\n",
    "API 了。"
   ]
  },
  {
   "cell_type": "markdown",
   "id": "f4ec3819-6747-4c52-92c7-498346721333",
   "metadata": {},
   "source": [
    "### 5.2.2 Scikit-Learn的评估器API"
   ]
  },
  {
   "cell_type": "markdown",
   "id": "527a1aee-29a1-4538-9333-448c66ec681f",
   "metadata": {},
   "source": [
    "Scikit-Learn API 主要遵照以下设计原则，Scikit-Learn API 文档也对此\n",
    "有所概述。  \n",
    "统一性    \n",
    "所有对象使用共同接口连接一组方法和统一的文档。     \n",
    "内省      \n",
    "所有参数值都是公共属性。       \n",
    "限制对象层级         \n",
    "只有算法可以用 Python 类表示。数据集都用标准数据类型\n",
    "（NumPy 数组、Pandas DataFrame、SciPy 稀疏矩阵）表示，参数名称\n",
    "用标准的 Python 字符串。       \n",
    "函数组合       \n",
    "许多机器学习任务都可以用一串基本算法实现，Scikit-Learn 尽力\n",
    "支持这种可能。     \n",
    "明智的默认值      \n",
    "当模型需要用户设置参数时，Scikit-Learn 预先定义适当的默认\n",
    "值。        \n",
    "只要你理解了这些设计原则，就会发现 Scikit-Learn 非常容易使用。\n",
    "Scikit-Learn 中的所有机器学习算法都是通过评估器 API 实现的，它为\n",
    "各种机器学习应用提供了统一的接口。"
   ]
  },
  {
   "cell_type": "markdown",
   "id": "97b9442c-b250-4da3-9e4d-c5ae950a97d4",
   "metadata": {},
   "source": [
    "01. API基础知识  \n",
    "Scikit-Learn 评估器 API 的常用步骤如下所示（后面介绍的示例都\n",
    "是按照这些步骤进行的）。    \n",
    "(1) 通过从 Scikit-Learn 中导入适当的评估器类，选择模型类。  \n",
    "(2) 用合适的数值对模型类进行实例化，配置模型超参数\n",
    "（hyperparameter）。      \n",
    "(3) 整理数据，通过前面介绍的方法获取特征矩阵和目标数组。     \n",
    "(4) 调用模型实例的 fit() 方法对数据进行拟合。 \n",
    "(5) 对新数据应用模型：    \n",
    "在有监督学习模型中，通常使用 predict() 方法预测新数据\n",
    "的标签；       \n",
    "在无监督学习模型中，通常使用 transform() 或 predict()\n",
    "方法转换或推断数据的性质。       \n",
    "下面按照步骤来演示几个使用了有监督学习方法和无监督学习方法\n",
    "的示例。    \n"
   ]
  },
  {
   "cell_type": "markdown",
   "id": "0eceb5ee-8749-4dbf-9b00-3ed1ea6ddae5",
   "metadata": {},
   "source": [
    "02. 有监督学习示例：简单线性回归   \n",
    "让我们来演示一个简单线性回归的建模步骤——最常见的任务就是\n",
    "为散点数据集 (x, y) 拟合一条直线。我们将使用下面的样本数据来\n",
    "演示这个回归示例（如图 5-14 所示）：\n"
   ]
  },
  {
   "cell_type": "code",
   "execution_count": 6,
   "id": "069c07ee-2325-4e13-81b1-5114d63921e6",
   "metadata": {},
   "outputs": [
    {
     "data": {
      "text/plain": [
       "<matplotlib.collections.PathCollection at 0x209a7223490>"
      ]
     },
     "execution_count": 6,
     "metadata": {},
     "output_type": "execute_result"
    },
    {
     "data": {
      "image/png": "[encoded data removed]",
      "text/plain": [
       "<Figure size 640x480 with 1 Axes>"
      ]
     },
     "metadata": {},
     "output_type": "display_data"
    }
   ],
   "source": [
    "import matplotlib.pyplot as plt\n",
    "import numpy as np\n",
    "rng = np.random.RandomState(42)\n",
    "x = 10 * rng.rand(50)\n",
    "y = 2 * x-1 + rng.randn(50)\n",
    "plt.scatter(x,y)"
   ]
  },
  {
   "cell_type": "markdown",
   "id": "6bbdc657-0e58-46cc-85be-e3efbb0b8769",
   "metadata": {},
   "source": [
    "<p class='atcenter'>图 5-14：线性回归样本数据</p>"
   ]
  },
  {
   "cell_type": "markdown",
   "id": "810b3969-8b97-40ff-b2db-93336fbfec04",
   "metadata": {},
   "source": [
    "下面是pyecharts的代码实现，突然发现仅仅只是作分析的话pyecharts并不是最合适的"
   ]
  },
  {
   "cell_type": "code",
   "execution_count": 7,
   "id": "c469726c-3174-4bd2-b4ad-eefb6667f66b",
   "metadata": {},
   "outputs": [],
   "source": [
    "import pyecharts.options as opts\n",
    "from pyecharts.globals import CurrentConfig,NotebookType,ThemeType\n",
    "CurrentConfig.NOTEBOOK_TYPE = NotebookType.JUPYTER_LAB\n",
    "from pyecharts.charts import Scatter"
   ]
  },
  {
   "cell_type": "code",
   "execution_count": 8,
   "id": "755438ce-9bbe-4eea-be1a-ad1d16dfff26",
   "metadata": {},
   "outputs": [
    {
     "data": {
      "text/plain": [
       "array([3.74540119, 9.50714306, 7.31993942, 5.98658484, 1.5601864 ,\n",
       "       1.5599452 , 0.58083612, 8.66176146, 6.01115012, 7.08072578,\n",
       "       0.20584494, 9.69909852, 8.32442641, 2.12339111, 1.81824967,\n",
       "       1.8340451 , 3.04242243, 5.24756432, 4.31945019, 2.9122914 ,\n",
       "       6.11852895, 1.39493861, 2.92144649, 3.66361843, 4.56069984,\n",
       "       7.85175961, 1.99673782, 5.14234438, 5.92414569, 0.46450413,\n",
       "       6.07544852, 1.70524124, 0.65051593, 9.48885537, 9.65632033,\n",
       "       8.08397348, 3.04613769, 0.97672114, 6.84233027, 4.40152494,\n",
       "       1.22038235, 4.9517691 , 0.34388521, 9.09320402, 2.58779982,\n",
       "       6.62522284, 3.11711076, 5.20068021, 5.46710279, 1.84854456])"
      ]
     },
     "execution_count": 8,
     "metadata": {},
     "output_type": "execute_result"
    }
   ],
   "source": [
    "x"
   ]
  },
  {
   "cell_type": "code",
   "execution_count": 9,
   "id": "befca667-cf71-471d-be0c-401b8a939b72",
   "metadata": {},
   "outputs": [
    {
     "data": {
      "text/plain": [
       "array([ 7.22926896, 18.18565441, 13.52423055, 10.67206599,  0.64185082,\n",
       "        1.4000462 , -0.29896653, 17.38064514, 11.36591852, 11.3984114 ,\n",
       "       -0.26422614, 18.01311476, 14.97193082,  3.8584585 ,  3.66749887,\n",
       "        3.59937032,  4.24562734,  9.18591626,  7.9701638 ,  5.80012793,\n",
       "       10.75788366,  1.60421824,  3.736558  ,  5.13103024,  8.93392551,\n",
       "       16.05975926,  2.92146552, 10.28822167, 11.2099274 , -0.7161115 ,\n",
       "       11.51229264,  3.94851904,  0.26520582, 19.5423544 , 15.69289556,\n",
       "       15.98984947,  5.17932245,  0.65443493, 12.77642131,  5.81548096,\n",
       "        1.22109281,  9.26065077,  1.16566447, 16.66813782,  3.36710603,\n",
       "       11.74868864,  6.14962364,  9.73011153,  9.40444538,  3.21035654])"
      ]
     },
     "execution_count": 9,
     "metadata": {},
     "output_type": "execute_result"
    }
   ],
   "source": [
    "y"
   ]
  },
  {
   "cell_type": "code",
   "execution_count": 10,
   "id": "2e92202c-efc9-4bf9-89a3-bcd397acfa01",
   "metadata": {},
   "outputs": [
    {
     "data": {
      "text/plain": [
       "array([0.20584494, 0.34388521, 0.46450413, 0.58083612, 0.65051593,\n",
       "       0.97672114, 1.22038235, 1.39493861, 1.5599452 , 1.5601864 ,\n",
       "       1.70524124, 1.81824967, 1.8340451 , 1.84854456, 1.99673782,\n",
       "       2.12339111, 2.58779982, 2.9122914 , 2.92144649, 3.04242243,\n",
       "       3.04613769, 3.11711076, 3.66361843, 3.74540119, 4.31945019,\n",
       "       4.40152494, 4.56069984, 4.9517691 , 5.14234438, 5.20068021,\n",
       "       5.24756432, 5.46710279, 5.92414569, 5.98658484, 6.01115012,\n",
       "       6.07544852, 6.11852895, 6.62522284, 6.84233027, 7.08072578,\n",
       "       7.31993942, 7.85175961, 8.08397348, 8.32442641, 8.66176146,\n",
       "       9.09320402, 9.48885537, 9.50714306, 9.65632033, 9.69909852])"
      ]
     },
     "execution_count": 10,
     "metadata": {},
     "output_type": "execute_result"
    }
   ],
   "source": [
    "x.sort()\n",
    "x"
   ]
  },
  {
   "cell_type": "code",
   "execution_count": 11,
   "id": "1d655b87-df51-49c7-ae2e-76781d7b9571",
   "metadata": {},
   "outputs": [
    {
     "data": {
      "text/plain": [
       "array([-0.7161115 , -0.29896653, -0.26422614,  0.26520582,  0.64185082,\n",
       "        0.65443493,  1.16566447,  1.22109281,  1.4000462 ,  1.60421824,\n",
       "        2.92146552,  3.21035654,  3.36710603,  3.59937032,  3.66749887,\n",
       "        3.736558  ,  3.8584585 ,  3.94851904,  4.24562734,  5.13103024,\n",
       "        5.17932245,  5.80012793,  5.81548096,  6.14962364,  7.22926896,\n",
       "        7.9701638 ,  8.93392551,  9.18591626,  9.26065077,  9.40444538,\n",
       "        9.73011153, 10.28822167, 10.67206599, 10.75788366, 11.2099274 ,\n",
       "       11.36591852, 11.3984114 , 11.51229264, 11.74868864, 12.77642131,\n",
       "       13.52423055, 14.97193082, 15.69289556, 15.98984947, 16.05975926,\n",
       "       16.66813782, 17.38064514, 18.01311476, 18.18565441, 19.5423544 ])"
      ]
     },
     "execution_count": 11,
     "metadata": {},
     "output_type": "execute_result"
    }
   ],
   "source": [
    "y.sort()\n",
    "y"
   ]
  },
  {
   "cell_type": "code",
   "execution_count": 12,
   "id": "af478386-9f26-447f-b78b-096ca1d1477a",
   "metadata": {},
   "outputs": [
    {
     "data": {
      "text/plain": [
       "<zip at 0x209a8cc6780>"
      ]
     },
     "execution_count": 12,
     "metadata": {},
     "output_type": "execute_result"
    }
   ],
   "source": [
    "l = zip(x,y)\n",
    "l"
   ]
  },
  {
   "cell_type": "code",
   "execution_count": 13,
   "id": "9ea34a29-456d-4dc3-9117-fabe60d00618",
   "metadata": {},
   "outputs": [],
   "source": [
    "xl=[]\n",
    "yl=[]"
   ]
  },
  {
   "cell_type": "code",
   "execution_count": 14,
   "id": "e128a02a-2f50-4876-9399-97fd7bb3fdec",
   "metadata": {
    "scrolled": true
   },
   "outputs": [
    {
     "name": "stdout",
     "output_type": "stream",
     "text": [
      "0.20584494295802447\n",
      "0.34388521115218396\n",
      "0.46450412719997725\n",
      "0.5808361216819946\n",
      "0.6505159298527952\n",
      "0.9767211400638387\n",
      "1.2203823484477883\n",
      "1.3949386065204183\n",
      "1.5599452033620265\n",
      "1.5601864044243652\n",
      "1.7052412368729153\n",
      "1.8182496720710062\n",
      "1.8340450985343382\n",
      "1.8485445552552704\n",
      "1.9967378215835974\n",
      "2.1233911067827616\n",
      "2.587799816000169\n",
      "2.9122914019804194\n",
      "2.9214464853521815\n",
      "3.0424224295953772\n",
      "3.0461376917337066\n",
      "3.1171107608941098\n",
      "3.663618432936917\n",
      "3.745401188473625\n",
      "4.319450186421157\n",
      "4.4015249373960135\n",
      "4.56069984217036\n",
      "4.951769101112702\n",
      "5.142344384136116\n",
      "5.200680211778108\n",
      "5.247564316322379\n",
      "5.4671027934327965\n",
      "5.924145688620425\n",
      "5.986584841970366\n",
      "6.011150117432088\n",
      "6.075448519014383\n",
      "6.118528947223795\n",
      "6.62522284353982\n",
      "6.842330265121569\n",
      "7.080725777960454\n",
      "7.319939418114051\n",
      "7.851759613930136\n",
      "8.08397348116461\n",
      "8.324426408004218\n",
      "8.661761457749352\n",
      "9.093204020787821\n",
      "9.488855372533333\n",
      "9.50714306409916\n",
      "9.656320330745594\n",
      "9.699098521619943\n"
     ]
    }
   ],
   "source": [
    "for item in x:\n",
    "    print(item)\n",
    "    xl.append(item)"
   ]
  },
  {
   "cell_type": "code",
   "execution_count": 15,
   "id": "d1fb2119-291d-411a-abfc-ce4e0b32fa67",
   "metadata": {},
   "outputs": [],
   "source": [
    "for item in y:\n",
    "    yl.append(item)"
   ]
  },
  {
   "cell_type": "code",
   "execution_count": 16,
   "id": "90dfff83-d4d7-4e36-84ac-e9ed8f687baf",
   "metadata": {
    "scrolled": true
   },
   "outputs": [
    {
     "data": {
      "text/plain": [
       "[np.float64(-0.7161115002051698),\n",
       " np.float64(-0.2989665275957983),\n",
       " np.float64(-0.26422614468915606),\n",
       " np.float64(0.2652058205956388),\n",
       " np.float64(0.641850818481303),\n",
       " np.float64(0.6544349296618099),\n",
       " np.float64(1.165664467045884),\n",
       " np.float64(1.2210928090580646),\n",
       " np.float64(1.4000461983293442),\n",
       " np.float64(1.6042182363770197),\n",
       " np.float64(2.921465521586861),\n",
       " np.float64(3.210356543623897),\n",
       " np.float64(3.3671060291071506),\n",
       " np.float64(3.599370316184875),\n",
       " np.float64(3.6674988666379633),\n",
       " np.float64(3.736557996698335),\n",
       " np.float64(3.858458502406391),\n",
       " np.float64(3.9485190402118),\n",
       " np.float64(4.245627335968116),\n",
       " np.float64(5.131030241793163),\n",
       " np.float64(5.179322451705585),\n",
       " np.float64(5.800127931083198),\n",
       " np.float64(5.815480960191135),\n",
       " np.float64(6.149623639490294),\n",
       " np.float64(7.2292689569426605),\n",
       " np.float64(7.970163804245879),\n",
       " np.float64(8.933925506734917),\n",
       " np.float64(9.185916256793544),\n",
       " np.float64(9.26065077373715),\n",
       " np.float64(9.404445383098555),\n",
       " np.float64(9.7301115332159),\n",
       " np.float64(10.288221666164256),\n",
       " np.float64(10.672065988351443),\n",
       " np.float64(10.7578836566023),\n",
       " np.float64(11.209927402288484),\n",
       " np.float64(11.365918524432637),\n",
       " np.float64(11.398411400558174),\n",
       " np.float64(11.51229264353718),\n",
       " np.float64(11.748688643495104),\n",
       " np.float64(12.776421306778639),\n",
       " np.float64(13.52423055383986),\n",
       " np.float64(14.971930815702477),\n",
       " np.float64(15.692895557401442),\n",
       " np.float64(15.989849466704445),\n",
       " np.float64(16.059759256431096),\n",
       " np.float64(16.668137823301997),\n",
       " np.float64(17.38064514171762),\n",
       " np.float64(18.01311476282357),\n",
       " np.float64(18.18565440938829),\n",
       " np.float64(19.542354400880672)]"
      ]
     },
     "execution_count": 16,
     "metadata": {},
     "output_type": "execute_result"
    }
   ],
   "source": [
    "yl"
   ]
  },
  {
   "cell_type": "code",
   "execution_count": 17,
   "id": "dfa5a037-afc5-4aa2-b418-06409112c26e",
   "metadata": {
    "scrolled": true
   },
   "outputs": [
    {
     "data": {
      "text/plain": [
       "[np.float64(0.20584494295802447),\n",
       " np.float64(0.34388521115218396),\n",
       " np.float64(0.46450412719997725),\n",
       " np.float64(0.5808361216819946),\n",
       " np.float64(0.6505159298527952),\n",
       " np.float64(0.9767211400638387),\n",
       " np.float64(1.2203823484477883),\n",
       " np.float64(1.3949386065204183),\n",
       " np.float64(1.5599452033620265),\n",
       " np.float64(1.5601864044243652),\n",
       " np.float64(1.7052412368729153),\n",
       " np.float64(1.8182496720710062),\n",
       " np.float64(1.8340450985343382),\n",
       " np.float64(1.8485445552552704),\n",
       " np.float64(1.9967378215835974),\n",
       " np.float64(2.1233911067827616),\n",
       " np.float64(2.587799816000169),\n",
       " np.float64(2.9122914019804194),\n",
       " np.float64(2.9214464853521815),\n",
       " np.float64(3.0424224295953772),\n",
       " np.float64(3.0461376917337066),\n",
       " np.float64(3.1171107608941098),\n",
       " np.float64(3.663618432936917),\n",
       " np.float64(3.745401188473625),\n",
       " np.float64(4.319450186421157),\n",
       " np.float64(4.4015249373960135),\n",
       " np.float64(4.56069984217036),\n",
       " np.float64(4.951769101112702),\n",
       " np.float64(5.142344384136116),\n",
       " np.float64(5.200680211778108),\n",
       " np.float64(5.247564316322379),\n",
       " np.float64(5.4671027934327965),\n",
       " np.float64(5.924145688620425),\n",
       " np.float64(5.986584841970366),\n",
       " np.float64(6.011150117432088),\n",
       " np.float64(6.075448519014383),\n",
       " np.float64(6.118528947223795),\n",
       " np.float64(6.62522284353982),\n",
       " np.float64(6.842330265121569),\n",
       " np.float64(7.080725777960454),\n",
       " np.float64(7.319939418114051),\n",
       " np.float64(7.851759613930136),\n",
       " np.float64(8.08397348116461),\n",
       " np.float64(8.324426408004218),\n",
       " np.float64(8.661761457749352),\n",
       " np.float64(9.093204020787821),\n",
       " np.float64(9.488855372533333),\n",
       " np.float64(9.50714306409916),\n",
       " np.float64(9.656320330745594),\n",
       " np.float64(9.699098521619943)]"
      ]
     },
     "execution_count": 17,
     "metadata": {},
     "output_type": "execute_result"
    }
   ],
   "source": [
    "xl"
   ]
  },
  {
   "cell_type": "code",
   "execution_count": 18,
   "id": "a13692b9-9034-424f-8387-f0bd7fa63b81",
   "metadata": {},
   "outputs": [],
   "source": [
    "c = (\n",
    "    Scatter(\n",
    "        init_opts=opts.InitOpts(\n",
    "            # height='400px',\n",
    "            # width='500px'\n",
    "        )\n",
    "    )\n",
    "    .add_xaxis(xl)\n",
    "    .add_yaxis('',yl,symbol='triangle',symbol_rotate=90)\n",
    "    .set_global_opts(\n",
    "        xaxis_opts=opts.AxisOpts(\n",
    "            type_='value', #如果不加这个,显示的点可能会不全面\n",
    "            # splitline_opts=opts.SplitLineOpts(\n",
    "            #     is_show=True\n",
    "            # )\n",
    "        ),\n",
    "        title_opts=opts.TitleOpts(\n",
    "            title='散点图'\n",
    "        ),\n",
    "        toolbox_opts=opts.ToolboxOpts(),\n",
    "        tooltip_opts=opts.TooltipOpts(\n",
    "            trigger='axis',\n",
    "            # formatter=\"x{},y{c}\",\n",
    "            background_color='orange',\n",
    "            textstyle_opts=opts.TextStyleOpts(\n",
    "                color='white'\n",
    "            )\n",
    "        ),\n",
    "        visualmap_opts=opts.VisualMapOpts(\n",
    "            type_='color',\n",
    "            range_text=['大','小'],\n",
    "            min_=-3,\n",
    "            max_=19,\n",
    "            range_color=['blue','green','red']\n",
    "            \n",
    "        ),\n",
    "        datazoom_opts=opts.DataZoomOpts()\n",
    "        \n",
    "        \n",
    "    )\n",
    "    .set_series_opts(\n",
    "        \n",
    "    )\n",
    ")"
   ]
  },
  {
   "cell_type": "code",
   "execution_count": 19,
   "id": "1cf1918d-826c-4a41-82b5-447bc1b6ac9a",
   "metadata": {},
   "outputs": [
    {
     "data": {
      "application/javascript": [
       "new Promise(function(resolve, reject) {\n",
       "    var script = document.createElement(\"script\");\n",
       "    script.onload = resolve;\n",
       "    script.onerror = reject;\n",
       "    script.src = \"https://assets.pyecharts.org/assets/v5/echarts.min.js\";\n",
       "    document.head.appendChild(script);\n",
       "}).then(() => {\n",
       "\n",
       "});"
      ],
      "text/plain": [
       "<pyecharts.render.display.Javascript at 0x209a7356310>"
      ]
     },
     "execution_count": 19,
     "metadata": {},
     "output_type": "execute_result"
    }
   ],
   "source": [
    "c.load_javascript()"
   ]
  },
  {
   "cell_type": "code",
   "execution_count": 20,
   "id": "7191d31f-2adf-4d74-9eaa-e7c92fe83cd6",
   "metadata": {},
   "outputs": [
    {
     "data": {
      "text/html": [
       "<!DOCTYPE html>\n",
       "<html>\n",
       "<head>\n",
       "    <meta charset=\"UTF-8\">\n",
       "</head>\n",
       "<body>\n",
       "        <div id=\"f7dc6c4dd4de4398bd9fc39716f03019\" class=\"chart-container\" style=\"width:900px; height:500px; \"></div>\n",
       "    <script>\n",
       "        var chart_f7dc6c4dd4de4398bd9fc39716f03019 = echarts.init(\n",
       "            document.getElementById('f7dc6c4dd4de4398bd9fc39716f03019'), 'white', {renderer: 'canvas'});\n",
       "        var option_f7dc6c4dd4de4398bd9fc39716f03019 = {\n",
       "    \"animation\": true,\n",
       "    \"animationThreshold\": 2000,\n",
       "    \"animationDuration\": 1000,\n",
       "    \"animationEasing\": \"cubicOut\",\n",
       "    \"animationDelay\": 0,\n",
       "    \"animationDurationUpdate\": 300,\n",
       "    \"animationEasingUpdate\": \"cubicOut\",\n",
       "    \"animationDelayUpdate\": 0,\n",
       "    \"aria\": {\n",
       "        \"enabled\": false\n",
       "    },\n",
       "    \"color\": [\n",
       "        \"#5470c6\",\n",
       "        \"#91cc75\",\n",
       "        \"#fac858\",\n",
       "        \"#ee6666\",\n",
       "        \"#73c0de\",\n",
       "        \"#3ba272\",\n",
       "        \"#fc8452\",\n",
       "        \"#9a60b4\",\n",
       "        \"#ea7ccc\"\n",
       "    ],\n",
       "    \"series\": [\n",
       "        {\n",
       "            \"type\": \"scatter\",\n",
       "            \"symbol\": \"triangle\",\n",
       "            \"symbolSize\": 10,\n",
       "            \"symbolRotate\": 90,\n",
       "            \"data\": [\n",
       "                [\n",
       "                    0.20584494295802447,\n",
       "                    -0.7161115002051698\n",
       "                ],\n",
       "                [\n",
       "                    0.34388521115218396,\n",
       "                    -0.2989665275957983\n",
       "                ],\n",
       "                [\n",
       "                    0.46450412719997725,\n",
       "                    -0.26422614468915606\n",
       "                ],\n",
       "                [\n",
       "                    0.5808361216819946,\n",
       "                    0.2652058205956388\n",
       "                ],\n",
       "                [\n",
       "                    0.6505159298527952,\n",
       "                    0.641850818481303\n",
       "                ],\n",
       "                [\n",
       "                    0.9767211400638387,\n",
       "                    0.6544349296618099\n",
       "                ],\n",
       "                [\n",
       "                    1.2203823484477883,\n",
       "                    1.165664467045884\n",
       "                ],\n",
       "                [\n",
       "                    1.3949386065204183,\n",
       "                    1.2210928090580646\n",
       "                ],\n",
       "                [\n",
       "                    1.5599452033620265,\n",
       "                    1.4000461983293442\n",
       "                ],\n",
       "                [\n",
       "                    1.5601864044243652,\n",
       "                    1.6042182363770197\n",
       "                ],\n",
       "                [\n",
       "                    1.7052412368729153,\n",
       "                    2.921465521586861\n",
       "                ],\n",
       "                [\n",
       "                    1.8182496720710062,\n",
       "                    3.210356543623897\n",
       "                ],\n",
       "                [\n",
       "                    1.8340450985343382,\n",
       "                    3.3671060291071506\n",
       "                ],\n",
       "                [\n",
       "                    1.8485445552552704,\n",
       "                    3.599370316184875\n",
       "                ],\n",
       "                [\n",
       "                    1.9967378215835974,\n",
       "                    3.6674988666379633\n",
       "                ],\n",
       "                [\n",
       "                    2.1233911067827616,\n",
       "                    3.736557996698335\n",
       "                ],\n",
       "                [\n",
       "                    2.587799816000169,\n",
       "                    3.858458502406391\n",
       "                ],\n",
       "                [\n",
       "                    2.9122914019804194,\n",
       "                    3.9485190402118\n",
       "                ],\n",
       "                [\n",
       "                    2.9214464853521815,\n",
       "                    4.245627335968116\n",
       "                ],\n",
       "                [\n",
       "                    3.0424224295953772,\n",
       "                    5.131030241793163\n",
       "                ],\n",
       "                [\n",
       "                    3.0461376917337066,\n",
       "                    5.179322451705585\n",
       "                ],\n",
       "                [\n",
       "                    3.1171107608941098,\n",
       "                    5.800127931083198\n",
       "                ],\n",
       "                [\n",
       "                    3.663618432936917,\n",
       "                    5.815480960191135\n",
       "                ],\n",
       "                [\n",
       "                    3.745401188473625,\n",
       "                    6.149623639490294\n",
       "                ],\n",
       "                [\n",
       "                    4.319450186421157,\n",
       "                    7.2292689569426605\n",
       "                ],\n",
       "                [\n",
       "                    4.4015249373960135,\n",
       "                    7.970163804245879\n",
       "                ],\n",
       "                [\n",
       "                    4.56069984217036,\n",
       "                    8.933925506734917\n",
       "                ],\n",
       "                [\n",
       "                    4.951769101112702,\n",
       "                    9.185916256793544\n",
       "                ],\n",
       "                [\n",
       "                    5.142344384136116,\n",
       "                    9.26065077373715\n",
       "                ],\n",
       "                [\n",
       "                    5.200680211778108,\n",
       "                    9.404445383098555\n",
       "                ],\n",
       "                [\n",
       "                    5.247564316322379,\n",
       "                    9.7301115332159\n",
       "                ],\n",
       "                [\n",
       "                    5.4671027934327965,\n",
       "                    10.288221666164256\n",
       "                ],\n",
       "                [\n",
       "                    5.924145688620425,\n",
       "                    10.672065988351443\n",
       "                ],\n",
       "                [\n",
       "                    5.986584841970366,\n",
       "                    10.7578836566023\n",
       "                ],\n",
       "                [\n",
       "                    6.011150117432088,\n",
       "                    11.209927402288484\n",
       "                ],\n",
       "                [\n",
       "                    6.075448519014383,\n",
       "                    11.365918524432637\n",
       "                ],\n",
       "                [\n",
       "                    6.118528947223795,\n",
       "                    11.398411400558174\n",
       "                ],\n",
       "                [\n",
       "                    6.62522284353982,\n",
       "                    11.51229264353718\n",
       "                ],\n",
       "                [\n",
       "                    6.842330265121569,\n",
       "                    11.748688643495104\n",
       "                ],\n",
       "                [\n",
       "                    7.080725777960454,\n",
       "                    12.776421306778639\n",
       "                ],\n",
       "                [\n",
       "                    7.319939418114051,\n",
       "                    13.52423055383986\n",
       "                ],\n",
       "                [\n",
       "                    7.851759613930136,\n",
       "                    14.971930815702477\n",
       "                ],\n",
       "                [\n",
       "                    8.08397348116461,\n",
       "                    15.692895557401442\n",
       "                ],\n",
       "                [\n",
       "                    8.324426408004218,\n",
       "                    15.989849466704445\n",
       "                ],\n",
       "                [\n",
       "                    8.661761457749352,\n",
       "                    16.059759256431096\n",
       "                ],\n",
       "                [\n",
       "                    9.093204020787821,\n",
       "                    16.668137823301997\n",
       "                ],\n",
       "                [\n",
       "                    9.488855372533333,\n",
       "                    17.38064514171762\n",
       "                ],\n",
       "                [\n",
       "                    9.50714306409916,\n",
       "                    18.01311476282357\n",
       "                ],\n",
       "                [\n",
       "                    9.656320330745594,\n",
       "                    18.18565440938829\n",
       "                ],\n",
       "                [\n",
       "                    9.699098521619943,\n",
       "                    19.542354400880672\n",
       "                ]\n",
       "            ],\n",
       "            \"label\": {\n",
       "                \"show\": true,\n",
       "                \"position\": \"right\",\n",
       "                \"margin\": 8,\n",
       "                \"valueAnimation\": false\n",
       "            },\n",
       "            \"rippleEffect\": {\n",
       "                \"show\": true,\n",
       "                \"brushType\": \"stroke\",\n",
       "                \"scale\": 2.5,\n",
       "                \"period\": 4\n",
       "            }\n",
       "        }\n",
       "    ],\n",
       "    \"legend\": [\n",
       "        {\n",
       "            \"data\": [\n",
       "                \"\"\n",
       "            ],\n",
       "            \"selected\": {},\n",
       "            \"show\": true,\n",
       "            \"padding\": 5,\n",
       "            \"itemGap\": 10,\n",
       "            \"itemWidth\": 25,\n",
       "            \"itemHeight\": 14,\n",
       "            \"backgroundColor\": \"transparent\",\n",
       "            \"borderColor\": \"#ccc\",\n",
       "            \"borderRadius\": 0,\n",
       "            \"pageButtonItemGap\": 5,\n",
       "            \"pageButtonPosition\": \"end\",\n",
       "            \"pageFormatter\": \"{current}/{total}\",\n",
       "            \"pageIconColor\": \"#2f4554\",\n",
       "            \"pageIconInactiveColor\": \"#aaa\",\n",
       "            \"pageIconSize\": 15,\n",
       "            \"animationDurationUpdate\": 800,\n",
       "            \"selector\": false,\n",
       "            \"selectorPosition\": \"auto\",\n",
       "            \"selectorItemGap\": 7,\n",
       "            \"selectorButtonGap\": 10\n",
       "        }\n",
       "    ],\n",
       "    \"tooltip\": {\n",
       "        \"show\": true,\n",
       "        \"trigger\": \"axis\",\n",
       "        \"triggerOn\": \"mousemove|click\",\n",
       "        \"axisPointer\": {\n",
       "            \"type\": \"line\"\n",
       "        },\n",
       "        \"showContent\": true,\n",
       "        \"alwaysShowContent\": false,\n",
       "        \"showDelay\": 0,\n",
       "        \"hideDelay\": 100,\n",
       "        \"enterable\": false,\n",
       "        \"confine\": false,\n",
       "        \"appendToBody\": false,\n",
       "        \"transitionDuration\": 0.4,\n",
       "        \"textStyle\": {\n",
       "            \"color\": \"white\"\n",
       "        },\n",
       "        \"backgroundColor\": \"orange\",\n",
       "        \"borderWidth\": 0,\n",
       "        \"padding\": 5,\n",
       "        \"order\": \"seriesAsc\"\n",
       "    },\n",
       "    \"xAxis\": [\n",
       "        {\n",
       "            \"type\": \"value\",\n",
       "            \"show\": true,\n",
       "            \"scale\": false,\n",
       "            \"nameLocation\": \"end\",\n",
       "            \"nameGap\": 15,\n",
       "            \"gridIndex\": 0,\n",
       "            \"inverse\": false,\n",
       "            \"offset\": 0,\n",
       "            \"splitNumber\": 5,\n",
       "            \"minInterval\": 0,\n",
       "            \"splitLine\": {\n",
       "                \"show\": true,\n",
       "                \"lineStyle\": {\n",
       "                    \"show\": true,\n",
       "                    \"width\": 1,\n",
       "                    \"opacity\": 1,\n",
       "                    \"curveness\": 0,\n",
       "                    \"type\": \"solid\"\n",
       "                }\n",
       "            },\n",
       "            \"animation\": true,\n",
       "            \"animationThreshold\": 2000,\n",
       "            \"animationDuration\": 1000,\n",
       "            \"animationEasing\": \"cubicOut\",\n",
       "            \"animationDelay\": 0,\n",
       "            \"animationDurationUpdate\": 300,\n",
       "            \"animationEasingUpdate\": \"cubicOut\",\n",
       "            \"animationDelayUpdate\": 0,\n",
       "            \"data\": [\n",
       "                0.20584494295802447,\n",
       "                0.34388521115218396,\n",
       "                0.46450412719997725,\n",
       "                0.5808361216819946,\n",
       "                0.6505159298527952,\n",
       "                0.9767211400638387,\n",
       "                1.2203823484477883,\n",
       "                1.3949386065204183,\n",
       "                1.5599452033620265,\n",
       "                1.5601864044243652,\n",
       "                1.7052412368729153,\n",
       "                1.8182496720710062,\n",
       "                1.8340450985343382,\n",
       "                1.8485445552552704,\n",
       "                1.9967378215835974,\n",
       "                2.1233911067827616,\n",
       "                2.587799816000169,\n",
       "                2.9122914019804194,\n",
       "                2.9214464853521815,\n",
       "                3.0424224295953772,\n",
       "                3.0461376917337066,\n",
       "                3.1171107608941098,\n",
       "                3.663618432936917,\n",
       "                3.745401188473625,\n",
       "                4.319450186421157,\n",
       "                4.4015249373960135,\n",
       "                4.56069984217036,\n",
       "                4.951769101112702,\n",
       "                5.142344384136116,\n",
       "                5.200680211778108,\n",
       "                5.247564316322379,\n",
       "                5.4671027934327965,\n",
       "                5.924145688620425,\n",
       "                5.986584841970366,\n",
       "                6.011150117432088,\n",
       "                6.075448519014383,\n",
       "                6.118528947223795,\n",
       "                6.62522284353982,\n",
       "                6.842330265121569,\n",
       "                7.080725777960454,\n",
       "                7.319939418114051,\n",
       "                7.851759613930136,\n",
       "                8.08397348116461,\n",
       "                8.324426408004218,\n",
       "                8.661761457749352,\n",
       "                9.093204020787821,\n",
       "                9.488855372533333,\n",
       "                9.50714306409916,\n",
       "                9.656320330745594,\n",
       "                9.699098521619943\n",
       "            ]\n",
       "        }\n",
       "    ],\n",
       "    \"yAxis\": [\n",
       "        {\n",
       "            \"show\": true,\n",
       "            \"scale\": false,\n",
       "            \"nameLocation\": \"end\",\n",
       "            \"nameGap\": 15,\n",
       "            \"gridIndex\": 0,\n",
       "            \"inverse\": false,\n",
       "            \"offset\": 0,\n",
       "            \"splitNumber\": 5,\n",
       "            \"minInterval\": 0,\n",
       "            \"splitLine\": {\n",
       "                \"show\": true,\n",
       "                \"lineStyle\": {\n",
       "                    \"show\": true,\n",
       "                    \"width\": 1,\n",
       "                    \"opacity\": 1,\n",
       "                    \"curveness\": 0,\n",
       "                    \"type\": \"solid\"\n",
       "                }\n",
       "            },\n",
       "            \"animation\": true,\n",
       "            \"animationThreshold\": 2000,\n",
       "            \"animationDuration\": 1000,\n",
       "            \"animationEasing\": \"cubicOut\",\n",
       "            \"animationDelay\": 0,\n",
       "            \"animationDurationUpdate\": 300,\n",
       "            \"animationEasingUpdate\": \"cubicOut\",\n",
       "            \"animationDelayUpdate\": 0\n",
       "        }\n",
       "    ],\n",
       "    \"title\": [\n",
       "        {\n",
       "            \"show\": true,\n",
       "            \"text\": \"\\u6563\\u70b9\\u56fe\",\n",
       "            \"target\": \"blank\",\n",
       "            \"subtarget\": \"blank\",\n",
       "            \"padding\": 5,\n",
       "            \"itemGap\": 10,\n",
       "            \"textAlign\": \"auto\",\n",
       "            \"textVerticalAlign\": \"auto\",\n",
       "            \"triggerEvent\": false\n",
       "        }\n",
       "    ],\n",
       "    \"toolbox\": {\n",
       "        \"show\": true,\n",
       "        \"orient\": \"horizontal\",\n",
       "        \"itemSize\": 15,\n",
       "        \"itemGap\": 10,\n",
       "        \"left\": \"80%\",\n",
       "        \"feature\": {\n",
       "            \"saveAsImage\": {\n",
       "                \"type\": \"png\",\n",
       "                \"backgroundColor\": \"auto\",\n",
       "                \"connectedBackgroundColor\": \"#fff\",\n",
       "                \"show\": true,\n",
       "                \"title\": \"\\u4fdd\\u5b58\\u4e3a\\u56fe\\u7247\",\n",
       "                \"pixelRatio\": 1\n",
       "            },\n",
       "            \"restore\": {\n",
       "                \"show\": true,\n",
       "                \"title\": \"\\u8fd8\\u539f\"\n",
       "            },\n",
       "            \"dataView\": {\n",
       "                \"show\": true,\n",
       "                \"title\": \"\\u6570\\u636e\\u89c6\\u56fe\",\n",
       "                \"readOnly\": false,\n",
       "                \"lang\": [\n",
       "                    \"\\u6570\\u636e\\u89c6\\u56fe\",\n",
       "                    \"\\u5173\\u95ed\",\n",
       "                    \"\\u5237\\u65b0\"\n",
       "                ],\n",
       "                \"backgroundColor\": \"#fff\",\n",
       "                \"textareaColor\": \"#fff\",\n",
       "                \"textareaBorderColor\": \"#333\",\n",
       "                \"textColor\": \"#000\",\n",
       "                \"buttonColor\": \"#c23531\",\n",
       "                \"buttonTextColor\": \"#fff\"\n",
       "            },\n",
       "            \"dataZoom\": {\n",
       "                \"show\": true,\n",
       "                \"title\": {\n",
       "                    \"zoom\": \"\\u533a\\u57df\\u7f29\\u653e\",\n",
       "                    \"back\": \"\\u533a\\u57df\\u7f29\\u653e\\u8fd8\\u539f\"\n",
       "                },\n",
       "                \"icon\": {},\n",
       "                \"filterMode\": \"filter\"\n",
       "            },\n",
       "            \"magicType\": {\n",
       "                \"show\": true,\n",
       "                \"type\": [\n",
       "                    \"line\",\n",
       "                    \"bar\",\n",
       "                    \"stack\",\n",
       "                    \"tiled\"\n",
       "                ],\n",
       "                \"title\": {\n",
       "                    \"line\": \"\\u5207\\u6362\\u4e3a\\u6298\\u7ebf\\u56fe\",\n",
       "                    \"bar\": \"\\u5207\\u6362\\u4e3a\\u67f1\\u72b6\\u56fe\",\n",
       "                    \"stack\": \"\\u5207\\u6362\\u4e3a\\u5806\\u53e0\",\n",
       "                    \"tiled\": \"\\u5207\\u6362\\u4e3a\\u5e73\\u94fa\"\n",
       "                },\n",
       "                \"icon\": {}\n",
       "            }\n",
       "        }\n",
       "    },\n",
       "    \"visualMap\": {\n",
       "        \"show\": true,\n",
       "        \"type\": \"continuous\",\n",
       "        \"min\": -3,\n",
       "        \"max\": 19,\n",
       "        \"text\": [\n",
       "            \"\\u5927\",\n",
       "            \"\\u5c0f\"\n",
       "        ],\n",
       "        \"inRange\": {\n",
       "            \"color\": [\n",
       "                \"blue\",\n",
       "                \"green\",\n",
       "                \"red\"\n",
       "            ]\n",
       "        },\n",
       "        \"calculable\": true,\n",
       "        \"inverse\": false,\n",
       "        \"splitNumber\": 5,\n",
       "        \"hoverLink\": true,\n",
       "        \"orient\": \"vertical\",\n",
       "        \"padding\": 5,\n",
       "        \"showLabel\": true,\n",
       "        \"itemWidth\": 20,\n",
       "        \"itemHeight\": 140,\n",
       "        \"borderWidth\": 0\n",
       "    },\n",
       "    \"dataZoom\": {\n",
       "        \"show\": true,\n",
       "        \"type\": \"slider\",\n",
       "        \"showDetail\": true,\n",
       "        \"showDataShadow\": true,\n",
       "        \"realtime\": true,\n",
       "        \"start\": 20,\n",
       "        \"end\": 80,\n",
       "        \"orient\": \"horizontal\",\n",
       "        \"zoomLock\": false,\n",
       "        \"filterMode\": \"filter\"\n",
       "    }\n",
       "};\n",
       "        chart_f7dc6c4dd4de4398bd9fc39716f03019.setOption(option_f7dc6c4dd4de4398bd9fc39716f03019);\n",
       "    </script>\n",
       "</body>\n",
       "</html>\n"
      ],
      "text/plain": [
       "<pyecharts.render.display.HTML at 0x209a2e506d0>"
      ]
     },
     "execution_count": 20,
     "metadata": {},
     "output_type": "execute_result"
    }
   ],
   "source": [
    "c.render_notebook()"
   ]
  },
  {
   "cell_type": "markdown",
   "id": "7dcc8493-ef32-4248-bfed-2426b304c51b",
   "metadata": {},
   "source": [
    "有了数据，就可以将前面介绍的步骤付诸实现了，先一步步来。"
   ]
  },
  {
   "cell_type": "markdown",
   "id": "9d9d7116-c936-4f3d-8f72-c1b08df198b6",
   "metadata": {},
   "source": [
    "(1) 选择模型类   \n",
    "在 Scikit-Learn 中，每个模型类都是一个 Python 类。因此，假\n",
    "如我们想要计算一个简单线性回归模型，那么可以直接导入线性回\n",
    "归模型类："
   ]
  },
  {
   "cell_type": "code",
   "execution_count": 21,
   "id": "340bed30-f707-4157-b94b-881447137c15",
   "metadata": {},
   "outputs": [],
   "source": [
    "from sklearn.linear_model import LinearRegression"
   ]
  },
  {
   "cell_type": "markdown",
   "id": "9e31cbd7-2be1-4257-b900-0a19bc6f0dbe",
   "metadata": {},
   "source": [
    "除了简单线性模型，常用的线性模型还有许多，具体内容请参\n",
    "考 sklearn.linear_model 模块文档（http://scikitlearn.org/stable/modules/linear_model.html）。"
   ]
  },
  {
   "cell_type": "markdown",
   "id": "bd635b81-1857-47b3-b8d0-c5f46916c3cc",
   "metadata": {},
   "source": [
    "(2) 选择模型超参数请注意，模型类与模型实例不同。\n",
    "当我们选择了模型类之后，还有许多参数需要配置。根据不同\n",
    "模型的不同情况，你可能需要回答以下问题。"
   ]
  },
  {
   "cell_type": "markdown",
   "id": "2aa4607e-ebd0-47f3-87f1-3df8a24605b1",
   "metadata": {},
   "source": [
    "- 我们想要拟合偏移量（即直线的截距）吗？\n",
    "- 我们需要对模型进行归一化处理吗？\n",
    "- 我们需要对特征进行预处理以提高模型灵活性吗？\n",
    "- 我们打算在模型中使用哪种正则化类型？\n",
    "- 我们打算使用多少模型组件 ？\n"
   ]
  },
  {
   "cell_type": "markdown",
   "id": "a9e9b814-af2b-4a65-a706-ed07f5cbd233",
   "metadata": {},
   "source": [
    "有一些重要的参数必须在选择模型类时确定好。这些参数通常\n",
    "被称为超参数，即在模型拟合数据之前必须被确定的参数。在\n",
    "Scikit-Learn 中，我们通常在模型初始化阶段选择超参数。5.3 节将\n",
    "介绍如何定量地选择超参数。         \n",
    "对于现在这个线性回归示例来说，可以实例化\n",
    "LinearRegression 类并用 fit_intercept 超参数设置是否想要\n",
    "拟合直线的截距：          \n"
   ]
  },
  {
   "cell_type": "code",
   "execution_count": 22,
   "id": "53fe1886-3f17-4f17-88ee-0603d85a1dfc",
   "metadata": {},
   "outputs": [
    {
     "data": {
      "text/html": [
       "<style>#sk-container-id-1 {\n",
       "  /* Definition of color scheme common for light and dark mode */\n",
       "  --sklearn-color-text: black;\n",
       "  --sklearn-color-line: gray;\n",
       "  /* Definition of color scheme for unfitted estimators */\n",
       "  --sklearn-color-unfitted-level-0: #fff5e6;\n",
       "  --sklearn-color-unfitted-level-1: #f6e4d2;\n",
       "  --sklearn-color-unfitted-level-2: #ffe0b3;\n",
       "  --sklearn-color-unfitted-level-3: chocolate;\n",
       "  /* Definition of color scheme for fitted estimators */\n",
       "  --sklearn-color-fitted-level-0: #f0f8ff;\n",
       "  --sklearn-color-fitted-level-1: #d4ebff;\n",
       "  --sklearn-color-fitted-level-2: #b3dbfd;\n",
       "  --sklearn-color-fitted-level-3: cornflowerblue;\n",
       "\n",
       "  /* Specific color for light theme */\n",
       "  --sklearn-color-text-on-default-background: var(--sg-text-color, var(--theme-code-foreground, var(--jp-content-font-color1, black)));\n",
       "  --sklearn-color-background: var(--sg-background-color, var(--theme-background, var(--jp-layout-color0, white)));\n",
       "  --sklearn-color-border-box: var(--sg-text-color, var(--theme-code-foreground, var(--jp-content-font-color1, black)));\n",
       "  --sklearn-color-icon: #696969;\n",
       "\n",
       "  @media (prefers-color-scheme: dark) {\n",
       "    /* Redefinition of color scheme for dark theme */\n",
       "    --sklearn-color-text-on-default-background: var(--sg-text-color, var(--theme-code-foreground, var(--jp-content-font-color1, white)));\n",
       "    --sklearn-color-background: var(--sg-background-color, var(--theme-background, var(--jp-layout-color0, #111)));\n",
       "    --sklearn-color-border-box: var(--sg-text-color, var(--theme-code-foreground, var(--jp-content-font-color1, white)));\n",
       "    --sklearn-color-icon: #878787;\n",
       "  }\n",
       "}\n",
       "\n",
       "#sk-container-id-1 {\n",
       "  color: var(--sklearn-color-text);\n",
       "}\n",
       "\n",
       "#sk-container-id-1 pre {\n",
       "  padding: 0;\n",
       "}\n",
       "\n",
       "#sk-container-id-1 input.sk-hidden--visually {\n",
       "  border: 0;\n",
       "  clip: rect(1px 1px 1px 1px);\n",
       "  clip: rect(1px, 1px, 1px, 1px);\n",
       "  height: 1px;\n",
       "  margin: -1px;\n",
       "  overflow: hidden;\n",
       "  padding: 0;\n",
       "  position: absolute;\n",
       "  width: 1px;\n",
       "}\n",
       "\n",
       "#sk-container-id-1 div.sk-dashed-wrapped {\n",
       "  border: 1px dashed var(--sklearn-color-line);\n",
       "  margin: 0 0.4em 0.5em 0.4em;\n",
       "  box-sizing: border-box;\n",
       "  padding-bottom: 0.4em;\n",
       "  background-color: var(--sklearn-color-background);\n",
       "}\n",
       "\n",
       "#sk-container-id-1 div.sk-container {\n",
       "  /* jupyter's `normalize.less` sets `[hidden] { display: none; }`\n",
       "     but bootstrap.min.css set `[hidden] { display: none !important; }`\n",
       "     so we also need the `!important` here to be able to override the\n",
       "     default hidden behavior on the sphinx rendered scikit-learn.org.\n",
       "     See: https://github.com/scikit-learn/scikit-learn/issues/21755 */\n",
       "  display: inline-block !important;\n",
       "  position: relative;\n",
       "}\n",
       "\n",
       "#sk-container-id-1 div.sk-text-repr-fallback {\n",
       "  display: none;\n",
       "}\n",
       "\n",
       "div.sk-parallel-item,\n",
       "div.sk-serial,\n",
       "div.sk-item {\n",
       "  /* draw centered vertical line to link estimators */\n",
       "  background-image: linear-gradient(var(--sklearn-color-text-on-default-background), var(--sklearn-color-text-on-default-background));\n",
       "  background-size: 2px 100%;\n",
       "  background-repeat: no-repeat;\n",
       "  background-position: center center;\n",
       "}\n",
       "\n",
       "/* Parallel-specific style estimator block */\n",
       "\n",
       "#sk-container-id-1 div.sk-parallel-item::after {\n",
       "  content: \"\";\n",
       "  width: 100%;\n",
       "  border-bottom: 2px solid var(--sklearn-color-text-on-default-background);\n",
       "  flex-grow: 1;\n",
       "}\n",
       "\n",
       "#sk-container-id-1 div.sk-parallel {\n",
       "  display: flex;\n",
       "  align-items: stretch;\n",
       "  justify-content: center;\n",
       "  background-color: var(--sklearn-color-background);\n",
       "  position: relative;\n",
       "}\n",
       "\n",
       "#sk-container-id-1 div.sk-parallel-item {\n",
       "  display: flex;\n",
       "  flex-direction: column;\n",
       "}\n",
       "\n",
       "#sk-container-id-1 div.sk-parallel-item:first-child::after {\n",
       "  align-self: flex-end;\n",
       "  width: 50%;\n",
       "}\n",
       "\n",
       "#sk-container-id-1 div.sk-parallel-item:last-child::after {\n",
       "  align-self: flex-start;\n",
       "  width: 50%;\n",
       "}\n",
       "\n",
       "#sk-container-id-1 div.sk-parallel-item:only-child::after {\n",
       "  width: 0;\n",
       "}\n",
       "\n",
       "/* Serial-specific style estimator block */\n",
       "\n",
       "#sk-container-id-1 div.sk-serial {\n",
       "  display: flex;\n",
       "  flex-direction: column;\n",
       "  align-items: center;\n",
       "  background-color: var(--sklearn-color-background);\n",
       "  padding-right: 1em;\n",
       "  padding-left: 1em;\n",
       "}\n",
       "\n",
       "\n",
       "/* Toggleable style: style used for estimator/Pipeline/ColumnTransformer box that is\n",
       "clickable and can be expanded/collapsed.\n",
       "- Pipeline and ColumnTransformer use this feature and define the default style\n",
       "- Estimators will overwrite some part of the style using the `sk-estimator` class\n",
       "*/\n",
       "\n",
       "/* Pipeline and ColumnTransformer style (default) */\n",
       "\n",
       "#sk-container-id-1 div.sk-toggleable {\n",
       "  /* Default theme specific background. It is overwritten whether we have a\n",
       "  specific estimator or a Pipeline/ColumnTransformer */\n",
       "  background-color: var(--sklearn-color-background);\n",
       "}\n",
       "\n",
       "/* Toggleable label */\n",
       "#sk-container-id-1 label.sk-toggleable__label {\n",
       "  cursor: pointer;\n",
       "  display: block;\n",
       "  width: 100%;\n",
       "  margin-bottom: 0;\n",
       "  padding: 0.5em;\n",
       "  box-sizing: border-box;\n",
       "  text-align: center;\n",
       "}\n",
       "\n",
       "#sk-container-id-1 label.sk-toggleable__label-arrow:before {\n",
       "  /* Arrow on the left of the label */\n",
       "  content: \"▸\";\n",
       "  float: left;\n",
       "  margin-right: 0.25em;\n",
       "  color: var(--sklearn-color-icon);\n",
       "}\n",
       "\n",
       "#sk-container-id-1 label.sk-toggleable__label-arrow:hover:before {\n",
       "  color: var(--sklearn-color-text);\n",
       "}\n",
       "\n",
       "/* Toggleable content - dropdown */\n",
       "\n",
       "#sk-container-id-1 div.sk-toggleable__content {\n",
       "  max-height: 0;\n",
       "  max-width: 0;\n",
       "  overflow: hidden;\n",
       "  text-align: left;\n",
       "  /* unfitted */\n",
       "  background-color: var(--sklearn-color-unfitted-level-0);\n",
       "}\n",
       "\n",
       "#sk-container-id-1 div.sk-toggleable__content.fitted {\n",
       "  /* fitted */\n",
       "  background-color: var(--sklearn-color-fitted-level-0);\n",
       "}\n",
       "\n",
       "#sk-container-id-1 div.sk-toggleable__content pre {\n",
       "  margin: 0.2em;\n",
       "  border-radius: 0.25em;\n",
       "  color: var(--sklearn-color-text);\n",
       "  /* unfitted */\n",
       "  background-color: var(--sklearn-color-unfitted-level-0);\n",
       "}\n",
       "\n",
       "#sk-container-id-1 div.sk-toggleable__content.fitted pre {\n",
       "  /* unfitted */\n",
       "  background-color: var(--sklearn-color-fitted-level-0);\n",
       "}\n",
       "\n",
       "#sk-container-id-1 input.sk-toggleable__control:checked~div.sk-toggleable__content {\n",
       "  /* Expand drop-down */\n",
       "  max-height: 200px;\n",
       "  max-width: 100%;\n",
       "  overflow: auto;\n",
       "}\n",
       "\n",
       "#sk-container-id-1 input.sk-toggleable__control:checked~label.sk-toggleable__label-arrow:before {\n",
       "  content: \"▾\";\n",
       "}\n",
       "\n",
       "/* Pipeline/ColumnTransformer-specific style */\n",
       "\n",
       "#sk-container-id-1 div.sk-label input.sk-toggleable__control:checked~label.sk-toggleable__label {\n",
       "  color: var(--sklearn-color-text);\n",
       "  background-color: var(--sklearn-color-unfitted-level-2);\n",
       "}\n",
       "\n",
       "#sk-container-id-1 div.sk-label.fitted input.sk-toggleable__control:checked~label.sk-toggleable__label {\n",
       "  background-color: var(--sklearn-color-fitted-level-2);\n",
       "}\n",
       "\n",
       "/* Estimator-specific style */\n",
       "\n",
       "/* Colorize estimator box */\n",
       "#sk-container-id-1 div.sk-estimator input.sk-toggleable__control:checked~label.sk-toggleable__label {\n",
       "  /* unfitted */\n",
       "  background-color: var(--sklearn-color-unfitted-level-2);\n",
       "}\n",
       "\n",
       "#sk-container-id-1 div.sk-estimator.fitted input.sk-toggleable__control:checked~label.sk-toggleable__label {\n",
       "  /* fitted */\n",
       "  background-color: var(--sklearn-color-fitted-level-2);\n",
       "}\n",
       "\n",
       "#sk-container-id-1 div.sk-label label.sk-toggleable__label,\n",
       "#sk-container-id-1 div.sk-label label {\n",
       "  /* The background is the default theme color */\n",
       "  color: var(--sklearn-color-text-on-default-background);\n",
       "}\n",
       "\n",
       "/* On hover, darken the color of the background */\n",
       "#sk-container-id-1 div.sk-label:hover label.sk-toggleable__label {\n",
       "  color: var(--sklearn-color-text);\n",
       "  background-color: var(--sklearn-color-unfitted-level-2);\n",
       "}\n",
       "\n",
       "/* Label box, darken color on hover, fitted */\n",
       "#sk-container-id-1 div.sk-label.fitted:hover label.sk-toggleable__label.fitted {\n",
       "  color: var(--sklearn-color-text);\n",
       "  background-color: var(--sklearn-color-fitted-level-2);\n",
       "}\n",
       "\n",
       "/* Estimator label */\n",
       "\n",
       "#sk-container-id-1 div.sk-label label {\n",
       "  font-family: monospace;\n",
       "  font-weight: bold;\n",
       "  display: inline-block;\n",
       "  line-height: 1.2em;\n",
       "}\n",
       "\n",
       "#sk-container-id-1 div.sk-label-container {\n",
       "  text-align: center;\n",
       "}\n",
       "\n",
       "/* Estimator-specific */\n",
       "#sk-container-id-1 div.sk-estimator {\n",
       "  font-family: monospace;\n",
       "  border: 1px dotted var(--sklearn-color-border-box);\n",
       "  border-radius: 0.25em;\n",
       "  box-sizing: border-box;\n",
       "  margin-bottom: 0.5em;\n",
       "  /* unfitted */\n",
       "  background-color: var(--sklearn-color-unfitted-level-0);\n",
       "}\n",
       "\n",
       "#sk-container-id-1 div.sk-estimator.fitted {\n",
       "  /* fitted */\n",
       "  background-color: var(--sklearn-color-fitted-level-0);\n",
       "}\n",
       "\n",
       "/* on hover */\n",
       "#sk-container-id-1 div.sk-estimator:hover {\n",
       "  /* unfitted */\n",
       "  background-color: var(--sklearn-color-unfitted-level-2);\n",
       "}\n",
       "\n",
       "#sk-container-id-1 div.sk-estimator.fitted:hover {\n",
       "  /* fitted */\n",
       "  background-color: var(--sklearn-color-fitted-level-2);\n",
       "}\n",
       "\n",
       "/* Specification for estimator info (e.g. \"i\" and \"?\") */\n",
       "\n",
       "/* Common style for \"i\" and \"?\" */\n",
       "\n",
       ".sk-estimator-doc-link,\n",
       "a:link.sk-estimator-doc-link,\n",
       "a:visited.sk-estimator-doc-link {\n",
       "  float: right;\n",
       "  font-size: smaller;\n",
       "  line-height: 1em;\n",
       "  font-family: monospace;\n",
       "  background-color: var(--sklearn-color-background);\n",
       "  border-radius: 1em;\n",
       "  height: 1em;\n",
       "  width: 1em;\n",
       "  text-decoration: none !important;\n",
       "  margin-left: 1ex;\n",
       "  /* unfitted */\n",
       "  border: var(--sklearn-color-unfitted-level-1) 1pt solid;\n",
       "  color: var(--sklearn-color-unfitted-level-1);\n",
       "}\n",
       "\n",
       ".sk-estimator-doc-link.fitted,\n",
       "a:link.sk-estimator-doc-link.fitted,\n",
       "a:visited.sk-estimator-doc-link.fitted {\n",
       "  /* fitted */\n",
       "  border: var(--sklearn-color-fitted-level-1) 1pt solid;\n",
       "  color: var(--sklearn-color-fitted-level-1);\n",
       "}\n",
       "\n",
       "/* On hover */\n",
       "div.sk-estimator:hover .sk-estimator-doc-link:hover,\n",
       ".sk-estimator-doc-link:hover,\n",
       "div.sk-label-container:hover .sk-estimator-doc-link:hover,\n",
       ".sk-estimator-doc-link:hover {\n",
       "  /* unfitted */\n",
       "  background-color: var(--sklearn-color-unfitted-level-3);\n",
       "  color: var(--sklearn-color-background);\n",
       "  text-decoration: none;\n",
       "}\n",
       "\n",
       "div.sk-estimator.fitted:hover .sk-estimator-doc-link.fitted:hover,\n",
       ".sk-estimator-doc-link.fitted:hover,\n",
       "div.sk-label-container:hover .sk-estimator-doc-link.fitted:hover,\n",
       ".sk-estimator-doc-link.fitted:hover {\n",
       "  /* fitted */\n",
       "  background-color: var(--sklearn-color-fitted-level-3);\n",
       "  color: var(--sklearn-color-background);\n",
       "  text-decoration: none;\n",
       "}\n",
       "\n",
       "/* Span, style for the box shown on hovering the info icon */\n",
       ".sk-estimator-doc-link span {\n",
       "  display: none;\n",
       "  z-index: 9999;\n",
       "  position: relative;\n",
       "  font-weight: normal;\n",
       "  right: .2ex;\n",
       "  padding: .5ex;\n",
       "  margin: .5ex;\n",
       "  width: min-content;\n",
       "  min-width: 20ex;\n",
       "  max-width: 50ex;\n",
       "  color: var(--sklearn-color-text);\n",
       "  box-shadow: 2pt 2pt 4pt #999;\n",
       "  /* unfitted */\n",
       "  background: var(--sklearn-color-unfitted-level-0);\n",
       "  border: .5pt solid var(--sklearn-color-unfitted-level-3);\n",
       "}\n",
       "\n",
       ".sk-estimator-doc-link.fitted span {\n",
       "  /* fitted */\n",
       "  background: var(--sklearn-color-fitted-level-0);\n",
       "  border: var(--sklearn-color-fitted-level-3);\n",
       "}\n",
       "\n",
       ".sk-estimator-doc-link:hover span {\n",
       "  display: block;\n",
       "}\n",
       "\n",
       "/* \"?\"-specific style due to the `<a>` HTML tag */\n",
       "\n",
       "#sk-container-id-1 a.estimator_doc_link {\n",
       "  float: right;\n",
       "  font-size: 1rem;\n",
       "  line-height: 1em;\n",
       "  font-family: monospace;\n",
       "  background-color: var(--sklearn-color-background);\n",
       "  border-radius: 1rem;\n",
       "  height: 1rem;\n",
       "  width: 1rem;\n",
       "  text-decoration: none;\n",
       "  /* unfitted */\n",
       "  color: var(--sklearn-color-unfitted-level-1);\n",
       "  border: var(--sklearn-color-unfitted-level-1) 1pt solid;\n",
       "}\n",
       "\n",
       "#sk-container-id-1 a.estimator_doc_link.fitted {\n",
       "  /* fitted */\n",
       "  border: var(--sklearn-color-fitted-level-1) 1pt solid;\n",
       "  color: var(--sklearn-color-fitted-level-1);\n",
       "}\n",
       "\n",
       "/* On hover */\n",
       "#sk-container-id-1 a.estimator_doc_link:hover {\n",
       "  /* unfitted */\n",
       "  background-color: var(--sklearn-color-unfitted-level-3);\n",
       "  color: var(--sklearn-color-background);\n",
       "  text-decoration: none;\n",
       "}\n",
       "\n",
       "#sk-container-id-1 a.estimator_doc_link.fitted:hover {\n",
       "  /* fitted */\n",
       "  background-color: var(--sklearn-color-fitted-level-3);\n",
       "}\n",
       "</style><div id=\"sk-container-id-1\" class=\"sk-top-container\"><div class=\"sk-text-repr-fallback\"><pre>LinearRegression()</pre><b>In a Jupyter environment, please rerun this cell to show the HTML representation or trust the notebook. <br />On GitHub, the HTML representation is unable to render, please try loading this page with nbviewer.org.</b></div><div class=\"sk-container\" hidden><div class=\"sk-item\"><div class=\"sk-estimator  sk-toggleable\"><input class=\"sk-toggleable__control sk-hidden--visually\" id=\"sk-estimator-id-1\" type=\"checkbox\" checked><label for=\"sk-estimator-id-1\" class=\"sk-toggleable__label  sk-toggleable__label-arrow \">&nbsp;&nbsp;LinearRegression<a class=\"sk-estimator-doc-link \" rel=\"noreferrer\" target=\"_blank\" href=\"https://scikit-learn.org/1.5/modules/generated/sklearn.linear_model.LinearRegression.html\">?<span>Documentation for LinearRegression</span></a><span class=\"sk-estimator-doc-link \">i<span>Not fitted</span></span></label><div class=\"sk-toggleable__content \"><pre>LinearRegression()</pre></div> </div></div></div></div>"
      ],
      "text/plain": [
       "LinearRegression()"
      ]
     },
     "execution_count": 22,
     "metadata": {},
     "output_type": "execute_result"
    }
   ],
   "source": [
    "model = LinearRegression(fit_intercept=True)\n",
    "model"
   ]
  },
  {
   "cell_type": "code",
   "execution_count": 23,
   "id": "10071096-7150-4d4c-82e5-206bf08b54df",
   "metadata": {
    "scrolled": true
   },
   "outputs": [
    {
     "data": {
      "text/plain": [
       "\u001b[1;31mInit signature:\u001b[0m\n",
       "\u001b[0mLinearRegression\u001b[0m\u001b[1;33m(\u001b[0m\u001b[1;33m\n",
       "\u001b[0m    \u001b[1;33m*\u001b[0m\u001b[1;33m,\u001b[0m\u001b[1;33m\n",
       "\u001b[0m    \u001b[0mfit_intercept\u001b[0m\u001b[1;33m=\u001b[0m\u001b[1;32mTrue\u001b[0m\u001b[1;33m,\u001b[0m\u001b[1;33m\n",
       "\u001b[0m    \u001b[0mcopy_X\u001b[0m\u001b[1;33m=\u001b[0m\u001b[1;32mTrue\u001b[0m\u001b[1;33m,\u001b[0m\u001b[1;33m\n",
       "\u001b[0m    \u001b[0mn_jobs\u001b[0m\u001b[1;33m=\u001b[0m\u001b[1;32mNone\u001b[0m\u001b[1;33m,\u001b[0m\u001b[1;33m\n",
       "\u001b[0m    \u001b[0mpositive\u001b[0m\u001b[1;33m=\u001b[0m\u001b[1;32mFalse\u001b[0m\u001b[1;33m,\u001b[0m\u001b[1;33m\n",
       "\u001b[0m\u001b[1;33m)\u001b[0m\u001b[1;33m\u001b[0m\u001b[1;33m\u001b[0m\u001b[0m\n",
       "\u001b[1;31mDocstring:\u001b[0m     \n",
       "Ordinary least squares Linear Regression.\n",
       "\n",
       "LinearRegression fits a linear model with coefficients w = (w1, ..., wp)\n",
       "to minimize the residual sum of squares between the observed targets in\n",
       "the dataset, and the targets predicted by the linear approximation.\n",
       "\n",
       "Parameters\n",
       "----------\n",
       "fit_intercept : bool, default=True\n",
       "    Whether to calculate the intercept for this model. If set\n",
       "    to False, no intercept will be used in calculations\n",
       "    (i.e. data is expected to be centered).\n",
       "\n",
       "copy_X : bool, default=True\n",
       "    If True, X will be copied; else, it may be overwritten.\n",
       "\n",
       "n_jobs : int, default=None\n",
       "    The number of jobs to use for the computation. This will only provide\n",
       "    speedup in case of sufficiently large problems, that is if firstly\n",
       "    `n_targets > 1` and secondly `X` is sparse or if `positive` is set\n",
       "    to `True`. ``None`` means 1 unless in a\n",
       "    :obj:`joblib.parallel_backend` context. ``-1`` means using all\n",
       "    processors. See :term:`Glossary <n_jobs>` for more details.\n",
       "\n",
       "positive : bool, default=False\n",
       "    When set to ``True``, forces the coefficients to be positive. This\n",
       "    option is only supported for dense arrays.\n",
       "\n",
       "    .. versionadded:: 0.24\n",
       "\n",
       "Attributes\n",
       "----------\n",
       "coef_ : array of shape (n_features, ) or (n_targets, n_features)\n",
       "    Estimated coefficients for the linear regression problem.\n",
       "    If multiple targets are passed during the fit (y 2D), this\n",
       "    is a 2D array of shape (n_targets, n_features), while if only\n",
       "    one target is passed, this is a 1D array of length n_features.\n",
       "\n",
       "rank_ : int\n",
       "    Rank of matrix `X`. Only available when `X` is dense.\n",
       "\n",
       "singular_ : array of shape (min(X, y),)\n",
       "    Singular values of `X`. Only available when `X` is dense.\n",
       "\n",
       "intercept_ : float or array of shape (n_targets,)\n",
       "    Independent term in the linear model. Set to 0.0 if\n",
       "    `fit_intercept = False`.\n",
       "\n",
       "n_features_in_ : int\n",
       "    Number of features seen during :term:`fit`.\n",
       "\n",
       "    .. versionadded:: 0.24\n",
       "\n",
       "feature_names_in_ : ndarray of shape (`n_features_in_`,)\n",
       "    Names of features seen during :term:`fit`. Defined only when `X`\n",
       "    has feature names that are all strings.\n",
       "\n",
       "    .. versionadded:: 1.0\n",
       "\n",
       "See Also\n",
       "--------\n",
       "Ridge : Ridge regression addresses some of the\n",
       "    problems of Ordinary Least Squares by imposing a penalty on the\n",
       "    size of the coefficients with l2 regularization.\n",
       "Lasso : The Lasso is a linear model that estimates\n",
       "    sparse coefficients with l1 regularization.\n",
       "ElasticNet : Elastic-Net is a linear regression\n",
       "    model trained with both l1 and l2 -norm regularization of the\n",
       "    coefficients.\n",
       "\n",
       "Notes\n",
       "-----\n",
       "From the implementation point of view, this is just plain Ordinary\n",
       "Least Squares (scipy.linalg.lstsq) or Non Negative Least Squares\n",
       "(scipy.optimize.nnls) wrapped as a predictor object.\n",
       "\n",
       "Examples\n",
       "--------\n",
       ">>> import numpy as np\n",
       ">>> from sklearn.linear_model import LinearRegression\n",
       ">>> X = np.array([[1, 1], [1, 2], [2, 2], [2, 3]])\n",
       ">>> # y = 1 * x_0 + 2 * x_1 + 3\n",
       ">>> y = np.dot(X, np.array([1, 2])) + 3\n",
       ">>> reg = LinearRegression().fit(X, y)\n",
       ">>> reg.score(X, y)\n",
       "1.0\n",
       ">>> reg.coef_\n",
       "array([1., 2.])\n",
       ">>> reg.intercept_\n",
       "np.float64(3.0...)\n",
       ">>> reg.predict(np.array([[3, 5]]))\n",
       "array([16.])\n",
       "\u001b[1;31mFile:\u001b[0m           d:\\venvs\\ai\\lib\\site-packages\\sklearn\\linear_model\\_base.py\n",
       "\u001b[1;31mType:\u001b[0m           ABCMeta\n",
       "\u001b[1;31mSubclasses:\u001b[0m     "
      ]
     },
     "metadata": {},
     "output_type": "display_data"
    }
   ],
   "source": [
    "LinearRegression?"
   ]
  },
  {
   "cell_type": "markdown",
   "id": "c7a8f539-7e68-4ef6-aaf1-40787ee117b5",
   "metadata": {},
   "source": [
    "需要注意的是，对模型进行实例化其实仅仅是存储了超参数的\n",
    "值。我们还没有将模型应用到数据上：Scikit-Learn 的 API 对选择\n",
    "模型和将模型应用到数据区别得很清晰。"
   ]
  },
  {
   "cell_type": "markdown",
   "id": "d7107e0b-1d8f-407f-9afd-a24b5589425a",
   "metadata": {},
   "source": [
    "(3) 将数据整理成特征矩阵和目标数组      \n",
    "前面介绍了 Scikit-Learn 的数据表示方法，它需要二维特征矩\n",
    "阵和一维目标数组。虽然我们的目标数组已经有了 y（长度为\n",
    "n_samples 的数组），但还需要将数据 x 整理成 [n_samples,\n",
    "n_features] 的形式。在这个示例中，可以对一维数组进行简单\n",
    "的维度变换："
   ]
  },
  {
   "cell_type": "code",
   "execution_count": 24,
   "id": "605cc1a8-a87e-4b1a-9aaf-98829aca30d6",
   "metadata": {},
   "outputs": [
    {
     "data": {
      "text/plain": [
       "(50, 1)"
      ]
     },
     "execution_count": 24,
     "metadata": {},
     "output_type": "execute_result"
    }
   ],
   "source": [
    "X = x[:,np.newaxis]\n",
    "X.shape"
   ]
  },
  {
   "cell_type": "markdown",
   "id": "72336414-ac0c-4be8-9cab-c262223fb39b",
   "metadata": {},
   "source": [
    "注意，特征矩阵我们要二维的，所以我们需要把x(50,)这样的一维数组变成(50,1)的二维数组  \n",
    "那么可以使用之前学过的np.newaxis开辟出新的维度"
   ]
  },
  {
   "cell_type": "markdown",
   "id": "b193618d-6af3-4714-bf34-85c952aa04a7",
   "metadata": {},
   "source": [
    "(4) 用模型拟合数据"
   ]
  },
  {
   "cell_type": "markdown",
   "id": "7929c211-2639-4ec9-b7c2-c9a21e854716",
   "metadata": {},
   "source": [
    "现在就可以将模型应用到数据上了，这一步通过模型的 fit()\n",
    "方法即可完成："
   ]
  },
  {
   "cell_type": "code",
   "execution_count": 25,
   "id": "8ba727f4-48e5-4f29-b859-40aca4acf9dd",
   "metadata": {},
   "outputs": [
    {
     "data": {
      "text/plain": [
       "(50,)"
      ]
     },
     "execution_count": 25,
     "metadata": {},
     "output_type": "execute_result"
    }
   ],
   "source": [
    "y.shape"
   ]
  },
  {
   "cell_type": "code",
   "execution_count": 26,
   "id": "173400c1-4275-4f72-a7e5-8b41e9a4cc5d",
   "metadata": {},
   "outputs": [
    {
     "data": {
      "text/html": [
       "<style>#sk-container-id-2 {\n",
       "  /* Definition of color scheme common for light and dark mode */\n",
       "  --sklearn-color-text: black;\n",
       "  --sklearn-color-line: gray;\n",
       "  /* Definition of color scheme for unfitted estimators */\n",
       "  --sklearn-color-unfitted-level-0: #fff5e6;\n",
       "  --sklearn-color-unfitted-level-1: #f6e4d2;\n",
       "  --sklearn-color-unfitted-level-2: #ffe0b3;\n",
       "  --sklearn-color-unfitted-level-3: chocolate;\n",
       "  /* Definition of color scheme for fitted estimators */\n",
       "  --sklearn-color-fitted-level-0: #f0f8ff;\n",
       "  --sklearn-color-fitted-level-1: #d4ebff;\n",
       "  --sklearn-color-fitted-level-2: #b3dbfd;\n",
       "  --sklearn-color-fitted-level-3: cornflowerblue;\n",
       "\n",
       "  /* Specific color for light theme */\n",
       "  --sklearn-color-text-on-default-background: var(--sg-text-color, var(--theme-code-foreground, var(--jp-content-font-color1, black)));\n",
       "  --sklearn-color-background: var(--sg-background-color, var(--theme-background, var(--jp-layout-color0, white)));\n",
       "  --sklearn-color-border-box: var(--sg-text-color, var(--theme-code-foreground, var(--jp-content-font-color1, black)));\n",
       "  --sklearn-color-icon: #696969;\n",
       "\n",
       "  @media (prefers-color-scheme: dark) {\n",
       "    /* Redefinition of color scheme for dark theme */\n",
       "    --sklearn-color-text-on-default-background: var(--sg-text-color, var(--theme-code-foreground, var(--jp-content-font-color1, white)));\n",
       "    --sklearn-color-background: var(--sg-background-color, var(--theme-background, var(--jp-layout-color0, #111)));\n",
       "    --sklearn-color-border-box: var(--sg-text-color, var(--theme-code-foreground, var(--jp-content-font-color1, white)));\n",
       "    --sklearn-color-icon: #878787;\n",
       "  }\n",
       "}\n",
       "\n",
       "#sk-container-id-2 {\n",
       "  color: var(--sklearn-color-text);\n",
       "}\n",
       "\n",
       "#sk-container-id-2 pre {\n",
       "  padding: 0;\n",
       "}\n",
       "\n",
       "#sk-container-id-2 input.sk-hidden--visually {\n",
       "  border: 0;\n",
       "  clip: rect(1px 1px 1px 1px);\n",
       "  clip: rect(1px, 1px, 1px, 1px);\n",
       "  height: 1px;\n",
       "  margin: -1px;\n",
       "  overflow: hidden;\n",
       "  padding: 0;\n",
       "  position: absolute;\n",
       "  width: 1px;\n",
       "}\n",
       "\n",
       "#sk-container-id-2 div.sk-dashed-wrapped {\n",
       "  border: 1px dashed var(--sklearn-color-line);\n",
       "  margin: 0 0.4em 0.5em 0.4em;\n",
       "  box-sizing: border-box;\n",
       "  padding-bottom: 0.4em;\n",
       "  background-color: var(--sklearn-color-background);\n",
       "}\n",
       "\n",
       "#sk-container-id-2 div.sk-container {\n",
       "  /* jupyter's `normalize.less` sets `[hidden] { display: none; }`\n",
       "     but bootstrap.min.css set `[hidden] { display: none !important; }`\n",
       "     so we also need the `!important` here to be able to override the\n",
       "     default hidden behavior on the sphinx rendered scikit-learn.org.\n",
       "     See: https://github.com/scikit-learn/scikit-learn/issues/21755 */\n",
       "  display: inline-block !important;\n",
       "  position: relative;\n",
       "}\n",
       "\n",
       "#sk-container-id-2 div.sk-text-repr-fallback {\n",
       "  display: none;\n",
       "}\n",
       "\n",
       "div.sk-parallel-item,\n",
       "div.sk-serial,\n",
       "div.sk-item {\n",
       "  /* draw centered vertical line to link estimators */\n",
       "  background-image: linear-gradient(var(--sklearn-color-text-on-default-background), var(--sklearn-color-text-on-default-background));\n",
       "  background-size: 2px 100%;\n",
       "  background-repeat: no-repeat;\n",
       "  background-position: center center;\n",
       "}\n",
       "\n",
       "/* Parallel-specific style estimator block */\n",
       "\n",
       "#sk-container-id-2 div.sk-parallel-item::after {\n",
       "  content: \"\";\n",
       "  width: 100%;\n",
       "  border-bottom: 2px solid var(--sklearn-color-text-on-default-background);\n",
       "  flex-grow: 1;\n",
       "}\n",
       "\n",
       "#sk-container-id-2 div.sk-parallel {\n",
       "  display: flex;\n",
       "  align-items: stretch;\n",
       "  justify-content: center;\n",
       "  background-color: var(--sklearn-color-background);\n",
       "  position: relative;\n",
       "}\n",
       "\n",
       "#sk-container-id-2 div.sk-parallel-item {\n",
       "  display: flex;\n",
       "  flex-direction: column;\n",
       "}\n",
       "\n",
       "#sk-container-id-2 div.sk-parallel-item:first-child::after {\n",
       "  align-self: flex-end;\n",
       "  width: 50%;\n",
       "}\n",
       "\n",
       "#sk-container-id-2 div.sk-parallel-item:last-child::after {\n",
       "  align-self: flex-start;\n",
       "  width: 50%;\n",
       "}\n",
       "\n",
       "#sk-container-id-2 div.sk-parallel-item:only-child::after {\n",
       "  width: 0;\n",
       "}\n",
       "\n",
       "/* Serial-specific style estimator block */\n",
       "\n",
       "#sk-container-id-2 div.sk-serial {\n",
       "  display: flex;\n",
       "  flex-direction: column;\n",
       "  align-items: center;\n",
       "  background-color: var(--sklearn-color-background);\n",
       "  padding-right: 1em;\n",
       "  padding-left: 1em;\n",
       "}\n",
       "\n",
       "\n",
       "/* Toggleable style: style used for estimator/Pipeline/ColumnTransformer box that is\n",
       "clickable and can be expanded/collapsed.\n",
       "- Pipeline and ColumnTransformer use this feature and define the default style\n",
       "- Estimators will overwrite some part of the style using the `sk-estimator` class\n",
       "*/\n",
       "\n",
       "/* Pipeline and ColumnTransformer style (default) */\n",
       "\n",
       "#sk-container-id-2 div.sk-toggleable {\n",
       "  /* Default theme specific background. It is overwritten whether we have a\n",
       "  specific estimator or a Pipeline/ColumnTransformer */\n",
       "  background-color: var(--sklearn-color-background);\n",
       "}\n",
       "\n",
       "/* Toggleable label */\n",
       "#sk-container-id-2 label.sk-toggleable__label {\n",
       "  cursor: pointer;\n",
       "  display: block;\n",
       "  width: 100%;\n",
       "  margin-bottom: 0;\n",
       "  padding: 0.5em;\n",
       "  box-sizing: border-box;\n",
       "  text-align: center;\n",
       "}\n",
       "\n",
       "#sk-container-id-2 label.sk-toggleable__label-arrow:before {\n",
       "  /* Arrow on the left of the label */\n",
       "  content: \"▸\";\n",
       "  float: left;\n",
       "  margin-right: 0.25em;\n",
       "  color: var(--sklearn-color-icon);\n",
       "}\n",
       "\n",
       "#sk-container-id-2 label.sk-toggleable__label-arrow:hover:before {\n",
       "  color: var(--sklearn-color-text);\n",
       "}\n",
       "\n",
       "/* Toggleable content - dropdown */\n",
       "\n",
       "#sk-container-id-2 div.sk-toggleable__content {\n",
       "  max-height: 0;\n",
       "  max-width: 0;\n",
       "  overflow: hidden;\n",
       "  text-align: left;\n",
       "  /* unfitted */\n",
       "  background-color: var(--sklearn-color-unfitted-level-0);\n",
       "}\n",
       "\n",
       "#sk-container-id-2 div.sk-toggleable__content.fitted {\n",
       "  /* fitted */\n",
       "  background-color: var(--sklearn-color-fitted-level-0);\n",
       "}\n",
       "\n",
       "#sk-container-id-2 div.sk-toggleable__content pre {\n",
       "  margin: 0.2em;\n",
       "  border-radius: 0.25em;\n",
       "  color: var(--sklearn-color-text);\n",
       "  /* unfitted */\n",
       "  background-color: var(--sklearn-color-unfitted-level-0);\n",
       "}\n",
       "\n",
       "#sk-container-id-2 div.sk-toggleable__content.fitted pre {\n",
       "  /* unfitted */\n",
       "  background-color: var(--sklearn-color-fitted-level-0);\n",
       "}\n",
       "\n",
       "#sk-container-id-2 input.sk-toggleable__control:checked~div.sk-toggleable__content {\n",
       "  /* Expand drop-down */\n",
       "  max-height: 200px;\n",
       "  max-width: 100%;\n",
       "  overflow: auto;\n",
       "}\n",
       "\n",
       "#sk-container-id-2 input.sk-toggleable__control:checked~label.sk-toggleable__label-arrow:before {\n",
       "  content: \"▾\";\n",
       "}\n",
       "\n",
       "/* Pipeline/ColumnTransformer-specific style */\n",
       "\n",
       "#sk-container-id-2 div.sk-label input.sk-toggleable__control:checked~label.sk-toggleable__label {\n",
       "  color: var(--sklearn-color-text);\n",
       "  background-color: var(--sklearn-color-unfitted-level-2);\n",
       "}\n",
       "\n",
       "#sk-container-id-2 div.sk-label.fitted input.sk-toggleable__control:checked~label.sk-toggleable__label {\n",
       "  background-color: var(--sklearn-color-fitted-level-2);\n",
       "}\n",
       "\n",
       "/* Estimator-specific style */\n",
       "\n",
       "/* Colorize estimator box */\n",
       "#sk-container-id-2 div.sk-estimator input.sk-toggleable__control:checked~label.sk-toggleable__label {\n",
       "  /* unfitted */\n",
       "  background-color: var(--sklearn-color-unfitted-level-2);\n",
       "}\n",
       "\n",
       "#sk-container-id-2 div.sk-estimator.fitted input.sk-toggleable__control:checked~label.sk-toggleable__label {\n",
       "  /* fitted */\n",
       "  background-color: var(--sklearn-color-fitted-level-2);\n",
       "}\n",
       "\n",
       "#sk-container-id-2 div.sk-label label.sk-toggleable__label,\n",
       "#sk-container-id-2 div.sk-label label {\n",
       "  /* The background is the default theme color */\n",
       "  color: var(--sklearn-color-text-on-default-background);\n",
       "}\n",
       "\n",
       "/* On hover, darken the color of the background */\n",
       "#sk-container-id-2 div.sk-label:hover label.sk-toggleable__label {\n",
       "  color: var(--sklearn-color-text);\n",
       "  background-color: var(--sklearn-color-unfitted-level-2);\n",
       "}\n",
       "\n",
       "/* Label box, darken color on hover, fitted */\n",
       "#sk-container-id-2 div.sk-label.fitted:hover label.sk-toggleable__label.fitted {\n",
       "  color: var(--sklearn-color-text);\n",
       "  background-color: var(--sklearn-color-fitted-level-2);\n",
       "}\n",
       "\n",
       "/* Estimator label */\n",
       "\n",
       "#sk-container-id-2 div.sk-label label {\n",
       "  font-family: monospace;\n",
       "  font-weight: bold;\n",
       "  display: inline-block;\n",
       "  line-height: 1.2em;\n",
       "}\n",
       "\n",
       "#sk-container-id-2 div.sk-label-container {\n",
       "  text-align: center;\n",
       "}\n",
       "\n",
       "/* Estimator-specific */\n",
       "#sk-container-id-2 div.sk-estimator {\n",
       "  font-family: monospace;\n",
       "  border: 1px dotted var(--sklearn-color-border-box);\n",
       "  border-radius: 0.25em;\n",
       "  box-sizing: border-box;\n",
       "  margin-bottom: 0.5em;\n",
       "  /* unfitted */\n",
       "  background-color: var(--sklearn-color-unfitted-level-0);\n",
       "}\n",
       "\n",
       "#sk-container-id-2 div.sk-estimator.fitted {\n",
       "  /* fitted */\n",
       "  background-color: var(--sklearn-color-fitted-level-0);\n",
       "}\n",
       "\n",
       "/* on hover */\n",
       "#sk-container-id-2 div.sk-estimator:hover {\n",
       "  /* unfitted */\n",
       "  background-color: var(--sklearn-color-unfitted-level-2);\n",
       "}\n",
       "\n",
       "#sk-container-id-2 div.sk-estimator.fitted:hover {\n",
       "  /* fitted */\n",
       "  background-color: var(--sklearn-color-fitted-level-2);\n",
       "}\n",
       "\n",
       "/* Specification for estimator info (e.g. \"i\" and \"?\") */\n",
       "\n",
       "/* Common style for \"i\" and \"?\" */\n",
       "\n",
       ".sk-estimator-doc-link,\n",
       "a:link.sk-estimator-doc-link,\n",
       "a:visited.sk-estimator-doc-link {\n",
       "  float: right;\n",
       "  font-size: smaller;\n",
       "  line-height: 1em;\n",
       "  font-family: monospace;\n",
       "  background-color: var(--sklearn-color-background);\n",
       "  border-radius: 1em;\n",
       "  height: 1em;\n",
       "  width: 1em;\n",
       "  text-decoration: none !important;\n",
       "  margin-left: 1ex;\n",
       "  /* unfitted */\n",
       "  border: var(--sklearn-color-unfitted-level-1) 1pt solid;\n",
       "  color: var(--sklearn-color-unfitted-level-1);\n",
       "}\n",
       "\n",
       ".sk-estimator-doc-link.fitted,\n",
       "a:link.sk-estimator-doc-link.fitted,\n",
       "a:visited.sk-estimator-doc-link.fitted {\n",
       "  /* fitted */\n",
       "  border: var(--sklearn-color-fitted-level-1) 1pt solid;\n",
       "  color: var(--sklearn-color-fitted-level-1);\n",
       "}\n",
       "\n",
       "/* On hover */\n",
       "div.sk-estimator:hover .sk-estimator-doc-link:hover,\n",
       ".sk-estimator-doc-link:hover,\n",
       "div.sk-label-container:hover .sk-estimator-doc-link:hover,\n",
       ".sk-estimator-doc-link:hover {\n",
       "  /* unfitted */\n",
       "  background-color: var(--sklearn-color-unfitted-level-3);\n",
       "  color: var(--sklearn-color-background);\n",
       "  text-decoration: none;\n",
       "}\n",
       "\n",
       "div.sk-estimator.fitted:hover .sk-estimator-doc-link.fitted:hover,\n",
       ".sk-estimator-doc-link.fitted:hover,\n",
       "div.sk-label-container:hover .sk-estimator-doc-link.fitted:hover,\n",
       ".sk-estimator-doc-link.fitted:hover {\n",
       "  /* fitted */\n",
       "  background-color: var(--sklearn-color-fitted-level-3);\n",
       "  color: var(--sklearn-color-background);\n",
       "  text-decoration: none;\n",
       "}\n",
       "\n",
       "/* Span, style for the box shown on hovering the info icon */\n",
       ".sk-estimator-doc-link span {\n",
       "  display: none;\n",
       "  z-index: 9999;\n",
       "  position: relative;\n",
       "  font-weight: normal;\n",
       "  right: .2ex;\n",
       "  padding: .5ex;\n",
       "  margin: .5ex;\n",
       "  width: min-content;\n",
       "  min-width: 20ex;\n",
       "  max-width: 50ex;\n",
       "  color: var(--sklearn-color-text);\n",
       "  box-shadow: 2pt 2pt 4pt #999;\n",
       "  /* unfitted */\n",
       "  background: var(--sklearn-color-unfitted-level-0);\n",
       "  border: .5pt solid var(--sklearn-color-unfitted-level-3);\n",
       "}\n",
       "\n",
       ".sk-estimator-doc-link.fitted span {\n",
       "  /* fitted */\n",
       "  background: var(--sklearn-color-fitted-level-0);\n",
       "  border: var(--sklearn-color-fitted-level-3);\n",
       "}\n",
       "\n",
       ".sk-estimator-doc-link:hover span {\n",
       "  display: block;\n",
       "}\n",
       "\n",
       "/* \"?\"-specific style due to the `<a>` HTML tag */\n",
       "\n",
       "#sk-container-id-2 a.estimator_doc_link {\n",
       "  float: right;\n",
       "  font-size: 1rem;\n",
       "  line-height: 1em;\n",
       "  font-family: monospace;\n",
       "  background-color: var(--sklearn-color-background);\n",
       "  border-radius: 1rem;\n",
       "  height: 1rem;\n",
       "  width: 1rem;\n",
       "  text-decoration: none;\n",
       "  /* unfitted */\n",
       "  color: var(--sklearn-color-unfitted-level-1);\n",
       "  border: var(--sklearn-color-unfitted-level-1) 1pt solid;\n",
       "}\n",
       "\n",
       "#sk-container-id-2 a.estimator_doc_link.fitted {\n",
       "  /* fitted */\n",
       "  border: var(--sklearn-color-fitted-level-1) 1pt solid;\n",
       "  color: var(--sklearn-color-fitted-level-1);\n",
       "}\n",
       "\n",
       "/* On hover */\n",
       "#sk-container-id-2 a.estimator_doc_link:hover {\n",
       "  /* unfitted */\n",
       "  background-color: var(--sklearn-color-unfitted-level-3);\n",
       "  color: var(--sklearn-color-background);\n",
       "  text-decoration: none;\n",
       "}\n",
       "\n",
       "#sk-container-id-2 a.estimator_doc_link.fitted:hover {\n",
       "  /* fitted */\n",
       "  background-color: var(--sklearn-color-fitted-level-3);\n",
       "}\n",
       "</style><div id=\"sk-container-id-2\" class=\"sk-top-container\"><div class=\"sk-text-repr-fallback\"><pre>LinearRegression()</pre><b>In a Jupyter environment, please rerun this cell to show the HTML representation or trust the notebook. <br />On GitHub, the HTML representation is unable to render, please try loading this page with nbviewer.org.</b></div><div class=\"sk-container\" hidden><div class=\"sk-item\"><div class=\"sk-estimator fitted sk-toggleable\"><input class=\"sk-toggleable__control sk-hidden--visually\" id=\"sk-estimator-id-2\" type=\"checkbox\" checked><label for=\"sk-estimator-id-2\" class=\"sk-toggleable__label fitted sk-toggleable__label-arrow fitted\">&nbsp;&nbsp;LinearRegression<a class=\"sk-estimator-doc-link fitted\" rel=\"noreferrer\" target=\"_blank\" href=\"https://scikit-learn.org/1.5/modules/generated/sklearn.linear_model.LinearRegression.html\">?<span>Documentation for LinearRegression</span></a><span class=\"sk-estimator-doc-link fitted\">i<span>Fitted</span></span></label><div class=\"sk-toggleable__content fitted\"><pre>LinearRegression()</pre></div> </div></div></div></div>"
      ],
      "text/plain": [
       "LinearRegression()"
      ]
     },
     "execution_count": 26,
     "metadata": {},
     "output_type": "execute_result"
    }
   ],
   "source": [
    "model.fit(X,y)"
   ]
  },
  {
   "cell_type": "markdown",
   "id": "209b80ed-63d5-48cc-a198-0b90dfd34b98",
   "metadata": {},
   "source": [
    "fit() 命令会在模型内部进行大量运算，运算结果将存储在模\n",
    "型属性中，供用户使用。在 Scikit-Learn 中，所有通过 fit() 方法\n",
    "获得的模型参数都带一条下划线。例如，在线性回归模型中，模型\n",
    "参数如下所示："
   ]
  },
  {
   "cell_type": "code",
   "execution_count": 27,
   "id": "55a27b88-5619-4f41-a909-e42c5f9f177c",
   "metadata": {},
   "outputs": [
    {
     "data": {
      "text/plain": [
       "array([1.99600719])"
      ]
     },
     "execution_count": 27,
     "metadata": {},
     "output_type": "execute_result"
    }
   ],
   "source": [
    "model.coef_"
   ]
  },
  {
   "cell_type": "code",
   "execution_count": 28,
   "id": "4850ca33-e863-4319-b0ff-263ae6a99876",
   "metadata": {},
   "outputs": [
    {
     "data": {
      "text/plain": [
       "np.float64(-0.9851403745791023)"
      ]
     },
     "execution_count": 28,
     "metadata": {},
     "output_type": "execute_result"
    }
   ],
   "source": [
    "model.intercept_"
   ]
  },
  {
   "cell_type": "markdown",
   "id": "c1eec7b9-938a-4358-a98e-0c6d3ae0e460",
   "metadata": {},
   "source": [
    "<img src='./img/03.png'></img>"
   ]
  },
  {
   "cell_type": "markdown",
   "id": "014a00e4-368f-4e4b-b57d-3a6d990ba18f",
   "metadata": {},
   "source": [
    "<p>上图的是我最开始写的时候自己指定的斜率和截距</p>"
   ]
  },
  {
   "cell_type": "markdown",
   "id": "b5823c08-409c-4db6-86ee-23ab5b4c3e02",
   "metadata": {},
   "source": [
    "模型参数的不确定性是机器学习经常遇到的问题。一般情况\n",
    "下，Scikit-Learn 不会为用户提供直接从模型参数获得结论的工\n",
    "具；与其将模型参数解释为机器学习问题，不如说它更像统计建模\n",
    "问题。机器学习的重点并不是模型的预见性。如果你想要对模型拟\n",
    "合参数的意义和其他相关参数分析工具有更深入的理解，请参考\n",
    "StatsModels Python 程序包（http://statsmodels.sourceforge.net/）。"
   ]
  },
  {
   "cell_type": "markdown",
   "id": "533ca687-7fcd-4fb0-93f8-7a65ed109b8a",
   "metadata": {},
   "source": [
    "(5) 预测新数据的标签\n",
    "模型训练出来之后，有监督机器学习的主要任务就变成了对不\n",
    "属于训练集的新数据进行预测。在 Scikit-Learn 中，我们用\n",
    "predict() 方法进行预测。“新数据”是特征矩阵的 x 坐标值，我们\n",
    "需要用模型预测出目标数组的 y 轴坐标："
   ]
  },
  {
   "cell_type": "code",
   "execution_count": 29,
   "id": "d488755c-53c6-4aba-8683-05b619ef0f5d",
   "metadata": {},
   "outputs": [],
   "source": [
    "xfit = np.linspace(-1,11)"
   ]
  },
  {
   "cell_type": "markdown",
   "id": "86f6852f-4c56-47ad-a3a2-6b7d3a33d8d5",
   "metadata": {},
   "source": [
    "首先，将这些 x 值转换成 [n_samples, n_features] 的特征\n",
    "矩阵形式，之后将其输入到模型中："
   ]
  },
  {
   "cell_type": "code",
   "execution_count": 30,
   "id": "035f6263-dae7-494d-beee-95a284c9ce58",
   "metadata": {},
   "outputs": [],
   "source": [
    "Xfit = xfit[:,np.newaxis]\n",
    "yfit = model.predict(Xfit) #调用前面fit好的model对Xfit的数据进行预测其对应的yfit"
   ]
  },
  {
   "cell_type": "markdown",
   "id": "a463a5b1-7e75-40b5-a371-2011cf1815aa",
   "metadata": {},
   "source": [
    "最后，把原始数据和拟合结果都可视化出来（如图 5-15 所\n",
    "示）：\n"
   ]
  },
  {
   "cell_type": "code",
   "execution_count": 31,
   "id": "e9e66565-109a-4e0f-af8e-307970201fb8",
   "metadata": {},
   "outputs": [
    {
     "data": {
      "image/png": "[encoded data removed]",
      "text/plain": [
       "<Figure size 640x480 with 1 Axes>"
      ]
     },
     "metadata": {},
     "output_type": "display_data"
    }
   ],
   "source": [
    "plt.scatter(x, y)\n",
    "plt.plot(xfit, yfit);"
   ]
  },
  {
   "cell_type": "markdown",
   "id": "cb12e6b0-35fc-4842-b39d-748b4a2b6b81",
   "metadata": {},
   "source": [
    "<p class='atcenter'>图 5-15：一个简单的线性回归数据结果</p>"
   ]
  },
  {
   "cell_type": "markdown",
   "id": "9f6aa481-02d4-4f6b-b4c9-a8581bf20396",
   "metadata": {},
   "source": [
    "通常都是用一些基准指标来验证模型的学习效果，我们将在下\n",
    "面的示例中介绍这些指标。"
   ]
  },
  {
   "cell_type": "markdown",
   "id": "6ad7de81-335d-403d-8417-f4f2e8946504",
   "metadata": {},
   "source": [
    "03. 有监督学习示例：鸢尾花数据分类               \n",
    "再介绍一个有监督学习示例，还是用前面介绍过的鸢尾花数据集。\n",
    "这个示例的问题是：如何为鸢尾花数据集建立模型，先用一部分数\n",
    "据进行训练，再用模型预测出其他样本的标签？           \n",
    "我们将使用非常简单的高斯朴素贝叶斯（Gaussian naive Bayes）方\n",
    "法完成这个任务，这个方法假设每个特征中属于每一类的观测值都\n",
    "符合高斯分布（详情请参见 5.5 节）。因为高斯朴素贝叶斯方法速\n",
    "度很快，而且不需要选择超参数，所以通常很适合作为初步分类手\n",
    "段，在借助更复杂的模型进行优化之前使用。                      \n",
    "由于需要用模型之前没有接触过的数据评估它的训练效果，因此得\n",
    "先将数据分割成训练集（training set）和测试集（testing set）。虽\n",
    "然完全可以手动实现分割数据集，但是借助 train_test_split\n",
    "函数会更方便：\n"
   ]
  },
  {
   "cell_type": "code",
   "execution_count": 32,
   "id": "10dbcdf1-c55b-44bf-9e81-0a57f83c8f4e",
   "metadata": {
    "editable": true,
    "slideshow": {
     "slide_type": ""
    },
    "tags": []
   },
   "outputs": [],
   "source": [
    "from sklearn.model_selection import train_test_split  \n",
    "#引入交叉验证中的训练集测试集划分\n",
    "Xtrain, Xtest, ytrain, ytest = train_test_split(X_iris, y_iris,\n",
    "random_state=1)"
   ]
  },
  {
   "cell_type": "code",
   "execution_count": 33,
   "id": "84abb02d-4863-48bf-84d1-14e65884f54b",
   "metadata": {},
   "outputs": [
    {
     "data": {
      "text/plain": [
       "(112, 4)"
      ]
     },
     "execution_count": 33,
     "metadata": {},
     "output_type": "execute_result"
    }
   ],
   "source": [
    "Xtrain.shape #可以看到已经帮我们转换成112行（samples）\n",
    "# 4列(features)的二维特征矩阵了"
   ]
  },
  {
   "cell_type": "code",
   "execution_count": 34,
   "id": "f239cee7-5dce-449c-a420-ec6545ffe0aa",
   "metadata": {},
   "outputs": [
    {
     "data": {
      "text/plain": [
       "(112,)"
      ]
     },
     "execution_count": 34,
     "metadata": {},
     "output_type": "execute_result"
    }
   ],
   "source": [
    "ytrain.shape #目标"
   ]
  },
  {
   "cell_type": "markdown",
   "id": "f106c183-29d4-4645-a0a1-c7c44472f790",
   "metadata": {},
   "source": [
    "整理好数据之后，用下面的模型来预测标签："
   ]
  },
  {
   "cell_type": "code",
   "execution_count": 35,
   "id": "2c40e496-b09c-4518-9832-fd284e366e18",
   "metadata": {},
   "outputs": [],
   "source": [
    "from sklearn.naive_bayes import GaussianNB # 1.选择模型类\n",
    "model = GaussianNB() # 2.初始化模型\n",
    "model.fit(Xtrain, ytrain) # 3.用模型拟合数据\n",
    "y_model = model.predict(Xtest) # 4.对新数据进行预测"
   ]
  },
  {
   "cell_type": "markdown",
   "id": "29b85179-f617-4bea-80ea-e58f0a0202eb",
   "metadata": {},
   "source": [
    "最后，用 accuracy_score 工具验证模型预测结果的准确率（预测\n",
    "的所有结果中，正确结果占总预测样本数的比例）："
   ]
  },
  {
   "cell_type": "code",
   "execution_count": 36,
   "id": "02359606-6172-42b4-ae71-fe22b080ded1",
   "metadata": {},
   "outputs": [
    {
     "data": {
      "text/plain": [
       "0.9736842105263158"
      ]
     },
     "execution_count": 36,
     "metadata": {},
     "output_type": "execute_result"
    }
   ],
   "source": [
    "from sklearn.metrics import accuracy_score\n",
    "accuracy_score(ytest, y_model)"
   ]
  },
  {
   "cell_type": "markdown",
   "id": "c65a7b9c-506d-48b2-9d12-9cb690573cb2",
   "metadata": {},
   "source": [
    "准确率竟然高达 97%，看来即使是非常简单的分类算法也可以有效\n",
    "地学习这个数据集！"
   ]
  },
  {
   "cell_type": "markdown",
   "id": "500ce875-2701-4974-a7fe-006fa24799f8",
   "metadata": {},
   "source": [
    "04. 无监督学习示例：鸢尾花数据降维          \n",
    "本节将介绍一个无监督学习问题——对鸢尾花数据集进行降维，以\n",
    "便能更方便地对数据进行可视化。前面介绍过，鸢尾花数据集由四\n",
    "个维度构成，即每个样本都有四个维度。        \n",
    "降维的任务是要找到一个可以保留数据本质特征的低维矩阵来表示\n",
    "高维数据。降维通常用于辅助数据可视化的工作，毕竟用二维数据\n",
    "画图比用四维甚至更高维的数据画图更方便！             \n",
    "下面将使用主成分分析（principal component analysis，PCA，详情\n",
    "请参见 5.9 节）方法，这是一种快速线性降维技术。我们将用模型\n",
    "返回两个主成分，也就是用二维数据表示鸢尾花的四维数据。\n",
    "同样按照前面介绍过的建模步骤进行：       "
   ]
  },
  {
   "cell_type": "code",
   "execution_count": 37,
   "id": "fe818747-018e-4e26-902d-515b9ce487c2",
   "metadata": {},
   "outputs": [],
   "source": [
    "from sklearn.decomposition import PCA # 1.选择模型类\n",
    "model = PCA(n_components=2) # 2.设置超参数，初始化模型\n",
    "model.fit(X_iris) # 3.拟合数据，注意这里不用y变量!!!!!\n",
    "X_2D = model.transform(X_iris) # 4. 将数据转换为二维,本来它是个一维的"
   ]
  },
  {
   "cell_type": "markdown",
   "id": "82d9d58f-e79f-418a-aa2f-19dc53740803",
   "metadata": {},
   "source": [
    "现在来画出结果。快速处理方法就是先将二维数据插入到鸢尾花的\n",
    "DataFrame 中，然后用 Seaborn 的 lmplot 方法画图（如图 5-16 所\n",
    "示）："
   ]
  },
  {
   "cell_type": "code",
   "execution_count": 38,
   "id": "078d408b-0b86-4c8e-b382-70760916f907",
   "metadata": {},
   "outputs": [
    {
     "data": {
      "image/png": "[encoded data removed]",
      "text/plain": [
       "<Figure size 620.625x500 with 1 Axes>"
      ]
     },
     "metadata": {},
     "output_type": "display_data"
    }
   ],
   "source": [
    "iris['PCA1'] = X_2D[:, 0] #第一个维度列，行(sample)全取,feature取第0列\n",
    "iris['PCA2'] = X_2D[:, 1] #第二个维度列，同上取法\n",
    "sns.lmplot(data=iris,x=\"PCA1\", y=\"PCA2\", hue='species',fit_reg=False);"
   ]
  },
  {
   "cell_type": "markdown",
   "id": "c02384b2-acf2-4ae2-b451-65546653837f",
   "metadata": {},
   "source": [
    "<p class='atcenter'>图 5-16：鸢尾花数据的二维投影</p>"
   ]
  },
  {
   "cell_type": "code",
   "execution_count": 39,
   "id": "71f40eae-e4b3-4c1c-bd2d-1abdef0bb977",
   "metadata": {},
   "outputs": [
    {
     "data": {
      "text/plain": [
       "\u001b[1;31mSignature:\u001b[0m\n",
       "\u001b[0msns\u001b[0m\u001b[1;33m.\u001b[0m\u001b[0mlmplot\u001b[0m\u001b[1;33m(\u001b[0m\u001b[1;33m\n",
       "\u001b[0m    \u001b[0mdata\u001b[0m\u001b[1;33m,\u001b[0m\u001b[1;33m\n",
       "\u001b[0m    \u001b[1;33m*\u001b[0m\u001b[1;33m,\u001b[0m\u001b[1;33m\n",
       "\u001b[0m    \u001b[0mx\u001b[0m\u001b[1;33m=\u001b[0m\u001b[1;32mNone\u001b[0m\u001b[1;33m,\u001b[0m\u001b[1;33m\n",
       "\u001b[0m    \u001b[0my\u001b[0m\u001b[1;33m=\u001b[0m\u001b[1;32mNone\u001b[0m\u001b[1;33m,\u001b[0m\u001b[1;33m\n",
       "\u001b[0m    \u001b[0mhue\u001b[0m\u001b[1;33m=\u001b[0m\u001b[1;32mNone\u001b[0m\u001b[1;33m,\u001b[0m\u001b[1;33m\n",
       "\u001b[0m    \u001b[0mcol\u001b[0m\u001b[1;33m=\u001b[0m\u001b[1;32mNone\u001b[0m\u001b[1;33m,\u001b[0m\u001b[1;33m\n",
       "\u001b[0m    \u001b[0mrow\u001b[0m\u001b[1;33m=\u001b[0m\u001b[1;32mNone\u001b[0m\u001b[1;33m,\u001b[0m\u001b[1;33m\n",
       "\u001b[0m    \u001b[0mpalette\u001b[0m\u001b[1;33m=\u001b[0m\u001b[1;32mNone\u001b[0m\u001b[1;33m,\u001b[0m\u001b[1;33m\n",
       "\u001b[0m    \u001b[0mcol_wrap\u001b[0m\u001b[1;33m=\u001b[0m\u001b[1;32mNone\u001b[0m\u001b[1;33m,\u001b[0m\u001b[1;33m\n",
       "\u001b[0m    \u001b[0mheight\u001b[0m\u001b[1;33m=\u001b[0m\u001b[1;36m5\u001b[0m\u001b[1;33m,\u001b[0m\u001b[1;33m\n",
       "\u001b[0m    \u001b[0maspect\u001b[0m\u001b[1;33m=\u001b[0m\u001b[1;36m1\u001b[0m\u001b[1;33m,\u001b[0m\u001b[1;33m\n",
       "\u001b[0m    \u001b[0mmarkers\u001b[0m\u001b[1;33m=\u001b[0m\u001b[1;34m'o'\u001b[0m\u001b[1;33m,\u001b[0m\u001b[1;33m\n",
       "\u001b[0m    \u001b[0msharex\u001b[0m\u001b[1;33m=\u001b[0m\u001b[1;32mNone\u001b[0m\u001b[1;33m,\u001b[0m\u001b[1;33m\n",
       "\u001b[0m    \u001b[0msharey\u001b[0m\u001b[1;33m=\u001b[0m\u001b[1;32mNone\u001b[0m\u001b[1;33m,\u001b[0m\u001b[1;33m\n",
       "\u001b[0m    \u001b[0mhue_order\u001b[0m\u001b[1;33m=\u001b[0m\u001b[1;32mNone\u001b[0m\u001b[1;33m,\u001b[0m\u001b[1;33m\n",
       "\u001b[0m    \u001b[0mcol_order\u001b[0m\u001b[1;33m=\u001b[0m\u001b[1;32mNone\u001b[0m\u001b[1;33m,\u001b[0m\u001b[1;33m\n",
       "\u001b[0m    \u001b[0mrow_order\u001b[0m\u001b[1;33m=\u001b[0m\u001b[1;32mNone\u001b[0m\u001b[1;33m,\u001b[0m\u001b[1;33m\n",
       "\u001b[0m    \u001b[0mlegend\u001b[0m\u001b[1;33m=\u001b[0m\u001b[1;32mTrue\u001b[0m\u001b[1;33m,\u001b[0m\u001b[1;33m\n",
       "\u001b[0m    \u001b[0mlegend_out\u001b[0m\u001b[1;33m=\u001b[0m\u001b[1;32mNone\u001b[0m\u001b[1;33m,\u001b[0m\u001b[1;33m\n",
       "\u001b[0m    \u001b[0mx_estimator\u001b[0m\u001b[1;33m=\u001b[0m\u001b[1;32mNone\u001b[0m\u001b[1;33m,\u001b[0m\u001b[1;33m\n",
       "\u001b[0m    \u001b[0mx_bins\u001b[0m\u001b[1;33m=\u001b[0m\u001b[1;32mNone\u001b[0m\u001b[1;33m,\u001b[0m\u001b[1;33m\n",
       "\u001b[0m    \u001b[0mx_ci\u001b[0m\u001b[1;33m=\u001b[0m\u001b[1;34m'ci'\u001b[0m\u001b[1;33m,\u001b[0m\u001b[1;33m\n",
       "\u001b[0m    \u001b[0mscatter\u001b[0m\u001b[1;33m=\u001b[0m\u001b[1;32mTrue\u001b[0m\u001b[1;33m,\u001b[0m\u001b[1;33m\n",
       "\u001b[0m    \u001b[0mfit_reg\u001b[0m\u001b[1;33m=\u001b[0m\u001b[1;32mTrue\u001b[0m\u001b[1;33m,\u001b[0m\u001b[1;33m\n",
       "\u001b[0m    \u001b[0mci\u001b[0m\u001b[1;33m=\u001b[0m\u001b[1;36m95\u001b[0m\u001b[1;33m,\u001b[0m\u001b[1;33m\n",
       "\u001b[0m    \u001b[0mn_boot\u001b[0m\u001b[1;33m=\u001b[0m\u001b[1;36m1000\u001b[0m\u001b[1;33m,\u001b[0m\u001b[1;33m\n",
       "\u001b[0m    \u001b[0munits\u001b[0m\u001b[1;33m=\u001b[0m\u001b[1;32mNone\u001b[0m\u001b[1;33m,\u001b[0m\u001b[1;33m\n",
       "\u001b[0m    \u001b[0mseed\u001b[0m\u001b[1;33m=\u001b[0m\u001b[1;32mNone\u001b[0m\u001b[1;33m,\u001b[0m\u001b[1;33m\n",
       "\u001b[0m    \u001b[0morder\u001b[0m\u001b[1;33m=\u001b[0m\u001b[1;36m1\u001b[0m\u001b[1;33m,\u001b[0m\u001b[1;33m\n",
       "\u001b[0m    \u001b[0mlogistic\u001b[0m\u001b[1;33m=\u001b[0m\u001b[1;32mFalse\u001b[0m\u001b[1;33m,\u001b[0m\u001b[1;33m\n",
       "\u001b[0m    \u001b[0mlowess\u001b[0m\u001b[1;33m=\u001b[0m\u001b[1;32mFalse\u001b[0m\u001b[1;33m,\u001b[0m\u001b[1;33m\n",
       "\u001b[0m    \u001b[0mrobust\u001b[0m\u001b[1;33m=\u001b[0m\u001b[1;32mFalse\u001b[0m\u001b[1;33m,\u001b[0m\u001b[1;33m\n",
       "\u001b[0m    \u001b[0mlogx\u001b[0m\u001b[1;33m=\u001b[0m\u001b[1;32mFalse\u001b[0m\u001b[1;33m,\u001b[0m\u001b[1;33m\n",
       "\u001b[0m    \u001b[0mx_partial\u001b[0m\u001b[1;33m=\u001b[0m\u001b[1;32mNone\u001b[0m\u001b[1;33m,\u001b[0m\u001b[1;33m\n",
       "\u001b[0m    \u001b[0my_partial\u001b[0m\u001b[1;33m=\u001b[0m\u001b[1;32mNone\u001b[0m\u001b[1;33m,\u001b[0m\u001b[1;33m\n",
       "\u001b[0m    \u001b[0mtruncate\u001b[0m\u001b[1;33m=\u001b[0m\u001b[1;32mTrue\u001b[0m\u001b[1;33m,\u001b[0m\u001b[1;33m\n",
       "\u001b[0m    \u001b[0mx_jitter\u001b[0m\u001b[1;33m=\u001b[0m\u001b[1;32mNone\u001b[0m\u001b[1;33m,\u001b[0m\u001b[1;33m\n",
       "\u001b[0m    \u001b[0my_jitter\u001b[0m\u001b[1;33m=\u001b[0m\u001b[1;32mNone\u001b[0m\u001b[1;33m,\u001b[0m\u001b[1;33m\n",
       "\u001b[0m    \u001b[0mscatter_kws\u001b[0m\u001b[1;33m=\u001b[0m\u001b[1;32mNone\u001b[0m\u001b[1;33m,\u001b[0m\u001b[1;33m\n",
       "\u001b[0m    \u001b[0mline_kws\u001b[0m\u001b[1;33m=\u001b[0m\u001b[1;32mNone\u001b[0m\u001b[1;33m,\u001b[0m\u001b[1;33m\n",
       "\u001b[0m    \u001b[0mfacet_kws\u001b[0m\u001b[1;33m=\u001b[0m\u001b[1;32mNone\u001b[0m\u001b[1;33m,\u001b[0m\u001b[1;33m\n",
       "\u001b[0m\u001b[1;33m)\u001b[0m\u001b[1;33m\u001b[0m\u001b[1;33m\u001b[0m\u001b[0m\n",
       "\u001b[1;31mDocstring:\u001b[0m\n",
       "Plot data and regression model fits across a FacetGrid.\n",
       "\n",
       "This function combines :func:`regplot` and :class:`FacetGrid`. It is\n",
       "intended as a convenient interface to fit regression models across\n",
       "conditional subsets of a dataset.\n",
       "\n",
       "When thinking about how to assign variables to different facets, a general\n",
       "rule is that it makes sense to use ``hue`` for the most important\n",
       "comparison, followed by ``col`` and ``row``. However, always think about\n",
       "your particular dataset and the goals of the visualization you are\n",
       "creating.\n",
       "\n",
       "There are a number of mutually exclusive options for estimating the\n",
       "regression model. See the :ref:`tutorial <regression_tutorial>` for more\n",
       "information.    \n",
       "\n",
       "The parameters to this function span most of the options in\n",
       ":class:`FacetGrid`, although there may be occasional cases where you will\n",
       "want to use that class and :func:`regplot` directly.\n",
       "\n",
       "Parameters\n",
       "----------\n",
       "data : DataFrame\n",
       "    Tidy (\"long-form\") dataframe where each column is a variable and each\n",
       "    row is an observation.    \n",
       "x, y : strings, optional\n",
       "    Input variables; these should be column names in ``data``.\n",
       "hue, col, row : strings\n",
       "    Variables that define subsets of the data, which will be drawn on\n",
       "    separate facets in the grid. See the ``*_order`` parameters to control\n",
       "    the order of levels of this variable.\n",
       "palette : palette name, list, or dict\n",
       "    Colors to use for the different levels of the ``hue`` variable. Should\n",
       "    be something that can be interpreted by :func:`color_palette`, or a\n",
       "    dictionary mapping hue levels to matplotlib colors.    \n",
       "col_wrap : int\n",
       "    \"Wrap\" the column variable at this width, so that the column facets\n",
       "    span multiple rows. Incompatible with a ``row`` facet.    \n",
       "height : scalar\n",
       "    Height (in inches) of each facet. See also: ``aspect``.    \n",
       "aspect : scalar\n",
       "    Aspect ratio of each facet, so that ``aspect * height`` gives the width\n",
       "    of each facet in inches.    \n",
       "markers : matplotlib marker code or list of marker codes, optional\n",
       "    Markers for the scatterplot. If a list, each marker in the list will be\n",
       "    used for each level of the ``hue`` variable.\n",
       "share{x,y} : bool, 'col', or 'row' optional\n",
       "    If true, the facets will share y axes across columns and/or x axes\n",
       "    across rows.    \n",
       "\n",
       "    .. deprecated:: 0.12.0\n",
       "        Pass using the `facet_kws` dictionary.\n",
       "\n",
       "{hue,col,row}_order : lists, optional\n",
       "    Order for the levels of the faceting variables. By default, this will\n",
       "    be the order that the levels appear in ``data`` or, if the variables\n",
       "    are pandas categoricals, the category order.\n",
       "legend : bool, optional\n",
       "    If ``True`` and there is a ``hue`` variable, add a legend.\n",
       "legend_out : bool\n",
       "    If ``True``, the figure size will be extended, and the legend will be\n",
       "    drawn outside the plot on the center right.    \n",
       "\n",
       "    .. deprecated:: 0.12.0\n",
       "        Pass using the `facet_kws` dictionary.\n",
       "\n",
       "x_estimator : callable that maps vector -> scalar, optional\n",
       "    Apply this function to each unique value of ``x`` and plot the\n",
       "    resulting estimate. This is useful when ``x`` is a discrete variable.\n",
       "    If ``x_ci`` is given, this estimate will be bootstrapped and a\n",
       "    confidence interval will be drawn.    \n",
       "x_bins : int or vector, optional\n",
       "    Bin the ``x`` variable into discrete bins and then estimate the central\n",
       "    tendency and a confidence interval. This binning only influences how\n",
       "    the scatterplot is drawn; the regression is still fit to the original\n",
       "    data.  This parameter is interpreted either as the number of\n",
       "    evenly-sized (not necessary spaced) bins or the positions of the bin\n",
       "    centers. When this parameter is used, it implies that the default of\n",
       "    ``x_estimator`` is ``numpy.mean``.    \n",
       "x_ci : \"ci\", \"sd\", int in [0, 100] or None, optional\n",
       "    Size of the confidence interval used when plotting a central tendency\n",
       "    for discrete values of ``x``. If ``\"ci\"``, defer to the value of the\n",
       "    ``ci`` parameter. If ``\"sd\"``, skip bootstrapping and show the\n",
       "    standard deviation of the observations in each bin.    \n",
       "scatter : bool, optional\n",
       "    If ``True``, draw a scatterplot with the underlying observations (or\n",
       "    the ``x_estimator`` values).    \n",
       "fit_reg : bool, optional\n",
       "    If ``True``, estimate and plot a regression model relating the ``x``\n",
       "    and ``y`` variables.    \n",
       "ci : int in [0, 100] or None, optional\n",
       "    Size of the confidence interval for the regression estimate. This will\n",
       "    be drawn using translucent bands around the regression line. The\n",
       "    confidence interval is estimated using a bootstrap; for large\n",
       "    datasets, it may be advisable to avoid that computation by setting\n",
       "    this parameter to None.    \n",
       "n_boot : int, optional\n",
       "    Number of bootstrap resamples used to estimate the ``ci``. The default\n",
       "    value attempts to balance time and stability; you may want to increase\n",
       "    this value for \"final\" versions of plots.    \n",
       "units : variable name in ``data``, optional\n",
       "    If the ``x`` and ``y`` observations are nested within sampling units,\n",
       "    those can be specified here. This will be taken into account when\n",
       "    computing the confidence intervals by performing a multilevel bootstrap\n",
       "    that resamples both units and observations (within unit). This does not\n",
       "    otherwise influence how the regression is estimated or drawn.    \n",
       "seed : int, numpy.random.Generator, or numpy.random.RandomState, optional\n",
       "    Seed or random number generator for reproducible bootstrapping.    \n",
       "order : int, optional\n",
       "    If ``order`` is greater than 1, use ``numpy.polyfit`` to estimate a\n",
       "    polynomial regression.    \n",
       "logistic : bool, optional\n",
       "    If ``True``, assume that ``y`` is a binary variable and use\n",
       "    ``statsmodels`` to estimate a logistic regression model. Note that this\n",
       "    is substantially more computationally intensive than linear regression,\n",
       "    so you may wish to decrease the number of bootstrap resamples\n",
       "    (``n_boot``) or set ``ci`` to None.    \n",
       "lowess : bool, optional\n",
       "    If ``True``, use ``statsmodels`` to estimate a nonparametric lowess\n",
       "    model (locally weighted linear regression). Note that confidence\n",
       "    intervals cannot currently be drawn for this kind of model.    \n",
       "robust : bool, optional\n",
       "    If ``True``, use ``statsmodels`` to estimate a robust regression. This\n",
       "    will de-weight outliers. Note that this is substantially more\n",
       "    computationally intensive than standard linear regression, so you may\n",
       "    wish to decrease the number of bootstrap resamples (``n_boot``) or set\n",
       "    ``ci`` to None.    \n",
       "logx : bool, optional\n",
       "    If ``True``, estimate a linear regression of the form y ~ log(x), but\n",
       "    plot the scatterplot and regression model in the input space. Note that\n",
       "    ``x`` must be positive for this to work.    \n",
       "{x,y}_partial : strings in ``data`` or matrices\n",
       "    Confounding variables to regress out of the ``x`` or ``y`` variables\n",
       "    before plotting.    \n",
       "truncate : bool, optional\n",
       "    If ``True``, the regression line is bounded by the data limits. If\n",
       "    ``False``, it extends to the ``x`` axis limits.\n",
       "\n",
       "{x,y}_jitter : floats, optional\n",
       "    Add uniform random noise of this size to either the ``x`` or ``y``\n",
       "    variables. The noise is added to a copy of the data after fitting the\n",
       "    regression, and only influences the look of the scatterplot. This can\n",
       "    be helpful when plotting variables that take discrete values.    \n",
       "{scatter,line}_kws : dictionaries\n",
       "    Additional keyword arguments to pass to ``plt.scatter`` and\n",
       "    ``plt.plot``.    \n",
       "facet_kws : dict\n",
       "    Dictionary of keyword arguments for :class:`FacetGrid`.\n",
       "\n",
       "See Also\n",
       "--------\n",
       "regplot : Plot data and a conditional model fit.\n",
       "FacetGrid : Subplot grid for plotting conditional relationships.\n",
       "pairplot : Combine :func:`regplot` and :class:`PairGrid` (when used with\n",
       "           ``kind=\"reg\"``).\n",
       "\n",
       "Notes\n",
       "-----\n",
       "\n",
       "The :func:`regplot` and :func:`lmplot` functions are closely related, but\n",
       "the former is an axes-level function while the latter is a figure-level\n",
       "function that combines :func:`regplot` and :class:`FacetGrid`.    \n",
       "\n",
       "Examples\n",
       "--------\n",
       "\n",
       ".. include:: ../docstrings/lmplot.rst\n",
       "\u001b[1;31mFile:\u001b[0m      d:\\venvs\\ai\\lib\\site-packages\\seaborn\\regression.py\n",
       "\u001b[1;31mType:\u001b[0m      function"
      ]
     },
     "metadata": {},
     "output_type": "display_data"
    }
   ],
   "source": [
    "sns.lmplot?"
   ]
  },
  {
   "cell_type": "markdown",
   "id": "1adbfd13-50d7-4a01-938a-6f4f2ec80c89",
   "metadata": {},
   "source": [
    "05. 无监督学习示例：鸢尾花数据聚类               \n",
    "再看看如何对鸢尾花数据进行聚类。聚类算法是要对没有任何标签\n",
    "的数据集进行分组。我们将用一个强大的聚类方法——高斯混合模\n",
    "型（Gaussian mixture model，GMM），具体细节将在 5.12 节中介\n",
    "绍。GMM 模型试图将数据构造成若干服从高斯分布的概率密度函\n",
    "数簇。         \n",
    "用以下方法拟合高斯混合模型："
   ]
  },
  {
   "cell_type": "code",
   "execution_count": 40,
   "id": "a2b5339c-c27d-4702-b6b7-ed6eee259656",
   "metadata": {},
   "outputs": [],
   "source": [
    "from sklearn.mixture import GaussianMixture as GMM # 1.选择模型类\n",
    "model = GMM(n_components=3,covariance_type='full') # 2.设置超参数，初始化模型\n",
    "model.fit(X_iris) # 3.拟合数据，注意不需要y变量\n",
    "y_gmm = model.predict(X_iris) # 4. 确定簇标签"
   ]
  },
  {
   "cell_type": "markdown",
   "id": "36b9627a-98ab-4f27-9856-add19d29644b",
   "metadata": {},
   "source": [
    "和之前一样，将簇标签添加到鸢尾花的 DataFrame 中，然后用\n",
    "Seaborn 画出结果（如图 5-17 所示）："
   ]
  },
  {
   "cell_type": "code",
   "execution_count": 41,
   "id": "9a46e47e-553f-42b2-bea0-eefaf9f0244f",
   "metadata": {},
   "outputs": [
    {
     "data": {
      "text/plain": [
       "<seaborn.axisgrid.FacetGrid at 0x209a9294d50>"
      ]
     },
     "execution_count": 41,
     "metadata": {},
     "output_type": "execute_result"
    },
    {
     "data": {
      "image/png": "[encoded data removed]",
      "text/plain": [
       "<Figure size 1620.62x500 with 3 Axes>"
      ]
     },
     "metadata": {},
     "output_type": "display_data"
    }
   ],
   "source": [
    "iris['cluster'] = y_gmm\n",
    "sns.lmplot(data=iris,x=\"PCA1\", y=\"PCA2\", hue='species',\n",
    "col='cluster', fit_reg=False)"
   ]
  },
  {
   "cell_type": "markdown",
   "id": "0ffec2ed-674c-4840-800a-278a0569626f",
   "metadata": {},
   "source": [
    "<p class='atcenter'>图 5-17：GMM 算法对鸢尾花数据的聚类结果</p>"
   ]
  },
  {
   "cell_type": "markdown",
   "id": "6dab7c3c-231e-4eab-bced-00b37b30f681",
   "metadata": {},
   "source": [
    "### 5.2.3 应用：手写数字探索 "
   ]
  },
  {
   "cell_type": "markdown",
   "id": "9422c17a-1076-423e-8816-f47cd608f455",
   "metadata": {},
   "source": [
    "为了将前面介绍的内容应用到更有趣的问题上，我们来挑战一个光学字\n",
    "符识别问题：手写数字识别。简单点说，这个问题包括图像中字符的定\n",
    "位和识别两部分。为了演示方便，我们选择使用 Scikit-Learn 中自带的\n",
    "手写数字数据集。        \n"
   ]
  },
  {
   "cell_type": "markdown",
   "id": "04617ede-b85d-4cc4-a03b-4bb59c61f199",
   "metadata": {},
   "source": [
    "01. 加载并可视化手写数字  \n",
    "首先用 Scikit-Learn 的数据获取接口加载数据，并简单统计一下："
   ]
  },
  {
   "cell_type": "code",
   "execution_count": 42,
   "id": "0f782332-8887-4748-9a67-3a9a898059a8",
   "metadata": {},
   "outputs": [
    {
     "data": {
      "text/plain": [
       "(1797, 8, 8)"
      ]
     },
     "execution_count": 42,
     "metadata": {},
     "output_type": "execute_result"
    }
   ],
   "source": [
    "from sklearn.datasets import load_digits\n",
    "digits = load_digits()\n",
    "digits.images.shape"
   ]
  },
  {
   "cell_type": "markdown",
   "id": "25d917f8-01c0-4dd8-9d41-bd4ef5d3f7b9",
   "metadata": {},
   "source": [
    "这份图像数据是一个三维矩阵：共有 1797 个样本，每张图像都是\n",
    "8 像素×8 像素。对前 100 张图进行可视化（如图 5-18 所示）："
   ]
  },
  {
   "cell_type": "code",
   "execution_count": 43,
   "id": "baec5708-27cc-473b-9711-716e36d87172",
   "metadata": {},
   "outputs": [
    {
     "data": {
      "image/png": "[encoded data removed]",
      "text/plain": [
       "<Figure size 800x800 with 100 Axes>"
      ]
     },
     "metadata": {},
     "output_type": "display_data"
    }
   ],
   "source": [
    "import matplotlib.pyplot as plt\n",
    "fig, axes = plt.subplots(10, 10, figsize=(8, 8),\n",
    "                            subplot_kw={'xticks':[], 'yticks':[]},\n",
    "                            gridspec_kw=dict(hspace=0.1, wspace=0.1))\n",
    "for i, ax in enumerate(axes.flat):\n",
    "    ax.imshow(digits.images[i], cmap='binary', interpolation='nearest')\n",
    "    ax.text(0.05, 0.05, str(digits.target[i]), \n",
    "            #如果这里不懂可以回看matplotlib第三节\n",
    "        transform=ax.transAxes, color='green')\n"
   ]
  },
  {
   "cell_type": "markdown",
   "id": "afe3ceae-0614-4cf7-b1c0-ad17988abe59",
   "metadata": {},
   "source": [
    "<p class='atcenter'>图 5-18：手写数字数据集，每个样本 8 像素×8 像素</p>"
   ]
  },
  {
   "cell_type": "markdown",
   "id": "46819a2b-8cc7-4053-8de6-3aed509f13cb",
   "metadata": {},
   "source": [
    "为了在 Scikit-Learn 中使用数据，需要一个维度为 [n_samples,\n",
    "n_features] 的二维特征矩阵——可以将每个样本图像的所有像\n",
    "素都作为特征，也就是将每个数字的 8 像素×8 像素平铺成长度为\n",
    "64 的一维数组。另外，还需要一个目标数组，用来表示每个数字\n",
    "的真实值（标签）。这两份数据已经放在手写数字数据集的 data\n",
    "与 target 属性中，直接使用即可："
   ]
  },
  {
   "cell_type": "code",
   "execution_count": 44,
   "id": "99b9fae2-80a7-4b8c-a020-1f4a742a0cd4",
   "metadata": {},
   "outputs": [
    {
     "data": {
      "text/plain": [
       "(1797, 64)"
      ]
     },
     "execution_count": 44,
     "metadata": {},
     "output_type": "execute_result"
    }
   ],
   "source": [
    "X = digits.data\n",
    "X.shape\n"
   ]
  },
  {
   "cell_type": "code",
   "execution_count": 45,
   "id": "d5bae7b0-910e-4060-a81c-3766be2088de",
   "metadata": {},
   "outputs": [
    {
     "data": {
      "text/plain": [
       "(1797,)"
      ]
     },
     "execution_count": 45,
     "metadata": {},
     "output_type": "execute_result"
    }
   ],
   "source": [
    " y = digits.target\n",
    "y.shape"
   ]
  },
  {
   "cell_type": "markdown",
   "id": "53c6cf40-b4f0-42f5-ab7c-9ee1dd7c0ddd",
   "metadata": {},
   "source": [
    "从上面代码可以看出，一共有 1797 个样本(simple)和 64 个特征(feature)。"
   ]
  },
  {
   "cell_type": "markdown",
   "id": "98cd4aab-f262-42c5-a176-dbf0eb543bb0",
   "metadata": {},
   "source": [
    "02. 无监督学习：降维"
   ]
  },
  {
   "cell_type": "markdown",
   "id": "a1ce2483-9646-4815-85a9-4520ebafc498",
   "metadata": {},
   "source": [
    "虽然我们想对具有 64 维参数空间的样本进行可视化，但是在如此\n",
    "高维度的空间中进行可视化十分困难。因此，我们需要借助无监督\n",
    "学习方法将维度降到二维。这次试试流形学习算法中的\n",
    "Isomap（详情请参见 5.10 节）算法对数据进行降维："
   ]
  },
  {
   "cell_type": "code",
   "execution_count": 46,
   "id": "5c5cd446-ab67-46ab-b10f-d1c8d68827a6",
   "metadata": {},
   "outputs": [
    {
     "name": "stderr",
     "output_type": "stream",
     "text": [
      "D:\\venvs\\ai\\Lib\\site-packages\\sklearn\\manifold\\_isomap.py:359: UserWarning: The number of connected components of the neighbors graph is 2 > 1. Completing the graph to fit Isomap might be slow. Increase the number of neighbors to avoid this issue.\n",
      "  self._fit_transform(X)\n",
      "D:\\venvs\\ai\\Lib\\site-packages\\scipy\\sparse\\_index.py:108: SparseEfficiencyWarning: Changing the sparsity structure of a csr_matrix is expensive. lil and dok are more efficient.\n",
      "  self._set_intXint(row, col, x.flat[0])\n"
     ]
    },
    {
     "data": {
      "text/plain": [
       "(1797, 2)"
      ]
     },
     "execution_count": 46,
     "metadata": {},
     "output_type": "execute_result"
    }
   ],
   "source": [
    "from sklearn.manifold import Isomap\n",
    "iso = Isomap(n_components=2) #将64维的数据降低至二维\n",
    "iso.fit(digits.data)\n",
    "data_projected = iso.transform(digits.data)\n",
    "data_projected.shape"
   ]
  },
  {
   "cell_type": "markdown",
   "id": "e0ab2973-dcf3-4132-83c9-23fe705015da",
   "metadata": {},
   "source": [
    "现在数据已经投影到二维。把数据画出来，看看从结构中能发现什\n",
    "么（如图 5-19 所示）："
   ]
  },
  {
   "cell_type": "code",
   "execution_count": 47,
   "id": "12a1b4ea-89b3-45ff-b139-74a5792f363f",
   "metadata": {},
   "outputs": [
    {
     "data": {
      "image/png": "[encoded data removed]",
      "text/plain": [
       "<Figure size 640x480 with 2 Axes>"
      ]
     },
     "metadata": {},
     "output_type": "display_data"
    }
   ],
   "source": [
    "# plt.style.use('ggplot')\n",
    "plt.scatter(data_projected[:, 0], data_projected[:, 1],\\\n",
    "            c=digits.target, #指定c是digits中的目标数组\n",
    "edgecolor='none', alpha=0.5,\n",
    "cmap=plt.get_cmap('jet', 10))\n",
    "plt.colorbar(label='digit label', ticks=range(10))\n",
    "plt.clim(-0.5, 9.5); #设置colorbar色彩区间"
   ]
  },
  {
   "cell_type": "markdown",
   "id": "1a28e238-5aca-4447-8a22-958aefbd0baa",
   "metadata": {},
   "source": [
    "<p class='atcenter'>图 5-19：经 Isomap 算法处理后的手写数字</p>"
   ]
  },
  {
   "cell_type": "markdown",
   "id": "ebf56d52-10eb-4852-b439-9d84870e154a",
   "metadata": {},
   "source": [
    "这幅图呈现出了非常直观的效果，让我们知道数字在 64 维空间中\n",
    "的分离（可识别）程度。例如，在参数空间中，数字 0（黑色）和\n",
    "数字 1（紫色）基本不会重叠。根据常识也是如此：数字 0 是中间\n",
    "一片空白，而数字 1 是中间一片黑。另外，从图中会发现，数字 1\n",
    "和数字 4 好像有点儿混淆——也许是有些人写数字 1 的时候喜欢在\n",
    "上面加个“帽子”，因此看起来就像是数字 4。        \n",
    "虽然有些瑕疵，但从总体上看，各个数字在参数空间中的分离程度\n",
    "还是令人满意的。这其实告诉我们：用一个非常简单的有监督分类\n",
    "算法就可以完成任务。下面来演示一下。"
   ]
  },
  {
   "cell_type": "markdown",
   "id": "44d3bab8-47e7-43ad-9f64-5ce2c541d672",
   "metadata": {},
   "source": [
    "03. 数字分类        \n",
    "我们需要找到一个分类算法，对手写数字进行分类。和前面学习鸢\n",
    "尾花数据一样，先将数据分成训练集和测试集，然后用高斯朴素贝\n",
    "叶斯模型来拟合："
   ]
  },
  {
   "cell_type": "code",
   "execution_count": 48,
   "id": "53fd99b4-ce52-42bc-bb2d-254c494cb934",
   "metadata": {},
   "outputs": [],
   "source": [
    "Xtrain, Xtest, ytrain, ytest = train_test_split(X, y, random_state=0)"
   ]
  },
  {
   "cell_type": "code",
   "execution_count": 49,
   "id": "17873b4a-782c-4c2e-85aa-c7f87318392e",
   "metadata": {},
   "outputs": [],
   "source": [
    "from sklearn.naive_bayes import GaussianNB\n",
    "model = GaussianNB()\n",
    "model.fit(Xtrain, ytrain) #注意这里又回到有监督学习中的分类问题了\n",
    "# 所以这里既要写特征矩阵又要写目标向量\n",
    "y_model = model.predict(Xtest)"
   ]
  },
  {
   "cell_type": "code",
   "execution_count": 50,
   "id": "5455cd15-afc7-425b-a761-a6342967f5ad",
   "metadata": {},
   "outputs": [
    {
     "data": {
      "text/html": [
       "<style>#sk-container-id-3 {\n",
       "  /* Definition of color scheme common for light and dark mode */\n",
       "  --sklearn-color-text: black;\n",
       "  --sklearn-color-line: gray;\n",
       "  /* Definition of color scheme for unfitted estimators */\n",
       "  --sklearn-color-unfitted-level-0: #fff5e6;\n",
       "  --sklearn-color-unfitted-level-1: #f6e4d2;\n",
       "  --sklearn-color-unfitted-level-2: #ffe0b3;\n",
       "  --sklearn-color-unfitted-level-3: chocolate;\n",
       "  /* Definition of color scheme for fitted estimators */\n",
       "  --sklearn-color-fitted-level-0: #f0f8ff;\n",
       "  --sklearn-color-fitted-level-1: #d4ebff;\n",
       "  --sklearn-color-fitted-level-2: #b3dbfd;\n",
       "  --sklearn-color-fitted-level-3: cornflowerblue;\n",
       "\n",
       "  /* Specific color for light theme */\n",
       "  --sklearn-color-text-on-default-background: var(--sg-text-color, var(--theme-code-foreground, var(--jp-content-font-color1, black)));\n",
       "  --sklearn-color-background: var(--sg-background-color, var(--theme-background, var(--jp-layout-color0, white)));\n",
       "  --sklearn-color-border-box: var(--sg-text-color, var(--theme-code-foreground, var(--jp-content-font-color1, black)));\n",
       "  --sklearn-color-icon: #696969;\n",
       "\n",
       "  @media (prefers-color-scheme: dark) {\n",
       "    /* Redefinition of color scheme for dark theme */\n",
       "    --sklearn-color-text-on-default-background: var(--sg-text-color, var(--theme-code-foreground, var(--jp-content-font-color1, white)));\n",
       "    --sklearn-color-background: var(--sg-background-color, var(--theme-background, var(--jp-layout-color0, #111)));\n",
       "    --sklearn-color-border-box: var(--sg-text-color, var(--theme-code-foreground, var(--jp-content-font-color1, white)));\n",
       "    --sklearn-color-icon: #878787;\n",
       "  }\n",
       "}\n",
       "\n",
       "#sk-container-id-3 {\n",
       "  color: var(--sklearn-color-text);\n",
       "}\n",
       "\n",
       "#sk-container-id-3 pre {\n",
       "  padding: 0;\n",
       "}\n",
       "\n",
       "#sk-container-id-3 input.sk-hidden--visually {\n",
       "  border: 0;\n",
       "  clip: rect(1px 1px 1px 1px);\n",
       "  clip: rect(1px, 1px, 1px, 1px);\n",
       "  height: 1px;\n",
       "  margin: -1px;\n",
       "  overflow: hidden;\n",
       "  padding: 0;\n",
       "  position: absolute;\n",
       "  width: 1px;\n",
       "}\n",
       "\n",
       "#sk-container-id-3 div.sk-dashed-wrapped {\n",
       "  border: 1px dashed var(--sklearn-color-line);\n",
       "  margin: 0 0.4em 0.5em 0.4em;\n",
       "  box-sizing: border-box;\n",
       "  padding-bottom: 0.4em;\n",
       "  background-color: var(--sklearn-color-background);\n",
       "}\n",
       "\n",
       "#sk-container-id-3 div.sk-container {\n",
       "  /* jupyter's `normalize.less` sets `[hidden] { display: none; }`\n",
       "     but bootstrap.min.css set `[hidden] { display: none !important; }`\n",
       "     so we also need the `!important` here to be able to override the\n",
       "     default hidden behavior on the sphinx rendered scikit-learn.org.\n",
       "     See: https://github.com/scikit-learn/scikit-learn/issues/21755 */\n",
       "  display: inline-block !important;\n",
       "  position: relative;\n",
       "}\n",
       "\n",
       "#sk-container-id-3 div.sk-text-repr-fallback {\n",
       "  display: none;\n",
       "}\n",
       "\n",
       "div.sk-parallel-item,\n",
       "div.sk-serial,\n",
       "div.sk-item {\n",
       "  /* draw centered vertical line to link estimators */\n",
       "  background-image: linear-gradient(var(--sklearn-color-text-on-default-background), var(--sklearn-color-text-on-default-background));\n",
       "  background-size: 2px 100%;\n",
       "  background-repeat: no-repeat;\n",
       "  background-position: center center;\n",
       "}\n",
       "\n",
       "/* Parallel-specific style estimator block */\n",
       "\n",
       "#sk-container-id-3 div.sk-parallel-item::after {\n",
       "  content: \"\";\n",
       "  width: 100%;\n",
       "  border-bottom: 2px solid var(--sklearn-color-text-on-default-background);\n",
       "  flex-grow: 1;\n",
       "}\n",
       "\n",
       "#sk-container-id-3 div.sk-parallel {\n",
       "  display: flex;\n",
       "  align-items: stretch;\n",
       "  justify-content: center;\n",
       "  background-color: var(--sklearn-color-background);\n",
       "  position: relative;\n",
       "}\n",
       "\n",
       "#sk-container-id-3 div.sk-parallel-item {\n",
       "  display: flex;\n",
       "  flex-direction: column;\n",
       "}\n",
       "\n",
       "#sk-container-id-3 div.sk-parallel-item:first-child::after {\n",
       "  align-self: flex-end;\n",
       "  width: 50%;\n",
       "}\n",
       "\n",
       "#sk-container-id-3 div.sk-parallel-item:last-child::after {\n",
       "  align-self: flex-start;\n",
       "  width: 50%;\n",
       "}\n",
       "\n",
       "#sk-container-id-3 div.sk-parallel-item:only-child::after {\n",
       "  width: 0;\n",
       "}\n",
       "\n",
       "/* Serial-specific style estimator block */\n",
       "\n",
       "#sk-container-id-3 div.sk-serial {\n",
       "  display: flex;\n",
       "  flex-direction: column;\n",
       "  align-items: center;\n",
       "  background-color: var(--sklearn-color-background);\n",
       "  padding-right: 1em;\n",
       "  padding-left: 1em;\n",
       "}\n",
       "\n",
       "\n",
       "/* Toggleable style: style used for estimator/Pipeline/ColumnTransformer box that is\n",
       "clickable and can be expanded/collapsed.\n",
       "- Pipeline and ColumnTransformer use this feature and define the default style\n",
       "- Estimators will overwrite some part of the style using the `sk-estimator` class\n",
       "*/\n",
       "\n",
       "/* Pipeline and ColumnTransformer style (default) */\n",
       "\n",
       "#sk-container-id-3 div.sk-toggleable {\n",
       "  /* Default theme specific background. It is overwritten whether we have a\n",
       "  specific estimator or a Pipeline/ColumnTransformer */\n",
       "  background-color: var(--sklearn-color-background);\n",
       "}\n",
       "\n",
       "/* Toggleable label */\n",
       "#sk-container-id-3 label.sk-toggleable__label {\n",
       "  cursor: pointer;\n",
       "  display: block;\n",
       "  width: 100%;\n",
       "  margin-bottom: 0;\n",
       "  padding: 0.5em;\n",
       "  box-sizing: border-box;\n",
       "  text-align: center;\n",
       "}\n",
       "\n",
       "#sk-container-id-3 label.sk-toggleable__label-arrow:before {\n",
       "  /* Arrow on the left of the label */\n",
       "  content: \"▸\";\n",
       "  float: left;\n",
       "  margin-right: 0.25em;\n",
       "  color: var(--sklearn-color-icon);\n",
       "}\n",
       "\n",
       "#sk-container-id-3 label.sk-toggleable__label-arrow:hover:before {\n",
       "  color: var(--sklearn-color-text);\n",
       "}\n",
       "\n",
       "/* Toggleable content - dropdown */\n",
       "\n",
       "#sk-container-id-3 div.sk-toggleable__content {\n",
       "  max-height: 0;\n",
       "  max-width: 0;\n",
       "  overflow: hidden;\n",
       "  text-align: left;\n",
       "  /* unfitted */\n",
       "  background-color: var(--sklearn-color-unfitted-level-0);\n",
       "}\n",
       "\n",
       "#sk-container-id-3 div.sk-toggleable__content.fitted {\n",
       "  /* fitted */\n",
       "  background-color: var(--sklearn-color-fitted-level-0);\n",
       "}\n",
       "\n",
       "#sk-container-id-3 div.sk-toggleable__content pre {\n",
       "  margin: 0.2em;\n",
       "  border-radius: 0.25em;\n",
       "  color: var(--sklearn-color-text);\n",
       "  /* unfitted */\n",
       "  background-color: var(--sklearn-color-unfitted-level-0);\n",
       "}\n",
       "\n",
       "#sk-container-id-3 div.sk-toggleable__content.fitted pre {\n",
       "  /* unfitted */\n",
       "  background-color: var(--sklearn-color-fitted-level-0);\n",
       "}\n",
       "\n",
       "#sk-container-id-3 input.sk-toggleable__control:checked~div.sk-toggleable__content {\n",
       "  /* Expand drop-down */\n",
       "  max-height: 200px;\n",
       "  max-width: 100%;\n",
       "  overflow: auto;\n",
       "}\n",
       "\n",
       "#sk-container-id-3 input.sk-toggleable__control:checked~label.sk-toggleable__label-arrow:before {\n",
       "  content: \"▾\";\n",
       "}\n",
       "\n",
       "/* Pipeline/ColumnTransformer-specific style */\n",
       "\n",
       "#sk-container-id-3 div.sk-label input.sk-toggleable__control:checked~label.sk-toggleable__label {\n",
       "  color: var(--sklearn-color-text);\n",
       "  background-color: var(--sklearn-color-unfitted-level-2);\n",
       "}\n",
       "\n",
       "#sk-container-id-3 div.sk-label.fitted input.sk-toggleable__control:checked~label.sk-toggleable__label {\n",
       "  background-color: var(--sklearn-color-fitted-level-2);\n",
       "}\n",
       "\n",
       "/* Estimator-specific style */\n",
       "\n",
       "/* Colorize estimator box */\n",
       "#sk-container-id-3 div.sk-estimator input.sk-toggleable__control:checked~label.sk-toggleable__label {\n",
       "  /* unfitted */\n",
       "  background-color: var(--sklearn-color-unfitted-level-2);\n",
       "}\n",
       "\n",
       "#sk-container-id-3 div.sk-estimator.fitted input.sk-toggleable__control:checked~label.sk-toggleable__label {\n",
       "  /* fitted */\n",
       "  background-color: var(--sklearn-color-fitted-level-2);\n",
       "}\n",
       "\n",
       "#sk-container-id-3 div.sk-label label.sk-toggleable__label,\n",
       "#sk-container-id-3 div.sk-label label {\n",
       "  /* The background is the default theme color */\n",
       "  color: var(--sklearn-color-text-on-default-background);\n",
       "}\n",
       "\n",
       "/* On hover, darken the color of the background */\n",
       "#sk-container-id-3 div.sk-label:hover label.sk-toggleable__label {\n",
       "  color: var(--sklearn-color-text);\n",
       "  background-color: var(--sklearn-color-unfitted-level-2);\n",
       "}\n",
       "\n",
       "/* Label box, darken color on hover, fitted */\n",
       "#sk-container-id-3 div.sk-label.fitted:hover label.sk-toggleable__label.fitted {\n",
       "  color: var(--sklearn-color-text);\n",
       "  background-color: var(--sklearn-color-fitted-level-2);\n",
       "}\n",
       "\n",
       "/* Estimator label */\n",
       "\n",
       "#sk-container-id-3 div.sk-label label {\n",
       "  font-family: monospace;\n",
       "  font-weight: bold;\n",
       "  display: inline-block;\n",
       "  line-height: 1.2em;\n",
       "}\n",
       "\n",
       "#sk-container-id-3 div.sk-label-container {\n",
       "  text-align: center;\n",
       "}\n",
       "\n",
       "/* Estimator-specific */\n",
       "#sk-container-id-3 div.sk-estimator {\n",
       "  font-family: monospace;\n",
       "  border: 1px dotted var(--sklearn-color-border-box);\n",
       "  border-radius: 0.25em;\n",
       "  box-sizing: border-box;\n",
       "  margin-bottom: 0.5em;\n",
       "  /* unfitted */\n",
       "  background-color: var(--sklearn-color-unfitted-level-0);\n",
       "}\n",
       "\n",
       "#sk-container-id-3 div.sk-estimator.fitted {\n",
       "  /* fitted */\n",
       "  background-color: var(--sklearn-color-fitted-level-0);\n",
       "}\n",
       "\n",
       "/* on hover */\n",
       "#sk-container-id-3 div.sk-estimator:hover {\n",
       "  /* unfitted */\n",
       "  background-color: var(--sklearn-color-unfitted-level-2);\n",
       "}\n",
       "\n",
       "#sk-container-id-3 div.sk-estimator.fitted:hover {\n",
       "  /* fitted */\n",
       "  background-color: var(--sklearn-color-fitted-level-2);\n",
       "}\n",
       "\n",
       "/* Specification for estimator info (e.g. \"i\" and \"?\") */\n",
       "\n",
       "/* Common style for \"i\" and \"?\" */\n",
       "\n",
       ".sk-estimator-doc-link,\n",
       "a:link.sk-estimator-doc-link,\n",
       "a:visited.sk-estimator-doc-link {\n",
       "  float: right;\n",
       "  font-size: smaller;\n",
       "  line-height: 1em;\n",
       "  font-family: monospace;\n",
       "  background-color: var(--sklearn-color-background);\n",
       "  border-radius: 1em;\n",
       "  height: 1em;\n",
       "  width: 1em;\n",
       "  text-decoration: none !important;\n",
       "  margin-left: 1ex;\n",
       "  /* unfitted */\n",
       "  border: var(--sklearn-color-unfitted-level-1) 1pt solid;\n",
       "  color: var(--sklearn-color-unfitted-level-1);\n",
       "}\n",
       "\n",
       ".sk-estimator-doc-link.fitted,\n",
       "a:link.sk-estimator-doc-link.fitted,\n",
       "a:visited.sk-estimator-doc-link.fitted {\n",
       "  /* fitted */\n",
       "  border: var(--sklearn-color-fitted-level-1) 1pt solid;\n",
       "  color: var(--sklearn-color-fitted-level-1);\n",
       "}\n",
       "\n",
       "/* On hover */\n",
       "div.sk-estimator:hover .sk-estimator-doc-link:hover,\n",
       ".sk-estimator-doc-link:hover,\n",
       "div.sk-label-container:hover .sk-estimator-doc-link:hover,\n",
       ".sk-estimator-doc-link:hover {\n",
       "  /* unfitted */\n",
       "  background-color: var(--sklearn-color-unfitted-level-3);\n",
       "  color: var(--sklearn-color-background);\n",
       "  text-decoration: none;\n",
       "}\n",
       "\n",
       "div.sk-estimator.fitted:hover .sk-estimator-doc-link.fitted:hover,\n",
       ".sk-estimator-doc-link.fitted:hover,\n",
       "div.sk-label-container:hover .sk-estimator-doc-link.fitted:hover,\n",
       ".sk-estimator-doc-link.fitted:hover {\n",
       "  /* fitted */\n",
       "  background-color: var(--sklearn-color-fitted-level-3);\n",
       "  color: var(--sklearn-color-background);\n",
       "  text-decoration: none;\n",
       "}\n",
       "\n",
       "/* Span, style for the box shown on hovering the info icon */\n",
       ".sk-estimator-doc-link span {\n",
       "  display: none;\n",
       "  z-index: 9999;\n",
       "  position: relative;\n",
       "  font-weight: normal;\n",
       "  right: .2ex;\n",
       "  padding: .5ex;\n",
       "  margin: .5ex;\n",
       "  width: min-content;\n",
       "  min-width: 20ex;\n",
       "  max-width: 50ex;\n",
       "  color: var(--sklearn-color-text);\n",
       "  box-shadow: 2pt 2pt 4pt #999;\n",
       "  /* unfitted */\n",
       "  background: var(--sklearn-color-unfitted-level-0);\n",
       "  border: .5pt solid var(--sklearn-color-unfitted-level-3);\n",
       "}\n",
       "\n",
       ".sk-estimator-doc-link.fitted span {\n",
       "  /* fitted */\n",
       "  background: var(--sklearn-color-fitted-level-0);\n",
       "  border: var(--sklearn-color-fitted-level-3);\n",
       "}\n",
       "\n",
       ".sk-estimator-doc-link:hover span {\n",
       "  display: block;\n",
       "}\n",
       "\n",
       "/* \"?\"-specific style due to the `<a>` HTML tag */\n",
       "\n",
       "#sk-container-id-3 a.estimator_doc_link {\n",
       "  float: right;\n",
       "  font-size: 1rem;\n",
       "  line-height: 1em;\n",
       "  font-family: monospace;\n",
       "  background-color: var(--sklearn-color-background);\n",
       "  border-radius: 1rem;\n",
       "  height: 1rem;\n",
       "  width: 1rem;\n",
       "  text-decoration: none;\n",
       "  /* unfitted */\n",
       "  color: var(--sklearn-color-unfitted-level-1);\n",
       "  border: var(--sklearn-color-unfitted-level-1) 1pt solid;\n",
       "}\n",
       "\n",
       "#sk-container-id-3 a.estimator_doc_link.fitted {\n",
       "  /* fitted */\n",
       "  border: var(--sklearn-color-fitted-level-1) 1pt solid;\n",
       "  color: var(--sklearn-color-fitted-level-1);\n",
       "}\n",
       "\n",
       "/* On hover */\n",
       "#sk-container-id-3 a.estimator_doc_link:hover {\n",
       "  /* unfitted */\n",
       "  background-color: var(--sklearn-color-unfitted-level-3);\n",
       "  color: var(--sklearn-color-background);\n",
       "  text-decoration: none;\n",
       "}\n",
       "\n",
       "#sk-container-id-3 a.estimator_doc_link.fitted:hover {\n",
       "  /* fitted */\n",
       "  background-color: var(--sklearn-color-fitted-level-3);\n",
       "}\n",
       "</style><div id=\"sk-container-id-3\" class=\"sk-top-container\"><div class=\"sk-text-repr-fallback\"><pre>GaussianNB()</pre><b>In a Jupyter environment, please rerun this cell to show the HTML representation or trust the notebook. <br />On GitHub, the HTML representation is unable to render, please try loading this page with nbviewer.org.</b></div><div class=\"sk-container\" hidden><div class=\"sk-item\"><div class=\"sk-estimator fitted sk-toggleable\"><input class=\"sk-toggleable__control sk-hidden--visually\" id=\"sk-estimator-id-3\" type=\"checkbox\" checked><label for=\"sk-estimator-id-3\" class=\"sk-toggleable__label fitted sk-toggleable__label-arrow fitted\">&nbsp;&nbsp;GaussianNB<a class=\"sk-estimator-doc-link fitted\" rel=\"noreferrer\" target=\"_blank\" href=\"https://scikit-learn.org/1.5/modules/generated/sklearn.naive_bayes.GaussianNB.html\">?<span>Documentation for GaussianNB</span></a><span class=\"sk-estimator-doc-link fitted\">i<span>Fitted</span></span></label><div class=\"sk-toggleable__content fitted\"><pre>GaussianNB()</pre></div> </div></div></div></div>"
      ],
      "text/plain": [
       "GaussianNB()"
      ]
     },
     "execution_count": 50,
     "metadata": {},
     "output_type": "execute_result"
    }
   ],
   "source": [
    "model #其实最开始就有下面这个小东西出现现在可以仔细看一下\n",
    "# 鼠标移到上面去，如果是黄色而且会显示nofitted就是模型只构建了但是没拟合\n",
    "# 如果是蓝色且鼠标移动到上面显示fitted就是模型拟合过了"
   ]
  },
  {
   "cell_type": "markdown",
   "id": "eedb44be-b4b1-4589-8568-c851a7459e60",
   "metadata": {},
   "source": [
    "模型预测已经完成，现在用模型在训练集中的正确识别样本量与总\n",
    "训练样本量进行对比，获得模型的准确率："
   ]
  },
  {
   "cell_type": "code",
   "execution_count": 51,
   "id": "c9cea527-692c-4736-a5ee-c421172ae4e2",
   "metadata": {},
   "outputs": [
    {
     "data": {
      "text/plain": [
       "0.8333333333333334"
      ]
     },
     "execution_count": 51,
     "metadata": {},
     "output_type": "execute_result"
    }
   ],
   "source": [
    "from sklearn.metrics import accuracy_score\n",
    "accuracy_score(ytest,y_model)"
   ]
  },
  {
   "cell_type": "markdown",
   "id": "29ca31bd-63cf-40f6-983a-22bf60b9e551",
   "metadata": {},
   "source": [
    "可以看出，通过一个非常简单的模型，数字识别率就可以达到 80%\n",
    "以上！但仅依靠这个指标，我们无法知道模型哪里做得不够好，解\n",
    "决这个问题的办法就是用混淆矩阵（confusion matrix）。可以用\n",
    "Scikit-Learn 计算混淆矩阵，然后用 Seaborn 画出来（如图 5-20 所\n",
    "示）：\n"
   ]
  },
  {
   "cell_type": "code",
   "execution_count": 52,
   "id": "bd5a779d-bd0a-4f46-839b-e30812ff9c17",
   "metadata": {},
   "outputs": [
    {
     "data": {
      "image/png": "[encoded data removed]",
      "text/plain": [
       "<Figure size 640x480 with 1 Axes>"
      ]
     },
     "metadata": {},
     "output_type": "display_data"
    }
   ],
   "source": [
    "from sklearn.metrics import confusion_matrix\n",
    "mat = confusion_matrix(ytest, y_model)\n",
    "sns.heatmap(mat, square=True, annot=True, cbar=False)\n",
    "plt.xlabel('predicted value')\n",
    "plt.ylabel('true value');"
   ]
  },
  {
   "cell_type": "markdown",
   "id": "69661338-4f99-4aae-8126-4fc0c68a6caf",
   "metadata": {},
   "source": [
    "<p class='atcenter'>图 5-20：用混淆矩阵显示分类器误判率</p>"
   ]
  },
  {
   "cell_type": "markdown",
   "id": "3318a03d-965f-4bc4-93db-71ce57ab9ac6",
   "metadata": {},
   "source": [
    "从图中可以看出，误判的主要原因在于许多数字 2 被误判成了数字\n",
    "1 或数字 8。另一种显示模型特征的直观方式是将样本画出来，然\n",
    "后把预测标签放在左下角，用绿色表示预测正确，用红色表示预测\n",
    "错误（如图 5-21 所示）："
   ]
  },
  {
   "cell_type": "code",
   "execution_count": 53,
   "id": "50c0bbe5-e55a-4581-b142-4e86618758e2",
   "metadata": {},
   "outputs": [
    {
     "data": {
      "text/plain": [
       "array([[37,  0,  0,  0,  0,  0,  0,  0,  0,  0],\n",
       "       [ 0, 39,  0,  0,  0,  0,  0,  0,  4,  0],\n",
       "       [ 0,  7, 20,  2,  0,  0,  0,  0, 15,  0],\n",
       "       [ 0,  0,  0, 39,  0,  0,  0,  1,  5,  0],\n",
       "       [ 0,  1,  0,  0, 31,  0,  0,  6,  0,  0],\n",
       "       [ 0,  1,  0,  1,  0, 43,  0,  3,  0,  0],\n",
       "       [ 0,  0,  1,  0,  0,  0, 51,  0,  0,  0],\n",
       "       [ 0,  0,  0,  0,  1,  0,  0, 47,  0,  0],\n",
       "       [ 0,  6,  0,  1,  0,  1,  0,  2, 38,  0],\n",
       "       [ 0,  2,  0,  4,  1,  0,  0,  3,  7, 30]])"
      ]
     },
     "execution_count": 53,
     "metadata": {},
     "output_type": "execute_result"
    }
   ],
   "source": [
    "mat"
   ]
  },
  {
   "cell_type": "markdown",
   "id": "9ab3dab6-d577-45dd-8da4-647ce1b62745",
   "metadata": {},
   "source": [
    "从图中可以看出，误判的主要原因在于许多数字 2 被误判成了数字\n",
    "1 或数字 8。另一种显示模型特征的直观方式是将样本画出来，然\n",
    "后把预测标签放在左下角，用绿色表示预测正确，用红色表示预测\n",
    "错误（如图 5-21 所示）：\n"
   ]
  },
  {
   "cell_type": "code",
   "execution_count": 54,
   "id": "608a4724-893a-46df-af0a-aecdc3623214",
   "metadata": {},
   "outputs": [
    {
     "data": {
      "image/png": "[encoded data removed]",
      "text/plain": [
       "<Figure size 800x800 with 100 Axes>"
      ]
     },
     "metadata": {},
     "output_type": "display_data"
    }
   ],
   "source": [
    "fig, axes = plt.subplots(10, 10, figsize=(8, 8),\n",
    "            subplot_kw={'xticks':[], 'yticks':[]},\n",
    "            gridspec_kw=dict(hspace=0.1, wspace=0.1))\n",
    "test_images=Xtest.reshape(-1,8,8)\n",
    "for i, ax in enumerate(axes.flat):\n",
    "    ax.imshow(test_images[i], cmap='binary', interpolation='nearest')\n",
    "    ax.text(0.05, 0.05, str(y_model[i]),\n",
    "            transform=ax.transAxes,\n",
    "            color='green' if (ytest[i] == y_model[i]) else 'red')"
   ]
  },
  {
   "cell_type": "markdown",
   "id": "ee2ed39f-f285-424a-aad8-e9fc08f34121",
   "metadata": {},
   "source": [
    "<p class='atcenter'>图 5-21：正确（绿色）与错误（红色）预测标签</p>"
   ]
  },
  {
   "cell_type": "markdown",
   "id": "a60b2697-5ae6-444a-a637-6b09bd97c0cc",
   "metadata": {},
   "source": [
    "通过观察这部分样本数据，我们能知道模型哪里的学习不够好。如\n",
    "果希望分类准确率达到 80% 以上，可能需要借助更加复杂的算\n",
    "法，例如支持向量机（详情请参见 5.7 节）、随机森林（详情请参\n",
    "见 5.8 节），或者其他分类算法。\n"
   ]
  },
  {
   "cell_type": "markdown",
   "id": "a74b3e90-ce70-4710-ac00-cacf27ca14ae",
   "metadata": {},
   "source": [
    "### 5.2.4 小结"
   ]
  },
  {
   "cell_type": "markdown",
   "id": "5547fb56-bf32-4d60-9737-6dc4598c0162",
   "metadata": {},
   "source": [
    "本节介绍了 Scikit-Learn 中数据表示方法和评估器 API 的基本特征。除\n",
    "了评估器的类型不同，导入模型 / 初始化模型 / 拟合数据 / 预测数据的\n",
    "步骤是完全相同的。对评估器 API 有了基本认识之后，你可以参考\n",
    "Scikit-Learn 文档继续学习更多知识，并在你的数据上尝试不同的模\n",
    "型。\n",
    "从下一节开始学习的内容可能是机器学习中最重要的部分，那就是模型\n",
    "选择与模型验证。"
   ]
  },
  {
   "cell_type": "code",
   "execution_count": null,
   "id": "cdf04e8f-cc2d-4633-95cf-208fa2942b0d",
   "metadata": {},
   "outputs": [],
   "source": []
  }
 ],
 "metadata": {
  "kernelspec": {
   "display_name": "Python 3 (ipykernel)",
   "language": "python",
   "name": "python3"
  },
  "language_info": {
   "codemirror_mode": {
    "name": "ipython",
    "version": 3
   },
   "file_extension": ".py",
   "mimetype": "text/x-python",
   "name": "python",
   "nbconvert_exporter": "python",
   "pygments_lexer": "ipython3",
   "version": "3.11.9"
  }
 },
 "nbformat": 4,
 "nbformat_minor": 5
}
