{
 "cells": [
  {
   "cell_type": "code",
   "execution_count": 16,
   "id": "76330ae7-1a38-4b8c-8897-d03eb9690fa5",
   "metadata": {},
   "outputs": [
    {
     "data": {
      "text/html": [
       "<style type='text/css'>\n",
       "    *{\n",
       "        # background-color:#E3EDCD;\n",
       "        # background-color:black;\n",
       "        # color:white;\n",
       "        \n",
       "    }\n",
       "    h1{\n",
       "        color:#1976d2;\n",
       "    }\n",
       "    h2{\n",
       "        color:#f57c00;\n",
       "    }\n",
       "    h3{\n",
       "        color:#ba37ff;\n",
       "    }\n",
       "    h4{\n",
       "        color:green;\n",
       "    }\n",
       "    table{\n",
       "        border:1px solid black !important;\n",
       "        border-collapse:collapse !important;\n",
       "    }\n",
       "    th{\n",
       "        background-color:blueviolet !important;\n",
       "        text-align:center;\n",
       "        color:white;\n",
       "    }\n",
       "    th,td{\n",
       "        border:0.1px solid black !important;\n",
       "        transition:0.2s all liner;\n",
       "        \n",
       "    }\n",
       "    td:hover{\n",
       "        transform:scale(1.1);\n",
       "        background-color:orange;\n",
       "        color:blueviolet;\n",
       "    }\n",
       "    .raw{\n",
       "        white-space:pre;\n",
       "    }\n",
       "    .atcenter{\n",
       "        text-align:center !important;\n",
       "    }\n",
       "    .imp{\n",
       "        color:red;\n",
       "        font-weight:bolder;\n",
       "    }\n",
       "    table.tts tr:first-child td:nth-child(2){\n",
       "        background-color:red !important;\n",
       "    }\n",
       "    table.tts tr:nth-child(2) td:last-child{\n",
       "        background-color:red !important;\n",
       "    }\n",
       "</style>\n",
       "        \n"
      ],
      "text/plain": [
       "<IPython.core.display.HTML object>"
      ]
     },
     "metadata": {},
     "output_type": "display_data"
    }
   ],
   "source": [
    "%%HTML\n",
    "<style type='text/css'>\n",
    "    *{\n",
    "        # background-color:#E3EDCD;\n",
    "        # background-color:black;\n",
    "        # color:white;\n",
    "        \n",
    "    }\n",
    "    h1{\n",
    "        color:#1976d2;\n",
    "    }\n",
    "    h2{\n",
    "        color:#f57c00;\n",
    "    }\n",
    "    h3{\n",
    "        color:#ba37ff;\n",
    "    }\n",
    "    h4{\n",
    "        color:green;\n",
    "    }\n",
    "    table{\n",
    "        border:1px solid black !important;\n",
    "        border-collapse:collapse !important;\n",
    "    }\n",
    "    th{\n",
    "        background-color:blueviolet !important;\n",
    "        text-align:center;\n",
    "        color:white;\n",
    "    }\n",
    "    th,td{\n",
    "        border:0.1px solid black !important;\n",
    "        transition:0.2s all liner;\n",
    "        \n",
    "    }\n",
    "    td:hover{\n",
    "        transform:scale(1.1);\n",
    "        background-color:orange;\n",
    "        color:blueviolet;\n",
    "    }\n",
    "    .raw{\n",
    "        white-space:pre;\n",
    "    }\n",
    "    .atcenter{\n",
    "        text-align:center !important;\n",
    "    }\n",
    "    .imp{\n",
    "        color:red;\n",
    "        font-weight:bolder;\n",
    "    }\n",
    "    table.tts tr:first-child td:nth-child(2){\n",
    "        background-color:red !important;\n",
    "    }\n",
    "    table.tts tr:nth-child(2) td:last-child{\n",
    "        background-color:red !important;\n",
    "    }\n",
    "</style>\n",
    "        "
   ]
  },
  {
   "cell_type": "markdown",
   "id": "4b874993-2bc8-4df4-9758-48f7800bbd5a",
   "metadata": {},
   "source": [
    "## 5.3 超参数与模型验证\n"
   ]
  },
  {
   "cell_type": "markdown",
   "id": "2dedf7f3-839b-46c2-84e3-5e62a4f77f00",
   "metadata": {},
   "source": [
    "在上一节中，我们介绍了有监督机器学习模型的基本步骤：        \n",
    "(1) 选择模型类；            \n",
    "(2) 选择模型超参数；  \n",
    "(3) 用模型拟合训练数据；   \n",
    "(4) 用模型预测新数据的标签。  \n",
    "前两步——模型选择和超参数选择——可能是有效使用各种机器学习工 \n",
    "具和技术的最重要阶段。为了作出正确的选择，我们需要一种方式来验    \n",
    "证选中的模型和超参数是否可以很好地拟合数据。这看起来是很简单，      \n",
    "但要顺利地完成必须避过很多坑。    "
   ]
  },
  {
   "cell_type": "markdown",
   "id": "86d463e9-1127-4a55-a3b4-4f05ba87bd4a",
   "metadata": {},
   "source": [
    "### 5.3.1 什么是模型验证"
   ]
  },
  {
   "cell_type": "markdown",
   "id": "d53ed0a3-02ab-46ff-b6c8-428753bd2953",
   "metadata": {},
   "source": [
    "模型验证（model validation）其实很简单，就是在选择模型和超参数之\n",
    "后，通过对训练数据进行学习，对比模型对已知数据的预测值与实际值\n",
    "的差异。        \n",
    "在下面的几节中，我们首先通过一个简单方法实现模型验证，告诉你为\n",
    "什么那样做行不通。之后，介绍如何用留出集（holdout set）与交叉检\n",
    "验（cross-validation）实现更可靠的模型验证。       "
   ]
  },
  {
   "cell_type": "markdown",
   "id": "ca1f3438-7188-4c53-ad81-dfa0835545ca",
   "metadata": {},
   "source": [
    "01. 错误的模型验证方法           \n",
    "让我们再用前面介绍过的鸢尾花数据来演示一个简单的模型验证方\n",
    "法。首先加载数据："
   ]
  },
  {
   "cell_type": "code",
   "execution_count": 1,
   "id": "d7a65936-172d-4894-b0da-53a4efd0ff36",
   "metadata": {},
   "outputs": [],
   "source": [
    "from sklearn.datasets import load_iris\n",
    "iris = load_iris()\n",
    "X = iris.data\n",
    "y = iris.target"
   ]
  },
  {
   "cell_type": "markdown",
   "id": "16316437-b98a-4fe7-869f-e033072857c7",
   "metadata": {},
   "source": [
    "然后选择模型和超参数。这里使用一个 k 近邻分类器，超参数为\n",
    "n_neighbors=1。这是一个非常简单直观的模型，“新数据的标签\n",
    "与其最接近的训练数据的标签相同”：\n"
   ]
  },
  {
   "cell_type": "code",
   "execution_count": 3,
   "id": "9eb4134b-fec3-426e-b796-11d995e549c5",
   "metadata": {},
   "outputs": [],
   "source": [
    "from sklearn.neighbors import KNeighborsClassifier\n",
    "model = KNeighborsClassifier(n_neighbors=1)"
   ]
  },
  {
   "cell_type": "markdown",
   "id": "b59f638c-dbb0-48d7-944b-032986bd22d5",
   "metadata": {},
   "source": [
    "然后训练模型，并用它来预测已知标签的数据："
   ]
  },
  {
   "cell_type": "code",
   "execution_count": 4,
   "id": "e5ad253d-dd46-4ff7-8554-12196740f75c",
   "metadata": {},
   "outputs": [],
   "source": [
    "model.fit(X,y)\n",
    "y_model = model.predict(X)"
   ]
  },
  {
   "cell_type": "markdown",
   "id": "65c010df-df21-451b-858b-feb5b61121ad",
   "metadata": {},
   "source": [
    "最后，计算模型的准确率："
   ]
  },
  {
   "cell_type": "code",
   "execution_count": 5,
   "id": "838b749b-8829-4cf6-916d-6667bd25bd03",
   "metadata": {},
   "outputs": [
    {
     "data": {
      "text/plain": [
       "1.0"
      ]
     },
     "execution_count": 5,
     "metadata": {},
     "output_type": "execute_result"
    }
   ],
   "source": [
    "from sklearn.metrics import accuracy_score\n",
    "accuracy_score(y, y_model)"
   ]
  },
  {
   "cell_type": "markdown",
   "id": "005b9f48-a4c8-498b-a829-ac312766e69a",
   "metadata": {},
   "source": [
    "准确得分是 1.0，也就是说模型识别标签的正确率是 100% ！但是\n",
    "这样测量的准确率可靠吗？我们真的有一个在任何时候准确率都是\n",
    "100% 的模型吗？                              \n",
    "你可能已经猜到了，答案是否定的。其实这个方法有个根本缺陷：\n",
    "它用同一套数据训练和评估模型。另外，最近邻模型是一种与距\n",
    "离相关的评估器，只会简单地存储训练数据，然后把新数据与存储\n",
    "的已知数据进行对比来预测标签。在理想情况下，模型的准确率总\n",
    "是 100%。\n"
   ]
  },
  {
   "cell_type": "markdown",
   "id": "77a6c380-f016-472f-a7ab-c8b2e71631ce",
   "metadata": {},
   "source": [
    "02. 模型验证正确方法：留出集"
   ]
  },
  {
   "cell_type": "markdown",
   "id": "1b960f17-b218-4f0b-9d78-238346338224",
   "metadata": {},
   "source": [
    "那怎么才能模型验证呢？其实留出集可以更好地评估模型性能，也\n",
    "就是说，先从训练模型的数据中留出一部分，然后用这部分留出来\n",
    "的数据来检验模型性能。在 Scikit-Learn 里面用\n",
    "train_test_split 工具就可以实现："
   ]
  },
  {
   "cell_type": "code",
   "execution_count": 8,
   "id": "9ce4ebc8-5955-4b02-a387-4d87a09bea2d",
   "metadata": {},
   "outputs": [
    {
     "data": {
      "text/plain": [
       "0.9066666666666666"
      ]
     },
     "execution_count": 8,
     "metadata": {},
     "output_type": "execute_result"
    }
   ],
   "source": [
    "from sklearn.model_selection import train_test_split  \n",
    "#引入sklearn.model_selection中的训练集测试集划分\n",
    "\n",
    "# from sklearn.cross_validation import train_test_split --旧的语法过时报错\n",
    "# 每个数据集分一半数据\n",
    "X1, X2, y1, y2 = train_test_split(X, y, random_state=0,\n",
    "train_size=0.5)\n",
    "# 用模型拟合训练数据\n",
    "model.fit(X1, y1)\n",
    "# 在测试集中评估模型准确率\n",
    "y2_model = model.predict(X2)\n",
    "accuracy_score(y2, y2_model)"
   ]
  },
  {
   "cell_type": "markdown",
   "id": "939a97e4-2992-4ced-a4a9-9b7ea34fdb45",
   "metadata": {},
   "source": [
    "<table class='tts'>\n",
    "    <tr>\n",
    "        <td>第一轮</td>\n",
    "        <td>&nbsp;&nbsp;&nbsp;&nbsp;&nbsp;&nbsp;&nbsp;&nbsp;&nbsp;</td>\n",
    "        <td>验证集</td>\n",
    "    </tr>\n",
    "    <tr>\n",
    "        <td>第二轮</td>\n",
    "        <td>验证集</td>\n",
    "        <td>&nbsp;&nbsp;&nbsp;&nbsp;&nbsp;&nbsp;&nbsp;&nbsp;&nbsp;</td>\n",
    "    </tr>\n",
    "</table>"
   ]
  },
  {
   "cell_type": "markdown",
   "id": "cc593a44-7a97-4b49-94e6-bde769c39426",
   "metadata": {},
   "source": [
    "<p class='atcenter'>5-22两轮交叉验证</p>"
   ]
  },
  {
   "cell_type": "markdown",
   "id": "00f5c34f-5ac8-4d61-b64f-c572b9b6e74c",
   "metadata": {},
   "source": [
    "这里进行了两轮验证实验，轮流用一半数据作为留出集。如果还有\n",
    "前面的数据集，我们可以这样实现交叉检验："
   ]
  },
  {
   "cell_type": "code",
   "execution_count": 17,
   "id": "d4514670-eab0-4e33-aea1-526602a4783a",
   "metadata": {},
   "outputs": [
    {
     "data": {
      "text/plain": [
       "(0.96, 0.9066666666666666)"
      ]
     },
     "execution_count": 17,
     "metadata": {},
     "output_type": "execute_result"
    }
   ],
   "source": [
    "y2_model = model.fit(X1, y1).predict(X2) \n",
    "#第一次将X1作为训练集,y1作为目标向量,用训练好的模型去与猜测X2得到预测的目标向量y2_model\n",
    "y1_model = model.fit(X2, y2).predict(X1)\n",
    "# 第二次将X2作为训练集,y2作为目标向量,用训练好的模型去与猜测X1得到预测的目标向量y1_model\n",
    "accuracy_score(y1, y1_model), accuracy_score(y2, y2_model)"
   ]
  },
  {
   "cell_type": "markdown",
   "id": "9c844ecb-dc9b-4d23-9760-ca04ec235a57",
   "metadata": {},
   "source": [
    "这样就可以获得两个准确率，将二者结合（例如求均值）获取一个\n",
    "更准确的模型总体性能。这种形式的交叉检验被称为两轮交叉检验\n",
    "——将数据集分成两个子集，依次将每个子集作为验证集。\n",
    "可以通过扩展这个概念，在数据中实现更多轮的实验，例如图 5-23\n",
    "是一个五轮交叉检验。"
   ]
  },
  {
   "cell_type": "markdown",
   "id": "e3055bec-3519-4a2f-9a4a-a0f91f896647",
   "metadata": {},
   "source": [
    "<img src='../img/05.png'></img>"
   ]
  },
  {
   "cell_type": "markdown",
   "id": "5eadfed1-78f2-44ea-a5b4-735aa22f43de",
   "metadata": {},
   "source": [
    "<p class='atcenter'>图 5-23：五轮交叉检验</p>"
   ]
  },
  {
   "cell_type": "markdown",
   "id": "0a343a37-fa1d-481c-8267-0c819d149501",
   "metadata": {},
   "source": [
    "把数据分成五组，每一轮依次用模型拟合其中的四组数据，再预测\n",
    "第五组数据，评估模型准确率。手动实现这些过程会很无聊，用\n",
    "Scikit-Learn 的 cross_val_score 函数可以非常简便地实现"
   ]
  },
  {
   "cell_type": "code",
   "execution_count": 19,
   "id": "790ee567-8daf-4f9b-8323-e64fb58a17d3",
   "metadata": {},
   "outputs": [],
   "source": [
    "from sklearn.model_selection import cross_val_score"
   ]
  },
  {
   "cell_type": "code",
   "execution_count": 20,
   "id": "f2a3e561-5502-4c23-b9bc-fcbdd1b24c9f",
   "metadata": {},
   "outputs": [
    {
     "data": {
      "text/plain": [
       "array([0.96666667, 0.96666667, 0.93333333, 0.93333333, 1.        ])"
      ]
     },
     "execution_count": 20,
     "metadata": {},
     "output_type": "execute_result"
    }
   ],
   "source": [
    "cross_val_score(model,X,y,cv=5)"
   ]
  },
  {
   "cell_type": "markdown",
   "id": "63fc3bb1-d40f-470b-813c-4659f50e09dc",
   "metadata": {},
   "source": [
    "对数据的不同子集重复进行交叉检验，可以让我们对算法的性能有\n",
    "更好的认识。"
   ]
  },
  {
   "cell_type": "code",
   "execution_count": 29,
   "id": "c59bdedd-b9d7-47f8-9717-51ec92215abb",
   "metadata": {},
   "outputs": [],
   "source": [
    "from sklearn.model_selection import LeaveOneOut\n",
    "scores = cross_val_score(model, X, y, cv=LeaveOneOut())\n",
    "# 解释:将数据分成了五组采用我们指定的model,X为特征矩阵,y为目标向量\n",
    "# cv为交叉验证"
   ]
  },
  {
   "cell_type": "markdown",
   "id": "064b6457-af4f-4d49-ba8f-dca88b3704ce",
   "metadata": {},
   "source": [
    "Scikit-Learn 为不同应用场景提供了各种交叉检验方法，都以迭代\n",
    "器（iterator）形式在 cross_validation 模块 中实现。例如，我\n",
    "们可能会遇到交叉检验的轮数与样本数相同的极端情况，也就是说\n",
    "我们每次只有一个样本做测试，其他样本全用于训练。这种交叉检\n",
    "验类型被称为 LOO（leave-one-out，只留一个）交叉检验，具体用\n",
    "法如下："
   ]
  },
  {
   "cell_type": "code",
   "execution_count": 30,
   "id": "64715b49-ed42-48d9-aba6-b56f1a2ac4e7",
   "metadata": {},
   "outputs": [
    {
     "data": {
      "text/plain": [
       "array([1., 1., 1., 1., 1., 1., 1., 1., 1., 1., 1., 1., 1., 1., 1., 1., 1.,\n",
       "       1., 1., 1., 1., 1., 1., 1., 1., 1., 1., 1., 1., 1., 1., 1., 1., 1.,\n",
       "       1., 1., 1., 1., 1., 1., 1., 1., 1., 1., 1., 1., 1., 1., 1., 1., 1.,\n",
       "       1., 1., 1., 1., 1., 1., 1., 1., 1., 1., 1., 1., 1., 1., 1., 1., 1.,\n",
       "       1., 1., 0., 1., 0., 1., 1., 1., 1., 1., 1., 1., 1., 1., 1., 0., 1.,\n",
       "       1., 1., 1., 1., 1., 1., 1., 1., 1., 1., 1., 1., 1., 1., 1., 1., 1.,\n",
       "       1., 1., 1., 1., 0., 1., 1., 1., 1., 1., 1., 1., 1., 1., 1., 1., 1.,\n",
       "       0., 1., 1., 1., 1., 1., 1., 1., 1., 1., 1., 1., 1., 1., 0., 1., 1.,\n",
       "       1., 1., 1., 1., 1., 1., 1., 1., 1., 1., 1., 1., 1., 1.])"
      ]
     },
     "execution_count": 30,
     "metadata": {},
     "output_type": "execute_result"
    }
   ],
   "source": [
    "scores"
   ]
  },
  {
   "cell_type": "markdown",
   "id": "51efaad2-fe3f-42f8-b4e1-b7d994fbb744",
   "metadata": {},
   "source": [
    "由于我们有 150 个样本，留一法交叉检验会生成 150 轮试验，每次\n",
    "试验的预测结果要么成功（得分 1.0），要么失败（得分 0.0）。计\n",
    "算所有试验准确率的均值就可以得到模型的预测准确性了："
   ]
  },
  {
   "cell_type": "code",
   "execution_count": 31,
   "id": "975e21a9-276a-4e29-b352-7be87eacb7f2",
   "metadata": {},
   "outputs": [
    {
     "data": {
      "text/plain": [
       "np.float64(0.96)"
      ]
     },
     "execution_count": 31,
     "metadata": {},
     "output_type": "execute_result"
    }
   ],
   "source": [
    "scores.mean()"
   ]
  },
  {
   "cell_type": "markdown",
   "id": "2b412625-26a9-4910-8124-f2351eaf4126",
   "metadata": {},
   "source": [
    "其他交叉检验机制的用法大同小异。想了解更多关于 Scikit-Learn\n",
    "交叉检验的内容，可以用 IPython 探索\n",
    "sklearn.cross_validation 子模块，也可以浏览 Scikit-Learn 的\n",
    "交叉检验文档（http://scikitlearn.org/stable/modules/cross_validation.html）。"
   ]
  },
  {
   "cell_type": "markdown",
   "id": "425da5ab-c69c-4982-82a3-fb41990db435",
   "metadata": {},
   "source": [
    "从 Scikit-Learn 0.18 版起，开始用 model_selection 模块代替 cross_validation 模块，并\n",
    "计划在 0.20 版移除程序包，部分交叉检验类的用法也可能会发生变化。本书按照作者原文保\n",
    "留 cross_validation，建议读者使用作者建议的 Scikit-Learn 版本运行本书代码。——译者\n",
    "注\n"
   ]
  },
  {
   "cell_type": "markdown",
   "id": "24417537-ae7e-4858-ae30-ca8b5ba24834",
   "metadata": {},
   "source": [
    "### 5.3.2 选择最优模型"
   ]
  },
  {
   "cell_type": "markdown",
   "id": "a2f784f9-54f6-4adc-b180-3d000446ab97",
   "metadata": {},
   "source": [
    "现在已经介绍了验证与交叉检验的基础知识，让我们更进一步，看看如\n",
    "何选择模型和超参数。这是机器学习实践中最重要的部分，但是许多机\n",
    "器学习入门教程都一笔带过了这些内容。\n"
   ]
  },
  {
   "cell_type": "markdown",
   "id": "545f345b-c305-440c-a853-a4f4aa40e464",
   "metadata": {},
   "source": [
    "关键问题是：假如模型效果不好，应该如何改善？答案可能有以下几\n",
    "种。                         \n",
    "- 用更复杂 / 更灵活的模型。    \n",
    "- 用更简单 / 更确定的模型。  \n",
    "- 采集更多的训练样本。         \n",
    "- 为每个样本采集更多的特征。      \n",
    "问题的答案往往与直觉相悖。换一种更复杂的模型有时可能产生更差的\n",
    "结果，增加更多的训练样本也未必能改善性能！改善模型能力的高低，\n",
    "是区分机器学习实践者成功与否的标志。\n"
   ]
  },
  {
   "cell_type": "markdown",
   "id": "bb5d699e-3e37-499d-826f-0d803c4a86e8",
   "metadata": {},
   "source": [
    "01. 偏差与方差的均衡"
   ]
  },
  {
   "cell_type": "markdown",
   "id": "ff53b582-7a47-4d57-a519-622ca1c7a76e",
   "metadata": {},
   "source": [
    "“最优模型”的问题基本可以看成是找出偏差与方差平衡点的问题。\n",
    "图 5-24 显示的是对同一数据集拟合的两种回归模型。"
   ]
  },
  {
   "cell_type": "markdown",
   "id": "48542f7e-b2e5-4073-b351-a0a37672c95b",
   "metadata": {},
   "source": [
    "<img src='../img/06.png'></img>"
   ]
  },
  {
   "cell_type": "markdown",
   "id": "84f5f532-6224-45b1-9010-6b8a78ada1a1",
   "metadata": {},
   "source": [
    "<p class='atcenter'>图 5-24：高偏差与高方差回归模型</p>"
   ]
  },
  {
   "cell_type": "markdown",
   "id": "928a8026-5a3e-4d4c-81b6-f6fd7036f22b",
   "metadata": {},
   "source": [
    "显然，这两个模型拟合得都不是很好，但它们的问题却是不一样\n",
    "的。              \n",
    "左边的模型希望从数据中找到一条直线。但由于数据本质上比直线\n",
    "要复杂，直线永远不可能很好地描述这份数据。这样的模型被认为\n",
    "是对数据欠拟合；也就是说，模型没有足够的灵活性来适应数据的\n",
    "所有特征。另一种说法就是模型具有高偏差。           \n",
    "右边的模型希望用高阶多项式拟合数据。虽然这个模型有足够的灵\n",
    "活性可以近乎完美地适应数据的所有特征，但与其说它是十分准确\n",
    "地描述了训练数据，不如说它是过多地学习了数据的噪音，而不是\n",
    "数据的本质属性。这样的模型被认为是对数据过拟合，也就是模型\n",
    "过于灵活，在适应数据所有特征的同时，也适应了随机误差。另一\n",
    "种说法就是模型具有高方差。               \n",
    "现在再换个角度，如果用两个模型分别预测 y 轴的数据，看看是什\n",
    "么效果。在图 5-25 中，浅红色的点是被预测数据集遗漏的点。\n"
   ]
  },
  {
   "cell_type": "markdown",
   "id": "d577687b-bc56-4e58-bf47-91a868d66db9",
   "metadata": {},
   "source": [
    "<img src='../img/07.png'></img>"
   ]
  },
  {
   "cell_type": "markdown",
   "id": "4c8da22d-0ca0-4990-a628-9acccac02d55",
   "metadata": {},
   "source": [
    "<p class='atcenter'>图 5-25：高偏差与高方差模型的训练得分与验证得分</p>"
   ]
  },
  {
   "cell_type": "markdown",
   "id": "b9c9eda7-a6ad-4c9e-ae70-1128d7c84b47",
   "metadata": {},
   "source": [
    "这个分数是 R<sup>2</sup>，也称为判定系数\n",
    "（https://en.wikipedia.org/wiki/Coefficient_of_determination)  \n",
    "用来\n",
    "衡量模型与目标值均值的对比结果。R<sup>2</sup> = 1 表示模型与数据完全吻\n",
    "合，R<sup>2</sup> = 0 表示模型不比简单取均值好,R<sup>2</sup> 为负表示模型性能很\n",
    "差。从这两个模型的得分可以得出两条一般性的结论。         \n",
    "- 对于高偏差模型，模型在验证集的表现与在训练集的表现类\n",
    "似。       \n",
    "- 对于高方差模型，模型在验证集的表现远远不如在训练集的表\n",
    "现。       \n",
    "如果我们有能力不断调整模型的复杂度，那么我们可能希望训练\n",
    "得分和验证得分如图 5-26 所示。"
   ]
  },
  {
   "cell_type": "markdown",
   "id": "f1fcab47-c69d-4485-a338-d0531ad9dfb6",
   "metadata": {},
   "source": [
    "图 5-26 通常被称为验证曲线，具有以下特征。"
   ]
  },
  {
   "cell_type": "markdown",
   "id": "af489df1-3193-4ac3-ac2f-6153e582457c",
   "metadata": {},
   "source": [
    "- 训练得分肯定高于验证得分。一般情况下，模型拟合自己接触\n",
    "过的数据，比拟合没接触过的数据效果要好。     \n",
    "- 使用复杂度较低的模型（高偏差）时，训练数据往往欠拟合，\n",
    "说明模型对训练数据和新数据都缺乏预测能力。     \n",
    "- 而使用复杂度较高的模型（高方差）时，训练数据往往过拟\n",
    "合，说明模型对训练数据预测能力很强，但是对新数据的预测\n",
    "能力很差。     \n",
    "- 当使用复杂度适中的模型时，验证曲线得分最高。说明在该模\n",
    "型复杂度条件下，偏差与方差达到均衡状态。     "
   ]
  },
  {
   "cell_type": "markdown",
   "id": "6222c8c8-396a-423a-9295-8a25bddc9c8d",
   "metadata": {},
   "source": [
    "<img src='../img/08.png'></img>"
   ]
  },
  {
   "cell_type": "markdown",
   "id": "37170c0b-fc31-4068-a5f3-e16de74d6329",
   "metadata": {},
   "source": [
    "<p class='atcenter'>图 5-26：模型复杂度、训练得分与验证得分的方法关系图</p>"
   ]
  },
  {
   "cell_type": "markdown",
   "id": "808afa9c-dcdc-4746-92df-386471fff4c4",
   "metadata": {},
   "source": [
    "不同模型复杂度的调整方法大不相同。后文在深入介绍各种模型\n",
    "时，就会讲解每种模型的调整方法。"
   ]
  },
  {
   "cell_type": "markdown",
   "id": "614c66fd-5274-4860-b7ab-a11d88fa909a",
   "metadata": {},
   "source": [
    "02. Scikit-Learn验证曲线\n"
   ]
  },
  {
   "cell_type": "markdown",
   "id": "7a69c3ce-ce25-4d28-9bb9-6b9f3abfe70b",
   "metadata": {},
   "source": [
    "下面来看一个例子，用交叉检验计算一个模型的验证曲线。这里用\n",
    "多项式回归模型，它是线性回归模型的一般形式，其多项式的次数\n",
    "是一个可调参数。例如，多项式次数为 1 其实就是将数据拟合成一\n",
    "条直线。若模型有参数 a 和 b，则模型为：  \n",
    "$$\n",
    "y=ax+b\n",
    "$$\n",
    "多项式次数为 3，则是将数据拟合成一条三次曲线。若模型有参数\n",
    "a、b、c、d，则模型为：\n",
    "$$\n",
    "y=ax^3+bx^2+cx+d\n",
    "$$\n",
    "推而广之，就可以得到任意次数的多项式。在 Scikit-Learn 中，可\n",
    "以用一个带多项式预处理器的简单线性回归模型实现。我们将用一\n",
    "个管道命令来组合这两种操作（多项式特征与管道命令将在 5.4 节\n",
    "介绍）：\n"
   ]
  },
  {
   "cell_type": "code",
   "execution_count": 2,
   "id": "5dc7b22d-5cde-4dd8-9222-c44c88558cff",
   "metadata": {},
   "outputs": [],
   "source": [
    "from sklearn.preprocessing import PolynomialFeatures\n",
    "from sklearn.linear_model import LinearRegression\n",
    "from sklearn.pipeline import make_pipeline"
   ]
  },
  {
   "cell_type": "code",
   "execution_count": 3,
   "id": "258a569f-e5b7-4114-af38-74364ddade59",
   "metadata": {},
   "outputs": [],
   "source": [
    "def PolynomialRegression(degree=2,**kwargs):\n",
    "    return make_pipeline(\n",
    "        PolynomialFeatures(degree),\n",
    "        LinearRegression(**kwargs)\n",
    "    )"
   ]
  },
  {
   "cell_type": "markdown",
   "id": "f960b363-8fb0-4385-a278-c2757e6a2412",
   "metadata": {},
   "source": [
    "现在来创造一些数据给模型拟合"
   ]
  },
  {
   "cell_type": "markdown",
   "id": "505aeb59-3de7-4f2b-a9ce-d5197063eb66",
   "metadata": {},
   "source": [
    "<a href='#'>make_data</a>"
   ]
  },
  {
   "cell_type": "code",
   "execution_count": 4,
   "id": "2016a66a-dbd0-4b8b-a273-172e7354a4a9",
   "metadata": {},
   "outputs": [],
   "source": [
    "import numpy as np\n",
    "def make_data(N,err=1.0,rseed=1):\n",
    "    # 随机样本数据\n",
    "    rng = np.random.RandomState(rseed)\n",
    "    X = rng.rand(N,1)**2\n",
    "    y = 10 - 1. / (X.ravel() + 0.1)\n",
    "    if err > 0:\n",
    "        y += err * rng.randn(N)\n",
    "    return X, y\n",
    "X, y = make_data(40)"
   ]
  },
  {
   "cell_type": "code",
   "execution_count": 8,
   "id": "8acf8fe6-c504-47b0-a84d-0eae3136f58c",
   "metadata": {},
   "outputs": [
    {
     "data": {
      "text/plain": [
       "(40, 1)"
      ]
     },
     "execution_count": 8,
     "metadata": {},
     "output_type": "execute_result"
    }
   ],
   "source": [
    "X.shape"
   ]
  },
  {
   "cell_type": "code",
   "execution_count": 9,
   "id": "c5858f55-d345-45a7-819a-4d449cb3fff0",
   "metadata": {},
   "outputs": [
    {
     "data": {
      "text/plain": [
       "(40,)"
      ]
     },
     "execution_count": 9,
     "metadata": {},
     "output_type": "execute_result"
    }
   ],
   "source": [
    "y.shape"
   ]
  },
  {
   "cell_type": "markdown",
   "id": "800392ac-db9d-4949-90ef-db6bb5fab565",
   "metadata": {},
   "source": [
    "通过数据可视化，将不同次数的多项式拟合曲线画出来（如图 5-27\n",
    "所示）："
   ]
  },
  {
   "cell_type": "code",
   "execution_count": 5,
   "id": "7cde038a-fda9-40f5-9f3b-c8d096e309f3",
   "metadata": {},
   "outputs": [
    {
     "data": {
      "image/png": "[encoded data removed]",
      "text/plain": [
       "<Figure size 640x480 with 1 Axes>"
      ]
     },
     "metadata": {},
     "output_type": "display_data"
    }
   ],
   "source": [
    "%matplotlib inline\n",
    "import matplotlib.pyplot as plt\n",
    "import seaborn; seaborn.set() # 设置图形样式\n",
    "X_test = np.linspace(-0.1, 1.1, 500)[:, None]\n",
    "plt.scatter(X.ravel(), y, color='black') \n",
    "#%%!注意,.reval()是把二位的特征矩阵转换为一维数组,这样我们画散点图才能画出来\n",
    "axis = plt.axis()\n",
    "for degree in [1, 3, 5]:\n",
    "    y_test = PolynomialRegression(degree).fit(X, y).predict(X_test)\n",
    "    plt.plot(X_test.ravel(), y_test, label='degree={0}'.format(degree))\n",
    "plt.xlim(-0.1, 1.0)\n",
    "plt.ylim(-2, 12)\n",
    "plt.legend(loc='best');\n"
   ]
  },
  {
   "cell_type": "markdown",
   "id": "b38c627f-3f99-4ed8-8437-70d459133135",
   "metadata": {},
   "source": [
    "<p class='atcenter'>图 5-27：用三种多项式回归模型拟合一份数据</p>"
   ]
  },
  {
   "cell_type": "markdown",
   "id": "d1c305e2-ca23-47b9-9366-a4cd81bd5636",
   "metadata": {},
   "source": [
    "这个例子中控制模型复杂度的关键是多项式的次数，它只要是非负\n",
    "整数就可以。那么问题来了：究竟多项式的次数是多少，才能在偏\n",
    "差（欠拟合）与方差（过拟合）间达到平衡？"
   ]
  },
  {
   "cell_type": "markdown",
   "id": "60a8b6af-b534-4da8-9d91-c5c6cd8c6686",
   "metadata": {},
   "source": [
    "我们可以通过可视化验证曲线来回答这个问题——利用 ScikitLearn 的 validation_curve 函数就可以非常简单地实现。只要提\n",
    "供模型、数据、参数名称和验证范围信息，函数就会自动计算验证\n",
    "范围内的训练得分和验证得分（如图 5-28 所示）："
   ]
  },
  {
   "cell_type": "code",
   "execution_count": 10,
   "id": "230799ad-2a28-444d-bdb7-1c9c50a9e9c9",
   "metadata": {},
   "outputs": [],
   "source": [
    "from sklearn.model_selection import validation_curve"
   ]
  },
  {
   "cell_type": "code",
   "execution_count": 19,
   "id": "602ca339-2396-43fa-8fce-9ce97fa75561",
   "metadata": {},
   "outputs": [
    {
     "ename": "TypeError",
     "evalue": "too many positional arguments",
     "output_type": "error",
     "traceback": [
      "\u001b[1;31m---------------------------------------------------------------------------\u001b[0m",
      "\u001b[1;31mTypeError\u001b[0m                                 Traceback (most recent call last)",
      "Cell \u001b[1;32mIn[19], line 2\u001b[0m\n\u001b[0;32m      1\u001b[0m degree \u001b[38;5;241m=\u001b[39m np\u001b[38;5;241m.\u001b[39marange(\u001b[38;5;241m0\u001b[39m, \u001b[38;5;241m21\u001b[39m)\n\u001b[1;32m----> 2\u001b[0m train_score, val_score \u001b[38;5;241m=\u001b[39m \u001b[43mvalidation_curve\u001b[49m\u001b[43m(\u001b[49m\u001b[43mPolynomialRegression\u001b[49m\u001b[43m(\u001b[49m\u001b[43m)\u001b[49m\u001b[43m,\u001b[49m\u001b[43m \u001b[49m\u001b[43mX\u001b[49m\u001b[43m,\u001b[49m\u001b[43m \u001b[49m\u001b[43my\u001b[49m\u001b[43m,\u001b[49m\n\u001b[0;32m      3\u001b[0m \u001b[43m                                          \u001b[49m\u001b[38;5;124;43m'\u001b[39;49m\u001b[38;5;124;43mpolynomialfeatures__degree\u001b[39;49m\u001b[38;5;124;43m'\u001b[39;49m\u001b[43m,\u001b[49m\n\u001b[0;32m      4\u001b[0m \u001b[43m                                          \u001b[49m\u001b[43mdegree\u001b[49m\u001b[43m,\u001b[49m\u001b[43m \u001b[49m\u001b[43mcv\u001b[49m\u001b[38;5;241;43m=\u001b[39;49m\u001b[38;5;241;43m7\u001b[39;49m\u001b[43m)\u001b[49m\n\u001b[0;32m      5\u001b[0m plt\u001b[38;5;241m.\u001b[39mplot(degree, np\u001b[38;5;241m.\u001b[39mmedian(train_score, \u001b[38;5;241m1\u001b[39m), color\u001b[38;5;241m=\u001b[39m\u001b[38;5;124m'\u001b[39m\u001b[38;5;124mblue\u001b[39m\u001b[38;5;124m'\u001b[39m, label\u001b[38;5;241m=\u001b[39m\u001b[38;5;124m'\u001b[39m\u001b[38;5;124mtraining score\u001b[39m\u001b[38;5;124m'\u001b[39m)\n\u001b[0;32m      6\u001b[0m plt\u001b[38;5;241m.\u001b[39mplot(degree, np\u001b[38;5;241m.\u001b[39mmedian(val_score, \u001b[38;5;241m1\u001b[39m), color\u001b[38;5;241m=\u001b[39m\u001b[38;5;124m'\u001b[39m\u001b[38;5;124mred\u001b[39m\u001b[38;5;124m'\u001b[39m, label\u001b[38;5;241m=\u001b[39m\u001b[38;5;124m'\u001b[39m\u001b[38;5;124mvalidation score\u001b[39m\u001b[38;5;124m'\u001b[39m)\n",
      "File \u001b[1;32mD:\\venvs\\ai\\Lib\\site-packages\\sklearn\\utils\\_param_validation.py:191\u001b[0m, in \u001b[0;36mvalidate_params.<locals>.decorator.<locals>.wrapper\u001b[1;34m(*args, **kwargs)\u001b[0m\n\u001b[0;32m    188\u001b[0m func_sig \u001b[38;5;241m=\u001b[39m signature(func)\n\u001b[0;32m    190\u001b[0m \u001b[38;5;66;03m# Map *args/**kwargs to the function signature\u001b[39;00m\n\u001b[1;32m--> 191\u001b[0m params \u001b[38;5;241m=\u001b[39m \u001b[43mfunc_sig\u001b[49m\u001b[38;5;241;43m.\u001b[39;49m\u001b[43mbind\u001b[49m\u001b[43m(\u001b[49m\u001b[38;5;241;43m*\u001b[39;49m\u001b[43margs\u001b[49m\u001b[43m,\u001b[49m\u001b[43m \u001b[49m\u001b[38;5;241;43m*\u001b[39;49m\u001b[38;5;241;43m*\u001b[39;49m\u001b[43mkwargs\u001b[49m\u001b[43m)\u001b[49m\n\u001b[0;32m    192\u001b[0m params\u001b[38;5;241m.\u001b[39mapply_defaults()\n\u001b[0;32m    194\u001b[0m \u001b[38;5;66;03m# ignore self/cls and positional/keyword markers\u001b[39;00m\n",
      "File \u001b[1;32mD:\\python311\\Lib\\inspect.py:3195\u001b[0m, in \u001b[0;36mSignature.bind\u001b[1;34m(self, *args, **kwargs)\u001b[0m\n\u001b[0;32m   3190\u001b[0m \u001b[38;5;28;01mdef\u001b[39;00m \u001b[38;5;21mbind\u001b[39m(\u001b[38;5;28mself\u001b[39m, \u001b[38;5;241m/\u001b[39m, \u001b[38;5;241m*\u001b[39margs, \u001b[38;5;241m*\u001b[39m\u001b[38;5;241m*\u001b[39mkwargs):\n\u001b[0;32m   3191\u001b[0m \u001b[38;5;250m    \u001b[39m\u001b[38;5;124;03m\"\"\"Get a BoundArguments object, that maps the passed `args`\u001b[39;00m\n\u001b[0;32m   3192\u001b[0m \u001b[38;5;124;03m    and `kwargs` to the function's signature.  Raises `TypeError`\u001b[39;00m\n\u001b[0;32m   3193\u001b[0m \u001b[38;5;124;03m    if the passed arguments can not be bound.\u001b[39;00m\n\u001b[0;32m   3194\u001b[0m \u001b[38;5;124;03m    \"\"\"\u001b[39;00m\n\u001b[1;32m-> 3195\u001b[0m     \u001b[38;5;28;01mreturn\u001b[39;00m \u001b[38;5;28;43mself\u001b[39;49m\u001b[38;5;241;43m.\u001b[39;49m\u001b[43m_bind\u001b[49m\u001b[43m(\u001b[49m\u001b[43margs\u001b[49m\u001b[43m,\u001b[49m\u001b[43m \u001b[49m\u001b[43mkwargs\u001b[49m\u001b[43m)\u001b[49m\n",
      "File \u001b[1;32mD:\\python311\\Lib\\inspect.py:3121\u001b[0m, in \u001b[0;36mSignature._bind\u001b[1;34m(self, args, kwargs, partial)\u001b[0m\n\u001b[0;32m   3117\u001b[0m \u001b[38;5;28;01melse\u001b[39;00m:\n\u001b[0;32m   3118\u001b[0m     \u001b[38;5;28;01mif\u001b[39;00m param\u001b[38;5;241m.\u001b[39mkind \u001b[38;5;129;01min\u001b[39;00m (_VAR_KEYWORD, _KEYWORD_ONLY):\n\u001b[0;32m   3119\u001b[0m         \u001b[38;5;66;03m# Looks like we have no parameter for this positional\u001b[39;00m\n\u001b[0;32m   3120\u001b[0m         \u001b[38;5;66;03m# argument\u001b[39;00m\n\u001b[1;32m-> 3121\u001b[0m         \u001b[38;5;28;01mraise\u001b[39;00m \u001b[38;5;167;01mTypeError\u001b[39;00m(\n\u001b[0;32m   3122\u001b[0m             \u001b[38;5;124m'\u001b[39m\u001b[38;5;124mtoo many positional arguments\u001b[39m\u001b[38;5;124m'\u001b[39m) \u001b[38;5;28;01mfrom\u001b[39;00m \u001b[38;5;28;01mNone\u001b[39;00m\n\u001b[0;32m   3124\u001b[0m     \u001b[38;5;28;01mif\u001b[39;00m param\u001b[38;5;241m.\u001b[39mkind \u001b[38;5;241m==\u001b[39m _VAR_POSITIONAL:\n\u001b[0;32m   3125\u001b[0m         \u001b[38;5;66;03m# We have an '*args'-like argument, let's fill it with\u001b[39;00m\n\u001b[0;32m   3126\u001b[0m         \u001b[38;5;66;03m# all positional arguments we have left and move on to\u001b[39;00m\n\u001b[0;32m   3127\u001b[0m         \u001b[38;5;66;03m# the next phase\u001b[39;00m\n\u001b[0;32m   3128\u001b[0m         values \u001b[38;5;241m=\u001b[39m [arg_val]\n",
      "\u001b[1;31mTypeError\u001b[0m: too many positional arguments"
     ]
    }
   ],
   "source": [
    "degree = np.arange(0, 21)\n",
    "train_score, val_score = validation_curve(PolynomialRegression(), X, y,\n",
    "                                          'polynomialfeatures__degree',\n",
    "                                          degree, cv=7)\n",
    "plt.plot(degree, np.median(train_score, 1), color='blue', label='training score')\n",
    "plt.plot(degree, np.median(val_score, 1), color='red', label='validation score')\n",
    "plt.legend(loc='best')\n",
    "plt.ylim(0, 1)\n",
    "plt.xlabel('degree')\n",
    "plt.ylabel('score');\n"
   ]
  },
  {
   "cell_type": "markdown",
   "id": "5898ba52-5dcb-4b41-abc8-fd79c46b4690",
   "metadata": {},
   "source": [
    "<p class='imp'>这个错误发生在调用 validation_curve 函数时。问题的根源在于参数的传递方式。具体地，validation_curve 需要一个字符串表示参数名称，例如 'polynomialfeatures__degree'，但代码中的 PolynomialRegression() 返回的是一个包含两个步骤（多项式特征转换和线性回归）的流水线。</p>\n",
    "\n",
    "解决方法\n",
    "在 validation_curve 中，参数 'polynomialfeatures__degree' 是用来指定 PolynomialFeatures 的 degree 参数的，因此需要确保传递给 PolynomialRegression() 的模型能够正确识别这个参数。我们可以将 PolynomialRegression 中的 degree 显式地指定为流水线中的一部分。\n",
    "\n",
    "另外，validation_curve 需要正确的参数命名和传递方式，确保你不会把多余的参数传递给它。"
   ]
  },
  {
   "cell_type": "code",
   "execution_count": 35,
   "id": "0d7e7ead-cc7a-4c7e-940c-3c8801dcc326",
   "metadata": {},
   "outputs": [
    {
     "data": {
      "image/png": "[encoded data removed]",
      "text/plain": [
       "<Figure size 640x480 with 1 Axes>"
      ]
     },
     "metadata": {},
     "output_type": "display_data"
    }
   ],
   "source": [
    "degree = np.arange(0, 21)\n",
    "# 使用validation_curve来指定好使用的模型为多项式回归PolynomialRegression()\n",
    "# 其次指定好特征矩阵和目标向量X,y\n",
    "# 然后指定参数名选取的的参数是多项式回归的项数\n",
    "# 指定多项式的项数范围为上面选定的0-20\n",
    "# 其次指明使用7折交叉检验\n",
    "train_score, val_score = validation_curve(PolynomialRegression(), X, y,\n",
    "                                          param_name='polynomialfeatures__degree',\n",
    "                                          param_range=degree, cv=7)\n",
    "plt.plot(degree, np.median(train_score, 1), color='blue', label='training score')\n",
    "plt.plot(degree, np.median(val_score, 1), color='red', label='validation score')\n",
    "plt.legend(loc='best')\n",
    "plt.ylim(0, 1)\n",
    "plt.annotate('best degree',xy=(3,0.85),xytext=(3,0.4),arrowprops=dict(facecolor='r',shrink=0.05))\n",
    "plt.xlabel('degree')\n",
    "plt.ylabel('score');\n",
    "\n"
   ]
  },
  {
   "cell_type": "markdown",
   "id": "ceabf9ff-0fcf-4655-b1bb-4e3a4fb7a644",
   "metadata": {},
   "source": [
    "<p class='atcenter'>图 5-28：图 5-27 的验证曲线（参考图 5-26）</p>"
   ]
  },
  {
   "cell_type": "markdown",
   "id": "e17f371b-f925-4ab2-8df7-d905537ba8e8",
   "metadata": {},
   "source": [
    "这幅图可以准确显示我们想要的信息：训练得分总是比验证得分\n",
    "高；训练得分随着模型复杂度的提升而单调递增；验证得分增长到\n",
    "最高点后由于过拟合而开始骤降。\n",
    "从验证曲线中可以看出，偏差与方差均衡性最好的是三次多项式。"
   ]
  },
  {
   "cell_type": "markdown",
   "id": "737e5b40-ea08-44c6-bb92-f989920940c1",
   "metadata": {},
   "source": [
    "ax.annotate('cosx',xy=(2,-0.5),xytext=(2,-1.5),arrowprops=dict(facecolor='blue',arrowstyle='->',connectionstyle=\"angle3,angleA=0,angleB=-90\"))\n",
    "这段代码使用 ax.annotate 在图中添加注释。下面是各个参数的解释：\n",
    "\n",
    "ax.annotate('cosx', ...)\n",
    "'cosx' 是注释文本，表示你希望在图中显示的内容。\n",
    "xy=(2,-0.5)\n",
    "xy 参数指定了注释文本的目标位置，即箭头指向的坐标 (x=2, y=-0.5)。\n",
    "xytext=(2,-1.5)\n",
    "xytext 参数指定了注释文本的起始位置，即文本显示的坐标。这里设置为 (x=2, y=-1.5)，说明文本将位于目标位置下方。\n",
    "arrowprops=dict(facecolor='blue', arrowstyle='->', connectionstyle=\"angle3,angleA=0,angleB=-90\")\n",
    "arrowprops 是一个字典，用来控制箭头的样式。\n",
    "facecolor='blue'：箭头的颜色是蓝色。\n",
    "arrowstyle='->'：箭头的样式是简单的箭头，指向目标位置。\n",
    "connectionstyle=\"angle3,angleA=0,angleB=-90\"：定义箭头连接的样式。\n",
    "angle3 是指使用三个角度来绘制连接线，通常用于展示有弯曲的箭头。\n",
    "angleA=0 和 angleB=-90 定义了连接箭头的两个角度，表示箭头从起始点以 0 度角度出发，弯曲到 -90 度，最终指向目标位置。"
   ]
  },
  {
   "cell_type": "code",
   "execution_count": 24,
   "id": "7b67ed36-adae-4ccb-918d-625713e32b4b",
   "metadata": {},
   "outputs": [
    {
     "data": {
      "text/plain": [
       "array([[0.        , 0.        , 0.        , 0.        , 0.        ,\n",
       "        0.        , 0.        ],\n",
       "       [0.72060505, 0.73235327, 0.71615237, 0.75517775, 0.6979951 ,\n",
       "        0.74351307, 0.71104367],\n",
       "       [0.8966661 , 0.89427274, 0.88460403, 0.90482859, 0.87685741,\n",
       "        0.90106431, 0.90420325],\n",
       "       [0.92830604, 0.93586649, 0.93273606, 0.95501615, 0.91919623,\n",
       "        0.92673491, 0.9402878 ],\n",
       "       [0.9386132 , 0.94947024, 0.94775706, 0.9632512 , 0.93425141,\n",
       "        0.94148127, 0.94641559],\n",
       "       [0.94121068, 0.94988755, 0.94891078, 0.9637873 , 0.93481636,\n",
       "        0.94464031, 0.94706837],\n",
       "       [0.94280027, 0.95011515, 0.95028793, 0.96555698, 0.93622172,\n",
       "        0.94504929, 0.94928043],\n",
       "       [0.94465044, 0.95166164, 0.95034312, 0.96584535, 0.93731514,\n",
       "        0.94571392, 0.95274503],\n",
       "       [0.94465097, 0.95169173, 0.95126473, 0.96709791, 0.93735454,\n",
       "        0.9484231 , 0.95274521],\n",
       "       [0.94935834, 0.9537075 , 0.95317786, 0.96799601, 0.93964532,\n",
       "        0.9490145 , 0.9527462 ],\n",
       "       [0.94936121, 0.95532262, 0.95403569, 0.97143334, 0.94283046,\n",
       "        0.95302621, 0.95316414],\n",
       "       [0.95004308, 0.95545384, 0.95410179, 0.97176131, 0.94606336,\n",
       "        0.95487769, 0.95317637],\n",
       "       [0.95800395, 0.95952176, 0.95867405, 0.97180582, 0.94724875,\n",
       "        0.95489589, 0.95812976],\n",
       "       [0.96018866, 0.960872  , 0.9604493 , 0.9761954 , 0.94796879,\n",
       "        0.95489902, 0.96158139],\n",
       "       [0.96062421, 0.96155007, 0.96186498, 0.97705999, 0.94977215,\n",
       "        0.95582416, 0.96158537],\n",
       "       [0.9618062 , 0.96211504, 0.96199218, 0.97734912, 0.95020002,\n",
       "        0.95586154, 0.96163618],\n",
       "       [0.96182216, 0.96288239, 0.9629594 , 0.97858442, 0.95024067,\n",
       "        0.95608857, 0.96170853],\n",
       "       [0.96184624, 0.96412665, 0.97046438, 0.97865436, 0.95024302,\n",
       "        0.95647151, 0.96181988],\n",
       "       [0.96186251, 0.96687058, 0.97311193, 0.98071787, 0.95894506,\n",
       "        0.95647738, 0.9685061 ],\n",
       "       [0.96653684, 0.96784126, 0.97346327, 0.9809652 , 0.9599227 ,\n",
       "        0.95960283, 0.9688925 ],\n",
       "       [0.96779036, 0.96766166, 0.97365308, 0.98186988, 0.96352747,\n",
       "        0.95994277, 0.96905781]])"
      ]
     },
     "execution_count": 24,
     "metadata": {},
     "output_type": "execute_result"
    }
   ],
   "source": [
    "train_score"
   ]
  },
  {
   "cell_type": "markdown",
   "id": "100438fb-6c8b-4b20-9b42-b870b91acf5b",
   "metadata": {},
   "source": [
    "<img src='../img/09.png'></img>"
   ]
  },
  {
   "cell_type": "markdown",
   "id": "d0e9ae20-740d-4c3f-9bec-d37351ed04b8",
   "metadata": {},
   "source": [
    "解读,为什么我们要使用np.median(train_score, 1) 中的1      \n",
    "看上图,没截图完整，但总共是21行，7列，21行代表的是我们选取的特征多项式的项数       \n",
    "每一列代表的是7折交叉检验中每次的得分    \n",
    "那么我们要比较的是各个项数的得分情况，自然要取得每一行数据的中位数，     \n",
    "指定np.median(train_score, 1)即为按行来求中位数,axis=1就是按行,如果指为0那么就是按列"
   ]
  },
  {
   "cell_type": "code",
   "execution_count": 22,
   "id": "b81f8656-a703-403e-8b3d-28b821635e6f",
   "metadata": {},
   "outputs": [
    {
     "data": {
      "text/plain": [
       "(21, 7)"
      ]
     },
     "execution_count": 22,
     "metadata": {},
     "output_type": "execute_result"
    }
   ],
   "source": [
    "train_score.shape"
   ]
  },
  {
   "cell_type": "code",
   "execution_count": 23,
   "id": "0e953304-a990-4721-8feb-9a34c99687a8",
   "metadata": {},
   "outputs": [
    {
     "data": {
      "text/plain": [
       "(21, 7)"
      ]
     },
     "execution_count": 23,
     "metadata": {},
     "output_type": "execute_result"
    }
   ],
   "source": [
    "val_score.shape"
   ]
  },
  {
   "cell_type": "markdown",
   "id": "2e4956b2-5d26-4a60-b9f1-0b66676c3a27",
   "metadata": {},
   "source": [
    "这段代码使用了 validation_curve 函数来评估多项式回归模型在不同多项式度数下的表现。我们逐行分析代码，并解释 np.median(train_score, 1) 中 1 的含义。\n",
    "\n",
    "代码解读\n",
    "degree = np.arange(0, 21)\n",
    "\n",
    "这里创建了一个数组 degree，其元素是从 0 到 20 的整数（21 不包括在内）。这个数组用于定义多项式回归中多项式的度数范围，模型会在这些度数下进行训练和验证。\n",
    "train_score, val_score = validation_curve(PolynomialRegression(), X, y, param_name='polynomialfeatures__degree', param_range=degree, cv=7)\n",
    "\n",
    "validation_curve 是一个交叉验证工具，用于评估模型在不同超参数设置下的表现。\n",
    "PolynomialRegression() 是使用的多项式回归模型。\n",
    "X 和 y 是特征矩阵和目标向量。\n",
    "param_name='polynomialfeatures__degree' 指定了要调整的超参数是多项式的度数，这里通过 polynomialfeatures__degree 来控制。\n",
    "param_range=degree 是超参数的取值范围，即从 0 到 20。\n",
    "cv=7 表示使用 7 折交叉验证来评估每个多项式度数下的模型表现。\n",
    "该函数返回两个数组：\n",
    "\n",
    "train_score：在不同度数下训练集的得分。\n",
    "val_score：在不同度数下验证集的得分。\n",
    "plt.plot(degree, np.median(train_score, 1), color='blue', label='training score')\n",
    "\n",
    "这里绘制了一个训练得分的曲线，横轴是多项式的度数，纵轴是训练集的中位数得分。\n",
    "np.median(train_score, 1) 计算的是训练得分的中位数，按行进行操作，即计算每个多项式度数下训练得分的中位数。\n",
    "plt.plot(degree, np.median(val_score, 1), color='red', label='validation score')\n",
    "\n",
    "类似地，绘制了验证得分的曲线。\n",
    "plt.legend(loc='best')\n",
    "\n",
    "添加图例，loc='best' 会自动选择最合适的位置。\n",
    "plt.ylim(0, 1)\n",
    "\n",
    "设置纵轴的范围为 [0, 1]，通常得分会在这个范围内。\n",
    "plt.xlabel('degree')\n",
    "\n",
    "设置横轴标签为 'degree'，表示多项式的度数。\n",
    "plt.ylabel('score')\n",
    "\n",
    "设置纵轴标签为 'score'，表示得分。\n",
    "np.median(train_score, 1) 中 1 的含义\n",
    "np.median 是计算中位数的函数。它的第二个参数表示沿着哪个轴进行计算。\n",
    "axis=0：表示按列计算中位数，即对于每个特征（在本例中是每个多项式度数），在所有交叉验证折叠中的训练得分求中位数。\n",
    "axis=1：表示按行计算中位数，即对于每个交叉验证折叠中的所有度数，计算每个度数下的训练得分中位数。\n",
    "由于 train_score 的形状是 (n_samples, n_degrees)，其中 n_samples 是折叠数（这里是 7），n_degrees 是多项式度数的数量（21），因此 axis=1 的意思是沿着折叠的维度计算中位数，也就是说，返回每个度数在所有折叠中的中位数得分。\n",
    "\n",
    "希望这些解释能够帮助你理解代码的含义和 np.median(train_score, 1) 中的 1。"
   ]
  },
  {
   "cell_type": "code",
   "execution_count": null,
   "id": "56aef4a2-5137-40c1-b98c-70cfabbd0d58",
   "metadata": {},
   "outputs": [],
   "source": []
  },
  {
   "cell_type": "markdown",
   "id": "2904a9fd-0ebc-4f16-8e1c-9e85bd5e1948",
   "metadata": {},
   "source": [
    "我们可以计算结果，并将模型画在原始数据上（如图 5-29 所\n",
    "示）："
   ]
  },
  {
   "cell_type": "code",
   "execution_count": 36,
   "id": "8b90e632-ea7f-4381-8521-8d98bed8f75b",
   "metadata": {},
   "outputs": [
    {
     "data": {
      "image/png": "[encoded data removed]",
      "text/plain": [
       "<Figure size 640x480 with 1 Axes>"
      ]
     },
     "metadata": {},
     "output_type": "display_data"
    }
   ],
   "source": [
    "plt.scatter(X.ravel(), y)\n",
    "lim = plt.axis()\n",
    "# 上面确定好了最优的多项式项数是3相当于确定了最优的参数\n",
    "# 接下来就指定模型的参数来拟合特征矩阵与目标向量然后预测测试集得到测试集的预测数据y_test\n",
    "y_test = PolynomialRegression(3).fit(X, y).predict(X_test)\n",
    "plt.plot(X_test.ravel(), y_test);\n",
    "plt.axis(lim);"
   ]
  },
  {
   "cell_type": "markdown",
   "id": "666c2021-5cd8-447b-a664-b5a4a0f36ea4",
   "metadata": {},
   "source": [
    "<p class='atcenter'>图 5-29：图 5-27 数据的交叉检验最优模型</p>"
   ]
  },
  {
   "cell_type": "markdown",
   "id": "cff9a56d-f959-4cb3-81ac-79a7dc67db78",
   "metadata": {},
   "source": [
    "虽然寻找最优模型并不需要我们计算训练得分，但是检查训练得分\n",
    "与验证得分之间的关系可以让我们对模型的性能有更加直观的认\n",
    "识。\n"
   ]
  },
  {
   "cell_type": "markdown",
   "id": "5a0735c3-5c6b-436e-9b8d-60826fcda191",
   "metadata": {},
   "source": [
    "### 5.3.3 学习曲线"
   ]
  },
  {
   "cell_type": "markdown",
   "id": "389faa5e-d8c7-40b5-960a-66966cb4d365",
   "metadata": {},
   "source": [
    "影响模型复杂度的另一个重要因素是最优模型往往受到训练数据量的影\n",
    "响。例如，生成前面 5 倍的数据（200 个点）（如图 5-30 所示）："
   ]
  },
  {
   "cell_type": "code",
   "execution_count": null,
   "id": "ea53b5a2-7c69-40ed-bb53-4106d235be01",
   "metadata": {},
   "outputs": [],
   "source": [
    "X2, y2 = make_data(200)\n",
    "plt.scatter(X2.ravel(), y2);"
   ]
  }
 ],
 "metadata": {
  "kernelspec": {
   "display_name": "Python 3 (ipykernel)",
   "language": "python",
   "name": "python3"
  },
  "language_info": {
   "codemirror_mode": {
    "name": "ipython",
    "version": 3
   },
   "file_extension": ".py",
   "mimetype": "text/x-python",
   "name": "python",
   "nbconvert_exporter": "python",
   "pygments_lexer": "ipython3",
   "version": "3.11.9"
  }
 },
 "nbformat": 4,
 "nbformat_minor": 5
}
