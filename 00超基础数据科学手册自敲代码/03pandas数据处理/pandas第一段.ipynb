{
 "cells": [
  {
   "cell_type": "code",
   "execution_count": 1,
   "id": "44564cf1-ab0d-4b61-b3b9-50e557d4f2ff",
   "metadata": {},
   "outputs": [
    {
     "data": {
      "text/html": [
       "<style type='text/css'>\n",
       "    *{\n",
       "        # background-color:#E3EDCD;\n",
       "        # background-color:black;\n",
       "        # color:white;\n",
       "        \n",
       "    }\n",
       "    h1{\n",
       "        color:#1976d2;\n",
       "    }\n",
       "    h2{\n",
       "        color:#f57c00;\n",
       "    }\n",
       "    h3{\n",
       "        color:#ba37ff;\n",
       "    }\n",
       "    table{\n",
       "        border:1px solid black !important;\n",
       "        border-collapse:collapse !important;\n",
       "    }\n",
       "    th{\n",
       "        background-color:blueviolet !important;\n",
       "        text-align:center;\n",
       "        color:white;\n",
       "    }\n",
       "    th,td{\n",
       "        border:0.1px solid black !important;\n",
       "        transition:0.2s all liner;\n",
       "        \n",
       "    }\n",
       "    td:hover{\n",
       "        transform:scale(1.1);\n",
       "        background-color:orange;\n",
       "        color:blueviolet;\n",
       "    }\n",
       "    .raw{\n",
       "        white-space:pre;\n",
       "    }\n",
       "</style>\n"
      ],
      "text/plain": [
       "<IPython.core.display.HTML object>"
      ]
     },
     "metadata": {},
     "output_type": "display_data"
    }
   ],
   "source": [
    "%%HTML\n",
    "<style type='text/css'>\n",
    "    *{\n",
    "        # background-color:#E3EDCD;\n",
    "        # background-color:black;\n",
    "        # color:white;\n",
    "        \n",
    "    }\n",
    "    h1{\n",
    "        color:#1976d2;\n",
    "    }\n",
    "    h2{\n",
    "        color:#f57c00;\n",
    "    }\n",
    "    h3{\n",
    "        color:#ba37ff;\n",
    "    }\n",
    "    table{\n",
    "        border:1px solid black !important;\n",
    "        border-collapse:collapse !important;\n",
    "    }\n",
    "    th{\n",
    "        background-color:blueviolet !important;\n",
    "        text-align:center;\n",
    "        color:white;\n",
    "    }\n",
    "    th,td{\n",
    "        border:0.1px solid black !important;\n",
    "        transition:0.2s all liner;\n",
    "        \n",
    "    }\n",
    "    td:hover{\n",
    "        transform:scale(1.1);\n",
    "        background-color:orange;\n",
    "        color:blueviolet;\n",
    "    }\n",
    "    .raw{\n",
    "        white-space:pre;\n",
    "    }\n",
    "</style>"
   ]
  },
  {
   "cell_type": "markdown",
   "id": "938d47c8-2536-482b-a147-4e1160231546",
   "metadata": {},
   "source": [
    "<h1>第 3 章 Pandas数据处理</h1>"
   ]
  },
  {
   "cell_type": "markdown",
   "id": "df1c8331-c9c8-4ae5-bd03-5d386899ff68",
   "metadata": {},
   "source": [
    "<p class='raw'>\n",
    "在上一章中，我们详细介绍了 NumPy 和它的 ndarray 对象，这个对象\n",
    "为 Python 多维数组提供了高效的存储和处理方法。下面，我们将基于\n",
    "前面的知识，深入学习 Pandas 程序库提供的数据结构。Pandas 是在\n",
    "NumPy 基础上建立的新程序库，提供了一种高效的 DataFrame 数据结\n",
    "构。DataFrame 本质上是一种带行标签和列标签、支持相同类型数据和\n",
    "缺失值的多维数组。Pandas 不仅为带各种标签的数据提供了便利的存储\n",
    "界面，还实现了许多强大的操作，这些操作对数据库框架和电子表格程\n",
    "序的用户来说非常熟悉。\n",
    "正如我们之前看到的那样，NumPy 的 ndarray 数据结构为数值计算任\n",
    "务中常见的干净整齐、组织良好的数据提供了许多不可或缺的功能。虽\n",
    "然它在这方面做得很好，但是当我们需要处理更灵活的数据任务（如为\n",
    "数据添加标签、处理缺失值等），或者需要做一些不是对每个元素都进\n",
    "行广播映射的计算（如分组、透视表等）时，NumPy 的限制就非常明\n",
    "显了，而这些都是分析各种非结构化数据时很重要的一部分。建立在\n",
    "NumPy 数组结构上的 Pandas，尤其是它的 Series 和 DataFrame 对\n",
    "象，为数据科学家们处理那些消耗大量时间的“数据清理”（data\n",
    "munging）任务提供了捷径。\n",
    "本章将重点介绍 Series、DataFrame 和其他相关数据结构的高效使用\n",
    "方法。我们会酌情使用真实数据集作为演示示例，但这些示例本身并不\n",
    "是学习重点。\n",
    "</p>"
   ]
  },
  {
   "cell_type": "markdown",
   "id": "908c2666-448e-4c20-af16-3145222209c3",
   "metadata": {},
   "source": [
    "<h2>3.1 安装并使用Pandas</h2>"
   ]
  },
  {
   "cell_type": "markdown",
   "id": "5c9f24c8-1daf-4fed-8a6c-eb6fe4a7c267",
   "metadata": {},
   "source": [
    "<p class='raw'>在安装 Pandas 之前，确保你的操作系统中有 NumPy。如果你是从源代\n",
    "码直接编译，那么还需要相应的工具编译建立 Pandas 所需的 C 语言与\n",
    "Cython 代码。详细的安装方法，请参考 Pandas 官方文档\n",
    "（http://pandas.pydata.org/）。如果你按照前言的建议使用了\n",
    "Anaconda，那么 Pandas 就已经安装好了。\n",
    "Pandas 安装好之后，可以导入它检查一下版本号：</p>"
   ]
  },
  {
   "cell_type": "code",
   "execution_count": 3,
   "id": "56919a95-a474-43e7-b588-1e29e7488461",
   "metadata": {},
   "outputs": [
    {
     "data": {
      "text/plain": [
       "'2.2.2'"
      ]
     },
     "execution_count": 3,
     "metadata": {},
     "output_type": "execute_result"
    }
   ],
   "source": [
    "import pandas\n",
    "pandas.__version__"
   ]
  },
  {
   "cell_type": "markdown",
   "id": "e65fe98b-26d0-4848-8469-a20238d3dc35",
   "metadata": {},
   "source": [
    "<p>和之前导入 NumPy 并使用别名 np 一样，我们将导入 Pandas 并使用别\n",
    "名 pd：</p>"
   ]
  },
  {
   "cell_type": "code",
   "execution_count": 4,
   "id": "b1551f70-5c33-4818-9832-7d48abc5f06c",
   "metadata": {},
   "outputs": [],
   "source": [
    "import pandas as pd"
   ]
  },
  {
   "cell_type": "markdown",
   "id": "29a34fd2-4944-46c4-bfa1-41d7b68684c1",
   "metadata": {},
   "source": [
    "<p class='raw'>\n",
    "这种简写方式将贯穿本书。\n",
    "关于显示内置文档的提醒\n",
    "当你阅读本章时，不要忘了 IPython 可以快速浏览软件包的内容\n",
    "（通过 Tab 键补全功能），以及各种函数的文档（使用?）。（如\n",
    "果你需要复习相关内容，请参见 1.2 节。）\n",
    "例如，可以通过按下 Tab 键显示 pandas 命名空间的所有内容：\n",
    "In [3]: pd.\n",
    "如果要显示 Pandas 的内置文档，可以这样做：\n",
    "</p>"
   ]
  },
  {
   "cell_type": "code",
   "execution_count": 6,
   "id": "91ec5a14-8d98-4015-8433-cf7ddef113ff",
   "metadata": {},
   "outputs": [
    {
     "data": {
      "text/plain": [
       "\u001b[1;31mType:\u001b[0m        module\n",
       "\u001b[1;31mString form:\u001b[0m <module 'pandas' from 'D:\\\\virtualenvs\\\\ai\\\\lib\\\\site-packages\\\\pandas\\\\__init__.py'>\n",
       "\u001b[1;31mFile:\u001b[0m        d:\\virtualenvs\\ai\\lib\\site-packages\\pandas\\__init__.py\n",
       "\u001b[1;31mDocstring:\u001b[0m  \n",
       "pandas - a powerful data analysis and manipulation library for Python\n",
       "=====================================================================\n",
       "\n",
       "**pandas** is a Python package providing fast, flexible, and expressive data\n",
       "structures designed to make working with \"relational\" or \"labeled\" data both\n",
       "easy and intuitive. It aims to be the fundamental high-level building block for\n",
       "doing practical, **real world** data analysis in Python. Additionally, it has\n",
       "the broader goal of becoming **the most powerful and flexible open source data\n",
       "analysis / manipulation tool available in any language**. It is already well on\n",
       "its way toward this goal.\n",
       "\n",
       "Main Features\n",
       "-------------\n",
       "Here are just a few of the things that pandas does well:\n",
       "\n",
       "  - Easy handling of missing data in floating point as well as non-floating\n",
       "    point data.\n",
       "  - Size mutability: columns can be inserted and deleted from DataFrame and\n",
       "    higher dimensional objects\n",
       "  - Automatic and explicit data alignment: objects can be explicitly aligned\n",
       "    to a set of labels, or the user can simply ignore the labels and let\n",
       "    `Series`, `DataFrame`, etc. automatically align the data for you in\n",
       "    computations.\n",
       "  - Powerful, flexible group by functionality to perform split-apply-combine\n",
       "    operations on data sets, for both aggregating and transforming data.\n",
       "  - Make it easy to convert ragged, differently-indexed data in other Python\n",
       "    and NumPy data structures into DataFrame objects.\n",
       "  - Intelligent label-based slicing, fancy indexing, and subsetting of large\n",
       "    data sets.\n",
       "  - Intuitive merging and joining data sets.\n",
       "  - Flexible reshaping and pivoting of data sets.\n",
       "  - Hierarchical labeling of axes (possible to have multiple labels per tick).\n",
       "  - Robust IO tools for loading data from flat files (CSV and delimited),\n",
       "    Excel files, databases, and saving/loading data from the ultrafast HDF5\n",
       "    format.\n",
       "  - Time series-specific functionality: date range generation and frequency\n",
       "    conversion, moving window statistics, date shifting and lagging."
      ]
     },
     "metadata": {},
     "output_type": "display_data"
    }
   ],
   "source": [
    "pd?"
   ]
  },
  {
   "cell_type": "markdown",
   "id": "2144eec5-cfe1-4bc9-aef8-608ff2dd1e58",
   "metadata": {},
   "source": [
    "<p class='raw'>详细的文档请参考 http://pandas.pydata.org/，里面除了有基础教程，\n",
    "还有许多有用的资源。</p>"
   ]
  },
  {
   "cell_type": "markdown",
   "id": "7f68a174-b94b-4657-b995-a2602e023ff3",
   "metadata": {},
   "source": [
    "<h2>3.2 Pandas对象简介</h2>"
   ]
  },
  {
   "cell_type": "markdown",
   "id": "12a1dace-0568-49e4-a8f4-1ff40ff446a0",
   "metadata": {},
   "source": [
    "<p>如果从底层视角观察 Pandas 对象，可以把它们看成增强版的 NumPy 结\n",
    "构化数组，行列都不再只是简单的整数索引，还可以带上标签。在本章\n",
    "后面的内容中我们将会发现，虽然 Pandas 在基本数据结构上实现了许\n",
    "多便利的工具、方法和功能，但是后面将要介绍的每一个工具、方法和\n",
    "功能几乎都需要我们理解基本数据结构的内部细节。因此，在深入学习\n",
    "Pandas 之前，先来看看 Pandas 的三个基本数据结\n",
    "构：Series、DataFrame 和 Index。</p>"
   ]
  },
  {
   "cell_type": "markdown",
   "id": "b5b3e0ea-c5e6-4d1c-86ed-bb40f329c614",
   "metadata": {},
   "source": [
    "<p>从导入标准 NumPy 和 Pandas 开始：</p>"
   ]
  },
  {
   "cell_type": "code",
   "execution_count": 7,
   "id": "2641c16c-036f-49de-b5b2-1560a9168d52",
   "metadata": {},
   "outputs": [],
   "source": [
    "import numpy as np\n",
    "import pandas as pd"
   ]
  },
  {
   "cell_type": "markdown",
   "id": "a68becd8-291e-4a6e-aded-59016894ff12",
   "metadata": {},
   "source": [
    "<h3>3.2.1 Pandas的Series对象</h3>"
   ]
  },
  {
   "cell_type": "markdown",
   "id": "0dc6eb98-f53d-4db5-9d69-d78facb111dc",
   "metadata": {},
   "source": [
    "<p>Pandas 的 Series 对象是一个带索引数据构成的一维数组。可以用一个\n",
    "数组创建 Series 对象，如下所示：</p>"
   ]
  },
  {
   "cell_type": "code",
   "execution_count": 9,
   "id": "e27c5f97-77fb-4521-8c0c-122fae9baea8",
   "metadata": {},
   "outputs": [
    {
     "data": {
      "text/plain": [
       "0    0.25\n",
       "1    0.50\n",
       "2    0.75\n",
       "3    1.00\n",
       "dtype: float64"
      ]
     },
     "execution_count": 9,
     "metadata": {},
     "output_type": "execute_result"
    }
   ],
   "source": [
    "data = pd.Series([0.25, 0.5, 0.75, 1.0])\n",
    "data"
   ]
  },
  {
   "cell_type": "markdown",
   "id": "1f859d10-5a4a-468f-aa2f-8cb12a3024d9",
   "metadata": {},
   "source": [
    "<p>从上面的结果中，你会发现 Series 对象将一组数据和一组索引绑定在\n",
    "一起，我们可以通过 values 属性和 index 属性获取数据。values 属\n",
    "性返回的结果与 NumPy 数组类似：</p>"
   ]
  },
  {
   "cell_type": "code",
   "execution_count": 10,
   "id": "8a01d632-a81c-4fbd-b452-285e869ce7cd",
   "metadata": {},
   "outputs": [
    {
     "data": {
      "text/plain": [
       "array([0.25, 0.5 , 0.75, 1.  ])"
      ]
     },
     "execution_count": 10,
     "metadata": {},
     "output_type": "execute_result"
    }
   ],
   "source": [
    "data.values"
   ]
  },
  {
   "cell_type": "markdown",
   "id": "89736bc9-c133-47d0-80cf-e60a19f64f64",
   "metadata": {},
   "source": [
    "<p>index 属性返回的结果是一个类型为 pd.Index 的类数组对象，我们将\n",
    "在后面的内容里详细介绍它：</p>"
   ]
  },
  {
   "cell_type": "code",
   "execution_count": 11,
   "id": "c5d79068-5cfe-445d-9d31-be693e2c979c",
   "metadata": {},
   "outputs": [
    {
     "data": {
      "text/plain": [
       "RangeIndex(start=0, stop=4, step=1)"
      ]
     },
     "execution_count": 11,
     "metadata": {},
     "output_type": "execute_result"
    }
   ],
   "source": [
    "data.index"
   ]
  },
  {
   "cell_type": "markdown",
   "id": "3cfe1465-7240-48e7-9110-50908f34bbbe",
   "metadata": {},
   "source": [
    "<p>和NumPy 数组一样，数据可以通过 Python 的中括号索引标签获取：</p>"
   ]
  },
  {
   "cell_type": "code",
   "execution_count": 12,
   "id": "1e16c8ce-33aa-4c5f-8617-e714052053de",
   "metadata": {},
   "outputs": [
    {
     "data": {
      "text/plain": [
       "np.float64(0.5)"
      ]
     },
     "execution_count": 12,
     "metadata": {},
     "output_type": "execute_result"
    }
   ],
   "source": [
    "data[1]"
   ]
  },
  {
   "cell_type": "code",
   "execution_count": 13,
   "id": "c0303579-902f-471e-b4d0-cc4a0e4f9883",
   "metadata": {},
   "outputs": [
    {
     "data": {
      "text/plain": [
       "1    0.50\n",
       "2    0.75\n",
       "dtype: float64"
      ]
     },
     "execution_count": 13,
     "metadata": {},
     "output_type": "execute_result"
    }
   ],
   "source": [
    "data[1:3]"
   ]
  },
  {
   "cell_type": "markdown",
   "id": "7bd19026-9aca-4bd5-b254-bf8c90d988e1",
   "metadata": {},
   "source": [
    "<p>但是我们将会看到，Pandas 的 Series 对象比它模仿的一维 NumPy 数\n",
    "组更加通用、灵活。</p>"
   ]
  },
  {
   "cell_type": "markdown",
   "id": "c57f9490-a8e2-4fc0-856a-5114d3f8c1d5",
   "metadata": {},
   "source": [
    "<h4>01. Serise是通用的NumPy数组</h4>"
   ]
  },
  {
   "cell_type": "markdown",
   "id": "38031926-a1c5-4b2a-970c-130c9138f35b",
   "metadata": {},
   "source": [
    "<p class='raw'>\n",
    "到目前为止，我们可能觉得 Series 对象和一维 NumPy 数组基本\n",
    "可以等价交换，但两者间的本质差异其实是索引：NumPy 数组通\n",
    "过隐式定义的整数索引获取数值，而 Pandas 的 Series 对象用一\n",
    "种显式定义的索引与数值关联。\n",
    "显式索引的定义让 Series 对象拥有了更强的能力。例如，索引不\n",
    "再仅仅是整数，还可以是任意想要的类型。如果需要，完全可以用\n",
    "字符串定义索引：\n",
    "</p>"
   ]
  },
  {
   "cell_type": "code",
   "execution_count": 14,
   "id": "fc03ef0d-b49b-498f-8294-54242066a5ce",
   "metadata": {},
   "outputs": [
    {
     "data": {
      "text/plain": [
       "a    0.25\n",
       "b    0.50\n",
       "c    0.75\n",
       "d    1.00\n",
       "dtype: float64"
      ]
     },
     "execution_count": 14,
     "metadata": {},
     "output_type": "execute_result"
    }
   ],
   "source": [
    "data = pd.Series([0.25,0.5,0.75,1.0],index=['a','b','c','d'])\n",
    "data"
   ]
  },
  {
   "cell_type": "markdown",
   "id": "05261d77-bd35-43db-a1e7-1a446acc9fb2",
   "metadata": {},
   "source": [
    "<p>也可以使用不连续或不按顺序的索引：</p>"
   ]
  },
  {
   "cell_type": "code",
   "execution_count": 15,
   "id": "395cda4e-2d4b-44d8-9f7f-fb34ea26e348",
   "metadata": {},
   "outputs": [
    {
     "data": {
      "text/plain": [
       "2    0.25\n",
       "5    0.50\n",
       "3    0.75\n",
       "7    1.00\n",
       "dtype: float64"
      ]
     },
     "execution_count": 15,
     "metadata": {},
     "output_type": "execute_result"
    }
   ],
   "source": [
    "data = pd.Series([0.25,0.5,0.75,1.0],index=[2,5,3,7])\n",
    "data"
   ]
  },
  {
   "cell_type": "code",
   "execution_count": 16,
   "id": "d10ab5ca-9713-4ad1-bf13-ea1d914d9a39",
   "metadata": {},
   "outputs": [
    {
     "data": {
      "text/plain": [
       "np.float64(0.5)"
      ]
     },
     "execution_count": 16,
     "metadata": {},
     "output_type": "execute_result"
    }
   ],
   "source": [
    "data[5]"
   ]
  },
  {
   "cell_type": "markdown",
   "id": "0a2c400a-49e4-495e-9269-fbf7feae2758",
   "metadata": {},
   "source": [
    "<h4>02. Series是特殊的字典</h4>"
   ]
  },
  {
   "cell_type": "markdown",
   "id": "9c1d3c5b-8dbd-4973-af28-6dee9bcf89a1",
   "metadata": {},
   "source": [
    "<p class='raw'>你可以把 Pandas 的 Series 对象看成一种特殊的 Python 字典。字\n",
    "典是一种将任意键映射到一组任意值的数据结构，而 Series 对象\n",
    "其实是一种将类型键映射到一组类型值的数据结构。类型至关重\n",
    "要：就像 NumPy 数组背后特定类型的经过编译的代码使得它在某\n",
    "些操作上比普通的 Python 列表更加高效一样，Pandas Series 的类\n",
    "型信息使得它在某些操作上比 Python 的字典更高效。\n",
    "我们可以直接用 Python 的字典创建一个 Series 对象，让 Series\n",
    "对象与字典的类比更加清晰：</p>"
   ]
  },
  {
   "cell_type": "code",
   "execution_count": 4,
   "id": "2a753c9c-5eed-4165-b0c9-32f9244d9071",
   "metadata": {},
   "outputs": [],
   "source": [
    "population_dict = {'California': 38332521,\n",
    "                    'Texas': 26448193,\n",
    "                    'New York': 19651127,\n",
    "                    'Florida': 19552860,\n",
    "                    'Illinois': 12882135}\n",
    "population = pd.Series(population_dict)"
   ]
  },
  {
   "cell_type": "code",
   "execution_count": 5,
   "id": "859a43f1-7993-4f6e-9b7b-358dda0f14ee",
   "metadata": {},
   "outputs": [
    {
     "data": {
      "text/plain": [
       "California    38332521\n",
       "Texas         26448193\n",
       "New York      19651127\n",
       "Florida       19552860\n",
       "Illinois      12882135\n",
       "dtype: int64"
      ]
     },
     "execution_count": 5,
     "metadata": {},
     "output_type": "execute_result"
    }
   ],
   "source": [
    "population"
   ]
  },
  {
   "cell_type": "markdown",
   "id": "15c42abb-b30d-4d17-be0a-4ba6596df1b0",
   "metadata": {},
   "source": [
    "<p>用字典创建 Series 对象时，其索引默认按照顺序排列。典型的字\n",
    "典数值获取方式仍然有效：</p>"
   ]
  },
  {
   "cell_type": "code",
   "execution_count": 19,
   "id": "58e94213-9464-4516-adc5-5870ffe71845",
   "metadata": {},
   "outputs": [
    {
     "data": {
      "text/plain": [
       "np.int64(38332521)"
      ]
     },
     "execution_count": 19,
     "metadata": {},
     "output_type": "execute_result"
    }
   ],
   "source": [
    "population['California']"
   ]
  },
  {
   "cell_type": "markdown",
   "id": "b6eeb7ff-f957-43e5-9fd0-48cf13d4a828",
   "metadata": {},
   "source": [
    "<p>和字典不同，Series 对象还支持数组形式的操作，比如切片：</p>"
   ]
  },
  {
   "cell_type": "code",
   "execution_count": 20,
   "id": "1b619be9-ab29-4325-a992-3f5f0ee603f4",
   "metadata": {},
   "outputs": [
    {
     "data": {
      "text/plain": [
       "California    38332521\n",
       "Texas         26448193\n",
       "New York      19651127\n",
       "Florida       19552860\n",
       "Illinois      12882135\n",
       "dtype: int64"
      ]
     },
     "execution_count": 20,
     "metadata": {},
     "output_type": "execute_result"
    }
   ],
   "source": [
    "population['California':'Illinois']"
   ]
  },
  {
   "cell_type": "markdown",
   "id": "be191a7a-07ed-44b8-bda1-c6312e465efb",
   "metadata": {},
   "source": [
    "<p>我们将在 3.3 节中介绍 Pandas 取值与切片的一些技巧。</p>"
   ]
  },
  {
   "cell_type": "markdown",
   "id": "997e02bc-1551-450e-af14-d775ed1d2869",
   "metadata": {},
   "source": [
    "<h4>03. 创建Series对象</h4>"
   ]
  },
  {
   "cell_type": "markdown",
   "id": "6def0434-b669-4b45-801c-79d3e6144ac2",
   "metadata": {},
   "source": [
    "<p>我们已经见过几种创建 Pandas 的 Series 对象的方法，都是像这样\n",
    "的形式：</p>"
   ]
  },
  {
   "cell_type": "markdown",
   "id": "e28a72ea-8af5-45c5-a571-6802ec19288f",
   "metadata": {},
   "source": [
    "<p class='raw'>\n",
    "其中，index 是一个可选参数，data 参数支持多种数据类型。\n",
    "例如，data 可以是列表或 NumPy 数组，这时 index 默认值为整\n",
    "数序列：\n",
    "</p>"
   ]
  },
  {
   "cell_type": "code",
   "execution_count": 22,
   "id": "8eefbf70-abef-41e5-aacc-042711f4c2cd",
   "metadata": {},
   "outputs": [
    {
     "data": {
      "text/plain": [
       "0    2\n",
       "1    4\n",
       "2    6\n",
       "dtype: int64"
      ]
     },
     "execution_count": 22,
     "metadata": {},
     "output_type": "execute_result"
    }
   ],
   "source": [
    "pd.Series([2,4,6])"
   ]
  },
  {
   "cell_type": "markdown",
   "id": "99203f18-6636-48ab-822e-5b2ae6796c50",
   "metadata": {},
   "source": [
    "<p>data 也可以是一个标量，创建 Series 对象时会重复填充到每个\n",
    "索引上：</p>"
   ]
  },
  {
   "cell_type": "code",
   "execution_count": 23,
   "id": "01752f82-889d-4cb4-a4b3-f0607aa9aa6a",
   "metadata": {},
   "outputs": [
    {
     "data": {
      "text/plain": [
       "100    5\n",
       "200    5\n",
       "300    5\n",
       "dtype: int64"
      ]
     },
     "execution_count": 23,
     "metadata": {},
     "output_type": "execute_result"
    }
   ],
   "source": [
    "pd.Series(5,index=[100,200,300])"
   ]
  },
  {
   "cell_type": "markdown",
   "id": "1047174a-0243-48f0-ac69-22d6787ca8db",
   "metadata": {},
   "source": [
    "<p>data 还可以是一个字典，index 默认是排序的字典键：</p>"
   ]
  },
  {
   "cell_type": "code",
   "execution_count": 25,
   "id": "2998be44-8cad-42c7-94d6-bb8889f9b765",
   "metadata": {},
   "outputs": [
    {
     "data": {
      "text/plain": [
       "2    a\n",
       "1    b\n",
       "3    c\n",
       "dtype: object"
      ]
     },
     "execution_count": 25,
     "metadata": {},
     "output_type": "execute_result"
    }
   ],
   "source": [
    "pd.Series({2:'a',1:'b',3:'c'})"
   ]
  },
  {
   "cell_type": "markdown",
   "id": "72d27c90-9a7e-4442-a0b0-bc80c5844c8b",
   "metadata": {},
   "source": [
    "<p>每一种形式都可以通过显式指定(即指定index=[xxx])索引筛选需要的结果：</p>"
   ]
  },
  {
   "cell_type": "code",
   "execution_count": 26,
   "id": "aaa1d9d5-bb69-45b1-9b51-cc030c75cdc6",
   "metadata": {},
   "outputs": [
    {
     "data": {
      "text/plain": [
       "3    c\n",
       "2    a\n",
       "dtype: object"
      ]
     },
     "execution_count": 26,
     "metadata": {},
     "output_type": "execute_result"
    }
   ],
   "source": [
    "pd.Series({2:'a',1:'b',3:'c'},index=[3,2])"
   ]
  },
  {
   "cell_type": "markdown",
   "id": "e8c0a793-397e-43a0-bc51-1f1e8d414a94",
   "metadata": {},
   "source": [
    "<p>这里需要注意的是，Series 对象只会保留显式定义的键值对。</p>"
   ]
  },
  {
   "cell_type": "markdown",
   "id": "bb7e93df-e9e0-4527-b152-3b3c85a4ab9a",
   "metadata": {},
   "source": [
    "<h3>3.2.2 Pandas的DataFrame对象</h3>"
   ]
  },
  {
   "cell_type": "markdown",
   "id": "7c6bd3f6-f292-4aa3-960a-3eca6e8d5748",
   "metadata": {},
   "source": [
    "<p>Pandas 的另一个基础数据结构是 DataFrame。和上一节介绍的 Series\n",
    "对象一样，DataFrame 既可以作为一个通用型 NumPy 数组，也可以看\n",
    "作特殊的 Python 字典。下面来分别看看。</p>"
   ]
  },
  {
   "cell_type": "markdown",
   "id": "fae8b560-feb0-46d7-a749-c3642efa9a83",
   "metadata": {},
   "source": [
    "<h4>01. DataFrame是通用的NumPy数组</h4>"
   ]
  },
  {
   "cell_type": "markdown",
   "id": "f2767bbc-1904-4bf7-8658-cc3f2a3cd44f",
   "metadata": {},
   "source": [
    "<p class='raw'>\n",
    "如果将 Series 类比为带灵活索引的一维数组，那么 DataFrame\n",
    "就可以看作是一种既有灵活的行索引，又有灵活列名的二维数组。\n",
    "就像你可以把二维数组看成是有序排列的一维数组一样，你也可以\n",
    "把 DataFrame 看成是有序排列的若干 Series 对象。这里的“排\n",
    "列”指的是它们拥有共同的索引。\n",
    "下面用上一节中美国五个州面积的数据创建一个新的 Series 来进\n",
    "行演示：\n",
    "</p>"
   ]
  },
  {
   "cell_type": "code",
   "execution_count": 6,
   "id": "4cf66ac1-4c95-4602-95e6-b28658e47c6d",
   "metadata": {},
   "outputs": [
    {
     "data": {
      "text/plain": [
       "California    423967\n",
       "Texas         695662\n",
       "New York      141297\n",
       "Florida       170312\n",
       "Illinois      149995\n",
       "dtype: int64"
      ]
     },
     "execution_count": 6,
     "metadata": {},
     "output_type": "execute_result"
    }
   ],
   "source": [
    "area_dict={'California':423967, 'Texas':695662, 'New York':141297,\n",
    "'Florida':170312, 'Illinois':149995}\n",
    "area = pd.Series(area_dict)\n",
    "area"
   ]
  },
  {
   "cell_type": "markdown",
   "id": "d295070d-7acd-4281-a55c-3de1c93fb66e",
   "metadata": {},
   "source": [
    "<p>再结合之前创建的 population 的 Series 对象，用一个字典创建\n",
    "一个包含这些信息的二维对象：</p>"
   ]
  },
  {
   "cell_type": "code",
   "execution_count": 8,
   "id": "aba6f062-3dd0-4740-b43d-0c5370013f83",
   "metadata": {},
   "outputs": [],
   "source": [
    "states = pd.DataFrame({'population': population,'area': area}) #字典的键相当于列名称"
   ]
  },
  {
   "cell_type": "code",
   "execution_count": 9,
   "id": "a634d3ae-cb45-4abd-a248-fc38f1cc41f1",
   "metadata": {},
   "outputs": [
    {
     "data": {
      "text/html": [
       "<div>\n",
       "<style scoped>\n",
       "    .dataframe tbody tr th:only-of-type {\n",
       "        vertical-align: middle;\n",
       "    }\n",
       "\n",
       "    .dataframe tbody tr th {\n",
       "        vertical-align: top;\n",
       "    }\n",
       "\n",
       "    .dataframe thead th {\n",
       "        text-align: right;\n",
       "    }\n",
       "</style>\n",
       "<table border=\"1\" class=\"dataframe\">\n",
       "  <thead>\n",
       "    <tr style=\"text-align: right;\">\n",
       "      <th></th>\n",
       "      <th>population</th>\n",
       "      <th>area</th>\n",
       "    </tr>\n",
       "  </thead>\n",
       "  <tbody>\n",
       "    <tr>\n",
       "      <th>California</th>\n",
       "      <td>38332521</td>\n",
       "      <td>423967</td>\n",
       "    </tr>\n",
       "    <tr>\n",
       "      <th>Texas</th>\n",
       "      <td>26448193</td>\n",
       "      <td>695662</td>\n",
       "    </tr>\n",
       "    <tr>\n",
       "      <th>New York</th>\n",
       "      <td>19651127</td>\n",
       "      <td>141297</td>\n",
       "    </tr>\n",
       "    <tr>\n",
       "      <th>Florida</th>\n",
       "      <td>19552860</td>\n",
       "      <td>170312</td>\n",
       "    </tr>\n",
       "    <tr>\n",
       "      <th>Illinois</th>\n",
       "      <td>12882135</td>\n",
       "      <td>149995</td>\n",
       "    </tr>\n",
       "  </tbody>\n",
       "</table>\n",
       "</div>"
      ],
      "text/plain": [
       "            population    area\n",
       "California    38332521  423967\n",
       "Texas         26448193  695662\n",
       "New York      19651127  141297\n",
       "Florida       19552860  170312\n",
       "Illinois      12882135  149995"
      ]
     },
     "execution_count": 9,
     "metadata": {},
     "output_type": "execute_result"
    }
   ],
   "source": [
    "states"
   ]
  },
  {
   "cell_type": "markdown",
   "id": "30f500b5-49df-4c2f-9c4e-bfa28d6119df",
   "metadata": {},
   "source": [
    "<p>和 Series 对象一样，DataFrame 也有一个 index 属性可以获取\n",
    "索引标签：</p>"
   ]
  },
  {
   "cell_type": "code",
   "execution_count": 32,
   "id": "0aaaa1d5-3b6c-4697-a767-4e215511d483",
   "metadata": {},
   "outputs": [
    {
     "data": {
      "text/plain": [
       "Index(['California', 'Texas', 'New York', 'Florida', 'Illinois'], dtype='object')"
      ]
     },
     "execution_count": 32,
     "metadata": {},
     "output_type": "execute_result"
    }
   ],
   "source": [
    "states.index"
   ]
  },
  {
   "cell_type": "markdown",
   "id": "6de87607-b6fd-41f2-a32b-f67ab744cf98",
   "metadata": {},
   "source": [
    "<p>另外，DataFrame 还有一个 columns 属性，是存放列标签的\n",
    "Index 对象：</p>"
   ]
  },
  {
   "cell_type": "code",
   "execution_count": 35,
   "id": "dd180c7e-00da-47ba-8603-80d65d3edc6d",
   "metadata": {},
   "outputs": [
    {
     "data": {
      "text/plain": [
       "Index(['population', 'area'], dtype='object')"
      ]
     },
     "execution_count": 35,
     "metadata": {},
     "output_type": "execute_result"
    }
   ],
   "source": [
    "states.columns "
   ]
  },
  {
   "cell_type": "markdown",
   "id": "837cebf8-3032-44ed-aeb0-f1a2619025bc",
   "metadata": {},
   "source": [
    "<p>因此 DataFrame 可以看作一种通用的 NumPy 二维数组，它的行与\n",
    "列都可以通过索引获取。</p>"
   ]
  },
  {
   "cell_type": "markdown",
   "id": "1762ebab-6e79-4c68-9e7d-521bb4749013",
   "metadata": {},
   "source": [
    "<h4>02. DataFrame是特殊的字典</h4>"
   ]
  },
  {
   "cell_type": "markdown",
   "id": "38779dbb-8a84-4a6e-89f9-b9cd8de1d775",
   "metadata": {},
   "source": [
    "<p>与 Series 类似，我们也可以把 DataFrame 看成一种特殊的字\n",
    "典。字典是一个键映射一个值，而 DataFrame 是一列映射一个\n",
    "Series 的数据。例如，通过 'area' 的列属性可以返回包含面积\n",
    "数据的 Series 对象：</p>"
   ]
  },
  {
   "cell_type": "code",
   "execution_count": 38,
   "id": "44d7c882-941d-462f-8eed-a734b36a2e94",
   "metadata": {},
   "outputs": [
    {
     "data": {
      "text/plain": [
       "California    423967\n",
       "Texas         695662\n",
       "New York      141297\n",
       "Florida       170312\n",
       "Illinois      149995\n",
       "Name: area, dtype: int64"
      ]
     },
     "execution_count": 38,
     "metadata": {},
     "output_type": "execute_result"
    }
   ],
   "source": [
    "states['area']"
   ]
  },
  {
   "cell_type": "markdown",
   "id": "4dd5d97e-d2bb-4657-a072-97c698aa7a3f",
   "metadata": {},
   "source": [
    "<p>这里需要注意的是，在 NumPy 的二维数组里，data[0] 返回第一\n",
    "行；而在 DataFrame 中，data['col0'] 返回第一列。因此，最\n",
    "好把 DataFrame 看成一种通用字典，而不是通用数组，即使这两\n",
    "种看法在不同情况下都是有用的。3.3 节将介绍更多 DataFrame 灵\n",
    "活取值的方法。\n",
    "</p>"
   ]
  },
  {
   "cell_type": "markdown",
   "id": "50cbd173-b4fa-42e2-a467-50a749278ce1",
   "metadata": {},
   "source": [
    "<h4>03. 创建DataFrame对象</h4>"
   ]
  },
  {
   "cell_type": "markdown",
   "id": "016c5477-d9c6-43cb-b0ac-bab94459e90e",
   "metadata": {},
   "source": [
    "<p>Pandas 的 DataFrame 对象可以通过许多方式创建，这里举几个常\n",
    "用的例子。</p>"
   ]
  },
  {
   "cell_type": "markdown",
   "id": "8befe69d-d089-4675-ab16-ec226c63b111",
   "metadata": {},
   "source": [
    "<p>(1) 通过单个 Series 对象创建。DataFrame 是一组 Series 对象的\n",
    "集合，可以用单个 Series 创建一个单列的 DataFrame：</p>"
   ]
  },
  {
   "cell_type": "code",
   "execution_count": 39,
   "id": "4fc7f155-e195-4b2d-a52c-1b4e11569c5b",
   "metadata": {},
   "outputs": [
    {
     "data": {
      "text/html": [
       "<div>\n",
       "<style scoped>\n",
       "    .dataframe tbody tr th:only-of-type {\n",
       "        vertical-align: middle;\n",
       "    }\n",
       "\n",
       "    .dataframe tbody tr th {\n",
       "        vertical-align: top;\n",
       "    }\n",
       "\n",
       "    .dataframe thead th {\n",
       "        text-align: right;\n",
       "    }\n",
       "</style>\n",
       "<table border=\"1\" class=\"dataframe\">\n",
       "  <thead>\n",
       "    <tr style=\"text-align: right;\">\n",
       "      <th></th>\n",
       "      <th>population</th>\n",
       "    </tr>\n",
       "  </thead>\n",
       "  <tbody>\n",
       "    <tr>\n",
       "      <th>California</th>\n",
       "      <td>38332521</td>\n",
       "    </tr>\n",
       "    <tr>\n",
       "      <th>Texas</th>\n",
       "      <td>26448193</td>\n",
       "    </tr>\n",
       "    <tr>\n",
       "      <th>New York</th>\n",
       "      <td>19651127</td>\n",
       "    </tr>\n",
       "    <tr>\n",
       "      <th>Florida</th>\n",
       "      <td>19552860</td>\n",
       "    </tr>\n",
       "    <tr>\n",
       "      <th>Illinois</th>\n",
       "      <td>12882135</td>\n",
       "    </tr>\n",
       "  </tbody>\n",
       "</table>\n",
       "</div>"
      ],
      "text/plain": [
       "            population\n",
       "California    38332521\n",
       "Texas         26448193\n",
       "New York      19651127\n",
       "Florida       19552860\n",
       "Illinois      12882135"
      ]
     },
     "execution_count": 39,
     "metadata": {},
     "output_type": "execute_result"
    }
   ],
   "source": [
    "pd.DataFrame(population,columns=['population'])"
   ]
  },
  {
   "cell_type": "markdown",
   "id": "5f88fe0f-9cac-4bd4-be1e-30a57136f34f",
   "metadata": {},
   "source": [
    "<p>(2) 通过字典列表创建。任何元素是字典的列表都可以变成\n",
    "DataFrame。用一个简单的列表综合来创建一些数据：</p>"
   ]
  },
  {
   "cell_type": "code",
   "execution_count": 1,
   "id": "2dcc6b0d-3896-47d7-acd1-0ba70d6296bd",
   "metadata": {},
   "outputs": [],
   "source": [
    "import pandas as pd"
   ]
  },
  {
   "cell_type": "code",
   "execution_count": 2,
   "id": "c35a05fd-0a2f-4f3a-972f-55a0d8cd44eb",
   "metadata": {},
   "outputs": [
    {
     "data": {
      "text/html": [
       "<div>\n",
       "<style scoped>\n",
       "    .dataframe tbody tr th:only-of-type {\n",
       "        vertical-align: middle;\n",
       "    }\n",
       "\n",
       "    .dataframe tbody tr th {\n",
       "        vertical-align: top;\n",
       "    }\n",
       "\n",
       "    .dataframe thead th {\n",
       "        text-align: right;\n",
       "    }\n",
       "</style>\n",
       "<table border=\"1\" class=\"dataframe\">\n",
       "  <thead>\n",
       "    <tr style=\"text-align: right;\">\n",
       "      <th></th>\n",
       "      <th>a</th>\n",
       "      <th>b</th>\n",
       "    </tr>\n",
       "  </thead>\n",
       "  <tbody>\n",
       "    <tr>\n",
       "      <th>0</th>\n",
       "      <td>0</td>\n",
       "      <td>0</td>\n",
       "    </tr>\n",
       "    <tr>\n",
       "      <th>1</th>\n",
       "      <td>1</td>\n",
       "      <td>2</td>\n",
       "    </tr>\n",
       "    <tr>\n",
       "      <th>2</th>\n",
       "      <td>2</td>\n",
       "      <td>4</td>\n",
       "    </tr>\n",
       "  </tbody>\n",
       "</table>\n",
       "</div>"
      ],
      "text/plain": [
       "   a  b\n",
       "0  0  0\n",
       "1  1  2\n",
       "2  2  4"
      ]
     },
     "execution_count": 2,
     "metadata": {},
     "output_type": "execute_result"
    }
   ],
   "source": [
    "data=[{'a':i,'b':2*i} for i in range(3)]\n",
    "pd.DataFrame(data)"
   ]
  },
  {
   "cell_type": "markdown",
   "id": "0e233fcd-de5e-40f2-93f9-f5b680aab91f",
   "metadata": {},
   "source": [
    "<p>即使字典中有些键不存在，Pandas 也会用缺失值 NaN（不是数字，\n",
    "not a number）来表示：\n",
    "</p>"
   ]
  },
  {
   "cell_type": "code",
   "execution_count": 3,
   "id": "b23ba570-9d8c-4682-b156-2cd0f09647c1",
   "metadata": {},
   "outputs": [
    {
     "data": {
      "text/html": [
       "<div>\n",
       "<style scoped>\n",
       "    .dataframe tbody tr th:only-of-type {\n",
       "        vertical-align: middle;\n",
       "    }\n",
       "\n",
       "    .dataframe tbody tr th {\n",
       "        vertical-align: top;\n",
       "    }\n",
       "\n",
       "    .dataframe thead th {\n",
       "        text-align: right;\n",
       "    }\n",
       "</style>\n",
       "<table border=\"1\" class=\"dataframe\">\n",
       "  <thead>\n",
       "    <tr style=\"text-align: right;\">\n",
       "      <th></th>\n",
       "      <th>a</th>\n",
       "      <th>b</th>\n",
       "      <th>c</th>\n",
       "    </tr>\n",
       "  </thead>\n",
       "  <tbody>\n",
       "    <tr>\n",
       "      <th>0</th>\n",
       "      <td>1.0</td>\n",
       "      <td>2</td>\n",
       "      <td>NaN</td>\n",
       "    </tr>\n",
       "    <tr>\n",
       "      <th>1</th>\n",
       "      <td>NaN</td>\n",
       "      <td>3</td>\n",
       "      <td>4.0</td>\n",
       "    </tr>\n",
       "  </tbody>\n",
       "</table>\n",
       "</div>"
      ],
      "text/plain": [
       "     a  b    c\n",
       "0  1.0  2  NaN\n",
       "1  NaN  3  4.0"
      ]
     },
     "execution_count": 3,
     "metadata": {},
     "output_type": "execute_result"
    }
   ],
   "source": [
    "pd.DataFrame([{'a':1,'b':2},{'b':3,'c':4}])"
   ]
  },
  {
   "cell_type": "markdown",
   "id": "22c97b54-3d8d-44ac-b0e7-04a8e1a2756a",
   "metadata": {},
   "source": [
    "<p>(3) 通过 Series 对象字典创建。就像之前见过的那样，DataFrame\n",
    "也可以用一个由 Series 对象构成的字典创建：</p>"
   ]
  },
  {
   "cell_type": "code",
   "execution_count": 10,
   "id": "684ad9e6-6105-42ee-bfaf-593f1faff8a3",
   "metadata": {},
   "outputs": [
    {
     "data": {
      "text/html": [
       "<div>\n",
       "<style scoped>\n",
       "    .dataframe tbody tr th:only-of-type {\n",
       "        vertical-align: middle;\n",
       "    }\n",
       "\n",
       "    .dataframe tbody tr th {\n",
       "        vertical-align: top;\n",
       "    }\n",
       "\n",
       "    .dataframe thead th {\n",
       "        text-align: right;\n",
       "    }\n",
       "</style>\n",
       "<table border=\"1\" class=\"dataframe\">\n",
       "  <thead>\n",
       "    <tr style=\"text-align: right;\">\n",
       "      <th></th>\n",
       "      <th>population</th>\n",
       "      <th>area</th>\n",
       "    </tr>\n",
       "  </thead>\n",
       "  <tbody>\n",
       "    <tr>\n",
       "      <th>California</th>\n",
       "      <td>38332521</td>\n",
       "      <td>423967</td>\n",
       "    </tr>\n",
       "    <tr>\n",
       "      <th>Texas</th>\n",
       "      <td>26448193</td>\n",
       "      <td>695662</td>\n",
       "    </tr>\n",
       "    <tr>\n",
       "      <th>New York</th>\n",
       "      <td>19651127</td>\n",
       "      <td>141297</td>\n",
       "    </tr>\n",
       "    <tr>\n",
       "      <th>Florida</th>\n",
       "      <td>19552860</td>\n",
       "      <td>170312</td>\n",
       "    </tr>\n",
       "    <tr>\n",
       "      <th>Illinois</th>\n",
       "      <td>12882135</td>\n",
       "      <td>149995</td>\n",
       "    </tr>\n",
       "  </tbody>\n",
       "</table>\n",
       "</div>"
      ],
      "text/plain": [
       "            population    area\n",
       "California    38332521  423967\n",
       "Texas         26448193  695662\n",
       "New York      19651127  141297\n",
       "Florida       19552860  170312\n",
       "Illinois      12882135  149995"
      ]
     },
     "execution_count": 10,
     "metadata": {},
     "output_type": "execute_result"
    }
   ],
   "source": [
    "pd.DataFrame({'population':population,'area':area})"
   ]
  },
  {
   "cell_type": "markdown",
   "id": "b118e213-3b16-43e3-8184-9503b0443b26",
   "metadata": {},
   "source": [
    "<p>(4) 通过 NumPy 二维数组创建。假如有一个二维数组，就可以创建\n",
    "一个可以指定行列索引值的 DataFrame。如果不指定行列索引值，\n",
    "那么行列默认都是整数索引值：</p>"
   ]
  },
  {
   "cell_type": "code",
   "execution_count": 12,
   "id": "9f038060-e050-45f3-8858-c6c951a6c401",
   "metadata": {},
   "outputs": [
    {
     "data": {
      "text/html": [
       "<div>\n",
       "<style scoped>\n",
       "    .dataframe tbody tr th:only-of-type {\n",
       "        vertical-align: middle;\n",
       "    }\n",
       "\n",
       "    .dataframe tbody tr th {\n",
       "        vertical-align: top;\n",
       "    }\n",
       "\n",
       "    .dataframe thead th {\n",
       "        text-align: right;\n",
       "    }\n",
       "</style>\n",
       "<table border=\"1\" class=\"dataframe\">\n",
       "  <thead>\n",
       "    <tr style=\"text-align: right;\">\n",
       "      <th></th>\n",
       "      <th>foo</th>\n",
       "      <th>bar</th>\n",
       "    </tr>\n",
       "  </thead>\n",
       "  <tbody>\n",
       "    <tr>\n",
       "      <th>a</th>\n",
       "      <td>0.647973</td>\n",
       "      <td>0.713503</td>\n",
       "    </tr>\n",
       "    <tr>\n",
       "      <th>b</th>\n",
       "      <td>0.908266</td>\n",
       "      <td>0.053593</td>\n",
       "    </tr>\n",
       "    <tr>\n",
       "      <th>c</th>\n",
       "      <td>0.527808</td>\n",
       "      <td>0.745273</td>\n",
       "    </tr>\n",
       "  </tbody>\n",
       "</table>\n",
       "</div>"
      ],
      "text/plain": [
       "        foo       bar\n",
       "a  0.647973  0.713503\n",
       "b  0.908266  0.053593\n",
       "c  0.527808  0.745273"
      ]
     },
     "execution_count": 12,
     "metadata": {},
     "output_type": "execute_result"
    }
   ],
   "source": [
    "import numpy as np\n",
    "pd.DataFrame(np.random.rand(3,2),columns=['foo','bar'],index=['a','b','c'])"
   ]
  },
  {
   "cell_type": "markdown",
   "id": "43ace254-4de8-4fad-93d9-0853fbb9807b",
   "metadata": {},
   "source": [
    "<p>(5) 通过 NumPy 结构化数组创建。2.9 节曾介绍过结构化数组。由\n",
    "于 Pandas 的 DataFrame 与结构化数组十分相似，因此可以通过结\n",
    "构化数组创建 DataFrame：</p>"
   ]
  },
  {
   "cell_type": "code",
   "execution_count": 14,
   "id": "e3b7a1e1-9846-4ce6-8edf-96f747783113",
   "metadata": {},
   "outputs": [
    {
     "data": {
      "text/plain": [
       "array([(0, 0.), (0, 0.), (0, 0.)], dtype=[('A', '<i8'), ('B', '<f8')])"
      ]
     },
     "execution_count": 14,
     "metadata": {},
     "output_type": "execute_result"
    }
   ],
   "source": [
    "A = np.zeros(3,dtype=[('A','i8'),('B','f8')]) #指定A的数据类型<int8;B的数据类型小于float8\n",
    "A"
   ]
  },
  {
   "cell_type": "code",
   "execution_count": 15,
   "id": "3549cc60-af0c-408a-8d1f-23ae90db1658",
   "metadata": {},
   "outputs": [
    {
     "data": {
      "text/html": [
       "<div>\n",
       "<style scoped>\n",
       "    .dataframe tbody tr th:only-of-type {\n",
       "        vertical-align: middle;\n",
       "    }\n",
       "\n",
       "    .dataframe tbody tr th {\n",
       "        vertical-align: top;\n",
       "    }\n",
       "\n",
       "    .dataframe thead th {\n",
       "        text-align: right;\n",
       "    }\n",
       "</style>\n",
       "<table border=\"1\" class=\"dataframe\">\n",
       "  <thead>\n",
       "    <tr style=\"text-align: right;\">\n",
       "      <th></th>\n",
       "      <th>A</th>\n",
       "      <th>B</th>\n",
       "    </tr>\n",
       "  </thead>\n",
       "  <tbody>\n",
       "    <tr>\n",
       "      <th>0</th>\n",
       "      <td>0</td>\n",
       "      <td>0.0</td>\n",
       "    </tr>\n",
       "    <tr>\n",
       "      <th>1</th>\n",
       "      <td>0</td>\n",
       "      <td>0.0</td>\n",
       "    </tr>\n",
       "    <tr>\n",
       "      <th>2</th>\n",
       "      <td>0</td>\n",
       "      <td>0.0</td>\n",
       "    </tr>\n",
       "  </tbody>\n",
       "</table>\n",
       "</div>"
      ],
      "text/plain": [
       "   A    B\n",
       "0  0  0.0\n",
       "1  0  0.0\n",
       "2  0  0.0"
      ]
     },
     "execution_count": 15,
     "metadata": {},
     "output_type": "execute_result"
    }
   ],
   "source": [
    "pd.DataFrame(A)"
   ]
  },
  {
   "cell_type": "markdown",
   "id": "ba8be5c4-026d-4e29-9d3b-e0a24d75fa14",
   "metadata": {},
   "source": [
    "<h3>3.2.3 Pandas的Index对象</h3>"
   ]
  },
  {
   "cell_type": "markdown",
   "id": "a173cbb7-5d78-4b7a-92a4-b3521ca512aa",
   "metadata": {},
   "source": [
    "<p>我们已经发现，Series 和 DataFrame 对象都使用便于引用和调整的显\n",
    "式索引。Pandas 的 Index 对象是一个很有趣的数据结构，可以将它看\n",
    "作是一个不可变数组或有序集合（实际上是一个多集，因为 Index 对\n",
    "象可能会包含重复值）。这两种观点使得 Index 对象能呈现一些有趣\n",
    "的功能。让我们用一个简单的整数列表来创建一个 Index 对象：</p>"
   ]
  },
  {
   "cell_type": "code",
   "execution_count": 16,
   "id": "8a52efa0-8355-40e8-b235-b2a3ee22be26",
   "metadata": {},
   "outputs": [
    {
     "data": {
      "text/plain": [
       "Index([2, 3, 5, 7, 11], dtype='int64')"
      ]
     },
     "execution_count": 16,
     "metadata": {},
     "output_type": "execute_result"
    }
   ],
   "source": [
    "ind = pd.Index([2,3,5,7,11])\n",
    "ind"
   ]
  },
  {
   "cell_type": "markdown",
   "id": "635ac434-9ca8-4aab-9097-d3a877546abe",
   "metadata": {},
   "source": [
    "<p>01. 将Index看作不可变数组</p>"
   ]
  },
  {
   "cell_type": "code",
   "execution_count": null,
   "id": "fed9d6f8-87e9-4844-9f54-1877f63dbf62",
   "metadata": {},
   "outputs": [],
   "source": [
    "# 178"
   ]
  }
 ],
 "metadata": {
  "kernelspec": {
   "display_name": "Python 3 (ipykernel)",
   "language": "python",
   "name": "python3"
  },
  "language_info": {
   "codemirror_mode": {
    "name": "ipython",
    "version": 3
   },
   "file_extension": ".py",
   "mimetype": "text/x-python",
   "name": "python",
   "nbconvert_exporter": "python",
   "pygments_lexer": "ipython3",
   "version": "3.9.7"
  }
 },
 "nbformat": 4,
 "nbformat_minor": 5
}
