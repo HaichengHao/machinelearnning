{
 "cells": [
  {
   "cell_type": "code",
   "execution_count": 1,
   "id": "ce84f522-f8ca-4587-bc4b-888db4543a65",
   "metadata": {},
   "outputs": [
    {
     "data": {
      "text/html": [
       "<style type='text/css'>\n",
       "    *{\n",
       "        # background-color:#E3EDCD;\n",
       "        # background-color:black;\n",
       "        # color:white;\n",
       "        \n",
       "    }\n",
       "    h1{\n",
       "        color:#1976d2;\n",
       "    }\n",
       "    h2{\n",
       "        color:#f57c00;\n",
       "    }\n",
       "    h3{\n",
       "        color:#ba37ff;\n",
       "    }\n",
       "    h4{\n",
       "        color:green;\n",
       "    }\n",
       "    table{\n",
       "        border:1px solid black !important;\n",
       "        border-collapse:collapse !important;\n",
       "    }\n",
       "    th{\n",
       "        background-color:blueviolet !important;\n",
       "        text-align:center;\n",
       "        color:white;\n",
       "    }\n",
       "    th,td{\n",
       "        border:0.1px solid black !important;\n",
       "        transition:0.2s all liner;\n",
       "        \n",
       "    }\n",
       "    td:hover{\n",
       "        transform:scale(1.1);\n",
       "        background-color:orange;\n",
       "        color:blueviolet;\n",
       "    }\n",
       "    .raw{\n",
       "        white-space:pre;\n",
       "        color:green;\n",
       "    }\n",
       "    #imp{\n",
       "        color:red;\n",
       "    }\n",
       "    #ct{\n",
       "        text-align:center;\n",
       "    }\n",
       "</style>\n"
      ],
      "text/plain": [
       "<IPython.core.display.HTML object>"
      ]
     },
     "metadata": {},
     "output_type": "display_data"
    }
   ],
   "source": [
    "%%HTML\n",
    "<style type='text/css'>\n",
    "    *{\n",
    "        # background-color:#E3EDCD;\n",
    "        # background-color:black;\n",
    "        # color:white;\n",
    "        \n",
    "    }\n",
    "    h1{\n",
    "        color:#1976d2;\n",
    "    }\n",
    "    h2{\n",
    "        color:#f57c00;\n",
    "    }\n",
    "    h3{\n",
    "        color:#ba37ff;\n",
    "    }\n",
    "    h4{\n",
    "        color:green;\n",
    "    }\n",
    "    table{\n",
    "        border:1px solid black !important;\n",
    "        border-collapse:collapse !important;\n",
    "    }\n",
    "    th{\n",
    "        background-color:blueviolet !important;\n",
    "        text-align:center;\n",
    "        color:white;\n",
    "    }\n",
    "    th,td{\n",
    "        border:0.1px solid black !important;\n",
    "        transition:0.2s all liner;\n",
    "        \n",
    "    }\n",
    "    td:hover{\n",
    "        transform:scale(1.1);\n",
    "        background-color:orange;\n",
    "        color:blueviolet;\n",
    "    }\n",
    "    .raw{\n",
    "        white-space:pre;\n",
    "        color:green;\n",
    "    }\n",
    "    #imp{\n",
    "        color:red;\n",
    "    }\n",
    "    #ct{\n",
    "        text-align:center;\n",
    "    }\n",
    "</style>"
   ]
  },
  {
   "cell_type": "markdown",
   "id": "eae564b5-d244-47f7-926f-695dc995379e",
   "metadata": {},
   "source": [
    "## 3.12 处理时间序列"
   ]
  },
  {
   "cell_type": "markdown",
   "id": "9a82370c-110a-4211-aa81-0d080a3ca2a1",
   "metadata": {},
   "source": [
    "由于 Pandas 最初是为金融模型而创建的，因此它拥有一些功能非常强\n",
    "大的日期、时间、带时间索引数据的处理工具。本节将介绍的日期与时\n",
    "间数据主要包含三类。\n"
   ]
  },
  {
   "cell_type": "markdown",
   "id": "7655000e-c981-4bd9-8aed-7a15a6ca8746",
   "metadata": {},
   "source": [
    "- 时间戳表示某个具体的时间点（例如 2015 年 7 月 4 日上午 7\n",
    "点）。  \n",
    "- 时间间隔与周期表示开始时间点与结束时间点之间的时间长度，例  \n",
    "如 2015 年（指的是 2015 年 1 月 1 日至 2015 年 12 月 31 日这段时  \n",
    "间间隔）。周期通常是指一种特殊形式的时间间隔，每个间隔长度          \n",
    "相同，彼此之间不会重叠（例如，以 24 小时为周期构成每一      \n",
    "天）。   \n",
    "- 时间增量（time delta）或持续时间（duration）表示精确的时间长   \n",
    "度（例如，某程序运行持续时间 22.56 秒）。  "
   ]
  },
  {
   "cell_type": "markdown",
   "id": "c8517940-3778-4d77-8317-1d4579a2f7fb",
   "metadata": {},
   "source": [
    "在本节内容中，我们将介绍 Pandas 中的 3 种日期 / 时间数据类型的具体\n",
    "用法。由于篇幅有限，后文无法对 Python 或 Pandas 的时间序列工具进\n",
    "行详细的介绍，仅仅是通过一个宽泛的综述，总结何时应该使用它们。\n",
    "在开始介绍 Pandas 的时间序列工具之前，我们先简单介绍一下 Python\n",
    "处理日期与时间数据的工具。在介绍完一些值得深入学习的资源之后，\n",
    "再通过一些简短的示例来演示 Pandas 处理时间序列数据的方法。"
   ]
  },
  {
   "cell_type": "markdown",
   "id": "c0870836-eadd-4212-a323-8a25b36368ed",
   "metadata": {},
   "source": [
    "### 3.12.1 Python的日期与时间工具"
   ]
  },
  {
   "cell_type": "markdown",
   "id": "1204f6fc-16b8-4c5d-9402-225c3131397b",
   "metadata": {},
   "source": [
    "在 Python 标准库与第三方库中有许多可以表示日期、时间、时间增量\n",
    "和时间跨度（timespan）的工具。尽管 Pandas 提供的时间序列工具更适\n",
    "合用来处理数据科学问题，但是了解 Pandas 与 Python 标准库以及第三\n",
    "方库中的其他时间序列工具之间的关联性将大有裨益。"
   ]
  },
  {
   "cell_type": "markdown",
   "id": "b52a97d0-237e-4595-be21-11f9031c4a29",
   "metadata": {},
   "source": [
    "01. 原生Python的日期与时间工具：datetime与dateutil"
   ]
  },
  {
   "cell_type": "markdown",
   "id": "a2ae8037-daec-469d-80b3-72f96211caf2",
   "metadata": {},
   "source": [
    "Python 基本的日期与时间功能都在标准库的 datetime 模块中。如\n",
    "果和第三方库 dateutil 模块搭配使用，可以快速实现许多处理日\n",
    "期与时间的功能。例如，你可以用 datetime 类型创建一个日期："
   ]
  },
  {
   "cell_type": "code",
   "execution_count": 2,
   "id": "199c77d5-8f61-4c72-9b21-d7ad29d1ec3b",
   "metadata": {},
   "outputs": [
    {
     "data": {
      "text/plain": [
       "datetime.datetime(2024, 10, 12, 0, 0)"
      ]
     },
     "execution_count": 2,
     "metadata": {},
     "output_type": "execute_result"
    }
   ],
   "source": [
    "from datetime import datetime\n",
    "datetime(year=2024,month=10,day=12)"
   ]
  },
  {
   "cell_type": "markdown",
   "id": "5ce8674e-f404-4ea6-9ee7-56c6af51a4dc",
   "metadata": {},
   "source": [
    "或者使用 dateutil 模块对各种字符串格式的日期进行正确解析："
   ]
  },
  {
   "cell_type": "code",
   "execution_count": 5,
   "id": "31290aca-8526-4d2c-a769-b7c3ba673c5b",
   "metadata": {},
   "outputs": [
    {
     "data": {
      "text/plain": [
       "datetime.datetime(2024, 10, 12, 0, 0)"
      ]
     },
     "execution_count": 5,
     "metadata": {},
     "output_type": "execute_result"
    }
   ],
   "source": [
    "from dateutil import parser\n",
    "date = parser.parse(\"12th of October, 2024\")\n",
    "date"
   ]
  },
  {
   "cell_type": "markdown",
   "id": "6b6a6401-b563-400c-a825-4fd0b25be596",
   "metadata": {},
   "source": [
    "一旦<span id='imp'>有了 datetime 对象，就可以进行许多操作了</span>，例如打印出这\n",
    "一天是星期几：\n"
   ]
  },
  {
   "cell_type": "code",
   "execution_count": 7,
   "id": "da1c8ca3-7f3b-46bc-867b-326f11f7f26b",
   "metadata": {},
   "outputs": [
    {
     "data": {
      "text/plain": [
       "'Saturday'"
      ]
     },
     "execution_count": 7,
     "metadata": {},
     "output_type": "execute_result"
    }
   ],
   "source": [
    "date.strftime('%A')"
   ]
  },
  {
   "cell_type": "markdown",
   "id": "dfde0bd7-302b-4174-85b2-d43396e9559b",
   "metadata": {},
   "source": [
    "在最后一行代码中，为了打印出是星期几，我们使用了一个标准字\n",
    "符串格式（standard string format）代码 \"%A\"，你可以在 Python 的\n",
    "datetime 文档（https://docs.python.org/3/library/datetime.html）\n",
    "的“strftime”节          \n",
    "（https://docs.python.org/3/library/datetime.html#strftime-and-strptimebehavior）查看具体信息。关于 dateutil 的其他日期功能可以通        \n",
    "过 dateutil 的在线文档（http://labix.org/python-dateutil）学习。还有      \n",
    "一个值得关注的程序包是 pytz（http://pytz.sourceforge.net/），这         \n",
    "个工具解决了绝大多数时间序列数据都会遇到的难题：时区。      \n",
    "datetime 和 dateutil 模块在灵活性与易用性方面都表现出色，     \n",
    "你可以用这些对象及其相应的方法轻松完成你感兴趣的任意操作。     \n",
    "但如果你处理的时间数据量比较大，那么速度就会比较慢。就像之       \n",
    "前介绍过的 Python 的原生列表对象没有 NumPy 中已经被编码的数       \n",
    "值类型数组的性能好一样，Python 的原生日期对象同样也没有    \n",
    "NumPy 中已经被编码的日期（encoded dates）类型数组的性能好。       "
   ]
  },
  {
   "cell_type": "markdown",
   "id": "d01b217d-05e1-4908-96f4-2f9fafcfab96",
   "metadata": {},
   "source": [
    "02. 时间类型数组：NumPy的datetime64类型"
   ]
  },
  {
   "cell_type": "markdown",
   "id": "36a1dcac-233a-4d54-a16c-5cf524f84fad",
   "metadata": {},
   "source": [
    "Python 原生日期格式的性能弱点促使 NumPy 团队为 NumPy 增加了\n",
    "自己的时间序列类型。 datetime64 类型将日期编码为 64 位整\n",
    "数，这样可以让日期数组非常紧凑（节省内存）。 datetime64 需\n",
    "要在设置日期时确定具体的输入类型："
   ]
  },
  {
   "cell_type": "code",
   "execution_count": 8,
   "id": "11ca0e5f-9789-4bd0-aa56-1bc7ad9c5425",
   "metadata": {},
   "outputs": [
    {
     "data": {
      "text/plain": [
       "array('2024-10-12', dtype='datetime64[D]')"
      ]
     },
     "execution_count": 8,
     "metadata": {},
     "output_type": "execute_result"
    }
   ],
   "source": [
    "import numpy as np\n",
    "date = np.array('2024-10-12',dtype=np.datetime64)\n",
    "date"
   ]
  },
  {
   "cell_type": "markdown",
   "id": "6b20c511-1e77-43dc-af56-7406f6abf967",
   "metadata": {},
   "source": [
    "但只要有了这个日期格式，就可以进行快速的向量化运算："
   ]
  },
  {
   "cell_type": "code",
   "execution_count": 9,
   "id": "ad4a982e-95ae-48c6-aa49-44a0d7b6f013",
   "metadata": {},
   "outputs": [
    {
     "data": {
      "text/plain": [
       "array(['2024-10-12', '2024-10-13', '2024-10-14', '2024-10-15',\n",
       "       '2024-10-16', '2024-10-17', '2024-10-18', '2024-10-19',\n",
       "       '2024-10-20', '2024-10-21', '2024-10-22', '2024-10-23'],\n",
       "      dtype='datetime64[D]')"
      ]
     },
     "execution_count": 9,
     "metadata": {},
     "output_type": "execute_result"
    }
   ],
   "source": [
    "date+np.arange(12)"
   ]
  },
  {
   "cell_type": "markdown",
   "id": "c440269c-5edb-4c71-8a40-73f9e00b24eb",
   "metadata": {},
   "source": [
    "因为 NumPy 的 datetime64 数组内元素的类型是统一的，所以这\n",
    "种数组的运算速度会比 Python 的 datetime 对象的运算速度快很\n",
    "多，尤其是在处理较大数组时（关于向量化运算的内容已经在 2.3\n",
    "节介绍过）。"
   ]
  },
  {
   "cell_type": "markdown",
   "id": "f28a7a5b-9eca-40ad-8d7c-a3433bc597d9",
   "metadata": {},
   "source": [
    "datetime64 与 timedelta64 对象的一个共同特点是，它们都是      \n",
    "在 基本时间单位（fundamental time unit）的基础上建立的。由于       \n",
    "datetime64 对象是 64 位精度，所以可编码的时间范围可以是基        \n",
    "本单元的 2         \n",
    "64 倍。也就是说，datetime64 在时间精度（time     \n",
    "resolution）与最大时间跨度（maximum time span）之间达成了一         \n",
    "种平衡。           \n",
    "比如你想要一个时间纳秒（nanosecond，ns）级的时间精度，那么       \n",
    "你就可以将时间编码到 0~2    \n",
    "64 纳秒或 600 年之内，NumPy 会自动判    \n",
    "断输入时间需要使用的时间单位。例如，下面是一个以天为单位的     \n",
    "日期：    \n"
   ]
  },
  {
   "cell_type": "code",
   "execution_count": 18,
   "id": "5753fcc8-72cb-4776-86a2-55c19192c15e",
   "metadata": {},
   "outputs": [
    {
     "data": {
      "text/plain": [
       "\u001b[1;31mInit signature:\u001b[0m \u001b[0mnp\u001b[0m\u001b[1;33m.\u001b[0m\u001b[0mdatetime64\u001b[0m\u001b[1;33m(\u001b[0m\u001b[0mself\u001b[0m\u001b[1;33m,\u001b[0m \u001b[1;33m/\u001b[0m\u001b[1;33m,\u001b[0m \u001b[1;33m*\u001b[0m\u001b[0margs\u001b[0m\u001b[1;33m,\u001b[0m \u001b[1;33m**\u001b[0m\u001b[0mkwargs\u001b[0m\u001b[1;33m)\u001b[0m\u001b[1;33m\u001b[0m\u001b[1;33m\u001b[0m\u001b[0m\n",
       "\u001b[1;31mDocstring:\u001b[0m     \n",
       "If created from a 64-bit integer, it represents an offset from\n",
       "``1970-01-01T00:00:00``.\n",
       "If created from string, the string can be in ISO 8601 date\n",
       "or datetime format.\n",
       "\n",
       "When parsing a string to create a datetime object, if the string contains\n",
       "a trailing timezone (A 'Z' or a timezone offset), the timezone will be \n",
       "dropped and a User Warning is given.\n",
       "\n",
       "Datetime64 objects should be considered to be UTC and therefore have an \n",
       "offset of +0000.\n",
       "\n",
       ">>> np.datetime64(10, 'Y')\n",
       "numpy.datetime64('1980')\n",
       ">>> np.datetime64('1980', 'Y')\n",
       "numpy.datetime64('1980')\n",
       ">>> np.datetime64(10, 'D')\n",
       "numpy.datetime64('1970-01-11')\n",
       "\n",
       "See :ref:`arrays.datetime` for more information.\n",
       "\n",
       ":Character code: ``'M'``\n",
       "\u001b[1;31mFile:\u001b[0m           d:\\virtualenvs\\ai\\lib\\site-packages\\numpy\\__init__.py\n",
       "\u001b[1;31mType:\u001b[0m           type\n",
       "\u001b[1;31mSubclasses:\u001b[0m     "
      ]
     },
     "metadata": {},
     "output_type": "display_data"
    }
   ],
   "source": [
    "np.datetime64?"
   ]
  },
  {
   "cell_type": "code",
   "execution_count": 15,
   "id": "33edb41a-51ba-42f7-b2dd-cbd801f0070f",
   "metadata": {},
   "outputs": [
    {
     "data": {
      "text/plain": [
       "np.datetime64('2024-10-12')"
      ]
     },
     "execution_count": 15,
     "metadata": {},
     "output_type": "execute_result"
    }
   ],
   "source": [
    "np.datetime64('2024-10-12')"
   ]
  },
  {
   "cell_type": "markdown",
   "id": "557aa507-4908-48b0-8e88-a9d34c88b886",
   "metadata": {},
   "source": [
    "而这是一个以分钟为单位的日期："
   ]
  },
  {
   "cell_type": "code",
   "execution_count": 16,
   "id": "91aec5a5-fdc3-45f2-9809-caf7605ffbd0",
   "metadata": {},
   "outputs": [
    {
     "data": {
      "text/plain": [
       "np.datetime64('2024-10-12T10:27')"
      ]
     },
     "execution_count": 16,
     "metadata": {},
     "output_type": "execute_result"
    }
   ],
   "source": [
    "np.datetime64('2024-10-12 10:27')"
   ]
  },
  {
   "cell_type": "markdown",
   "id": "1984d213-c0f4-4c3d-88fa-b6f4355f7f10",
   "metadata": {},
   "source": [
    "需要注意的是，时区将自动设置为执行代码的操作系统的当地时\n",
    "区。你可以通过各种格式的代码设置基本时间单位。例如，将时间\n",
    "单位设置为纳秒："
   ]
  },
  {
   "cell_type": "code",
   "execution_count": 20,
   "id": "75e388f2-5fae-4776-93bd-c866624a52cd",
   "metadata": {},
   "outputs": [
    {
     "data": {
      "text/plain": [
       "np.datetime64('2024-10-12T10:29:33.500000000')"
      ]
     },
     "execution_count": 20,
     "metadata": {},
     "output_type": "execute_result"
    }
   ],
   "source": [
    "np.datetime64('2024-10-12 10:29:33.50', 'ns')"
   ]
  },
  {
   "cell_type": "markdown",
   "id": "1cfa791d-bf61-409d-a19b-43af679a3546",
   "metadata": {},
   "source": [
    "NumPy 的 datetime64 文档\n",
    "（http://docs.scipy.org/doc/numpy/reference/arrays.datetime.html）总\n",
    "结了所有支持相对与绝对时间跨度的时间与日期单位格式代码，表\n",
    "3-6 对此总结如下。"
   ]
  },
  {
   "cell_type": "markdown",
   "id": "29dbdf12-5aa8-49b0-8805-0bc151bc57f0",
   "metadata": {},
   "source": [
    "<table>\n",
    "    <tr>\n",
    "        <th>代码</th>\n",
    "        <th>含义</th>\n",
    "        <th>时间跨度(相对)</th>\n",
    "        <th>时间跨度(绝对)</th>\n",
    "    </tr>\n",
    "    <tr>\n",
    "        <td>Y</td>\n",
    "        <td>年（year）</td>\n",
    "        <td>± 9.2e18 年</td>\n",
    "        <td>[9.2e18 BC, 9.2e18 AD]</td>\n",
    "    </tr>\n",
    "    <tr>\n",
    "        <td>M</td>\n",
    "        <td>月（month）</td>\n",
    "        <td>± 7.6e17 年</td>\n",
    "        <td>[7.6e17 BC, 7.6e17 AD]</td>\n",
    "    </tr>\n",
    "    <tr>\n",
    "        <td>W</td>\n",
    "        <td>周（week）</td>\n",
    "        <td>± 1.7e17 年</td>\n",
    "        <td>[1.7e17 BC, 1.7e17 AD]</td>\n",
    "    </tr>\n",
    "    <tr>\n",
    "        <td>D</td>\n",
    "        <td>日（day）</td>\n",
    "        <td>± 2.5e16 年</td>\n",
    "        <td>[2.5e16 BC, 2.5e16 AD]</td>\n",
    "    </tr>\n",
    "    <tr>\n",
    "        <td>h</td>\n",
    "        <td>时（hour）</td>\n",
    "        <td>± 1.0e15 年</td>\n",
    "        <td>[1.0e15 BC, 1.0e15 AD]</td>\n",
    "    </tr>\n",
    "    <tr>\n",
    "        <td>m</td>\n",
    "        <td>分（minute）</td>\n",
    "        <td>± 1.7e13 年</td>\n",
    "        <td>[1.7e13 BC, 1.7e13 AD]</td>\n",
    "    </tr>\n",
    "    <tr>\n",
    "        <td>s</td>\n",
    "        <td>秒（second）</td>\n",
    "        <td>± 2.9e12 年</td>\n",
    "        <td>[ 2.9e9 BC, 2.9e9 AD]</td>\n",
    "    </tr>\n",
    "    <tr>\n",
    "        <td>ms</td>\n",
    "        <td>毫秒（millisecond）</td>\n",
    "        <td>± 2.9e9 年</td>\n",
    "        <td>[ 2.9e6 BC, 2.9e6 AD]</td>\n",
    "    </tr>\n",
    "    <tr>\n",
    "        <td>us</td>\n",
    "        <td>微秒（microsecond）</td>\n",
    "        <td>± 2.9e6 年</td>\n",
    "        <td>[290301 BC, 294241 AD]</td>\n",
    "    </tr>\n",
    "    <tr>\n",
    "        <td>ns</td>\n",
    "        <td>纳秒（nanosecond） </td>\n",
    "        <td>± 292 年</td>\n",
    "        <td>[ 1678 AD, 2262 AD]</td>\n",
    "    </tr>\n",
    "    <tr>\n",
    "        <td>ps</td>\n",
    "        <td>皮秒（picosecond） </td>\n",
    "        <td>± 106 天</td>\n",
    "        <td>[ 1969 AD, 1970 AD]</td>\n",
    "    </tr>\n",
    "    <tr>\n",
    "        <td>fs</td>\n",
    "        <td>飞秒（femtosecond）</td>\n",
    "        <td>± 2.6 小时</td>\n",
    "        <td>[ 1969 AD, 1970 AD]</td>\n",
    "    </tr>\n",
    "    <tr>\n",
    "        <td>as</td>\n",
    "        <td>原秒（attosecond）</td>\n",
    "        <td>± 9.2 秒</td>\n",
    "        <td>[ 1969 AD, 1970 AD]</td>\n",
    "    </tr>\n",
    "</table>"
   ]
  },
  {
   "cell_type": "markdown",
   "id": "9f6ed298-ee45-4dd1-ad03-ba22f354f272",
   "metadata": {},
   "source": [
    "<p id='ct'>表3-6：日期与时间单位格式代码</p>"
   ]
  },
  {
   "cell_type": "markdown",
   "id": "99b71f83-d1ff-432c-b0ad-951ac68ee0d8",
   "metadata": {},
   "source": [
    "对于日常工作中的时间数据类型，默认单位都用纳秒\n",
    "datetime64[ns]，因为用它来表示时间范围精度可以满足绝大部\n",
    "分需求。\n",
    "最后还需要说明一点，虽然 datetime64 弥补了 Python 原生的\n",
    "datetime 类型的不足，但它缺少了许多 datetime（尤其是\n",
    "dateutil）原本具备的便捷方法与函数，具体内容请参考 NumPy\n",
    "的 datetime64 文档\n",
    "（http://docs.scipy.org/doc/numpy/reference/arrays.datetime.html）。"
   ]
  },
  {
   "cell_type": "markdown",
   "id": "7e2a2a71-f721-4c70-a36c-8a026574d62c",
   "metadata": {},
   "source": [
    "03. Pandas的日期与时间工具：理想与现实的最佳解决方案"
   ]
  },
  {
   "cell_type": "markdown",
   "id": "1bca4df4-f654-4c6f-957a-2070f169468d",
   "metadata": {},
   "source": [
    "Pandas 所有关于日期与时间的处理方法全部都是通过 Timestamp\n",
    "对象实现的，它利用 numpy.datetime64 的有效存储和向量化接\n",
    "口将 datetime 和 dateutil 的易用性有机结合起来。Pandas 通过\n",
    "一组 Timestamp 对象就可以创建一个可以作为 Series 或\n",
    "DataFrame 索引的 DatetimeIndex，我们将在后面介绍许多类似\n",
    "的例子。\n"
   ]
  },
  {
   "cell_type": "markdown",
   "id": "01187c21-d45b-4018-8f07-a05a1f48864a",
   "metadata": {},
   "source": [
    "例如，可以用 Pandas 的方式演示前面介绍的日期与时间功能。我\n",
    "们可以灵活处理不同格式的日期与时间字符串，获取某一天是星期\n",
    "几：\n"
   ]
  },
  {
   "cell_type": "code",
   "execution_count": 21,
   "id": "297bf94a-ca92-4dd8-906a-3e6c628d8cf5",
   "metadata": {},
   "outputs": [
    {
     "data": {
      "text/plain": [
       "Timestamp('2024-10-12 00:00:00')"
      ]
     },
     "execution_count": 21,
     "metadata": {},
     "output_type": "execute_result"
    }
   ],
   "source": [
    "import pandas as pd\n",
    "date = pd.to_datetime('12th of Oct, 2024')\n",
    "date"
   ]
  },
  {
   "cell_type": "code",
   "execution_count": 22,
   "id": "91c0526a-411e-4150-a57d-195749158a37",
   "metadata": {},
   "outputs": [
    {
     "data": {
      "text/plain": [
       "'Saturday'"
      ]
     },
     "execution_count": 22,
     "metadata": {},
     "output_type": "execute_result"
    }
   ],
   "source": [
    "date.strftime('%A')"
   ]
  },
  {
   "cell_type": "markdown",
   "id": "f1fc67ca-9ce0-4e74-8078-88eeac49f97b",
   "metadata": {},
   "source": [
    "另外，也可以直接进行 NumPy 类型的向量化运算："
   ]
  },
  {
   "cell_type": "code",
   "execution_count": 23,
   "id": "f0b108fa-1260-4dcd-acb8-0b0963895c87",
   "metadata": {},
   "outputs": [
    {
     "data": {
      "text/plain": [
       "DatetimeIndex(['2024-10-12', '2024-10-13', '2024-10-14', '2024-10-15',\n",
       "               '2024-10-16', '2024-10-17', '2024-10-18', '2024-10-19',\n",
       "               '2024-10-20', '2024-10-21', '2024-10-22', '2024-10-23'],\n",
       "              dtype='datetime64[ns]', freq=None)"
      ]
     },
     "execution_count": 23,
     "metadata": {},
     "output_type": "execute_result"
    }
   ],
   "source": [
    " date + pd.to_timedelta(np.arange(12), 'D')"
   ]
  },
  {
   "cell_type": "code",
   "execution_count": 24,
   "id": "24f1bdf2-4c95-42f2-b313-41db99699642",
   "metadata": {},
   "outputs": [
    {
     "data": {
      "text/plain": [
       "\u001b[1;31mSignature:\u001b[0m\n",
       "\u001b[0mpd\u001b[0m\u001b[1;33m.\u001b[0m\u001b[0mto_timedelta\u001b[0m\u001b[1;33m(\u001b[0m\u001b[1;33m\n",
       "\u001b[0m    \u001b[0marg\u001b[0m\u001b[1;33m:\u001b[0m \u001b[1;34m'str | int | float | timedelta | list | tuple | range | ArrayLike | Index | Series'\u001b[0m\u001b[1;33m,\u001b[0m\u001b[1;33m\n",
       "\u001b[0m    \u001b[0munit\u001b[0m\u001b[1;33m:\u001b[0m \u001b[1;34m'UnitChoices | None'\u001b[0m \u001b[1;33m=\u001b[0m \u001b[1;32mNone\u001b[0m\u001b[1;33m,\u001b[0m\u001b[1;33m\n",
       "\u001b[0m    \u001b[0merrors\u001b[0m\u001b[1;33m:\u001b[0m \u001b[1;34m'DateTimeErrorChoices'\u001b[0m \u001b[1;33m=\u001b[0m \u001b[1;34m'raise'\u001b[0m\u001b[1;33m,\u001b[0m\u001b[1;33m\n",
       "\u001b[0m\u001b[1;33m)\u001b[0m \u001b[1;33m->\u001b[0m \u001b[1;34m'Timedelta | TimedeltaIndex | Series'\u001b[0m\u001b[1;33m\u001b[0m\u001b[1;33m\u001b[0m\u001b[0m\n",
       "\u001b[1;31mDocstring:\u001b[0m\n",
       "Convert argument to timedelta.\n",
       "\n",
       "Timedeltas are absolute differences in times, expressed in difference\n",
       "units (e.g. days, hours, minutes, seconds). This method converts\n",
       "an argument from a recognized timedelta format / value into\n",
       "a Timedelta type.\n",
       "\n",
       "Parameters\n",
       "----------\n",
       "arg : str, timedelta, list-like or Series\n",
       "    The data to be converted to timedelta.\n",
       "\n",
       "    .. versionchanged:: 2.0\n",
       "        Strings with units 'M', 'Y' and 'y' do not represent\n",
       "        unambiguous timedelta values and will raise an exception.\n",
       "\n",
       "unit : str, optional\n",
       "    Denotes the unit of the arg for numeric `arg`. Defaults to ``\"ns\"``.\n",
       "\n",
       "    Possible values:\n",
       "\n",
       "    * 'W'\n",
       "    * 'D' / 'days' / 'day'\n",
       "    * 'hours' / 'hour' / 'hr' / 'h' / 'H'\n",
       "    * 'm' / 'minute' / 'min' / 'minutes' / 'T'\n",
       "    * 's' / 'seconds' / 'sec' / 'second' / 'S'\n",
       "    * 'ms' / 'milliseconds' / 'millisecond' / 'milli' / 'millis' / 'L'\n",
       "    * 'us' / 'microseconds' / 'microsecond' / 'micro' / 'micros' / 'U'\n",
       "    * 'ns' / 'nanoseconds' / 'nano' / 'nanos' / 'nanosecond' / 'N'\n",
       "\n",
       "    Must not be specified when `arg` contains strings and ``errors=\"raise\"``.\n",
       "\n",
       "    .. deprecated:: 2.2.0\n",
       "        Units 'H', 'T', 'S', 'L', 'U' and 'N' are deprecated and will be removed\n",
       "        in a future version. Please use 'h', 'min', 's', 'ms', 'us', and 'ns'\n",
       "        instead of 'H', 'T', 'S', 'L', 'U' and 'N'.\n",
       "\n",
       "errors : {'ignore', 'raise', 'coerce'}, default 'raise'\n",
       "    - If 'raise', then invalid parsing will raise an exception.\n",
       "    - If 'coerce', then invalid parsing will be set as NaT.\n",
       "    - If 'ignore', then invalid parsing will return the input.\n",
       "\n",
       "Returns\n",
       "-------\n",
       "timedelta\n",
       "    If parsing succeeded.\n",
       "    Return type depends on input:\n",
       "\n",
       "    - list-like: TimedeltaIndex of timedelta64 dtype\n",
       "    - Series: Series of timedelta64 dtype\n",
       "    - scalar: Timedelta\n",
       "\n",
       "See Also\n",
       "--------\n",
       "DataFrame.astype : Cast argument to a specified dtype.\n",
       "to_datetime : Convert argument to datetime.\n",
       "convert_dtypes : Convert dtypes.\n",
       "\n",
       "Notes\n",
       "-----\n",
       "If the precision is higher than nanoseconds, the precision of the duration is\n",
       "truncated to nanoseconds for string inputs.\n",
       "\n",
       "Examples\n",
       "--------\n",
       "Parsing a single string to a Timedelta:\n",
       "\n",
       ">>> pd.to_timedelta('1 days 06:05:01.00003')\n",
       "Timedelta('1 days 06:05:01.000030')\n",
       ">>> pd.to_timedelta('15.5us')\n",
       "Timedelta('0 days 00:00:00.000015500')\n",
       "\n",
       "Parsing a list or array of strings:\n",
       "\n",
       ">>> pd.to_timedelta(['1 days 06:05:01.00003', '15.5us', 'nan'])\n",
       "TimedeltaIndex(['1 days 06:05:01.000030', '0 days 00:00:00.000015500', NaT],\n",
       "               dtype='timedelta64[ns]', freq=None)\n",
       "\n",
       "Converting numbers by specifying the `unit` keyword argument:\n",
       "\n",
       ">>> pd.to_timedelta(np.arange(5), unit='s')\n",
       "TimedeltaIndex(['0 days 00:00:00', '0 days 00:00:01', '0 days 00:00:02',\n",
       "                '0 days 00:00:03', '0 days 00:00:04'],\n",
       "               dtype='timedelta64[ns]', freq=None)\n",
       ">>> pd.to_timedelta(np.arange(5), unit='d')\n",
       "TimedeltaIndex(['0 days', '1 days', '2 days', '3 days', '4 days'],\n",
       "               dtype='timedelta64[ns]', freq=None)\n",
       "\u001b[1;31mFile:\u001b[0m      d:\\virtualenvs\\ai\\lib\\site-packages\\pandas\\core\\tools\\timedeltas.py\n",
       "\u001b[1;31mType:\u001b[0m      function"
      ]
     },
     "metadata": {},
     "output_type": "display_data"
    }
   ],
   "source": [
    "pd.to_timedelta?"
   ]
  },
  {
   "cell_type": "markdown",
   "id": "ea902dde-60d8-46b6-828a-a3f283d0745f",
   "metadata": {},
   "source": [
    "下面将详细介绍 Pandas 用来处理时间序列数据的工具。"
   ]
  },
  {
   "cell_type": "markdown",
   "id": "19aa2bea-b43e-4c12-b48d-25df55a25ab4",
   "metadata": {},
   "source": [
    "### 3.12.2 Pandas时间序列：用时间作索引"
   ]
  },
  {
   "cell_type": "markdown",
   "id": "69d15ea6-18b6-44ff-b271-c4d982dc4242",
   "metadata": {},
   "source": [
    "Pandas 时间序列工具非常适合用来处理带时间戳的索引数据。例如，\n",
    "我们可以通过一个时间索引数据创建一个 Series 对象：\n"
   ]
  },
  {
   "cell_type": "code",
   "execution_count": 25,
   "id": "13fe6159-fd71-4506-9630-d8d74b9733c5",
   "metadata": {},
   "outputs": [
    {
     "data": {
      "text/plain": [
       "2014-07-04    0\n",
       "2014-08-04    1\n",
       "2015-07-04    2\n",
       "2015-08-04    3\n",
       "dtype: int64"
      ]
     },
     "execution_count": 25,
     "metadata": {},
     "output_type": "execute_result"
    }
   ],
   "source": [
    "index = pd.DatetimeIndex(['2014-07-04', '2014-08-04',\n",
    "'2015-07-04', '2015-08-04'])\n",
    "data = pd.Series([0, 1, 2, 3], index=index)\n",
    "data"
   ]
  },
  {
   "cell_type": "markdown",
   "id": "1cc43727-3c8f-4e58-b994-fec7df23f4ad",
   "metadata": {},
   "source": [
    "有了一个带时间索引的 Series 之后，就能用它来演示之前介绍过的\n",
    "Series 取值方法，可以直接用日期进行切片取值："
   ]
  },
  {
   "cell_type": "code",
   "execution_count": 26,
   "id": "954b81ef-c581-406a-9651-bca8c28a1ad9",
   "metadata": {},
   "outputs": [
    {
     "data": {
      "text/plain": [
       "2014-07-04    0\n",
       "2014-08-04    1\n",
       "2015-07-04    2\n",
       "dtype: int64"
      ]
     },
     "execution_count": 26,
     "metadata": {},
     "output_type": "execute_result"
    }
   ],
   "source": [
    "data['2014-07-04':'2015-07-04']"
   ]
  },
  {
   "cell_type": "markdown",
   "id": "bc81295b-1664-4a5b-9f27-91a39f436adc",
   "metadata": {},
   "source": [
    "另外，还有一些仅在此类 Series 上可用的取值操作，例如直接通过年\n",
    "份切片获取该年的数据："
   ]
  },
  {
   "cell_type": "code",
   "execution_count": 27,
   "id": "0ee26f64-cd21-4fed-afd8-cc0bc9bfe889",
   "metadata": {},
   "outputs": [
    {
     "data": {
      "text/plain": [
       "2015-07-04    2\n",
       "2015-08-04    3\n",
       "dtype: int64"
      ]
     },
     "execution_count": 27,
     "metadata": {},
     "output_type": "execute_result"
    }
   ],
   "source": [
    "data['2015']"
   ]
  },
  {
   "cell_type": "markdown",
   "id": "f650f192-5885-4fc3-aaaa-04173b7f871c",
   "metadata": {},
   "source": [
    "下面将介绍一些示例，体现将日期作为索引为运算带来的便利性。在此\n",
    "之前，让我们仔细看看现有的时间序列数据结构"
   ]
  },
  {
   "cell_type": "markdown",
   "id": "0229498e-bef4-4c5c-86ee-4799f7c1c695",
   "metadata": {},
   "source": [
    "### 3.12.3 Pandas时间序列数据结构"
   ]
  },
  {
   "cell_type": "markdown",
   "id": "ff032fdb-fe1e-4712-abf5-6fc8e5b66aae",
   "metadata": {},
   "source": [
    "本节将介绍 Pandas 用来处理时间序列的基础数据类型。  \n",
    "- 针对时间戳数据，Pandas 提供了 Timestamp 类型。与前面介绍的  \n",
    "一样，它本质上是 Python 的原生 datetime 类型的替代品，但是  \n",
    "在性能更好的 numpy.datetime64 类型的基础上创建。对应的索  \n",
    "引数据结构是 DatetimeIndex。    \n",
    "- 针对时间周期数据，Pandas 提供了 Period 类型。这是利用  \n",
    "numpy.datetime64 类型将固定频率的时间间隔进行编码。对应的  \n",
    "索引数据结构是 PeriodIndex。  \n",
    "- 针对时间增量或持续时间，Pandas 提供了 Timedelta 类  \n",
    "型。Timedelta 是一种代替 Python 原生 datetime.timedelta 类  \n",
    "型的高性能数据结构，同样是基于 numpy.timedelta64 类型。对  \n",
    "应的索引数据结构是 TimedeltaIndex。  \n",
    "\n",
    "最基础的日期 / 时间对象是 Timestamp 和 DatetimeIndex。这两种对  \n",
    "象可以直接使用，最常用的方法是 pd.to_datetime() 函数，它可以  \n",
    "解析许多日期与时间格式。对 pd.to_datetime() 传递一个日期会返  \n",
    "回一个 Timestamp 类型，传递一个时间序列会返回一个  \n",
    "DatetimeIndex 类型：  "
   ]
  },
  {
   "cell_type": "code",
   "execution_count": 33,
   "id": "147ab256-868a-4fdc-ab6c-0c969df116e0",
   "metadata": {},
   "outputs": [],
   "source": [
    " dates = pd.to_datetime([datetime(2024, 10, 12), '13th of Oct, 2024',\n",
    "                    '2024-Oct-14', '10-15-2024', '20241016'])"
   ]
  },
  {
   "cell_type": "code",
   "execution_count": 34,
   "id": "b5129737-57c3-4b19-853f-3fcdb9094f8e",
   "metadata": {},
   "outputs": [
    {
     "data": {
      "text/plain": [
       "DatetimeIndex(['2024-10-12', '2024-10-13', '2024-10-14', '2024-10-15',\n",
       "               '2024-10-16'],\n",
       "              dtype='datetime64[ns]', freq=None)"
      ]
     },
     "execution_count": 34,
     "metadata": {},
     "output_type": "execute_result"
    }
   ],
   "source": [
    "dates"
   ]
  },
  {
   "cell_type": "markdown",
   "id": "69649bda-3764-4033-a1bd-784ba58e522a",
   "metadata": {},
   "source": [
    "任何 DatetimeIndex 类型都可以通过 to_period()(period译:周期) 方法和一个频率代\n",
    "码转换成 PeriodIndex 类型。下面用 'D'(day) 将数据转换成单日的时间序\n",
    "列："
   ]
  },
  {
   "cell_type": "code",
   "execution_count": 38,
   "id": "eb930727-5ea6-4f76-a10c-c8f742611688",
   "metadata": {
    "scrolled": true
   },
   "outputs": [
    {
     "data": {
      "text/plain": [
       "\u001b[1;31mSignature:\u001b[0m \u001b[0mdates\u001b[0m\u001b[1;33m.\u001b[0m\u001b[0mto_period\u001b[0m\u001b[1;33m(\u001b[0m\u001b[1;33m*\u001b[0m\u001b[0margs\u001b[0m\u001b[1;33m,\u001b[0m \u001b[1;33m**\u001b[0m\u001b[0mkwargs\u001b[0m\u001b[1;33m)\u001b[0m\u001b[1;33m\u001b[0m\u001b[1;33m\u001b[0m\u001b[0m\n",
       "\u001b[1;31mDocstring:\u001b[0m\n",
       "Cast to PeriodArray/PeriodIndex at a particular frequency.\n",
       "\n",
       "Converts DatetimeArray/Index to PeriodArray/PeriodIndex.\n",
       "\n",
       "Parameters\n",
       "----------\n",
       "freq : str or Period, optional\n",
       "    One of pandas' :ref:`period aliases <timeseries.period_aliases>`\n",
       "    or an Period object. Will be inferred by default.\n",
       "\n",
       "Returns\n",
       "-------\n",
       "PeriodArray/PeriodIndex\n",
       "\n",
       "Raises\n",
       "------\n",
       "ValueError\n",
       "    When converting a DatetimeArray/Index with non-regular values,\n",
       "    so that a frequency cannot be inferred.\n",
       "\n",
       "See Also\n",
       "--------\n",
       "PeriodIndex: Immutable ndarray holding ordinal values.\n",
       "DatetimeIndex.to_pydatetime: Return DatetimeIndex as object.\n",
       "\n",
       "Examples\n",
       "--------\n",
       ">>> df = pd.DataFrame({\"y\": [1, 2, 3]},\n",
       "...                   index=pd.to_datetime([\"2000-03-31 00:00:00\",\n",
       "...                                         \"2000-05-31 00:00:00\",\n",
       "...                                         \"2000-08-31 00:00:00\"]))\n",
       ">>> df.index.to_period(\"M\")\n",
       "PeriodIndex(['2000-03', '2000-05', '2000-08'],\n",
       "            dtype='period[M]')\n",
       "\n",
       "Infer the daily frequency\n",
       "\n",
       ">>> idx = pd.date_range(\"2017-01-01\", periods=2)\n",
       ">>> idx.to_period()\n",
       "PeriodIndex(['2017-01-01', '2017-01-02'],\n",
       "            dtype='period[D]')\n",
       "\u001b[1;31mFile:\u001b[0m      d:\\virtualenvs\\ai\\lib\\site-packages\\pandas\\core\\indexes\\extension.py\n",
       "\u001b[1;31mType:\u001b[0m      method"
      ]
     },
     "metadata": {},
     "output_type": "display_data"
    }
   ],
   "source": [
    "dates.to_period?"
   ]
  },
  {
   "cell_type": "code",
   "execution_count": 35,
   "id": "6edc1050-1278-48cb-92f5-80d208290953",
   "metadata": {},
   "outputs": [
    {
     "data": {
      "text/plain": [
       "PeriodIndex(['2024-10-12', '2024-10-13', '2024-10-14', '2024-10-15',\n",
       "             '2024-10-16'],\n",
       "            dtype='period[D]')"
      ]
     },
     "execution_count": 35,
     "metadata": {},
     "output_type": "execute_result"
    }
   ],
   "source": [
    " dates.to_period('D')"
   ]
  },
  {
   "cell_type": "markdown",
   "id": "5032a131-ce9c-4d6d-8dec-b82421d11398",
   "metadata": {},
   "source": [
    "当用一个日期减去另一个日期时，返回的结果是 TimedeltaIndex 类\n",
    "型："
   ]
  },
  {
   "cell_type": "code",
   "execution_count": 36,
   "id": "f555f9a7-839d-4445-89ae-919d730facc1",
   "metadata": {},
   "outputs": [
    {
     "data": {
      "text/plain": [
       "TimedeltaIndex(['0 days', '1 days', '2 days', '3 days', '4 days'], dtype='timedelta64[ns]', freq=None)"
      ]
     },
     "execution_count": 36,
     "metadata": {},
     "output_type": "execute_result"
    }
   ],
   "source": [
    "dates - dates[0]"
   ]
  },
  {
   "cell_type": "markdown",
   "id": "3d1ef298-838a-40da-8a36-83106c424fb3",
   "metadata": {},
   "source": [
    "有规律的时间序列：pd.date_range()"
   ]
  },
  {
   "cell_type": "code",
   "execution_count": 41,
   "id": "f2ebb311-faef-4186-bac3-db0f9f5ceb85",
   "metadata": {},
   "outputs": [
    {
     "data": {
      "text/plain": [
       "\u001b[1;31mSignature:\u001b[0m\n",
       "\u001b[0mpd\u001b[0m\u001b[1;33m.\u001b[0m\u001b[0mdate_range\u001b[0m\u001b[1;33m(\u001b[0m\u001b[1;33m\n",
       "\u001b[0m    \u001b[0mstart\u001b[0m\u001b[1;33m=\u001b[0m\u001b[1;32mNone\u001b[0m\u001b[1;33m,\u001b[0m\u001b[1;33m\n",
       "\u001b[0m    \u001b[0mend\u001b[0m\u001b[1;33m=\u001b[0m\u001b[1;32mNone\u001b[0m\u001b[1;33m,\u001b[0m\u001b[1;33m\n",
       "\u001b[0m    \u001b[0mperiods\u001b[0m\u001b[1;33m=\u001b[0m\u001b[1;32mNone\u001b[0m\u001b[1;33m,\u001b[0m\u001b[1;33m\n",
       "\u001b[0m    \u001b[0mfreq\u001b[0m\u001b[1;33m=\u001b[0m\u001b[1;32mNone\u001b[0m\u001b[1;33m,\u001b[0m\u001b[1;33m\n",
       "\u001b[0m    \u001b[0mtz\u001b[0m\u001b[1;33m=\u001b[0m\u001b[1;32mNone\u001b[0m\u001b[1;33m,\u001b[0m\u001b[1;33m\n",
       "\u001b[0m    \u001b[0mnormalize\u001b[0m\u001b[1;33m:\u001b[0m \u001b[1;34m'bool'\u001b[0m \u001b[1;33m=\u001b[0m \u001b[1;32mFalse\u001b[0m\u001b[1;33m,\u001b[0m\u001b[1;33m\n",
       "\u001b[0m    \u001b[0mname\u001b[0m\u001b[1;33m:\u001b[0m \u001b[1;34m'Hashable | None'\u001b[0m \u001b[1;33m=\u001b[0m \u001b[1;32mNone\u001b[0m\u001b[1;33m,\u001b[0m\u001b[1;33m\n",
       "\u001b[0m    \u001b[0minclusive\u001b[0m\u001b[1;33m:\u001b[0m \u001b[1;34m'IntervalClosedType'\u001b[0m \u001b[1;33m=\u001b[0m \u001b[1;34m'both'\u001b[0m\u001b[1;33m,\u001b[0m\u001b[1;33m\n",
       "\u001b[0m    \u001b[1;33m*\u001b[0m\u001b[1;33m,\u001b[0m\u001b[1;33m\n",
       "\u001b[0m    \u001b[0munit\u001b[0m\u001b[1;33m:\u001b[0m \u001b[1;34m'str | None'\u001b[0m \u001b[1;33m=\u001b[0m \u001b[1;32mNone\u001b[0m\u001b[1;33m,\u001b[0m\u001b[1;33m\n",
       "\u001b[0m    \u001b[1;33m**\u001b[0m\u001b[0mkwargs\u001b[0m\u001b[1;33m,\u001b[0m\u001b[1;33m\n",
       "\u001b[0m\u001b[1;33m)\u001b[0m \u001b[1;33m->\u001b[0m \u001b[1;34m'DatetimeIndex'\u001b[0m\u001b[1;33m\u001b[0m\u001b[1;33m\u001b[0m\u001b[0m\n",
       "\u001b[1;31mDocstring:\u001b[0m\n",
       "Return a fixed frequency DatetimeIndex.\n",
       "\n",
       "Returns the range of equally spaced time points (where the difference between any\n",
       "two adjacent points is specified by the given frequency) such that they all\n",
       "satisfy `start <[=] x <[=] end`, where the first one and the last one are, resp.,\n",
       "the first and last time points in that range that fall on the boundary of ``freq``\n",
       "(if given as a frequency string) or that are valid for ``freq`` (if given as a\n",
       ":class:`pandas.tseries.offsets.DateOffset`). (If exactly one of ``start``,\n",
       "``end``, or ``freq`` is *not* specified, this missing parameter can be computed\n",
       "given ``periods``, the number of timesteps in the range. See the note below.)\n",
       "\n",
       "Parameters\n",
       "----------\n",
       "start : str or datetime-like, optional\n",
       "    Left bound for generating dates.\n",
       "end : str or datetime-like, optional\n",
       "    Right bound for generating dates.\n",
       "periods : int, optional\n",
       "    Number of periods to generate.\n",
       "freq : str, Timedelta, datetime.timedelta, or DateOffset, default 'D'\n",
       "    Frequency strings can have multiples, e.g. '5h'. See\n",
       "    :ref:`here <timeseries.offset_aliases>` for a list of\n",
       "    frequency aliases.\n",
       "tz : str or tzinfo, optional\n",
       "    Time zone name for returning localized DatetimeIndex, for example\n",
       "    'Asia/Hong_Kong'. By default, the resulting DatetimeIndex is\n",
       "    timezone-naive unless timezone-aware datetime-likes are passed.\n",
       "normalize : bool, default False\n",
       "    Normalize start/end dates to midnight before generating date range.\n",
       "name : str, default None\n",
       "    Name of the resulting DatetimeIndex.\n",
       "inclusive : {\"both\", \"neither\", \"left\", \"right\"}, default \"both\"\n",
       "    Include boundaries; Whether to set each bound as closed or open.\n",
       "\n",
       "    .. versionadded:: 1.4.0\n",
       "unit : str, default None\n",
       "    Specify the desired resolution of the result.\n",
       "\n",
       "    .. versionadded:: 2.0.0\n",
       "**kwargs\n",
       "    For compatibility. Has no effect on the result.\n",
       "\n",
       "Returns\n",
       "-------\n",
       "DatetimeIndex\n",
       "\n",
       "See Also\n",
       "--------\n",
       "DatetimeIndex : An immutable container for datetimes.\n",
       "timedelta_range : Return a fixed frequency TimedeltaIndex.\n",
       "period_range : Return a fixed frequency PeriodIndex.\n",
       "interval_range : Return a fixed frequency IntervalIndex.\n",
       "\n",
       "Notes\n",
       "-----\n",
       "Of the four parameters ``start``, ``end``, ``periods``, and ``freq``,\n",
       "exactly three must be specified. If ``freq`` is omitted, the resulting\n",
       "``DatetimeIndex`` will have ``periods`` linearly spaced elements between\n",
       "``start`` and ``end`` (closed on both sides).\n",
       "\n",
       "To learn more about the frequency strings, please see `this link\n",
       "<https://pandas.pydata.org/pandas-docs/stable/user_guide/timeseries.html#offset-aliases>`__.\n",
       "\n",
       "Examples\n",
       "--------\n",
       "**Specifying the values**\n",
       "\n",
       "The next four examples generate the same `DatetimeIndex`, but vary\n",
       "the combination of `start`, `end` and `periods`.\n",
       "\n",
       "Specify `start` and `end`, with the default daily frequency.\n",
       "\n",
       ">>> pd.date_range(start='1/1/2018', end='1/08/2018')\n",
       "DatetimeIndex(['2018-01-01', '2018-01-02', '2018-01-03', '2018-01-04',\n",
       "               '2018-01-05', '2018-01-06', '2018-01-07', '2018-01-08'],\n",
       "              dtype='datetime64[ns]', freq='D')\n",
       "\n",
       "Specify timezone-aware `start` and `end`, with the default daily frequency.\n",
       "\n",
       ">>> pd.date_range(\n",
       "...     start=pd.to_datetime(\"1/1/2018\").tz_localize(\"Europe/Berlin\"),\n",
       "...     end=pd.to_datetime(\"1/08/2018\").tz_localize(\"Europe/Berlin\"),\n",
       "... )\n",
       "DatetimeIndex(['2018-01-01 00:00:00+01:00', '2018-01-02 00:00:00+01:00',\n",
       "               '2018-01-03 00:00:00+01:00', '2018-01-04 00:00:00+01:00',\n",
       "               '2018-01-05 00:00:00+01:00', '2018-01-06 00:00:00+01:00',\n",
       "               '2018-01-07 00:00:00+01:00', '2018-01-08 00:00:00+01:00'],\n",
       "              dtype='datetime64[ns, Europe/Berlin]', freq='D')\n",
       "\n",
       "Specify `start` and `periods`, the number of periods (days).\n",
       "\n",
       ">>> pd.date_range(start='1/1/2018', periods=8)\n",
       "DatetimeIndex(['2018-01-01', '2018-01-02', '2018-01-03', '2018-01-04',\n",
       "               '2018-01-05', '2018-01-06', '2018-01-07', '2018-01-08'],\n",
       "              dtype='datetime64[ns]', freq='D')\n",
       "\n",
       "Specify `end` and `periods`, the number of periods (days).\n",
       "\n",
       ">>> pd.date_range(end='1/1/2018', periods=8)\n",
       "DatetimeIndex(['2017-12-25', '2017-12-26', '2017-12-27', '2017-12-28',\n",
       "               '2017-12-29', '2017-12-30', '2017-12-31', '2018-01-01'],\n",
       "              dtype='datetime64[ns]', freq='D')\n",
       "\n",
       "Specify `start`, `end`, and `periods`; the frequency is generated\n",
       "automatically (linearly spaced).\n",
       "\n",
       ">>> pd.date_range(start='2018-04-24', end='2018-04-27', periods=3)\n",
       "DatetimeIndex(['2018-04-24 00:00:00', '2018-04-25 12:00:00',\n",
       "               '2018-04-27 00:00:00'],\n",
       "              dtype='datetime64[ns]', freq=None)\n",
       "\n",
       "**Other Parameters**\n",
       "\n",
       "Changed the `freq` (frequency) to ``'ME'`` (month end frequency).\n",
       "\n",
       ">>> pd.date_range(start='1/1/2018', periods=5, freq='ME')\n",
       "DatetimeIndex(['2018-01-31', '2018-02-28', '2018-03-31', '2018-04-30',\n",
       "               '2018-05-31'],\n",
       "              dtype='datetime64[ns]', freq='ME')\n",
       "\n",
       "Multiples are allowed\n",
       "\n",
       ">>> pd.date_range(start='1/1/2018', periods=5, freq='3ME')\n",
       "DatetimeIndex(['2018-01-31', '2018-04-30', '2018-07-31', '2018-10-31',\n",
       "               '2019-01-31'],\n",
       "              dtype='datetime64[ns]', freq='3ME')\n",
       "\n",
       "`freq` can also be specified as an Offset object.\n",
       "\n",
       ">>> pd.date_range(start='1/1/2018', periods=5, freq=pd.offsets.MonthEnd(3))\n",
       "DatetimeIndex(['2018-01-31', '2018-04-30', '2018-07-31', '2018-10-31',\n",
       "               '2019-01-31'],\n",
       "              dtype='datetime64[ns]', freq='3ME')\n",
       "\n",
       "Specify `tz` to set the timezone.\n",
       "\n",
       ">>> pd.date_range(start='1/1/2018', periods=5, tz='Asia/Tokyo')\n",
       "DatetimeIndex(['2018-01-01 00:00:00+09:00', '2018-01-02 00:00:00+09:00',\n",
       "               '2018-01-03 00:00:00+09:00', '2018-01-04 00:00:00+09:00',\n",
       "               '2018-01-05 00:00:00+09:00'],\n",
       "              dtype='datetime64[ns, Asia/Tokyo]', freq='D')\n",
       "\n",
       "`inclusive` controls whether to include `start` and `end` that are on the\n",
       "boundary. The default, \"both\", includes boundary points on either end.\n",
       "\n",
       ">>> pd.date_range(start='2017-01-01', end='2017-01-04', inclusive=\"both\")\n",
       "DatetimeIndex(['2017-01-01', '2017-01-02', '2017-01-03', '2017-01-04'],\n",
       "              dtype='datetime64[ns]', freq='D')\n",
       "\n",
       "Use ``inclusive='left'`` to exclude `end` if it falls on the boundary.\n",
       "\n",
       ">>> pd.date_range(start='2017-01-01', end='2017-01-04', inclusive='left')\n",
       "DatetimeIndex(['2017-01-01', '2017-01-02', '2017-01-03'],\n",
       "              dtype='datetime64[ns]', freq='D')\n",
       "\n",
       "Use ``inclusive='right'`` to exclude `start` if it falls on the boundary, and\n",
       "similarly ``inclusive='neither'`` will exclude both `start` and `end`.\n",
       "\n",
       ">>> pd.date_range(start='2017-01-01', end='2017-01-04', inclusive='right')\n",
       "DatetimeIndex(['2017-01-02', '2017-01-03', '2017-01-04'],\n",
       "              dtype='datetime64[ns]', freq='D')\n",
       "\n",
       "**Specify a unit**\n",
       "\n",
       ">>> pd.date_range(start=\"2017-01-01\", periods=10, freq=\"100YS\", unit=\"s\")\n",
       "DatetimeIndex(['2017-01-01', '2117-01-01', '2217-01-01', '2317-01-01',\n",
       "               '2417-01-01', '2517-01-01', '2617-01-01', '2717-01-01',\n",
       "               '2817-01-01', '2917-01-01'],\n",
       "              dtype='datetime64[s]', freq='100YS-JAN')\n",
       "\u001b[1;31mFile:\u001b[0m      d:\\virtualenvs\\ai\\lib\\site-packages\\pandas\\core\\indexes\\datetimes.py\n",
       "\u001b[1;31mType:\u001b[0m      function"
      ]
     },
     "metadata": {},
     "output_type": "display_data"
    }
   ],
   "source": [
    "pd.date_range?"
   ]
  },
  {
   "cell_type": "markdown",
   "id": "52b36d25-a8d3-4a1d-ad83-bc1fdace5ae9",
   "metadata": {},
   "source": [
    "为了能更简便地创建有规律的时间序列，Pandas 提供了一些方\n",
    "法：pd.date_range() 可以处理时间戳、pd.period_range() 可以处\n",
    "理周期、pd.timedelta_range() 可以处理时间间隔。我们已经介绍\n",
    "过，Python 的 range() 和 NumPy 的 np.arange() 可以用起点、终点\n",
    "和步长（可选的）创建一个序列。pd.date_range() 与之类似，通过\n",
    "开始日期、结束日期和频率代码（同样是可选的）创建一个有规律的日\n",
    "期序列，默认的频率是天："
   ]
  },
  {
   "cell_type": "code",
   "execution_count": 42,
   "id": "aad2a050-0cbd-4307-945a-362816a5a81e",
   "metadata": {},
   "outputs": [
    {
     "data": {
      "text/plain": [
       "DatetimeIndex(['2015-07-03', '2015-07-04', '2015-07-05', '2015-07-06',\n",
       "               '2015-07-07', '2015-07-08', '2015-07-09', '2015-07-10'],\n",
       "              dtype='datetime64[ns]', freq='D')"
      ]
     },
     "execution_count": 42,
     "metadata": {},
     "output_type": "execute_result"
    }
   ],
   "source": [
    "pd.date_range(start='2015-07-03', end='2015-07-10')"
   ]
  },
  {
   "cell_type": "markdown",
   "id": "bd0aaa1e-7c22-41a5-acc1-d8cd8f371e31",
   "metadata": {},
   "source": [
    "此外，日期范围不一定非是开始时间与结束时间，也可以是开始时间与\n",
    "周期数 periods："
   ]
  },
  {
   "cell_type": "code",
   "execution_count": 43,
   "id": "6cee056b-19d1-4643-9a82-1c45ba822f0b",
   "metadata": {},
   "outputs": [
    {
     "data": {
      "text/plain": [
       "DatetimeIndex(['2024-10-12', '2024-10-13', '2024-10-14', '2024-10-15',\n",
       "               '2024-10-16', '2024-10-17', '2024-10-18', '2024-10-19'],\n",
       "              dtype='datetime64[ns]', freq='D')"
      ]
     },
     "execution_count": 43,
     "metadata": {},
     "output_type": "execute_result"
    }
   ],
   "source": [
    " pd.date_range(start='2024-10-12', periods=8)"
   ]
  },
  {
   "cell_type": "markdown",
   "id": "181c1dee-25ef-4a29-a055-3269253d291f",
   "metadata": {},
   "source": [
    "你可以通过 freq 参数改变时间间隔，默认值是 D。例如，可以创建一\n",
    "个按小时变化的时间戳："
   ]
  },
  {
   "cell_type": "code",
   "execution_count": 46,
   "id": "1abe3637-a33a-4f22-82b7-6bbf9418a064",
   "metadata": {},
   "outputs": [
    {
     "data": {
      "text/plain": [
       "DatetimeIndex(['2024-10-12 00:00:00', '2024-10-12 01:00:00',\n",
       "               '2024-10-12 02:00:00', '2024-10-12 03:00:00',\n",
       "               '2024-10-12 04:00:00', '2024-10-12 05:00:00',\n",
       "               '2024-10-12 06:00:00', '2024-10-12 07:00:00'],\n",
       "              dtype='datetime64[ns]', freq='h')"
      ]
     },
     "execution_count": 46,
     "metadata": {},
     "output_type": "execute_result"
    }
   ],
   "source": [
    "pd.date_range(start='2024-10-12',periods=8,freq='h')"
   ]
  },
  {
   "cell_type": "markdown",
   "id": "d83d2461-1fc5-40c7-abdf-cce33933e790",
   "metadata": {},
   "source": [
    "如果要创建一个有规律的周期或时间间隔序列，有类似的函数\n",
    "pd.period_range() 和 pd.timedelta_range()。下面是一个以月为\n",
    "周期的示例："
   ]
  },
  {
   "cell_type": "code",
   "execution_count": 48,
   "id": "f0753150-d412-4c1d-9192-e9720f8fdb05",
   "metadata": {},
   "outputs": [
    {
     "data": {
      "text/plain": [
       "PeriodIndex(['2024-10', '2024-11', '2024-12', '2025-01', '2025-02', '2025-03',\n",
       "             '2025-04', '2025-05'],\n",
       "            dtype='period[M]')"
      ]
     },
     "execution_count": 48,
     "metadata": {},
     "output_type": "execute_result"
    }
   ],
   "source": [
    "pd.period_range(start='2024-10', periods=8, freq='M')"
   ]
  },
  {
   "cell_type": "markdown",
   "id": "f989e83f-0839-4249-b087-cf8bb1e4f123",
   "metadata": {},
   "source": [
    "以及一个以小时递增的序列："
   ]
  },
  {
   "cell_type": "code",
   "execution_count": 54,
   "id": "eff5927b-a0f7-488d-abf3-f5c5c8411889",
   "metadata": {},
   "outputs": [
    {
     "data": {
      "text/plain": [
       "TimedeltaIndex(['0 days 00:00:00', '0 days 01:00:00', '0 days 02:00:00',\n",
       "                '0 days 03:00:00', '0 days 04:00:00', '0 days 05:00:00',\n",
       "                '0 days 06:00:00', '0 days 07:00:00', '0 days 08:00:00',\n",
       "                '0 days 09:00:00'],\n",
       "               dtype='timedelta64[ns]', freq='h')"
      ]
     },
     "execution_count": 54,
     "metadata": {},
     "output_type": "execute_result"
    }
   ],
   "source": [
    "pd.timedelta_range(0, periods=10, freq='h')"
   ]
  },
  {
   "cell_type": "markdown",
   "id": "e46337e6-a0d6-481b-8474-b092267cafb0",
   "metadata": {},
   "source": [
    "掌握 Pandas 频率代码是使用所有这些时间序列创建方法的必要条件。\n",
    "接下来，我们将总结这些代码。"
   ]
  },
  {
   "cell_type": "markdown",
   "id": "d57b1b4d-4f04-4c1c-adcb-c5253be86c61",
   "metadata": {},
   "source": [
    "### 3.12.4 时间频率与偏移量"
   ]
  },
  {
   "cell_type": "markdown",
   "id": "1b41851a-6b65-4735-bf35-6d2a2f16389f",
   "metadata": {},
   "source": [
    "Pandas 时间序列工具的基础是时间频率或偏移量（offset）代码。就像\n",
    "之前见过的 D（day）和 H（hour）代码，我们可以用这些代码设置任意\n",
    "需要的时间间隔。表 3-7 总结了主要的频率代码。"
   ]
  },
  {
   "cell_type": "markdown",
   "id": "7b74504e-d985-4530-85a8-fedd4b4a9dff",
   "metadata": {},
   "source": [
    "<table>\n",
    "    <tr>\n",
    "        <th>代码</th>\n",
    "        <th>描述</th>\n",
    "        <th>代码</th>\n",
    "        <th>描述</th>\n",
    "    </tr>\n",
    "    <tr>\n",
    "        <td>D</td>\n",
    "        <td>天（calendar day，按日历算，含双休日）</td>\n",
    "        <td>B</td>\n",
    "        <td>天（business day，仅含工作日）</td>\n",
    "    </tr>\n",
    "    <tr>\n",
    "        <td>W</td>\n",
    "        <td>周</td>\n",
    "        <td></td>\n",
    "        <td></td>\n",
    "    </tr>\n",
    "    <tr>\n",
    "        <td>M</td>\n",
    "        <td>月末(month end)</td>\n",
    "        <td>BM</td>\n",
    "        <td>月末（business month end，仅含工作日）</td>\n",
    "    </tr>\n",
    "    <tr>\n",
    "        <td>Q</td>\n",
    "        <td>季末（quarter end）</td>\n",
    "        <td>BQ</td>\n",
    "        <td>季末（business quarter end，仅含工作日）</td>\n",
    "    </tr>\n",
    "    <tr>\n",
    "        <td>A</td>\n",
    "        <td>年末（year end） </td>\n",
    "        <td>BA</td>\n",
    "        <td>年末（business year end，仅含工作日）</td>\n",
    "    </tr>\n",
    "    <tr>\n",
    "        <td>H(新版本为h)</td>\n",
    "        <td>小时（hours） </td>\n",
    "        <td>BH</td>\n",
    "        <td>小时（business hours，工作时间）</td>\n",
    "    </tr>\n",
    "    <tr>\n",
    "        <td>T(新版本为min)</td>\n",
    "        <td>分钟（minutes）</td>\n",
    "        <td></td>\n",
    "        <td></td>\n",
    "    </tr>\n",
    "    <tr>\n",
    "        <td>S</td>\n",
    "        <td>秒(second)</td>\n",
    "        <td></td>\n",
    "        <td></td>\n",
    "    </tr>\n",
    "    <tr>\n",
    "        <td>L</td>\n",
    "        <td>毫秒(milliseonds)</td>\n",
    "        <td></td>\n",
    "        <td></td>\n",
    "    </tr>\n",
    "    <tr>\n",
    "        <td>U</td>\n",
    "        <td>微秒（microseconds）</td>\n",
    "        <td></td>\n",
    "        <td></td>\n",
    "    </tr>\n",
    "    <tr>\n",
    "        <td>N</td>\n",
    "        <td>纳秒（nanoseconds）</td>\n",
    "        <td></td>\n",
    "        <td></td>\n",
    "    </tr>\n",
    "</table>"
   ]
  },
  {
   "cell_type": "markdown",
   "id": "b0f7a5ff-0aaf-42e0-98a3-51375cfecd4b",
   "metadata": {},
   "source": [
    "<p id='ct'>表3-7：Pandas频率代码</p>"
   ]
  },
  {
   "cell_type": "markdown",
   "id": "4227b482-73a4-499d-825a-efcbf5c20aa5",
   "metadata": {},
   "source": [
    "月、季、年频率都是具体周期的结束时间（月末、季末、年末），而有\n",
    "一些以 S（start，开始）为后缀的代码表示日期开始（如表 3-8 所\n",
    "示）。"
   ]
  },
  {
   "cell_type": "markdown",
   "id": "2bf0f23e-08a4-49cb-b04a-44be5944cb48",
   "metadata": {},
   "source": [
    "<table>\n",
    "    <tr>\n",
    "        <th>代码</th>\n",
    "        <th>频率</th>\n",
    "    </tr>\n",
    "    <tr>\n",
    "        <td>MS</td>\n",
    "        <td>月初（month start）</td>\n",
    "    </tr>\n",
    "    <tr>\n",
    "        <td>BMS</td>\n",
    "        <td>月初（business month start，仅含工作日）</td>\n",
    "    </tr>\n",
    "    <tr>\n",
    "        <td>QS</td>\n",
    "        <td>季初（quarter start）</td>\n",
    "    </tr>\n",
    "    <tr>\n",
    "        <td>BQS </td>\n",
    "        <td>季初（business quarter start，仅含工作日）</td>\n",
    "    </tr>\n",
    "    <tr>\n",
    "        <td>AS</td>\n",
    "        <td>年初（year start）</td>\n",
    "    </tr>\n",
    "    <tr>\n",
    "        <td>BAS </td>\n",
    "        <td>年初（business year start，仅含工作日）</td>\n",
    "    </tr>\n",
    "</table>"
   ]
  },
  {
   "cell_type": "markdown",
   "id": "bd32dc1c-fff7-41c3-9028-37a6d3042664",
   "metadata": {},
   "source": [
    "<p id='ct'>表3-8：带开始索引的频率代码</p>"
   ]
  },
  {
   "cell_type": "markdown",
   "id": "b80734d8-7937-441b-a231-40434aeccf9b",
   "metadata": {},
   "source": [
    "另外，你可以在频率代码后面加三位月份缩写字母来改变季、年频率的\n",
    "开始时间。"
   ]
  },
  {
   "cell_type": "markdown",
   "id": "f88f45f3-aa22-4649-a5b8-d25670ffbb3b",
   "metadata": {},
   "source": [
    "- Q-JAN、BQ-FEB、QS-MAR、BQS-APR 等。\n",
    "- A-JAN、BA-FEB、AS-MAR、BAS-APR 等。"
   ]
  },
  {
   "cell_type": "markdown",
   "id": "d618aedd-5aea-4b93-8dba-abebf7de7613",
   "metadata": {},
   "source": [
    "同理，也可以在后面加三位星期缩写字母来改变一周的开始时间。"
   ]
  },
  {
   "cell_type": "markdown",
   "id": "9380f5f7-1074-4d4d-a617-f22808a17b28",
   "metadata": {},
   "source": [
    "- W-SUN、W-MON、W-TUE、W-WED 等。"
   ]
  },
  {
   "cell_type": "markdown",
   "id": "6dea4bc9-6f3d-4537-a57e-8d50555125d7",
   "metadata": {},
   "source": [
    "在这些代码的基础上，还可以将频率组合起来创建的新的周期。例如，\n",
    "可以用小时（H）和分钟（T）的组合来实现 2 小时 30 分钟："
   ]
  },
  {
   "cell_type": "code",
   "execution_count": 58,
   "id": "e3af8abb-e8e5-44df-8265-d90a01dc284a",
   "metadata": {},
   "outputs": [
    {
     "data": {
      "text/plain": [
       "TimedeltaIndex(['0 days 00:00:00', '0 days 02:30:00', '0 days 05:00:00',\n",
       "                '0 days 07:30:00', '0 days 10:00:00', '0 days 12:30:00',\n",
       "                '0 days 15:00:00', '0 days 17:30:00', '0 days 20:00:00'],\n",
       "               dtype='timedelta64[ns]', freq='150min')"
      ]
     },
     "execution_count": 58,
     "metadata": {},
     "output_type": "execute_result"
    }
   ],
   "source": [
    "pd.timedelta_range(0, periods=9, freq=\"2h30min\")"
   ]
  },
  {
   "cell_type": "markdown",
   "id": "7bd6ecc4-93eb-411c-82d1-f56037009b1e",
   "metadata": {},
   "source": [
    "所有这些频率代码都对应 Pandas 时间序列的偏移量，具体内容可以在\n",
    "pd.tseries.offsets 模块中找到。例如，可以用下面的方法直接创建\n",
    "一个工作日偏移序列："
   ]
  },
  {
   "cell_type": "code",
   "execution_count": 59,
   "id": "a7289604-105b-4c01-bb0b-bce17ac6c6f0",
   "metadata": {},
   "outputs": [
    {
     "data": {
      "text/plain": [
       "DatetimeIndex(['2015-07-01', '2015-07-02', '2015-07-03', '2015-07-06',\n",
       "               '2015-07-07'],\n",
       "              dtype='datetime64[ns]', freq='B')"
      ]
     },
     "execution_count": 59,
     "metadata": {},
     "output_type": "execute_result"
    }
   ],
   "source": [
    "from pandas.tseries.offsets import BDay\n",
    "pd.date_range('2015-07-01', periods=5, freq=BDay()) \n",
    "#这里用了时间序列的偏移量,利用了BDay表示只取工作日\n"
   ]
  },
  {
   "cell_type": "markdown",
   "id": "fb945d36-795e-4c18-98d3-9498140a7e05",
   "metadata": {},
   "source": [
    "关于时间频率与偏移量的更多内容，请参考 Pandas 在线文档“Date\n",
    "Offset objects”（http://pandas.pydata.org/pandasdocs/stable/timeseries.html#dateoffset-objects）节"
   ]
  },
  {
   "cell_type": "markdown",
   "id": "b323db7e-4af3-43dc-b768-1d82f2779354",
   "metadata": {},
   "source": [
    "### 3.12.5 重新取样、迁移和窗口"
   ]
  },
  {
   "cell_type": "markdown",
   "id": "03410584-a800-4032-acec-ccfb1829bc41",
   "metadata": {},
   "source": [
    "用日期和时间直观地组织与获取数据是 Pandas 时间序列工具最重要的\n",
    "功能之一。Pandas 不仅支持普通索引功能（合并数据时自动索引对齐、\n",
    "直观的数据切片和取值方法等），还专为时间序列提供了额外的操作。\n",
    "下面让我们用一些股票数据来演示这些功能。由于 Pandas 最初是为金\n",
    "融数据模型服务的，因此可以用它非常方便地获取金融数据。例\n",
    "如，pandas-datareader 程序包（可以通过 conda install\n",
    "pandas-datareader 进行安装）知道如何从一些可用的数据源导入金\n",
    "融数据，包含 Yahoo 财经、Google 财经和其他数据源。下面来导入\n",
    "Google 的历史股票价格：\n"
   ]
  }
 ],
 "metadata": {
  "kernelspec": {
   "display_name": "Python 3 (ipykernel)",
   "language": "python",
   "name": "python3"
  },
  "language_info": {
   "codemirror_mode": {
    "name": "ipython",
    "version": 3
   },
   "file_extension": ".py",
   "mimetype": "text/x-python",
   "name": "python",
   "nbconvert_exporter": "python",
   "pygments_lexer": "ipython3",
   "version": "3.9.7"
  }
 },
 "nbformat": 4,
 "nbformat_minor": 5
}
