{
 "cells": [
  {
   "cell_type": "code",
   "execution_count": 81,
   "id": "b6faea7e-4136-4331-95b3-2f429f4fcf19",
   "metadata": {},
   "outputs": [
    {
     "data": {
      "text/html": [
       "<style type='text/css'>\n",
       "    *{\n",
       "        # background-color:#E3EDCD;\n",
       "        # background-color:black;\n",
       "        # color:white;\n",
       "        \n",
       "    }\n",
       "    h1{\n",
       "        color:#1976d2;\n",
       "    }\n",
       "    h2{\n",
       "        color:#f57c00;\n",
       "    }\n",
       "    h3{\n",
       "        color:#ba37ff;\n",
       "    }\n",
       "    h4{\n",
       "        color:green;\n",
       "    }\n",
       "    table{\n",
       "        border:1px solid black !important;\n",
       "        border-collapse:collapse !important;\n",
       "    }\n",
       "    th{\n",
       "        background-color:blueviolet !important;\n",
       "        text-align:center;\n",
       "        color:white;\n",
       "    }\n",
       "    th,td{\n",
       "        border:0.1px solid black !important;\n",
       "        transition:0.2s all liner;\n",
       "        \n",
       "    }\n",
       "    td:hover{\n",
       "        transform:scale(1.1);\n",
       "        background-color:orange;\n",
       "        color:blueviolet;\n",
       "    }\n",
       "    .raw{\n",
       "        white-space:pre;\n",
       "    }\n",
       "    #imp{\n",
       "        color:red;\n",
       "    }\n",
       "    #ct{\n",
       "        text-align:center;\n",
       "    }\n",
       "</style>\n"
      ],
      "text/plain": [
       "<IPython.core.display.HTML object>"
      ]
     },
     "metadata": {},
     "output_type": "display_data"
    }
   ],
   "source": [
    "%%HTML\n",
    "<style type='text/css'>\n",
    "    *{\n",
    "        # background-color:#E3EDCD;\n",
    "        # background-color:black;\n",
    "        # color:white;\n",
    "        \n",
    "    }\n",
    "    h1{\n",
    "        color:#1976d2;\n",
    "    }\n",
    "    h2{\n",
    "        color:#f57c00;\n",
    "    }\n",
    "    h3{\n",
    "        color:#ba37ff;\n",
    "    }\n",
    "    h4{\n",
    "        color:green;\n",
    "    }\n",
    "    table{\n",
    "        border:1px solid black !important;\n",
    "        border-collapse:collapse !important;\n",
    "    }\n",
    "    th{\n",
    "        background-color:blueviolet !important;\n",
    "        text-align:center;\n",
    "        color:white;\n",
    "    }\n",
    "    th,td{\n",
    "        border:0.1px solid black !important;\n",
    "        transition:0.2s all liner;\n",
    "        \n",
    "    }\n",
    "    td:hover{\n",
    "        transform:scale(1.1);\n",
    "        background-color:orange;\n",
    "        color:blueviolet;\n",
    "    }\n",
    "    .raw{\n",
    "        white-space:pre;\n",
    "    }\n",
    "    #imp{\n",
    "        color:red;\n",
    "    }\n",
    "    #ct{\n",
    "        text-align:center;\n",
    "    }\n",
    "</style>"
   ]
  },
  {
   "cell_type": "markdown",
   "id": "8e84072a-661a-4173-aa99-7bfe9a71ee6c",
   "metadata": {},
   "source": [
    "# 3.3 数据取值与选择"
   ]
  },
  {
   "cell_type": "markdown",
   "id": "1878544c-06a0-4fd8-927f-b1bb2fa6268e",
   "metadata": {},
   "source": [
    "第 2 章具体介绍了获取、设置、调整 NumPy 数组数值的方法与工具，\n",
    "包括取值操作（如 arr[2, 1]）、切片操作（如 arr[:, 1:5]）、掩\n",
    "码操作（如 arr[arr > 0]）、花哨的索引操作（如 arr[0, [1,\n",
    "5]]），以及组合操作（如 arr[:, [1, 5]]）。下面介绍 Pandas 的\n",
    "Series 和 DataFrame 对象相似的数据获取与调整操作。如果你用过\n",
    "NumPy 操作模式，就会非常熟悉 Pandas 的操作模式，只是有几个细节\n",
    "需要注意一下。  \n",
    "我们将从简单的一维 Series 对象开始，然后再用比较复杂的二维\n",
    "DataFrame 对象进行演示。"
   ]
  },
  {
   "cell_type": "markdown",
   "id": "20041f7e-683f-46e1-9f83-23af9d449daa",
   "metadata": {},
   "source": [
    "## 3.3.1 Series数据选择方法"
   ]
  },
  {
   "cell_type": "markdown",
   "id": "19d5be8d-7860-45a3-bca3-5b2289ab1176",
   "metadata": {},
   "source": [
    "如前所述，<span id='imp'>Series 对象与一维 NumPy 数组和标准 Python 字典在许多\n",
    "方面都一样。</span>只要牢牢记住这两个类比，就可以帮助我们更好地理解\n",
    "Series 对象的数据索引与选择模式。"
   ]
  },
  {
   "cell_type": "markdown",
   "id": "ba0ba7c5-d3eb-4c27-ad1a-ef5a564c539c",
   "metadata": {},
   "source": [
    "01. 将Series看作字典"
   ]
  },
  {
   "cell_type": "markdown",
   "id": "82dd79ad-c91c-4100-a19a-20e6fba57649",
   "metadata": {},
   "source": [
    "和字典一样，Series 对象提供了键值对的映射：\n"
   ]
  },
  {
   "cell_type": "code",
   "execution_count": 2,
   "id": "04c75aea-eaba-4714-925d-543a712b497f",
   "metadata": {},
   "outputs": [],
   "source": [
    "import pandas as pd"
   ]
  },
  {
   "cell_type": "code",
   "execution_count": 5,
   "id": "a9e1addf-4dbf-4947-9c92-2143e0107b07",
   "metadata": {},
   "outputs": [
    {
     "data": {
      "text/plain": [
       "a    0.25\n",
       "b    0.50\n",
       "c    0.75\n",
       "d    1.00\n",
       "dtype: float64"
      ]
     },
     "execution_count": 5,
     "metadata": {},
     "output_type": "execute_result"
    }
   ],
   "source": [
    "data = pd.Series([0.25,0.5,0.75,1.0],index=['a', 'b','c', 'd'])\n",
    "data"
   ]
  },
  {
   "cell_type": "code",
   "execution_count": 6,
   "id": "e8ec1af4-caf6-4023-8981-225e05c55a5e",
   "metadata": {},
   "outputs": [
    {
     "data": {
      "text/plain": [
       "a    0.25\n",
       "b    0.50\n",
       "c    0.75\n",
       "d    1.00\n",
       "dtype: float64"
      ]
     },
     "execution_count": 6,
     "metadata": {},
     "output_type": "execute_result"
    }
   ],
   "source": [
    "## 也可以这样来写\n",
    "data1 = pd.Series({'a':0.25, 'b':0.5,'c':0.75, 'd':1.0})\n",
    "data1"
   ]
  },
  {
   "cell_type": "markdown",
   "id": "7654c70d-2d5f-4c53-a52b-1bbd95b98321",
   "metadata": {},
   "source": [
    "我们还可以用 Python 字典的表达式和方法来检测键 / 索引和值："
   ]
  },
  {
   "cell_type": "code",
   "execution_count": 7,
   "id": "0b892314-c6d6-41a1-8b60-48feee9d785a",
   "metadata": {},
   "outputs": [
    {
     "data": {
      "text/plain": [
       "True"
      ]
     },
     "execution_count": 7,
     "metadata": {},
     "output_type": "execute_result"
    }
   ],
   "source": [
    "'a' in data"
   ]
  },
  {
   "cell_type": "code",
   "execution_count": 8,
   "id": "41d4126e-fe77-46ca-a592-709ef5d24ea9",
   "metadata": {},
   "outputs": [
    {
     "data": {
      "text/plain": [
       "Index(['a', 'b', 'c', 'd'], dtype='object')"
      ]
     },
     "execution_count": 8,
     "metadata": {},
     "output_type": "execute_result"
    }
   ],
   "source": [
    "data.keys()"
   ]
  },
  {
   "cell_type": "code",
   "execution_count": 10,
   "id": "a507906e-3e0e-419e-aa20-b791e7e93722",
   "metadata": {},
   "outputs": [
    {
     "name": "stdout",
     "output_type": "stream",
     "text": [
      "('a', 0.25)\n",
      "('b', 0.5)\n",
      "('c', 0.75)\n",
      "('d', 1.0)\n"
     ]
    }
   ],
   "source": [
    "for item in data.items():\n",
    "    print(item)"
   ]
  },
  {
   "cell_type": "code",
   "execution_count": 11,
   "id": "4e412176-5617-426c-b69d-ce9cd0c55611",
   "metadata": {},
   "outputs": [
    {
     "data": {
      "text/plain": [
       "[('a', 0.25), ('b', 0.5), ('c', 0.75), ('d', 1.0)]"
      ]
     },
     "execution_count": 11,
     "metadata": {},
     "output_type": "execute_result"
    }
   ],
   "source": [
    "list(data.items())"
   ]
  },
  {
   "cell_type": "markdown",
   "id": "9cf232fe-c5f1-40bd-a7b0-4361d2fde977",
   "metadata": {},
   "source": [
    "Series 对象还可以用字典语法调整数据。就像你可以通过增加新\n",
    "的键扩展字典一样，你也可以通过增加新的索引值扩展 Series："
   ]
  },
  {
   "cell_type": "code",
   "execution_count": 12,
   "id": "93ff8974-f5d9-4582-86a8-5276f7bd2ebb",
   "metadata": {},
   "outputs": [
    {
     "data": {
      "text/plain": [
       "a    0.25\n",
       "b    0.50\n",
       "c    0.75\n",
       "d    1.00\n",
       "e    1.25\n",
       "dtype: float64"
      ]
     },
     "execution_count": 12,
     "metadata": {},
     "output_type": "execute_result"
    }
   ],
   "source": [
    "data['e'] = 1.25\n",
    "data"
   ]
  },
  {
   "cell_type": "markdown",
   "id": "65fa53c1-dd76-408e-9523-9f5afeb17dc2",
   "metadata": {},
   "source": [
    "Series 对象的可变性是一个非常方便的特性：Pandas 在底层已经\n",
    "为可能发生的内存布局和数据复制自动决策，用户不需要担心这些\n",
    "问题。\n"
   ]
  },
  {
   "cell_type": "markdown",
   "id": "31b6aec9-249e-46a9-9cdd-8b68084e83d5",
   "metadata": {},
   "source": [
    "02. 将Series看作一维数组"
   ]
  },
  {
   "cell_type": "markdown",
   "id": "af9c54d4-649b-4af6-bf3c-f9521f53e616",
   "metadata": {},
   "source": [
    "Series 不仅有着和字典一样的接口，而且还具备和 NumPy 数组一\n",
    "样的数组数据选择功能，包括索引、掩码、花哨的索引等操作，\n",
    "具体示例如下所示："
   ]
  },
  {
   "cell_type": "code",
   "execution_count": 13,
   "id": "2c0699e5-3fe5-46a1-b0a8-e3a1b356be87",
   "metadata": {},
   "outputs": [
    {
     "data": {
      "text/plain": [
       "a    0.25\n",
       "b    0.50\n",
       "c    0.75\n",
       "dtype: float64"
      ]
     },
     "execution_count": 13,
     "metadata": {},
     "output_type": "execute_result"
    }
   ],
   "source": [
    "# 将显式索引作为切片\n",
    "data['a':'c']"
   ]
  },
  {
   "cell_type": "code",
   "execution_count": 14,
   "id": "6b22a14b-45df-41fe-aba2-3c579e114412",
   "metadata": {},
   "outputs": [
    {
     "data": {
      "text/plain": [
       "a    0.25\n",
       "b    0.50\n",
       "dtype: float64"
      ]
     },
     "execution_count": 14,
     "metadata": {},
     "output_type": "execute_result"
    }
   ],
   "source": [
    "# 将隐式整数索引作为切片\n",
    "data[0:2]"
   ]
  },
  {
   "cell_type": "code",
   "execution_count": 15,
   "id": "dc8bc6b4-7d33-49e8-a8e6-381e8c3be0d0",
   "metadata": {},
   "outputs": [
    {
     "data": {
      "text/plain": [
       "b    0.50\n",
       "c    0.75\n",
       "dtype: float64"
      ]
     },
     "execution_count": 15,
     "metadata": {},
     "output_type": "execute_result"
    }
   ],
   "source": [
    "# 掩码\n",
    "data[(data > 0.3) & (data < 0.8)]"
   ]
  },
  {
   "cell_type": "code",
   "execution_count": 16,
   "id": "ded8a2c4-d04d-4df4-8f70-5cfbc8e516f3",
   "metadata": {},
   "outputs": [
    {
     "data": {
      "text/plain": [
       "a    0.25\n",
       "e    1.25\n",
       "dtype: float64"
      ]
     },
     "execution_count": 16,
     "metadata": {},
     "output_type": "execute_result"
    }
   ],
   "source": [
    "# 花哨的索引\n",
    "data[['a', 'e']]"
   ]
  },
  {
   "cell_type": "markdown",
   "id": "430f691e-4a3a-499c-931d-a2713292083b",
   "metadata": {},
   "source": [
    "在以上示例中，切片是绝大部分混乱之源。<span id='imp'>需要注意的是，当使用\n",
    "显式索引（即 data['a':'c']）作切片时，结果包含最后一个索\n",
    "引；而当使用隐式索引（即 data[0:2]）作切片时，结果不包含\n",
    "最后一个索引。</span> 解决了困扰已久的问题,那就是隐藏式索引就是像python索引那样左闭右开,而显式索引则是左闭右闭"
   ]
  },
  {
   "cell_type": "markdown",
   "id": "a44dc8a7-e347-4f20-bc74-f0239f540e80",
   "metadata": {},
   "source": [
    "03. 索引器：loc、iloc和ix"
   ]
  },
  {
   "cell_type": "markdown",
   "id": "ca33dac6-1835-4a2f-a4a6-9ecfdbee5c81",
   "metadata": {},
   "source": [
    "这些切片和取值的习惯用法经常会造成混乱。例如，如果你的\n",
    "Series 是显式整数索引，那么 data[1] 这样的取值操作会使用显\n",
    "式索引，而 data[1:3] 这样的切片操作却会使用隐式索引。"
   ]
  },
  {
   "cell_type": "code",
   "execution_count": 17,
   "id": "c4fb545b-6a39-48e7-8e7c-780ac9aa2ad4",
   "metadata": {},
   "outputs": [
    {
     "data": {
      "text/plain": [
       "1    a\n",
       "3    b\n",
       "5    c\n",
       "dtype: object"
      ]
     },
     "execution_count": 17,
     "metadata": {},
     "output_type": "execute_result"
    }
   ],
   "source": [
    "data = pd.Series(['a', 'b', 'c'], index=[1, 3, 5])\n",
    "data"
   ]
  },
  {
   "cell_type": "code",
   "execution_count": 18,
   "id": "5f97984e-ae93-4d52-a0e1-0c28b1ad7874",
   "metadata": {},
   "outputs": [
    {
     "data": {
      "text/plain": [
       "'a'"
      ]
     },
     "execution_count": 18,
     "metadata": {},
     "output_type": "execute_result"
    }
   ],
   "source": [
    "# 取值操作是显式索引\n",
    "data[1]"
   ]
  },
  {
   "cell_type": "code",
   "execution_count": 19,
   "id": "60642979-faf3-40d6-82fd-59555d25fa49",
   "metadata": {},
   "outputs": [
    {
     "data": {
      "text/plain": [
       "3    b\n",
       "5    c\n",
       "dtype: object"
      ]
     },
     "execution_count": 19,
     "metadata": {},
     "output_type": "execute_result"
    }
   ],
   "source": [
    "# 切片操作是隐式索引\n",
    "data[1:3]"
   ]
  },
  {
   "cell_type": "markdown",
   "id": "bab5c0df-deaa-420d-838e-83b99f7024be",
   "metadata": {},
   "source": [
    "由于整数索引很容易造成混淆，所以 Pandas 提供了一些索引器\n",
    "（indexer）属性来作为取值的方法。它们不是 Series 对象的函数\n",
    "方法，而是暴露切片接口的属性。   "
   ]
  },
  {
   "cell_type": "markdown",
   "id": "63a9d148-1505-49bc-adb5-1197d70ef40e",
   "metadata": {},
   "source": [
    "第一种索引器是 loc 属性，表示取值和切片都是显式的："
   ]
  },
  {
   "cell_type": "code",
   "execution_count": 20,
   "id": "efa15d79-6eeb-4845-9a92-8ad5d40e6178",
   "metadata": {},
   "outputs": [
    {
     "data": {
      "text/plain": [
       "'a'"
      ]
     },
     "execution_count": 20,
     "metadata": {},
     "output_type": "execute_result"
    }
   ],
   "source": [
    "data.loc[1]"
   ]
  },
  {
   "cell_type": "code",
   "execution_count": 21,
   "id": "91dd157a-57b9-4f4f-9d00-855a87d6e562",
   "metadata": {},
   "outputs": [
    {
     "data": {
      "text/plain": [
       "1    a\n",
       "3    b\n",
       "dtype: object"
      ]
     },
     "execution_count": 21,
     "metadata": {},
     "output_type": "execute_result"
    }
   ],
   "source": [
    "data.loc[1:3]"
   ]
  },
  {
   "cell_type": "markdown",
   "id": "82b8e713-7a87-478d-833b-17ae939e980e",
   "metadata": {},
   "source": [
    "第二种是 iloc(implicit locater 即Python形式的隐式索引) 属性，表示<span id='imp'>取值和切片都是 Python 形式(即普通的数值索引,左闭右开)</span>的 隐式索\n",
    "引："
   ]
  },
  {
   "cell_type": "code",
   "execution_count": 22,
   "id": "f564f629-0d0d-4aa0-90b8-91aec05e26a3",
   "metadata": {},
   "outputs": [
    {
     "data": {
      "text/plain": [
       "'b'"
      ]
     },
     "execution_count": 22,
     "metadata": {},
     "output_type": "execute_result"
    }
   ],
   "source": [
    "data.iloc[1]"
   ]
  },
  {
   "cell_type": "code",
   "execution_count": 25,
   "id": "4740a586-4c71-4d26-9586-8a864d535648",
   "metadata": {},
   "outputs": [
    {
     "data": {
      "text/plain": [
       "'b'"
      ]
     },
     "execution_count": 25,
     "metadata": {},
     "output_type": "execute_result"
    }
   ],
   "source": [
    "data.iloc[1]"
   ]
  },
  {
   "cell_type": "code",
   "execution_count": 26,
   "id": "58c82ab4-dc97-4f55-948d-7392823cfea1",
   "metadata": {},
   "outputs": [
    {
     "data": {
      "text/plain": [
       "3    b\n",
       "5    c\n",
       "dtype: object"
      ]
     },
     "execution_count": 26,
     "metadata": {},
     "output_type": "execute_result"
    }
   ],
   "source": [
    "data.iloc[1:3]"
   ]
  },
  {
   "cell_type": "markdown",
   "id": "8cbf6834-34bd-41b6-a9a5-5acbee32ef16",
   "metadata": {},
   "source": [
    "第三种取值属性是 ix，它是前两种索引器的混合形式，在 Series\n",
    "对象中 ix 等价于标准的 []（Python 列表）取值方式。ix 索引器\n",
    "主要用于 DataFrame 对象，后面将会介绍。"
   ]
  },
  {
   "cell_type": "markdown",
   "id": "44ac38e1-a612-4981-bbad-a946260e5ceb",
   "metadata": {},
   "source": [
    "Python 代码的设计原则之一是“显式优于隐式”。使用 loc 和 iloc\n",
    "可以让代码更容易维护，可读性更高。特别是在处理整数索引的对\n",
    "象时，我强烈推荐使用这两种索引器。它们既可以让代码阅读和理\n",
    "解起来更容易，也能避免因误用索引 / 切片而产生的小 bug。\n"
   ]
  },
  {
   "cell_type": "markdown",
   "id": "85aebf10-9d97-436c-a50f-48aa741c36e6",
   "metadata": {
    "jp-MarkdownHeadingCollapsed": true
   },
   "source": [
    "## 3.3.2 DataFrame数据选择方法"
   ]
  },
  {
   "cell_type": "markdown",
   "id": "e0756aae-98c4-4cb4-ba4e-dea1974212d5",
   "metadata": {},
   "source": [
    "前面曾提到，DataFrame 在有些方面像二维或结构化数组，在有些方面\n",
    "又像一个共享索引的若干 Series 对象构成的字典。这两种类比可以帮\n",
    "助我们更好地掌握这种数据结构的数据选择方法。"
   ]
  },
  {
   "cell_type": "markdown",
   "id": "f938c093-7e19-4557-a2f1-57ce3fbcd9be",
   "metadata": {},
   "source": [
    "01. 将DataFrame看作字典"
   ]
  },
  {
   "cell_type": "markdown",
   "id": "85668dfd-c5d7-4d8f-a38e-ba9806c15a65",
   "metadata": {},
   "source": [
    "第一种类比是把 DataFrame 当作一个由若干 Series 对象构成的\n",
    "字典。让我们用之前的美国五州面积与人口数据来演示："
   ]
  },
  {
   "cell_type": "code",
   "execution_count": 27,
   "id": "cc98df91-3b4f-4d0a-905b-2f76b41f4a80",
   "metadata": {},
   "outputs": [
    {
     "data": {
      "text/html": [
       "<div>\n",
       "<style scoped>\n",
       "    .dataframe tbody tr th:only-of-type {\n",
       "        vertical-align: middle;\n",
       "    }\n",
       "\n",
       "    .dataframe tbody tr th {\n",
       "        vertical-align: top;\n",
       "    }\n",
       "\n",
       "    .dataframe thead th {\n",
       "        text-align: right;\n",
       "    }\n",
       "</style>\n",
       "<table border=\"1\" class=\"dataframe\">\n",
       "  <thead>\n",
       "    <tr style=\"text-align: right;\">\n",
       "      <th></th>\n",
       "      <th>area</th>\n",
       "      <th>pop</th>\n",
       "    </tr>\n",
       "  </thead>\n",
       "  <tbody>\n",
       "    <tr>\n",
       "      <th>California</th>\n",
       "      <td>423967</td>\n",
       "      <td>38332521</td>\n",
       "    </tr>\n",
       "    <tr>\n",
       "      <th>Texas</th>\n",
       "      <td>695662</td>\n",
       "      <td>26448193</td>\n",
       "    </tr>\n",
       "    <tr>\n",
       "      <th>New York</th>\n",
       "      <td>141297</td>\n",
       "      <td>19651127</td>\n",
       "    </tr>\n",
       "    <tr>\n",
       "      <th>Florida</th>\n",
       "      <td>170312</td>\n",
       "      <td>19552860</td>\n",
       "    </tr>\n",
       "    <tr>\n",
       "      <th>Illinois</th>\n",
       "      <td>149995</td>\n",
       "      <td>12882135</td>\n",
       "    </tr>\n",
       "  </tbody>\n",
       "</table>\n",
       "</div>"
      ],
      "text/plain": [
       "              area       pop\n",
       "California  423967  38332521\n",
       "Texas       695662  26448193\n",
       "New York    141297  19651127\n",
       "Florida     170312  19552860\n",
       "Illinois    149995  12882135"
      ]
     },
     "execution_count": 27,
     "metadata": {},
     "output_type": "execute_result"
    }
   ],
   "source": [
    "area = pd.Series({'California': 423967, 'Texas': 695662,\n",
    "                'New York': 141297, 'Florida': 170312,\n",
    "                'Illinois': 149995})\n",
    "pop = pd.Series({'California': 38332521, 'Texas': 26448193,\n",
    "                'New York': 19651127, 'Florida': 19552860,\n",
    "                'Illinois': 12882135})\n",
    "data = pd.DataFrame({'area':area, 'pop':pop})\n",
    "data\n"
   ]
  },
  {
   "cell_type": "markdown",
   "id": "2c173a95-81b5-4253-bb0a-da461966f40e",
   "metadata": {},
   "source": [
    "两个 Series 分别构成 DataFrame 的一列，可以通过对列名进行\n",
    "字典形式（dictionary-style）的取值获取数据："
   ]
  },
  {
   "cell_type": "markdown",
   "id": "d365399f-8531-4790-ad31-967678287af6",
   "metadata": {},
   "source": [
    "#### 简单理解,就是DataFrameObj['columns_name']"
   ]
  },
  {
   "cell_type": "code",
   "execution_count": 28,
   "id": "d83e457d-935c-4587-8fac-c650fbe8f97c",
   "metadata": {},
   "outputs": [
    {
     "data": {
      "text/plain": [
       "California    423967\n",
       "Texas         695662\n",
       "New York      141297\n",
       "Florida       170312\n",
       "Illinois      149995\n",
       "Name: area, dtype: int64"
      ]
     },
     "execution_count": 28,
     "metadata": {},
     "output_type": "execute_result"
    }
   ],
   "source": [
    "data['area']"
   ]
  },
  {
   "cell_type": "markdown",
   "id": "6a21b1d6-cc2c-4d48-9d96-a62d2a82aecb",
   "metadata": {},
   "source": [
    "同样，也可以用属性形式（attribute-style）选择纯字符串列名的数\n",
    "据：\n"
   ]
  },
  {
   "cell_type": "markdown",
   "id": "2a001eae-a0fa-4ffc-bce6-b70ee6e40f3f",
   "metadata": {},
   "source": [
    "#### 简单理解 即 DataFrame.columns_name"
   ]
  },
  {
   "cell_type": "code",
   "execution_count": 29,
   "id": "aa6b04ef-d339-4260-9814-5920a6fd6d19",
   "metadata": {},
   "outputs": [
    {
     "data": {
      "text/plain": [
       "California    423967\n",
       "Texas         695662\n",
       "New York      141297\n",
       "Florida       170312\n",
       "Illinois      149995\n",
       "Name: area, dtype: int64"
      ]
     },
     "execution_count": 29,
     "metadata": {},
     "output_type": "execute_result"
    }
   ],
   "source": [
    "data.area"
   ]
  },
  {
   "cell_type": "markdown",
   "id": "bc52c69b-546e-485f-8557-c291afffc826",
   "metadata": {},
   "source": [
    "对同一个对象进行属性形式与字典形式的列数据，结果是相同的："
   ]
  },
  {
   "cell_type": "code",
   "execution_count": 30,
   "id": "c670e5ae-3eb1-4bd1-b267-1295ff4c025a",
   "metadata": {},
   "outputs": [
    {
     "data": {
      "text/plain": [
       "True"
      ]
     },
     "execution_count": 30,
     "metadata": {},
     "output_type": "execute_result"
    }
   ],
   "source": [
    "data.area is data['area'] #这俩本质上就是一个东西,索引返回的结果必然是True"
   ]
  },
  {
   "cell_type": "markdown",
   "id": "2aae195d-67c4-4e08-9d27-f132a7019f81",
   "metadata": {},
   "source": [
    "虽然属性形式的数据选择方法很方便，但是它并不是通用的。如果\n",
    "列名不是纯字符串，或者列名与 DataFrame 的方法同名，那么就\n",
    "不能用属性索引。例如，DataFrame 有一个 pop() 方法，如果用\n",
    "data.pop 就不会获取 'pop' 列，而是显示为方法："
   ]
  },
  {
   "cell_type": "code",
   "execution_count": 31,
   "id": "659f2336-17fb-49d8-b4a5-62fb997e5197",
   "metadata": {},
   "outputs": [
    {
     "data": {
      "text/plain": [
       "False"
      ]
     },
     "execution_count": 31,
     "metadata": {},
     "output_type": "execute_result"
    }
   ],
   "source": [
    "data.pop is data['pop']"
   ]
  },
  {
   "cell_type": "code",
   "execution_count": 33,
   "id": "637cd5ad-e362-4a61-b059-5bdd3991ea25",
   "metadata": {},
   "outputs": [
    {
     "data": {
      "text/plain": [
       "California    38332521\n",
       "Texas         26448193\n",
       "New York      19651127\n",
       "Florida       19552860\n",
       "Illinois      12882135\n",
       "Name: pop, dtype: int64"
      ]
     },
     "execution_count": 33,
     "metadata": {},
     "output_type": "execute_result"
    }
   ],
   "source": [
    "data['pop']"
   ]
  },
  {
   "cell_type": "code",
   "execution_count": 34,
   "id": "d558536c-e542-4e5b-85ef-13291a502b99",
   "metadata": {},
   "outputs": [
    {
     "data": {
      "text/plain": [
       "<bound method DataFrame.pop of               area       pop\n",
       "California  423967  38332521\n",
       "Texas       695662  26448193\n",
       "New York    141297  19651127\n",
       "Florida     170312  19552860\n",
       "Illinois    149995  12882135>"
      ]
     },
     "execution_count": 34,
     "metadata": {},
     "output_type": "execute_result"
    }
   ],
   "source": [
    "data.pop"
   ]
  },
  {
   "cell_type": "markdown",
   "id": "bab5daa3-3bdb-414c-bdf2-17e44fe0dd83",
   "metadata": {},
   "source": [
    "另外，还应该避免对用属性形式选择的列直接赋值（即可以用\n",
    "data['pop'] = z，但不要用 data.pop = z）。"
   ]
  },
  {
   "cell_type": "markdown",
   "id": "969ec969-f708-4b92-b516-1eaf3f33af49",
   "metadata": {},
   "source": [
    "和前面介绍的 Series 对象一样，还可以用字典形式的语法调整对\n",
    "象，如果要增加一列可以这样做："
   ]
  },
  {
   "cell_type": "markdown",
   "id": "5afdec2a-4d32-492d-aabf-1711a3f72529",
   "metadata": {},
   "source": [
    "### 新开一列人口密度,它的值等于人口总数除以面积"
   ]
  },
  {
   "cell_type": "code",
   "execution_count": 35,
   "id": "c7efa773-367e-4f52-b0f9-9dc1cd82672c",
   "metadata": {},
   "outputs": [],
   "source": [
    "data['density'] = data['pop'] / data['area']"
   ]
  },
  {
   "cell_type": "code",
   "execution_count": 36,
   "id": "a9bdc88f-11ab-4559-91b8-8db0870a9d46",
   "metadata": {},
   "outputs": [
    {
     "data": {
      "text/html": [
       "<div>\n",
       "<style scoped>\n",
       "    .dataframe tbody tr th:only-of-type {\n",
       "        vertical-align: middle;\n",
       "    }\n",
       "\n",
       "    .dataframe tbody tr th {\n",
       "        vertical-align: top;\n",
       "    }\n",
       "\n",
       "    .dataframe thead th {\n",
       "        text-align: right;\n",
       "    }\n",
       "</style>\n",
       "<table border=\"1\" class=\"dataframe\">\n",
       "  <thead>\n",
       "    <tr style=\"text-align: right;\">\n",
       "      <th></th>\n",
       "      <th>area</th>\n",
       "      <th>pop</th>\n",
       "      <th>density</th>\n",
       "    </tr>\n",
       "  </thead>\n",
       "  <tbody>\n",
       "    <tr>\n",
       "      <th>California</th>\n",
       "      <td>423967</td>\n",
       "      <td>38332521</td>\n",
       "      <td>90.413926</td>\n",
       "    </tr>\n",
       "    <tr>\n",
       "      <th>Texas</th>\n",
       "      <td>695662</td>\n",
       "      <td>26448193</td>\n",
       "      <td>38.018740</td>\n",
       "    </tr>\n",
       "    <tr>\n",
       "      <th>New York</th>\n",
       "      <td>141297</td>\n",
       "      <td>19651127</td>\n",
       "      <td>139.076746</td>\n",
       "    </tr>\n",
       "    <tr>\n",
       "      <th>Florida</th>\n",
       "      <td>170312</td>\n",
       "      <td>19552860</td>\n",
       "      <td>114.806121</td>\n",
       "    </tr>\n",
       "    <tr>\n",
       "      <th>Illinois</th>\n",
       "      <td>149995</td>\n",
       "      <td>12882135</td>\n",
       "      <td>85.883763</td>\n",
       "    </tr>\n",
       "  </tbody>\n",
       "</table>\n",
       "</div>"
      ],
      "text/plain": [
       "              area       pop     density\n",
       "California  423967  38332521   90.413926\n",
       "Texas       695662  26448193   38.018740\n",
       "New York    141297  19651127  139.076746\n",
       "Florida     170312  19552860  114.806121\n",
       "Illinois    149995  12882135   85.883763"
      ]
     },
     "execution_count": 36,
     "metadata": {},
     "output_type": "execute_result"
    }
   ],
   "source": [
    "data"
   ]
  },
  {
   "cell_type": "markdown",
   "id": "d08e7863-e47a-4e06-a013-7b3f795fd038",
   "metadata": {},
   "source": [
    "这里演示了两个 Series 对象算术运算的简便语法，我们将在 3.4\n",
    "节进行详细介绍。"
   ]
  },
  {
   "cell_type": "markdown",
   "id": "074387e8-4847-4f2b-aca0-d5c1bf01f456",
   "metadata": {},
   "source": [
    "02. 将DataFrame看作二维数组"
   ]
  },
  {
   "cell_type": "markdown",
   "id": "574e7cf8-550c-46ea-9412-5675d3a39e3d",
   "metadata": {},
   "source": [
    "前面曾提到，可以把 DataFrame 看成是一个增强版的二维数组，\n",
    "用 values 属性按行查看数组数据："
   ]
  },
  {
   "cell_type": "code",
   "execution_count": 37,
   "id": "0fd468cf-2b1e-48c9-9f85-0162babd28c3",
   "metadata": {},
   "outputs": [
    {
     "data": {
      "text/plain": [
       "array([[4.23967000e+05, 3.83325210e+07, 9.04139261e+01],\n",
       "       [6.95662000e+05, 2.64481930e+07, 3.80187404e+01],\n",
       "       [1.41297000e+05, 1.96511270e+07, 1.39076746e+02],\n",
       "       [1.70312000e+05, 1.95528600e+07, 1.14806121e+02],\n",
       "       [1.49995000e+05, 1.28821350e+07, 8.58837628e+01]])"
      ]
     },
     "execution_count": 37,
     "metadata": {},
     "output_type": "execute_result"
    }
   ],
   "source": [
    "data.values"
   ]
  },
  {
   "cell_type": "markdown",
   "id": "2c94a87c-124d-4bf1-a9d7-55ee94a3143b",
   "metadata": {},
   "source": [
    "理解了这一点，就可以把许多数组操作方式用在 DataFrame 上。\n",
    "例如，可以对 DataFrame 进行行列转置："
   ]
  },
  {
   "cell_type": "code",
   "execution_count": 38,
   "id": "9988ebb8-c972-4b33-9d71-990bee6666f0",
   "metadata": {},
   "outputs": [
    {
     "data": {
      "text/html": [
       "<div>\n",
       "<style scoped>\n",
       "    .dataframe tbody tr th:only-of-type {\n",
       "        vertical-align: middle;\n",
       "    }\n",
       "\n",
       "    .dataframe tbody tr th {\n",
       "        vertical-align: top;\n",
       "    }\n",
       "\n",
       "    .dataframe thead th {\n",
       "        text-align: right;\n",
       "    }\n",
       "</style>\n",
       "<table border=\"1\" class=\"dataframe\">\n",
       "  <thead>\n",
       "    <tr style=\"text-align: right;\">\n",
       "      <th></th>\n",
       "      <th>California</th>\n",
       "      <th>Texas</th>\n",
       "      <th>New York</th>\n",
       "      <th>Florida</th>\n",
       "      <th>Illinois</th>\n",
       "    </tr>\n",
       "  </thead>\n",
       "  <tbody>\n",
       "    <tr>\n",
       "      <th>area</th>\n",
       "      <td>4.239670e+05</td>\n",
       "      <td>6.956620e+05</td>\n",
       "      <td>1.412970e+05</td>\n",
       "      <td>1.703120e+05</td>\n",
       "      <td>1.499950e+05</td>\n",
       "    </tr>\n",
       "    <tr>\n",
       "      <th>pop</th>\n",
       "      <td>3.833252e+07</td>\n",
       "      <td>2.644819e+07</td>\n",
       "      <td>1.965113e+07</td>\n",
       "      <td>1.955286e+07</td>\n",
       "      <td>1.288214e+07</td>\n",
       "    </tr>\n",
       "    <tr>\n",
       "      <th>density</th>\n",
       "      <td>9.041393e+01</td>\n",
       "      <td>3.801874e+01</td>\n",
       "      <td>1.390767e+02</td>\n",
       "      <td>1.148061e+02</td>\n",
       "      <td>8.588376e+01</td>\n",
       "    </tr>\n",
       "  </tbody>\n",
       "</table>\n",
       "</div>"
      ],
      "text/plain": [
       "           California         Texas      New York       Florida      Illinois\n",
       "area     4.239670e+05  6.956620e+05  1.412970e+05  1.703120e+05  1.499950e+05\n",
       "pop      3.833252e+07  2.644819e+07  1.965113e+07  1.955286e+07  1.288214e+07\n",
       "density  9.041393e+01  3.801874e+01  1.390767e+02  1.148061e+02  8.588376e+01"
      ]
     },
     "execution_count": 38,
     "metadata": {},
     "output_type": "execute_result"
    }
   ],
   "source": [
    "data.T"
   ]
  },
  {
   "cell_type": "markdown",
   "id": "5a42825f-acc2-4ce3-8f3b-ef64b1a12a2d",
   "metadata": {},
   "source": [
    "通过字典形式对列进行取值显然会限制我们把 DataFrame 作为\n",
    "NumPy 数组可以获得的能力，尤其是当我们在 DataFrame 数组中\n",
    "使用单个行索引获取一行数据时：\n"
   ]
  },
  {
   "cell_type": "code",
   "execution_count": 39,
   "id": "dc0597fd-e121-4f48-9508-8b5326bd1d52",
   "metadata": {},
   "outputs": [
    {
     "data": {
      "text/plain": [
       "array([4.23967000e+05, 3.83325210e+07, 9.04139261e+01])"
      ]
     },
     "execution_count": 39,
     "metadata": {},
     "output_type": "execute_result"
    }
   ],
   "source": [
    "data.values[0]"
   ]
  },
  {
   "cell_type": "markdown",
   "id": "16db2970-534e-463b-9c7f-fb046b0174e1",
   "metadata": {},
   "source": [
    "而获取一列数据就需要向 DataFrame 传递单个列索引："
   ]
  },
  {
   "cell_type": "code",
   "execution_count": 40,
   "id": "56501a38-e190-43d0-a4da-15654ceb056b",
   "metadata": {},
   "outputs": [
    {
     "data": {
      "text/plain": [
       "California    423967\n",
       "Texas         695662\n",
       "New York      141297\n",
       "Florida       170312\n",
       "Illinois      149995\n",
       "Name: area, dtype: int64"
      ]
     },
     "execution_count": 40,
     "metadata": {},
     "output_type": "execute_result"
    }
   ],
   "source": [
    "data['area']"
   ]
  },
  {
   "cell_type": "markdown",
   "id": "2b03d3c6-ee3b-408a-88f6-bae40994ee4b",
   "metadata": {},
   "source": [
    "因此，在进行数组形式的取值时，我们就需要用另一种方法——前\n",
    "面介绍过的 Pandas 索引器 loc、iloc 和 ix 了。通过 iloc 索引\n",
    "器，我们就可以像对待 NumPy 数组一样索引 Pandas 的底层数组\n",
    "（Python 的隐式索引），DataFrame 的行列标签会自动保留在结\n",
    "果中："
   ]
  },
  {
   "cell_type": "code",
   "execution_count": 41,
   "id": "ae7d5a5a-279b-464c-a02f-059e6520a981",
   "metadata": {},
   "outputs": [
    {
     "data": {
      "text/html": [
       "<div>\n",
       "<style scoped>\n",
       "    .dataframe tbody tr th:only-of-type {\n",
       "        vertical-align: middle;\n",
       "    }\n",
       "\n",
       "    .dataframe tbody tr th {\n",
       "        vertical-align: top;\n",
       "    }\n",
       "\n",
       "    .dataframe thead th {\n",
       "        text-align: right;\n",
       "    }\n",
       "</style>\n",
       "<table border=\"1\" class=\"dataframe\">\n",
       "  <thead>\n",
       "    <tr style=\"text-align: right;\">\n",
       "      <th></th>\n",
       "      <th>area</th>\n",
       "      <th>pop</th>\n",
       "    </tr>\n",
       "  </thead>\n",
       "  <tbody>\n",
       "    <tr>\n",
       "      <th>California</th>\n",
       "      <td>423967</td>\n",
       "      <td>38332521</td>\n",
       "    </tr>\n",
       "    <tr>\n",
       "      <th>Texas</th>\n",
       "      <td>695662</td>\n",
       "      <td>26448193</td>\n",
       "    </tr>\n",
       "    <tr>\n",
       "      <th>New York</th>\n",
       "      <td>141297</td>\n",
       "      <td>19651127</td>\n",
       "    </tr>\n",
       "  </tbody>\n",
       "</table>\n",
       "</div>"
      ],
      "text/plain": [
       "              area       pop\n",
       "California  423967  38332521\n",
       "Texas       695662  26448193\n",
       "New York    141297  19651127"
      ]
     },
     "execution_count": 41,
     "metadata": {},
     "output_type": "execute_result"
    }
   ],
   "source": [
    "data.iloc[:3,:2]"
   ]
  },
  {
   "cell_type": "code",
   "execution_count": 42,
   "id": "89627df9-d9dc-4b2f-aea1-6772639ac67b",
   "metadata": {},
   "outputs": [
    {
     "data": {
      "text/html": [
       "<div>\n",
       "<style scoped>\n",
       "    .dataframe tbody tr th:only-of-type {\n",
       "        vertical-align: middle;\n",
       "    }\n",
       "\n",
       "    .dataframe tbody tr th {\n",
       "        vertical-align: top;\n",
       "    }\n",
       "\n",
       "    .dataframe thead th {\n",
       "        text-align: right;\n",
       "    }\n",
       "</style>\n",
       "<table border=\"1\" class=\"dataframe\">\n",
       "  <thead>\n",
       "    <tr style=\"text-align: right;\">\n",
       "      <th></th>\n",
       "      <th>area</th>\n",
       "      <th>pop</th>\n",
       "    </tr>\n",
       "  </thead>\n",
       "  <tbody>\n",
       "    <tr>\n",
       "      <th>California</th>\n",
       "      <td>423967</td>\n",
       "      <td>38332521</td>\n",
       "    </tr>\n",
       "    <tr>\n",
       "      <th>Texas</th>\n",
       "      <td>695662</td>\n",
       "      <td>26448193</td>\n",
       "    </tr>\n",
       "    <tr>\n",
       "      <th>New York</th>\n",
       "      <td>141297</td>\n",
       "      <td>19651127</td>\n",
       "    </tr>\n",
       "    <tr>\n",
       "      <th>Florida</th>\n",
       "      <td>170312</td>\n",
       "      <td>19552860</td>\n",
       "    </tr>\n",
       "    <tr>\n",
       "      <th>Illinois</th>\n",
       "      <td>149995</td>\n",
       "      <td>12882135</td>\n",
       "    </tr>\n",
       "  </tbody>\n",
       "</table>\n",
       "</div>"
      ],
      "text/plain": [
       "              area       pop\n",
       "California  423967  38332521\n",
       "Texas       695662  26448193\n",
       "New York    141297  19651127\n",
       "Florida     170312  19552860\n",
       "Illinois    149995  12882135"
      ]
     },
     "execution_count": 42,
     "metadata": {},
     "output_type": "execute_result"
    }
   ],
   "source": [
    "data.loc[:'Illinois', :'pop']\n"
   ]
  },
  {
   "cell_type": "markdown",
   "id": "84be0b37-1f89-44e9-9162-d75f7415a121",
   "metadata": {},
   "source": [
    "使用 ix 索引器可以实现一种混合效果："
   ]
  },
  {
   "cell_type": "code",
   "execution_count": 43,
   "id": "08c5d45d-57dd-42ff-b4bf-2f0109fa1f16",
   "metadata": {},
   "outputs": [
    {
     "ename": "AttributeError",
     "evalue": "'DataFrame' object has no attribute 'ix'",
     "output_type": "error",
     "traceback": [
      "\u001b[1;31m---------------------------------------------------------------------------\u001b[0m",
      "\u001b[1;31mAttributeError\u001b[0m                            Traceback (most recent call last)",
      "Cell \u001b[1;32mIn[43], line 1\u001b[0m\n\u001b[1;32m----> 1\u001b[0m \u001b[43mdata\u001b[49m\u001b[38;5;241;43m.\u001b[39;49m\u001b[43mix\u001b[49m[:\u001b[38;5;241m3\u001b[39m, :\u001b[38;5;124m'\u001b[39m\u001b[38;5;124mpop\u001b[39m\u001b[38;5;124m'\u001b[39m]\n",
      "File \u001b[1;32mD:\\virtualenvs\\ai\\lib\\site-packages\\pandas\\core\\generic.py:6299\u001b[0m, in \u001b[0;36mNDFrame.__getattr__\u001b[1;34m(self, name)\u001b[0m\n\u001b[0;32m   6292\u001b[0m \u001b[38;5;28;01mif\u001b[39;00m (\n\u001b[0;32m   6293\u001b[0m     name \u001b[38;5;129;01mnot\u001b[39;00m \u001b[38;5;129;01min\u001b[39;00m \u001b[38;5;28mself\u001b[39m\u001b[38;5;241m.\u001b[39m_internal_names_set\n\u001b[0;32m   6294\u001b[0m     \u001b[38;5;129;01mand\u001b[39;00m name \u001b[38;5;129;01mnot\u001b[39;00m \u001b[38;5;129;01min\u001b[39;00m \u001b[38;5;28mself\u001b[39m\u001b[38;5;241m.\u001b[39m_metadata\n\u001b[0;32m   6295\u001b[0m     \u001b[38;5;129;01mand\u001b[39;00m name \u001b[38;5;129;01mnot\u001b[39;00m \u001b[38;5;129;01min\u001b[39;00m \u001b[38;5;28mself\u001b[39m\u001b[38;5;241m.\u001b[39m_accessors\n\u001b[0;32m   6296\u001b[0m     \u001b[38;5;129;01mand\u001b[39;00m \u001b[38;5;28mself\u001b[39m\u001b[38;5;241m.\u001b[39m_info_axis\u001b[38;5;241m.\u001b[39m_can_hold_identifiers_and_holds_name(name)\n\u001b[0;32m   6297\u001b[0m ):\n\u001b[0;32m   6298\u001b[0m     \u001b[38;5;28;01mreturn\u001b[39;00m \u001b[38;5;28mself\u001b[39m[name]\n\u001b[1;32m-> 6299\u001b[0m \u001b[38;5;28;01mreturn\u001b[39;00m \u001b[38;5;28;43mobject\u001b[39;49m\u001b[38;5;241;43m.\u001b[39;49m\u001b[38;5;21;43m__getattribute__\u001b[39;49m\u001b[43m(\u001b[49m\u001b[38;5;28;43mself\u001b[39;49m\u001b[43m,\u001b[49m\u001b[43m \u001b[49m\u001b[43mname\u001b[49m\u001b[43m)\u001b[49m\n",
      "\u001b[1;31mAttributeError\u001b[0m: 'DataFrame' object has no attribute 'ix'"
     ]
    }
   ],
   "source": [
    "data.ix[:3, :'pop'] #注意ix已经被淘汰了,所以会报错,除非降级到古早版本的ipython"
   ]
  },
  {
   "cell_type": "markdown",
   "id": "bfa1705e-82d7-4df0-89e6-3d52b69b0869",
   "metadata": {},
   "source": [
    "需要注意的是，ix 索引器对于整数索引的处理和之前在 Series 对\n",
    "象中介绍的一样，都容易让人混淆。\n",
    "任何用于处理 NumPy 形式数据的方法都可以用于这些索引器。例\n",
    "如，可以在 loc 索引器中结合使用掩码与花哨的索引方法：\n"
   ]
  },
  {
   "cell_type": "code",
   "execution_count": 44,
   "id": "2542404b-3ac4-4e03-b6e8-84fac9e3f924",
   "metadata": {},
   "outputs": [
    {
     "data": {
      "text/html": [
       "<div>\n",
       "<style scoped>\n",
       "    .dataframe tbody tr th:only-of-type {\n",
       "        vertical-align: middle;\n",
       "    }\n",
       "\n",
       "    .dataframe tbody tr th {\n",
       "        vertical-align: top;\n",
       "    }\n",
       "\n",
       "    .dataframe thead th {\n",
       "        text-align: right;\n",
       "    }\n",
       "</style>\n",
       "<table border=\"1\" class=\"dataframe\">\n",
       "  <thead>\n",
       "    <tr style=\"text-align: right;\">\n",
       "      <th></th>\n",
       "      <th>pop</th>\n",
       "      <th>density</th>\n",
       "    </tr>\n",
       "  </thead>\n",
       "  <tbody>\n",
       "    <tr>\n",
       "      <th>New York</th>\n",
       "      <td>19651127</td>\n",
       "      <td>139.076746</td>\n",
       "    </tr>\n",
       "    <tr>\n",
       "      <th>Florida</th>\n",
       "      <td>19552860</td>\n",
       "      <td>114.806121</td>\n",
       "    </tr>\n",
       "  </tbody>\n",
       "</table>\n",
       "</div>"
      ],
      "text/plain": [
       "               pop     density\n",
       "New York  19651127  139.076746\n",
       "Florida   19552860  114.806121"
      ]
     },
     "execution_count": 44,
     "metadata": {},
     "output_type": "execute_result"
    }
   ],
   "source": [
    "data.loc[data.density > 100, ['pop', 'density']]"
   ]
  },
  {
   "cell_type": "markdown",
   "id": "b0d00bc6-3122-46dc-bf9e-4402e626e423",
   "metadata": {},
   "source": [
    "任何一种取值方法都可以用于调整数据，这一点和 NumPy 的常用\n",
    "方法是相同的："
   ]
  },
  {
   "cell_type": "code",
   "execution_count": 45,
   "id": "82277312-bb10-4de6-80e3-13c4bd955eef",
   "metadata": {},
   "outputs": [],
   "source": [
    "data.iloc[0, 2] = 90"
   ]
  },
  {
   "cell_type": "code",
   "execution_count": 46,
   "id": "68a3c7bb-b90d-495b-8798-c32f3ca30321",
   "metadata": {},
   "outputs": [
    {
     "data": {
      "text/html": [
       "<div>\n",
       "<style scoped>\n",
       "    .dataframe tbody tr th:only-of-type {\n",
       "        vertical-align: middle;\n",
       "    }\n",
       "\n",
       "    .dataframe tbody tr th {\n",
       "        vertical-align: top;\n",
       "    }\n",
       "\n",
       "    .dataframe thead th {\n",
       "        text-align: right;\n",
       "    }\n",
       "</style>\n",
       "<table border=\"1\" class=\"dataframe\">\n",
       "  <thead>\n",
       "    <tr style=\"text-align: right;\">\n",
       "      <th></th>\n",
       "      <th>area</th>\n",
       "      <th>pop</th>\n",
       "      <th>density</th>\n",
       "    </tr>\n",
       "  </thead>\n",
       "  <tbody>\n",
       "    <tr>\n",
       "      <th>California</th>\n",
       "      <td>423967</td>\n",
       "      <td>38332521</td>\n",
       "      <td>90.000000</td>\n",
       "    </tr>\n",
       "    <tr>\n",
       "      <th>Texas</th>\n",
       "      <td>695662</td>\n",
       "      <td>26448193</td>\n",
       "      <td>38.018740</td>\n",
       "    </tr>\n",
       "    <tr>\n",
       "      <th>New York</th>\n",
       "      <td>141297</td>\n",
       "      <td>19651127</td>\n",
       "      <td>139.076746</td>\n",
       "    </tr>\n",
       "    <tr>\n",
       "      <th>Florida</th>\n",
       "      <td>170312</td>\n",
       "      <td>19552860</td>\n",
       "      <td>114.806121</td>\n",
       "    </tr>\n",
       "    <tr>\n",
       "      <th>Illinois</th>\n",
       "      <td>149995</td>\n",
       "      <td>12882135</td>\n",
       "      <td>85.883763</td>\n",
       "    </tr>\n",
       "  </tbody>\n",
       "</table>\n",
       "</div>"
      ],
      "text/plain": [
       "              area       pop     density\n",
       "California  423967  38332521   90.000000\n",
       "Texas       695662  26448193   38.018740\n",
       "New York    141297  19651127  139.076746\n",
       "Florida     170312  19552860  114.806121\n",
       "Illinois    149995  12882135   85.883763"
      ]
     },
     "execution_count": 46,
     "metadata": {},
     "output_type": "execute_result"
    }
   ],
   "source": [
    "data"
   ]
  },
  {
   "cell_type": "markdown",
   "id": "0a82c398-b37c-495b-8663-d0017543b0d3",
   "metadata": {},
   "source": [
    "#### 可以看到我们上面修改了第0行第2列的数据为90,即加利福尼亚的人口密度设为了90"
   ]
  },
  {
   "cell_type": "markdown",
   "id": "c5ac9b18-d97d-4624-b5fd-2a2fbe7a3b59",
   "metadata": {},
   "source": [
    "如果你想熟练使用 Pandas 的数据操作方法，我建议你花点时间在\n",
    "一个简单的 DataFrame 上练习不同的取值方法，包括查看索引类\n",
    "型、切片、掩码和花哨的索引操作。"
   ]
  },
  {
   "cell_type": "markdown",
   "id": "11722f7e-f616-4687-aff9-a5a6e4d81214",
   "metadata": {},
   "source": [
    "03. 其他取值方法"
   ]
  },
  {
   "cell_type": "markdown",
   "id": "f96e1b53-7859-417c-9534-f58154e77a8a",
   "metadata": {},
   "source": [
    "还有一些取值方法和前面介绍过的方法不太一样。它们虽然看着有\n",
    "点奇怪，但是在实践中还是很好用的。首先，<span id='imp'>如果对单个标签取值\n",
    "就选择列，而对多个标签用切片就选择行</span>："
   ]
  },
  {
   "cell_type": "markdown",
   "id": "5bb12f72-646a-44a7-b6a0-a75d11d19720",
   "metadata": {},
   "source": [
    "#### 对多个标签取值就选择行"
   ]
  },
  {
   "cell_type": "code",
   "execution_count": 48,
   "id": "938a1b2c-6627-4e9e-9411-27a1491a5328",
   "metadata": {},
   "outputs": [
    {
     "data": {
      "text/html": [
       "<div>\n",
       "<style scoped>\n",
       "    .dataframe tbody tr th:only-of-type {\n",
       "        vertical-align: middle;\n",
       "    }\n",
       "\n",
       "    .dataframe tbody tr th {\n",
       "        vertical-align: top;\n",
       "    }\n",
       "\n",
       "    .dataframe thead th {\n",
       "        text-align: right;\n",
       "    }\n",
       "</style>\n",
       "<table border=\"1\" class=\"dataframe\">\n",
       "  <thead>\n",
       "    <tr style=\"text-align: right;\">\n",
       "      <th></th>\n",
       "      <th>area</th>\n",
       "      <th>pop</th>\n",
       "      <th>density</th>\n",
       "    </tr>\n",
       "  </thead>\n",
       "  <tbody>\n",
       "    <tr>\n",
       "      <th>Florida</th>\n",
       "      <td>170312</td>\n",
       "      <td>19552860</td>\n",
       "      <td>114.806121</td>\n",
       "    </tr>\n",
       "    <tr>\n",
       "      <th>Illinois</th>\n",
       "      <td>149995</td>\n",
       "      <td>12882135</td>\n",
       "      <td>85.883763</td>\n",
       "    </tr>\n",
       "  </tbody>\n",
       "</table>\n",
       "</div>"
      ],
      "text/plain": [
       "            area       pop     density\n",
       "Florida   170312  19552860  114.806121\n",
       "Illinois  149995  12882135   85.883763"
      ]
     },
     "execution_count": 48,
     "metadata": {},
     "output_type": "execute_result"
    }
   ],
   "source": [
    "data['Florida':'Illinois']"
   ]
  },
  {
   "cell_type": "markdown",
   "id": "75adef7c-b730-47d0-8dad-d3912c4a800c",
   "metadata": {},
   "source": [
    "切片也可以不用索引值，而直接用行数来实现："
   ]
  },
  {
   "cell_type": "code",
   "execution_count": 49,
   "id": "dd3d796c-d78b-4cca-a3ed-a149100d489a",
   "metadata": {},
   "outputs": [
    {
     "data": {
      "text/html": [
       "<div>\n",
       "<style scoped>\n",
       "    .dataframe tbody tr th:only-of-type {\n",
       "        vertical-align: middle;\n",
       "    }\n",
       "\n",
       "    .dataframe tbody tr th {\n",
       "        vertical-align: top;\n",
       "    }\n",
       "\n",
       "    .dataframe thead th {\n",
       "        text-align: right;\n",
       "    }\n",
       "</style>\n",
       "<table border=\"1\" class=\"dataframe\">\n",
       "  <thead>\n",
       "    <tr style=\"text-align: right;\">\n",
       "      <th></th>\n",
       "      <th>area</th>\n",
       "      <th>pop</th>\n",
       "      <th>density</th>\n",
       "    </tr>\n",
       "  </thead>\n",
       "  <tbody>\n",
       "    <tr>\n",
       "      <th>Texas</th>\n",
       "      <td>695662</td>\n",
       "      <td>26448193</td>\n",
       "      <td>38.018740</td>\n",
       "    </tr>\n",
       "    <tr>\n",
       "      <th>New York</th>\n",
       "      <td>141297</td>\n",
       "      <td>19651127</td>\n",
       "      <td>139.076746</td>\n",
       "    </tr>\n",
       "  </tbody>\n",
       "</table>\n",
       "</div>"
      ],
      "text/plain": [
       "            area       pop     density\n",
       "Texas     695662  26448193   38.018740\n",
       "New York  141297  19651127  139.076746"
      ]
     },
     "execution_count": 49,
     "metadata": {},
     "output_type": "execute_result"
    }
   ],
   "source": [
    "data[1:3]"
   ]
  },
  {
   "cell_type": "markdown",
   "id": "89d68188-4555-4d78-a862-707d68f743ab",
   "metadata": {},
   "source": [
    "与之类似，掩码操作也可以直接对每一行进行过滤，而不需要使用\n",
    "loc 索引器："
   ]
  },
  {
   "cell_type": "code",
   "execution_count": 50,
   "id": "38b7925f-e9be-48ac-9777-c963861f3dd9",
   "metadata": {},
   "outputs": [
    {
     "data": {
      "text/html": [
       "<div>\n",
       "<style scoped>\n",
       "    .dataframe tbody tr th:only-of-type {\n",
       "        vertical-align: middle;\n",
       "    }\n",
       "\n",
       "    .dataframe tbody tr th {\n",
       "        vertical-align: top;\n",
       "    }\n",
       "\n",
       "    .dataframe thead th {\n",
       "        text-align: right;\n",
       "    }\n",
       "</style>\n",
       "<table border=\"1\" class=\"dataframe\">\n",
       "  <thead>\n",
       "    <tr style=\"text-align: right;\">\n",
       "      <th></th>\n",
       "      <th>area</th>\n",
       "      <th>pop</th>\n",
       "      <th>density</th>\n",
       "    </tr>\n",
       "  </thead>\n",
       "  <tbody>\n",
       "    <tr>\n",
       "      <th>New York</th>\n",
       "      <td>141297</td>\n",
       "      <td>19651127</td>\n",
       "      <td>139.076746</td>\n",
       "    </tr>\n",
       "    <tr>\n",
       "      <th>Florida</th>\n",
       "      <td>170312</td>\n",
       "      <td>19552860</td>\n",
       "      <td>114.806121</td>\n",
       "    </tr>\n",
       "  </tbody>\n",
       "</table>\n",
       "</div>"
      ],
      "text/plain": [
       "            area       pop     density\n",
       "New York  141297  19651127  139.076746\n",
       "Florida   170312  19552860  114.806121"
      ]
     },
     "execution_count": 50,
     "metadata": {},
     "output_type": "execute_result"
    }
   ],
   "source": [
    "data[data.density > 100]"
   ]
  },
  {
   "cell_type": "markdown",
   "id": "1fa00a03-e819-4324-bc9e-117e4126b37e",
   "metadata": {},
   "source": [
    "这两种操作方法其实与 NumPy 数组的语法类似，虽然它们与\n",
    "Pandas 的操作习惯不太一致，但是在实践中非常好用。"
   ]
  },
  {
   "cell_type": "markdown",
   "id": "9bc799c4-9839-4575-883c-04e968bf57d4",
   "metadata": {},
   "source": [
    "# 3.4 Pandas数值运算方法"
   ]
  },
  {
   "cell_type": "markdown",
   "id": "9c9cd0af-b59f-4f53-b5eb-f1727460e2fe",
   "metadata": {},
   "source": [
    "NumPy 的基本能力之一是快速对每个元素进行运算，既包括基本算术\n",
    "运算（加、减、乘、除），也包括更复杂的运算（三角函数、指数函数\n",
    "和对数函数等）。Pandas 继承了 NumPy 的功能，在 2.3 节介绍过的通\n",
    "用函数是关键。      \n",
    "但是 Pandas 也实现了一些高效技巧：对于一元运算（像函数与三角函\n",
    "数），这些通用函数将在输出结果中保留索引和列标签；而对于二元运\n",
    "算（如加法和乘法），Pandas 在传递通用函数时会自动对齐索引进行计\n",
    "算。这就意味着，保存数据内容与组合不同来源的数据——两处在\n",
    "NumPy 数组中都容易出错的地方——变成了 Pandas 的杀手锏。后面还\n",
    "会介绍一些关于一维 Series 和二维 DataFrame 的便捷运算方法。"
   ]
  },
  {
   "cell_type": "markdown",
   "id": "0ba01fc7-c2ec-4620-9d34-2f558a25b941",
   "metadata": {
    "jp-MarkdownHeadingCollapsed": true
   },
   "source": [
    "## 3.4.1 通用函数：保留索引"
   ]
  },
  {
   "cell_type": "markdown",
   "id": "407989ac-1d9c-4b92-8121-3495f2938ba3",
   "metadata": {},
   "source": [
    "因为 Pandas 是建立在 NumPy 基础之上的，所以 NumPy 的通用函数同\n",
    "样适用于 Pandas 的 Series 和 DataFrame 对象。让我们用一个简单的\n",
    "Series 和 DataFrame 来演示："
   ]
  },
  {
   "cell_type": "code",
   "execution_count": 51,
   "id": "27847ecd-4922-44bc-b9ff-5784807c0f04",
   "metadata": {},
   "outputs": [],
   "source": [
    "import numpy as np"
   ]
  },
  {
   "cell_type": "code",
   "execution_count": 52,
   "id": "916e44c7-0972-4934-bfe2-c1793e98642d",
   "metadata": {},
   "outputs": [
    {
     "data": {
      "text/plain": [
       "0    6\n",
       "1    3\n",
       "2    7\n",
       "3    4\n",
       "dtype: int32"
      ]
     },
     "execution_count": 52,
     "metadata": {},
     "output_type": "execute_result"
    }
   ],
   "source": [
    "rng = np.random.RandomState(42)\n",
    "ser = pd.Series(rng.randint(0,10,4))\n",
    "ser"
   ]
  },
  {
   "cell_type": "code",
   "execution_count": 53,
   "id": "ea487fb3-b305-4d9d-b22a-f47177293b75",
   "metadata": {},
   "outputs": [],
   "source": [
    "df = pd.DataFrame(rng.randint(0,10,(3,4)),columns=['A','B','C','D'])"
   ]
  },
  {
   "cell_type": "code",
   "execution_count": 54,
   "id": "66789d68-8540-4881-b44b-ef7ee791a4b4",
   "metadata": {},
   "outputs": [
    {
     "data": {
      "text/html": [
       "<div>\n",
       "<style scoped>\n",
       "    .dataframe tbody tr th:only-of-type {\n",
       "        vertical-align: middle;\n",
       "    }\n",
       "\n",
       "    .dataframe tbody tr th {\n",
       "        vertical-align: top;\n",
       "    }\n",
       "\n",
       "    .dataframe thead th {\n",
       "        text-align: right;\n",
       "    }\n",
       "</style>\n",
       "<table border=\"1\" class=\"dataframe\">\n",
       "  <thead>\n",
       "    <tr style=\"text-align: right;\">\n",
       "      <th></th>\n",
       "      <th>A</th>\n",
       "      <th>B</th>\n",
       "      <th>C</th>\n",
       "      <th>D</th>\n",
       "    </tr>\n",
       "  </thead>\n",
       "  <tbody>\n",
       "    <tr>\n",
       "      <th>0</th>\n",
       "      <td>6</td>\n",
       "      <td>9</td>\n",
       "      <td>2</td>\n",
       "      <td>6</td>\n",
       "    </tr>\n",
       "    <tr>\n",
       "      <th>1</th>\n",
       "      <td>7</td>\n",
       "      <td>4</td>\n",
       "      <td>3</td>\n",
       "      <td>7</td>\n",
       "    </tr>\n",
       "    <tr>\n",
       "      <th>2</th>\n",
       "      <td>7</td>\n",
       "      <td>2</td>\n",
       "      <td>5</td>\n",
       "      <td>4</td>\n",
       "    </tr>\n",
       "  </tbody>\n",
       "</table>\n",
       "</div>"
      ],
      "text/plain": [
       "   A  B  C  D\n",
       "0  6  9  2  6\n",
       "1  7  4  3  7\n",
       "2  7  2  5  4"
      ]
     },
     "execution_count": 54,
     "metadata": {},
     "output_type": "execute_result"
    }
   ],
   "source": [
    "df"
   ]
  },
  {
   "cell_type": "markdown",
   "id": "fba0ef0c-c2a1-4ba2-bd62-ee93e1da9f68",
   "metadata": {},
   "source": [
    "如果对这两个对象的其中一个使用 NumPy 通用函数，生成的结果是另\n",
    "一个保留索引的 Pandas 对象："
   ]
  },
  {
   "cell_type": "code",
   "execution_count": 55,
   "id": "a61843cd-61d7-469a-8f1e-bb9f363c6f9b",
   "metadata": {},
   "outputs": [
    {
     "data": {
      "text/plain": [
       "0     403.428793\n",
       "1      20.085537\n",
       "2    1096.633158\n",
       "3      54.598150\n",
       "dtype: float64"
      ]
     },
     "execution_count": 55,
     "metadata": {},
     "output_type": "execute_result"
    }
   ],
   "source": [
    "np.exp(ser)  #回忆.exp即进行指数运算e的x次方,exp2即为2的x次方"
   ]
  },
  {
   "cell_type": "markdown",
   "id": "63ed9543-5327-42de-b3ba-f8ba91d1c55b",
   "metadata": {},
   "source": [
    "或者，再做一个比较复杂的运算："
   ]
  },
  {
   "cell_type": "code",
   "execution_count": 56,
   "id": "2e25aced-bf28-44d3-9a9b-0ea731a93fea",
   "metadata": {},
   "outputs": [
    {
     "data": {
      "text/html": [
       "<div>\n",
       "<style scoped>\n",
       "    .dataframe tbody tr th:only-of-type {\n",
       "        vertical-align: middle;\n",
       "    }\n",
       "\n",
       "    .dataframe tbody tr th {\n",
       "        vertical-align: top;\n",
       "    }\n",
       "\n",
       "    .dataframe thead th {\n",
       "        text-align: right;\n",
       "    }\n",
       "</style>\n",
       "<table border=\"1\" class=\"dataframe\">\n",
       "  <thead>\n",
       "    <tr style=\"text-align: right;\">\n",
       "      <th></th>\n",
       "      <th>A</th>\n",
       "      <th>B</th>\n",
       "      <th>C</th>\n",
       "      <th>D</th>\n",
       "    </tr>\n",
       "  </thead>\n",
       "  <tbody>\n",
       "    <tr>\n",
       "      <th>0</th>\n",
       "      <td>-1.000000</td>\n",
       "      <td>7.071068e-01</td>\n",
       "      <td>1.000000</td>\n",
       "      <td>-1.000000e+00</td>\n",
       "    </tr>\n",
       "    <tr>\n",
       "      <th>1</th>\n",
       "      <td>-0.707107</td>\n",
       "      <td>1.224647e-16</td>\n",
       "      <td>0.707107</td>\n",
       "      <td>-7.071068e-01</td>\n",
       "    </tr>\n",
       "    <tr>\n",
       "      <th>2</th>\n",
       "      <td>-0.707107</td>\n",
       "      <td>1.000000e+00</td>\n",
       "      <td>-0.707107</td>\n",
       "      <td>1.224647e-16</td>\n",
       "    </tr>\n",
       "  </tbody>\n",
       "</table>\n",
       "</div>"
      ],
      "text/plain": [
       "          A             B         C             D\n",
       "0 -1.000000  7.071068e-01  1.000000 -1.000000e+00\n",
       "1 -0.707107  1.224647e-16  0.707107 -7.071068e-01\n",
       "2 -0.707107  1.000000e+00 -0.707107  1.224647e-16"
      ]
     },
     "execution_count": 56,
     "metadata": {},
     "output_type": "execute_result"
    }
   ],
   "source": [
    "np.sin(df*np.pi/4)"
   ]
  },
  {
   "cell_type": "markdown",
   "id": "b023ae9c-1e65-4be9-88b9-511472e0df8e",
   "metadata": {},
   "source": [
    "任何一种在 2.3 节介绍过的通用函数都可以按照类似的方式使用。"
   ]
  },
  {
   "cell_type": "markdown",
   "id": "c4e86436-200b-4091-997f-11416827c8fb",
   "metadata": {},
   "source": [
    "## 3.4.2 通用函数：索引对齐"
   ]
  },
  {
   "cell_type": "markdown",
   "id": "6504a17a-e603-4aa1-b2c8-d411c7b6eda8",
   "metadata": {},
   "source": [
    "当在两个 Series 或 DataFrame 对象上进行二元计算时，Pandas 会在\n",
    "计算过程中对齐两个对象的索引。当你处理不完整的数据时，这一点非\n",
    "常方便，我们将在后面的示例中看到。"
   ]
  },
  {
   "cell_type": "markdown",
   "id": "76611144-19b6-4a92-a414-183a725aac2f",
   "metadata": {},
   "source": [
    "01. Series索引对齐"
   ]
  },
  {
   "cell_type": "markdown",
   "id": "cbf3b48f-c89f-4cab-a0e1-21be7e0d7fa7",
   "metadata": {},
   "source": [
    "来看一个例子，假如你要整合两个数据源的数据，其中一个是美国\n",
    "面积最大的三个州的面积数据，另一个是美国人口最多的三个州的\n",
    "人口数据"
   ]
  },
  {
   "cell_type": "code",
   "execution_count": 57,
   "id": "d1763f98-b1c8-4799-b5df-8bced5894cc6",
   "metadata": {},
   "outputs": [],
   "source": [
    "area = pd.Series({'Alaska': 1723337, 'Texas': 695662,\n",
    "            'California': 423967}, name='area')\n",
    "population = pd.Series({'California': 38332521, 'Texas': 26448193,\n",
    "                'New York': 19651127}, name='population')"
   ]
  },
  {
   "cell_type": "markdown",
   "id": "757d0585-e891-4f34-bb46-e90a509331af",
   "metadata": {},
   "source": [
    "来看看如果用人口除以面积会得到什么样的结果："
   ]
  },
  {
   "cell_type": "code",
   "execution_count": 58,
   "id": "03259422-704e-494d-ba94-fe78c3c1df97",
   "metadata": {},
   "outputs": [
    {
     "data": {
      "text/plain": [
       "Alaska              NaN\n",
       "California    90.413926\n",
       "New York            NaN\n",
       "Texas         38.018740\n",
       "dtype: float64"
      ]
     },
     "execution_count": 58,
     "metadata": {},
     "output_type": "execute_result"
    }
   ],
   "source": [
    "population / area"
   ]
  },
  {
   "cell_type": "markdown",
   "id": "94a8b2ed-c892-4975-b870-e331fe7dbbc2",
   "metadata": {},
   "source": [
    "结果数组的索引是两个输入数组索引的并集。我们也可以用 Python\n",
    "标准库的集合运算法则来获得这个索引："
   ]
  },
  {
   "cell_type": "code",
   "execution_count": 62,
   "id": "2410cc6b-4d5a-490e-8c43-be9b2c06fc1e",
   "metadata": {},
   "outputs": [
    {
     "data": {
      "text/plain": [
       "Index(['Alaska', 'Texas', 'California'], dtype='object')"
      ]
     },
     "execution_count": 62,
     "metadata": {},
     "output_type": "execute_result"
    }
   ],
   "source": [
    "area.index"
   ]
  },
  {
   "cell_type": "code",
   "execution_count": 63,
   "id": "5900658b-200e-420a-954c-3a87228fbec6",
   "metadata": {},
   "outputs": [
    {
     "data": {
      "text/plain": [
       "Index(['California', 'Texas', 'New York'], dtype='object')"
      ]
     },
     "execution_count": 63,
     "metadata": {},
     "output_type": "execute_result"
    }
   ],
   "source": [
    "population.index"
   ]
  },
  {
   "cell_type": "code",
   "execution_count": 64,
   "id": "5f4e9762-3417-454d-ba56-186df3370431",
   "metadata": {},
   "outputs": [
    {
     "data": {
      "text/plain": [
       "Index(['Alaska', 'California', 'New York', 'Texas'], dtype='object')"
      ]
     },
     "execution_count": 64,
     "metadata": {},
     "output_type": "execute_result"
    }
   ],
   "source": [
    "area.index.union(population.index)"
   ]
  },
  {
   "cell_type": "markdown",
   "id": "3be7fcb4-e74d-4b94-b864-3a8b51b5a514",
   "metadata": {},
   "source": [
    "对于缺失位置的数据，Pandas 会用 NaN 填充，表示“此处无数”。这\n",
    "是 Pandas 表示缺失值的方法（详情请参见 3.5 节关于缺失值的介\n",
    "绍）。这种索引对齐方式是通过 Python 内置的集合运算规则实现\n",
    "的，任何缺失值默认都用 NaN 填充：\n"
   ]
  },
  {
   "cell_type": "code",
   "execution_count": 65,
   "id": "16a9512e-66f5-43f8-b915-16b679905209",
   "metadata": {},
   "outputs": [
    {
     "data": {
      "text/plain": [
       "0    NaN\n",
       "1    5.0\n",
       "2    9.0\n",
       "3    NaN\n",
       "dtype: float64"
      ]
     },
     "execution_count": 65,
     "metadata": {},
     "output_type": "execute_result"
    }
   ],
   "source": [
    "A = pd.Series([2,4,6],index=[0,1,2])\n",
    "B = pd.Series([1,3,5],index=[1,2,3])\n",
    "A+B"
   ]
  },
  {
   "cell_type": "markdown",
   "id": "dddff335-ebfa-4be3-b10e-74597c60c914",
   "metadata": {},
   "source": [
    "如果用 NaN 值不是我们想要的结果，那么可以用适当的对象方法代\n",
    "替运算符。例如，A.add(B) 等价于 A + B，也可以设置参数自定\n",
    "义 A 或 B 缺失的数据："
   ]
  },
  {
   "cell_type": "code",
   "execution_count": 66,
   "id": "10901ce9-3924-43ff-8ab0-696b3001ec9a",
   "metadata": {},
   "outputs": [
    {
     "data": {
      "text/plain": [
       "0    2.0\n",
       "1    5.0\n",
       "2    9.0\n",
       "3    5.0\n",
       "dtype: float64"
      ]
     },
     "execution_count": 66,
     "metadata": {},
     "output_type": "execute_result"
    }
   ],
   "source": [
    "A.add(B,fill_value=0)"
   ]
  },
  {
   "cell_type": "markdown",
   "id": "5a1c270d-9594-46d7-92f2-0651c932f7be",
   "metadata": {},
   "source": [
    "02. DataFrame索引对齐"
   ]
  },
  {
   "cell_type": "markdown",
   "id": "edcca1a9-3b8f-4c42-98db-764086e46d56",
   "metadata": {},
   "source": [
    "在计算两个 DataFrame 时，类似的索引对齐规则也同样会出现在\n",
    "共同（并集）列中：\n"
   ]
  },
  {
   "cell_type": "code",
   "execution_count": 67,
   "id": "f0b8d86d-4faf-4482-b92b-a7963aa12c33",
   "metadata": {},
   "outputs": [
    {
     "data": {
      "text/html": [
       "<div>\n",
       "<style scoped>\n",
       "    .dataframe tbody tr th:only-of-type {\n",
       "        vertical-align: middle;\n",
       "    }\n",
       "\n",
       "    .dataframe tbody tr th {\n",
       "        vertical-align: top;\n",
       "    }\n",
       "\n",
       "    .dataframe thead th {\n",
       "        text-align: right;\n",
       "    }\n",
       "</style>\n",
       "<table border=\"1\" class=\"dataframe\">\n",
       "  <thead>\n",
       "    <tr style=\"text-align: right;\">\n",
       "      <th></th>\n",
       "      <th>A</th>\n",
       "      <th>B</th>\n",
       "    </tr>\n",
       "  </thead>\n",
       "  <tbody>\n",
       "    <tr>\n",
       "      <th>0</th>\n",
       "      <td>1</td>\n",
       "      <td>11</td>\n",
       "    </tr>\n",
       "    <tr>\n",
       "      <th>1</th>\n",
       "      <td>5</td>\n",
       "      <td>1</td>\n",
       "    </tr>\n",
       "  </tbody>\n",
       "</table>\n",
       "</div>"
      ],
      "text/plain": [
       "   A   B\n",
       "0  1  11\n",
       "1  5   1"
      ]
     },
     "execution_count": 67,
     "metadata": {},
     "output_type": "execute_result"
    }
   ],
   "source": [
    "A = pd.DataFrame(rng.randint(0, 20, (2, 2)),\n",
    "        columns=list('AB')) #创建一个2行2列的二维数组,列的名称一个叫做A,一个叫做B\n",
    "A"
   ]
  },
  {
   "cell_type": "code",
   "execution_count": 68,
   "id": "1bd3ff6d-c854-48d8-80ac-a328f47c4584",
   "metadata": {},
   "outputs": [],
   "source": [
    "B = pd.DataFrame(rng.randint(0, 10, (3, 3)),\n",
    "    columns=list('BAC'))"
   ]
  },
  {
   "cell_type": "code",
   "execution_count": 69,
   "id": "37eaca37-0beb-4a1c-92ab-d315d854ff29",
   "metadata": {},
   "outputs": [
    {
     "data": {
      "text/html": [
       "<div>\n",
       "<style scoped>\n",
       "    .dataframe tbody tr th:only-of-type {\n",
       "        vertical-align: middle;\n",
       "    }\n",
       "\n",
       "    .dataframe tbody tr th {\n",
       "        vertical-align: top;\n",
       "    }\n",
       "\n",
       "    .dataframe thead th {\n",
       "        text-align: right;\n",
       "    }\n",
       "</style>\n",
       "<table border=\"1\" class=\"dataframe\">\n",
       "  <thead>\n",
       "    <tr style=\"text-align: right;\">\n",
       "      <th></th>\n",
       "      <th>B</th>\n",
       "      <th>A</th>\n",
       "      <th>C</th>\n",
       "    </tr>\n",
       "  </thead>\n",
       "  <tbody>\n",
       "    <tr>\n",
       "      <th>0</th>\n",
       "      <td>4</td>\n",
       "      <td>0</td>\n",
       "      <td>9</td>\n",
       "    </tr>\n",
       "    <tr>\n",
       "      <th>1</th>\n",
       "      <td>5</td>\n",
       "      <td>8</td>\n",
       "      <td>0</td>\n",
       "    </tr>\n",
       "    <tr>\n",
       "      <th>2</th>\n",
       "      <td>9</td>\n",
       "      <td>2</td>\n",
       "      <td>6</td>\n",
       "    </tr>\n",
       "  </tbody>\n",
       "</table>\n",
       "</div>"
      ],
      "text/plain": [
       "   B  A  C\n",
       "0  4  0  9\n",
       "1  5  8  0\n",
       "2  9  2  6"
      ]
     },
     "execution_count": 69,
     "metadata": {},
     "output_type": "execute_result"
    }
   ],
   "source": [
    "B"
   ]
  },
  {
   "cell_type": "code",
   "execution_count": 70,
   "id": "0947d450-1e79-4353-aa84-e258ee50d489",
   "metadata": {},
   "outputs": [
    {
     "data": {
      "text/html": [
       "<div>\n",
       "<style scoped>\n",
       "    .dataframe tbody tr th:only-of-type {\n",
       "        vertical-align: middle;\n",
       "    }\n",
       "\n",
       "    .dataframe tbody tr th {\n",
       "        vertical-align: top;\n",
       "    }\n",
       "\n",
       "    .dataframe thead th {\n",
       "        text-align: right;\n",
       "    }\n",
       "</style>\n",
       "<table border=\"1\" class=\"dataframe\">\n",
       "  <thead>\n",
       "    <tr style=\"text-align: right;\">\n",
       "      <th></th>\n",
       "      <th>A</th>\n",
       "      <th>B</th>\n",
       "      <th>C</th>\n",
       "    </tr>\n",
       "  </thead>\n",
       "  <tbody>\n",
       "    <tr>\n",
       "      <th>0</th>\n",
       "      <td>1.0</td>\n",
       "      <td>15.0</td>\n",
       "      <td>NaN</td>\n",
       "    </tr>\n",
       "    <tr>\n",
       "      <th>1</th>\n",
       "      <td>13.0</td>\n",
       "      <td>6.0</td>\n",
       "      <td>NaN</td>\n",
       "    </tr>\n",
       "    <tr>\n",
       "      <th>2</th>\n",
       "      <td>NaN</td>\n",
       "      <td>NaN</td>\n",
       "      <td>NaN</td>\n",
       "    </tr>\n",
       "  </tbody>\n",
       "</table>\n",
       "</div>"
      ],
      "text/plain": [
       "      A     B   C\n",
       "0   1.0  15.0 NaN\n",
       "1  13.0   6.0 NaN\n",
       "2   NaN   NaN NaN"
      ]
     },
     "execution_count": 70,
     "metadata": {},
     "output_type": "execute_result"
    }
   ],
   "source": [
    "A+B"
   ]
  },
  {
   "cell_type": "markdown",
   "id": "157d712c-97bf-46c7-9e23-bf49fa25ccc6",
   "metadata": {},
   "source": [
    "你会发现，两个对象的行列索引可以是不同顺序的，结果的索引会\n",
    "自动按顺序排列。在 Series 中，我们可以通过运算符方法的\n",
    "fill_value 参数自定义缺失值。这里，我们将用 A 中所有值的<span id='imp'>均\n",
    "值</span>来填充缺失值（计算 A 的均值需要用 stack 将二维数组压缩成\n",
    "一维数组）："
   ]
  },
  {
   "cell_type": "markdown",
   "id": "9c43244c-07a3-46d5-8ff5-e2a4b47ec239",
   "metadata": {},
   "source": [
    "#### 其实上面一个常见且重要的思想就是均值填充"
   ]
  },
  {
   "cell_type": "markdown",
   "id": "b3838b7a-03af-4aa2-8925-2b127e526072",
   "metadata": {},
   "source": [
    "利用.stack()方式将二维数组转换为1维数组,那样就可以求均值"
   ]
  },
  {
   "cell_type": "code",
   "execution_count": 73,
   "id": "161a4abb-85cb-4d79-8489-070a729fa5c9",
   "metadata": {},
   "outputs": [
    {
     "data": {
      "text/plain": [
       "0  A     1\n",
       "   B    11\n",
       "1  A     5\n",
       "   B     1\n",
       "dtype: int32"
      ]
     },
     "execution_count": 73,
     "metadata": {},
     "output_type": "execute_result"
    }
   ],
   "source": [
    "A.stack()"
   ]
  },
  {
   "cell_type": "code",
   "execution_count": 71,
   "id": "2f3d2956-7eea-4919-9226-3f264b7f7911",
   "metadata": {},
   "outputs": [],
   "source": [
    "fill = A.stack().mean()"
   ]
  },
  {
   "cell_type": "code",
   "execution_count": 72,
   "id": "f0c3069e-2512-4d20-9559-bcb42c31fe25",
   "metadata": {},
   "outputs": [
    {
     "data": {
      "text/html": [
       "<div>\n",
       "<style scoped>\n",
       "    .dataframe tbody tr th:only-of-type {\n",
       "        vertical-align: middle;\n",
       "    }\n",
       "\n",
       "    .dataframe tbody tr th {\n",
       "        vertical-align: top;\n",
       "    }\n",
       "\n",
       "    .dataframe thead th {\n",
       "        text-align: right;\n",
       "    }\n",
       "</style>\n",
       "<table border=\"1\" class=\"dataframe\">\n",
       "  <thead>\n",
       "    <tr style=\"text-align: right;\">\n",
       "      <th></th>\n",
       "      <th>A</th>\n",
       "      <th>B</th>\n",
       "      <th>C</th>\n",
       "    </tr>\n",
       "  </thead>\n",
       "  <tbody>\n",
       "    <tr>\n",
       "      <th>0</th>\n",
       "      <td>1.0</td>\n",
       "      <td>15.0</td>\n",
       "      <td>13.5</td>\n",
       "    </tr>\n",
       "    <tr>\n",
       "      <th>1</th>\n",
       "      <td>13.0</td>\n",
       "      <td>6.0</td>\n",
       "      <td>4.5</td>\n",
       "    </tr>\n",
       "    <tr>\n",
       "      <th>2</th>\n",
       "      <td>6.5</td>\n",
       "      <td>13.5</td>\n",
       "      <td>10.5</td>\n",
       "    </tr>\n",
       "  </tbody>\n",
       "</table>\n",
       "</div>"
      ],
      "text/plain": [
       "      A     B     C\n",
       "0   1.0  15.0  13.5\n",
       "1  13.0   6.0   4.5\n",
       "2   6.5  13.5  10.5"
      ]
     },
     "execution_count": 72,
     "metadata": {},
     "output_type": "execute_result"
    }
   ],
   "source": [
    "A.add(B,fill_value=fill)"
   ]
  },
  {
   "cell_type": "markdown",
   "id": "4c72ebf3-6f6f-44c7-a5d4-d16a51ca5ec2",
   "metadata": {},
   "source": [
    "表 3-1 列举了与 Python 运算符相对应的 Pandas 对象方法。"
   ]
  },
  {
   "cell_type": "markdown",
   "id": "c61c8d6a-a5bf-41d1-8255-c7b2be00b438",
   "metadata": {},
   "source": [
    "<table>\n",
    "    <tr>\n",
    "        <th>Python运算符</th>\n",
    "        <th>Pandas方法</th>\n",
    "    </tr>\n",
    "    <tr>\n",
    "        <td>+</td>\n",
    "        <td>add()</td>\n",
    "    </tr>\n",
    "    <tr>\n",
    "        <td>-</td>\n",
    "        <td>sub(),subtract()</td>\n",
    "    </tr>\n",
    "    <tr>\n",
    "        <td>*</td>\n",
    "        <td>mul(),multiply()</td>\n",
    "    </tr>\n",
    "    <tr>\n",
    "        <td>/</td>\n",
    "        <td>truediv(),div(),divide()</td>\n",
    "    </tr>\n",
    "    <tr>\n",
    "        <td>//</td>\n",
    "        <td>floordiv()</td>\n",
    "    </tr>\n",
    "    <tr>\n",
    "        <td>%</td>\n",
    "        <td>mod()</td>\n",
    "    </tr>\n",
    "    <tr>\n",
    "        <td>**</td>\n",
    "        <td>pow()</td>\n",
    "    </tr>\n",
    "</table>"
   ]
  },
  {
   "cell_type": "markdown",
   "id": "32655389-d8c5-4694-9443-0ddc6d75ef67",
   "metadata": {},
   "source": [
    "<p id='ct'>表3-1</p>"
   ]
  },
  {
   "cell_type": "markdown",
   "id": "db53faae-f858-4545-9906-3e6e807d7f0e",
   "metadata": {},
   "source": [
    "## 3.4.3 通用函数：DataFrame与Series的运算"
   ]
  },
  {
   "cell_type": "markdown",
   "id": "5b8c98fd-7c37-4287-8efe-d7bf52024b8b",
   "metadata": {},
   "source": [
    "我们经常需要对一个 DataFrame 和一个 Series 进行计算，行列对齐\n",
    "方式与之前类似。也就是说，DataFrame 和 Series 的运算规则，与\n",
    "NumPy 中二维数组与一维数组的运算规则是一样的。来看一个常见运\n",
    "算，让一个二维数组减去自身的一行数据："
   ]
  },
  {
   "cell_type": "code",
   "execution_count": 74,
   "id": "db9efecc-d841-4252-8b90-0e78229b6f2e",
   "metadata": {},
   "outputs": [
    {
     "data": {
      "text/plain": [
       "array([[3, 8, 2, 4],\n",
       "       [2, 6, 4, 8],\n",
       "       [6, 1, 3, 8]], dtype=int32)"
      ]
     },
     "execution_count": 74,
     "metadata": {},
     "output_type": "execute_result"
    }
   ],
   "source": [
    "A = rng.randint(10,size=(3,4))\n",
    "A"
   ]
  },
  {
   "cell_type": "code",
   "execution_count": 75,
   "id": "860e449c-a3fb-4cfd-83a6-48c7c1eda805",
   "metadata": {},
   "outputs": [
    {
     "data": {
      "text/plain": [
       "array([[ 0,  0,  0,  0],\n",
       "       [-1, -2,  2,  4],\n",
       "       [ 3, -7,  1,  4]], dtype=int32)"
      ]
     },
     "execution_count": 75,
     "metadata": {},
     "output_type": "execute_result"
    }
   ],
   "source": [
    "A-A[0]"
   ]
  },
  {
   "cell_type": "markdown",
   "id": "6c5c6aa8-53ac-41a9-9cae-2381861c589a",
   "metadata": {},
   "source": [
    "根据 NumPy 的广播规则（详情请参见 2.5 节），让二维数组减自身的\n",
    "一行数据会按行计算。"
   ]
  },
  {
   "cell_type": "markdown",
   "id": "a5dc8ae3-2827-4ebc-96f8-747d465bf5d0",
   "metadata": {},
   "source": [
    "在 Pandas 里默认也是按行运算的："
   ]
  },
  {
   "cell_type": "code",
   "execution_count": 76,
   "id": "917302ec-8e46-4d6e-9afd-9d6fc0723e07",
   "metadata": {},
   "outputs": [
    {
     "data": {
      "text/html": [
       "<div>\n",
       "<style scoped>\n",
       "    .dataframe tbody tr th:only-of-type {\n",
       "        vertical-align: middle;\n",
       "    }\n",
       "\n",
       "    .dataframe tbody tr th {\n",
       "        vertical-align: top;\n",
       "    }\n",
       "\n",
       "    .dataframe thead th {\n",
       "        text-align: right;\n",
       "    }\n",
       "</style>\n",
       "<table border=\"1\" class=\"dataframe\">\n",
       "  <thead>\n",
       "    <tr style=\"text-align: right;\">\n",
       "      <th></th>\n",
       "      <th>Q</th>\n",
       "      <th>R</th>\n",
       "      <th>S</th>\n",
       "      <th>T</th>\n",
       "    </tr>\n",
       "  </thead>\n",
       "  <tbody>\n",
       "    <tr>\n",
       "      <th>0</th>\n",
       "      <td>0</td>\n",
       "      <td>0</td>\n",
       "      <td>0</td>\n",
       "      <td>0</td>\n",
       "    </tr>\n",
       "    <tr>\n",
       "      <th>1</th>\n",
       "      <td>-1</td>\n",
       "      <td>-2</td>\n",
       "      <td>2</td>\n",
       "      <td>4</td>\n",
       "    </tr>\n",
       "    <tr>\n",
       "      <th>2</th>\n",
       "      <td>3</td>\n",
       "      <td>-7</td>\n",
       "      <td>1</td>\n",
       "      <td>4</td>\n",
       "    </tr>\n",
       "  </tbody>\n",
       "</table>\n",
       "</div>"
      ],
      "text/plain": [
       "   Q  R  S  T\n",
       "0  0  0  0  0\n",
       "1 -1 -2  2  4\n",
       "2  3 -7  1  4"
      ]
     },
     "execution_count": 76,
     "metadata": {},
     "output_type": "execute_result"
    }
   ],
   "source": [
    "df = pd.DataFrame(A,columns=list('QRST'))\n",
    "df - df.iloc[0] #这里用的是隐式索引"
   ]
  },
  {
   "cell_type": "markdown",
   "id": "9b414de3-ed65-43f0-9e1b-dc3a4e16ce52",
   "metadata": {},
   "source": [
    "如果你想按列计算，那么就需要利用前面介绍过的运算符方法，通过\n",
    "axis 参数设置："
   ]
  },
  {
   "cell_type": "code",
   "execution_count": 78,
   "id": "16df889a-f67d-4a0e-9ee4-52c9e9e60f33",
   "metadata": {},
   "outputs": [
    {
     "data": {
      "text/html": [
       "<div>\n",
       "<style scoped>\n",
       "    .dataframe tbody tr th:only-of-type {\n",
       "        vertical-align: middle;\n",
       "    }\n",
       "\n",
       "    .dataframe tbody tr th {\n",
       "        vertical-align: top;\n",
       "    }\n",
       "\n",
       "    .dataframe thead th {\n",
       "        text-align: right;\n",
       "    }\n",
       "</style>\n",
       "<table border=\"1\" class=\"dataframe\">\n",
       "  <thead>\n",
       "    <tr style=\"text-align: right;\">\n",
       "      <th></th>\n",
       "      <th>Q</th>\n",
       "      <th>R</th>\n",
       "      <th>S</th>\n",
       "      <th>T</th>\n",
       "    </tr>\n",
       "  </thead>\n",
       "  <tbody>\n",
       "    <tr>\n",
       "      <th>0</th>\n",
       "      <td>-5</td>\n",
       "      <td>0</td>\n",
       "      <td>-6</td>\n",
       "      <td>-4</td>\n",
       "    </tr>\n",
       "    <tr>\n",
       "      <th>1</th>\n",
       "      <td>-4</td>\n",
       "      <td>0</td>\n",
       "      <td>-2</td>\n",
       "      <td>2</td>\n",
       "    </tr>\n",
       "    <tr>\n",
       "      <th>2</th>\n",
       "      <td>5</td>\n",
       "      <td>0</td>\n",
       "      <td>2</td>\n",
       "      <td>7</td>\n",
       "    </tr>\n",
       "  </tbody>\n",
       "</table>\n",
       "</div>"
      ],
      "text/plain": [
       "   Q  R  S  T\n",
       "0 -5  0 -6 -4\n",
       "1 -4  0 -2  2\n",
       "2  5  0  2  7"
      ]
     },
     "execution_count": 78,
     "metadata": {},
     "output_type": "execute_result"
    }
   ],
   "source": [
    "df.subtract(df['R'],axis=0)"
   ]
  },
  {
   "cell_type": "markdown",
   "id": "2f7b8029-58b8-4993-8801-0c6c592f869e",
   "metadata": {},
   "source": [
    "你会发现 DataFrame / Series 的运算与前面介绍的运算一样，结果的\n",
    "索引都会自动对齐："
   ]
  },
  {
   "cell_type": "code",
   "execution_count": 79,
   "id": "379a3ee2-be62-4e8c-a302-c911aec850ca",
   "metadata": {},
   "outputs": [],
   "source": [
    "halfrow = df.iloc[0,::2] #利用掩码操作,取得第0行数据,列数据指定步长为2"
   ]
  },
  {
   "cell_type": "code",
   "execution_count": 80,
   "id": "71f7159f-2604-4694-8c7d-a0da1c2fa1cb",
   "metadata": {},
   "outputs": [
    {
     "data": {
      "text/plain": [
       "Q    3\n",
       "S    2\n",
       "Name: 0, dtype: int32"
      ]
     },
     "execution_count": 80,
     "metadata": {},
     "output_type": "execute_result"
    }
   ],
   "source": [
    "halfrow"
   ]
  },
  {
   "cell_type": "markdown",
   "id": "49c10329-0e38-4288-8629-30ed84c2a293",
   "metadata": {},
   "source": [
    "<img src='../imgs/pic2.png'>"
   ]
  },
  {
   "cell_type": "code",
   "execution_count": 82,
   "id": "4f99d62e-d0ac-4aa6-a432-c4b77709fbda",
   "metadata": {},
   "outputs": [
    {
     "data": {
      "text/html": [
       "<div>\n",
       "<style scoped>\n",
       "    .dataframe tbody tr th:only-of-type {\n",
       "        vertical-align: middle;\n",
       "    }\n",
       "\n",
       "    .dataframe tbody tr th {\n",
       "        vertical-align: top;\n",
       "    }\n",
       "\n",
       "    .dataframe thead th {\n",
       "        text-align: right;\n",
       "    }\n",
       "</style>\n",
       "<table border=\"1\" class=\"dataframe\">\n",
       "  <thead>\n",
       "    <tr style=\"text-align: right;\">\n",
       "      <th></th>\n",
       "      <th>Q</th>\n",
       "      <th>R</th>\n",
       "      <th>S</th>\n",
       "      <th>T</th>\n",
       "    </tr>\n",
       "  </thead>\n",
       "  <tbody>\n",
       "    <tr>\n",
       "      <th>0</th>\n",
       "      <td>3</td>\n",
       "      <td>8</td>\n",
       "      <td>2</td>\n",
       "      <td>4</td>\n",
       "    </tr>\n",
       "    <tr>\n",
       "      <th>1</th>\n",
       "      <td>2</td>\n",
       "      <td>6</td>\n",
       "      <td>4</td>\n",
       "      <td>8</td>\n",
       "    </tr>\n",
       "    <tr>\n",
       "      <th>2</th>\n",
       "      <td>6</td>\n",
       "      <td>1</td>\n",
       "      <td>3</td>\n",
       "      <td>8</td>\n",
       "    </tr>\n",
       "  </tbody>\n",
       "</table>\n",
       "</div>"
      ],
      "text/plain": [
       "   Q  R  S  T\n",
       "0  3  8  2  4\n",
       "1  2  6  4  8\n",
       "2  6  1  3  8"
      ]
     },
     "execution_count": 82,
     "metadata": {},
     "output_type": "execute_result"
    }
   ],
   "source": [
    "df "
   ]
  },
  {
   "cell_type": "code",
   "execution_count": 83,
   "id": "18b042e9-5a8f-4a37-bc0c-3cac7447be2b",
   "metadata": {},
   "outputs": [
    {
     "data": {
      "text/html": [
       "<div>\n",
       "<style scoped>\n",
       "    .dataframe tbody tr th:only-of-type {\n",
       "        vertical-align: middle;\n",
       "    }\n",
       "\n",
       "    .dataframe tbody tr th {\n",
       "        vertical-align: top;\n",
       "    }\n",
       "\n",
       "    .dataframe thead th {\n",
       "        text-align: right;\n",
       "    }\n",
       "</style>\n",
       "<table border=\"1\" class=\"dataframe\">\n",
       "  <thead>\n",
       "    <tr style=\"text-align: right;\">\n",
       "      <th></th>\n",
       "      <th>Q</th>\n",
       "      <th>R</th>\n",
       "      <th>S</th>\n",
       "      <th>T</th>\n",
       "    </tr>\n",
       "  </thead>\n",
       "  <tbody>\n",
       "    <tr>\n",
       "      <th>0</th>\n",
       "      <td>0.0</td>\n",
       "      <td>NaN</td>\n",
       "      <td>0.0</td>\n",
       "      <td>NaN</td>\n",
       "    </tr>\n",
       "    <tr>\n",
       "      <th>1</th>\n",
       "      <td>-1.0</td>\n",
       "      <td>NaN</td>\n",
       "      <td>2.0</td>\n",
       "      <td>NaN</td>\n",
       "    </tr>\n",
       "    <tr>\n",
       "      <th>2</th>\n",
       "      <td>3.0</td>\n",
       "      <td>NaN</td>\n",
       "      <td>1.0</td>\n",
       "      <td>NaN</td>\n",
       "    </tr>\n",
       "  </tbody>\n",
       "</table>\n",
       "</div>"
      ],
      "text/plain": [
       "     Q   R    S   T\n",
       "0  0.0 NaN  0.0 NaN\n",
       "1 -1.0 NaN  2.0 NaN\n",
       "2  3.0 NaN  1.0 NaN"
      ]
     },
     "execution_count": 83,
     "metadata": {},
     "output_type": "execute_result"
    }
   ],
   "source": [
    "df - halfrow"
   ]
  },
  {
   "cell_type": "markdown",
   "id": "7909ee26-0327-43b3-95a8-4ed103a3be79",
   "metadata": {},
   "source": [
    "这些行列索引的保留与对齐方法说明 Pandas 在运算时会一直保存这些\n",
    "数据内容，从而避免在处理数据类型有差异和 / 或维度不一致的 NumPy\n",
    "数组时可能遇到的问题。"
   ]
  },
  {
   "cell_type": "markdown",
   "id": "e74638f9-16dc-4c15-b3bf-8fb1ede2300c",
   "metadata": {},
   "source": [
    "# 3.5 处理缺失值"
   ]
  },
  {
   "cell_type": "markdown",
   "id": "629fcb11-6b04-46cf-affd-8f64d66ccc26",
   "metadata": {},
   "source": [
    "大多数教程里使用的数据与现实工作中的数据的区别在于后者很少是干\n",
    "净整齐的，许多目前流行的数据集都会有数据缺失的现象。更为甚者，\n",
    "处理不同数据源缺失值的方法还不同。   \n",
    "我们将在本节介绍一些处理缺失值的通用规则，Pandas 对缺失值的表现\n",
    "形式，并演示 Pandas 自带的几个处理缺失值的工具的用法。本节以及\n",
    "全书涉及的缺失值主要有三种形式：null、NaN 或 NA。"
   ]
  },
  {
   "cell_type": "markdown",
   "id": "385d3e35-ff88-4b63-aac8-da12092bee29",
   "metadata": {},
   "source": [
    "## 3.5.1 选择处理缺失值的方法"
   ]
  },
  {
   "cell_type": "markdown",
   "id": "f9422a0a-f358-4989-8007-b7aa5e17ac79",
   "metadata": {},
   "source": [
    "在数据表或 DataFrame 中有很多识别缺失值的方法。一般情况下可以\n",
    "分为两种：一种方法是通过一个覆盖全局的掩码表示缺失值，另一种方\n",
    "法是用一个标签值（sentinel value）表示缺失值。  \n",
    "在掩码方法中，掩码可能是一个与原数组维度相同的完整布尔类型数\n",
    "组，也可能是用一个比特（0 或 1）表示有缺失值的局部状态。  \n",
    "在标签方法中，标签值可能是具体的数据（例如用 -9999 表示缺失的整\n",
    "数），也可能是些极少出现的形式。另外，标签值还可能是更全局的\n",
    "值，比如用 NaN（不是一个数）表示缺失的浮点数，它是 IEEE 浮点数\n",
    "规范中指定的特殊字符。    \n",
    "使用这两种方法之前都需要先综合考量：使用单独的掩码数组会额外出\n",
    "现一个布尔类型数组，从而增加存储与计算的负担；而标签值方法缩小\n",
    "了可以被表示为有效值的范围，可能需要在 CPU 或 GPU 算术逻辑单元\n",
    "中增加额外的（往往也不是最优的）计算逻辑。通常使用的 NaN 也不能\n",
    "表示所有数据类型。  \n",
    "大多数情况下，都不存在最佳选择，不同的编程语言与系统使用不同的\n",
    "方法。例如，R 语言在每种数据类型中保留一个比特作为缺失数据的标\n",
    "签值，而 SciDB 系统会在每个单元后面加一个额外的字节表示 NA 状\n",
    "态。  "
   ]
  },
  {
   "cell_type": "markdown",
   "id": "ecd2fcbb-593a-42dd-a5b3-e3e9290275a8",
   "metadata": {},
   "source": [
    "## 3.5.2 Pandas的缺失值"
   ]
  },
  {
   "cell_type": "markdown",
   "id": "fa25a501-a8cc-498a-85f5-e1863ec7b37f",
   "metadata": {},
   "source": [
    "Pandas 里处理缺失值的方式延续了 NumPy 程序包的方式，并没有为浮\n",
    "点数据类型提供内置的 NA 作为缺失值。  \n",
    "Pandas 原本也可以按照 R 语言采用的比特模式为每一种数据类型标注\n",
    "缺失值，但是这种方法非常笨拙。R 语言包含 4 种基本数据类型，而\n",
    "NumPy 支持的类型远超 4 种。例如，R 语言只有一种整数类型，而\n",
    "NumPy 支持 14 种基本的整数类型，可以根据精度、符号、编码类型按\n",
    "需选择。如果要为 NumPy 的每种数据类型都设置一个比特标注缺失\n",
    "值，可能需要为不同类型的不同操作耗费大量的时间与精力，其工作量\n",
    "几乎相当于创建一个新的 NumPy 程序包。另外，对于一些较小的数据\n",
    "类型（例如 8 位整型数据），牺牲一个比特作为缺失值标注的掩码还会\n",
    "导致其数据范围缩小。  \n",
    "当然，NumPy 也是支持掩码数据的，也就是说可以用一个布尔掩码数\n",
    "组为原数组标注“无缺失值”或“有缺失值”。Pandas 也集成了这个功能，\n",
    "但是在存储、计算和编码维护方面都需要耗费不必要的资源，因此这种\n",
    "方式并不可取。  \n",
    "综合考虑各种方法的优缺点，Pandas 最终选择用标签方法表示缺失值，\n",
    "包括两种 Python 原有的缺失值：浮点数据类型的 NaN 值，以及 Python\n",
    "的 None 对象。后面我们将会发现，虽然这么做也会有一些副作用，但\n",
    "是在实际运用中的效果还是不错的。  "
   ]
  },
  {
   "cell_type": "markdown",
   "id": "710314d2-d019-4928-ac16-d58ab40e7492",
   "metadata": {},
   "source": [
    "01. None：Python对象类型的缺失值"
   ]
  },
  {
   "cell_type": "markdown",
   "id": "c60e1f6b-1e71-4a04-90d9-97d2edc92695",
   "metadata": {},
   "source": [
    "Pandas 可以使用的第一种缺失值标签是 None，它是一个 Python 单\n",
    "体对象，经常在代码中表示缺失值。由于 None 是一个 Python 对\n",
    "象，所以不能作为任何 NumPy / Pandas 数组类型的缺失值，只能用\n",
    "于 'object' 数组类型（即由 Python 对象构成的数组）："
   ]
  },
  {
   "cell_type": "code",
   "execution_count": 85,
   "id": "70fb8f17-a71e-4a60-8ffc-b24504f97a26",
   "metadata": {},
   "outputs": [],
   "source": [
    "vals1 = np.array([1,None,3,4])"
   ]
  },
  {
   "cell_type": "code",
   "execution_count": 86,
   "id": "032a020d-68d1-4c95-bf4b-de40a537b9eb",
   "metadata": {},
   "outputs": [
    {
     "data": {
      "text/plain": [
       "array([1, None, 3, 4], dtype=object)"
      ]
     },
     "execution_count": 86,
     "metadata": {},
     "output_type": "execute_result"
    }
   ],
   "source": [
    "vals1"
   ]
  },
  {
   "cell_type": "markdown",
   "id": "06b285a5-9de5-46df-8cd3-40f7a92b086d",
   "metadata": {},
   "source": [
    "这里 dtype=object 表示 NumPy 认为由于这个数组是 Python 对象\n",
    "构成的，因此将其类型判断为 object。虽然这种类型在某些情景\n",
    "中非常有用，对数据的任何操作最终都会在 Python 层面完成，但\n",
    "是在进行常见的快速操作时，这种类型比其他原生类型数组要消耗\n",
    "更多的资源：\n"
   ]
  },
  {
   "cell_type": "code",
   "execution_count": 87,
   "id": "3a6b6b2b-7687-40dc-838d-7440553d7774",
   "metadata": {},
   "outputs": [
    {
     "name": "stdout",
     "output_type": "stream",
     "text": [
      "dtype=object\n",
      "61.5 ms ± 1.34 ms per loop (mean ± std. dev. of 7 runs, 10 loops each)\n",
      "\n",
      "dtype=int\n",
      "2.79 ms ± 43.2 µs per loop (mean ± std. dev. of 7 runs, 100 loops each)\n",
      "\n"
     ]
    }
   ],
   "source": [
    "for dtype in ['object','int']:\n",
    "    print(f'dtype={dtype}')\n",
    "    %timeit np.arange(1E6,dtype=dtype).sum()\n",
    "    print()\n"
   ]
  },
  {
   "cell_type": "markdown",
   "id": "defbabff-d161-4fa8-a6bf-ddd8e3f85af1",
   "metadata": {},
   "source": [
    "使用 Python 对象构成的数组就意味着如果你对一个包含 None 的数\n",
    "组进行累计操作，如 sum() 或者 min()，那么通常会出现类型错\n",
    "误："
   ]
  },
  {
   "cell_type": "code",
   "execution_count": 88,
   "id": "75b431f7-81ac-4977-93d5-94d10fcb140d",
   "metadata": {},
   "outputs": [
    {
     "name": "stdout",
     "output_type": "stream",
     "text": [
      "unsupported operand type(s) for +: 'int' and 'NoneType'\n"
     ]
    }
   ],
   "source": [
    "try:\n",
    "    vals1.sum()\n",
    "except BaseException as e:\n",
    "    print(e)"
   ]
  },
  {
   "cell_type": "markdown",
   "id": "83cbe335-a10f-4c02-947b-cfa7f4ed1c7e",
   "metadata": {},
   "source": [
    "这就是说，在 Python 中没有定义整数与 None 之间的加法运算。"
   ]
  },
  {
   "cell_type": "markdown",
   "id": "2893648d-32fd-41a4-b1e6-eab1e211c5f0",
   "metadata": {},
   "source": [
    "02. NaN：数值类型的缺失值"
   ]
  },
  {
   "cell_type": "markdown",
   "id": "c4688405-7d4e-429e-af41-c87329684718",
   "metadata": {},
   "source": [
    "另一种缺失值的标签是 NaN（全称 Not a Number，不是一个数\n",
    "字），是一种按照 IEEE 浮点数标准设计、在任何系统中都兼容的\n",
    "特殊浮点数：\n"
   ]
  },
  {
   "cell_type": "code",
   "execution_count": 89,
   "id": "40639787-ffab-4974-9228-64f3ab9f00ec",
   "metadata": {},
   "outputs": [
    {
     "data": {
      "text/plain": [
       "dtype('float64')"
      ]
     },
     "execution_count": 89,
     "metadata": {},
     "output_type": "execute_result"
    }
   ],
   "source": [
    "vals2 = np.array([1,np.nan,3,4])\n",
    "vals2.dtype"
   ]
  },
  {
   "cell_type": "markdown",
   "id": "348860d4-29d4-4bf0-8cba-93ebd4dc49e1",
   "metadata": {},
   "source": [
    "请注意，NumPy 会为这个数组选择一个原生浮点类型，这意味着\n",
    "和之前的 object 类型数组不同，这个数组会被编译成 C 代码从而\n",
    "实现快速操作。你可以把 NaN 看作是一个数据类病毒——它会将与\n",
    "它接触过的数据同化。无论和 NaN 进行何种操作，最终结果都是\n",
    "NaN："
   ]
  },
  {
   "cell_type": "code",
   "execution_count": 90,
   "id": "2ecb2b71-6b1f-4447-b5d7-fc8d93fd3602",
   "metadata": {},
   "outputs": [
    {
     "data": {
      "text/plain": [
       "nan"
      ]
     },
     "execution_count": 90,
     "metadata": {},
     "output_type": "execute_result"
    }
   ],
   "source": [
    "1 + np.nan"
   ]
  },
  {
   "cell_type": "code",
   "execution_count": 91,
   "id": "9f97f089-aa06-41af-a4a2-5e7e4bc4a9e0",
   "metadata": {},
   "outputs": [
    {
     "data": {
      "text/plain": [
       "nan"
      ]
     },
     "execution_count": 91,
     "metadata": {},
     "output_type": "execute_result"
    }
   ],
   "source": [
    "0 * np.nan"
   ]
  },
  {
   "cell_type": "markdown",
   "id": "8903682e-92ab-40e3-b311-52feeb4205a5",
   "metadata": {},
   "source": [
    "虽然这些累计操作的结果定义是合理的（即不会抛出异常），但是\n",
    "并非总是有效的：\n"
   ]
  },
  {
   "cell_type": "code",
   "execution_count": 92,
   "id": "654a7bbc-8b21-4475-addf-cdf61e73f683",
   "metadata": {},
   "outputs": [
    {
     "data": {
      "text/plain": [
       "(np.float64(nan), np.float64(nan), np.float64(nan))"
      ]
     },
     "execution_count": 92,
     "metadata": {},
     "output_type": "execute_result"
    }
   ],
   "source": [
    "vals2.sum(),vals2.min(),vals2.max()"
   ]
  },
  {
   "cell_type": "markdown",
   "id": "dda9fbba-9691-4c08-92f2-1bb3f2fc63bc",
   "metadata": {},
   "source": [
    "NumPy 也提供了一些<span id='imp'>特殊的累计函数，它们可以忽略缺失值的影响：</span>"
   ]
  },
  {
   "cell_type": "code",
   "execution_count": 93,
   "id": "f192f890-d8e0-4010-8e64-8a53c89291c1",
   "metadata": {},
   "outputs": [
    {
     "data": {
      "text/plain": [
       "(np.float64(8.0), np.float64(1.0), np.float64(4.0))"
      ]
     },
     "execution_count": 93,
     "metadata": {},
     "output_type": "execute_result"
    }
   ],
   "source": [
    "np.nansum(vals2),np.nanmin(vals2),np.nanmax(vals2)"
   ]
  },
  {
   "cell_type": "markdown",
   "id": "5e482e67-7445-4c2b-a547-61e637eba66d",
   "metadata": {},
   "source": [
    "谨记，NaN 是一种特殊的浮点数，不是整数、字符串以及其他数据\n",
    "类型。"
   ]
  },
  {
   "cell_type": "markdown",
   "id": "e8ae661e-8ed5-47eb-b1ee-5190b3f4e5dc",
   "metadata": {},
   "source": [
    "03. Pandas中NaN与None的差异"
   ]
  },
  {
   "cell_type": "markdown",
   "id": "610e1b92-a22b-42fe-9914-af14d5615e90",
   "metadata": {},
   "source": [
    "虽然 NaN 与 None 各有各的用处，但是 Pandas 把它们看成是可以等\n",
    "价交换的，在适当的时候会将两者进行替换："
   ]
  },
  {
   "cell_type": "code",
   "execution_count": 94,
   "id": "55fee32e-f0e5-4980-8df4-edac2cdf6dea",
   "metadata": {},
   "outputs": [
    {
     "data": {
      "text/plain": [
       "0    1.0\n",
       "1    NaN\n",
       "2    2.0\n",
       "3    NaN\n",
       "dtype: float64"
      ]
     },
     "execution_count": 94,
     "metadata": {},
     "output_type": "execute_result"
    }
   ],
   "source": [
    "pd.Series([1,np.nan,2,None])"
   ]
  },
  {
   "cell_type": "markdown",
   "id": "2b210a43-0e92-4c3a-b935-3aad591592b6",
   "metadata": {},
   "source": [
    "Pandas 会将没有标签值的数据类型自动转换为 NA。例如，当我们\n",
    "将整型数组中的一个值设置为 np.nan 时，这个值就会强制转换成\n",
    "浮点数缺失值 NA。\n"
   ]
  },
  {
   "cell_type": "code",
   "execution_count": 95,
   "id": "c8ca0a5b-3597-4144-8e8e-588d85f74fc1",
   "metadata": {},
   "outputs": [
    {
     "data": {
      "text/plain": [
       "0    0\n",
       "1    1\n",
       "dtype: int64"
      ]
     },
     "execution_count": 95,
     "metadata": {},
     "output_type": "execute_result"
    }
   ],
   "source": [
    "x = pd.Series(range(2),dtype=int)\n",
    "x"
   ]
  },
  {
   "cell_type": "code",
   "execution_count": 96,
   "id": "3d12676b-9b21-46ef-aaa7-5c78968cb19e",
   "metadata": {},
   "outputs": [],
   "source": [
    "x[0] = None"
   ]
  },
  {
   "cell_type": "code",
   "execution_count": 97,
   "id": "5db07378-0bbf-429d-a4b1-1f730187214f",
   "metadata": {},
   "outputs": [
    {
     "data": {
      "text/plain": [
       "0    NaN\n",
       "1    1.0\n",
       "dtype: float64"
      ]
     },
     "execution_count": 97,
     "metadata": {},
     "output_type": "execute_result"
    }
   ],
   "source": [
    "x"
   ]
  },
  {
   "cell_type": "markdown",
   "id": "b9f9c4b8-50af-4b13-bd37-dc1b82bba818",
   "metadata": {},
   "source": [
    "请注意，除了将整型数组的缺失值强制转换为浮点数，Pandas 还会\n",
    "自动将 None 转换为 NaN。（需要注意的是，现在 GitHub 上 Pandas\n",
    "项目中已经有人提议增加一个原生的整型 NA，不过到编写本书时\n",
    "还尚未实现。）"
   ]
  },
  {
   "cell_type": "markdown",
   "id": "966aa476-3387-417d-a177-c85e69ccef32",
   "metadata": {},
   "source": [
    "尽管这些仿佛会魔法的类型比 R 语言等专用统计语言的缺失值要复\n",
    "杂一些，但是 Pandas 的标签 / 转换方法在实践中的效果非常好，在\n",
    "我个人的使用过程中几乎没有出过问题。\n"
   ]
  },
  {
   "cell_type": "markdown",
   "id": "7640db1d-b3cb-4829-8254-2eb995d0acf8",
   "metadata": {},
   "source": [
    "Pandas 对 NA 缺失值进行强制转换的规则如表 3-2 所示。"
   ]
  },
  {
   "cell_type": "markdown",
   "id": "20b65c76-4d7d-4711-959d-80731152c6e1",
   "metadata": {},
   "source": [
    "<table>\n",
    "    <tr>\n",
    "        <th>类型</th>\n",
    "        <th>缺失值转换规则</th>\n",
    "        <th>NA标签</th>\n",
    "    </tr>\n",
    "    <tr>\n",
    "        <td>floating 浮点型 </td>\n",
    "        <td>无变化</td>\n",
    "        <td>np.nan</td>\n",
    "    </tr>\n",
    "    <tr>\n",
    "        <td>object 对象类型</td>\n",
    "        <td>无变化</td>\n",
    "        <td>None或np.nan</td>\n",
    "    </tr>\n",
    "    <tr>\n",
    "        <td>integer 整数类型</td>\n",
    "        <td>强制转换为 float64</td>\n",
    "        <td>np.nan</td>\n",
    "    </tr>\n",
    "    <tr>\n",
    "        <td>boolean 布尔类型</td>\n",
    "        <td>强制转换为 object</td>\n",
    "        <td>None或np.nan</td>\n",
    "    </tr>\n",
    "</table>"
   ]
  },
  {
   "cell_type": "markdown",
   "id": "850c0f28-317b-4e2d-b06c-41e862de683b",
   "metadata": {},
   "source": [
    "需要注意的是，Pandas 中字符串类型的数据通常是用 object 类型\n",
    "存储的。"
   ]
  },
  {
   "cell_type": "markdown",
   "id": "d76cae21-14e9-45fc-a439-c63292ddd92b",
   "metadata": {},
   "source": [
    "## 3.5.3 处理缺失值"
   ]
  },
  {
   "cell_type": "markdown",
   "id": "b607a5f4-09bc-4689-a450-8d7423a5d33c",
   "metadata": {},
   "source": [
    "我们已经知道，Pandas 基本上把 None 和 NaN 看成是可以等价交换的缺\n",
    "失值形式。为了完成这种交换过程，Pandas 提供了一些方法来发现、剔\n",
    "除、替换数据结构中的缺失值，主要包括以下几种。"
   ]
  },
  {
   "cell_type": "markdown",
   "id": "c19297ce-e4a4-4820-a353-c6d096a71430",
   "metadata": {},
   "source": [
    "isnull()  \n",
    "创建一个布尔类型的掩码标签缺失值。  \n",
    "notnull()  \n",
    "与 isnull() 操作相反。  \n",
    "dropna()  \n",
    "返回一个剔除缺失值的数据。  \n",
    "fillna()  \n",
    "返回一个填充了缺失值的数据副本。  \n",
    "本节将用简单的示例演示这些方法。  \n"
   ]
  },
  {
   "cell_type": "markdown",
   "id": "a92dc334-2c92-4b2e-8d48-ea02008fce19",
   "metadata": {},
   "source": [
    "01. 发现缺失值"
   ]
  },
  {
   "cell_type": "markdown",
   "id": "0dabf7aa-490f-4bb0-8a27-269fdba41a0e",
   "metadata": {},
   "source": [
    "Pandas 数据结构有两种有效的方法可以发现缺失值：isnull() 和\n",
    "notnull()。每种方法都返回布尔类型的掩码数据，例如："
   ]
  },
  {
   "cell_type": "code",
   "execution_count": 98,
   "id": "36cc850e-e910-4579-af3a-d4e9eaff8db3",
   "metadata": {},
   "outputs": [],
   "source": [
    "data = pd.Series([1,np.nan,'hello',None])"
   ]
  },
  {
   "cell_type": "code",
   "execution_count": 99,
   "id": "d45f736b-638f-453b-a797-61847d64fd82",
   "metadata": {},
   "outputs": [
    {
     "data": {
      "text/plain": [
       "0    False\n",
       "1     True\n",
       "2    False\n",
       "3     True\n",
       "dtype: bool"
      ]
     },
     "execution_count": 99,
     "metadata": {},
     "output_type": "execute_result"
    }
   ],
   "source": [
    "data.isnull()"
   ]
  },
  {
   "cell_type": "markdown",
   "id": "08f6d9c0-a2c2-470c-9c82-dc8c63e6b083",
   "metadata": {},
   "source": [
    "就像在 3.3 节中介绍的，布尔类型掩码数组可以直接作为 Series\n",
    "或 DataFrame 的索引使用："
   ]
  },
  {
   "cell_type": "code",
   "execution_count": 100,
   "id": "9e98149b-bf20-4571-a41e-6371912a8dcd",
   "metadata": {},
   "outputs": [
    {
     "data": {
      "text/plain": [
       "0        1\n",
       "2    hello\n",
       "dtype: object"
      ]
     },
     "execution_count": 100,
     "metadata": {},
     "output_type": "execute_result"
    }
   ],
   "source": [
    "data[data.notnull()]"
   ]
  },
  {
   "cell_type": "markdown",
   "id": "9ad39746-84a7-45fa-b6ba-db7a03834385",
   "metadata": {},
   "source": [
    "可以看到上面的返回结果中,只有索引位置0和索引位置2的数据不为空"
   ]
  },
  {
   "cell_type": "markdown",
   "id": "c17f233a-353b-445e-a82f-99700ea0d8b1",
   "metadata": {},
   "source": [
    "在 Series 里使用的 isnull() 和 notnull() 同样适用于\n",
    "DataFrame，产生的结果同样是布尔类型。"
   ]
  },
  {
   "cell_type": "markdown",
   "id": "ea8f65e7-f4c3-4c37-bc16-604088be1a1d",
   "metadata": {},
   "source": [
    "02. 剔除缺失值"
   ]
  },
  {
   "cell_type": "markdown",
   "id": "23bbe57c-a1b1-4b3e-a830-7d1f347e09bc",
   "metadata": {},
   "source": [
    "除了前面介绍的掩码方法，还有两种很好用的缺失值处理方法，分\n",
    "别是 dropna()（剔除缺失值）和 fillna()（填充缺失值）。在\n",
    "Series 上使用这些方法非常简单："
   ]
  },
  {
   "cell_type": "code",
   "execution_count": 101,
   "id": "6bc23875-f514-4dd5-97d0-2ddca0212aa9",
   "metadata": {},
   "outputs": [
    {
     "data": {
      "text/plain": [
       "0        1\n",
       "2    hello\n",
       "dtype: object"
      ]
     },
     "execution_count": 101,
     "metadata": {},
     "output_type": "execute_result"
    }
   ],
   "source": [
    "data.dropna()"
   ]
  },
  {
   "cell_type": "markdown",
   "id": "0f4f1ff8-4a0f-423c-ac89-03d0232ac2d6",
   "metadata": {},
   "source": [
    "而在 DataFrame 上使用它们时需要设置一些参数，例如下面的\n",
    "DataFrame："
   ]
  },
  {
   "cell_type": "code",
   "execution_count": 105,
   "id": "448ad1d8-2f6e-42d5-a7d8-78a62240aa8c",
   "metadata": {},
   "outputs": [],
   "source": [
    "df = pd.DataFrame(\n",
    "    [[1, np.nan, 2],[2, 3, 5],[np.nan, 4, 6]])"
   ]
  },
  {
   "cell_type": "code",
   "execution_count": 106,
   "id": "200321dc-b6f7-4c72-980a-a91ce9453d11",
   "metadata": {},
   "outputs": [
    {
     "data": {
      "text/html": [
       "<div>\n",
       "<style scoped>\n",
       "    .dataframe tbody tr th:only-of-type {\n",
       "        vertical-align: middle;\n",
       "    }\n",
       "\n",
       "    .dataframe tbody tr th {\n",
       "        vertical-align: top;\n",
       "    }\n",
       "\n",
       "    .dataframe thead th {\n",
       "        text-align: right;\n",
       "    }\n",
       "</style>\n",
       "<table border=\"1\" class=\"dataframe\">\n",
       "  <thead>\n",
       "    <tr style=\"text-align: right;\">\n",
       "      <th></th>\n",
       "      <th>0</th>\n",
       "      <th>1</th>\n",
       "      <th>2</th>\n",
       "    </tr>\n",
       "  </thead>\n",
       "  <tbody>\n",
       "    <tr>\n",
       "      <th>0</th>\n",
       "      <td>1.0</td>\n",
       "      <td>NaN</td>\n",
       "      <td>2</td>\n",
       "    </tr>\n",
       "    <tr>\n",
       "      <th>1</th>\n",
       "      <td>2.0</td>\n",
       "      <td>3.0</td>\n",
       "      <td>5</td>\n",
       "    </tr>\n",
       "    <tr>\n",
       "      <th>2</th>\n",
       "      <td>NaN</td>\n",
       "      <td>4.0</td>\n",
       "      <td>6</td>\n",
       "    </tr>\n",
       "  </tbody>\n",
       "</table>\n",
       "</div>"
      ],
      "text/plain": [
       "     0    1  2\n",
       "0  1.0  NaN  2\n",
       "1  2.0  3.0  5\n",
       "2  NaN  4.0  6"
      ]
     },
     "execution_count": 106,
     "metadata": {},
     "output_type": "execute_result"
    }
   ],
   "source": [
    "df"
   ]
  },
  {
   "cell_type": "markdown",
   "id": "038579c0-1903-4bc7-916a-9e4bf62fa3ac",
   "metadata": {},
   "source": [
    "我们没法从 DataFrame 中单独剔除一个值，要么是剔除缺失值所\n",
    "在的整行，要么是整列。根据实际需求，有时你需要剔除整行，有\n",
    "时可能是整列，DataFrame 中的 dropna() 会有一些参数可以配\n",
    "置。   \n",
    "默认情况下，dropna() 会剔除任何包含缺失值的整行数据："
   ]
  },
  {
   "cell_type": "code",
   "execution_count": 107,
   "id": "f5707e94-6a3d-4a80-85e5-575468c4c653",
   "metadata": {},
   "outputs": [
    {
     "data": {
      "text/html": [
       "<div>\n",
       "<style scoped>\n",
       "    .dataframe tbody tr th:only-of-type {\n",
       "        vertical-align: middle;\n",
       "    }\n",
       "\n",
       "    .dataframe tbody tr th {\n",
       "        vertical-align: top;\n",
       "    }\n",
       "\n",
       "    .dataframe thead th {\n",
       "        text-align: right;\n",
       "    }\n",
       "</style>\n",
       "<table border=\"1\" class=\"dataframe\">\n",
       "  <thead>\n",
       "    <tr style=\"text-align: right;\">\n",
       "      <th></th>\n",
       "      <th>0</th>\n",
       "      <th>1</th>\n",
       "      <th>2</th>\n",
       "    </tr>\n",
       "  </thead>\n",
       "  <tbody>\n",
       "    <tr>\n",
       "      <th>1</th>\n",
       "      <td>2.0</td>\n",
       "      <td>3.0</td>\n",
       "      <td>5</td>\n",
       "    </tr>\n",
       "  </tbody>\n",
       "</table>\n",
       "</div>"
      ],
      "text/plain": [
       "     0    1  2\n",
       "1  2.0  3.0  5"
      ]
     },
     "execution_count": 107,
     "metadata": {},
     "output_type": "execute_result"
    }
   ],
   "source": [
    "df.dropna()"
   ]
  },
  {
   "cell_type": "markdown",
   "id": "35745002-6eb5-4773-8b13-66f7c4551a2f",
   "metadata": {},
   "source": [
    "可以设置按不同的坐标轴剔除缺失值，比如 axis=1（或\n",
    "axis='columns'）会剔除任何包含缺失值的整列数据："
   ]
  },
  {
   "cell_type": "code",
   "execution_count": 108,
   "id": "9bc255f5-c2d4-4c87-a6f5-6f8dc4cb92ec",
   "metadata": {},
   "outputs": [
    {
     "data": {
      "text/html": [
       "<div>\n",
       "<style scoped>\n",
       "    .dataframe tbody tr th:only-of-type {\n",
       "        vertical-align: middle;\n",
       "    }\n",
       "\n",
       "    .dataframe tbody tr th {\n",
       "        vertical-align: top;\n",
       "    }\n",
       "\n",
       "    .dataframe thead th {\n",
       "        text-align: right;\n",
       "    }\n",
       "</style>\n",
       "<table border=\"1\" class=\"dataframe\">\n",
       "  <thead>\n",
       "    <tr style=\"text-align: right;\">\n",
       "      <th></th>\n",
       "      <th>2</th>\n",
       "    </tr>\n",
       "  </thead>\n",
       "  <tbody>\n",
       "    <tr>\n",
       "      <th>0</th>\n",
       "      <td>2</td>\n",
       "    </tr>\n",
       "    <tr>\n",
       "      <th>1</th>\n",
       "      <td>5</td>\n",
       "    </tr>\n",
       "    <tr>\n",
       "      <th>2</th>\n",
       "      <td>6</td>\n",
       "    </tr>\n",
       "  </tbody>\n",
       "</table>\n",
       "</div>"
      ],
      "text/plain": [
       "   2\n",
       "0  2\n",
       "1  5\n",
       "2  6"
      ]
     },
     "execution_count": 108,
     "metadata": {},
     "output_type": "execute_result"
    }
   ],
   "source": [
    "df.dropna(axis='columns')"
   ]
  },
  {
   "cell_type": "markdown",
   "id": "056e32d0-9add-4887-9564-6c6fc226effe",
   "metadata": {},
   "source": [
    "但是这么做也会把非缺失值一并剔除，因为可能有时候只需要剔除\n",
    "全部是缺失值的行或列，或者绝大多数是缺失值的行或列。这些需\n",
    "求可以通过设置 how 或 thresh 参数来满足，它们可以设置剔除行\n",
    "或列缺失值的数量阈值。   \n",
    "默认设置是 how='any'，也就是说只要有缺失值就剔除整行或整列\n",
    "（通过 axis 设置坐标轴）。你还可以设置<span id='imp'> how='all'</span>，这样就只\n",
    "会剔除全部是缺失值的行或列了："
   ]
  },
  {
   "cell_type": "code",
   "execution_count": 109,
   "id": "b3fd8423-c38f-473e-ae4d-7bbdb17673c6",
   "metadata": {},
   "outputs": [
    {
     "data": {
      "text/html": [
       "<div>\n",
       "<style scoped>\n",
       "    .dataframe tbody tr th:only-of-type {\n",
       "        vertical-align: middle;\n",
       "    }\n",
       "\n",
       "    .dataframe tbody tr th {\n",
       "        vertical-align: top;\n",
       "    }\n",
       "\n",
       "    .dataframe thead th {\n",
       "        text-align: right;\n",
       "    }\n",
       "</style>\n",
       "<table border=\"1\" class=\"dataframe\">\n",
       "  <thead>\n",
       "    <tr style=\"text-align: right;\">\n",
       "      <th></th>\n",
       "      <th>0</th>\n",
       "      <th>1</th>\n",
       "      <th>2</th>\n",
       "      <th>3</th>\n",
       "    </tr>\n",
       "  </thead>\n",
       "  <tbody>\n",
       "    <tr>\n",
       "      <th>0</th>\n",
       "      <td>1.0</td>\n",
       "      <td>NaN</td>\n",
       "      <td>2</td>\n",
       "      <td>NaN</td>\n",
       "    </tr>\n",
       "    <tr>\n",
       "      <th>1</th>\n",
       "      <td>2.0</td>\n",
       "      <td>3.0</td>\n",
       "      <td>5</td>\n",
       "      <td>NaN</td>\n",
       "    </tr>\n",
       "    <tr>\n",
       "      <th>2</th>\n",
       "      <td>NaN</td>\n",
       "      <td>4.0</td>\n",
       "      <td>6</td>\n",
       "      <td>NaN</td>\n",
       "    </tr>\n",
       "  </tbody>\n",
       "</table>\n",
       "</div>"
      ],
      "text/plain": [
       "     0    1  2   3\n",
       "0  1.0  NaN  2 NaN\n",
       "1  2.0  3.0  5 NaN\n",
       "2  NaN  4.0  6 NaN"
      ]
     },
     "execution_count": 109,
     "metadata": {},
     "output_type": "execute_result"
    }
   ],
   "source": [
    "df[3] = np.nan\n",
    "df"
   ]
  },
  {
   "cell_type": "code",
   "execution_count": 110,
   "id": "b90bda3b-e282-44cb-b2cc-90300a9e51f7",
   "metadata": {},
   "outputs": [
    {
     "data": {
      "text/html": [
       "<div>\n",
       "<style scoped>\n",
       "    .dataframe tbody tr th:only-of-type {\n",
       "        vertical-align: middle;\n",
       "    }\n",
       "\n",
       "    .dataframe tbody tr th {\n",
       "        vertical-align: top;\n",
       "    }\n",
       "\n",
       "    .dataframe thead th {\n",
       "        text-align: right;\n",
       "    }\n",
       "</style>\n",
       "<table border=\"1\" class=\"dataframe\">\n",
       "  <thead>\n",
       "    <tr style=\"text-align: right;\">\n",
       "      <th></th>\n",
       "      <th>0</th>\n",
       "      <th>1</th>\n",
       "      <th>2</th>\n",
       "    </tr>\n",
       "  </thead>\n",
       "  <tbody>\n",
       "    <tr>\n",
       "      <th>0</th>\n",
       "      <td>1.0</td>\n",
       "      <td>NaN</td>\n",
       "      <td>2</td>\n",
       "    </tr>\n",
       "    <tr>\n",
       "      <th>1</th>\n",
       "      <td>2.0</td>\n",
       "      <td>3.0</td>\n",
       "      <td>5</td>\n",
       "    </tr>\n",
       "    <tr>\n",
       "      <th>2</th>\n",
       "      <td>NaN</td>\n",
       "      <td>4.0</td>\n",
       "      <td>6</td>\n",
       "    </tr>\n",
       "  </tbody>\n",
       "</table>\n",
       "</div>"
      ],
      "text/plain": [
       "     0    1  2\n",
       "0  1.0  NaN  2\n",
       "1  2.0  3.0  5\n",
       "2  NaN  4.0  6"
      ]
     },
     "execution_count": 110,
     "metadata": {},
     "output_type": "execute_result"
    }
   ],
   "source": [
    "df.dropna(axis='columns',how='all')"
   ]
  },
  {
   "cell_type": "markdown",
   "id": "8b19af90-1bc0-4a6a-bd43-33339bb613cd",
   "metadata": {},
   "source": [
    "还可以通过 thresh 参数设设置行或列中非缺失值的最小数量，从而\n",
    "实现更加个性化的配置：\n"
   ]
  },
  {
   "cell_type": "code",
   "execution_count": 111,
   "id": "a433697d-030e-4032-8bfd-243d121c87ea",
   "metadata": {},
   "outputs": [
    {
     "data": {
      "text/html": [
       "<div>\n",
       "<style scoped>\n",
       "    .dataframe tbody tr th:only-of-type {\n",
       "        vertical-align: middle;\n",
       "    }\n",
       "\n",
       "    .dataframe tbody tr th {\n",
       "        vertical-align: top;\n",
       "    }\n",
       "\n",
       "    .dataframe thead th {\n",
       "        text-align: right;\n",
       "    }\n",
       "</style>\n",
       "<table border=\"1\" class=\"dataframe\">\n",
       "  <thead>\n",
       "    <tr style=\"text-align: right;\">\n",
       "      <th></th>\n",
       "      <th>0</th>\n",
       "      <th>1</th>\n",
       "      <th>2</th>\n",
       "      <th>3</th>\n",
       "    </tr>\n",
       "  </thead>\n",
       "  <tbody>\n",
       "    <tr>\n",
       "      <th>1</th>\n",
       "      <td>2.0</td>\n",
       "      <td>3.0</td>\n",
       "      <td>5</td>\n",
       "      <td>NaN</td>\n",
       "    </tr>\n",
       "  </tbody>\n",
       "</table>\n",
       "</div>"
      ],
      "text/plain": [
       "     0    1  2   3\n",
       "1  2.0  3.0  5 NaN"
      ]
     },
     "execution_count": 111,
     "metadata": {},
     "output_type": "execute_result"
    }
   ],
   "source": [
    "df.dropna(axis='rows',thresh=3)"
   ]
  },
  {
   "cell_type": "markdown",
   "id": "9546993d-6112-4e4a-911a-ab1b03e4fdda",
   "metadata": {},
   "source": [
    "第 1 行与第 3 行被剔除了，因为它们只包含两个非缺失值。"
   ]
  },
  {
   "cell_type": "markdown",
   "id": "f4942af8-950c-4b65-8709-dded9f4d14ab",
   "metadata": {},
   "source": [
    "03. 填充缺失值"
   ]
  },
  {
   "cell_type": "markdown",
   "id": "cd0b3c64-eabd-439d-a724-a0e35931e823",
   "metadata": {},
   "source": [
    "有时候你可能并不想移除缺失值，而是想把它们替换成有效的数\n",
    "值。有效的值可能是像 0、1、2 那样单独的值，也可能是经过填充\n",
    "（imputation）或转换（interpolation）得到的。虽然你可以通过\n",
    "isnull() 方法建立掩码来填充缺失值，但是 Pandas 为此专门提供\n",
    "了一个 fillna() 方法，它将返回填充了缺失值后的数组副本。\n",
    "来用下面的 Series 演示："
   ]
  },
  {
   "cell_type": "code",
   "execution_count": 113,
   "id": "4b99b601-026a-49bb-ab6a-82a1a205f8b7",
   "metadata": {},
   "outputs": [
    {
     "data": {
      "text/plain": [
       "a    1.0\n",
       "b    NaN\n",
       "c    2.0\n",
       "d    NaN\n",
       "e    3.0\n",
       "dtype: float64"
      ]
     },
     "execution_count": 113,
     "metadata": {},
     "output_type": "execute_result"
    }
   ],
   "source": [
    "data = pd.Series([1,np.nan,2,None,3],index=list('abcde'))\n",
    "data"
   ]
  },
  {
   "cell_type": "markdown",
   "id": "e560c456-a390-4b48-a0a8-84dad84e20a6",
   "metadata": {},
   "source": [
    "我们将用一个单独的值来填充缺失值，例如用 0："
   ]
  },
  {
   "cell_type": "code",
   "execution_count": 114,
   "id": "ddb5cfd1-abeb-4809-9b52-eddec17f5125",
   "metadata": {},
   "outputs": [
    {
     "data": {
      "text/plain": [
       "a    1.0\n",
       "b    0.0\n",
       "c    2.0\n",
       "d    0.0\n",
       "e    3.0\n",
       "dtype: float64"
      ]
     },
     "execution_count": 114,
     "metadata": {},
     "output_type": "execute_result"
    }
   ],
   "source": [
    "data.fillna(0)"
   ]
  },
  {
   "cell_type": "markdown",
   "id": "2453af88-8b4d-48d9-b2fc-bfabd89eb4fd",
   "metadata": {},
   "source": [
    "可以用缺失值前面的有效值来从前往后填充（.fill()）："
   ]
  },
  {
   "cell_type": "code",
   "execution_count": 116,
   "id": "40065066-fc70-46ff-abbe-32ab1a1f14a8",
   "metadata": {},
   "outputs": [
    {
     "data": {
      "text/plain": [
       "a    1.0\n",
       "b    1.0\n",
       "c    2.0\n",
       "d    2.0\n",
       "e    3.0\n",
       "dtype: float64"
      ]
     },
     "execution_count": 116,
     "metadata": {},
     "output_type": "execute_result"
    }
   ],
   "source": [
    "# 从前往后填充\n",
    "data.ffill()"
   ]
  },
  {
   "cell_type": "markdown",
   "id": "b5c1e080-95cf-4ef8-8f2f-6dee6170061b",
   "metadata": {},
   "source": [
    "也可以用缺失值后面的有效值来从后往前填充(.bfill())"
   ]
  },
  {
   "cell_type": "code",
   "execution_count": 117,
   "id": "c482edaf-646d-4109-9bb8-18c5fa0cc910",
   "metadata": {},
   "outputs": [
    {
     "data": {
      "text/plain": [
       "a    1.0\n",
       "b    2.0\n",
       "c    2.0\n",
       "d    3.0\n",
       "e    3.0\n",
       "dtype: float64"
      ]
     },
     "execution_count": 117,
     "metadata": {},
     "output_type": "execute_result"
    }
   ],
   "source": [
    "# 从后往前填充\n",
    "data.bfill()"
   ]
  },
  {
   "cell_type": "markdown",
   "id": "ec9896e1-7a28-4dae-ba51-fddfa16957e8",
   "metadata": {},
   "source": [
    "DataFrame 的操作方法与 Series 类似，只是在填充时需要设置坐\n",
    "标轴参数 axis："
   ]
  },
  {
   "cell_type": "code",
   "execution_count": 119,
   "id": "ade12846-b110-4c9e-98ef-df0a99068180",
   "metadata": {},
   "outputs": [
    {
     "data": {
      "text/html": [
       "<div>\n",
       "<style scoped>\n",
       "    .dataframe tbody tr th:only-of-type {\n",
       "        vertical-align: middle;\n",
       "    }\n",
       "\n",
       "    .dataframe tbody tr th {\n",
       "        vertical-align: top;\n",
       "    }\n",
       "\n",
       "    .dataframe thead th {\n",
       "        text-align: right;\n",
       "    }\n",
       "</style>\n",
       "<table border=\"1\" class=\"dataframe\">\n",
       "  <thead>\n",
       "    <tr style=\"text-align: right;\">\n",
       "      <th></th>\n",
       "      <th>0</th>\n",
       "      <th>1</th>\n",
       "      <th>2</th>\n",
       "      <th>3</th>\n",
       "    </tr>\n",
       "  </thead>\n",
       "  <tbody>\n",
       "    <tr>\n",
       "      <th>0</th>\n",
       "      <td>1.0</td>\n",
       "      <td>NaN</td>\n",
       "      <td>2</td>\n",
       "      <td>NaN</td>\n",
       "    </tr>\n",
       "    <tr>\n",
       "      <th>1</th>\n",
       "      <td>2.0</td>\n",
       "      <td>3.0</td>\n",
       "      <td>5</td>\n",
       "      <td>NaN</td>\n",
       "    </tr>\n",
       "    <tr>\n",
       "      <th>2</th>\n",
       "      <td>NaN</td>\n",
       "      <td>4.0</td>\n",
       "      <td>6</td>\n",
       "      <td>NaN</td>\n",
       "    </tr>\n",
       "  </tbody>\n",
       "</table>\n",
       "</div>"
      ],
      "text/plain": [
       "     0    1  2   3\n",
       "0  1.0  NaN  2 NaN\n",
       "1  2.0  3.0  5 NaN\n",
       "2  NaN  4.0  6 NaN"
      ]
     },
     "execution_count": 119,
     "metadata": {},
     "output_type": "execute_result"
    }
   ],
   "source": [
    "df"
   ]
  },
  {
   "cell_type": "code",
   "execution_count": 120,
   "id": "749997bc-f84f-4ac5-89eb-61a43db41357",
   "metadata": {},
   "outputs": [
    {
     "data": {
      "text/html": [
       "<div>\n",
       "<style scoped>\n",
       "    .dataframe tbody tr th:only-of-type {\n",
       "        vertical-align: middle;\n",
       "    }\n",
       "\n",
       "    .dataframe tbody tr th {\n",
       "        vertical-align: top;\n",
       "    }\n",
       "\n",
       "    .dataframe thead th {\n",
       "        text-align: right;\n",
       "    }\n",
       "</style>\n",
       "<table border=\"1\" class=\"dataframe\">\n",
       "  <thead>\n",
       "    <tr style=\"text-align: right;\">\n",
       "      <th></th>\n",
       "      <th>0</th>\n",
       "      <th>1</th>\n",
       "      <th>2</th>\n",
       "      <th>3</th>\n",
       "    </tr>\n",
       "  </thead>\n",
       "  <tbody>\n",
       "    <tr>\n",
       "      <th>0</th>\n",
       "      <td>1.0</td>\n",
       "      <td>1.0</td>\n",
       "      <td>2.0</td>\n",
       "      <td>2.0</td>\n",
       "    </tr>\n",
       "    <tr>\n",
       "      <th>1</th>\n",
       "      <td>2.0</td>\n",
       "      <td>3.0</td>\n",
       "      <td>5.0</td>\n",
       "      <td>5.0</td>\n",
       "    </tr>\n",
       "    <tr>\n",
       "      <th>2</th>\n",
       "      <td>NaN</td>\n",
       "      <td>4.0</td>\n",
       "      <td>6.0</td>\n",
       "      <td>6.0</td>\n",
       "    </tr>\n",
       "  </tbody>\n",
       "</table>\n",
       "</div>"
      ],
      "text/plain": [
       "     0    1    2    3\n",
       "0  1.0  1.0  2.0  2.0\n",
       "1  2.0  3.0  5.0  5.0\n",
       "2  NaN  4.0  6.0  6.0"
      ]
     },
     "execution_count": 120,
     "metadata": {},
     "output_type": "execute_result"
    }
   ],
   "source": [
    "df.ffill(axis=1)"
   ]
  },
  {
   "cell_type": "markdown",
   "id": "cb2fa1be-f5e2-43a6-94e8-bc8e95100799",
   "metadata": {},
   "source": [
    "需要注意的是，假如在从前往后填充时，需要填充的缺失值前面没\n",
    "有值，那么它就仍然是缺失值。"
   ]
  },
  {
   "cell_type": "code",
   "execution_count": null,
   "id": "7c3bf3cc-753d-4aae-82c0-c3547b88963b",
   "metadata": {},
   "outputs": [],
   "source": []
  }
 ],
 "metadata": {
  "kernelspec": {
   "display_name": "Python 3 (ipykernel)",
   "language": "python",
   "name": "python3"
  },
  "language_info": {
   "codemirror_mode": {
    "name": "ipython",
    "version": 3
   },
   "file_extension": ".py",
   "mimetype": "text/x-python",
   "name": "python",
   "nbconvert_exporter": "python",
   "pygments_lexer": "ipython3",
   "version": "3.9.7"
  }
 },
 "nbformat": 4,
 "nbformat_minor": 5
}
