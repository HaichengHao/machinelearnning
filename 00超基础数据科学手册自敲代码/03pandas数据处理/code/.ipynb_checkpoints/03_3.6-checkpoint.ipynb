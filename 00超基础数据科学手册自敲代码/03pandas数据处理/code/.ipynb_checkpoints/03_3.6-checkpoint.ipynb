{
 "cells": [
  {
   "cell_type": "code",
   "execution_count": 1,
   "id": "45bb979a-8be6-4d09-b540-5e5dfd71bb8b",
   "metadata": {},
   "outputs": [
    {
     "data": {
      "text/html": [
       "<style type='text/css'>\n",
       "    *{\n",
       "        # background-color:#E3EDCD;\n",
       "        # background-color:black;\n",
       "        # color:white;\n",
       "        \n",
       "    }\n",
       "    h1{\n",
       "        color:#1976d2;\n",
       "    }\n",
       "    h2{\n",
       "        color:#f57c00;\n",
       "    }\n",
       "    h3{\n",
       "        color:#ba37ff;\n",
       "    }\n",
       "    h4{\n",
       "        color:green;\n",
       "    }\n",
       "    table{\n",
       "        border:1px solid black !important;\n",
       "        border-collapse:collapse !important;\n",
       "    }\n",
       "    th{\n",
       "        background-color:blueviolet !important;\n",
       "        text-align:center;\n",
       "        color:white;\n",
       "    }\n",
       "    th,td{\n",
       "        border:0.1px solid black !important;\n",
       "        transition:0.2s all liner;\n",
       "        \n",
       "    }\n",
       "    td:hover{\n",
       "        transform:scale(1.1);\n",
       "        background-color:orange;\n",
       "        color:blueviolet;\n",
       "    }\n",
       "    .raw{\n",
       "        white-space:pre;\n",
       "        color:green;\n",
       "    }\n",
       "    #imp{\n",
       "        color:red;\n",
       "    }\n",
       "    #ct{\n",
       "        text-align:center;\n",
       "    }\n",
       "    }\n",
       "</style>\n"
      ],
      "text/plain": [
       "<IPython.core.display.HTML object>"
      ]
     },
     "metadata": {},
     "output_type": "display_data"
    }
   ],
   "source": [
    "%%HTML\n",
    "<style type='text/css'>\n",
    "    *{\n",
    "        # background-color:#E3EDCD;\n",
    "        # background-color:black;\n",
    "        # color:white;\n",
    "        \n",
    "    }\n",
    "    h1{\n",
    "        color:#1976d2;\n",
    "    }\n",
    "    h2{\n",
    "        color:#f57c00;\n",
    "    }\n",
    "    h3{\n",
    "        color:#ba37ff;\n",
    "    }\n",
    "    h4{\n",
    "        color:green;\n",
    "    }\n",
    "    table{\n",
    "        border:1px solid black !important;\n",
    "        border-collapse:collapse !important;\n",
    "    }\n",
    "    th{\n",
    "        background-color:blueviolet !important;\n",
    "        text-align:center;\n",
    "        color:white;\n",
    "    }\n",
    "    th,td{\n",
    "        border:0.1px solid black !important;\n",
    "        transition:0.2s all liner;\n",
    "        \n",
    "    }\n",
    "    td:hover{\n",
    "        transform:scale(1.1);\n",
    "        background-color:orange;\n",
    "        color:blueviolet;\n",
    "    }\n",
    "    .raw{\n",
    "        white-space:pre;\n",
    "        color:green;\n",
    "    }\n",
    "    #imp{\n",
    "        color:red;\n",
    "    }\n",
    "    #ct{\n",
    "        text-align:center;\n",
    "    }\n",
    "    }\n",
    "</style>"
   ]
  },
  {
   "cell_type": "markdown",
   "id": "32645a15-0108-4be8-9bb3-40f4140d56f1",
   "metadata": {},
   "source": [
    "# 3.6 层级索引"
   ]
  },
  {
   "cell_type": "markdown",
   "id": "f40d38c2-82e1-468e-b4dc-b3147e5af85b",
   "metadata": {},
   "source": [
    "当目前为止，我们接触的都是一维数据和二维数据，用 Pandas 的\n",
    "Series 和 DataFrame 对象就可以存储。但我们也经常会遇到存储多维\n",
    "数据的需求，数据索引超过一两个键。因此，Pandas 提供了 Panel(<a href=\"https://cn.bing.com/dict/search?q=panel&FORM=BDVSP2&qpvt=Panel\" target='blank_'>仪表盘,控制板</a>) 和\n",
    "Panel4D 对象解决三维数据与四维数据（详情请参见 3.7 节）。而在实\n",
    "践中，更直观的形式是通过层级索引（hierarchical indexing，也被称为\n",
    "多级索引，multi-indexing）配合多个有不同等级（level）的一级索引一\n",
    "起使用，这样就可以将高维数组转换成类似一维 Series 和二维\n",
    "DataFrame 对象的形式。  \n",
    "在这一节中，我们将介绍创建 MultiIndex 对象的方法，多级索引数据\n",
    "的取值、切片和统计值的计算，以及普通索引与层级索引的转换方法。\n",
    "首先导入 Pandas 和 NumPy：  \n"
   ]
  },
  {
   "cell_type": "code",
   "execution_count": 2,
   "id": "94aeeb36-7e75-4e20-9a1e-6953b7a77443",
   "metadata": {},
   "outputs": [],
   "source": [
    "import pandas as pd \n",
    "import numpy as np"
   ]
  },
  {
   "cell_type": "markdown",
   "id": "80d7df07-ce1b-404a-b98e-24bd836173a7",
   "metadata": {},
   "source": [
    "## 3.6.1 多级索引Series"
   ]
  },
  {
   "cell_type": "markdown",
   "id": "d22b815e-f8ae-4993-9972-d233852309ec",
   "metadata": {},
   "source": [
    "让我们看看如何用一维的 Series 对象表示二维数据——用一系列包含\n",
    "特征与数值的数据点来简单演示。"
   ]
  },
  {
   "cell_type": "markdown",
   "id": "3a58015b-3666-48c0-8cd5-e23c9c1737dc",
   "metadata": {},
   "source": [
    "01. 笨办法"
   ]
  },
  {
   "cell_type": "markdown",
   "id": "9ea28956-b6a2-432b-8f8c-0a57a563ae89",
   "metadata": {},
   "source": [
    "假设你想要分析美国各州在两个不同年份的数据。如果你用前面介\n",
    "绍的 Pandas 工具来处理，那么可能会用一个 Python 元组来表示索\n",
    "引："
   ]
  },
  {
   "cell_type": "code",
   "execution_count": 3,
   "id": "8a28e887-4e97-43e1-96ff-0cecc5c6bb11",
   "metadata": {},
   "outputs": [
    {
     "data": {
      "text/plain": [
       "(California, 2000)    33871648\n",
       "(California, 2010)    37253956\n",
       "(New York, 2000)      18976457\n",
       "(New York, 2010)      19378102\n",
       "(Texas, 2000)         20851820\n",
       "(Texas, 2010)         25145561\n",
       "dtype: int64"
      ]
     },
     "execution_count": 3,
     "metadata": {},
     "output_type": "execute_result"
    }
   ],
   "source": [
    "index = [('California', 2000), ('California', 2010),\n",
    "            ('New York', 2000), ('New York', 2010),\n",
    "            ('Texas', 2000), ('Texas', 2010)]\n",
    "populations = [33871648, 37253956,\n",
    "                18976457, 19378102,\n",
    "                20851820, 25145561]\n",
    "pop = pd.Series(populations, index=index) #注意,这里的index只是一个普通的数组列表\n",
    "pop"
   ]
  },
  {
   "cell_type": "markdown",
   "id": "99de9944-f0e4-4148-952e-612aef74cb59",
   "metadata": {},
   "source": [
    "通过元组构成的多级索引，你可以直接在 Series 上取值或用切片\n",
    "查询数据："
   ]
  },
  {
   "cell_type": "code",
   "execution_count": 4,
   "id": "5b91771b-edba-46e4-b52b-9c8e5237ad47",
   "metadata": {},
   "outputs": [
    {
     "data": {
      "text/plain": [
       "(California, 2010)    37253956\n",
       "(New York, 2000)      18976457\n",
       "(New York, 2010)      19378102\n",
       "(Texas, 2000)         20851820\n",
       "dtype: int64"
      ]
     },
     "execution_count": 4,
     "metadata": {},
     "output_type": "execute_result"
    }
   ],
   "source": [
    "pop[('California',2010):('Texas',2000)] #这里其实就是显式索引"
   ]
  },
  {
   "cell_type": "markdown",
   "id": "40bc5616-59d7-4955-b8d9-e21edc37c3a4",
   "metadata": {},
   "source": [
    "但是这么做很不方便。假如你想要选择所有 2000 年的数据，那么\n",
    "就得用一些比较复杂的（可能也比较慢的）清理方法了："
   ]
  },
  {
   "cell_type": "markdown",
   "id": "6ce4bce9-b04b-4295-a35f-87a38f6978b9",
   "metadata": {},
   "source": [
    "#### 简单理解下面的代码,pop.index获取的是行索引,我们要定位的元素是行索引元组中的年份,例如(California,2000),我们要定位的就是索引位置为1的2000"
   ]
  },
  {
   "cell_type": "code",
   "execution_count": 5,
   "id": "803c3933-04a9-404c-8e37-d136364c2dcb",
   "metadata": {},
   "outputs": [
    {
     "data": {
      "text/plain": [
       "(California, 2010)    37253956\n",
       "(New York, 2010)      19378102\n",
       "(Texas, 2010)         25145561\n",
       "dtype: int64"
      ]
     },
     "execution_count": 5,
     "metadata": {},
     "output_type": "execute_result"
    }
   ],
   "source": [
    "pop[[i for i in pop.index if i[1] == 2010]] #利用掩码"
   ]
  },
  {
   "cell_type": "markdown",
   "id": "80bcfc56-7a09-4cf7-ac08-725fe2dc8fdb",
   "metadata": {},
   "source": [
    "这么做虽然也能得到需要的结果，但是与 Pandas 令人爱不释手的\n",
    "切片语法相比，这种方法确实不够简洁（在处理较大的数据时也不\n",
    "够高效）。"
   ]
  },
  {
   "cell_type": "markdown",
   "id": "3864af9f-ff6a-4f79-82fa-6040c2f410d6",
   "metadata": {},
   "source": [
    "02. <span id='imp'>好办法：Pandas多级索引(MultiIndex)</span>"
   ]
  },
  {
   "cell_type": "markdown",
   "id": "7a5c312a-c4e1-4738-9eb4-0b9693dad8b0",
   "metadata": {},
   "source": [
    "好在 Pandas 提供了更好的解决方案。用元组表示索引其实是多级\n",
    "索引的基础，Pandas 的 MultiIndex 类型提供了更丰富的操作方\n",
    "法。我们可以用<span id='imp'>元组</span>创建一个多级索引，如下所示："
   ]
  },
  {
   "cell_type": "markdown",
   "id": "4007cb52-5f14-492d-88b6-d546e765b6c6",
   "metadata": {},
   "source": [
    "#### 简单理解,我们最开始用列表包纳了多个元组作为多级索引,这里的from_tuple很好理解,就是索引是由已经构建的元组得来的"
   ]
  },
  {
   "cell_type": "code",
   "execution_count": 6,
   "id": "51a8d77c-23f1-4fe2-9dc7-34e2b15d559a",
   "metadata": {},
   "outputs": [
    {
     "data": {
      "text/plain": [
       "MultiIndex([('California', 2000),\n",
       "            ('California', 2010),\n",
       "            (  'New York', 2000),\n",
       "            (  'New York', 2010),\n",
       "            (     'Texas', 2000),\n",
       "            (     'Texas', 2010)],\n",
       "           )"
      ]
     },
     "execution_count": 6,
     "metadata": {},
     "output_type": "execute_result"
    }
   ],
   "source": [
    "index = pd.MultiIndex.from_tuples(index)\n",
    "index"
   ]
  },
  {
   "cell_type": "markdown",
   "id": "e73dcd2a-91a9-41ee-b057-6e55e9e12b5f",
   "metadata": {},
   "source": [
    "```ipython\n",
    "#按照书上的版本输出来的应该是这样的结果\n",
    "Out[5]: MultiIndex(levels=[['California', 'New York', 'Texas'], [2000, 2010]],\n",
    "labels=[[0, 0, 1, 1, 2, 2], [0, 1, 0, 1, 0, 1]])\n",
    "```"
   ]
  },
  {
   "cell_type": "markdown",
   "id": "0eb44c00-5194-4cce-970b-d01289b9fe34",
   "metadata": {},
   "source": [
    "你会发现 MultiIndex 里面有一个 levels 属性表示索引的等级\n",
    "——这样做可以将州名和年份作为每个数据点的不同标签。"
   ]
  },
  {
   "cell_type": "markdown",
   "id": "1ddc9797-b7a3-4b6f-ac36-1297d9ae811d",
   "metadata": {},
   "source": [
    "如果将前面创建的 pop 的索引<span id='imp'>重置（reindex）</span>为 MultiIndex，\n",
    "就会看到层级索引："
   ]
  },
  {
   "cell_type": "markdown",
   "id": "310127c3-3c21-4eaf-98e8-aba8a98e256c",
   "metadata": {},
   "source": [
    "#### 简单理解,就是重新编序,将pop的索引重新编序为新的索引(我们上面创建好的多级索引index)"
   ]
  },
  {
   "cell_type": "code",
   "execution_count": 7,
   "id": "7fc1465c-4c5d-407b-866a-66346e1dcd84",
   "metadata": {},
   "outputs": [
    {
     "data": {
      "text/plain": [
       "California  2000    33871648\n",
       "            2010    37253956\n",
       "New York    2000    18976457\n",
       "            2010    19378102\n",
       "Texas       2000    20851820\n",
       "            2010    25145561\n",
       "dtype: int64"
      ]
     },
     "execution_count": 7,
     "metadata": {},
     "output_type": "execute_result"
    }
   ],
   "source": [
    "pop = pop.reindex(index)\n",
    "pop"
   ]
  },
  {
   "cell_type": "markdown",
   "id": "52123cca-e9b0-41cd-ad1d-eae4f42b3096",
   "metadata": {},
   "source": [
    "其中前两列表示 Series 的多级索引值，第三列是数据。你会发现\n",
    "有些行仿佛缺失了第一列数据——这其实是多级索引的表现形式，\n",
    "每个空格与上面的索引相同。"
   ]
  },
  {
   "cell_type": "markdown",
   "id": "e968ff7a-e0f6-4975-877b-3311e476326f",
   "metadata": {},
   "source": [
    "现在可以直接用第二个索引获取 2010 年的全部数据，与 Pandas 的\n",
    "切片查询用法一致："
   ]
  },
  {
   "cell_type": "markdown",
   "id": "03315478-9a18-402b-a723-826d111ea2b3",
   "metadata": {},
   "source": [
    "#### 下面这行代码的语法含义是,切片获取数据,覆盖所有行,但是指定了列的显式索引必须是2010的"
   ]
  },
  {
   "cell_type": "code",
   "execution_count": 8,
   "id": "26ac4a61-627e-4b5a-a2e1-9bb8fd3fb72f",
   "metadata": {},
   "outputs": [
    {
     "data": {
      "text/plain": [
       "California    37253956\n",
       "New York      19378102\n",
       "Texas         25145561\n",
       "dtype: int64"
      ]
     },
     "execution_count": 8,
     "metadata": {},
     "output_type": "execute_result"
    }
   ],
   "source": [
    "pop[:,2010]"
   ]
  },
  {
   "cell_type": "markdown",
   "id": "42ad686d-f96d-4971-8c58-dea2706f77c5",
   "metadata": {},
   "source": [
    "<span id='imp'>结果是单索引的数组</span>，正是我们需要的。与之前的元组索引相比，\n",
    "多级索引的语法更简洁。（操作也更方便！）下面继续介绍层级索\n",
    "引的取值操作方法。"
   ]
  },
  {
   "cell_type": "markdown",
   "id": "bbdd7c74-dbe3-4fd0-b566-5e72e0257782",
   "metadata": {},
   "source": [
    "03. 高维数据的多级索引"
   ]
  },
  {
   "cell_type": "markdown",
   "id": "3f65b9da-43a5-4c18-a849-b46500cd1b5d",
   "metadata": {},
   "source": [
    "你可能已经注意到，我们其实完全可以用一个带行列索引的简单\n",
    "DataFrame 代替前面的多级索引。其实 Pandas 已经实现了类似的\n",
    "功能。<span id='imp'>unstack() 方法可以快速将一个多级索引的 Series 转化为\n",
    "普通索引的 DataFrame：</span>"
   ]
  },
  {
   "cell_type": "code",
   "execution_count": 9,
   "id": "3a3d1bb7-a1a4-4583-8565-2cee0f2e3911",
   "metadata": {},
   "outputs": [
    {
     "data": {
      "text/html": [
       "<div>\n",
       "<style scoped>\n",
       "    .dataframe tbody tr th:only-of-type {\n",
       "        vertical-align: middle;\n",
       "    }\n",
       "\n",
       "    .dataframe tbody tr th {\n",
       "        vertical-align: top;\n",
       "    }\n",
       "\n",
       "    .dataframe thead th {\n",
       "        text-align: right;\n",
       "    }\n",
       "</style>\n",
       "<table border=\"1\" class=\"dataframe\">\n",
       "  <thead>\n",
       "    <tr style=\"text-align: right;\">\n",
       "      <th></th>\n",
       "      <th>2000</th>\n",
       "      <th>2010</th>\n",
       "    </tr>\n",
       "  </thead>\n",
       "  <tbody>\n",
       "    <tr>\n",
       "      <th>California</th>\n",
       "      <td>33871648</td>\n",
       "      <td>37253956</td>\n",
       "    </tr>\n",
       "    <tr>\n",
       "      <th>New York</th>\n",
       "      <td>18976457</td>\n",
       "      <td>19378102</td>\n",
       "    </tr>\n",
       "    <tr>\n",
       "      <th>Texas</th>\n",
       "      <td>20851820</td>\n",
       "      <td>25145561</td>\n",
       "    </tr>\n",
       "  </tbody>\n",
       "</table>\n",
       "</div>"
      ],
      "text/plain": [
       "                2000      2010\n",
       "California  33871648  37253956\n",
       "New York    18976457  19378102\n",
       "Texas       20851820  25145561"
      ]
     },
     "execution_count": 9,
     "metadata": {},
     "output_type": "execute_result"
    }
   ],
   "source": [
    "pop_df = pop.unstack()\n",
    "pop_df"
   ]
  },
  {
   "cell_type": "markdown",
   "id": "3f1a66a4-d1d3-4906-b831-4794ef416fc2",
   "metadata": {},
   "source": [
    "当然了，<span id='imp'>也有 stack() 方法实现相反的效果,即,将普通索引的DataFrame转化为多级索引的Series</span>"
   ]
  },
  {
   "cell_type": "code",
   "execution_count": 10,
   "id": "a560f74d-141c-4316-9f00-1e075953417b",
   "metadata": {},
   "outputs": [
    {
     "data": {
      "text/plain": [
       "California  2000    33871648\n",
       "            2010    37253956\n",
       "New York    2000    18976457\n",
       "            2010    19378102\n",
       "Texas       2000    20851820\n",
       "            2010    25145561\n",
       "dtype: int64"
      ]
     },
     "execution_count": 10,
     "metadata": {},
     "output_type": "execute_result"
    }
   ],
   "source": [
    "pop_df.stack()"
   ]
  },
  {
   "cell_type": "markdown",
   "id": "337a36a8-6713-4911-9927-7d43fada4c35",
   "metadata": {},
   "source": [
    "你可能会纠结于为什么要费时间研究层级索引。其实理由很简单：\n",
    "如果我们可以用含多级索引的一维 Series 数据表示二维数据，那\n",
    "么我们就可以用 Series 或 DataFrame 表示三维甚至更高维度的\n",
    "数据。<span id='imp'>多级索引每增加一级，就表示数据增加一维</span>，利用这一特点\n",
    "就可以轻松表示任意维度的数据了。假如要增加一列显示每一年各\n",
    "州的人口统计指标（例如 18 岁以下的人口），那么对于这种带有\n",
    "MultiIndex 的对象，增加一列就像 DataFrame 的操作一样简单："
   ]
  },
  {
   "cell_type": "markdown",
   "id": "8abd1f75-93dc-4f0e-a3a8-71ac01270d8d",
   "metadata": {},
   "source": [
    "#### 简单理解下面代码:回顾之前的DataFrame对象创建的方法,其中指定的key就是列名称,指定的数组列表就是这一列的数据"
   ]
  },
  {
   "cell_type": "code",
   "execution_count": 11,
   "id": "d478d782-45f2-4dfd-9d70-e5228a49c672",
   "metadata": {},
   "outputs": [
    {
     "data": {
      "text/html": [
       "<div>\n",
       "<style scoped>\n",
       "    .dataframe tbody tr th:only-of-type {\n",
       "        vertical-align: middle;\n",
       "    }\n",
       "\n",
       "    .dataframe tbody tr th {\n",
       "        vertical-align: top;\n",
       "    }\n",
       "\n",
       "    .dataframe thead th {\n",
       "        text-align: right;\n",
       "    }\n",
       "</style>\n",
       "<table border=\"1\" class=\"dataframe\">\n",
       "  <thead>\n",
       "    <tr style=\"text-align: right;\">\n",
       "      <th></th>\n",
       "      <th></th>\n",
       "      <th>total</th>\n",
       "      <th>under18</th>\n",
       "    </tr>\n",
       "  </thead>\n",
       "  <tbody>\n",
       "    <tr>\n",
       "      <th rowspan=\"2\" valign=\"top\">California</th>\n",
       "      <th>2000</th>\n",
       "      <td>33871648</td>\n",
       "      <td>9267089</td>\n",
       "    </tr>\n",
       "    <tr>\n",
       "      <th>2010</th>\n",
       "      <td>37253956</td>\n",
       "      <td>9284094</td>\n",
       "    </tr>\n",
       "    <tr>\n",
       "      <th rowspan=\"2\" valign=\"top\">New York</th>\n",
       "      <th>2000</th>\n",
       "      <td>18976457</td>\n",
       "      <td>4687374</td>\n",
       "    </tr>\n",
       "    <tr>\n",
       "      <th>2010</th>\n",
       "      <td>19378102</td>\n",
       "      <td>4318033</td>\n",
       "    </tr>\n",
       "    <tr>\n",
       "      <th rowspan=\"2\" valign=\"top\">Texas</th>\n",
       "      <th>2000</th>\n",
       "      <td>20851820</td>\n",
       "      <td>5906301</td>\n",
       "    </tr>\n",
       "    <tr>\n",
       "      <th>2010</th>\n",
       "      <td>25145561</td>\n",
       "      <td>6879014</td>\n",
       "    </tr>\n",
       "  </tbody>\n",
       "</table>\n",
       "</div>"
      ],
      "text/plain": [
       "                    total  under18\n",
       "California 2000  33871648  9267089\n",
       "           2010  37253956  9284094\n",
       "New York   2000  18976457  4687374\n",
       "           2010  19378102  4318033\n",
       "Texas      2000  20851820  5906301\n",
       "           2010  25145561  6879014"
      ]
     },
     "execution_count": 11,
     "metadata": {},
     "output_type": "execute_result"
    }
   ],
   "source": [
    "pop_df = pd.DataFrame({'total': pop, #pop是个带多级索引的Series对象,我们刚才创建过了\n",
    "                        'under18': [9267089, 9284094,\n",
    "                        4687374, 4318033,\n",
    "                        5906301, 6879014]})\n",
    "pop_df"
   ]
  },
  {
   "cell_type": "markdown",
   "id": "b96eb519-b922-43c3-bf5c-64c28fb9ed60",
   "metadata": {},
   "source": [
    "另外，所有在 3.4 节介绍过的通用函数和其他功能也同样适用于层\n",
    "级索引。我们可以计算上面数据中 18 岁以下的人口占总人口的比\n",
    "例："
   ]
  },
  {
   "cell_type": "code",
   "execution_count": 12,
   "id": "2bc3183f-5196-41ee-ad86-250485ff753f",
   "metadata": {},
   "outputs": [
    {
     "data": {
      "text/plain": [
       "California  2000    0.273594\n",
       "            2010    0.249211\n",
       "New York    2000    0.247010\n",
       "            2010    0.222831\n",
       "Texas       2000    0.283251\n",
       "            2010    0.273568\n",
       "dtype: float64"
      ]
     },
     "execution_count": 12,
     "metadata": {},
     "output_type": "execute_result"
    }
   ],
   "source": [
    "f_u18 = pop_df['under18']/pop_df['total'] #这样得到的就是一个新的Series数组了\n",
    "f_u18"
   ]
  },
  {
   "cell_type": "markdown",
   "id": "fbe6abc9-713f-4a12-8890-7f8aeb055f15",
   "metadata": {},
   "source": [
    "#### 我们也可以使用unstack()来将多级索引的Series对象转换为DataFrame对象"
   ]
  },
  {
   "cell_type": "code",
   "execution_count": 13,
   "id": "d911c22b-d532-4771-958f-bb846c085b12",
   "metadata": {},
   "outputs": [
    {
     "data": {
      "text/html": [
       "<div>\n",
       "<style scoped>\n",
       "    .dataframe tbody tr th:only-of-type {\n",
       "        vertical-align: middle;\n",
       "    }\n",
       "\n",
       "    .dataframe tbody tr th {\n",
       "        vertical-align: top;\n",
       "    }\n",
       "\n",
       "    .dataframe thead th {\n",
       "        text-align: right;\n",
       "    }\n",
       "</style>\n",
       "<table border=\"1\" class=\"dataframe\">\n",
       "  <thead>\n",
       "    <tr style=\"text-align: right;\">\n",
       "      <th></th>\n",
       "      <th>2000</th>\n",
       "      <th>2010</th>\n",
       "    </tr>\n",
       "  </thead>\n",
       "  <tbody>\n",
       "    <tr>\n",
       "      <th>California</th>\n",
       "      <td>0.273594</td>\n",
       "      <td>0.249211</td>\n",
       "    </tr>\n",
       "    <tr>\n",
       "      <th>New York</th>\n",
       "      <td>0.247010</td>\n",
       "      <td>0.222831</td>\n",
       "    </tr>\n",
       "    <tr>\n",
       "      <th>Texas</th>\n",
       "      <td>0.283251</td>\n",
       "      <td>0.273568</td>\n",
       "    </tr>\n",
       "  </tbody>\n",
       "</table>\n",
       "</div>"
      ],
      "text/plain": [
       "                2000      2010\n",
       "California  0.273594  0.249211\n",
       "New York    0.247010  0.222831\n",
       "Texas       0.283251  0.273568"
      ]
     },
     "execution_count": 13,
     "metadata": {},
     "output_type": "execute_result"
    }
   ],
   "source": [
    "f_u18.unstack()"
   ]
  },
  {
   "cell_type": "markdown",
   "id": "fe8ec76d-28d4-49f0-bc07-f56cc6425f9e",
   "metadata": {},
   "source": [
    "同样，我们也可以快速浏览和操作高维数据"
   ]
  },
  {
   "cell_type": "markdown",
   "id": "6cba4581-65fa-458a-a5a7-4de873fd7481",
   "metadata": {},
   "source": [
    "## 3.6.2 多级索引的创建方法"
   ]
  },
  {
   "cell_type": "markdown",
   "id": "6269d359-6243-4076-8c13-ba47384a9f5d",
   "metadata": {},
   "source": [
    "为 Series 或 DataFrame <span id='imp'>创建多级索引最直接的办法就是将 index 参\n",
    "数设置为至少二维的索引数组</span>，如下所示："
   ]
  },
  {
   "cell_type": "code",
   "execution_count": 14,
   "id": "3052f3d9-d34c-4046-97cd-65690dd39672",
   "metadata": {},
   "outputs": [],
   "source": [
    "df = pd.DataFrame(np.random.rand(4, 2), #数组的数据,0-1之间的随机数,是个4行2列的二维数组\n",
    "                    index=[['a', 'a', 'b', 'b'], [1, 2, 1, 2]], #这样就创建了多级索引\n",
    "                    columns=['data1', 'data2'])"
   ]
  },
  {
   "cell_type": "code",
   "execution_count": 15,
   "id": "4f308eec-dc59-49ca-a439-1153a1870908",
   "metadata": {},
   "outputs": [
    {
     "data": {
      "text/html": [
       "<div>\n",
       "<style scoped>\n",
       "    .dataframe tbody tr th:only-of-type {\n",
       "        vertical-align: middle;\n",
       "    }\n",
       "\n",
       "    .dataframe tbody tr th {\n",
       "        vertical-align: top;\n",
       "    }\n",
       "\n",
       "    .dataframe thead th {\n",
       "        text-align: right;\n",
       "    }\n",
       "</style>\n",
       "<table border=\"1\" class=\"dataframe\">\n",
       "  <thead>\n",
       "    <tr style=\"text-align: right;\">\n",
       "      <th></th>\n",
       "      <th></th>\n",
       "      <th>data1</th>\n",
       "      <th>data2</th>\n",
       "    </tr>\n",
       "  </thead>\n",
       "  <tbody>\n",
       "    <tr>\n",
       "      <th rowspan=\"2\" valign=\"top\">a</th>\n",
       "      <th>1</th>\n",
       "      <td>0.074998</td>\n",
       "      <td>0.104470</td>\n",
       "    </tr>\n",
       "    <tr>\n",
       "      <th>2</th>\n",
       "      <td>0.288507</td>\n",
       "      <td>0.375623</td>\n",
       "    </tr>\n",
       "    <tr>\n",
       "      <th rowspan=\"2\" valign=\"top\">b</th>\n",
       "      <th>1</th>\n",
       "      <td>0.861621</td>\n",
       "      <td>0.650336</td>\n",
       "    </tr>\n",
       "    <tr>\n",
       "      <th>2</th>\n",
       "      <td>0.646025</td>\n",
       "      <td>0.354390</td>\n",
       "    </tr>\n",
       "  </tbody>\n",
       "</table>\n",
       "</div>"
      ],
      "text/plain": [
       "        data1     data2\n",
       "a 1  0.074998  0.104470\n",
       "  2  0.288507  0.375623\n",
       "b 1  0.861621  0.650336\n",
       "  2  0.646025  0.354390"
      ]
     },
     "execution_count": 15,
     "metadata": {},
     "output_type": "execute_result"
    }
   ],
   "source": [
    "df"
   ]
  },
  {
   "cell_type": "markdown",
   "id": "6da4fad6-3ce8-4760-b583-60e30e57e2b7",
   "metadata": {},
   "source": [
    "MultiIndex 的创建工作将在后台完成。"
   ]
  },
  {
   "cell_type": "markdown",
   "id": "b2c20782-8fdb-42ab-8093-28608b1d3bbb",
   "metadata": {},
   "source": [
    "同理，如果你把将元组作为键的字典传递给 Pandas，Pandas 也会默认转\n",
    "换为 MultiIndex："
   ]
  },
  {
   "cell_type": "code",
   "execution_count": 16,
   "id": "7b48eebb-da19-49ab-84a8-3e289997b052",
   "metadata": {},
   "outputs": [
    {
     "data": {
      "text/plain": [
       "California  2000    33871648\n",
       "            2010    37253956\n",
       "Texas       2000    20851820\n",
       "            2010    25145561\n",
       "New York    2000    18976457\n",
       "            2010    19378102\n",
       "dtype: int64"
      ]
     },
     "execution_count": 16,
     "metadata": {},
     "output_type": "execute_result"
    }
   ],
   "source": [
    "data = {('California', 2000): 33871648,\n",
    "        ('California', 2010): 37253956,\n",
    "        ('Texas', 2000): 20851820,\n",
    "        ('Texas', 2010): 25145561,\n",
    "        ('New York', 2000): 18976457,\n",
    "        ('New York', 2010): 19378102}\n",
    "pd.Series(data) #通过字典创建Series对象"
   ]
  },
  {
   "cell_type": "markdown",
   "id": "e0dcf8b5-070a-4c9d-80b7-cc6c98c5153f",
   "metadata": {},
   "source": [
    "但是有时候显式地创建 MultiIndex 也是很有用的，下面来介绍一些创\n",
    "建方法。"
   ]
  },
  {
   "cell_type": "markdown",
   "id": "ec697df6-b22a-4fe9-920e-12fb06fcf1f6",
   "metadata": {},
   "source": [
    "01. 显式地创建多级索引"
   ]
  },
  {
   "cell_type": "markdown",
   "id": "293de7ca-6ce3-4460-aa5f-3379da2449a0",
   "metadata": {},
   "source": [
    "你可以用 pd.MultiIndex 中的类方法更加灵活地构建多级索引。\n",
    "例如，就像前面介绍的，你可以通过一个有不同等级的若干简单数\n",
    "组组成的列表来构建 MultiIndex：\n"
   ]
  },
  {
   "cell_type": "markdown",
   "id": "f1577ed8-c86c-4e7b-96a7-f7a1a8b55ef7",
   "metadata": {},
   "source": [
    "#### 用数组来创建索引pd.MultiIndex.<span id='imp'>from_arrays(创建几级索引就写几维数组)</span>"
   ]
  },
  {
   "cell_type": "code",
   "execution_count": 17,
   "id": "48f72676-5934-4d1a-9f5b-504be316e967",
   "metadata": {},
   "outputs": [
    {
     "data": {
      "text/plain": [
       "MultiIndex([('a', 1),\n",
       "            ('a', 2),\n",
       "            ('b', 1),\n",
       "            ('b', 2)],\n",
       "           )"
      ]
     },
     "execution_count": 17,
     "metadata": {},
     "output_type": "execute_result"
    }
   ],
   "source": [
    "pd.MultiIndex.from_arrays([['a', 'a', 'b', 'b'], [1, 2, 1, 2]])"
   ]
  },
  {
   "cell_type": "code",
   "execution_count": 18,
   "id": "15f309c2-8454-403a-b19a-bb195185a472",
   "metadata": {},
   "outputs": [
    {
     "data": {
      "text/plain": [
       "\u001b[1;31mSignature:\u001b[0m\n",
       "\u001b[0mpd\u001b[0m\u001b[1;33m.\u001b[0m\u001b[0mMultiIndex\u001b[0m\u001b[1;33m.\u001b[0m\u001b[0mfrom_arrays\u001b[0m\u001b[1;33m(\u001b[0m\u001b[1;33m\n",
       "\u001b[0m    \u001b[0marrays\u001b[0m\u001b[1;33m,\u001b[0m\u001b[1;33m\n",
       "\u001b[0m    \u001b[0msortorder\u001b[0m\u001b[1;33m:\u001b[0m \u001b[1;34m'int | None'\u001b[0m \u001b[1;33m=\u001b[0m \u001b[1;32mNone\u001b[0m\u001b[1;33m,\u001b[0m\u001b[1;33m\n",
       "\u001b[0m    \u001b[0mnames\u001b[0m\u001b[1;33m:\u001b[0m \u001b[1;34m'Sequence[Hashable] | Hashable | lib.NoDefault'\u001b[0m \u001b[1;33m=\u001b[0m \u001b[1;33m<\u001b[0m\u001b[0mno_default\u001b[0m\u001b[1;33m>\u001b[0m\u001b[1;33m,\u001b[0m\u001b[1;33m\n",
       "\u001b[0m\u001b[1;33m)\u001b[0m \u001b[1;33m->\u001b[0m \u001b[1;34m'MultiIndex'\u001b[0m\u001b[1;33m\u001b[0m\u001b[1;33m\u001b[0m\u001b[0m\n",
       "\u001b[1;31mDocstring:\u001b[0m\n",
       "Convert arrays to MultiIndex.\n",
       "\n",
       "Parameters\n",
       "----------\n",
       "arrays : list / sequence of array-likes\n",
       "    Each array-like gives one level's value for each data point.\n",
       "    len(arrays) is the number of levels.\n",
       "sortorder : int or None\n",
       "    Level of sortedness (must be lexicographically sorted by that\n",
       "    level).\n",
       "names : list / sequence of str, optional\n",
       "    Names for the levels in the index.\n",
       "\n",
       "Returns\n",
       "-------\n",
       "MultiIndex\n",
       "\n",
       "See Also\n",
       "--------\n",
       "MultiIndex.from_tuples : Convert list of tuples to MultiIndex.\n",
       "MultiIndex.from_product : Make a MultiIndex from cartesian product\n",
       "                          of iterables.\n",
       "MultiIndex.from_frame : Make a MultiIndex from a DataFrame.\n",
       "\n",
       "Examples\n",
       "--------\n",
       ">>> arrays = [[1, 1, 2, 2], ['red', 'blue', 'red', 'blue']]\n",
       ">>> pd.MultiIndex.from_arrays(arrays, names=('number', 'color'))\n",
       "MultiIndex([(1,  'red'),\n",
       "            (1, 'blue'),\n",
       "            (2,  'red'),\n",
       "            (2, 'blue')],\n",
       "           names=['number', 'color'])\n",
       "\u001b[1;31mFile:\u001b[0m      d:\\virtualenvs\\ai\\lib\\site-packages\\pandas\\core\\indexes\\multi.py\n",
       "\u001b[1;31mType:\u001b[0m      method"
      ]
     },
     "metadata": {},
     "output_type": "display_data"
    }
   ],
   "source": [
    "pd.MultiIndex.from_arrays?"
   ]
  },
  {
   "cell_type": "markdown",
   "id": "9ba5888c-63cd-4f67-b604-e850e01ab5fd",
   "metadata": {},
   "source": [
    "也可以通过包含多个索引值的元组构成的列表创建 MultiIndex："
   ]
  },
  {
   "cell_type": "markdown",
   "id": "75e47348-3bc8-4747-b5f8-57e919a5c044",
   "metadata": {},
   "source": [
    "#### 上面用过的那种 pd.MultiIndex.<span id='imp'>from_tuple(里面用列表包住数组就行)</span>"
   ]
  },
  {
   "cell_type": "code",
   "execution_count": 19,
   "id": "4b31b220-4726-4c5b-b3c1-6a38d18a6880",
   "metadata": {},
   "outputs": [
    {
     "data": {
      "text/plain": [
       "MultiIndex([('a', 1),\n",
       "            ('a', 2),\n",
       "            ('b', 1),\n",
       "            ('b', 2)],\n",
       "           )"
      ]
     },
     "execution_count": 19,
     "metadata": {},
     "output_type": "execute_result"
    }
   ],
   "source": [
    "pd.MultiIndex.from_tuples([('a', 1), ('a', 2), ('b', 1), ('b', 2)])"
   ]
  },
  {
   "cell_type": "markdown",
   "id": "12b104fe-f2d7-40db-a2fb-2f7c882a0a89",
   "metadata": {},
   "source": [
    "还可以用两个索引的<span id='imp'>笛卡尔积（Cartesian product）创建\n",
    "MultiIndex：</span>"
   ]
  },
  {
   "cell_type": "code",
   "execution_count": 20,
   "id": "710df564-7701-46b3-8029-b455bec3ea04",
   "metadata": {},
   "outputs": [
    {
     "data": {
      "text/plain": [
       "MultiIndex([('a', 1),\n",
       "            ('a', 2),\n",
       "            ('b', 1),\n",
       "            ('b', 2)],\n",
       "           )"
      ]
     },
     "execution_count": 20,
     "metadata": {},
     "output_type": "execute_result"
    }
   ],
   "source": [
    "pd.MultiIndex.from_product([['a','b'],[1,2]])"
   ]
  },
  {
   "cell_type": "markdown",
   "id": "f7774124-4528-4645-964d-16564c6c18cf",
   "metadata": {},
   "source": [
    "#### 其实就是一级索引a和b分别都有俩2级索引1,2"
   ]
  },
  {
   "cell_type": "markdown",
   "id": "fe592324-4a26-41c7-998a-6f45a6eb351d",
   "metadata": {},
   "source": [
    "更可以直接提供 levels（包含每个等级的索引值列表的列表）和\n",
    "labels（包含每个索引值标签列表的列表）创建 MultiIndex："
   ]
  },
  {
   "cell_type": "markdown",
   "id": "132c8941-00a0-46f7-9ce0-85c3c9926a4f",
   "metadata": {},
   "source": [
    "<span id='imp'>其实写到这里,上面的labels已经过时了,被新来的codes替代了</span>"
   ]
  },
  {
   "cell_type": "code",
   "execution_count": 21,
   "id": "70704721-28f0-45f4-a39c-653f3e69e142",
   "metadata": {},
   "outputs": [
    {
     "data": {
      "text/plain": [
       "MultiIndex([('a', 1),\n",
       "            ('a', 2),\n",
       "            ('b', 1),\n",
       "            ('b', 2)],\n",
       "           )"
      ]
     },
     "execution_count": 21,
     "metadata": {},
     "output_type": "execute_result"
    }
   ],
   "source": [
    "pd.MultiIndex(levels=[['a', 'b'], [1, 2]],codes=[[0, 0, 1, 1], [0, 1, 0, 1]])"
   ]
  },
  {
   "cell_type": "code",
   "execution_count": 22,
   "id": "8e785874-6078-4672-8b97-006f5b778338",
   "metadata": {},
   "outputs": [
    {
     "data": {
      "text/plain": [
       "\u001b[1;31mInit signature:\u001b[0m\n",
       "\u001b[0mpd\u001b[0m\u001b[1;33m.\u001b[0m\u001b[0mMultiIndex\u001b[0m\u001b[1;33m(\u001b[0m\u001b[1;33m\n",
       "\u001b[0m    \u001b[0mlevels\u001b[0m\u001b[1;33m=\u001b[0m\u001b[1;32mNone\u001b[0m\u001b[1;33m,\u001b[0m\u001b[1;33m\n",
       "\u001b[0m    \u001b[0mcodes\u001b[0m\u001b[1;33m=\u001b[0m\u001b[1;32mNone\u001b[0m\u001b[1;33m,\u001b[0m\u001b[1;33m\n",
       "\u001b[0m    \u001b[0msortorder\u001b[0m\u001b[1;33m=\u001b[0m\u001b[1;32mNone\u001b[0m\u001b[1;33m,\u001b[0m\u001b[1;33m\n",
       "\u001b[0m    \u001b[0mnames\u001b[0m\u001b[1;33m=\u001b[0m\u001b[1;32mNone\u001b[0m\u001b[1;33m,\u001b[0m\u001b[1;33m\n",
       "\u001b[0m    \u001b[0mdtype\u001b[0m\u001b[1;33m=\u001b[0m\u001b[1;32mNone\u001b[0m\u001b[1;33m,\u001b[0m\u001b[1;33m\n",
       "\u001b[0m    \u001b[0mcopy\u001b[0m\u001b[1;33m:\u001b[0m \u001b[1;34m'bool'\u001b[0m \u001b[1;33m=\u001b[0m \u001b[1;32mFalse\u001b[0m\u001b[1;33m,\u001b[0m\u001b[1;33m\n",
       "\u001b[0m    \u001b[0mname\u001b[0m\u001b[1;33m=\u001b[0m\u001b[1;32mNone\u001b[0m\u001b[1;33m,\u001b[0m\u001b[1;33m\n",
       "\u001b[0m    \u001b[0mverify_integrity\u001b[0m\u001b[1;33m:\u001b[0m \u001b[1;34m'bool'\u001b[0m \u001b[1;33m=\u001b[0m \u001b[1;32mTrue\u001b[0m\u001b[1;33m,\u001b[0m\u001b[1;33m\n",
       "\u001b[0m\u001b[1;33m)\u001b[0m \u001b[1;33m->\u001b[0m \u001b[1;34m'Self'\u001b[0m\u001b[1;33m\u001b[0m\u001b[1;33m\u001b[0m\u001b[0m\n",
       "\u001b[1;31mDocstring:\u001b[0m     \n",
       "A multi-level, or hierarchical, index object for pandas objects.\n",
       "\n",
       "Parameters\n",
       "----------\n",
       "levels : sequence of arrays\n",
       "    The unique labels for each level.\n",
       "codes : sequence of arrays\n",
       "    Integers for each level designating which label at each location.\n",
       "sortorder : optional int\n",
       "    Level of sortedness (must be lexicographically sorted by that\n",
       "    level).\n",
       "names : optional sequence of objects\n",
       "    Names for each of the index levels. (name is accepted for compat).\n",
       "copy : bool, default False\n",
       "    Copy the meta-data.\n",
       "verify_integrity : bool, default True\n",
       "    Check that the levels/codes are consistent and valid.\n",
       "\n",
       "Attributes\n",
       "----------\n",
       "names\n",
       "levels\n",
       "codes\n",
       "nlevels\n",
       "levshape\n",
       "dtypes\n",
       "\n",
       "Methods\n",
       "-------\n",
       "from_arrays\n",
       "from_tuples\n",
       "from_product\n",
       "from_frame\n",
       "set_levels\n",
       "set_codes\n",
       "to_frame\n",
       "to_flat_index\n",
       "sortlevel\n",
       "droplevel\n",
       "swaplevel\n",
       "reorder_levels\n",
       "remove_unused_levels\n",
       "get_level_values\n",
       "get_indexer\n",
       "get_loc\n",
       "get_locs\n",
       "get_loc_level\n",
       "drop\n",
       "\n",
       "See Also\n",
       "--------\n",
       "MultiIndex.from_arrays  : Convert list of arrays to MultiIndex.\n",
       "MultiIndex.from_product : Create a MultiIndex from the cartesian product\n",
       "                          of iterables.\n",
       "MultiIndex.from_tuples  : Convert list of tuples to a MultiIndex.\n",
       "MultiIndex.from_frame   : Make a MultiIndex from a DataFrame.\n",
       "Index : The base pandas Index type.\n",
       "\n",
       "Notes\n",
       "-----\n",
       "See the `user guide\n",
       "<https://pandas.pydata.org/pandas-docs/stable/user_guide/advanced.html>`__\n",
       "for more.\n",
       "\n",
       "Examples\n",
       "--------\n",
       "A new ``MultiIndex`` is typically constructed using one of the helper\n",
       "methods :meth:`MultiIndex.from_arrays`, :meth:`MultiIndex.from_product`\n",
       "and :meth:`MultiIndex.from_tuples`. For example (using ``.from_arrays``):\n",
       "\n",
       ">>> arrays = [[1, 1, 2, 2], ['red', 'blue', 'red', 'blue']]\n",
       ">>> pd.MultiIndex.from_arrays(arrays, names=('number', 'color'))\n",
       "MultiIndex([(1,  'red'),\n",
       "            (1, 'blue'),\n",
       "            (2,  'red'),\n",
       "            (2, 'blue')],\n",
       "           names=['number', 'color'])\n",
       "\n",
       "See further examples for how to construct a MultiIndex in the doc strings\n",
       "of the mentioned helper methods.\n",
       "\u001b[1;31mFile:\u001b[0m           d:\\virtualenvs\\ai\\lib\\site-packages\\pandas\\core\\indexes\\multi.py\n",
       "\u001b[1;31mType:\u001b[0m           type\n",
       "\u001b[1;31mSubclasses:\u001b[0m     "
      ]
     },
     "metadata": {},
     "output_type": "display_data"
    }
   ],
   "source": [
    "pd.MultiIndex?"
   ]
  },
  {
   "cell_type": "markdown",
   "id": "d75170b9-470a-4554-9935-0469092e9d7b",
   "metadata": {},
   "source": [
    "在创建 Series 或 DataFrame 时，可以将这些对象作为 index 参\n",
    "数，或者通过 reindex 方法更新 Series 或 DataFrame 的索引。"
   ]
  },
  {
   "cell_type": "markdown",
   "id": "5ef974b8-a8d6-43c9-828f-b51076911a6f",
   "metadata": {},
   "source": [
    "02. 多级索引的等级名称"
   ]
  },
  {
   "cell_type": "markdown",
   "id": "b888f46a-c028-4923-a3b2-662f03d4ea52",
   "metadata": {},
   "source": [
    "给 MultiIndex 的等级加上名称会为一些操作提供便利。你可以在\n",
    "前面任何一个 MultiIndex 构造器中通过 names 参数设置等级名\n",
    "称，也可以在创建之后通过索引的 names 属性来修改名称："
   ]
  },
  {
   "cell_type": "markdown",
   "id": "2c475532-76ce-43aa-aa72-c4a33c9741d7",
   "metadata": {},
   "source": [
    "#### 简单理解,就是给有多级索引的列加上名字,最开始没有名字"
   ]
  },
  {
   "cell_type": "code",
   "execution_count": 23,
   "id": "02dcd322-edae-40d9-b9b4-b704798763f4",
   "metadata": {},
   "outputs": [
    {
     "data": {
      "text/plain": [
       "state       year\n",
       "California  2000    33871648\n",
       "            2010    37253956\n",
       "New York    2000    18976457\n",
       "            2010    19378102\n",
       "Texas       2000    20851820\n",
       "            2010    25145561\n",
       "dtype: int64"
      ]
     },
     "execution_count": 23,
     "metadata": {},
     "output_type": "execute_result"
    }
   ],
   "source": [
    "pop.index.names = ['state','year']\n",
    "pop"
   ]
  },
  {
   "cell_type": "markdown",
   "id": "a11ab4ee-acbf-4cad-8c79-2606588e18be",
   "metadata": {},
   "source": [
    "在处理复杂的数据时，为等级设置名称是管理多个索引值的好办\n",
    "法。"
   ]
  },
  {
   "cell_type": "markdown",
   "id": "9e0b9948-6b62-4795-a92b-43252d9274d0",
   "metadata": {},
   "source": [
    "#### ↑就比如爬虫爬取一个省份不同区的楼盘,就可以将区名设计为多级索引中的第一级索引"
   ]
  },
  {
   "cell_type": "markdown",
   "id": "cd85a6bc-9001-4998-a9d2-d225458c2777",
   "metadata": {},
   "source": [
    "03. 多级<span id='imp'>列索引</span>"
   ]
  },
  {
   "cell_type": "markdown",
   "id": "b371895e-4644-4c12-8a36-831546bbe7e1",
   "metadata": {},
   "source": [
    "#### 多级列索引在DataFrame中其实就是设置了列名"
   ]
  },
  {
   "cell_type": "markdown",
   "id": "cc0a7b40-00b9-4a14-b481-30303c72495b",
   "metadata": {},
   "source": [
    "每个 DataFrame 的行与列都是对称的，也就是说既然有多级行索\n",
    "引，那么同样可以有多级列索引。让我们通过一份医学报告的模拟\n",
    "数据来演示："
   ]
  },
  {
   "cell_type": "code",
   "execution_count": 24,
   "id": "e8446b1f-2f73-4253-a345-ebc86e202c68",
   "metadata": {},
   "outputs": [],
   "source": [
    "# 多行列索引,注意,是多'行/列'索引,而不是多行'列'索引,即,多行索引和多列索引\n",
    "# 注意这里用笛卡尔积里面的names其实就是上面.index.name那样为多级索引起名字\n",
    "index = pd.MultiIndex.from_product([[2013, 2014], [1, 2]],\n",
    "                                        names=['year', 'visit'])\n",
    "columns = pd.MultiIndex.from_product([['Bob', 'Guido', 'Sue'], ['HR', 'Temp']],\n",
    "                                        names=['subject', 'type'])"
   ]
  },
  {
   "cell_type": "code",
   "execution_count": 25,
   "id": "d6ecaa52-e4f8-4d72-8145-1c4ef7774291",
   "metadata": {},
   "outputs": [],
   "source": [
    "#模拟数据\n",
    "\n",
    "data = np.round(np.random.rand(4,6),1)\n",
    "data[:,::2] *= 10\n",
    "data+=37"
   ]
  },
  {
   "cell_type": "code",
   "execution_count": 26,
   "id": "cf2a640e-7e53-43e2-b77d-b5b7054384d8",
   "metadata": {},
   "outputs": [
    {
     "data": {
      "text/html": [
       "<div>\n",
       "<style scoped>\n",
       "    .dataframe tbody tr th:only-of-type {\n",
       "        vertical-align: middle;\n",
       "    }\n",
       "\n",
       "    .dataframe tbody tr th {\n",
       "        vertical-align: top;\n",
       "    }\n",
       "\n",
       "    .dataframe thead tr th {\n",
       "        text-align: left;\n",
       "    }\n",
       "\n",
       "    .dataframe thead tr:last-of-type th {\n",
       "        text-align: right;\n",
       "    }\n",
       "</style>\n",
       "<table border=\"1\" class=\"dataframe\">\n",
       "  <thead>\n",
       "    <tr>\n",
       "      <th></th>\n",
       "      <th>subject</th>\n",
       "      <th colspan=\"2\" halign=\"left\">Bob</th>\n",
       "      <th colspan=\"2\" halign=\"left\">Guido</th>\n",
       "      <th colspan=\"2\" halign=\"left\">Sue</th>\n",
       "    </tr>\n",
       "    <tr>\n",
       "      <th></th>\n",
       "      <th>type</th>\n",
       "      <th>HR</th>\n",
       "      <th>Temp</th>\n",
       "      <th>HR</th>\n",
       "      <th>Temp</th>\n",
       "      <th>HR</th>\n",
       "      <th>Temp</th>\n",
       "    </tr>\n",
       "    <tr>\n",
       "      <th>year</th>\n",
       "      <th>visit</th>\n",
       "      <th></th>\n",
       "      <th></th>\n",
       "      <th></th>\n",
       "      <th></th>\n",
       "      <th></th>\n",
       "      <th></th>\n",
       "    </tr>\n",
       "  </thead>\n",
       "  <tbody>\n",
       "    <tr>\n",
       "      <th rowspan=\"2\" valign=\"top\">2013</th>\n",
       "      <th>1</th>\n",
       "      <td>42.0</td>\n",
       "      <td>37.2</td>\n",
       "      <td>39.0</td>\n",
       "      <td>37.1</td>\n",
       "      <td>46.0</td>\n",
       "      <td>37.3</td>\n",
       "    </tr>\n",
       "    <tr>\n",
       "      <th>2</th>\n",
       "      <td>44.0</td>\n",
       "      <td>37.5</td>\n",
       "      <td>40.0</td>\n",
       "      <td>37.2</td>\n",
       "      <td>39.0</td>\n",
       "      <td>37.6</td>\n",
       "    </tr>\n",
       "    <tr>\n",
       "      <th rowspan=\"2\" valign=\"top\">2014</th>\n",
       "      <th>1</th>\n",
       "      <td>47.0</td>\n",
       "      <td>37.6</td>\n",
       "      <td>41.0</td>\n",
       "      <td>37.4</td>\n",
       "      <td>45.0</td>\n",
       "      <td>37.7</td>\n",
       "    </tr>\n",
       "    <tr>\n",
       "      <th>2</th>\n",
       "      <td>46.0</td>\n",
       "      <td>37.1</td>\n",
       "      <td>43.0</td>\n",
       "      <td>37.6</td>\n",
       "      <td>43.0</td>\n",
       "      <td>37.6</td>\n",
       "    </tr>\n",
       "  </tbody>\n",
       "</table>\n",
       "</div>"
      ],
      "text/plain": [
       "subject      Bob       Guido         Sue      \n",
       "type          HR  Temp    HR  Temp    HR  Temp\n",
       "year visit                                    \n",
       "2013 1      42.0  37.2  39.0  37.1  46.0  37.3\n",
       "     2      44.0  37.5  40.0  37.2  39.0  37.6\n",
       "2014 1      47.0  37.6  41.0  37.4  45.0  37.7\n",
       "     2      46.0  37.1  43.0  37.6  43.0  37.6"
      ]
     },
     "execution_count": 26,
     "metadata": {},
     "output_type": "execute_result"
    }
   ],
   "source": [
    "# 创建DataFrame\n",
    "health_data = pd.DataFrame(data,index=index,columns=columns)\n",
    "health_data"
   ]
  },
  {
   "cell_type": "markdown",
   "id": "d8e0c2e3-1fec-4676-959d-c703ddb02dba",
   "metadata": {},
   "source": [
    "多级行列索引的创建非常简单。上面创建了一个简易的四维数据，\n",
    "四个维度分别为被检查人的姓名、检查项目、检查年份和检查次\n",
    "数。可以在列索引的第一级查询姓名，从而获取包含一个人（例如\n",
    "Guido）全部检查信息的 DataFrame："
   ]
  },
  {
   "cell_type": "code",
   "execution_count": 27,
   "id": "f97faf9d-4673-49ec-bf31-e1e1629c7a93",
   "metadata": {},
   "outputs": [
    {
     "data": {
      "text/html": [
       "<div>\n",
       "<style scoped>\n",
       "    .dataframe tbody tr th:only-of-type {\n",
       "        vertical-align: middle;\n",
       "    }\n",
       "\n",
       "    .dataframe tbody tr th {\n",
       "        vertical-align: top;\n",
       "    }\n",
       "\n",
       "    .dataframe thead th {\n",
       "        text-align: right;\n",
       "    }\n",
       "</style>\n",
       "<table border=\"1\" class=\"dataframe\">\n",
       "  <thead>\n",
       "    <tr style=\"text-align: right;\">\n",
       "      <th></th>\n",
       "      <th>type</th>\n",
       "      <th>HR</th>\n",
       "      <th>Temp</th>\n",
       "    </tr>\n",
       "    <tr>\n",
       "      <th>year</th>\n",
       "      <th>visit</th>\n",
       "      <th></th>\n",
       "      <th></th>\n",
       "    </tr>\n",
       "  </thead>\n",
       "  <tbody>\n",
       "    <tr>\n",
       "      <th rowspan=\"2\" valign=\"top\">2013</th>\n",
       "      <th>1</th>\n",
       "      <td>39.0</td>\n",
       "      <td>37.1</td>\n",
       "    </tr>\n",
       "    <tr>\n",
       "      <th>2</th>\n",
       "      <td>40.0</td>\n",
       "      <td>37.2</td>\n",
       "    </tr>\n",
       "    <tr>\n",
       "      <th rowspan=\"2\" valign=\"top\">2014</th>\n",
       "      <th>1</th>\n",
       "      <td>41.0</td>\n",
       "      <td>37.4</td>\n",
       "    </tr>\n",
       "    <tr>\n",
       "      <th>2</th>\n",
       "      <td>43.0</td>\n",
       "      <td>37.6</td>\n",
       "    </tr>\n",
       "  </tbody>\n",
       "</table>\n",
       "</div>"
      ],
      "text/plain": [
       "type          HR  Temp\n",
       "year visit            \n",
       "2013 1      39.0  37.1\n",
       "     2      40.0  37.2\n",
       "2014 1      41.0  37.4\n",
       "     2      43.0  37.6"
      ]
     },
     "execution_count": 27,
     "metadata": {},
     "output_type": "execute_result"
    }
   ],
   "source": [
    "health_data['Guido']\n",
    "#注意DataFrame默认是按照列名称进行索引的,如果不清楚就回看DataFrame的索引方式"
   ]
  },
  {
   "cell_type": "markdown",
   "id": "3ca6a9ac-76d8-4654-86be-f12e2be2fb9d",
   "metadata": {},
   "source": [
    "如果想获取包含多种标签的数据，需要通过对多个维度（姓名、国\n",
    "家、城市等标签）的多次查询才能实现，这时使用多级行列索引进\n",
    "行查询会非常方便。\n"
   ]
  },
  {
   "cell_type": "markdown",
   "id": "3b518107-55a7-4d29-ba41-f6fde291f73d",
   "metadata": {},
   "source": [
    "## 3.6.3 多级索引的取值与切片"
   ]
  },
  {
   "cell_type": "markdown",
   "id": "ee9064c4-30e5-452b-9169-f45deb2a3cf9",
   "metadata": {},
   "source": [
    "对 MultiIndex 的取值和切片操作很直观，你可以直接把索引看成额外\n",
    "增加的维度。我们先来介绍 Series 多级索引的取值与切片方法，再介\n",
    "绍 DataFrame 的用法"
   ]
  },
  {
   "cell_type": "markdown",
   "id": "69382efd-95ad-4e65-b539-27b116021773",
   "metadata": {},
   "source": [
    "01. Series多级索引"
   ]
  },
  {
   "cell_type": "markdown",
   "id": "6cfdf203-7f60-413b-b804-b0cb49255d6d",
   "metadata": {},
   "source": [
    "看看下面由各州历年人口数量创建的多级索引 Series："
   ]
  },
  {
   "cell_type": "code",
   "execution_count": 28,
   "id": "0f771e3e-ca8a-4f76-a926-5d292f458644",
   "metadata": {},
   "outputs": [
    {
     "data": {
      "text/plain": [
       "state       year\n",
       "California  2000    33871648\n",
       "            2010    37253956\n",
       "New York    2000    18976457\n",
       "            2010    19378102\n",
       "Texas       2000    20851820\n",
       "            2010    25145561\n",
       "dtype: int64"
      ]
     },
     "execution_count": 28,
     "metadata": {},
     "output_type": "execute_result"
    }
   ],
   "source": [
    "pop"
   ]
  },
  {
   "cell_type": "code",
   "execution_count": 29,
   "id": "084effee-acdb-44f5-b630-e995d61c02ab",
   "metadata": {},
   "outputs": [
    {
     "data": {
      "text/html": [
       "<div>\n",
       "<style scoped>\n",
       "    .dataframe tbody tr th:only-of-type {\n",
       "        vertical-align: middle;\n",
       "    }\n",
       "\n",
       "    .dataframe tbody tr th {\n",
       "        vertical-align: top;\n",
       "    }\n",
       "\n",
       "    .dataframe thead th {\n",
       "        text-align: right;\n",
       "    }\n",
       "</style>\n",
       "<table border=\"1\" class=\"dataframe\">\n",
       "  <thead>\n",
       "    <tr style=\"text-align: right;\">\n",
       "      <th>year</th>\n",
       "      <th>2000</th>\n",
       "      <th>2010</th>\n",
       "    </tr>\n",
       "    <tr>\n",
       "      <th>state</th>\n",
       "      <th></th>\n",
       "      <th></th>\n",
       "    </tr>\n",
       "  </thead>\n",
       "  <tbody>\n",
       "    <tr>\n",
       "      <th>California</th>\n",
       "      <td>33871648</td>\n",
       "      <td>37253956</td>\n",
       "    </tr>\n",
       "    <tr>\n",
       "      <th>New York</th>\n",
       "      <td>18976457</td>\n",
       "      <td>19378102</td>\n",
       "    </tr>\n",
       "    <tr>\n",
       "      <th>Texas</th>\n",
       "      <td>20851820</td>\n",
       "      <td>25145561</td>\n",
       "    </tr>\n",
       "  </tbody>\n",
       "</table>\n",
       "</div>"
      ],
      "text/plain": [
       "year            2000      2010\n",
       "state                         \n",
       "California  33871648  37253956\n",
       "New York    18976457  19378102\n",
       "Texas       20851820  25145561"
      ]
     },
     "execution_count": 29,
     "metadata": {},
     "output_type": "execute_result"
    }
   ],
   "source": [
    "pop.unstack() #只是回顾一下,这里不用写\n",
    "#这里回顾一下unstack()将含有多级索引的series对象转换为带有普通索引的DataFrame对象"
   ]
  },
  {
   "cell_type": "markdown",
   "id": "81e3781a-3326-4ac9-90ba-4b046d026a2e",
   "metadata": {},
   "source": [
    "可以通过对多个级别索引值获取单个元素："
   ]
  },
  {
   "cell_type": "code",
   "execution_count": 30,
   "id": "399bfcb2-0038-414b-a643-d165bde11320",
   "metadata": {},
   "outputs": [
    {
     "data": {
      "text/plain": [
       "np.int64(33871648)"
      ]
     },
     "execution_count": 30,
     "metadata": {},
     "output_type": "execute_result"
    }
   ],
   "source": [
    "pop['California',2000] #获取加利福尼亚2000年的人口数据"
   ]
  },
  {
   "cell_type": "markdown",
   "id": "5d28bd06-4220-4e73-873c-a536be8bda75",
   "metadata": {},
   "source": [
    "MultiIndex 也支持局部取值（partial indexing），即只取索引的某\n",
    "一个层级。假如只取最高级的索引，获得的结果是一个新的\n",
    "Series，未被选中的低层索引值会被保留："
   ]
  },
  {
   "cell_type": "code",
   "execution_count": 31,
   "id": "0fcc05ef-1d81-4b74-8560-dca742187bb4",
   "metadata": {},
   "outputs": [
    {
     "data": {
      "text/plain": [
       "year\n",
       "2000    33871648\n",
       "2010    37253956\n",
       "dtype: int64"
      ]
     },
     "execution_count": 31,
     "metadata": {},
     "output_type": "execute_result"
    }
   ],
   "source": [
    "pop['California']"
   ]
  },
  {
   "cell_type": "markdown",
   "id": "3be62ea8-f637-41e3-9fff-aa455df7694e",
   "metadata": {},
   "source": [
    "类似的还有局部切片，不过要求 MultiIndex 是按顺序排列的（就\n",
    "像将在 3.6.4 节介绍的那样）："
   ]
  },
  {
   "cell_type": "code",
   "execution_count": 32,
   "id": "ca5e56fd-9ce8-43cd-b2f3-4df0ba90b63d",
   "metadata": {},
   "outputs": [
    {
     "data": {
      "text/plain": [
       "state       year\n",
       "California  2000    33871648\n",
       "            2010    37253956\n",
       "New York    2000    18976457\n",
       "            2010    19378102\n",
       "dtype: int64"
      ]
     },
     "execution_count": 32,
     "metadata": {},
     "output_type": "execute_result"
    }
   ],
   "source": [
    "pop.loc['California':'New Yourk']"
   ]
  },
  {
   "cell_type": "markdown",
   "id": "a2a5b7ea-c40e-4d20-b50c-fcb324186971",
   "metadata": {},
   "source": [
    "如果索引已经排序，那么可以用较低层级的索引取值，第一层级的\n",
    "索引可以用空切片："
   ]
  },
  {
   "cell_type": "markdown",
   "id": "448bc9eb-82e8-447a-98bb-dd7369e7342c",
   "metadata": {},
   "source": [
    "#### 下面一行代码的简单理解,就是行全选,列的话只要2000年的"
   ]
  },
  {
   "cell_type": "code",
   "execution_count": 33,
   "id": "f9ac7cfd-3dbd-443e-9b0b-29584e65865a",
   "metadata": {},
   "outputs": [
    {
     "data": {
      "text/plain": [
       "state\n",
       "California    33871648\n",
       "New York      18976457\n",
       "Texas         20851820\n",
       "dtype: int64"
      ]
     },
     "execution_count": 33,
     "metadata": {},
     "output_type": "execute_result"
    }
   ],
   "source": [
    "pop[:,2000]"
   ]
  },
  {
   "cell_type": "markdown",
   "id": "6c4bb3a6-b6c4-4ba2-beef-8206f6cb4316",
   "metadata": {},
   "source": [
    "其他取值与数据选择的方法（详情请参见 3.3 节）也都起作用。下\n",
    "面的例子是通过布尔掩码选择数据："
   ]
  },
  {
   "cell_type": "code",
   "execution_count": 34,
   "id": "35770782-4169-4ccb-be11-869e01325c36",
   "metadata": {},
   "outputs": [
    {
     "data": {
      "text/plain": [
       "state       year\n",
       "California  2000    33871648\n",
       "            2010    37253956\n",
       "Texas       2010    25145561\n",
       "dtype: int64"
      ]
     },
     "execution_count": 34,
     "metadata": {},
     "output_type": "execute_result"
    }
   ],
   "source": [
    "pop[pop>22000000]"
   ]
  },
  {
   "cell_type": "markdown",
   "id": "73c1b574-47a7-4593-90db-e911b3c9c380",
   "metadata": {},
   "source": [
    "也可以用花哨的索引选择数据："
   ]
  },
  {
   "cell_type": "code",
   "execution_count": 35,
   "id": "a202f42e-46ef-4feb-8e47-00185745c3b8",
   "metadata": {},
   "outputs": [
    {
     "data": {
      "text/plain": [
       "state       year\n",
       "California  2000    33871648\n",
       "            2010    37253956\n",
       "Texas       2000    20851820\n",
       "            2010    25145561\n",
       "dtype: int64"
      ]
     },
     "execution_count": 35,
     "metadata": {},
     "output_type": "execute_result"
    }
   ],
   "source": [
    "pop[['California','Texas']]"
   ]
  },
  {
   "cell_type": "markdown",
   "id": "bf44f93d-b211-4abe-9dc3-6b8c82c804dd",
   "metadata": {},
   "source": [
    "02. DataFrame多级索引"
   ]
  },
  {
   "cell_type": "markdown",
   "id": "55992d56-8c63-4185-99c8-b09dc42c54d6",
   "metadata": {},
   "source": [
    "DataFrame 多级索引的用法与 Series 类似。还用之前的体检报告\n",
    "数据来演示："
   ]
  },
  {
   "cell_type": "code",
   "execution_count": 36,
   "id": "67f11ed4-7227-431c-a94a-3a8a5c0edfc0",
   "metadata": {},
   "outputs": [
    {
     "data": {
      "text/html": [
       "<div>\n",
       "<style scoped>\n",
       "    .dataframe tbody tr th:only-of-type {\n",
       "        vertical-align: middle;\n",
       "    }\n",
       "\n",
       "    .dataframe tbody tr th {\n",
       "        vertical-align: top;\n",
       "    }\n",
       "\n",
       "    .dataframe thead tr th {\n",
       "        text-align: left;\n",
       "    }\n",
       "\n",
       "    .dataframe thead tr:last-of-type th {\n",
       "        text-align: right;\n",
       "    }\n",
       "</style>\n",
       "<table border=\"1\" class=\"dataframe\">\n",
       "  <thead>\n",
       "    <tr>\n",
       "      <th></th>\n",
       "      <th>subject</th>\n",
       "      <th colspan=\"2\" halign=\"left\">Bob</th>\n",
       "      <th colspan=\"2\" halign=\"left\">Guido</th>\n",
       "      <th colspan=\"2\" halign=\"left\">Sue</th>\n",
       "    </tr>\n",
       "    <tr>\n",
       "      <th></th>\n",
       "      <th>type</th>\n",
       "      <th>HR</th>\n",
       "      <th>Temp</th>\n",
       "      <th>HR</th>\n",
       "      <th>Temp</th>\n",
       "      <th>HR</th>\n",
       "      <th>Temp</th>\n",
       "    </tr>\n",
       "    <tr>\n",
       "      <th>year</th>\n",
       "      <th>visit</th>\n",
       "      <th></th>\n",
       "      <th></th>\n",
       "      <th></th>\n",
       "      <th></th>\n",
       "      <th></th>\n",
       "      <th></th>\n",
       "    </tr>\n",
       "  </thead>\n",
       "  <tbody>\n",
       "    <tr>\n",
       "      <th rowspan=\"2\" valign=\"top\">2013</th>\n",
       "      <th>1</th>\n",
       "      <td>42.0</td>\n",
       "      <td>37.2</td>\n",
       "      <td>39.0</td>\n",
       "      <td>37.1</td>\n",
       "      <td>46.0</td>\n",
       "      <td>37.3</td>\n",
       "    </tr>\n",
       "    <tr>\n",
       "      <th>2</th>\n",
       "      <td>44.0</td>\n",
       "      <td>37.5</td>\n",
       "      <td>40.0</td>\n",
       "      <td>37.2</td>\n",
       "      <td>39.0</td>\n",
       "      <td>37.6</td>\n",
       "    </tr>\n",
       "    <tr>\n",
       "      <th rowspan=\"2\" valign=\"top\">2014</th>\n",
       "      <th>1</th>\n",
       "      <td>47.0</td>\n",
       "      <td>37.6</td>\n",
       "      <td>41.0</td>\n",
       "      <td>37.4</td>\n",
       "      <td>45.0</td>\n",
       "      <td>37.7</td>\n",
       "    </tr>\n",
       "    <tr>\n",
       "      <th>2</th>\n",
       "      <td>46.0</td>\n",
       "      <td>37.1</td>\n",
       "      <td>43.0</td>\n",
       "      <td>37.6</td>\n",
       "      <td>43.0</td>\n",
       "      <td>37.6</td>\n",
       "    </tr>\n",
       "  </tbody>\n",
       "</table>\n",
       "</div>"
      ],
      "text/plain": [
       "subject      Bob       Guido         Sue      \n",
       "type          HR  Temp    HR  Temp    HR  Temp\n",
       "year visit                                    \n",
       "2013 1      42.0  37.2  39.0  37.1  46.0  37.3\n",
       "     2      44.0  37.5  40.0  37.2  39.0  37.6\n",
       "2014 1      47.0  37.6  41.0  37.4  45.0  37.7\n",
       "     2      46.0  37.1  43.0  37.6  43.0  37.6"
      ]
     },
     "execution_count": 36,
     "metadata": {},
     "output_type": "execute_result"
    }
   ],
   "source": [
    "health_data"
   ]
  },
  {
   "cell_type": "markdown",
   "id": "d49de621-2c01-4e34-b960-e5a044b53d39",
   "metadata": {},
   "source": [
    "由于 DataFrame 的基本索引是列索引，因此 Series 中多级索引\n",
    "的用法到了 DataFrame 中就应用在列上了。例如，可以通过简单\n",
    "的操作获取 Guido 的心率数据："
   ]
  },
  {
   "cell_type": "code",
   "execution_count": 37,
   "id": "5c136280-f9da-46eb-bf17-44b596b1e75a",
   "metadata": {},
   "outputs": [
    {
     "data": {
      "text/plain": [
       "year  visit\n",
       "2013  1        39.0\n",
       "      2        40.0\n",
       "2014  1        41.0\n",
       "      2        43.0\n",
       "Name: (Guido, HR), dtype: float64"
      ]
     },
     "execution_count": 37,
     "metadata": {},
     "output_type": "execute_result"
    }
   ],
   "source": [
    "health_data['Guido','HR']"
   ]
  },
  {
   "cell_type": "markdown",
   "id": "59c003ae-ddb8-4fcf-bca3-3b83bec415f5",
   "metadata": {},
   "source": [
    "与单索引类似，在 3.3 节介绍的 loc(显式索引)、iloc(隐式索引) 和 ix 索引器都可以使\n",
    "用，例如："
   ]
  },
  {
   "cell_type": "code",
   "execution_count": 38,
   "id": "88a12390-78ce-45f2-80d2-c8f747b54ad0",
   "metadata": {},
   "outputs": [
    {
     "data": {
      "text/html": [
       "<div>\n",
       "<style scoped>\n",
       "    .dataframe tbody tr th:only-of-type {\n",
       "        vertical-align: middle;\n",
       "    }\n",
       "\n",
       "    .dataframe tbody tr th {\n",
       "        vertical-align: top;\n",
       "    }\n",
       "\n",
       "    .dataframe thead tr th {\n",
       "        text-align: left;\n",
       "    }\n",
       "\n",
       "    .dataframe thead tr:last-of-type th {\n",
       "        text-align: right;\n",
       "    }\n",
       "</style>\n",
       "<table border=\"1\" class=\"dataframe\">\n",
       "  <thead>\n",
       "    <tr>\n",
       "      <th></th>\n",
       "      <th>subject</th>\n",
       "      <th colspan=\"2\" halign=\"left\">Bob</th>\n",
       "    </tr>\n",
       "    <tr>\n",
       "      <th></th>\n",
       "      <th>type</th>\n",
       "      <th>HR</th>\n",
       "      <th>Temp</th>\n",
       "    </tr>\n",
       "    <tr>\n",
       "      <th>year</th>\n",
       "      <th>visit</th>\n",
       "      <th></th>\n",
       "      <th></th>\n",
       "    </tr>\n",
       "  </thead>\n",
       "  <tbody>\n",
       "    <tr>\n",
       "      <th rowspan=\"2\" valign=\"top\">2013</th>\n",
       "      <th>1</th>\n",
       "      <td>42.0</td>\n",
       "      <td>37.2</td>\n",
       "    </tr>\n",
       "    <tr>\n",
       "      <th>2</th>\n",
       "      <td>44.0</td>\n",
       "      <td>37.5</td>\n",
       "    </tr>\n",
       "  </tbody>\n",
       "</table>\n",
       "</div>"
      ],
      "text/plain": [
       "subject      Bob      \n",
       "type          HR  Temp\n",
       "year visit            \n",
       "2013 1      42.0  37.2\n",
       "     2      44.0  37.5"
      ]
     },
     "execution_count": 38,
     "metadata": {},
     "output_type": "execute_result"
    }
   ],
   "source": [
    "health_data.iloc[:2,:2] #这里用的是隐式索引,即取数据的第0行和第1行,第0列和第1列"
   ]
  },
  {
   "cell_type": "markdown",
   "id": "8ba39730-8614-4137-9d0b-9ce90e667d4d",
   "metadata": {},
   "source": [
    "虽然这些索引器将多维数据当作二维数据处理，<span id='imp'>但是在 loc 和\n",
    "iloc 中可以传递多个层级的索引元组</span>，例如："
   ]
  },
  {
   "cell_type": "code",
   "execution_count": 39,
   "id": "8ca03668-5386-47a7-9b12-a64f979b0cc4",
   "metadata": {},
   "outputs": [
    {
     "data": {
      "text/plain": [
       "year  visit\n",
       "2013  1        42.0\n",
       "      2        44.0\n",
       "2014  1        47.0\n",
       "      2        46.0\n",
       "Name: (Bob, HR), dtype: float64"
      ]
     },
     "execution_count": 39,
     "metadata": {},
     "output_type": "execute_result"
    }
   ],
   "source": [
    "health_data.loc[:,('Bob','HR')]\n",
    "#这里的意思就是行全取(index都保留),列只取Bob级下的HR,可以对比上面的图来看"
   ]
  },
  {
   "cell_type": "markdown",
   "id": "835f41e1-4a61-4f0c-8261-fadf953de933",
   "metadata": {},
   "source": [
    "这种索引元组的用法不是很方便，如果在元组中使用切片还会导致\n",
    "语法错误：\n"
   ]
  },
  {
   "cell_type": "code",
   "execution_count": 40,
   "id": "4197bafc-2243-4853-b746-28024acbb646",
   "metadata": {},
   "outputs": [
    {
     "ename": "SyntaxError",
     "evalue": "invalid syntax (2673756362.py, line 2)",
     "output_type": "error",
     "traceback": [
      "\u001b[1;36m  Cell \u001b[1;32mIn[40], line 2\u001b[1;36m\u001b[0m\n\u001b[1;33m    health_data.loc[(:,1),(:,'HR')]\u001b[0m\n\u001b[1;37m                     ^\u001b[0m\n\u001b[1;31mSyntaxError\u001b[0m\u001b[1;31m:\u001b[0m invalid syntax\n"
     ]
    }
   ],
   "source": [
    "try:\n",
    "    health_data.loc[(:,1),(:,'HR')]\n",
    "except  SyntaxError as e:\n",
    "    print(e);"
   ]
  },
  {
   "cell_type": "markdown",
   "id": "b53aa53a-4800-4e42-8106-2ec1eaa70835",
   "metadata": {},
   "source": [
    "虽然你可以用 Python 内置的 slice() 函数获取想要的切片，但是\n",
    "还有一种更好的办法，就是使用 IndexSlice 对象。Pandas 专门用\n",
    "它解决这类问题，例如："
   ]
  },
  {
   "cell_type": "markdown",
   "id": "dae14459-efee-4b1b-9edf-f828a918afc1",
   "metadata": {},
   "source": [
    "<p class='raw'>简单理解下面的代码,创建一个索引对象  \n",
    "然后利用显式索引,一级行索引都要,二级行索引要第一个次数的  \n",
    "一级列索引都要,但是二级列索引只要‘HR’这一列的数据</p>"
   ]
  },
  {
   "cell_type": "code",
   "execution_count": 41,
   "id": "da91e083-5cc0-4d6f-8612-8b488deab508",
   "metadata": {},
   "outputs": [
    {
     "data": {
      "text/html": [
       "<div>\n",
       "<style scoped>\n",
       "    .dataframe tbody tr th:only-of-type {\n",
       "        vertical-align: middle;\n",
       "    }\n",
       "\n",
       "    .dataframe tbody tr th {\n",
       "        vertical-align: top;\n",
       "    }\n",
       "\n",
       "    .dataframe thead tr th {\n",
       "        text-align: left;\n",
       "    }\n",
       "\n",
       "    .dataframe thead tr:last-of-type th {\n",
       "        text-align: right;\n",
       "    }\n",
       "</style>\n",
       "<table border=\"1\" class=\"dataframe\">\n",
       "  <thead>\n",
       "    <tr>\n",
       "      <th></th>\n",
       "      <th>subject</th>\n",
       "      <th>Bob</th>\n",
       "      <th>Guido</th>\n",
       "      <th>Sue</th>\n",
       "    </tr>\n",
       "    <tr>\n",
       "      <th></th>\n",
       "      <th>type</th>\n",
       "      <th>HR</th>\n",
       "      <th>HR</th>\n",
       "      <th>HR</th>\n",
       "    </tr>\n",
       "    <tr>\n",
       "      <th>year</th>\n",
       "      <th>visit</th>\n",
       "      <th></th>\n",
       "      <th></th>\n",
       "      <th></th>\n",
       "    </tr>\n",
       "  </thead>\n",
       "  <tbody>\n",
       "    <tr>\n",
       "      <th>2013</th>\n",
       "      <th>1</th>\n",
       "      <td>42.0</td>\n",
       "      <td>39.0</td>\n",
       "      <td>46.0</td>\n",
       "    </tr>\n",
       "    <tr>\n",
       "      <th>2014</th>\n",
       "      <th>1</th>\n",
       "      <td>47.0</td>\n",
       "      <td>41.0</td>\n",
       "      <td>45.0</td>\n",
       "    </tr>\n",
       "  </tbody>\n",
       "</table>\n",
       "</div>"
      ],
      "text/plain": [
       "subject      Bob Guido   Sue\n",
       "type          HR    HR    HR\n",
       "year visit                  \n",
       "2013 1      42.0  39.0  46.0\n",
       "2014 1      47.0  41.0  45.0"
      ]
     },
     "execution_count": 41,
     "metadata": {},
     "output_type": "execute_result"
    }
   ],
   "source": [
    "idx = pd.IndexSlice #我们先创建一个索引对象\n",
    "health_data.loc[idx[:,1],idx[:,'HR']]"
   ]
  },
  {
   "cell_type": "markdown",
   "id": "71957284-8187-40cc-99e3-e6d909eceddf",
   "metadata": {},
   "source": [
    "和带多级索引的 Series 和 DataFrame 进行数据交互的方法有很\n",
    "多，但就像本书中的诸多工具一样，若想掌握它们，最好的办法就\n",
    "是使用它们！\n"
   ]
  },
  {
   "cell_type": "markdown",
   "id": "ba9511d8-6e2f-4001-a1bf-ecb9492fe5b4",
   "metadata": {},
   "source": [
    "## 3.6.4 多级索引行列转换"
   ]
  },
  {
   "cell_type": "markdown",
   "id": "001448e0-d61a-4baf-b09c-0b3089a47b07",
   "metadata": {},
   "source": [
    "使用多级索引的关键是掌握有效数据转换的方法。Pandas 提供了许多操\n",
    "作，可以让数据在内容保持不变的同时，按照需要进行行列转换。之前\n",
    "我们用一个简短的例子演示过 stack() 和 unstack() 的用法，但其实\n",
    "还有许多合理控制层级行列索引的方法，让我们来一探究竟。"
   ]
  },
  {
   "cell_type": "markdown",
   "id": "72e3fc2b-d69a-4abc-a3a4-a4010ef66d63",
   "metadata": {},
   "source": [
    "01. 有序的索引和无序的索引"
   ]
  },
  {
   "cell_type": "markdown",
   "id": "06f5dbbb-f7d0-4847-bede-8f750af9c292",
   "metadata": {},
   "source": [
    "在前面的内容里，我们曾经简单提过多级索引排序，这里需要详细\n",
    "介绍一下。 <span id='imp'>如果 MultiIndex 不是有序的索引，那么大多数切片\n",
    "操作都会失败。</span>让我们演示一下。  \n",
    "首先创建一个不按字典顺序（lexographically）排列的多级索引\n",
    "Series：  "
   ]
  },
  {
   "cell_type": "code",
   "execution_count": 42,
   "id": "ef3a428d-3273-4df7-b8d3-15298e5c9e57",
   "metadata": {},
   "outputs": [
    {
     "data": {
      "text/plain": [
       "char  int\n",
       "a     1      0.568417\n",
       "      2      0.562527\n",
       "c     1      0.013964\n",
       "      2      0.553747\n",
       "b     1      0.961236\n",
       "      2      0.295988\n",
       "dtype: float64"
      ]
     },
     "execution_count": 42,
     "metadata": {},
     "output_type": "execute_result"
    }
   ],
   "source": [
    "#创建一个多级索引\n",
    "index = pd.MultiIndex.from_product([['a', 'c', 'b'], [1, 2]]) \n",
    "# 数据准备,并指定行索引\n",
    "data = pd.Series(np.random.rand(6),index=index)\n",
    "# 给数据列命名\n",
    "data.index.names = ['char','int']\n",
    "data"
   ]
  },
  {
   "cell_type": "markdown",
   "id": "65349f70-e39d-46ec-8bd4-212eccba43d6",
   "metadata": {},
   "source": [
    "如果想<span id='imp'>对索引使用局部切片，那么错误就会出现</span>："
   ]
  },
  {
   "cell_type": "code",
   "execution_count": 43,
   "id": "5340d92c-825d-4c93-bee4-1ef859aa2d1e",
   "metadata": {},
   "outputs": [
    {
     "name": "stdout",
     "output_type": "stream",
     "text": [
      "<class 'pandas.errors.UnsortedIndexError'>\n",
      "'Key length (1) was greater than MultiIndex lexsort depth (0)'\n"
     ]
    }
   ],
   "source": [
    "try:\n",
    "    data['a':'b'] #这里用的是显式索引\n",
    "except BaseException as e:\n",
    "    print(type(e))\n",
    "    print(e)"
   ]
  },
  {
   "cell_type": "markdown",
   "id": "15eca9af-5ad0-4c0d-8cc0-0f673fc8ff6d",
   "metadata": {},
   "source": [
    "尽管从错误信息里面看不出具体的细节，但问题是出在\n",
    "MultiIndex 无序排列上。<span id='imp'>局部切片和许多其他相似的操作都要求\n",
    "MultiIndex 的各级索引是有序的（即按照字典顺序由 A 至 Z）。</span>\n",
    "为此，Pandas 提供了许多便捷的操作完成排序，如 sort_index()\n",
    "和 sortlevel() 方法。我们用最简单的 sort_index() 方法来演示：\n"
   ]
  },
  {
   "cell_type": "code",
   "execution_count": 44,
   "id": "02817bb4-b7ce-4cb6-b692-5e04fe1630f6",
   "metadata": {},
   "outputs": [
    {
     "data": {
      "text/plain": [
       "char  int\n",
       "a     1      0.568417\n",
       "      2      0.562527\n",
       "b     1      0.961236\n",
       "      2      0.295988\n",
       "c     1      0.013964\n",
       "      2      0.553747\n",
       "dtype: float64"
      ]
     },
     "execution_count": 44,
     "metadata": {},
     "output_type": "execute_result"
    }
   ],
   "source": [
    "data = data.sort_index()\n",
    "data"
   ]
  },
  {
   "cell_type": "markdown",
   "id": "2fbac626-b411-43ef-8672-e4aa69f7fd27",
   "metadata": {},
   "source": [
    "索引排序之后，局部切片就可以正常使用了："
   ]
  },
  {
   "cell_type": "code",
   "execution_count": 45,
   "id": "a0e4179d-f657-4d93-b323-2b484dcbdeef",
   "metadata": {},
   "outputs": [
    {
     "data": {
      "text/plain": [
       "char  int\n",
       "a     1      0.568417\n",
       "      2      0.562527\n",
       "b     1      0.961236\n",
       "      2      0.295988\n",
       "dtype: float64"
      ]
     },
     "execution_count": 45,
     "metadata": {},
     "output_type": "execute_result"
    }
   ],
   "source": [
    "data['a':'b']"
   ]
  },
  {
   "cell_type": "markdown",
   "id": "ccaaea69-d6e5-4e2d-b22e-8b06b6e6db89",
   "metadata": {},
   "source": [
    "02. 索引stack与unstack"
   ]
  },
  {
   "cell_type": "markdown",
   "id": "72ccd7a5-d27a-4e3f-83a7-235c87503c87",
   "metadata": {},
   "source": [
    "前文曾提过，我们可以将一个多级索引数据集转换成简单的二维形\n",
    "式，<span id='imp'>可以通过 level 参数设置转换的索引层级：</span>"
   ]
  },
  {
   "cell_type": "markdown",
   "id": "a94aff8c-bdc9-4167-88f3-d358921af12e",
   "metadata": {},
   "source": [
    "#### 我们先来看一下unstack的一些参数"
   ]
  },
  {
   "cell_type": "code",
   "execution_count": 46,
   "id": "5433f4a5-101e-4bd8-b819-0bc7f4df727c",
   "metadata": {},
   "outputs": [
    {
     "data": {
      "text/plain": [
       "\u001b[1;31mSignature:\u001b[0m\n",
       "\u001b[0mpop\u001b[0m\u001b[1;33m.\u001b[0m\u001b[0munstack\u001b[0m\u001b[1;33m(\u001b[0m\u001b[1;33m\n",
       "\u001b[0m    \u001b[0mlevel\u001b[0m\u001b[1;33m:\u001b[0m \u001b[1;34m'IndexLabel'\u001b[0m \u001b[1;33m=\u001b[0m \u001b[1;33m-\u001b[0m\u001b[1;36m1\u001b[0m\u001b[1;33m,\u001b[0m\u001b[1;33m\n",
       "\u001b[0m    \u001b[0mfill_value\u001b[0m\u001b[1;33m:\u001b[0m \u001b[1;34m'Hashable | None'\u001b[0m \u001b[1;33m=\u001b[0m \u001b[1;32mNone\u001b[0m\u001b[1;33m,\u001b[0m\u001b[1;33m\n",
       "\u001b[0m    \u001b[0msort\u001b[0m\u001b[1;33m:\u001b[0m \u001b[1;34m'bool'\u001b[0m \u001b[1;33m=\u001b[0m \u001b[1;32mTrue\u001b[0m\u001b[1;33m,\u001b[0m\u001b[1;33m\n",
       "\u001b[0m\u001b[1;33m)\u001b[0m \u001b[1;33m->\u001b[0m \u001b[1;34m'DataFrame'\u001b[0m\u001b[1;33m\u001b[0m\u001b[1;33m\u001b[0m\u001b[0m\n",
       "\u001b[1;31mDocstring:\u001b[0m\n",
       "Unstack, also known as pivot, Series with MultiIndex to produce DataFrame.\n",
       "\n",
       "Parameters\n",
       "----------\n",
       "level : int, str, or list of these, default last level\n",
       "    Level(s) to unstack, can pass level name.\n",
       "fill_value : scalar value, default None\n",
       "    Value to use when replacing NaN values.\n",
       "sort : bool, default True\n",
       "    Sort the level(s) in the resulting MultiIndex columns.\n",
       "\n",
       "Returns\n",
       "-------\n",
       "DataFrame\n",
       "    Unstacked Series.\n",
       "\n",
       "Notes\n",
       "-----\n",
       "Reference :ref:`the user guide <reshaping.stacking>` for more examples.\n",
       "\n",
       "Examples\n",
       "--------\n",
       ">>> s = pd.Series([1, 2, 3, 4],\n",
       "...               index=pd.MultiIndex.from_product([['one', 'two'],\n",
       "...                                                 ['a', 'b']]))\n",
       ">>> s\n",
       "one  a    1\n",
       "     b    2\n",
       "two  a    3\n",
       "     b    4\n",
       "dtype: int64\n",
       "\n",
       ">>> s.unstack(level=-1)\n",
       "     a  b\n",
       "one  1  2\n",
       "two  3  4\n",
       "\n",
       ">>> s.unstack(level=0)\n",
       "   one  two\n",
       "a    1    3\n",
       "b    2    4\n",
       "\u001b[1;31mFile:\u001b[0m      d:\\virtualenvs\\ai\\lib\\site-packages\\pandas\\core\\series.py\n",
       "\u001b[1;31mType:\u001b[0m      method"
      ]
     },
     "metadata": {},
     "output_type": "display_data"
    }
   ],
   "source": [
    "pop.unstack?"
   ]
  },
  {
   "cell_type": "markdown",
   "id": "ff821c00-5af3-4b0d-a079-44763dd81750",
   "metadata": {},
   "source": [
    "#### 注意观察上面的实例代码,还是很生动形象的"
   ]
  },
  {
   "cell_type": "markdown",
   "id": "901fb43f-672b-4a48-b9e4-ce2cc21d7b5c",
   "metadata": {},
   "source": [
    "先来看看不指定参数的原始数据的排布样式"
   ]
  },
  {
   "cell_type": "code",
   "execution_count": 47,
   "id": "d96ac30a-55ca-407b-840b-d5ad06e26959",
   "metadata": {},
   "outputs": [
    {
     "data": {
      "text/html": [
       "<div>\n",
       "<style scoped>\n",
       "    .dataframe tbody tr th:only-of-type {\n",
       "        vertical-align: middle;\n",
       "    }\n",
       "\n",
       "    .dataframe tbody tr th {\n",
       "        vertical-align: top;\n",
       "    }\n",
       "\n",
       "    .dataframe thead th {\n",
       "        text-align: right;\n",
       "    }\n",
       "</style>\n",
       "<table border=\"1\" class=\"dataframe\">\n",
       "  <thead>\n",
       "    <tr style=\"text-align: right;\">\n",
       "      <th>year</th>\n",
       "      <th>2000</th>\n",
       "      <th>2010</th>\n",
       "    </tr>\n",
       "    <tr>\n",
       "      <th>state</th>\n",
       "      <th></th>\n",
       "      <th></th>\n",
       "    </tr>\n",
       "  </thead>\n",
       "  <tbody>\n",
       "    <tr>\n",
       "      <th>California</th>\n",
       "      <td>33871648</td>\n",
       "      <td>37253956</td>\n",
       "    </tr>\n",
       "    <tr>\n",
       "      <th>New York</th>\n",
       "      <td>18976457</td>\n",
       "      <td>19378102</td>\n",
       "    </tr>\n",
       "    <tr>\n",
       "      <th>Texas</th>\n",
       "      <td>20851820</td>\n",
       "      <td>25145561</td>\n",
       "    </tr>\n",
       "  </tbody>\n",
       "</table>\n",
       "</div>"
      ],
      "text/plain": [
       "year            2000      2010\n",
       "state                         \n",
       "California  33871648  37253956\n",
       "New York    18976457  19378102\n",
       "Texas       20851820  25145561"
      ]
     },
     "execution_count": 47,
     "metadata": {},
     "output_type": "execute_result"
    }
   ],
   "source": [
    "pop.unstack()"
   ]
  },
  {
   "cell_type": "code",
   "execution_count": 48,
   "id": "b91c64ac-4ca4-4bc5-9250-b64c0b110c29",
   "metadata": {},
   "outputs": [
    {
     "data": {
      "text/html": [
       "<div>\n",
       "<style scoped>\n",
       "    .dataframe tbody tr th:only-of-type {\n",
       "        vertical-align: middle;\n",
       "    }\n",
       "\n",
       "    .dataframe tbody tr th {\n",
       "        vertical-align: top;\n",
       "    }\n",
       "\n",
       "    .dataframe thead th {\n",
       "        text-align: right;\n",
       "    }\n",
       "</style>\n",
       "<table border=\"1\" class=\"dataframe\">\n",
       "  <thead>\n",
       "    <tr style=\"text-align: right;\">\n",
       "      <th>year</th>\n",
       "      <th>2000</th>\n",
       "      <th>2010</th>\n",
       "    </tr>\n",
       "    <tr>\n",
       "      <th>state</th>\n",
       "      <th></th>\n",
       "      <th></th>\n",
       "    </tr>\n",
       "  </thead>\n",
       "  <tbody>\n",
       "    <tr>\n",
       "      <th>California</th>\n",
       "      <td>33871648</td>\n",
       "      <td>37253956</td>\n",
       "    </tr>\n",
       "    <tr>\n",
       "      <th>New York</th>\n",
       "      <td>18976457</td>\n",
       "      <td>19378102</td>\n",
       "    </tr>\n",
       "    <tr>\n",
       "      <th>Texas</th>\n",
       "      <td>20851820</td>\n",
       "      <td>25145561</td>\n",
       "    </tr>\n",
       "  </tbody>\n",
       "</table>\n",
       "</div>"
      ],
      "text/plain": [
       "year            2000      2010\n",
       "state                         \n",
       "California  33871648  37253956\n",
       "New York    18976457  19378102\n",
       "Texas       20851820  25145561"
      ]
     },
     "execution_count": 48,
     "metadata": {},
     "output_type": "execute_result"
    }
   ],
   "source": [
    "pop.unstack(level=1) #可以看到和上面的结果是一样的,默认就是level=1"
   ]
  },
  {
   "cell_type": "code",
   "execution_count": 49,
   "id": "7117416f-f045-4bea-b311-ba6bb340a79f",
   "metadata": {},
   "outputs": [
    {
     "data": {
      "text/html": [
       "<div>\n",
       "<style scoped>\n",
       "    .dataframe tbody tr th:only-of-type {\n",
       "        vertical-align: middle;\n",
       "    }\n",
       "\n",
       "    .dataframe tbody tr th {\n",
       "        vertical-align: top;\n",
       "    }\n",
       "\n",
       "    .dataframe thead th {\n",
       "        text-align: right;\n",
       "    }\n",
       "</style>\n",
       "<table border=\"1\" class=\"dataframe\">\n",
       "  <thead>\n",
       "    <tr style=\"text-align: right;\">\n",
       "      <th>state</th>\n",
       "      <th>California</th>\n",
       "      <th>New York</th>\n",
       "      <th>Texas</th>\n",
       "    </tr>\n",
       "    <tr>\n",
       "      <th>year</th>\n",
       "      <th></th>\n",
       "      <th></th>\n",
       "      <th></th>\n",
       "    </tr>\n",
       "  </thead>\n",
       "  <tbody>\n",
       "    <tr>\n",
       "      <th>2000</th>\n",
       "      <td>33871648</td>\n",
       "      <td>18976457</td>\n",
       "      <td>20851820</td>\n",
       "    </tr>\n",
       "    <tr>\n",
       "      <th>2010</th>\n",
       "      <td>37253956</td>\n",
       "      <td>19378102</td>\n",
       "      <td>25145561</td>\n",
       "    </tr>\n",
       "  </tbody>\n",
       "</table>\n",
       "</div>"
      ],
      "text/plain": [
       "state  California  New York     Texas\n",
       "year                                 \n",
       "2000     33871648  18976457  20851820\n",
       "2010     37253956  19378102  25145561"
      ]
     },
     "execution_count": 49,
     "metadata": {},
     "output_type": "execute_result"
    }
   ],
   "source": [
    "pop.unstack(level=0) #接下来尝试一下level=0"
   ]
  },
  {
   "cell_type": "markdown",
   "id": "d09fec69-1f53-4247-914f-7c4f36c30b2c",
   "metadata": {},
   "source": [
    "#### 可以发现与原来的相比,level=0使得轴线发生变换,行变成了列,列变成了行"
   ]
  },
  {
   "cell_type": "code",
   "execution_count": 50,
   "id": "4f7f3404-be72-4289-997d-ca51ca5c59f5",
   "metadata": {},
   "outputs": [
    {
     "data": {
      "text/html": [
       "<div>\n",
       "<style scoped>\n",
       "    .dataframe tbody tr th:only-of-type {\n",
       "        vertical-align: middle;\n",
       "    }\n",
       "\n",
       "    .dataframe tbody tr th {\n",
       "        vertical-align: top;\n",
       "    }\n",
       "\n",
       "    .dataframe thead th {\n",
       "        text-align: right;\n",
       "    }\n",
       "</style>\n",
       "<table border=\"1\" class=\"dataframe\">\n",
       "  <thead>\n",
       "    <tr style=\"text-align: right;\">\n",
       "      <th>year</th>\n",
       "      <th>2000</th>\n",
       "      <th>2010</th>\n",
       "    </tr>\n",
       "    <tr>\n",
       "      <th>state</th>\n",
       "      <th></th>\n",
       "      <th></th>\n",
       "    </tr>\n",
       "  </thead>\n",
       "  <tbody>\n",
       "    <tr>\n",
       "      <th>California</th>\n",
       "      <td>33871648</td>\n",
       "      <td>37253956</td>\n",
       "    </tr>\n",
       "    <tr>\n",
       "      <th>New York</th>\n",
       "      <td>18976457</td>\n",
       "      <td>19378102</td>\n",
       "    </tr>\n",
       "    <tr>\n",
       "      <th>Texas</th>\n",
       "      <td>20851820</td>\n",
       "      <td>25145561</td>\n",
       "    </tr>\n",
       "  </tbody>\n",
       "</table>\n",
       "</div>"
      ],
      "text/plain": [
       "year            2000      2010\n",
       "state                         \n",
       "California  33871648  37253956\n",
       "New York    18976457  19378102\n",
       "Texas       20851820  25145561"
      ]
     },
     "execution_count": 50,
     "metadata": {},
     "output_type": "execute_result"
    }
   ],
   "source": [
    "pop.unstack(level=-1)"
   ]
  },
  {
   "cell_type": "markdown",
   "id": "40657d3b-9d90-47a5-830e-a8ca5b791b1a",
   "metadata": {},
   "source": [
    "unstack() 是 stack() 的逆操作，同时使用这两种方法让数据保\n",
    "持不变："
   ]
  },
  {
   "cell_type": "markdown",
   "id": "5902e08b-1091-49c3-bcdb-235edd6748cb",
   "metadata": {},
   "source": [
    "#### 我们先来看看原始的pop"
   ]
  },
  {
   "cell_type": "code",
   "execution_count": 51,
   "id": "c96ced9a-4c33-44a4-8e33-374de3f877bf",
   "metadata": {},
   "outputs": [
    {
     "data": {
      "text/plain": [
       "state       year\n",
       "California  2000    33871648\n",
       "            2010    37253956\n",
       "New York    2000    18976457\n",
       "            2010    19378102\n",
       "Texas       2000    20851820\n",
       "            2010    25145561\n",
       "dtype: int64"
      ]
     },
     "execution_count": 51,
     "metadata": {},
     "output_type": "execute_result"
    }
   ],
   "source": [
    "pop"
   ]
  },
  {
   "cell_type": "markdown",
   "id": "acaaf766-c53c-4151-9135-837e9c65baee",
   "metadata": {},
   "source": [
    "#### 然后我们将其unstack把它变成一个二维的DataFrame"
   ]
  },
  {
   "cell_type": "code",
   "execution_count": 52,
   "id": "eb8ef950-da1f-4364-8384-816abe6d3aa4",
   "metadata": {},
   "outputs": [
    {
     "data": {
      "text/html": [
       "<div>\n",
       "<style scoped>\n",
       "    .dataframe tbody tr th:only-of-type {\n",
       "        vertical-align: middle;\n",
       "    }\n",
       "\n",
       "    .dataframe tbody tr th {\n",
       "        vertical-align: top;\n",
       "    }\n",
       "\n",
       "    .dataframe thead th {\n",
       "        text-align: right;\n",
       "    }\n",
       "</style>\n",
       "<table border=\"1\" class=\"dataframe\">\n",
       "  <thead>\n",
       "    <tr style=\"text-align: right;\">\n",
       "      <th>year</th>\n",
       "      <th>2000</th>\n",
       "      <th>2010</th>\n",
       "    </tr>\n",
       "    <tr>\n",
       "      <th>state</th>\n",
       "      <th></th>\n",
       "      <th></th>\n",
       "    </tr>\n",
       "  </thead>\n",
       "  <tbody>\n",
       "    <tr>\n",
       "      <th>California</th>\n",
       "      <td>33871648</td>\n",
       "      <td>37253956</td>\n",
       "    </tr>\n",
       "    <tr>\n",
       "      <th>New York</th>\n",
       "      <td>18976457</td>\n",
       "      <td>19378102</td>\n",
       "    </tr>\n",
       "    <tr>\n",
       "      <th>Texas</th>\n",
       "      <td>20851820</td>\n",
       "      <td>25145561</td>\n",
       "    </tr>\n",
       "  </tbody>\n",
       "</table>\n",
       "</div>"
      ],
      "text/plain": [
       "year            2000      2010\n",
       "state                         \n",
       "California  33871648  37253956\n",
       "New York    18976457  19378102\n",
       "Texas       20851820  25145561"
      ]
     },
     "execution_count": 52,
     "metadata": {},
     "output_type": "execute_result"
    }
   ],
   "source": [
    "pop.unstack()"
   ]
  },
  {
   "cell_type": "markdown",
   "id": "234165f7-1e71-43ca-8e93-4a63a3451974",
   "metadata": {},
   "source": [
    "#### 接下来我们验证一下其逆操作会不会把unstack()后的数据变回原始的DataFrame对象"
   ]
  },
  {
   "cell_type": "code",
   "execution_count": 53,
   "id": "09092bcf-adbb-444b-af83-9e755d6c220f",
   "metadata": {},
   "outputs": [
    {
     "data": {
      "text/plain": [
       "state       year\n",
       "California  2000    33871648\n",
       "            2010    37253956\n",
       "New York    2000    18976457\n",
       "            2010    19378102\n",
       "Texas       2000    20851820\n",
       "            2010    25145561\n",
       "dtype: int64"
      ]
     },
     "execution_count": 53,
     "metadata": {},
     "output_type": "execute_result"
    }
   ],
   "source": [
    "pop.unstack().stack()"
   ]
  },
  {
   "cell_type": "markdown",
   "id": "bd25bbb7-0f6c-49e0-b89a-16a6c3ffc123",
   "metadata": {},
   "source": [
    "#### ↑ 发现成功了,变回原来的pop的带有多级索引的Series对象"
   ]
  },
  {
   "cell_type": "markdown",
   "id": "974e97ae-2cbe-4fd0-9f15-6367ceb990f5",
   "metadata": {},
   "source": [
    "03. 索引的设置与重置"
   ]
  },
  {
   "cell_type": "markdown",
   "id": "75c86694-53e6-49bf-a27c-aa9647a8024f",
   "metadata": {},
   "source": [
    "层级数据维度转换的另一种方法是行列标签转换，可以通过\n",
    "reset_index 方法实现。如果在上面的人口数据 Series 中使用该\n",
    "方法，则会<span id='imp'>生成一个列标签中包含之前行索引标签 state 和 year 的\n",
    "DataFrame。</span>也可以用数据的 name 属性为列设置名称："
   ]
  },
  {
   "cell_type": "code",
   "execution_count": 54,
   "id": "440b3088-6802-4e8f-b635-d1346ee84b21",
   "metadata": {},
   "outputs": [
    {
     "data": {
      "text/html": [
       "<div>\n",
       "<style scoped>\n",
       "    .dataframe tbody tr th:only-of-type {\n",
       "        vertical-align: middle;\n",
       "    }\n",
       "\n",
       "    .dataframe tbody tr th {\n",
       "        vertical-align: top;\n",
       "    }\n",
       "\n",
       "    .dataframe thead th {\n",
       "        text-align: right;\n",
       "    }\n",
       "</style>\n",
       "<table border=\"1\" class=\"dataframe\">\n",
       "  <thead>\n",
       "    <tr style=\"text-align: right;\">\n",
       "      <th></th>\n",
       "      <th>state</th>\n",
       "      <th>year</th>\n",
       "      <th>population</th>\n",
       "    </tr>\n",
       "  </thead>\n",
       "  <tbody>\n",
       "    <tr>\n",
       "      <th>0</th>\n",
       "      <td>California</td>\n",
       "      <td>2000</td>\n",
       "      <td>33871648</td>\n",
       "    </tr>\n",
       "    <tr>\n",
       "      <th>1</th>\n",
       "      <td>California</td>\n",
       "      <td>2010</td>\n",
       "      <td>37253956</td>\n",
       "    </tr>\n",
       "    <tr>\n",
       "      <th>2</th>\n",
       "      <td>New York</td>\n",
       "      <td>2000</td>\n",
       "      <td>18976457</td>\n",
       "    </tr>\n",
       "    <tr>\n",
       "      <th>3</th>\n",
       "      <td>New York</td>\n",
       "      <td>2010</td>\n",
       "      <td>19378102</td>\n",
       "    </tr>\n",
       "    <tr>\n",
       "      <th>4</th>\n",
       "      <td>Texas</td>\n",
       "      <td>2000</td>\n",
       "      <td>20851820</td>\n",
       "    </tr>\n",
       "    <tr>\n",
       "      <th>5</th>\n",
       "      <td>Texas</td>\n",
       "      <td>2010</td>\n",
       "      <td>25145561</td>\n",
       "    </tr>\n",
       "  </tbody>\n",
       "</table>\n",
       "</div>"
      ],
      "text/plain": [
       "        state  year  population\n",
       "0  California  2000    33871648\n",
       "1  California  2010    37253956\n",
       "2    New York  2000    18976457\n",
       "3    New York  2010    19378102\n",
       "4       Texas  2000    20851820\n",
       "5       Texas  2010    25145561"
      ]
     },
     "execution_count": 54,
     "metadata": {},
     "output_type": "execute_result"
    }
   ],
   "source": [
    "pop_flat = pop.reset_index(name='population')\n",
    "pop_flat"
   ]
  },
  {
   "cell_type": "markdown",
   "id": "c84175a9-0a26-4a97-a202-3ee7542a817d",
   "metadata": {},
   "source": [
    "在解决实际问题的时候，如果能将类似这样的原始输入数据的列直\n",
    "接转换成 MultiIndex，通常将大有裨益。其实可以通过\n",
    "DataFrame 的 set_index 方法实现，返回结果就会是一个带多级\n",
    "索引的 DataFrame："
   ]
  },
  {
   "cell_type": "markdown",
   "id": "255f1d8b-031b-43e7-bc55-4f8ff1f61e82",
   "metadata": {},
   "source": [
    "<p class='raw'>简单理解下面的一行代码,其实就是设置state和year为层级索引\n",
    "</p>"
   ]
  },
  {
   "cell_type": "code",
   "execution_count": 55,
   "id": "0eefd1ae-81bb-4065-aa59-fbede1311024",
   "metadata": {},
   "outputs": [
    {
     "data": {
      "text/html": [
       "<div>\n",
       "<style scoped>\n",
       "    .dataframe tbody tr th:only-of-type {\n",
       "        vertical-align: middle;\n",
       "    }\n",
       "\n",
       "    .dataframe tbody tr th {\n",
       "        vertical-align: top;\n",
       "    }\n",
       "\n",
       "    .dataframe thead th {\n",
       "        text-align: right;\n",
       "    }\n",
       "</style>\n",
       "<table border=\"1\" class=\"dataframe\">\n",
       "  <thead>\n",
       "    <tr style=\"text-align: right;\">\n",
       "      <th></th>\n",
       "      <th></th>\n",
       "      <th>population</th>\n",
       "    </tr>\n",
       "    <tr>\n",
       "      <th>state</th>\n",
       "      <th>year</th>\n",
       "      <th></th>\n",
       "    </tr>\n",
       "  </thead>\n",
       "  <tbody>\n",
       "    <tr>\n",
       "      <th rowspan=\"2\" valign=\"top\">California</th>\n",
       "      <th>2000</th>\n",
       "      <td>33871648</td>\n",
       "    </tr>\n",
       "    <tr>\n",
       "      <th>2010</th>\n",
       "      <td>37253956</td>\n",
       "    </tr>\n",
       "    <tr>\n",
       "      <th rowspan=\"2\" valign=\"top\">New York</th>\n",
       "      <th>2000</th>\n",
       "      <td>18976457</td>\n",
       "    </tr>\n",
       "    <tr>\n",
       "      <th>2010</th>\n",
       "      <td>19378102</td>\n",
       "    </tr>\n",
       "    <tr>\n",
       "      <th rowspan=\"2\" valign=\"top\">Texas</th>\n",
       "      <th>2000</th>\n",
       "      <td>20851820</td>\n",
       "    </tr>\n",
       "    <tr>\n",
       "      <th>2010</th>\n",
       "      <td>25145561</td>\n",
       "    </tr>\n",
       "  </tbody>\n",
       "</table>\n",
       "</div>"
      ],
      "text/plain": [
       "                 population\n",
       "state      year            \n",
       "California 2000    33871648\n",
       "           2010    37253956\n",
       "New York   2000    18976457\n",
       "           2010    19378102\n",
       "Texas      2000    20851820\n",
       "           2010    25145561"
      ]
     },
     "execution_count": 55,
     "metadata": {},
     "output_type": "execute_result"
    }
   ],
   "source": [
    "pop_flat.set_index(['state','year'])"
   ]
  },
  {
   "cell_type": "markdown",
   "id": "90aea858-7c74-4faf-bb31-1ba99723746c",
   "metadata": {},
   "source": [
    "在实践中，我发现用这种重建索引的方法处理数据集非常好用"
   ]
  },
  {
   "cell_type": "markdown",
   "id": "58bbae28-a301-4bdf-8342-5c21c0f74ca5",
   "metadata": {},
   "source": [
    "## 3.6.5 多级索引的数据累计方法"
   ]
  },
  {
   "cell_type": "markdown",
   "id": "100d98d1-5e36-40ab-b23d-daa4a4ccac57",
   "metadata": {},
   "source": [
    "前面我们已经介绍过一些 Pandas 自带的数据累计方法，比如\n",
    "mean()、sum() 和 max()。而对于层级索引数据，可以设置参数\n",
    "level 实现对数据子集的累计操作。"
   ]
  },
  {
   "cell_type": "markdown",
   "id": "67bd8a4b-9eb9-41b8-a49c-067552aed3bb",
   "metadata": {},
   "source": [
    "再一次以体检数据为例"
   ]
  },
  {
   "cell_type": "code",
   "execution_count": 56,
   "id": "0316a43b-556a-423d-85a1-990c2bccab5f",
   "metadata": {},
   "outputs": [
    {
     "data": {
      "text/html": [
       "<div>\n",
       "<style scoped>\n",
       "    .dataframe tbody tr th:only-of-type {\n",
       "        vertical-align: middle;\n",
       "    }\n",
       "\n",
       "    .dataframe tbody tr th {\n",
       "        vertical-align: top;\n",
       "    }\n",
       "\n",
       "    .dataframe thead tr th {\n",
       "        text-align: left;\n",
       "    }\n",
       "\n",
       "    .dataframe thead tr:last-of-type th {\n",
       "        text-align: right;\n",
       "    }\n",
       "</style>\n",
       "<table border=\"1\" class=\"dataframe\">\n",
       "  <thead>\n",
       "    <tr>\n",
       "      <th></th>\n",
       "      <th>subject</th>\n",
       "      <th colspan=\"2\" halign=\"left\">Bob</th>\n",
       "      <th colspan=\"2\" halign=\"left\">Guido</th>\n",
       "      <th colspan=\"2\" halign=\"left\">Sue</th>\n",
       "    </tr>\n",
       "    <tr>\n",
       "      <th></th>\n",
       "      <th>type</th>\n",
       "      <th>HR</th>\n",
       "      <th>Temp</th>\n",
       "      <th>HR</th>\n",
       "      <th>Temp</th>\n",
       "      <th>HR</th>\n",
       "      <th>Temp</th>\n",
       "    </tr>\n",
       "    <tr>\n",
       "      <th>year</th>\n",
       "      <th>visit</th>\n",
       "      <th></th>\n",
       "      <th></th>\n",
       "      <th></th>\n",
       "      <th></th>\n",
       "      <th></th>\n",
       "      <th></th>\n",
       "    </tr>\n",
       "  </thead>\n",
       "  <tbody>\n",
       "    <tr>\n",
       "      <th rowspan=\"2\" valign=\"top\">2013</th>\n",
       "      <th>1</th>\n",
       "      <td>42.0</td>\n",
       "      <td>37.2</td>\n",
       "      <td>39.0</td>\n",
       "      <td>37.1</td>\n",
       "      <td>46.0</td>\n",
       "      <td>37.3</td>\n",
       "    </tr>\n",
       "    <tr>\n",
       "      <th>2</th>\n",
       "      <td>44.0</td>\n",
       "      <td>37.5</td>\n",
       "      <td>40.0</td>\n",
       "      <td>37.2</td>\n",
       "      <td>39.0</td>\n",
       "      <td>37.6</td>\n",
       "    </tr>\n",
       "    <tr>\n",
       "      <th rowspan=\"2\" valign=\"top\">2014</th>\n",
       "      <th>1</th>\n",
       "      <td>47.0</td>\n",
       "      <td>37.6</td>\n",
       "      <td>41.0</td>\n",
       "      <td>37.4</td>\n",
       "      <td>45.0</td>\n",
       "      <td>37.7</td>\n",
       "    </tr>\n",
       "    <tr>\n",
       "      <th>2</th>\n",
       "      <td>46.0</td>\n",
       "      <td>37.1</td>\n",
       "      <td>43.0</td>\n",
       "      <td>37.6</td>\n",
       "      <td>43.0</td>\n",
       "      <td>37.6</td>\n",
       "    </tr>\n",
       "  </tbody>\n",
       "</table>\n",
       "</div>"
      ],
      "text/plain": [
       "subject      Bob       Guido         Sue      \n",
       "type          HR  Temp    HR  Temp    HR  Temp\n",
       "year visit                                    \n",
       "2013 1      42.0  37.2  39.0  37.1  46.0  37.3\n",
       "     2      44.0  37.5  40.0  37.2  39.0  37.6\n",
       "2014 1      47.0  37.6  41.0  37.4  45.0  37.7\n",
       "     2      46.0  37.1  43.0  37.6  43.0  37.6"
      ]
     },
     "execution_count": 56,
     "metadata": {},
     "output_type": "execute_result"
    }
   ],
   "source": [
    "health_data"
   ]
  },
  {
   "cell_type": "markdown",
   "id": "aaef9524-4308-4a79-8cdb-886fb516b730",
   "metadata": {},
   "source": [
    "如果你需要计算每一年各项指标的平均值，那么可以将参数 level 设\n",
    "置为索引 year："
   ]
  },
  {
   "cell_type": "code",
   "execution_count": 57,
   "id": "a51b9320-fed4-4e98-9bd8-92de858f4279",
   "metadata": {},
   "outputs": [
    {
     "ename": "TypeError",
     "evalue": "mean() got an unexpected keyword argument 'level'",
     "output_type": "error",
     "traceback": [
      "\u001b[1;31m---------------------------------------------------------------------------\u001b[0m",
      "\u001b[1;31mTypeError\u001b[0m                                 Traceback (most recent call last)",
      "Cell \u001b[1;32mIn[57], line 1\u001b[0m\n\u001b[1;32m----> 1\u001b[0m data_mean \u001b[38;5;241m=\u001b[39m \u001b[43mhealth_data\u001b[49m\u001b[38;5;241;43m.\u001b[39;49m\u001b[43mmean\u001b[49m\u001b[43m(\u001b[49m\u001b[43mlevel\u001b[49m\u001b[38;5;241;43m=\u001b[39;49m\u001b[38;5;124;43m'\u001b[39;49m\u001b[38;5;124;43myear\u001b[39;49m\u001b[38;5;124;43m'\u001b[39;49m\u001b[43m)\u001b[49m\n\u001b[0;32m      2\u001b[0m data_mean\n",
      "File \u001b[1;32mD:\\virtualenvs\\ai\\lib\\site-packages\\pandas\\core\\frame.py:11693\u001b[0m, in \u001b[0;36mDataFrame.mean\u001b[1;34m(self, axis, skipna, numeric_only, **kwargs)\u001b[0m\n\u001b[0;32m  11685\u001b[0m \u001b[38;5;129m@doc\u001b[39m(make_doc(\u001b[38;5;124m\"\u001b[39m\u001b[38;5;124mmean\u001b[39m\u001b[38;5;124m\"\u001b[39m, ndim\u001b[38;5;241m=\u001b[39m\u001b[38;5;241m2\u001b[39m))\n\u001b[0;32m  11686\u001b[0m \u001b[38;5;28;01mdef\u001b[39;00m \u001b[38;5;21mmean\u001b[39m(\n\u001b[0;32m  11687\u001b[0m     \u001b[38;5;28mself\u001b[39m,\n\u001b[1;32m   (...)\u001b[0m\n\u001b[0;32m  11691\u001b[0m     \u001b[38;5;241m*\u001b[39m\u001b[38;5;241m*\u001b[39mkwargs,\n\u001b[0;32m  11692\u001b[0m ):\n\u001b[1;32m> 11693\u001b[0m     result \u001b[38;5;241m=\u001b[39m \u001b[38;5;28msuper\u001b[39m()\u001b[38;5;241m.\u001b[39mmean(axis, skipna, numeric_only, \u001b[38;5;241m*\u001b[39m\u001b[38;5;241m*\u001b[39mkwargs)\n\u001b[0;32m  11694\u001b[0m     \u001b[38;5;28;01mif\u001b[39;00m \u001b[38;5;28misinstance\u001b[39m(result, Series):\n\u001b[0;32m  11695\u001b[0m         result \u001b[38;5;241m=\u001b[39m result\u001b[38;5;241m.\u001b[39m__finalize__(\u001b[38;5;28mself\u001b[39m, method\u001b[38;5;241m=\u001b[39m\u001b[38;5;124m\"\u001b[39m\u001b[38;5;124mmean\u001b[39m\u001b[38;5;124m\"\u001b[39m)\n",
      "File \u001b[1;32mD:\\virtualenvs\\ai\\lib\\site-packages\\pandas\\core\\generic.py:12420\u001b[0m, in \u001b[0;36mNDFrame.mean\u001b[1;34m(self, axis, skipna, numeric_only, **kwargs)\u001b[0m\n\u001b[0;32m  12413\u001b[0m \u001b[38;5;28;01mdef\u001b[39;00m \u001b[38;5;21mmean\u001b[39m(\n\u001b[0;32m  12414\u001b[0m     \u001b[38;5;28mself\u001b[39m,\n\u001b[0;32m  12415\u001b[0m     axis: Axis \u001b[38;5;241m|\u001b[39m \u001b[38;5;28;01mNone\u001b[39;00m \u001b[38;5;241m=\u001b[39m \u001b[38;5;241m0\u001b[39m,\n\u001b[1;32m   (...)\u001b[0m\n\u001b[0;32m  12418\u001b[0m     \u001b[38;5;241m*\u001b[39m\u001b[38;5;241m*\u001b[39mkwargs,\n\u001b[0;32m  12419\u001b[0m ) \u001b[38;5;241m-\u001b[39m\u001b[38;5;241m>\u001b[39m Series \u001b[38;5;241m|\u001b[39m \u001b[38;5;28mfloat\u001b[39m:\n\u001b[1;32m> 12420\u001b[0m     \u001b[38;5;28;01mreturn\u001b[39;00m \u001b[38;5;28mself\u001b[39m\u001b[38;5;241m.\u001b[39m_stat_function(\n\u001b[0;32m  12421\u001b[0m         \u001b[38;5;124m\"\u001b[39m\u001b[38;5;124mmean\u001b[39m\u001b[38;5;124m\"\u001b[39m, nanops\u001b[38;5;241m.\u001b[39mnanmean, axis, skipna, numeric_only, \u001b[38;5;241m*\u001b[39m\u001b[38;5;241m*\u001b[39mkwargs\n\u001b[0;32m  12422\u001b[0m     )\n",
      "File \u001b[1;32mD:\\virtualenvs\\ai\\lib\\site-packages\\pandas\\core\\generic.py:12373\u001b[0m, in \u001b[0;36mNDFrame._stat_function\u001b[1;34m(self, name, func, axis, skipna, numeric_only, **kwargs)\u001b[0m\n\u001b[0;32m  12362\u001b[0m \u001b[38;5;129m@final\u001b[39m\n\u001b[0;32m  12363\u001b[0m \u001b[38;5;28;01mdef\u001b[39;00m \u001b[38;5;21m_stat_function\u001b[39m(\n\u001b[0;32m  12364\u001b[0m     \u001b[38;5;28mself\u001b[39m,\n\u001b[1;32m   (...)\u001b[0m\n\u001b[0;32m  12370\u001b[0m     \u001b[38;5;241m*\u001b[39m\u001b[38;5;241m*\u001b[39mkwargs,\n\u001b[0;32m  12371\u001b[0m ):\n\u001b[0;32m  12372\u001b[0m     \u001b[38;5;28;01massert\u001b[39;00m name \u001b[38;5;129;01min\u001b[39;00m [\u001b[38;5;124m\"\u001b[39m\u001b[38;5;124mmedian\u001b[39m\u001b[38;5;124m\"\u001b[39m, \u001b[38;5;124m\"\u001b[39m\u001b[38;5;124mmean\u001b[39m\u001b[38;5;124m\"\u001b[39m, \u001b[38;5;124m\"\u001b[39m\u001b[38;5;124mmin\u001b[39m\u001b[38;5;124m\"\u001b[39m, \u001b[38;5;124m\"\u001b[39m\u001b[38;5;124mmax\u001b[39m\u001b[38;5;124m\"\u001b[39m, \u001b[38;5;124m\"\u001b[39m\u001b[38;5;124mkurt\u001b[39m\u001b[38;5;124m\"\u001b[39m, \u001b[38;5;124m\"\u001b[39m\u001b[38;5;124mskew\u001b[39m\u001b[38;5;124m\"\u001b[39m], name\n\u001b[1;32m> 12373\u001b[0m     \u001b[43mnv\u001b[49m\u001b[38;5;241;43m.\u001b[39;49m\u001b[43mvalidate_func\u001b[49m\u001b[43m(\u001b[49m\u001b[43mname\u001b[49m\u001b[43m,\u001b[49m\u001b[43m \u001b[49m\u001b[43m(\u001b[49m\u001b[43m)\u001b[49m\u001b[43m,\u001b[49m\u001b[43m \u001b[49m\u001b[43mkwargs\u001b[49m\u001b[43m)\u001b[49m\n\u001b[0;32m  12375\u001b[0m     validate_bool_kwarg(skipna, \u001b[38;5;124m\"\u001b[39m\u001b[38;5;124mskipna\u001b[39m\u001b[38;5;124m\"\u001b[39m, none_allowed\u001b[38;5;241m=\u001b[39m\u001b[38;5;28;01mFalse\u001b[39;00m)\n\u001b[0;32m  12377\u001b[0m     \u001b[38;5;28;01mreturn\u001b[39;00m \u001b[38;5;28mself\u001b[39m\u001b[38;5;241m.\u001b[39m_reduce(\n\u001b[0;32m  12378\u001b[0m         func, name\u001b[38;5;241m=\u001b[39mname, axis\u001b[38;5;241m=\u001b[39maxis, skipna\u001b[38;5;241m=\u001b[39mskipna, numeric_only\u001b[38;5;241m=\u001b[39mnumeric_only\n\u001b[0;32m  12379\u001b[0m     )\n",
      "File \u001b[1;32mD:\\virtualenvs\\ai\\lib\\site-packages\\pandas\\compat\\numpy\\function.py:418\u001b[0m, in \u001b[0;36mvalidate_func\u001b[1;34m(fname, args, kwargs)\u001b[0m\n\u001b[0;32m    415\u001b[0m     \u001b[38;5;28;01mreturn\u001b[39;00m validate_stat_func(args, kwargs, fname\u001b[38;5;241m=\u001b[39mfname)\n\u001b[0;32m    417\u001b[0m validation_func \u001b[38;5;241m=\u001b[39m _validation_funcs[fname]\n\u001b[1;32m--> 418\u001b[0m \u001b[38;5;28;01mreturn\u001b[39;00m \u001b[43mvalidation_func\u001b[49m\u001b[43m(\u001b[49m\u001b[43margs\u001b[49m\u001b[43m,\u001b[49m\u001b[43m \u001b[49m\u001b[43mkwargs\u001b[49m\u001b[43m)\u001b[49m\n",
      "File \u001b[1;32mD:\\virtualenvs\\ai\\lib\\site-packages\\pandas\\compat\\numpy\\function.py:88\u001b[0m, in \u001b[0;36mCompatValidator.__call__\u001b[1;34m(self, args, kwargs, fname, max_fname_arg_count, method)\u001b[0m\n\u001b[0;32m     86\u001b[0m     validate_kwargs(fname, kwargs, \u001b[38;5;28mself\u001b[39m\u001b[38;5;241m.\u001b[39mdefaults)\n\u001b[0;32m     87\u001b[0m \u001b[38;5;28;01melif\u001b[39;00m method \u001b[38;5;241m==\u001b[39m \u001b[38;5;124m\"\u001b[39m\u001b[38;5;124mboth\u001b[39m\u001b[38;5;124m\"\u001b[39m:\n\u001b[1;32m---> 88\u001b[0m     \u001b[43mvalidate_args_and_kwargs\u001b[49m\u001b[43m(\u001b[49m\n\u001b[0;32m     89\u001b[0m \u001b[43m        \u001b[49m\u001b[43mfname\u001b[49m\u001b[43m,\u001b[49m\u001b[43m \u001b[49m\u001b[43margs\u001b[49m\u001b[43m,\u001b[49m\u001b[43m \u001b[49m\u001b[43mkwargs\u001b[49m\u001b[43m,\u001b[49m\u001b[43m \u001b[49m\u001b[43mmax_fname_arg_count\u001b[49m\u001b[43m,\u001b[49m\u001b[43m \u001b[49m\u001b[38;5;28;43mself\u001b[39;49m\u001b[38;5;241;43m.\u001b[39;49m\u001b[43mdefaults\u001b[49m\n\u001b[0;32m     90\u001b[0m \u001b[43m    \u001b[49m\u001b[43m)\u001b[49m\n\u001b[0;32m     91\u001b[0m \u001b[38;5;28;01melse\u001b[39;00m:\n\u001b[0;32m     92\u001b[0m     \u001b[38;5;28;01mraise\u001b[39;00m \u001b[38;5;167;01mValueError\u001b[39;00m(\u001b[38;5;124mf\u001b[39m\u001b[38;5;124m\"\u001b[39m\u001b[38;5;124minvalid validation method \u001b[39m\u001b[38;5;124m'\u001b[39m\u001b[38;5;132;01m{\u001b[39;00mmethod\u001b[38;5;132;01m}\u001b[39;00m\u001b[38;5;124m'\u001b[39m\u001b[38;5;124m\"\u001b[39m)\n",
      "File \u001b[1;32mD:\\virtualenvs\\ai\\lib\\site-packages\\pandas\\util\\_validators.py:223\u001b[0m, in \u001b[0;36mvalidate_args_and_kwargs\u001b[1;34m(fname, args, kwargs, max_fname_arg_count, compat_args)\u001b[0m\n\u001b[0;32m    218\u001b[0m         \u001b[38;5;28;01mraise\u001b[39;00m \u001b[38;5;167;01mTypeError\u001b[39;00m(\n\u001b[0;32m    219\u001b[0m             \u001b[38;5;124mf\u001b[39m\u001b[38;5;124m\"\u001b[39m\u001b[38;5;132;01m{\u001b[39;00mfname\u001b[38;5;132;01m}\u001b[39;00m\u001b[38;5;124m() got multiple values for keyword argument \u001b[39m\u001b[38;5;124m'\u001b[39m\u001b[38;5;132;01m{\u001b[39;00mkey\u001b[38;5;132;01m}\u001b[39;00m\u001b[38;5;124m'\u001b[39m\u001b[38;5;124m\"\u001b[39m\n\u001b[0;32m    220\u001b[0m         )\n\u001b[0;32m    222\u001b[0m kwargs\u001b[38;5;241m.\u001b[39mupdate(args_dict)\n\u001b[1;32m--> 223\u001b[0m \u001b[43mvalidate_kwargs\u001b[49m\u001b[43m(\u001b[49m\u001b[43mfname\u001b[49m\u001b[43m,\u001b[49m\u001b[43m \u001b[49m\u001b[43mkwargs\u001b[49m\u001b[43m,\u001b[49m\u001b[43m \u001b[49m\u001b[43mcompat_args\u001b[49m\u001b[43m)\u001b[49m\n",
      "File \u001b[1;32mD:\\virtualenvs\\ai\\lib\\site-packages\\pandas\\util\\_validators.py:164\u001b[0m, in \u001b[0;36mvalidate_kwargs\u001b[1;34m(fname, kwargs, compat_args)\u001b[0m\n\u001b[0;32m    142\u001b[0m \u001b[38;5;250m\u001b[39m\u001b[38;5;124;03m\"\"\"\u001b[39;00m\n\u001b[0;32m    143\u001b[0m \u001b[38;5;124;03mChecks whether parameters passed to the **kwargs argument in a\u001b[39;00m\n\u001b[0;32m    144\u001b[0m \u001b[38;5;124;03mfunction `fname` are valid parameters as specified in `*compat_args`\u001b[39;00m\n\u001b[1;32m   (...)\u001b[0m\n\u001b[0;32m    161\u001b[0m \u001b[38;5;124;03mmap to the default values specified in `compat_args`\u001b[39;00m\n\u001b[0;32m    162\u001b[0m \u001b[38;5;124;03m\"\"\"\u001b[39;00m\n\u001b[0;32m    163\u001b[0m kwds \u001b[38;5;241m=\u001b[39m kwargs\u001b[38;5;241m.\u001b[39mcopy()\n\u001b[1;32m--> 164\u001b[0m \u001b[43m_check_for_invalid_keys\u001b[49m\u001b[43m(\u001b[49m\u001b[43mfname\u001b[49m\u001b[43m,\u001b[49m\u001b[43m \u001b[49m\u001b[43mkwargs\u001b[49m\u001b[43m,\u001b[49m\u001b[43m \u001b[49m\u001b[43mcompat_args\u001b[49m\u001b[43m)\u001b[49m\n\u001b[0;32m    165\u001b[0m _check_for_default_values(fname, kwds, compat_args)\n",
      "File \u001b[1;32mD:\\virtualenvs\\ai\\lib\\site-packages\\pandas\\util\\_validators.py:138\u001b[0m, in \u001b[0;36m_check_for_invalid_keys\u001b[1;34m(fname, kwargs, compat_args)\u001b[0m\n\u001b[0;32m    136\u001b[0m \u001b[38;5;28;01mif\u001b[39;00m diff:\n\u001b[0;32m    137\u001b[0m     bad_arg \u001b[38;5;241m=\u001b[39m \u001b[38;5;28mnext\u001b[39m(\u001b[38;5;28miter\u001b[39m(diff))\n\u001b[1;32m--> 138\u001b[0m     \u001b[38;5;28;01mraise\u001b[39;00m \u001b[38;5;167;01mTypeError\u001b[39;00m(\u001b[38;5;124mf\u001b[39m\u001b[38;5;124m\"\u001b[39m\u001b[38;5;132;01m{\u001b[39;00mfname\u001b[38;5;132;01m}\u001b[39;00m\u001b[38;5;124m() got an unexpected keyword argument \u001b[39m\u001b[38;5;124m'\u001b[39m\u001b[38;5;132;01m{\u001b[39;00mbad_arg\u001b[38;5;132;01m}\u001b[39;00m\u001b[38;5;124m'\u001b[39m\u001b[38;5;124m\"\u001b[39m)\n",
      "\u001b[1;31mTypeError\u001b[0m: mean() got an unexpected keyword argument 'level'"
     ]
    }
   ],
   "source": [
    "data_mean = health_data.mean(level='year')\n",
    "data_mean"
   ]
  }
 ],
 "metadata": {
  "kernelspec": {
   "display_name": "Python 3 (ipykernel)",
   "language": "python",
   "name": "python3"
  },
  "language_info": {
   "codemirror_mode": {
    "name": "ipython",
    "version": 3
   },
   "file_extension": ".py",
   "mimetype": "text/x-python",
   "name": "python",
   "nbconvert_exporter": "python",
   "pygments_lexer": "ipython3",
   "version": "3.9.7"
  }
 },
 "nbformat": 4,
 "nbformat_minor": 5
}
