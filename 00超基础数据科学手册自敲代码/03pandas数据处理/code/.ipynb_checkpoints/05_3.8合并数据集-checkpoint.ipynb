{
 "cells": [
  {
   "cell_type": "code",
   "execution_count": 1,
   "id": "8db98401-32da-4450-891a-6bfb3a4242f1",
   "metadata": {},
   "outputs": [
    {
     "data": {
      "text/html": [
       "<style type='text/css'>\n",
       "    *{\n",
       "        # background-color:#E3EDCD;\n",
       "        # background-color:black;\n",
       "        # color:white;\n",
       "        \n",
       "    }\n",
       "    h1{\n",
       "        color:#1976d2;\n",
       "    }\n",
       "    h2{\n",
       "        color:#f57c00;\n",
       "    }\n",
       "    h3{\n",
       "        color:#ba37ff;\n",
       "    }\n",
       "    h4{\n",
       "        color:green;\n",
       "    }\n",
       "    table{\n",
       "        border:1px solid black !important;\n",
       "        border-collapse:collapse !important;\n",
       "    }\n",
       "    th{\n",
       "        background-color:blueviolet !important;\n",
       "        text-align:center;\n",
       "        color:white;\n",
       "    }\n",
       "    th,td{\n",
       "        border:0.1px solid black !important;\n",
       "        transition:0.2s all liner;\n",
       "        \n",
       "    }\n",
       "    td:hover{\n",
       "        transform:scale(1.1);\n",
       "        background-color:orange;\n",
       "        color:blueviolet;\n",
       "    }\n",
       "    .raw{\n",
       "        white-space:pre;\n",
       "        color:green;\n",
       "    }\n",
       "    #imp{\n",
       "        color:red;\n",
       "    }\n",
       "    #ct{\n",
       "        text-align:center;\n",
       "    }\n",
       "    }\n",
       "</style>\n"
      ],
      "text/plain": [
       "<IPython.core.display.HTML object>"
      ]
     },
     "metadata": {},
     "output_type": "display_data"
    }
   ],
   "source": [
    "%%HTML\n",
    "<style type='text/css'>\n",
    "    *{\n",
    "        # background-color:#E3EDCD;\n",
    "        # background-color:black;\n",
    "        # color:white;\n",
    "        \n",
    "    }\n",
    "    h1{\n",
    "        color:#1976d2;\n",
    "    }\n",
    "    h2{\n",
    "        color:#f57c00;\n",
    "    }\n",
    "    h3{\n",
    "        color:#ba37ff;\n",
    "    }\n",
    "    h4{\n",
    "        color:green;\n",
    "    }\n",
    "    table{\n",
    "        border:1px solid black !important;\n",
    "        border-collapse:collapse !important;\n",
    "    }\n",
    "    th{\n",
    "        background-color:blueviolet !important;\n",
    "        text-align:center;\n",
    "        color:white;\n",
    "    }\n",
    "    th,td{\n",
    "        border:0.1px solid black !important;\n",
    "        transition:0.2s all liner;\n",
    "        \n",
    "    }\n",
    "    td:hover{\n",
    "        transform:scale(1.1);\n",
    "        background-color:orange;\n",
    "        color:blueviolet;\n",
    "    }\n",
    "    .raw{\n",
    "        white-space:pre;\n",
    "        color:green;\n",
    "    }\n",
    "    #imp{\n",
    "        color:red;\n",
    "    }\n",
    "    #ct{\n",
    "        text-align:center;\n",
    "    }\n",
    "    }\n",
    "</style>"
   ]
  },
  {
   "cell_type": "code",
   "execution_count": 3,
   "id": "4f55493e-271d-4e70-850c-ea1afb246a6e",
   "metadata": {},
   "outputs": [],
   "source": [
    "import pandas as pd\n",
    "import numpy as np"
   ]
  },
  {
   "cell_type": "markdown",
   "id": "03bb0db4-c557-42f8-a2a4-f5ecca15a0f1",
   "metadata": {},
   "source": [
    "## 3.8 合并数据集：合并与连接"
   ]
  },
  {
   "cell_type": "markdown",
   "id": "9e7fb170-4ecc-40e1-a220-0de266a17bdf",
   "metadata": {},
   "source": [
    "Pandas 的基本特性之一就是高性能的内存式数据连接（join）与合并\n",
    "（merge）操作。如果你有使用数据库的经验，那么对这类操作一定很\n",
    "熟悉。Pandas 的主接口是 pd.merge 函数，下面让我们通过一些示例来\n",
    "介绍它的用法。\n"
   ]
  },
  {
   "cell_type": "markdown",
   "id": "34aabb82-d091-4864-8e3a-831c3b4b334a",
   "metadata": {},
   "source": [
    "### 3.8.1 关系代数"
   ]
  },
  {
   "cell_type": "markdown",
   "id": "8e98a9af-eb1d-4f49-8d6f-fc5f42db6d61",
   "metadata": {},
   "source": [
    "pd.merge() 实现的功能基于关系代数（relational algebra）的一部分。  \n",
    "关系代数是处理关系型数据的通用理论，绝大部分数据库的可用操作都  \n",
    "以此为理论基础。关系代数方法论的强大之处在于，它提出的若干简单  \n",
    "操作规则经过组合就可以为任意数据集构建十分复杂的操作。借助在数  \n",
    "据库或程序里已经高效实现的基本操作规则，你可以完成许多非常复杂  \n",
    "的操作。  \n",
    "Pandas 在 pd.merge() 函数与 Series 和 DataFrame 的 join() 方法里   \n",
    "实现了这些基本操作规则。下面来看看如何用这些简单的规则连接不同  \n",
    "数据源的数据。  "
   ]
  },
  {
   "cell_type": "markdown",
   "id": "9d9e5da5-bb13-4a5a-ba28-3902b3c9fd6e",
   "metadata": {},
   "source": [
    "### 3.8.2 数据连接的类型"
   ]
  },
  {
   "cell_type": "markdown",
   "id": "a3c48f9f-00fd-4eb4-b345-31ea7fec9e0d",
   "metadata": {},
   "source": [
    "pd.merge() 函数实现了三种数据连接的类型：一对一、多对一和多对\n",
    "多。这三种数据连接类型都通过 pd.merge() 接口进行调用，根据不同\n",
    "的数据连接需求进行不同的操作。下面将通过一些示例来演示这三种类\n",
    "型，并进一步介绍更多的细节。\n"
   ]
  },
  {
   "cell_type": "markdown",
   "id": "3be7427d-df5d-48f8-9312-b3243e399af1",
   "metadata": {},
   "source": [
    "01. 一对一连接"
   ]
  },
  {
   "cell_type": "markdown",
   "id": "c5ecaaf1-75f2-4bfe-bfaf-4e051523c7f2",
   "metadata": {},
   "source": [
    "一对一连接可能是最简单的数据合并类型了，与 3.7 节介绍的按列\n",
    "合并十分相似。如下面示例所示，有两个包含同一所公司员工不同\n",
    "信息的 DataFrame："
   ]
  },
  {
   "cell_type": "code",
   "execution_count": 4,
   "id": "c645a2a0-f3d4-4d45-b2da-80f3ce0ae236",
   "metadata": {},
   "outputs": [
    {
     "name": "stdout",
     "output_type": "stream",
     "text": [
      "  employee        group\n",
      "0      Bob   Accounting\n",
      "1     Jake  Engineering\n",
      "2     Lisa  Engineering\n",
      "3      Sue           HR\n",
      "  employee  hire_date\n",
      "0     Lisa       2004\n",
      "1      Bob       2008\n",
      "2     Jake       2012\n",
      "3      Sue       2014\n"
     ]
    }
   ],
   "source": [
    "df1 = pd.DataFrame({'employee': ['Bob', 'Jake', 'Lisa', 'Sue'],\n",
    "                    'group': ['Accounting', 'Engineering', 'Engineering', 'HR']})\n",
    "df2 = pd.DataFrame({'employee': ['Lisa', 'Bob', 'Jake', 'Sue'],\n",
    "'hire_date': [2004, 2008, 2012, 2014]})\n",
    "print(df1)\n",
    "print(df2)"
   ]
  },
  {
   "cell_type": "markdown",
   "id": "683234ef-bb5e-4baa-bbcb-bda861e643d2",
   "metadata": {},
   "source": [
    "若想将这两个 DataFrame 合并成一个 DataFrame，可以用\n",
    "pd.merge() 函数实现："
   ]
  },
  {
   "cell_type": "code",
   "execution_count": 5,
   "id": "c326e020-e199-4b8e-9b21-2d8970299b99",
   "metadata": {},
   "outputs": [
    {
     "data": {
      "text/html": [
       "<div>\n",
       "<style scoped>\n",
       "    .dataframe tbody tr th:only-of-type {\n",
       "        vertical-align: middle;\n",
       "    }\n",
       "\n",
       "    .dataframe tbody tr th {\n",
       "        vertical-align: top;\n",
       "    }\n",
       "\n",
       "    .dataframe thead th {\n",
       "        text-align: right;\n",
       "    }\n",
       "</style>\n",
       "<table border=\"1\" class=\"dataframe\">\n",
       "  <thead>\n",
       "    <tr style=\"text-align: right;\">\n",
       "      <th></th>\n",
       "      <th>employee</th>\n",
       "      <th>group</th>\n",
       "      <th>hire_date</th>\n",
       "    </tr>\n",
       "  </thead>\n",
       "  <tbody>\n",
       "    <tr>\n",
       "      <th>0</th>\n",
       "      <td>Bob</td>\n",
       "      <td>Accounting</td>\n",
       "      <td>2008</td>\n",
       "    </tr>\n",
       "    <tr>\n",
       "      <th>1</th>\n",
       "      <td>Jake</td>\n",
       "      <td>Engineering</td>\n",
       "      <td>2012</td>\n",
       "    </tr>\n",
       "    <tr>\n",
       "      <th>2</th>\n",
       "      <td>Lisa</td>\n",
       "      <td>Engineering</td>\n",
       "      <td>2004</td>\n",
       "    </tr>\n",
       "    <tr>\n",
       "      <th>3</th>\n",
       "      <td>Sue</td>\n",
       "      <td>HR</td>\n",
       "      <td>2014</td>\n",
       "    </tr>\n",
       "  </tbody>\n",
       "</table>\n",
       "</div>"
      ],
      "text/plain": [
       "  employee        group  hire_date\n",
       "0      Bob   Accounting       2008\n",
       "1     Jake  Engineering       2012\n",
       "2     Lisa  Engineering       2004\n",
       "3      Sue           HR       2014"
      ]
     },
     "execution_count": 5,
     "metadata": {},
     "output_type": "execute_result"
    }
   ],
   "source": [
    "df3 = pd.merge(df1,df2)\n",
    "df3"
   ]
  },
  {
   "cell_type": "markdown",
   "id": "cc85eb26-6901-4f79-a72a-53fe041ad169",
   "metadata": {},
   "source": [
    "pd.merge() 方法会发现两个 DataFrame 都有“employee”列，并会\n",
    "自动以这列作为键进行连接。两个输入的合并结果是一个新的\n",
    "DataFrame。需要注意的是，共同列的位置可以是不一致的。例如\n",
    "在这个例子中，虽然 df1 与 df2 中“employee”列的位置是不一样\n",
    "的，但是 pd.merge() 函数会正确处理这个问题。另外还需要注意\n",
    "的是，pd.merge() 会默认丢弃原来的行索引，不过也可以自定义\n",
    "（详情请参见 3.8.3 节）。\n"
   ]
  },
  {
   "cell_type": "markdown",
   "id": "e44a4825-1c55-4058-959f-42b7697103de",
   "metadata": {},
   "source": [
    "02. 多对一连接"
   ]
  },
  {
   "cell_type": "code",
   "execution_count": 6,
   "id": "d4fa06c2-1b74-4778-9e4e-5f7d7314df59",
   "metadata": {},
   "outputs": [
    {
     "name": "stdout",
     "output_type": "stream",
     "text": [
      "  employee        group  hire_date\n",
      "0      Bob   Accounting       2008\n",
      "1     Jake  Engineering       2012\n",
      "2     Lisa  Engineering       2004\n",
      "3      Sue           HR       2014\n",
      "         group supervisor\n",
      "0   Accounting      Carly\n",
      "1  Engineering      Guido\n",
      "2           HR      Steve\n",
      "  employee        group  hire_date supervisor\n",
      "0      Bob   Accounting       2008      Carly\n",
      "1     Jake  Engineering       2012      Guido\n",
      "2     Lisa  Engineering       2004      Guido\n",
      "3      Sue           HR       2014      Steve\n"
     ]
    }
   ],
   "source": [
    " df4 = pd.DataFrame({'group': ['Accounting', 'Engineering', 'HR'],\n",
    "'supervisor': ['Carly', 'Guido', 'Steve']})\n",
    "print(df3);print(df4);print(pd.merge(df3,df4))"
   ]
  },
  {
   "cell_type": "markdown",
   "id": "dc2ff394-49c7-4a09-b95a-210d14015f69",
   "metadata": {},
   "source": [
    "在结果 DataFrame 中多了一个“supervisor”列，<span id='imp'>里面有些值会因为\n",
    "输入数据的对应关系而有所重复。</span>\n"
   ]
  },
  {
   "cell_type": "markdown",
   "id": "991e7dc0-bafe-40fa-85ae-20ddee393f63",
   "metadata": {},
   "source": [
    "<p class='raw'>\n",
    "    简单理解上面代码,因为我们创建的df4中写了group和\n",
    "    supervisor的对应关系,所以在合并两个df时候,\n",
    "    df3即使行数多,但是只要有一个公共的列group,那么就会对应的\n",
    "    从df4中的group和supervisor的对应关系中“推测”出应该补全什么样\n",
    "    的数据\n",
    "</p>"
   ]
  },
  {
   "cell_type": "markdown",
   "id": "654e61bd-7030-4ba6-a642-7715b41ddbc5",
   "metadata": {},
   "source": [
    "03. 多对多连接"
   ]
  },
  {
   "cell_type": "markdown",
   "id": "d06ed285-8d50-4886-a93a-d94208b44d3d",
   "metadata": {},
   "source": [
    "多对多连接是个有点儿复杂的概念，不过也可以理解。如果左右两  \n",
    "个输入的共同列都包含重复值，那么合并的结果就是一种多对多连  \n",
    "接。用一个例子来演示可能更容易理解。来看下面的例子，里面有  \n",
    "一个 DataFrame 显示不同岗位人员的一种或多种能力。  \n",
    "通过多对多链接，就可以得知每位员工所具备的能力：  "
   ]
  },
  {
   "cell_type": "code",
   "execution_count": 7,
   "id": "64ca42f2-fe2d-421c-adb4-b1e37e30b8d0",
   "metadata": {},
   "outputs": [
    {
     "name": "stdout",
     "output_type": "stream",
     "text": [
      "  employee        group\n",
      "0      Bob   Accounting\n",
      "1     Jake  Engineering\n",
      "2     Lisa  Engineering\n",
      "3      Sue           HR\n",
      "         group        skills\n",
      "0   Accounting          math\n",
      "1   Accounting  spreadsheets\n",
      "2  Engineering        coding\n",
      "3  Engineering         linux\n",
      "4           HR  spreadsheets\n",
      "5           HR  organization\n",
      "  employee        group        skills\n",
      "0      Bob   Accounting          math\n",
      "1      Bob   Accounting  spreadsheets\n",
      "2     Jake  Engineering        coding\n",
      "3     Jake  Engineering         linux\n",
      "4     Lisa  Engineering        coding\n",
      "5     Lisa  Engineering         linux\n",
      "6      Sue           HR  spreadsheets\n",
      "7      Sue           HR  organization\n"
     ]
    }
   ],
   "source": [
    "df5 = pd.DataFrame({'group': ['Accounting', 'Accounting',\n",
    "'Engineering', 'Engineering', 'HR', 'HR'],\n",
    "'skills': ['math', 'spreadsheets', 'coding', 'linux',\n",
    "           'spreadsheets', 'organization']})\n",
    "print(df1);print(df5);print(pd.merge(df1,df5))"
   ]
  },
  {
   "cell_type": "markdown",
   "id": "2dd376a8-f810-46c4-87af-1b185af38157",
   "metadata": {},
   "source": [
    "这三种数据连接类型可以直接与其他 Pandas 工具组合使用，从而\n",
    "实现各种各样的功能。但是工作中的真实数据集往往并不像示例中\n",
    "演示的那么干净、整洁。下面就来介绍 pd.merge() 的一些功能，\n",
    "它们可以让你更好地应对数据连接中的问题。\n"
   ]
  },
  {
   "cell_type": "markdown",
   "id": "0468a130-34ec-421f-82c2-1292cd932716",
   "metadata": {},
   "source": [
    "### 3.8.3 设置数据合并的键"
   ]
  },
  {
   "cell_type": "markdown",
   "id": "95b18dd8-0c48-4789-9902-a9483704002e",
   "metadata": {},
   "source": [
    "我们已经见过 pd.merge() 的默认行为：它会将两个输入的一个或多个\n",
    "共同列作为键进行合并。但由于两个输入要合并的列通常都不是同名\n",
    "的，因此 pd.merge() 提供了一些参数处理这个问题。"
   ]
  },
  {
   "cell_type": "markdown",
   "id": "9881e1d7-1b8c-4652-a928-a137cc8f085e",
   "metadata": {},
   "source": [
    "01. 参数on的用法"
   ]
  },
  {
   "cell_type": "markdown",
   "id": "2758eb1d-b627-4d5e-9ecc-9ed54a0a6b5c",
   "metadata": {},
   "source": [
    "最简单的方法就是直接将参数 on 设置为一个列名字符串或者一个\n",
    "包含多列名称的列表：\n"
   ]
  },
  {
   "cell_type": "code",
   "execution_count": 8,
   "id": "12484121-57a7-468c-a7b7-831245524762",
   "metadata": {},
   "outputs": [
    {
     "name": "stdout",
     "output_type": "stream",
     "text": [
      "  employee        group\n",
      "0      Bob   Accounting\n",
      "1     Jake  Engineering\n",
      "2     Lisa  Engineering\n",
      "3      Sue           HR\n",
      "  employee  hire_date\n",
      "0     Lisa       2004\n",
      "1      Bob       2008\n",
      "2     Jake       2012\n",
      "3      Sue       2014\n",
      "  employee        group  hire_date\n",
      "0      Bob   Accounting       2008\n",
      "1     Jake  Engineering       2012\n",
      "2     Lisa  Engineering       2004\n",
      "3      Sue           HR       2014\n"
     ]
    }
   ],
   "source": [
    "print(df1); print(df2); \n",
    "print(pd.merge(df1, df2, on='employee'))"
   ]
  },
  {
   "cell_type": "markdown",
   "id": "0155a687-a549-4ab2-9c37-38b74ff716b9",
   "metadata": {},
   "source": [
    "这个参数只能在两个 DataFrame 有共同列名的时候才可以使用。"
   ]
  },
  {
   "cell_type": "markdown",
   "id": "06c9f5e3-bc99-46bd-b83b-7efddf3db67d",
   "metadata": {},
   "source": [
    "02. left_on与right_on参数"
   ]
  },
  {
   "cell_type": "markdown",
   "id": "4ab80407-ec2c-4ec9-b554-19cde5c806e1",
   "metadata": {},
   "source": [
    "有时你也需要合并<span id='imp'>两个列名不同</span>的数据集，例如前面的员工信息表\n",
    "中有一个字段不是“employee”而是“name”。在这种情况下，就可以\n",
    "用 left_on 和 right_on 参数来指定列名："
   ]
  },
  {
   "cell_type": "code",
   "execution_count": 9,
   "id": "07a13125-ac3d-495a-97a6-8d00fdbcdf5f",
   "metadata": {},
   "outputs": [
    {
     "name": "stdout",
     "output_type": "stream",
     "text": [
      "  employee        group\n",
      "0      Bob   Accounting\n",
      "1     Jake  Engineering\n",
      "2     Lisa  Engineering\n",
      "3      Sue           HR\n",
      "   name  salary\n",
      "0   Bob   70000\n",
      "1  Jake   80000\n",
      "2  Lisa  120000\n",
      "3   Sue   90000\n",
      "  employee        group  name  salary\n",
      "0      Bob   Accounting   Bob   70000\n",
      "1     Jake  Engineering  Jake   80000\n",
      "2     Lisa  Engineering  Lisa  120000\n",
      "3      Sue           HR   Sue   90000\n"
     ]
    }
   ],
   "source": [
    "df3 = pd.DataFrame({'name': ['Bob', 'Jake', 'Lisa', 'Sue'],\n",
    "'salary': [70000, 80000, 120000, 90000]})\n",
    "print(df1); print(df3);\n",
    "print(pd.merge(df1, df3, left_on=\"employee\", right_on=\"name\"))"
   ]
  },
  {
   "cell_type": "markdown",
   "id": "0e5d54d7-11cd-475a-94fb-674327eeeac0",
   "metadata": {},
   "source": [
    "获取的结果中会有一个多余的列，可以通过 DataFrame 的 drop()\n",
    "方法将这列去掉："
   ]
  },
  {
   "cell_type": "code",
   "execution_count": 11,
   "id": "fa3753a9-2900-43ab-80aa-a6fd11ead8c8",
   "metadata": {},
   "outputs": [
    {
     "data": {
      "text/html": [
       "<div>\n",
       "<style scoped>\n",
       "    .dataframe tbody tr th:only-of-type {\n",
       "        vertical-align: middle;\n",
       "    }\n",
       "\n",
       "    .dataframe tbody tr th {\n",
       "        vertical-align: top;\n",
       "    }\n",
       "\n",
       "    .dataframe thead th {\n",
       "        text-align: right;\n",
       "    }\n",
       "</style>\n",
       "<table border=\"1\" class=\"dataframe\">\n",
       "  <thead>\n",
       "    <tr style=\"text-align: right;\">\n",
       "      <th></th>\n",
       "      <th>employee</th>\n",
       "      <th>group</th>\n",
       "      <th>salary</th>\n",
       "    </tr>\n",
       "  </thead>\n",
       "  <tbody>\n",
       "    <tr>\n",
       "      <th>0</th>\n",
       "      <td>Bob</td>\n",
       "      <td>Accounting</td>\n",
       "      <td>70000</td>\n",
       "    </tr>\n",
       "    <tr>\n",
       "      <th>1</th>\n",
       "      <td>Jake</td>\n",
       "      <td>Engineering</td>\n",
       "      <td>80000</td>\n",
       "    </tr>\n",
       "    <tr>\n",
       "      <th>2</th>\n",
       "      <td>Lisa</td>\n",
       "      <td>Engineering</td>\n",
       "      <td>120000</td>\n",
       "    </tr>\n",
       "    <tr>\n",
       "      <th>3</th>\n",
       "      <td>Sue</td>\n",
       "      <td>HR</td>\n",
       "      <td>90000</td>\n",
       "    </tr>\n",
       "  </tbody>\n",
       "</table>\n",
       "</div>"
      ],
      "text/plain": [
       "  employee        group  salary\n",
       "0      Bob   Accounting   70000\n",
       "1     Jake  Engineering   80000\n",
       "2     Lisa  Engineering  120000\n",
       "3      Sue           HR   90000"
      ]
     },
     "execution_count": 11,
     "metadata": {},
     "output_type": "execute_result"
    }
   ],
   "source": [
    "pd.merge(df1,df3,left_on='employee',right_on='name').\\\n",
    "drop('name', axis=1)"
   ]
  },
  {
   "cell_type": "markdown",
   "id": "39df1952-acde-4197-9867-2d84cea92ce4",
   "metadata": {},
   "source": [
    "03. left_index与right_index参数\n"
   ]
  },
  {
   "cell_type": "markdown",
   "id": "20cccb5a-9a07-4a9c-87ad-763fb49c33fc",
   "metadata": {},
   "source": [
    "除了合并列之外，你可能还需要合并索引。就像下面例子中的数据\n",
    "那样："
   ]
  },
  {
   "cell_type": "code",
   "execution_count": 12,
   "id": "8ee1cfd2-d01b-4b43-9393-a5312867f62d",
   "metadata": {},
   "outputs": [
    {
     "name": "stdout",
     "output_type": "stream",
     "text": [
      "                group\n",
      "employee             \n",
      "Bob        Accounting\n",
      "Jake      Engineering\n",
      "Lisa      Engineering\n",
      "Sue                HR\n",
      "          hire_date\n",
      "employee           \n",
      "Lisa           2004\n",
      "Bob            2008\n",
      "Jake           2012\n",
      "Sue            2014\n"
     ]
    }
   ],
   "source": [
    "df1a = df1.set_index('employee')\n",
    "df2a = df2.set_index('employee')\n",
    "print(df1a)\n",
    "print(df2a)"
   ]
  },
  {
   "cell_type": "markdown",
   "id": "f9822fef-353c-4bd0-9cca-7ce50d68773c",
   "metadata": {},
   "source": [
    "你可以通过设置 pd.merge() 中的 <span id='imp'>left_index 和 / 或\n",
    "right_index </span>参数将索引设置为按<span id='imp'>键</span>来实现合并：\n"
   ]
  },
  {
   "cell_type": "code",
   "execution_count": 14,
   "id": "d9bc2697-0cfd-4f98-a0de-c6ccd8ceb325",
   "metadata": {},
   "outputs": [
    {
     "name": "stdout",
     "output_type": "stream",
     "text": [
      "                group\n",
      "employee             \n",
      "Bob        Accounting\n",
      "Jake      Engineering\n",
      "Lisa      Engineering\n",
      "Sue                HR\n",
      "          hire_date\n",
      "employee           \n",
      "Lisa           2004\n",
      "Bob            2008\n",
      "Jake           2012\n",
      "Sue            2014\n",
      "                group  hire_date\n",
      "employee                        \n",
      "Bob        Accounting       2008\n",
      "Jake      Engineering       2012\n",
      "Lisa      Engineering       2004\n",
      "Sue                HR       2014\n"
     ]
    }
   ],
   "source": [
    "print(df1a); print(df2a);\n",
    "print(pd.merge(df1a, df2a, left_index=True, right_index=True))"
   ]
  },
  {
   "cell_type": "markdown",
   "id": "b045061c-f13c-41b6-ba31-c6928e0ab956",
   "metadata": {},
   "source": [
    "为了方便考虑，<span id='imp'>DataFrame 实现了 join() 方法</sapn>，它可以按照索引\n",
    "进行数据合并："
   ]
  },
  {
   "cell_type": "code",
   "execution_count": 15,
   "id": "68933366-a37f-4297-a740-b8d8a8334248",
   "metadata": {},
   "outputs": [
    {
     "name": "stdout",
     "output_type": "stream",
     "text": [
      "                group\n",
      "employee             \n",
      "Bob        Accounting\n",
      "Jake      Engineering\n",
      "Lisa      Engineering\n",
      "Sue                HR\n",
      "          hire_date\n",
      "employee           \n",
      "Lisa           2004\n",
      "Bob            2008\n",
      "Jake           2012\n",
      "Sue            2014\n",
      "                group  hire_date\n",
      "employee                        \n",
      "Bob        Accounting       2008\n",
      "Jake      Engineering       2012\n",
      "Lisa      Engineering       2004\n",
      "Sue                HR       2014\n"
     ]
    }
   ],
   "source": [
    "print(df1a)\n",
    "print(df2a)\n",
    "print(df1a.join(df2a))"
   ]
  },
  {
   "cell_type": "markdown",
   "id": "aabd66f7-5148-4657-b41b-45fa400ad5e9",
   "metadata": {},
   "source": [
    "如果想将索引与列混合使用，那么可以通过结合 left_index 与\n",
    "right_on，或者结合 left_on 与 right_index 来实现："
   ]
  },
  {
   "cell_type": "code",
   "execution_count": 16,
   "id": "07fc8041-bf4b-4718-b13f-d40959576792",
   "metadata": {},
   "outputs": [
    {
     "name": "stdout",
     "output_type": "stream",
     "text": [
      "                group\n",
      "employee             \n",
      "Bob        Accounting\n",
      "Jake      Engineering\n",
      "Lisa      Engineering\n",
      "Sue                HR\n",
      "   name  salary\n",
      "0   Bob   70000\n",
      "1  Jake   80000\n",
      "2  Lisa  120000\n",
      "3   Sue   90000\n",
      "         group  name  salary\n",
      "0   Accounting   Bob   70000\n",
      "1  Engineering  Jake   80000\n",
      "2  Engineering  Lisa  120000\n",
      "3           HR   Sue   90000\n"
     ]
    }
   ],
   "source": [
    "print(df1a)\n",
    "print(df3)\n",
    "print(pd.merge(df1a,df3,left_index=True,right_on='name'))"
   ]
  },
  {
   "cell_type": "markdown",
   "id": "9f567a00-c748-44b6-8fe7-e2c6ab5109c2",
   "metadata": {},
   "source": [
    "<p class='raw'>\n",
    "简单理解上面的代码,融合了left/right_index和left/right_on,\n",
    "因为left/right_index指定的是按照键合并,且必须是两个表有公共\n",
    "的列才行,但是df1a和df3的列名称不同,但是可以使用left/right_on\n",
    "的功能指定列名\n",
    "</p>"
   ]
  },
  {
   "cell_type": "markdown",
   "id": "7b986fc3-9f52-4463-a300-bc5a5f54d7a3",
   "metadata": {},
   "source": [
    "当然，这些参数都适用于多个索引和 / 或多个列名，函数接口非常\n",
    "简单。若想了解 Pandas 数据合并的更多信息，请参考 Pandas 文档\n",
    "中“Merge, Join, and Concatenate”（http://pandas.pydata.org/pandasdocs/stable/merging.html）节。"
   ]
  },
  {
   "cell_type": "markdown",
   "id": "b0052aa5-7153-48b8-b172-cc9e0244dc28",
   "metadata": {},
   "source": [
    "### 3.8.4 设置数据连接的集合操作规则"
   ]
  },
  {
   "cell_type": "markdown",
   "id": "0403b4ba-9185-4696-a1b7-80591913a2b3",
   "metadata": {},
   "source": [
    "通过前面的示例，我们总结出数据连接的一个重要条件：集合操作规\n",
    "则。当一个值出现在一列，却没有出现在另一列时，就需要考虑集合操\n",
    "作规则了。来看看下面的例子："
   ]
  },
  {
   "cell_type": "code",
   "execution_count": 29,
   "id": "8dd706d7-4ab9-405e-8cf0-31ce75054670",
   "metadata": {},
   "outputs": [
    {
     "name": "stdout",
     "output_type": "stream",
     "text": [
      "    name   food\n",
      "0  Peter   fish\n",
      "1   Paul  beans\n",
      "2   Mary  bread\n",
      "     name drink\n",
      "0    Mary  wine\n",
      "1  Joseph  beer\n",
      "   name   food drink\n",
      "0  Mary  bread  wine\n"
     ]
    }
   ],
   "source": [
    "df6 = pd.DataFrame({'name': ['Peter', 'Paul', 'Mary'],\n",
    "'food': ['fish', 'beans', 'bread']},\n",
    "columns=['name', 'food'])\n",
    "df7 = pd.DataFrame({'name': ['Mary', 'Joseph'],\n",
    "'drink': ['wine', 'beer']},\n",
    "columns=['name', 'drink'])\n",
    "print(df6)\n",
    "print(df7)\n",
    "print(pd.merge(df6,df7))"
   ]
  },
  {
   "cell_type": "markdown",
   "id": "70bb8fd0-ca75-4394-9702-456cef75821c",
   "metadata": {},
   "source": [
    "我们合并两个数据集，在“name”列中只有一个共同的值：Mary。默认\n",
    "情况下，结果中只会包含两个输入集合的交集，这种连接方式被称为内\n",
    "连接（inner join）。<span id='imp'>我们可以用 how 参数设置连接方式，默认值为\n",
    "'inner'：</span>"
   ]
  },
  {
   "cell_type": "code",
   "execution_count": 30,
   "id": "2f8f7382-7c17-4b8a-987b-667737723ec2",
   "metadata": {},
   "outputs": [
    {
     "data": {
      "text/html": [
       "<div>\n",
       "<style scoped>\n",
       "    .dataframe tbody tr th:only-of-type {\n",
       "        vertical-align: middle;\n",
       "    }\n",
       "\n",
       "    .dataframe tbody tr th {\n",
       "        vertical-align: top;\n",
       "    }\n",
       "\n",
       "    .dataframe thead th {\n",
       "        text-align: right;\n",
       "    }\n",
       "</style>\n",
       "<table border=\"1\" class=\"dataframe\">\n",
       "  <thead>\n",
       "    <tr style=\"text-align: right;\">\n",
       "      <th></th>\n",
       "      <th>name</th>\n",
       "      <th>food</th>\n",
       "      <th>drink</th>\n",
       "    </tr>\n",
       "  </thead>\n",
       "  <tbody>\n",
       "    <tr>\n",
       "      <th>0</th>\n",
       "      <td>Mary</td>\n",
       "      <td>bread</td>\n",
       "      <td>wine</td>\n",
       "    </tr>\n",
       "  </tbody>\n",
       "</table>\n",
       "</div>"
      ],
      "text/plain": [
       "   name   food drink\n",
       "0  Mary  bread  wine"
      ]
     },
     "execution_count": 30,
     "metadata": {},
     "output_type": "execute_result"
    }
   ],
   "source": [
    "pd.merge(df6, df7, how='inner')"
   ]
  },
  {
   "cell_type": "markdown",
   "id": "b8c7e969-f256-45cc-adad-3ba97dc7043b",
   "metadata": {},
   "source": [
    "how 参数支持的数据连接方式还有 'outer'、'left' 和 'right'。外\n",
    "连接（outer join）<span id='imp'>返回两个输入列的交集，所有缺失值都用 NaN 填充：</span>"
   ]
  },
  {
   "cell_type": "markdown",
   "id": "15c659c9-6ede-47e0-abe0-2955a61b0fa7",
   "metadata": {},
   "source": [
    "<p class='raw'>\n",
    "注意,结合mysql的外连接来思考\n",
    "</p>"
   ]
  },
  {
   "cell_type": "code",
   "execution_count": 31,
   "id": "4fd5f717-c336-46ee-95d2-ed26f3c70472",
   "metadata": {},
   "outputs": [
    {
     "name": "stdout",
     "output_type": "stream",
     "text": [
      "    name   food\n",
      "0  Peter   fish\n",
      "1   Paul  beans\n",
      "2   Mary  bread\n",
      "     name drink\n",
      "0    Mary  wine\n",
      "1  Joseph  beer\n",
      "     name   food drink\n",
      "0  Joseph    NaN  beer\n",
      "1    Mary  bread  wine\n",
      "2    Paul  beans   NaN\n",
      "3   Peter   fish   NaN\n"
     ]
    }
   ],
   "source": [
    "print(df6); print(df7); \n",
    "print(pd.merge(df6, df7, how='outer'))"
   ]
  },
  {
   "cell_type": "markdown",
   "id": "1113f8ec-ed0c-4ed7-bcf2-2d1a68bde7d5",
   "metadata": {},
   "source": [
    "左连接（left join）和右连接（right join）返回的结果分别只包含左列和\n",
    "右列，如下所示："
   ]
  },
  {
   "cell_type": "markdown",
   "id": "bbb63cd6-152b-4ced-8d95-68c95be3c56e",
   "metadata": {},
   "source": [
    "<p>例如下面的左链接:\n",
    "结合mysql的外连接中的左链接,\n",
    "左链接就是左边的表作为主表,从表中出现与主表不匹配的内容\n",
    "就用Nan填充,反之右链接也可以推断</p>"
   ]
  },
  {
   "cell_type": "code",
   "execution_count": 32,
   "id": "8e7e740d-049b-4ab1-97b5-e8c0e10e67b4",
   "metadata": {},
   "outputs": [
    {
     "name": "stdout",
     "output_type": "stream",
     "text": [
      "    name   food\n",
      "0  Peter   fish\n",
      "1   Paul  beans\n",
      "2   Mary  bread\n",
      "     name drink\n",
      "0    Mary  wine\n",
      "1  Joseph  beer\n",
      "    name   food drink\n",
      "0  Peter   fish   NaN\n",
      "1   Paul  beans   NaN\n",
      "2   Mary  bread  wine\n"
     ]
    }
   ],
   "source": [
    "print(df6); print(df7); print(pd.merge(df6, df7, how='left'))\n"
   ]
  },
  {
   "cell_type": "code",
   "execution_count": 33,
   "id": "41285101-b99c-46c0-ab77-8712d6a7c54b",
   "metadata": {},
   "outputs": [
    {
     "name": "stdout",
     "output_type": "stream",
     "text": [
      "    name   food\n",
      "0  Peter   fish\n",
      "1   Paul  beans\n",
      "2   Mary  bread\n",
      "     name drink\n",
      "0    Mary  wine\n",
      "1  Joseph  beer\n",
      "     name   food drink\n",
      "0    Mary  bread  wine\n",
      "1  Joseph    NaN  beer\n"
     ]
    }
   ],
   "source": [
    "print(df6); print(df7); print(pd.merge(df6, df7, how='right'))"
   ]
  },
  {
   "cell_type": "markdown",
   "id": "1a963885-3bbb-4b90-aee6-8bdb5db2ef5b",
   "metadata": {},
   "source": [
    "现在输出的行中只包含左边输入列的值。如果用 how='right' 的话，\n",
    "输出的行则只包含右边输入列的值。    \n",
    "这四种数据连接的集合操作规则都可以直接应用于前面介绍过的连接类\n",
    "型。\n"
   ]
  },
  {
   "cell_type": "markdown",
   "id": "c0aa44ce-51ca-4d1f-9e36-1a2f0a29c359",
   "metadata": {},
   "source": [
    "### 3.8.5 重复列名：suffixes参数"
   ]
  },
  {
   "cell_type": "markdown",
   "id": "6eedd762-09d2-479d-8b94-b69ca84a5fbe",
   "metadata": {},
   "source": [
    "最后，你可能会遇到两个输入 DataFrame 有重名列的情况。来看看下\n",
    "面的例子："
   ]
  },
  {
   "cell_type": "code",
   "execution_count": 34,
   "id": "f004a21d-772d-4f12-b7f6-a09f7841be12",
   "metadata": {},
   "outputs": [
    {
     "name": "stdout",
     "output_type": "stream",
     "text": [
      "   name  rank\n",
      "0   Bob     1\n",
      "1  Jake     2\n",
      "2  Lisa     3\n",
      "3   Sue     4\n",
      "   name  rank\n",
      "0   Bob     3\n",
      "1  Jake     1\n",
      "2  Lisa     4\n",
      "3   Sue     2\n",
      "   name  rank_x  rank_y\n",
      "0   Bob       1       3\n",
      "1  Jake       2       1\n",
      "2  Lisa       3       4\n",
      "3   Sue       4       2\n"
     ]
    }
   ],
   "source": [
    "df8 = pd.DataFrame({'name': ['Bob', 'Jake', 'Lisa', 'Sue'],\n",
    "'rank': [1, 2, 3, 4]})\n",
    "df9 = pd.DataFrame({'name': ['Bob', 'Jake', 'Lisa', 'Sue'],\n",
    "'rank': [3, 1, 4, 2]})\n",
    "print(df8); print(df9); print(pd.merge(df8, df9, on=\"name\"))"
   ]
  },
  {
   "cell_type": "markdown",
   "id": "58e95ba5-1cbd-4c92-b5f0-c6de84e57c3b",
   "metadata": {},
   "source": [
    "suffixes 参数同样适用于任何连接方式，即使有三个及三个以上的重\n",
    "复列名时也同样适用。\n",
    "关于关系代数的更多信息，请参见 3.9 节，里面对关系代数进行了更加\n",
    "深入的介绍。另外，还可以参考 Pandas 文档中“Merge, Join, and\n",
    "Concatenate”（http://pandas.pydata.org/pandas-docs/stable/merging.html）\n",
    "节。\n"
   ]
  },
  {
   "cell_type": "markdown",
   "id": "81cb1e1a-484d-49c2-9854-079a0f82ffa8",
   "metadata": {},
   "source": [
    "###  3.8.6 案例：美国各州的统计数据"
   ]
  },
  {
   "cell_type": "markdown",
   "id": "c60627e3-a91a-43d6-b94a-54c07be57800",
   "metadata": {},
   "source": [
    "数据的合并与连接是组合来源不同的数据的最常用方法。下面通过美国\n",
    "各州的统计数据来进行一个演示，请到 https://github.com/jakevdp/dataUSstates/ 下载数据："
   ]
  },
  {
   "cell_type": "markdown",
   "id": "72fbb6bd-bb02-4fe7-94e3-f1e7d3664c05",
   "metadata": {},
   "source": [
    "```shell\n",
    "# 请使用下面的shell下载数据\n",
    "!curl -O https://raw.githubusercontent.com/jakevdp/ data-USstates/master/state-population.csv\n",
    "!curl -O https://raw.githubusercontent.com/jakevdp/\n",
    "data-USstates/master/state-areas.csv\n",
    "!curl -O https://raw.githubusercontent.com/jakevdp/\n",
    "data-USstates/master/state-abbrevs.csv\n",
    "```"
   ]
  },
  {
   "cell_type": "markdown",
   "id": "d9d3af01-8bb5-4cc6-9fda-445c949ad2a7",
   "metadata": {},
   "source": [
    "用 Pandas 的 read_csv() 函数看看这三个数据集："
   ]
  },
  {
   "cell_type": "code",
   "execution_count": 43,
   "id": "7f06ad50-0815-4096-934f-34eca75c3b88",
   "metadata": {},
   "outputs": [
    {
     "name": "stdout",
     "output_type": "stream",
     "text": [
      "  state/region     ages  year  population\n",
      "0           AL  under18  2012   1117489.0\n",
      "1           AL    total  2012   4817528.0\n",
      "2           AL  under18  2010   1130966.0\n",
      "3           AL    total  2010   4785570.0\n",
      "4           AL  under18  2011   1125763.0\n",
      "        state  area (sq. mi)\n",
      "0     Alabama          52423\n",
      "1      Alaska         656425\n",
      "2     Arizona         114006\n",
      "3    Arkansas          53182\n",
      "4  California         163707\n",
      "        state abbreviation\n",
      "0     Alabama           AL\n",
      "1      Alaska           AK\n",
      "2     Arizona           AZ\n",
      "3    Arkansas           AR\n",
      "4  California           CA\n"
     ]
    }
   ],
   "source": [
    "pop = pd.read_csv('../data/state-population.csv')\n",
    "areas = pd.read_csv('../data/state-areas.csv')\n",
    "abbrevs = pd.read_csv('../data/state-abbrevs.csv')\n",
    "print(pop.head())\n",
    "print(area.head())\n",
    "print(abbrevs.head())"
   ]
  },
  {
   "cell_type": "markdown",
   "id": "1773078d-5459-4432-968d-12e331fbbd4d",
   "metadata": {},
   "source": [
    "看过这些数据之后，我们想要计算一个比较简单的指标：美国各州的人  \n",
    "口密度排名。虽然可以直接通过计算每张表获取结果，但这次试着用数  \n",
    "据集连接来解决这个问题。   \n",
    "首先用一个多对一合并获取人口（pop）DataFrame 中各州名称缩写对  \n",
    "应的全称。我们需要将 pop 的 state/region 列与 abbrevs 的  \n",
    "abbreviation 列进行合并，还需要通过 how='outer' 确保数据没有  \n",
    "丢失。  \n"
   ]
  },
  {
   "cell_type": "code",
   "execution_count": 36,
   "id": "8b3c311b-0b71-4a4d-a7f8-a0df3350d04d",
   "metadata": {},
   "outputs": [
    {
     "data": {
      "text/html": [
       "<div>\n",
       "<style scoped>\n",
       "    .dataframe tbody tr th:only-of-type {\n",
       "        vertical-align: middle;\n",
       "    }\n",
       "\n",
       "    .dataframe tbody tr th {\n",
       "        vertical-align: top;\n",
       "    }\n",
       "\n",
       "    .dataframe thead th {\n",
       "        text-align: right;\n",
       "    }\n",
       "</style>\n",
       "<table border=\"1\" class=\"dataframe\">\n",
       "  <thead>\n",
       "    <tr style=\"text-align: right;\">\n",
       "      <th></th>\n",
       "      <th>state/region</th>\n",
       "      <th>ages</th>\n",
       "      <th>year</th>\n",
       "      <th>population</th>\n",
       "      <th>state</th>\n",
       "    </tr>\n",
       "  </thead>\n",
       "  <tbody>\n",
       "    <tr>\n",
       "      <th>0</th>\n",
       "      <td>AK</td>\n",
       "      <td>total</td>\n",
       "      <td>1990</td>\n",
       "      <td>553290.0</td>\n",
       "      <td>Alaska</td>\n",
       "    </tr>\n",
       "    <tr>\n",
       "      <th>1</th>\n",
       "      <td>AK</td>\n",
       "      <td>under18</td>\n",
       "      <td>1990</td>\n",
       "      <td>177502.0</td>\n",
       "      <td>Alaska</td>\n",
       "    </tr>\n",
       "    <tr>\n",
       "      <th>2</th>\n",
       "      <td>AK</td>\n",
       "      <td>total</td>\n",
       "      <td>1992</td>\n",
       "      <td>588736.0</td>\n",
       "      <td>Alaska</td>\n",
       "    </tr>\n",
       "    <tr>\n",
       "      <th>3</th>\n",
       "      <td>AK</td>\n",
       "      <td>under18</td>\n",
       "      <td>1991</td>\n",
       "      <td>182180.0</td>\n",
       "      <td>Alaska</td>\n",
       "    </tr>\n",
       "    <tr>\n",
       "      <th>4</th>\n",
       "      <td>AK</td>\n",
       "      <td>under18</td>\n",
       "      <td>1992</td>\n",
       "      <td>184878.0</td>\n",
       "      <td>Alaska</td>\n",
       "    </tr>\n",
       "  </tbody>\n",
       "</table>\n",
       "</div>"
      ],
      "text/plain": [
       "  state/region     ages  year  population   state\n",
       "0           AK    total  1990    553290.0  Alaska\n",
       "1           AK  under18  1990    177502.0  Alaska\n",
       "2           AK    total  1992    588736.0  Alaska\n",
       "3           AK  under18  1991    182180.0  Alaska\n",
       "4           AK  under18  1992    184878.0  Alaska"
      ]
     },
     "execution_count": 36,
     "metadata": {},
     "output_type": "execute_result"
    }
   ],
   "source": [
    "merged = pd.merge(pop,abbrevs,how='outer',\n",
    "                 left_on='state/region',right_on='abbreviation')\n",
    "merged = merged.drop('abbreviation',axis=1) #丢弃重复信息\n",
    "merged.head()"
   ]
  },
  {
   "cell_type": "markdown",
   "id": "755b8c30-9eb0-4c75-918e-05ac99b6907f",
   "metadata": {},
   "source": [
    "来全面检查一下数据是否有缺失，我们可以对每个字段逐行检查是否有\n",
    "缺失值："
   ]
  },
  {
   "cell_type": "code",
   "execution_count": 37,
   "id": "53295fb3-13d7-4859-b0d0-57016a9ef9ad",
   "metadata": {},
   "outputs": [
    {
     "data": {
      "text/plain": [
       "state/region     0\n",
       "ages             0\n",
       "year             0\n",
       "population      20\n",
       "state           96\n",
       "dtype: int64"
      ]
     },
     "execution_count": 37,
     "metadata": {},
     "output_type": "execute_result"
    }
   ],
   "source": [
    "merged.isnull().sum()"
   ]
  },
  {
   "cell_type": "markdown",
   "id": "fe05abfe-d740-4508-9787-1d92d1aec511",
   "metadata": {},
   "source": [
    "部分 population 是缺失值，让我们仔细看看那些数据！"
   ]
  },
  {
   "cell_type": "code",
   "execution_count": 38,
   "id": "7858ef34-35dc-43cb-88e7-7843b3a0cf94",
   "metadata": {},
   "outputs": [
    {
     "data": {
      "text/html": [
       "<div>\n",
       "<style scoped>\n",
       "    .dataframe tbody tr th:only-of-type {\n",
       "        vertical-align: middle;\n",
       "    }\n",
       "\n",
       "    .dataframe tbody tr th {\n",
       "        vertical-align: top;\n",
       "    }\n",
       "\n",
       "    .dataframe thead th {\n",
       "        text-align: right;\n",
       "    }\n",
       "</style>\n",
       "<table border=\"1\" class=\"dataframe\">\n",
       "  <thead>\n",
       "    <tr style=\"text-align: right;\">\n",
       "      <th></th>\n",
       "      <th>state/region</th>\n",
       "      <th>ages</th>\n",
       "      <th>year</th>\n",
       "      <th>population</th>\n",
       "      <th>state</th>\n",
       "    </tr>\n",
       "  </thead>\n",
       "  <tbody>\n",
       "    <tr>\n",
       "      <th>1872</th>\n",
       "      <td>PR</td>\n",
       "      <td>under18</td>\n",
       "      <td>1990</td>\n",
       "      <td>NaN</td>\n",
       "      <td>NaN</td>\n",
       "    </tr>\n",
       "    <tr>\n",
       "      <th>1873</th>\n",
       "      <td>PR</td>\n",
       "      <td>total</td>\n",
       "      <td>1990</td>\n",
       "      <td>NaN</td>\n",
       "      <td>NaN</td>\n",
       "    </tr>\n",
       "    <tr>\n",
       "      <th>1874</th>\n",
       "      <td>PR</td>\n",
       "      <td>total</td>\n",
       "      <td>1991</td>\n",
       "      <td>NaN</td>\n",
       "      <td>NaN</td>\n",
       "    </tr>\n",
       "    <tr>\n",
       "      <th>1875</th>\n",
       "      <td>PR</td>\n",
       "      <td>under18</td>\n",
       "      <td>1991</td>\n",
       "      <td>NaN</td>\n",
       "      <td>NaN</td>\n",
       "    </tr>\n",
       "    <tr>\n",
       "      <th>1876</th>\n",
       "      <td>PR</td>\n",
       "      <td>total</td>\n",
       "      <td>1993</td>\n",
       "      <td>NaN</td>\n",
       "      <td>NaN</td>\n",
       "    </tr>\n",
       "  </tbody>\n",
       "</table>\n",
       "</div>"
      ],
      "text/plain": [
       "     state/region     ages  year  population state\n",
       "1872           PR  under18  1990         NaN   NaN\n",
       "1873           PR    total  1990         NaN   NaN\n",
       "1874           PR    total  1991         NaN   NaN\n",
       "1875           PR  under18  1991         NaN   NaN\n",
       "1876           PR    total  1993         NaN   NaN"
      ]
     },
     "execution_count": 38,
     "metadata": {},
     "output_type": "execute_result"
    }
   ],
   "source": [
    "merged[merged['population'].isnull()].head()"
   ]
  },
  {
   "cell_type": "markdown",
   "id": "c1685850-d3a3-41c0-8e03-598e26ed818a",
   "metadata": {},
   "source": [
    "好像所有的人口缺失值都出现在 2000 年之前的波多黎各 ，此前并没有\n",
    "统计过波多黎各的人口。"
   ]
  },
  {
   "cell_type": "markdown",
   "id": "eb87a521-9d9a-412a-bbc1-afed2db6e318",
   "metadata": {},
   "source": [
    "更重要的是，我们还发现一些新的州的数据也有缺失，可能是由于名称\n",
    "缩写没有匹配上全程！来看看究竟是哪个州有缺失："
   ]
  },
  {
   "cell_type": "code",
   "execution_count": 39,
   "id": "030ad756-3835-455e-a0e4-cf1951d38d9a",
   "metadata": {},
   "outputs": [
    {
     "data": {
      "text/plain": [
       "array(['PR', 'USA'], dtype=object)"
      ]
     },
     "execution_count": 39,
     "metadata": {},
     "output_type": "execute_result"
    }
   ],
   "source": [
    "merged.loc[merged['state'].isnull(),'state/region'].unique()"
   ]
  },
  {
   "cell_type": "markdown",
   "id": "b054468f-6479-4493-9871-c49d1301ddcd",
   "metadata": {},
   "source": [
    "我们可以快速解决这个问题：人口数据中包含波多黎各（PR）和全国\n",
    "总数（USA），但这两项没有出现在州名称缩写表中。来快速填充对应\n",
    "的全称：\n"
   ]
  },
  {
   "cell_type": "code",
   "execution_count": 41,
   "id": "4e5f54a2-4ffc-4439-98e2-59fa3042e60f",
   "metadata": {},
   "outputs": [
    {
     "data": {
      "text/plain": [
       "state/region    False\n",
       "ages            False\n",
       "year            False\n",
       "population       True\n",
       "state           False\n",
       "dtype: bool"
      ]
     },
     "execution_count": 41,
     "metadata": {},
     "output_type": "execute_result"
    }
   ],
   "source": [
    "merged.loc[merged['state/region'] == 'PR', 'state'] = 'Puerto Rico'\n",
    "merged.loc[merged['state/region'] == 'USA', 'state'] = 'United States'\n",
    "merged.isnull().any()"
   ]
  },
  {
   "cell_type": "markdown",
   "id": "9c68b1bd-dbc3-45b8-b61d-d8fb43796905",
   "metadata": {},
   "source": [
    "现在 state 列没有缺失值了，万事俱备！\n",
    "让我们用类似的规则将面积数据也合并进来。用两个数据集共同的\n",
    "state 列来合并：\n"
   ]
  },
  {
   "cell_type": "code",
   "execution_count": 44,
   "id": "ff7400d2-8dfd-4b49-842b-7cadece1672d",
   "metadata": {},
   "outputs": [
    {
     "data": {
      "text/html": [
       "<div>\n",
       "<style scoped>\n",
       "    .dataframe tbody tr th:only-of-type {\n",
       "        vertical-align: middle;\n",
       "    }\n",
       "\n",
       "    .dataframe tbody tr th {\n",
       "        vertical-align: top;\n",
       "    }\n",
       "\n",
       "    .dataframe thead th {\n",
       "        text-align: right;\n",
       "    }\n",
       "</style>\n",
       "<table border=\"1\" class=\"dataframe\">\n",
       "  <thead>\n",
       "    <tr style=\"text-align: right;\">\n",
       "      <th></th>\n",
       "      <th>state/region</th>\n",
       "      <th>ages</th>\n",
       "      <th>year</th>\n",
       "      <th>population</th>\n",
       "      <th>state</th>\n",
       "      <th>area (sq. mi)</th>\n",
       "    </tr>\n",
       "  </thead>\n",
       "  <tbody>\n",
       "    <tr>\n",
       "      <th>0</th>\n",
       "      <td>AK</td>\n",
       "      <td>total</td>\n",
       "      <td>1990</td>\n",
       "      <td>553290.0</td>\n",
       "      <td>Alaska</td>\n",
       "      <td>656425.0</td>\n",
       "    </tr>\n",
       "    <tr>\n",
       "      <th>1</th>\n",
       "      <td>AK</td>\n",
       "      <td>under18</td>\n",
       "      <td>1990</td>\n",
       "      <td>177502.0</td>\n",
       "      <td>Alaska</td>\n",
       "      <td>656425.0</td>\n",
       "    </tr>\n",
       "    <tr>\n",
       "      <th>2</th>\n",
       "      <td>AK</td>\n",
       "      <td>total</td>\n",
       "      <td>1992</td>\n",
       "      <td>588736.0</td>\n",
       "      <td>Alaska</td>\n",
       "      <td>656425.0</td>\n",
       "    </tr>\n",
       "    <tr>\n",
       "      <th>3</th>\n",
       "      <td>AK</td>\n",
       "      <td>under18</td>\n",
       "      <td>1991</td>\n",
       "      <td>182180.0</td>\n",
       "      <td>Alaska</td>\n",
       "      <td>656425.0</td>\n",
       "    </tr>\n",
       "    <tr>\n",
       "      <th>4</th>\n",
       "      <td>AK</td>\n",
       "      <td>under18</td>\n",
       "      <td>1992</td>\n",
       "      <td>184878.0</td>\n",
       "      <td>Alaska</td>\n",
       "      <td>656425.0</td>\n",
       "    </tr>\n",
       "  </tbody>\n",
       "</table>\n",
       "</div>"
      ],
      "text/plain": [
       "  state/region     ages  year  population   state  area (sq. mi)\n",
       "0           AK    total  1990    553290.0  Alaska       656425.0\n",
       "1           AK  under18  1990    177502.0  Alaska       656425.0\n",
       "2           AK    total  1992    588736.0  Alaska       656425.0\n",
       "3           AK  under18  1991    182180.0  Alaska       656425.0\n",
       "4           AK  under18  1992    184878.0  Alaska       656425.0"
      ]
     },
     "execution_count": 44,
     "metadata": {},
     "output_type": "execute_result"
    }
   ],
   "source": [
    "final = pd.merge(merged, areas, on='state', how='left')\n",
    "final.head()"
   ]
  },
  {
   "cell_type": "markdown",
   "id": "c855a238-a680-4851-81f6-6f951d0b2518",
   "metadata": {},
   "source": [
    "再检查一下数据，看看哪些列还有缺失值，没有匹配上："
   ]
  },
  {
   "cell_type": "code",
   "execution_count": 45,
   "id": "f72495d7-501f-4324-9242-8110ec3143b4",
   "metadata": {},
   "outputs": [
    {
     "data": {
      "text/plain": [
       "state/region     False\n",
       "ages             False\n",
       "year             False\n",
       "population        True\n",
       "state            False\n",
       "area (sq. mi)     True\n",
       "dtype: bool"
      ]
     },
     "execution_count": 45,
     "metadata": {},
     "output_type": "execute_result"
    }
   ],
   "source": [
    "final.isnull().any()"
   ]
  },
  {
   "cell_type": "markdown",
   "id": "04c616ee-2d91-4d08-bb09-84b32d9900cc",
   "metadata": {},
   "source": [
    "面积 area 列里面还有缺失值。来看看究竟是哪些地区面积缺失："
   ]
  },
  {
   "cell_type": "code",
   "execution_count": 46,
   "id": "d85340cf-4fe8-42ef-b397-c1805a9f1afd",
   "metadata": {},
   "outputs": [
    {
     "data": {
      "text/plain": [
       "array(['United States'], dtype=object)"
      ]
     },
     "execution_count": 46,
     "metadata": {},
     "output_type": "execute_result"
    }
   ],
   "source": [
    "final['state'][final['area (sq. mi)'].isnull()].unique()"
   ]
  },
  {
   "cell_type": "markdown",
   "id": "e2d059d3-e441-45a1-b322-5f7ae767f7c7",
   "metadata": {},
   "source": [
    "我们发现面积（areas）DataFrame 里面不包含全美国的面积数据。可\n",
    "以插入全国总面积数据（对各州面积求和即可），但是针对本案例，我\n",
    "们要去掉这个缺失值，因为全国的人口密度在此无关紧要："
   ]
  },
  {
   "cell_type": "code",
   "execution_count": 47,
   "id": "6aaf5bea-6ee0-4102-8c98-25cf73bf1a71",
   "metadata": {},
   "outputs": [
    {
     "data": {
      "text/html": [
       "<div>\n",
       "<style scoped>\n",
       "    .dataframe tbody tr th:only-of-type {\n",
       "        vertical-align: middle;\n",
       "    }\n",
       "\n",
       "    .dataframe tbody tr th {\n",
       "        vertical-align: top;\n",
       "    }\n",
       "\n",
       "    .dataframe thead th {\n",
       "        text-align: right;\n",
       "    }\n",
       "</style>\n",
       "<table border=\"1\" class=\"dataframe\">\n",
       "  <thead>\n",
       "    <tr style=\"text-align: right;\">\n",
       "      <th></th>\n",
       "      <th>state/region</th>\n",
       "      <th>ages</th>\n",
       "      <th>year</th>\n",
       "      <th>population</th>\n",
       "      <th>state</th>\n",
       "      <th>area (sq. mi)</th>\n",
       "    </tr>\n",
       "  </thead>\n",
       "  <tbody>\n",
       "    <tr>\n",
       "      <th>0</th>\n",
       "      <td>AK</td>\n",
       "      <td>total</td>\n",
       "      <td>1990</td>\n",
       "      <td>553290.0</td>\n",
       "      <td>Alaska</td>\n",
       "      <td>656425.0</td>\n",
       "    </tr>\n",
       "    <tr>\n",
       "      <th>1</th>\n",
       "      <td>AK</td>\n",
       "      <td>under18</td>\n",
       "      <td>1990</td>\n",
       "      <td>177502.0</td>\n",
       "      <td>Alaska</td>\n",
       "      <td>656425.0</td>\n",
       "    </tr>\n",
       "    <tr>\n",
       "      <th>2</th>\n",
       "      <td>AK</td>\n",
       "      <td>total</td>\n",
       "      <td>1992</td>\n",
       "      <td>588736.0</td>\n",
       "      <td>Alaska</td>\n",
       "      <td>656425.0</td>\n",
       "    </tr>\n",
       "    <tr>\n",
       "      <th>3</th>\n",
       "      <td>AK</td>\n",
       "      <td>under18</td>\n",
       "      <td>1991</td>\n",
       "      <td>182180.0</td>\n",
       "      <td>Alaska</td>\n",
       "      <td>656425.0</td>\n",
       "    </tr>\n",
       "    <tr>\n",
       "      <th>4</th>\n",
       "      <td>AK</td>\n",
       "      <td>under18</td>\n",
       "      <td>1992</td>\n",
       "      <td>184878.0</td>\n",
       "      <td>Alaska</td>\n",
       "      <td>656425.0</td>\n",
       "    </tr>\n",
       "  </tbody>\n",
       "</table>\n",
       "</div>"
      ],
      "text/plain": [
       "  state/region     ages  year  population   state  area (sq. mi)\n",
       "0           AK    total  1990    553290.0  Alaska       656425.0\n",
       "1           AK  under18  1990    177502.0  Alaska       656425.0\n",
       "2           AK    total  1992    588736.0  Alaska       656425.0\n",
       "3           AK  under18  1991    182180.0  Alaska       656425.0\n",
       "4           AK  under18  1992    184878.0  Alaska       656425.0"
      ]
     },
     "execution_count": 47,
     "metadata": {},
     "output_type": "execute_result"
    }
   ],
   "source": [
    "final.dropna(inplace=True)\n",
    "final.head()"
   ]
  },
  {
   "cell_type": "markdown",
   "id": "bc794cf7-a250-4f03-b47a-10eef97e57a4",
   "metadata": {},
   "source": [
    "现在所有的数据都准备好了。为了解决眼前的问题，先选择 2000 年的\n",
    "各州人口以及总人口数据。让我们用 query() 函数进行快速计算（这\n",
    "需要用到 numexpr 程序库，详情请参见 3.13 节）："
   ]
  },
  {
   "cell_type": "code",
   "execution_count": 48,
   "id": "f59b1cbe-ffb7-47b1-8b8c-ce74113798a4",
   "metadata": {},
   "outputs": [
    {
     "data": {
      "text/html": [
       "<div>\n",
       "<style scoped>\n",
       "    .dataframe tbody tr th:only-of-type {\n",
       "        vertical-align: middle;\n",
       "    }\n",
       "\n",
       "    .dataframe tbody tr th {\n",
       "        vertical-align: top;\n",
       "    }\n",
       "\n",
       "    .dataframe thead th {\n",
       "        text-align: right;\n",
       "    }\n",
       "</style>\n",
       "<table border=\"1\" class=\"dataframe\">\n",
       "  <thead>\n",
       "    <tr style=\"text-align: right;\">\n",
       "      <th></th>\n",
       "      <th>state/region</th>\n",
       "      <th>ages</th>\n",
       "      <th>year</th>\n",
       "      <th>population</th>\n",
       "      <th>state</th>\n",
       "      <th>area (sq. mi)</th>\n",
       "    </tr>\n",
       "  </thead>\n",
       "  <tbody>\n",
       "    <tr>\n",
       "      <th>43</th>\n",
       "      <td>AK</td>\n",
       "      <td>total</td>\n",
       "      <td>2010</td>\n",
       "      <td>713868.0</td>\n",
       "      <td>Alaska</td>\n",
       "      <td>656425.0</td>\n",
       "    </tr>\n",
       "    <tr>\n",
       "      <th>51</th>\n",
       "      <td>AL</td>\n",
       "      <td>total</td>\n",
       "      <td>2010</td>\n",
       "      <td>4785570.0</td>\n",
       "      <td>Alabama</td>\n",
       "      <td>52423.0</td>\n",
       "    </tr>\n",
       "    <tr>\n",
       "      <th>141</th>\n",
       "      <td>AR</td>\n",
       "      <td>total</td>\n",
       "      <td>2010</td>\n",
       "      <td>2922280.0</td>\n",
       "      <td>Arkansas</td>\n",
       "      <td>53182.0</td>\n",
       "    </tr>\n",
       "    <tr>\n",
       "      <th>149</th>\n",
       "      <td>AZ</td>\n",
       "      <td>total</td>\n",
       "      <td>2010</td>\n",
       "      <td>6408790.0</td>\n",
       "      <td>Arizona</td>\n",
       "      <td>114006.0</td>\n",
       "    </tr>\n",
       "    <tr>\n",
       "      <th>197</th>\n",
       "      <td>CA</td>\n",
       "      <td>total</td>\n",
       "      <td>2010</td>\n",
       "      <td>37333601.0</td>\n",
       "      <td>California</td>\n",
       "      <td>163707.0</td>\n",
       "    </tr>\n",
       "  </tbody>\n",
       "</table>\n",
       "</div>"
      ],
      "text/plain": [
       "    state/region   ages  year  population       state  area (sq. mi)\n",
       "43            AK  total  2010    713868.0      Alaska       656425.0\n",
       "51            AL  total  2010   4785570.0     Alabama        52423.0\n",
       "141           AR  total  2010   2922280.0    Arkansas        53182.0\n",
       "149           AZ  total  2010   6408790.0     Arizona       114006.0\n",
       "197           CA  total  2010  37333601.0  California       163707.0"
      ]
     },
     "execution_count": 48,
     "metadata": {},
     "output_type": "execute_result"
    }
   ],
   "source": [
    "data2010 = final.query(\"year == 2010 & ages == 'total'\")\n",
    "data2010.head()"
   ]
  },
  {
   "cell_type": "markdown",
   "id": "90746e69-1542-4d66-ad50-ceb69349aaa8",
   "metadata": {},
   "source": [
    "现在来计算人口密度并按序排列。首先对索引进行重置，然后再计算结\n",
    "果：\n"
   ]
  },
  {
   "cell_type": "code",
   "execution_count": 49,
   "id": "ff2f77dc-9d88-48dd-9158-3f65e600d56d",
   "metadata": {},
   "outputs": [],
   "source": [
    "data2010.set_index('state', inplace=True)\n",
    "density = data2010['population'] / data2010['area (sq. mi)']"
   ]
  },
  {
   "cell_type": "code",
   "execution_count": 50,
   "id": "a9b7517e-3d7c-436e-8d05-5e94107ca8d0",
   "metadata": {},
   "outputs": [
    {
     "data": {
      "text/plain": [
       "state\n",
       "District of Columbia    8898.897059\n",
       "Puerto Rico             1058.665149\n",
       "New Jersey              1009.253268\n",
       "Rhode Island             681.339159\n",
       "Connecticut              645.600649\n",
       "dtype: float64"
      ]
     },
     "execution_count": 50,
     "metadata": {},
     "output_type": "execute_result"
    }
   ],
   "source": [
    "density.sort_values(ascending=False, inplace=True)\n",
    "density.head()"
   ]
  },
  {
   "cell_type": "markdown",
   "id": "a83889af-09d8-4bc4-afb9-d8a3e284e1b6",
   "metadata": {},
   "source": [
    "计算结果是美国各州加上华盛顿特区（Washington, DC）、波多黎各在  \n",
    "2010 年的人口密度排序，以万人 / 平方英里为单位。我们发现人口密度  \n",
    "最高的地区是华盛顿特区的哥伦比亚地区（the District of Columbia）。 \n",
    "在各州的人口密度中，新泽西州（New Jersey）是最高的。  "
   ]
  },
  {
   "cell_type": "markdown",
   "id": "a2a44230-643f-4fe0-964e-6bfc9763e889",
   "metadata": {},
   "source": [
    "还可以看看人口密度最低的几个州的数据："
   ]
  },
  {
   "cell_type": "code",
   "execution_count": 51,
   "id": "ab8b2603-7d37-40ef-8338-5e2e8afccb41",
   "metadata": {},
   "outputs": [
    {
     "data": {
      "text/plain": [
       "state\n",
       "South Dakota    10.583512\n",
       "North Dakota     9.537565\n",
       "Montana          6.736171\n",
       "Wyoming          5.768079\n",
       "Alaska           1.087509\n",
       "dtype: float64"
      ]
     },
     "execution_count": 51,
     "metadata": {},
     "output_type": "execute_result"
    }
   ],
   "source": [
    "density.tail()"
   ]
  },
  {
   "cell_type": "markdown",
   "id": "f2ac2580-9714-4d06-a1a3-530d13f0dcd7",
   "metadata": {},
   "source": [
    "可以看出，人口密度最低的州是阿拉斯加（Alaska），刚刚超过 1 万人  \n",
    "/ 平方英里。  \n",
    "当人们用现实世界的数据解决问题时，合并这类脏乱的数据是十分常见  \n",
    "的任务。希望这个案例可以帮你把前面介绍过的工具串起来，从而在数  \n",
    "据中找到想要的答案 "
   ]
  },
  {
   "cell_type": "code",
   "execution_count": null,
   "id": "794acb81-7868-42b6-9017-a0ff175689dc",
   "metadata": {},
   "outputs": [],
   "source": []
  }
 ],
 "metadata": {
  "kernelspec": {
   "display_name": "Python 3 (ipykernel)",
   "language": "python",
   "name": "python3"
  },
  "language_info": {
   "codemirror_mode": {
    "name": "ipython",
    "version": 3
   },
   "file_extension": ".py",
   "mimetype": "text/x-python",
   "name": "python",
   "nbconvert_exporter": "python",
   "pygments_lexer": "ipython3",
   "version": "3.9.7"
  }
 },
 "nbformat": 4,
 "nbformat_minor": 5
}
