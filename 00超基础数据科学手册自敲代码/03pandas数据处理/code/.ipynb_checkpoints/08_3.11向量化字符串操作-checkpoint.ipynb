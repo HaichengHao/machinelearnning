{
 "cells": [
  {
   "cell_type": "code",
   "execution_count": 19,
   "id": "173d014b-b6bc-46ed-83be-c06a6be4358f",
   "metadata": {},
   "outputs": [
    {
     "data": {
      "text/html": [
       "<style type='text/css'>\n",
       "    *{\n",
       "        # background-color:#E3EDCD;\n",
       "        # background-color:black;\n",
       "        # color:white;\n",
       "        \n",
       "    }\n",
       "    h1{\n",
       "        color:#1976d2;\n",
       "    }\n",
       "    h2{\n",
       "        color:#f57c00;\n",
       "    }\n",
       "    h3{\n",
       "        color:#ba37ff;\n",
       "    }\n",
       "    h4{\n",
       "        color:green;\n",
       "    }\n",
       "    table{\n",
       "        border:1px solid black !important;\n",
       "        border-collapse:collapse !important;\n",
       "    }\n",
       "    th{\n",
       "        background-color:blueviolet !important;\n",
       "        text-align:center;\n",
       "        color:white;\n",
       "    }\n",
       "    th,td{\n",
       "        border:0.1px solid black !important;\n",
       "        transition:0.2s all liner;\n",
       "        \n",
       "    }\n",
       "    td:hover{\n",
       "        transform:scale(1.1);\n",
       "        background-color:orange;\n",
       "        color:blueviolet;\n",
       "    }\n",
       "    .raw{\n",
       "        white-space:pre;\n",
       "        color:green;\n",
       "    }\n",
       "    #imp{\n",
       "        color:red;\n",
       "    }\n",
       "    #ct{\n",
       "        text-align:center;\n",
       "    }\n",
       "</style>\n"
      ],
      "text/plain": [
       "<IPython.core.display.HTML object>"
      ]
     },
     "metadata": {},
     "output_type": "display_data"
    }
   ],
   "source": [
    "%%HTML\n",
    "<style type='text/css'>\n",
    "    *{\n",
    "        # background-color:#E3EDCD;\n",
    "        # background-color:black;\n",
    "        # color:white;\n",
    "        \n",
    "    }\n",
    "    h1{\n",
    "        color:#1976d2;\n",
    "    }\n",
    "    h2{\n",
    "        color:#f57c00;\n",
    "    }\n",
    "    h3{\n",
    "        color:#ba37ff;\n",
    "    }\n",
    "    h4{\n",
    "        color:green;\n",
    "    }\n",
    "    table{\n",
    "        border:1px solid black !important;\n",
    "        border-collapse:collapse !important;\n",
    "    }\n",
    "    th{\n",
    "        background-color:blueviolet !important;\n",
    "        text-align:center;\n",
    "        color:white;\n",
    "    }\n",
    "    th,td{\n",
    "        border:0.1px solid black !important;\n",
    "        transition:0.2s all liner;\n",
    "        \n",
    "    }\n",
    "    td:hover{\n",
    "        transform:scale(1.1);\n",
    "        background-color:orange;\n",
    "        color:blueviolet;\n",
    "    }\n",
    "    .raw{\n",
    "        white-space:pre;\n",
    "        color:green;\n",
    "    }\n",
    "    #imp{\n",
    "        color:red;\n",
    "    }\n",
    "    #ct{\n",
    "        text-align:center;\n",
    "    }\n",
    "</style>"
   ]
  },
  {
   "cell_type": "markdown",
   "id": "71a626d2-22c9-42a2-8153-58d4c88d154c",
   "metadata": {},
   "source": [
    "## 3.11 向量化字符串操作"
   ]
  },
  {
   "cell_type": "markdown",
   "id": "6dde64c4-8482-4f32-b7ff-122886e0f15a",
   "metadata": {},
   "source": [
    "使用 Python 的一个优势就是字符串处理起来比较容易。在此基础上创\n",
    "建的 Pandas 同样提供了一系列向量化字符串操作（vectorized string\n",
    "operation），它们都是在处理（清洗）现实工作中的数据时不可或缺的\n",
    "功能。在这一节中，我们将介绍 Pandas 的字符串操作，学习如何用它\n",
    "们对一个从网络采集来的杂乱无章的数据集进行局部清理。"
   ]
  },
  {
   "cell_type": "markdown",
   "id": "96e3457e-d65e-4721-a02f-e486b5878045",
   "metadata": {},
   "source": [
    "### 3.11.1 Pandas字符串操作简介"
   ]
  },
  {
   "cell_type": "markdown",
   "id": "36796834-1543-4bf3-a3fa-b50fd9dfa493",
   "metadata": {},
   "source": [
    "前面的章节已经介绍过如何用 NumPy 和 Pandas 进行一般的运算操作，\n",
    "因此我们也能简便快速地对多个数组元素执行同样的操作，例如："
   ]
  },
  {
   "cell_type": "code",
   "execution_count": 2,
   "id": "8b22b336-83c9-404d-8c93-859ec3d1aa68",
   "metadata": {},
   "outputs": [
    {
     "data": {
      "text/plain": [
       "array([ 4,  6, 10, 14, 22, 26])"
      ]
     },
     "execution_count": 2,
     "metadata": {},
     "output_type": "execute_result"
    }
   ],
   "source": [
    "import numpy as np\n",
    "x = np.array([2, 3, 5, 7, 11, 13])\n",
    "x * 2"
   ]
  },
  {
   "cell_type": "markdown",
   "id": "cc0b8d76-6ff6-461f-836f-87edd9927ed7",
   "metadata": {},
   "source": [
    "向量化操作简化了纯数值的数组操作语法——我们不需要再担心数组的\n",
    "长度或维度，只需要关心需要的操作。然而，由于 NumPy 并没有为字\n",
    "符串数组提供简单的接口，因此需要通过繁琐的 for 循环来解决问题："
   ]
  },
  {
   "cell_type": "code",
   "execution_count": 3,
   "id": "4b8c8336-1107-4764-ae64-96c1763936f0",
   "metadata": {},
   "outputs": [
    {
     "data": {
      "text/plain": [
       "['Peter', 'Paul', 'Mary', 'Guido']"
      ]
     },
     "execution_count": 3,
     "metadata": {},
     "output_type": "execute_result"
    }
   ],
   "source": [
    "data = ['peter', 'Paul', 'MARY', 'gUIDO']\n",
    "[s.capitalize() for s in data]"
   ]
  },
  {
   "cell_type": "markdown",
   "id": "d9ed6ea0-81ba-48b2-96ec-21aac26af7cc",
   "metadata": {},
   "source": [
    "虽然这么做对于某些数据可能是有效的，但是假如数据中出现了缺失\n",
    "值，那么这样做就会引起异常，例如：\n"
   ]
  },
  {
   "cell_type": "code",
   "execution_count": 4,
   "id": "a7050c2d-969d-4dcb-b3a0-99ccae9c2eea",
   "metadata": {},
   "outputs": [
    {
     "name": "stdout",
     "output_type": "stream",
     "text": [
      "'NoneType' object has no attribute 'capitalize'\n"
     ]
    }
   ],
   "source": [
    "data = ['peter', 'Paul', None, 'MARY', 'gUIDO']\n",
    "try:\n",
    "    [s.capitalize() for s in data]\n",
    "except BaseException as e:\n",
    "    print(e)"
   ]
  },
  {
   "cell_type": "markdown",
   "id": "ee4322ce-a74b-4f12-a059-a7c0c833273d",
   "metadata": {},
   "source": [
    "Pandas 为包含字符串的 Series 和 Index 对象提供的 str 属性堪称两\n",
    "全其美的方法，它既可以满足向量化字符串操作的需求，又可以正确地\n",
    "处理缺失值。例如，我们用前面的数据 data 创建了一个 Pandas 的\n",
    "Series：\n"
   ]
  },
  {
   "cell_type": "code",
   "execution_count": 5,
   "id": "d561501f-96c6-4543-9aa9-d238a3e581ed",
   "metadata": {},
   "outputs": [
    {
     "data": {
      "text/plain": [
       "0    peter\n",
       "1     Paul\n",
       "2     None\n",
       "3     MARY\n",
       "4    gUIDO\n",
       "dtype: object"
      ]
     },
     "execution_count": 5,
     "metadata": {},
     "output_type": "execute_result"
    }
   ],
   "source": [
    "import pandas as pd\n",
    "names = pd.Series(data)\n",
    "names"
   ]
  },
  {
   "cell_type": "markdown",
   "id": "17b4212e-c58b-4006-836d-175deebafa25",
   "metadata": {},
   "source": [
    "现在就可以直接调用转换大写方法 capitalize() 将所有的字符串变成\n",
    "大写形式，缺失值会被跳过："
   ]
  },
  {
   "cell_type": "code",
   "execution_count": 6,
   "id": "87a24bf2-689e-4422-9cfa-eb10f30d0666",
   "metadata": {},
   "outputs": [
    {
     "data": {
      "text/plain": [
       "0    Peter\n",
       "1     Paul\n",
       "2     None\n",
       "3     Mary\n",
       "4    Guido\n",
       "dtype: object"
      ]
     },
     "execution_count": 6,
     "metadata": {},
     "output_type": "execute_result"
    }
   ],
   "source": [
    "names.str.capitalize()"
   ]
  },
  {
   "cell_type": "markdown",
   "id": "2f484d2b-beae-44e0-b150-5f5ff5c39f25",
   "metadata": {},
   "source": [
    "在 str 属性后面用 Tab 键，可以看到 Pandas 支持的所有向量化字符串\n",
    "方法。"
   ]
  },
  {
   "cell_type": "markdown",
   "id": "acc0d675-d441-44e9-8741-f336a7c19e9e",
   "metadata": {},
   "source": [
    "### 3.11.2 Pandas字符串方法列表"
   ]
  },
  {
   "cell_type": "markdown",
   "id": "d01c768f-7194-4643-ae0a-4c97f006c70a",
   "metadata": {},
   "source": [
    "如果你熟悉 Python 的字符串方法的话，就会发现 Pandas 绝大多数的字\n",
    "符串语法都很直观，甚至可以列成一个表格。在深入论述后面的内容之\n",
    "前，让我们先从这一步开始。这一节的示例将采用一些人名来演示"
   ]
  },
  {
   "cell_type": "code",
   "execution_count": 7,
   "id": "accdbda8-60b3-4ae3-98d2-c37747925b1e",
   "metadata": {},
   "outputs": [],
   "source": [
    "monte = pd.Series(['Graham Chapman', 'John Cleese', 'Terry Gilliam',\n",
    "'Eric Idle', 'Terry Jones', 'Michael Palin'])\n"
   ]
  },
  {
   "cell_type": "markdown",
   "id": "48aaae8f-1d87-47a3-8ec0-108507909690",
   "metadata": {},
   "source": [
    "01. 与Python字符串方法相似的方法"
   ]
  },
  {
   "cell_type": "markdown",
   "id": "7c9805d6-22a3-4f29-8d8d-6ac46b1c7879",
   "metadata": {},
   "source": [
    "几乎所有 Python 内置的字符串方法都被复制到 Pandas 的向量化字\n",
    "符串方法中。下面的表格列举了 Pandas 的 str 方法借鉴 Python 字\n",
    "符串方法的内容：\n"
   ]
  },
  {
   "cell_type": "markdown",
   "id": "0fa3885a-b046-4aeb-a38e-ffffed4f815f",
   "metadata": {},
   "source": [
    "```python\n",
    "len() lower() translate() islower()\n",
    "ljust() upper() startswith() isupper()\n",
    "rjust() find() endswith() isnumeric()\n",
    "center() rfind() isalnum() isdecimal()\n",
    "zfill() index() isalpha() split()\n",
    "strip() rindex() isdigit() rsplit()\n",
    "rstrip() capitalize() isspace() partition()\n",
    "lstrip() swapcase() istitle() rpartition()\n",
    "```"
   ]
  },
  {
   "cell_type": "markdown",
   "id": "fe2251b6-3a98-4577-9419-b59a60801b8d",
   "metadata": {},
   "source": [
    "需要注意的是，这些方法的返回值不同，例如 lower() 方法返回\n",
    "一个字符串 Series："
   ]
  },
  {
   "cell_type": "code",
   "execution_count": 8,
   "id": "d6f95a37-e613-4f01-9f55-fa047a991aee",
   "metadata": {},
   "outputs": [
    {
     "data": {
      "text/plain": [
       "0    graham chapman\n",
       "1       john cleese\n",
       "2     terry gilliam\n",
       "3         eric idle\n",
       "4       terry jones\n",
       "5     michael palin\n",
       "dtype: object"
      ]
     },
     "execution_count": 8,
     "metadata": {},
     "output_type": "execute_result"
    }
   ],
   "source": [
    "monte.str.lower()"
   ]
  },
  {
   "cell_type": "markdown",
   "id": "ba27d948-01c5-46cd-ada8-8c2d6b9389a8",
   "metadata": {},
   "source": [
    "但是有些方法返回数值："
   ]
  },
  {
   "cell_type": "code",
   "execution_count": 9,
   "id": "45040b11-2071-4c3d-bc9d-6da744da877f",
   "metadata": {},
   "outputs": [
    {
     "data": {
      "text/plain": [
       "0    14\n",
       "1    11\n",
       "2    13\n",
       "3     9\n",
       "4    11\n",
       "5    13\n",
       "dtype: int64"
      ]
     },
     "execution_count": 9,
     "metadata": {},
     "output_type": "execute_result"
    }
   ],
   "source": [
    "monte.str.len()"
   ]
  },
  {
   "cell_type": "markdown",
   "id": "c5cb42fe-9cad-405a-922b-9192db0f9181",
   "metadata": {},
   "source": [
    "有些方法返回布尔值"
   ]
  },
  {
   "cell_type": "code",
   "execution_count": 10,
   "id": "f2efbd5a-0298-45e5-ae35-b9aec4a55775",
   "metadata": {},
   "outputs": [
    {
     "data": {
      "text/plain": [
       "0    False\n",
       "1    False\n",
       "2     True\n",
       "3    False\n",
       "4     True\n",
       "5    False\n",
       "dtype: bool"
      ]
     },
     "execution_count": 10,
     "metadata": {},
     "output_type": "execute_result"
    }
   ],
   "source": [
    "monte.str.startswith('T')"
   ]
  },
  {
   "cell_type": "markdown",
   "id": "762412d1-80c4-48d1-aa3e-7ab8e40e98a4",
   "metadata": {},
   "source": [
    "还有些方法返回列表或其他复合值："
   ]
  },
  {
   "cell_type": "code",
   "execution_count": 11,
   "id": "4bc2cf08-48c4-401d-84be-3c645200d7c5",
   "metadata": {},
   "outputs": [
    {
     "data": {
      "text/plain": [
       "0    [Graham, Chapman]\n",
       "1       [John, Cleese]\n",
       "2     [Terry, Gilliam]\n",
       "3         [Eric, Idle]\n",
       "4       [Terry, Jones]\n",
       "5     [Michael, Palin]\n",
       "dtype: object"
      ]
     },
     "execution_count": 11,
     "metadata": {},
     "output_type": "execute_result"
    }
   ],
   "source": [
    "monte.str.split()"
   ]
  },
  {
   "cell_type": "markdown",
   "id": "692d1e43-7702-4f1b-8726-0f19ff2a4d34",
   "metadata": {},
   "source": [
    "在接下来的内容中，我们将进一步学习这类由列表元素构成的\n",
    "Series（series-of-lists）对象。"
   ]
  },
  {
   "cell_type": "markdown",
   "id": "7bfcb7ee-bee0-4dde-8c3f-58ed2ac5fa5e",
   "metadata": {},
   "source": [
    "02. 使用正则表达式的方法"
   ]
  },
  {
   "cell_type": "markdown",
   "id": "52f28d98-6b9c-4771-9d5c-f2b8a532e4f2",
   "metadata": {},
   "source": [
    "还有一些支持正则表达式的方法可以用来处理每个字符串元素。表\n",
    "3-4 中的内容是 Pandas 向量化字符串方法根据 Python 标准库的 re\n",
    "模块函数实现的 API。"
   ]
  },
  {
   "cell_type": "markdown",
   "id": "3a606333-fa59-46e7-bd4e-633b35b1e422",
   "metadata": {},
   "source": [
    "<table>\n",
    "    <tr>\n",
    "        <th>方法</th>\n",
    "        <th>描述</th>\n",
    "    </tr>\n",
    "    <tr>\n",
    "        <td>match()</td>\n",
    "        <td>对每个元素调用 re.match()，返回布尔类型值</td>\n",
    "    </tr>\n",
    "    <tr>\n",
    "        <td>extract()</td>\n",
    "        <td>对每个元素调用 re.match()，返回匹配的字符串组（groups）</td>\n",
    "    </tr>\n",
    "    <tr>\n",
    "        <td>findall()</td>\n",
    "        <td>对每个元素调用 re.findall()</td>\n",
    "    </tr>\n",
    "    <tr>\n",
    "        <td>replace()</td>\n",
    "        <td>用正则模式替换字符串</td>\n",
    "    </tr>\n",
    "    <tr>\n",
    "        <td>contains()</td>\n",
    "        <td>对每个元素调用 re.search()，返回布尔类型值</td>\n",
    "    </tr>\n",
    "    <tr>\n",
    "        <td>count()</td>\n",
    "        <td>计算符合正则模式的字符串的数量</td>\n",
    "    </tr>\n",
    "    <tr>\n",
    "        <td>split()</td>\n",
    "        <td>等价于 str.split()，支持正则表达式</td>\n",
    "    </tr>\n",
    "    <tr>\n",
    "        <td>rsplit()</td>\n",
    "        <td>等价于 str.rsplit()，支持正则表达式</td>\n",
    "    </tr>\n",
    "</table>"
   ]
  },
  {
   "cell_type": "markdown",
   "id": "99c21d5b-5cd0-44b8-bbdc-ca9f07c6522d",
   "metadata": {},
   "source": [
    "<p id='ct'>表3-4：Pandas向量化字符串方法与Python标准库的re模块函数的对应关系\n",
    "</p>"
   ]
  },
  {
   "cell_type": "markdown",
   "id": "af3a3387-1706-4f55-a419-a3e9bb13dfc2",
   "metadata": {},
   "source": [
    "通过这些方法，你就可以实现各种有趣的操作了。例如，可以提取\n",
    "元素前面的连续字母作为每个人的名字（first name）：\n"
   ]
  },
  {
   "cell_type": "code",
   "execution_count": 12,
   "id": "effa16a8-62af-4c11-b817-38cd547b512e",
   "metadata": {},
   "outputs": [
    {
     "data": {
      "text/html": [
       "<div>\n",
       "<style scoped>\n",
       "    .dataframe tbody tr th:only-of-type {\n",
       "        vertical-align: middle;\n",
       "    }\n",
       "\n",
       "    .dataframe tbody tr th {\n",
       "        vertical-align: top;\n",
       "    }\n",
       "\n",
       "    .dataframe thead th {\n",
       "        text-align: right;\n",
       "    }\n",
       "</style>\n",
       "<table border=\"1\" class=\"dataframe\">\n",
       "  <thead>\n",
       "    <tr style=\"text-align: right;\">\n",
       "      <th></th>\n",
       "      <th>0</th>\n",
       "    </tr>\n",
       "  </thead>\n",
       "  <tbody>\n",
       "    <tr>\n",
       "      <th>0</th>\n",
       "      <td>Graham</td>\n",
       "    </tr>\n",
       "    <tr>\n",
       "      <th>1</th>\n",
       "      <td>John</td>\n",
       "    </tr>\n",
       "    <tr>\n",
       "      <th>2</th>\n",
       "      <td>Terry</td>\n",
       "    </tr>\n",
       "    <tr>\n",
       "      <th>3</th>\n",
       "      <td>Eric</td>\n",
       "    </tr>\n",
       "    <tr>\n",
       "      <th>4</th>\n",
       "      <td>Terry</td>\n",
       "    </tr>\n",
       "    <tr>\n",
       "      <th>5</th>\n",
       "      <td>Michael</td>\n",
       "    </tr>\n",
       "  </tbody>\n",
       "</table>\n",
       "</div>"
      ],
      "text/plain": [
       "         0\n",
       "0   Graham\n",
       "1     John\n",
       "2    Terry\n",
       "3     Eric\n",
       "4    Terry\n",
       "5  Michael"
      ]
     },
     "execution_count": 12,
     "metadata": {},
     "output_type": "execute_result"
    }
   ],
   "source": [
    "monte.str.extract('([A-Za-z]+)') #多次匹配A-Z,a-z"
   ]
  },
  {
   "cell_type": "markdown",
   "id": "a8e940ea-b244-4844-8254-3ba278261e20",
   "metadata": {},
   "source": [
    "我们还能实现更复杂的操作，例如找出所有开头和结尾都是辅音字\n",
    "母的名字——这可以用正则表达式中的开始符号（^）与结尾符号\n",
    "（$）来实现："
   ]
  },
  {
   "cell_type": "markdown",
   "id": "9d408d33-e024-4108-9ad7-3e13a434d939",
   "metadata": {},
   "source": [
    "<p class='raw'>\n",
    "    简单理解下面的语法,回忆爬虫中学习的正则语法\n",
    "    [^...] 表示匹配除了字符组中的所有内容\n",
    "    ^表示匹配开头\n",
    "    .*为贪婪匹配,尽可能多的匹配结果\n",
    "    $为匹配结尾\n",
    "</p>"
   ]
  },
  {
   "cell_type": "markdown",
   "id": "5154230c-14e6-41a5-90fe-293b33a9eea2",
   "metadata": {},
   "source": [
    "<p class='raw',id='imp'>\n",
    "    注意,下面这行代码[^...],表示的是否定的‘非(not)’操作,\n",
    "    表示找到所有非AEIOU开头且非aeiou结尾的\n",
    "</p>"
   ]
  },
  {
   "cell_type": "code",
   "execution_count": 13,
   "id": "53f31e3f-9a39-4e93-892f-58ad0c93ffc5",
   "metadata": {},
   "outputs": [
    {
     "data": {
      "text/plain": [
       "0    [Graham Chapman]\n",
       "1                  []\n",
       "2     [Terry Gilliam]\n",
       "3                  []\n",
       "4       [Terry Jones]\n",
       "5     [Michael Palin]\n",
       "dtype: object"
      ]
     },
     "execution_count": 13,
     "metadata": {},
     "output_type": "execute_result"
    }
   ],
   "source": [
    "monte.str.findall(r'^[^AEIOU].*[^aeiou]$')"
   ]
  },
  {
   "cell_type": "markdown",
   "id": "fa6186b3-e95b-4b6c-834b-e96bee12a5d2",
   "metadata": {},
   "source": [
    "能将正则表达式应用到 Series 与 DataFrame 之中的话，就有可\n",
    "能实现更多的数据分析与清洗方法。"
   ]
  },
  {
   "cell_type": "markdown",
   "id": "a0430eae-f927-4b50-88aa-8e7d5993b4e5",
   "metadata": {},
   "source": [
    "03. 其他字符串方法"
   ]
  },
  {
   "cell_type": "markdown",
   "id": "8d0cf261-4fbe-4acc-98c8-4b973b3ce991",
   "metadata": {},
   "source": [
    "还有其他一些方法也可以实现方便的操作（如表 3-5 所示）。\n"
   ]
  },
  {
   "cell_type": "markdown",
   "id": "e99a41b3-ad8f-444f-923e-a8ad33d76c31",
   "metadata": {},
   "source": [
    "<table>\n",
    "    <tr>\n",
    "        <th>方法</th>\n",
    "        <th>描述</th>\n",
    "    </tr>\n",
    "    <tr>\n",
    "        <td>get()</td>\n",
    "        <td>获取元素索引位置上的值，索引从 0 开始</td>\n",
    "    </tr>\n",
    "    <tr>\n",
    "        <td>slice()</td>\n",
    "        <td>对元素进行切片取值</td>\n",
    "    </tr>\n",
    "    <tr>\n",
    "        <td>slice_replace()</td>\n",
    "        <td>对元素进行切片替换</td>\n",
    "    </tr>\n",
    "    <tr>\n",
    "        <td>cat() </td>\n",
    "        <td>连接字符串（此功能比较复杂，建议阅读文档）</td>\n",
    "    </tr>\n",
    "    <tr>\n",
    "        <td>repeat() </td>\n",
    "        <td>重复元素</td>\n",
    "    </tr>\n",
    "    <tr>\n",
    "        <td>normalize()</td>\n",
    "        <td>将字符串转换为 Unicode 规范形式</td>\n",
    "    </tr>\n",
    "    <tr>\n",
    "        <td>pad()</td>\n",
    "        <td>在字符串的左边、右边或两边增加空格</td>\n",
    "    </tr>\n",
    "    <tr>\n",
    "        <td>wrap()</td>\n",
    "        <td>将字符串按照指定的宽度换行</td>\n",
    "    </tr>\n",
    "    <tr>\n",
    "        <td>join() </td>\n",
    "        <td>用分隔符连接 Series 的每个元素</td>\n",
    "    </tr>\n",
    "    <tr>\n",
    "        <td>get_dummies() </td>\n",
    "        <td>按照分隔符提取每个元素的 dummy 变量，转换为独热（onehot）编码的 DataFrame</td>\n",
    "    </tr>\n",
    "</table>"
   ]
  },
  {
   "cell_type": "markdown",
   "id": "145926a3-bcea-4f09-ba82-1e187b2f66f9",
   "metadata": {},
   "source": [
    "(1) 向量化字符串的取值与切片操作。这里需要特别指出的\n",
    "是，get() 与 slice() 操作可以从每个字符串数组中获取向量化\n",
    "元素。例如，我们可以通过 str.slice(0, 3) 获取每个字符串数\n",
    "组的前三个字符。通过 Python 的标准取值方法也可以取得同样的\n",
    "效果，例如 df.str.slice(0, 3) 等价于 df.str[0:3]："
   ]
  },
  {
   "cell_type": "code",
   "execution_count": 20,
   "id": "bfd301ab-4dff-428f-92e6-d5cf5efa4cfd",
   "metadata": {},
   "outputs": [
    {
     "data": {
      "text/plain": [
       "0    Gra\n",
       "1    Joh\n",
       "2    Ter\n",
       "3    Eri\n",
       "4    Ter\n",
       "5    Mic\n",
       "dtype: object"
      ]
     },
     "execution_count": 20,
     "metadata": {},
     "output_type": "execute_result"
    }
   ],
   "source": [
    "monte.str[0:3]"
   ]
  },
  {
   "cell_type": "markdown",
   "id": "158bd3f0-de0a-4442-a93b-9120f7a2849d",
   "metadata": {},
   "source": [
    "df.str.get(i) 与 df.str[i] 的按索引取值效果类似。  \n",
    "get() 与 slice() 操作还可以在 split() 操作之后使用。例如，  \n",
    "要获取每个姓名的姓（last name），可以结合使用 split() 与  \n",
    "get()：  "
   ]
  },
  {
   "cell_type": "code",
   "execution_count": 23,
   "id": "3284588b-d5e2-43e9-8e71-e321fb85ad64",
   "metadata": {},
   "outputs": [
    {
     "data": {
      "text/plain": [
       "0    [Graham, Chapman]\n",
       "1       [John, Cleese]\n",
       "2     [Terry, Gilliam]\n",
       "3         [Eric, Idle]\n",
       "4       [Terry, Jones]\n",
       "5     [Michael, Palin]\n",
       "dtype: object"
      ]
     },
     "execution_count": 23,
     "metadata": {},
     "output_type": "execute_result"
    }
   ],
   "source": [
    "monte.str.split() #split默认按照空格进行字符串的切分,返回的结果是一个列表"
   ]
  },
  {
   "cell_type": "code",
   "execution_count": 24,
   "id": "e72b1295-7205-44b2-9137-0e3a9580039d",
   "metadata": {},
   "outputs": [
    {
     "data": {
      "text/plain": [
       "0    Chapman\n",
       "1     Cleese\n",
       "2    Gilliam\n",
       "3       Idle\n",
       "4      Jones\n",
       "5      Palin\n",
       "dtype: object"
      ]
     },
     "execution_count": 24,
     "metadata": {},
     "output_type": "execute_result"
    }
   ],
   "source": [
    "monte.str.split().str.get(-1) \n",
    "#对于切分后的上表进行向量化字符串操作并且利用字符串方法获取索引为-1的字符串"
   ]
  },
  {
   "cell_type": "markdown",
   "id": "d5ebd21b-8ecd-4d2e-8b0e-bf083074183d",
   "metadata": {},
   "source": [
    "(2) 指标变量。另一个需要多花点儿时间解释的是 get_dummies()   \n",
    "方法。当你的数据有一列包含了若干已被编码的指标（coded     \n",
    "indicator）时，这个方法就能派上用场了。例如，假设有一个包含    \n",
    "了某种编码信息的数据集，如 A= 出生在美国、B= 出生在英国、    \n",
    "C= 喜欢奶酪、D= 喜欢午餐肉：    "
   ]
  },
  {
   "cell_type": "code",
   "execution_count": 25,
   "id": "66f9d2c0-d95a-4b1e-a15a-9f7ebbaa9595",
   "metadata": {},
   "outputs": [
    {
     "data": {
      "text/html": [
       "<div>\n",
       "<style scoped>\n",
       "    .dataframe tbody tr th:only-of-type {\n",
       "        vertical-align: middle;\n",
       "    }\n",
       "\n",
       "    .dataframe tbody tr th {\n",
       "        vertical-align: top;\n",
       "    }\n",
       "\n",
       "    .dataframe thead th {\n",
       "        text-align: right;\n",
       "    }\n",
       "</style>\n",
       "<table border=\"1\" class=\"dataframe\">\n",
       "  <thead>\n",
       "    <tr style=\"text-align: right;\">\n",
       "      <th></th>\n",
       "      <th>name</th>\n",
       "      <th>info</th>\n",
       "    </tr>\n",
       "  </thead>\n",
       "  <tbody>\n",
       "    <tr>\n",
       "      <th>0</th>\n",
       "      <td>Graham Chapman</td>\n",
       "      <td>B|C|D</td>\n",
       "    </tr>\n",
       "    <tr>\n",
       "      <th>1</th>\n",
       "      <td>John Cleese</td>\n",
       "      <td>B|D</td>\n",
       "    </tr>\n",
       "    <tr>\n",
       "      <th>2</th>\n",
       "      <td>Terry Gilliam</td>\n",
       "      <td>A|C</td>\n",
       "    </tr>\n",
       "    <tr>\n",
       "      <th>3</th>\n",
       "      <td>Eric Idle</td>\n",
       "      <td>B|D</td>\n",
       "    </tr>\n",
       "    <tr>\n",
       "      <th>4</th>\n",
       "      <td>Terry Jones</td>\n",
       "      <td>B|C</td>\n",
       "    </tr>\n",
       "    <tr>\n",
       "      <th>5</th>\n",
       "      <td>Michael Palin</td>\n",
       "      <td>B|C|D</td>\n",
       "    </tr>\n",
       "  </tbody>\n",
       "</table>\n",
       "</div>"
      ],
      "text/plain": [
       "             name   info\n",
       "0  Graham Chapman  B|C|D\n",
       "1     John Cleese    B|D\n",
       "2   Terry Gilliam    A|C\n",
       "3       Eric Idle    B|D\n",
       "4     Terry Jones    B|C\n",
       "5   Michael Palin  B|C|D"
      ]
     },
     "execution_count": 25,
     "metadata": {},
     "output_type": "execute_result"
    }
   ],
   "source": [
    "full_monte = pd.DataFrame({'name': monte,\n",
    "    'info': ['B|C|D', 'B|D', 'A|C', 'B|D', 'B|C',\n",
    "    'B|C|D']})\n",
    "full_monte"
   ]
  },
  {
   "cell_type": "markdown",
   "id": "7e7f6ec4-fd9b-4da6-9268-058b6b86a96d",
   "metadata": {},
   "source": [
    "get_dummies() 方法可以让你快速将这些指标变量分割成一个独\n",
    "热编码的 DataFrame（每个元素都是 0 或 1）："
   ]
  },
  {
   "cell_type": "markdown",
   "id": "3ae7583b-a370-46bf-8ba3-fe0a70ed5bd4",
   "metadata": {},
   "source": [
    "<p class='raw'>\n",
    "    理解下面的代码,\n",
    "    将full_monte中的['info']这一列进行字符串向量化,\n",
    "    并且利用字符串方法,将这一列的数据转化为one-hot编码\n",
    "</p>"
   ]
  },
  {
   "cell_type": "code",
   "execution_count": 26,
   "id": "0ced3f6d-f29f-4604-a73d-201b599a0ce0",
   "metadata": {},
   "outputs": [
    {
     "data": {
      "text/html": [
       "<div>\n",
       "<style scoped>\n",
       "    .dataframe tbody tr th:only-of-type {\n",
       "        vertical-align: middle;\n",
       "    }\n",
       "\n",
       "    .dataframe tbody tr th {\n",
       "        vertical-align: top;\n",
       "    }\n",
       "\n",
       "    .dataframe thead th {\n",
       "        text-align: right;\n",
       "    }\n",
       "</style>\n",
       "<table border=\"1\" class=\"dataframe\">\n",
       "  <thead>\n",
       "    <tr style=\"text-align: right;\">\n",
       "      <th></th>\n",
       "      <th>A</th>\n",
       "      <th>B</th>\n",
       "      <th>C</th>\n",
       "      <th>D</th>\n",
       "    </tr>\n",
       "  </thead>\n",
       "  <tbody>\n",
       "    <tr>\n",
       "      <th>0</th>\n",
       "      <td>0</td>\n",
       "      <td>1</td>\n",
       "      <td>1</td>\n",
       "      <td>1</td>\n",
       "    </tr>\n",
       "    <tr>\n",
       "      <th>1</th>\n",
       "      <td>0</td>\n",
       "      <td>1</td>\n",
       "      <td>0</td>\n",
       "      <td>1</td>\n",
       "    </tr>\n",
       "    <tr>\n",
       "      <th>2</th>\n",
       "      <td>1</td>\n",
       "      <td>0</td>\n",
       "      <td>1</td>\n",
       "      <td>0</td>\n",
       "    </tr>\n",
       "    <tr>\n",
       "      <th>3</th>\n",
       "      <td>0</td>\n",
       "      <td>1</td>\n",
       "      <td>0</td>\n",
       "      <td>1</td>\n",
       "    </tr>\n",
       "    <tr>\n",
       "      <th>4</th>\n",
       "      <td>0</td>\n",
       "      <td>1</td>\n",
       "      <td>1</td>\n",
       "      <td>0</td>\n",
       "    </tr>\n",
       "    <tr>\n",
       "      <th>5</th>\n",
       "      <td>0</td>\n",
       "      <td>1</td>\n",
       "      <td>1</td>\n",
       "      <td>1</td>\n",
       "    </tr>\n",
       "  </tbody>\n",
       "</table>\n",
       "</div>"
      ],
      "text/plain": [
       "   A  B  C  D\n",
       "0  0  1  1  1\n",
       "1  0  1  0  1\n",
       "2  1  0  1  0\n",
       "3  0  1  0  1\n",
       "4  0  1  1  0\n",
       "5  0  1  1  1"
      ]
     },
     "execution_count": 26,
     "metadata": {},
     "output_type": "execute_result"
    }
   ],
   "source": [
    "full_monte['info'].str.get_dummies('|')"
   ]
  },
  {
   "cell_type": "markdown",
   "id": "44009b71-dfc8-4478-b791-c6a5d9d88f3b",
   "metadata": {},
   "source": [
    "通过 Pandas 自带的这些字符串操作方法，你就可以建立一个功能\n",
    "无比强大的字符串处理程序来清洗自己的数据了。"
   ]
  },
  {
   "cell_type": "markdown",
   "id": "f6bca67c-e1c0-4f63-a41f-7c9105683fcb",
   "metadata": {},
   "source": [
    "虽然本书将不再继续介绍这些方法，但是希望你仔细阅读 Pandas 在线\n",
    "文档中“Working with Text Data”（http://pandas.pydata.org/pandasdocs/stable/text.html）节，或者阅读 3.14 节的相关资源。"
   ]
  },
  {
   "cell_type": "markdown",
   "id": "9a266241-ffec-444c-9fe5-536a1b2ff7aa",
   "metadata": {},
   "source": [
    "### 3.11.3 案例：食谱数据库"
   ]
  },
  {
   "cell_type": "markdown",
   "id": "911f031b-fcbd-4d37-adef-ea1c31b3fca6",
   "metadata": {},
   "source": [
    "前面介绍的这些向量化字符串操作方法非常适合用来处理现实中那些凌\n",
    "乱的数据。下面将通过一个从不同网站获取的公开食谱数据库的案例来\n",
    "进行演示。我们的目标是将这些食谱数据解析为食材列表，这样就可以\n",
    "根据现有的食材快速找到食谱。\n"
   ]
  },
  {
   "cell_type": "markdown",
   "id": "b2ec70ca-ac3c-4596-b957-4909b1f909f2",
   "metadata": {},
   "source": [
    "获取数据的脚本可以在 https://github.com/fictivekin/openrecipes 上找到，\n",
    "那里还有最新版的数据库链接。"
   ]
  },
  {
   "cell_type": "markdown",
   "id": "55fd93f0-81a1-484f-9d01-0226f7a81121",
   "metadata": {},
   "source": [
    "截至 2016 年春，这个数据集已经有 30MB 了。可以通过下面的命令下\n",
    "载并解压数据："
   ]
  },
  {
   "cell_type": "code",
   "execution_count": null,
   "id": "aad88dce-2bdb-44d3-a80b-11f8dd2ea4c8",
   "metadata": {},
   "outputs": [],
   "source": []
  }
 ],
 "metadata": {
  "kernelspec": {
   "display_name": "Python 3 (ipykernel)",
   "language": "python",
   "name": "python3"
  },
  "language_info": {
   "codemirror_mode": {
    "name": "ipython",
    "version": 3
   },
   "file_extension": ".py",
   "mimetype": "text/x-python",
   "name": "python",
   "nbconvert_exporter": "python",
   "pygments_lexer": "ipython3",
   "version": "3.9.7"
  }
 },
 "nbformat": 4,
 "nbformat_minor": 5
}
