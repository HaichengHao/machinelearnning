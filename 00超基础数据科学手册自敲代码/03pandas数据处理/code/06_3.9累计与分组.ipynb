{
 "cells": [
  {
   "cell_type": "code",
   "execution_count": 1,
   "id": "42e555be-228e-482d-bdc2-9dd2fc077926",
   "metadata": {},
   "outputs": [
    {
     "data": {
      "text/html": [
       "<style type='text/css'>\n",
       "    *{\n",
       "        # background-color:#E3EDCD;\n",
       "        # background-color:black;\n",
       "        # color:white;\n",
       "        \n",
       "    }\n",
       "    h1{\n",
       "        color:#1976d2;\n",
       "    }\n",
       "    h2{\n",
       "        color:#f57c00;\n",
       "    }\n",
       "    h3{\n",
       "        color:#ba37ff;\n",
       "    }\n",
       "    h4{\n",
       "        color:green;\n",
       "    }\n",
       "    table{\n",
       "        border:1px solid black !important;\n",
       "        border-collapse:collapse !important;\n",
       "    }\n",
       "    th{\n",
       "        background-color:blueviolet !important;\n",
       "        text-align:center;\n",
       "        color:white;\n",
       "    }\n",
       "    th,td{\n",
       "        border:0.1px solid black !important;\n",
       "        transition:0.2s all liner;\n",
       "        \n",
       "    }\n",
       "    td:hover{\n",
       "        transform:scale(1.1) 0.3s all liner !important;\n",
       "        background-color:orange;\n",
       "        color:blueviolet;\n",
       "    }\n",
       "    .raw{\n",
       "        white-space:pre;\n",
       "        color:green;\n",
       "    }\n",
       "    #imp{\n",
       "        color:red;\n",
       "    }\n",
       "    #ct{\n",
       "        text-align:center;\n",
       "    }\n",
       "    \n",
       "</style>\n"
      ],
      "text/plain": [
       "<IPython.core.display.HTML object>"
      ]
     },
     "metadata": {},
     "output_type": "display_data"
    }
   ],
   "source": [
    "%%HTML\n",
    "<style type='text/css'>\n",
    "    *{\n",
    "        # background-color:#E3EDCD;\n",
    "        # background-color:black;\n",
    "        # color:white;\n",
    "        \n",
    "    }\n",
    "    h1{\n",
    "        color:#1976d2;\n",
    "    }\n",
    "    h2{\n",
    "        color:#f57c00;\n",
    "    }\n",
    "    h3{\n",
    "        color:#ba37ff;\n",
    "    }\n",
    "    h4{\n",
    "        color:green;\n",
    "    }\n",
    "    table{\n",
    "        border:1px solid black !important;\n",
    "        border-collapse:collapse !important;\n",
    "    }\n",
    "    th{\n",
    "        background-color:blueviolet !important;\n",
    "        text-align:center;\n",
    "        color:white;\n",
    "    }\n",
    "    th,td{\n",
    "        border:0.1px solid black !important;\n",
    "        transition:0.2s all liner;\n",
    "        \n",
    "    }\n",
    "    td:hover{\n",
    "        transform:scale(1.1) 0.3s all liner !important;\n",
    "        background-color:orange;\n",
    "        color:blueviolet;\n",
    "    }\n",
    "    .raw{\n",
    "        white-space:pre;\n",
    "        color:green;\n",
    "    }\n",
    "    #imp{\n",
    "        color:red;\n",
    "    }\n",
    "    #ct{\n",
    "        text-align:center;\n",
    "    }\n",
    "    \n",
    "</style>"
   ]
  },
  {
   "cell_type": "code",
   "execution_count": 2,
   "id": "c7a71a0b-0ab0-44e5-9e0e-544ba375ad4a",
   "metadata": {},
   "outputs": [],
   "source": [
    "import numpy as np\n",
    "import pandas as pd"
   ]
  },
  {
   "cell_type": "markdown",
   "id": "b8ba5e8a-b00f-4d22-a823-1a150ec6054d",
   "metadata": {},
   "source": [
    "## 3.9 累计与分组"
   ]
  },
  {
   "cell_type": "markdown",
   "id": "be6a2ee6-1229-467a-917c-96840219a021",
   "metadata": {},
   "source": [
    "在对较大的数据进行分析时，一项基本的工作就是有效的数据累计\n",
    "（summarization）：计算累计（aggregation）指标，如\n",
    "sum()、mean()、median()、min() 和 max()，其中每一个指标都呈\n",
    "现了大数据集的特征。在这一节中，我们将探索 Pandas 的累计功能，\n",
    "从类似前面 NumPy 数组中的简单操作，到基于 groupby 实现的复杂操\n",
    "作。"
   ]
  },
  {
   "cell_type": "markdown",
   "id": "ed6bb9db-938c-4708-ab75-88e6697adc35",
   "metadata": {},
   "source": [
    "### 3.9.1 行星数据"
   ]
  },
  {
   "cell_type": "markdown",
   "id": "fac0ecc2-5f86-4bef-af4d-63afbb5d125f",
   "metadata": {},
   "source": [
    "我们将通过 Seaborn 程序库（http://seaborn.pydata.org，详情请参见 4.16\n",
    "节）用一份行星数据来进行演示，其中包含天文学家观测到的围绕恒星\n",
    "运转的行星数据（通常简称为太阳系外行星或外行星）。行星数据可以\n",
    "直接通过 Seaborn 下载：\n"
   ]
  },
  {
   "cell_type": "code",
   "execution_count": 3,
   "id": "0378362f-ea5f-4b11-8009-1cd7be50ef12",
   "metadata": {},
   "outputs": [
    {
     "data": {
      "text/plain": [
       "(1035, 6)"
      ]
     },
     "execution_count": 3,
     "metadata": {},
     "output_type": "execute_result"
    }
   ],
   "source": [
    "import seaborn as sns\n",
    "planets = sns.load_dataset('planets')\n",
    "planets.shape"
   ]
  },
  {
   "cell_type": "code",
   "execution_count": 4,
   "id": "dc07c391-59a8-485f-b9d5-1aa7b297304c",
   "metadata": {},
   "outputs": [
    {
     "data": {
      "text/html": [
       "<div>\n",
       "<style scoped>\n",
       "    .dataframe tbody tr th:only-of-type {\n",
       "        vertical-align: middle;\n",
       "    }\n",
       "\n",
       "    .dataframe tbody tr th {\n",
       "        vertical-align: top;\n",
       "    }\n",
       "\n",
       "    .dataframe thead th {\n",
       "        text-align: right;\n",
       "    }\n",
       "</style>\n",
       "<table border=\"1\" class=\"dataframe\">\n",
       "  <thead>\n",
       "    <tr style=\"text-align: right;\">\n",
       "      <th></th>\n",
       "      <th>method</th>\n",
       "      <th>number</th>\n",
       "      <th>orbital_period</th>\n",
       "      <th>mass</th>\n",
       "      <th>distance</th>\n",
       "      <th>year</th>\n",
       "    </tr>\n",
       "  </thead>\n",
       "  <tbody>\n",
       "    <tr>\n",
       "      <th>0</th>\n",
       "      <td>Radial Velocity</td>\n",
       "      <td>1</td>\n",
       "      <td>269.300</td>\n",
       "      <td>7.10</td>\n",
       "      <td>77.40</td>\n",
       "      <td>2006</td>\n",
       "    </tr>\n",
       "    <tr>\n",
       "      <th>1</th>\n",
       "      <td>Radial Velocity</td>\n",
       "      <td>1</td>\n",
       "      <td>874.774</td>\n",
       "      <td>2.21</td>\n",
       "      <td>56.95</td>\n",
       "      <td>2008</td>\n",
       "    </tr>\n",
       "    <tr>\n",
       "      <th>2</th>\n",
       "      <td>Radial Velocity</td>\n",
       "      <td>1</td>\n",
       "      <td>763.000</td>\n",
       "      <td>2.60</td>\n",
       "      <td>19.84</td>\n",
       "      <td>2011</td>\n",
       "    </tr>\n",
       "    <tr>\n",
       "      <th>3</th>\n",
       "      <td>Radial Velocity</td>\n",
       "      <td>1</td>\n",
       "      <td>326.030</td>\n",
       "      <td>19.40</td>\n",
       "      <td>110.62</td>\n",
       "      <td>2007</td>\n",
       "    </tr>\n",
       "    <tr>\n",
       "      <th>4</th>\n",
       "      <td>Radial Velocity</td>\n",
       "      <td>1</td>\n",
       "      <td>516.220</td>\n",
       "      <td>10.50</td>\n",
       "      <td>119.47</td>\n",
       "      <td>2009</td>\n",
       "    </tr>\n",
       "  </tbody>\n",
       "</table>\n",
       "</div>"
      ],
      "text/plain": [
       "            method  number  orbital_period   mass  distance  year\n",
       "0  Radial Velocity       1         269.300   7.10     77.40  2006\n",
       "1  Radial Velocity       1         874.774   2.21     56.95  2008\n",
       "2  Radial Velocity       1         763.000   2.60     19.84  2011\n",
       "3  Radial Velocity       1         326.030  19.40    110.62  2007\n",
       "4  Radial Velocity       1         516.220  10.50    119.47  2009"
      ]
     },
     "execution_count": 4,
     "metadata": {},
     "output_type": "execute_result"
    }
   ],
   "source": [
    "planets.head()"
   ]
  },
  {
   "cell_type": "markdown",
   "id": "35bea6e3-08f4-44c2-9148-63fb0ca63220",
   "metadata": {},
   "source": [
    "数据中包含了截至 2014 年已被发现的一千多颗外行星的资料。"
   ]
  },
  {
   "cell_type": "markdown",
   "id": "a73a176c-d3b3-4c39-ac09-72c3661a06a9",
   "metadata": {},
   "source": [
    "### 3.9.2 Pandas的简单累计功能"
   ]
  },
  {
   "cell_type": "markdown",
   "id": "5fff3436-37d4-44e2-974c-52eea0f6c572",
   "metadata": {},
   "source": [
    "之前我们介绍过 NumPy 数组的一些数据累计指标（详情请参见 2.4\n",
    "节）。与一维 NumPy 数组相同，Pandas 的 Series 的累计函数也会返\n",
    "回一个统计值："
   ]
  },
  {
   "cell_type": "code",
   "execution_count": 5,
   "id": "5d109b1d-18b2-4082-af94-63ad9f4d347e",
   "metadata": {},
   "outputs": [
    {
     "data": {
      "text/plain": [
       "0    0.374540\n",
       "1    0.950714\n",
       "2    0.731994\n",
       "3    0.598658\n",
       "4    0.156019\n",
       "dtype: float64"
      ]
     },
     "execution_count": 5,
     "metadata": {},
     "output_type": "execute_result"
    }
   ],
   "source": [
    "rng = np.random.RandomState(42)\n",
    "ser = pd.Series(rng.rand(5))\n",
    "ser"
   ]
  },
  {
   "cell_type": "code",
   "execution_count": 6,
   "id": "017da013-8d87-4bf9-9796-cefe64d73eae",
   "metadata": {},
   "outputs": [
    {
     "data": {
      "text/plain": [
       "np.float64(2.811925491708157)"
      ]
     },
     "execution_count": 6,
     "metadata": {},
     "output_type": "execute_result"
    }
   ],
   "source": [
    "ser.sum()"
   ]
  },
  {
   "cell_type": "code",
   "execution_count": 7,
   "id": "87f8adeb-964e-40ad-a9b1-faa15ce6a768",
   "metadata": {},
   "outputs": [
    {
     "data": {
      "text/plain": [
       "np.float64(0.5623850983416314)"
      ]
     },
     "execution_count": 7,
     "metadata": {},
     "output_type": "execute_result"
    }
   ],
   "source": [
    "ser.mean()"
   ]
  },
  {
   "cell_type": "markdown",
   "id": "290eefb2-dc2b-42ae-b13f-6e449a863f5f",
   "metadata": {},
   "source": [
    "DataFrame 的累计函数默认对每列进行统计："
   ]
  },
  {
   "cell_type": "code",
   "execution_count": 8,
   "id": "41d1355f-9b76-40a4-9729-2aa810b80c20",
   "metadata": {},
   "outputs": [
    {
     "data": {
      "text/html": [
       "<div>\n",
       "<style scoped>\n",
       "    .dataframe tbody tr th:only-of-type {\n",
       "        vertical-align: middle;\n",
       "    }\n",
       "\n",
       "    .dataframe tbody tr th {\n",
       "        vertical-align: top;\n",
       "    }\n",
       "\n",
       "    .dataframe thead th {\n",
       "        text-align: right;\n",
       "    }\n",
       "</style>\n",
       "<table border=\"1\" class=\"dataframe\">\n",
       "  <thead>\n",
       "    <tr style=\"text-align: right;\">\n",
       "      <th></th>\n",
       "      <th>A</th>\n",
       "      <th>B</th>\n",
       "    </tr>\n",
       "  </thead>\n",
       "  <tbody>\n",
       "    <tr>\n",
       "      <th>0</th>\n",
       "      <td>0.155995</td>\n",
       "      <td>0.020584</td>\n",
       "    </tr>\n",
       "    <tr>\n",
       "      <th>1</th>\n",
       "      <td>0.058084</td>\n",
       "      <td>0.969910</td>\n",
       "    </tr>\n",
       "    <tr>\n",
       "      <th>2</th>\n",
       "      <td>0.866176</td>\n",
       "      <td>0.832443</td>\n",
       "    </tr>\n",
       "    <tr>\n",
       "      <th>3</th>\n",
       "      <td>0.601115</td>\n",
       "      <td>0.212339</td>\n",
       "    </tr>\n",
       "    <tr>\n",
       "      <th>4</th>\n",
       "      <td>0.708073</td>\n",
       "      <td>0.181825</td>\n",
       "    </tr>\n",
       "  </tbody>\n",
       "</table>\n",
       "</div>"
      ],
      "text/plain": [
       "          A         B\n",
       "0  0.155995  0.020584\n",
       "1  0.058084  0.969910\n",
       "2  0.866176  0.832443\n",
       "3  0.601115  0.212339\n",
       "4  0.708073  0.181825"
      ]
     },
     "execution_count": 8,
     "metadata": {},
     "output_type": "execute_result"
    }
   ],
   "source": [
    "df = pd.DataFrame({'A':rng.rand(5),'B':rng.rand(5)})\n",
    "df"
   ]
  },
  {
   "cell_type": "code",
   "execution_count": 9,
   "id": "67e52bdb-496a-42ca-aa67-7fab423ecd8d",
   "metadata": {},
   "outputs": [
    {
     "data": {
      "text/plain": [
       "A    0.477888\n",
       "B    0.443420\n",
       "dtype: float64"
      ]
     },
     "execution_count": 9,
     "metadata": {},
     "output_type": "execute_result"
    }
   ],
   "source": [
    "df.mean()"
   ]
  },
  {
   "cell_type": "markdown",
   "id": "8b2d4603-c237-4a7e-a2ed-7cf87f75efae",
   "metadata": {},
   "source": [
    "设置 axis 参数，你就可以对每一行进行统计了："
   ]
  },
  {
   "cell_type": "markdown",
   "id": "00a7f99c-0693-46f9-b2e0-b531a17a0101",
   "metadata": {},
   "source": [
    "<p class='raw'>\n",
    "理解下面的一行代码,我们指定了axis=columns,\n",
    "也就是说,我么这样是为了保存列数据,列不坍缩,\n",
    "那么就是每行数据平着加起来然后求均值\n",
    "</p>"
   ]
  },
  {
   "cell_type": "code",
   "execution_count": 10,
   "id": "e4a8f4ff-e09f-4de4-960b-ad14a9d76a03",
   "metadata": {},
   "outputs": [
    {
     "data": {
      "text/plain": [
       "0    0.088290\n",
       "1    0.513997\n",
       "2    0.849309\n",
       "3    0.406727\n",
       "4    0.444949\n",
       "dtype: float64"
      ]
     },
     "execution_count": 10,
     "metadata": {},
     "output_type": "execute_result"
    }
   ],
   "source": [
    "df.mean(axis='columns')"
   ]
  },
  {
   "cell_type": "markdown",
   "id": "2334cff6-b19e-47e4-b8f5-b2239da53b20",
   "metadata": {},
   "source": [
    "Pandas 的 Series 和 DataFrame 支持所有 2.4 节中介绍的常用累计函\n",
    "数。另外，还有一个非常方便的 describe() 方法可以计算每一列的若\n",
    "干常用统计值。让我们在行星数据上试验一下，首先丢弃有缺失值的\n",
    "行："
   ]
  },
  {
   "cell_type": "code",
   "execution_count": 11,
   "id": "6099669e-3774-4ad3-aaa9-2c863be9ee21",
   "metadata": {},
   "outputs": [
    {
     "data": {
      "text/html": [
       "<div>\n",
       "<style scoped>\n",
       "    .dataframe tbody tr th:only-of-type {\n",
       "        vertical-align: middle;\n",
       "    }\n",
       "\n",
       "    .dataframe tbody tr th {\n",
       "        vertical-align: top;\n",
       "    }\n",
       "\n",
       "    .dataframe thead th {\n",
       "        text-align: right;\n",
       "    }\n",
       "</style>\n",
       "<table border=\"1\" class=\"dataframe\">\n",
       "  <thead>\n",
       "    <tr style=\"text-align: right;\">\n",
       "      <th></th>\n",
       "      <th>number</th>\n",
       "      <th>orbital_period</th>\n",
       "      <th>mass</th>\n",
       "      <th>distance</th>\n",
       "      <th>year</th>\n",
       "    </tr>\n",
       "  </thead>\n",
       "  <tbody>\n",
       "    <tr>\n",
       "      <th>count</th>\n",
       "      <td>498.00000</td>\n",
       "      <td>498.000000</td>\n",
       "      <td>498.000000</td>\n",
       "      <td>498.000000</td>\n",
       "      <td>498.000000</td>\n",
       "    </tr>\n",
       "    <tr>\n",
       "      <th>mean</th>\n",
       "      <td>1.73494</td>\n",
       "      <td>835.778671</td>\n",
       "      <td>2.509320</td>\n",
       "      <td>52.068213</td>\n",
       "      <td>2007.377510</td>\n",
       "    </tr>\n",
       "    <tr>\n",
       "      <th>std</th>\n",
       "      <td>1.17572</td>\n",
       "      <td>1469.128259</td>\n",
       "      <td>3.636274</td>\n",
       "      <td>46.596041</td>\n",
       "      <td>4.167284</td>\n",
       "    </tr>\n",
       "    <tr>\n",
       "      <th>min</th>\n",
       "      <td>1.00000</td>\n",
       "      <td>1.328300</td>\n",
       "      <td>0.003600</td>\n",
       "      <td>1.350000</td>\n",
       "      <td>1989.000000</td>\n",
       "    </tr>\n",
       "    <tr>\n",
       "      <th>25%</th>\n",
       "      <td>1.00000</td>\n",
       "      <td>38.272250</td>\n",
       "      <td>0.212500</td>\n",
       "      <td>24.497500</td>\n",
       "      <td>2005.000000</td>\n",
       "    </tr>\n",
       "    <tr>\n",
       "      <th>50%</th>\n",
       "      <td>1.00000</td>\n",
       "      <td>357.000000</td>\n",
       "      <td>1.245000</td>\n",
       "      <td>39.940000</td>\n",
       "      <td>2009.000000</td>\n",
       "    </tr>\n",
       "    <tr>\n",
       "      <th>75%</th>\n",
       "      <td>2.00000</td>\n",
       "      <td>999.600000</td>\n",
       "      <td>2.867500</td>\n",
       "      <td>59.332500</td>\n",
       "      <td>2011.000000</td>\n",
       "    </tr>\n",
       "    <tr>\n",
       "      <th>max</th>\n",
       "      <td>6.00000</td>\n",
       "      <td>17337.500000</td>\n",
       "      <td>25.000000</td>\n",
       "      <td>354.000000</td>\n",
       "      <td>2014.000000</td>\n",
       "    </tr>\n",
       "  </tbody>\n",
       "</table>\n",
       "</div>"
      ],
      "text/plain": [
       "          number  orbital_period        mass    distance         year\n",
       "count  498.00000      498.000000  498.000000  498.000000   498.000000\n",
       "mean     1.73494      835.778671    2.509320   52.068213  2007.377510\n",
       "std      1.17572     1469.128259    3.636274   46.596041     4.167284\n",
       "min      1.00000        1.328300    0.003600    1.350000  1989.000000\n",
       "25%      1.00000       38.272250    0.212500   24.497500  2005.000000\n",
       "50%      1.00000      357.000000    1.245000   39.940000  2009.000000\n",
       "75%      2.00000      999.600000    2.867500   59.332500  2011.000000\n",
       "max      6.00000    17337.500000   25.000000  354.000000  2014.000000"
      ]
     },
     "execution_count": 11,
     "metadata": {},
     "output_type": "execute_result"
    }
   ],
   "source": [
    "planets.dropna().describe()"
   ]
  },
  {
   "cell_type": "markdown",
   "id": "9cc6b357-f736-465f-b34a-e32fe28451ab",
   "metadata": {},
   "source": [
    "这是一种理解数据集所有统计属性的有效方法。例如，从年份 year 列  \n",
    "中可以看出，1989 年首次发现外行星，而且一半的已知外行星都是在  \n",
    "2010 年及以后的年份被发现的。这主要得益于开普勒计划——一个通  \n",
    "过激光望远镜发现恒星周围椭圆轨道行星的太空计划。    \n",
    "  \n",
    "Pandas 内置的一些累计方法如表 3-3 所示。"
   ]
  },
  {
   "cell_type": "markdown",
   "id": "3ad23516-b716-4539-a753-edb6fc37b12b",
   "metadata": {},
   "source": [
    "#### 表3-3：Pandas的累计方法 "
   ]
  },
  {
   "cell_type": "markdown",
   "id": "bf1f0e5b-d0ef-4376-9142-842bd36670e3",
   "metadata": {},
   "source": [
    "<table>\n",
    "    <tr>\n",
    "        <th>指标</th>\n",
    "        <th>描述</th>\n",
    "    </tr>\n",
    "    <tr>\n",
    "        <td>count()</td>\n",
    "        <td>计数项</td>\n",
    "    </tr>\n",
    "    <tr>\n",
    "        <td>first()、last()</td>\n",
    "        <td>第一项与最后一项</td>\n",
    "    </tr>\n",
    "    <tr>\n",
    "        <td>mean()、median()</td>\n",
    "        <td>均值与中位数</td>\n",
    "    </tr>\n",
    "    <tr>\n",
    "        <td>min()、max()</td>\n",
    "        <td>最小值与最大值</td>\n",
    "    </tr>\n",
    "    <tr>\n",
    "        <td>std()、var()</td>\n",
    "        <td>标准差与方差</td>\n",
    "    </tr>\n",
    "    <tr>\n",
    "        <td>mad()</td>\n",
    "        <td>均值绝对偏差（mean absolute deviation）</td>\n",
    "    </tr>\n",
    "    <tr>\n",
    "        <td>prod() </td>\n",
    "        <td>所有项乘积</td>\n",
    "    </tr>\n",
    "    <tr>\n",
    "        <td>sum</td>\n",
    "        <td>所有项求和</td>\n",
    "    </tr>\n",
    "</table>"
   ]
  },
  {
   "cell_type": "markdown",
   "id": "fdff1d35-f746-4025-b3e3-d612c8ed3dcf",
   "metadata": {},
   "source": [
    "DataFrame 和 Series 对象支持以上所有方法。"
   ]
  },
  {
   "cell_type": "markdown",
   "id": "1b4a6466-744c-4add-96f2-5c4f4600be8b",
   "metadata": {},
   "source": [
    "但若想深入理解数据，仅仅依靠累计函数是远远不够的。数据累计的下\n",
    "一级别是 groupby 操作，它可以让你快速、有效地计算数据各子集的累\n",
    "计值。\n"
   ]
  },
  {
   "cell_type": "markdown",
   "id": "7d545c7a-0060-40c1-b3bc-462da22718d3",
   "metadata": {},
   "source": [
    "### 3.9.3 GroupBy：分割、应用和组合"
   ]
  },
  {
   "cell_type": "markdown",
   "id": "25ab34fa-2c5a-4034-a432-4931f55d9a47",
   "metadata": {},
   "source": [
    "简单的累计方法可以让我们对数据集有一个笼统的认识，但是我们经常\n",
    "还需要对某些标签或索引的局部进行累计分析，这时就需要用到\n",
    "groupby 了。虽然“分组”（group by）这个名字是借用 SQL 数据库语言\n",
    "的命令，但其理念引用发明 R 语言 frame 的 Hadley Wickham 的观点可\n",
    "能更合适：分割（split）、应用（apply）和组合（combine）。"
   ]
  },
  {
   "cell_type": "markdown",
   "id": "388c66bf-0c5f-46a6-9a1d-bf52a74ddde0",
   "metadata": {},
   "source": [
    "01. 分割、应用和组合"
   ]
  },
  {
   "cell_type": "markdown",
   "id": "42367969-a555-4cb0-950c-734f6d2f3888",
   "metadata": {},
   "source": [
    "一个经典分割 - 应用 - 组合操作示例如图 3-1 所示，其中“apply”的\n",
    "是一个求和函数。"
   ]
  },
  {
   "cell_type": "markdown",
   "id": "f8945028-bc60-41ab-8dc1-68a11f58888f",
   "metadata": {},
   "source": [
    "图 3-1 清晰地描述了 GroupBy 的过程。\n",
    "- 分割步骤将 DataFrame 按照指定的键分割成若干组。  \n",
    "- 应用步骤对每个组应用函数，通常是累计、转换或过滤函数。  \n",
    "- 组合步骤将每一组的结果合并成一个输出数组。  \n"
   ]
  },
  {
   "cell_type": "markdown",
   "id": "2e560745-9d6f-4ad7-9d9d-8a3dd8358f29",
   "metadata": {},
   "source": [
    "<img src='../imgs/gropby_.png'></img>"
   ]
  },
  {
   "cell_type": "markdown",
   "id": "69bf7326-f61d-41cd-bf6c-7c1cb0453b83",
   "metadata": {},
   "source": [
    "<p id='ct'>图 3-1：groupby 操作的可视化过程</p>"
   ]
  },
  {
   "cell_type": "markdown",
   "id": "79d85d64-6083-4114-ae17-34c6b236c35a",
   "metadata": {},
   "source": [
    "虽然我们也可以通过前面介绍的一系列的掩码、累计与合并操作来  \n",
    "实现，但是意识到中间分割过程不需要显式地暴露出来这一点十  \n",
    "分重要。而且 GroupBy（经常）只需要一行代码，就可以计算每组  \n",
    "的和、均值、计数、最小值以及其他累计值。GroupBy 的用处就是  \n",
    "将这些步骤进行抽象：用户不需要知道在底层如何计算，只要把操   \n",
    "作看成一个整体就够了。 \n",
    "  \n",
    "用 Pandas 进行图 3-1 所示的计算作为具体的示例。从创建输入  \n",
    "DataFrame 开始：  \n",
    "\n"
   ]
  },
  {
   "cell_type": "code",
   "execution_count": 12,
   "id": "b298c52d-1402-4173-8fcc-8429f4348c00",
   "metadata": {},
   "outputs": [
    {
     "data": {
      "text/html": [
       "<div>\n",
       "<style scoped>\n",
       "    .dataframe tbody tr th:only-of-type {\n",
       "        vertical-align: middle;\n",
       "    }\n",
       "\n",
       "    .dataframe tbody tr th {\n",
       "        vertical-align: top;\n",
       "    }\n",
       "\n",
       "    .dataframe thead th {\n",
       "        text-align: right;\n",
       "    }\n",
       "</style>\n",
       "<table border=\"1\" class=\"dataframe\">\n",
       "  <thead>\n",
       "    <tr style=\"text-align: right;\">\n",
       "      <th></th>\n",
       "      <th>key</th>\n",
       "      <th>data</th>\n",
       "    </tr>\n",
       "  </thead>\n",
       "  <tbody>\n",
       "    <tr>\n",
       "      <th>0</th>\n",
       "      <td>A</td>\n",
       "      <td>0</td>\n",
       "    </tr>\n",
       "    <tr>\n",
       "      <th>1</th>\n",
       "      <td>B</td>\n",
       "      <td>1</td>\n",
       "    </tr>\n",
       "    <tr>\n",
       "      <th>2</th>\n",
       "      <td>C</td>\n",
       "      <td>2</td>\n",
       "    </tr>\n",
       "    <tr>\n",
       "      <th>3</th>\n",
       "      <td>A</td>\n",
       "      <td>3</td>\n",
       "    </tr>\n",
       "    <tr>\n",
       "      <th>4</th>\n",
       "      <td>B</td>\n",
       "      <td>4</td>\n",
       "    </tr>\n",
       "    <tr>\n",
       "      <th>5</th>\n",
       "      <td>C</td>\n",
       "      <td>5</td>\n",
       "    </tr>\n",
       "  </tbody>\n",
       "</table>\n",
       "</div>"
      ],
      "text/plain": [
       "  key  data\n",
       "0   A     0\n",
       "1   B     1\n",
       "2   C     2\n",
       "3   A     3\n",
       "4   B     4\n",
       "5   C     5"
      ]
     },
     "execution_count": 12,
     "metadata": {},
     "output_type": "execute_result"
    }
   ],
   "source": [
    "df = pd.DataFrame({'key': ['A', 'B', 'C', 'A', 'B', 'C'],\n",
    "'data': range(6)}, columns=['key', 'data'])\n",
    "df"
   ]
  },
  {
   "cell_type": "markdown",
   "id": "3798dfff-0e42-4daa-8fd6-8cd4ef9b3149",
   "metadata": {},
   "source": [
    "我们可以用 DataFrame 的 groupby() 方法进行绝大多数常见的分\n",
    "割 - 应用 - 组合操作，将需要分组的列名传进去即可："
   ]
  },
  {
   "cell_type": "code",
   "execution_count": 13,
   "id": "0b3e29d3-349f-42ca-96ae-c06034e4c861",
   "metadata": {},
   "outputs": [
    {
     "data": {
      "text/plain": [
       "<pandas.core.groupby.generic.DataFrameGroupBy object at 0x000001DC7B8886D0>"
      ]
     },
     "execution_count": 13,
     "metadata": {},
     "output_type": "execute_result"
    }
   ],
   "source": [
    "df.groupby('key')"
   ]
  },
  {
   "cell_type": "markdown",
   "id": "08f7615e-6b34-4dc4-8d03-03b3f10a3c32",
   "metadata": {},
   "source": [
    "需要注意的是，<span id='imp'>这里的返回值不是一个 DataFrame 对象，而是一  \n",
    "个 DataFrameGroupBy 对象。这个对象的魔力在于，你可以将它  \n",
    "看成是一种特殊形式的 DataFrame，里面隐藏着若干组数据，但是  \n",
    "在没有应用累计函数之前不会计算。</span>这种“延迟计算”（lazy  \n",
    "evaluation）的方法使得大多数常见的累计操作可以通过一种对用户 \n",
    "而言几乎是透明的（感觉操作仿佛不存在）方式非常高效地实现。 \n",
    "   \n",
    "为了得到这个结果，可以对 DataFrameGroupBy 对象<span id='imp'>应用累计函 \n",
    "数，它会完成相应的应用 / 组合步骤并生成结果： </span> "
   ]
  },
  {
   "cell_type": "code",
   "execution_count": 14,
   "id": "b0c65c4d-ee0f-4fb0-bc93-fd6859a030f2",
   "metadata": {},
   "outputs": [
    {
     "data": {
      "text/html": [
       "<div>\n",
       "<style scoped>\n",
       "    .dataframe tbody tr th:only-of-type {\n",
       "        vertical-align: middle;\n",
       "    }\n",
       "\n",
       "    .dataframe tbody tr th {\n",
       "        vertical-align: top;\n",
       "    }\n",
       "\n",
       "    .dataframe thead th {\n",
       "        text-align: right;\n",
       "    }\n",
       "</style>\n",
       "<table border=\"1\" class=\"dataframe\">\n",
       "  <thead>\n",
       "    <tr style=\"text-align: right;\">\n",
       "      <th></th>\n",
       "      <th>data</th>\n",
       "    </tr>\n",
       "    <tr>\n",
       "      <th>key</th>\n",
       "      <th></th>\n",
       "    </tr>\n",
       "  </thead>\n",
       "  <tbody>\n",
       "    <tr>\n",
       "      <th>A</th>\n",
       "      <td>3</td>\n",
       "    </tr>\n",
       "    <tr>\n",
       "      <th>B</th>\n",
       "      <td>5</td>\n",
       "    </tr>\n",
       "    <tr>\n",
       "      <th>C</th>\n",
       "      <td>7</td>\n",
       "    </tr>\n",
       "  </tbody>\n",
       "</table>\n",
       "</div>"
      ],
      "text/plain": [
       "     data\n",
       "key      \n",
       "A       3\n",
       "B       5\n",
       "C       7"
      ]
     },
     "execution_count": 14,
     "metadata": {},
     "output_type": "execute_result"
    }
   ],
   "source": [
    "df.groupby('key').sum()"
   ]
  },
  {
   "cell_type": "markdown",
   "id": "a2235c22-1a70-4f44-bd94-08680f20a726",
   "metadata": {},
   "source": [
    "sum() 只是众多可用方法中的一个。你可以用 Pandas 或 NumPy 的\n",
    "任意一种累计函数，也可以用任意有效的 DataFrame 对象。下面\n",
    "就会介绍。"
   ]
  },
  {
   "cell_type": "markdown",
   "id": "f26b77c4-de45-409f-8812-4382f22d3bc4",
   "metadata": {},
   "source": [
    "02. GroupBy对象"
   ]
  },
  {
   "cell_type": "markdown",
   "id": "45306536-c68e-4cb5-9358-c4b10de6f3f0",
   "metadata": {},
   "source": [
    "GroupBy 对象是一种非常灵活的抽象类型。在大多数场景中，你可  \n",
    "以将它看成是 DataFrame 的集合，在底层解决所有难题。让我们  \n",
    "用行星数据来做一些演示。    \n",
    "\n",
    "GroupBy 中最重要的操作可能就是 aggregate、filter、transform  \n",
    "和 apply（累计、过滤、转换、应用）了，后文将详细介绍这些内  \n",
    "容，现在先来介绍一些 GroupBy 的基本操作方法。  \n"
   ]
  },
  {
   "cell_type": "markdown",
   "id": "d9546661-0e0f-45a5-9fb4-91a4c1ebd79a",
   "metadata": {},
   "source": [
    "(1) 按列取值。GroupBy 对象与 DataFrame 一样，也支持按列取\n",
    "值，并返回一个修改过的 GroupBy 对象，例如："
   ]
  },
  {
   "cell_type": "code",
   "execution_count": 15,
   "id": "72815d21-e3ed-4637-aca1-bc2bbf76f151",
   "metadata": {},
   "outputs": [
    {
     "data": {
      "text/plain": [
       "<pandas.core.groupby.generic.DataFrameGroupBy object at 0x000001DC7B648160>"
      ]
     },
     "execution_count": 15,
     "metadata": {},
     "output_type": "execute_result"
    }
   ],
   "source": [
    "planets.groupby('method')"
   ]
  },
  {
   "cell_type": "code",
   "execution_count": 16,
   "id": "31638ab4-7432-43f6-a570-273bcfea38af",
   "metadata": {},
   "outputs": [
    {
     "data": {
      "text/plain": [
       "<pandas.core.groupby.generic.SeriesGroupBy object at 0x000001DC7B6482E0>"
      ]
     },
     "execution_count": 16,
     "metadata": {},
     "output_type": "execute_result"
    }
   ],
   "source": [
    "planets.groupby('method')['orbital_period']"
   ]
  },
  {
   "cell_type": "markdown",
   "id": "bfd78405-8689-4b81-a864-df6856f0e945",
   "metadata": {},
   "source": [
    "这里从原来的 DataFrame 中取某个列名作为一个 Series 组。<span id='imp'>与\n",
    "GroupBy 对象一样，直到我们运行累计函数，才会开始计算：</span>\n"
   ]
  },
  {
   "cell_type": "code",
   "execution_count": 17,
   "id": "6dcddd34-e4d2-491f-b9a9-78fbd974e400",
   "metadata": {},
   "outputs": [
    {
     "data": {
      "text/plain": [
       "method\n",
       "Astrometry                         631.180000\n",
       "Eclipse Timing Variations         4343.500000\n",
       "Imaging                          27500.000000\n",
       "Microlensing                      3300.000000\n",
       "Orbital Brightness Modulation        0.342887\n",
       "Pulsar Timing                       66.541900\n",
       "Pulsation Timing Variations       1170.000000\n",
       "Radial Velocity                    360.200000\n",
       "Transit                              5.714932\n",
       "Transit Timing Variations           57.011000\n",
       "Name: orbital_period, dtype: float64"
      ]
     },
     "execution_count": 17,
     "metadata": {},
     "output_type": "execute_result"
    }
   ],
   "source": [
    "planets.groupby('method')['orbital_period'].median()"
   ]
  },
  {
   "cell_type": "markdown",
   "id": "fa78e8c9-47b5-4fde-9be9-f9ee508f4d72",
   "metadata": {},
   "source": [
    "这样就可以获得不同方法下所有行星公转周期（按天计算）的中位\n",
    "数。"
   ]
  },
  {
   "cell_type": "markdown",
   "id": "261e609b-af3a-4c1d-ab9a-ed251eddb526",
   "metadata": {},
   "source": [
    "(2) 按组迭代。GroupBy 对象支持直接按组进行迭代，返回的每一\n",
    "组都是 Series 或 DataFrame："
   ]
  },
  {
   "cell_type": "code",
   "execution_count": 18,
   "id": "a7a0f8a8-ff6e-4079-981f-e0c343c9c63c",
   "metadata": {},
   "outputs": [
    {
     "name": "stdout",
     "output_type": "stream",
     "text": [
      "Astrometry                     shape=(2, 6)\n",
      "Eclipse Timing Variations      shape=(9, 6)\n",
      "Imaging                        shape=(38, 6)\n",
      "Microlensing                   shape=(23, 6)\n",
      "Orbital Brightness Modulation  shape=(3, 6)\n",
      "Pulsar Timing                  shape=(5, 6)\n",
      "Pulsation Timing Variations    shape=(1, 6)\n",
      "Radial Velocity                shape=(553, 6)\n",
      "Transit                        shape=(397, 6)\n",
      "Transit Timing Variations      shape=(4, 6)\n"
     ]
    }
   ],
   "source": [
    "for (method,group) in planets.groupby('method'):\n",
    "    print(f\"{method:30s} shape={group.shape}\")"
   ]
  },
  {
   "cell_type": "markdown",
   "id": "f2bd8acb-db95-4076-90fd-093fe7614c88",
   "metadata": {},
   "source": [
    "尽管通常还是使用内置的 apply 功能速度更快，但这种方式在手\n",
    "动处理某些问题时非常有用，后面会详细介绍。"
   ]
  },
  {
   "cell_type": "markdown",
   "id": "d493a7bc-ba9b-4340-98f3-6a4c5a2205e8",
   "metadata": {},
   "source": [
    "(3) 调用方法。借助 Python 类的魔力（@classmethod<span id='imp'>类方法</span>），可以让\n",
    "任何不由 GroupBy 对象直接实现的方法直接应用到每一组，无论\n",
    "是 DataFrame 还是 Series 对象都同样适用。例如，你可以用\n",
    "DataFrame 的 describe() 方法进行累计，对每一组数据进行描述\n",
    "性统计"
   ]
  },
  {
   "cell_type": "code",
   "execution_count": 19,
   "id": "5a4e3af5-8e84-4b32-a3a8-cb46c08155a5",
   "metadata": {},
   "outputs": [
    {
     "data": {
      "text/plain": [
       "       method                       \n",
       "count  Astrometry                          2.0\n",
       "       Eclipse Timing Variations           9.0\n",
       "       Imaging                            38.0\n",
       "       Microlensing                       23.0\n",
       "       Orbital Brightness Modulation       3.0\n",
       "                                         ...  \n",
       "max    Pulsar Timing                    2011.0\n",
       "       Pulsation Timing Variations      2007.0\n",
       "       Radial Velocity                  2014.0\n",
       "       Transit                          2014.0\n",
       "       Transit Timing Variations        2014.0\n",
       "Length: 80, dtype: float64"
      ]
     },
     "execution_count": 19,
     "metadata": {},
     "output_type": "execute_result"
    }
   ],
   "source": [
    "planets.groupby('method')['year'].describe().unstack()"
   ]
  },
  {
   "cell_type": "markdown",
   "id": "51a2ec01-9252-4305-94a8-216d4f50b1b4",
   "metadata": {},
   "source": [
    "这张表可以帮助我们对数据有更深刻的认识，例如大多数行星都是  \n",
    "通过 Radial Velocity 和 Transit 方法发现的，而且后者在近十年变得  \n",
    "越来越普遍（得益于更新、更精确的望远镜）。最新的 Transit  \n",
    "Timing Variation 和 Orbital Brightness Modulation 方法在 2011 年之\n",
    "后才有新的发现。    \n",
    "这只是演示 Pandas 调用方法的示例之一。方法首先会应用到每组  \n",
    "数据上，然后结果由 GroupBy 组合后返回。另外，任意      \n",
    "DataFrame / Series 的方法都可以由 GroupBy 方法调用，从而实 \n",
    "现非常灵活强大的操作。 "
   ]
  },
  {
   "cell_type": "markdown",
   "id": "479f51c4-bfc1-4d61-950b-f0b04e319870",
   "metadata": {},
   "source": [
    "03. 累计、过滤、转换和应用"
   ]
  },
  {
   "cell_type": "markdown",
   "id": "ae80aa6e-3369-444e-9d6f-f6ca6b2e1596",
   "metadata": {},
   "source": [
    "虽然前面的章节只重点介绍了组合操作，但是还有许多操作没有介\n",
    "绍，尤其是 GroupBy 对象的\n",
    "aggregate()、filter()、transform() 和 apply() 方法，在数\n",
    "据组合之前实现了大量高效的操作。  \n",
    "为了方便后面内容的演示，使用下面这个 DataFrame：  "
   ]
  },
  {
   "cell_type": "code",
   "execution_count": 20,
   "id": "a198b7e4-4e3c-47c6-887f-3d12c18bda4b",
   "metadata": {},
   "outputs": [
    {
     "data": {
      "text/html": [
       "<div>\n",
       "<style scoped>\n",
       "    .dataframe tbody tr th:only-of-type {\n",
       "        vertical-align: middle;\n",
       "    }\n",
       "\n",
       "    .dataframe tbody tr th {\n",
       "        vertical-align: top;\n",
       "    }\n",
       "\n",
       "    .dataframe thead th {\n",
       "        text-align: right;\n",
       "    }\n",
       "</style>\n",
       "<table border=\"1\" class=\"dataframe\">\n",
       "  <thead>\n",
       "    <tr style=\"text-align: right;\">\n",
       "      <th></th>\n",
       "      <th>key</th>\n",
       "      <th>data1</th>\n",
       "      <th>data2</th>\n",
       "    </tr>\n",
       "  </thead>\n",
       "  <tbody>\n",
       "    <tr>\n",
       "      <th>0</th>\n",
       "      <td>A</td>\n",
       "      <td>0</td>\n",
       "      <td>5</td>\n",
       "    </tr>\n",
       "    <tr>\n",
       "      <th>1</th>\n",
       "      <td>B</td>\n",
       "      <td>1</td>\n",
       "      <td>0</td>\n",
       "    </tr>\n",
       "    <tr>\n",
       "      <th>2</th>\n",
       "      <td>C</td>\n",
       "      <td>2</td>\n",
       "      <td>3</td>\n",
       "    </tr>\n",
       "    <tr>\n",
       "      <th>3</th>\n",
       "      <td>A</td>\n",
       "      <td>3</td>\n",
       "      <td>3</td>\n",
       "    </tr>\n",
       "    <tr>\n",
       "      <th>4</th>\n",
       "      <td>B</td>\n",
       "      <td>4</td>\n",
       "      <td>7</td>\n",
       "    </tr>\n",
       "    <tr>\n",
       "      <th>5</th>\n",
       "      <td>C</td>\n",
       "      <td>5</td>\n",
       "      <td>9</td>\n",
       "    </tr>\n",
       "  </tbody>\n",
       "</table>\n",
       "</div>"
      ],
      "text/plain": [
       "  key  data1  data2\n",
       "0   A      0      5\n",
       "1   B      1      0\n",
       "2   C      2      3\n",
       "3   A      3      3\n",
       "4   B      4      7\n",
       "5   C      5      9"
      ]
     },
     "execution_count": 20,
     "metadata": {},
     "output_type": "execute_result"
    }
   ],
   "source": [
    "rng = np.random.RandomState(0)\n",
    "df = pd.DataFrame({'key': ['A', 'B', 'C', 'A', 'B', 'C'],\n",
    "'data1': range(6),\n",
    "'data2': rng.randint(0, 10, 6)},\n",
    "columns = ['key', 'data1', 'data2'])\n",
    "df"
   ]
  },
  {
   "cell_type": "markdown",
   "id": "14052643-e537-4c56-ba9a-38a73bdb6c4d",
   "metadata": {},
   "source": [
    "(1) 累计。我们目前比较熟悉的 GroupBy 累计方法只有 sum() 和\n",
    "median() 之类的简单函数，但是 aggregate() 其实可以支持更复\n",
    "杂的操作，比如字符串、函数或者函数列表，并且能一次性计算所\n",
    "有累计值。下面来快速演示一个例子："
   ]
  },
  {
   "cell_type": "code",
   "execution_count": 21,
   "id": "b0406acb-5360-4f23-a267-fb00c1c31128",
   "metadata": {},
   "outputs": [
    {
     "data": {
      "text/html": [
       "<div>\n",
       "<style scoped>\n",
       "    .dataframe tbody tr th:only-of-type {\n",
       "        vertical-align: middle;\n",
       "    }\n",
       "\n",
       "    .dataframe tbody tr th {\n",
       "        vertical-align: top;\n",
       "    }\n",
       "\n",
       "    .dataframe thead tr th {\n",
       "        text-align: left;\n",
       "    }\n",
       "\n",
       "    .dataframe thead tr:last-of-type th {\n",
       "        text-align: right;\n",
       "    }\n",
       "</style>\n",
       "<table border=\"1\" class=\"dataframe\">\n",
       "  <thead>\n",
       "    <tr>\n",
       "      <th></th>\n",
       "      <th colspan=\"3\" halign=\"left\">data1</th>\n",
       "      <th colspan=\"3\" halign=\"left\">data2</th>\n",
       "    </tr>\n",
       "    <tr>\n",
       "      <th></th>\n",
       "      <th>min</th>\n",
       "      <th>median</th>\n",
       "      <th>max</th>\n",
       "      <th>min</th>\n",
       "      <th>median</th>\n",
       "      <th>max</th>\n",
       "    </tr>\n",
       "    <tr>\n",
       "      <th>key</th>\n",
       "      <th></th>\n",
       "      <th></th>\n",
       "      <th></th>\n",
       "      <th></th>\n",
       "      <th></th>\n",
       "      <th></th>\n",
       "    </tr>\n",
       "  </thead>\n",
       "  <tbody>\n",
       "    <tr>\n",
       "      <th>A</th>\n",
       "      <td>0</td>\n",
       "      <td>1.5</td>\n",
       "      <td>3</td>\n",
       "      <td>3</td>\n",
       "      <td>4.0</td>\n",
       "      <td>5</td>\n",
       "    </tr>\n",
       "    <tr>\n",
       "      <th>B</th>\n",
       "      <td>1</td>\n",
       "      <td>2.5</td>\n",
       "      <td>4</td>\n",
       "      <td>0</td>\n",
       "      <td>3.5</td>\n",
       "      <td>7</td>\n",
       "    </tr>\n",
       "    <tr>\n",
       "      <th>C</th>\n",
       "      <td>2</td>\n",
       "      <td>3.5</td>\n",
       "      <td>5</td>\n",
       "      <td>3</td>\n",
       "      <td>6.0</td>\n",
       "      <td>9</td>\n",
       "    </tr>\n",
       "  </tbody>\n",
       "</table>\n",
       "</div>"
      ],
      "text/plain": [
       "    data1            data2           \n",
       "      min median max   min median max\n",
       "key                                  \n",
       "A       0    1.5   3     3    4.0   5\n",
       "B       1    2.5   4     0    3.5   7\n",
       "C       2    3.5   5     3    6.0   9"
      ]
     },
     "execution_count": 21,
     "metadata": {},
     "output_type": "execute_result"
    }
   ],
   "source": [
    "df.groupby('key').aggregate(['min', 'median', 'max'])"
   ]
  },
  {
   "cell_type": "markdown",
   "id": "b28251f5-426f-4e6b-ae57-46e11e10b5ac",
   "metadata": {},
   "source": [
    "另一种用法就是<span id='imp'>通过 Python 字典指定不同列</span>需要累计的函数"
   ]
  },
  {
   "cell_type": "markdown",
   "id": "4a3a09b8-652d-41a2-af31-81428bfabf17",
   "metadata": {},
   "source": [
    "<p class='raw'>\n",
    "简单理解下面的代码:\n",
    "可以看到显进行了组合操作,按照键'key'分组,\n",
    "然后使用组合操作\n",
    "指定的是字典,data1这一列的最小值data2这一列的最大值\n",
    "</p>"
   ]
  },
  {
   "cell_type": "code",
   "execution_count": 22,
   "id": "364fddb6-e570-4ec1-b94a-dfa176b1ee12",
   "metadata": {},
   "outputs": [
    {
     "data": {
      "text/html": [
       "<div>\n",
       "<style scoped>\n",
       "    .dataframe tbody tr th:only-of-type {\n",
       "        vertical-align: middle;\n",
       "    }\n",
       "\n",
       "    .dataframe tbody tr th {\n",
       "        vertical-align: top;\n",
       "    }\n",
       "\n",
       "    .dataframe thead th {\n",
       "        text-align: right;\n",
       "    }\n",
       "</style>\n",
       "<table border=\"1\" class=\"dataframe\">\n",
       "  <thead>\n",
       "    <tr style=\"text-align: right;\">\n",
       "      <th></th>\n",
       "      <th>data1</th>\n",
       "      <th>data2</th>\n",
       "    </tr>\n",
       "    <tr>\n",
       "      <th>key</th>\n",
       "      <th></th>\n",
       "      <th></th>\n",
       "    </tr>\n",
       "  </thead>\n",
       "  <tbody>\n",
       "    <tr>\n",
       "      <th>A</th>\n",
       "      <td>0</td>\n",
       "      <td>5</td>\n",
       "    </tr>\n",
       "    <tr>\n",
       "      <th>B</th>\n",
       "      <td>1</td>\n",
       "      <td>7</td>\n",
       "    </tr>\n",
       "    <tr>\n",
       "      <th>C</th>\n",
       "      <td>2</td>\n",
       "      <td>9</td>\n",
       "    </tr>\n",
       "  </tbody>\n",
       "</table>\n",
       "</div>"
      ],
      "text/plain": [
       "     data1  data2\n",
       "key              \n",
       "A        0      5\n",
       "B        1      7\n",
       "C        2      9"
      ]
     },
     "execution_count": 22,
     "metadata": {},
     "output_type": "execute_result"
    }
   ],
   "source": [
    "df.groupby('key').aggregate({\n",
    "    'data1':'min',\n",
    "    'data2':'max'\n",
    "})"
   ]
  },
  {
   "cell_type": "markdown",
   "id": "a8be3054-84cf-4789-9b6c-fb53a30d1a30",
   "metadata": {},
   "source": [
    "<img src='../imgs/ag1.png'></img>"
   ]
  },
  {
   "cell_type": "markdown",
   "id": "2a5c6451-c89c-4a11-8079-b3362d0e4f77",
   "metadata": {},
   "source": [
    "(2) 过滤。过滤操作可以让你按照分组的属性丢弃若干数据。例\n",
    "如，我们可能只需要保留标准差超过某个阈值的组："
   ]
  },
  {
   "cell_type": "markdown",
   "id": "5f5e570f-e793-43e3-9f35-548ad98c8438",
   "metadata": {},
   "source": [
    "<p class='raw'>\n",
    "    简单理解下面的代码,\n",
    "    定义了一个函数,返回的是传入的数据的\n",
    "    'data2'这一列的数据的标准差且是大于4的标准差,\n",
    "    学习filter时候,回顾之前学的python中的filter\n",
    "</p>"
   ]
  },
  {
   "cell_type": "code",
   "execution_count": 23,
   "id": "032ed00a-2732-47f4-aace-6e801906e649",
   "metadata": {},
   "outputs": [],
   "source": [
    "def filter_func(x):\n",
    "    return x['data2'].std() > 4"
   ]
  },
  {
   "cell_type": "code",
   "execution_count": 24,
   "id": "9bee2f27-f9be-4b30-bcea-7849d1e56ebd",
   "metadata": {},
   "outputs": [
    {
     "name": "stdout",
     "output_type": "stream",
     "text": [
      "  key  data1  data2\n",
      "0   A      0      5\n",
      "1   B      1      0\n",
      "2   C      2      3\n",
      "3   A      3      3\n",
      "4   B      4      7\n",
      "5   C      5      9\n",
      "       data1     data2\n",
      "key                   \n",
      "A    2.12132  1.414214\n",
      "B    2.12132  4.949747\n",
      "C    2.12132  4.242641\n",
      "  key  data1  data2\n",
      "1   B      1      0\n",
      "2   C      2      3\n",
      "4   B      4      7\n",
      "5   C      5      9\n"
     ]
    }
   ],
   "source": [
    "print(df); print(df.groupby('key').std());\n",
    "print(df.groupby('key').filter(filter_func))"
   ]
  },
  {
   "cell_type": "markdown",
   "id": "446e7628-be2e-4e03-81a9-1c7336accc32",
   "metadata": {},
   "source": [
    "filter() 函数会返回一个布尔值，表示每个组是否通过过滤。由\n",
    "于 A 组 'data2' 列的标准差不大于 4，所以被丢弃了。\n"
   ]
  },
  {
   "cell_type": "markdown",
   "id": "34b91ff0-8e1b-4f29-86c4-f9b7026e3e9a",
   "metadata": {},
   "source": [
    "(3) 转换。累计操作返回的是对组内全量数据缩减过的结果，而转\n",
    "换操作会返回一个新的全量数据。数据经过转换之后，其形状与原\n",
    "来的输入数据是一样的。常见的例子就是将每一组的样本数据减去\n",
    "各组的均值，实现数据标准化："
   ]
  },
  {
   "cell_type": "code",
   "execution_count": 25,
   "id": "37bb0c99-02a3-42ac-8c96-35ced8deb799",
   "metadata": {},
   "outputs": [
    {
     "data": {
      "text/html": [
       "<div>\n",
       "<style scoped>\n",
       "    .dataframe tbody tr th:only-of-type {\n",
       "        vertical-align: middle;\n",
       "    }\n",
       "\n",
       "    .dataframe tbody tr th {\n",
       "        vertical-align: top;\n",
       "    }\n",
       "\n",
       "    .dataframe thead th {\n",
       "        text-align: right;\n",
       "    }\n",
       "</style>\n",
       "<table border=\"1\" class=\"dataframe\">\n",
       "  <thead>\n",
       "    <tr style=\"text-align: right;\">\n",
       "      <th></th>\n",
       "      <th>data1</th>\n",
       "      <th>data2</th>\n",
       "    </tr>\n",
       "  </thead>\n",
       "  <tbody>\n",
       "    <tr>\n",
       "      <th>0</th>\n",
       "      <td>-1.5</td>\n",
       "      <td>1.0</td>\n",
       "    </tr>\n",
       "    <tr>\n",
       "      <th>1</th>\n",
       "      <td>-1.5</td>\n",
       "      <td>-3.5</td>\n",
       "    </tr>\n",
       "    <tr>\n",
       "      <th>2</th>\n",
       "      <td>-1.5</td>\n",
       "      <td>-3.0</td>\n",
       "    </tr>\n",
       "    <tr>\n",
       "      <th>3</th>\n",
       "      <td>1.5</td>\n",
       "      <td>-1.0</td>\n",
       "    </tr>\n",
       "    <tr>\n",
       "      <th>4</th>\n",
       "      <td>1.5</td>\n",
       "      <td>3.5</td>\n",
       "    </tr>\n",
       "    <tr>\n",
       "      <th>5</th>\n",
       "      <td>1.5</td>\n",
       "      <td>3.0</td>\n",
       "    </tr>\n",
       "  </tbody>\n",
       "</table>\n",
       "</div>"
      ],
      "text/plain": [
       "   data1  data2\n",
       "0   -1.5    1.0\n",
       "1   -1.5   -3.5\n",
       "2   -1.5   -3.0\n",
       "3    1.5   -1.0\n",
       "4    1.5    3.5\n",
       "5    1.5    3.0"
      ]
     },
     "execution_count": 25,
     "metadata": {},
     "output_type": "execute_result"
    }
   ],
   "source": [
    "df.groupby('key').transform(lambda x: x - x.mean())"
   ]
  },
  {
   "cell_type": "markdown",
   "id": "9d0b3f52-4533-4842-8206-235a661ac723",
   "metadata": {},
   "source": [
    "(4) apply() 方法。apply() 方法让你可以在每个组上应用任意方  \n",
    "法。这个函数输入一个 DataFrame，返回一个 Pandas 对象  \n",
    "（DataFrame 或 Series）或一个标量（scalar，单个数值）。组合    \n",
    "操作会适应返回结果类型。     \n",
    " \n",
    "下面的例子就是用 apply() 方法将第一列数据以第二列的和为基   \n",
    "数进行标准化： \n"
   ]
  },
  {
   "cell_type": "code",
   "execution_count": 26,
   "id": "1b1cd7f2-933d-40bd-92f7-f297b130b748",
   "metadata": {},
   "outputs": [],
   "source": [
    "def norm_by_data2(x):\n",
    "    # x是一个分组数据的DataFrame\n",
    "    x['data1'] /= x['data2'].sum()\n",
    "    return x"
   ]
  },
  {
   "cell_type": "code",
   "execution_count": 28,
   "id": "6597303f-a8ea-4835-9f5a-06f9be1ea76d",
   "metadata": {},
   "outputs": [
    {
     "name": "stdout",
     "output_type": "stream",
     "text": [
      "  key  data1  data2\n",
      "0   A      0      5\n",
      "1   B      1      0\n",
      "2   C      2      3\n",
      "3   A      3      3\n",
      "4   B      4      7\n",
      "5   C      5      9\n",
      "      key     data1  data2\n",
      "key                       \n",
      "A   0   A  0.000000      5\n",
      "    3   A  0.375000      3\n",
      "B   1   B  0.142857      0\n",
      "    4   B  0.571429      7\n",
      "C   2   C  0.166667      3\n",
      "    5   C  0.416667      9\n"
     ]
    },
    {
     "name": "stderr",
     "output_type": "stream",
     "text": [
      "C:\\Users\\郝海程\\AppData\\Local\\Temp\\ipykernel_20208\\1409288817.py:2: DeprecationWarning: DataFrameGroupBy.apply operated on the grouping columns. This behavior is deprecated, and in a future version of pandas the grouping columns will be excluded from the operation. Either pass `include_groups=False` to exclude the groupings or explicitly select the grouping columns after groupby to silence this warning.\n",
      "  print(df.groupby('key').apply(norm_by_data2))\n"
     ]
    }
   ],
   "source": [
    "print(df)\n",
    "print(df.groupby('key').apply(norm_by_data2))"
   ]
  },
  {
   "cell_type": "markdown",
   "id": "bb2ec984-78de-4557-9e75-8bbdd67ac46b",
   "metadata": {},
   "source": [
    "GroupBy 里的 apply() 方法非常灵活，唯一需要注意的地方是它\n",
    "总是输入分组数据的 DataFrame，返回 Pandas 对象或标量。具体\n",
    "如何选择需要视情况而定。"
   ]
  },
  {
   "cell_type": "markdown",
   "id": "af6e862e-6206-4627-a4f0-01b3a44a9e0e",
   "metadata": {},
   "source": [
    "04. 设置分割的键"
   ]
  },
  {
   "cell_type": "markdown",
   "id": "208114a1-47fc-4701-9088-38ac1cbc0bb9",
   "metadata": {},
   "source": [
    "前面的简单例子一直在用列名分割 DataFrame。这只是众多分组操  \n",
    "作中的一种，下面将继续介绍更多的分组方法。    \n",
    "(1) 将列表、数组、Series 或索引作为分组键。分组键可以是长度  \n",
    "与 DataFrame 匹配的任意 Series 或列表，例如："
   ]
  },
  {
   "cell_type": "code",
   "execution_count": 29,
   "id": "29188475-acd4-4750-ab6c-21b90bcb5bb5",
   "metadata": {},
   "outputs": [
    {
     "name": "stdout",
     "output_type": "stream",
     "text": [
      "  key  data1  data2\n",
      "0   A      0      5\n",
      "1   B      1      0\n",
      "2   C      2      3\n",
      "3   A      3      3\n",
      "4   B      4      7\n",
      "5   C      5      9\n",
      "   key  data1  data2\n",
      "0  ACC      7     17\n",
      "1   BA      4      3\n",
      "2    B      4      7\n"
     ]
    }
   ],
   "source": [
    "L = [0, 1, 0, 1, 2, 0]\n",
    "print(df); print(df.groupby(L).sum())"
   ]
  },
  {
   "cell_type": "markdown",
   "id": "4e63fa54-d554-4dfb-a599-1f637187d1e7",
   "metadata": {},
   "source": [
    "因此，还有一种比前面直接用列名更啰嗦的表示方法\n",
    "df.groupby('key')："
   ]
  },
  {
   "cell_type": "code",
   "execution_count": 30,
   "id": "15206117-8578-4c6f-84fe-8c6d25241f1f",
   "metadata": {},
   "outputs": [
    {
     "name": "stdout",
     "output_type": "stream",
     "text": [
      "  key  data1  data2\n",
      "0   A      0      5\n",
      "1   B      1      0\n",
      "2   C      2      3\n",
      "3   A      3      3\n",
      "4   B      4      7\n",
      "5   C      5      9\n",
      "     data1  data2\n",
      "key              \n",
      "A        3      8\n",
      "B        5      7\n",
      "C        7     12\n"
     ]
    }
   ],
   "source": [
    "print(df)\n",
    "print(df.groupby(df['key']).sum())"
   ]
  },
  {
   "cell_type": "markdown",
   "id": "b84aa665-a301-43ba-afa2-c4daf5fb09b3",
   "metadata": {},
   "source": [
    "(2) 用字典或 Series 将索引映射到分组名称。另一种方法是提供一\n",
    "个字典，将索引映射到分组键："
   ]
  },
  {
   "cell_type": "code",
   "execution_count": 31,
   "id": "25bfe4ff-906b-43e8-b0e3-004a68767bef",
   "metadata": {},
   "outputs": [
    {
     "name": "stdout",
     "output_type": "stream",
     "text": [
      "     data1  data2\n",
      "key              \n",
      "A        0      5\n",
      "B        1      0\n",
      "C        2      3\n",
      "A        3      3\n",
      "B        4      7\n",
      "C        5      9\n",
      "           data1  data2\n",
      "key                    \n",
      "consonant     12     19\n",
      "vowel          3      8\n"
     ]
    }
   ],
   "source": [
    "df2 = df.set_index('key') #设置多级索引名称为‘key’\n",
    "mapping = {'A': 'vowel', 'B': 'consonant', 'C': 'consonant'}\n",
    "print(df2); print(df2.groupby(mapping).sum())\n"
   ]
  },
  {
   "cell_type": "markdown",
   "id": "8b3a079a-3c87-4d11-ae62-efc34e0d54f9",
   "metadata": {},
   "source": [
    "(3) 任意 Python 函数。与前面的字典映射类似，你可以将任意\n",
    "Python 函数传入 groupby，函数映射到索引，然后新的分组输出："
   ]
  },
  {
   "cell_type": "code",
   "execution_count": 32,
   "id": "d148bf79-2734-45cf-bbd6-c739cfe8b973",
   "metadata": {},
   "outputs": [
    {
     "name": "stdout",
     "output_type": "stream",
     "text": [
      "     data1  data2\n",
      "key              \n",
      "A        0      5\n",
      "B        1      0\n",
      "C        2      3\n",
      "A        3      3\n",
      "B        4      7\n",
      "C        5      9\n",
      "     data1  data2\n",
      "key              \n",
      "a      1.5    4.0\n",
      "b      2.5    3.5\n",
      "c      3.5    6.0\n"
     ]
    }
   ],
   "source": [
    "print(df2)\n",
    "print(df2.groupby(str.lower).mean())"
   ]
  },
  {
   "cell_type": "markdown",
   "id": "baedb5bc-3fae-4d6d-a137-0eeb1889e248",
   "metadata": {},
   "source": [
    "(4) 多个有效键构成的列表。此外，任意之前有效的键都可以组合\n",
    "起来进行分组，从而返回一个多级索引的分组结果："
   ]
  },
  {
   "cell_type": "code",
   "execution_count": 33,
   "id": "4a97bb49-9aa5-4947-b9bd-42a3f8c3ef52",
   "metadata": {},
   "outputs": [
    {
     "data": {
      "text/html": [
       "<div>\n",
       "<style scoped>\n",
       "    .dataframe tbody tr th:only-of-type {\n",
       "        vertical-align: middle;\n",
       "    }\n",
       "\n",
       "    .dataframe tbody tr th {\n",
       "        vertical-align: top;\n",
       "    }\n",
       "\n",
       "    .dataframe thead th {\n",
       "        text-align: right;\n",
       "    }\n",
       "</style>\n",
       "<table border=\"1\" class=\"dataframe\">\n",
       "  <thead>\n",
       "    <tr style=\"text-align: right;\">\n",
       "      <th></th>\n",
       "      <th></th>\n",
       "      <th>data1</th>\n",
       "      <th>data2</th>\n",
       "    </tr>\n",
       "    <tr>\n",
       "      <th>key</th>\n",
       "      <th>key</th>\n",
       "      <th></th>\n",
       "      <th></th>\n",
       "    </tr>\n",
       "  </thead>\n",
       "  <tbody>\n",
       "    <tr>\n",
       "      <th>a</th>\n",
       "      <th>vowel</th>\n",
       "      <td>1.5</td>\n",
       "      <td>4.0</td>\n",
       "    </tr>\n",
       "    <tr>\n",
       "      <th>b</th>\n",
       "      <th>consonant</th>\n",
       "      <td>2.5</td>\n",
       "      <td>3.5</td>\n",
       "    </tr>\n",
       "    <tr>\n",
       "      <th>c</th>\n",
       "      <th>consonant</th>\n",
       "      <td>3.5</td>\n",
       "      <td>6.0</td>\n",
       "    </tr>\n",
       "  </tbody>\n",
       "</table>\n",
       "</div>"
      ],
      "text/plain": [
       "               data1  data2\n",
       "key key                    \n",
       "a   vowel        1.5    4.0\n",
       "b   consonant    2.5    3.5\n",
       "c   consonant    3.5    6.0"
      ]
     },
     "execution_count": 33,
     "metadata": {},
     "output_type": "execute_result"
    }
   ],
   "source": [
    "df2.groupby([str.lower,mapping]).mean()"
   ]
  },
  {
   "cell_type": "markdown",
   "id": "c56541b6-3533-4ca0-9b89-ae7f0709eab4",
   "metadata": {},
   "source": [
    "05. 分组案例\n",
    "通过下例中的几行 Python 代码，我们就可以运用上述知识，获取\n",
    "不同方法和不同年份发现的行星数量："
   ]
  },
  {
   "cell_type": "code",
   "execution_count": 35,
   "id": "1049db79-c076-434d-9d8e-99d6dc19a567",
   "metadata": {},
   "outputs": [
    {
     "data": {
      "text/html": [
       "<div>\n",
       "<style scoped>\n",
       "    .dataframe tbody tr th:only-of-type {\n",
       "        vertical-align: middle;\n",
       "    }\n",
       "\n",
       "    .dataframe tbody tr th {\n",
       "        vertical-align: top;\n",
       "    }\n",
       "\n",
       "    .dataframe thead th {\n",
       "        text-align: right;\n",
       "    }\n",
       "</style>\n",
       "<table border=\"1\" class=\"dataframe\">\n",
       "  <thead>\n",
       "    <tr style=\"text-align: right;\">\n",
       "      <th>decade</th>\n",
       "      <th>1980s</th>\n",
       "      <th>1990s</th>\n",
       "      <th>2000s</th>\n",
       "      <th>2010s</th>\n",
       "    </tr>\n",
       "    <tr>\n",
       "      <th>method</th>\n",
       "      <th></th>\n",
       "      <th></th>\n",
       "      <th></th>\n",
       "      <th></th>\n",
       "    </tr>\n",
       "  </thead>\n",
       "  <tbody>\n",
       "    <tr>\n",
       "      <th>Astrometry</th>\n",
       "      <td>0.0</td>\n",
       "      <td>0.0</td>\n",
       "      <td>0.0</td>\n",
       "      <td>2.0</td>\n",
       "    </tr>\n",
       "    <tr>\n",
       "      <th>Eclipse Timing Variations</th>\n",
       "      <td>0.0</td>\n",
       "      <td>0.0</td>\n",
       "      <td>5.0</td>\n",
       "      <td>10.0</td>\n",
       "    </tr>\n",
       "    <tr>\n",
       "      <th>Imaging</th>\n",
       "      <td>0.0</td>\n",
       "      <td>0.0</td>\n",
       "      <td>29.0</td>\n",
       "      <td>21.0</td>\n",
       "    </tr>\n",
       "    <tr>\n",
       "      <th>Microlensing</th>\n",
       "      <td>0.0</td>\n",
       "      <td>0.0</td>\n",
       "      <td>12.0</td>\n",
       "      <td>15.0</td>\n",
       "    </tr>\n",
       "    <tr>\n",
       "      <th>Orbital Brightness Modulation</th>\n",
       "      <td>0.0</td>\n",
       "      <td>0.0</td>\n",
       "      <td>0.0</td>\n",
       "      <td>5.0</td>\n",
       "    </tr>\n",
       "    <tr>\n",
       "      <th>Pulsar Timing</th>\n",
       "      <td>0.0</td>\n",
       "      <td>9.0</td>\n",
       "      <td>1.0</td>\n",
       "      <td>1.0</td>\n",
       "    </tr>\n",
       "    <tr>\n",
       "      <th>Pulsation Timing Variations</th>\n",
       "      <td>0.0</td>\n",
       "      <td>0.0</td>\n",
       "      <td>1.0</td>\n",
       "      <td>0.0</td>\n",
       "    </tr>\n",
       "    <tr>\n",
       "      <th>Radial Velocity</th>\n",
       "      <td>1.0</td>\n",
       "      <td>52.0</td>\n",
       "      <td>475.0</td>\n",
       "      <td>424.0</td>\n",
       "    </tr>\n",
       "    <tr>\n",
       "      <th>Transit</th>\n",
       "      <td>0.0</td>\n",
       "      <td>0.0</td>\n",
       "      <td>64.0</td>\n",
       "      <td>712.0</td>\n",
       "    </tr>\n",
       "    <tr>\n",
       "      <th>Transit Timing Variations</th>\n",
       "      <td>0.0</td>\n",
       "      <td>0.0</td>\n",
       "      <td>0.0</td>\n",
       "      <td>9.0</td>\n",
       "    </tr>\n",
       "  </tbody>\n",
       "</table>\n",
       "</div>"
      ],
      "text/plain": [
       "decade                         1980s  1990s  2000s  2010s\n",
       "method                                                   \n",
       "Astrometry                       0.0    0.0    0.0    2.0\n",
       "Eclipse Timing Variations        0.0    0.0    5.0   10.0\n",
       "Imaging                          0.0    0.0   29.0   21.0\n",
       "Microlensing                     0.0    0.0   12.0   15.0\n",
       "Orbital Brightness Modulation    0.0    0.0    0.0    5.0\n",
       "Pulsar Timing                    0.0    9.0    1.0    1.0\n",
       "Pulsation Timing Variations      0.0    0.0    1.0    0.0\n",
       "Radial Velocity                  1.0   52.0  475.0  424.0\n",
       "Transit                          0.0    0.0   64.0  712.0\n",
       "Transit Timing Variations        0.0    0.0    0.0    9.0"
      ]
     },
     "execution_count": 35,
     "metadata": {},
     "output_type": "execute_result"
    }
   ],
   "source": [
    "decade = 10*(planets['year']//10)\n",
    "decade = decade.astype(str) + 's'\n",
    "decade.name = 'decade'\n",
    "planets.\\\n",
    "groupby(['method', decade])['number'].sum().unstack().fillna(0)"
   ]
  },
  {
   "cell_type": "markdown",
   "id": "c0234866-e976-4fe4-b618-2ea3e1e53cbd",
   "metadata": {},
   "source": [
    "此例足以展现 GroupBy 在探索真实数据集时快速组合多种操作的\n",
    "能力——只用寥寥几行代码，就可以让我们立即对过去几十年里不\n",
    "同年代的行星发现方法有一个大概的了解。\n",
    "我建议你花点时间分析这几行代码，确保自己真正理解了每一行代\n",
    "码对结果产生了怎样的影响。虽然这个例子的确有点儿复杂，但是\n",
    "理解这几行代码的含义可以帮你掌握分析类似数据的方法。"
   ]
  },
  {
   "cell_type": "code",
   "execution_count": null,
   "id": "bab37a34-28cf-424b-b8d0-cc306b7c737c",
   "metadata": {},
   "outputs": [],
   "source": []
  }
 ],
 "metadata": {
  "kernelspec": {
   "display_name": "Python 3 (ipykernel)",
   "language": "python",
   "name": "python3"
  },
  "language_info": {
   "codemirror_mode": {
    "name": "ipython",
    "version": 3
   },
   "file_extension": ".py",
   "mimetype": "text/x-python",
   "name": "python",
   "nbconvert_exporter": "python",
   "pygments_lexer": "ipython3",
   "version": "3.9.7"
  }
 },
 "nbformat": 4,
 "nbformat_minor": 5
}
