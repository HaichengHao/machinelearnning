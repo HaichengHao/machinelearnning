{
 "cells": [
  {
   "cell_type": "code",
   "execution_count": 1,
   "id": "c7836f7b-00e6-464c-82a1-f4a44ce85b65",
   "metadata": {},
   "outputs": [
    {
     "data": {
      "text/html": [
       "<style type='text/css'>\n",
       "    *{\n",
       "        background-color:#E3EDCD;\n",
       "        # background-color:black;\n",
       "        # color:white;\n",
       "        \n",
       "    }\n",
       "    h1{\n",
       "        color:#1976d2;\n",
       "    }\n",
       "    h2{\n",
       "        color:#f57c00;\n",
       "    }\n",
       "    h3{\n",
       "        color:#ba37ff;\n",
       "    }\n",
       "    table{\n",
       "        border:1px solid black !important;\n",
       "        border-collapse:collapse !important;\n",
       "    }\n",
       "    th{\n",
       "        background-color:blueviolet !important;\n",
       "        text-align:center;\n",
       "        color:white;\n",
       "    }\n",
       "    th,td{\n",
       "        border:0.1px solid black !important;\n",
       "        transition:0.2s all liner;\n",
       "        \n",
       "    }\n",
       "    td:hover{\n",
       "        transform:scale(1.1);\n",
       "        background-color:orange;\n",
       "        color:blueviolet;\n",
       "    }\n",
       "</style>\n"
      ],
      "text/plain": [
       "<IPython.core.display.HTML object>"
      ]
     },
     "metadata": {},
     "output_type": "display_data"
    }
   ],
   "source": [
    "%%HTML\n",
    "<style type='text/css'>\n",
    "    *{\n",
    "        background-color:#E3EDCD;\n",
    "        # background-color:black;\n",
    "        # color:white;\n",
    "        \n",
    "    }\n",
    "    h1{\n",
    "        color:#1976d2;\n",
    "    }\n",
    "    h2{\n",
    "        color:#f57c00;\n",
    "    }\n",
    "    h3{\n",
    "        color:#ba37ff;\n",
    "    }\n",
    "    table{\n",
    "        border:1px solid black !important;\n",
    "        border-collapse:collapse !important;\n",
    "    }\n",
    "    th{\n",
    "        background-color:blueviolet !important;\n",
    "        text-align:center;\n",
    "        color:white;\n",
    "    }\n",
    "    th,td{\n",
    "        border:0.1px solid black !important;\n",
    "        transition:0.2s all liner;\n",
    "        \n",
    "    }\n",
    "    td:hover{\n",
    "        transform:scale(1.1);\n",
    "        background-color:orange;\n",
    "        color:blueviolet;\n",
    "    }\n",
    "</style>"
   ]
  },
  {
   "cell_type": "markdown",
   "id": "245f9c59-aaf5-478e-9699-c6fca35836df",
   "metadata": {},
   "source": [
    "<h3>2.3.4 高级的通用函数特性</h3>"
   ]
  },
  {
   "cell_type": "code",
   "execution_count": 2,
   "id": "1d176143-ba74-45f6-b760-f193578b1274",
   "metadata": {},
   "outputs": [],
   "source": [
    "import numpy as np"
   ]
  },
  {
   "cell_type": "markdown",
   "id": "ee04586f-90c1-4904-8135-4af29f6cc054",
   "metadata": {},
   "source": [
    "<p>很多 NumPy 用户在没有完全了解通用函数的特性时就开始使用它们，\n",
    "这里将介绍一些通用函数的特殊性质。</p>"
   ]
  },
  {
   "cell_type": "markdown",
   "id": "1ee479fe-b1ff-4c85-8e37-47a833e694e3",
   "metadata": {},
   "source": [
    "<h4>\n",
    "    01. 指定输出\n",
    "</h4>"
   ]
  },
  {
   "cell_type": "markdown",
   "id": "5b2f6108-c888-4723-9262-59fd6c64f9a1",
   "metadata": {},
   "source": [
    "<p>在进行大量运算时，有时候指定一个用于存放运算结果的数组是非\n",
    "常有用的。不同于创建临时数组，你可以用这个特性将计算结果直\n",
    "接写入到你期望的存储位置。所有的通用函数都可以通过 out 参数\n",
    "来指定计算结果的存放位置：</p>"
   ]
  },
  {
   "cell_type": "code",
   "execution_count": 3,
   "id": "7b2cb1c9-b630-4633-9d99-53e3c1f5b3cc",
   "metadata": {},
   "outputs": [
    {
     "name": "stdout",
     "output_type": "stream",
     "text": [
      "[ 0. 10. 20. 30. 40.]\n"
     ]
    }
   ],
   "source": [
    "x=np.arange(5)\n",
    "y=np.empty(5)\n",
    "np.multiply(x,10,out=y)\n",
    "print(y)"
   ]
  },
  {
   "cell_type": "raw",
   "id": "835eb49f-b8b1-453e-9386-2d4d9330b785",
   "metadata": {},
   "source": [
    "这个特性也可以被用作数组视图，例如可以将计算结果写入指定数\n",
    "组的每隔一个元素的位置："
   ]
  },
  {
   "cell_type": "code",
   "execution_count": 4,
   "id": "71d9c07d-ec03-41b6-b6bd-4ab19ee6a186",
   "metadata": {},
   "outputs": [
    {
     "name": "stdout",
     "output_type": "stream",
     "text": [
      "[ 1.  0.  2.  0.  4.  0.  8.  0. 16.  0.]\n"
     ]
    }
   ],
   "source": [
    "y=np.zeros(10)\n",
    "np.power(2,x,out=y[::2])\n",
    "print(y)"
   ]
  },
  {
   "cell_type": "raw",
   "id": "979f3aba-acf7-4c35-9a30-4c55a1800981",
   "metadata": {},
   "source": [
    "如果这里写的是 y[::2] = 2 ** x，那么结果将是创建一个临时\n",
    "数组，该数组存放的是 2 ** x 的结果，并且接下来会将这些值复\n",
    "制到 y 数组中。对于上述例子中比较小的计算量来说，这两种方式\n",
    "的差别并不大。但是对于较大的数组，通过慎重使用 out 参数将能\n",
    "够有效节约内存。"
   ]
  },
  {
   "cell_type": "markdown",
   "id": "6bc5988f-352f-468e-99eb-af1a98ee2a29",
   "metadata": {},
   "source": [
    "<h4>02. 聚合</h4>"
   ]
  },
  {
   "cell_type": "markdown",
   "id": "698edc1e-fb3b-4eb9-8976-a91a904a2950",
   "metadata": {},
   "source": [
    "<p>二元通用函数有些非常有趣的聚合功能，这些聚合可以直接在对象\n",
    "上计算。例如，如果我们希望用一个特定的运算 reduce 一个数\n",
    "组，那么可以用任何通用函数的 reduce 方法。一个 reduce 方法\n",
    "会对给定的元素和操作重复执行，直至得到单个的结果。</p>"
   ]
  },
  {
   "cell_type": "markdown",
   "id": "d52435be-84cf-4d81-9e37-55931977e168",
   "metadata": {},
   "source": [
    "<p>例如，对 add 通用函数调用 reduce 方法会返回数组中所有元素的\n",
    "和：</p>"
   ]
  },
  {
   "cell_type": "code",
   "execution_count": 3,
   "id": "367bb770-0bf2-4fa5-8797-d5f11c5037e0",
   "metadata": {},
   "outputs": [
    {
     "data": {
      "text/plain": [
       "np.int64(15)"
      ]
     },
     "execution_count": 3,
     "metadata": {},
     "output_type": "execute_result"
    }
   ],
   "source": [
    "x=np.arange(1,6)\n",
    "np.add.reduce(x)"
   ]
  },
  {
   "cell_type": "markdown",
   "id": "91cad177-c8c7-471e-a248-862400fe7b71",
   "metadata": {},
   "source": [
    "<p>同样，对 multiply 通用函数调用 reduce 方法会返回数组中所有\n",
    "元素的乘积：</p>"
   ]
  },
  {
   "cell_type": "code",
   "execution_count": 4,
   "id": "2defbbcb-b260-43ca-8705-885db96cb080",
   "metadata": {},
   "outputs": [
    {
     "data": {
      "text/plain": [
       "np.int64(120)"
      ]
     },
     "execution_count": 4,
     "metadata": {},
     "output_type": "execute_result"
    }
   ],
   "source": [
    "np.multiply.reduce(x)"
   ]
  },
  {
   "cell_type": "markdown",
   "id": "f422f7b6-41c1-4f89-8a02-4c7ab9fca11d",
   "metadata": {},
   "source": [
    "<p>如果需要存储每次计算的中间结果，可以使用 accumulate：</p>"
   ]
  },
  {
   "cell_type": "code",
   "execution_count": 7,
   "id": "19ab0553-8645-413e-a385-ffbe5172ed57",
   "metadata": {},
   "outputs": [
    {
     "data": {
      "text/plain": [
       "array([ 1,  3,  6, 10, 15])"
      ]
     },
     "execution_count": 7,
     "metadata": {},
     "output_type": "execute_result"
    }
   ],
   "source": [
    "np.add.accumulate(x)"
   ]
  },
  {
   "cell_type": "code",
   "execution_count": 7,
   "id": "5835c178-5402-4fdd-bb5f-893c4e7be431",
   "metadata": {},
   "outputs": [
    {
     "data": {
      "text/plain": [
       "array([  1,   2,   6,  24, 120])"
      ]
     },
     "execution_count": 7,
     "metadata": {},
     "output_type": "execute_result"
    }
   ],
   "source": [
    "np.multiply.accumulate(x)"
   ]
  },
  {
   "cell_type": "markdown",
   "id": "7f47f36e-9c75-4863-88b8-4f0a1dce4253",
   "metadata": {},
   "source": [
    "<p>请注意，在一些特殊情况中，NumPy 提供了专用的函数\n",
    "（np.sum、np.prod、np.cumsum、np.cumprod ），它们也可以\n",
    "实现以上 reduce 的功能，这些函数将在 2.4 节中具体介绍。/p>"
   ]
  },
  {
   "cell_type": "markdown",
   "id": "ee4eeb65-d74b-4fbb-bb4e-5b8841abc280",
   "metadata": {},
   "source": [
    "<h4>03. 外积</h4>"
   ]
  },
  {
   "cell_type": "markdown",
   "id": "f1f85f0b-cbc3-402a-97a0-79c053610152",
   "metadata": {},
   "source": [
    "<p>最后，任何通用函数都可以用 outer 方法获得两个不同输入数组\n",
    "所有元素对的函数运算结果。这意味着你可以用一行代码实现一个\n",
    "乘法表：</p>"
   ]
  },
  {
   "cell_type": "code",
   "execution_count": 8,
   "id": "0b3d870e-e70e-424b-b398-64f74ab82241",
   "metadata": {},
   "outputs": [
    {
     "data": {
      "text/plain": [
       "array([[ 1,  2,  3,  4,  5],\n",
       "       [ 2,  4,  6,  8, 10],\n",
       "       [ 3,  6,  9, 12, 15],\n",
       "       [ 4,  8, 12, 16, 20],\n",
       "       [ 5, 10, 15, 20, 25]])"
      ]
     },
     "execution_count": 8,
     "metadata": {},
     "output_type": "execute_result"
    }
   ],
   "source": [
    "x = np.arange(1,6)\n",
    "np.multiply.outer(x,x)"
   ]
  },
  {
   "cell_type": "markdown",
   "id": "b7d7072f-f23a-41ea-a7af-e735da6c1110",
   "metadata": {},
   "source": [
    "<p>2.7 节将介绍非常有用的 ufunc.at 和 ufunc.reduceat 方法。</p>"
   ]
  },
  {
   "cell_type": "markdown",
   "id": "1f652068-d3d8-4154-bf98-81e4d3ff1593",
   "metadata": {},
   "source": [
    "<p>通用函数另外一个非常有用的特性是它能操作不同大小和形状的数\n",
    "组，一组这样的操作被称为广播（broadcasting）。这个主题非常重\n",
    "要，我们将用一整节的内容介绍它（详情请参见 2.5 节）。\n",
    "</p>"
   ]
  },
  {
   "cell_type": "markdown",
   "id": "f6628abe-74b1-4588-bdd1-0916ccd39cdc",
   "metadata": {},
   "source": [
    "<h3>2.3.5 通用函数：更多的信息</h3>"
   ]
  },
  {
   "cell_type": "markdown",
   "id": "ebdf2f79-c65b-4dd5-a39a-20f673e52216",
   "metadata": {},
   "source": [
    "<p>有关通用函数的更多信息（包括可用的通用函数的完整列表）可以在\n",
    "NumPy（http://www.numpy.org）和 SciPy（http://www.scipy.org）文档\n",
    "的网站找到。\n",
    "前面的章节介绍过，可直接在 IPython 中通过导入相应的包，然后利用\n",
    "IPython 的 Tab 键补全和帮助（?）功能获取信息，详情请参见 1.2 节。</p>"
   ]
  },
  {
   "cell_type": "markdown",
   "id": "5c0ff155-4aa1-4d92-9dee-4a33b3913400",
   "metadata": {},
   "source": [
    "<h2>2.4 聚合：最小值、最大值和其他值</h2>"
   ]
  },
  {
   "cell_type": "markdown",
   "id": "1fa6165f-6958-42c0-bf85-8a0920de64a5",
   "metadata": {},
   "source": [
    "<p>当你面对大量的数据时，第一个步骤通常都是计算相关数据的概括统计\n",
    "值。最常用的概括统计值可能是均值和标准差，这两个值能让你分别概\n",
    "括出数据集中的“经典”值，但是其他一些形式的聚合也是非常有用的\n",
    "（如求和、乘积、中位数、最小值和最大值、分位数，等等）。\n",
    "NumPy 有非常快速的内置聚合函数可用于数组，我们将介绍其中的一\n",
    "些。</p>"
   ]
  },
  {
   "cell_type": "markdown",
   "id": "5f19696d-8aef-41df-94a5-956fd8de1911",
   "metadata": {},
   "source": [
    "<h3>2.4.1 数组值求和</h3>"
   ]
  },
  {
   "cell_type": "markdown",
   "id": "d1db77d0-d8fb-4b96-9dc2-77f6c4a7b11f",
   "metadata": {},
   "source": [
    "<p>先来看一个小例子，设想计算一个数组中所有元素的和。Python 本身可\n",
    "用内置的 sum 函数来实现：</p>"
   ]
  },
  {
   "cell_type": "code",
   "execution_count": 9,
   "id": "883594dc-e261-464d-aff2-ffaa2b5e3f0c",
   "metadata": {},
   "outputs": [
    {
     "data": {
      "text/plain": [
       "np.float64(46.84159163887825)"
      ]
     },
     "execution_count": 9,
     "metadata": {},
     "output_type": "execute_result"
    }
   ],
   "source": [
    "L = np.random.random(100)\n",
    "sum(L)"
   ]
  },
  {
   "cell_type": "markdown",
   "id": "c570f51c-e49a-47de-b699-d16ba9fa906d",
   "metadata": {},
   "source": [
    "<p>它的语法和 NumPy 的 sum 函数非常相似，并且在这个简单的例子中的\n",
    "结果也是一样的：</p>"
   ]
  },
  {
   "cell_type": "code",
   "execution_count": 10,
   "id": "a36a03be-9519-4d3d-88c6-0eb4f3904042",
   "metadata": {},
   "outputs": [
    {
     "data": {
      "text/plain": [
       "np.float64(46.84159163887824)"
      ]
     },
     "execution_count": 10,
     "metadata": {},
     "output_type": "execute_result"
    }
   ],
   "source": [
    "np.sum(L)"
   ]
  },
  {
   "cell_type": "markdown",
   "id": "f472f768-57e2-46f2-986c-c8e3b4fa6892",
   "metadata": {},
   "source": [
    "<p>但是，因为 NumPy 的 sum 函数在编译码中执行操作，所以 NumPy 的\n",
    "操作计算得更快一些：</p>"
   ]
  },
  {
   "cell_type": "code",
   "execution_count": 11,
   "id": "8f612e00-ceaa-43dc-91c3-751fe8ecf2a7",
   "metadata": {},
   "outputs": [
    {
     "name": "stdout",
     "output_type": "stream",
     "text": [
      "<class 'numpy.ndarray'>\n",
      "787 µs ± 57.6 µs per loop (mean ± std. dev. of 7 runs, 1,000 loops each)\n",
      "11 µs ± 72.7 ns per loop (mean ± std. dev. of 7 runs, 100,000 loops each)\n"
     ]
    }
   ],
   "source": [
    "big_array = np.random.rand(10000)\n",
    "print(type(big_array))\n",
    "%timeit sum(big_array)\n",
    "%timeit np.sum(big_array)"
   ]
  },
  {
   "cell_type": "markdown",
   "id": "93179ec6-660a-4667-9a0c-e104209ec1ba",
   "metadata": {},
   "source": [
    "<p>但是需要注意，sum 函数和 np.sum 函数并不等同，这有时会导致混\n",
    "淆。尤其是它们各自的可选参数都有不同的含义，np.sum 函数是知道\n",
    "数组的维度的，这一点将在接下来的部分讲解。\n",
    "</p>"
   ]
  },
  {
   "cell_type": "markdown",
   "id": "321279d9-b60a-4868-ac7d-7b2355ff21db",
   "metadata": {},
   "source": [
    "<h3>2.4.2 最小值和最大值</h3>"
   ]
  },
  {
   "cell_type": "markdown",
   "id": "1793182a-8f74-4b29-a00f-bc1fdea0b74b",
   "metadata": {},
   "source": [
    "<p>同样，Python 也有内置的 min 函数和 max 函数，分别被用于获取给定\n",
    "数组的最小值和最大值：</p>"
   ]
  },
  {
   "cell_type": "code",
   "execution_count": 12,
   "id": "fc8a7f34-1ffc-4077-8036-8a0c01ba14ee",
   "metadata": {},
   "outputs": [
    {
     "data": {
      "text/plain": [
       "(np.float64(0.00014807177200792943), np.float64(0.9999144096718535))"
      ]
     },
     "execution_count": 12,
     "metadata": {},
     "output_type": "execute_result"
    }
   ],
   "source": [
    "min(big_array),max(big_array)"
   ]
  },
  {
   "cell_type": "markdown",
   "id": "0f4e8133-d862-49d7-b32f-6c2e9cda3b2f",
   "metadata": {},
   "source": [
    "<p>NumPy 对应的函数也有类似的语法，并且也执行得更快：</p>"
   ]
  },
  {
   "cell_type": "code",
   "execution_count": 13,
   "id": "54a05ee1-7266-4556-8930-e40853976e10",
   "metadata": {},
   "outputs": [
    {
     "data": {
      "text/plain": [
       "(np.float64(0.00014807177200792943), np.float64(0.9999144096718535))"
      ]
     },
     "execution_count": 13,
     "metadata": {},
     "output_type": "execute_result"
    }
   ],
   "source": [
    "np.min(big_array),np.max(big_array)"
   ]
  },
  {
   "cell_type": "code",
   "execution_count": 15,
   "id": "aefe2a71-3b31-4373-b2df-ee3a58d9712f",
   "metadata": {},
   "outputs": [
    {
     "name": "stdout",
     "output_type": "stream",
     "text": [
      "510 µs ± 14.2 µs per loop (mean ± std. dev. of 7 runs, 1,000 loops each)\n",
      "9.85 µs ± 105 ns per loop (mean ± std. dev. of 7 runs, 100,000 loops each)\n"
     ]
    }
   ],
   "source": [
    "%timeit min(big_array)\n",
    "%timeit np.min(big_array)"
   ]
  },
  {
   "cell_type": "markdown",
   "id": "a515ea88-ee2b-410e-98bd-1f81ea3cbe2a",
   "metadata": {},
   "source": [
    "<p>对于 min、max、sum 和其他 NumPy 聚合，一种更简洁的语法形式是数\n",
    "组对象直接调用这些方法：</p>"
   ]
  },
  {
   "cell_type": "code",
   "execution_count": 16,
   "id": "66fa7781-06e4-402c-9e41-daeab6134a4e",
   "metadata": {},
   "outputs": [
    {
     "name": "stdout",
     "output_type": "stream",
     "text": [
      "0.00014807177200792943 0.9999144096718535 5051.343136857966\n"
     ]
    }
   ],
   "source": [
    " print(big_array.min(), big_array.max(), big_array.sum())"
   ]
  },
  {
   "cell_type": "markdown",
   "id": "fef4f610-cb16-4d50-985a-80666c32f6ec",
   "metadata": {},
   "source": [
    "<p>当你操作 NumPy 数组时，确保你执行的是 NumPy 版本的聚合。</p>"
   ]
  },
  {
   "cell_type": "markdown",
   "id": "f19c32ad-96a7-4ce9-9c96-ca1675b9939f",
   "metadata": {},
   "source": [
    "<h4>01. 多维度聚合</h4>"
   ]
  },
  {
   "cell_type": "markdown",
   "id": "47f59998-08ac-4745-b951-c597ecafc44a",
   "metadata": {},
   "source": [
    "<p>一种常用的聚合操作是沿着一行或一列聚合。例如，假设你有一些\n",
    "数据存储在二维数组中：</p>"
   ]
  },
  {
   "cell_type": "code",
   "execution_count": 17,
   "id": "41687b9b-0851-46dc-bb78-6b9cc865e6df",
   "metadata": {},
   "outputs": [],
   "source": [
    "M=np.random.random((3,4))"
   ]
  },
  {
   "cell_type": "code",
   "execution_count": 18,
   "id": "870bc926-b89b-4174-8479-c5837f595b66",
   "metadata": {},
   "outputs": [
    {
     "data": {
      "text/plain": [
       "array([[0.43546842, 0.60396328, 0.24303437, 0.30977266],\n",
       "       [0.05236062, 0.31718026, 0.84991993, 0.49768333],\n",
       "       [0.83989619, 0.12274195, 0.76270056, 0.29458219]])"
      ]
     },
     "execution_count": 18,
     "metadata": {},
     "output_type": "execute_result"
    }
   ],
   "source": [
    "M"
   ]
  },
  {
   "cell_type": "markdown",
   "id": "eec13e2e-eca0-4ebd-befb-1f2cd9ee3b5b",
   "metadata": {},
   "source": [
    "<p>默认情况下，每一个 NumPy 聚合函数将会返回对整个数组的聚合\n",
    "结果：</p>"
   ]
  },
  {
   "cell_type": "code",
   "execution_count": 19,
   "id": "5e491ff8-a397-4d0f-bdaa-ac083dcebd8c",
   "metadata": {},
   "outputs": [
    {
     "data": {
      "text/plain": [
       "np.float64(5.32930374893172)"
      ]
     },
     "execution_count": 19,
     "metadata": {},
     "output_type": "execute_result"
    }
   ],
   "source": [
    "M.sum()"
   ]
  },
  {
   "cell_type": "markdown",
   "id": "0cbc399f-ed65-4a51-9c44-fbe1e450b7f6",
   "metadata": {},
   "source": [
    "<p>聚合函数还有一个参数，用于指定沿着哪个轴的方向进行聚合。例\n",
    "如，可以通过指定 axis=0 找到每一列的最小值：\n",
    "</p>"
   ]
  },
  {
   "cell_type": "code",
   "execution_count": 20,
   "id": "1be5fd24-2743-4f40-baae-dddb4627b65a",
   "metadata": {},
   "outputs": [
    {
     "data": {
      "text/plain": [
       "array([0.05236062, 0.12274195, 0.24303437, 0.29458219])"
      ]
     },
     "execution_count": 20,
     "metadata": {},
     "output_type": "execute_result"
    }
   ],
   "source": [
    "M.min(axis=0)"
   ]
  },
  {
   "cell_type": "markdown",
   "id": "922eacb6-7523-4e7c-921f-8463d47633df",
   "metadata": {},
   "source": [
    "<p>这个函数返回四个值，对应四列数字的计算值。同样，也可以找到\n",
    "每一行的最大值：</p>"
   ]
  },
  {
   "cell_type": "code",
   "execution_count": 21,
   "id": "0d0e106e-caf6-4772-abdf-f879deca0132",
   "metadata": {},
   "outputs": [
    {
     "data": {
      "text/plain": [
       "array([0.60396328, 0.84991993, 0.83989619])"
      ]
     },
     "execution_count": 21,
     "metadata": {},
     "output_type": "execute_result"
    }
   ],
   "source": [
    "M.max(axis=1)"
   ]
  },
  {
   "cell_type": "markdown",
   "id": "ca4495e9-3042-4523-9f99-804ead041ed6",
   "metadata": {},
   "source": [
    "<p>其他语言的用户会对轴的指定方式比较困惑。axis 关键字指定的\n",
    "是数组将会被折叠的维度，而不是将要返回的维度。因此指定\n",
    "axis=0 意味着第一个轴将要被折叠——对于二维数组，这意味着\n",
    "每一列的值都将被聚合。</p>"
   ]
  },
  {
   "cell_type": "markdown",
   "id": "f9a504ea-4abb-4385-aa2d-ee7974166bdf",
   "metadata": {},
   "source": [
    "<h4>02. 其他聚合函数</h4>"
   ]
  },
  {
   "cell_type": "markdown",
   "id": "d0bc7c50-c4c5-43f2-88dc-c02e292acca2",
   "metadata": {},
   "source": [
    "<p>NumPy 提供了很多其他聚合函数，但是这里不会详细地介绍它\n",
    "们。另外，大多数的聚合都有对 NaN 值的安全处理策略（NaNsafe），即计算时忽略所有的缺失值，这些缺失值即特殊的 IEEE\n",
    "浮点型 NaN 值（关于缺失值更全面的介绍请参见 3.5 节）。有些\n",
    "NaN-safe 的函数直到 NumPy 1.8 版本才加进去，所以更早版本的\n",
    "NumPy 并不支持此功能。</p>"
   ]
  },
  {
   "cell_type": "markdown",
   "id": "1fe5434b-c119-44bd-8173-e1ea330935df",
   "metadata": {},
   "source": [
    "<p>表 2-3 提供了一个 NumPy 中可用的聚合函数的清单。</p>"
   ]
  },
  {
   "cell_type": "markdown",
   "id": "44c5f2be-49ff-49c9-b296-0f423a50e67a",
   "metadata": {},
   "source": [
    "<p>表2-3：NumPy中可用的聚合函数</p>"
   ]
  },
  {
   "cell_type": "markdown",
   "id": "599c520a-76d3-4284-ba3a-993cc667ba12",
   "metadata": {},
   "source": [
    "<img src='../imgs/可用聚合函数.png'>"
   ]
  },
  {
   "cell_type": "markdown",
   "id": "f5506e59-8427-4b36-832a-fae496f94ec6",
   "metadata": {},
   "source": [
    "<h3>2.4.3 示例：美国总统的身高是多少</h3>"
   ]
  },
  {
   "cell_type": "markdown",
   "id": "41a3603f-d444-4437-9d88-eb207f6a646f",
   "metadata": {},
   "source": [
    "<p>用 NumPy 的聚合功能来概括一组数据非常有用。这里举一个简单的例\n",
    "子——计算所有美国总统的身高。这个数据在 president_heights.csv 文件\n",
    "中，是一个简单的用逗号分隔的标签和值的列表：</p>"
   ]
  },
  {
   "cell_type": "markdown",
   "id": "82335412-b9eb-4666-b02a-aafa07c9ccf0",
   "metadata": {},
   "source": [
    "<p>我们将用 Pandas 包来读文件并抽取身高信息。（请注意，身高的计量\n",
    "单位是厘米。）第 3 章将更全面地介绍 Pandas：</p>"
   ]
  },
  {
   "cell_type": "code",
   "execution_count": 26,
   "id": "4e6dd6ef-71fb-4814-97c8-37f7b005a721",
   "metadata": {},
   "outputs": [],
   "source": [
    "import pandas as pd\n",
    "data = pd.read_csv('../data/president_heights.csv')\n",
    "height = np.array(data['height(cm)'])"
   ]
  },
  {
   "cell_type": "code",
   "execution_count": 28,
   "id": "487bebd5-73d3-469c-a5ee-f27f8778f890",
   "metadata": {},
   "outputs": [
    {
     "name": "stdout",
     "output_type": "stream",
     "text": [
      "[189 170 189 163 183 171 185 168 173 183 173 173 175 178 183 193 178 173\n",
      " 174 183 183 168 170 178 182 180 183 178 182 188 175 179 183 193 182 183\n",
      " 177 185 188 188 182 185 191 182]\n"
     ]
    }
   ],
   "source": [
    "print (height)"
   ]
  },
  {
   "cell_type": "markdown",
   "id": "d736e55c-cd98-49f2-a6a3-cf8d80b7ae9a",
   "metadata": {},
   "source": [
    "<p>有了这个数据数组后，就可以计算很多概括统计值了：</p>"
   ]
  },
  {
   "cell_type": "code",
   "execution_count": 29,
   "id": "08bf44b7-1806-4b43-a9f2-bbbbcdeb6522",
   "metadata": {},
   "outputs": [
    {
     "name": "stdout",
     "output_type": "stream",
     "text": [
      "Mean height:180.04545454545453\n",
      "standard deviation:6.983599441335736\n",
      "Minimum height:163\n",
      "Maximum height:193\n"
     ]
    }
   ],
   "source": [
    "print(f'Mean height:{height.mean()}')\n",
    "print(f'standard deviation:{height.std()}')\n",
    "print(f'Minimum height:{height.min()}')\n",
    "print(f'Maximum height:{height.max()}')"
   ]
  },
  {
   "cell_type": "markdown",
   "id": "e9daa654-1922-4e64-9e84-b1a26b888145",
   "metadata": {},
   "source": [
    "<p>请注意，在这个例子中，聚合操作将整个数组缩减到单个概括值，这个\n",
    "概括值给出了这些数值的分布信息。我们也可以计算分位数：</p>"
   ]
  },
  {
   "cell_type": "code",
   "execution_count": 30,
   "id": "5aed5f9c-171b-4eba-b461-8479d05e7822",
   "metadata": {},
   "outputs": [
    {
     "name": "stdout",
     "output_type": "stream",
     "text": [
      "25th percentile:174.75\n"
     ]
    }
   ],
   "source": [
    "print(f'25th percentile:{np.percentile(height,25)}')"
   ]
  },
  {
   "cell_type": "code",
   "execution_count": 31,
   "id": "deb6cafd-d776-4b51-91c2-f4b38be0c9e0",
   "metadata": {},
   "outputs": [
    {
     "name": "stdout",
     "output_type": "stream",
     "text": [
      "Median:182.0\n"
     ]
    }
   ],
   "source": [
    "print(f'Median:{np.median(height)}')"
   ]
  },
  {
   "cell_type": "code",
   "execution_count": 32,
   "id": "5dd15d44-14ac-47b3-8c8b-a3a7842a4893",
   "metadata": {},
   "outputs": [
    {
     "name": "stdout",
     "output_type": "stream",
     "text": [
      "75th percentile:183.5\n"
     ]
    }
   ],
   "source": [
    "print(f'75th percentile:{np.percentile(height,75)}')"
   ]
  },
  {
   "cell_type": "markdown",
   "id": "af9a3645-1559-44e5-bc8e-a6dc097843c5",
   "metadata": {},
   "source": [
    "<p>可以看到，美国总统的身高中位数是 182cm，或者说不到 6 英尺。</p>"
   ]
  },
  {
   "cell_type": "markdown",
   "id": "fd197faf-d466-44db-9c12-e2987ff2b086",
   "metadata": {},
   "source": [
    "<p>当然，有些时候将数据可视化更有用。这时可以先进行一个快速的可视\n",
    "化，通过 Matplotlib（第 4 章将详细讨论该工具）用以下代码创建图 2-\n",
    "3：\n",
    "</p>"
   ]
  },
  {
   "cell_type": "code",
   "execution_count": 52,
   "id": "8c7a06f2-b614-4327-a63a-107b6e8af7b1",
   "metadata": {},
   "outputs": [
    {
     "data": {
      "image/png": "[encoded data removed]",
      "text/plain": [
       "<Figure size 2000x800 with 1 Axes>"
      ]
     },
     "metadata": {},
     "output_type": "display_data"
    }
   ],
   "source": [
    "from pylab import mpl\n",
    "mpl.rcParams[\"font.sans-serif\"]=[\"SimHei\"]\n",
    "mpl.rcParams[\"axes.unicode_minus\"]=False\n",
    "from matplotlib import pyplot as plt\n",
    "plt.figure(figsize=(20,8),dpi=100)\n",
    "plt.hist(height)\n",
    "plt.title('美国总统身高分布直方图',fontsize=20,color='b')\n",
    "plt.xlabel('身高(cm)',fontsize=15)\n",
    "plt.ylabel('数字',fontsize=15)\n",
    "plt.grid(True,alpha=0.5,color='r',linestyle='--')\n",
    "plt.show()"
   ]
  },
  {
   "cell_type": "markdown",
   "id": "a6141521-cc82-438a-a3a8-bb9ef10427e1",
   "metadata": {},
   "source": [
    "<p>这些聚合是探索数据分析的一些最基本片段，本书后续的章节将进行更\n",
    "深入的介绍。</p>"
   ]
  },
  {
   "cell_type": "markdown",
   "id": "21efa644-4ba1-4abd-9d6c-ef14c3b24e21",
   "metadata": {},
   "source": [
    "<h2>2.5 数组的计算：广播</h2>"
   ]
  },
  {
   "cell_type": "markdown",
   "id": "e8b4a2cc-e82f-482c-999f-2a4309a7734b",
   "metadata": {},
   "source": [
    "<p>我们在前一节中介绍了 NumPy 如何通过通用函数的向量化操作来减少\n",
    "缓慢的 Python 循环，另外一种向量化操作的方法是利用 NumPy 的广播\n",
    "功能。广播可以简单理解为用于不同大小数组的二进制通用函数（加、\n",
    "减、乘等）的一组规则。\n",
    "</p>"
   ]
  },
  {
   "cell_type": "markdown",
   "id": "5c9f2e0e-a61c-4fb2-8a83-0362687b288e",
   "metadata": {},
   "source": [
    "<h3>2.5.1 广播的介绍</h3>"
   ]
  },
  {
   "cell_type": "markdown",
   "id": "38b969c4-d35f-4539-a1be-715b6d61f261",
   "metadata": {},
   "source": [
    "<p>前面曾提到，对于同样大小的数组，二进制操作是对相应元素逐个计\n",
    "算：\n",
    "</p>"
   ]
  },
  {
   "cell_type": "code",
   "execution_count": 53,
   "id": "7bc7c1af-f08e-497f-8706-267137ab6d2e",
   "metadata": {},
   "outputs": [
    {
     "data": {
      "text/plain": [
       "array([5, 6, 7])"
      ]
     },
     "execution_count": 53,
     "metadata": {},
     "output_type": "execute_result"
    }
   ],
   "source": [
    "a = np.array([0,1,2])\n",
    "b = np.array([5,5,5])\n",
    "a+b"
   ]
  },
  {
   "cell_type": "markdown",
   "id": "c352637c-1d57-40f1-909b-9392d8878565",
   "metadata": {},
   "source": [
    "<p>广播允许这些二进制操作可以用于不同大小的数组。例如，可以简单地\n",
    "将一个标量（可以认为是一个零维的数组）和一个数组相加：</p>"
   ]
  },
  {
   "cell_type": "code",
   "execution_count": 54,
   "id": "41508938-da81-4361-8553-2c10c224e559",
   "metadata": {},
   "outputs": [
    {
     "data": {
      "text/plain": [
       "array([5, 6, 7])"
      ]
     },
     "execution_count": 54,
     "metadata": {},
     "output_type": "execute_result"
    }
   ],
   "source": [
    "a+5"
   ]
  },
  {
   "cell_type": "markdown",
   "id": "a79e4381-cdd9-47c9-988a-a1a3bd3c05fc",
   "metadata": {},
   "source": [
    "<p>我们可以认为这个操作是将数值 5 扩展或重复至数组 [5, 5, 5]，然后\n",
    "执行加法。NumPy 广播功能的好处是，这种对值的重复实际上并没有\n",
    "发生，但是这是一种很好用的理解广播的模型。\n",
    "我们同样也可以将这个原理扩展到更高维度的数组。观察以下将一个一\n",
    "维数组和一个二维数组相加的结果：</p>"
   ]
  },
  {
   "cell_type": "code",
   "execution_count": 55,
   "id": "0074e848-440d-4f5b-b2f7-6b93d7e8eb5c",
   "metadata": {},
   "outputs": [
    {
     "data": {
      "text/plain": [
       "array([[1., 1., 1.],\n",
       "       [1., 1., 1.],\n",
       "       [1., 1., 1.]])"
      ]
     },
     "execution_count": 55,
     "metadata": {},
     "output_type": "execute_result"
    }
   ],
   "source": [
    "M = np.ones((3,3))\n",
    "M"
   ]
  },
  {
   "cell_type": "code",
   "execution_count": 56,
   "id": "8bbee80f-04c0-4867-b7b2-efa552ca6851",
   "metadata": {},
   "outputs": [
    {
     "data": {
      "text/plain": [
       "array([[1., 2., 3.],\n",
       "       [1., 2., 3.],\n",
       "       [1., 2., 3.]])"
      ]
     },
     "execution_count": 56,
     "metadata": {},
     "output_type": "execute_result"
    }
   ],
   "source": [
    "M+a"
   ]
  },
  {
   "cell_type": "markdown",
   "id": "8f40fcf0-5167-4f00-adc2-e2c5dc082a78",
   "metadata": {},
   "source": [
    "<p>这里这个一维数组就被扩展或者广播了。它沿着第二个维度扩展，扩展\n",
    "到匹配 M 数组的形状。<br>\n",
    "以上的这些例子理解起来都相对容易，更复杂的情况会涉及对两个数组\n",
    "的同时广播，例如以下示例：</p>"
   ]
  },
  {
   "cell_type": "code",
   "execution_count": 57,
   "id": "ca60a373-0766-4b13-b760-f00aae546365",
   "metadata": {},
   "outputs": [],
   "source": [
    "a = np.arange(3)\n",
    "b = np.arange(3)[:,np.newaxis]"
   ]
  },
  {
   "cell_type": "code",
   "execution_count": 59,
   "id": "33a89873-8552-4134-8276-7dd9916c66a6",
   "metadata": {},
   "outputs": [
    {
     "data": {
      "text/plain": [
       "array([0, 1, 2])"
      ]
     },
     "execution_count": 59,
     "metadata": {},
     "output_type": "execute_result"
    }
   ],
   "source": [
    "a"
   ]
  },
  {
   "cell_type": "code",
   "execution_count": 60,
   "id": "128f3e25-96c8-4ec6-a526-f62f0524bf7e",
   "metadata": {},
   "outputs": [
    {
     "data": {
      "text/plain": [
       "array([[0],\n",
       "       [1],\n",
       "       [2]])"
      ]
     },
     "execution_count": 60,
     "metadata": {},
     "output_type": "execute_result"
    }
   ],
   "source": [
    "b"
   ]
  },
  {
   "cell_type": "code",
   "execution_count": 61,
   "id": "8593fef1-3fab-404d-88ce-ffa5ee97b850",
   "metadata": {},
   "outputs": [
    {
     "data": {
      "text/plain": [
       "array([[0, 1, 2],\n",
       "       [1, 2, 3],\n",
       "       [2, 3, 4]])"
      ]
     },
     "execution_count": 61,
     "metadata": {},
     "output_type": "execute_result"
    }
   ],
   "source": [
    "a+b"
   ]
  },
  {
   "cell_type": "markdown",
   "id": "5515e133-bcef-4e7d-a5c1-7ef759b9c776",
   "metadata": {},
   "source": [
    "<p>正如此前将一个值扩展或广播以匹配另外一个数组的形状，这里将 a 和\n",
    "b 都进行了扩展来匹配一个公共的形状，最终的结果是一个二维数组。\n",
    "以上这些例子的几何可视化如图 2-4 所示。</p>"
   ]
  },
  {
   "cell_type": "markdown",
   "id": "82ac16b0-e99d-4f13-a511-eefb0b3ed640",
   "metadata": {},
   "source": [
    "<img src='../imgs/数组广播.png'>\n",
    "<img src='../imgs/数组广播可视化.png'>\n",
    "<h4 style=\"text-align:center;\">图2-4 NumPy广播的可视化</h4>"
   ]
  },
  {
   "cell_type": "markdown",
   "id": "5e17d1b4-539e-4f97-bb94-1b68f0e4b297",
   "metadata": {},
   "source": [
    "<p>浅色的盒子表示广播的值。同样需要注意的是，这个额外的内存并没有\n",
    "在实际操作中进行分配，但是这样的想象方式更方便我们从概念上理\n",
    "解。</p>"
   ]
  },
  {
   "cell_type": "markdown",
   "id": "526641ed-f982-496f-b94f-50091122de22",
   "metadata": {},
   "source": [
    "<h3>2.5.2 广播的规则</h3>"
   ]
  },
  {
   "cell_type": "markdown",
   "id": "0d6bea45-ad14-46a3-98cc-6a2e738e0ca7",
   "metadata": {},
   "source": [
    "<p>NumPy 的广播遵循一组严格的规则，设定这组规则是为了决定两个数\n",
    "组间的操作。</p>"
   ]
  },
  {
   "cell_type": "raw",
   "id": "d2e455d5-87ab-4f09-bb6c-4cb939a1c392",
   "metadata": {},
   "source": [
    "规则 1：如果两个数组的维度数不相同，那么小维度数组的形状将\n",
    "会在最左边补 1。\n",
    "规则 2：如果两个数组的形状在任何一个维度上都不匹配，那么数\n",
    "组的形状会沿着维度为 1 的维度扩展以匹配另外一个数组的形状。\n",
    "规则 3：如果两个数组的形状在任何一个维度上都不匹配并且没有\n",
    "任何一个维度等于 1，那么会引发异常。\n",
    "为了更清楚地理解这些规则，来看几个具体示例。"
   ]
  },
  {
   "cell_type": "markdown",
   "id": "a559a3cf-866a-40fc-abaa-65cac3000a1d",
   "metadata": {},
   "source": [
    "<h4>01. 广播示例1</h4>"
   ]
  },
  {
   "cell_type": "markdown",
   "id": "62e9d223-0141-4d78-88a9-c4400846306d",
   "metadata": {},
   "source": [
    "<p>将一个二维数组与一个一维数组相加：</p>"
   ]
  },
  {
   "cell_type": "code",
   "execution_count": 63,
   "id": "d7f908f6-c31e-4aa4-a224-7dff49f6481b",
   "metadata": {},
   "outputs": [],
   "source": [
    "M = np.ones((2,3))\n",
    "a = np.arange(3)"
   ]
  },
  {
   "cell_type": "code",
   "execution_count": 71,
   "id": "332ab126-8794-4c1d-a2cc-ed158a31c623",
   "metadata": {},
   "outputs": [
    {
     "data": {
      "text/plain": [
       "array([[1., 1., 1.],\n",
       "       [1., 1., 1.]])"
      ]
     },
     "execution_count": 71,
     "metadata": {},
     "output_type": "execute_result"
    }
   ],
   "source": [
    "M"
   ]
  },
  {
   "cell_type": "code",
   "execution_count": 72,
   "id": "4f392c0d-9404-489b-b61a-80f06fa1d2e3",
   "metadata": {},
   "outputs": [
    {
     "data": {
      "text/plain": [
       "array([0, 1, 2])"
      ]
     },
     "execution_count": 72,
     "metadata": {},
     "output_type": "execute_result"
    }
   ],
   "source": [
    "a"
   ]
  },
  {
   "cell_type": "markdown",
   "id": "bf69a62b-6ca3-467d-a4a3-41baaf385c48",
   "metadata": {},
   "source": [
    "<p>来看这两个数组的加法操作。两个数组的形状如下：</p>"
   ]
  },
  {
   "cell_type": "code",
   "execution_count": 64,
   "id": "34e5b57c-db56-4cad-9eea-1f95a52a438c",
   "metadata": {},
   "outputs": [],
   "source": [
    "M.shape = (2,3)\n",
    "a.shape = (3,)"
   ]
  },
  {
   "cell_type": "markdown",
   "id": "ca1bbd77-c6a5-4971-8bd9-86a1e572d193",
   "metadata": {},
   "source": [
    "<p>可以看到，根据规则 1，数组 a 的维度数更小，所以在其左边补1:</p>"
   ]
  },
  {
   "cell_type": "raw",
   "id": "5b87b340-f0a4-4a1a-8e44-63901cc118ea",
   "metadata": {},
   "source": [
    "M.shape -> (2,3)\n",
    "a.shape -> (1,3)"
   ]
  },
  {
   "cell_type": "markdown",
   "id": "921c73f0-b85a-4819-9eb4-f3ca59848b38",
   "metadata": {},
   "source": [
    "<p>根据规则 2，第一个维度不匹配，因此扩展这个维度以匹配数组：</p>"
   ]
  },
  {
   "cell_type": "raw",
   "id": "15ba2acb-95f6-47af-b631-480fee0f063f",
   "metadata": {},
   "source": [
    "M.shape -> (2, 3)\n",
    "a.shape -> (2, 3)"
   ]
  },
  {
   "cell_type": "markdown",
   "id": "2755a7cd-62e7-456b-9a5f-48089567a4bd",
   "metadata": {},
   "source": [
    "<p>现在两个数组的形状匹配了，可以看到它们的最终形状都为 (2,\n",
    "3)：</p>"
   ]
  },
  {
   "cell_type": "code",
   "execution_count": 73,
   "id": "9acd21b9-9427-4b3c-841d-277ee0878069",
   "metadata": {},
   "outputs": [
    {
     "data": {
      "text/plain": [
       "array([[1., 2., 3.],\n",
       "       [1., 2., 3.]])"
      ]
     },
     "execution_count": 73,
     "metadata": {},
     "output_type": "execute_result"
    }
   ],
   "source": [
    "M+a"
   ]
  },
  {
   "cell_type": "code",
   "execution_count": null,
   "id": "dab8456c-3c63-400a-aefa-debf3606b7fe",
   "metadata": {},
   "outputs": [],
   "source": [
    "# p124"
   ]
  }
 ],
 "metadata": {
  "kernelspec": {
   "display_name": "Python 3 (ipykernel)",
   "language": "python",
   "name": "python3"
  },
  "language_info": {
   "codemirror_mode": {
    "name": "ipython",
    "version": 3
   },
   "file_extension": ".py",
   "mimetype": "text/x-python",
   "name": "python",
   "nbconvert_exporter": "python",
   "pygments_lexer": "ipython3",
   "version": "3.9.7"
  }
 },
 "nbformat": 4,
 "nbformat_minor": 5
}
