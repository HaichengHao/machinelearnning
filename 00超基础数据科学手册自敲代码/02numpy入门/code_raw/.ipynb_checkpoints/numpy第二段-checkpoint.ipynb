{
 "cells": [
  {
   "cell_type": "code",
   "execution_count": 1,
   "id": "c7836f7b-00e6-464c-82a1-f4a44ce85b65",
   "metadata": {},
   "outputs": [
    {
     "data": {
      "text/html": [
       "<style type='text/css'>\n",
       "    *{\n",
       "        # background-color:#E3EDCD;\n",
       "        # background-color:black;\n",
       "        # color:white;\n",
       "        \n",
       "    }\n",
       "    h1{\n",
       "        color:#1976d2;\n",
       "    }\n",
       "    h2{\n",
       "        color:#f57c00;\n",
       "    }\n",
       "    h3{\n",
       "        color:#ba37ff;\n",
       "    }\n",
       "    table{\n",
       "        border:1px solid black !important;\n",
       "        border-collapse:collapse !important;\n",
       "    }\n",
       "    th{\n",
       "        background-color:blueviolet !important;\n",
       "        text-align:center;\n",
       "        color:white;\n",
       "    }\n",
       "    th,td{\n",
       "        border:0.1px solid black !important;\n",
       "        transition:0.2s all liner;\n",
       "        \n",
       "    }\n",
       "    td:hover{\n",
       "        transform:scale(1.1);\n",
       "        background-color:orange;\n",
       "        color:blueviolet;\n",
       "    }\n",
       "</style>\n"
      ],
      "text/plain": [
       "<IPython.core.display.HTML object>"
      ]
     },
     "metadata": {},
     "output_type": "display_data"
    }
   ],
   "source": [
    "%%HTML\n",
    "<style type='text/css'>\n",
    "    *{\n",
    "        # background-color:#E3EDCD;\n",
    "        # background-color:black;\n",
    "        # color:white;\n",
    "        \n",
    "    }\n",
    "    h1{\n",
    "        color:#1976d2;\n",
    "    }\n",
    "    h2{\n",
    "        color:#f57c00;\n",
    "    }\n",
    "    h3{\n",
    "        color:#ba37ff;\n",
    "    }\n",
    "    table{\n",
    "        border:1px solid black !important;\n",
    "        border-collapse:collapse !important;\n",
    "    }\n",
    "    th{\n",
    "        background-color:blueviolet !important;\n",
    "        text-align:center;\n",
    "        color:white;\n",
    "    }\n",
    "    th,td{\n",
    "        border:0.1px solid black !important;\n",
    "        transition:0.2s all liner;\n",
    "        \n",
    "    }\n",
    "    td:hover{\n",
    "        transform:scale(1.1);\n",
    "        background-color:orange;\n",
    "        color:blueviolet;\n",
    "    }\n",
    "</style>"
   ]
  },
  {
   "cell_type": "markdown",
   "id": "245f9c59-aaf5-478e-9699-c6fca35836df",
   "metadata": {},
   "source": [
    "<h3>2.3.4 高级的通用函数特性</h3>"
   ]
  },
  {
   "cell_type": "code",
   "execution_count": 2,
   "id": "1d176143-ba74-45f6-b760-f193578b1274",
   "metadata": {},
   "outputs": [],
   "source": [
    "import numpy as np"
   ]
  },
  {
   "cell_type": "markdown",
   "id": "ee04586f-90c1-4904-8135-4af29f6cc054",
   "metadata": {},
   "source": [
    "<p>很多 NumPy 用户在没有完全了解通用函数的特性时就开始使用它们，\n",
    "这里将介绍一些通用函数的特殊性质。</p>"
   ]
  },
  {
   "cell_type": "markdown",
   "id": "1ee479fe-b1ff-4c85-8e37-47a833e694e3",
   "metadata": {},
   "source": [
    "<h4>\n",
    "    01. 指定输出\n",
    "</h4>"
   ]
  },
  {
   "cell_type": "markdown",
   "id": "5b2f6108-c888-4723-9262-59fd6c64f9a1",
   "metadata": {},
   "source": [
    "<p>在进行大量运算时，有时候指定一个用于存放运算结果的数组是非\n",
    "常有用的。不同于创建临时数组，你可以用这个特性将计算结果直\n",
    "接写入到你期望的存储位置。所有的通用函数都可以通过 out 参数\n",
    "来指定计算结果的存放位置：</p>"
   ]
  },
  {
   "cell_type": "code",
   "execution_count": 3,
   "id": "7b2cb1c9-b630-4633-9d99-53e3c1f5b3cc",
   "metadata": {},
   "outputs": [
    {
     "name": "stdout",
     "output_type": "stream",
     "text": [
      "[ 0. 10. 20. 30. 40.]\n"
     ]
    }
   ],
   "source": [
    "x=np.arange(5)\n",
    "y=np.empty(5)\n",
    "np.multiply(x,10,out=y)\n",
    "print(y)"
   ]
  },
  {
   "cell_type": "raw",
   "id": "835eb49f-b8b1-453e-9386-2d4d9330b785",
   "metadata": {},
   "source": [
    "这个特性也可以被用作数组视图，例如可以将计算结果写入指定数\n",
    "组的每隔一个元素的位置："
   ]
  },
  {
   "cell_type": "code",
   "execution_count": 4,
   "id": "71d9c07d-ec03-41b6-b6bd-4ab19ee6a186",
   "metadata": {},
   "outputs": [
    {
     "name": "stdout",
     "output_type": "stream",
     "text": [
      "[ 1.  0.  2.  0.  4.  0.  8.  0. 16.  0.]\n"
     ]
    }
   ],
   "source": [
    "y=np.zeros(10)\n",
    "np.power(2,x,out=y[::2])\n",
    "print(y)"
   ]
  },
  {
   "cell_type": "raw",
   "id": "979f3aba-acf7-4c35-9a30-4c55a1800981",
   "metadata": {},
   "source": [
    "如果这里写的是 y[::2] = 2 ** x，那么结果将是创建一个临时\n",
    "数组，该数组存放的是 2 ** x 的结果，并且接下来会将这些值复\n",
    "制到 y 数组中。对于上述例子中比较小的计算量来说，这两种方式\n",
    "的差别并不大。但是对于较大的数组，通过慎重使用 out 参数将能\n",
    "够有效节约内存。"
   ]
  },
  {
   "cell_type": "markdown",
   "id": "6bc5988f-352f-468e-99eb-af1a98ee2a29",
   "metadata": {},
   "source": [
    "<h4>02. 聚合</h4>"
   ]
  },
  {
   "cell_type": "markdown",
   "id": "698edc1e-fb3b-4eb9-8976-a91a904a2950",
   "metadata": {},
   "source": [
    "<p>二元通用函数有些非常有趣的聚合功能，这些聚合可以直接在对象\n",
    "上计算。例如，如果我们希望用一个特定的运算 reduce 一个数\n",
    "组，那么可以用任何通用函数的 reduce 方法。一个 reduce 方法\n",
    "会对给定的元素和操作重复执行，直至得到单个的结果。</p>"
   ]
  },
  {
   "cell_type": "markdown",
   "id": "d52435be-84cf-4d81-9e37-55931977e168",
   "metadata": {},
   "source": [
    "<p>例如，对 add 通用函数调用 reduce 方法会返回数组中所有元素的\n",
    "和：</p>"
   ]
  },
  {
   "cell_type": "code",
   "execution_count": 5,
   "id": "367bb770-0bf2-4fa5-8797-d5f11c5037e0",
   "metadata": {},
   "outputs": [
    {
     "data": {
      "text/plain": [
       "np.int64(15)"
      ]
     },
     "execution_count": 5,
     "metadata": {},
     "output_type": "execute_result"
    }
   ],
   "source": [
    "x=np.arange(1,6)\n",
    "np.add.reduce(x)"
   ]
  },
  {
   "cell_type": "markdown",
   "id": "91cad177-c8c7-471e-a248-862400fe7b71",
   "metadata": {},
   "source": [
    "<p>同样，对 multiply 通用函数调用 reduce 方法会返回数组中所有\n",
    "元素的乘积：</p>"
   ]
  },
  {
   "cell_type": "code",
   "execution_count": 6,
   "id": "2defbbcb-b260-43ca-8705-885db96cb080",
   "metadata": {},
   "outputs": [
    {
     "data": {
      "text/plain": [
       "np.int64(120)"
      ]
     },
     "execution_count": 6,
     "metadata": {},
     "output_type": "execute_result"
    }
   ],
   "source": [
    "np.multiply.reduce(x)"
   ]
  },
  {
   "cell_type": "markdown",
   "id": "f422f7b6-41c1-4f89-8a02-4c7ab9fca11d",
   "metadata": {},
   "source": [
    "<p>如果需要存储每次计算的中间结果，可以使用 accumulate：</p>"
   ]
  },
  {
   "cell_type": "code",
   "execution_count": 7,
   "id": "19ab0553-8645-413e-a385-ffbe5172ed57",
   "metadata": {},
   "outputs": [
    {
     "data": {
      "text/plain": [
       "array([ 1,  3,  6, 10, 15])"
      ]
     },
     "execution_count": 7,
     "metadata": {},
     "output_type": "execute_result"
    }
   ],
   "source": [
    "np.add.accumulate(x)"
   ]
  },
  {
   "cell_type": "code",
   "execution_count": 8,
   "id": "5835c178-5402-4fdd-bb5f-893c4e7be431",
   "metadata": {},
   "outputs": [
    {
     "data": {
      "text/plain": [
       "array([  1,   2,   6,  24, 120])"
      ]
     },
     "execution_count": 8,
     "metadata": {},
     "output_type": "execute_result"
    }
   ],
   "source": [
    "np.multiply.accumulate(x)"
   ]
  },
  {
   "cell_type": "markdown",
   "id": "7f47f36e-9c75-4863-88b8-4f0a1dce4253",
   "metadata": {},
   "source": [
    "<p>请注意，在一些特殊情况中，NumPy 提供了专用的函数\n",
    "（np.sum、np.prod、np.cumsum、np.cumprod ），它们也可以\n",
    "实现以上 reduce 的功能，这些函数将在 2.4 节中具体介绍。/p>"
   ]
  },
  {
   "cell_type": "markdown",
   "id": "ee4eeb65-d74b-4fbb-bb4e-5b8841abc280",
   "metadata": {},
   "source": [
    "<h4>03. 外积</h4>"
   ]
  },
  {
   "cell_type": "markdown",
   "id": "f1f85f0b-cbc3-402a-97a0-79c053610152",
   "metadata": {},
   "source": [
    "<p>最后，任何通用函数都可以用 outer 方法获得两个不同输入数组\n",
    "所有元素对的函数运算结果。这意味着你可以用一行代码实现一个\n",
    "乘法表：</p>"
   ]
  },
  {
   "cell_type": "code",
   "execution_count": 9,
   "id": "0b3d870e-e70e-424b-b398-64f74ab82241",
   "metadata": {},
   "outputs": [
    {
     "data": {
      "text/plain": [
       "array([[ 1,  2,  3,  4,  5],\n",
       "       [ 2,  4,  6,  8, 10],\n",
       "       [ 3,  6,  9, 12, 15],\n",
       "       [ 4,  8, 12, 16, 20],\n",
       "       [ 5, 10, 15, 20, 25]])"
      ]
     },
     "execution_count": 9,
     "metadata": {},
     "output_type": "execute_result"
    }
   ],
   "source": [
    "x = np.arange(1,6)\n",
    "np.multiply.outer(x,x)"
   ]
  },
  {
   "cell_type": "markdown",
   "id": "b7d7072f-f23a-41ea-a7af-e735da6c1110",
   "metadata": {},
   "source": [
    "<p>2.7 节将介绍非常有用的 ufunc.at 和 ufunc.reduceat 方法。</p>"
   ]
  },
  {
   "cell_type": "markdown",
   "id": "1f652068-d3d8-4154-bf98-81e4d3ff1593",
   "metadata": {},
   "source": [
    "<p>通用函数另外一个非常有用的特性是它能操作不同大小和形状的数\n",
    "组，一组这样的操作被称为广播（broadcasting）。这个主题非常重\n",
    "要，我们将用一整节的内容介绍它（详情请参见 2.5 节）。\n",
    "</p>"
   ]
  },
  {
   "cell_type": "markdown",
   "id": "f6628abe-74b1-4588-bdd1-0916ccd39cdc",
   "metadata": {},
   "source": [
    "<h3>2.3.5 通用函数：更多的信息</h3>"
   ]
  },
  {
   "cell_type": "markdown",
   "id": "ebdf2f79-c65b-4dd5-a39a-20f673e52216",
   "metadata": {},
   "source": [
    "<p>有关通用函数的更多信息（包括可用的通用函数的完整列表）可以在\n",
    "NumPy（http://www.numpy.org）和 SciPy（http://www.scipy.org）文档\n",
    "的网站找到。\n",
    "前面的章节介绍过，可直接在 IPython 中通过导入相应的包，然后利用\n",
    "IPython 的 Tab 键补全和帮助（?）功能获取信息，详情请参见 1.2 节。</p>"
   ]
  },
  {
   "cell_type": "markdown",
   "id": "5c0ff155-4aa1-4d92-9dee-4a33b3913400",
   "metadata": {},
   "source": [
    "<h2>2.4 聚合：最小值、最大值和其他值</h2>"
   ]
  },
  {
   "cell_type": "markdown",
   "id": "1fa6165f-6958-42c0-bf85-8a0920de64a5",
   "metadata": {},
   "source": [
    "<p>当你面对大量的数据时，第一个步骤通常都是计算相关数据的概括统计\n",
    "值。最常用的概括统计值可能是均值和标准差，这两个值能让你分别概\n",
    "括出数据集中的“经典”值，但是其他一些形式的聚合也是非常有用的\n",
    "（如求和、乘积、中位数、最小值和最大值、分位数，等等）。\n",
    "NumPy 有非常快速的内置聚合函数可用于数组，我们将介绍其中的一\n",
    "些。</p>"
   ]
  },
  {
   "cell_type": "markdown",
   "id": "5f19696d-8aef-41df-94a5-956fd8de1911",
   "metadata": {},
   "source": [
    "<h3>2.4.1 数组值求和</h3>"
   ]
  },
  {
   "cell_type": "markdown",
   "id": "d1db77d0-d8fb-4b96-9dc2-77f6c4a7b11f",
   "metadata": {},
   "source": [
    "<p>先来看一个小例子，设想计算一个数组中所有元素的和。Python 本身可\n",
    "用内置的 sum 函数来实现：</p>"
   ]
  },
  {
   "cell_type": "code",
   "execution_count": 10,
   "id": "883594dc-e261-464d-aff2-ffaa2b5e3f0c",
   "metadata": {},
   "outputs": [
    {
     "data": {
      "text/plain": [
       "np.float64(49.405037985527805)"
      ]
     },
     "execution_count": 10,
     "metadata": {},
     "output_type": "execute_result"
    }
   ],
   "source": [
    "L = np.random.random(100)\n",
    "sum(L)"
   ]
  },
  {
   "cell_type": "markdown",
   "id": "c570f51c-e49a-47de-b699-d16ba9fa906d",
   "metadata": {},
   "source": [
    "<p>它的语法和 NumPy 的 sum 函数非常相似，并且在这个简单的例子中的\n",
    "结果也是一样的：</p>"
   ]
  },
  {
   "cell_type": "code",
   "execution_count": 11,
   "id": "a36a03be-9519-4d3d-88c6-0eb4f3904042",
   "metadata": {},
   "outputs": [
    {
     "data": {
      "text/plain": [
       "np.float64(49.4050379855278)"
      ]
     },
     "execution_count": 11,
     "metadata": {},
     "output_type": "execute_result"
    }
   ],
   "source": [
    "np.sum(L)"
   ]
  },
  {
   "cell_type": "markdown",
   "id": "f472f768-57e2-46f2-986c-c8e3b4fa6892",
   "metadata": {},
   "source": [
    "<p>但是，因为 NumPy 的 sum 函数在编译码中执行操作，所以 NumPy 的\n",
    "操作计算得更快一些：</p>"
   ]
  },
  {
   "cell_type": "code",
   "execution_count": 12,
   "id": "8f612e00-ceaa-43dc-91c3-751fe8ecf2a7",
   "metadata": {},
   "outputs": [
    {
     "name": "stdout",
     "output_type": "stream",
     "text": [
      "<class 'numpy.ndarray'>\n",
      "812 µs ± 46.7 µs per loop (mean ± std. dev. of 7 runs, 1,000 loops each)\n",
      "12.5 µs ± 582 ns per loop (mean ± std. dev. of 7 runs, 100,000 loops each)\n"
     ]
    }
   ],
   "source": [
    "big_array = np.random.rand(10000)\n",
    "print(type(big_array))\n",
    "%timeit sum(big_array)\n",
    "%timeit np.sum(big_array)"
   ]
  },
  {
   "cell_type": "markdown",
   "id": "93179ec6-660a-4667-9a0c-e104209ec1ba",
   "metadata": {},
   "source": [
    "<p>但是需要注意，sum 函数和 np.sum 函数并不等同，这有时会导致混\n",
    "淆。尤其是它们各自的可选参数都有不同的含义，np.sum 函数是知道\n",
    "数组的维度的，这一点将在接下来的部分讲解。\n",
    "</p>"
   ]
  },
  {
   "cell_type": "markdown",
   "id": "321279d9-b60a-4868-ac7d-7b2355ff21db",
   "metadata": {},
   "source": [
    "<h3>2.4.2 最小值和最大值</h3>"
   ]
  },
  {
   "cell_type": "markdown",
   "id": "1793182a-8f74-4b29-a00f-bc1fdea0b74b",
   "metadata": {},
   "source": [
    "<p>同样，Python 也有内置的 min 函数和 max 函数，分别被用于获取给定\n",
    "数组的最小值和最大值：</p>"
   ]
  },
  {
   "cell_type": "code",
   "execution_count": 13,
   "id": "fc8a7f34-1ffc-4077-8036-8a0c01ba14ee",
   "metadata": {},
   "outputs": [
    {
     "data": {
      "text/plain": [
       "(np.float64(0.0002444144900516365), np.float64(0.9999602914101566))"
      ]
     },
     "execution_count": 13,
     "metadata": {},
     "output_type": "execute_result"
    }
   ],
   "source": [
    "min(big_array),max(big_array)"
   ]
  },
  {
   "cell_type": "markdown",
   "id": "0f4e8133-d862-49d7-b32f-6c2e9cda3b2f",
   "metadata": {},
   "source": [
    "<p>NumPy 对应的函数也有类似的语法，并且也执行得更快：</p>"
   ]
  },
  {
   "cell_type": "code",
   "execution_count": 14,
   "id": "54a05ee1-7266-4556-8930-e40853976e10",
   "metadata": {},
   "outputs": [
    {
     "data": {
      "text/plain": [
       "(np.float64(0.0002444144900516365), np.float64(0.9999602914101566))"
      ]
     },
     "execution_count": 14,
     "metadata": {},
     "output_type": "execute_result"
    }
   ],
   "source": [
    "np.min(big_array),np.max(big_array)"
   ]
  },
  {
   "cell_type": "code",
   "execution_count": 15,
   "id": "aefe2a71-3b31-4373-b2df-ee3a58d9712f",
   "metadata": {},
   "outputs": [
    {
     "name": "stdout",
     "output_type": "stream",
     "text": [
      "562 µs ± 12.6 µs per loop (mean ± std. dev. of 7 runs, 1,000 loops each)\n",
      "9.99 µs ± 549 ns per loop (mean ± std. dev. of 7 runs, 100,000 loops each)\n"
     ]
    }
   ],
   "source": [
    "%timeit min(big_array)\n",
    "%timeit np.min(big_array)"
   ]
  },
  {
   "cell_type": "markdown",
   "id": "a515ea88-ee2b-410e-98bd-1f81ea3cbe2a",
   "metadata": {},
   "source": [
    "<p>对于 min、max、sum 和其他 NumPy 聚合，一种更简洁的语法形式是数\n",
    "组对象直接调用这些方法：</p>"
   ]
  },
  {
   "cell_type": "code",
   "execution_count": 16,
   "id": "66fa7781-06e4-402c-9e41-daeab6134a4e",
   "metadata": {},
   "outputs": [
    {
     "name": "stdout",
     "output_type": "stream",
     "text": [
      "0.0002444144900516365 0.9999602914101566 5038.139732987751\n"
     ]
    }
   ],
   "source": [
    " print(big_array.min(), big_array.max(), big_array.sum())"
   ]
  },
  {
   "cell_type": "markdown",
   "id": "fef4f610-cb16-4d50-985a-80666c32f6ec",
   "metadata": {},
   "source": [
    "<p>当你操作 NumPy 数组时，确保你执行的是 NumPy 版本的聚合。</p>"
   ]
  },
  {
   "cell_type": "markdown",
   "id": "f19c32ad-96a7-4ce9-9c96-ca1675b9939f",
   "metadata": {},
   "source": [
    "<h4>01. 多维度聚合</h4>"
   ]
  },
  {
   "cell_type": "markdown",
   "id": "47f59998-08ac-4745-b951-c597ecafc44a",
   "metadata": {},
   "source": [
    "<p>一种常用的聚合操作是沿着一行或一列聚合。例如，假设你有一些\n",
    "数据存储在二维数组中：</p>"
   ]
  },
  {
   "cell_type": "code",
   "execution_count": 17,
   "id": "41687b9b-0851-46dc-bb78-6b9cc865e6df",
   "metadata": {},
   "outputs": [],
   "source": [
    "M=np.random.random((3,4))"
   ]
  },
  {
   "cell_type": "code",
   "execution_count": 18,
   "id": "870bc926-b89b-4174-8479-c5837f595b66",
   "metadata": {},
   "outputs": [
    {
     "data": {
      "text/plain": [
       "array([[0.9901909 , 0.28834033, 0.75247781, 0.28228708],\n",
       "       [0.65559368, 0.24679452, 0.75511484, 0.3175497 ],\n",
       "       [0.15015649, 0.12632428, 0.09506843, 0.24257961]])"
      ]
     },
     "execution_count": 18,
     "metadata": {},
     "output_type": "execute_result"
    }
   ],
   "source": [
    "M"
   ]
  },
  {
   "cell_type": "markdown",
   "id": "eec13e2e-eca0-4ebd-befb-1f2cd9ee3b5b",
   "metadata": {},
   "source": [
    "<p>默认情况下，每一个 NumPy 聚合函数将会返回对整个数组的聚合\n",
    "结果：</p>"
   ]
  },
  {
   "cell_type": "code",
   "execution_count": 19,
   "id": "5e491ff8-a397-4d0f-bdaa-ac083dcebd8c",
   "metadata": {},
   "outputs": [
    {
     "data": {
      "text/plain": [
       "np.float64(4.902477660154875)"
      ]
     },
     "execution_count": 19,
     "metadata": {},
     "output_type": "execute_result"
    }
   ],
   "source": [
    "M.sum()"
   ]
  },
  {
   "cell_type": "markdown",
   "id": "0cbc399f-ed65-4a51-9c44-fbe1e450b7f6",
   "metadata": {},
   "source": [
    "<p>聚合函数还有一个参数，用于指定沿着哪个轴的方向进行聚合。例\n",
    "如，可以通过指定 axis=0 找到每一列的最小值：\n",
    "</p>"
   ]
  },
  {
   "cell_type": "code",
   "execution_count": 20,
   "id": "1be5fd24-2743-4f40-baae-dddb4627b65a",
   "metadata": {},
   "outputs": [
    {
     "data": {
      "text/plain": [
       "array([0.15015649, 0.12632428, 0.09506843, 0.24257961])"
      ]
     },
     "execution_count": 20,
     "metadata": {},
     "output_type": "execute_result"
    }
   ],
   "source": [
    "M.min(axis=0)"
   ]
  },
  {
   "cell_type": "markdown",
   "id": "922eacb6-7523-4e7c-921f-8463d47633df",
   "metadata": {},
   "source": [
    "<p>这个函数返回四个值，对应四列数字的计算值。同样，也可以找到\n",
    "每一行的最大值：</p>"
   ]
  },
  {
   "cell_type": "code",
   "execution_count": 21,
   "id": "0d0e106e-caf6-4772-abdf-f879deca0132",
   "metadata": {},
   "outputs": [
    {
     "data": {
      "text/plain": [
       "array([0.9901909 , 0.75511484, 0.24257961])"
      ]
     },
     "execution_count": 21,
     "metadata": {},
     "output_type": "execute_result"
    }
   ],
   "source": [
    "M.max(axis=1)"
   ]
  },
  {
   "cell_type": "markdown",
   "id": "ca4495e9-3042-4523-9f99-804ead041ed6",
   "metadata": {},
   "source": [
    "<p>其他语言的用户会对轴的指定方式比较困惑。axis 关键字指定的\n",
    "是数组将会被折叠的维度，而不是将要返回的维度。因此指定\n",
    "axis=0 意味着第一个轴将要被折叠——对于二维数组，这意味着\n",
    "每一列的值都将被聚合。</p>"
   ]
  },
  {
   "cell_type": "markdown",
   "id": "f9a504ea-4abb-4385-aa2d-ee7974166bdf",
   "metadata": {},
   "source": [
    "<h4>02. 其他聚合函数</h4>"
   ]
  },
  {
   "cell_type": "markdown",
   "id": "d0bc7c50-c4c5-43f2-88dc-c02e292acca2",
   "metadata": {},
   "source": [
    "<p>NumPy 提供了很多其他聚合函数，但是这里不会详细地介绍它\n",
    "们。另外，大多数的聚合都有对 NaN 值的安全处理策略（NaNsafe），即计算时忽略所有的缺失值，这些缺失值即特殊的 IEEE\n",
    "浮点型 NaN 值（关于缺失值更全面的介绍请参见 3.5 节）。有些\n",
    "NaN-safe 的函数直到 NumPy 1.8 版本才加进去，所以更早版本的\n",
    "NumPy 并不支持此功能。</p>"
   ]
  },
  {
   "cell_type": "markdown",
   "id": "1fe5434b-c119-44bd-8173-e1ea330935df",
   "metadata": {},
   "source": [
    "<p>表 2-3 提供了一个 NumPy 中可用的聚合函数的清单。</p>"
   ]
  },
  {
   "cell_type": "markdown",
   "id": "44c5f2be-49ff-49c9-b296-0f423a50e67a",
   "metadata": {},
   "source": [
    "<p>表2-3：NumPy中可用的聚合函数</p>"
   ]
  },
  {
   "cell_type": "markdown",
   "id": "599c520a-76d3-4284-ba3a-993cc667ba12",
   "metadata": {},
   "source": [
    "<img src='../imgs/可用聚合函数.png'>"
   ]
  },
  {
   "cell_type": "markdown",
   "id": "f5506e59-8427-4b36-832a-fae496f94ec6",
   "metadata": {},
   "source": [
    "<h3>2.4.3 示例：美国总统的身高是多少</h3>"
   ]
  },
  {
   "cell_type": "markdown",
   "id": "41a3603f-d444-4437-9d88-eb207f6a646f",
   "metadata": {},
   "source": [
    "<p>用 NumPy 的聚合功能来概括一组数据非常有用。这里举一个简单的例\n",
    "子——计算所有美国总统的身高。这个数据在 president_heights.csv 文件\n",
    "中，是一个简单的用逗号分隔的标签和值的列表：</p>"
   ]
  },
  {
   "cell_type": "markdown",
   "id": "82335412-b9eb-4666-b02a-aafa07c9ccf0",
   "metadata": {},
   "source": [
    "<p>我们将用 Pandas 包来读文件并抽取身高信息。（请注意，身高的计量\n",
    "单位是厘米。）第 3 章将更全面地介绍 Pandas：</p>"
   ]
  },
  {
   "cell_type": "code",
   "execution_count": 22,
   "id": "4e6dd6ef-71fb-4814-97c8-37f7b005a721",
   "metadata": {},
   "outputs": [],
   "source": [
    "import pandas as pd\n",
    "data = pd.read_csv('../data/president_heights.csv')\n",
    "height = np.array(data['height(cm)'])"
   ]
  },
  {
   "cell_type": "code",
   "execution_count": 23,
   "id": "487bebd5-73d3-469c-a5ee-f27f8778f890",
   "metadata": {},
   "outputs": [
    {
     "name": "stdout",
     "output_type": "stream",
     "text": [
      "[189 170 189 163 183 171 185 168 173 183 173 173 175 178 183 193 178 173\n",
      " 174 183 183 168 170 178 182 180 183 178 182 188 175 179 183 193 182 183\n",
      " 177 185 188 188 182 185 191 182]\n"
     ]
    }
   ],
   "source": [
    "print (height)"
   ]
  },
  {
   "cell_type": "markdown",
   "id": "d736e55c-cd98-49f2-a6a3-cf8d80b7ae9a",
   "metadata": {},
   "source": [
    "<p>有了这个数据数组后，就可以计算很多概括统计值了：</p>"
   ]
  },
  {
   "cell_type": "code",
   "execution_count": 24,
   "id": "08bf44b7-1806-4b43-a9f2-bbbbcdeb6522",
   "metadata": {},
   "outputs": [
    {
     "name": "stdout",
     "output_type": "stream",
     "text": [
      "Mean height:180.04545454545453\n",
      "standard deviation:6.983599441335736\n",
      "Minimum height:163\n",
      "Maximum height:193\n"
     ]
    }
   ],
   "source": [
    "print(f'Mean height:{height.mean()}')\n",
    "print(f'standard deviation:{height.std()}')\n",
    "print(f'Minimum height:{height.min()}')\n",
    "print(f'Maximum height:{height.max()}')"
   ]
  },
  {
   "cell_type": "markdown",
   "id": "e9daa654-1922-4e64-9e84-b1a26b888145",
   "metadata": {},
   "source": [
    "<p>请注意，在这个例子中，聚合操作将整个数组缩减到单个概括值，这个\n",
    "概括值给出了这些数值的分布信息。我们也可以计算分位数：</p>"
   ]
  },
  {
   "cell_type": "code",
   "execution_count": 25,
   "id": "5aed5f9c-171b-4eba-b461-8479d05e7822",
   "metadata": {},
   "outputs": [
    {
     "name": "stdout",
     "output_type": "stream",
     "text": [
      "25th percentile:174.75\n"
     ]
    }
   ],
   "source": [
    "print(f'25th percentile:{np.percentile(height,25)}')"
   ]
  },
  {
   "cell_type": "code",
   "execution_count": 26,
   "id": "deb6cafd-d776-4b51-91c2-f4b38be0c9e0",
   "metadata": {},
   "outputs": [
    {
     "name": "stdout",
     "output_type": "stream",
     "text": [
      "Median:182.0\n"
     ]
    }
   ],
   "source": [
    "print(f'Median:{np.median(height)}')"
   ]
  },
  {
   "cell_type": "code",
   "execution_count": 27,
   "id": "5dd15d44-14ac-47b3-8c8b-a3a7842a4893",
   "metadata": {},
   "outputs": [
    {
     "name": "stdout",
     "output_type": "stream",
     "text": [
      "75th percentile:183.5\n"
     ]
    }
   ],
   "source": [
    "print(f'75th percentile:{np.percentile(height,75)}')"
   ]
  },
  {
   "cell_type": "markdown",
   "id": "af9a3645-1559-44e5-bc8e-a6dc097843c5",
   "metadata": {},
   "source": [
    "<p>可以看到，美国总统的身高中位数是 182cm，或者说不到 6 英尺。</p>"
   ]
  },
  {
   "cell_type": "markdown",
   "id": "fd197faf-d466-44db-9c12-e2987ff2b086",
   "metadata": {},
   "source": [
    "<p>当然，有些时候将数据可视化更有用。这时可以先进行一个快速的可视\n",
    "化，通过 Matplotlib（第 4 章将详细讨论该工具）用以下代码创建图 2-\n",
    "3：\n",
    "</p>"
   ]
  },
  {
   "cell_type": "code",
   "execution_count": 28,
   "id": "8c7a06f2-b614-4327-a63a-107b6e8af7b1",
   "metadata": {},
   "outputs": [
    {
     "data": {
      "image/png": "[encoded data removed]",
      "text/plain": [
       "<Figure size 2000x800 with 1 Axes>"
      ]
     },
     "metadata": {},
     "output_type": "display_data"
    }
   ],
   "source": [
    "from pylab import mpl\n",
    "mpl.rcParams[\"font.sans-serif\"]=[\"SimHei\"]\n",
    "mpl.rcParams[\"axes.unicode_minus\"]=False\n",
    "from matplotlib import pyplot as plt\n",
    "plt.figure(figsize=(20,8),dpi=100)\n",
    "plt.hist(height)\n",
    "plt.title('美国总统身高分布直方图',fontsize=20,color='b')\n",
    "plt.xlabel('身高(cm)',fontsize=15)\n",
    "plt.ylabel('数字',fontsize=15)\n",
    "plt.grid(True,alpha=0.5,color='r',linestyle='--')\n",
    "plt.show()"
   ]
  },
  {
   "cell_type": "markdown",
   "id": "a6141521-cc82-438a-a3a8-bb9ef10427e1",
   "metadata": {},
   "source": [
    "<p>这些聚合是探索数据分析的一些最基本片段，本书后续的章节将进行更\n",
    "深入的介绍。</p>"
   ]
  },
  {
   "cell_type": "markdown",
   "id": "21efa644-4ba1-4abd-9d6c-ef14c3b24e21",
   "metadata": {},
   "source": [
    "<h2>2.5 数组的计算：广播</h2>"
   ]
  },
  {
   "cell_type": "markdown",
   "id": "e8b4a2cc-e82f-482c-999f-2a4309a7734b",
   "metadata": {},
   "source": [
    "<p>我们在前一节中介绍了 NumPy 如何通过通用函数的向量化操作来减少\n",
    "缓慢的 Python 循环，另外一种向量化操作的方法是利用 NumPy 的广播\n",
    "功能。广播可以简单理解为用于不同大小数组的二进制通用函数（加、\n",
    "减、乘等）的一组规则。\n",
    "</p>"
   ]
  },
  {
   "cell_type": "markdown",
   "id": "5c9f2e0e-a61c-4fb2-8a83-0362687b288e",
   "metadata": {},
   "source": [
    "<h3>2.5.1 广播的介绍</h3>"
   ]
  },
  {
   "cell_type": "markdown",
   "id": "38b969c4-d35f-4539-a1be-715b6d61f261",
   "metadata": {},
   "source": [
    "<p>前面曾提到，对于同样大小的数组，二进制操作是对相应元素逐个计\n",
    "算：\n",
    "</p>"
   ]
  },
  {
   "cell_type": "code",
   "execution_count": 29,
   "id": "7bc7c1af-f08e-497f-8706-267137ab6d2e",
   "metadata": {},
   "outputs": [
    {
     "data": {
      "text/plain": [
       "array([5, 6, 7])"
      ]
     },
     "execution_count": 29,
     "metadata": {},
     "output_type": "execute_result"
    }
   ],
   "source": [
    "a = np.array([0,1,2])\n",
    "b = np.array([5,5,5])\n",
    "a+b"
   ]
  },
  {
   "cell_type": "markdown",
   "id": "c352637c-1d57-40f1-909b-9392d8878565",
   "metadata": {},
   "source": [
    "<p>广播允许这些二进制操作可以用于不同大小的数组。例如，可以简单地\n",
    "将一个标量（可以认为是一个零维的数组）和一个数组相加：</p>"
   ]
  },
  {
   "cell_type": "code",
   "execution_count": 30,
   "id": "41508938-da81-4361-8553-2c10c224e559",
   "metadata": {},
   "outputs": [
    {
     "data": {
      "text/plain": [
       "array([5, 6, 7])"
      ]
     },
     "execution_count": 30,
     "metadata": {},
     "output_type": "execute_result"
    }
   ],
   "source": [
    "a+5"
   ]
  },
  {
   "cell_type": "markdown",
   "id": "a79e4381-cdd9-47c9-988a-a1a3bd3c05fc",
   "metadata": {},
   "source": [
    "<p>我们可以认为这个操作是将数值 5 扩展或重复至数组 [5, 5, 5]，然后\n",
    "执行加法。NumPy 广播功能的好处是，这种对值的重复实际上并没有\n",
    "发生，但是这是一种很好用的理解广播的模型。\n",
    "我们同样也可以将这个原理扩展到更高维度的数组。观察以下将一个一\n",
    "维数组和一个二维数组相加的结果：</p>"
   ]
  },
  {
   "cell_type": "code",
   "execution_count": 31,
   "id": "0074e848-440d-4f5b-b2f7-6b93d7e8eb5c",
   "metadata": {},
   "outputs": [
    {
     "data": {
      "text/plain": [
       "array([[1., 1., 1.],\n",
       "       [1., 1., 1.],\n",
       "       [1., 1., 1.]])"
      ]
     },
     "execution_count": 31,
     "metadata": {},
     "output_type": "execute_result"
    }
   ],
   "source": [
    "M = np.ones((3,3))\n",
    "M"
   ]
  },
  {
   "cell_type": "code",
   "execution_count": 32,
   "id": "8bbee80f-04c0-4867-b7b2-efa552ca6851",
   "metadata": {},
   "outputs": [
    {
     "data": {
      "text/plain": [
       "array([[1., 2., 3.],\n",
       "       [1., 2., 3.],\n",
       "       [1., 2., 3.]])"
      ]
     },
     "execution_count": 32,
     "metadata": {},
     "output_type": "execute_result"
    }
   ],
   "source": [
    "M+a"
   ]
  },
  {
   "cell_type": "markdown",
   "id": "8f40fcf0-5167-4f00-adc2-e2c5dc082a78",
   "metadata": {},
   "source": [
    "<p>这里这个一维数组就被扩展或者广播了。它沿着第二个维度扩展，扩展\n",
    "到匹配 M 数组的形状。<br>\n",
    "以上的这些例子理解起来都相对容易，更复杂的情况会涉及对两个数组\n",
    "的同时广播，例如以下示例：</p>"
   ]
  },
  {
   "cell_type": "code",
   "execution_count": 33,
   "id": "ca60a373-0766-4b13-b760-f00aae546365",
   "metadata": {},
   "outputs": [],
   "source": [
    "a = np.arange(3)\n",
    "b = np.arange(3)[:,np.newaxis]"
   ]
  },
  {
   "cell_type": "code",
   "execution_count": 34,
   "id": "33a89873-8552-4134-8276-7dd9916c66a6",
   "metadata": {},
   "outputs": [
    {
     "data": {
      "text/plain": [
       "array([0, 1, 2])"
      ]
     },
     "execution_count": 34,
     "metadata": {},
     "output_type": "execute_result"
    }
   ],
   "source": [
    "a"
   ]
  },
  {
   "cell_type": "code",
   "execution_count": 35,
   "id": "128f3e25-96c8-4ec6-a526-f62f0524bf7e",
   "metadata": {},
   "outputs": [
    {
     "data": {
      "text/plain": [
       "array([[0],\n",
       "       [1],\n",
       "       [2]])"
      ]
     },
     "execution_count": 35,
     "metadata": {},
     "output_type": "execute_result"
    }
   ],
   "source": [
    "b"
   ]
  },
  {
   "cell_type": "code",
   "execution_count": 36,
   "id": "8593fef1-3fab-404d-88ce-ffa5ee97b850",
   "metadata": {},
   "outputs": [
    {
     "data": {
      "text/plain": [
       "array([[0, 1, 2],\n",
       "       [1, 2, 3],\n",
       "       [2, 3, 4]])"
      ]
     },
     "execution_count": 36,
     "metadata": {},
     "output_type": "execute_result"
    }
   ],
   "source": [
    "a+b"
   ]
  },
  {
   "cell_type": "markdown",
   "id": "5515e133-bcef-4e7d-a5c1-7ef759b9c776",
   "metadata": {},
   "source": [
    "<p>正如此前将一个值扩展或广播以匹配另外一个数组的形状，这里将 a 和\n",
    "b 都进行了扩展来匹配一个公共的形状，最终的结果是一个二维数组。\n",
    "以上这些例子的几何可视化如图 2-4 所示。</p>"
   ]
  },
  {
   "cell_type": "markdown",
   "id": "82ac16b0-e99d-4f13-a511-eefb0b3ed640",
   "metadata": {},
   "source": [
    "<img src='../imgs/数组广播.png'>\n",
    "<img src='../imgs/数组广播可视化.png'>\n",
    "<h4 style=\"text-align:center;\">图2-4 NumPy广播的可视化</h4>"
   ]
  },
  {
   "cell_type": "markdown",
   "id": "5e17d1b4-539e-4f97-bb94-1b68f0e4b297",
   "metadata": {},
   "source": [
    "<p>浅色的盒子表示广播的值。同样需要注意的是，这个额外的内存并没有\n",
    "在实际操作中进行分配，但是这样的想象方式更方便我们从概念上理\n",
    "解。</p>"
   ]
  },
  {
   "cell_type": "markdown",
   "id": "526641ed-f982-496f-b94f-50091122de22",
   "metadata": {},
   "source": [
    "<h3>2.5.2 广播的规则</h3>"
   ]
  },
  {
   "cell_type": "markdown",
   "id": "0d6bea45-ad14-46a3-98cc-6a2e738e0ca7",
   "metadata": {},
   "source": [
    "<p>NumPy 的广播遵循一组严格的规则，设定这组规则是为了决定两个数\n",
    "组间的操作。</p>"
   ]
  },
  {
   "cell_type": "raw",
   "id": "d2e455d5-87ab-4f09-bb6c-4cb939a1c392",
   "metadata": {},
   "source": [
    "规则 1：如果两个数组的维度数不相同，那么小维度数组的形状将\n",
    "会在最左边补 1。\n",
    "规则 2：如果两个数组的形状在任何一个维度上都不匹配，那么数\n",
    "组的形状会沿着维度为 1 的维度扩展以匹配另外一个数组的形状。\n",
    "规则 3：如果两个数组的形状在任何一个维度上都不匹配并且没有\n",
    "任何一个维度等于 1，那么会引发异常。\n",
    "为了更清楚地理解这些规则，来看几个具体示例。"
   ]
  },
  {
   "cell_type": "markdown",
   "id": "a559a3cf-866a-40fc-abaa-65cac3000a1d",
   "metadata": {},
   "source": [
    "<h4>01. 广播示例1</h4>"
   ]
  },
  {
   "cell_type": "markdown",
   "id": "62e9d223-0141-4d78-88a9-c4400846306d",
   "metadata": {},
   "source": [
    "<p>将一个二维数组与一个一维数组相加：</p>"
   ]
  },
  {
   "cell_type": "code",
   "execution_count": 37,
   "id": "d7f908f6-c31e-4aa4-a224-7dff49f6481b",
   "metadata": {},
   "outputs": [],
   "source": [
    "M = np.ones((2,3))\n",
    "a = np.arange(3)"
   ]
  },
  {
   "cell_type": "code",
   "execution_count": 38,
   "id": "332ab126-8794-4c1d-a2cc-ed158a31c623",
   "metadata": {},
   "outputs": [
    {
     "data": {
      "text/plain": [
       "array([[1., 1., 1.],\n",
       "       [1., 1., 1.]])"
      ]
     },
     "execution_count": 38,
     "metadata": {},
     "output_type": "execute_result"
    }
   ],
   "source": [
    "M"
   ]
  },
  {
   "cell_type": "code",
   "execution_count": 39,
   "id": "4f392c0d-9404-489b-b61a-80f06fa1d2e3",
   "metadata": {},
   "outputs": [
    {
     "data": {
      "text/plain": [
       "array([0, 1, 2])"
      ]
     },
     "execution_count": 39,
     "metadata": {},
     "output_type": "execute_result"
    }
   ],
   "source": [
    "a"
   ]
  },
  {
   "cell_type": "markdown",
   "id": "bf69a62b-6ca3-467d-a4a3-41baaf385c48",
   "metadata": {},
   "source": [
    "<p>来看这两个数组的加法操作。两个数组的形状如下：</p>"
   ]
  },
  {
   "cell_type": "code",
   "execution_count": 40,
   "id": "34e5b57c-db56-4cad-9eea-1f95a52a438c",
   "metadata": {},
   "outputs": [],
   "source": [
    "M.shape = (2,3)\n",
    "a.shape = (3,)"
   ]
  },
  {
   "cell_type": "markdown",
   "id": "ca1bbd77-c6a5-4971-8bd9-86a1e572d193",
   "metadata": {},
   "source": [
    "<p>可以看到，根据规则 1，数组 a 的维度数更小，所以在其左边补1:</p>"
   ]
  },
  {
   "cell_type": "raw",
   "id": "5b87b340-f0a4-4a1a-8e44-63901cc118ea",
   "metadata": {},
   "source": [
    "M.shape -> (2,3)\n",
    "a.shape -> (1,3)"
   ]
  },
  {
   "cell_type": "markdown",
   "id": "921c73f0-b85a-4819-9eb4-f3ca59848b38",
   "metadata": {},
   "source": [
    "<p>根据规则 2，第一个维度不匹配，因此扩展这个维度以匹配数组：</p>"
   ]
  },
  {
   "cell_type": "raw",
   "id": "15ba2acb-95f6-47af-b631-480fee0f063f",
   "metadata": {},
   "source": [
    "M.shape -> (2, 3)\n",
    "a.shape -> (2, 3)"
   ]
  },
  {
   "cell_type": "markdown",
   "id": "2755a7cd-62e7-456b-9a5f-48089567a4bd",
   "metadata": {},
   "source": [
    "<p>现在两个数组的形状匹配了，可以看到它们的最终形状都为 (2,\n",
    "3)：</p>"
   ]
  },
  {
   "cell_type": "code",
   "execution_count": 41,
   "id": "9acd21b9-9427-4b3c-841d-277ee0878069",
   "metadata": {},
   "outputs": [
    {
     "data": {
      "text/plain": [
       "array([[1., 2., 3.],\n",
       "       [1., 2., 3.]])"
      ]
     },
     "execution_count": 41,
     "metadata": {},
     "output_type": "execute_result"
    }
   ],
   "source": [
    "M+a"
   ]
  },
  {
   "cell_type": "markdown",
   "id": "75e2a72b-39d4-493c-acf2-f55cff199c39",
   "metadata": {},
   "source": [
    "<h4>02 广播示例2</h4>"
   ]
  },
  {
   "cell_type": "markdown",
   "id": "86968960-6992-4cde-8bcf-ed824dd20142",
   "metadata": {},
   "source": [
    "<p>来看两个数组均需要广播的示例：</p>"
   ]
  },
  {
   "cell_type": "code",
   "execution_count": 42,
   "id": "36d9040b-7bc7-457d-878a-3bd12b767a94",
   "metadata": {},
   "outputs": [],
   "source": [
    "import numpy as np"
   ]
  },
  {
   "cell_type": "code",
   "execution_count": 43,
   "id": "f55d75e8-d1c1-4b3b-a266-997476ccdd2e",
   "metadata": {},
   "outputs": [],
   "source": [
    "a = np.arange(3).reshape((3,1))\n",
    "b = np.arange(3)"
   ]
  },
  {
   "cell_type": "markdown",
   "id": "e61dc25d-1cae-48b3-9c63-d2d8234006fa",
   "metadata": {},
   "source": [
    "<p>同样，首先写出两个数组的形状：</p>"
   ]
  },
  {
   "cell_type": "code",
   "execution_count": 44,
   "id": "2d52ef02-da88-48ea-b5f4-3a40c5dec5ad",
   "metadata": {},
   "outputs": [],
   "source": [
    "a.shape=(3,1)\n",
    "b.shape=(3,)"
   ]
  },
  {
   "cell_type": "markdown",
   "id": "e5d603e9-a1a8-423c-910a-33df7b775e44",
   "metadata": {},
   "source": [
    "<p>规则 1 告诉我们，需要用 1 将 b 的形状补全：\n",
    "</p>"
   ]
  },
  {
   "cell_type": "raw",
   "id": "b804d611-0610-4e52-b646-3075fbb15828",
   "metadata": {},
   "source": [
    "a.shape -> (3, 1)\n",
    "b.shape -> (1, 3)"
   ]
  },
  {
   "cell_type": "markdown",
   "id": "3f0cd42d-63af-4e63-ac2d-548e0fef4bf2",
   "metadata": {},
   "source": [
    "<p>规则 2 告诉我们，需要更新这两个数组的维度来相互匹配</p>"
   ]
  },
  {
   "cell_type": "raw",
   "id": "f8467e77-04ca-4249-aec3-ac39aeb10efe",
   "metadata": {},
   "source": [
    "a.shape -> (3, 3)\n",
    "b.shape -> (3, 3)"
   ]
  },
  {
   "cell_type": "markdown",
   "id": "3f74d8b1-75d7-4de6-b3fc-71cf3f9cc610",
   "metadata": {},
   "source": [
    "<p>因为结果匹配，所以这两个形状是兼容的，可以看到以下结果：</p>"
   ]
  },
  {
   "cell_type": "code",
   "execution_count": 45,
   "id": "461d9563-b9d0-4411-b91b-4ed830cc8743",
   "metadata": {},
   "outputs": [
    {
     "data": {
      "text/plain": [
       "array([[0, 1, 2],\n",
       "       [1, 2, 3],\n",
       "       [2, 3, 4]])"
      ]
     },
     "execution_count": 45,
     "metadata": {},
     "output_type": "execute_result"
    }
   ],
   "source": [
    "a+b"
   ]
  },
  {
   "cell_type": "markdown",
   "id": "75964887-fdc0-4593-a06f-52a3a824312b",
   "metadata": {},
   "source": [
    "<h4>03. 广播示例3</h4>"
   ]
  },
  {
   "cell_type": "markdown",
   "id": "452e7a44-5f55-46ef-a3c6-6557e577bbdf",
   "metadata": {},
   "source": [
    "<p>现在来看一个两个数组不兼容的示例：</p>"
   ]
  },
  {
   "cell_type": "code",
   "execution_count": 46,
   "id": "788ef8a8-6ce6-4955-8416-12493bacdb71",
   "metadata": {},
   "outputs": [],
   "source": [
    "M = np.ones((3,2))\n",
    "a = np.arange(3)"
   ]
  },
  {
   "cell_type": "markdown",
   "id": "f84f794a-c772-495b-9ca6-77cf730acfe7",
   "metadata": {},
   "source": [
    "<p>和第一个示例相比，这里有个微小的不同之处：矩阵 M 是转置的。\n",
    "那么这将如何影响计算呢？两个数组的形状如下：\n",
    "</p>"
   ]
  },
  {
   "cell_type": "code",
   "execution_count": 47,
   "id": "4637a581-74a2-4aa1-9a18-f4b11ac64b2b",
   "metadata": {},
   "outputs": [],
   "source": [
    "M.shape = (3,2)\n",
    "a.shape = (3,)"
   ]
  },
  {
   "cell_type": "markdown",
   "id": "28793302-1930-4c4a-a93e-c4d709c9fff1",
   "metadata": {},
   "source": [
    "<p>同样，规则 1 告诉我们，a 数组的形状必须用 1 进行补全：</p>"
   ]
  },
  {
   "cell_type": "raw",
   "id": "cddb9333-1816-429b-b910-a5618c9b0fb5",
   "metadata": {},
   "source": [
    "M.shape -> (3, 2)\n",
    "a.shape -> (1, 3)\n"
   ]
  },
  {
   "cell_type": "markdown",
   "id": "5fcd2b50-b29a-4d85-b5e2-9271d3cb12c0",
   "metadata": {},
   "source": [
    "<p>根据规则 2，a 数组的第一个维度进行扩展以匹配 M 的维度：\n",
    "</p>"
   ]
  },
  {
   "cell_type": "raw",
   "id": "dcd913f4-0e5c-4960-bcb0-0b0fd369cbb0",
   "metadata": {},
   "source": [
    "M.shape -> (3, 2)\n",
    "a.shape -> (1, 3)"
   ]
  },
  {
   "cell_type": "markdown",
   "id": "a22518f7-0d8b-4dbe-b494-fa3ef2643183",
   "metadata": {},
   "source": [
    "<p>根据规则 2，a 数组的第一个维度进行扩展以匹配 M 的维度：</p>"
   ]
  },
  {
   "cell_type": "raw",
   "id": "0209bce5-b4b9-4cd1-bbbe-a17f3be92286",
   "metadata": {},
   "source": [
    "M.shape -> (3, 2)\n",
    "a.shape -> (3, 3)"
   ]
  },
  {
   "cell_type": "markdown",
   "id": "b494dc8b-b2b7-456e-bc7e-f371acc11c26",
   "metadata": {},
   "source": [
    "<p>现在需要用到规则 3——最终的形状还是不匹配，因此这两个数组\n",
    "是不兼容的。当我们执行运算时会看到以下结果：\n",
    "</p>"
   ]
  },
  {
   "cell_type": "code",
   "execution_count": 48,
   "id": "5456404c-7b9d-417f-9987-6d5ebeec3043",
   "metadata": {},
   "outputs": [
    {
     "name": "stdout",
     "output_type": "stream",
     "text": [
      "operands could not be broadcast together with shapes (3,2) (3,) \n"
     ]
    }
   ],
   "source": [
    "try:\n",
    "    M+a\n",
    "except BaseException as e:\n",
    "    print(e)"
   ]
  },
  {
   "cell_type": "markdown",
   "id": "70055fef-e803-405e-9a28-0aa6dfcf8d39",
   "metadata": {},
   "source": [
    "<p>请注意，这里可能发生的混淆在于：你可能想通过在 a 数组的右边\n",
    "补 1，而不是左边补 1，让 a 和 M 的维度变得兼容。但是这不被广\n",
    "播的规则所允许。这种灵活性在有些情景中可能会有用，但是它可\n",
    "能会导致结果模糊。如果你希望实现右边补全，可以通过变形数组\n",
    "来实现（将会用到 np.newaxis 关键字，详情请参见 2.2 节）：</p>"
   ]
  },
  {
   "cell_type": "code",
   "execution_count": 49,
   "id": "095aea5f-a256-4960-9847-97dfcba6024f",
   "metadata": {},
   "outputs": [
    {
     "data": {
      "text/plain": [
       "(3, 1)"
      ]
     },
     "execution_count": 49,
     "metadata": {},
     "output_type": "execute_result"
    }
   ],
   "source": [
    "a[:,np.newaxis].shape"
   ]
  },
  {
   "cell_type": "code",
   "execution_count": 50,
   "id": "f7ecad13-6ff7-48fa-bcd1-941efac758e9",
   "metadata": {},
   "outputs": [
    {
     "data": {
      "text/plain": [
       "array([[1., 1.],\n",
       "       [1., 1.],\n",
       "       [1., 1.]])"
      ]
     },
     "execution_count": 50,
     "metadata": {},
     "output_type": "execute_result"
    }
   ],
   "source": [
    "M"
   ]
  },
  {
   "cell_type": "code",
   "execution_count": 51,
   "id": "9090bc6a-eca0-45cf-a98c-deade861015e",
   "metadata": {},
   "outputs": [
    {
     "data": {
      "text/plain": [
       "array([[1., 1.],\n",
       "       [2., 2.],\n",
       "       [3., 3.]])"
      ]
     },
     "execution_count": 51,
     "metadata": {},
     "output_type": "execute_result"
    }
   ],
   "source": [
    "M + a[:,np.newaxis]"
   ]
  },
  {
   "cell_type": "markdown",
   "id": "0811e4a8-6a0b-449b-96c8-350a99aa9570",
   "metadata": {},
   "source": [
    "<p>另外也需要注意，这里仅用到了 + 运算符，而这些广播规则对于任\n",
    "意二进制通用函数都是适用的。例如这里的 logaddexp(a, b) 函\n",
    "数，比起简单的方法，该函数计算 log(exp(a) + exp(b)) 更准\n",
    "确：</p>"
   ]
  },
  {
   "cell_type": "code",
   "execution_count": 52,
   "id": "b63e6c62-7050-497c-8f85-d2cd8e54dbc7",
   "metadata": {},
   "outputs": [
    {
     "data": {
      "text/plain": [
       "array([[1.31326169, 1.31326169],\n",
       "       [1.69314718, 1.69314718],\n",
       "       [2.31326169, 2.31326169]])"
      ]
     },
     "execution_count": 52,
     "metadata": {},
     "output_type": "execute_result"
    }
   ],
   "source": [
    "np.logaddexp(M,a[:,np.newaxis])"
   ]
  },
  {
   "cell_type": "markdown",
   "id": "31c41fc2-9326-41d9-85b1-1406a05f6510",
   "metadata": {},
   "source": [
    "<p>关于可用的通用函数的更多信息，请参见 2.3 节</p>"
   ]
  },
  {
   "cell_type": "markdown",
   "id": "d1e88485-f9d4-4a82-b7c2-9b77b726ed4f",
   "metadata": {},
   "source": [
    "<h3>2.5.3 广播的实际应用</h3>"
   ]
  },
  {
   "cell_type": "markdown",
   "id": "7e42b9da-7d4d-4877-a8b9-4e48203dbbe9",
   "metadata": {},
   "source": [
    "<p>广播操作是本书中很多例子的核心，我们将通过几个简单的示例来展示\n",
    "广播功能的作用。</p>"
   ]
  },
  {
   "cell_type": "markdown",
   "id": "b1f1c75d-7208-41c8-8dbc-50ef6c4e005f",
   "metadata": {},
   "source": [
    "<h4>01数组的归一化</h4>"
   ]
  },
  {
   "cell_type": "markdown",
   "id": "271292cc-0175-4dd5-9f8e-2c60e7d92404",
   "metadata": {},
   "source": [
    "<p>在前面的一节中，我们看到通用函数让 NumPy 用户免于写很慢的\n",
    "Python 循环。广播进一步扩展了这个功能，一个常见的例子就是数\n",
    "组数据的归一化。假设你有一个有 10 个观察值的数组，每个观察\n",
    "值包含 3 个数值。按照惯例（详情请参见 5.2 节），我们将用一个\n",
    "10×3 的数组存放该数据：</p>"
   ]
  },
  {
   "cell_type": "code",
   "execution_count": 53,
   "id": "84b12d57-d228-4a64-9733-189575f0b5b5",
   "metadata": {},
   "outputs": [],
   "source": [
    "X = np.random.random((10,3))"
   ]
  },
  {
   "cell_type": "markdown",
   "id": "6f7cba06-37ac-4d2e-aa93-db2b41e60d86",
   "metadata": {},
   "source": [
    "<p>我们可以计算每个特征的均值，计算方法是利用 mean 函数沿着第\n",
    "一个维度聚合：</p>"
   ]
  },
  {
   "cell_type": "code",
   "execution_count": 54,
   "id": "beca2034-ff9c-4900-95ee-a472e44709d0",
   "metadata": {},
   "outputs": [
    {
     "data": {
      "text/plain": [
       "array([0.42442728, 0.55197525, 0.56043888])"
      ]
     },
     "execution_count": 54,
     "metadata": {},
     "output_type": "execute_result"
    }
   ],
   "source": [
    "Xmean = X.mean(0)\n",
    "Xmean"
   ]
  },
  {
   "cell_type": "markdown",
   "id": "e1b61a43-1344-45e8-85d8-5861e9d23ae2",
   "metadata": {},
   "source": [
    "<p>现在通过从 X 数组的元素中减去这个均值实现归一化（该操作是一\n",
    "个广播操作）：</p>"
   ]
  },
  {
   "cell_type": "code",
   "execution_count": 55,
   "id": "6e2c4563-546d-413c-8d87-a4624dcbe925",
   "metadata": {},
   "outputs": [],
   "source": [
    "x_centered = X -Xmean"
   ]
  },
  {
   "cell_type": "markdown",
   "id": "3291c8ab-ee55-4486-8b78-98c75a3f729b",
   "metadata": {},
   "source": [
    "<p>为了进一步核对我们的处理是否正确，可以查看归一化的数组的均\n",
    "值是否接近 0：</p>"
   ]
  },
  {
   "cell_type": "code",
   "execution_count": 56,
   "id": "bc462910-88de-4bfd-89cd-0b2b2d295813",
   "metadata": {},
   "outputs": [
    {
     "data": {
      "text/plain": [
       "array([-3.33066907e-17,  1.11022302e-17,  5.55111512e-17])"
      ]
     },
     "execution_count": 56,
     "metadata": {},
     "output_type": "execute_result"
    }
   ],
   "source": [
    "x_centered.mean(0)"
   ]
  },
  {
   "cell_type": "markdown",
   "id": "c2ca0f62-3800-4e84-9320-140e85476650",
   "metadata": {},
   "source": [
    "<p>在机器精度范围内，该均值为 0。</p>"
   ]
  },
  {
   "cell_type": "markdown",
   "id": "e9dbf245-ae25-4629-bc00-420d27d939b3",
   "metadata": {},
   "source": [
    "<h4>02. 画一个二维函数</h4>"
   ]
  },
  {
   "cell_type": "markdown",
   "id": "5a759c44-f372-4ba2-9415-08932090e287",
   "metadata": {},
   "source": [
    "<p>广播另外一个非常有用的地方在于，它能基于二维函数显示图像。\n",
    "我们希望定义一个函数 z = f (x, y)，可以用广播沿着数值区间计算\n",
    "该函数：</p>"
   ]
  },
  {
   "cell_type": "code",
   "execution_count": 57,
   "id": "a2bbe5ed-d7eb-431a-9a02-feff60431c11",
   "metadata": {},
   "outputs": [],
   "source": [
    "# x和y表示0~5区间50个步长的序列\n",
    "x = np.linspace(0, 5, 50)\n",
    "y = np.linspace(0, 5, 50)[:, np.newaxis]\n",
    "z = np.sin(x)**10+np.cos(10+y*x)*np.cos(x)"
   ]
  },
  {
   "cell_type": "markdown",
   "id": "94444c96-2643-480a-8fc0-3f0d95689ae8",
   "metadata": {},
   "source": [
    "<p>我们将用 Matplotlib 来画出这个二维数组（这些工具将在 4.6 节中\n",
    "详细介绍）：</p>"
   ]
  },
  {
   "cell_type": "code",
   "execution_count": 58,
   "id": "7594898c-9809-4707-89f2-b9747331485b",
   "metadata": {},
   "outputs": [
    {
     "data": {
      "image/png": "[encoded data removed]",
      "text/plain": [
       "<Figure size 640x480 with 2 Axes>"
      ]
     },
     "metadata": {},
     "output_type": "display_data"
    }
   ],
   "source": [
    "from matplotlib import pyplot as plt\n",
    "plt.imshow(z,origin='lower',extent=[0,5,0,5],cmap='viridis')\n",
    "plt.colorbar();"
   ]
  },
  {
   "cell_type": "markdown",
   "id": "e310e8fa-7e13-490c-a08c-f7078eac16fc",
   "metadata": {},
   "source": [
    "<h2>2.6 比较、掩码和布尔逻辑</h2>"
   ]
  },
  {
   "cell_type": "markdown",
   "id": "215c3434-eb1c-431d-83b8-31def38e9fb7",
   "metadata": {},
   "source": [
    "<p>这一节将会介绍如何用布尔掩码来查看和操作 NumPy 数组中的值。当\n",
    "你想基于某些准则来抽取、修改、计数或对一个数组中的值进行其他操\n",
    "作时，掩码就可以派上用场了。例如你可能希望统计数组中有多少值大\n",
    "于某一个给定值，或者删除所有超出某些门限值的异常点。在 NumPy\n",
    "中，布尔掩码通常是完成这类任务的最高效方式。</p>"
   ]
  },
  {
   "cell_type": "markdown",
   "id": "cfdc6017-2f54-45e4-91e9-cbf9477a78ff",
   "metadata": {},
   "source": [
    "<h3>2.6.1 示例：统计下雨天数</h3>"
   ]
  },
  {
   "cell_type": "markdown",
   "id": "efc0fbd1-4ad1-42fe-990c-aa19e7b8244a",
   "metadata": {},
   "source": [
    "<p>假设你有一系列表示某城市一年内日降水量的数据，这里将用\n",
    "Pandas（将在第 3 章详细介绍）加载 2014 年西雅图市的日降水统计数\n",
    "据：\n",
    "</p>"
   ]
  },
  {
   "cell_type": "code",
   "execution_count": 59,
   "id": "8205515a-c69b-49bc-8b0e-49a59da05462",
   "metadata": {},
   "outputs": [],
   "source": [
    "import pandas as pd\n",
    "# 利用Pandas抽取降雨量，放入一个NumPy数组\n",
    "rainfall = pd.read_csv('../data/Seattle2014.csv')['PRCP'].values"
   ]
  },
  {
   "cell_type": "code",
   "execution_count": 60,
   "id": "e350f8ef-bbf2-4464-bb28-cae4c944dd8a",
   "metadata": {},
   "outputs": [
    {
     "data": {
      "text/plain": [
       "(365,)"
      ]
     },
     "execution_count": 60,
     "metadata": {},
     "output_type": "execute_result"
    }
   ],
   "source": [
    "inches = rainfall/254 #1/10mm\n",
    "inches.shape"
   ]
  },
  {
   "cell_type": "markdown",
   "id": "416336bf-3f95-4f37-9012-493830e616a8",
   "metadata": {},
   "source": [
    "<p>这个数组包含 365 个值，给出了从 2014 年 1 月 1 日至 2014 年 12 月 31\n",
    "日每天的降水量。这里降水量的单位是英寸。</p>"
   ]
  },
  {
   "cell_type": "markdown",
   "id": "42f4ebd2-29ac-4a08-af9e-124feb3cce4e",
   "metadata": {},
   "source": [
    "<p>首先做一个快速的可视化，用 Matplotlib（将在第 4 章详细讨论该工\n",
    "具）生成下雨天数的直方图，如图 2-6 所示：</p>"
   ]
  },
  {
   "cell_type": "code",
   "execution_count": 61,
   "id": "0d6eedac-8398-4ee9-aa70-ef2a082a3701",
   "metadata": {},
   "outputs": [
    {
     "data": {
      "image/png": "[encoded data removed]",
      "text/plain": [
       "<Figure size 1000x800 with 1 Axes>"
      ]
     },
     "metadata": {},
     "output_type": "display_data"
    }
   ],
   "source": [
    "plt.figure(figsize=(10,8),dpi=100)\n",
    "plt.grid('True',linestyle='--',color='g')\n",
    "plt.hist(inches,bins=40)\n",
    "plt.show()"
   ]
  },
  {
   "cell_type": "markdown",
   "id": "bed8bc66-6e3b-4ba0-b1a7-93cebf9366e9",
   "metadata": {},
   "source": [
    "<p>该直方图表明了这些数据的大意：尽管人们对西雅图市有刻板印象，但\n",
    "是 2014 年它大多\n",
    "数时间的降水量都是接近 0 的。但是这样做并没有很好地传递出我们希\n",
    "望看到的某些信息，例如一年中有多少天在下雨，这些下雨天的平均降\n",
    "水量是多少，有多少天的降水量超过了半英寸？</p>"
   ]
  },
  {
   "cell_type": "markdown",
   "id": "05cb1e45-1ecf-4ccb-bdc9-7b078a6f09db",
   "metadata": {},
   "source": [
    "<h4>深入数据</h4>"
   ]
  },
  {
   "cell_type": "markdown",
   "id": "7a244fd1-399a-4363-9da1-a4b47c487eb4",
   "metadata": {},
   "source": [
    "<p>回答以上问题的一种方法是通过传统的统计方式，即对所有数据循环，\n",
    "当碰到数据落在我们希望的区间时计数器便加 1。这种方法在本章节中\n",
    "多次讨论过，但无论从编写代码的角度看，还是从计算结果的角度看，\n",
    "这都是一种浪费时间、非常低效的方法。我们从 2.3 节中了解到，\n",
    "NumPy 的通用函数可以用来替代循环，以快速实现数组的逐元素\n",
    "（element-wise）运算。同样，我们也可以用其他通用函数实现数组的\n",
    "逐元素比较，然后利用计算结果回答之前提出的问题。先将数据放在一\n",
    "边，来介绍一下 NumPy 中有哪些用掩码来快速回答这类问题的通用工\n",
    "具。</p>"
   ]
  },
  {
   "cell_type": "markdown",
   "id": "475cdd2d-aa31-4b58-bf69-555917863073",
   "metadata": {},
   "source": [
    "<h3>2.6.2 和通用函数类似的比较操作</h3>"
   ]
  },
  {
   "cell_type": "markdown",
   "id": "52e00764-9b73-4dee-9534-f663ea937ed7",
   "metadata": {},
   "source": [
    "<p>2.3 节介绍了通用函数，并且特别关注了算术运算符。我们看到用<br>\n",
    "+、-、*、/ 和其他一些运算符实现了数组的逐元素操作。NumPy 还实<br>\n",
    "现了如 <（小于）和 >（大于）的逐元素比较的通用函数。这些比较运<br>\n",
    "算的结果是一个布尔数据类型的数组。一共有 6 种标准的比较操作：</p>"
   ]
  },
  {
   "cell_type": "markdown",
   "id": "bbdabba2-37f5-46dd-b842-bc87c87694ee",
   "metadata": {},
   "source": [
    "<img src='../imgs/比较操作.png'>"
   ]
  },
  {
   "cell_type": "markdown",
   "id": "cd504874-7086-4177-8fe4-8402aea4e437",
   "metadata": {},
   "source": [
    "<p>另外，利用复合表达式实现对两个数组的逐元素比较也是可行的</p>"
   ]
  },
  {
   "cell_type": "code",
   "execution_count": 62,
   "id": "5ce21562-d7e9-43c7-8c79-2f296472bfd4",
   "metadata": {},
   "outputs": [
    {
     "data": {
      "text/plain": [
       "array([False,  True, False, False, False])"
      ]
     },
     "execution_count": 62,
     "metadata": {},
     "output_type": "execute_result"
    }
   ],
   "source": [
    "x = np.array([1,2,3,4,5])\n",
    "(2*x) == (x**2)"
   ]
  },
  {
   "cell_type": "markdown",
   "id": "d9dd3992-21b0-4495-9bd2-db46fcdd3046",
   "metadata": {},
   "source": [
    "<p>和算术运算符一样，比较运算操作在 NumPy 中也是借助通用函数来实\n",
    "现的。例如当你写 x < 3 时，NumPy 内部会使用 np.less(x, 3)。这\n",
    "些比较运算符和其对应的通用函数如下表所示。\n",
    "</p>"
   ]
  },
  {
   "cell_type": "markdown",
   "id": "a8e8cae1-8051-423e-a54e-f2676a9c6a4d",
   "metadata": {},
   "source": [
    "<table>\n",
    "    <tr>\n",
    "        <th>运算符</th>\n",
    "        <th>对应的通用函数</th>\n",
    "    </tr>\n",
    "    <tr>\n",
    "        <td>==</td>\n",
    "        <td>np.equal</td>\n",
    "    </tr>\n",
    "    <tr>\n",
    "        <td>!=</td>\n",
    "        <td>np.not_equal</td>\n",
    "    </tr>\n",
    "    <tr>\n",
    "        <td>&lt;</td>\n",
    "        <td>np.less</td>\n",
    "    </tr>\n",
    "    <tr>\n",
    "        <td>&lt;=</td>\n",
    "        <td>np.less_equal</td>\n",
    "    </tr>\n",
    "    <tr>\n",
    "        <td>&gt;</td>\n",
    "        <td>np.greater</td>\n",
    "    </tr>\n",
    "    <tr>\n",
    "        <td>&gt;=</td>\n",
    "        <td>np.greater_equal</td>\n",
    "    </tr>\n",
    "</table>"
   ]
  },
  {
   "cell_type": "markdown",
   "id": "51278163-009a-47ad-9d1d-8ec8f0ccdf1d",
   "metadata": {},
   "source": [
    "<p>和算术运算通用函数一样，这些比较运算通用函数也可以用于任意形\n",
    "状、大小的数组。下面是一个二维数组的示例：</p>"
   ]
  },
  {
   "cell_type": "code",
   "execution_count": 63,
   "id": "b6858cee-d821-4fb9-96f6-7ea092666aff",
   "metadata": {},
   "outputs": [
    {
     "data": {
      "text/plain": [
       "array([[5, 0, 3, 3],\n",
       "       [7, 9, 3, 5],\n",
       "       [2, 4, 7, 6]], dtype=int32)"
      ]
     },
     "execution_count": 63,
     "metadata": {},
     "output_type": "execute_result"
    }
   ],
   "source": [
    "rng = np.random.RandomState(0)\n",
    "x = rng.randint(10,size=(3,4)) #生成从0-10的整数,组成3行四列的二维数组\n",
    "x"
   ]
  },
  {
   "cell_type": "code",
   "execution_count": 64,
   "id": "d2d82130-67af-47d9-a955-a38f3bbf22c9",
   "metadata": {},
   "outputs": [
    {
     "data": {
      "text/plain": [
       "array([[ True,  True,  True,  True],\n",
       "       [False, False,  True,  True],\n",
       "       [ True,  True, False, False]])"
      ]
     },
     "execution_count": 64,
     "metadata": {},
     "output_type": "execute_result"
    }
   ],
   "source": [
    "x<6"
   ]
  },
  {
   "cell_type": "markdown",
   "id": "64a5222b-d1c4-4ae7-a5cc-7fb45993021e",
   "metadata": {},
   "source": [
    "<p>这样每次计算的结果都是布尔数组了。NumPy 提供了一些简明的模式\n",
    "来操作这些布尔结果。</p>"
   ]
  },
  {
   "cell_type": "markdown",
   "id": "ceb648a2-a8aa-4c24-84fb-7e879fa00c67",
   "metadata": {},
   "source": [
    "<h3>2.6.3 操作布尔数组</h3>"
   ]
  },
  {
   "cell_type": "markdown",
   "id": "113142bd-7735-44b8-a5b9-0b68b40319a1",
   "metadata": {},
   "source": [
    "<p>给定一个布尔数组，你可以实现很多有用的操作。首先打印出此前生成\n",
    "的二维数组 x：</p>"
   ]
  },
  {
   "cell_type": "code",
   "execution_count": 65,
   "id": "aa753e5d-df58-4a6a-925c-faa2e90972a4",
   "metadata": {},
   "outputs": [
    {
     "name": "stdout",
     "output_type": "stream",
     "text": [
      "[[5 0 3 3]\n",
      " [7 9 3 5]\n",
      " [2 4 7 6]]\n"
     ]
    }
   ],
   "source": [
    "print(x)"
   ]
  },
  {
   "cell_type": "markdown",
   "id": "5fb8b59f-d82f-4e47-a3c9-e3f100b0fa0e",
   "metadata": {},
   "source": [
    "<h4>01. 统计记录的个数</h4>"
   ]
  },
  {
   "cell_type": "markdown",
   "id": "de9052a2-59ea-40ba-b127-a89030bdb293",
   "metadata": {},
   "source": [
    "<p>如果需要统计布尔数组中 True 记录的个数，可以使用\n",
    "np.count_nonzero 函数：</p>"
   ]
  },
  {
   "cell_type": "code",
   "execution_count": 66,
   "id": "7454ec80-1b05-4ba0-b8bf-b2f7a391b212",
   "metadata": {},
   "outputs": [
    {
     "data": {
      "text/plain": [
       "8"
      ]
     },
     "execution_count": 66,
     "metadata": {},
     "output_type": "execute_result"
    }
   ],
   "source": [
    "#有多少值小于6?\n",
    "np.count_nonzero(x<6)"
   ]
  },
  {
   "cell_type": "raw",
   "id": "47e48acd-b663-4f42-bf7e-89d7879656e7",
   "metadata": {},
   "source": [
    "我们看到有 8 个数组记录是小于 6 的。另外一种实现方式是利用\n",
    "np.sum。在这个例子中，False 会被解释成 0，True 会被解释成\n",
    "1："
   ]
  },
  {
   "cell_type": "markdown",
   "id": "238c5c16-f4fd-4262-8e22-4a8b156861e2",
   "metadata": {},
   "source": [
    "<p>sum() 的好处是，和其他 NumPy 聚合函数一样，这个求和也可以\n",
    "沿着行或列进行：</p>"
   ]
  },
  {
   "cell_type": "code",
   "execution_count": 67,
   "id": "19a10bbd-5ef1-43cf-a0de-07e48fbb8842",
   "metadata": {},
   "outputs": [
    {
     "data": {
      "text/plain": [
       "array([4, 2, 2])"
      ]
     },
     "execution_count": 67,
     "metadata": {},
     "output_type": "execute_result"
    }
   ],
   "source": [
    "# 每行有多少值小于6\n",
    "np.sum(x<6,axis=1)"
   ]
  },
  {
   "cell_type": "raw",
   "id": "3c707658-9af3-436d-b906-5bd1986a7dba",
   "metadata": {},
   "source": [
    "这是矩阵中每一行小于 6 的个数。\n",
    "如要快速检查任意或者所有这些值是否为 True，可以用（你一定\n",
    "猜到了）np.any() 或 np.all()："
   ]
  },
  {
   "cell_type": "code",
   "execution_count": 68,
   "id": "6bddb36b-9be0-4bc8-92fb-841d0187cd26",
   "metadata": {},
   "outputs": [
    {
     "data": {
      "text/plain": [
       "np.True_"
      ]
     },
     "execution_count": 68,
     "metadata": {},
     "output_type": "execute_result"
    }
   ],
   "source": [
    "# 有没有值8\n",
    "np.any(x>8)"
   ]
  },
  {
   "cell_type": "code",
   "execution_count": 69,
   "id": "0daf4109-12de-4f1c-bcfa-5da4157409bc",
   "metadata": {},
   "outputs": [
    {
     "data": {
      "text/plain": [
       "np.False_"
      ]
     },
     "execution_count": 69,
     "metadata": {},
     "output_type": "execute_result"
    }
   ],
   "source": [
    "#有没有值小于0\n",
    "np.any(x<0)"
   ]
  },
  {
   "cell_type": "code",
   "execution_count": 70,
   "id": "04a8963d-0576-4af6-bffa-dbe792bb1f97",
   "metadata": {},
   "outputs": [
    {
     "data": {
      "text/plain": [
       "np.True_"
      ]
     },
     "execution_count": 70,
     "metadata": {},
     "output_type": "execute_result"
    }
   ],
   "source": [
    "# 是否所有值都小于10？\n",
    "np.all(x<10)"
   ]
  },
  {
   "cell_type": "code",
   "execution_count": 71,
   "id": "92dfe1ed-3e03-452b-af57-be4455ef9960",
   "metadata": {},
   "outputs": [
    {
     "data": {
      "text/plain": [
       "np.False_"
      ]
     },
     "execution_count": 71,
     "metadata": {},
     "output_type": "execute_result"
    }
   ],
   "source": [
    "# 是否所有值都等于6\n",
    "np.all(x==6)"
   ]
  },
  {
   "cell_type": "raw",
   "id": "eeff1246-3e7d-4a25-b33c-50d89faea6d6",
   "metadata": {},
   "source": [
    "np.all() 和n p.any() 也可以用于沿着特定的坐标轴，例如："
   ]
  },
  {
   "cell_type": "code",
   "execution_count": 72,
   "id": "089d5e78-ac8e-4551-b126-9734f5b6b24d",
   "metadata": {},
   "outputs": [
    {
     "data": {
      "text/plain": [
       "array([ True, False,  True])"
      ]
     },
     "execution_count": 72,
     "metadata": {},
     "output_type": "execute_result"
    }
   ],
   "source": [
    "# 是否每行的所有值都小于8\n",
    "np.all(x<8,axis=1)"
   ]
  },
  {
   "cell_type": "raw",
   "id": "d6d2e782-0979-4c5b-b1a7-64b74912d805",
   "metadata": {},
   "source": [
    "是否每列的所有值都小于8"
   ]
  },
  {
   "cell_type": "code",
   "execution_count": 73,
   "id": "fa99b9e5-25f2-4300-9d4c-53ba151890d8",
   "metadata": {},
   "outputs": [
    {
     "data": {
      "text/plain": [
       "array([ True, False,  True,  True])"
      ]
     },
     "execution_count": 73,
     "metadata": {},
     "output_type": "execute_result"
    }
   ],
   "source": [
    "np.all(x<8,axis=0)"
   ]
  },
  {
   "cell_type": "raw",
   "id": "3396ba84-818c-49ce-abbc-2c3315a870ae",
   "metadata": {},
   "source": [
    "最后需要提醒的是，正如在 2.4 节中提到的，Python 有内置的\n",
    "sum()、any() 和 all() 函数，这些函数在 NumPy 中有不同的语\n",
    "法版本。如果在多维数组上混用这两个版本，会导致失败或产生不\n",
    "可预知的错误结果。因此，确保在以上的示例中用的都是\n",
    "np.sum()、np.any() 和 np.all() 函数。"
   ]
  },
  {
   "cell_type": "markdown",
   "id": "e3f57576-da60-4984-acec-b80860decaa4",
   "metadata": {},
   "source": [
    "<h4>02. 布尔运算符</h4>"
   ]
  },
  {
   "cell_type": "raw",
   "id": "eb1a360c-8a9e-4f2a-9aa1-7261d8e76b5c",
   "metadata": {},
   "source": [
    "我们已经看到该如何统计所有降水量小于 4 英寸或者大于 2 英寸的\n",
    "天数，但是如果我们想统计降水量小于 4 英寸且大于 2 英寸的天数\n",
    "该如何操作呢？这可以通过 Python 的逐位逻辑运算符（bitwise\n",
    "logic operator）&、|、^ 和 ~ 来实现。同标准的算术运算符一样，\n",
    "NumPy 用通用函数重载了这些逻辑运算符，这样可以实现数组的\n",
    "逐位运算（通常是布尔运算）。\n",
    "例如，可以写如下的复合表达式："
   ]
  },
  {
   "cell_type": "code",
   "execution_count": 74,
   "id": "985914bc-8a43-4f7c-a731-cd98eea87cf9",
   "metadata": {},
   "outputs": [
    {
     "data": {
      "text/plain": [
       "np.int64(29)"
      ]
     },
     "execution_count": 74,
     "metadata": {},
     "output_type": "execute_result"
    }
   ],
   "source": [
    "np.sum((inches>0.5) & (inches < 1))"
   ]
  },
  {
   "cell_type": "raw",
   "id": "74d9a7b5-e0d8-4f02-b664-2e059ce137b7",
   "metadata": {},
   "source": [
    "可以看到，降水量在 0.5 英寸~1 英寸间的天数是 29 天。\n",
    "请注意，这些括号是非常重要的，因为有运算优先级规则。如果去\n",
    "掉这些括号，该表达式会变成以下形式，这会导致运行错误："
   ]
  },
  {
   "cell_type": "raw",
   "id": "d7b97d0a-d2c6-43b3-be29-24ec490f779d",
   "metadata": {},
   "source": [
    "inches > (0.5 & inches) < 1\n"
   ]
  },
  {
   "cell_type": "raw",
   "id": "cb3de2cb-be76-47d2-9a00-6825083286d0",
   "metadata": {},
   "source": [
    "利用 A AND B 和 NOT (A OR B) 的等价原理（你应该在基础逻辑\n",
    "课程中学习过），可以用另外一种形式实现同样的结果：\n",
    "其中~代表的就是非（not）"
   ]
  },
  {
   "cell_type": "code",
   "execution_count": 75,
   "id": "aa4ad98c-717b-435b-9a10-aff2e8f6f98d",
   "metadata": {},
   "outputs": [
    {
     "data": {
      "text/plain": [
       "np.int64(29)"
      ]
     },
     "execution_count": 75,
     "metadata": {},
     "output_type": "execute_result"
    }
   ],
   "source": [
    "np.sum(~((inches <= 0.5)|(inches>=1)))"
   ]
  },
  {
   "cell_type": "markdown",
   "id": "07198e8c-32a5-41dc-8605-c422ea40b6cc",
   "metadata": {},
   "source": [
    "<p>将比较运算符和布尔运算符合并起来用在数组上，可以实现更多有\n",
    "效的逻辑运算操作。</p>"
   ]
  },
  {
   "cell_type": "markdown",
   "id": "8849844f-e19b-4c95-8604-fa146cae6c4a",
   "metadata": {},
   "source": [
    "<p>以下表格总结了逐位的布尔运算符和其对应的通用函数</p>"
   ]
  },
  {
   "cell_type": "markdown",
   "id": "36f07891-4a1a-49c3-8409-be9188574bf7",
   "metadata": {},
   "source": [
    "<img src='../imgs/布尔运算符.png'>"
   ]
  },
  {
   "cell_type": "raw",
   "id": "cc4d5732-59a0-4f9e-a0e2-bc91613a9e0e",
   "metadata": {},
   "source": [
    "利用这些工具，就可以回答那些关于天气数据的问题了。以下的示\n",
    "例是结合使用掩码和聚合实现的结果计算："
   ]
  },
  {
   "cell_type": "code",
   "execution_count": 76,
   "id": "67b04794-e797-487b-8117-a5b2b191a64c",
   "metadata": {},
   "outputs": [
    {
     "name": "stdout",
     "output_type": "stream",
     "text": [
      "不下雨的天数215\n",
      "下雨的天数150\n",
      "降水量大于0.5英尺的天数37\n",
      "降水量小于0.1英尺的天数75\n"
     ]
    }
   ],
   "source": [
    "print(f'不下雨的天数{np.sum(inches == 0)}')\n",
    "print(f'下雨的天数{np.sum(inches!=0)}')\n",
    "print(f'降水量大于0.5英尺的天数{np.sum(inches>0.5)}')\n",
    "print(f'降水量小于0.1英尺的天数{np.sum((inches>0)&(inches<0.2))}')"
   ]
  },
  {
   "cell_type": "markdown",
   "id": "b28dfe72-dc34-4e56-aca9-6a5e6cb60b5d",
   "metadata": {},
   "source": [
    "<h3>2.6.4 将布尔数组作为掩码</h3>"
   ]
  },
  {
   "cell_type": "markdown",
   "id": "49c493c7-acdd-497e-af33-e2dda80f6f26",
   "metadata": {},
   "source": [
    "<p>在前面的小节中，我们看到了如何直接对布尔数组进行聚合计算。一种\n",
    "更强大的模式是使用布尔数组作为掩码，通过该掩码选择数据的子数据\n",
    "集。以前面小节用过的 x 数组为例，假设我们希望抽取出数组中所有小\n",
    "于 5 的元素：\n",
    "</p>"
   ]
  },
  {
   "cell_type": "code",
   "execution_count": 77,
   "id": "5af3c7e4-3504-4300-bb6f-d026971f231e",
   "metadata": {},
   "outputs": [],
   "source": [
    "import numpy as np"
   ]
  },
  {
   "cell_type": "code",
   "execution_count": 78,
   "id": "11306bd1-7851-4322-878e-ac08a51fce48",
   "metadata": {},
   "outputs": [
    {
     "data": {
      "text/plain": [
       "array([[5, 0, 3, 3],\n",
       "       [7, 9, 3, 5],\n",
       "       [2, 4, 7, 6]], dtype=int32)"
      ]
     },
     "execution_count": 78,
     "metadata": {},
     "output_type": "execute_result"
    }
   ],
   "source": [
    "x"
   ]
  },
  {
   "cell_type": "code",
   "execution_count": 79,
   "id": "5064b9e7-d908-4f25-9d1a-fe6f9bfababc",
   "metadata": {},
   "outputs": [
    {
     "data": {
      "text/plain": [
       "array([[False,  True,  True,  True],\n",
       "       [False, False,  True, False],\n",
       "       [ True,  True, False, False]])"
      ]
     },
     "execution_count": 79,
     "metadata": {},
     "output_type": "execute_result"
    }
   ],
   "source": [
    "x<5"
   ]
  },
  {
   "cell_type": "raw",
   "id": "7ff68fe7-4ebf-4cb7-a0f6-c39526669d00",
   "metadata": {},
   "source": [
    "现在为了将这些值从数组中选出，可以进行简单的索引，即掩码操作："
   ]
  },
  {
   "cell_type": "code",
   "execution_count": 80,
   "id": "95e91846-44d4-4ece-990b-929b9380e9b8",
   "metadata": {},
   "outputs": [
    {
     "data": {
      "text/plain": [
       "array([0, 3, 3, 3, 2, 4], dtype=int32)"
      ]
     },
     "execution_count": 80,
     "metadata": {},
     "output_type": "execute_result"
    }
   ],
   "source": [
    "x[x<5]"
   ]
  },
  {
   "cell_type": "raw",
   "id": "3fc5d30c-e152-463d-9384-7f20646f1524",
   "metadata": {},
   "source": [
    "现在返回的是一个一维数组，它包含了所有满足条件的值。换句话说，\n",
    "所有的这些值是掩码数组对应位置为 True 的值。"
   ]
  },
  {
   "cell_type": "raw",
   "id": "e2b8c0fc-16a5-4a64-852b-ccaa867f62b7",
   "metadata": {},
   "source": [
    "现在，可以对这些值做任意操作，例如可以根据西雅图降水数据进行一\n",
    "些相关统计："
   ]
  },
  {
   "cell_type": "code",
   "execution_count": 81,
   "id": "0b057140-19df-488b-b5a1-f6003ac6be70",
   "metadata": {},
   "outputs": [],
   "source": [
    "# 为所有下雨天都创建一个掩码\n",
    "rainy = (inches>0)\n",
    "# 构建一个包含整个夏季日期的掩码（6月21日是第172天）\n",
    "summer = (np.arange(365)-172 < 90) & (np.arange(365) - 172 > 0)"
   ]
  },
  {
   "cell_type": "code",
   "execution_count": 82,
   "id": "84a47cd2-7b2e-4abf-a04d-d93218997052",
   "metadata": {},
   "outputs": [
    {
     "name": "stdout",
     "output_type": "stream",
     "text": [
      "Median precip on rainy days in 2014 (inches):  0.19488188976377951\n",
      "Median precip on summer days in 2014 (inches):  0.0\n",
      "Maximum precip on summer days in 2014 (inches):  0.8503937007874016\n",
      "Median precip on non-summer rainy days (inches): 0.20078740157480315\n"
     ]
    }
   ],
   "source": [
    "print(\"Median precip on rainy days in 2014 (inches): \",\n",
    "np.median(inches[rainy]))\n",
    "print(\"Median precip on summer days in 2014 (inches): \",\n",
    "np.median(inches[summer]))\n",
    "print(\"Maximum precip on summer days in 2014 (inches): \",\n",
    "np.max(inches[summer]))\n",
    "print(\"Median precip on non-summer rainy days (inches):\",\n",
    "np.median(inches[rainy & ~summer]))"
   ]
  },
  {
   "cell_type": "markdown",
   "id": "e1a1031d-ef07-459c-89c7-cd312930ae56",
   "metadata": {},
   "source": [
    "<p>通过将布尔操作、掩码操作和聚合结合，可以快速回答对数据集提出的\n",
    "这类问题。\n",
    "</p>"
   ]
  },
  {
   "cell_type": "raw",
   "id": "557e8b71-5776-4346-bdd0-230fd90046ab",
   "metadata": {},
   "source": [
    "使用关键字 and/or 与使用逻辑操作运算符 &/|"
   ]
  },
  {
   "cell_type": "raw",
   "id": "e2c92869-9057-4f7a-b4e0-dc8e54ac5728",
   "metadata": {},
   "source": [
    "人们经常困惑于关键字 and 和 or，以及逻辑操作运算符 & 和 | 的\n",
    "区别是什么，什么时候该选择哪一种？\n",
    "它们的区别是：and 和 or 判断整个对象是真或假，而 & 和 | 是指\n",
    "每个对象中的比特位。\n",
    "当你使用 and 或 or 时，就等于让 Python 将这个对象当作整个布尔\n",
    "实体。在 Python 中，所有非零的整数都会被当作是 True：\n"
   ]
  },
  {
   "cell_type": "code",
   "execution_count": 83,
   "id": "5854eee8-f446-4c52-9f86-36e8d921ce28",
   "metadata": {},
   "outputs": [
    {
     "data": {
      "text/plain": [
       "(True, False)"
      ]
     },
     "execution_count": 83,
     "metadata": {},
     "output_type": "execute_result"
    }
   ],
   "source": [
    "bool(3),bool(0)"
   ]
  },
  {
   "cell_type": "code",
   "execution_count": 84,
   "id": "a9d819db-0b88-475a-b436-0f22312a055e",
   "metadata": {},
   "outputs": [
    {
     "data": {
      "text/plain": [
       "False"
      ]
     },
     "execution_count": 84,
     "metadata": {},
     "output_type": "execute_result"
    }
   ],
   "source": [
    "bool(3 and 0)"
   ]
  },
  {
   "cell_type": "code",
   "execution_count": 85,
   "id": "436ddee7-f3c4-4795-9988-d71e1e6fbad2",
   "metadata": {},
   "outputs": [
    {
     "data": {
      "text/plain": [
       "True"
      ]
     },
     "execution_count": 85,
     "metadata": {},
     "output_type": "execute_result"
    }
   ],
   "source": [
    "bool(3 or 0)"
   ]
  },
  {
   "cell_type": "raw",
   "id": "8e942825-5091-4c8a-a984-94cfe0d6e540",
   "metadata": {},
   "source": [
    "当你对整数使用 & 和 | 时，表达式操作的是元素的比特，将 and\n",
    "或 or 应用于组成该数字的每个比特：\n"
   ]
  },
  {
   "cell_type": "code",
   "execution_count": 86,
   "id": "e89eca95-d619-47eb-b170-2a4f4d7e613b",
   "metadata": {},
   "outputs": [
    {
     "data": {
      "text/plain": [
       "'0b11'"
      ]
     },
     "execution_count": 86,
     "metadata": {},
     "output_type": "execute_result"
    }
   ],
   "source": [
    "bin(3) #011"
   ]
  },
  {
   "cell_type": "code",
   "execution_count": 87,
   "id": "f62b5227-8575-4260-a728-0f5ad7b06ec8",
   "metadata": {},
   "outputs": [
    {
     "data": {
      "text/plain": [
       "'0b100'"
      ]
     },
     "execution_count": 87,
     "metadata": {},
     "output_type": "execute_result"
    }
   ],
   "source": [
    "bin(4) # 100"
   ]
  },
  {
   "cell_type": "code",
   "execution_count": 88,
   "id": "4dc40f1c-6c32-4cda-ba27-b40010f8c007",
   "metadata": {},
   "outputs": [
    {
     "data": {
      "text/plain": [
       "'0b0'"
      ]
     },
     "execution_count": 88,
     "metadata": {},
     "output_type": "execute_result"
    }
   ],
   "source": [
    "bin(3 & 4) # 011 & 100 ->同1异0->000"
   ]
  },
  {
   "cell_type": "code",
   "execution_count": 89,
   "id": "f10293ca-dab7-41c8-b606-b268595b2903",
   "metadata": {},
   "outputs": [
    {
     "data": {
      "text/plain": [
       "'0b111'"
      ]
     },
     "execution_count": 89,
     "metadata": {},
     "output_type": "execute_result"
    }
   ],
   "source": [
    "bin(7)"
   ]
  },
  {
   "cell_type": "code",
   "execution_count": 90,
   "id": "767c5021-2370-49db-a3f5-76910863a90b",
   "metadata": {},
   "outputs": [
    {
     "data": {
      "text/plain": [
       "'0b100'"
      ]
     },
     "execution_count": 90,
     "metadata": {},
     "output_type": "execute_result"
    }
   ],
   "source": [
    "bin(4 & 7) # 100 & 111 ->同1异0故为100"
   ]
  },
  {
   "cell_type": "code",
   "execution_count": 91,
   "id": "f5beddfe-ba00-42bb-b795-10c92114367b",
   "metadata": {},
   "outputs": [
    {
     "data": {
      "text/plain": [
       "'0b111'"
      ]
     },
     "execution_count": 91,
     "metadata": {},
     "output_type": "execute_result"
    }
   ],
   "source": [
    "bin(4|7) #同0为0，有1则1 \n",
    "# 100 | 111"
   ]
  },
  {
   "cell_type": "code",
   "execution_count": 92,
   "id": "abf56cda-1226-4ab3-8ebc-3ded22da3005",
   "metadata": {},
   "outputs": [
    {
     "data": {
      "text/plain": [
       "'0b111'"
      ]
     },
     "execution_count": 92,
     "metadata": {},
     "output_type": "execute_result"
    }
   ],
   "source": [
    "bin(3 | 4) #011 | 100"
   ]
  },
  {
   "cell_type": "code",
   "execution_count": 93,
   "id": "4a92f1ef-094c-4eb4-bebe-988ab1b198ac",
   "metadata": {},
   "outputs": [
    {
     "data": {
      "text/plain": [
       "'0b11'"
      ]
     },
     "execution_count": 93,
     "metadata": {},
     "output_type": "execute_result"
    }
   ],
   "source": [
    "bin(2|3) #010| 011 ->011"
   ]
  },
  {
   "cell_type": "raw",
   "id": "7324f70b-4cdf-419e-ad87-3fac97e2501d",
   "metadata": {},
   "source": [
    "请注意，& 和 | 运算时，对应的二进制比特位进行比较以得到最终\n",
    "结果。"
   ]
  },
  {
   "cell_type": "raw",
   "id": "a3d889fa-41b2-4cea-996a-0ebec79a0565",
   "metadata": {},
   "source": [
    "当你在 NumPy 中有一个布尔数组时，该数组可以被当作是由比特\n",
    "字符组成的，其中 1 = True、0 = False。这样的数组可以用上\n",
    "面介绍的方式进行 & 和 | 的操作："
   ]
  },
  {
   "cell_type": "code",
   "execution_count": 94,
   "id": "684366e7-6409-4511-8407-c183af4bb79a",
   "metadata": {},
   "outputs": [
    {
     "data": {
      "text/plain": [
       "array([ True,  True,  True, False,  True,  True])"
      ]
     },
     "execution_count": 94,
     "metadata": {},
     "output_type": "execute_result"
    }
   ],
   "source": [
    "A=np.array([1,0,1,0,1,0],dtype=bool)\n",
    "B=np.array([1,1,1,0,1,1],dtype=bool)\n",
    "A|B"
   ]
  },
  {
   "cell_type": "raw",
   "id": "3d123fcb-a6e3-46a2-9884-acf27aa4e25e",
   "metadata": {},
   "source": [
    "而用 or 来计算这两个数组时，Python 会计算整个数组对象的真或\n",
    "假，这会导致程序出错："
   ]
  },
  {
   "cell_type": "code",
   "execution_count": 95,
   "id": "f4cef7e4-2cfc-4a28-8015-7372fa29bdeb",
   "metadata": {},
   "outputs": [
    {
     "name": "stdout",
     "output_type": "stream",
     "text": [
      "The truth value of an array with more than one element is ambiguous. Use a.any() or a.all()\n"
     ]
    }
   ],
   "source": [
    "try:\n",
    "    A or B\n",
    "except BaseException as e:\n",
    "    print(e)"
   ]
  },
  {
   "cell_type": "raw",
   "id": "9e6a3921-d8ca-448e-820c-0ebb5acdc49c",
   "metadata": {},
   "source": [
    "同样，对给定数组进行逻辑运算时，你也应该使用 | 或 &，而不是\n",
    "or 或 and："
   ]
  },
  {
   "cell_type": "code",
   "execution_count": 96,
   "id": "0d5d28b3-3ff8-4540-a55d-d9f7fe63fc76",
   "metadata": {},
   "outputs": [],
   "source": [
    "x = np.arange(10)"
   ]
  },
  {
   "cell_type": "code",
   "execution_count": 97,
   "id": "cf306cdd-b522-42bb-9612-4caf539a471a",
   "metadata": {},
   "outputs": [
    {
     "data": {
      "text/plain": [
       "array([False, False, False, False, False,  True,  True,  True, False,\n",
       "       False])"
      ]
     },
     "execution_count": 97,
     "metadata": {},
     "output_type": "execute_result"
    }
   ],
   "source": [
    "(x>4) & (x<8)"
   ]
  },
  {
   "cell_type": "raw",
   "id": "637e3f74-0aba-4fa0-8c97-a94e678efa40",
   "metadata": {},
   "source": [
    "如果试图计算整个数组的真或假，程序也同样会给出 ValueError\n",
    "的错误："
   ]
  },
  {
   "cell_type": "code",
   "execution_count": 98,
   "id": "1ca8f63f-07e8-4dfc-ae9d-4ac1b85ec045",
   "metadata": {},
   "outputs": [
    {
     "name": "stdout",
     "output_type": "stream",
     "text": [
      "The truth value of an array with more than one element is ambiguous. Use a.any() or a.all()\n"
     ]
    }
   ],
   "source": [
    "try:\n",
    "    (x>4) and (x<8)\n",
    "except BaseException as e:\n",
    "    print(e)"
   ]
  },
  {
   "cell_type": "raw",
   "id": "8c37ad31-0f85-43f9-a382-a386f687f038",
   "metadata": {},
   "source": [
    "因此可以记住：and 和 or 对整个对象执行单个布尔运算，而 & 和\n",
    "| 对一个对象的内容（单个比特或字节）执行多个布尔运算。对于\n",
    "NumPy 布尔数组，后者是常用的操作。"
   ]
  },
  {
   "cell_type": "markdown",
   "id": "0e0bf09b-3bf3-4bc7-a3ef-8615745e91a7",
   "metadata": {},
   "source": [
    "<h2>2.7 花哨的索引</h2>"
   ]
  },
  {
   "cell_type": "markdown",
   "id": "a99c3142-1390-4851-88bb-17ef79452166",
   "metadata": {},
   "source": [
    "<p>在前面的小节中，我们看到了如何利用简单的索引值（如 arr[0]）、\n",
    "切片（如 arr[:5]）和布尔掩码（如 arr[arr > 0]）获得并修改部分\n",
    "数组。在这一节中，我们将介绍另外一种数组索引，也称作花哨的索引\n",
    "（fancy indexing）。花哨的索引和前面那些简单的索引非常类似，但是\n",
    "传递的是索引数组，而不是单个标量。花哨的索引让我们能够快速获得\n",
    "并修改复杂的数组值的子数据集。</p>"
   ]
  },
  {
   "cell_type": "markdown",
   "id": "28ea4a52-2c34-485d-9bbd-ca4c979934ef",
   "metadata": {},
   "source": [
    "<h3>2.7.1 探索花哨的索引</h3>"
   ]
  },
  {
   "cell_type": "markdown",
   "id": "7b7b2423-d041-4eed-8414-68db1398f2d7",
   "metadata": {},
   "source": [
    "<p>花哨的索引在概念上非常简单，它意味着传递一个索引数组来一次性获\n",
    "得多个数组元素。例如以下数组：</p>"
   ]
  },
  {
   "cell_type": "code",
   "execution_count": 99,
   "id": "3c37cb4a-571f-4805-9435-0f033d8be60d",
   "metadata": {},
   "outputs": [
    {
     "name": "stdout",
     "output_type": "stream",
     "text": [
      "[51 92 14 71 60 20 82 86 74 74]\n"
     ]
    }
   ],
   "source": [
    "rand = np.random.RandomState(42)\n",
    "x = rand.randint(100,size=10)\n",
    "print(x)"
   ]
  },
  {
   "cell_type": "markdown",
   "id": "c311d5ad-f023-49d6-ab1f-9d3ecfff86a5",
   "metadata": {},
   "source": [
    "<p>假设我们希望获得三个不同的元素，可以用以下方式实现：</p>"
   ]
  },
  {
   "cell_type": "code",
   "execution_count": 100,
   "id": "a5e3b448-16e1-4839-95cb-1e1f74834220",
   "metadata": {},
   "outputs": [
    {
     "data": {
      "text/plain": [
       "[np.int32(71), np.int32(86), np.int32(14)]"
      ]
     },
     "execution_count": 100,
     "metadata": {},
     "output_type": "execute_result"
    }
   ],
   "source": [
    "[x[3],x[7],x[2]]"
   ]
  },
  {
   "cell_type": "markdown",
   "id": "3e340571-b5a8-4cca-9215-d21dd1d46286",
   "metadata": {},
   "source": [
    "<p>另外一种方法是通过传递索引的单个列表或数组来获得同样的结果：</p>"
   ]
  },
  {
   "cell_type": "code",
   "execution_count": 101,
   "id": "f45bdebe-8183-4f11-a378-bc3f8351d26d",
   "metadata": {},
   "outputs": [
    {
     "data": {
      "text/plain": [
       "array([71, 60, 86], dtype=int32)"
      ]
     },
     "execution_count": 101,
     "metadata": {},
     "output_type": "execute_result"
    }
   ],
   "source": [
    "ind = [3,4,7]\n",
    "x[ind]"
   ]
  },
  {
   "cell_type": "raw",
   "id": "86af91ef-2bea-4e33-9d03-a6f56b19b4cc",
   "metadata": {},
   "source": [
    "利用花哨的索引，结果的形状与索引数组的形状一致，而不是与被索引\n",
    "数组的形状一致："
   ]
  },
  {
   "cell_type": "code",
   "execution_count": 103,
   "id": "9fcd8527-4917-44fd-a160-ba31b76d3400",
   "metadata": {},
   "outputs": [
    {
     "data": {
      "text/plain": [
       "array([[71, 86],\n",
       "       [60, 20]], dtype=int32)"
      ]
     },
     "execution_count": 103,
     "metadata": {},
     "output_type": "execute_result"
    }
   ],
   "source": [
    "ind = np.array([[3,7],[4,5]]) #ind指出利用哪些索引来组成一个2×2的二维数组\n",
    "x[ind]"
   ]
  },
  {
   "cell_type": "markdown",
   "id": "8a3e7dd6-eb16-4470-a198-1a7271e7247b",
   "metadata": {},
   "source": [
    "<p>花哨的索引也对多个维度适用。假设我们有以下数组：</p>"
   ]
  },
  {
   "cell_type": "code",
   "execution_count": 104,
   "id": "a771ce07-9a58-4113-8432-d27df0cb2989",
   "metadata": {},
   "outputs": [
    {
     "data": {
      "text/plain": [
       "array([[ 0,  1,  2,  3],\n",
       "       [ 4,  5,  6,  7],\n",
       "       [ 8,  9, 10, 11]])"
      ]
     },
     "execution_count": 104,
     "metadata": {},
     "output_type": "execute_result"
    }
   ],
   "source": [
    "X = np.arange(12).reshape((3,4))\n",
    "X"
   ]
  },
  {
   "cell_type": "markdown",
   "id": "f4de694f-835d-41cb-b4a2-b41edd8bbb81",
   "metadata": {},
   "source": [
    "<p>和标准的索引方式一样，第一个索引指的是行，第二个索引指的是列：</p>"
   ]
  },
  {
   "cell_type": "code",
   "execution_count": 105,
   "id": "a60bef44-7c20-4a30-bb3d-136b7f21fe47",
   "metadata": {},
   "outputs": [
    {
     "data": {
      "text/plain": [
       "array([ 2,  5, 11])"
      ]
     },
     "execution_count": 105,
     "metadata": {},
     "output_type": "execute_result"
    }
   ],
   "source": [
    "row = np.array([0,1,2])\n",
    "col = np.array([2,1,3])\n",
    "X[row,col] #其实就是X[[0,1,2],[2,1,3]]\n",
    "# 取得的就是第0行第2列2第1行第1列的数5第2行第3列的数11"
   ]
  },
  {
   "cell_type": "markdown",
   "id": "f1adf170-769a-4648-910b-b24d53db09a4",
   "metadata": {},
   "source": [
    "<p>这里需要注意，结果的第一个值是 X[0, 2]，第二个值是 X[1, 1]，第\n",
    "三个值是 X[2, 3]。在花哨的索引中，索引值的配对遵循 2.5 节介绍过\n",
    "的广播的规则。因此当我们将一个列向量和一个行向量组合在一个索引\n",
    "中时，会得到一个二维的结果：\n",
    "</p>"
   ]
  },
  {
   "cell_type": "code",
   "execution_count": 106,
   "id": "d4b18a00-1614-4685-84b6-6fedb4c3422d",
   "metadata": {},
   "outputs": [
    {
     "data": {
      "text/plain": [
       "array([[ 2,  1,  3],\n",
       "       [ 6,  5,  7],\n",
       "       [10,  9, 11]])"
      ]
     },
     "execution_count": 106,
     "metadata": {},
     "output_type": "execute_result"
    }
   ],
   "source": [
    "X[row[:,np.newaxis],col] #行数字不变列新开指定的列数为[2,1,3]列"
   ]
  },
  {
   "cell_type": "markdown",
   "id": "9cd0c262-cdcb-4f05-8b4d-6f81c7540bac",
   "metadata": {},
   "source": [
    "<p>这里，每一行的值都与每一列的向量配对，正如我们看到的广播的算术\n",
    "运算：</p>"
   ]
  },
  {
   "cell_type": "code",
   "execution_count": 107,
   "id": "5e95c94a-4f0f-4a73-9ce3-e8efbb4e61a4",
   "metadata": {},
   "outputs": [
    {
     "data": {
      "text/plain": [
       "array([[0, 0, 0],\n",
       "       [2, 1, 3],\n",
       "       [4, 2, 6]])"
      ]
     },
     "execution_count": 107,
     "metadata": {},
     "output_type": "execute_result"
    }
   ],
   "source": [
    "row[:,np.newaxis]*col"
   ]
  },
  {
   "cell_type": "markdown",
   "id": "7fa36801-eb47-4cb7-a3a3-33ba8c430320",
   "metadata": {},
   "source": [
    "<p>这里特别需要记住的是，花哨的索引返回的值反映的是广播后的索引数\n",
    "组的形状，而不是被索引的数组的形状。</p>"
   ]
  },
  {
   "cell_type": "markdown",
   "id": "77961a14-64cb-4b4a-b3b4-afa051f730b6",
   "metadata": {},
   "source": [
    "<h3>2.7.2 组合索引</h3>"
   ]
  },
  {
   "cell_type": "markdown",
   "id": "91d0096e-a879-4bd8-9e6f-4b7c66ccbae8",
   "metadata": {},
   "source": [
    "<p>花哨的索引可以和其他索引方案结合起来形成更强大的索引操作：\n",
    "</p>"
   ]
  },
  {
   "cell_type": "code",
   "execution_count": 108,
   "id": "339e77db-28d2-4bfc-8c20-8650ae778eb0",
   "metadata": {},
   "outputs": [
    {
     "name": "stdout",
     "output_type": "stream",
     "text": [
      "[[ 0  1  2  3]\n",
      " [ 4  5  6  7]\n",
      " [ 8  9 10 11]]\n"
     ]
    }
   ],
   "source": [
    "print(X)"
   ]
  },
  {
   "cell_type": "markdown",
   "id": "dc066de3-eae4-4378-96d8-fd25335a6560",
   "metadata": {},
   "source": [
    "<p>可以将花哨的索引和简单的索引组合使用</p>"
   ]
  },
  {
   "cell_type": "code",
   "execution_count": 109,
   "id": "0a925d6b-5701-4b18-9cf2-305ef2bdd927",
   "metadata": {},
   "outputs": [
    {
     "data": {
      "text/plain": [
       "array([10,  8,  9])"
      ]
     },
     "execution_count": 109,
     "metadata": {},
     "output_type": "execute_result"
    }
   ],
   "source": [
    "X[2,[2,0,1]] #即X第2行第2列，第2行第0列,第2行第1列"
   ]
  },
  {
   "cell_type": "markdown",
   "id": "a3ac681a-778f-46fb-ba9b-7681809a1e0a",
   "metadata": {},
   "source": [
    "<p>也可以将花哨的索引和切片组合使用：</p>"
   ]
  },
  {
   "cell_type": "code",
   "execution_count": 110,
   "id": "19313ed3-fd2b-48e6-8e04-76b5ec848f7a",
   "metadata": {},
   "outputs": [
    {
     "data": {
      "text/plain": [
       "array([[ 6,  4,  5],\n",
       "       [10,  8,  9]])"
      ]
     },
     "execution_count": 110,
     "metadata": {},
     "output_type": "execute_result"
    }
   ],
   "source": [
    "X[1:,[2,0,1]] #即从第1行开始取到最后一行,即(1,2),(1,0),(1,1),(2,2),(2,0),(2,1)"
   ]
  },
  {
   "cell_type": "markdown",
   "id": "20f1b63d-210e-457a-b7d3-ffab04bd725d",
   "metadata": {},
   "source": [
    "<p>更可以将花哨的索引和掩码组合使用：</p>"
   ]
  },
  {
   "cell_type": "code",
   "execution_count": 111,
   "id": "1c0560e7-b423-4394-884e-84548847191b",
   "metadata": {},
   "outputs": [
    {
     "data": {
      "text/plain": [
       "array([[ 0,  2],\n",
       "       [ 4,  6],\n",
       "       [ 8, 10]])"
      ]
     },
     "execution_count": 111,
     "metadata": {},
     "output_type": "execute_result"
    }
   ],
   "source": [
    "mask = np.array([1,0,1,0],dtype=bool) #注意这里的数组类型为布尔型\n",
    "X[row[:,np.newaxis],mask]\n",
    "#行数不变列自动,遵循掩码规则,又因掩码为布尔类型所以就取到布尔值为1的列其余的不取"
   ]
  },
  {
   "cell_type": "markdown",
   "id": "50b28baa-aff7-459d-90ac-4f421993ede5",
   "metadata": {},
   "source": [
    "<h3>2.7.3 示例：选择随机点</h3>"
   ]
  },
  {
   "cell_type": "markdown",
   "id": "6042600b-1db2-4938-b756-55acb4830953",
   "metadata": {},
   "source": [
    "<p>花哨的索引的一个常见用途是从一个矩阵中选择行的子集。例如我们有\n",
    "一个 N×D 的矩阵，表示在 D 个维度的 N 个点。以下是一个二维正态分\n",
    "布的点组成的数组：</p>"
   ]
  },
  {
   "cell_type": "code",
   "execution_count": 112,
   "id": "281dc689-2ebf-4fc4-98c3-d27993bc6713",
   "metadata": {},
   "outputs": [
    {
     "data": {
      "text/plain": [
       "(100, 2)"
      ]
     },
     "execution_count": 112,
     "metadata": {},
     "output_type": "execute_result"
    }
   ],
   "source": [
    "mean = [0,0]\n",
    "cov = [[1,2],[2,5]]\n",
    "x = rand.multivariate_normal(mean,cov,100)\n",
    "x.shape"
   ]
  },
  {
   "cell_type": "code",
   "execution_count": 113,
   "id": "0d102815-adb6-413b-a3d1-a1e46801d394",
   "metadata": {},
   "outputs": [
    {
     "data": {
      "text/plain": [
       "\u001b[1;31mSignature:\u001b[0m\n",
       "\u001b[0mrand\u001b[0m\u001b[1;33m.\u001b[0m\u001b[0mmultivariate_normal\u001b[0m\u001b[1;33m(\u001b[0m\u001b[1;33m\n",
       "\u001b[0m    \u001b[0mmean\u001b[0m\u001b[1;33m,\u001b[0m\u001b[1;33m\n",
       "\u001b[0m    \u001b[0mcov\u001b[0m\u001b[1;33m,\u001b[0m\u001b[1;33m\n",
       "\u001b[0m    \u001b[0msize\u001b[0m\u001b[1;33m=\u001b[0m\u001b[1;32mNone\u001b[0m\u001b[1;33m,\u001b[0m\u001b[1;33m\n",
       "\u001b[0m    \u001b[0mcheck_valid\u001b[0m\u001b[1;33m=\u001b[0m\u001b[1;34m'warn'\u001b[0m\u001b[1;33m,\u001b[0m\u001b[1;33m\n",
       "\u001b[0m    \u001b[0mtol\u001b[0m\u001b[1;33m=\u001b[0m\u001b[1;36m1e-08\u001b[0m\u001b[1;33m,\u001b[0m\u001b[1;33m\n",
       "\u001b[0m\u001b[1;33m)\u001b[0m\u001b[1;33m\u001b[0m\u001b[1;33m\u001b[0m\u001b[0m\n",
       "\u001b[1;31mDocstring:\u001b[0m\n",
       "multivariate_normal(mean, cov, size=None, check_valid='warn', tol=1e-8)\n",
       "\n",
       "Draw random samples from a multivariate normal distribution.\n",
       "\n",
       "The multivariate normal, multinormal or Gaussian distribution is a\n",
       "generalization of the one-dimensional normal distribution to higher\n",
       "dimensions.  Such a distribution is specified by its mean and\n",
       "covariance matrix.  These parameters are analogous to the mean\n",
       "(average or \"center\") and variance (standard deviation, or \"width,\"\n",
       "squared) of the one-dimensional normal distribution.\n",
       "\n",
       ".. note::\n",
       "    New code should use the\n",
       "    `~numpy.random.Generator.multivariate_normal`\n",
       "    method of a `~numpy.random.Generator` instance instead;\n",
       "    please see the :ref:`random-quick-start`.\n",
       "\n",
       "Parameters\n",
       "----------\n",
       "mean : 1-D array_like, of length N\n",
       "    Mean of the N-dimensional distribution.\n",
       "cov : 2-D array_like, of shape (N, N)\n",
       "    Covariance matrix of the distribution. It must be symmetric and\n",
       "    positive-semidefinite for proper sampling.\n",
       "size : int or tuple of ints, optional\n",
       "    Given a shape of, for example, ``(m,n,k)``, ``m*n*k`` samples are\n",
       "    generated, and packed in an `m`-by-`n`-by-`k` arrangement.  Because\n",
       "    each sample is `N`-dimensional, the output shape is ``(m,n,k,N)``.\n",
       "    If no shape is specified, a single (`N`-D) sample is returned.\n",
       "check_valid : { 'warn', 'raise', 'ignore' }, optional\n",
       "    Behavior when the covariance matrix is not positive semidefinite.\n",
       "tol : float, optional\n",
       "    Tolerance when checking the singular values in covariance matrix.\n",
       "    cov is cast to double before the check.\n",
       "\n",
       "Returns\n",
       "-------\n",
       "out : ndarray\n",
       "    The drawn samples, of shape *size*, if that was provided.  If not,\n",
       "    the shape is ``(N,)``.\n",
       "\n",
       "    In other words, each entry ``out[i,j,...,:]`` is an N-dimensional\n",
       "    value drawn from the distribution.\n",
       "\n",
       "See Also\n",
       "--------\n",
       "random.Generator.multivariate_normal: which should be used for new code.\n",
       "\n",
       "Notes\n",
       "-----\n",
       "The mean is a coordinate in N-dimensional space, which represents the\n",
       "location where samples are most likely to be generated.  This is\n",
       "analogous to the peak of the bell curve for the one-dimensional or\n",
       "univariate normal distribution.\n",
       "\n",
       "Covariance indicates the level to which two variables vary together.\n",
       "From the multivariate normal distribution, we draw N-dimensional\n",
       "samples, :math:`X = [x_1, x_2, ... x_N]`.  The covariance matrix\n",
       "element :math:`C_{ij}` is the covariance of :math:`x_i` and :math:`x_j`.\n",
       "The element :math:`C_{ii}` is the variance of :math:`x_i` (i.e. its\n",
       "\"spread\").\n",
       "\n",
       "Instead of specifying the full covariance matrix, popular\n",
       "approximations include:\n",
       "\n",
       "- Spherical covariance (`cov` is a multiple of the identity matrix)\n",
       "- Diagonal covariance (`cov` has non-negative elements, and only on\n",
       "  the diagonal)\n",
       "\n",
       "This geometrical property can be seen in two dimensions by plotting\n",
       "generated data-points:\n",
       "\n",
       ">>> mean = [0, 0]\n",
       ">>> cov = [[1, 0], [0, 100]]  # diagonal covariance\n",
       "\n",
       "Diagonal covariance means that points are oriented along x or y-axis:\n",
       "\n",
       ">>> import matplotlib.pyplot as plt\n",
       ">>> x, y = np.random.multivariate_normal(mean, cov, 5000).T\n",
       ">>> plt.plot(x, y, 'x')\n",
       ">>> plt.axis('equal')\n",
       ">>> plt.show()\n",
       "\n",
       "Note that the covariance matrix must be positive semidefinite (a.k.a.\n",
       "nonnegative-definite). Otherwise, the behavior of this method is\n",
       "undefined and backwards compatibility is not guaranteed.\n",
       "\n",
       "References\n",
       "----------\n",
       ".. [1] Papoulis, A., \"Probability, Random Variables, and Stochastic\n",
       "       Processes,\" 3rd ed., New York: McGraw-Hill, 1991.\n",
       ".. [2] Duda, R. O., Hart, P. E., and Stork, D. G., \"Pattern\n",
       "       Classification,\" 2nd ed., New York: Wiley, 2001.\n",
       "\n",
       "Examples\n",
       "--------\n",
       ">>> mean = (1, 2)\n",
       ">>> cov = [[1, 0], [0, 1]]\n",
       ">>> x = np.random.multivariate_normal(mean, cov, (3, 3))\n",
       ">>> x.shape\n",
       "(3, 3, 2)\n",
       "\n",
       "Here we generate 800 samples from the bivariate normal distribution\n",
       "with mean [0, 0] and covariance matrix [[6, -3], [-3, 3.5]].  The\n",
       "expected variances of the first and second components of the sample\n",
       "are 6 and 3.5, respectively, and the expected correlation\n",
       "coefficient is -3/sqrt(6*3.5) ≈ -0.65465.\n",
       "\n",
       ">>> cov = np.array([[6, -3], [-3, 3.5]])\n",
       ">>> pts = np.random.multivariate_normal([0, 0], cov, size=800)\n",
       "\n",
       "Check that the mean, covariance, and correlation coefficient of the\n",
       "sample are close to the expected values:\n",
       "\n",
       ">>> pts.mean(axis=0)\n",
       "array([ 0.0326911 , -0.01280782])  # may vary\n",
       ">>> np.cov(pts.T)\n",
       "array([[ 5.96202397, -2.85602287],\n",
       "       [-2.85602287,  3.47613949]])  # may vary\n",
       ">>> np.corrcoef(pts.T)[0, 1]\n",
       "-0.6273591314603949  # may vary\n",
       "\n",
       "We can visualize this data with a scatter plot.  The orientation\n",
       "of the point cloud illustrates the negative correlation of the\n",
       "components of this sample.\n",
       "\n",
       ">>> import matplotlib.pyplot as plt\n",
       ">>> plt.plot(pts[:, 0], pts[:, 1], '.', alpha=0.5)\n",
       ">>> plt.axis('equal')\n",
       ">>> plt.grid()\n",
       ">>> plt.show()\n",
       "\u001b[1;31mType:\u001b[0m      method"
      ]
     },
     "metadata": {},
     "output_type": "display_data"
    }
   ],
   "source": [
    "rand.multivariate_normal?"
   ]
  },
  {
   "cell_type": "markdown",
   "id": "be16d076-d26a-453c-ba8b-fd6df8a6c752",
   "metadata": {},
   "source": [
    "<a href='https://blog.csdn.net/zch1990s/article/details/80005940' target='blank_'>不错的文章</a>"
   ]
  },
  {
   "cell_type": "markdown",
   "id": "9737283c-56ec-4923-b9ec-22471bcdac38",
   "metadata": {},
   "source": [
    "<p>利用将在第 4 章介绍的画图工具，可以用散点图将这些点可视化,见图(2-7)</p>"
   ]
  },
  {
   "cell_type": "code",
   "execution_count": 117,
   "id": "71239868-d07b-4615-8773-d5514e74ba2c",
   "metadata": {},
   "outputs": [
    {
     "data": {
      "image/png": "[encoded data removed]",
      "text/plain": [
       "<Figure size 1000x800 with 1 Axes>"
      ]
     },
     "metadata": {},
     "output_type": "display_data"
    }
   ],
   "source": [
    "import matplotlib.pyplot as plt\n",
    "plt.figure(figsize=(10,8),dpi=100)\n",
    "plt.scatter(x[:,0],x[:,1])\n",
    "plt.grid(True,linestyle='--',alpha=0.5)\n",
    "plt.show()"
   ]
  },
  {
   "cell_type": "markdown",
   "id": "25ae87c4-f536-4f19-8c50-5c8abfd7eefe",
   "metadata": {},
   "source": [
    "<p style='text-align:center;'>图2-7:正态分布的点</p>"
   ]
  },
  {
   "cell_type": "markdown",
   "id": "06392114-2848-40c5-b7b3-6e88d2c1abf2",
   "metadata": {},
   "source": [
    "<p>我们将利用花哨的索引随机选取 20 个点——选择 20 个随机的、不重复\n",
    "的索引值，并利用这些索引值选取到原始数组对应的值：</p>"
   ]
  },
  {
   "cell_type": "code",
   "execution_count": 119,
   "id": "144aea74-9e67-4b52-b1e0-0ed4e31e8f5b",
   "metadata": {},
   "outputs": [
    {
     "data": {
      "text/plain": [
       "array([67, 93, 29, 66, 88, 77, 90, 49, 47, 75, 19, 84, 58, 45,  9, 96,  7,\n",
       "       38, 42, 86], dtype=int32)"
      ]
     },
     "execution_count": 119,
     "metadata": {},
     "output_type": "execute_result"
    }
   ],
   "source": [
    "indices = np.random.choice(x.shape[0], 20, replace=False)\n",
    "indices"
   ]
  },
  {
   "cell_type": "markdown",
   "id": "6f01c9cb-2171-4327-956e-05db0dd36ff7",
   "metadata": {},
   "source": [
    "<a href='https://blog.csdn.net/wzk4869/article/details/126022909?ops_request_misc=%257B%2522request%255Fid%2522%253A%25228F8448C7-694B-4A72-9786-B9FA6D66FE79%2522%252C%2522scm%2522%253A%252220140713.130102334..%2522%257D&request_id=8F8448C7-694B-4A72-9786-B9FA6D66FE79&biz_id=0&utm_medium=distribute.pc_search_result.none-task-blog-2~all~top_positive~default-1-126022909-null-null.142^v100^pc_search_result_base3&utm_term=x.shape%5B0%5D&spm=1018.2226.3001.4187' target='blank_'>解释shape[0],shape[1],shape[-1]的详细</a>"
   ]
  },
  {
   "cell_type": "code",
   "execution_count": 120,
   "id": "9dabfc10-ea34-4c56-abbf-f8a31aae1e5c",
   "metadata": {},
   "outputs": [
    {
     "data": {
      "text/plain": [
       "(20, 2)"
      ]
     },
     "execution_count": 120,
     "metadata": {},
     "output_type": "execute_result"
    }
   ],
   "source": [
    "selection=x[indices]\n",
    "selection.shape"
   ]
  },
  {
   "cell_type": "code",
   "execution_count": 126,
   "id": "2f42bf08-b974-40e8-8052-1a6deee1f9db",
   "metadata": {},
   "outputs": [
    {
     "data": {
      "text/plain": [
       "array([[-0.51172373, -1.40960773],\n",
       "       [-0.83504984, -2.38632016],\n",
       "       [ 0.98783862,  2.30280401],\n",
       "       [-0.14547282, -1.34125678],\n",
       "       [ 1.31256297,  3.13143269],\n",
       "       [ 0.30414557, -0.5828419 ],\n",
       "       [ 0.01374713, -0.11539344],\n",
       "       [ 0.33399913,  2.32597923],\n",
       "       [-0.35490984, -1.03657119],\n",
       "       [-1.03637857, -1.18469125],\n",
       "       [-0.50886808, -1.81099656],\n",
       "       [ 1.56094354,  2.9330816 ],\n",
       "       [ 0.42044896,  1.85189522],\n",
       "       [ 2.32083881,  5.97698647],\n",
       "       [ 0.0843329 , -0.3543059 ],\n",
       "       [-1.2567603 , -1.125898  ],\n",
       "       [ 0.35282131,  1.49875397],\n",
       "       [ 0.35936721,  0.40554974],\n",
       "       [ 0.02815138,  0.79654924],\n",
       "       [-1.32319163, -2.61218347]])"
      ]
     },
     "execution_count": 126,
     "metadata": {},
     "output_type": "execute_result"
    }
   ],
   "source": [
    "selection"
   ]
  },
  {
   "cell_type": "markdown",
   "id": "633dcaf9-2c43-4a7f-a095-3a59d555b486",
   "metadata": {},
   "source": [
    "<p>现在来看哪些点被选中了，将选中的点在图上用大圆圈标示出来</p>"
   ]
  },
  {
   "cell_type": "code",
   "execution_count": 125,
   "id": "59bd136c-fb01-4adb-903e-0d793f51cdd4",
   "metadata": {},
   "outputs": [
    {
     "data": {
      "image/png": "[encoded data removed]",
      "text/plain": [
       "<Figure size 640x480 with 1 Axes>"
      ]
     },
     "metadata": {},
     "output_type": "display_data"
    }
   ],
   "source": [
    "plt.scatter(x[:,0],x[:,1],alpha=0.3)\n",
    "plt.grid(True,color='g',alpha=0.5,linestyle='--')\n",
    "plt.scatter(selection[:,0],selection[:,1],facecolor='none',edgecolor='b',s=200)\n",
    "plt.show()\n"
   ]
  },
  {
   "cell_type": "markdown",
   "id": "0180c3ee-c362-4971-8c4f-af3f7d3b7a9d",
   "metadata": {},
   "source": [
    "<p style='text-align:center;'>图2-8,随机选择的点</p>"
   ]
  },
  {
   "cell_type": "markdown",
   "id": "fbc5adcb-6a82-41b6-a466-bf1edc8a68c2",
   "metadata": {},
   "source": [
    "<p>这种方法通常用于快速分割数据，即需要分割训练 / 测试数据集以验证\n",
    "统计模型（详情请参见 5.3 节）时，以及在解答统计问题时的抽样方法\n",
    "中使用。</p>"
   ]
  },
  {
   "cell_type": "markdown",
   "id": "37d7e716-75cb-40c5-a831-5de59cdf7fab",
   "metadata": {},
   "source": [
    "<h3>2.7.4 用花哨的索引修改值</h3>"
   ]
  },
  {
   "cell_type": "markdown",
   "id": "57abddf6-06c9-47d9-96a6-52a8b1c7d48f",
   "metadata": {},
   "source": [
    "<p>正如花哨的索引可以被用于获取部分数组，它也可以被用于修改部分数\n",
    "组。例如，假设我们有一个索引数组，并且希望设置数组中对应的值：</p>"
   ]
  },
  {
   "cell_type": "code",
   "execution_count": 128,
   "id": "68cd4f74-6f19-4c08-b596-acb35e2cf3b8",
   "metadata": {},
   "outputs": [
    {
     "data": {
      "text/plain": [
       "array([0, 1, 2, 3, 4, 5, 6, 7, 8, 9])"
      ]
     },
     "execution_count": 128,
     "metadata": {},
     "output_type": "execute_result"
    }
   ],
   "source": [
    "x = np.arange(10)\n",
    "i = np.array([2,1,8,4])\n",
    "x"
   ]
  },
  {
   "cell_type": "code",
   "execution_count": 129,
   "id": "fb0d0ae1-05c8-4662-b9f2-84bc5da2e237",
   "metadata": {},
   "outputs": [
    {
     "data": {
      "text/plain": [
       "array([2, 1, 8, 4])"
      ]
     },
     "execution_count": 129,
     "metadata": {},
     "output_type": "execute_result"
    }
   ],
   "source": [
    "i"
   ]
  },
  {
   "cell_type": "code",
   "execution_count": 130,
   "id": "be1074b8-0eb1-4b96-8773-2d0b5ddda81f",
   "metadata": {},
   "outputs": [
    {
     "name": "stdout",
     "output_type": "stream",
     "text": [
      "[ 0 99 99  3 99  5  6  7 99  9]\n"
     ]
    }
   ],
   "source": [
    "x[i]=99 #让数组x的第2个元素第1个元素第8个元素第4个元素的值都变为99\n",
    "print(x) #打印输出查看结果"
   ]
  },
  {
   "cell_type": "markdown",
   "id": "8af00e9f-5c83-4942-8337-8d1f1f14813e",
   "metadata": {},
   "source": [
    "<p>可以用任何的赋值操作来实现，例如：</p>"
   ]
  },
  {
   "cell_type": "code",
   "execution_count": 131,
   "id": "58f065ba-5bc5-4684-a8a3-2ac32ffceacc",
   "metadata": {},
   "outputs": [
    {
     "name": "stdout",
     "output_type": "stream",
     "text": [
      "[ 0 89 89  3 89  5  6  7 89  9]\n"
     ]
    }
   ],
   "source": [
    "x[i] -= 10 #让数组x的第2个元素第1个元素第8个元素第4个元素的值都减去10\n",
    "print(x)"
   ]
  },
  {
   "cell_type": "markdown",
   "id": "323808b7-206f-4663-a9cb-e961c6c6fa17",
   "metadata": {},
   "source": [
    "<p>不过需要注意，操作中重复的索引会导致一些出乎意料的结果产生，如\n",
    "以下例子所示：</p>"
   ]
  },
  {
   "cell_type": "code",
   "execution_count": 133,
   "id": "e1df497e-5ab2-4863-aa99-6292f3501b53",
   "metadata": {},
   "outputs": [
    {
     "data": {
      "text/plain": [
       "array([0, 0, 0, 0, 0, 0, 0, 0, 0, 0])"
      ]
     },
     "execution_count": 133,
     "metadata": {},
     "output_type": "execute_result"
    }
   ],
   "source": [
    "x = np.zeros(10,dtype=int)\n",
    "x"
   ]
  },
  {
   "cell_type": "code",
   "execution_count": 134,
   "id": "10cc738b-92d0-4d71-8c5e-ee1e73fcc355",
   "metadata": {},
   "outputs": [
    {
     "name": "stdout",
     "output_type": "stream",
     "text": [
      "[6 0 0 0 0 0 0 0 0 0]\n"
     ]
    }
   ],
   "source": [
    "x[[0,0]] = [4,6]\n",
    "print(x)"
   ]
  },
  {
   "cell_type": "markdown",
   "id": "96a7c81a-61f3-4ca8-8db2-5550cb68bf12",
   "metadata": {},
   "source": [
    "<p>4 去哪里了呢？这个操作首先赋值 x[0] = 4，然后赋值 x[0] = 6，因\n",
    "此当然 x[0] 的值为 6。</p>"
   ]
  },
  {
   "cell_type": "markdown",
   "id": "dcc0e3f1-be02-4715-a775-bf14a5b1b234",
   "metadata": {},
   "source": [
    "<p>以上还算合理，但是设想以下操作：</p>"
   ]
  },
  {
   "cell_type": "code",
   "execution_count": 135,
   "id": "8b3c9ac7-8b3b-4e9d-9e3e-28d99cf0f689",
   "metadata": {},
   "outputs": [
    {
     "data": {
      "text/plain": [
       "array([6, 0, 1, 1, 1, 0, 0, 0, 0, 0])"
      ]
     },
     "execution_count": 135,
     "metadata": {},
     "output_type": "execute_result"
    }
   ],
   "source": [
    "i = [2,3,3,4,4,4]\n",
    "x[i]+=1\n",
    "x"
   ]
  },
  {
   "cell_type": "markdown",
   "id": "19307d04-f517-4abc-9a22-4c3de0892423",
   "metadata": {},
   "source": [
    "<p>你可能期望 x[3] 的值为 2，x[4] 的值为 3，因为这是这些索引值重复\n",
    "的次数。但是为什么结果不同于我们的预想呢？从概念的角度理解，这\n",
    "是因为 x[i] += 1 是 x[i] = x[i] + 1 的简写。x[i] + 1 计算后，\n",
    "这个结果被赋值给了 x 相应的索引值。记住这个原理后，我们却发现数\n",
    "组并没有发生多次累加，而是发生了赋值，显然这不是我们希望的结\n",
    "果。\n",
    "</p>"
   ]
  },
  {
   "cell_type": "markdown",
   "id": "2672f7dc-eecf-4088-bcf4-c82734e7222a",
   "metadata": {},
   "source": [
    "<p>因此，如果你希望累加，该怎么做呢？你可以借助通用函数中的 at()\n",
    "方法（在 NumPy 1.8 以后的版本中可以使用）来实现。进行如下操作：</p>"
   ]
  },
  {
   "cell_type": "code",
   "execution_count": 137,
   "id": "e5c42296-6990-42d1-a899-ff1a2a8c94cf",
   "metadata": {},
   "outputs": [],
   "source": [
    "x = np.zeros(10)"
   ]
  },
  {
   "cell_type": "code",
   "execution_count": 138,
   "id": "eee1e880-b6ad-4ecb-9a4d-e2dd065e2899",
   "metadata": {},
   "outputs": [
    {
     "data": {
      "text/plain": [
       "array([0., 0., 0., 0., 0., 0., 0., 0., 0., 0.])"
      ]
     },
     "execution_count": 138,
     "metadata": {},
     "output_type": "execute_result"
    }
   ],
   "source": [
    "x"
   ]
  },
  {
   "cell_type": "code",
   "execution_count": 140,
   "id": "882a8a5c-d53b-4052-b50f-d4f39b0da103",
   "metadata": {},
   "outputs": [
    {
     "name": "stdout",
     "output_type": "stream",
     "text": [
      "[0. 0. 1. 2. 3. 0. 0. 0. 0. 0.]\n"
     ]
    }
   ],
   "source": [
    "np.add.at(x,i,1)\n",
    "print(x)"
   ]
  },
  {
   "cell_type": "code",
   "execution_count": 139,
   "id": "2c5b47a3-9b8f-4bb7-8c28-ea16326241f5",
   "metadata": {},
   "outputs": [
    {
     "data": {
      "text/plain": [
       "\u001b[1;31mDocstring:\u001b[0m\n",
       "at(a, indices, b=None, /)\n",
       "\n",
       "Performs unbuffered in place operation on operand 'a' for elements\n",
       "specified by 'indices'. For addition ufunc, this method is equivalent to\n",
       "``a[indices] += b``, except that results are accumulated for elements that\n",
       "are indexed more than once. For example, ``a[[0,0]] += 1`` will only\n",
       "increment the first element once because of buffering, whereas\n",
       "``add.at(a, [0,0], 1)`` will increment the first element twice.\n",
       "\n",
       ".. versionadded:: 1.8.0\n",
       "\n",
       "Parameters\n",
       "----------\n",
       "a : array_like\n",
       "    The array to perform in place operation on.\n",
       "indices : array_like or tuple\n",
       "    Array like index object or slice object for indexing into first\n",
       "    operand. If first operand has multiple dimensions, indices can be a\n",
       "    tuple of array like index objects or slice objects.\n",
       "b : array_like\n",
       "    Second operand for ufuncs requiring two operands. Operand must be\n",
       "    broadcastable over first operand after indexing or slicing.\n",
       "\n",
       "Examples\n",
       "--------\n",
       "Set items 0 and 1 to their negative values:\n",
       "\n",
       ">>> a = np.array([1, 2, 3, 4])\n",
       ">>> np.negative.at(a, [0, 1])\n",
       ">>> a\n",
       "array([-1, -2,  3,  4])\n",
       "\n",
       "Increment items 0 and 1, and increment item 2 twice:\n",
       "\n",
       ">>> a = np.array([1, 2, 3, 4])\n",
       ">>> np.add.at(a, [0, 1, 2, 2], 1)\n",
       ">>> a\n",
       "array([2, 3, 5, 4])\n",
       "\n",
       "Add items 0 and 1 in first array to second array,\n",
       "and store results in first array:\n",
       "\n",
       ">>> a = np.array([1, 2, 3, 4])\n",
       ">>> b = np.array([1, 2])\n",
       ">>> np.add.at(a, [0, 1], b)\n",
       ">>> a\n",
       "array([2, 4, 3, 4])\n",
       "\u001b[1;31mType:\u001b[0m      builtin_function_or_method"
      ]
     },
     "metadata": {},
     "output_type": "display_data"
    }
   ],
   "source": [
    "np.add.at? #a表示数组,i表示索引,b表示要加上的数字"
   ]
  },
  {
   "cell_type": "markdown",
   "id": "9eaae2f0-faad-4c17-92c9-5529435932c7",
   "metadata": {},
   "source": [
    "<p>at() 函数在这里对给定的操作、给定的索引（这里是 i）以及给定的\n",
    "值（这里是 1）执行的是就地操作。另一个可以实现该功能的类似方法\n",
    "是通用函数中的 reduceat() 函数，你可以在 NumPy 文档中找到关于\n",
    "该函数的更多信息。\n",
    "</p>"
   ]
  },
  {
   "cell_type": "markdown",
   "id": "786b6788-3aa0-4f29-a603-4e20ad8a741e",
   "metadata": {},
   "source": [
    "<h3>2.7.5 示例：数据区间划分</h3>"
   ]
  },
  {
   "cell_type": "markdown",
   "id": "d6be3b4e-c738-4a90-b59e-e829df2a0088",
   "metadata": {},
   "source": [
    "<p>你可以用这些方法有效地将数据进行区间划分并手动创建直方图。例\n",
    "如，假定我们有 1000 个值，希望快速统计分布在每个区间中的数据频\n",
    "次，可以用 ufunc.at 来计算：</p>"
   ]
  },
  {
   "cell_type": "code",
   "execution_count": 143,
   "id": "068603a1-c22a-4b0f-b557-f641e31efec0",
   "metadata": {},
   "outputs": [],
   "source": [
    "np.random.seed(42)\n",
    "x = np.random.randn(100)\n",
    "\n",
    "# 手动计算直方图\n",
    "bins = np.linspace(-5,5,20) #-5 - 5 划分为20个区间\n",
    "counts = np.zeros_like(bins) #全部设置为0\n",
    "# 为每个x找到合适的区间\n",
    "i = np.searchsorted(bins,x)\n",
    "# 为每个区间加上1\n",
    "np.add.at(counts,i,1)"
   ]
  },
  {
   "cell_type": "markdown",
   "id": "ac8431ad-9593-4a6f-aa50-daccd6b5a4c9",
   "metadata": {},
   "source": [
    "<p>计数数组 counts 反映的是在每个区间中的点的个数，即直方图分布\n",
    "（如图 2-9 所示）：\n",
    "</p>"
   ]
  },
  {
   "cell_type": "code",
   "execution_count": 153,
   "id": "756326bb-054b-4a98-bbb9-6d4d37fe68b7",
   "metadata": {},
   "outputs": [
    {
     "data": {
      "image/png": "[encoded data removed]",
      "text/plain": [
       "<Figure size 1000x800 with 1 Axes>"
      ]
     },
     "metadata": {},
     "output_type": "display_data"
    }
   ],
   "source": [
    "plt.figure(figsize=(10,8),dpi=100)\n",
    "plt.plot(bins,counts,linestyle='--')\n",
    "plt.grid(True,alpha=0.5,linestyle='-',color='g')\n",
    "plt.show()"
   ]
  },
  {
   "cell_type": "markdown",
   "id": "9844cbfc-d5e8-43c6-b41b-bee677041ad8",
   "metadata": {},
   "source": [
    "<p style='text-align:center'>图2-9:手动计算直方图</p>"
   ]
  },
  {
   "cell_type": "markdown",
   "id": "7898ca45-830e-4cb9-beb5-83712aa53dc7",
   "metadata": {},
   "source": [
    "<p>当然，如果每次需要画直方图你都这么做的话，也是很不明智的。这就\n",
    "是为什么 Matplotlib 提供了 plt.hist() 方法，该方法仅用一行代码就\n",
    "实现了上述功能：</p>"
   ]
  },
  {
   "cell_type": "code",
   "execution_count": 157,
   "id": "4a8706e7-0391-48fc-9c1e-4738f8932809",
   "metadata": {},
   "outputs": [
    {
     "data": {
      "image/png": "[encoded data removed]",
      "text/plain": [
       "<Figure size 640x480 with 1 Axes>"
      ]
     },
     "metadata": {},
     "output_type": "display_data"
    }
   ],
   "source": [
    "plt.hist(x,bins)\n",
    "plt.grid(True,alpha=0.4,linestyle='--',color='g')\n",
    "plt.show()"
   ]
  },
  {
   "cell_type": "markdown",
   "id": "07366a63-6fc8-4e7e-b2af-487b00ef7292",
   "metadata": {},
   "source": [
    "<p>这个函数将生成一个和图 2-9 几乎一模一样的图。为了计算区间，\n",
    "Matplotlib 将使用 np.histogram 函数，该函数的计算功能也和上面执\n",
    "行的计算类似。接下来比较一下这两种方法：</p>"
   ]
  },
  {
   "cell_type": "code",
   "execution_count": 158,
   "id": "3f1325fd-3959-419f-a261-8ab0f98fd340",
   "metadata": {},
   "outputs": [
    {
     "name": "stdout",
     "output_type": "stream",
     "text": [
      "NumPy routine:\n",
      "26.7 µs ± 1.49 µs per loop (mean ± std. dev. of 7 runs, 10,000 loops each)\n",
      "Custom routine:\n",
      "14 µs ± 222 ns per loop (mean ± std. dev. of 7 runs, 100,000 loops each)\n"
     ]
    }
   ],
   "source": [
    "print(\"NumPy routine:\")\n",
    "%timeit counts, edges = np.histogram(x, bins)\n",
    "print(\"Custom routine:\")\n",
    "%timeit np.add.at(counts, np.searchsorted(bins, x), 1)"
   ]
  },
  {
   "cell_type": "markdown",
   "id": "8af3ff5d-6951-4503-bc83-6898e6cb6b1e",
   "metadata": {},
   "source": [
    "<p>可以看到，我们一行代码的算法比 NumPy 优化过的算法快好几倍！这\n",
    "是如何做到的呢？如果你深入 np.histogram 源代码（可以在 IPython\n",
    "中输入 np.histogram?? 查看源代码），就会看到它比我们前面用过的\n",
    "简单的搜索和计数方法更复杂。这是由于 NumPy 的算法更灵活（需要\n",
    "适应不同场景），因此在数据点比较大时更能显示出其良好性能：</p>"
   ]
  },
  {
   "cell_type": "raw",
   "id": "04c282a1-72ae-4b01-a0cc-217725f5f6d4",
   "metadata": {},
   "source": [
    "x = np.random.randn(1000000)\n",
    "print(\"NumPy routine:\")\n",
    "%timeit counts, edges = np.histogram(x, bins)\n",
    "print(\"Custom routine:\")\n",
    "%timeit np.add.at(counts, np.searchsorted(bins, x), 1)\n",
    "NumPy routine:\n",
    "10 loops, best of 3: 68.7 ms per loop\n",
    "Custom routine:\n",
    "10 loops, best of 3: 135 ms per loop"
   ]
  },
  {
   "cell_type": "markdown",
   "id": "9996e7f4-a6a4-44a5-8e91-f68eb0843588",
   "metadata": {},
   "source": [
    "<p>以上比较表明，算法效率并不是一个简单的问题。一个对大数据集非常\n",
    "有效的算法并不总是小数据集的最佳选择，反之同理（详情请参见\n",
    "2.8.3 节）。但是自己编写这个算法的好处是可以理解这些基本方法。\n",
    "你可以利用这些编写好的模块去扩展，以实现一些有意思的自定义操\n",
    "作。将 Python 有效地用于数据密集型应用中的关键是，当应用场景合\n",
    "适时知道使用 np.histogram 这样的现成函数，当需要执行更多指定的\n",
    "操作时也知道如何利用更低级的功能来实现。</p>"
   ]
  },
  {
   "cell_type": "code",
   "execution_count": 159,
   "id": "6867a9f5-e9dd-4b28-ba99-746d5d4242c9",
   "metadata": {},
   "outputs": [],
   "source": [
    "# 转numpy第三段"
   ]
  }
 ],
 "metadata": {
  "kernelspec": {
   "display_name": "Python 3 (ipykernel)",
   "language": "python",
   "name": "python3"
  },
  "language_info": {
   "codemirror_mode": {
    "name": "ipython",
    "version": 3
   },
   "file_extension": ".py",
   "mimetype": "text/x-python",
   "name": "python",
   "nbconvert_exporter": "python",
   "pygments_lexer": "ipython3",
   "version": "3.9.7"
  }
 },
 "nbformat": 4,
 "nbformat_minor": 5
}
