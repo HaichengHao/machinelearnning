{
 "cells": [
  {
   "cell_type": "code",
   "execution_count": 1,
   "id": "eafc93ef-2691-4e19-84f6-cb8edcb689b8",
   "metadata": {},
   "outputs": [
    {
     "data": {
      "text/html": [
       "<style type='text/css'>\n",
       "    h1{\n",
       "        color:#1976d2;\n",
       "    }\n",
       "    h2{\n",
       "        color:#f57c00;\n",
       "    }\n",
       "    h3{\n",
       "        color:#ba37ff;\n",
       "    }\n",
       "    table{\n",
       "        border:1px solid black !important;\n",
       "        border-collapse:collapse !important;\n",
       "    }\n",
       "    th{\n",
       "        background-color:blueviolet !important;\n",
       "        text-align:center;\n",
       "        color:white;\n",
       "    }\n",
       "    th,td{\n",
       "        border:0.1px solid black !important;\n",
       "        transition:0.2s all liner;\n",
       "        \n",
       "    }\n",
       "    td:hover{\n",
       "        transform:scale(1.1);\n",
       "        background-color:orange;\n",
       "        color:blueviolet;\n",
       "    }\n",
       "</style>\n"
      ],
      "text/plain": [
       "<IPython.core.display.HTML object>"
      ]
     },
     "metadata": {},
     "output_type": "display_data"
    }
   ],
   "source": [
    "%%HTML\n",
    "<style type='text/css'>\n",
    "    h1{\n",
    "        color:#1976d2;\n",
    "    }\n",
    "    h2{\n",
    "        color:#f57c00;\n",
    "    }\n",
    "    h3{\n",
    "        color:#ba37ff;\n",
    "    }\n",
    "    table{\n",
    "        border:1px solid black !important;\n",
    "        border-collapse:collapse !important;\n",
    "    }\n",
    "    th{\n",
    "        background-color:blueviolet !important;\n",
    "        text-align:center;\n",
    "        color:white;\n",
    "    }\n",
    "    th,td{\n",
    "        border:0.1px solid black !important;\n",
    "        transition:0.2s all liner;\n",
    "        \n",
    "    }\n",
    "    td:hover{\n",
    "        transform:scale(1.1);\n",
    "        background-color:orange;\n",
    "        color:blueviolet;\n",
    "    }\n",
    "</style>"
   ]
  },
  {
   "cell_type": "markdown",
   "id": "f5eb3a97-f141-42ae-9427-89e736cafbfe",
   "metadata": {},
   "source": [
    "<h1>第二章 numpy入门</h1>"
   ]
  },
  {
   "cell_type": "markdown",
   "id": "d761626f-b130-45b2-9b5e-a9ef83f2a612",
   "metadata": {},
   "source": [
    "<p>本章和第 3 章将介绍通过 Python 有效导入、存储和操作内存数据的主\n",
    "要技巧。这个主题非常广泛，因为数据集的来源与格式都十分丰富，比\n",
    "如文档集合、图像集合、声音片段集合、数值数据集合，等等。这些数\n",
    "据虽然存在明显的异构性，但是将所有数据简单地看作数字数组非常有\n",
    "助于我们理解和处理数据。</p>"
   ]
  },
  {
   "cell_type": "markdown",
   "id": "8b6691c0-2398-419e-b58b-4088b841165b",
   "metadata": {},
   "source": [
    "<p>例如，可以将图像（尤其是数字图像）简单地看作二维数字数组，这些\n",
    "数字数组代表各区域的像素值；声音片段可以看作时间和强度的一维数\n",
    "组；文本也可以通过各种方式转换成数值表示，一种可能的转换是用二\n",
    "进制数表示特定单词或单词对出现的频率。不管数据是何种形式，第一\n",
    "步都是将这些数据转换成数值数组形式的可分析数据（5.4 节将更详细\n",
    "地介绍一些实现这种数据转换的示例）。</p>"
   ]
  },
  {
   "cell_type": "markdown",
   "id": "41cd8a60-374d-4ef1-a8a1-caf93e2ffac5",
   "metadata": {},
   "source": [
    "<p>正因如此，有效地存储和操作数值数组是数据科学中绝对的基础过程。\n",
    "我们将介绍 Python 中专门用来处理这些数值数组的工具：NumPy 包和\n",
    "Pandas 包（将在第 3 章介绍）。</p>"
   ]
  },
  {
   "cell_type": "markdown",
   "id": "4cc614e2-1818-4bb7-88a8-93bc81a23721",
   "metadata": {},
   "source": [
    "<p>本章将详细介绍 NumPy。NumPy（Numerical Python 数字化python的简称）提供了高\n",
    "效存储和操作密集数据缓存的接口。在某些方面，NumPy 数组与\n",
    "Python 内置的列表类型非常相似。但是随着数组在维度上变大，NumPy\n",
    "数组提供了更加高效的存储和数据操作。NumPy 数组几乎是整个\n",
    "Python 数据科学工具生态系统的核心。因此，不管你对数据科学的哪个\n",
    "方面感兴趣，花点时间学习如何有效地使用 NumPy 都是非常值得的。</p>"
   ]
  },
  {
   "cell_type": "markdown",
   "id": "a08d7cd0-3e3b-4bf5-915d-54c5d57ef770",
   "metadata": {},
   "source": [
    "<p>如果你听从前言给出的建议安装了 Anaconda，那么你已经安装好\n",
    "NumPy，并可以使用它了。如果你是个体验派，则可以到 <a href='http://www.numpy.org/'>NumPy 网站</a>\n",
    "（http://www.numpy.org/）按照其安装指导进行安装。安装好后，你可\n",
    "以导入 NumPy 并再次核实你的 NumPy 版本：</p>"
   ]
  },
  {
   "cell_type": "code",
   "execution_count": 4,
   "id": "4091d051-7ac7-494b-82f2-812b9c1a05b9",
   "metadata": {},
   "outputs": [],
   "source": [
    "import numpy as np"
   ]
  },
  {
   "cell_type": "code",
   "execution_count": 3,
   "id": "ca121715-62fc-49d3-837b-9da37203f26a",
   "metadata": {},
   "outputs": [
    {
     "data": {
      "text/plain": [
       "'2.0.1'"
      ]
     },
     "execution_count": 3,
     "metadata": {},
     "output_type": "execute_result"
    }
   ],
   "source": [
    "numpy.__version__"
   ]
  },
  {
   "cell_type": "markdown",
   "id": "765bc99c-64c9-4f46-9c38-7981bbca693a",
   "metadata": {},
   "source": [
    "<p>针对本章中介绍的 NumPy 功能，我建议你使用 NumPy 1.8 及之后的版\n",
    "本。遵循传统，你将发现 SciPy / PyData 社区中的大多数人都用 np 作为\n",
    "别名导入 NumPy：</p>\n"
   ]
  },
  {
   "cell_type": "markdown",
   "id": "6d9781fb-b6d1-4a66-b350-4d34852dab90",
   "metadata": {},
   "source": [
    "<p> import numpy as np </p>"
   ]
  },
  {
   "cell_type": "raw",
   "id": "2d924d55-51d4-436e-b513-8e42c78ef406",
   "metadata": {},
   "source": [
    "在本章以及之后的内容中，我们都将用这种方式导入和使用 NumPy。"
   ]
  },
  {
   "cell_type": "markdown",
   "id": "e3ea9204-b08c-4468-a85e-6b22b02c6495",
   "metadata": {},
   "source": [
    "当你阅读本章时，不要忘记 IPython 提供了快速探索包的内容的方\n",
    "法（用 Tab 键自动补全），以及各种函数的文档（用 ? 符号）。如\n",
    "果你还需要回顾一下，可以翻回 1.2 节。"
   ]
  },
  {
   "cell_type": "markdown",
   "id": "a0b75cac-6139-4b5f-af8a-d34a094a19be",
   "metadata": {},
   "source": [
    "例如，要显示 numpy 命名空间的所有内容，可以用如下方式："
   ]
  },
  {
   "cell_type": "markdown",
   "id": "accdae17-ff43-4da8-9604-6c7e01c4a0f2",
   "metadata": {},
   "source": [
    "<p> np.&lt;TAB&gt;</p>"
   ]
  },
  {
   "cell_type": "raw",
   "id": "e3e05817-445e-493f-9131-def0a44d3bb4",
   "metadata": {},
   "source": [
    "要显示 NumPy 内置的文档，可以用如下方式：\n"
   ]
  },
  {
   "cell_type": "code",
   "execution_count": 5,
   "id": "5faa40e4-0062-4407-aff9-48668d9fda21",
   "metadata": {},
   "outputs": [
    {
     "data": {
      "text/plain": [
       "\u001b[1;31mType:\u001b[0m        module\n",
       "\u001b[1;31mString form:\u001b[0m <module 'numpy' from 'D:\\\\virtualenvs\\\\ai\\\\lib\\\\site-packages\\\\numpy\\\\__init__.py'>\n",
       "\u001b[1;31mFile:\u001b[0m        d:\\virtualenvs\\ai\\lib\\site-packages\\numpy\\__init__.py\n",
       "\u001b[1;31mDocstring:\u001b[0m  \n",
       "NumPy\n",
       "=====\n",
       "\n",
       "Provides\n",
       "  1. An array object of arbitrary homogeneous items\n",
       "  2. Fast mathematical operations over arrays\n",
       "  3. Linear Algebra, Fourier Transforms, Random Number Generation\n",
       "\n",
       "How to use the documentation\n",
       "----------------------------\n",
       "Documentation is available in two forms: docstrings provided\n",
       "with the code, and a loose standing reference guide, available from\n",
       "`the NumPy homepage <https://numpy.org>`_.\n",
       "\n",
       "We recommend exploring the docstrings using\n",
       "`IPython <https://ipython.org>`_, an advanced Python shell with\n",
       "TAB-completion and introspection capabilities.  See below for further\n",
       "instructions.\n",
       "\n",
       "The docstring examples assume that `numpy` has been imported as ``np``::\n",
       "\n",
       "  >>> import numpy as np\n",
       "\n",
       "Code snippets are indicated by three greater-than signs::\n",
       "\n",
       "  >>> x = 42\n",
       "  >>> x = x + 1\n",
       "\n",
       "Use the built-in ``help`` function to view a function's docstring::\n",
       "\n",
       "  >>> help(np.sort)\n",
       "  ... # doctest: +SKIP\n",
       "\n",
       "For some objects, ``np.info(obj)`` may provide additional help.  This is\n",
       "particularly true if you see the line \"Help on ufunc object:\" at the top\n",
       "of the help() page.  Ufuncs are implemented in C, not Python, for speed.\n",
       "The native Python help() does not know how to view their help, but our\n",
       "np.info() function does.\n",
       "\n",
       "Available subpackages\n",
       "---------------------\n",
       "lib\n",
       "    Basic functions used by several sub-packages.\n",
       "random\n",
       "    Core Random Tools\n",
       "linalg\n",
       "    Core Linear Algebra Tools\n",
       "fft\n",
       "    Core FFT routines\n",
       "polynomial\n",
       "    Polynomial tools\n",
       "testing\n",
       "    NumPy testing tools\n",
       "distutils\n",
       "    Enhancements to distutils with support for\n",
       "    Fortran compilers support and more (for Python <= 3.11)\n",
       "\n",
       "Utilities\n",
       "---------\n",
       "test\n",
       "    Run numpy unittests\n",
       "show_config\n",
       "    Show numpy build configuration\n",
       "__version__\n",
       "    NumPy version string\n",
       "\n",
       "Viewing documentation using IPython\n",
       "-----------------------------------\n",
       "\n",
       "Start IPython and import `numpy` usually under the alias ``np``: `import\n",
       "numpy as np`.  Then, directly past or use the ``%cpaste`` magic to paste\n",
       "examples into the shell.  To see which functions are available in `numpy`,\n",
       "type ``np.<TAB>`` (where ``<TAB>`` refers to the TAB key), or use\n",
       "``np.*cos*?<ENTER>`` (where ``<ENTER>`` refers to the ENTER key) to narrow\n",
       "down the list.  To view the docstring for a function, use\n",
       "``np.cos?<ENTER>`` (to view the docstring) and ``np.cos??<ENTER>`` (to view\n",
       "the source code).\n",
       "\n",
       "Copies vs. in-place operation\n",
       "-----------------------------\n",
       "Most of the functions in `numpy` return a copy of the array argument\n",
       "(e.g., `np.sort`).  In-place versions of these functions are often\n",
       "available as array methods, i.e. ``x = np.array([1,2,3]); x.sort()``.\n",
       "Exceptions to this rule are documented."
      ]
     },
     "metadata": {},
     "output_type": "display_data"
    }
   ],
   "source": [
    "np?"
   ]
  },
  {
   "cell_type": "markdown",
   "id": "3c6b2cb6-d046-44bb-b701-5633ada28e3c",
   "metadata": {},
   "source": [
    "<p>要获取更详细的文档以及教程和其他资源，可以访问\n",
    "<a href='http://www.numpy.org'>http://www.numpy.org。</a></p>"
   ]
  },
  {
   "cell_type": "markdown",
   "id": "3a38b97d-9323-46d9-8f92-5c777e38009c",
   "metadata": {},
   "source": [
    "<h2>2.1 理解Python中的数据类型</h2>"
   ]
  },
  {
   "cell_type": "markdown",
   "id": "6df55efb-3eaf-4db0-a623-b5450354b0d5",
   "metadata": {},
   "source": [
    "<p>\n",
    "    要实现高效的数据驱动科学和计算，需要理解数据是如何被存储和操作\n",
    "的。本节将介绍在 Python 语言中数据数组是如何被处理的，并对比\n",
    "NumPy 所做的改进。理解这个不同之处是理解本书其他内容的基础。<br>\n",
    "Python 的用户往往被其易用性所吸引，其中一个易用之处就在于动态输\n",
    "入。静态类型的语言（如 C 或 Java）往往需要每一个变量都明确地声\n",
    "明，而动态类型的语言（例如 Python）可以跳过这个特殊规定。例如在\n",
    "C 语言中，你可能会按照如下方式指定一个特殊的操作：\n",
    "</p>"
   ]
  },
  {
   "cell_type": "raw",
   "id": "f0cffb44-d67a-4d84-b582-39736018ad42",
   "metadata": {},
   "source": [
    "/* C代码 */\n",
    "int result = 0;\n",
    "for(int i=0; i<100; i++){\n",
    "result += i;\n",
    "}\n"
   ]
  },
  {
   "cell_type": "raw",
   "id": "9e70e7c3-2369-4fd8-9728-e62d82b2862e",
   "metadata": {},
   "source": [
    "而在 Python 中，同等的操作可以按照如下方式实现："
   ]
  },
  {
   "cell_type": "raw",
   "id": "0907da4e-e61b-4cec-a230-ae3e8f2ea241",
   "metadata": {},
   "source": [
    "result=0\n",
    "for i in range(100):\n",
    "    result+=i\n",
    "    "
   ]
  },
  {
   "cell_type": "markdown",
   "id": "e715b957-6788-4118-98b9-f99eb4798c36",
   "metadata": {},
   "source": [
    "<p>注意这里最大的不同之处：在 C 语言中，每个变量的数据类型被明确地\n",
    "声明；而在 Python 中，类型是动态推断的。这意味着可以将任何类型\n",
    "的数据指定给任何变量：\n",
    "</p>"
   ]
  },
  {
   "cell_type": "raw",
   "id": "b812805a-6a0f-48e6-9d08-05716043b6f9",
   "metadata": {},
   "source": [
    "# Python代码\n",
    "x = 4\n",
    "x = \"four\""
   ]
  },
  {
   "cell_type": "raw",
   "id": "bfe0bd0e-aaff-4d05-b767-361ebf2e860f",
   "metadata": {},
   "source": [
    "这里已经将 x 变量的内容由整型转变成了字符串，而同样的操作在 C\n",
    "语言中将会导致（取决于编译器设置）编译错误或其他未知的后果"
   ]
  },
  {
   "cell_type": "raw",
   "id": "f8e3c183-bbb9-47f6-b79e-8fef765360a5",
   "metadata": {},
   "source": [
    "/* C代码 */\n",
    "int x = 4;\n",
    "x = \"four\"; // 编译失败"
   ]
  },
  {
   "cell_type": "raw",
   "id": "998a4c56-fb06-4332-a65f-4e51451484e0",
   "metadata": {},
   "source": [
    "这种灵活性是使 Python 和其他动态类型的语言更易用的原因之一。理\n",
    "解这一特性如何工作是学习用 Python 有效且高效地分析数据的重要因\n",
    "素。但是这种类型灵活性也指出了一个事实：Python 变量不仅是它们的\n",
    "值，还包括了关于值的类型的一些额外信息，本节接下来的内容将进行\n",
    "更详细的介绍。\n"
   ]
  },
  {
   "cell_type": "markdown",
   "id": "ec58e9eb-20a9-4c46-bee8-b6056a7fccaf",
   "metadata": {},
   "source": [
    "<h3>2.1.1 Python整型不仅仅是一个整型\n",
    "</h3>"
   ]
  },
  {
   "cell_type": "markdown",
   "id": "6ea6dd6a-67d4-49a7-a63d-54e722e5c631",
   "metadata": {},
   "source": [
    "<p>标准的 Python 实现是用 C 语言编写的。这意味着每一个 Python 对象都\n",
    "是一个聪明的伪 C 语言结构体，该结构体不仅包含其值，还有其他信\n",
    "息。例如，当我们在 Python 中定义一个整型，例如 x = 10000 时，x\n",
    "并不是一个“原生”整型，而是一个指针，指向一个 C 语言的复合结构\n",
    "体，结构体里包含了一些值。查看 Python 3.4 的源代码，可以发现整型\n",
    "（长整型）的定义，如下所示（C 语言的宏经过扩展之后）：\n",
    "</p>"
   ]
  },
  {
   "cell_type": "raw",
   "id": "c6bd6a04-3173-40ef-bc63-1b3f168f8f5f",
   "metadata": {},
   "source": [
    "struct _longobject {\n",
    "    long ob_refcnt;\n",
    "    PyTypeObject *ob_type;\n",
    "    size_t ob_size;\n",
    "    long ob_digit[1];\n",
    "};"
   ]
  },
  {
   "cell_type": "markdown",
   "id": "7ba2dd7a-2d0c-4ef3-89dc-ac9032f55635",
   "metadata": {},
   "source": [
    "<p>Python 3.4 中的一个整型实际上包括 4 个部分。</p>\n",
    "<ul>\n",
    "    <li>ob_refcnt 是一个引用计数，它帮助 Python 默默地处理内存的分\n",
    "配和回收。</li>\n",
    "    <li>ob_type 将变量的类型编码。\n",
    "</li>\n",
    "    <li>ob_size 指定接下来的数据成员的大小。</li>\n",
    "    <li>ob_digit 包含我们希望 Python 变量表示的实际整型值。</li>\n",
    "</ul>\n"
   ]
  },
  {
   "cell_type": "markdown",
   "id": "aca208d5-9ba5-42b7-946b-d9de631ae430",
   "metadata": {},
   "source": [
    "<p>这意味着与 C 语言这样的编译语言中的整型相比，在 Python 中存储一\n",
    "个整型会有一些开销，正如图 2-1 所示。</p>"
   ]
  },
  {
   "cell_type": "markdown",
   "id": "01ab5f88-0257-4ba2-840d-4ad2a8ee5baa",
   "metadata": {},
   "source": [
    "<img src='../imgs/2.1.png'>"
   ]
  },
  {
   "cell_type": "raw",
   "id": "c2534acf-8351-4a84-9da6-5a538c134f90",
   "metadata": {},
   "source": [
    "这里 PyObject_HEAD 是结构体中包含引用计数、类型编码和其他之前\n",
    "提到的内容的部分。"
   ]
  },
  {
   "cell_type": "raw",
   "id": "0671fea0-4c1f-420c-a710-f5c4c7269a53",
   "metadata": {},
   "source": [
    "两者的差异在于，C 语言整型本质上是对应某个内存位置的标签，里面\n",
    "存储的字节会编码成整型。而 Python 的整型其实是一个指针，指向包\n",
    "含这个 Python 对象所有信息的某个内存位置，其中包括可以转换成整\n",
    "型的字节。由于 Python 的整型结构体里面还包含了大量额外的信息，\n",
    "所以 Python 可以自由、动态地编码。但是，Python 类型中的这些额外\n",
    "信息也会成为负担，在多个对象组合的结构体中尤其明显。"
   ]
  },
  {
   "cell_type": "markdown",
   "id": "1b612689-e7c3-4053-9fa4-dddf25046f4b",
   "metadata": {},
   "source": [
    "<h3>2.1.2 Python列表不仅仅是一个列表</h3>"
   ]
  },
  {
   "cell_type": "markdown",
   "id": "a16af1aa-69d8-4e5f-a747-83a5299c718d",
   "metadata": {},
   "source": [
    "<p>设想如果使用一个包含很多 Python 对象的 Python 数据结构，会发生什\n",
    "么？ Python 中的标准可变多元素容器是列表。可以用如下方式创建一\n",
    "个整型值列表：</p>"
   ]
  },
  {
   "cell_type": "code",
   "execution_count": 8,
   "id": "b1a9a29f-2765-4158-9232-0818c33b6407",
   "metadata": {},
   "outputs": [],
   "source": [
    "L = list(i for i in range(10))"
   ]
  },
  {
   "cell_type": "code",
   "execution_count": 9,
   "id": "e39e12f5-f25a-4e76-a8db-482d7e5286f2",
   "metadata": {},
   "outputs": [
    {
     "data": {
      "text/plain": [
       "[0, 1, 2, 3, 4, 5, 6, 7, 8, 9]"
      ]
     },
     "execution_count": 9,
     "metadata": {},
     "output_type": "execute_result"
    }
   ],
   "source": [
    "L"
   ]
  },
  {
   "cell_type": "code",
   "execution_count": 10,
   "id": "25d601a1-1925-4785-bbc9-fd797c777fe6",
   "metadata": {},
   "outputs": [
    {
     "data": {
      "text/plain": [
       "list"
      ]
     },
     "execution_count": 10,
     "metadata": {},
     "output_type": "execute_result"
    }
   ],
   "source": [
    "type(L)"
   ]
  },
  {
   "cell_type": "raw",
   "id": "45971548-4fd8-4b8a-b6dd-8142419941d6",
   "metadata": {},
   "source": [
    "或者创建一个字符串列表："
   ]
  },
  {
   "cell_type": "code",
   "execution_count": 11,
   "id": "ee3ce3a5-ebaf-4cdb-8652-73df46506e32",
   "metadata": {},
   "outputs": [],
   "source": [
    "L2 = [str(c) for c in L]"
   ]
  },
  {
   "cell_type": "code",
   "execution_count": 12,
   "id": "11cf3210-ff84-48da-8fbe-bc40932876b7",
   "metadata": {},
   "outputs": [
    {
     "data": {
      "text/plain": [
       "['0', '1', '2', '3', '4', '5', '6', '7', '8', '9']"
      ]
     },
     "execution_count": 12,
     "metadata": {},
     "output_type": "execute_result"
    }
   ],
   "source": [
    "L2"
   ]
  },
  {
   "cell_type": "code",
   "execution_count": 13,
   "id": "4dc27120-f287-4bc2-864f-db8f5f939f7d",
   "metadata": {},
   "outputs": [
    {
     "data": {
      "text/plain": [
       "str"
      ]
     },
     "execution_count": 13,
     "metadata": {},
     "output_type": "execute_result"
    }
   ],
   "source": [
    "type(L2[0])"
   ]
  },
  {
   "cell_type": "raw",
   "id": "201e11b7-a9fb-4460-a367-5a186851dc9a",
   "metadata": {},
   "source": [
    "因为 Python 的动态类型特性，甚至可以创建一个异构的列表："
   ]
  },
  {
   "cell_type": "code",
   "execution_count": 14,
   "id": "69ee1461-6529-45ed-994b-9d1e8685b86a",
   "metadata": {},
   "outputs": [],
   "source": [
    "L3 = [True,\"2\",3.0,4]"
   ]
  },
  {
   "cell_type": "code",
   "execution_count": 15,
   "id": "8a4995d6-65ec-41a4-b743-9ad97f78a7f6",
   "metadata": {},
   "outputs": [
    {
     "data": {
      "text/plain": [
       "[bool, str, float, int]"
      ]
     },
     "execution_count": 15,
     "metadata": {},
     "output_type": "execute_result"
    }
   ],
   "source": [
    "[type(item) for item in L3]"
   ]
  },
  {
   "cell_type": "raw",
   "id": "8bda3b19-cc09-48e1-941a-b9fe6d3548a2",
   "metadata": {},
   "source": [
    "但是想拥有这种灵活性也是要付出一定代价的：为了获得这些灵活的类\n",
    "型，列表中的每一项必须包含各自的类型信息、引用计数和其他信息；\n",
    "也就是说，每一项都是一个完整的 Python 对象。来看一个特殊的例\n",
    "子，如果列表中的所有变量都是同一类型的，那么很多信息都会显得多\n",
    "余——将数据存储在固定类型的数组中应该会更高效。动态类型的列表\n",
    "和固定类型的（NumPy 式）数组间的区别如图 2-2 所示。\n"
   ]
  },
  {
   "cell_type": "raw",
   "id": "b50fd79c-edd2-4bc0-bfb4-24abb56209e1",
   "metadata": {},
   "source": [
    "在实现层面，数组基本上包含一个指向连续数据块的指针。另一方面，\n",
    "Python 列表包含一个指向指针块的指针，这其中的每一个指针对应一个\n",
    "完整的 Python 对象（如前面看到的 Python 整型）。另外，列表的优势\n",
    "是灵活，因为每个列表元素是一个包含数据和类型信息的完整结构体，\n",
    "而且列表可以用任意类型的数据填充。固定类型的 NumPy 式数组缺乏\n",
    "这种灵活性，但是能更有效地存储和操作数据。"
   ]
  },
  {
   "cell_type": "markdown",
   "id": "5d23c17a-f1f9-4933-b16f-6e96764ee213",
   "metadata": {},
   "source": [
    "<img src='../imgs/2.2.png'>"
   ]
  },
  {
   "cell_type": "markdown",
   "id": "9e66fb08-2a44-45cf-8637-79cc3fc7fe27",
   "metadata": {},
   "source": [
    "<h3>2.1.3 Python中的固定类型数组</h3>"
   ]
  },
  {
   "cell_type": "raw",
   "id": "f9b90d34-6a89-4248-95ad-3ae0fe73d833",
   "metadata": {},
   "source": [
    "Python 提供了几种将数据存储在有效的、固定类型的数据缓存中的选\n",
    "项。内置的数组（array）模块（在 Python 3.3 之后可用）可以用于创\n",
    "建统一类型的密集数组：\n"
   ]
  },
  {
   "cell_type": "code",
   "execution_count": 16,
   "id": "83d8e682-be6d-4b3b-b4b3-cf751632001c",
   "metadata": {},
   "outputs": [
    {
     "ename": "ModuleNotFoundError",
     "evalue": "No module named 'arry'",
     "output_type": "error",
     "traceback": [
      "\u001b[1;31m---------------------------------------------------------------------------\u001b[0m",
      "\u001b[1;31mModuleNotFoundError\u001b[0m                       Traceback (most recent call last)",
      "Cell \u001b[1;32mIn[16], line 1\u001b[0m\n\u001b[1;32m----> 1\u001b[0m \u001b[38;5;28;01mimport\u001b[39;00m \u001b[38;5;21;01marry\u001b[39;00m\n\u001b[0;32m      2\u001b[0m L \u001b[38;5;241m=\u001b[39m \u001b[38;5;28mlist\u001b[39m(\u001b[38;5;28mrange\u001b[39m(\u001b[38;5;241m10\u001b[39m))\n\u001b[0;32m      3\u001b[0m A \u001b[38;5;241m=\u001b[39m array\u001b[38;5;241m.\u001b[39marray(\u001b[38;5;124m'\u001b[39m\u001b[38;5;124mi\u001b[39m\u001b[38;5;124m'\u001b[39m,L)\n",
      "\u001b[1;31mModuleNotFoundError\u001b[0m: No module named 'arry'"
     ]
    }
   ],
   "source": [
    "L = list(range(10))\n",
    "A = array.array('i',L)\n",
    "A"
   ]
  },
  {
   "cell_type": "code",
   "execution_count": null,
   "id": "6aa7eaf1-426b-473d-b5d6-d41c4bb2727b",
   "metadata": {},
   "outputs": [],
   "source": []
  }
 ],
 "metadata": {
  "kernelspec": {
   "display_name": "Python 3 (ipykernel)",
   "language": "python",
   "name": "python3"
  },
  "language_info": {
   "codemirror_mode": {
    "name": "ipython",
    "version": 3
   },
   "file_extension": ".py",
   "mimetype": "text/x-python",
   "name": "python",
   "nbconvert_exporter": "python",
   "pygments_lexer": "ipython3",
   "version": "3.9.7"
  }
 },
 "nbformat": 4,
 "nbformat_minor": 5
}
