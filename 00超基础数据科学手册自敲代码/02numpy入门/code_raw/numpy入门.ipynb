{
 "cells": [
  {
   "cell_type": "code",
   "execution_count": 78,
   "id": "eafc93ef-2691-4e19-84f6-cb8edcb689b8",
   "metadata": {},
   "outputs": [
    {
     "data": {
      "text/html": [
       "<style type='text/css'>\n",
       "    *{\n",
       "        background-color:#E3EDCD;\n",
       "        # background-color:black;\n",
       "        # color:white;\n",
       "        \n",
       "    }\n",
       "    h1{\n",
       "        color:#1976d2;\n",
       "    }\n",
       "    h2{\n",
       "        color:#f57c00;\n",
       "    }\n",
       "    h3{\n",
       "        color:#ba37ff;\n",
       "    }\n",
       "    table{\n",
       "        border:1px solid black !important;\n",
       "        border-collapse:collapse !important;\n",
       "    }\n",
       "    th{\n",
       "        background-color:blueviolet !important;\n",
       "        text-align:center;\n",
       "        color:white;\n",
       "    }\n",
       "    th,td{\n",
       "        border:0.1px solid black !important;\n",
       "        transition:0.2s all liner;\n",
       "        \n",
       "    }\n",
       "    td:hover{\n",
       "        transform:scale(1.1);\n",
       "        background-color:orange;\n",
       "        color:blueviolet;\n",
       "    }\n",
       "</style>\n"
      ],
      "text/plain": [
       "<IPython.core.display.HTML object>"
      ]
     },
     "metadata": {},
     "output_type": "display_data"
    }
   ],
   "source": [
    "%%HTML\n",
    "<style type='text/css'>\n",
    "    *{\n",
    "        background-color:#E3EDCD;\n",
    "        # background-color:black;\n",
    "        # color:white;\n",
    "        \n",
    "    }\n",
    "    h1{\n",
    "        color:#1976d2;\n",
    "    }\n",
    "    h2{\n",
    "        color:#f57c00;\n",
    "    }\n",
    "    h3{\n",
    "        color:#ba37ff;\n",
    "    }\n",
    "    table{\n",
    "        border:1px solid black !important;\n",
    "        border-collapse:collapse !important;\n",
    "    }\n",
    "    th{\n",
    "        background-color:blueviolet !important;\n",
    "        text-align:center;\n",
    "        color:white;\n",
    "    }\n",
    "    th,td{\n",
    "        border:0.1px solid black !important;\n",
    "        transition:0.2s all liner;\n",
    "        \n",
    "    }\n",
    "    td:hover{\n",
    "        transform:scale(1.1);\n",
    "        background-color:orange;\n",
    "        color:blueviolet;\n",
    "    }\n",
    "</style>"
   ]
  },
  {
   "cell_type": "markdown",
   "id": "f5eb3a97-f141-42ae-9427-89e736cafbfe",
   "metadata": {},
   "source": [
    "<h1>第二章 numpy入门</h1>"
   ]
  },
  {
   "cell_type": "markdown",
   "id": "d761626f-b130-45b2-9b5e-a9ef83f2a612",
   "metadata": {},
   "source": [
    "<p>本章和第 3 章将介绍通过 Python 有效导入、存储和操作内存数据的主\n",
    "要技巧。这个主题非常广泛，因为数据集的来源与格式都十分丰富，比\n",
    "如文档集合、图像集合、声音片段集合、数值数据集合，等等。这些数\n",
    "据虽然存在明显的异构性，但是将所有数据简单地看作数字数组非常有\n",
    "助于我们理解和处理数据。</p>"
   ]
  },
  {
   "cell_type": "markdown",
   "id": "8b6691c0-2398-419e-b58b-4088b841165b",
   "metadata": {},
   "source": [
    "<p>例如，可以将图像（尤其是数字图像）简单地看作二维数字数组，这些\n",
    "数字数组代表各区域的像素值；声音片段可以看作时间和强度的一维数\n",
    "组；文本也可以通过各种方式转换成数值表示，一种可能的转换是用二\n",
    "进制数表示特定单词或单词对出现的频率。不管数据是何种形式，第一\n",
    "步都是将这些数据转换成数值数组形式的可分析数据（5.4 节将更详细\n",
    "地介绍一些实现这种数据转换的示例）。</p>"
   ]
  },
  {
   "cell_type": "markdown",
   "id": "41cd8a60-374d-4ef1-a8a1-caf93e2ffac5",
   "metadata": {},
   "source": [
    "<p>正因如此，有效地存储和操作数值数组是数据科学中绝对的基础过程。\n",
    "我们将介绍 Python 中专门用来处理这些数值数组的工具：NumPy 包和\n",
    "Pandas 包（将在第 3 章介绍）。</p>"
   ]
  },
  {
   "cell_type": "markdown",
   "id": "4cc614e2-1818-4bb7-88a8-93bc81a23721",
   "metadata": {},
   "source": [
    "<p>本章将详细介绍 NumPy。NumPy（Numerical Python 数字化python的简称）提供了高\n",
    "效存储和操作密集数据缓存的接口。在某些方面，NumPy 数组与\n",
    "Python 内置的列表类型非常相似。但是随着数组在维度上变大，NumPy\n",
    "数组提供了更加高效的存储和数据操作。NumPy 数组几乎是整个\n",
    "Python 数据科学工具生态系统的核心。因此，不管你对数据科学的哪个\n",
    "方面感兴趣，花点时间学习如何有效地使用 NumPy 都是非常值得的。</p>"
   ]
  },
  {
   "cell_type": "markdown",
   "id": "a08d7cd0-3e3b-4bf5-915d-54c5d57ef770",
   "metadata": {},
   "source": [
    "<p>如果你听从前言给出的建议安装了 Anaconda，那么你已经安装好\n",
    "NumPy，并可以使用它了。如果你是个体验派，则可以到 <a href='http://www.numpy.org/'>NumPy 网站</a>\n",
    "（http://www.numpy.org/）按照其安装指导进行安装。安装好后，你可\n",
    "以导入 NumPy 并再次核实你的 NumPy 版本：</p>"
   ]
  },
  {
   "cell_type": "code",
   "execution_count": 1,
   "id": "4091d051-7ac7-494b-82f2-812b9c1a05b9",
   "metadata": {},
   "outputs": [],
   "source": [
    "import numpy as np"
   ]
  },
  {
   "cell_type": "code",
   "execution_count": 3,
   "id": "ca121715-62fc-49d3-837b-9da37203f26a",
   "metadata": {},
   "outputs": [
    {
     "data": {
      "text/plain": [
       "'2.0.1'"
      ]
     },
     "execution_count": 3,
     "metadata": {},
     "output_type": "execute_result"
    }
   ],
   "source": [
    "numpy.__version__"
   ]
  },
  {
   "cell_type": "markdown",
   "id": "765bc99c-64c9-4f46-9c38-7981bbca693a",
   "metadata": {},
   "source": [
    "<p>针对本章中介绍的 NumPy 功能，我建议你使用 NumPy 1.8 及之后的版\n",
    "本。遵循传统，你将发现 SciPy / PyData 社区中的大多数人都用 np 作为\n",
    "别名导入 NumPy：</p>\n"
   ]
  },
  {
   "cell_type": "markdown",
   "id": "6d9781fb-b6d1-4a66-b350-4d34852dab90",
   "metadata": {},
   "source": [
    "<p> import numpy as np </p>"
   ]
  },
  {
   "cell_type": "raw",
   "id": "2d924d55-51d4-436e-b513-8e42c78ef406",
   "metadata": {},
   "source": [
    "在本章以及之后的内容中，我们都将用这种方式导入和使用 NumPy。"
   ]
  },
  {
   "cell_type": "markdown",
   "id": "e3ea9204-b08c-4468-a85e-6b22b02c6495",
   "metadata": {},
   "source": [
    "当你阅读本章时，不要忘记 IPython 提供了快速探索包的内容的方\n",
    "法（用 Tab 键自动补全），以及各种函数的文档（用 ? 符号）。如\n",
    "果你还需要回顾一下，可以翻回 1.2 节。"
   ]
  },
  {
   "cell_type": "markdown",
   "id": "a0b75cac-6139-4b5f-af8a-d34a094a19be",
   "metadata": {},
   "source": [
    "例如，要显示 numpy 命名空间的所有内容，可以用如下方式："
   ]
  },
  {
   "cell_type": "markdown",
   "id": "accdae17-ff43-4da8-9604-6c7e01c4a0f2",
   "metadata": {},
   "source": [
    "<p> np.&lt;TAB&gt;</p>"
   ]
  },
  {
   "cell_type": "raw",
   "id": "e3e05817-445e-493f-9131-def0a44d3bb4",
   "metadata": {},
   "source": [
    "要显示 NumPy 内置的文档，可以用如下方式：\n"
   ]
  },
  {
   "cell_type": "code",
   "execution_count": 5,
   "id": "5faa40e4-0062-4407-aff9-48668d9fda21",
   "metadata": {},
   "outputs": [
    {
     "data": {
      "text/plain": [
       "\u001b[1;31mType:\u001b[0m        module\n",
       "\u001b[1;31mString form:\u001b[0m <module 'numpy' from 'D:\\\\virtualenvs\\\\ai\\\\lib\\\\site-packages\\\\numpy\\\\__init__.py'>\n",
       "\u001b[1;31mFile:\u001b[0m        d:\\virtualenvs\\ai\\lib\\site-packages\\numpy\\__init__.py\n",
       "\u001b[1;31mDocstring:\u001b[0m  \n",
       "NumPy\n",
       "=====\n",
       "\n",
       "Provides\n",
       "  1. An array object of arbitrary homogeneous items\n",
       "  2. Fast mathematical operations over arrays\n",
       "  3. Linear Algebra, Fourier Transforms, Random Number Generation\n",
       "\n",
       "How to use the documentation\n",
       "----------------------------\n",
       "Documentation is available in two forms: docstrings provided\n",
       "with the code, and a loose standing reference guide, available from\n",
       "`the NumPy homepage <https://numpy.org>`_.\n",
       "\n",
       "We recommend exploring the docstrings using\n",
       "`IPython <https://ipython.org>`_, an advanced Python shell with\n",
       "TAB-completion and introspection capabilities.  See below for further\n",
       "instructions.\n",
       "\n",
       "The docstring examples assume that `numpy` has been imported as ``np``::\n",
       "\n",
       "  >>> import numpy as np\n",
       "\n",
       "Code snippets are indicated by three greater-than signs::\n",
       "\n",
       "  >>> x = 42\n",
       "  >>> x = x + 1\n",
       "\n",
       "Use the built-in ``help`` function to view a function's docstring::\n",
       "\n",
       "  >>> help(np.sort)\n",
       "  ... # doctest: +SKIP\n",
       "\n",
       "For some objects, ``np.info(obj)`` may provide additional help.  This is\n",
       "particularly true if you see the line \"Help on ufunc object:\" at the top\n",
       "of the help() page.  Ufuncs are implemented in C, not Python, for speed.\n",
       "The native Python help() does not know how to view their help, but our\n",
       "np.info() function does.\n",
       "\n",
       "Available subpackages\n",
       "---------------------\n",
       "lib\n",
       "    Basic functions used by several sub-packages.\n",
       "random\n",
       "    Core Random Tools\n",
       "linalg\n",
       "    Core Linear Algebra Tools\n",
       "fft\n",
       "    Core FFT routines\n",
       "polynomial\n",
       "    Polynomial tools\n",
       "testing\n",
       "    NumPy testing tools\n",
       "distutils\n",
       "    Enhancements to distutils with support for\n",
       "    Fortran compilers support and more (for Python <= 3.11)\n",
       "\n",
       "Utilities\n",
       "---------\n",
       "test\n",
       "    Run numpy unittests\n",
       "show_config\n",
       "    Show numpy build configuration\n",
       "__version__\n",
       "    NumPy version string\n",
       "\n",
       "Viewing documentation using IPython\n",
       "-----------------------------------\n",
       "\n",
       "Start IPython and import `numpy` usually under the alias ``np``: `import\n",
       "numpy as np`.  Then, directly past or use the ``%cpaste`` magic to paste\n",
       "examples into the shell.  To see which functions are available in `numpy`,\n",
       "type ``np.<TAB>`` (where ``<TAB>`` refers to the TAB key), or use\n",
       "``np.*cos*?<ENTER>`` (where ``<ENTER>`` refers to the ENTER key) to narrow\n",
       "down the list.  To view the docstring for a function, use\n",
       "``np.cos?<ENTER>`` (to view the docstring) and ``np.cos??<ENTER>`` (to view\n",
       "the source code).\n",
       "\n",
       "Copies vs. in-place operation\n",
       "-----------------------------\n",
       "Most of the functions in `numpy` return a copy of the array argument\n",
       "(e.g., `np.sort`).  In-place versions of these functions are often\n",
       "available as array methods, i.e. ``x = np.array([1,2,3]); x.sort()``.\n",
       "Exceptions to this rule are documented."
      ]
     },
     "metadata": {},
     "output_type": "display_data"
    }
   ],
   "source": [
    "np?"
   ]
  },
  {
   "cell_type": "markdown",
   "id": "3c6b2cb6-d046-44bb-b701-5633ada28e3c",
   "metadata": {},
   "source": [
    "<p>要获取更详细的文档以及教程和其他资源，可以访问\n",
    "<a href='http://www.numpy.org'>http://www.numpy.org。</a></p>"
   ]
  },
  {
   "cell_type": "markdown",
   "id": "3a38b97d-9323-46d9-8f92-5c777e38009c",
   "metadata": {},
   "source": [
    "<h2>2.1 理解Python中的数据类型</h2>"
   ]
  },
  {
   "cell_type": "markdown",
   "id": "6df55efb-3eaf-4db0-a623-b5450354b0d5",
   "metadata": {},
   "source": [
    "<p>\n",
    "    要实现高效的数据驱动科学和计算，需要理解数据是如何被存储和操作\n",
    "的。本节将介绍在 Python 语言中数据数组是如何被处理的，并对比\n",
    "NumPy 所做的改进。理解这个不同之处是理解本书其他内容的基础。<br>\n",
    "Python 的用户往往被其易用性所吸引，其中一个易用之处就在于动态输\n",
    "入。静态类型的语言（如 C 或 Java）往往需要每一个变量都明确地声\n",
    "明，而动态类型的语言（例如 Python）可以跳过这个特殊规定。例如在\n",
    "C 语言中，你可能会按照如下方式指定一个特殊的操作：\n",
    "</p>"
   ]
  },
  {
   "cell_type": "raw",
   "id": "f0cffb44-d67a-4d84-b582-39736018ad42",
   "metadata": {},
   "source": [
    "/* C代码 */\n",
    "int result = 0;\n",
    "for(int i=0; i<100; i++){\n",
    "result += i;\n",
    "}\n"
   ]
  },
  {
   "cell_type": "raw",
   "id": "9e70e7c3-2369-4fd8-9728-e62d82b2862e",
   "metadata": {},
   "source": [
    "而在 Python 中，同等的操作可以按照如下方式实现："
   ]
  },
  {
   "cell_type": "raw",
   "id": "0907da4e-e61b-4cec-a230-ae3e8f2ea241",
   "metadata": {},
   "source": [
    "result=0\n",
    "for i in range(100):\n",
    "    result+=i\n",
    "    "
   ]
  },
  {
   "cell_type": "markdown",
   "id": "e715b957-6788-4118-98b9-f99eb4798c36",
   "metadata": {},
   "source": [
    "<p>注意这里最大的不同之处：在 C 语言中，每个变量的数据类型被明确地\n",
    "声明；而在 Python 中，类型是动态推断的。这意味着可以将任何类型\n",
    "的数据指定给任何变量：\n",
    "</p>"
   ]
  },
  {
   "cell_type": "raw",
   "id": "b812805a-6a0f-48e6-9d08-05716043b6f9",
   "metadata": {},
   "source": [
    "# Python代码\n",
    "x = 4\n",
    "x = \"four\""
   ]
  },
  {
   "cell_type": "raw",
   "id": "bfe0bd0e-aaff-4d05-b767-361ebf2e860f",
   "metadata": {},
   "source": [
    "这里已经将 x 变量的内容由整型转变成了字符串，而同样的操作在 C\n",
    "语言中将会导致（取决于编译器设置）编译错误或其他未知的后果"
   ]
  },
  {
   "cell_type": "raw",
   "id": "f8e3c183-bbb9-47f6-b79e-8fef765360a5",
   "metadata": {},
   "source": [
    "/* C代码 */\n",
    "int x = 4;\n",
    "x = \"four\"; // 编译失败"
   ]
  },
  {
   "cell_type": "raw",
   "id": "998a4c56-fb06-4332-a65f-4e51451484e0",
   "metadata": {},
   "source": [
    "这种灵活性是使 Python 和其他动态类型的语言更易用的原因之一。理\n",
    "解这一特性如何工作是学习用 Python 有效且高效地分析数据的重要因\n",
    "素。但是这种类型灵活性也指出了一个事实：Python 变量不仅是它们的\n",
    "值，还包括了关于值的类型的一些额外信息，本节接下来的内容将进行\n",
    "更详细的介绍。\n"
   ]
  },
  {
   "cell_type": "markdown",
   "id": "ec58e9eb-20a9-4c46-bee8-b6056a7fccaf",
   "metadata": {},
   "source": [
    "<h3>2.1.1 Python整型不仅仅是一个整型\n",
    "</h3>"
   ]
  },
  {
   "cell_type": "markdown",
   "id": "6ea6dd6a-67d4-49a7-a63d-54e722e5c631",
   "metadata": {},
   "source": [
    "<p>标准的 Python 实现是用 C 语言编写的。这意味着每一个 Python 对象都\n",
    "是一个聪明的伪 C 语言结构体，该结构体不仅包含其值，还有其他信\n",
    "息。例如，当我们在 Python 中定义一个整型，例如 x = 10000 时，x\n",
    "并不是一个“原生”整型，而是一个指针，指向一个 C 语言的复合结构\n",
    "体，结构体里包含了一些值。查看 Python 3.4 的源代码，可以发现整型\n",
    "（长整型）的定义，如下所示（C 语言的宏经过扩展之后）：\n",
    "</p>"
   ]
  },
  {
   "cell_type": "raw",
   "id": "c6bd6a04-3173-40ef-bc63-1b3f168f8f5f",
   "metadata": {},
   "source": [
    "struct _longobject {\n",
    "    long ob_refcnt;\n",
    "    PyTypeObject *ob_type;\n",
    "    size_t ob_size;\n",
    "    long ob_digit[1];\n",
    "};"
   ]
  },
  {
   "cell_type": "markdown",
   "id": "7ba2dd7a-2d0c-4ef3-89dc-ac9032f55635",
   "metadata": {},
   "source": [
    "<p>Python 3.4 中的一个整型实际上包括 4 个部分。</p>\n",
    "<ul>\n",
    "    <li>ob_refcnt 是一个引用计数，它帮助 Python 默默地处理内存的分\n",
    "配和回收。</li>\n",
    "    <li>ob_type 将变量的类型编码。\n",
    "</li>\n",
    "    <li>ob_size 指定接下来的数据成员的大小。</li>\n",
    "    <li>ob_digit 包含我们希望 Python 变量表示的实际整型值。</li>\n",
    "</ul>\n"
   ]
  },
  {
   "cell_type": "markdown",
   "id": "aca208d5-9ba5-42b7-946b-d9de631ae430",
   "metadata": {},
   "source": [
    "<p>这意味着与 C 语言这样的编译语言中的整型相比，在 Python 中存储一\n",
    "个整型会有一些开销，正如图 2-1 所示。</p>"
   ]
  },
  {
   "cell_type": "markdown",
   "id": "01ab5f88-0257-4ba2-840d-4ad2a8ee5baa",
   "metadata": {},
   "source": [
    "<img src='../imgs/2.1.png'>"
   ]
  },
  {
   "cell_type": "raw",
   "id": "c2534acf-8351-4a84-9da6-5a538c134f90",
   "metadata": {},
   "source": [
    "这里 PyObject_HEAD 是结构体中包含引用计数、类型编码和其他之前\n",
    "提到的内容的部分。"
   ]
  },
  {
   "cell_type": "raw",
   "id": "0671fea0-4c1f-420c-a710-f5c4c7269a53",
   "metadata": {},
   "source": [
    "两者的差异在于，C 语言整型本质上是对应某个内存位置的标签，里面\n",
    "存储的字节会编码成整型。而 Python 的整型其实是一个指针，指向包\n",
    "含这个 Python 对象所有信息的某个内存位置，其中包括可以转换成整\n",
    "型的字节。由于 Python 的整型结构体里面还包含了大量额外的信息，\n",
    "所以 Python 可以自由、动态地编码。但是，Python 类型中的这些额外\n",
    "信息也会成为负担，在多个对象组合的结构体中尤其明显。"
   ]
  },
  {
   "cell_type": "markdown",
   "id": "1b612689-e7c3-4053-9fa4-dddf25046f4b",
   "metadata": {},
   "source": [
    "<h3>2.1.2 Python列表不仅仅是一个列表</h3>"
   ]
  },
  {
   "cell_type": "markdown",
   "id": "a16af1aa-69d8-4e5f-a747-83a5299c718d",
   "metadata": {},
   "source": [
    "<p>设想如果使用一个包含很多 Python 对象的 Python 数据结构，会发生什\n",
    "么？ Python 中的标准可变多元素容器是列表。可以用如下方式创建一\n",
    "个整型值列表：</p>"
   ]
  },
  {
   "cell_type": "code",
   "execution_count": 8,
   "id": "b1a9a29f-2765-4158-9232-0818c33b6407",
   "metadata": {},
   "outputs": [],
   "source": [
    "L = list(i for i in range(10))"
   ]
  },
  {
   "cell_type": "code",
   "execution_count": 9,
   "id": "e39e12f5-f25a-4e76-a8db-482d7e5286f2",
   "metadata": {},
   "outputs": [
    {
     "data": {
      "text/plain": [
       "[0, 1, 2, 3, 4, 5, 6, 7, 8, 9]"
      ]
     },
     "execution_count": 9,
     "metadata": {},
     "output_type": "execute_result"
    }
   ],
   "source": [
    "L"
   ]
  },
  {
   "cell_type": "code",
   "execution_count": 10,
   "id": "25d601a1-1925-4785-bbc9-fd797c777fe6",
   "metadata": {},
   "outputs": [
    {
     "data": {
      "text/plain": [
       "list"
      ]
     },
     "execution_count": 10,
     "metadata": {},
     "output_type": "execute_result"
    }
   ],
   "source": [
    "type(L)"
   ]
  },
  {
   "cell_type": "raw",
   "id": "45971548-4fd8-4b8a-b6dd-8142419941d6",
   "metadata": {},
   "source": [
    "或者创建一个字符串列表："
   ]
  },
  {
   "cell_type": "code",
   "execution_count": 11,
   "id": "ee3ce3a5-ebaf-4cdb-8652-73df46506e32",
   "metadata": {},
   "outputs": [],
   "source": [
    "L2 = [str(c) for c in L]"
   ]
  },
  {
   "cell_type": "code",
   "execution_count": 12,
   "id": "11cf3210-ff84-48da-8fbe-bc40932876b7",
   "metadata": {},
   "outputs": [
    {
     "data": {
      "text/plain": [
       "['0', '1', '2', '3', '4', '5', '6', '7', '8', '9']"
      ]
     },
     "execution_count": 12,
     "metadata": {},
     "output_type": "execute_result"
    }
   ],
   "source": [
    "L2"
   ]
  },
  {
   "cell_type": "code",
   "execution_count": 13,
   "id": "4dc27120-f287-4bc2-864f-db8f5f939f7d",
   "metadata": {},
   "outputs": [
    {
     "data": {
      "text/plain": [
       "str"
      ]
     },
     "execution_count": 13,
     "metadata": {},
     "output_type": "execute_result"
    }
   ],
   "source": [
    "type(L2[0])"
   ]
  },
  {
   "cell_type": "raw",
   "id": "201e11b7-a9fb-4460-a367-5a186851dc9a",
   "metadata": {},
   "source": [
    "因为 Python 的动态类型特性，甚至可以创建一个异构的列表："
   ]
  },
  {
   "cell_type": "code",
   "execution_count": 14,
   "id": "69ee1461-6529-45ed-994b-9d1e8685b86a",
   "metadata": {},
   "outputs": [],
   "source": [
    "L3 = [True,\"2\",3.0,4]"
   ]
  },
  {
   "cell_type": "code",
   "execution_count": 15,
   "id": "8a4995d6-65ec-41a4-b743-9ad97f78a7f6",
   "metadata": {},
   "outputs": [
    {
     "data": {
      "text/plain": [
       "[bool, str, float, int]"
      ]
     },
     "execution_count": 15,
     "metadata": {},
     "output_type": "execute_result"
    }
   ],
   "source": [
    "[type(item) for item in L3]"
   ]
  },
  {
   "cell_type": "raw",
   "id": "8bda3b19-cc09-48e1-941a-b9fe6d3548a2",
   "metadata": {},
   "source": [
    "但是想拥有这种灵活性也是要付出一定代价的：为了获得这些灵活的类\n",
    "型，列表中的每一项必须包含各自的类型信息、引用计数和其他信息；\n",
    "也就是说，每一项都是一个完整的 Python 对象。来看一个特殊的例\n",
    "子，如果列表中的所有变量都是同一类型的，那么很多信息都会显得多\n",
    "余——将数据存储在固定类型的数组中应该会更高效。动态类型的列表\n",
    "和固定类型的（NumPy 式）数组间的区别如图 2-2 所示。\n"
   ]
  },
  {
   "cell_type": "raw",
   "id": "b50fd79c-edd2-4bc0-bfb4-24abb56209e1",
   "metadata": {},
   "source": [
    "在实现层面，数组基本上包含一个指向连续数据块的指针。另一方面，\n",
    "Python 列表包含一个指向指针块的指针，这其中的每一个指针对应一个\n",
    "完整的 Python 对象（如前面看到的 Python 整型）。另外，列表的优势\n",
    "是灵活，因为每个列表元素是一个包含数据和类型信息的完整结构体，\n",
    "而且列表可以用任意类型的数据填充。固定类型的 NumPy 式数组缺乏\n",
    "这种灵活性，但是能更有效地存储和操作数据。"
   ]
  },
  {
   "cell_type": "markdown",
   "id": "5d23c17a-f1f9-4933-b16f-6e96764ee213",
   "metadata": {},
   "source": [
    "<img src='../imgs/2.2.png'>"
   ]
  },
  {
   "cell_type": "markdown",
   "id": "9e66fb08-2a44-45cf-8637-79cc3fc7fe27",
   "metadata": {},
   "source": [
    "<h3>2.1.3 Python中的固定类型数组</h3>"
   ]
  },
  {
   "cell_type": "raw",
   "id": "f9b90d34-6a89-4248-95ad-3ae0fe73d833",
   "metadata": {},
   "source": [
    "Python 提供了几种将数据存储在有效的、固定类型的数据缓存中的选\n",
    "项。内置的数组（array）模块（在 Python 3.3 之后可用）可以用于创\n",
    "建统一类型的密集数组：\n"
   ]
  },
  {
   "cell_type": "code",
   "execution_count": 1,
   "id": "83d8e682-be6d-4b3b-b4b3-cf751632001c",
   "metadata": {},
   "outputs": [
    {
     "ename": "ModuleNotFoundError",
     "evalue": "No module named 'arry'",
     "output_type": "error",
     "traceback": [
      "\u001b[1;31m---------------------------------------------------------------------------\u001b[0m",
      "\u001b[1;31mModuleNotFoundError\u001b[0m                       Traceback (most recent call last)",
      "Cell \u001b[1;32mIn[1], line 1\u001b[0m\n\u001b[1;32m----> 1\u001b[0m \u001b[38;5;28;01mimport\u001b[39;00m \u001b[38;5;21;01marry\u001b[39;00m\n\u001b[0;32m      2\u001b[0m L \u001b[38;5;241m=\u001b[39m \u001b[38;5;28mlist\u001b[39m(\u001b[38;5;28mrange\u001b[39m(\u001b[38;5;241m10\u001b[39m))\n\u001b[0;32m      3\u001b[0m A \u001b[38;5;241m=\u001b[39m array\u001b[38;5;241m.\u001b[39marray(\u001b[38;5;124m'\u001b[39m\u001b[38;5;124mi\u001b[39m\u001b[38;5;124m'\u001b[39m,L)\n",
      "\u001b[1;31mModuleNotFoundError\u001b[0m: No module named 'arry'"
     ]
    }
   ],
   "source": [
    "import arry\n",
    "L = list(range(10))\n",
    "A = array.array('i',L)\n",
    "A"
   ]
  },
  {
   "cell_type": "markdown",
   "id": "5b4a3f95-641a-4d69-ad29-e3e3801d3ef2",
   "metadata": {},
   "source": [
    "<h3>2.1.4 从Python列表创建数组</h3>"
   ]
  },
  {
   "cell_type": "code",
   "execution_count": 2,
   "id": "6aa7eaf1-426b-473d-b5d6-d41c4bb2727b",
   "metadata": {},
   "outputs": [],
   "source": [
    "import numpy as np"
   ]
  },
  {
   "cell_type": "code",
   "execution_count": 3,
   "id": "5be04516-534c-40c3-b9d7-918d3d78d170",
   "metadata": {},
   "outputs": [
    {
     "data": {
      "text/plain": [
       "array([1, 4, 2, 5, 3])"
      ]
     },
     "execution_count": 3,
     "metadata": {},
     "output_type": "execute_result"
    }
   ],
   "source": [
    "np.array([1,4,2,5,3])"
   ]
  },
  {
   "cell_type": "markdown",
   "id": "8a67e35d-894b-441d-97c5-5a108fa8f2de",
   "metadata": {},
   "source": [
    "<p>请记住，不同于 Python 列表，NumPy 要求数组必须包含同一类型的数\n",
    "据。如果类型不匹配，NumPy 将会向上转换（如果可行）。这里整型\n",
    "被转换为浮点型：</p>"
   ]
  },
  {
   "cell_type": "code",
   "execution_count": 4,
   "id": "5e0d65fe-bc78-4ab6-93f4-b8a5b7f2d1fc",
   "metadata": {},
   "outputs": [
    {
     "data": {
      "text/plain": [
       "array([3.14, 4.  , 2.  , 3.  ])"
      ]
     },
     "execution_count": 4,
     "metadata": {},
     "output_type": "execute_result"
    }
   ],
   "source": [
    "np.array([3.14,4,2,3])"
   ]
  },
  {
   "cell_type": "markdown",
   "id": "fd7b333e-f01a-4b6e-971e-f5c3bd939d97",
   "metadata": {},
   "source": [
    "<p>如果希望明确设置数组的数据类型，可以用 dtype 关键字：</p>"
   ]
  },
  {
   "cell_type": "code",
   "execution_count": 5,
   "id": "df38a7c0-4bb8-40c1-acbb-7e3a99d522ba",
   "metadata": {},
   "outputs": [
    {
     "data": {
      "text/plain": [
       "array([1., 2., 3., 4.], dtype=float32)"
      ]
     },
     "execution_count": 5,
     "metadata": {},
     "output_type": "execute_result"
    }
   ],
   "source": [
    "np.array([1,2,3,4],dtype='float32')"
   ]
  },
  {
   "cell_type": "markdown",
   "id": "0dbf358e-b25a-4004-91c8-ef5616a1e9f9",
   "metadata": {},
   "source": [
    "<p>最后，不同于 Python 列表，NumPy 数组可以被指定为多维的。以下是\n",
    "用列表的列表初始化多维数组的一种方法：</p>"
   ]
  },
  {
   "cell_type": "code",
   "execution_count": 6,
   "id": "537404ca-4b25-4f31-8523-8915ddb6b5e8",
   "metadata": {},
   "outputs": [
    {
     "data": {
      "text/plain": [
       "array([[2, 3, 4],\n",
       "       [4, 5, 6],\n",
       "       [6, 7, 8]])"
      ]
     },
     "execution_count": 6,
     "metadata": {},
     "output_type": "execute_result"
    }
   ],
   "source": [
    "# 嵌套列表构成的多维数组\n",
    "np.array([range(i,i+3) for i in [2,4,6]])"
   ]
  },
  {
   "cell_type": "markdown",
   "id": "e7285455-b2b0-4dc1-9781-60faf1cf9449",
   "metadata": {},
   "source": [
    "<p>内层的列表被当作二维数组的行。</p>"
   ]
  },
  {
   "cell_type": "markdown",
   "id": "af118fcc-9b84-45ca-9e20-d252dd623a05",
   "metadata": {},
   "source": [
    "<h3>2.1.5 从头创建数组</h3>"
   ]
  },
  {
   "cell_type": "markdown",
   "id": "c40445fc-6a75-4974-b475-8cafc82652ca",
   "metadata": {},
   "source": [
    "<p>面对大型数组的时候，用 NumPy 内置的方法从头创建数组是一种更高\n",
    "效的方法。以下是几个示例：</p>"
   ]
  },
  {
   "cell_type": "code",
   "execution_count": 7,
   "id": "bba06fc5-8ba7-4429-8bcc-c09ecfc9d778",
   "metadata": {},
   "outputs": [
    {
     "data": {
      "text/plain": [
       "array([0, 0, 0, 0, 0, 0, 0, 0, 0, 0])"
      ]
     },
     "execution_count": 7,
     "metadata": {},
     "output_type": "execute_result"
    }
   ],
   "source": [
    "# 创建一个长度为10的数组，数组的值都是0\n",
    "np.zeros(10,dtype=int)"
   ]
  },
  {
   "cell_type": "code",
   "execution_count": 8,
   "id": "0715463e-2fc7-4a4d-b4d6-6f1e1d376425",
   "metadata": {},
   "outputs": [
    {
     "data": {
      "text/plain": [
       "array([[1., 1., 1., 1., 1.],\n",
       "       [1., 1., 1., 1., 1.],\n",
       "       [1., 1., 1., 1., 1.]])"
      ]
     },
     "execution_count": 8,
     "metadata": {},
     "output_type": "execute_result"
    }
   ],
   "source": [
    "# 创建一个3×5的浮点型数组，数组的值都是1\n",
    "np.ones((3,5),dtype=float)"
   ]
  },
  {
   "cell_type": "code",
   "execution_count": 13,
   "id": "60b98311-9977-4bd4-af5c-f77f69941745",
   "metadata": {},
   "outputs": [
    {
     "data": {
      "text/plain": [
       "\u001b[1;31mSignature:\u001b[0m\n",
       "\u001b[0mnp\u001b[0m\u001b[1;33m.\u001b[0m\u001b[0mfull\u001b[0m\u001b[1;33m(\u001b[0m\u001b[1;33m\n",
       "\u001b[0m    \u001b[0mshape\u001b[0m\u001b[1;33m,\u001b[0m\u001b[1;33m\n",
       "\u001b[0m    \u001b[0mfill_value\u001b[0m\u001b[1;33m,\u001b[0m\u001b[1;33m\n",
       "\u001b[0m    \u001b[0mdtype\u001b[0m\u001b[1;33m=\u001b[0m\u001b[1;32mNone\u001b[0m\u001b[1;33m,\u001b[0m\u001b[1;33m\n",
       "\u001b[0m    \u001b[0morder\u001b[0m\u001b[1;33m=\u001b[0m\u001b[1;34m'C'\u001b[0m\u001b[1;33m,\u001b[0m\u001b[1;33m\n",
       "\u001b[0m    \u001b[1;33m*\u001b[0m\u001b[1;33m,\u001b[0m\u001b[1;33m\n",
       "\u001b[0m    \u001b[0mdevice\u001b[0m\u001b[1;33m=\u001b[0m\u001b[1;32mNone\u001b[0m\u001b[1;33m,\u001b[0m\u001b[1;33m\n",
       "\u001b[0m    \u001b[0mlike\u001b[0m\u001b[1;33m=\u001b[0m\u001b[1;32mNone\u001b[0m\u001b[1;33m,\u001b[0m\u001b[1;33m\n",
       "\u001b[0m\u001b[1;33m)\u001b[0m\u001b[1;33m\u001b[0m\u001b[1;33m\u001b[0m\u001b[0m\n",
       "\u001b[1;31mDocstring:\u001b[0m\n",
       "Return a new array of given shape and type, filled with `fill_value`.\n",
       "\n",
       "Parameters\n",
       "----------\n",
       "shape : int or sequence of ints\n",
       "    Shape of the new array, e.g., ``(2, 3)`` or ``2``.\n",
       "fill_value : scalar or array_like\n",
       "    Fill value.\n",
       "dtype : data-type, optional\n",
       "    The desired data-type for the array  The default, None, means\n",
       "     ``np.array(fill_value).dtype``.\n",
       "order : {'C', 'F'}, optional\n",
       "    Whether to store multidimensional data in C- or Fortran-contiguous\n",
       "    (row- or column-wise) order in memory.\n",
       "device : str, optional\n",
       "    The device on which to place the created array. Default: None.\n",
       "    For Array-API interoperability only, so must be ``\"cpu\"`` if passed.\n",
       "\n",
       "    .. versionadded:: 2.0.0\n",
       "like : array_like, optional\n",
       "    Reference object to allow the creation of arrays which are not\n",
       "    NumPy arrays. If an array-like passed in as ``like`` supports\n",
       "    the ``__array_function__`` protocol, the result will be defined\n",
       "    by it. In this case, it ensures the creation of an array object\n",
       "    compatible with that passed in via this argument.\n",
       "\n",
       "    .. versionadded:: 1.20.0\n",
       "\n",
       "Returns\n",
       "-------\n",
       "out : ndarray\n",
       "    Array of `fill_value` with the given shape, dtype, and order.\n",
       "\n",
       "See Also\n",
       "--------\n",
       "full_like : Return a new array with shape of input filled with value.\n",
       "empty : Return a new uninitialized array.\n",
       "ones : Return a new array setting values to one.\n",
       "zeros : Return a new array setting values to zero.\n",
       "\n",
       "Examples\n",
       "--------\n",
       ">>> np.full((2, 2), np.inf)\n",
       "array([[inf, inf],\n",
       "       [inf, inf]])\n",
       ">>> np.full((2, 2), 10)\n",
       "array([[10, 10],\n",
       "       [10, 10]])\n",
       "\n",
       ">>> np.full((2, 2), [1, 2])\n",
       "array([[1, 2],\n",
       "       [1, 2]])\n",
       "\u001b[1;31mFile:\u001b[0m      d:\\virtualenvs\\ai\\lib\\site-packages\\numpy\\_core\\numeric.py\n",
       "\u001b[1;31mType:\u001b[0m      function"
      ]
     },
     "metadata": {},
     "output_type": "display_data"
    }
   ],
   "source": [
    "# 创建一个3×5的浮点型数组，数组的值都是3.14\n",
    "np.full?"
   ]
  },
  {
   "cell_type": "code",
   "execution_count": 14,
   "id": "9c06ed3c-5994-41a0-b389-75130bbce62a",
   "metadata": {},
   "outputs": [
    {
     "data": {
      "text/plain": [
       "array([[3.14, 3.14, 3.14, 3.14, 3.14],\n",
       "       [3.14, 3.14, 3.14, 3.14, 3.14],\n",
       "       [3.14, 3.14, 3.14, 3.14, 3.14]])"
      ]
     },
     "execution_count": 14,
     "metadata": {},
     "output_type": "execute_result"
    }
   ],
   "source": [
    "np.full((3,5),3.14)"
   ]
  },
  {
   "cell_type": "code",
   "execution_count": 17,
   "id": "5d6abaf1-200d-464a-be36-c758aa15b984",
   "metadata": {},
   "outputs": [
    {
     "data": {
      "text/plain": [
       "array([ 0,  2,  4,  6,  8, 10, 12, 14, 16, 18])"
      ]
     },
     "execution_count": 17,
     "metadata": {},
     "output_type": "execute_result"
    }
   ],
   "source": [
    "# 创建一个3×5的浮点型数组，数组的值是一个线性序列\n",
    "# 从0开始，到20结束，步长为2\n",
    "# （它和内置的range()函数类似）\n",
    "np.arange(0,20,2)"
   ]
  },
  {
   "cell_type": "code",
   "execution_count": 18,
   "id": "a1f9a4b8-e4da-497b-86fc-804a88365055",
   "metadata": {},
   "outputs": [
    {
     "data": {
      "text/plain": [
       "array([0.  , 0.25, 0.5 , 0.75, 1.  ])"
      ]
     },
     "execution_count": 18,
     "metadata": {},
     "output_type": "execute_result"
    }
   ],
   "source": [
    "# 创建一个5个元素的数组，这5个数均匀地分配到0~1\n",
    "np.linspace(0, 1, 5)"
   ]
  },
  {
   "cell_type": "code",
   "execution_count": 19,
   "id": "3173af5e-b86e-409e-b165-47b7fc7554ff",
   "metadata": {},
   "outputs": [
    {
     "data": {
      "text/plain": [
       "array([[0.95815397, 0.38116369, 0.61643504],\n",
       "       [0.78546274, 0.70960046, 0.32720777],\n",
       "       [0.93618243, 0.79063202, 0.75523998]])"
      ]
     },
     "execution_count": 19,
     "metadata": {},
     "output_type": "execute_result"
    }
   ],
   "source": [
    "# 创建一个3×3的、在0~1均匀分布的随机数组成的数组\n",
    "np.random.random((3, 3))"
   ]
  },
  {
   "cell_type": "code",
   "execution_count": 22,
   "id": "3095d64f-8d4b-4feb-989a-9f69d3385344",
   "metadata": {},
   "outputs": [
    {
     "data": {
      "text/plain": [
       "array([[ 0.15457823,  1.5823835 ,  1.06070024],\n",
       "       [-0.46285261,  0.83472166,  0.89872873],\n",
       "       [ 0.10095818, -1.74793457, -1.19546895]])"
      ]
     },
     "execution_count": 22,
     "metadata": {},
     "output_type": "execute_result"
    }
   ],
   "source": [
    "# 创建一个3×3的、均值为0、方差为1的\n",
    "# 正态分布的随机数数组\n",
    "np.random.normal(0,1,(3, 3))"
   ]
  },
  {
   "cell_type": "code",
   "execution_count": 23,
   "id": "faaf6fc0-793d-43c7-a531-4070bd61144f",
   "metadata": {},
   "outputs": [
    {
     "data": {
      "text/plain": [
       "\u001b[1;31mSignature:\u001b[0m \u001b[0mnp\u001b[0m\u001b[1;33m.\u001b[0m\u001b[0mrandom\u001b[0m\u001b[1;33m.\u001b[0m\u001b[0mnormal\u001b[0m\u001b[1;33m(\u001b[0m\u001b[0mloc\u001b[0m\u001b[1;33m=\u001b[0m\u001b[1;36m0.0\u001b[0m\u001b[1;33m,\u001b[0m \u001b[0mscale\u001b[0m\u001b[1;33m=\u001b[0m\u001b[1;36m1.0\u001b[0m\u001b[1;33m,\u001b[0m \u001b[0msize\u001b[0m\u001b[1;33m=\u001b[0m\u001b[1;32mNone\u001b[0m\u001b[1;33m)\u001b[0m\u001b[1;33m\u001b[0m\u001b[1;33m\u001b[0m\u001b[0m\n",
       "\u001b[1;31mDocstring:\u001b[0m\n",
       "normal(loc=0.0, scale=1.0, size=None)\n",
       "\n",
       "Draw random samples from a normal (Gaussian) distribution.\n",
       "\n",
       "The probability density function of the normal distribution, first\n",
       "derived by De Moivre and 200 years later by both Gauss and Laplace\n",
       "independently [2]_, is often called the bell curve because of\n",
       "its characteristic shape (see the example below).\n",
       "\n",
       "The normal distributions occurs often in nature.  For example, it\n",
       "describes the commonly occurring distribution of samples influenced\n",
       "by a large number of tiny, random disturbances, each with its own\n",
       "unique distribution [2]_.\n",
       "\n",
       ".. note::\n",
       "    New code should use the `~numpy.random.Generator.normal`\n",
       "    method of a `~numpy.random.Generator` instance instead;\n",
       "    please see the :ref:`random-quick-start`.\n",
       "\n",
       "Parameters\n",
       "----------\n",
       "loc : float or array_like of floats\n",
       "    Mean (\"centre\") of the distribution.\n",
       "scale : float or array_like of floats\n",
       "    Standard deviation (spread or \"width\") of the distribution. Must be\n",
       "    non-negative.\n",
       "size : int or tuple of ints, optional\n",
       "    Output shape.  If the given shape is, e.g., ``(m, n, k)``, then\n",
       "    ``m * n * k`` samples are drawn.  If size is ``None`` (default),\n",
       "    a single value is returned if ``loc`` and ``scale`` are both scalars.\n",
       "    Otherwise, ``np.broadcast(loc, scale).size`` samples are drawn.\n",
       "\n",
       "Returns\n",
       "-------\n",
       "out : ndarray or scalar\n",
       "    Drawn samples from the parameterized normal distribution.\n",
       "\n",
       "See Also\n",
       "--------\n",
       "scipy.stats.norm : probability density function, distribution or\n",
       "    cumulative density function, etc.\n",
       "random.Generator.normal: which should be used for new code.\n",
       "\n",
       "Notes\n",
       "-----\n",
       "The probability density for the Gaussian distribution is\n",
       "\n",
       ".. math:: p(x) = \\frac{1}{\\sqrt{ 2 \\pi \\sigma^2 }}\n",
       "                 e^{ - \\frac{ (x - \\mu)^2 } {2 \\sigma^2} },\n",
       "\n",
       "where :math:`\\mu` is the mean and :math:`\\sigma` the standard\n",
       "deviation. The square of the standard deviation, :math:`\\sigma^2`,\n",
       "is called the variance.\n",
       "\n",
       "The function has its peak at the mean, and its \"spread\" increases with\n",
       "the standard deviation (the function reaches 0.607 times its maximum at\n",
       ":math:`x + \\sigma` and :math:`x - \\sigma` [2]_).  This implies that\n",
       "normal is more likely to return samples lying close to the mean, rather\n",
       "than those far away.\n",
       "\n",
       "References\n",
       "----------\n",
       ".. [1] Wikipedia, \"Normal distribution\",\n",
       "       https://en.wikipedia.org/wiki/Normal_distribution\n",
       ".. [2] P. R. Peebles Jr., \"Central Limit Theorem\" in \"Probability,\n",
       "       Random Variables and Random Signal Principles\", 4th ed., 2001,\n",
       "       pp. 51, 51, 125.\n",
       "\n",
       "Examples\n",
       "--------\n",
       "Draw samples from the distribution:\n",
       "\n",
       ">>> mu, sigma = 0, 0.1 # mean and standard deviation\n",
       ">>> s = np.random.normal(mu, sigma, 1000)\n",
       "\n",
       "Verify the mean and the variance:\n",
       "\n",
       ">>> abs(mu - np.mean(s))\n",
       "0.0  # may vary\n",
       "\n",
       ">>> abs(sigma - np.std(s, ddof=1))\n",
       "0.1  # may vary\n",
       "\n",
       "Display the histogram of the samples, along with\n",
       "the probability density function:\n",
       "\n",
       ">>> import matplotlib.pyplot as plt\n",
       ">>> count, bins, ignored = plt.hist(s, 30, density=True)\n",
       ">>> plt.plot(bins, 1/(sigma * np.sqrt(2 * np.pi)) *\n",
       "...                np.exp( - (bins - mu)**2 / (2 * sigma**2) ),\n",
       "...          linewidth=2, color='r')\n",
       ">>> plt.show()\n",
       "\n",
       "Two-by-four array of samples from the normal distribution with\n",
       "mean 3 and standard deviation 2.5:\n",
       "\n",
       ">>> np.random.normal(3, 2.5, size=(2, 4))\n",
       "array([[-4.49401501,  4.00950034, -1.81814867,  7.29718677],   # random\n",
       "       [ 0.39924804,  4.68456316,  4.99394529,  4.84057254]])  # random\n",
       "\u001b[1;31mType:\u001b[0m      method"
      ]
     },
     "metadata": {},
     "output_type": "display_data"
    }
   ],
   "source": [
    "np.random.normal?"
   ]
  },
  {
   "cell_type": "code",
   "execution_count": 24,
   "id": "e48493b5-a94a-49ca-b5b8-505fa8a090e7",
   "metadata": {},
   "outputs": [],
   "source": [
    "# 创建一个3×3的、[0, 10)区间的随机整型数组"
   ]
  },
  {
   "cell_type": "code",
   "execution_count": 25,
   "id": "d3428327-df35-4889-b2be-0bbfded97037",
   "metadata": {},
   "outputs": [
    {
     "data": {
      "text/plain": [
       "array([[5, 8, 8],\n",
       "       [2, 7, 8],\n",
       "       [5, 8, 7]], dtype=int32)"
      ]
     },
     "execution_count": 25,
     "metadata": {},
     "output_type": "execute_result"
    }
   ],
   "source": [
    "np.random.randint(0,10,(3,3))"
   ]
  },
  {
   "cell_type": "code",
   "execution_count": 26,
   "id": "e7f53002-97d1-42fa-a81d-d240a9379535",
   "metadata": {},
   "outputs": [
    {
     "data": {
      "text/plain": [
       "\u001b[1;31mSignature:\u001b[0m\n",
       "\u001b[0mnp\u001b[0m\u001b[1;33m.\u001b[0m\u001b[0meye\u001b[0m\u001b[1;33m(\u001b[0m\u001b[1;33m\n",
       "\u001b[0m    \u001b[0mN\u001b[0m\u001b[1;33m,\u001b[0m\u001b[1;33m\n",
       "\u001b[0m    \u001b[0mM\u001b[0m\u001b[1;33m=\u001b[0m\u001b[1;32mNone\u001b[0m\u001b[1;33m,\u001b[0m\u001b[1;33m\n",
       "\u001b[0m    \u001b[0mk\u001b[0m\u001b[1;33m=\u001b[0m\u001b[1;36m0\u001b[0m\u001b[1;33m,\u001b[0m\u001b[1;33m\n",
       "\u001b[0m    \u001b[0mdtype\u001b[0m\u001b[1;33m=\u001b[0m\u001b[1;33m<\u001b[0m\u001b[1;32mclass\u001b[0m \u001b[1;34m'float'\u001b[0m\u001b[1;33m>\u001b[0m\u001b[1;33m,\u001b[0m\u001b[1;33m\n",
       "\u001b[0m    \u001b[0morder\u001b[0m\u001b[1;33m=\u001b[0m\u001b[1;34m'C'\u001b[0m\u001b[1;33m,\u001b[0m\u001b[1;33m\n",
       "\u001b[0m    \u001b[1;33m*\u001b[0m\u001b[1;33m,\u001b[0m\u001b[1;33m\n",
       "\u001b[0m    \u001b[0mdevice\u001b[0m\u001b[1;33m=\u001b[0m\u001b[1;32mNone\u001b[0m\u001b[1;33m,\u001b[0m\u001b[1;33m\n",
       "\u001b[0m    \u001b[0mlike\u001b[0m\u001b[1;33m=\u001b[0m\u001b[1;32mNone\u001b[0m\u001b[1;33m,\u001b[0m\u001b[1;33m\n",
       "\u001b[0m\u001b[1;33m)\u001b[0m\u001b[1;33m\u001b[0m\u001b[1;33m\u001b[0m\u001b[0m\n",
       "\u001b[1;31mDocstring:\u001b[0m\n",
       "Return a 2-D array with ones on the diagonal and zeros elsewhere.\n",
       "\n",
       "Parameters\n",
       "----------\n",
       "N : int\n",
       "  Number of rows in the output.\n",
       "M : int, optional\n",
       "  Number of columns in the output. If None, defaults to `N`.\n",
       "k : int, optional\n",
       "  Index of the diagonal: 0 (the default) refers to the main diagonal,\n",
       "  a positive value refers to an upper diagonal, and a negative value\n",
       "  to a lower diagonal.\n",
       "dtype : data-type, optional\n",
       "  Data-type of the returned array.\n",
       "order : {'C', 'F'}, optional\n",
       "    Whether the output should be stored in row-major (C-style) or\n",
       "    column-major (Fortran-style) order in memory.\n",
       "\n",
       "    .. versionadded:: 1.14.0\n",
       "device : str, optional\n",
       "    The device on which to place the created array. Default: None.\n",
       "    For Array-API interoperability only, so must be ``\"cpu\"`` if passed.\n",
       "\n",
       "    .. versionadded:: 2.0.0\n",
       "like : array_like, optional\n",
       "    Reference object to allow the creation of arrays which are not\n",
       "    NumPy arrays. If an array-like passed in as ``like`` supports\n",
       "    the ``__array_function__`` protocol, the result will be defined\n",
       "    by it. In this case, it ensures the creation of an array object\n",
       "    compatible with that passed in via this argument.\n",
       "\n",
       "    .. versionadded:: 1.20.0\n",
       "\n",
       "Returns\n",
       "-------\n",
       "I : ndarray of shape (N,M)\n",
       "  An array where all elements are equal to zero, except for the `k`-th\n",
       "  diagonal, whose values are equal to one.\n",
       "\n",
       "See Also\n",
       "--------\n",
       "identity : (almost) equivalent function\n",
       "diag : diagonal 2-D array from a 1-D array specified by the user.\n",
       "\n",
       "Examples\n",
       "--------\n",
       ">>> np.eye(2, dtype=int)\n",
       "array([[1, 0],\n",
       "       [0, 1]])\n",
       ">>> np.eye(3, k=1)\n",
       "array([[0.,  1.,  0.],\n",
       "       [0.,  0.,  1.],\n",
       "       [0.,  0.,  0.]])\n",
       "\u001b[1;31mFile:\u001b[0m      d:\\virtualenvs\\ai\\lib\\site-packages\\numpy\\lib\\_twodim_base_impl.py\n",
       "\u001b[1;31mType:\u001b[0m      function"
      ]
     },
     "metadata": {},
     "output_type": "display_data"
    }
   ],
   "source": [
    "# 创建一个3×3的单位矩阵\n",
    "np.eye?"
   ]
  },
  {
   "cell_type": "code",
   "execution_count": 27,
   "id": "bea2beae-331b-4ac1-a13d-5ce0ef44ce47",
   "metadata": {},
   "outputs": [
    {
     "data": {
      "text/plain": [
       "array([[1., 0., 0.],\n",
       "       [0., 1., 0.],\n",
       "       [0., 0., 1.]])"
      ]
     },
     "execution_count": 27,
     "metadata": {},
     "output_type": "execute_result"
    }
   ],
   "source": [
    "np.eye(3)"
   ]
  },
  {
   "cell_type": "code",
   "execution_count": 28,
   "id": "6d5af9c2-3756-466c-8f4e-3393bd12c12f",
   "metadata": {},
   "outputs": [
    {
     "data": {
      "text/plain": [
       "array([[1, 0, 0],\n",
       "       [0, 1, 0],\n",
       "       [0, 0, 1]])"
      ]
     },
     "execution_count": 28,
     "metadata": {},
     "output_type": "execute_result"
    }
   ],
   "source": [
    "np.eye(3,dtype=int)"
   ]
  },
  {
   "cell_type": "code",
   "execution_count": 30,
   "id": "2eab79c7-d44f-473c-9a1d-c77a21b89c4f",
   "metadata": {},
   "outputs": [
    {
     "data": {
      "text/plain": [
       "\u001b[1;31mDocstring:\u001b[0m\n",
       "empty(shape, dtype=float, order='C', *, device=None, like=None)\n",
       "\n",
       "Return a new array of given shape and type, without initializing entries.\n",
       "\n",
       "Parameters\n",
       "----------\n",
       "shape : int or tuple of int\n",
       "    Shape of the empty array, e.g., ``(2, 3)`` or ``2``.\n",
       "dtype : data-type, optional\n",
       "    Desired output data-type for the array, e.g, `numpy.int8`. Default is\n",
       "    `numpy.float64`.\n",
       "order : {'C', 'F'}, optional, default: 'C'\n",
       "    Whether to store multi-dimensional data in row-major\n",
       "    (C-style) or column-major (Fortran-style) order in\n",
       "    memory.\n",
       "device : str, optional\n",
       "    The device on which to place the created array. Default: None.\n",
       "    For Array-API interoperability only, so must be ``\"cpu\"`` if passed.\n",
       "\n",
       "    .. versionadded:: 2.0.0\n",
       "like : array_like, optional\n",
       "    Reference object to allow the creation of arrays which are not\n",
       "    NumPy arrays. If an array-like passed in as ``like`` supports\n",
       "    the ``__array_function__`` protocol, the result will be defined\n",
       "    by it. In this case, it ensures the creation of an array object\n",
       "    compatible with that passed in via this argument.\n",
       "\n",
       "    .. versionadded:: 1.20.0\n",
       "\n",
       "Returns\n",
       "-------\n",
       "out : ndarray\n",
       "    Array of uninitialized (arbitrary) data of the given shape, dtype, and\n",
       "    order.  Object arrays will be initialized to None.\n",
       "\n",
       "See Also\n",
       "--------\n",
       "empty_like : Return an empty array with shape and type of input.\n",
       "ones : Return a new array setting values to one.\n",
       "zeros : Return a new array setting values to zero.\n",
       "full : Return a new array of given shape filled with value.\n",
       "\n",
       "Notes\n",
       "-----\n",
       "Unlike other array creation functions (e.g. `zeros`, `ones`, `full`),\n",
       "`empty` does not initialize the values of the array, and may therefore be\n",
       "marginally faster. However, the values stored in the newly allocated array\n",
       "are arbitrary. For reproducible behavior, be sure to set each element of\n",
       "the array before reading.\n",
       "\n",
       "Examples\n",
       "--------\n",
       ">>> np.empty([2, 2])\n",
       "array([[ -9.74499359e+001,   6.69583040e-309],\n",
       "       [  2.13182611e-314,   3.06959433e-309]])         #uninitialized\n",
       "\n",
       ">>> np.empty([2, 2], dtype=int)\n",
       "array([[-1073741821, -1067949133],\n",
       "       [  496041986,    19249760]])                     #uninitialized\n",
       "\u001b[1;31mType:\u001b[0m      builtin_function_or_method"
      ]
     },
     "metadata": {},
     "output_type": "display_data"
    }
   ],
   "source": [
    "# 创建一个由3个整型数组成的未初始化的数组\n",
    "# 数组的值是内存空间中的任意值\n",
    "np.empty?"
   ]
  },
  {
   "cell_type": "markdown",
   "id": "f4c01bcc-501f-4d86-8fc8-76504b3f33ec",
   "metadata": {},
   "source": [
    "<h3>2.1.6 NumPy标准数据类型</h3>"
   ]
  },
  {
   "cell_type": "markdown",
   "id": "b5b47f95-08ec-47d1-89e9-3a5646b15241",
   "metadata": {},
   "source": [
    "<p>NumPy 数组包含同一类型的值，因此详细了解这些数据类型及其限制\n",
    "是非常重要的。因为 NumPy 是在 C 语言的基础上开发的，所以 C、\n",
    "Fortran 和其他类似语言的用户会比较熟悉这些数据类型。</p>"
   ]
  },
  {
   "cell_type": "markdown",
   "id": "22c18186-d79b-4b1e-bf48-3218d3ee4bee",
   "metadata": {},
   "source": [
    "<p>表 2-1 列出了标准 NumPy 数据类型。请注意，当构建一个数组时，你\n",
    "可以用一个字符串参数来指定数据类型：</p>"
   ]
  },
  {
   "cell_type": "code",
   "execution_count": 39,
   "id": "6ce3d168-cc07-4bd1-9cba-1c42ea6670da",
   "metadata": {},
   "outputs": [],
   "source": [
    "arr1 = np.zeros(10,dtype='int16')"
   ]
  },
  {
   "cell_type": "code",
   "execution_count": 40,
   "id": "c04ec1de-a02b-4000-960a-a034705227eb",
   "metadata": {},
   "outputs": [
    {
     "data": {
      "text/plain": [
       "array([0, 0, 0, 0, 0, 0, 0, 0, 0, 0], dtype=int16)"
      ]
     },
     "execution_count": 40,
     "metadata": {},
     "output_type": "execute_result"
    }
   ],
   "source": [
    "arr1"
   ]
  },
  {
   "cell_type": "markdown",
   "id": "6e3cd4e0-920a-4dd0-9989-8faf8a955648",
   "metadata": {},
   "source": [
    "<p>或者用相关的 NumPy 对象来指定</p>\n"
   ]
  },
  {
   "cell_type": "code",
   "execution_count": 41,
   "id": "49c24af8-0a42-4918-8cf3-b6e0af5c74bd",
   "metadata": {},
   "outputs": [
    {
     "data": {
      "text/plain": [
       "array([0, 0, 0, 0, 0, 0, 0, 0, 0, 0], dtype=int16)"
      ]
     },
     "execution_count": 41,
     "metadata": {},
     "output_type": "execute_result"
    }
   ],
   "source": [
    "np.zeros(10, dtype=np.int16)"
   ]
  },
  {
   "cell_type": "markdown",
   "id": "c47e5c65-3b0f-4f52-90b6-746ebe0b09ec",
   "metadata": {},
   "source": [
    "<h3>表2-1：NumPy标准数据类型</h3>"
   ]
  },
  {
   "cell_type": "markdown",
   "id": "53150722-ce4f-4082-bd95-d91c39eef56c",
   "metadata": {},
   "source": [
    "<table>\n",
    "    <tr>\n",
    "        <th>数据类型</th>\n",
    "        <th>描述</th>\n",
    "    </tr>\n",
    "    <tr>\n",
    "        <td>bool_</td>\n",
    "        <td>布尔值（真、True 或假、False），用一个字节存储</td>\n",
    "    </tr>\n",
    "    <tr>\n",
    "        <td>int_</td>\n",
    "        <td>默认整型（类似于 C 语言中的 long，通常情况下是 int64 或 int32）</td>\n",
    "    </tr>\n",
    "    <tr>\n",
    "        <td>intc</td>\n",
    "        <td>同 C 语言的 int 相同（通常是 int32 或 int64）</td>\n",
    "    </tr>\n",
    "    <tr>\n",
    "        <td>intp</td>\n",
    "        <td>用作索引的整型（和 C 语言的 ssize_t 相同，通常情况下是 int32 或\n",
    "int64）</td>\n",
    "    </tr>\n",
    "    <tr>\n",
    "        <td>int8</td>\n",
    "        <td>字节（byte，范围从–128 到 127）</td>\n",
    "    </tr>\n",
    "    <tr>\n",
    "        <td>int16</td>\n",
    "        <td>整型（范围从–32768 到 32767）</td>\n",
    "    </tr>\n",
    "    <tr>\n",
    "        <td>int32</td>\n",
    "        <td>整型（范围从–2147483648 到 2147483647）</td>\n",
    "    </tr>\n",
    "    <tr>\n",
    "        <td>int64</td>\n",
    "        <td>整型（范围从–9223372036854775808 到 9223372036854775807）</td>\n",
    "    </tr>\n",
    "    <tr>\n",
    "        <td>uint8</td>\n",
    "        <td>无符号整型（范围从 0 到 255）</td>\n",
    "    </tr>\n",
    "    <tr>\n",
    "        <td>uint16</td>\n",
    "        <td>无符号整型（范围从 0 到 65535）</td>\n",
    "    </tr>\n",
    "    <tr>\n",
    "        <td>uint32</td>\n",
    "        <td>无符号整型（范围从 0 到 4294967295）</td>\n",
    "    </tr>\n",
    "    <tr>\n",
    "        <td>uint64</td>\n",
    "        <td>无符号整型（范围从 0 到 18446744073709551615）</td>\n",
    "    </tr>\n",
    "    <tr>\n",
    "        <td>float_</td>\n",
    "        <td>float64 的简化形式</td>\n",
    "    </tr>\n",
    "    <tr>\n",
    "        <td>float16</td>\n",
    "        <td>半精度浮点型：符号比特位，5 比特位指数（exponent），10 比特位尾数\n",
    "（mantissa）</td>\n",
    "    </tr>\n",
    "    <tr>\n",
    "        <td>float32</td>\n",
    "        <td>单精度浮点型：符号比特位，8 比特位指数，23 比特位尾数</td>\n",
    "    </tr>\n",
    "    <tr>\n",
    "        <td>float64</td>\n",
    "        <td>双精度浮点型：符号比特位，11 比特位指数，52 比特位尾数</td>\n",
    "    </tr>\n",
    "    <tr>\n",
    "        <td>complex_</td>\n",
    "        <td>complex128 的简化形式</td>\n",
    "    </tr>\n",
    "    <tr>\n",
    "        <td>complex64</td>\n",
    "        <td>复数，由两个 32 位浮点数表示</td>\n",
    "    </tr>\n",
    "    <tr>\n",
    "        <td>complex128</td>\n",
    "        <td>复数，由两个 64 位浮点数表示</td>\n",
    "    </tr>\n",
    "</table>"
   ]
  },
  {
   "cell_type": "markdown",
   "id": "85858046-f43f-4a3c-9a51-e13e8a75ee45",
   "metadata": {},
   "source": [
    "<p>还可以进行更高级的数据类型指定，例如指定高位字节数或低位字节\n",
    "数；更多的信息可以在 NumPy 文档（http://numpy.org/）中查看。\n",
    "NumPy 也支持复合数据类型，这一点将会在 2.9 节中介绍。</p>"
   ]
  },
  {
   "cell_type": "markdown",
   "id": "6c806e34-be87-4001-bd95-4f8910efbc35",
   "metadata": {},
   "source": [
    "<h2>2.2 NumPy数组基础</h2>"
   ]
  },
  {
   "cell_type": "markdown",
   "id": "e03d01f8-241e-4d1a-982c-84d590c025cd",
   "metadata": {},
   "source": [
    "<p>Python 中的数据操作几乎等同于 NumPy 数组操作，甚至新出现的\n",
    "Pandas 工具（第 3 章将介绍）也是构建在 NumPy 数组的基础之上的。\n",
    "本节将展示一些用 NumPy 数组操作获取数据或子数组，对数组进行分\n",
    "裂、变形和连接的例子。本节介绍的操作类型可能读起来有些枯燥，但\n",
    "其中也包括了本书其他例子中将用到的内容，所以要好好了解这些内\n",
    "容！\n",
    "</p>"
   ]
  },
  {
   "cell_type": "raw",
   "id": "9c3a3f25-238e-4aed-8c3e-b132b909e20a",
   "metadata": {},
   "source": [
    "我们将介绍以下几类基本的数组操作。\n",
    "数组的属性\n",
    "确定数组的大小、形状、存储大小、数据类型。\n",
    "数组的索引\n",
    "获取和设置数组各个元素的值。\n",
    "数组的切分\n",
    "在大的数组中获取或设置更小的子数组。\n",
    "数组的变形\n",
    "改变给定数组的形状。\n",
    "数组的拼接和分裂\n",
    "将多个数组合并为一个，以及将一个数组分裂成多个。"
   ]
  },
  {
   "cell_type": "markdown",
   "id": "34c749bd-7ad2-472c-899f-043a24c2f346",
   "metadata": {},
   "source": [
    "<h3>2.2.1 NumPy数组的属性</h3>"
   ]
  },
  {
   "cell_type": "markdown",
   "id": "55cfa815-f149-4126-b95e-49e8b4684afc",
   "metadata": {},
   "source": [
    "<p>\n",
    "    首先介绍一些有用的数组属性。定义三个随机的数组：一个一维数组、\n",
    "一个二维数组和一个三维数组。我们将用 NumPy 的随机数生成器设置\n",
    "一组种子值，以确保每次程序执行时都可以生成同样的随机数组：\n",
    "</p>"
   ]
  },
  {
   "cell_type": "code",
   "execution_count": 43,
   "id": "a5cf6b4e-b665-44a3-9d69-c242a8d93c98",
   "metadata": {},
   "outputs": [],
   "source": [
    "np.random.seed(0) #设置随机数种子"
   ]
  },
  {
   "cell_type": "code",
   "execution_count": 44,
   "id": "c493ea64-7204-47cd-882f-568c6fa26c17",
   "metadata": {},
   "outputs": [
    {
     "data": {
      "text/plain": [
       "\u001b[1;31mSignature:\u001b[0m      \u001b[0mnp\u001b[0m\u001b[1;33m.\u001b[0m\u001b[0mrandom\u001b[0m\u001b[1;33m.\u001b[0m\u001b[0mseed\u001b[0m\u001b[1;33m(\u001b[0m\u001b[0mseed\u001b[0m\u001b[1;33m=\u001b[0m\u001b[1;32mNone\u001b[0m\u001b[1;33m)\u001b[0m\u001b[1;33m\u001b[0m\u001b[1;33m\u001b[0m\u001b[0m\n",
       "\u001b[1;31mCall signature:\u001b[0m \u001b[0mnp\u001b[0m\u001b[1;33m.\u001b[0m\u001b[0mrandom\u001b[0m\u001b[1;33m.\u001b[0m\u001b[0mseed\u001b[0m\u001b[1;33m(\u001b[0m\u001b[1;33m*\u001b[0m\u001b[0margs\u001b[0m\u001b[1;33m,\u001b[0m \u001b[1;33m**\u001b[0m\u001b[0mkwargs\u001b[0m\u001b[1;33m)\u001b[0m\u001b[1;33m\u001b[0m\u001b[1;33m\u001b[0m\u001b[0m\n",
       "\u001b[1;31mType:\u001b[0m           cython_function_or_method\n",
       "\u001b[1;31mString form:\u001b[0m    <cyfunction seed at 0x000002B1CB16B5F0>\n",
       "\u001b[1;31mDocstring:\u001b[0m     \n",
       "seed(seed=None)\n",
       "\n",
       "Reseed the singleton RandomState instance.\n",
       "\n",
       "Notes\n",
       "-----\n",
       "This is a convenience, legacy function that exists to support\n",
       "older code that uses the singleton RandomState. Best practice\n",
       "is to use a dedicated ``Generator`` instance rather than\n",
       "the random variate generation methods exposed directly in\n",
       "the random module.\n",
       "\n",
       "See Also\n",
       "--------\n",
       "numpy.random.Generator"
      ]
     },
     "metadata": {},
     "output_type": "display_data"
    }
   ],
   "source": [
    "np.random.seed?"
   ]
  },
  {
   "cell_type": "code",
   "execution_count": 2,
   "id": "4907869e-c405-4c82-ac23-bd5568f73e35",
   "metadata": {},
   "outputs": [],
   "source": [
    "x1 = np.random.randint(10,size=6) #创建一维数组\n",
    "x2 = np.random.randint(10,size=(3,4)) #创建2维数组3行4列\n",
    "x3 = np.random.randint(10,size=(3,4,5)) #创建3维数组"
   ]
  },
  {
   "cell_type": "markdown",
   "id": "8eff848a-de89-4994-aab4-f5d1af08f244",
   "metadata": {},
   "source": [
    "<p>每个数组有 nidm（数组的维度）、shape（数组每个维度的大小）和\n",
    "size（数组的总大小）属性：</p>"
   ]
  },
  {
   "cell_type": "markdown",
   "id": "81b6c909-07ef-48d0-a8d4-7d6fb8b69843",
   "metadata": {},
   "source": [
    "<p>每个数组有 ndim（数组的维度 the Number of DIMision）、shape（数组每个维度的大小）和\n",
    "size（数组的总大小）属性：\n",
    "</p>"
   ]
  },
  {
   "cell_type": "code",
   "execution_count": 46,
   "id": "dc8c6b13-cb0d-40d5-ae3d-3a9a84d4cc09",
   "metadata": {},
   "outputs": [
    {
     "name": "stdout",
     "output_type": "stream",
     "text": [
      "x3 ndim: 3\n",
      "x3 shape: (3, 4, 5)\n",
      "x3 size: 60\n"
     ]
    }
   ],
   "source": [
    "print('x3 ndim:', x3.ndim)\n",
    "print('x3 shape:',x3.shape)\n",
    "print('x3 size:',x3.size)"
   ]
  },
  {
   "cell_type": "markdown",
   "id": "b7797b53-7467-47f7-a2ca-66a1dcda2c10",
   "metadata": {},
   "source": [
    "<p>另外一个有用的属性是 dtype，它是数组的数据类型（2.1 节讨论\n",
    "过）：\n",
    "</p>"
   ]
  },
  {
   "cell_type": "code",
   "execution_count": 47,
   "id": "30851049-8540-4434-9612-621ec6cd0f58",
   "metadata": {},
   "outputs": [
    {
     "name": "stdout",
     "output_type": "stream",
     "text": [
      "x3 dtype: int32\n"
     ]
    }
   ],
   "source": [
    "print('x3 dtype:',x3.dtype)"
   ]
  },
  {
   "cell_type": "markdown",
   "id": "a73ddce8-55d7-41c1-acbd-efcafda666ec",
   "metadata": {},
   "source": [
    "<p>其他的属性包括表示每个数组元素字节大小的 itemsize，以及表示数\n",
    "组总字节大小的属性 nbytes：\n",
    "</p>"
   ]
  },
  {
   "cell_type": "code",
   "execution_count": 48,
   "id": "5f2c42f0-3f9d-4937-aa41-2c1c258674d6",
   "metadata": {},
   "outputs": [
    {
     "name": "stdout",
     "output_type": "stream",
     "text": [
      "itemsize: 4 bytes\n",
      "nbytes: 240 bytes\n"
     ]
    }
   ],
   "source": [
    "print('itemsize:',x3.itemsize,'bytes')\n",
    "print('nbytes:',x3.nbytes,'bytes')"
   ]
  },
  {
   "cell_type": "markdown",
   "id": "41ba1e04-125a-40dc-8e79-01ab821d9c56",
   "metadata": {},
   "source": [
    "<p>综上，我们知道nbytes等于itemsize乘size,即数组总字节的大小等于数组元素字节的大小乘上数组的总大小</p>"
   ]
  },
  {
   "cell_type": "markdown",
   "id": "e16fde2c-73ef-4a84-8009-0d0a4ad6ca23",
   "metadata": {},
   "source": [
    "<p>一般来说，可以认为 nbytes 跟 itemsize 和 size 的乘积大小相等</p>"
   ]
  },
  {
   "cell_type": "markdown",
   "id": "9f19203c-afbe-4868-8c66-e5e617699980",
   "metadata": {},
   "source": [
    "<h3>2.2.2 数组索引：获取单个元素</h3>"
   ]
  },
  {
   "cell_type": "markdown",
   "id": "c2c3bde4-3861-4736-b6d7-14d00b8c0217",
   "metadata": {},
   "source": [
    "<p>如果你熟悉 Python 的标准列表索引，那么你对 NumPy 的索引方式也不\n",
    "会陌生。和 Python 列表一样，在一维数组中，你也可以通过中括号指\n",
    "定索引获取第 i 个值（从 0 开始计数）：</p>"
   ]
  },
  {
   "cell_type": "code",
   "execution_count": 49,
   "id": "569b8bd2-c1a0-43e9-a698-1d3855b5f994",
   "metadata": {},
   "outputs": [
    {
     "data": {
      "text/plain": [
       "array([5, 0, 3, 3, 7, 9], dtype=int32)"
      ]
     },
     "execution_count": 49,
     "metadata": {},
     "output_type": "execute_result"
    }
   ],
   "source": [
    "x1"
   ]
  },
  {
   "cell_type": "code",
   "execution_count": 50,
   "id": "b7a73b4a-0551-4ce5-95a5-8798f2296c8e",
   "metadata": {},
   "outputs": [
    {
     "data": {
      "text/plain": [
       "np.int32(5)"
      ]
     },
     "execution_count": 50,
     "metadata": {},
     "output_type": "execute_result"
    }
   ],
   "source": [
    "x1[0]"
   ]
  },
  {
   "cell_type": "code",
   "execution_count": 51,
   "id": "10c9f9e1-de45-41b2-9f9f-ea713a9258a9",
   "metadata": {},
   "outputs": [
    {
     "data": {
      "text/plain": [
       "np.int32(7)"
      ]
     },
     "execution_count": 51,
     "metadata": {},
     "output_type": "execute_result"
    }
   ],
   "source": [
    "x1[4]"
   ]
  },
  {
   "cell_type": "markdown",
   "id": "981aca11-6f5d-44bd-8971-56a6d69ee604",
   "metadata": {},
   "source": [
    "<p>为了获取数组的末尾索引，可以用负值索引：</p>"
   ]
  },
  {
   "cell_type": "code",
   "execution_count": 52,
   "id": "c35e3934-da43-4673-aae8-acbfd1d4834a",
   "metadata": {},
   "outputs": [
    {
     "data": {
      "text/plain": [
       "np.int32(9)"
      ]
     },
     "execution_count": 52,
     "metadata": {},
     "output_type": "execute_result"
    }
   ],
   "source": [
    "x1[-1]"
   ]
  },
  {
   "cell_type": "code",
   "execution_count": 53,
   "id": "d400b7a7-8648-45f4-af6a-e86052111fa0",
   "metadata": {},
   "outputs": [
    {
     "data": {
      "text/plain": [
       "np.int32(7)"
      ]
     },
     "execution_count": 53,
     "metadata": {},
     "output_type": "execute_result"
    }
   ],
   "source": [
    "x1[-2]"
   ]
  },
  {
   "cell_type": "markdown",
   "id": "489ac492-f0ef-4db7-8491-99193e4a65a1",
   "metadata": {},
   "source": [
    "<p>在多维数组中，可以用逗号分隔的索引元组获取元素：</p>"
   ]
  },
  {
   "cell_type": "code",
   "execution_count": 54,
   "id": "41df2121-bed8-424d-9b28-37cc27ad0a9a",
   "metadata": {},
   "outputs": [
    {
     "data": {
      "text/plain": [
       "array([[3, 5, 2, 4],\n",
       "       [7, 6, 8, 8],\n",
       "       [1, 6, 7, 7]], dtype=int32)"
      ]
     },
     "execution_count": 54,
     "metadata": {},
     "output_type": "execute_result"
    }
   ],
   "source": [
    "x2"
   ]
  },
  {
   "cell_type": "code",
   "execution_count": 55,
   "id": "fc65e8a7-6635-43ac-8939-4db493cf5cda",
   "metadata": {},
   "outputs": [
    {
     "data": {
      "text/plain": [
       "np.int32(3)"
      ]
     },
     "execution_count": 55,
     "metadata": {},
     "output_type": "execute_result"
    }
   ],
   "source": [
    "x2[0,0] #第0行第0列"
   ]
  },
  {
   "cell_type": "code",
   "execution_count": 56,
   "id": "e19d6767-57fd-42e7-89a6-08eb4a643afa",
   "metadata": {},
   "outputs": [
    {
     "data": {
      "text/plain": [
       "np.int32(1)"
      ]
     },
     "execution_count": 56,
     "metadata": {},
     "output_type": "execute_result"
    }
   ],
   "source": [
    "x2[2,0] #第2行第0列"
   ]
  },
  {
   "cell_type": "code",
   "execution_count": 57,
   "id": "9d7e5991-a46b-4447-9dca-306e29581176",
   "metadata": {},
   "outputs": [
    {
     "data": {
      "text/plain": [
       "np.int32(7)"
      ]
     },
     "execution_count": 57,
     "metadata": {},
     "output_type": "execute_result"
    }
   ],
   "source": [
    "x2[2,-1] #第2行倒数第一列"
   ]
  },
  {
   "cell_type": "markdown",
   "id": "875a2d23-59c5-4d04-bc84-92f0b49ce98e",
   "metadata": {},
   "source": [
    "<p>也可以用以上索引方式修改元素值：</p>"
   ]
  },
  {
   "cell_type": "code",
   "execution_count": 3,
   "id": "f0b191f7-95c0-410f-9285-ad105fc8c869",
   "metadata": {},
   "outputs": [
    {
     "data": {
      "text/plain": [
       "array([[12,  8,  4,  4],\n",
       "       [ 4,  0,  8,  2],\n",
       "       [ 7,  1,  5,  7]], dtype=int32)"
      ]
     },
     "execution_count": 3,
     "metadata": {},
     "output_type": "execute_result"
    }
   ],
   "source": [
    "x2[0,0] = 12\n",
    "x2"
   ]
  },
  {
   "cell_type": "markdown",
   "id": "3d4a130e-bdb6-4a8c-a400-34dc36bf7232",
   "metadata": {},
   "source": [
    "<p>请注意，和 Python 列表不同，NumPy 数组是固定类型的。这意味着当\n",
    "你试图将一个浮点值插入一个整型数组时，浮点值会被截短成整型。并\n",
    "且这种截短是自动完成的，不会给你提示或警告，所以需要特别注意这\n",
    "一点！\n",
    "</p>"
   ]
  },
  {
   "cell_type": "code",
   "execution_count": 59,
   "id": "71899a07-30d0-4cd4-b55c-f1ad2b704db2",
   "metadata": {},
   "outputs": [
    {
     "data": {
      "text/plain": [
       "array([3, 0, 3, 3, 7, 9], dtype=int32)"
      ]
     },
     "execution_count": 59,
     "metadata": {},
     "output_type": "execute_result"
    }
   ],
   "source": [
    "x1[0] = 3.14159 #这将被截短\n",
    "x1"
   ]
  },
  {
   "cell_type": "markdown",
   "id": "be52c426-1c29-49f3-95be-ef332bb7b760",
   "metadata": {},
   "source": [
    "<h3>2.2.3 数组切片：获取子数组</h3>"
   ]
  },
  {
   "cell_type": "markdown",
   "id": "dcbfe86b-645b-4165-8787-a3b5824e6a1e",
   "metadata": {},
   "source": [
    "<p>正如此前用中括号获取单个数组元素，我们也可以用切片（slice）符号\n",
    "获取子数组，切片符号用冒号（:）表示。NumPy 切片语法和 Python 列\n",
    "表的标准切片语法相同。为了获取数组 x 的一个切片，可以用以下方\n",
    "式：\n",
    "</p>"
   ]
  },
  {
   "cell_type": "code",
   "execution_count": null,
   "id": "9b046355-a6f2-4df5-b5e4-53bea6a763e1",
   "metadata": {},
   "outputs": [],
   "source": [
    "x1[start:stop:step]"
   ]
  },
  {
   "cell_type": "markdown",
   "id": "523b1d54-d733-4d61-8918-fb20d82051c7",
   "metadata": {},
   "source": [
    "<p>如果以上 3 个参数都未指定，那么它们会被分别设置默认值 start=0、\n",
    "stop= 维度的大小（size of dimension）和 step=1。我们将详细介\n",
    "绍如何在一维和多维数组中获取子数组。</p>"
   ]
  },
  {
   "cell_type": "markdown",
   "id": "75fc11d9-bedc-4b57-8477-527d6f77fe90",
   "metadata": {},
   "source": [
    "<h4>01. 一维子数组</h4>"
   ]
  },
  {
   "cell_type": "code",
   "execution_count": 6,
   "id": "5de1f5be-1c93-45de-8b73-d53a92b6fa24",
   "metadata": {},
   "outputs": [],
   "source": [
    "x=np.arange(10)"
   ]
  },
  {
   "cell_type": "code",
   "execution_count": 7,
   "id": "fd2a53b8-0d70-4f40-bd1b-98071c82fb26",
   "metadata": {},
   "outputs": [
    {
     "data": {
      "text/plain": [
       "array([0, 1, 2, 3, 4, 5, 6, 7, 8, 9])"
      ]
     },
     "execution_count": 7,
     "metadata": {},
     "output_type": "execute_result"
    }
   ],
   "source": [
    "x"
   ]
  },
  {
   "cell_type": "code",
   "execution_count": 8,
   "id": "327a612e-1e71-4d04-a30b-b1f319afdca2",
   "metadata": {},
   "outputs": [
    {
     "data": {
      "text/plain": [
       "array([0, 1, 2, 3, 4])"
      ]
     },
     "execution_count": 8,
     "metadata": {},
     "output_type": "execute_result"
    }
   ],
   "source": [
    "x[:5] #获取前五个元素"
   ]
  },
  {
   "cell_type": "code",
   "execution_count": 9,
   "id": "f0a467e0-5e62-4a4b-a7eb-7cf480aa96c7",
   "metadata": {},
   "outputs": [
    {
     "data": {
      "text/plain": [
       "array([5, 6, 7, 8, 9])"
      ]
     },
     "execution_count": 9,
     "metadata": {},
     "output_type": "execute_result"
    }
   ],
   "source": [
    "x[5:] #获取从第五个元素开始到最后一个元素结束"
   ]
  },
  {
   "cell_type": "code",
   "execution_count": 10,
   "id": "e5e636a4-2c2c-4751-8f98-00d9511a08aa",
   "metadata": {},
   "outputs": [
    {
     "data": {
      "text/plain": [
       "array([4, 5, 6])"
      ]
     },
     "execution_count": 10,
     "metadata": {},
     "output_type": "execute_result"
    }
   ],
   "source": [
    "x[4:7] #取到中间的子数组"
   ]
  },
  {
   "cell_type": "code",
   "execution_count": 13,
   "id": "3f641057-fe3d-4bdb-b9d8-d431b3e369b9",
   "metadata": {},
   "outputs": [
    {
     "data": {
      "text/plain": [
       "array([0, 2, 4, 6, 8])"
      ]
     },
     "execution_count": 13,
     "metadata": {},
     "output_type": "execute_result"
    }
   ],
   "source": [
    "x[::2] #以步长为2取到x数组中的元素"
   ]
  },
  {
   "cell_type": "code",
   "execution_count": 14,
   "id": "9a8836b8-3987-46d5-b503-fe16f06fcb89",
   "metadata": {},
   "outputs": [
    {
     "data": {
      "text/plain": [
       "array([1, 3, 5, 7, 9])"
      ]
     },
     "execution_count": 14,
     "metadata": {},
     "output_type": "execute_result"
    }
   ],
   "source": [
    "x[1::2] #从下标索引为1的数组元素开始取步长为2"
   ]
  },
  {
   "cell_type": "markdown",
   "id": "13f35616-4075-401b-be08-75f40a51e74c",
   "metadata": {},
   "source": [
    "<p>你可能会在步长值为负时感到困惑。在这个例子中，start 参数和\n",
    "stop 参数默认是被交换的。如果有疑问说明python的各种含有下标元素索引的地方你都没学好</p>"
   ]
  },
  {
   "cell_type": "markdown",
   "id": "e5c9c34c-cd6c-4de6-8200-f939054367cb",
   "metadata": {},
   "source": [
    "<p>因此这是一种非常方便的逆序数组的方式：</p>"
   ]
  },
  {
   "cell_type": "code",
   "execution_count": 15,
   "id": "cee6c854-adad-4acf-80b3-6fa76d153026",
   "metadata": {},
   "outputs": [
    {
     "data": {
      "text/plain": [
       "array([9, 8, 7, 6, 5, 4, 3, 2, 1, 0])"
      ]
     },
     "execution_count": 15,
     "metadata": {},
     "output_type": "execute_result"
    }
   ],
   "source": [
    "x[::-1] #从最后一个元素往前取即逆序取出数组所有元素"
   ]
  },
  {
   "cell_type": "code",
   "execution_count": 18,
   "id": "b595c266-6f83-4138-9134-f87f711a6978",
   "metadata": {},
   "outputs": [
    {
     "data": {
      "text/plain": [
       "array([5, 3, 1])"
      ]
     },
     "execution_count": 18,
     "metadata": {},
     "output_type": "execute_result"
    }
   ],
   "source": [
    "x[5::-2] #逆序取数组元素步长为2，从索引5开始"
   ]
  },
  {
   "cell_type": "markdown",
   "id": "3b80abf5-b7a3-4c0f-92c8-5010857b4dea",
   "metadata": {},
   "source": [
    "<img src='../imgs/数组逆序取值.png'>"
   ]
  },
  {
   "cell_type": "markdown",
   "id": "ae7ab81a-fe45-485e-a944-6836dc95abe2",
   "metadata": {},
   "source": [
    "<h4>02. 多维子数组</h4>"
   ]
  },
  {
   "cell_type": "markdown",
   "id": "bf17bdae-b36d-4f90-9925-3216e3050358",
   "metadata": {},
   "source": [
    "<p>多维切片也采用同样的方式处理，用冒号分隔。例如：</p>"
   ]
  },
  {
   "cell_type": "code",
   "execution_count": 19,
   "id": "51c17e4b-6653-4912-9678-3068cd087fc7",
   "metadata": {},
   "outputs": [
    {
     "data": {
      "text/plain": [
       "array([[12,  8,  4,  4],\n",
       "       [ 4,  0,  8,  2],\n",
       "       [ 7,  1,  5,  7]], dtype=int32)"
      ]
     },
     "execution_count": 19,
     "metadata": {},
     "output_type": "execute_result"
    }
   ],
   "source": [
    "x2"
   ]
  },
  {
   "cell_type": "code",
   "execution_count": 20,
   "id": "48fea2b7-a81c-4694-834c-05a1abd3a882",
   "metadata": {},
   "outputs": [
    {
     "data": {
      "text/plain": [
       "array([[12,  8,  4],\n",
       "       [ 4,  0,  8]], dtype=int32)"
      ]
     },
     "execution_count": 20,
     "metadata": {},
     "output_type": "execute_result"
    }
   ],
   "source": [
    "x2[:2,:3] #第一个是取行,即从索引下标为0行开始取取到第索引下标第2行(不包含第二行结束)，:3依此类推"
   ]
  },
  {
   "cell_type": "markdown",
   "id": "3707e80a-4811-47e5-8cea-e62b4db16126",
   "metadata": {},
   "source": [
    "<img src='../imgs/hint.png'>"
   ]
  },
  {
   "cell_type": "code",
   "execution_count": 22,
   "id": "2b28c13a-5c94-49c8-8669-062e1ca22355",
   "metadata": {},
   "outputs": [
    {
     "data": {
      "text/plain": [
       "array([[12,  4],\n",
       "       [ 4,  8],\n",
       "       [ 7,  5]], dtype=int32)"
      ]
     },
     "execution_count": 22,
     "metadata": {},
     "output_type": "execute_result"
    }
   ],
   "source": [
    "x2[:3,::2] #取到索引下标为3前的所有行列全取,但是步长都为2"
   ]
  },
  {
   "cell_type": "markdown",
   "id": "f93e39cc-f855-40c6-8be7-54cb2356e1ef",
   "metadata": {},
   "source": [
    "<p>最后，子数组维度也可以同时被逆序</p>"
   ]
  },
  {
   "cell_type": "code",
   "execution_count": 23,
   "id": "f8d67e92-f002-4067-90f5-f2aa34df800e",
   "metadata": {},
   "outputs": [
    {
     "data": {
      "text/plain": [
       "array([[ 7,  5,  1,  7],\n",
       "       [ 2,  8,  0,  4],\n",
       "       [ 4,  4,  8, 12]], dtype=int32)"
      ]
     },
     "execution_count": 23,
     "metadata": {},
     "output_type": "execute_result"
    }
   ],
   "source": [
    "x2[::-1,::-1]"
   ]
  },
  {
   "cell_type": "markdown",
   "id": "373635f1-707a-4c5a-9984-fcd6a8d6bd0c",
   "metadata": {},
   "source": [
    "<h5>03. 获取数组的行和列</h5>"
   ]
  },
  {
   "cell_type": "markdown",
   "id": "85a9ee12-bc03-40af-bb10-ba5ae805582d",
   "metadata": {},
   "source": [
    "<p>一种常见的需求是获取数组的单行和单列。你可以将索引与切片组\n",
    "合起来实现这个功能，用一个冒号（:）表示空切片：\n",
    "</p>"
   ]
  },
  {
   "cell_type": "code",
   "execution_count": 24,
   "id": "d1629180-68a0-45a5-a3d6-6531d1c438ea",
   "metadata": {},
   "outputs": [
    {
     "name": "stdout",
     "output_type": "stream",
     "text": [
      "[12  4  7]\n"
     ]
    }
   ],
   "source": [
    "print(x2[:,0]) #x2的第一列"
   ]
  },
  {
   "cell_type": "code",
   "execution_count": 25,
   "id": "8553e85b-22f5-4bc5-bee1-623065274e6f",
   "metadata": {},
   "outputs": [
    {
     "name": "stdout",
     "output_type": "stream",
     "text": [
      "[12  8  4  4]\n"
     ]
    }
   ],
   "source": [
    "print(x2[0,:]) #x2的第一行"
   ]
  },
  {
   "cell_type": "markdown",
   "id": "737cf448-5795-4911-96e8-5f7097ef6e44",
   "metadata": {},
   "source": [
    "<p>在获取行时，出于语法的简介考虑，可以省略空的切片：</p>"
   ]
  },
  {
   "cell_type": "code",
   "execution_count": 26,
   "id": "f65e38cb-d2e4-4448-bbea-68f95bce593a",
   "metadata": {},
   "outputs": [
    {
     "name": "stdout",
     "output_type": "stream",
     "text": [
      "[12  8  4  4]\n"
     ]
    }
   ],
   "source": [
    "print(x2[0]) #相当于x2[0,:]"
   ]
  },
  {
   "cell_type": "markdown",
   "id": "98bb6cc3-e898-4288-a1c3-70a2f38d4550",
   "metadata": {},
   "source": [
    "<h4>04. 非副本视图的子数组</h4>"
   ]
  },
  {
   "cell_type": "markdown",
   "id": "5e5c69d3-423d-4dd9-a82a-4083197daf75",
   "metadata": {},
   "source": [
    "<p>关于数组切片有一点很重要也非常有用，那就是数组切片返回的是\n",
    "数组数据的视图，而不是数值数据的副本。这一点也是 NumPy 数\n",
    "组切片和 Python 列表切片的不同之处：在 Python 列表中，切片是\n",
    "值的副本。例如此前示例中的那个二维数组：\n",
    "</p>"
   ]
  },
  {
   "cell_type": "code",
   "execution_count": 27,
   "id": "e06625ae-77da-43a3-887a-e8a6e96b3a8d",
   "metadata": {},
   "outputs": [
    {
     "name": "stdout",
     "output_type": "stream",
     "text": [
      "[[12  8  4  4]\n",
      " [ 4  0  8  2]\n",
      " [ 7  1  5  7]]\n"
     ]
    }
   ],
   "source": [
    "print(x2)"
   ]
  },
  {
   "cell_type": "markdown",
   "id": "22d73607-9808-40d5-915f-d950e1e2af07",
   "metadata": {},
   "source": [
    "<p>从中抽取一个 2×2 的子数组</p>"
   ]
  },
  {
   "cell_type": "code",
   "execution_count": 28,
   "id": "d7931624-f09b-4140-897d-aea255269923",
   "metadata": {},
   "outputs": [
    {
     "name": "stdout",
     "output_type": "stream",
     "text": [
      "[[12  8]\n",
      " [ 4  0]]\n"
     ]
    }
   ],
   "source": [
    "x2_sub = x2[:2,:2]\n",
    "print(x2_sub)"
   ]
  },
  {
   "cell_type": "markdown",
   "id": "99c282a1-2b7e-49b9-8e3f-2adc46253b35",
   "metadata": {},
   "source": [
    "<p>现在如果修改这个子数组，将会看到原始数组也被修改了！结果如\n",
    "下所示：</p>"
   ]
  },
  {
   "cell_type": "code",
   "execution_count": 29,
   "id": "312578e4-b871-4c1d-8577-3e32a42b7919",
   "metadata": {},
   "outputs": [
    {
     "name": "stdout",
     "output_type": "stream",
     "text": [
      "[[99  8]\n",
      " [ 4  0]]\n"
     ]
    }
   ],
   "source": [
    "x2_sub[0,0] = 99\n",
    "print(x2_sub)"
   ]
  },
  {
   "cell_type": "code",
   "execution_count": 30,
   "id": "669867ea-5bd8-4dca-ab1b-6079b934d4d1",
   "metadata": {},
   "outputs": [
    {
     "name": "stdout",
     "output_type": "stream",
     "text": [
      "[[99  8  4  4]\n",
      " [ 4  0  8  2]\n",
      " [ 7  1  5  7]]\n"
     ]
    }
   ],
   "source": [
    "print(x2)"
   ]
  },
  {
   "cell_type": "markdown",
   "id": "026530a4-02d8-4476-842b-0bbe9f513059",
   "metadata": {},
   "source": [
    "<p>这种默认的处理方式实际上非常有用：它意味着在处理非常大的数\n",
    "据集时，可以获取或处理这些数据集的片段，而不用复制底层的数\n",
    "据缓存</p>"
   ]
  },
  {
   "cell_type": "markdown",
   "id": "fd224789-746f-42dc-94d4-21e57c39252b",
   "metadata": {},
   "source": [
    "<h4>05. 创建数组的副本</h4>"
   ]
  },
  {
   "cell_type": "markdown",
   "id": "a3e3a325-7bbc-447b-bd39-541f6cf2272b",
   "metadata": {},
   "source": [
    "<P>尽管数组视图有一些非常好的特性，但是在有些时候明确地复制数\n",
    "组里的数据或子数组也是非常有用的。可以很简单地通过 copy()\n",
    "方法实现：</P>"
   ]
  },
  {
   "cell_type": "code",
   "execution_count": 34,
   "id": "545f75b6-df8d-478f-8c9e-bbae6440bc2c",
   "metadata": {},
   "outputs": [
    {
     "name": "stdout",
     "output_type": "stream",
     "text": [
      "[[99  8]\n",
      " [ 4  0]]\n"
     ]
    }
   ],
   "source": [
    "x2_sub_copy = x2[:2,:2].copy()\n",
    "print(x2_sub_copy)"
   ]
  },
  {
   "cell_type": "markdown",
   "id": "a06b153b-7f07-4e0f-96f8-697ec3bff1ad",
   "metadata": {},
   "source": [
    "<p>如果修改这个子数组，原始的数组不会被改变：</p>"
   ]
  },
  {
   "cell_type": "code",
   "execution_count": 35,
   "id": "d75ae832-5083-4212-ba20-1e5ad5749ad8",
   "metadata": {},
   "outputs": [
    {
     "name": "stdout",
     "output_type": "stream",
     "text": [
      "[[42  8]\n",
      " [ 4  0]]\n"
     ]
    }
   ],
   "source": [
    "x2_sub_copy[0,0]=42\n",
    "print(x2_sub_copy)"
   ]
  },
  {
   "cell_type": "code",
   "execution_count": 37,
   "id": "6e79b2ae-3170-4960-9ee4-318846b8dbdc",
   "metadata": {},
   "outputs": [
    {
     "name": "stdout",
     "output_type": "stream",
     "text": [
      "[[99  8  4  4]\n",
      " [ 4  0  8  2]\n",
      " [ 7  1  5  7]]\n"
     ]
    }
   ],
   "source": [
    "print(x2)"
   ]
  },
  {
   "cell_type": "code",
   "execution_count": 39,
   "id": "2585a96f-0652-48ba-ad58-285f07e45f3b",
   "metadata": {},
   "outputs": [],
   "source": [
    "# 简单理解如果只是单纯的写了一个变量来接收数组那么就会默认对原数组进行修改\n",
    "# 但是如果用了.copy(),那么就会创建一个副本，修改这个副本不会影响原来的数组\n",
    "# 如果仍有疑惑需要返回去查看python的浅拷贝和深拷贝"
   ]
  },
  {
   "cell_type": "markdown",
   "id": "19fabdda-7dd3-4823-9084-ba5e61e723fa",
   "metadata": {},
   "source": [
    "<h3>2.2.4 数组的变形</h3>"
   ]
  },
  {
   "cell_type": "markdown",
   "id": "92a9132b-cd35-42a5-b898-607c93be873d",
   "metadata": {},
   "source": [
    "<p>另一个有用的操作类型是数组的变形。数组变形最灵活的实现方式是通\n",
    "过 reshape() 函数来实现。例如，如果你希望将数字 1~9 放入一个\n",
    "3×3 的矩阵中，可以采用如下方法：</p>"
   ]
  },
  {
   "cell_type": "code",
   "execution_count": 40,
   "id": "0e49600d-57c7-468f-9e0c-c47cfbec3d2f",
   "metadata": {},
   "outputs": [
    {
     "name": "stdout",
     "output_type": "stream",
     "text": [
      "[[1 2 3]\n",
      " [4 5 6]\n",
      " [7 8 9]]\n"
     ]
    }
   ],
   "source": [
    "grid = np.arange(1,10).reshape((3,3)) #左闭右开所以取到的就是1-9共9个数,数字10是不被包含在内的\n",
    "print(grid)"
   ]
  },
  {
   "cell_type": "markdown",
   "id": "ba411d3b-1abb-4df6-9296-e5a8e9e41fba",
   "metadata": {},
   "source": [
    "<p>请注意，如果希望该方法可行，那么原始数组的大小必须和变形后数组\n",
    "的大小一致。如果满足这个条件，reshape 方法将会用到原始数组的一\n",
    "个非副本视图。但实际情况是，在非连续的数据缓存的情况下，返回非\n",
    "副本视图往往不可能实现。</p>"
   ]
  },
  {
   "cell_type": "markdown",
   "id": "2614df3c-4044-41be-be4a-b1826a04b809",
   "metadata": {},
   "source": [
    "<p>另外一个常见的变形模式是将一个一维数组转变为二维的行或列的矩\n",
    "阵。你也可以通过 reshape 方法来实现，或者更简单地在一个切片操\n",
    "作中利用 newaxis 关键字：</p>"
   ]
  },
  {
   "cell_type": "code",
   "execution_count": 57,
   "id": "0f20d1f8-78af-43a2-bf95-f17aab4a3829",
   "metadata": {},
   "outputs": [],
   "source": [
    "x=np.array([1,2,3]) #单纯的一维数组"
   ]
  },
  {
   "cell_type": "code",
   "execution_count": 59,
   "id": "228d3b28-2df5-4ab2-a7ba-802de192ef37",
   "metadata": {},
   "outputs": [
    {
     "data": {
      "text/plain": [
       "1"
      ]
     },
     "execution_count": 59,
     "metadata": {},
     "output_type": "execute_result"
    }
   ],
   "source": [
    "x.ndim #我们可以利用.ndim查看数组的维度可以看到它是一个一维数组"
   ]
  },
  {
   "cell_type": "code",
   "execution_count": 60,
   "id": "3b22f373-7b7c-49f4-9f31-33e42fae8b55",
   "metadata": {},
   "outputs": [
    {
     "data": {
      "text/plain": [
       "array([[1, 2, 3]])"
      ]
     },
     "execution_count": 60,
     "metadata": {},
     "output_type": "execute_result"
    }
   ],
   "source": [
    "#通过变形获得的行向量\n",
    "x.reshape((1,3))"
   ]
  },
  {
   "cell_type": "code",
   "execution_count": 62,
   "id": "847c321e-62e0-446b-9d59-e248f72c2ff3",
   "metadata": {},
   "outputs": [
    {
     "data": {
      "text/plain": [
       "1"
      ]
     },
     "execution_count": 62,
     "metadata": {},
     "output_type": "execute_result"
    }
   ],
   "source": [
    "x.ndim #现在是一个一行三列的一维数组,接下来我们将进行一些操作将其改变"
   ]
  },
  {
   "cell_type": "code",
   "execution_count": 64,
   "id": "497e8081-69de-4296-8ef8-0d8440d011b0",
   "metadata": {},
   "outputs": [
    {
     "data": {
      "text/plain": [
       "array([[1, 2, 3]])"
      ]
     },
     "execution_count": 64,
     "metadata": {},
     "output_type": "execute_result"
    }
   ],
   "source": [
    "# 通过newaxis获得的行向量\n",
    "x[np.newaxis,:]"
   ]
  },
  {
   "cell_type": "code",
   "execution_count": 66,
   "id": "3a71cd8f-0628-459e-b3c9-6ad94b7913fc",
   "metadata": {},
   "outputs": [
    {
     "data": {
      "text/plain": [
       "array([[1],\n",
       "       [2],\n",
       "       [3]])"
      ]
     },
     "execution_count": 66,
     "metadata": {},
     "output_type": "execute_result"
    }
   ],
   "source": [
    "x.reshape((3,1))"
   ]
  },
  {
   "cell_type": "code",
   "execution_count": 67,
   "id": "b6064a6e-41e4-4896-8fac-2f72b34062e9",
   "metadata": {},
   "outputs": [
    {
     "data": {
      "text/plain": [
       "array([[1],\n",
       "       [2],\n",
       "       [3]])"
      ]
     },
     "execution_count": 67,
     "metadata": {},
     "output_type": "execute_result"
    }
   ],
   "source": [
    "x[:,np.newaxis]"
   ]
  },
  {
   "cell_type": "markdown",
   "id": "268193b0-d015-4f31-8286-ea9aa805e913",
   "metadata": {},
   "source": [
    "<h3>2.2.5 数组拼接和分裂</h3>"
   ]
  },
  {
   "cell_type": "markdown",
   "id": "d1af2af0-fae5-46db-a480-4e4a8f85ca48",
   "metadata": {},
   "source": [
    "<p>以上所有的操作都是针对单一数组的，但有时也需要将多个数组合并为\n",
    "一个，或将一个数组分裂成多个。接下来将详细介绍这些操作。\n",
    "</p>"
   ]
  },
  {
   "cell_type": "markdown",
   "id": "24f29572-e452-45f3-bb4a-7a525092ad32",
   "metadata": {},
   "source": [
    "<h4>01. 数组的拼接</h4>"
   ]
  },
  {
   "cell_type": "markdown",
   "id": "95b36367-0b99-41ed-a7d6-a1e6a442e03e",
   "metadata": {},
   "source": [
    "<P>拼接或连接 NumPy 中的两个数组主要由\n",
    "np.concatenate、np.vstack 和 np.hstack 例程实\n",
    "现。np.concatenate 将数组元组或数组列表作为第一个参数，如\n",
    "下所示：</P>"
   ]
  },
  {
   "cell_type": "code",
   "execution_count": 69,
   "id": "469fd44e-b0bc-470e-8840-cd733b0cf226",
   "metadata": {},
   "outputs": [
    {
     "data": {
      "text/plain": [
       "\u001b[1;31mCall signature:\u001b[0m  \u001b[0mnp\u001b[0m\u001b[1;33m.\u001b[0m\u001b[0mconcatenate\u001b[0m\u001b[1;33m(\u001b[0m\u001b[1;33m*\u001b[0m\u001b[0margs\u001b[0m\u001b[1;33m,\u001b[0m \u001b[1;33m**\u001b[0m\u001b[0mkwargs\u001b[0m\u001b[1;33m)\u001b[0m\u001b[1;33m\u001b[0m\u001b[1;33m\u001b[0m\u001b[0m\n",
       "\u001b[1;31mType:\u001b[0m            _ArrayFunctionDispatcher\n",
       "\u001b[1;31mString form:\u001b[0m     <built-in function concatenate>\n",
       "\u001b[1;31mDocstring:\u001b[0m      \n",
       "concatenate(\n",
       "    (a1, a2, ...), \n",
       "    axis=0, \n",
       "    out=None, \n",
       "    dtype=None, \n",
       "    casting=\"same_kind\"\n",
       ")\n",
       "\n",
       "Join a sequence of arrays along an existing axis.\n",
       "\n",
       "Parameters\n",
       "----------\n",
       "a1, a2, ... : sequence of array_like\n",
       "    The arrays must have the same shape, except in the dimension\n",
       "    corresponding to `axis` (the first, by default).\n",
       "axis : int, optional\n",
       "    The axis along which the arrays will be joined.  If axis is None,\n",
       "    arrays are flattened before use.  Default is 0.\n",
       "out : ndarray, optional\n",
       "    If provided, the destination to place the result. The shape must be\n",
       "    correct, matching that of what concatenate would have returned if no\n",
       "    out argument were specified.\n",
       "dtype : str or dtype\n",
       "    If provided, the destination array will have this dtype. Cannot be\n",
       "    provided together with `out`.\n",
       "\n",
       "    .. versionadded:: 1.20.0\n",
       "\n",
       "casting : {'no', 'equiv', 'safe', 'same_kind', 'unsafe'}, optional\n",
       "    Controls what kind of data casting may occur. Defaults to 'same_kind'.\n",
       "    For a description of the options, please see :term:`casting`.\n",
       "    \n",
       "    .. versionadded:: 1.20.0\n",
       "\n",
       "Returns\n",
       "-------\n",
       "res : ndarray\n",
       "    The concatenated array.\n",
       "\n",
       "See Also\n",
       "--------\n",
       "ma.concatenate : Concatenate function that preserves input masks.\n",
       "array_split : Split an array into multiple sub-arrays of equal or\n",
       "              near-equal size.\n",
       "split : Split array into a list of multiple sub-arrays of equal size.\n",
       "hsplit : Split array into multiple sub-arrays horizontally (column wise).\n",
       "vsplit : Split array into multiple sub-arrays vertically (row wise).\n",
       "dsplit : Split array into multiple sub-arrays along the 3rd axis (depth).\n",
       "stack : Stack a sequence of arrays along a new axis.\n",
       "block : Assemble arrays from blocks.\n",
       "hstack : Stack arrays in sequence horizontally (column wise).\n",
       "vstack : Stack arrays in sequence vertically (row wise).\n",
       "dstack : Stack arrays in sequence depth wise (along third dimension).\n",
       "column_stack : Stack 1-D arrays as columns into a 2-D array.\n",
       "\n",
       "Notes\n",
       "-----\n",
       "When one or more of the arrays to be concatenated is a MaskedArray,\n",
       "this function will return a MaskedArray object instead of an ndarray,\n",
       "but the input masks are *not* preserved. In cases where a MaskedArray\n",
       "is expected as input, use the ma.concatenate function from the masked\n",
       "array module instead.\n",
       "\n",
       "Examples\n",
       "--------\n",
       ">>> a = np.array([[1, 2], [3, 4]])\n",
       ">>> b = np.array([[5, 6]])\n",
       ">>> np.concatenate((a, b), axis=0)\n",
       "array([[1, 2],\n",
       "       [3, 4],\n",
       "       [5, 6]])\n",
       ">>> np.concatenate((a, b.T), axis=1)\n",
       "array([[1, 2, 5],\n",
       "       [3, 4, 6]])\n",
       ">>> np.concatenate((a, b), axis=None)\n",
       "array([1, 2, 3, 4, 5, 6])\n",
       "\n",
       "This function will not preserve masking of MaskedArray inputs.\n",
       "\n",
       ">>> a = np.ma.arange(3)\n",
       ">>> a[1] = np.ma.masked\n",
       ">>> b = np.arange(2, 5)\n",
       ">>> a\n",
       "masked_array(data=[0, --, 2],\n",
       "             mask=[False,  True, False],\n",
       "       fill_value=999999)\n",
       ">>> b\n",
       "array([2, 3, 4])\n",
       ">>> np.concatenate([a, b])\n",
       "masked_array(data=[0, 1, 2, 2, 3, 4],\n",
       "             mask=False,\n",
       "       fill_value=999999)\n",
       ">>> np.ma.concatenate([a, b])\n",
       "masked_array(data=[0, --, 2, 2, 3, 4],\n",
       "             mask=[False,  True, False, False, False, False],\n",
       "       fill_value=999999)\n",
       "\u001b[1;31mClass docstring:\u001b[0m\n",
       "Class to wrap functions with checks for __array_function__ overrides.\n",
       "\n",
       "All arguments are required, and can only be passed by position.\n",
       "\n",
       "Parameters\n",
       "----------\n",
       "dispatcher : function or None\n",
       "    The dispatcher function that returns a single sequence-like object\n",
       "    of all arguments relevant.  It must have the same signature (except\n",
       "    the default values) as the actual implementation.\n",
       "    If ``None``, this is a ``like=`` dispatcher and the\n",
       "    ``_ArrayFunctionDispatcher`` must be called with ``like`` as the\n",
       "    first (additional and positional) argument.\n",
       "implementation : function\n",
       "    Function that implements the operation on NumPy arrays without\n",
       "    overrides.  Arguments passed calling the ``_ArrayFunctionDispatcher``\n",
       "    will be forwarded to this (and the ``dispatcher``) as if using\n",
       "    ``*args, **kwargs``.\n",
       "\n",
       "Attributes\n",
       "----------\n",
       "_implementation : function\n",
       "    The original implementation passed in."
      ]
     },
     "metadata": {},
     "output_type": "display_data"
    }
   ],
   "source": [
    "x=np.array([1,2,3])\n",
    "y=np.array([3,2,1])\n",
    "# 先看看怎么用\n",
    "np.concatenate?"
   ]
  },
  {
   "cell_type": "code",
   "execution_count": null,
   "id": "cf5f346f-be88-4097-a7e2-d5d828982e3c",
   "metadata": {},
   "outputs": [],
   "source": [
    "# 可以从提示信息中看到其中的参数有哪些,其中默认axies为0，即默认按照第一个轴(横轴)拼接"
   ]
  },
  {
   "cell_type": "code",
   "execution_count": 70,
   "id": "88bf188d-f579-43d9-9088-0def633a2896",
   "metadata": {},
   "outputs": [
    {
     "data": {
      "text/plain": [
       "array([1, 2, 3, 3, 2, 1])"
      ]
     },
     "execution_count": 70,
     "metadata": {},
     "output_type": "execute_result"
    }
   ],
   "source": [
    "np.concatenate([x,y])"
   ]
  },
  {
   "cell_type": "markdown",
   "id": "2773b6d4-2c55-4766-96c8-a546dd376af6",
   "metadata": {},
   "source": [
    "<p>你也可以一次性拼接两个以上数组：</p>"
   ]
  },
  {
   "cell_type": "code",
   "execution_count": 71,
   "id": "de9b8f93-90b8-431f-a4be-d514f484abbc",
   "metadata": {},
   "outputs": [],
   "source": [
    " z = [99, 99, 99]"
   ]
  },
  {
   "cell_type": "code",
   "execution_count": 72,
   "id": "c12edbd3-5c1d-4b71-b09c-9f84612a11cb",
   "metadata": {},
   "outputs": [
    {
     "data": {
      "text/plain": [
       "array([ 1,  2,  3,  3,  2,  1, 99, 99, 99])"
      ]
     },
     "execution_count": 72,
     "metadata": {},
     "output_type": "execute_result"
    }
   ],
   "source": [
    "np.concatenate([x,y,z])"
   ]
  },
  {
   "cell_type": "markdown",
   "id": "247d56e5-271d-4711-88e6-62b42423af96",
   "metadata": {},
   "source": [
    "<p>np.concatenate 也可以用于二维数组的拼接：</p>"
   ]
  },
  {
   "cell_type": "code",
   "execution_count": 73,
   "id": "fac6e748-9fb5-41dc-971e-3c2cb873345c",
   "metadata": {},
   "outputs": [],
   "source": [
    "grid=np.array([[1,2,3],[4,5,6]])"
   ]
  },
  {
   "cell_type": "code",
   "execution_count": 75,
   "id": "06974842-b1e8-4bea-a33b-fcfa0815efb1",
   "metadata": {},
   "outputs": [],
   "source": [
    "# 沿着第1个轴拼接"
   ]
  },
  {
   "cell_type": "code",
   "execution_count": 76,
   "id": "61271d13-87c8-40ba-9d42-641659e79d19",
   "metadata": {},
   "outputs": [
    {
     "data": {
      "text/plain": [
       "array([[1, 2, 3],\n",
       "       [4, 5, 6],\n",
       "       [1, 2, 3],\n",
       "       [4, 5, 6]])"
      ]
     },
     "execution_count": 76,
     "metadata": {},
     "output_type": "execute_result"
    }
   ],
   "source": [
    "np.concatenate([grid,grid])"
   ]
  },
  {
   "cell_type": "code",
   "execution_count": 77,
   "id": "b1afe60b-4ab6-4e91-9555-1bd18bb8f6b7",
   "metadata": {},
   "outputs": [
    {
     "data": {
      "text/plain": [
       "array([[1, 2, 3, 1, 2, 3],\n",
       "       [4, 5, 6, 4, 5, 6]])"
      ]
     },
     "execution_count": 77,
     "metadata": {},
     "output_type": "execute_result"
    }
   ],
   "source": [
    " # 沿着第二个轴拼接（从0开始索引）\n",
    "np.concatenate([grid,grid],axis=1)"
   ]
  },
  {
   "cell_type": "markdown",
   "id": "2258aac2-8950-4b95-bd88-15d5b3ba704c",
   "metadata": {},
   "source": [
    "<p>沿着固定维度处理数组时，使用 np.vstack（垂直栈）和\n",
    "np.hstack（水平栈）函数会更简洁：</p>"
   ]
  },
  {
   "cell_type": "code",
   "execution_count": 80,
   "id": "91f03d5c-1960-457d-8acd-0df207d25648",
   "metadata": {},
   "outputs": [],
   "source": [
    "x=np.array([1,2,3])\n",
    "grid=np.array([[9,8,7],[6,5,4]])"
   ]
  },
  {
   "cell_type": "code",
   "execution_count": 81,
   "id": "3fd88ea4-3903-49b7-a347-bc8cdeba15fa",
   "metadata": {},
   "outputs": [
    {
     "data": {
      "text/plain": [
       "array([[9, 8, 7],\n",
       "       [6, 5, 4]])"
      ]
     },
     "execution_count": 81,
     "metadata": {},
     "output_type": "execute_result"
    }
   ],
   "source": [
    "grid"
   ]
  },
  {
   "cell_type": "code",
   "execution_count": 82,
   "id": "f44d773e-6dcb-4986-8f2b-87fb50743447",
   "metadata": {},
   "outputs": [
    {
     "data": {
      "text/plain": [
       "(2, 3)"
      ]
     },
     "execution_count": 82,
     "metadata": {},
     "output_type": "execute_result"
    }
   ],
   "source": [
    "grid.shape"
   ]
  },
  {
   "cell_type": "code",
   "execution_count": 83,
   "id": "d56e4409-38fe-4829-8e4a-98ca397f1727",
   "metadata": {},
   "outputs": [
    {
     "data": {
      "text/plain": [
       "array([[1, 2, 3],\n",
       "       [9, 8, 7],\n",
       "       [6, 5, 4]])"
      ]
     },
     "execution_count": 83,
     "metadata": {},
     "output_type": "execute_result"
    }
   ],
   "source": [
    "#垂直栈数组 virticla stack\n",
    "np.vstack([x,grid]) "
   ]
  },
  {
   "cell_type": "code",
   "execution_count": 84,
   "id": "59bc4c72-84ae-4988-aef5-3719c7bf9245",
   "metadata": {},
   "outputs": [
    {
     "data": {
      "text/plain": [
       "array([[ 9,  8,  7, 99],\n",
       "       [ 6,  5,  4, 99]])"
      ]
     },
     "execution_count": 84,
     "metadata": {},
     "output_type": "execute_result"
    }
   ],
   "source": [
    "#水平栈数组 horizental stack\n",
    "y=np.array([[99],[99]])\n",
    "np.hstack([grid,y])"
   ]
  },
  {
   "cell_type": "code",
   "execution_count": 85,
   "id": "a230220c-4e02-4b14-87c0-509dd998630a",
   "metadata": {},
   "outputs": [],
   "source": [
    "# 学习以上记得vstack是拼接为新的一行,第一个维度\n",
    "# 而hstack是拼接新的一列,第二个维度"
   ]
  },
  {
   "cell_type": "code",
   "execution_count": null,
   "id": "6c53fd31-5bae-4a40-85c2-f4f6ca4435be",
   "metadata": {},
   "outputs": [],
   "source": [
    "# 与之类似,np.dstack将沿着第三个维度拼接数组。"
   ]
  },
  {
   "cell_type": "markdown",
   "id": "3b22eadf-73ac-421c-bcb2-afb5f8b1727c",
   "metadata": {},
   "source": [
    "<h4>02. 数组的分裂\n",
    "</h4>"
   ]
  },
  {
   "cell_type": "markdown",
   "id": "2e544eb2-3878-4f75-8f4d-199b02b768fa",
   "metadata": {},
   "source": [
    "<p>与拼接相反的过程是分裂。分裂可以通过 np.split、np.hsplit\n",
    "和 np.vsplit 函数来实现。可以向以上函数传递一个索引列表作\n",
    "为参数，索引列表记录的是分裂点位置：</p>"
   ]
  },
  {
   "cell_type": "code",
   "execution_count": 86,
   "id": "594792ee-51db-4900-a43f-cd368d1a0d0b",
   "metadata": {},
   "outputs": [],
   "source": [
    "x = [1, 2, 3, 99, 99, 3, 2, 1]"
   ]
  },
  {
   "cell_type": "code",
   "execution_count": 87,
   "id": "b9665e6f-e596-4d88-b8a7-77eedb31e8e5",
   "metadata": {},
   "outputs": [
    {
     "name": "stdout",
     "output_type": "stream",
     "text": [
      "[1 2 3] [99 99] [3 2 1]\n"
     ]
    }
   ],
   "source": [
    "x1,x2,x3 = np.split(x,[3,5])\n",
    "print(x1,x2,x3)"
   ]
  },
  {
   "cell_type": "markdown",
   "id": "0daa9506-56f3-4cf7-8c04-d375d2d13e6f",
   "metadata": {},
   "source": [
    "<p>值得注意的是，N 分裂点会得到 N + 1 个子数组。相关的\n",
    "np.hsplit 和 np.vsplit 的用法也类似</p>"
   ]
  },
  {
   "cell_type": "code",
   "execution_count": 88,
   "id": "b2c21b60-5417-4d3e-b94d-7ca4dc549589",
   "metadata": {},
   "outputs": [],
   "source": [
    "grid = np.arange(16).reshape((4,4))"
   ]
  },
  {
   "cell_type": "code",
   "execution_count": 89,
   "id": "35886f80-ca99-4370-a429-66a7fe55df4b",
   "metadata": {},
   "outputs": [
    {
     "data": {
      "text/plain": [
       "array([[ 0,  1,  2,  3],\n",
       "       [ 4,  5,  6,  7],\n",
       "       [ 8,  9, 10, 11],\n",
       "       [12, 13, 14, 15]])"
      ]
     },
     "execution_count": 89,
     "metadata": {},
     "output_type": "execute_result"
    }
   ],
   "source": [
    "grid"
   ]
  },
  {
   "cell_type": "code",
   "execution_count": 90,
   "id": "cdadc739-63c8-4e37-a46c-6bd13f2365a1",
   "metadata": {},
   "outputs": [
    {
     "name": "stdout",
     "output_type": "stream",
     "text": [
      "[[0 1 2 3]\n",
      " [4 5 6 7]]\n",
      "[[ 8  9 10 11]\n",
      " [12 13 14 15]]\n"
     ]
    }
   ],
   "source": [
    "upper,lower = np.vsplit(grid,[2]) #按行切分成两份,前面得有俩变量进行接收\n",
    "print(upper) \n",
    "print(lower)"
   ]
  },
  {
   "cell_type": "code",
   "execution_count": 91,
   "id": "53d8591b-f9e5-4576-8ceb-124b330e5c65",
   "metadata": {},
   "outputs": [
    {
     "name": "stdout",
     "output_type": "stream",
     "text": [
      "[[ 0  1]\n",
      " [ 4  5]\n",
      " [ 8  9]\n",
      " [12 13]]\n",
      "[[ 2  3]\n",
      " [ 6  7]\n",
      " [10 11]\n",
      " [14 15]]\n"
     ]
    }
   ],
   "source": [
    "left,right = np.hsplit(grid,[2])\n",
    "print(left)\n",
    "print(right)"
   ]
  },
  {
   "cell_type": "markdown",
   "id": "914184ac-fe8f-49c9-8157-a20e314835e6",
   "metadata": {},
   "source": [
    "<p>同样，np.dsplit 将数组沿着第三个维度分裂。</p>"
   ]
  },
  {
   "cell_type": "markdown",
   "id": "12f22278-3e78-429c-9ebf-ba9ad70a1ba2",
   "metadata": {},
   "source": [
    "<h2>2.3 NumPy数组的计算：通用函数</h2>"
   ]
  },
  {
   "cell_type": "markdown",
   "id": "de619c39-d7a6-412b-8879-5d4f68f90e61",
   "metadata": {},
   "source": [
    "<p>到目前为止，我们讨论了 NumPy 的一些基础知识。在接下来的几小节\n",
    "中，我们将深入了解 NumPy 在 Python 数据科学世界中如此重要的原\n",
    "因。明确点说，NumPy 提供了一个简单灵活的接口来优化数据数组的\n",
    "计算。\n",
    "NumPy 数组的计算有时非常快，有时也非常慢。使 NumPy 变快的关键\n",
    "是利用向量化操作，通常在 NumPy 的通用函数（ufunc）中实现。本节\n",
    "将介绍 NumPy 通用函数的重要性——它可以提高数组元素的重复计算\n",
    "的效率；然后，将会介绍很多 NumPy 包中常用且有用的数学通用函\n",
    "数。\n",
    "<p>"
   ]
  },
  {
   "cell_type": "markdown",
   "id": "eb2f8309-9e1e-4fce-8d9a-1fe2047ff1ba",
   "metadata": {},
   "source": [
    "<h3>2.3.1 缓慢的循环</h3>"
   ]
  },
  {
   "cell_type": "markdown",
   "id": "f83f1ba2-4d28-47de-9bc8-322f69e42e6b",
   "metadata": {},
   "source": [
    "<p>Python 的默认实现（被称作 CPython）处理起某些操作时非常慢，一部\n",
    "分原因是该语言的动态性和解释性——数据类型灵活的特性决定了序列\n",
    "操作不能像 C 语言和 Fortran 语言一样被编译成有效的机器码。目前，\n",
    "有一些项目试图解决 Python 这一弱点，比较知名的包括：PyPy 项目\n",
    "（http://pypy.org/），一个实时的 Python 编译实现；Cython 项目\n",
    "（http://cython.org），将 Python 代码转换成可编译的 C 代码；Numba\n",
    "项目（http://numba.pydata.org/），将 Python 代码的片段转换成快速的\n",
    "LLVM 字节码。以上这些项目都各有其优势和劣势，但是比较保守地\n",
    "说，这些方法中还没有一种能达到或超过标准 CPython 引擎的受欢迎程\n",
    "度。\n",
    "</p>"
   ]
  },
  {
   "cell_type": "markdown",
   "id": "a10e1081-befd-4e1f-836f-1880325cd690",
   "metadata": {},
   "source": [
    "<p>Python 的相对缓慢通常出现在很多小操作需要不断重复的时候，比如对\n",
    "数组的每个元素做循环操作时。假设有一个数组，我们想计算每个元素\n",
    "的倒数，一种直接的解决方法是：</p>"
   ]
  },
  {
   "cell_type": "code",
   "execution_count": 95,
   "id": "6dcfd71d-1718-4b22-a722-eb49f0895f36",
   "metadata": {},
   "outputs": [
    {
     "data": {
      "text/plain": [
       "array([0.16666667, 1.        , 0.25      , 0.25      , 0.125     ])"
      ]
     },
     "execution_count": 95,
     "metadata": {},
     "output_type": "execute_result"
    }
   ],
   "source": [
    "import numpy as np\n",
    "np.random.seed(0)\n",
    "def compute_reciprocals(values):\n",
    "    output = np.empty(len(values))\n",
    "    for i in range(len(values)):\n",
    "        output[i] = 1.0/values[i]\n",
    "    return output\n",
    "values = np.random.randint(1,10,size=5)\n",
    "compute_reciprocals(values)"
   ]
  },
  {
   "cell_type": "markdown",
   "id": "66260a8d-0ef6-4cf6-828d-6966fac41a79",
   "metadata": {},
   "source": [
    "<p>这种实现方式可能对于有 C 语言或 Java 背景的人来说非常自然，但是\n",
    "如果测试一个很大量的输入数据运行上述代码的时间，这一操作将非常\n",
    "耗时，并且是超出意料的慢！我们将用 IPython 的 %timeit 魔法函数\n",
    "（详情请参见 1.9 节）来测量：</p>"
   ]
  },
  {
   "cell_type": "code",
   "execution_count": 96,
   "id": "629297d1-1de5-4fd2-818f-753761c9b5d9",
   "metadata": {},
   "outputs": [
    {
     "name": "stdout",
     "output_type": "stream",
     "text": [
      "1.82 s ± 43.6 ms per loop (mean ± std. dev. of 7 runs, 1 loop each)\n"
     ]
    }
   ],
   "source": [
    "big_array = np.random.randint(1, 100, size=1000000)\n",
    "%timeit compute_reciprocals(big_array)"
   ]
  },
  {
   "cell_type": "markdown",
   "id": "cb0103d1-ed92-4dc7-b3b5-59f87cfd88ae",
   "metadata": {},
   "source": [
    "<p>完成百万次上述操作并存储结果花了几秒钟的时间！在手机都以 GigaFLOPS（即每秒十亿次浮点运算）为单位计算处理速度时，上面的处理\n",
    "结果所花费的时间确实是不合时宜的慢。事实上，这里的处理瓶颈并不\n",
    "是运算本身，而是 CPython 在每次循环时必须做数据类型的检查和函数\n",
    "的调度。每次进行倒数运算时，Python 首先检查对象的类型，并且动态\n",
    "查找可以使用该数据类型的正确函数。如果我们在编译代码时进行这样\n",
    "的操作，那么就能在代码执行之前知晓类型的声明，结果的计算也会更\n",
    "加有效率</p>"
   ]
  },
  {
   "cell_type": "markdown",
   "id": "2791b69e-f049-462a-bcbe-fbc3fcc55f2c",
   "metadata": {},
   "source": [
    "<h3>2.3.2 通用函数介绍</h3>"
   ]
  },
  {
   "cell_type": "markdown",
   "id": "b9121793-e04f-486a-ba69-4ce0c930091e",
   "metadata": {},
   "source": [
    "<p>NumPy 为很多类型的操作提供了非常方便的、静态类型的、可编译程\n",
    "序的接口，也被称作向量操作。你可以通过简单地对数组执行操作来实\n",
    "现，这里对数组的操作将会被用于数组中的每一个元素。这种向量方法\n",
    "被用于将循环推送至 NumPy 之下的编译层，这样会取得更快的执行效\n",
    "率。</p>"
   ]
  },
  {
   "cell_type": "markdown",
   "id": "e5dee90d-9154-4804-9112-5ebb83ce9f79",
   "metadata": {},
   "source": [
    "<p>比较以下两个结果：</p>"
   ]
  },
  {
   "cell_type": "code",
   "execution_count": 97,
   "id": "50d81349-4191-420a-a509-8eab0bbfbe41",
   "metadata": {},
   "outputs": [
    {
     "name": "stdout",
     "output_type": "stream",
     "text": [
      "[0.16666667 1.         0.25       0.25       0.125     ]\n",
      "[0.16666667 1.         0.25       0.25       0.125     ]\n"
     ]
    }
   ],
   "source": [
    "print(compute_reciprocals(values))\n",
    "print(1.0/values)"
   ]
  },
  {
   "cell_type": "markdown",
   "id": "6eefd73c-9260-46f9-96f6-11530cddac87",
   "metadata": {},
   "source": [
    "<p>如果计算一个较大数组的运行时间，可以看到它的完成时间比 Python\n",
    "循环花费的时间更短：</p>"
   ]
  },
  {
   "cell_type": "code",
   "execution_count": 99,
   "id": "c758a6bc-9ba7-4bff-8e6f-9dc83c860d8c",
   "metadata": {},
   "outputs": [
    {
     "name": "stdout",
     "output_type": "stream",
     "text": [
      "3.07 ms ± 36.7 µs per loop (mean ± std. dev. of 7 runs, 100 loops each)\n"
     ]
    }
   ],
   "source": [
    "%timeit (1.0/big_array)"
   ]
  },
  {
   "cell_type": "markdown",
   "id": "a6d63d4e-dc3b-4c53-ad3f-b4ab8a85ec31",
   "metadata": {},
   "source": [
    "<p>NumPy 中的向量操作是通过通用函数实现的。通用函数的主要目的是\n",
    "对 NumPy 数组中的值执行更快的重复操作。它非常灵活，前面我们看\n",
    "过了标量和数组的运算，但是也可以对两个数组进行运算：</p>"
   ]
  },
  {
   "cell_type": "code",
   "execution_count": 100,
   "id": "647b1740-e44b-4242-8948-185a0645c3a7",
   "metadata": {},
   "outputs": [
    {
     "data": {
      "text/plain": [
       "array([0.        , 0.5       , 0.66666667, 0.75      , 0.8       ])"
      ]
     },
     "execution_count": 100,
     "metadata": {},
     "output_type": "execute_result"
    }
   ],
   "source": [
    "np.arange(5)/np.arange(1,6)"
   ]
  },
  {
   "cell_type": "markdown",
   "id": "d8cb1600-1742-473b-b18f-ab3fbb2c9aa4",
   "metadata": {},
   "source": [
    "<p>通用函数并不仅限于一维数组的运算，它们也可以进行多维数组的运\n",
    "算：</p>"
   ]
  },
  {
   "cell_type": "code",
   "execution_count": 101,
   "id": "050c6c4c-a977-41d7-a121-bd71ef927914",
   "metadata": {},
   "outputs": [],
   "source": [
    "x=np.arange(9).reshape((3,3))"
   ]
  },
  {
   "cell_type": "code",
   "execution_count": 102,
   "id": "c2905b60-4b05-47e3-90c5-b74b5151c676",
   "metadata": {},
   "outputs": [
    {
     "data": {
      "text/plain": [
       "array([[  1,   2,   4],\n",
       "       [  8,  16,  32],\n",
       "       [ 64, 128, 256]])"
      ]
     },
     "execution_count": 102,
     "metadata": {},
     "output_type": "execute_result"
    }
   ],
   "source": [
    "2**x"
   ]
  },
  {
   "cell_type": "markdown",
   "id": "e2ff676b-acf4-4bc3-8753-1535ba2642cd",
   "metadata": {},
   "source": [
    "<p>通过通用函数用向量的方式进行计算几乎总比用 Python 循环实现的计\n",
    "算更加有效，尤其是当数组很大时。只要你看到 Python 脚本中有这样\n",
    "的循环，就应该考虑能否用向量方式替换这个循环。</p>"
   ]
  },
  {
   "cell_type": "markdown",
   "id": "c8582579-edf1-4c79-b730-248d70d16a3f",
   "metadata": {},
   "source": [
    "<h3>2.3.3 探索NumPy的通用函数</h3>"
   ]
  },
  {
   "cell_type": "markdown",
   "id": "be7f43d4-0b22-4bc6-92b2-66876e31b9b9",
   "metadata": {},
   "source": [
    "<p>通用函数有两种存在形式：一元通用函数（unary ufunc）对单个输入操\n",
    "作，二元通用函数（binary ufunc）对两个输入操作。我们将在以下的介\n",
    "绍中看到这两种类型的例子。</p>"
   ]
  },
  {
   "cell_type": "markdown",
   "id": "3e5377a5-0a13-425c-b0f2-2d9604d5ab5e",
   "metadata": {},
   "source": [
    "<h4>01. 数组的运算</h4>"
   ]
  },
  {
   "cell_type": "markdown",
   "id": "e3665fd2-a72d-460d-9c2b-4eb8caffdfce",
   "metadata": {},
   "source": [
    "<p>NumPy 通用函数的使用方式非常自然，因为它用到了 Python 原生\n",
    "的算术运算符，标准的加、减、乘、除都可以使用：</p>"
   ]
  },
  {
   "cell_type": "code",
   "execution_count": 103,
   "id": "f3978bf5-4530-4cc5-954c-a0e043908c00",
   "metadata": {},
   "outputs": [
    {
     "name": "stdout",
     "output_type": "stream",
     "text": [
      "x=[0 1 2 3]\n",
      "x+5=[5 6 7 8]\n",
      "x-5=[-5 -4 -3 -2]\n",
      "x*2=[0 2 4 6]\n",
      "x/2=[0.  0.5 1.  1.5]\n",
      "x//2=[0 0 1 1]\n"
     ]
    }
   ],
   "source": [
    "x=np.arange(4)\n",
    "print(f'x={x}')\n",
    "print(f'x+5={x+5}')\n",
    "print(f'x-5={x-5}')\n",
    "print(f'x*2={x*2}')\n",
    "print(f'x/2={x/2}')\n",
    "print(f'x//2={x//2}') #地板除运算符"
   ]
  },
  {
   "cell_type": "markdown",
   "id": "f2a4dc76-7938-4c81-9495-747e4e6dc748",
   "metadata": {},
   "source": [
    "<p>还有逻辑非、** 表示的指数运算符和 % 表示的模运算符的一元通\n",
    "用函数：</p>"
   ]
  },
  {
   "cell_type": "code",
   "execution_count": 104,
   "id": "e6960680-5030-4b71-a1d0-029031f3cf49",
   "metadata": {},
   "outputs": [
    {
     "name": "stdout",
     "output_type": "stream",
     "text": [
      "-x=[ 0 -1 -2 -3]\n",
      "x**2=[0 1 4 9]\n",
      "x%2=[0 1 0 1]\n"
     ]
    }
   ],
   "source": [
    "print(f'-x={-x}')\n",
    "print(f'x**2={x**2}')\n",
    "print(f'x%2={x%2}')"
   ]
  },
  {
   "cell_type": "markdown",
   "id": "f13624ef-e9b0-47e9-9751-4c3889752e53",
   "metadata": {},
   "source": [
    "<p>你可以任意将这些算术运算符组合使用。当然，你得考虑这些运算\n",
    "符的优先级：\n",
    "</p>"
   ]
  },
  {
   "cell_type": "code",
   "execution_count": 105,
   "id": "b8272141-08a4-492f-9dfa-5f6fdaca8bc2",
   "metadata": {},
   "outputs": [
    {
     "data": {
      "text/plain": [
       "array([-1.  , -2.25, -4.  , -6.25])"
      ]
     },
     "execution_count": 105,
     "metadata": {},
     "output_type": "execute_result"
    }
   ],
   "source": [
    "-(0.5*x+1)**2"
   ]
  },
  {
   "cell_type": "markdown",
   "id": "f1bc4298-761b-4a28-98c4-3b01dd90f1f0",
   "metadata": {},
   "source": [
    "<p>所有这些算术运算符都是 NumPy 内置函数的简单封装器，例如 +\n",
    "运算符就是一个 add 函数的封装器：</p>"
   ]
  },
  {
   "cell_type": "code",
   "execution_count": 106,
   "id": "897da8bc-b667-4f41-8bd9-a94b68d0d76a",
   "metadata": {},
   "outputs": [
    {
     "data": {
      "text/plain": [
       "array([2, 3, 4, 5])"
      ]
     },
     "execution_count": 106,
     "metadata": {},
     "output_type": "execute_result"
    }
   ],
   "source": [
    "np.add(x,2)"
   ]
  },
  {
   "cell_type": "markdown",
   "id": "f9d098ea-38ab-472b-88f3-2747931058fb",
   "metadata": {},
   "source": [
    "<p>表 2-2 列出了所有 NumPy 实现的算术运算符。</p>"
   ]
  },
  {
   "cell_type": "markdown",
   "id": "df7c34b6-59cc-4797-b057-6e9a55648338",
   "metadata": {},
   "source": [
    "<table>\n",
    "    <tr>\n",
    "        <th>运算符</th>\n",
    "        <th>对应的通用函数</th>\n",
    "        <th>描述</th>\n",
    "    </tr>\n",
    "    <tr>\n",
    "        <td>+</td>\n",
    "        <td>np.add</td>\n",
    "        <td>加法运算</td>\n",
    "    </tr>\n",
    "    <tr>\n",
    "        <td>-</td>\n",
    "        <td>np.subtract</td>\n",
    "        <td>减法运算</td>\n",
    "    </tr>\n",
    "    <tr>\n",
    "        <td>-</td>\n",
    "        <td>np.negative</td>\n",
    "        <td>负数运算</td>\n",
    "    </tr>\n",
    "    <tr>\n",
    "        <td>*</td>\n",
    "        <td>np.multiply</td>\n",
    "        <td>乘法运算</td>\n",
    "    </tr>\n",
    "    <tr>\n",
    "        <td>/</td>\n",
    "        <td>np.divide</td>\n",
    "        <td>除法运算</td>\n",
    "    </tr>\n",
    "    <tr>\n",
    "        <td>//</td>\n",
    "        <td>np.floor_divide</td>\n",
    "        <td>地板除法运算</td>\n",
    "    </tr>\n",
    "    <tr>\n",
    "        <td>**</td>\n",
    "        <td>np.power</td>\n",
    "        <td>指数运算</td>\n",
    "    </tr>\n",
    "    <tr>\n",
    "        <td>&</td>\n",
    "        <td>np.mod</td>\n",
    "        <td>模/余数</td>\n",
    "    </tr>\n",
    "</table>"
   ]
  },
  {
   "cell_type": "markdown",
   "id": "c05d7cda-4f62-464c-b20c-e2555fe31d33",
   "metadata": {},
   "source": [
    "<p>另外，NumPy 中还有布尔 / 位运算符，这些运算符将在 2.6 节中进\n",
    "一步介绍。</p>"
   ]
  },
  {
   "cell_type": "markdown",
   "id": "99b92568-ad5f-41db-a576-81eeb0de40bf",
   "metadata": {},
   "source": [
    "<h4>02. 绝对值</h4>"
   ]
  },
  {
   "cell_type": "markdown",
   "id": "36ade8ff-335d-4a94-9c6c-fa3336206af0",
   "metadata": {},
   "source": [
    "<p>正如 NumPy 能理解 Python 内置的运算操作，NumPy 也可以理解\n",
    "Python 内置的绝对值函数：</p>"
   ]
  },
  {
   "cell_type": "code",
   "execution_count": 107,
   "id": "7cd49527-7622-4c39-86b5-71390666102e",
   "metadata": {},
   "outputs": [
    {
     "data": {
      "text/plain": [
       "array([2, 1, 0, 1, 2])"
      ]
     },
     "execution_count": 107,
     "metadata": {},
     "output_type": "execute_result"
    }
   ],
   "source": [
    "x=np.array([-2,-1,0,1,2])\n",
    "abs(x)"
   ]
  },
  {
   "cell_type": "markdown",
   "id": "3d063fc7-2ee5-416e-8940-26b2fc374805",
   "metadata": {},
   "source": [
    "<p>对应的 NumPy 通用函数是 np.absolute，该函数也可以用别名\n",
    "np.abs 来访问：</p>"
   ]
  },
  {
   "cell_type": "code",
   "execution_count": 108,
   "id": "db17b61b-0fcf-4e7a-b492-e87ca70e9618",
   "metadata": {},
   "outputs": [
    {
     "data": {
      "text/plain": [
       "array([2, 1, 0, 1, 2])"
      ]
     },
     "execution_count": 108,
     "metadata": {},
     "output_type": "execute_result"
    }
   ],
   "source": [
    "np.absolute(x)"
   ]
  },
  {
   "cell_type": "code",
   "execution_count": 109,
   "id": "ae885679-3c9a-4d4f-b2e5-344c0d3e481e",
   "metadata": {},
   "outputs": [
    {
     "data": {
      "text/plain": [
       "array([2, 1, 0, 1, 2])"
      ]
     },
     "execution_count": 109,
     "metadata": {},
     "output_type": "execute_result"
    }
   ],
   "source": [
    "np.abs(x)"
   ]
  },
  {
   "cell_type": "markdown",
   "id": "45496cf5-55c3-40fb-b76a-7de3450771d4",
   "metadata": {},
   "source": [
    "<p>这个通用函数也可以处理复数。当处理复数时，绝对值返回的是该\n",
    "复数的幅度：</p>"
   ]
  },
  {
   "cell_type": "code",
   "execution_count": 110,
   "id": "e2682cfc-a791-4a05-957f-83a4cff4d6af",
   "metadata": {},
   "outputs": [
    {
     "data": {
      "text/plain": [
       "array([5., 5., 2., 1.])"
      ]
     },
     "execution_count": 110,
     "metadata": {},
     "output_type": "execute_result"
    }
   ],
   "source": [
    "x=np.array([3-4j,4-3j,2+0j,0+1j])\n",
    "np.abs(x)"
   ]
  },
  {
   "cell_type": "markdown",
   "id": "5df10965-1723-4409-b9c9-0a440bec1daa",
   "metadata": {},
   "source": [
    "<h4>03. 三角函数</h4>"
   ]
  },
  {
   "cell_type": "markdown",
   "id": "1f5bfacd-4157-465c-aa28-99abafd00399",
   "metadata": {},
   "source": [
    "<p>NumPy 提供了大量好用的通用函数，其中对于数据科学家最有用\n",
    "的就是三角函数。首先定义一个角度数组：</p>"
   ]
  },
  {
   "cell_type": "code",
   "execution_count": 111,
   "id": "413af984-4572-4e57-b420-e413989b75dd",
   "metadata": {},
   "outputs": [],
   "source": [
    "theta = np.linspace(0,np.pi,3)"
   ]
  },
  {
   "cell_type": "markdown",
   "id": "a0a9afae-8472-48af-98ca-6f13c0d39dc5",
   "metadata": {},
   "source": [
    "<p>现在可以对这些值进行一些三角函数计算：\n",
    "</p>"
   ]
  },
  {
   "cell_type": "code",
   "execution_count": 112,
   "id": "a94e1d9a-a981-4595-af67-70a5b86d2be6",
   "metadata": {},
   "outputs": [
    {
     "name": "stdout",
     "output_type": "stream",
     "text": [
      "thta:[0.         1.57079633 3.14159265]\n",
      "sin(thta):[0.0000000e+00 1.0000000e+00 1.2246468e-16]\n",
      "cos(thta):[ 1.000000e+00  6.123234e-17 -1.000000e+00]\n",
      "tan(thta):[ 0.00000000e+00  1.63312394e+16 -1.22464680e-16]\n"
     ]
    }
   ],
   "source": [
    "print(f'thta:{theta}')\n",
    "print(f'sin(thta):{np.sin(theta)}')\n",
    "print(f'cos(thta):{np.cos(theta)}')\n",
    "print(f'tan(thta):{np.tan(theta)}')\n"
   ]
  },
  {
   "cell_type": "markdown",
   "id": "b5364054-4aa5-421f-9579-e86fd425ccb8",
   "metadata": {},
   "source": [
    "<p>这些值是在机器精度内计算的，所以有些应该是 0 的值并没有精确\n",
    "到 0 。逆三角函数同样可以使用：</p>"
   ]
  },
  {
   "cell_type": "code",
   "execution_count": 114,
   "id": "03c9a2ba-b922-4a2e-ba59-870016ea55cf",
   "metadata": {},
   "outputs": [
    {
     "name": "stdout",
     "output_type": "stream",
     "text": [
      "x=[-1, 0, 1]\n",
      "arcsin(x)=[-1.57079633  0.          1.57079633]\n",
      "arccos(x)=[3.14159265 1.57079633 0.        ]\n",
      "arctan(x)=[-0.78539816  0.          0.78539816]\n"
     ]
    }
   ],
   "source": [
    "x=[-1,0,1]\n",
    "print(f'x={x}')\n",
    "print(f'arcsin(x)={np.arcsin(x)}')\n",
    "print(f'arccos(x)={np.arccos(x)}')\n",
    "print(f'arctan(x)={np.arctan(x)}')\n"
   ]
  },
  {
   "cell_type": "markdown",
   "id": "c442c8e9-f534-4228-8492-d23bdb49a28f",
   "metadata": {},
   "source": [
    "<h4>04. 指数和对数</h4>"
   ]
  },
  {
   "cell_type": "markdown",
   "id": "6c1f2e18-6909-4fec-a78b-6903a687394d",
   "metadata": {},
   "source": [
    "<p>NumPy 中另一个常用的运算通用函数是指数运算：</p>"
   ]
  },
  {
   "cell_type": "code",
   "execution_count": null,
   "id": "cdd26d87-4bf7-4826-923f-8f09f5696400",
   "metadata": {},
   "outputs": [],
   "source": [
    "# p108"
   ]
  }
 ],
 "metadata": {
  "kernelspec": {
   "display_name": "Python 3 (ipykernel)",
   "language": "python",
   "name": "python3"
  },
  "language_info": {
   "codemirror_mode": {
    "name": "ipython",
    "version": 3
   },
   "file_extension": ".py",
   "mimetype": "text/x-python",
   "name": "python",
   "nbconvert_exporter": "python",
   "pygments_lexer": "ipython3",
   "version": "3.9.7"
  }
 },
 "nbformat": 4,
 "nbformat_minor": 5
}
