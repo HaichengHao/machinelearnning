{
 "cells": [
  {
   "cell_type": "code",
   "execution_count": 34,
   "id": "a88391e3-f67a-4d7d-9717-740c7d143640",
   "metadata": {},
   "outputs": [
    {
     "data": {
      "text/html": [
       "<style type='text/css'>\n",
       "    *{\n",
       "        # background-color:#E3EDCD;\n",
       "        # background-color:black;\n",
       "        # color:white;\n",
       "        \n",
       "    }\n",
       "    h1{\n",
       "        color:#1976d2;\n",
       "    }\n",
       "    h2{\n",
       "        color:#f57c00;\n",
       "    }\n",
       "    h3{\n",
       "        color:#ba37ff;\n",
       "    }\n",
       "    table{\n",
       "        border:1px solid black !important;\n",
       "        border-collapse:collapse !important;\n",
       "    }\n",
       "    th{\n",
       "        background-color:blueviolet !important;\n",
       "        text-align:center;\n",
       "        color:white;\n",
       "    }\n",
       "    th,td{\n",
       "        border:0.1px solid black !important;\n",
       "        transition:0.2s all liner;\n",
       "        \n",
       "    }\n",
       "    td:hover{\n",
       "        transform:scale(1.1);\n",
       "        background-color:orange;\n",
       "        color:blueviolet;\n",
       "    }\n",
       "    .raw{\n",
       "        white-space:pre;\n",
       "    }\n",
       "</style>\n"
      ],
      "text/plain": [
       "<IPython.core.display.HTML object>"
      ]
     },
     "metadata": {},
     "output_type": "display_data"
    }
   ],
   "source": [
    "%%HTML\n",
    "<style type='text/css'>\n",
    "    *{\n",
    "        # background-color:#E3EDCD;\n",
    "        # background-color:black;\n",
    "        # color:white;\n",
    "        \n",
    "    }\n",
    "    h1{\n",
    "        color:#1976d2;\n",
    "    }\n",
    "    h2{\n",
    "        color:#f57c00;\n",
    "    }\n",
    "    h3{\n",
    "        color:#ba37ff;\n",
    "    }\n",
    "    table{\n",
    "        border:1px solid black !important;\n",
    "        border-collapse:collapse !important;\n",
    "    }\n",
    "    th{\n",
    "        background-color:blueviolet !important;\n",
    "        text-align:center;\n",
    "        color:white;\n",
    "    }\n",
    "    th,td{\n",
    "        border:0.1px solid black !important;\n",
    "        transition:0.2s all liner;\n",
    "        \n",
    "    }\n",
    "    td:hover{\n",
    "        transform:scale(1.1);\n",
    "        background-color:orange;\n",
    "        color:blueviolet;\n",
    "    }\n",
    "    .raw{\n",
    "        white-space:pre;\n",
    "    }\n",
    "</style>"
   ]
  },
  {
   "cell_type": "markdown",
   "id": "eb3ba7c4-1be2-4664-bd8e-131f72ebd0a7",
   "metadata": {},
   "source": [
    "<h2>2.8数组的排序</h2>"
   ]
  },
  {
   "cell_type": "raw",
   "id": "1407dee3-0851-40ca-94c3-2fac88b35c30",
   "metadata": {},
   "source": [
    "到目前为止，我们主要关注了用 NumPy 获取和操作数组的工具。这一\n",
    "节将介绍用于排序 NumPy 数组的相关算法，这些算法是计算机科学导\n",
    "论课程非常偏爱的话题。如果你曾经参加过这样的课程，你可能睡觉时\n",
    "都在想插入排序、选择排序、归并排序、快速排序、冒泡排序等（这\n",
    "取决于你的体温，也可能是一个噩梦）。所有这些方法都是为了实现一\n",
    "个类似的任务：对一个列表或数组进行排序。\n",
    "例如，一个简单的选择排序重复寻找列表中的最小值，并且不断交换直\n",
    "到列表是有序的。可以在 Python 中仅用几行代码来实现：\n"
   ]
  },
  {
   "cell_type": "code",
   "execution_count": 1,
   "id": "e45eac8d-1db3-45d4-9b77-a96907d76bba",
   "metadata": {},
   "outputs": [],
   "source": [
    "import numpy as np\n",
    "def selection_sort(x):\n",
    "    for i in range(len(x)):\n",
    "        swap = i + np.argmin(x[i:]) #设置要换位置的索引号\n",
    "        (x[i],x[swap]) = (x[swap],x[i]) #实现交换\n",
    "        return x"
   ]
  },
  {
   "cell_type": "code",
   "execution_count": 2,
   "id": "3c5117e8-e347-4683-8dd8-926a3e63d6ca",
   "metadata": {},
   "outputs": [
    {
     "data": {
      "text/plain": [
       "array([1, 2, 4, 3, 5])"
      ]
     },
     "execution_count": 2,
     "metadata": {},
     "output_type": "execute_result"
    }
   ],
   "source": [
    "x = np.array([2,1,4,3,5])\n",
    "# 调用函数\n",
    "selection_sort(x)"
   ]
  },
  {
   "cell_type": "markdown",
   "id": "f282dff5-97fa-4876-98d4-07441e6103ec",
   "metadata": {},
   "source": [
    "<img src='../imgs/选择排序.png'>"
   ]
  },
  {
   "cell_type": "markdown",
   "id": "b7f407cd-a79e-44c4-8f1d-a2322b52297c",
   "metadata": {},
   "source": [
    "<p>注意上文中的argmin(x[i:])这种每次i的值都不一样，所以每次都会形成一个新的数组</p>"
   ]
  },
  {
   "cell_type": "code",
   "execution_count": 3,
   "id": "8b813644-553e-4de7-9bef-077d1f48af39",
   "metadata": {},
   "outputs": [
    {
     "data": {
      "text/plain": [
       "\u001b[1;31mSignature:\u001b[0m       \u001b[0mnp\u001b[0m\u001b[1;33m.\u001b[0m\u001b[0margmin\u001b[0m\u001b[1;33m(\u001b[0m\u001b[0ma\u001b[0m\u001b[1;33m,\u001b[0m \u001b[0maxis\u001b[0m\u001b[1;33m=\u001b[0m\u001b[1;32mNone\u001b[0m\u001b[1;33m,\u001b[0m \u001b[0mout\u001b[0m\u001b[1;33m=\u001b[0m\u001b[1;32mNone\u001b[0m\u001b[1;33m,\u001b[0m \u001b[1;33m*\u001b[0m\u001b[1;33m,\u001b[0m \u001b[0mkeepdims\u001b[0m\u001b[1;33m=\u001b[0m\u001b[1;33m<\u001b[0m\u001b[0mno\u001b[0m \u001b[0mvalue\u001b[0m\u001b[1;33m>\u001b[0m\u001b[1;33m)\u001b[0m\u001b[1;33m\u001b[0m\u001b[1;33m\u001b[0m\u001b[0m\n",
       "\u001b[1;31mCall signature:\u001b[0m  \u001b[0mnp\u001b[0m\u001b[1;33m.\u001b[0m\u001b[0margmin\u001b[0m\u001b[1;33m(\u001b[0m\u001b[1;33m*\u001b[0m\u001b[0margs\u001b[0m\u001b[1;33m,\u001b[0m \u001b[1;33m**\u001b[0m\u001b[0mkwargs\u001b[0m\u001b[1;33m)\u001b[0m\u001b[1;33m\u001b[0m\u001b[1;33m\u001b[0m\u001b[0m\n",
       "\u001b[1;31mType:\u001b[0m            _ArrayFunctionDispatcher\n",
       "\u001b[1;31mString form:\u001b[0m     <function argmin at 0x0000020BC8092820>\n",
       "\u001b[1;31mFile:\u001b[0m            d:\\virtualenvs\\ai\\lib\\site-packages\\numpy\\_core\\fromnumeric.py\n",
       "\u001b[1;31mDocstring:\u001b[0m      \n",
       "Returns the indices of the minimum values along an axis.\n",
       "\n",
       "Parameters\n",
       "----------\n",
       "a : array_like\n",
       "    Input array.\n",
       "axis : int, optional\n",
       "    By default, the index is into the flattened array, otherwise\n",
       "    along the specified axis.\n",
       "out : array, optional\n",
       "    If provided, the result will be inserted into this array. It should\n",
       "    be of the appropriate shape and dtype.\n",
       "keepdims : bool, optional\n",
       "    If this is set to True, the axes which are reduced are left\n",
       "    in the result as dimensions with size one. With this option,\n",
       "    the result will broadcast correctly against the array.\n",
       "\n",
       "    .. versionadded:: 1.22.0\n",
       "\n",
       "Returns\n",
       "-------\n",
       "index_array : ndarray of ints\n",
       "    Array of indices into the array. It has the same shape as `a.shape`\n",
       "    with the dimension along `axis` removed. If `keepdims` is set to True,\n",
       "    then the size of `axis` will be 1 with the resulting array having same\n",
       "    shape as `a.shape`.\n",
       "\n",
       "See Also\n",
       "--------\n",
       "ndarray.argmin, argmax\n",
       "amin : The minimum value along a given axis.\n",
       "unravel_index : Convert a flat index into an index tuple.\n",
       "take_along_axis : Apply ``np.expand_dims(index_array, axis)``\n",
       "                  from argmin to an array as if by calling min.\n",
       "\n",
       "Notes\n",
       "-----\n",
       "In case of multiple occurrences of the minimum values, the indices\n",
       "corresponding to the first occurrence are returned.\n",
       "\n",
       "Examples\n",
       "--------\n",
       ">>> a = np.arange(6).reshape(2,3) + 10\n",
       ">>> a\n",
       "array([[10, 11, 12],\n",
       "       [13, 14, 15]])\n",
       ">>> np.argmin(a)\n",
       "0\n",
       ">>> np.argmin(a, axis=0)\n",
       "array([0, 0, 0])\n",
       ">>> np.argmin(a, axis=1)\n",
       "array([0, 0])\n",
       "\n",
       "Indices of the minimum elements of a N-dimensional array:\n",
       "\n",
       ">>> ind = np.unravel_index(np.argmin(a, axis=None), a.shape)\n",
       ">>> ind\n",
       "(0, 0)\n",
       ">>> a[ind]\n",
       "10\n",
       "\n",
       ">>> b = np.arange(6) + 10\n",
       ">>> b[4] = 10\n",
       ">>> b\n",
       "array([10, 11, 12, 13, 10, 15])\n",
       ">>> np.argmin(b)  # Only the first occurrence is returned.\n",
       "0\n",
       "\n",
       ">>> x = np.array([[4,2,3], [1,0,3]])\n",
       ">>> index_array = np.argmin(x, axis=-1)\n",
       ">>> # Same as np.amin(x, axis=-1, keepdims=True)\n",
       ">>> np.take_along_axis(x, np.expand_dims(index_array, axis=-1), axis=-1)\n",
       "array([[2],\n",
       "       [0]])\n",
       ">>> # Same as np.amax(x, axis=-1)\n",
       ">>> np.take_along_axis(x, np.expand_dims(index_array, axis=-1),\n",
       "...     axis=-1).squeeze(axis=-1)\n",
       "array([2, 0])\n",
       "\n",
       "Setting `keepdims` to `True`,\n",
       "\n",
       ">>> x = np.arange(24).reshape((2, 3, 4))\n",
       ">>> res = np.argmin(x, axis=1, keepdims=True)\n",
       ">>> res.shape\n",
       "(2, 1, 4)\n",
       "\u001b[1;31mClass docstring:\u001b[0m\n",
       "Class to wrap functions with checks for __array_function__ overrides.\n",
       "\n",
       "All arguments are required, and can only be passed by position.\n",
       "\n",
       "Parameters\n",
       "----------\n",
       "dispatcher : function or None\n",
       "    The dispatcher function that returns a single sequence-like object\n",
       "    of all arguments relevant.  It must have the same signature (except\n",
       "    the default values) as the actual implementation.\n",
       "    If ``None``, this is a ``like=`` dispatcher and the\n",
       "    ``_ArrayFunctionDispatcher`` must be called with ``like`` as the\n",
       "    first (additional and positional) argument.\n",
       "implementation : function\n",
       "    Function that implements the operation on NumPy arrays without\n",
       "    overrides.  Arguments passed calling the ``_ArrayFunctionDispatcher``\n",
       "    will be forwarded to this (and the ``dispatcher``) as if using\n",
       "    ``*args, **kwargs``.\n",
       "\n",
       "Attributes\n",
       "----------\n",
       "_implementation : function\n",
       "    The original implementation passed in."
      ]
     },
     "metadata": {},
     "output_type": "display_data"
    }
   ],
   "source": [
    "np.argmin? #我们查看一下np.argmin的使用方法"
   ]
  },
  {
   "cell_type": "markdown",
   "id": "d51107ae-62dc-45b6-b4aa-30b8cc87f392",
   "metadata": {},
   "source": [
    "<p>正如任何大学一年级的计算机科学课程会告诉你的，选择排序因为其简\n",
    "洁而非常有用，但是它对于大数组来说太慢了。对于一个包含 N 个值的\n",
    "数组来说，它需要做 N 个循环，每个循环中执行~ N 次比较，以找到交\n",
    "换值。“大 O 标记”常用来标示算法的复杂度（详情请参见 2.8.3 节），\n",
    "选择排序的平均算法复杂度为 [N<sup>2</sup>]：如果你将列表中元素的个数翻\n",
    "倍，那么运行时间就会延长 4 倍。</p>"
   ]
  },
  {
   "cell_type": "raw",
   "id": "1cd4c456-1e31-49c6-9ce0-fd0b10ff30ec",
   "metadata": {},
   "source": [
    "Python 包含的很多内置排序算法都比上面例子中的算法高效\n",
    "得多。首先介绍 Python 的内置排序算法，然后介绍 NumPy 中的排序算\n",
    "法和优化过的 NumPy 数组排序算法。"
   ]
  },
  {
   "cell_type": "markdown",
   "id": "31e5cab5-a3f2-4dd1-9072-32d9bb5b6c64",
   "metadata": {},
   "source": [
    "<h3>2.8.1 NumPy中的快速排序：np.sort和np.argsort</h3>"
   ]
  },
  {
   "cell_type": "markdown",
   "id": "d2cbacf4-986d-4cc0-890f-37209828361c",
   "metadata": {},
   "source": [
    "<p>尽管 Python 有内置的 sort 和 sorted 函数可以对列表进行排序，但是\n",
    "这里不会介绍这两个函数，因为 NumPy 的 np.sort 函数实际上效率更\n",
    "高。默认情况下，np.sort 的排序算法是 快速排序，其算法复杂度为O\n",
    "[N log N]，另外也可以选择归并排序和堆排序。对于大多数应用场\n",
    "景，默认的快速排序已经足够高效了。\n",
    "</p>"
   ]
  },
  {
   "cell_type": "markdown",
   "id": "0b0035eb-63bd-4ace-9ec8-0034933983f8",
   "metadata": {},
   "source": [
    "<p>如果想在不修改原始输入数组的基础上返回一个排好序的数组，可以使\n",
    "用 np.sort：</p>"
   ]
  },
  {
   "cell_type": "code",
   "execution_count": 4,
   "id": "e5de2efc-2965-4315-b091-1b44a9920652",
   "metadata": {},
   "outputs": [
    {
     "data": {
      "text/plain": [
       "array([1, 2, 3, 4, 5])"
      ]
     },
     "execution_count": 4,
     "metadata": {},
     "output_type": "execute_result"
    }
   ],
   "source": [
    "x=np.array([2,1,4,3,5])\n",
    "np.sort(x)"
   ]
  },
  {
   "cell_type": "markdown",
   "id": "7651bb23-e23e-4873-8fa5-ceb4bd82f857",
   "metadata": {},
   "source": [
    "<p>如果希望用排好序的数组替代原始数组，可以使用数组的 sort 方法：</p>"
   ]
  },
  {
   "cell_type": "code",
   "execution_count": 5,
   "id": "92b43d3e-3be3-4b19-b00e-c8b8b101fb67",
   "metadata": {},
   "outputs": [
    {
     "name": "stdout",
     "output_type": "stream",
     "text": [
      "[1 2 3 4 5]\n"
     ]
    }
   ],
   "source": [
    "x.sort()\n",
    "print(x)"
   ]
  },
  {
   "cell_type": "markdown",
   "id": "5c1c10b1-b000-4fa1-81c4-88630b32ed92",
   "metadata": {},
   "source": [
    "<p>另外一个相关的函数是 argsort，该函数返回的是原始数组排好序的索\n",
    "引值：</p>"
   ]
  },
  {
   "cell_type": "code",
   "execution_count": 6,
   "id": "51635ad2-7b8d-4330-b50b-c07ef3412563",
   "metadata": {},
   "outputs": [
    {
     "data": {
      "text/plain": [
       "array([2, 1, 4, 3, 5])"
      ]
     },
     "execution_count": 6,
     "metadata": {},
     "output_type": "execute_result"
    }
   ],
   "source": [
    "x = np.array([2,1,4,3,5])\n",
    "i = np.argsort(x)\n",
    "x"
   ]
  },
  {
   "cell_type": "code",
   "execution_count": 7,
   "id": "bd22a564-aeb1-453c-8ea7-39c5b582a450",
   "metadata": {},
   "outputs": [
    {
     "data": {
      "text/plain": [
       "array([1, 0, 3, 2, 4])"
      ]
     },
     "execution_count": 7,
     "metadata": {},
     "output_type": "execute_result"
    }
   ],
   "source": [
    "i #可以看到原数组没有发生变化,但是i已经是排序好后的数组x的索引数组"
   ]
  },
  {
   "cell_type": "markdown",
   "id": "d4ba4786-874a-46fe-953d-9e812bed3658",
   "metadata": {},
   "source": [
    "<p>以上结果的第一个元素是数组中最小元素的索引值，第二个值给出的是\n",
    "次小元素的索引值，以此类推。这些索引值可以被用于（通过花哨的索\n",
    "引）创建有序的数组：</p>"
   ]
  },
  {
   "cell_type": "code",
   "execution_count": 8,
   "id": "8db8631a-d869-4a47-9569-0c11bcb8645b",
   "metadata": {},
   "outputs": [
    {
     "data": {
      "text/plain": [
       "array([1, 2, 3, 4, 5])"
      ]
     },
     "execution_count": 8,
     "metadata": {},
     "output_type": "execute_result"
    }
   ],
   "source": [
    "# 得到排序后的数组\n",
    "x[i]"
   ]
  },
  {
   "cell_type": "markdown",
   "id": "25006aee-a9d4-4907-b32f-21c15448724f",
   "metadata": {},
   "source": [
    "<p>沿着行或列排序</p>\n",
    "<p>NumPy 排序算法的一个有用的功能是通过 axis 参数，沿着多维数组的\n",
    "行或列进行排序，例如：</p>"
   ]
  },
  {
   "cell_type": "code",
   "execution_count": 9,
   "id": "6ebaa954-aeea-4b92-9219-5d2a7489c55b",
   "metadata": {},
   "outputs": [
    {
     "data": {
      "text/plain": [
       "array([[6, 3, 7, 4, 6, 9],\n",
       "       [2, 6, 7, 4, 3, 7],\n",
       "       [7, 2, 5, 4, 1, 7],\n",
       "       [5, 1, 4, 0, 9, 5]], dtype=int32)"
      ]
     },
     "execution_count": 9,
     "metadata": {},
     "output_type": "execute_result"
    }
   ],
   "source": [
    "rand = np.random.RandomState(42)\n",
    "X = rand.randint(0,10,(4,6))\n",
    "X"
   ]
  },
  {
   "cell_type": "code",
   "execution_count": 10,
   "id": "8c4c45ce-f387-4141-86c3-85e2b2766700",
   "metadata": {},
   "outputs": [
    {
     "data": {
      "text/plain": [
       "array([[2, 1, 4, 0, 1, 5],\n",
       "       [5, 2, 5, 4, 3, 7],\n",
       "       [6, 3, 7, 4, 6, 7],\n",
       "       [7, 6, 7, 4, 9, 9]], dtype=int32)"
      ]
     },
     "execution_count": 10,
     "metadata": {},
     "output_type": "execute_result"
    }
   ],
   "source": [
    "# 对X的每一列排序\n",
    "np.sort(X,axis=0)"
   ]
  },
  {
   "cell_type": "code",
   "execution_count": 11,
   "id": "36432d8a-4b91-4408-9195-4696253cb503",
   "metadata": {},
   "outputs": [
    {
     "data": {
      "text/plain": [
       "array([[3, 4, 6, 6, 7, 9],\n",
       "       [2, 3, 4, 6, 7, 7],\n",
       "       [1, 2, 4, 5, 7, 7],\n",
       "       [0, 1, 4, 5, 5, 9]], dtype=int32)"
      ]
     },
     "execution_count": 11,
     "metadata": {},
     "output_type": "execute_result"
    }
   ],
   "source": [
    "# 对每一行进行排序\n",
    "np.sort(X,axis=1)"
   ]
  },
  {
   "cell_type": "markdown",
   "id": "136091ce-e07e-425d-81c1-e380ea178e9b",
   "metadata": {},
   "source": [
    "<p>需要记住的是，这种处理方式是将行或列当作独立的数组，任何行或列\n",
    "的值之间的关系将会丢失！</p>"
   ]
  },
  {
   "cell_type": "markdown",
   "id": "be1a4490-af52-44b4-873c-a013769e78a2",
   "metadata": {},
   "source": [
    "<h3>2.8.2 部分排序：分隔</h3>"
   ]
  },
  {
   "cell_type": "markdown",
   "id": "c633408c-7369-4ffc-bf4f-f9bb2edcfb44",
   "metadata": {},
   "source": [
    "<p>有时候我们不希望对整个数组进行排序，仅仅希望找到数组中第 K 小的\n",
    "值，NumPy 的 np.partition 函数提供了该功能。np.partition 函\n",
    "数的输入是数组和数字 K，输出结果是一个新数组，最左边是第 K 小的\n",
    "值，往右是任意顺序的其他值：</p>"
   ]
  },
  {
   "cell_type": "code",
   "execution_count": 12,
   "id": "b971ab37-92f6-4865-837e-13b6845ac6a2",
   "metadata": {},
   "outputs": [
    {
     "data": {
      "text/plain": [
       "array([1, 2, 3, 4, 5, 6, 7])"
      ]
     },
     "execution_count": 12,
     "metadata": {},
     "output_type": "execute_result"
    }
   ],
   "source": [
    "x = np.array([7,2,3,1,6,5,4])\n",
    "np.partition(x,3)"
   ]
  },
  {
   "cell_type": "markdown",
   "id": "42dc1c54-fe11-497a-ad8b-9ad7212aad6b",
   "metadata": {},
   "source": [
    "<p>请注意，结果数组中前三个值是数组中最小的三个值，剩下的位置是原\n",
    "始数组剩下的值。在这两个分隔区间中，元素都是任意排列的。</p>\n",
    "<p>与排序类似，也可以沿着多维数组任意的轴进行分隔：</p>\n"
   ]
  },
  {
   "cell_type": "code",
   "execution_count": 13,
   "id": "5b8b60b0-e4f8-4f3f-a628-65f586c1ffd2",
   "metadata": {},
   "outputs": [
    {
     "data": {
      "text/plain": [
       "array([[3, 4, 6, 6, 7, 9],\n",
       "       [2, 3, 4, 6, 7, 7],\n",
       "       [1, 2, 4, 5, 7, 7],\n",
       "       [0, 1, 4, 5, 5, 9]], dtype=int32)"
      ]
     },
     "execution_count": 13,
     "metadata": {},
     "output_type": "execute_result"
    }
   ],
   "source": [
    "np.partition(X,2,axis=1) \n",
    "#按照行排序设定kth的值为2，\n",
    "# 即最左边的俩一定是整个数组里的第一第二小的值无序后面的不变"
   ]
  },
  {
   "cell_type": "markdown",
   "id": "646ebdd3-5d21-4c65-ad14-e62874b45f0f",
   "metadata": {},
   "source": [
    "<p>输出结果是一个数组，该数组每一行的前两个元素是该行最小的两个\n",
    "值，每行的其他值分布在剩下的位置。</p>"
   ]
  },
  {
   "cell_type": "markdown",
   "id": "20eea77c-25d6-4cc4-ac4a-cbf437731952",
   "metadata": {},
   "source": [
    "<p>最后，正如 np.argsort 函数计算的是排序的索引值，也有一个\n",
    "np.argpartition 函数计算的是分隔的索引值，我们将在下一节中举\n",
    "例介绍它。</p>"
   ]
  },
  {
   "cell_type": "markdown",
   "id": "e181a567-9270-458c-b57f-f0b095dfb4d0",
   "metadata": {},
   "source": [
    "<h3>2.8.3 示例：K个最近邻</h3>"
   ]
  },
  {
   "cell_type": "markdown",
   "id": "655a43b6-0317-4a9e-a602-f2d5c1bbe218",
   "metadata": {},
   "source": [
    "<p>以下示例展示的是如何利用 argsort 函数沿着多个轴快速找到集合中\n",
    "每个点的最近邻。首先，在二维平面上创建一个有 10 个随机点的集\n",
    "合。按照惯例，将这些数据点放在一个 10×2 的数组中：</p>"
   ]
  },
  {
   "cell_type": "code",
   "execution_count": 14,
   "id": "185bfe7a-c358-4739-8e79-94e7a4c8a38f",
   "metadata": {},
   "outputs": [],
   "source": [
    "X = rand.rand(10,2)"
   ]
  },
  {
   "cell_type": "code",
   "execution_count": 15,
   "id": "0e5c6102-b631-469b-b634-1ef5c47ad7a8",
   "metadata": {},
   "outputs": [
    {
     "data": {
      "text/plain": [
       "array([[0.00706631, 0.02306243],\n",
       "       [0.52477466, 0.39986097],\n",
       "       [0.04666566, 0.97375552],\n",
       "       [0.23277134, 0.09060643],\n",
       "       [0.61838601, 0.38246199],\n",
       "       [0.98323089, 0.46676289],\n",
       "       [0.85994041, 0.68030754],\n",
       "       [0.45049925, 0.01326496],\n",
       "       [0.94220176, 0.56328822],\n",
       "       [0.3854165 , 0.01596625]])"
      ]
     },
     "execution_count": 15,
     "metadata": {},
     "output_type": "execute_result"
    }
   ],
   "source": [
    "X"
   ]
  },
  {
   "cell_type": "markdown",
   "id": "8cbe7076-3ca4-447b-af4e-8dc6987c459e",
   "metadata": {},
   "source": [
    "<p>为了对这些点有一个直观的印象，来画出它的散点图（如图 2-10 所\n",
    "示）：</p>"
   ]
  },
  {
   "cell_type": "code",
   "execution_count": 16,
   "id": "16a739da-2aa4-41c0-9041-f2aba1d0e3da",
   "metadata": {},
   "outputs": [
    {
     "data": {
      "image/png": "[encoded data removed]",
      "text/plain": [
       "<Figure size 1000x800 with 1 Axes>"
      ]
     },
     "metadata": {},
     "output_type": "display_data"
    }
   ],
   "source": [
    "import matplotlib.pyplot as plt\n",
    "plt.figure(figsize=(10,8),dpi=100)\n",
    "plt.grid(True,linestyle='--',alpha=0.5)\n",
    "plt.scatter(X[:,0],X[:,1])\n",
    "plt.show()"
   ]
  },
  {
   "cell_type": "markdown",
   "id": "4c141d59-507b-4849-b0d5-3e780262d95e",
   "metadata": {},
   "source": [
    "<p style='text-align:center;'>图 2-10：将示例 k 个最近邻中的点可视化</p>"
   ]
  },
  {
   "cell_type": "markdown",
   "id": "412b58bf-8592-4390-9b8b-5e1b644671b7",
   "metadata": {},
   "source": [
    "<p>现在来计算两两数据点对间的距离。我们学过两点间距离的平方等于每\n",
    "个维度的距离差的平方的和。利用 NumPy 的广播（详情请参见 2.5\n",
    "节）和聚合（详情请参见 2.4 节）功能，可以用一行代码计算矩阵的平\n",
    "方距离：\n",
    "</p>"
   ]
  },
  {
   "cell_type": "code",
   "execution_count": 17,
   "id": "a5ec82c3-5dab-43c1-aabb-90a40c3d88d5",
   "metadata": {},
   "outputs": [],
   "source": [
    "dist_sq = np.sum((X[:,np.newaxis,:] - X[np.newaxis,:,:]) ** 2, axis=-1)"
   ]
  },
  {
   "cell_type": "markdown",
   "id": "413325cd-12e9-4d31-8c6a-1aca5c7595d6",
   "metadata": {},
   "source": [
    "<p>这个操作由很多部分组成。如果你对 NumPy 的广播规则不熟悉的话，\n",
    "可能这行代码看起来有些令人困惑。当你遇到这种代码时，将其各组件\n",
    "分解后再分析是非常有用的：</p>"
   ]
  },
  {
   "cell_type": "code",
   "execution_count": 20,
   "id": "88ecf87e-8053-42cc-8b65-a5f32f5da05a",
   "metadata": {},
   "outputs": [
    {
     "data": {
      "text/plain": [
       "(10, 10, 2)"
      ]
     },
     "execution_count": 20,
     "metadata": {},
     "output_type": "execute_result"
    }
   ],
   "source": [
    "# # 在坐标系中计算每对点的差值\n",
    "differences = X[:,np.newaxis,:] - X[np.newaxis,:,:]\n",
    "differences.shape"
   ]
  },
  {
   "cell_type": "code",
   "execution_count": 25,
   "id": "5859b469-e806-4fd1-a7b7-c5313d3ea5ea",
   "metadata": {},
   "outputs": [
    {
     "data": {
      "text/plain": [
       "array([[[ 0.        ,  0.        ],\n",
       "        [-0.51770836, -0.37679855],\n",
       "        [-0.03959936, -0.95069309],\n",
       "        [-0.22570504, -0.06754401],\n",
       "        [-0.6113197 , -0.35939957],\n",
       "        [-0.97616458, -0.44370047],\n",
       "        [-0.8528741 , -0.65724511],\n",
       "        [-0.44343295,  0.00979746],\n",
       "        [-0.93513545, -0.54022579],\n",
       "        [-0.3783502 ,  0.00709617]],\n",
       "\n",
       "       [[ 0.51770836,  0.37679855],\n",
       "        [ 0.        ,  0.        ],\n",
       "        [ 0.478109  , -0.57389455],\n",
       "        [ 0.29200332,  0.30925454],\n",
       "        [-0.09361135,  0.01739898],\n",
       "        [-0.45845623, -0.06690192],\n",
       "        [-0.33516575, -0.28044657],\n",
       "        [ 0.07427541,  0.38659601],\n",
       "        [-0.4174271 , -0.16342725],\n",
       "        [ 0.13935816,  0.38389472]],\n",
       "\n",
       "       [[ 0.03959936,  0.95069309],\n",
       "        [-0.478109  ,  0.57389455],\n",
       "        [ 0.        ,  0.        ],\n",
       "        [-0.18610568,  0.88314908],\n",
       "        [-0.57172035,  0.59129353],\n",
       "        [-0.93656522,  0.50699263],\n",
       "        [-0.81327474,  0.29344798],\n",
       "        [-0.40383359,  0.96049056],\n",
       "        [-0.89553609,  0.4104673 ],\n",
       "        [-0.33875084,  0.95778927]],\n",
       "\n",
       "       [[ 0.22570504,  0.06754401],\n",
       "        [-0.29200332, -0.30925454],\n",
       "        [ 0.18610568, -0.88314908],\n",
       "        [ 0.        ,  0.        ],\n",
       "        [-0.38561467, -0.29185556],\n",
       "        [-0.75045955, -0.37615646],\n",
       "        [-0.62716907, -0.5897011 ],\n",
       "        [-0.21772791,  0.07734147],\n",
       "        [-0.70943042, -0.47268178],\n",
       "        [-0.15264516,  0.07464018]],\n",
       "\n",
       "       [[ 0.6113197 ,  0.35939957],\n",
       "        [ 0.09361135, -0.01739898],\n",
       "        [ 0.57172035, -0.59129353],\n",
       "        [ 0.38561467,  0.29185556],\n",
       "        [ 0.        ,  0.        ],\n",
       "        [-0.36484488, -0.0843009 ],\n",
       "        [-0.2415544 , -0.29784555],\n",
       "        [ 0.16788676,  0.36919703],\n",
       "        [-0.32381575, -0.18082623],\n",
       "        [ 0.23296951,  0.36649574]],\n",
       "\n",
       "       [[ 0.97616458,  0.44370047],\n",
       "        [ 0.45845623,  0.06690192],\n",
       "        [ 0.93656522, -0.50699263],\n",
       "        [ 0.75045955,  0.37615646],\n",
       "        [ 0.36484488,  0.0843009 ],\n",
       "        [ 0.        ,  0.        ],\n",
       "        [ 0.12329048, -0.21354465],\n",
       "        [ 0.53273163,  0.45349793],\n",
       "        [ 0.04102913, -0.09652532],\n",
       "        [ 0.59781438,  0.45079664]],\n",
       "\n",
       "       [[ 0.8528741 ,  0.65724511],\n",
       "        [ 0.33516575,  0.28044657],\n",
       "        [ 0.81327474, -0.29344798],\n",
       "        [ 0.62716907,  0.5897011 ],\n",
       "        [ 0.2415544 ,  0.29784555],\n",
       "        [-0.12329048,  0.21354465],\n",
       "        [ 0.        ,  0.        ],\n",
       "        [ 0.40944115,  0.66704258],\n",
       "        [-0.08226135,  0.11701932],\n",
       "        [ 0.4745239 ,  0.66434129]],\n",
       "\n",
       "       [[ 0.44343295, -0.00979746],\n",
       "        [-0.07427541, -0.38659601],\n",
       "        [ 0.40383359, -0.96049056],\n",
       "        [ 0.21772791, -0.07734147],\n",
       "        [-0.16788676, -0.36919703],\n",
       "        [-0.53273163, -0.45349793],\n",
       "        [-0.40944115, -0.66704258],\n",
       "        [ 0.        ,  0.        ],\n",
       "        [-0.4917025 , -0.55002326],\n",
       "        [ 0.06508275, -0.00270129]],\n",
       "\n",
       "       [[ 0.93513545,  0.54022579],\n",
       "        [ 0.4174271 ,  0.16342725],\n",
       "        [ 0.89553609, -0.4104673 ],\n",
       "        [ 0.70943042,  0.47268178],\n",
       "        [ 0.32381575,  0.18082623],\n",
       "        [-0.04102913,  0.09652532],\n",
       "        [ 0.08226135, -0.11701932],\n",
       "        [ 0.4917025 ,  0.55002326],\n",
       "        [ 0.        ,  0.        ],\n",
       "        [ 0.55678525,  0.54732197]],\n",
       "\n",
       "       [[ 0.3783502 , -0.00709617],\n",
       "        [-0.13935816, -0.38389472],\n",
       "        [ 0.33875084, -0.95778927],\n",
       "        [ 0.15264516, -0.07464018],\n",
       "        [-0.23296951, -0.36649574],\n",
       "        [-0.59781438, -0.45079664],\n",
       "        [-0.4745239 , -0.66434129],\n",
       "        [-0.06508275,  0.00270129],\n",
       "        [-0.55678525, -0.54732197],\n",
       "        [ 0.        ,  0.        ]]])"
      ]
     },
     "execution_count": 25,
     "metadata": {},
     "output_type": "execute_result"
    }
   ],
   "source": [
    "differences"
   ]
  },
  {
   "cell_type": "code",
   "execution_count": 21,
   "id": "d7b6771f-cb53-47da-a211-a18c82b350c3",
   "metadata": {},
   "outputs": [
    {
     "data": {
      "text/plain": [
       "(10, 10, 2)"
      ]
     },
     "execution_count": 21,
     "metadata": {},
     "output_type": "execute_result"
    }
   ],
   "source": [
    "# 求出差值的平方\n",
    "sq_differences = differences ** 2\n",
    "sq_differences.shape"
   ]
  },
  {
   "cell_type": "code",
   "execution_count": 22,
   "id": "5b917e1d-04fc-490e-b2fd-18a9b47dc348",
   "metadata": {},
   "outputs": [
    {
     "data": {
      "text/plain": [
       "(10, 10)"
      ]
     },
     "execution_count": 22,
     "metadata": {},
     "output_type": "execute_result"
    }
   ],
   "source": [
    "# 将差值求和获得平方距离\n",
    "dist_sq = sq_differences.sum(-1)\n",
    "dist_sq.shape"
   ]
  },
  {
   "cell_type": "markdown",
   "id": "83134752-1041-4559-9cb7-4fc5159c1ecc",
   "metadata": {},
   "source": [
    "<p>请再次确认以上步骤，应该看到该矩阵的对角线（也就是每个点到其自\n",
    "身的距离）的值都是 0：</p>"
   ]
  },
  {
   "cell_type": "code",
   "execution_count": 23,
   "id": "5d6a2060-e4f7-4e88-be6f-44a49cd981a1",
   "metadata": {},
   "outputs": [
    {
     "data": {
      "text/plain": [
       "array([0., 0., 0., 0., 0., 0., 0., 0., 0., 0.])"
      ]
     },
     "execution_count": 23,
     "metadata": {},
     "output_type": "execute_result"
    }
   ],
   "source": [
    "dist_sq.diagonal()"
   ]
  },
  {
   "cell_type": "markdown",
   "id": "f98a2b49-4551-4321-a881-3c6dc6146adb",
   "metadata": {},
   "source": [
    "<p>结果确实是这样的！当我们有了这样一个转化为两点间的平方距离的矩\n",
    "阵后，就可以使用 np.argsort 函数沿着每行进行排序了。最左边的列\n",
    "给出的索引值就是最近邻：</p>"
   ]
  },
  {
   "cell_type": "code",
   "execution_count": 24,
   "id": "28ce81dd-ec8c-47e1-96bb-f9d9f121dd77",
   "metadata": {},
   "outputs": [
    {
     "name": "stdout",
     "output_type": "stream",
     "text": [
      "[[0 3 9 7 1 4 2 5 6 8]\n",
      " [1 4 7 9 3 6 8 5 0 2]\n",
      " [2 1 4 6 3 0 8 9 7 5]\n",
      " [3 9 7 0 1 4 5 8 6 2]\n",
      " [4 1 8 5 6 7 9 3 0 2]\n",
      " [5 8 6 4 1 7 9 3 2 0]\n",
      " [6 8 5 4 1 7 9 3 2 0]\n",
      " [7 9 3 1 4 0 5 8 6 2]\n",
      " [8 5 6 4 1 7 9 3 2 0]\n",
      " [9 7 3 0 1 4 5 8 6 2]]\n"
     ]
    }
   ],
   "source": [
    "nearest = np.argsort(dist_sq,axis=1)\n",
    "print(nearest)"
   ]
  },
  {
   "cell_type": "markdown",
   "id": "35eee130-f2c8-446f-8f27-749dbdff01c8",
   "metadata": {},
   "source": [
    "<p>需要注意的是，第一列是按 0~9 从小到大排列的。这是因为每个点的最\n",
    "近邻是其自身，所以结果也正如我们所想。</p>\n",
    "<p>如果使用全排序，我们实际上可以实现的比这个例子展示的更多。如果\n",
    "我们仅仅关心 k 个最近邻，那么唯一需要做的是分隔每一行，这样最小\n",
    "的 k + 1 的平方距离将排在最前面，其他更长的距离占据矩阵该行的其\n",
    "他位置。可以用 np.argpartition 函数实现：\n",
    "</p>"
   ]
  },
  {
   "cell_type": "code",
   "execution_count": 26,
   "id": "5c572866-1c0b-40cb-930f-2e70a7c864d8",
   "metadata": {},
   "outputs": [],
   "source": [
    "K = 2\n",
    "nearest_partition = np.argpartition(dist_sq, K + 1, axis=1)"
   ]
  },
  {
   "cell_type": "markdown",
   "id": "3513d027-cf2d-44e0-9850-32839f43f4a3",
   "metadata": {},
   "source": [
    "<p>为了将邻节点网络可视化，我们将每个点和其最近的两个最近邻连接\n",
    "（如图 2-11 所示）：</p>"
   ]
  },
  {
   "cell_type": "code",
   "execution_count": 33,
   "id": "bedc3a0c-7d83-4736-acc8-e0035226f8f9",
   "metadata": {},
   "outputs": [
    {
     "data": {
      "image/png": "[encoded data removed]",
      "text/plain": [
       "<Figure size 640x480 with 1 Axes>"
      ]
     },
     "metadata": {},
     "output_type": "display_data"
    }
   ],
   "source": [
    "plt.scatter(X[:,0],X[:,-1],s=100)\n",
    "plt.grid(True,alpha=0.5)\n",
    "# 将每个点与它的两个最近邻连接\n",
    "\n",
    "K=2\n",
    "for i in range(X.shape[0]):\n",
    "    for j in nearest_partition[i,:K+1]:\n",
    "        # 画一条从X[i]到x[j]的线段\n",
    "        # 用zip方法实现\n",
    "        plt.plot(*zip(X[j],X[i]),color='b') #注意这里用到了解包赋值\n",
    "        # 因为传入的是可变位置参数是个元组解包元组需要在其前面加上单*号\n",
    "# plt.show()"
   ]
  },
  {
   "cell_type": "markdown",
   "id": "a9a0ab86-a4c6-4652-844b-941ac88499f9",
   "metadata": {},
   "source": [
    "<p style='text-align:center;'>图 2-11：每个点的邻节点的可视化 </p>"
   ]
  },
  {
   "cell_type": "markdown",
   "id": "60797137-7d5b-497a-a7f2-4c0e0a62c37f",
   "metadata": {},
   "source": [
    "<p class='raw'>\n",
    "    图中每个点和离它最近的两个节点用连线连接。乍一看，你可能会奇怪\n",
    "为什么有些点的连线多于两条，这是因为点 A 是点 B 最邻近的两个节\n",
    "点之一，但是并不意味着点 B 一定是点 A 的最邻近的两个节点之一。\n",
    "尽管本例中的广播和按行排序可能看起来不如循环直观，但是在实际运\n",
    "行中，Python 中这类数据的操作会更高效。你可能会尝试通过手动循环\n",
    "数据并对每一组邻节点单独进行排序来实现同样的功能，但是这种方法\n",
    "和我们使用的向量化操作相比，肯定在算法执行上效率更低。并且向量\n",
    "化操作的优美之处在于，它的实现方式决定了它对输入数据的数据量并\n",
    "不敏感。也就是说，我们可以非常轻松地计算任意维度空间的 100 或 1\n",
    "000 000 个邻节点，而代码看起来是一样的。\n",
    "最后还想提醒一点，做大数据量的最近邻搜索时，有几种基于树的算法\n",
    "的算法复杂度可以实现接近 O[N log N ]，或者比暴力搜索法的 O[N<sup>2</sup>\n",
    "] 更好。其中一种就是 KD-Tree，在 <a href='（http://bit.ly/2fSpdxI'>Scikit-Learn</a>中实现。\n",
    "\n",
    "</p>"
   ]
  },
  {
   "cell_type": "markdown",
   "id": "41a1da38-95d6-4f05-9dc9-ca2647f009b8",
   "metadata": {},
   "source": [
    "<p class='raw'>\n",
    "    大 O 标记\n",
    "大 O 标记是一种描述一个算法对于相应的输入数据的大小需要执\n",
    "行的操作步骤数。要想正确使用它，需要深入理解计算机科学理\n",
    "论，并且将其和小 o 标记、大 θ 标记、大 Ω 标记以及其他混合变\n",
    "体区分开。虽然区分这些概念可以提高算法复杂度计量的准确性，\n",
    "但是除了在计算机科学理论和学究的博客评论外，实际中很少有这\n",
    "种区分。在数据科学中，更常见的还是不太严谨的大 O 标记——\n",
    "一种通用的（或许是不准确的）算法复杂度的度量描述。在这里要\n",
    "向相关的理论学家和学者致歉，本书中都会使用这种表述方式。\n",
    "如果不用太严谨的眼光看待大 O 标记，那么它其实是告诉你：随\n",
    "着输入数据量的增长，你的算法将花费多少时间。如果你有一个\n",
    "[N]（读作“N 阶”）复杂度的算法，该算法花费 1 秒钟来执行一个长\n",
    "度为 N = 1000 的列表，那么它执行一个长度为 N = 5000 的列表花\n",
    "费的时间大约是 5 秒钟。如果你有一个算法复杂度为 O[N<sup>2</sup>]（读\n",
    "作“N 的平方阶”），且该算法花费 1 秒钟来执行一个长度为 N =\n",
    "1000 的列表，那么它执行一个长度为 N = 5000 的列表花费的时间\n",
    "大约是 25 秒钟。\n",
    "在计算算法复杂度时，N 通常表示数据集的大小（数据点的个数、\n",
    "维度的数目等）。当我们试图分析数十亿或数百万亿的数据时，算\n",
    "法复杂度为 O[N] 和算法复杂度为 O[N<sup>2</sup>] 会有非常明显的差别！\n",
    "需要注意的是，大 O 标记并没有告诉你计算的实际时间，而仅仅\n",
    "告诉你改变 N 的值时，运行时间的相应变化。通常情况下， O[N]\n",
    "复杂度的算法比 O[N<sup>2</sup>] 复杂度的算法更高效。但是对于小数据集，\n",
    "算法复杂度更优的算法可能未必更快。例如对于给定的问题，O [N<sup>2</sup>] 复杂度的算法可能会花费 0.01 秒，而更“优异”的O [N] 复杂度的\n",
    "算法可能会花费 1 秒。按照 1000 的因子将 N 倍增，那么 O[N] 复杂\n",
    "度的算法将胜出。\n",
    "即使是这个非严格版本的大 O 标记对于比较算法的性能也是非常\n",
    "有用的。我们将在本书中用这个标记来测量算法复杂度。\n",
    "</p>"
   ]
  },
  {
   "cell_type": "markdown",
   "id": "af6fe438-10d3-419c-aa1f-3a786c42c453",
   "metadata": {},
   "source": [
    "<h2>2.9 结构化数据：NumPy的结构化数组</h2>"
   ]
  },
  {
   "cell_type": "markdown",
   "id": "651e3a5d-39e1-46d8-bc06-1ecf4e4d6fa7",
   "metadata": {},
   "source": [
    "<p class=raw>大多数时候，我们的数据可以通过一个异构类型值组成的数组表示，但\n",
    "有时却并非如此。本节介绍 NumPy 的结构化数组和记录数组，它们为\n",
    "复合的、异构的数据提供了非常有效的存储。尽管这里列举的模式对于\n",
    "简单的操作非常有用，但是这些场景通常也可以用 Pandas 的\n",
    "DataFrame 来实现（将在第三章详细介绍）。\n",
    "假定现在有关于一些人的分类数据（如姓名、年龄和体重），我们需要\n",
    "存储这些数据用于 Python 项目，那么一种可行的方法是将它们存在三\n",
    "个单独的数组中：</p>"
   ]
  },
  {
   "cell_type": "code",
   "execution_count": 37,
   "id": "9c58283a-a470-49d8-864f-27f151dd0b52",
   "metadata": {},
   "outputs": [],
   "source": [
    "name = ['Alice', 'Bob', 'Cathy', 'Doug']\n",
    "age = [25, 45, 37, 19]\n",
    "weight = [55.0, 85.5, 68.0, 61.5]"
   ]
  },
  {
   "cell_type": "markdown",
   "id": "50fb1e1d-2444-4728-85c1-3c1918f2af18",
   "metadata": {},
   "source": [
    "<p class='raw'>但是这种方法有点笨，因为并没有任何信息告诉我们这三个数组是相关\n",
    "联的。如果可以用一种单一结构来存储所有的数据，那么看起来会更自\n",
    "然。NumPy 可以用结构化数组实现这种存储，这些结构化数组是复合\n",
    "数据类型的。</p>"
   ]
  },
  {
   "cell_type": "markdown",
   "id": "512160a1-8376-4396-98fd-47dfa7f042bd",
   "metadata": {},
   "source": [
    "<p>前面介绍过，利用以下表达式可以生成一个简单的数组：</p>"
   ]
  },
  {
   "cell_type": "raw",
   "id": "aab98be9-1aa0-4f94-ad94-dcc3d5ac245f",
   "metadata": {},
   "source": [
    " x = np.zeros(4, dtype=int)"
   ]
  },
  {
   "cell_type": "markdown",
   "id": "3a067fc6-4c64-4adc-a6e9-f1beed2caf64",
   "metadata": {},
   "source": [
    "<p>与之类似，通过指定复合数据类型，可以构造一个结构化数组：</p>"
   ]
  },
  {
   "cell_type": "code",
   "execution_count": 35,
   "id": "d2be919e-0d36-4c42-95e6-c7f49103ce47",
   "metadata": {},
   "outputs": [
    {
     "name": "stdout",
     "output_type": "stream",
     "text": [
      "[('name', '<U10'), ('age', '<i4'), ('weight', '<f8')]\n"
     ]
    }
   ],
   "source": [
    "# 使用复合数据结构的结构化数组\n",
    "data = np.zeros(4,dtype={'names':('name','age','weight'),\n",
    "                        'formats':('U10','i4','f8')})\n",
    "print(data.dtype)"
   ]
  },
  {
   "cell_type": "markdown",
   "id": "d056c38d-a979-4e4b-9503-0440e91664da",
   "metadata": {},
   "source": [
    "<p>这里 U10 表示“长度不超过 10 的 Unicode 字符串”，i4 表示“4 字节（即\n",
    "32 比特）整型”，f8 表示“8 字节（即 64 比特）浮点型”。后续的小节中\n",
    "将介绍更多的数据类型代码。</p>"
   ]
  },
  {
   "cell_type": "markdown",
   "id": "4c869a6b-cc63-4ed9-8cb9-d8a16cf0549e",
   "metadata": {},
   "source": [
    "<p>现在生成了一个空的数组容器，可以将列表数据放入数组中：</p>"
   ]
  },
  {
   "cell_type": "code",
   "execution_count": 38,
   "id": "a1223919-49fb-4b30-9c42-d03fd17c987d",
   "metadata": {},
   "outputs": [
    {
     "name": "stdout",
     "output_type": "stream",
     "text": [
      "[('Alice', 25, 55. ) ('Bob', 45, 85.5) ('Cathy', 37, 68. )\n",
      " ('Doug', 19, 61.5)]\n"
     ]
    }
   ],
   "source": [
    "data['name']=name\n",
    "data['age'] = age\n",
    "data['weight'] = weight\n",
    "print(data)"
   ]
  },
  {
   "cell_type": "markdown",
   "id": "928ce331-6a38-4e90-a58b-8558880e3be9",
   "metadata": {},
   "source": [
    "<p class='raw'>\n",
    "    正如我们希望的，所有的数据被安排在一个内存块中。\n",
    "结构化数组的方便之处在于，你可以通过索引或名称查看相应的值：\n",
    "</p>"
   ]
  },
  {
   "cell_type": "code",
   "execution_count": 39,
   "id": "e2594bc1-74b6-4f46-b827-ff585034f575",
   "metadata": {},
   "outputs": [
    {
     "data": {
      "text/plain": [
       "array(['Alice', 'Bob', 'Cathy', 'Doug'], dtype='<U10')"
      ]
     },
     "execution_count": 39,
     "metadata": {},
     "output_type": "execute_result"
    }
   ],
   "source": [
    "# 获取所有的名字\n",
    "data['name']"
   ]
  },
  {
   "cell_type": "code",
   "execution_count": 40,
   "id": "4b1e9854-3854-4413-b595-8886deb76c42",
   "metadata": {},
   "outputs": [
    {
     "data": {
      "text/plain": [
       "np.void(('Alice', 25, 55.0), dtype=[('name', '<U10'), ('age', '<i4'), ('weight', '<f8')])"
      ]
     },
     "execution_count": 40,
     "metadata": {},
     "output_type": "execute_result"
    }
   ],
   "source": [
    "# 获取数据第一行\n",
    "data[0]"
   ]
  },
  {
   "cell_type": "code",
   "execution_count": 41,
   "id": "223427ba-3af6-4cf7-9a3a-dd1d701b9d3c",
   "metadata": {},
   "outputs": [
    {
     "data": {
      "text/plain": [
       "np.str_('Doug')"
      ]
     },
     "execution_count": 41,
     "metadata": {},
     "output_type": "execute_result"
    }
   ],
   "source": [
    "# 获取最后一行的名字\n",
    "data[-1]['name']"
   ]
  },
  {
   "cell_type": "markdown",
   "id": "5fa3fa58-7ccb-42e6-b716-5c1210664570",
   "metadata": {},
   "source": [
    "<p>利用布尔掩码，还可以做一些更复杂的操作，如按照年龄进行筛选：</p>"
   ]
  },
  {
   "cell_type": "code",
   "execution_count": 42,
   "id": "856ce9d8-9c85-41d6-ac6c-94ad7df97aad",
   "metadata": {},
   "outputs": [
    {
     "data": {
      "text/plain": [
       "array(['Alice', 'Doug'], dtype='<U10')"
      ]
     },
     "execution_count": 42,
     "metadata": {},
     "output_type": "execute_result"
    }
   ],
   "source": [
    "# 获取年龄小于30岁的人的名字\n",
    "data[data['age'] < 30]['name']"
   ]
  },
  {
   "cell_type": "markdown",
   "id": "67375c62-7f73-4b1b-9fee-63372ed4fca5",
   "metadata": {},
   "source": [
    "<p>请注意，如果你希望实现比上面更复杂的操作，那么你应该考虑使用\n",
    "Pandas 包，我们将在下一章中详细介绍它。正如你将会看到的，Pandas\n",
    "提供了一个 DataFrame 对象，该结构是构建于 NumPy 数组之上的，提\n",
    "供了很多有用的数据操作功能，其中有些与前面介绍的类似，当然也有\n",
    "更多没提过并且非常实用的功能</p>"
   ]
  },
  {
   "cell_type": "code",
   "execution_count": null,
   "id": "7bf28e8c-0221-4e2a-b77d-80d0ad727abc",
   "metadata": {},
   "outputs": [],
   "source": [
    "# 之后的内容不再继续写下去，因为就像你用手算乘法,当然是一件好事,\n",
    "# 可是你不能说别人用计算机算就是坏事,不再写下去的原因作者写的也很明确了,pandas更牛\n",
    "# 所以转下一章pandas"
   ]
  }
 ],
 "metadata": {
  "kernelspec": {
   "display_name": "Python 3 (ipykernel)",
   "language": "python",
   "name": "python3"
  },
  "language_info": {
   "codemirror_mode": {
    "name": "ipython",
    "version": 3
   },
   "file_extension": ".py",
   "mimetype": "text/x-python",
   "name": "python",
   "nbconvert_exporter": "python",
   "pygments_lexer": "ipython3",
   "version": "3.9.7"
  }
 },
 "nbformat": 4,
 "nbformat_minor": 5
}
