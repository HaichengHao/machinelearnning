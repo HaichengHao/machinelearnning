{
 "cells": [
  {
   "cell_type": "code",
   "execution_count": 1,
   "id": "c7836f7b-00e6-464c-82a1-f4a44ce85b65",
   "metadata": {},
   "outputs": [
    {
     "data": {
      "text/html": [
       "<style type='text/css'>\n",
       "    *{\n",
       "        background-color:#E3EDCD;\n",
       "        # background-color:black;\n",
       "        # color:white;\n",
       "        \n",
       "    }\n",
       "    h1{\n",
       "        color:#1976d2;\n",
       "    }\n",
       "    h2{\n",
       "        color:#f57c00;\n",
       "    }\n",
       "    h3{\n",
       "        color:#ba37ff;\n",
       "    }\n",
       "    table{\n",
       "        border:1px solid black !important;\n",
       "        border-collapse:collapse !important;\n",
       "    }\n",
       "    th{\n",
       "        background-color:blueviolet !important;\n",
       "        text-align:center;\n",
       "        color:white;\n",
       "    }\n",
       "    th,td{\n",
       "        border:0.1px solid black !important;\n",
       "        transition:0.2s all liner;\n",
       "        \n",
       "    }\n",
       "    td:hover{\n",
       "        transform:scale(1.1);\n",
       "        background-color:orange;\n",
       "        color:blueviolet;\n",
       "    }\n",
       "</style>\n"
      ],
      "text/plain": [
       "<IPython.core.display.HTML object>"
      ]
     },
     "metadata": {},
     "output_type": "display_data"
    }
   ],
   "source": [
    "%%HTML\n",
    "<style type='text/css'>\n",
    "    *{\n",
    "        background-color:#E3EDCD;\n",
    "        # background-color:black;\n",
    "        # color:white;\n",
    "        \n",
    "    }\n",
    "    h1{\n",
    "        color:#1976d2;\n",
    "    }\n",
    "    h2{\n",
    "        color:#f57c00;\n",
    "    }\n",
    "    h3{\n",
    "        color:#ba37ff;\n",
    "    }\n",
    "    table{\n",
    "        border:1px solid black !important;\n",
    "        border-collapse:collapse !important;\n",
    "    }\n",
    "    th{\n",
    "        background-color:blueviolet !important;\n",
    "        text-align:center;\n",
    "        color:white;\n",
    "    }\n",
    "    th,td{\n",
    "        border:0.1px solid black !important;\n",
    "        transition:0.2s all liner;\n",
    "        \n",
    "    }\n",
    "    td:hover{\n",
    "        transform:scale(1.1);\n",
    "        background-color:orange;\n",
    "        color:blueviolet;\n",
    "    }\n",
    "</style>"
   ]
  },
  {
   "cell_type": "markdown",
   "id": "245f9c59-aaf5-478e-9699-c6fca35836df",
   "metadata": {},
   "source": [
    "<h3>2.3.4 高级的通用函数特性</h3>"
   ]
  },
  {
   "cell_type": "code",
   "execution_count": 2,
   "id": "1d176143-ba74-45f6-b760-f193578b1274",
   "metadata": {},
   "outputs": [],
   "source": [
    "import numpy as np"
   ]
  },
  {
   "cell_type": "markdown",
   "id": "ee04586f-90c1-4904-8135-4af29f6cc054",
   "metadata": {},
   "source": [
    "<p>很多 NumPy 用户在没有完全了解通用函数的特性时就开始使用它们，\n",
    "这里将介绍一些通用函数的特殊性质。</p>"
   ]
  },
  {
   "cell_type": "markdown",
   "id": "1ee479fe-b1ff-4c85-8e37-47a833e694e3",
   "metadata": {},
   "source": [
    "<h4>\n",
    "    01. 指定输出\n",
    "</h4>"
   ]
  },
  {
   "cell_type": "markdown",
   "id": "5b2f6108-c888-4723-9262-59fd6c64f9a1",
   "metadata": {},
   "source": [
    "<p>在进行大量运算时，有时候指定一个用于存放运算结果的数组是非\n",
    "常有用的。不同于创建临时数组，你可以用这个特性将计算结果直\n",
    "接写入到你期望的存储位置。所有的通用函数都可以通过 out 参数\n",
    "来指定计算结果的存放位置：</p>"
   ]
  },
  {
   "cell_type": "code",
   "execution_count": 3,
   "id": "7b2cb1c9-b630-4633-9d99-53e3c1f5b3cc",
   "metadata": {},
   "outputs": [
    {
     "name": "stdout",
     "output_type": "stream",
     "text": [
      "[ 0. 10. 20. 30. 40.]\n"
     ]
    }
   ],
   "source": [
    "x=np.arange(5)\n",
    "y=np.empty(5)\n",
    "np.multiply(x,10,out=y)\n",
    "print(y)"
   ]
  },
  {
   "cell_type": "raw",
   "id": "835eb49f-b8b1-453e-9386-2d4d9330b785",
   "metadata": {},
   "source": [
    "这个特性也可以被用作数组视图，例如可以将计算结果写入指定数\n",
    "组的每隔一个元素的位置："
   ]
  },
  {
   "cell_type": "code",
   "execution_count": 4,
   "id": "71d9c07d-ec03-41b6-b6bd-4ab19ee6a186",
   "metadata": {},
   "outputs": [
    {
     "name": "stdout",
     "output_type": "stream",
     "text": [
      "[ 1.  0.  2.  0.  4.  0.  8.  0. 16.  0.]\n"
     ]
    }
   ],
   "source": [
    "y=np.zeros(10)\n",
    "np.power(2,x,out=y[::2])\n",
    "print(y)"
   ]
  },
  {
   "cell_type": "raw",
   "id": "979f3aba-acf7-4c35-9a30-4c55a1800981",
   "metadata": {},
   "source": [
    "如果这里写的是 y[::2] = 2 ** x，那么结果将是创建一个临时\n",
    "数组，该数组存放的是 2 ** x 的结果，并且接下来会将这些值复\n",
    "制到 y 数组中。对于上述例子中比较小的计算量来说，这两种方式\n",
    "的差别并不大。但是对于较大的数组，通过慎重使用 out 参数将能\n",
    "够有效节约内存。"
   ]
  },
  {
   "cell_type": "markdown",
   "id": "6bc5988f-352f-468e-99eb-af1a98ee2a29",
   "metadata": {},
   "source": [
    "<h4>02. 聚合</h4>"
   ]
  },
  {
   "cell_type": "markdown",
   "id": "698edc1e-fb3b-4eb9-8976-a91a904a2950",
   "metadata": {},
   "source": [
    "<p>二元通用函数有些非常有趣的聚合功能，这些聚合可以直接在对象\n",
    "上计算。例如，如果我们希望用一个特定的运算 reduce 一个数\n",
    "组，那么可以用任何通用函数的 reduce 方法。一个 reduce 方法\n",
    "会对给定的元素和操作重复执行，直至得到单个的结果。</p>"
   ]
  },
  {
   "cell_type": "markdown",
   "id": "d52435be-84cf-4d81-9e37-55931977e168",
   "metadata": {},
   "source": [
    "<p>例如，对 add 通用函数调用 reduce 方法会返回数组中所有元素的\n",
    "和：</p>"
   ]
  },
  {
   "cell_type": "code",
   "execution_count": 5,
   "id": "367bb770-0bf2-4fa5-8797-d5f11c5037e0",
   "metadata": {},
   "outputs": [
    {
     "data": {
      "text/plain": [
       "np.int64(15)"
      ]
     },
     "execution_count": 5,
     "metadata": {},
     "output_type": "execute_result"
    }
   ],
   "source": [
    "x=np.arange(1,6)\n",
    "np.add.reduce(x)"
   ]
  },
  {
   "cell_type": "raw",
   "id": "1a07f868-db1f-4896-b54c-69034fae8200",
   "metadata": {},
   "source": [
    "同样，对 multiply 通用函数调用 reduce 方法会返回数组中所有\n",
    "元素的乘积："
   ]
  },
  {
   "cell_type": "code",
   "execution_count": 6,
   "id": "2defbbcb-b260-43ca-8705-885db96cb080",
   "metadata": {},
   "outputs": [
    {
     "data": {
      "text/plain": [
       "np.int64(120)"
      ]
     },
     "execution_count": 6,
     "metadata": {},
     "output_type": "execute_result"
    }
   ],
   "source": [
    "np.multiply.reduce(x)"
   ]
  },
  {
   "cell_type": "raw",
   "id": "088bed88-3458-4432-af62-4675928ac545",
   "metadata": {},
   "source": [
    "如果需要存储每次计算的中间结果，可以使用 accumulate："
   ]
  },
  {
   "cell_type": "code",
   "execution_count": 7,
   "id": "19ab0553-8645-413e-a385-ffbe5172ed57",
   "metadata": {},
   "outputs": [
    {
     "data": {
      "text/plain": [
       "array([ 1,  3,  6, 10, 15])"
      ]
     },
     "execution_count": 7,
     "metadata": {},
     "output_type": "execute_result"
    }
   ],
   "source": [
    "np.add.accumulate(x)"
   ]
  }
 ],
 "metadata": {
  "kernelspec": {
   "display_name": "Python 3 (ipykernel)",
   "language": "python",
   "name": "python3"
  },
  "language_info": {
   "codemirror_mode": {
    "name": "ipython",
    "version": 3
   },
   "file_extension": ".py",
   "mimetype": "text/x-python",
   "name": "python",
   "nbconvert_exporter": "python",
   "pygments_lexer": "ipython3",
   "version": "3.9.7"
  }
 },
 "nbformat": 4,
 "nbformat_minor": 5
}
