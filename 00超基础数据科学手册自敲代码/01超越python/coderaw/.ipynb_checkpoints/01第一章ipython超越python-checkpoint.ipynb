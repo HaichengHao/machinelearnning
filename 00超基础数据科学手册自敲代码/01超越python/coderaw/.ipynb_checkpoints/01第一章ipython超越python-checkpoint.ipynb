{
 "cells": [
  {
   "cell_type": "code",
   "execution_count": 2,
   "id": "02f3f7b6-b583-4697-b3c3-1fe0c7733d50",
   "metadata": {},
   "outputs": [
    {
     "data": {
      "text/html": [
       "<style type='text/css'>\n",
       "    h1{\n",
       "        color:#1976d2;\n",
       "    }\n",
       "    h2{\n",
       "        color:#f57c00;\n",
       "    }\n",
       "    h3{\n",
       "        color:#ba37ff;\n",
       "    }\n",
       "</style>\n"
      ],
      "text/plain": [
       "<IPython.core.display.HTML object>"
      ]
     },
     "metadata": {},
     "output_type": "display_data"
    }
   ],
   "source": [
    "%%HTML\n",
    "<style type='text/css'>\n",
    "    h1{\n",
    "        color:#1976d2;\n",
    "    }\n",
    "    h2{\n",
    "        color:#f57c00;\n",
    "    }\n",
    "    h3{\n",
    "        color:#ba37ff;\n",
    "    }\n",
    "</style>"
   ]
  },
  {
   "cell_type": "markdown",
   "id": "d320b8b8-08c4-4d37-9848-8e8ad55e2025",
   "metadata": {},
   "source": [
    "<h1>第一章ipython 超越python</h1>"
   ]
  },
  {
   "cell_type": "markdown",
   "id": "c69055d4-5ddb-48d6-b237-fc8890beb319",
   "metadata": {},
   "source": [
    "<h2>1.2.1用符号?获取文档</h2>"
   ]
  },
  {
   "cell_type": "markdown",
   "id": "06147303-05f9-4878-a3aa-68e547622aa7",
   "metadata": {},
   "source": [
    "<p>Python 语言和其数据科学生态系统是应用户需求而创建的，而用户的很\n",
    "大一部分需求就是获取文档。每一个 Python 对象都有一个字符串的引\n",
    "用，该字符串即 docstring。大多数情况下，该字符串包含对象的简要\n",
    "介绍和使用方法。Python 内置的 help() 函数可以获取这些信息，并且\n",
    "能打印输出结果。例如，如果要查看内置的 len 函数的文档，可以按照\n",
    "以下步骤操作：\n",
    "</p>"
   ]
  },
  {
   "cell_type": "code",
   "execution_count": 3,
   "id": "3f186c52-d062-4569-a9b8-379a11497c30",
   "metadata": {},
   "outputs": [
    {
     "name": "stdout",
     "output_type": "stream",
     "text": [
      "Help on built-in function len in module builtins:\n",
      "\n",
      "len(obj, /)\n",
      "    Return the number of items in a container.\n",
      "\n"
     ]
    }
   ],
   "source": [
    "help(len)"
   ]
  },
  {
   "cell_type": "markdown",
   "id": "0d90f197-19ee-4215-a08d-ffb13cbe3718",
   "metadata": {},
   "source": [
    "<p>根据不同的解释器，这条信息可能会展示为内嵌文本，或者出现在单独\n",
    "的弹出窗口中。</p>"
   ]
  },
  {
   "cell_type": "markdown",
   "id": "39e97b07-76bc-4fad-8050-0ecef90be5e2",
   "metadata": {},
   "source": [
    "<p> 获取关于一个对象的帮助非常常见，也非常有用，所以 IPython 引入了 ? 符号作为获取这个文档和其他相关信息的缩写：</p>"
   ]
  },
  {
   "cell_type": "code",
   "execution_count": 4,
   "id": "1e19d274-719b-47b7-a8fa-75fa740f47dc",
   "metadata": {},
   "outputs": [
    {
     "data": {
      "text/plain": [
       "\u001b[1;31mSignature:\u001b[0m \u001b[0mlen\u001b[0m\u001b[1;33m(\u001b[0m\u001b[0mobj\u001b[0m\u001b[1;33m,\u001b[0m \u001b[1;33m/\u001b[0m\u001b[1;33m)\u001b[0m\u001b[1;33m\u001b[0m\u001b[1;33m\u001b[0m\u001b[0m\n",
       "\u001b[1;31mDocstring:\u001b[0m Return the number of items in a container.\n",
       "\u001b[1;31mType:\u001b[0m      builtin_function_or_method"
      ]
     },
     "metadata": {},
     "output_type": "display_data"
    }
   ],
   "source": [
    "len?"
   ]
  },
  {
   "cell_type": "markdown",
   "id": "235f7052-f6a5-4937-82d4-f6366d9edb54",
   "metadata": {},
   "source": [
    "<p>这种表示方式几乎适用于一切，包括对象方法：\n",
    "</p>"
   ]
  },
  {
   "cell_type": "code",
   "execution_count": 5,
   "id": "a9945e25-47f6-46a7-93dd-3035143605cb",
   "metadata": {},
   "outputs": [],
   "source": [
    "L=[1,2,3]"
   ]
  },
  {
   "cell_type": "code",
   "execution_count": 6,
   "id": "0dbf0c11-931a-4a18-bf0c-c69d07e25bd2",
   "metadata": {},
   "outputs": [
    {
     "data": {
      "text/plain": [
       "\u001b[1;31mSignature:\u001b[0m \u001b[0mL\u001b[0m\u001b[1;33m.\u001b[0m\u001b[0minsert\u001b[0m\u001b[1;33m(\u001b[0m\u001b[0mindex\u001b[0m\u001b[1;33m,\u001b[0m \u001b[0mobject\u001b[0m\u001b[1;33m,\u001b[0m \u001b[1;33m/\u001b[0m\u001b[1;33m)\u001b[0m\u001b[1;33m\u001b[0m\u001b[1;33m\u001b[0m\u001b[0m\n",
       "\u001b[1;31mDocstring:\u001b[0m Insert object before index.\n",
       "\u001b[1;31mType:\u001b[0m      builtin_function_or_method"
      ]
     },
     "metadata": {},
     "output_type": "display_data"
    }
   ],
   "source": [
    "L.insert?"
   ]
  },
  {
   "cell_type": "markdown",
   "id": "268af178-f1da-4afe-bdfc-0d520d1607d8",
   "metadata": {},
   "source": [
    "<p>甚至对于对象本身以及相关类型的文档也适用：\n",
    "</p>"
   ]
  },
  {
   "cell_type": "code",
   "execution_count": 7,
   "id": "4c782f7a-c269-4971-a8b6-e3f861e002df",
   "metadata": {},
   "outputs": [
    {
     "data": {
      "text/plain": [
       "\u001b[1;31mType:\u001b[0m        list\n",
       "\u001b[1;31mString form:\u001b[0m [1, 2, 3]\n",
       "\u001b[1;31mLength:\u001b[0m      3\n",
       "\u001b[1;31mDocstring:\u001b[0m  \n",
       "Built-in mutable sequence.\n",
       "\n",
       "If no argument is given, the constructor creates a new empty list.\n",
       "The argument must be an iterable if specified."
      ]
     },
     "metadata": {},
     "output_type": "display_data"
    }
   ],
   "source": [
    "L?"
   ]
  },
  {
   "cell_type": "markdown",
   "id": "43721dbb-d691-4d4f-94ee-aec3f6c48b27",
   "metadata": {},
   "source": [
    "<p>重要的是，这种方法也适用于你自己创建的函数或者其他对象！下面定\n",
    "义一个带有 docstring 的小函数：</p>"
   ]
  },
  {
   "cell_type": "code",
   "execution_count": 8,
   "id": "3f55671f-19e0-41df-acca-62101f695a89",
   "metadata": {},
   "outputs": [],
   "source": [
    "def square(a):\n",
    "    \"\"\"return the square of a\"\"\"\n",
    "    return a ** 2 #实现求正方形面积"
   ]
  },
  {
   "cell_type": "markdown",
   "id": "8a42be5e-ce99-4bd7-81c3-3c1b214f76ce",
   "metadata": {},
   "source": [
    "<p>请注意，为了给函数创建一个 docstring，仅仅在第一行放置了一个字符\n",
    "串字面量。由于 docstring 通常是多行的，因此按照惯例，用 Python 的\n",
    "三个引号表示多行字符串。</p>"
   ]
  },
  {
   "cell_type": "markdown",
   "id": "aacd16f6-843d-4de7-acc7-c8b5804fc44f",
   "metadata": {},
   "source": [
    "<p>接下来用 ? 符号来找到这个 docstring：\n",
    "</p>"
   ]
  },
  {
   "cell_type": "code",
   "execution_count": 9,
   "id": "cf7f9df7-0765-4508-9451-ff2976b771b2",
   "metadata": {},
   "outputs": [
    {
     "data": {
      "text/plain": [
       "\u001b[1;31mSignature:\u001b[0m \u001b[0msquare\u001b[0m\u001b[1;33m(\u001b[0m\u001b[0ma\u001b[0m\u001b[1;33m)\u001b[0m\u001b[1;33m\u001b[0m\u001b[1;33m\u001b[0m\u001b[0m\n",
       "\u001b[1;31mDocstring:\u001b[0m return the square of a\n",
       "\u001b[1;31mFile:\u001b[0m      c:\\users\\郝海程\\appdata\\local\\temp\\ipykernel_7148\\1912197123.py\n",
       "\u001b[1;31mType:\u001b[0m      function"
      ]
     },
     "metadata": {},
     "output_type": "display_data"
    }
   ],
   "source": [
    "square?"
   ]
  },
  {
   "cell_type": "markdown",
   "id": "6f3255d7-c749-404c-a618-f17bdcea7e9a",
   "metadata": {},
   "source": [
    "<h2>1.2.2通过符号??获取源代码</h2>"
   ]
  },
  {
   "cell_type": "markdown",
   "id": "46d682da-2bfc-465c-8967-e1f17b31c757",
   "metadata": {},
   "source": [
    "<p>\n",
    "    由于 Python 非常易读，所以你可以通过阅读你感兴趣的对象的源代码\n",
    "得到更高层次的理解。IPython 提供了获取源代码的快捷方式（使用两\n",
    "个问号 ??）：\n",
    "</p>"
   ]
  },
  {
   "cell_type": "code",
   "execution_count": 10,
   "id": "2c1be528-1309-4002-8269-64cdcfeb6a8a",
   "metadata": {},
   "outputs": [
    {
     "data": {
      "text/plain": [
       "\u001b[1;31mSignature:\u001b[0m \u001b[0msquare\u001b[0m\u001b[1;33m(\u001b[0m\u001b[0ma\u001b[0m\u001b[1;33m)\u001b[0m\u001b[1;33m\u001b[0m\u001b[1;33m\u001b[0m\u001b[0m\n",
       "\u001b[1;31mSource:\u001b[0m   \n",
       "\u001b[1;32mdef\u001b[0m \u001b[0msquare\u001b[0m\u001b[1;33m(\u001b[0m\u001b[0ma\u001b[0m\u001b[1;33m)\u001b[0m\u001b[1;33m:\u001b[0m\u001b[1;33m\n",
       "\u001b[0m    \u001b[1;34m\"\"\"return the square of a\"\"\"\u001b[0m\u001b[1;33m\n",
       "\u001b[0m    \u001b[1;32mreturn\u001b[0m \u001b[0ma\u001b[0m \u001b[1;33m**\u001b[0m \u001b[1;36m2\u001b[0m \u001b[1;31m#实现求正方形面积\u001b[0m\u001b[1;33m\u001b[0m\u001b[1;33m\u001b[0m\u001b[0m\n",
       "\u001b[1;31mFile:\u001b[0m      c:\\users\\郝海程\\appdata\\local\\temp\\ipykernel_7148\\1912197123.py\n",
       "\u001b[1;31mType:\u001b[0m      function"
      ]
     },
     "metadata": {},
     "output_type": "display_data"
    }
   ],
   "source": [
    "square??"
   ]
  },
  {
   "cell_type": "markdown",
   "id": "7aa8f579-3ba0-4f7f-9712-f39631d03cdd",
   "metadata": {},
   "source": [
    "<p>对于这样的简单函数，两个问号就可以帮助你深入理解隐含在表面之下\n",
    "的实现细节。\n",
    "</p>"
   ]
  },
  {
   "cell_type": "markdown",
   "id": "3e128cf3-dd09-4511-99f5-e64412e00488",
   "metadata": {},
   "source": [
    "<p>如果你经常使用 ?? 后缀，就会发现它有时不能显示源代码。这是因为\n",
    "你查询的对象并不是用 Python 实现的，而是用 C 语言或其他编译扩展\n",
    "语言实现的。在这种情况下，?? 后缀将等同于 ? 后缀。你将会在很多\n",
    "Python 内置对象和类型中发现这样的情况，例如上面示例中提到的 len\n",
    "函数：\n",
    "</p>"
   ]
  },
  {
   "cell_type": "code",
   "execution_count": 11,
   "id": "7462311e-dc35-4854-89d8-1ba86a09ef3a",
   "metadata": {},
   "outputs": [
    {
     "data": {
      "text/plain": [
       "\u001b[1;31mSignature:\u001b[0m \u001b[0mlen\u001b[0m\u001b[1;33m(\u001b[0m\u001b[0mobj\u001b[0m\u001b[1;33m,\u001b[0m \u001b[1;33m/\u001b[0m\u001b[1;33m)\u001b[0m\u001b[1;33m\u001b[0m\u001b[1;33m\u001b[0m\u001b[0m\n",
       "\u001b[1;31mDocstring:\u001b[0m Return the number of items in a container.\n",
       "\u001b[1;31mType:\u001b[0m      builtin_function_or_method"
      ]
     },
     "metadata": {},
     "output_type": "display_data"
    }
   ],
   "source": [
    "len??"
   ]
  },
  {
   "cell_type": "markdown",
   "id": "03159974-1aa2-45a6-999e-f406cb2566e6",
   "metadata": {},
   "source": [
    "<p>? 和 ?? 提供了一个强大又快速的接口，可以查找任何 Python 函数或模\n",
    "块的用途信息。</p>"
   ]
  },
  {
   "cell_type": "markdown",
   "id": "da2d0e3f-18b2-4e50-b3e9-6fa2dc7b6840",
   "metadata": {},
   "source": [
    "<h2>1.2.3 用Tab补全的方式探索模块\n",
    "</h2>"
   ]
  },
  {
   "cell_type": "markdown",
   "id": "f3cd87d5-57a6-4f8b-94f8-ffbc34af289c",
   "metadata": {},
   "source": [
    "<p>IPython 另一个有用的接口是用 Tab 键自动补全和探索对象、模块及命\n",
    "名空间的内容。在接下来的示例中，我们将用 <TAB> 来表示 Tab 键。\n",
    "</p>"
   ]
  },
  {
   "cell_type": "markdown",
   "id": "e1f93e0b-595e-4302-ae1a-637ad1d788ae",
   "metadata": {},
   "source": [
    "<ol>\n",
    "<li>\n",
    "    <h3>对象内容的Tab自动补全\n",
    "</h3>\n",
    "</li>\n",
    "</ol>\n",
    "\n",
    "    \n"
   ]
  },
  {
   "cell_type": "markdown",
   "id": "e5105814-ee71-48c2-b9d1-a5ca125b810e",
   "metadata": {},
   "source": []
  },
  {
   "cell_type": "code",
   "execution_count": null,
   "id": "a6208e4b-0032-4973-8b3b-7b749fe4ec40",
   "metadata": {},
   "outputs": [],
   "source": []
  }
 ],
 "metadata": {
  "kernelspec": {
   "display_name": "Python 3 (ipykernel)",
   "language": "python",
   "name": "python3"
  },
  "language_info": {
   "codemirror_mode": {
    "name": "ipython",
    "version": 3
   },
   "file_extension": ".py",
   "mimetype": "text/x-python",
   "name": "python",
   "nbconvert_exporter": "python",
   "pygments_lexer": "ipython3",
   "version": "3.9.7"
  }
 },
 "nbformat": 4,
 "nbformat_minor": 5
}
