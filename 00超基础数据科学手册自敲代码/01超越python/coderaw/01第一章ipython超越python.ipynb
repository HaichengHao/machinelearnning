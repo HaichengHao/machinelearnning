{
 "cells": [
  {
   "cell_type": "code",
   "execution_count": 2,
   "id": "02f3f7b6-b583-4697-b3c3-1fe0c7733d50",
   "metadata": {},
   "outputs": [
    {
     "data": {
      "text/html": [
       "<style type='text/css'>\n",
       "    h1{\n",
       "        color:#1976d2;\n",
       "    }\n",
       "    h2{\n",
       "        color:#f57c00;\n",
       "    }\n",
       "    h3{\n",
       "        color:#ba37ff;\n",
       "    }\n",
       "</style>\n"
      ],
      "text/plain": [
       "<IPython.core.display.HTML object>"
      ]
     },
     "metadata": {},
     "output_type": "display_data"
    }
   ],
   "source": [
    "%%HTML\n",
    "<style type='text/css'>\n",
    "    h1{\n",
    "        color:#1976d2;\n",
    "    }\n",
    "    h2{\n",
    "        color:#f57c00;\n",
    "    }\n",
    "    h3{\n",
    "        color:#ba37ff;\n",
    "    }\n",
    "</style>"
   ]
  },
  {
   "cell_type": "markdown",
   "id": "d320b8b8-08c4-4d37-9848-8e8ad55e2025",
   "metadata": {},
   "source": [
    "<h1>第一章ipython 超越python</h1>"
   ]
  },
  {
   "cell_type": "markdown",
   "id": "c69055d4-5ddb-48d6-b237-fc8890beb319",
   "metadata": {},
   "source": [
    "<h2>1.2.1用符号?获取文档</h2>"
   ]
  },
  {
   "cell_type": "markdown",
   "id": "06147303-05f9-4878-a3aa-68e547622aa7",
   "metadata": {},
   "source": [
    "<p>Python 语言和其数据科学生态系统是应用户需求而创建的，而用户的很\n",
    "大一部分需求就是获取文档。每一个 Python 对象都有一个字符串的引\n",
    "用，该字符串即 docstring。大多数情况下，该字符串包含对象的简要\n",
    "介绍和使用方法。Python 内置的 help() 函数可以获取这些信息，并且\n",
    "能打印输出结果。例如，如果要查看内置的 len 函数的文档，可以按照\n",
    "以下步骤操作：\n",
    "</p>"
   ]
  },
  {
   "cell_type": "code",
   "execution_count": 3,
   "id": "3f186c52-d062-4569-a9b8-379a11497c30",
   "metadata": {},
   "outputs": [
    {
     "name": "stdout",
     "output_type": "stream",
     "text": [
      "Help on built-in function len in module builtins:\n",
      "\n",
      "len(obj, /)\n",
      "    Return the number of items in a container.\n",
      "\n"
     ]
    }
   ],
   "source": [
    "help(len)"
   ]
  },
  {
   "cell_type": "markdown",
   "id": "0d90f197-19ee-4215-a08d-ffb13cbe3718",
   "metadata": {},
   "source": [
    "<p>根据不同的解释器，这条信息可能会展示为内嵌文本，或者出现在单独\n",
    "的弹出窗口中。</p>"
   ]
  },
  {
   "cell_type": "markdown",
   "id": "39e97b07-76bc-4fad-8050-0ecef90be5e2",
   "metadata": {},
   "source": [
    "<p> 获取关于一个对象的帮助非常常见，也非常有用，所以 IPython 引入了 ? 符号作为获取这个文档和其他相关信息的缩写：</p>"
   ]
  },
  {
   "cell_type": "code",
   "execution_count": 4,
   "id": "1e19d274-719b-47b7-a8fa-75fa740f47dc",
   "metadata": {},
   "outputs": [
    {
     "data": {
      "text/plain": [
       "\u001b[1;31mSignature:\u001b[0m \u001b[0mlen\u001b[0m\u001b[1;33m(\u001b[0m\u001b[0mobj\u001b[0m\u001b[1;33m,\u001b[0m \u001b[1;33m/\u001b[0m\u001b[1;33m)\u001b[0m\u001b[1;33m\u001b[0m\u001b[1;33m\u001b[0m\u001b[0m\n",
       "\u001b[1;31mDocstring:\u001b[0m Return the number of items in a container.\n",
       "\u001b[1;31mType:\u001b[0m      builtin_function_or_method"
      ]
     },
     "metadata": {},
     "output_type": "display_data"
    }
   ],
   "source": [
    "len?"
   ]
  },
  {
   "cell_type": "markdown",
   "id": "235f7052-f6a5-4937-82d4-f6366d9edb54",
   "metadata": {},
   "source": [
    "<p>这种表示方式几乎适用于一切，包括对象方法：\n",
    "</p>"
   ]
  },
  {
   "cell_type": "code",
   "execution_count": 5,
   "id": "a9945e25-47f6-46a7-93dd-3035143605cb",
   "metadata": {},
   "outputs": [],
   "source": [
    "L=[1,2,3]"
   ]
  },
  {
   "cell_type": "code",
   "execution_count": 6,
   "id": "0dbf0c11-931a-4a18-bf0c-c69d07e25bd2",
   "metadata": {},
   "outputs": [
    {
     "data": {
      "text/plain": [
       "\u001b[1;31mSignature:\u001b[0m \u001b[0mL\u001b[0m\u001b[1;33m.\u001b[0m\u001b[0minsert\u001b[0m\u001b[1;33m(\u001b[0m\u001b[0mindex\u001b[0m\u001b[1;33m,\u001b[0m \u001b[0mobject\u001b[0m\u001b[1;33m,\u001b[0m \u001b[1;33m/\u001b[0m\u001b[1;33m)\u001b[0m\u001b[1;33m\u001b[0m\u001b[1;33m\u001b[0m\u001b[0m\n",
       "\u001b[1;31mDocstring:\u001b[0m Insert object before index.\n",
       "\u001b[1;31mType:\u001b[0m      builtin_function_or_method"
      ]
     },
     "metadata": {},
     "output_type": "display_data"
    }
   ],
   "source": [
    "L.insert?"
   ]
  },
  {
   "cell_type": "markdown",
   "id": "268af178-f1da-4afe-bdfc-0d520d1607d8",
   "metadata": {},
   "source": [
    "<p>甚至对于对象本身以及相关类型的文档也适用：\n",
    "</p>"
   ]
  },
  {
   "cell_type": "code",
   "execution_count": 7,
   "id": "4c782f7a-c269-4971-a8b6-e3f861e002df",
   "metadata": {},
   "outputs": [
    {
     "data": {
      "text/plain": [
       "\u001b[1;31mType:\u001b[0m        list\n",
       "\u001b[1;31mString form:\u001b[0m [1, 2, 3]\n",
       "\u001b[1;31mLength:\u001b[0m      3\n",
       "\u001b[1;31mDocstring:\u001b[0m  \n",
       "Built-in mutable sequence.\n",
       "\n",
       "If no argument is given, the constructor creates a new empty list.\n",
       "The argument must be an iterable if specified."
      ]
     },
     "metadata": {},
     "output_type": "display_data"
    }
   ],
   "source": [
    "L?"
   ]
  },
  {
   "cell_type": "markdown",
   "id": "43721dbb-d691-4d4f-94ee-aec3f6c48b27",
   "metadata": {},
   "source": [
    "<p>重要的是，这种方法也适用于你自己创建的函数或者其他对象！下面定\n",
    "义一个带有 docstring 的小函数：</p>"
   ]
  },
  {
   "cell_type": "code",
   "execution_count": 8,
   "id": "3f55671f-19e0-41df-acca-62101f695a89",
   "metadata": {},
   "outputs": [],
   "source": [
    "def square(a):\n",
    "    \"\"\"return the square of a\"\"\"\n",
    "    return a ** 2 #实现求正方形面积"
   ]
  },
  {
   "cell_type": "markdown",
   "id": "8a42be5e-ce99-4bd7-81c3-3c1b214f76ce",
   "metadata": {},
   "source": [
    "<p>请注意，为了给函数创建一个 docstring，仅仅在第一行放置了一个字符\n",
    "串字面量。由于 docstring 通常是多行的，因此按照惯例，用 Python 的\n",
    "三个引号表示多行字符串。</p>"
   ]
  },
  {
   "cell_type": "markdown",
   "id": "aacd16f6-843d-4de7-acc7-c8b5804fc44f",
   "metadata": {},
   "source": [
    "<p>接下来用 ? 符号来找到这个 docstring：\n",
    "</p>"
   ]
  },
  {
   "cell_type": "code",
   "execution_count": 9,
   "id": "cf7f9df7-0765-4508-9451-ff2976b771b2",
   "metadata": {},
   "outputs": [
    {
     "data": {
      "text/plain": [
       "\u001b[1;31mSignature:\u001b[0m \u001b[0msquare\u001b[0m\u001b[1;33m(\u001b[0m\u001b[0ma\u001b[0m\u001b[1;33m)\u001b[0m\u001b[1;33m\u001b[0m\u001b[1;33m\u001b[0m\u001b[0m\n",
       "\u001b[1;31mDocstring:\u001b[0m return the square of a\n",
       "\u001b[1;31mFile:\u001b[0m      c:\\users\\郝海程\\appdata\\local\\temp\\ipykernel_20924\\1912197123.py\n",
       "\u001b[1;31mType:\u001b[0m      function"
      ]
     },
     "metadata": {},
     "output_type": "display_data"
    }
   ],
   "source": [
    "square?"
   ]
  },
  {
   "cell_type": "markdown",
   "id": "6f3255d7-c749-404c-a618-f17bdcea7e9a",
   "metadata": {},
   "source": [
    "<h2>1.2.2通过符号??获取源代码</h2>"
   ]
  },
  {
   "cell_type": "markdown",
   "id": "46d682da-2bfc-465c-8967-e1f17b31c757",
   "metadata": {},
   "source": [
    "<p>\n",
    "    由于 Python 非常易读，所以你可以通过阅读你感兴趣的对象的源代码\n",
    "得到更高层次的理解。IPython 提供了获取源代码的快捷方式（使用两\n",
    "个问号 ??）：\n",
    "</p>"
   ]
  },
  {
   "cell_type": "code",
   "execution_count": 10,
   "id": "2c1be528-1309-4002-8269-64cdcfeb6a8a",
   "metadata": {},
   "outputs": [
    {
     "data": {
      "text/plain": [
       "\u001b[1;31mSignature:\u001b[0m \u001b[0msquare\u001b[0m\u001b[1;33m(\u001b[0m\u001b[0ma\u001b[0m\u001b[1;33m)\u001b[0m\u001b[1;33m\u001b[0m\u001b[1;33m\u001b[0m\u001b[0m\n",
       "\u001b[1;31mSource:\u001b[0m   \n",
       "\u001b[1;32mdef\u001b[0m \u001b[0msquare\u001b[0m\u001b[1;33m(\u001b[0m\u001b[0ma\u001b[0m\u001b[1;33m)\u001b[0m\u001b[1;33m:\u001b[0m\u001b[1;33m\n",
       "\u001b[0m    \u001b[1;34m\"\"\"return the square of a\"\"\"\u001b[0m\u001b[1;33m\n",
       "\u001b[0m    \u001b[1;32mreturn\u001b[0m \u001b[0ma\u001b[0m \u001b[1;33m**\u001b[0m \u001b[1;36m2\u001b[0m \u001b[1;31m#实现求正方形面积\u001b[0m\u001b[1;33m\u001b[0m\u001b[1;33m\u001b[0m\u001b[0m\n",
       "\u001b[1;31mFile:\u001b[0m      c:\\users\\郝海程\\appdata\\local\\temp\\ipykernel_20924\\1912197123.py\n",
       "\u001b[1;31mType:\u001b[0m      function"
      ]
     },
     "metadata": {},
     "output_type": "display_data"
    }
   ],
   "source": [
    "square??"
   ]
  },
  {
   "cell_type": "markdown",
   "id": "7aa8f579-3ba0-4f7f-9712-f39631d03cdd",
   "metadata": {},
   "source": [
    "<p>对于这样的简单函数，两个问号就可以帮助你深入理解隐含在表面之下\n",
    "的实现细节。\n",
    "</p>"
   ]
  },
  {
   "cell_type": "markdown",
   "id": "3e128cf3-dd09-4511-99f5-e64412e00488",
   "metadata": {},
   "source": [
    "<p>如果你经常使用 ?? 后缀，就会发现它有时不能显示源代码。这是因为\n",
    "你查询的对象并不是用 Python 实现的，而是用 C 语言或其他编译扩展\n",
    "语言实现的。在这种情况下，?? 后缀将等同于 ? 后缀。你将会在很多\n",
    "Python 内置对象和类型中发现这样的情况，例如上面示例中提到的 len\n",
    "函数：\n",
    "</p>"
   ]
  },
  {
   "cell_type": "code",
   "execution_count": 11,
   "id": "7462311e-dc35-4854-89d8-1ba86a09ef3a",
   "metadata": {},
   "outputs": [
    {
     "data": {
      "text/plain": [
       "\u001b[1;31mSignature:\u001b[0m \u001b[0mlen\u001b[0m\u001b[1;33m(\u001b[0m\u001b[0mobj\u001b[0m\u001b[1;33m,\u001b[0m \u001b[1;33m/\u001b[0m\u001b[1;33m)\u001b[0m\u001b[1;33m\u001b[0m\u001b[1;33m\u001b[0m\u001b[0m\n",
       "\u001b[1;31mDocstring:\u001b[0m Return the number of items in a container.\n",
       "\u001b[1;31mType:\u001b[0m      builtin_function_or_method"
      ]
     },
     "metadata": {},
     "output_type": "display_data"
    }
   ],
   "source": [
    "len??"
   ]
  },
  {
   "cell_type": "markdown",
   "id": "03159974-1aa2-45a6-999e-f406cb2566e6",
   "metadata": {},
   "source": [
    "<p>? 和 ?? 提供了一个强大又快速的接口，可以查找任何 Python 函数或模\n",
    "块的用途信息。</p>"
   ]
  },
  {
   "cell_type": "markdown",
   "id": "da2d0e3f-18b2-4e50-b3e9-6fa2dc7b6840",
   "metadata": {},
   "source": [
    "<h2>1.2.3 用Tab补全的方式探索模块\n",
    "</h2>"
   ]
  },
  {
   "cell_type": "markdown",
   "id": "f3cd87d5-57a6-4f8b-94f8-ffbc34af289c",
   "metadata": {},
   "source": [
    "<p>IPython 另一个有用的接口是用 Tab 键自动补全和探索对象、模块及命\n",
    "名空间的内容。在接下来的示例中，我们将用 <TAB> 来表示 Tab 键。\n",
    "</p>"
   ]
  },
  {
   "cell_type": "markdown",
   "id": "e1f93e0b-595e-4302-ae1a-637ad1d788ae",
   "metadata": {},
   "source": [
    "<h3>01对象内容的tab自动补全</h3>\n",
    "\n",
    "    \n"
   ]
  },
  {
   "cell_type": "markdown",
   "id": "e5105814-ee71-48c2-b9d1-a5ca125b810e",
   "metadata": {},
   "source": [
    "<p>每一个 Python 对象都包含各种属性和方法。和此前讨论的 help 函\n",
    "数类似，Python 有一个内置的 dir 函数，可以返回一个属性和方\n",
    "法的列表。但是 Tab 自动补全接口在实际的应用过程中更简便。要\n",
    "想看到对象所有可用属性的列表，可以输入这个对象的名称，再加\n",
    "上一个句点（.）和 Tab 键：</p>"
   ]
  },
  {
   "cell_type": "code",
   "execution_count": null,
   "id": "a6208e4b-0032-4973-8b3b-7b749fe4ec40",
   "metadata": {},
   "outputs": [],
   "source": [
    "L.#这里按TAB键位就会出来对应的提示"
   ]
  },
  {
   "attachments": {},
   "cell_type": "markdown",
   "id": "eaaf3764-7fc7-491d-b889-b91d122c07f3",
   "metadata": {},
   "source": [
    "<img src = '../../screenshots/1.2.3tab补全.png'>"
   ]
  },
  {
   "cell_type": "markdown",
   "id": "2830af68-475a-4cfb-9cee-f25d1304e5d3",
   "metadata": {},
   "source": [
    "<p>为了进一步缩小整个列表，可以输入属性或方法名称的第一个或前\n",
    "几个字符，然后 Tab 键将会查找匹配的属性或方法：</p>"
   ]
  },
  {
   "cell_type": "markdown",
   "id": "0191091e-bc4c-4c17-bcce-31c857fe7b68",
   "metadata": {},
   "source": [
    "<img src='../../screenshots/1.2.3_02.png'>"
   ]
  },
  {
   "cell_type": "markdown",
   "id": "78a6a924-0867-4f96-b378-540e0d62b420",
   "metadata": {},
   "source": [
    "<p>如果只有一个选项，按下 Tab 键将会把名称自动补全。例如，下面\n",
    "示例中的内容将会马上被 L.count 替换：</p>"
   ]
  },
  {
   "cell_type": "markdown",
   "id": "3c6d1ed2-2c36-41fa-b6ac-2941a13d54ca",
   "metadata": {},
   "source": [
    "<img src='../../screenshots/1.2.3_03.png'>"
   ]
  },
  {
   "cell_type": "markdown",
   "id": "d4a76d72-f86a-47bf-aa03-fe20fa2ec8d6",
   "metadata": {},
   "source": [
    "<p>尽管 Python 没有严格区分公共 / 外部属性和私有 / 内部属性，但是\n",
    "按照惯例，前面带有下划线表示私有属性或方法。为了清楚起见，\n",
    "这个列表中默认省略了这些私有方法和特殊方法。不过，你可以通\n",
    "过明确地输入一条下划线来把这些私有的属性或方法列出来：</p>"
   ]
  },
  {
   "cell_type": "markdown",
   "id": "fc460530-2a9f-4e8a-8035-6e1a93ce12e4",
   "metadata": {},
   "source": [
    "<img src='../../screenshots/1.2.3_04.png'>"
   ]
  },
  {
   "cell_type": "markdown",
   "id": "40e72c7f-6ad1-4b8b-ac0d-3279fe042ac4",
   "metadata": {},
   "source": [
    "<p>为了简洁起见，这里只展示了输出的前两行，大部分是 Python 特\n",
    "殊的双下划线方法（昵称叫作“dunder 方法”）。</p>"
   ]
  },
  {
   "cell_type": "markdown",
   "id": "8af073f5-6d5b-4872-abf6-a2291a8d65b5",
   "metadata": {},
   "source": [
    "<h3>02导入时的Tab自动补全</h3>"
   ]
  },
  {
   "cell_type": "markdown",
   "id": "e1044b85-8898-471d-806e-99226910e6df",
   "metadata": {},
   "source": [
    "<p>Tab 自动补全在从包中导入对象时也非常有用。下面用这种方法来\n",
    "查找 itertools 包中以 co 开头的所有可导入的对象：\n",
    "</p>"
   ]
  },
  {
   "cell_type": "markdown",
   "id": "03620d46-b777-43cd-ba7a-9cf069b129e2",
   "metadata": {},
   "source": [
    "<img src='../../screenshots/1.2.3_05.png'>"
   ]
  },
  {
   "cell_type": "markdown",
   "id": "18b1b2c3-f4b9-49cf-a592-a28708284d4b",
   "metadata": {},
   "source": [
    "<p>\n",
    "同样，你也可以用 Tab 自动补全来查看你系统中所有可导入的包\n",
    "（这将因你的 Python 会话中有哪些第三方脚本和模块可见而不\n",
    "同）：\n",
    "</p>"
   ]
  },
  {
   "cell_type": "markdown",
   "id": "c38ea81c-b3fe-46f1-a5b5-427c64178007",
   "metadata": {},
   "source": [
    "<img src='../../screenshots/1.2.3_06.png'>"
   ]
  },
  {
   "cell_type": "markdown",
   "id": "bd708b7d-cae2-40be-bb82-8f2fa9b5d9ad",
   "metadata": {},
   "source": [
    "<p>（为了简洁起见，并没有打印我的系统中所有可导入的包和\n",
    "模块。）</p>"
   ]
  },
  {
   "cell_type": "markdown",
   "id": "a9b75c72-5b0f-47f6-809c-f2afd50a2064",
   "metadata": {},
   "source": [
    "<h3>03超越Tab自动补全:通配符匹配</h3>"
   ]
  },
  {
   "cell_type": "markdown",
   "id": "f89a1682-edb8-4bf1-b6e0-c78b6e2cb036",
   "metadata": {},
   "source": [
    "<p>\n",
    "超越Tab自动补全：通配符匹配\n",
    "当你知道所寻找的对象或属性的第一个或者前几个字符时，Tab 自\n",
    "动补全将非常有用。但是当你想匹配中间或者末尾的几个字符时，\n",
    "它就束手无策了。对于这样的场景，IPython 提供了用 * 符号来实\n",
    "现的通配符匹配方法。\n",
    "例如，可以用它列举出命名空间中以 Warning 结尾的所有对象：</p>"
   ]
  },
  {
   "cell_type": "code",
   "execution_count": 16,
   "id": "af6a98f7-43c4-430a-880d-b5d6c219df2e",
   "metadata": {},
   "outputs": [
    {
     "data": {
      "text/plain": [
       "BytesWarning\n",
       "DeprecationWarning\n",
       "FutureWarning\n",
       "ImportWarning\n",
       "PendingDeprecationWarning\n",
       "ResourceWarning\n",
       "RuntimeWarning\n",
       "SyntaxWarning\n",
       "UnicodeWarning\n",
       "UserWarning\n",
       "Warning"
      ]
     },
     "metadata": {},
     "output_type": "display_data"
    }
   ],
   "source": [
    "*Warning?"
   ]
  },
  {
   "cell_type": "markdown",
   "id": "46f95f40-5503-45dc-91ce-5540358a1370",
   "metadata": {},
   "source": [
    "<p>请注意，这里的 * 符号匹配任意字符串，包括空字符串。\n",
    "同理，假设我们在寻找一个字符串方法，它的名称中包含 find，\n",
    "则可以这样做：</p>"
   ]
  },
  {
   "cell_type": "code",
   "execution_count": 17,
   "id": "77280b54-754d-454d-931c-aa654fa3de2c",
   "metadata": {},
   "outputs": [
    {
     "data": {
      "text/plain": [
       "str.find\n",
       "str.rfind"
      ]
     },
     "metadata": {},
     "output_type": "display_data"
    }
   ],
   "source": [
    "str.*find*?"
   ]
  },
  {
   "cell_type": "markdown",
   "id": "c2736506-58ac-4da1-9f58-4a771901e108",
   "metadata": {},
   "source": [
    "<p>在实际应用过程中，我发现，当我接触一个新的包或者是重新认识\n",
    "一个已经熟悉的包时，这种灵活的通配符查找方法对于找到其中一\n",
    "个特定的命令非常有用。</p>"
   ]
  },
  {
   "cell_type": "code",
   "execution_count": null,
   "id": "236d6a20-2872-42aa-a41e-dae47067ed78",
   "metadata": {},
   "outputs": [],
   "source": []
  }
 ],
 "metadata": {
  "kernelspec": {
   "display_name": "Python 3 (ipykernel)",
   "language": "python",
   "name": "python3"
  },
  "language_info": {
   "codemirror_mode": {
    "name": "ipython",
    "version": 3
   },
   "file_extension": ".py",
   "mimetype": "text/x-python",
   "name": "python",
   "nbconvert_exporter": "python",
   "pygments_lexer": "ipython3",
   "version": "3.9.7"
  }
 },
 "nbformat": 4,
 "nbformat_minor": 5
}
