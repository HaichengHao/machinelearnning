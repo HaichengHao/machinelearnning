{
 "cells": [
  {
   "cell_type": "code",
   "execution_count": 2,
   "id": "11ddd086-6159-42c3-9071-9e8dd9a5c3ad",
   "metadata": {},
   "outputs": [
    {
     "name": "stdout",
     "output_type": "stream",
     "text": [
      "hello world\n"
     ]
    }
   ],
   "source": [
    "print('hello world')"
   ]
  },
  {
   "cell_type": "code",
   "execution_count": null,
   "id": "d77f3086-bb42-41a4-a90b-51fbc8516fee",
   "metadata": {},
   "outputs": [],
   "source": []
  },
  {
   "cell_type": "markdown",
   "id": "031e19c1-b997-4906-9777-8339a27e773c",
   "metadata": {},
   "source": [
    "\n",
    "<style>\n",
    "    tr{\n",
    "        background-color:blue;\n",
    "    }\n",
    "    th{\n",
    "        background-color:black;\n",
    "        color:red;\n",
    "    }\n",
    "</style>\n",
    "<table>\n",
    "    <tr style=\"background-color:red;\">\n",
    "        <th style=\"color:white;text-decoration:line-through;\">标题1</th>\n",
    "        <th>标题2</th>\n",
    "    </tr>\n",
    "</table>\n",
    "<iframe src=\"https://www.baidu.com/\">\n",
    "  \n",
    "</iframe>\n"
   ]
  },
  {
   "cell_type": "code",
   "execution_count": null,
   "id": "ca4d417b-933e-460b-b0d4-0b25dede1a79",
   "metadata": {},
   "outputs": [],
   "source": []
  }
 ],
 "metadata": {
  "kernelspec": {
   "display_name": "Python 3 (ipykernel)",
   "language": "python",
   "name": "python3"
  },
  "language_info": {
   "codemirror_mode": {
    "name": "ipython",
    "version": 3
   },
   "file_extension": ".py",
   "mimetype": "text/x-python",
   "name": "python",
   "nbconvert_exporter": "python",
   "pygments_lexer": "ipython3",
   "version": "3.8.10"
  }
 },
 "nbformat": 4,
 "nbformat_minor": 5
}
