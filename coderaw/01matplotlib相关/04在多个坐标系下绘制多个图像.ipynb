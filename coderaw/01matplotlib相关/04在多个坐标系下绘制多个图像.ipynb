{
 "cells": [
  {
   "cell_type": "code",
   "execution_count": 5,
   "id": "887836f6-c6a5-42fb-aa65-28c9a407ea76",
   "metadata": {},
   "outputs": [
    {
     "data": {
      "text/html": [
       "<style type=\"text/css\">\n",
       "    h1{\n",
       "        color:red;\n",
       "        font-style:italic;\n",
       "    }\n",
       "    .code{\n",
       "        background-color:gray;\n",
       "        color:blue;\n",
       "        white-sapce: pre;\n",
       "    }\n",
       "</style>\n"
      ],
      "text/plain": [
       "<IPython.core.display.HTML object>"
      ]
     },
     "metadata": {},
     "output_type": "display_data"
    }
   ],
   "source": [
    "%%HTML\n",
    "<style type=\"text/css\">\n",
    "    h1{\n",
    "        color:red;\n",
    "        font-style:italic;\n",
    "    }\n",
    "    .code{\n",
    "        background-color:gray;\n",
    "        color:blue;\n",
    "        white-sapce: pre;\n",
    "    }\n",
    "</style>"
   ]
  },
  {
   "cell_type": "markdown",
   "id": "8ef81210-833c-483c-8a84-977f433d0440",
   "metadata": {},
   "source": [
    "<h1>多个坐标显示-plt.subplots(面向对象的画图方法)</h1>\n",
    "<p>如果我们想要将上海和北京的天气图像显示在同一个图的不同坐标系中<br>\n",
    "可以通过subplots函数实现(旧的版本中有subplot,使用起来不方便，推荐使用subplots函数)</p>\n",
    "<ul>\n",
    "    <li>matplotlib.pyplot.subplots(nrows=1,ncols=1,**fig_kw)创建一个带有多个axes(坐标系绘图区)的图\n",
    "    <pre>\n",
    "        Parameters:\n",
    "        nrows,ncols:设置有几行几列坐标系\n",
    "        int,optional,default: 1; Number of rows/columns of the subplot grid,\n",
    "        \n",
    "        Returns:\n",
    "        fig:图对象\n",
    "        axes:返回相应数量的坐标系\n",
    "\n",
    "        设置标题等方法不同:\n",
    "            set_xticks\n",
    "            set_yticks\n",
    "            set_xlabel\n",
    "            set_ylabel\n",
    "</pre>\n",
    "    <p>关于axes子坐标轴的更多方法，参考<a href=\"https://matplotlib.org/api/axes_api.html#matplotlib.axes.Axes\">官方网站</a></p>\n",
    "    </li>\n",
    "</ul>"
   ]
  },
  {
   "cell_type": "markdown",
   "id": "366644c7-c8bb-4385-8421-14e5a4fdfa7f",
   "metadata": {},
   "source": [
    "<li>注意:plt.函数名()相当于面向过程的画图方法,axes.set_方法是面向对象的画图方法</li>"
   ]
  },
  {
   "cell_type": "code",
   "execution_count": null,
   "id": "c3584d71-d02c-4a93-a7fe-7bc9a8533fd5",
   "metadata": {},
   "outputs": [],
   "source": [
    "#导包\n",
    "from matplotlib import pyplot as plt\n",
    "from pylab import mpl\n",
    "# 设置显示中文字体\n",
    "mpl.rcParams[\"font.sans-serif\"] = [\"SimHei\"]\n",
    "# 解决部分字符无法正常显示的问题\n",
    "mpl.rcParams[\"axes.unicode_minus\"]=False\n",
    "\n",
    "# 0 数据准备\n",
    "x=range(60)\n",
    "y_shanghai=[random.uniform(15,18) for i in x]\n",
    "y_beijing=[random.uniform(1,5) for i in x]\n",
    "\n",
    "# 1 创建画布\n",
    "# plt.figure(figsize=(20,8),dpi=100)\n",
    "fig,axes = plt.subplots(nrows=1,ncols=2,fgsize=(20,8),dpi=100)\n",
    "\n",
    "# 2 绘制图像\n",
    "# plt.plot(x,y_shanghai,label=\"上海\",fontsize=20)\n",
    "# plt.plot(x,y_beijing,label=\"北京\",fontsize=20)\n",
    "axes[0].plot(x,y_shanghai,label=\"上海\")\n",
    "axes[1].plot(x,y_beijing,color='r',linestyle='.-',label=\"北京\")\n",
    "\n"
   ]
  }
 ],
 "metadata": {
  "kernelspec": {
   "display_name": "Python 3 (ipykernel)",
   "language": "python",
   "name": "python3"
  },
  "language_info": {
   "codemirror_mode": {
    "name": "ipython",
    "version": 3
   },
   "file_extension": ".py",
   "mimetype": "text/x-python",
   "name": "python",
   "nbconvert_exporter": "python",
   "pygments_lexer": "ipython3",
   "version": "3.9.7"
  }
 },
 "nbformat": 4,
 "nbformat_minor": 5
}
