{
 "cells": [
  {
   "cell_type": "code",
   "execution_count": 2,
   "id": "887836f6-c6a5-42fb-aa65-28c9a407ea76",
   "metadata": {},
   "outputs": [
    {
     "data": {
      "text/html": [
       "<style type=\"text/css\">\n",
       "    h1{\n",
       "        color:red;\n",
       "        font-style:italic;\n",
       "    }\n",
       "</style>\n"
      ],
      "text/plain": [
       "<IPython.core.display.HTML object>"
      ]
     },
     "metadata": {},
     "output_type": "display_data"
    }
   ],
   "source": [
    "%%HTML\n",
    "<style type=\"text/css\">\n",
    "    h1{\n",
    "        color:red;\n",
    "        font-style:italic;\n",
    "    }\n",
    "</style>"
   ]
  },
  {
   "cell_type": "markdown",
   "id": "8ef81210-833c-483c-8a84-977f433d0440",
   "metadata": {},
   "source": [
    "<h1>多个坐标显示-plt.subplots(面向对象的画图方法)</h1>\n",
    "<p>如果我们想要将上海和北京的天气图像显示在同一个图的不同坐标系中<br>\n",
    "可以通过subplots函数实现(旧的版本中有subplot,使用起来不方便，推荐使用subplots函数)</p>"
   ]
  }
 ],
 "metadata": {
  "kernelspec": {
   "display_name": "Python 3 (ipykernel)",
   "language": "python",
   "name": "python3"
  },
  "language_info": {
   "codemirror_mode": {
    "name": "ipython",
    "version": 3
   },
   "file_extension": ".py",
   "mimetype": "text/x-python",
   "name": "python",
   "nbconvert_exporter": "python",
   "pygments_lexer": "ipython3",
   "version": "3.9.7"
  }
 },
 "nbformat": 4,
 "nbformat_minor": 5
}
